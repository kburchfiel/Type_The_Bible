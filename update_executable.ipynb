{
 "cells": [
  {
   "cell_type": "markdown",
   "metadata": {},
   "source": [
    "# Update Executable:\n",
    "\n",
    "A script that speeds up the process of updating executable versions of Type Through The Bible"
   ]
  },
  {
   "cell_type": "code",
   "execution_count": 1,
   "metadata": {},
   "outputs": [],
   "source": [
    "import shutil\n",
    "import os\n",
    "import PyInstaller.__main__ # see https://pyinstaller.org/en/stable/usage.html"
   ]
  },
  {
   "cell_type": "markdown",
   "metadata": {},
   "source": [
    "Verifying that we're in the Type_Through_The_Bible directory:"
   ]
  },
  {
   "cell_type": "code",
   "execution_count": 2,
   "metadata": {},
   "outputs": [
    {
     "data": {
      "text/plain": [
       "'c:\\\\Users\\\\kburc\\\\D1V1\\\\Documents\\\\!Dell64docs\\\\Programming\\\\py\\\\kjb3_programs\\\\Type_The_Bible'"
      ]
     },
     "execution_count": 2,
     "metadata": {},
     "output_type": "execute_result"
    }
   ],
   "source": [
    "os.getcwd()"
   ]
  },
  {
   "cell_type": "code",
   "execution_count": 3,
   "metadata": {},
   "outputs": [],
   "source": [
    "# Moving up a directory:\n",
    "os.chdir(\"..\")"
   ]
  },
  {
   "cell_type": "code",
   "execution_count": 4,
   "metadata": {},
   "outputs": [
    {
     "data": {
      "text/plain": [
       "'c:\\\\Users\\\\kburc\\\\D1V1\\\\Documents\\\\!Dell64docs\\\\Programming\\\\py\\\\kjb3_programs'"
      ]
     },
     "execution_count": 4,
     "metadata": {},
     "output_type": "execute_result"
    }
   ],
   "source": [
    "os.getcwd()"
   ]
  },
  {
   "cell_type": "markdown",
   "metadata": {},
   "source": [
    "The following cell instructs Pyinstaller to create a copy of Type_Through_The_Bible_vx within a separate directory folder. This way, the Pyinstaller output won't get added to the source code folder (which could interfere with GitHub syncs due to the size of the Pyinstaller output)."
   ]
  },
  {
   "cell_type": "code",
   "execution_count": 5,
   "metadata": {},
   "outputs": [
    {
     "name": "stderr",
     "output_type": "stream",
     "text": [
      "2679 INFO: PyInstaller: 6.3.0\n",
      "2679 INFO: Python: 3.12.0 (conda)\n",
      "2680 INFO: Platform: Windows-10-10.0.19045-SP0\n",
      "2681 INFO: wrote c:\\Users\\kburc\\D1V1\\Documents\\!Dell64docs\\Programming\\py\\kjb3_programs\\Type_The_Bible\\Type_The_Bible_v13.spec\n",
      "2697 INFO: Extending PYTHONPATH with paths\n",
      "['C:\\\\Users\\\\kburc\\\\D1V1\\\\Documents\\\\!Dell64docs\\\\Programming\\\\py\\\\kjb3_programs\\\\Type_The_Bible']\n",
      "3137 INFO: checking Analysis\n",
      "3138 INFO: Building Analysis because Analysis-00.toc is non existent\n",
      "3138 INFO: Initializing module dependency graph...\n",
      "3141 INFO: Caching module graph hooks...\n",
      "3156 INFO: Analyzing base_library.zip ...\n",
      "6440 INFO: Loading module hook 'hook-encodings.py' from 'c:\\\\Users\\\\kburc\\\\miniforge3\\\\envs\\\\typing_env\\\\Lib\\\\site-packages\\\\PyInstaller\\\\hooks'...\n",
      "8719 INFO: Loading module hook 'hook-pickle.py' from 'c:\\\\Users\\\\kburc\\\\miniforge3\\\\envs\\\\typing_env\\\\Lib\\\\site-packages\\\\PyInstaller\\\\hooks'...\n",
      "9673 INFO: Loading module hook 'hook-heapq.py' from 'c:\\\\Users\\\\kburc\\\\miniforge3\\\\envs\\\\typing_env\\\\Lib\\\\site-packages\\\\PyInstaller\\\\hooks'...\n",
      "10052 INFO: Caching module dependency graph...\n",
      "10291 INFO: Running Analysis Analysis-00.toc\n",
      "10292 INFO: Looking for Python shared library...\n",
      "10299 INFO: Using Python shared library: c:\\Users\\kburc\\miniforge3\\envs\\typing_env\\python312.dll\n",
      "10300 INFO: Analyzing C:\\Users\\kburc\\D1V1\\Documents\\!Dell64docs\\Programming\\py\\kjb3_programs\\Type_The_Bible\\Type_The_Bible_v13.py\n",
      "10349 INFO: Loading module hook 'hook-pandas.py' from 'c:\\\\Users\\\\kburc\\\\miniforge3\\\\envs\\\\typing_env\\\\Lib\\\\site-packages\\\\PyInstaller\\\\hooks'...\n",
      "12579 INFO: Loading module hook 'hook-platform.py' from 'c:\\\\Users\\\\kburc\\\\miniforge3\\\\envs\\\\typing_env\\\\Lib\\\\site-packages\\\\PyInstaller\\\\hooks'...\n",
      "12607 INFO: Loading module hook 'hook-sysconfig.py' from 'c:\\\\Users\\\\kburc\\\\miniforge3\\\\envs\\\\typing_env\\\\Lib\\\\site-packages\\\\PyInstaller\\\\hooks'...\n",
      "12626 INFO: Loading module hook 'hook-numpy.py' from 'C:\\\\Users\\\\kburc\\\\miniforge3\\\\envs\\\\typing_env\\\\Lib\\\\site-packages\\\\numpy\\\\_pyinstaller'...\n",
      "13303 INFO: Loading module hook 'hook-difflib.py' from 'c:\\\\Users\\\\kburc\\\\miniforge3\\\\envs\\\\typing_env\\\\Lib\\\\site-packages\\\\PyInstaller\\\\hooks'...\n",
      "13481 INFO: Loading module hook 'hook-multiprocessing.util.py' from 'c:\\\\Users\\\\kburc\\\\miniforge3\\\\envs\\\\typing_env\\\\Lib\\\\site-packages\\\\PyInstaller\\\\hooks'...\n",
      "13690 INFO: Loading module hook 'hook-xml.py' from 'c:\\\\Users\\\\kburc\\\\miniforge3\\\\envs\\\\typing_env\\\\Lib\\\\site-packages\\\\PyInstaller\\\\hooks'...\n",
      "14822 INFO: Loading module hook 'hook-psutil.py' from 'c:\\\\Users\\\\kburc\\\\miniforge3\\\\envs\\\\typing_env\\\\Lib\\\\site-packages\\\\_pyinstaller_hooks_contrib\\\\hooks\\\\stdhooks'...\n",
      "16043 INFO: Loading module hook 'hook-pytz.py' from 'c:\\\\Users\\\\kburc\\\\miniforge3\\\\envs\\\\typing_env\\\\Lib\\\\site-packages\\\\PyInstaller\\\\hooks'...\n",
      "16503 INFO: Loading module hook 'hook-pkg_resources.py' from 'c:\\\\Users\\\\kburc\\\\miniforge3\\\\envs\\\\typing_env\\\\Lib\\\\site-packages\\\\PyInstaller\\\\hooks'...\n",
      "19931 INFO: Loading module hook 'hook-pandas.io.formats.style.py' from 'c:\\\\Users\\\\kburc\\\\miniforge3\\\\envs\\\\typing_env\\\\Lib\\\\site-packages\\\\PyInstaller\\\\hooks'...\n",
      "21495 INFO: Loading module hook 'hook-scipy.py' from 'c:\\\\Users\\\\kburc\\\\miniforge3\\\\envs\\\\typing_env\\\\Lib\\\\site-packages\\\\PyInstaller\\\\hooks'...\n",
      "21829 INFO: Loading module hook 'hook-scipy.linalg.py' from 'c:\\\\Users\\\\kburc\\\\miniforge3\\\\envs\\\\typing_env\\\\Lib\\\\site-packages\\\\PyInstaller\\\\hooks'...\n",
      "22155 INFO: Loading module hook 'hook-scipy.sparse.csgraph.py' from 'c:\\\\Users\\\\kburc\\\\miniforge3\\\\envs\\\\typing_env\\\\Lib\\\\site-packages\\\\PyInstaller\\\\hooks'...\n",
      "23909 INFO: Loading module hook 'hook-scipy.spatial.transform.rotation.py' from 'c:\\\\Users\\\\kburc\\\\miniforge3\\\\envs\\\\typing_env\\\\Lib\\\\site-packages\\\\PyInstaller\\\\hooks'...\n",
      "26120 INFO: Loading module hook 'hook-IPython.py' from 'c:\\\\Users\\\\kburc\\\\miniforge3\\\\envs\\\\typing_env\\\\Lib\\\\site-packages\\\\_pyinstaller_hooks_contrib\\\\hooks\\\\stdhooks'...\n",
      "28785 INFO: Loading module hook 'hook-xml.dom.domreg.py' from 'c:\\\\Users\\\\kburc\\\\miniforge3\\\\envs\\\\typing_env\\\\Lib\\\\site-packages\\\\PyInstaller\\\\hooks'...\n",
      "29006 INFO: Loading module hook 'hook-pygments.py' from 'c:\\\\Users\\\\kburc\\\\miniforge3\\\\envs\\\\typing_env\\\\Lib\\\\site-packages\\\\PyInstaller\\\\hooks'...\n",
      "32325 INFO: Loading module hook 'hook-importlib_metadata.py' from 'c:\\\\Users\\\\kburc\\\\miniforge3\\\\envs\\\\typing_env\\\\Lib\\\\site-packages\\\\PyInstaller\\\\hooks'...\n",
      "32684 INFO: Processing pre-safe import module hook six.moves from 'c:\\\\Users\\\\kburc\\\\miniforge3\\\\envs\\\\typing_env\\\\Lib\\\\site-packages\\\\PyInstaller\\\\hooks\\\\pre_safe_import_module\\\\hook-six.moves.py'.\n",
      "33173 INFO: Loading module hook 'hook-wcwidth.py' from 'c:\\\\Users\\\\kburc\\\\miniforge3\\\\envs\\\\typing_env\\\\Lib\\\\site-packages\\\\PyInstaller\\\\hooks'...\n",
      "34214 INFO: Loading module hook 'hook-jedi.py' from 'c:\\\\Users\\\\kburc\\\\miniforge3\\\\envs\\\\typing_env\\\\Lib\\\\site-packages\\\\_pyinstaller_hooks_contrib\\\\hooks\\\\stdhooks'...\n",
      "36746 INFO: Loading module hook 'hook-parso.py' from 'c:\\\\Users\\\\kburc\\\\miniforge3\\\\envs\\\\typing_env\\\\Lib\\\\site-packages\\\\_pyinstaller_hooks_contrib\\\\hooks\\\\stdhooks'...\n",
      "37808 INFO: Loading module hook 'hook-sqlite3.py' from 'c:\\\\Users\\\\kburc\\\\miniforge3\\\\envs\\\\typing_env\\\\Lib\\\\site-packages\\\\PyInstaller\\\\hooks'...\n",
      "38901 INFO: Loading module hook 'hook-nbformat.py' from 'c:\\\\Users\\\\kburc\\\\miniforge3\\\\envs\\\\typing_env\\\\Lib\\\\site-packages\\\\_pyinstaller_hooks_contrib\\\\hooks\\\\stdhooks'...\n",
      "39100 INFO: Loading module hook 'hook-jsonschema.py' from 'c:\\\\Users\\\\kburc\\\\miniforge3\\\\envs\\\\typing_env\\\\Lib\\\\site-packages\\\\_pyinstaller_hooks_contrib\\\\hooks\\\\stdhooks'...\n",
      "39538 INFO: Loading module hook 'hook-jsonschema_specifications.py' from 'c:\\\\Users\\\\kburc\\\\miniforge3\\\\envs\\\\typing_env\\\\Lib\\\\site-packages\\\\_pyinstaller_hooks_contrib\\\\hooks\\\\stdhooks'...\n",
      "39591 INFO: Loading module hook 'hook-importlib_resources.py' from 'c:\\\\Users\\\\kburc\\\\miniforge3\\\\envs\\\\typing_env\\\\Lib\\\\site-packages\\\\PyInstaller\\\\hooks'...\n",
      "40015 INFO: Loading module hook 'hook-zmq.py' from 'c:\\\\Users\\\\kburc\\\\miniforge3\\\\envs\\\\typing_env\\\\Lib\\\\site-packages\\\\_pyinstaller_hooks_contrib\\\\hooks\\\\stdhooks'...\n",
      "41795 INFO: Loading module hook 'hook-platformdirs.py' from 'c:\\\\Users\\\\kburc\\\\miniforge3\\\\envs\\\\typing_env\\\\Lib\\\\site-packages\\\\_pyinstaller_hooks_contrib\\\\hooks\\\\stdhooks'...\n",
      "42216 INFO: Loading module hook 'hook-packaging.py' from 'c:\\\\Users\\\\kburc\\\\miniforge3\\\\envs\\\\typing_env\\\\Lib\\\\site-packages\\\\PyInstaller\\\\hooks'...\n",
      "42360 INFO: Processing pre-safe import module hook gi from 'c:\\\\Users\\\\kburc\\\\miniforge3\\\\envs\\\\typing_env\\\\Lib\\\\site-packages\\\\PyInstaller\\\\hooks\\\\pre_safe_import_module\\\\hook-gi.py'.\n",
      "43273 INFO: Loading module hook 'hook-pandas.plotting.py' from 'c:\\\\Users\\\\kburc\\\\miniforge3\\\\envs\\\\typing_env\\\\Lib\\\\site-packages\\\\PyInstaller\\\\hooks'...\n",
      "44721 INFO: Loading module hook 'hook-xml.etree.cElementTree.py' from 'c:\\\\Users\\\\kburc\\\\miniforge3\\\\envs\\\\typing_env\\\\Lib\\\\site-packages\\\\PyInstaller\\\\hooks'...\n",
      "44999 INFO: Loading module hook 'hook-plotly.py' from 'c:\\\\Users\\\\kburc\\\\miniforge3\\\\envs\\\\typing_env\\\\Lib\\\\site-packages\\\\_pyinstaller_hooks_contrib\\\\hooks\\\\stdhooks'...\n",
      "60557 INFO: Loading module hook 'hook-kaleido.py' from 'c:\\\\Users\\\\kburc\\\\miniforge3\\\\envs\\\\typing_env\\\\Lib\\\\site-packages\\\\_pyinstaller_hooks_contrib\\\\hooks\\\\stdhooks'...\n",
      "60872 INFO: Loading module hook 'hook-patsy.py' from 'c:\\\\Users\\\\kburc\\\\miniforge3\\\\envs\\\\typing_env\\\\Lib\\\\site-packages\\\\_pyinstaller_hooks_contrib\\\\hooks\\\\stdhooks'...\n",
      "62017 INFO: Loading module hook 'hook-statsmodels.tsa.statespace.py' from 'c:\\\\Users\\\\kburc\\\\miniforge3\\\\envs\\\\typing_env\\\\Lib\\\\site-packages\\\\_pyinstaller_hooks_contrib\\\\hooks\\\\stdhooks'...\n",
      "71983 INFO: Loading module hook 'hook-jinxed.py' from 'c:\\\\Users\\\\kburc\\\\miniforge3\\\\envs\\\\typing_env\\\\Lib\\\\site-packages\\\\_pyinstaller_hooks_contrib\\\\hooks\\\\stdhooks'...\n",
      "72197 INFO: Processing module hooks...\n",
      "92356 WARNING: Hidden import \"importlib_resources.trees\" not found!\n",
      "94642 INFO: Loading module hook 'hook-scipy.special._ellip_harm_2.py' from 'c:\\\\Users\\\\kburc\\\\miniforge3\\\\envs\\\\typing_env\\\\Lib\\\\site-packages\\\\PyInstaller\\\\hooks'...\n",
      "94643 INFO: Loading module hook 'hook-scipy.special._ufuncs.py' from 'c:\\\\Users\\\\kburc\\\\miniforge3\\\\envs\\\\typing_env\\\\Lib\\\\site-packages\\\\PyInstaller\\\\hooks'...\n",
      "94645 INFO: Loading module hook 'hook-scipy.stats._stats.py' from 'c:\\\\Users\\\\kburc\\\\miniforge3\\\\envs\\\\typing_env\\\\Lib\\\\site-packages\\\\PyInstaller\\\\hooks'...\n",
      "94654 INFO: Loading module hook 'hook-_tkinter.py' from 'c:\\\\Users\\\\kburc\\\\miniforge3\\\\envs\\\\typing_env\\\\Lib\\\\site-packages\\\\PyInstaller\\\\hooks'...\n",
      "94656 INFO: checking Tree\n",
      "94754 INFO: checking Tree\n",
      "94833 INFO: checking Tree\n",
      "94953 INFO: Performing binary vs. data reclassification (3531 entries)\n",
      "96091 INFO: Looking for ctypes DLLs\n",
      "96264 INFO: Analyzing run-time hooks ...\n",
      "96310 INFO: Including run-time hook 'c:\\\\Users\\\\kburc\\\\miniforge3\\\\envs\\\\typing_env\\\\Lib\\\\site-packages\\\\PyInstaller\\\\hooks\\\\rthooks\\\\pyi_rth_inspect.py'\n",
      "96314 INFO: Including run-time hook 'c:\\\\Users\\\\kburc\\\\miniforge3\\\\envs\\\\typing_env\\\\Lib\\\\site-packages\\\\PyInstaller\\\\hooks\\\\rthooks\\\\pyi_rth_pkgutil.py'\n",
      "96318 INFO: Processing pre-find module path hook _pyi_rth_utils from 'c:\\\\Users\\\\kburc\\\\miniforge3\\\\envs\\\\typing_env\\\\Lib\\\\site-packages\\\\PyInstaller\\\\hooks\\\\pre_find_module_path\\\\hook-_pyi_rth_utils.py'.\n",
      "96321 INFO: Loading module hook 'hook-_pyi_rth_utils.py' from 'c:\\\\Users\\\\kburc\\\\miniforge3\\\\envs\\\\typing_env\\\\Lib\\\\site-packages\\\\PyInstaller\\\\hooks'...\n",
      "96321 INFO: Including run-time hook 'c:\\\\Users\\\\kburc\\\\miniforge3\\\\envs\\\\typing_env\\\\Lib\\\\site-packages\\\\PyInstaller\\\\hooks\\\\rthooks\\\\pyi_rth_multiprocessing.py'\n",
      "96326 INFO: Including run-time hook 'c:\\\\Users\\\\kburc\\\\miniforge3\\\\envs\\\\typing_env\\\\Lib\\\\site-packages\\\\_pyinstaller_hooks_contrib\\\\hooks\\\\rthooks\\\\pyi_rth_traitlets.py'\n",
      "96328 INFO: Including run-time hook 'c:\\\\Users\\\\kburc\\\\miniforge3\\\\envs\\\\typing_env\\\\Lib\\\\site-packages\\\\PyInstaller\\\\hooks\\\\rthooks\\\\pyi_rth_pkgres.py'\n",
      "96332 INFO: Including run-time hook 'c:\\\\Users\\\\kburc\\\\miniforge3\\\\envs\\\\typing_env\\\\Lib\\\\site-packages\\\\PyInstaller\\\\hooks\\\\rthooks\\\\pyi_rth__tkinter.py'\n",
      "96578 INFO: Looking for dynamic libraries\n",
      "100841 INFO: Extra DLL search directories (AddDllDirectory): []\n",
      "100841 INFO: Extra DLL search directories (PATH): []\n",
      "104675 WARNING: Library not found: could not resolve 'msmpi.dll', dependency of 'c:\\\\Users\\\\kburc\\\\miniforge3\\\\envs\\\\typing_env\\\\Library\\\\bin\\\\mkl_blacs_msmpi_ilp64.2.dll'.\n",
      "104677 WARNING: Library not found: could not resolve 'pgf90.dll', dependency of 'c:\\\\Users\\\\kburc\\\\miniforge3\\\\envs\\\\typing_env\\\\Library\\\\bin\\\\mkl_pgi_thread.2.dll'.\n",
      "104678 WARNING: Library not found: could not resolve 'pgc.dll', dependency of 'c:\\\\Users\\\\kburc\\\\miniforge3\\\\envs\\\\typing_env\\\\Library\\\\bin\\\\mkl_pgi_thread.2.dll'.\n",
      "104679 WARNING: Library not found: could not resolve 'pgmath.dll', dependency of 'c:\\\\Users\\\\kburc\\\\miniforge3\\\\envs\\\\typing_env\\\\Library\\\\bin\\\\mkl_pgi_thread.2.dll'.\n",
      "104680 WARNING: Library not found: could not resolve 'sycl6.dll', dependency of 'c:\\\\Users\\\\kburc\\\\miniforge3\\\\envs\\\\typing_env\\\\Library\\\\bin\\\\omptarget.sycl.wrap.dll'.\n",
      "104680 WARNING: Library not found: could not resolve 'impi.dll', dependency of 'c:\\\\Users\\\\kburc\\\\miniforge3\\\\envs\\\\typing_env\\\\Library\\\\bin\\\\mkl_blacs_intelmpi_ilp64.2.dll'.\n",
      "104681 WARNING: Library not found: could not resolve 'impi.dll', dependency of 'c:\\\\Users\\\\kburc\\\\miniforge3\\\\envs\\\\typing_env\\\\Library\\\\bin\\\\mkl_blacs_intelmpi_lp64.2.dll'.\n",
      "104682 WARNING: Library not found: could not resolve 'msmpi.dll', dependency of 'c:\\\\Users\\\\kburc\\\\miniforge3\\\\envs\\\\typing_env\\\\Library\\\\bin\\\\mkl_blacs_msmpi_lp64.2.dll'.\n",
      "105074 INFO: Warnings written to C:\\Users\\kburc\\D1V1\\Documents\\!Dell64docs\\Programming\\py\\kjb3_programs\\Type_The_Bible_Windows\\build\\Type_The_Bible_v13\\warn-Type_The_Bible_v13.txt\n",
      "106036 INFO: Graph cross-reference written to C:\\Users\\kburc\\D1V1\\Documents\\!Dell64docs\\Programming\\py\\kjb3_programs\\Type_The_Bible_Windows\\build\\Type_The_Bible_v13\\xref-Type_The_Bible_v13.html\n",
      "106518 INFO: checking PYZ\n",
      "107983 INFO: checking PKG\n",
      "107992 INFO: Bootloader c:\\Users\\kburc\\miniforge3\\envs\\typing_env\\Lib\\site-packages\\PyInstaller\\bootloader\\Windows-64bit-intel\\run.exe\n",
      "107992 INFO: checking EXE\n",
      "108001 INFO: Rebuilding EXE-00.toc because mtimes don't match\n",
      "108002 INFO: Building EXE from EXE-00.toc\n",
      "108006 INFO: Copying bootloader EXE to C:\\Users\\kburc\\D1V1\\Documents\\!Dell64docs\\Programming\\py\\kjb3_programs\\Type_The_Bible_Windows\\build\\Type_The_Bible_v13\\Type_The_Bible_v13.exe\n",
      "108068 INFO: Copying icon to EXE\n",
      "108124 INFO: Copying 0 resources to EXE\n",
      "108125 INFO: Embedding manifest in EXE\n",
      "108186 INFO: Appending PKG archive to EXE\n",
      "108209 INFO: Fixing EXE headers\n",
      "109382 INFO: Building EXE from EXE-00.toc completed successfully.\n",
      "109580 INFO: checking COLLECT\n",
      "109644 INFO: Removing dir C:\\Users\\kburc\\D1V1\\Documents\\!Dell64docs\\Programming\\py\\kjb3_programs\\Type_The_Bible_Windows\\dist\\Type_The_Bible_v13\n",
      "110901 INFO: Building COLLECT COLLECT-00.toc\n",
      "118918 INFO: Building COLLECT COLLECT-00.toc completed successfully.\n"
     ]
    }
   ],
   "source": [
    "PyInstaller.__main__.run([\n",
    "    'C:\\\\Users\\\\kburc\\\\D1V1\\\\Documents\\\\!Dell64docs\\\\Programming\\\\py\\\\kjb3_programs\\\\Type_The_Bible\\\\Type_The_Bible_v13.py',\n",
    "    \"--distpath=C:\\\\Users\\\\kburc\\\\D1V1\\\\Documents\\\\!Dell64docs\\\\Programming\\\\py\\\\kjb3_programs\\\\Type_The_Bible_Windows\\\\dist\",\n",
    "    \"--workpath=C:\\\\Users\\\\kburc\\\\D1V1\\\\Documents\\\\!Dell64docs\\\\Programming\\\\py\\\\kjb3_programs\\\\Type_The_Bible_Windows\\\\build\",\n",
    "    '--noconfirm'])\n",
    "# distpath and workpath set the locations of the dist and build directories,\n",
    "# respectively. \n",
    "# --noconfirm allows the original folder to get overwritten.\n",
    "# See https://pyinstaller.org/en/stable/usage.html for more details."
   ]
  },
  {
   "cell_type": "markdown",
   "metadata": {},
   "source": [
    "Moving a copy of WEB_Catholic_Version_for_game.csv over to the Pyinstaller version of Type Through The Bible, then renaming it so that it will be compatible with the game's code:"
   ]
  },
  {
   "cell_type": "code",
   "execution_count": 6,
   "metadata": {},
   "outputs": [
    {
     "data": {
      "text/plain": [
       "'C:/Users/kburc/D1V1/Documents/!Dell64docs/Programming/py/kjb3_programs/Type_The_Bible_Windows/dist/Type_The_Bible_v13/WEB_Catholic_Version_for_game_updated.csv'"
      ]
     },
     "execution_count": 6,
     "metadata": {},
     "output_type": "execute_result"
    }
   ],
   "source": [
    "shutil.copy('C:/Users/kburc/D1V1/Documents/!Dell64docs/Programming/py/kjb3_programs/Type_The_Bible/WEB_Catholic_Version_for_game.csv', 'C:/Users/kburc/D1V1/Documents/!Dell64docs/Programming/py/kjb3_programs/Type_The_Bible_Windows/dist/Type_The_Bible_v13/WEB_Catholic_Version_for_game_updated.csv') "
   ]
  }
 ],
 "metadata": {
  "kernelspec": {
   "display_name": "typing_env",
   "language": "python",
   "name": "python3"
  },
  "language_info": {
   "codemirror_mode": {
    "name": "ipython",
    "version": 3
   },
   "file_extension": ".py",
   "mimetype": "text/x-python",
   "name": "python",
   "nbconvert_exporter": "python",
   "pygments_lexer": "ipython3",
   "version": "3.12.0"
  }
 },
 "nbformat": 4,
 "nbformat_minor": 2
}
