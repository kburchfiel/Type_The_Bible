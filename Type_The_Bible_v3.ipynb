{
 "cells": [
  {
   "cell_type": "markdown",
   "metadata": {},
   "source": [
    "# Type Through The Bible\n",
    "\n",
    "By Kenneth Burchfiel\n",
    "\n",
    "Code is released under the MIT license; Bible verses are from the Web English Bible (Catholic Edition)* and are in the public domain.\n",
    "\n",
    "\\* Genesis was not found within the original WEB Catholic Edition folder, so I copied in files from another Web English Bible translation instead. I imagine, but am not certain, that these files are the same as the actual Catholic Edition Genesis files."
   ]
  },
  {
   "cell_type": "markdown",
   "metadata": {},
   "source": [
    "## More documentation to come!"
   ]
  },
  {
   "cell_type": "markdown",
   "metadata": {},
   "source": [
    "Next steps: (Not necessarily in order of importance)\n",
    "\n",
    "* See if there's a way to alert the user (perhaps via a sound?) when a character is typed incorrectly.\n",
    "* Improve chart formatting (e.g. add titles, legend names, etc.)\n",
    "* Add in more documentation"
   ]
  },
  {
   "cell_type": "code",
   "execution_count": 1,
   "metadata": {},
   "outputs": [],
   "source": [
    "import pandas as pd\n",
    "pd.set_option('display.max_columns', 1000)\n",
    "import time\n",
    "import plotly.express as px\n",
    "from getch import getch # Installed this library using pip install py-getch, not\n",
    "# pip install getch. See https://github.com/joeyespo/py-getch\n",
    "import numpy as np\n",
    "from datetime import datetime, date, timezone # Based on \n",
    "# https://docs.python.org/3/library/datetime.html"
   ]
  },
  {
   "cell_type": "code",
   "execution_count": 3,
   "metadata": {},
   "outputs": [],
   "source": [
    "import textwrap"
   ]
  },
  {
   "cell_type": "code",
   "execution_count": null,
   "metadata": {},
   "outputs": [],
   "source": []
  },
  {
   "cell_type": "code",
   "execution_count": 8,
   "metadata": {},
   "outputs": [
    {
     "name": "stdout",
     "output_type": "stream",
     "text": [
      "This\n",
      "is a\n",
      "test.\n",
      "This\n",
      "is a\n",
      "test.\n",
      "This\n",
      "is a\n",
      "test.\n"
     ]
    }
   ],
   "source": [
    "print(textwrap.fill(\"This is a test. This is a test. This is a test.\", width = 5))"
   ]
  },
  {
   "cell_type": "code",
   "execution_count": 92,
   "metadata": {},
   "outputs": [],
   "source": [
    "from colorama import just_fix_windows_console, Fore, Back, Style\n",
    "# From https://github.com/tartley/colorama/blob/master/demos/demo01.py\n",
    "just_fix_windows_console() # From https://github.com/tartley/colorama/blob/master/demos/demo01.py\n"
   ]
  },
  {
   "cell_type": "code",
   "execution_count": 2,
   "metadata": {},
   "outputs": [],
   "source": [
    "extra_analyses = False"
   ]
  },
  {
   "cell_type": "markdown",
   "metadata": {},
   "source": [
    "Checking whether the program is currently running on a Jupyter notebook:\n",
    "\n",
    "(The program normally uses getch() to begin typing tests; however, I wasn't able to enter input after getch() got called within a Jupyter notebook and thus couldn't begin a typing test in that situation. Therefore, the program will use input() instead of getch() to start tests when running within a notebook.)"
   ]
  },
  {
   "cell_type": "code",
   "execution_count": 3,
   "metadata": {},
   "outputs": [],
   "source": [
    "# The following method of determining whether the code is running\n",
    "# within a Jupyter notebook is based on Gustavo Bezerra's response\n",
    "# at https://stackoverflow.com/a/39662359/13097194 . I found that\n",
    "# just calling get_ipython() was sufficient, at least on Windows and within\n",
    "# Visual Studio Code; his answer is more complex.\n",
    "\n",
    "try: \n",
    "    get_ipython()\n",
    "    run_on_notebook = True\n",
    "except:\n",
    "    run_on_notebook = False\n",
    "\n",
    "# print(run_on_notebook)"
   ]
  },
  {
   "cell_type": "code",
   "execution_count": 4,
   "metadata": {},
   "outputs": [
    {
     "data": {
      "text/html": [
       "<div>\n",
       "<style scoped>\n",
       "    .dataframe tbody tr th:only-of-type {\n",
       "        vertical-align: middle;\n",
       "    }\n",
       "\n",
       "    .dataframe tbody tr th {\n",
       "        vertical-align: top;\n",
       "    }\n",
       "\n",
       "    .dataframe thead th {\n",
       "        text-align: right;\n",
       "    }\n",
       "</style>\n",
       "<table border=\"1\" class=\"dataframe\">\n",
       "  <thead>\n",
       "    <tr style=\"text-align: right;\">\n",
       "      <th></th>\n",
       "      <th>Book_Order</th>\n",
       "      <th>Book_Name</th>\n",
       "      <th>Chapter_Name</th>\n",
       "      <th>Book_and_Chapter</th>\n",
       "      <th>Chapter_Order</th>\n",
       "      <th>Verse_#</th>\n",
       "      <th>Verse_Order</th>\n",
       "      <th>Verse</th>\n",
       "      <th>Characters</th>\n",
       "      <th>Typed</th>\n",
       "      <th>Tests</th>\n",
       "      <th>Fastest_WPM</th>\n",
       "      <th>Characters_Typed</th>\n",
       "      <th>Total_Characters_Typed</th>\n",
       "      <th>Count</th>\n",
       "    </tr>\n",
       "  </thead>\n",
       "  <tbody>\n",
       "    <tr>\n",
       "      <th>0</th>\n",
       "      <td>1</td>\n",
       "      <td>GEN</td>\n",
       "      <td>1</td>\n",
       "      <td>GEN 1</td>\n",
       "      <td>1</td>\n",
       "      <td>1</td>\n",
       "      <td>1</td>\n",
       "      <td>In the beginning, God created the heavens and ...</td>\n",
       "      <td>56</td>\n",
       "      <td>1</td>\n",
       "      <td>8</td>\n",
       "      <td>193.251509</td>\n",
       "      <td>56</td>\n",
       "      <td>448</td>\n",
       "      <td>1</td>\n",
       "    </tr>\n",
       "    <tr>\n",
       "      <th>1</th>\n",
       "      <td>1</td>\n",
       "      <td>GEN</td>\n",
       "      <td>1</td>\n",
       "      <td>GEN 1</td>\n",
       "      <td>1</td>\n",
       "      <td>2</td>\n",
       "      <td>2</td>\n",
       "      <td>The earth was formless and empty. Darkness was...</td>\n",
       "      <td>135</td>\n",
       "      <td>1</td>\n",
       "      <td>2</td>\n",
       "      <td>140.461827</td>\n",
       "      <td>135</td>\n",
       "      <td>270</td>\n",
       "      <td>1</td>\n",
       "    </tr>\n",
       "    <tr>\n",
       "      <th>2</th>\n",
       "      <td>1</td>\n",
       "      <td>GEN</td>\n",
       "      <td>1</td>\n",
       "      <td>GEN 1</td>\n",
       "      <td>1</td>\n",
       "      <td>3</td>\n",
       "      <td>3</td>\n",
       "      <td>God said, \"Let there be light,\" and there was ...</td>\n",
       "      <td>52</td>\n",
       "      <td>1</td>\n",
       "      <td>1</td>\n",
       "      <td>84.008493</td>\n",
       "      <td>52</td>\n",
       "      <td>52</td>\n",
       "      <td>1</td>\n",
       "    </tr>\n",
       "    <tr>\n",
       "      <th>3</th>\n",
       "      <td>1</td>\n",
       "      <td>GEN</td>\n",
       "      <td>1</td>\n",
       "      <td>GEN 1</td>\n",
       "      <td>1</td>\n",
       "      <td>4</td>\n",
       "      <td>4</td>\n",
       "      <td>God saw the light, and saw that it was good. G...</td>\n",
       "      <td>85</td>\n",
       "      <td>1</td>\n",
       "      <td>1</td>\n",
       "      <td>123.198378</td>\n",
       "      <td>85</td>\n",
       "      <td>85</td>\n",
       "      <td>1</td>\n",
       "    </tr>\n",
       "    <tr>\n",
       "      <th>4</th>\n",
       "      <td>1</td>\n",
       "      <td>GEN</td>\n",
       "      <td>1</td>\n",
       "      <td>GEN 1</td>\n",
       "      <td>1</td>\n",
       "      <td>5</td>\n",
       "      <td>5</td>\n",
       "      <td>God called the light \"day\", and the darkness h...</td>\n",
       "      <td>119</td>\n",
       "      <td>1</td>\n",
       "      <td>1</td>\n",
       "      <td>135.664272</td>\n",
       "      <td>119</td>\n",
       "      <td>119</td>\n",
       "      <td>1</td>\n",
       "    </tr>\n",
       "    <tr>\n",
       "      <th>...</th>\n",
       "      <td>...</td>\n",
       "      <td>...</td>\n",
       "      <td>...</td>\n",
       "      <td>...</td>\n",
       "      <td>...</td>\n",
       "      <td>...</td>\n",
       "      <td>...</td>\n",
       "      <td>...</td>\n",
       "      <td>...</td>\n",
       "      <td>...</td>\n",
       "      <td>...</td>\n",
       "      <td>...</td>\n",
       "      <td>...</td>\n",
       "      <td>...</td>\n",
       "      <td>...</td>\n",
       "    </tr>\n",
       "    <tr>\n",
       "      <th>35374</th>\n",
       "      <td>95</td>\n",
       "      <td>REV</td>\n",
       "      <td>22</td>\n",
       "      <td>REV 22</td>\n",
       "      <td>1328</td>\n",
       "      <td>17</td>\n",
       "      <td>35375</td>\n",
       "      <td>The Spirit and the bride say, \"Come!\" He who h...</td>\n",
       "      <td>160</td>\n",
       "      <td>0</td>\n",
       "      <td>0</td>\n",
       "      <td>NaN</td>\n",
       "      <td>0</td>\n",
       "      <td>0</td>\n",
       "      <td>1</td>\n",
       "    </tr>\n",
       "    <tr>\n",
       "      <th>35375</th>\n",
       "      <td>95</td>\n",
       "      <td>REV</td>\n",
       "      <td>22</td>\n",
       "      <td>REV 22</td>\n",
       "      <td>1328</td>\n",
       "      <td>18</td>\n",
       "      <td>35376</td>\n",
       "      <td>I testify to everyone who hears the words of t...</td>\n",
       "      <td>159</td>\n",
       "      <td>0</td>\n",
       "      <td>0</td>\n",
       "      <td>NaN</td>\n",
       "      <td>0</td>\n",
       "      <td>0</td>\n",
       "      <td>1</td>\n",
       "    </tr>\n",
       "    <tr>\n",
       "      <th>35376</th>\n",
       "      <td>95</td>\n",
       "      <td>REV</td>\n",
       "      <td>22</td>\n",
       "      <td>REV 22</td>\n",
       "      <td>1328</td>\n",
       "      <td>19</td>\n",
       "      <td>35377</td>\n",
       "      <td>If anyone takes away from the words of the boo...</td>\n",
       "      <td>174</td>\n",
       "      <td>0</td>\n",
       "      <td>0</td>\n",
       "      <td>NaN</td>\n",
       "      <td>0</td>\n",
       "      <td>0</td>\n",
       "      <td>1</td>\n",
       "    </tr>\n",
       "    <tr>\n",
       "      <th>35377</th>\n",
       "      <td>95</td>\n",
       "      <td>REV</td>\n",
       "      <td>22</td>\n",
       "      <td>REV 22</td>\n",
       "      <td>1328</td>\n",
       "      <td>20</td>\n",
       "      <td>35378</td>\n",
       "      <td>He who testifies these things says, \"Yes, I am...</td>\n",
       "      <td>89</td>\n",
       "      <td>0</td>\n",
       "      <td>0</td>\n",
       "      <td>NaN</td>\n",
       "      <td>0</td>\n",
       "      <td>0</td>\n",
       "      <td>1</td>\n",
       "    </tr>\n",
       "    <tr>\n",
       "      <th>35378</th>\n",
       "      <td>95</td>\n",
       "      <td>REV</td>\n",
       "      <td>22</td>\n",
       "      <td>REV 22</td>\n",
       "      <td>1328</td>\n",
       "      <td>21</td>\n",
       "      <td>35379</td>\n",
       "      <td>The grace of the Lord Jesus Christ be with all...</td>\n",
       "      <td>64</td>\n",
       "      <td>1</td>\n",
       "      <td>1</td>\n",
       "      <td>161.093106</td>\n",
       "      <td>64</td>\n",
       "      <td>64</td>\n",
       "      <td>1</td>\n",
       "    </tr>\n",
       "  </tbody>\n",
       "</table>\n",
       "<p>35379 rows × 15 columns</p>\n",
       "</div>"
      ],
      "text/plain": [
       "       Book_Order Book_Name  Chapter_Name Book_and_Chapter  Chapter_Order  \\\n",
       "0               1       GEN             1            GEN 1              1   \n",
       "1               1       GEN             1            GEN 1              1   \n",
       "2               1       GEN             1            GEN 1              1   \n",
       "3               1       GEN             1            GEN 1              1   \n",
       "4               1       GEN             1            GEN 1              1   \n",
       "...           ...       ...           ...              ...            ...   \n",
       "35374          95       REV            22           REV 22           1328   \n",
       "35375          95       REV            22           REV 22           1328   \n",
       "35376          95       REV            22           REV 22           1328   \n",
       "35377          95       REV            22           REV 22           1328   \n",
       "35378          95       REV            22           REV 22           1328   \n",
       "\n",
       "       Verse_#  Verse_Order  \\\n",
       "0            1            1   \n",
       "1            2            2   \n",
       "2            3            3   \n",
       "3            4            4   \n",
       "4            5            5   \n",
       "...        ...          ...   \n",
       "35374       17        35375   \n",
       "35375       18        35376   \n",
       "35376       19        35377   \n",
       "35377       20        35378   \n",
       "35378       21        35379   \n",
       "\n",
       "                                                   Verse  Characters  Typed  \\\n",
       "0      In the beginning, God created the heavens and ...          56      1   \n",
       "1      The earth was formless and empty. Darkness was...         135      1   \n",
       "2      God said, \"Let there be light,\" and there was ...          52      1   \n",
       "3      God saw the light, and saw that it was good. G...          85      1   \n",
       "4      God called the light \"day\", and the darkness h...         119      1   \n",
       "...                                                  ...         ...    ...   \n",
       "35374  The Spirit and the bride say, \"Come!\" He who h...         160      0   \n",
       "35375  I testify to everyone who hears the words of t...         159      0   \n",
       "35376  If anyone takes away from the words of the boo...         174      0   \n",
       "35377  He who testifies these things says, \"Yes, I am...          89      0   \n",
       "35378  The grace of the Lord Jesus Christ be with all...          64      1   \n",
       "\n",
       "       Tests  Fastest_WPM  Characters_Typed  Total_Characters_Typed  Count  \n",
       "0          8   193.251509                56                     448      1  \n",
       "1          2   140.461827               135                     270      1  \n",
       "2          1    84.008493                52                      52      1  \n",
       "3          1   123.198378                85                      85      1  \n",
       "4          1   135.664272               119                     119      1  \n",
       "...      ...          ...               ...                     ...    ...  \n",
       "35374      0          NaN                 0                       0      1  \n",
       "35375      0          NaN                 0                       0      1  \n",
       "35376      0          NaN                 0                       0      1  \n",
       "35377      0          NaN                 0                       0      1  \n",
       "35378      1   161.093106                64                      64      1  \n",
       "\n",
       "[35379 rows x 15 columns]"
      ]
     },
     "execution_count": 4,
     "metadata": {},
     "output_type": "execute_result"
    }
   ],
   "source": [
    "df_Bible = pd.read_csv('WEB_Catholic_Version_for_game_updated.csv')\n",
    "df_Bible"
   ]
  },
  {
   "cell_type": "code",
   "execution_count": 5,
   "metadata": {},
   "outputs": [
    {
     "data": {
      "text/html": [
       "<div>\n",
       "<style scoped>\n",
       "    .dataframe tbody tr th:only-of-type {\n",
       "        vertical-align: middle;\n",
       "    }\n",
       "\n",
       "    .dataframe tbody tr th {\n",
       "        vertical-align: top;\n",
       "    }\n",
       "\n",
       "    .dataframe thead th {\n",
       "        text-align: right;\n",
       "    }\n",
       "</style>\n",
       "<table border=\"1\" class=\"dataframe\">\n",
       "  <thead>\n",
       "    <tr style=\"text-align: right;\">\n",
       "      <th></th>\n",
       "      <th>Unix_Start_Time</th>\n",
       "      <th>Local_Start_Time</th>\n",
       "      <th>UTC_Start_Time</th>\n",
       "      <th>Characters</th>\n",
       "      <th>Seconds</th>\n",
       "      <th>CPS</th>\n",
       "      <th>WPM</th>\n",
       "      <th>Book</th>\n",
       "      <th>Chapter</th>\n",
       "      <th>Verse_Order</th>\n",
       "      <th>Verse</th>\n",
       "      <th>Verse #</th>\n",
       "      <th>Last 10 Avg</th>\n",
       "      <th>Last 100 Avg</th>\n",
       "      <th>Last 1000 Avg</th>\n",
       "      <th>cumulative_avg</th>\n",
       "      <th>Local_Year</th>\n",
       "      <th>Local_Month</th>\n",
       "      <th>Local_Hour</th>\n",
       "      <th>Count</th>\n",
       "      <th>Local_Date</th>\n",
       "    </tr>\n",
       "    <tr>\n",
       "      <th>Test_Number</th>\n",
       "      <th></th>\n",
       "      <th></th>\n",
       "      <th></th>\n",
       "      <th></th>\n",
       "      <th></th>\n",
       "      <th></th>\n",
       "      <th></th>\n",
       "      <th></th>\n",
       "      <th></th>\n",
       "      <th></th>\n",
       "      <th></th>\n",
       "      <th></th>\n",
       "      <th></th>\n",
       "      <th></th>\n",
       "      <th></th>\n",
       "      <th></th>\n",
       "      <th></th>\n",
       "      <th></th>\n",
       "      <th></th>\n",
       "      <th></th>\n",
       "      <th></th>\n",
       "    </tr>\n",
       "  </thead>\n",
       "  <tbody>\n",
       "    <tr>\n",
       "      <th>1</th>\n",
       "      <td>1.698121e+09</td>\n",
       "      <td>2023-10-24T00:17:38.017017</td>\n",
       "      <td>2023-10-24T04:17:38.017017+00:00</td>\n",
       "      <td>56</td>\n",
       "      <td>6.571754</td>\n",
       "      <td>8.521317</td>\n",
       "      <td>102.255799</td>\n",
       "      <td>GEN</td>\n",
       "      <td>1</td>\n",
       "      <td>1</td>\n",
       "      <td>In the beginning, God created the heavens and ...</td>\n",
       "      <td>NaN</td>\n",
       "      <td>NaN</td>\n",
       "      <td>NaN</td>\n",
       "      <td>NaN</td>\n",
       "      <td>102.256</td>\n",
       "      <td>2023</td>\n",
       "      <td>10</td>\n",
       "      <td>0</td>\n",
       "      <td>1</td>\n",
       "      <td>2023-10-24</td>\n",
       "    </tr>\n",
       "    <tr>\n",
       "      <th>2</th>\n",
       "      <td>1.698121e+09</td>\n",
       "      <td>2023-10-24T00:18:06.165502</td>\n",
       "      <td>2023-10-24T04:18:06.165502+00:00</td>\n",
       "      <td>135</td>\n",
       "      <td>13.997536</td>\n",
       "      <td>9.644554</td>\n",
       "      <td>115.734653</td>\n",
       "      <td>GEN</td>\n",
       "      <td>1</td>\n",
       "      <td>2</td>\n",
       "      <td>The earth was formless and empty. Darkness was...</td>\n",
       "      <td>NaN</td>\n",
       "      <td>NaN</td>\n",
       "      <td>NaN</td>\n",
       "      <td>NaN</td>\n",
       "      <td>108.995</td>\n",
       "      <td>2023</td>\n",
       "      <td>10</td>\n",
       "      <td>0</td>\n",
       "      <td>1</td>\n",
       "      <td>2023-10-24</td>\n",
       "    </tr>\n",
       "    <tr>\n",
       "      <th>3</th>\n",
       "      <td>1.698121e+09</td>\n",
       "      <td>2023-10-24T00:18:24.381290</td>\n",
       "      <td>2023-10-24T04:18:24.381290+00:00</td>\n",
       "      <td>56</td>\n",
       "      <td>4.714291</td>\n",
       "      <td>11.878774</td>\n",
       "      <td>142.545292</td>\n",
       "      <td>GEN</td>\n",
       "      <td>1</td>\n",
       "      <td>1</td>\n",
       "      <td>In the beginning, God created the heavens and ...</td>\n",
       "      <td>NaN</td>\n",
       "      <td>NaN</td>\n",
       "      <td>NaN</td>\n",
       "      <td>NaN</td>\n",
       "      <td>120.179</td>\n",
       "      <td>2023</td>\n",
       "      <td>10</td>\n",
       "      <td>0</td>\n",
       "      <td>1</td>\n",
       "      <td>2023-10-24</td>\n",
       "    </tr>\n",
       "    <tr>\n",
       "      <th>4</th>\n",
       "      <td>1.698121e+09</td>\n",
       "      <td>2023-10-24T00:21:24.331389</td>\n",
       "      <td>2023-10-24T04:21:24.331389+00:00</td>\n",
       "      <td>56</td>\n",
       "      <td>4.878704</td>\n",
       "      <td>11.478458</td>\n",
       "      <td>137.741497</td>\n",
       "      <td>GEN</td>\n",
       "      <td>1</td>\n",
       "      <td>1</td>\n",
       "      <td>In the beginning, God created the heavens and ...</td>\n",
       "      <td>NaN</td>\n",
       "      <td>NaN</td>\n",
       "      <td>NaN</td>\n",
       "      <td>NaN</td>\n",
       "      <td>124.569</td>\n",
       "      <td>2023</td>\n",
       "      <td>10</td>\n",
       "      <td>0</td>\n",
       "      <td>1</td>\n",
       "      <td>2023-10-24</td>\n",
       "    </tr>\n",
       "    <tr>\n",
       "      <th>5</th>\n",
       "      <td>1.698121e+09</td>\n",
       "      <td>2023-10-24T00:22:03.749152</td>\n",
       "      <td>2023-10-24T04:22:03.749152+00:00</td>\n",
       "      <td>135</td>\n",
       "      <td>19.078445</td>\n",
       "      <td>7.076048</td>\n",
       "      <td>84.912580</td>\n",
       "      <td>GEN</td>\n",
       "      <td>1</td>\n",
       "      <td>2</td>\n",
       "      <td>The earth was formless and empty. Darkness was...</td>\n",
       "      <td>NaN</td>\n",
       "      <td>NaN</td>\n",
       "      <td>NaN</td>\n",
       "      <td>NaN</td>\n",
       "      <td>116.638</td>\n",
       "      <td>2023</td>\n",
       "      <td>10</td>\n",
       "      <td>0</td>\n",
       "      <td>1</td>\n",
       "      <td>2023-10-24</td>\n",
       "    </tr>\n",
       "    <tr>\n",
       "      <th>...</th>\n",
       "      <td>...</td>\n",
       "      <td>...</td>\n",
       "      <td>...</td>\n",
       "      <td>...</td>\n",
       "      <td>...</td>\n",
       "      <td>...</td>\n",
       "      <td>...</td>\n",
       "      <td>...</td>\n",
       "      <td>...</td>\n",
       "      <td>...</td>\n",
       "      <td>...</td>\n",
       "      <td>...</td>\n",
       "      <td>...</td>\n",
       "      <td>...</td>\n",
       "      <td>...</td>\n",
       "      <td>...</td>\n",
       "      <td>...</td>\n",
       "      <td>...</td>\n",
       "      <td>...</td>\n",
       "      <td>...</td>\n",
       "      <td>...</td>\n",
       "    </tr>\n",
       "    <tr>\n",
       "      <th>713</th>\n",
       "      <td>1.699312e+09</td>\n",
       "      <td>2023-11-06T18:08:59.504052</td>\n",
       "      <td>2023-11-06T23:08:59.504052+00:00</td>\n",
       "      <td>62</td>\n",
       "      <td>10.138869</td>\n",
       "      <td>6.115081</td>\n",
       "      <td>73.380967</td>\n",
       "      <td>GEN</td>\n",
       "      <td>22</td>\n",
       "      <td>563</td>\n",
       "      <td>Yahweh's angel called to Abraham a second time...</td>\n",
       "      <td>15.0</td>\n",
       "      <td>124.819574</td>\n",
       "      <td>129.016002</td>\n",
       "      <td>NaN</td>\n",
       "      <td>132.602</td>\n",
       "      <td>2023</td>\n",
       "      <td>11</td>\n",
       "      <td>18</td>\n",
       "      <td>1</td>\n",
       "      <td>2023-11-06</td>\n",
       "    </tr>\n",
       "    <tr>\n",
       "      <th>714</th>\n",
       "      <td>1.699312e+09</td>\n",
       "      <td>2023-11-06T18:09:10.609775</td>\n",
       "      <td>2023-11-06T23:09:10.609775+00:00</td>\n",
       "      <td>131</td>\n",
       "      <td>12.816818</td>\n",
       "      <td>10.220946</td>\n",
       "      <td>122.651348</td>\n",
       "      <td>GEN</td>\n",
       "      <td>22</td>\n",
       "      <td>564</td>\n",
       "      <td>and said, \"'I have sworn by myself,' says Yahw...</td>\n",
       "      <td>16.0</td>\n",
       "      <td>123.880578</td>\n",
       "      <td>128.701799</td>\n",
       "      <td>NaN</td>\n",
       "      <td>132.588</td>\n",
       "      <td>2023</td>\n",
       "      <td>11</td>\n",
       "      <td>18</td>\n",
       "      <td>1</td>\n",
       "      <td>2023-11-06</td>\n",
       "    </tr>\n",
       "    <tr>\n",
       "      <th>715</th>\n",
       "      <td>1.699312e+09</td>\n",
       "      <td>2023-11-06T18:09:25.440950</td>\n",
       "      <td>2023-11-06T23:09:25.440950+00:00</td>\n",
       "      <td>201</td>\n",
       "      <td>15.170887</td>\n",
       "      <td>13.249061</td>\n",
       "      <td>158.988731</td>\n",
       "      <td>GEN</td>\n",
       "      <td>22</td>\n",
       "      <td>565</td>\n",
       "      <td>that I will bless you greatly, and I will mult...</td>\n",
       "      <td>17.0</td>\n",
       "      <td>126.291000</td>\n",
       "      <td>129.254139</td>\n",
       "      <td>NaN</td>\n",
       "      <td>132.625</td>\n",
       "      <td>2023</td>\n",
       "      <td>11</td>\n",
       "      <td>18</td>\n",
       "      <td>1</td>\n",
       "      <td>2023-11-06</td>\n",
       "    </tr>\n",
       "    <tr>\n",
       "      <th>716</th>\n",
       "      <td>1.699312e+09</td>\n",
       "      <td>2023-11-06T18:09:50.607697</td>\n",
       "      <td>2023-11-06T23:09:50.607697+00:00</td>\n",
       "      <td>99</td>\n",
       "      <td>8.920846</td>\n",
       "      <td>11.097603</td>\n",
       "      <td>133.171233</td>\n",
       "      <td>GEN</td>\n",
       "      <td>22</td>\n",
       "      <td>566</td>\n",
       "      <td>All the nations of the earth will be blessed b...</td>\n",
       "      <td>18.0</td>\n",
       "      <td>126.220336</td>\n",
       "      <td>129.166090</td>\n",
       "      <td>NaN</td>\n",
       "      <td>132.625</td>\n",
       "      <td>2023</td>\n",
       "      <td>11</td>\n",
       "      <td>18</td>\n",
       "      <td>1</td>\n",
       "      <td>2023-11-06</td>\n",
       "    </tr>\n",
       "    <tr>\n",
       "      <th>717</th>\n",
       "      <td>1.699312e+09</td>\n",
       "      <td>2023-11-06T18:10:01.007281</td>\n",
       "      <td>2023-11-06T23:10:01.007281+00:00</td>\n",
       "      <td>114</td>\n",
       "      <td>9.953331</td>\n",
       "      <td>11.453452</td>\n",
       "      <td>137.441419</td>\n",
       "      <td>GEN</td>\n",
       "      <td>22</td>\n",
       "      <td>567</td>\n",
       "      <td>So Abraham returned to his young men, and they...</td>\n",
       "      <td>19.0</td>\n",
       "      <td>125.569146</td>\n",
       "      <td>129.260829</td>\n",
       "      <td>NaN</td>\n",
       "      <td>132.632</td>\n",
       "      <td>2023</td>\n",
       "      <td>11</td>\n",
       "      <td>18</td>\n",
       "      <td>1</td>\n",
       "      <td>2023-11-06</td>\n",
       "    </tr>\n",
       "  </tbody>\n",
       "</table>\n",
       "<p>717 rows × 21 columns</p>\n",
       "</div>"
      ],
      "text/plain": [
       "             Unix_Start_Time            Local_Start_Time  \\\n",
       "Test_Number                                                \n",
       "1               1.698121e+09  2023-10-24T00:17:38.017017   \n",
       "2               1.698121e+09  2023-10-24T00:18:06.165502   \n",
       "3               1.698121e+09  2023-10-24T00:18:24.381290   \n",
       "4               1.698121e+09  2023-10-24T00:21:24.331389   \n",
       "5               1.698121e+09  2023-10-24T00:22:03.749152   \n",
       "...                      ...                         ...   \n",
       "713             1.699312e+09  2023-11-06T18:08:59.504052   \n",
       "714             1.699312e+09  2023-11-06T18:09:10.609775   \n",
       "715             1.699312e+09  2023-11-06T18:09:25.440950   \n",
       "716             1.699312e+09  2023-11-06T18:09:50.607697   \n",
       "717             1.699312e+09  2023-11-06T18:10:01.007281   \n",
       "\n",
       "                               UTC_Start_Time  Characters    Seconds  \\\n",
       "Test_Number                                                            \n",
       "1            2023-10-24T04:17:38.017017+00:00          56   6.571754   \n",
       "2            2023-10-24T04:18:06.165502+00:00         135  13.997536   \n",
       "3            2023-10-24T04:18:24.381290+00:00          56   4.714291   \n",
       "4            2023-10-24T04:21:24.331389+00:00          56   4.878704   \n",
       "5            2023-10-24T04:22:03.749152+00:00         135  19.078445   \n",
       "...                                       ...         ...        ...   \n",
       "713          2023-11-06T23:08:59.504052+00:00          62  10.138869   \n",
       "714          2023-11-06T23:09:10.609775+00:00         131  12.816818   \n",
       "715          2023-11-06T23:09:25.440950+00:00         201  15.170887   \n",
       "716          2023-11-06T23:09:50.607697+00:00          99   8.920846   \n",
       "717          2023-11-06T23:10:01.007281+00:00         114   9.953331   \n",
       "\n",
       "                   CPS         WPM Book  Chapter  Verse_Order  \\\n",
       "Test_Number                                                     \n",
       "1             8.521317  102.255799  GEN        1            1   \n",
       "2             9.644554  115.734653  GEN        1            2   \n",
       "3            11.878774  142.545292  GEN        1            1   \n",
       "4            11.478458  137.741497  GEN        1            1   \n",
       "5             7.076048   84.912580  GEN        1            2   \n",
       "...                ...         ...  ...      ...          ...   \n",
       "713           6.115081   73.380967  GEN       22          563   \n",
       "714          10.220946  122.651348  GEN       22          564   \n",
       "715          13.249061  158.988731  GEN       22          565   \n",
       "716          11.097603  133.171233  GEN       22          566   \n",
       "717          11.453452  137.441419  GEN       22          567   \n",
       "\n",
       "                                                         Verse  Verse #  \\\n",
       "Test_Number                                                               \n",
       "1            In the beginning, God created the heavens and ...      NaN   \n",
       "2            The earth was formless and empty. Darkness was...      NaN   \n",
       "3            In the beginning, God created the heavens and ...      NaN   \n",
       "4            In the beginning, God created the heavens and ...      NaN   \n",
       "5            The earth was formless and empty. Darkness was...      NaN   \n",
       "...                                                        ...      ...   \n",
       "713          Yahweh's angel called to Abraham a second time...     15.0   \n",
       "714          and said, \"'I have sworn by myself,' says Yahw...     16.0   \n",
       "715          that I will bless you greatly, and I will mult...     17.0   \n",
       "716          All the nations of the earth will be blessed b...     18.0   \n",
       "717          So Abraham returned to his young men, and they...     19.0   \n",
       "\n",
       "             Last 10 Avg  Last 100 Avg  Last 1000 Avg  cumulative_avg  \\\n",
       "Test_Number                                                             \n",
       "1                    NaN           NaN            NaN         102.256   \n",
       "2                    NaN           NaN            NaN         108.995   \n",
       "3                    NaN           NaN            NaN         120.179   \n",
       "4                    NaN           NaN            NaN         124.569   \n",
       "5                    NaN           NaN            NaN         116.638   \n",
       "...                  ...           ...            ...             ...   \n",
       "713           124.819574    129.016002            NaN         132.602   \n",
       "714           123.880578    128.701799            NaN         132.588   \n",
       "715           126.291000    129.254139            NaN         132.625   \n",
       "716           126.220336    129.166090            NaN         132.625   \n",
       "717           125.569146    129.260829            NaN         132.632   \n",
       "\n",
       "             Local_Year  Local_Month  Local_Hour  Count  Local_Date  \n",
       "Test_Number                                                          \n",
       "1                  2023           10           0      1  2023-10-24  \n",
       "2                  2023           10           0      1  2023-10-24  \n",
       "3                  2023           10           0      1  2023-10-24  \n",
       "4                  2023           10           0      1  2023-10-24  \n",
       "5                  2023           10           0      1  2023-10-24  \n",
       "...                 ...          ...         ...    ...         ...  \n",
       "713                2023           11          18      1  2023-11-06  \n",
       "714                2023           11          18      1  2023-11-06  \n",
       "715                2023           11          18      1  2023-11-06  \n",
       "716                2023           11          18      1  2023-11-06  \n",
       "717                2023           11          18      1  2023-11-06  \n",
       "\n",
       "[717 rows x 21 columns]"
      ]
     },
     "execution_count": 5,
     "metadata": {},
     "output_type": "execute_result"
    }
   ],
   "source": [
    "df_results = pd.read_csv('results.csv', index_col='Test_Number')\n",
    "df_results"
   ]
  },
  {
   "cell_type": "code",
   "execution_count": 6,
   "metadata": {},
   "outputs": [],
   "source": [
    "# If you ever need to drop a particular result,\n",
    "# you can do so as follows:\n",
    "# df_results.drop(17, inplace = True)\n",
    "# df_results.to_csv('results.csv') # We want to preserve the index so as not\n",
    "# to lose our 'Test_Number' values\n",
    "# df_results"
   ]
  },
  {
   "cell_type": "code",
   "execution_count": 7,
   "metadata": {},
   "outputs": [
    {
     "data": {
      "text/plain": [
       "(0.050158023834228516, 50158)"
      ]
     },
     "execution_count": 7,
     "metadata": {},
     "output_type": "execute_result"
    }
   ],
   "source": [
    "# Creating an RNG seed:\n",
    "# In order to make the RNG values a bit more random, the following code will\n",
    "# derive the RNG seed from the decimal component of the current timestamp.\n",
    "# This seed will change 1 million times each second.\n",
    "\n",
    "# Using the decimal component of time.time() to select an RNG seed:\n",
    "current_time = time.time()\n",
    "decimal_component = current_time - int(current_time) # This \n",
    "# line retrieves the decimal component of current_time. int() is used instead\n",
    "# of np.round() so that the code won't ever round current_time up prior\n",
    "# to the subtraction operation, which would return a different value.\n",
    "# I don't think that converting current_time to an integer (e.g. via\n",
    "# np.int64(current_time)) is necessary, as int() appears to handle at least \n",
    "# some integers larger than 32 bits in size just fine.\n",
    "decimal_component\n",
    "random_seed = round(decimal_component * 1000000)\n",
    "decimal_component, random_seed"
   ]
  },
  {
   "cell_type": "code",
   "execution_count": 8,
   "metadata": {},
   "outputs": [],
   "source": [
    "rng = np.random.default_rng(random_seed) # Based on\n",
    "# https://numpy.org/doc/stable/reference/random/index.html?highlight=random#module-numpy.random"
   ]
  },
  {
   "cell_type": "code",
   "execution_count": 9,
   "metadata": {},
   "outputs": [
    {
     "data": {
      "text/html": [
       "<div>\n",
       "<style scoped>\n",
       "    .dataframe tbody tr th:only-of-type {\n",
       "        vertical-align: middle;\n",
       "    }\n",
       "\n",
       "    .dataframe tbody tr th {\n",
       "        vertical-align: top;\n",
       "    }\n",
       "\n",
       "    .dataframe thead th {\n",
       "        text-align: right;\n",
       "    }\n",
       "</style>\n",
       "<table border=\"1\" class=\"dataframe\">\n",
       "  <thead>\n",
       "    <tr style=\"text-align: right;\">\n",
       "      <th></th>\n",
       "      <th>Book_Order</th>\n",
       "      <th>Book_Name</th>\n",
       "      <th>Chapter_Name</th>\n",
       "      <th>Book_and_Chapter</th>\n",
       "      <th>Chapter_Order</th>\n",
       "      <th>Verse_#</th>\n",
       "      <th>Verse_Order</th>\n",
       "      <th>Verse</th>\n",
       "      <th>Characters</th>\n",
       "      <th>Typed</th>\n",
       "      <th>Tests</th>\n",
       "      <th>Fastest_WPM</th>\n",
       "      <th>Characters_Typed</th>\n",
       "      <th>Total_Characters_Typed</th>\n",
       "      <th>Count</th>\n",
       "    </tr>\n",
       "  </thead>\n",
       "  <tbody>\n",
       "    <tr>\n",
       "      <th>0</th>\n",
       "      <td>1</td>\n",
       "      <td>GEN</td>\n",
       "      <td>1</td>\n",
       "      <td>GEN 1</td>\n",
       "      <td>1</td>\n",
       "      <td>1</td>\n",
       "      <td>1</td>\n",
       "      <td>In the beginning, God created the heavens and ...</td>\n",
       "      <td>56</td>\n",
       "      <td>1</td>\n",
       "      <td>8</td>\n",
       "      <td>193.251509</td>\n",
       "      <td>56</td>\n",
       "      <td>448</td>\n",
       "      <td>1</td>\n",
       "    </tr>\n",
       "    <tr>\n",
       "      <th>1</th>\n",
       "      <td>1</td>\n",
       "      <td>GEN</td>\n",
       "      <td>1</td>\n",
       "      <td>GEN 1</td>\n",
       "      <td>1</td>\n",
       "      <td>2</td>\n",
       "      <td>2</td>\n",
       "      <td>The earth was formless and empty. Darkness was...</td>\n",
       "      <td>135</td>\n",
       "      <td>1</td>\n",
       "      <td>2</td>\n",
       "      <td>140.461827</td>\n",
       "      <td>135</td>\n",
       "      <td>270</td>\n",
       "      <td>1</td>\n",
       "    </tr>\n",
       "    <tr>\n",
       "      <th>2</th>\n",
       "      <td>1</td>\n",
       "      <td>GEN</td>\n",
       "      <td>1</td>\n",
       "      <td>GEN 1</td>\n",
       "      <td>1</td>\n",
       "      <td>3</td>\n",
       "      <td>3</td>\n",
       "      <td>God said, \"Let there be light,\" and there was ...</td>\n",
       "      <td>52</td>\n",
       "      <td>1</td>\n",
       "      <td>1</td>\n",
       "      <td>84.008493</td>\n",
       "      <td>52</td>\n",
       "      <td>52</td>\n",
       "      <td>1</td>\n",
       "    </tr>\n",
       "    <tr>\n",
       "      <th>3</th>\n",
       "      <td>1</td>\n",
       "      <td>GEN</td>\n",
       "      <td>1</td>\n",
       "      <td>GEN 1</td>\n",
       "      <td>1</td>\n",
       "      <td>4</td>\n",
       "      <td>4</td>\n",
       "      <td>God saw the light, and saw that it was good. G...</td>\n",
       "      <td>85</td>\n",
       "      <td>1</td>\n",
       "      <td>1</td>\n",
       "      <td>123.198378</td>\n",
       "      <td>85</td>\n",
       "      <td>85</td>\n",
       "      <td>1</td>\n",
       "    </tr>\n",
       "    <tr>\n",
       "      <th>4</th>\n",
       "      <td>1</td>\n",
       "      <td>GEN</td>\n",
       "      <td>1</td>\n",
       "      <td>GEN 1</td>\n",
       "      <td>1</td>\n",
       "      <td>5</td>\n",
       "      <td>5</td>\n",
       "      <td>God called the light \"day\", and the darkness h...</td>\n",
       "      <td>119</td>\n",
       "      <td>1</td>\n",
       "      <td>1</td>\n",
       "      <td>135.664272</td>\n",
       "      <td>119</td>\n",
       "      <td>119</td>\n",
       "      <td>1</td>\n",
       "    </tr>\n",
       "    <tr>\n",
       "      <th>...</th>\n",
       "      <td>...</td>\n",
       "      <td>...</td>\n",
       "      <td>...</td>\n",
       "      <td>...</td>\n",
       "      <td>...</td>\n",
       "      <td>...</td>\n",
       "      <td>...</td>\n",
       "      <td>...</td>\n",
       "      <td>...</td>\n",
       "      <td>...</td>\n",
       "      <td>...</td>\n",
       "      <td>...</td>\n",
       "      <td>...</td>\n",
       "      <td>...</td>\n",
       "      <td>...</td>\n",
       "    </tr>\n",
       "    <tr>\n",
       "      <th>35374</th>\n",
       "      <td>95</td>\n",
       "      <td>REV</td>\n",
       "      <td>22</td>\n",
       "      <td>REV 22</td>\n",
       "      <td>1328</td>\n",
       "      <td>17</td>\n",
       "      <td>35375</td>\n",
       "      <td>The Spirit and the bride say, \"Come!\" He who h...</td>\n",
       "      <td>160</td>\n",
       "      <td>0</td>\n",
       "      <td>0</td>\n",
       "      <td>NaN</td>\n",
       "      <td>0</td>\n",
       "      <td>0</td>\n",
       "      <td>1</td>\n",
       "    </tr>\n",
       "    <tr>\n",
       "      <th>35375</th>\n",
       "      <td>95</td>\n",
       "      <td>REV</td>\n",
       "      <td>22</td>\n",
       "      <td>REV 22</td>\n",
       "      <td>1328</td>\n",
       "      <td>18</td>\n",
       "      <td>35376</td>\n",
       "      <td>I testify to everyone who hears the words of t...</td>\n",
       "      <td>159</td>\n",
       "      <td>0</td>\n",
       "      <td>0</td>\n",
       "      <td>NaN</td>\n",
       "      <td>0</td>\n",
       "      <td>0</td>\n",
       "      <td>1</td>\n",
       "    </tr>\n",
       "    <tr>\n",
       "      <th>35376</th>\n",
       "      <td>95</td>\n",
       "      <td>REV</td>\n",
       "      <td>22</td>\n",
       "      <td>REV 22</td>\n",
       "      <td>1328</td>\n",
       "      <td>19</td>\n",
       "      <td>35377</td>\n",
       "      <td>If anyone takes away from the words of the boo...</td>\n",
       "      <td>174</td>\n",
       "      <td>0</td>\n",
       "      <td>0</td>\n",
       "      <td>NaN</td>\n",
       "      <td>0</td>\n",
       "      <td>0</td>\n",
       "      <td>1</td>\n",
       "    </tr>\n",
       "    <tr>\n",
       "      <th>35377</th>\n",
       "      <td>95</td>\n",
       "      <td>REV</td>\n",
       "      <td>22</td>\n",
       "      <td>REV 22</td>\n",
       "      <td>1328</td>\n",
       "      <td>20</td>\n",
       "      <td>35378</td>\n",
       "      <td>He who testifies these things says, \"Yes, I am...</td>\n",
       "      <td>89</td>\n",
       "      <td>0</td>\n",
       "      <td>0</td>\n",
       "      <td>NaN</td>\n",
       "      <td>0</td>\n",
       "      <td>0</td>\n",
       "      <td>1</td>\n",
       "    </tr>\n",
       "    <tr>\n",
       "      <th>35378</th>\n",
       "      <td>95</td>\n",
       "      <td>REV</td>\n",
       "      <td>22</td>\n",
       "      <td>REV 22</td>\n",
       "      <td>1328</td>\n",
       "      <td>21</td>\n",
       "      <td>35379</td>\n",
       "      <td>The grace of the Lord Jesus Christ be with all...</td>\n",
       "      <td>64</td>\n",
       "      <td>1</td>\n",
       "      <td>1</td>\n",
       "      <td>161.093106</td>\n",
       "      <td>64</td>\n",
       "      <td>64</td>\n",
       "      <td>1</td>\n",
       "    </tr>\n",
       "  </tbody>\n",
       "</table>\n",
       "<p>35379 rows × 15 columns</p>\n",
       "</div>"
      ],
      "text/plain": [
       "       Book_Order Book_Name  Chapter_Name Book_and_Chapter  Chapter_Order  \\\n",
       "0               1       GEN             1            GEN 1              1   \n",
       "1               1       GEN             1            GEN 1              1   \n",
       "2               1       GEN             1            GEN 1              1   \n",
       "3               1       GEN             1            GEN 1              1   \n",
       "4               1       GEN             1            GEN 1              1   \n",
       "...           ...       ...           ...              ...            ...   \n",
       "35374          95       REV            22           REV 22           1328   \n",
       "35375          95       REV            22           REV 22           1328   \n",
       "35376          95       REV            22           REV 22           1328   \n",
       "35377          95       REV            22           REV 22           1328   \n",
       "35378          95       REV            22           REV 22           1328   \n",
       "\n",
       "       Verse_#  Verse_Order  \\\n",
       "0            1            1   \n",
       "1            2            2   \n",
       "2            3            3   \n",
       "3            4            4   \n",
       "4            5            5   \n",
       "...        ...          ...   \n",
       "35374       17        35375   \n",
       "35375       18        35376   \n",
       "35376       19        35377   \n",
       "35377       20        35378   \n",
       "35378       21        35379   \n",
       "\n",
       "                                                   Verse  Characters  Typed  \\\n",
       "0      In the beginning, God created the heavens and ...          56      1   \n",
       "1      The earth was formless and empty. Darkness was...         135      1   \n",
       "2      God said, \"Let there be light,\" and there was ...          52      1   \n",
       "3      God saw the light, and saw that it was good. G...          85      1   \n",
       "4      God called the light \"day\", and the darkness h...         119      1   \n",
       "...                                                  ...         ...    ...   \n",
       "35374  The Spirit and the bride say, \"Come!\" He who h...         160      0   \n",
       "35375  I testify to everyone who hears the words of t...         159      0   \n",
       "35376  If anyone takes away from the words of the boo...         174      0   \n",
       "35377  He who testifies these things says, \"Yes, I am...          89      0   \n",
       "35378  The grace of the Lord Jesus Christ be with all...          64      1   \n",
       "\n",
       "       Tests  Fastest_WPM  Characters_Typed  Total_Characters_Typed  Count  \n",
       "0          8   193.251509                56                     448      1  \n",
       "1          2   140.461827               135                     270      1  \n",
       "2          1    84.008493                52                      52      1  \n",
       "3          1   123.198378                85                      85      1  \n",
       "4          1   135.664272               119                     119      1  \n",
       "...      ...          ...               ...                     ...    ...  \n",
       "35374      0          NaN                 0                       0      1  \n",
       "35375      0          NaN                 0                       0      1  \n",
       "35376      0          NaN                 0                       0      1  \n",
       "35377      0          NaN                 0                       0      1  \n",
       "35378      1   161.093106                64                      64      1  \n",
       "\n",
       "[35379 rows x 15 columns]"
      ]
     },
     "execution_count": 9,
     "metadata": {},
     "output_type": "execute_result"
    }
   ],
   "source": [
    "df_Bible"
   ]
  },
  {
   "cell_type": "markdown",
   "metadata": {},
   "source": [
    "[This fantastic answer](https://stackoverflow.com/a/23294659/13097194) by Kevin at Stack Overflow proved helpful in implementing user validation code within this program. "
   ]
  },
  {
   "cell_type": "code",
   "execution_count": 10,
   "metadata": {},
   "outputs": [],
   "source": [
    "def select_verse():\n",
    "    print(\"Select a verse to type! Enter 0 to receive a random verse\\n\\\n",
    "or enter a verse number (see 'Verse_Order column of\\n\\\n",
    "the WEB_Catholic_Version.csv spreadsheet for a list of numbers to enter\\n\\\n",
    "to select a specific verse.\\n\\\n",
    "You can also enter -2 to receive a random verse that you haven't yet typed\\n\\\n",
    "or -3 to choose the first Bible verse that hasn't yet been typed.\")\n",
    "    while True:\n",
    "        try:\n",
    "            response = int(input())\n",
    "        except:\n",
    "            print(\"Please enter an integer corresponding to a particular Bible \\\n",
    "verse or 0 for a randomly selected verse.\")\n",
    "            continue # Allows the user to retry entering a number\n",
    "\n",
    "        if response == 0:\n",
    "            return rng.integers(1, 35380) # Selects any verse within the Bible.\n",
    "            # there are 35,379 verses present, so we'll pass 1 (the first verse)\n",
    "            # and 35,380 (1 more than the last verse, as rng.integers won't \n",
    "            # include the final number within the range) to rng.integers().\n",
    "        # The next two elif statements will require us to determine which \n",
    "        # verses haven't yet been typed. We can do so by filtering df_Bible\n",
    "        # to include only untyped verses.\n",
    "        elif response == -2:\n",
    "            verses_not_yet_typed = list(\n",
    "                df_Bible.query(\"Typed == 0\")['Verse_Order'].copy())\n",
    "            if len(verses_not_yet_typed) == 0:\n",
    "                print(\"Congratulations! You have typed all verses from \\\n",
    "the Bible, so there are no new verses to type! Try selecting another option \\\n",
    "instead.\")\n",
    "                continue\n",
    "            print(f\"{len(verses_not_yet_typed)} verses have not yet \\\n",
    "been typed.\")\n",
    "            return rng.choice(verses_not_yet_typed) # Chooses one of these\n",
    "            # untyped verses at random\n",
    "        elif response == -3:\n",
    "            verses_not_yet_typed = list(\n",
    "                df_Bible.query(\"Typed == 0\")['Verse_Order'].copy())\n",
    "            if len(verses_not_yet_typed) == 0:\n",
    "                print(\"Congratulations! You have typed all verses from \\\n",
    "the Bible, so there are no new verses to type! Try selecting another option \\\n",
    "instead.\")\n",
    "                continue\n",
    "            print(f\"{len(verses_not_yet_typed)} verses have not yet \\\n",
    "been typed.\")\n",
    "            verses_not_yet_typed.sort() # Probably not necessary, as df_Bible\n",
    "            # is already sorted from the first to the last verse.\n",
    "            return verses_not_yet_typed[0]\n",
    "        \n",
    "        else:\n",
    "            if ((response >= 1) \n",
    "            & (response <= 35379)): # Making sure that the response is \n",
    "                # an integer between 1 and 35,379 (inclusive) so that it \n",
    "                # matches one of the Bible verse numbers present:                    \n",
    "                return response\n",
    "            else: # Will be called if a non-integer number was passed\n",
    "                    # or if the integer didn't correspond to a Bible verse\n",
    "                    # number. \n",
    "                print(\"Please enter an integer between 1 and 35,379.\") # Since\n",
    "                # we're still within a While loop, the user will be returned\n",
    "                # to the initial try/except block.\n"
   ]
  },
  {
   "cell_type": "code",
   "execution_count": 11,
   "metadata": {},
   "outputs": [],
   "source": [
    "def run_typing_test(verse_number, results_table, test_type = 'v2'):\n",
    "    '''This function calculates how quickly the user types the characters\n",
    "    passed to the Bible verse represented by verse_number, then saves those \n",
    "    results to the DataFrame passed to results_table.'''\n",
    "\n",
    "    # Retrieving the verse to be typed:\n",
    "    # The index begins at 0 whereas the list of verse numbers begins at 1,\n",
    "    # so we'll need to subtract 1 from verse_number in order to obtain\n",
    "    # the verse's index.\n",
    "    verse = df_Bible.iloc[verse_number-1]['Verse']\n",
    "    book = df_Bible.iloc[verse_number-1]['Book_Name']\n",
    "    chapter = df_Bible.iloc[verse_number-1]['Chapter_Name']\n",
    "    verse_number_within_chapter = df_Bible.iloc[verse_number-1]['Verse_#']\n",
    "    verse_number_within_Bible = df_Bible.iloc[\n",
    "        verse_number-1]['Verse_Order']\n",
    "    \n",
    "    # I moved these introductory comments out of the following while loop\n",
    "    # in order to simplify the dialogue presented to users during retest\n",
    "    # attempts.\n",
    "    print(\"Welcome to the typing test! Note that you can exit a test in \\\n",
    "progress by typing 'exit' and then hitting Enter.\")\n",
    "    print(f\"\\nYour verse to type is {book} \\\n",
    "{chapter}:{verse_number_within_chapter} (verse {verse_number_within_Bible} \\\n",
    "within the Bible .csv file).\\n\")\n",
    "    if run_on_notebook == False:\n",
    "        print(\"Press any key to begin typing!\")\n",
    "    else:\n",
    "        print(\"Press Enter to begin the test!\")\n",
    "    \n",
    "    complete_flag = 0\n",
    "    while complete_flag == 0:\n",
    "        print(f\"Here is the verse:\\n\\n{verse}\") \n",
    "\n",
    "        if run_on_notebook == False: # In this case, we can use getch()\n",
    "            # to begin the test.\n",
    "        # time.sleep(3) # I realized that players could actually begin typing\n",
    "        # during this sleep period, thus allowing them to complete the test\n",
    "        # faster than intended. Therefore, I'm now having the test start\n",
    "        # after the player hits a character of his/her choice. getch()\n",
    "        # accomplishes this task well.\n",
    "        # A simpler approach would be to add in an additional input block\n",
    "        # and have the player begin after he/she presses Enter, but that would\n",
    "        # cause the player's right hand to leave the default home row position,\n",
    "        # which could end up slowing him/her down. getch() allows any character\n",
    "        # to be pressed (such as the space bar) and thus avoids this issue.\n",
    "\n",
    "            start_character = getch() # See https://github.com/joeyespo/py-getch\n",
    "        \n",
    "        else: # When running the program within a Jupyter notebook, I wasn't\n",
    "            # able to enter input after getch() was called, so I created\n",
    "            # an alternative start method below that simply uses input().\n",
    "            input()\n",
    "\n",
    "        print(\"Start!\")      \n",
    "        if test_type == 'v1': \n",
    "            # This is a simple typing test setup that receives input from\n",
    "            # the user when 'Enter' is pressed, then checks that input\n",
    "            # against the verse. Because it doesn't check the response\n",
    "            # for accuracy as the player types, the player might not realize\n",
    "            # a character was mistyped until the very end, which can get\n",
    "            # frustrating. Therefore, I've now added in a new version\n",
    "            # of the test (called 'v2') that can be used instead. \n",
    "            local_start_time = datetime.now().isoformat()\n",
    "            utc_start_time = datetime.now(timezone.utc).isoformat()\n",
    "            typing_start_time = time.time()\n",
    "            verse_response = input() \n",
    "            # The following code will execute once the player finishes typing and\n",
    "            # hits Enter. (Having the program evaluate the player's entry only after\n",
    "            # 'Enter' is pressed isn't the best option, as the time required to\n",
    "            # hit Enter will reduce the player's reported WPM. Version v2, \n",
    "            # shown below, stops the test right when the final correct\n",
    "            # character is typed, which will make the final WPM slightly faster.\n",
    "            typing_end_time = time.time()\n",
    "            typing_time = typing_end_time - typing_start_time\n",
    "\n",
    "        elif test_type == 'v2':\n",
    "            # This version of the test checks the player's input after\n",
    "            # each character is typed. If the player's input is correct\n",
    "            # so far, the text will be highlighted green; otherwise,\n",
    "            # it will be highlighted red. (This allows the player to be \n",
    "            # notified of an error without the need for a line break\n",
    "            # in the console, which could prove distracting.)\n",
    "            # This function has been tested on Windows, but not yet \n",
    "            # on Mac or Linux. The use of the Colorama library should\n",
    "            # make it cross-platform, however.\n",
    "            verse_response = '' # This string will store the player's \n",
    "            # response.\n",
    "            local_start_time = datetime.now().isoformat()\n",
    "            utc_start_time = datetime.now(timezone.utc).isoformat()\n",
    "            typing_start_time = time.time()\n",
    "            while True: # This while loop allows the player to enter\n",
    "                # multiple characters.\n",
    "                # to allow the player to enter \n",
    "                character = getch() # getch() allows each character to be \n",
    "                # checked, making it easier to identify mistyped words.\n",
    "                if character == b'\\x08': \n",
    "                    # This will return True if the user hits backspace.\n",
    "                    # In this case, we'll want to remove the latest character\n",
    "                    # from verse_response in order to keep that value\n",
    "                    # in sync with what the player sees on the screen.\n",
    "                    # Calling print(character) after\n",
    "                    # hitting backspace revealed that b'\\x08' was the code\n",
    "                    # associated with the backspace key. \n",
    "                    verse_response = verse_response[:-1] # Trims the last\n",
    "                    # value off verse_response.\n",
    "                elif character == b'\\r': # Returns True if the user hits Enter.\n",
    "                    print(Style.RESET_ALL) # Resets the color of the text.\n",
    "                    # See https://pypi.org/project/colorama/\n",
    "                    break # Exits out of the test. This way, the user can\n",
    "                    # leave a test without having to complete the whole\n",
    "                    # verse. Note that, as with version v1 of the test,\n",
    "                    # writing 'exit' followed by Enter will allow the player\n",
    "                    # to return out of this function.\n",
    "                else: \n",
    "                    # The following line adds the latest character typed\n",
    "                    # to verse_response.\n",
    "                    verse_response += character.decode('ascii') \n",
    "                # See https://stackoverflow.com/questions/17615414/how-to-convert-binary-string-to-normal-string-in-python3\n",
    "\n",
    "                # Determining which color to use for the text:\n",
    "                if verse[0:len(verse_response)] == verse_response:\n",
    "                    text_color = Fore.GREEN\n",
    "                else:\n",
    "                    text_color = Fore.RED \n",
    "                \n",
    "                # Printing the player's response so far: (Note that \n",
    "                # verse_response gets printed instead of the last character.\n",
    "                # The addition of 'end = \"\\r\", flush = True' to the print()\n",
    "                # call allows characters to get displayed immediately\n",
    "                # after one another rather than on separate lines.\n",
    "                print(f\"{text_color}{verse_response}\", end = \"\\r\", flush = True)\n",
    "                # The 'end' and 'flush' arguments are \n",
    "                # Based on https://stackoverflow.com/a/69030559/13097194\n",
    "                # For the use of Colorama to produce red and green text, see\n",
    "                # https://pypi.org/project/colorama/\n",
    "                # and https://stackoverflow.com/a/3332860/13097194\n",
    "                if verse_response == verse: # Note that, unlike with version\n",
    "                    # v1, the player does not need to hit 'Enter' in order\n",
    "                    # to end the typing test after writing a completed\n",
    "                    # verse. This should speed up his/her WPM as a result.\n",
    "                    typing_end_time = time.time()\n",
    "                    typing_time = typing_end_time - typing_start_time\n",
    "                    print(\"\\nSuccess!\")\n",
    "                    print(Style.RESET_ALL)\n",
    "                    break\n",
    "\n",
    "        if verse_response == verse:\n",
    "            print(f\"Well done! You typed the verse correctly.\")\n",
    "            complete_flag = 1 # Setting this flag to 1 allows the player to exit\n",
    "            # out of the while statement.\n",
    "        elif verse_response.lower() == 'exit':\n",
    "            print(\"Exiting typing test.\")\n",
    "            return results_table # Exits the function without saving the \n",
    "            # current test to results_table or df_Bible\n",
    "        else:\n",
    "            print(\"Sorry, that wasn't the correct input.\")   \n",
    "            # Identifying incorrectly typed words:\n",
    "            verse_words = verse.split(' ')\n",
    "            verse_response_words = verse_response.split(' ')[0:len(verse_words)]\n",
    "            # I added in the [0:len(verse_words)] filter so that the following\n",
    "            # for loop would not attempt to access more words that were \n",
    "            # present in the original verse (which would cause the game\n",
    "            # to crash with an IndexError).\n",
    "            for i in range(len(verse_response_words)):\n",
    "                if verse_response_words[i] != verse_words[i]:\n",
    "                    print(f\"Word number {i} ('{verse_words[i]}') \\\n",
    "was typed '{verse_response_words[i]}'.\")\n",
    "                    # If the response has more or fewer words than the original\n",
    "                    # verse, some correctly typed words might appear within\n",
    "                    # this list also.\n",
    "            print(\"Try again!\") # complete_flag will still be 0 in this case,\n",
    "            # so the while loop will continue back to the beginning.\n",
    "\n",
    "    # Calculating typing statistics and storing them within a single-row\n",
    "    # DataFrame:\n",
    "\n",
    "    cps = len(verse) / typing_time # Calculating characters per second\n",
    "    wpm = cps * 12 # Multiplying by 60 to convert from characters to minutes, \n",
    "    # then dividing by 5 to convert from characters to words.\n",
    "    wpm\n",
    "\n",
    "    print(f\"Your CPS and WPM were {round(cps, 3)} and {round(wpm, 3)}, \\\n",
    "respectively.\")\n",
    "\n",
    "    # Creating a single-row DataFrame that stores the player's results:\n",
    "    df_latest_result = pd.DataFrame(index = [\n",
    "        len(results_table)+1], data = {'Unix_Start_Time':typing_start_time, \n",
    "    'Local_Start_Time':local_start_time,\n",
    "    'UTC_Start_Time':utc_start_time,\n",
    "    'Characters':len(verse),\n",
    "    'Seconds':typing_time, \n",
    "    'CPS': cps,\n",
    "    'WPM':wpm,\n",
    "    'Book': book,\n",
    "    'Chapter': chapter,\n",
    "    'Verse #': verse_number_within_chapter,\n",
    "    'Verse':verse, \n",
    "    'Verse_Order':verse_number_within_Bible})\n",
    "    df_latest_result.index.name = 'Test_Number'\n",
    "    df_latest_result\n",
    "\n",
    "    # Adding this new row to results_table:\n",
    "    results_table = pd.concat([results_table, df_latest_result])\\\n",
    "    \n",
    "    # Note: I could also have used df.at or df.iloc to add a new row\n",
    "    # to df_latest_result, but I chose a pd.concat() setup in order to ensure\n",
    "    # that the latest result would never overwrite an earlier result.\n",
    "    \n",
    "\n",
    "    # Updating df_Bible to store the player's results: (This will allow the\n",
    "    # player to track how much of the Bible he/she has typed so far)\n",
    "    df_Bible.at[verse_number-1, 'Typed'] = 1 # Denotes that this verse\n",
    "    # has now ben typed\n",
    "    df_Bible.at[verse_number-1, 'Tests'] += 1 # Keeps track of how \n",
    "    # many times this verse has been typed\n",
    "    fastest_wpm = df_Bible.at[verse_number-1, 'Fastest_WPM']\n",
    "    if ((pd.isna(fastest_wpm) == True) | (wpm > fastest_wpm)): \n",
    "        # In these cases, we should replace the pre-existing Fastest_WPM value\n",
    "        # with the WPM the player just achieved.\n",
    "        # I found that 5 > np.NaN returned False, so if I only checked for\n",
    "        # wpm > fastest_wpm, blank fastest_wpm values would never get overwritten.\n",
    "        # Therefore, I chose to also check for NaN values \n",
    "        # in the above if statement.\n",
    "        df_Bible.at[verse_number-1, 'Fastest_WPM'] = wpm\n",
    "\n",
    "    return results_table\n"
   ]
  },
  {
   "cell_type": "code",
   "execution_count": 12,
   "metadata": {},
   "outputs": [],
   "source": [
    "# run_typing_test(1, results_table=df_results)"
   ]
  },
  {
   "cell_type": "code",
   "execution_count": 13,
   "metadata": {},
   "outputs": [],
   "source": [
    "def select_subsequent_verse(previous_verse_number):\n",
    "    '''This function allows the player to specify which verse to\n",
    "    type next, or, alternatively, to exit the game.'''\n",
    "    print(\"Press 0 to retry the verse you just typed; \\\n",
    "1 to type the next verse; 2 to type the next verse that hasn't yet been typed; \\\n",
    "3 to select a different verse; \\\n",
    "or -1 to save your results and exit.\")\n",
    "    while True: \n",
    "            try:\n",
    "                response = int(input())\n",
    "            except: # The user didn't enter a number.\n",
    "                print(\"Please enter a number.\")      \n",
    "                continue\n",
    "            if response == 0:\n",
    "                return previous_verse_number\n",
    "            elif response == 1:\n",
    "                if previous_verse_number == 35379: # The verse order value\n",
    "                    # corresponding to the final verse of Revelation\n",
    "                    print(\"You just typed the last verse in the Bible, so \\\n",
    "there's no next verse to type! Please enter an option other than 1.\\n\")\n",
    "                    continue\n",
    "                else:\n",
    "                    return previous_verse_number + 1\n",
    "            elif response == 2:\n",
    "                # In this case, we'll retrieve a list of verses that haven't\n",
    "                # yet been typed; filter that list to include only verses\n",
    "                # greater than previous_verse_number; and then select\n",
    "                # the first verse within that list (i.e. the next \n",
    "                # untyped verse).\n",
    "                verses_not_yet_typed = list(df_Bible.query(\n",
    "                    \"Typed == 0\")['Verse_Order'].copy())\n",
    "                if len(verses_not_yet_typed) == 0:\n",
    "                    print(\"Congratulations! You have typed all verses from \\\n",
    "the Bible, so there are no new verses to type! Try selecting another option \\\n",
    "instead.\")\n",
    "                    continue\n",
    "                print(f\"{len(verses_not_yet_typed)} verses have not yet \\\n",
    "been typed.\")\n",
    "                verses_not_yet_typed.sort() \n",
    "                next_untyped_verses = [verse for verse in verses_not_yet_typed \n",
    "                if verse > previous_verse_number]\n",
    "                return next_untyped_verses[0]\n",
    "            elif response == 3:\n",
    "                return select_verse()\n",
    "            elif response == -1:\n",
    "                return response\n",
    "            else: # A number other than -1, 0, 1, 2, or 3 was passed.\n",
    "                print(\"Please enter either -1, 0, 1, 2, or 3.\\n\")  "
   ]
  },
  {
   "cell_type": "code",
   "execution_count": 14,
   "metadata": {},
   "outputs": [],
   "source": [
    "def calculate_current_day_results(df):\n",
    "    ''' This function reports the number of characters, total verses, and \n",
    "    unique verses that the player has typed so far today.'''\n",
    "    df_current_day_results = df[pd.to_datetime(\n",
    "        df['Local_Start_Time']).dt.date == datetime.today().date()].copy()\n",
    "    if len(df_current_day_results) == 0:\n",
    "        result_string = \"You haven't typed any Bible verses yet today.\"\n",
    "    else:\n",
    "        characters_typed_today = df_current_day_results['Characters'].sum()\n",
    "        total_verses_typed_today = len(df_current_day_results)\n",
    "\n",
    "        # Allowing for both singular and plural versions of 'verse' to \n",
    "        # be displayed:\n",
    "        if total_verses_typed_today == 1:\n",
    "            total_verses_string = 'verse'\n",
    "        else:\n",
    "            total_verses_string = 'verses'\n",
    "\n",
    "        unique_verses_typed_today = len(df_current_day_results[\n",
    "            'Verse_Order'].unique())\n",
    "\n",
    "        if unique_verses_typed_today == 1:\n",
    "            unique_verses_string = 'verse'\n",
    "        else:\n",
    "            unique_verses_string = 'verses'\n",
    "\n",
    "        average_wpm_today = round(df_current_day_results['WPM'].mean(), 3)\n",
    "        median_wpm_today = round(df_current_day_results['WPM'].median(), 3)\n",
    "        result_string = f\"So far today, you have typed \\\n",
    "{characters_typed_today} characters from {total_verses_typed_today} Bible \\\n",
    "{total_verses_string} (including {unique_verses_typed_today} unique \\\n",
    "{unique_verses_string}). Your mean and median WPM today are \\\n",
    "{average_wpm_today} and {median_wpm_today}, respectively.\"\n",
    "    return result_string"
   ]
  },
  {
   "cell_type": "code",
   "execution_count": null,
   "metadata": {},
   "outputs": [],
   "source": []
  },
  {
   "cell_type": "code",
   "execution_count": 99,
   "metadata": {},
   "outputs": [],
   "source": [
    "def run_game(results_table):\n",
    "    '''This function runs Type Through the Bible by \n",
    "    calling various other functions. It allows users to select\n",
    "    verses to type, then runs typing tests and stores the results in\n",
    "    the DataFrame passed to results_table.'''\n",
    "    \n",
    "    print(\"Welcome to Type Through the Bible!\")\n",
    "    # The game will now share the player's progress for the current day:\n",
    "    print(calculate_current_day_results(results_table))\n",
    "\n",
    "    print(\"To switch to a simpler typing test method that doesn't \\\n",
    "check your input as you type, enter v1. Otherwise, to stick with the \\\n",
    "recommended version, press Enter.\")\n",
    "    response = input()\n",
    "    if (response == 'v1') or (run_on_notebook == True): # Version 2 likely\n",
    "        # won't work within Jupyter notebooks, \n",
    "        # so the version will always be kept as v1 for notebook users.\n",
    "        typing_test_version = 'v1'\n",
    "    else:\n",
    "        typing_test_version = 'v2'\n",
    "\n",
    "\n",
    "    verse_number = select_verse()\n",
    "    \n",
    "\n",
    "    while True: # Allows the game to continue until the user exits\n",
    "        results_table = run_typing_test(verse_number=verse_number, \n",
    "        results_table=results_table, test_type = typing_test_version)\n",
    "        # The game will next share an updated progress report:\n",
    "        print(calculate_current_day_results(results_table))\n",
    "        \n",
    "        # The player will now be prompted to select a new verse number \n",
    "        # (or to save and quit). This verse_number, provided it is not -1,\n",
    "        # will then be passed back to run_typing_test().\n",
    "        verse_number = select_subsequent_verse(\n",
    "            previous_verse_number=verse_number)\n",
    "        if verse_number == -1: # In this case, the game will quit and the \n",
    "            # user's new test results will be saved to results_table.\n",
    "            return results_table "
   ]
  },
  {
   "cell_type": "code",
   "execution_count": 16,
   "metadata": {},
   "outputs": [
    {
     "name": "stdout",
     "output_type": "stream",
     "text": [
      "Welcome to Type Through the Bible!\n",
      "You haven't typed any Bible verses yet today.\n",
      "Select a verse to type! Enter 0 to receive a random verse\n",
      "or enter a verse number (see 'Verse_Order column of\n",
      "the WEB_Catholic_Version.csv spreadsheet for a list of numbers to enter\n",
      "to select a specific verse.\n",
      "You can also enter -2 to receive a random verse that you haven't yet typed\n",
      "or -3 to choose the first Bible verse that hasn't yet been typed.\n",
      "34678 verses have not yet been typed.\n",
      "Welcome to the typing test! Note that you can exit a test in progress by entering 'exit.'\n",
      "\n",
      "Your verse to type is GEN 22:20 (verse 568 within the Bible .csv file).\n",
      "\n",
      "Press Enter to begin the test!\n",
      "Here is the verse:\n",
      "\n",
      "After these things, Abraham was told, \"Behold, Milcah, she also has borne children to your brother Nahor:\n",
      "Start!\n",
      "Sorry, that wasn't the correct input.\n",
      "Word number 0 ('After') was typed '\"AFter'.\n",
      "Word number 16 ('Nahor:') was typed 'Nahor:\"'.\n",
      "Try again!\n",
      "Here is the verse:\n",
      "\n",
      "After these things, Abraham was told, \"Behold, Milcah, she also has borne children to your brother Nahor:\n",
      "Start!\n",
      "Exiting typing test.\n",
      "You haven't typed any Bible verses yet today.\n",
      "Press 0 to retry the verse you just typed; 1 to type the next verse; 2 to type the next verse that hasn't yet been typed; 3 to select a different verse; or -1 to save your results and exit.\n",
      "Please enter a number.\n"
     ]
    }
   ],
   "source": [
    "df_results = run_game(results_table = df_results)"
   ]
  },
  {
   "cell_type": "code",
   "execution_count": 17,
   "metadata": {},
   "outputs": [],
   "source": [
    "# Updating certain df_Bible columns to reflect new results:"
   ]
  },
  {
   "cell_type": "code",
   "execution_count": 18,
   "metadata": {},
   "outputs": [
    {
     "data": {
      "text/html": [
       "<div>\n",
       "<style scoped>\n",
       "    .dataframe tbody tr th:only-of-type {\n",
       "        vertical-align: middle;\n",
       "    }\n",
       "\n",
       "    .dataframe tbody tr th {\n",
       "        vertical-align: top;\n",
       "    }\n",
       "\n",
       "    .dataframe thead th {\n",
       "        text-align: right;\n",
       "    }\n",
       "</style>\n",
       "<table border=\"1\" class=\"dataframe\">\n",
       "  <thead>\n",
       "    <tr style=\"text-align: right;\">\n",
       "      <th></th>\n",
       "      <th>Book_Order</th>\n",
       "      <th>Book_Name</th>\n",
       "      <th>Chapter_Name</th>\n",
       "      <th>Book_and_Chapter</th>\n",
       "      <th>Chapter_Order</th>\n",
       "      <th>Verse_#</th>\n",
       "      <th>Verse_Order</th>\n",
       "      <th>Verse</th>\n",
       "      <th>Characters</th>\n",
       "      <th>Typed</th>\n",
       "      <th>Tests</th>\n",
       "      <th>Fastest_WPM</th>\n",
       "      <th>Characters_Typed</th>\n",
       "      <th>Total_Characters_Typed</th>\n",
       "      <th>Count</th>\n",
       "    </tr>\n",
       "  </thead>\n",
       "  <tbody>\n",
       "    <tr>\n",
       "      <th>0</th>\n",
       "      <td>1</td>\n",
       "      <td>GEN</td>\n",
       "      <td>1</td>\n",
       "      <td>GEN 1</td>\n",
       "      <td>1</td>\n",
       "      <td>1</td>\n",
       "      <td>1</td>\n",
       "      <td>In the beginning, God created the heavens and ...</td>\n",
       "      <td>56</td>\n",
       "      <td>1</td>\n",
       "      <td>8</td>\n",
       "      <td>193.251509</td>\n",
       "      <td>56</td>\n",
       "      <td>448</td>\n",
       "      <td>1</td>\n",
       "    </tr>\n",
       "    <tr>\n",
       "      <th>1</th>\n",
       "      <td>1</td>\n",
       "      <td>GEN</td>\n",
       "      <td>1</td>\n",
       "      <td>GEN 1</td>\n",
       "      <td>1</td>\n",
       "      <td>2</td>\n",
       "      <td>2</td>\n",
       "      <td>The earth was formless and empty. Darkness was...</td>\n",
       "      <td>135</td>\n",
       "      <td>1</td>\n",
       "      <td>2</td>\n",
       "      <td>140.461827</td>\n",
       "      <td>135</td>\n",
       "      <td>270</td>\n",
       "      <td>1</td>\n",
       "    </tr>\n",
       "    <tr>\n",
       "      <th>2</th>\n",
       "      <td>1</td>\n",
       "      <td>GEN</td>\n",
       "      <td>1</td>\n",
       "      <td>GEN 1</td>\n",
       "      <td>1</td>\n",
       "      <td>3</td>\n",
       "      <td>3</td>\n",
       "      <td>God said, \"Let there be light,\" and there was ...</td>\n",
       "      <td>52</td>\n",
       "      <td>1</td>\n",
       "      <td>1</td>\n",
       "      <td>84.008493</td>\n",
       "      <td>52</td>\n",
       "      <td>52</td>\n",
       "      <td>1</td>\n",
       "    </tr>\n",
       "    <tr>\n",
       "      <th>3</th>\n",
       "      <td>1</td>\n",
       "      <td>GEN</td>\n",
       "      <td>1</td>\n",
       "      <td>GEN 1</td>\n",
       "      <td>1</td>\n",
       "      <td>4</td>\n",
       "      <td>4</td>\n",
       "      <td>God saw the light, and saw that it was good. G...</td>\n",
       "      <td>85</td>\n",
       "      <td>1</td>\n",
       "      <td>1</td>\n",
       "      <td>123.198378</td>\n",
       "      <td>85</td>\n",
       "      <td>85</td>\n",
       "      <td>1</td>\n",
       "    </tr>\n",
       "    <tr>\n",
       "      <th>4</th>\n",
       "      <td>1</td>\n",
       "      <td>GEN</td>\n",
       "      <td>1</td>\n",
       "      <td>GEN 1</td>\n",
       "      <td>1</td>\n",
       "      <td>5</td>\n",
       "      <td>5</td>\n",
       "      <td>God called the light \"day\", and the darkness h...</td>\n",
       "      <td>119</td>\n",
       "      <td>1</td>\n",
       "      <td>1</td>\n",
       "      <td>135.664272</td>\n",
       "      <td>119</td>\n",
       "      <td>119</td>\n",
       "      <td>1</td>\n",
       "    </tr>\n",
       "    <tr>\n",
       "      <th>...</th>\n",
       "      <td>...</td>\n",
       "      <td>...</td>\n",
       "      <td>...</td>\n",
       "      <td>...</td>\n",
       "      <td>...</td>\n",
       "      <td>...</td>\n",
       "      <td>...</td>\n",
       "      <td>...</td>\n",
       "      <td>...</td>\n",
       "      <td>...</td>\n",
       "      <td>...</td>\n",
       "      <td>...</td>\n",
       "      <td>...</td>\n",
       "      <td>...</td>\n",
       "      <td>...</td>\n",
       "    </tr>\n",
       "    <tr>\n",
       "      <th>35374</th>\n",
       "      <td>95</td>\n",
       "      <td>REV</td>\n",
       "      <td>22</td>\n",
       "      <td>REV 22</td>\n",
       "      <td>1328</td>\n",
       "      <td>17</td>\n",
       "      <td>35375</td>\n",
       "      <td>The Spirit and the bride say, \"Come!\" He who h...</td>\n",
       "      <td>160</td>\n",
       "      <td>0</td>\n",
       "      <td>0</td>\n",
       "      <td>NaN</td>\n",
       "      <td>0</td>\n",
       "      <td>0</td>\n",
       "      <td>1</td>\n",
       "    </tr>\n",
       "    <tr>\n",
       "      <th>35375</th>\n",
       "      <td>95</td>\n",
       "      <td>REV</td>\n",
       "      <td>22</td>\n",
       "      <td>REV 22</td>\n",
       "      <td>1328</td>\n",
       "      <td>18</td>\n",
       "      <td>35376</td>\n",
       "      <td>I testify to everyone who hears the words of t...</td>\n",
       "      <td>159</td>\n",
       "      <td>0</td>\n",
       "      <td>0</td>\n",
       "      <td>NaN</td>\n",
       "      <td>0</td>\n",
       "      <td>0</td>\n",
       "      <td>1</td>\n",
       "    </tr>\n",
       "    <tr>\n",
       "      <th>35376</th>\n",
       "      <td>95</td>\n",
       "      <td>REV</td>\n",
       "      <td>22</td>\n",
       "      <td>REV 22</td>\n",
       "      <td>1328</td>\n",
       "      <td>19</td>\n",
       "      <td>35377</td>\n",
       "      <td>If anyone takes away from the words of the boo...</td>\n",
       "      <td>174</td>\n",
       "      <td>0</td>\n",
       "      <td>0</td>\n",
       "      <td>NaN</td>\n",
       "      <td>0</td>\n",
       "      <td>0</td>\n",
       "      <td>1</td>\n",
       "    </tr>\n",
       "    <tr>\n",
       "      <th>35377</th>\n",
       "      <td>95</td>\n",
       "      <td>REV</td>\n",
       "      <td>22</td>\n",
       "      <td>REV 22</td>\n",
       "      <td>1328</td>\n",
       "      <td>20</td>\n",
       "      <td>35378</td>\n",
       "      <td>He who testifies these things says, \"Yes, I am...</td>\n",
       "      <td>89</td>\n",
       "      <td>0</td>\n",
       "      <td>0</td>\n",
       "      <td>NaN</td>\n",
       "      <td>0</td>\n",
       "      <td>0</td>\n",
       "      <td>1</td>\n",
       "    </tr>\n",
       "    <tr>\n",
       "      <th>35378</th>\n",
       "      <td>95</td>\n",
       "      <td>REV</td>\n",
       "      <td>22</td>\n",
       "      <td>REV 22</td>\n",
       "      <td>1328</td>\n",
       "      <td>21</td>\n",
       "      <td>35379</td>\n",
       "      <td>The grace of the Lord Jesus Christ be with all...</td>\n",
       "      <td>64</td>\n",
       "      <td>1</td>\n",
       "      <td>1</td>\n",
       "      <td>161.093106</td>\n",
       "      <td>64</td>\n",
       "      <td>64</td>\n",
       "      <td>1</td>\n",
       "    </tr>\n",
       "  </tbody>\n",
       "</table>\n",
       "<p>35379 rows × 15 columns</p>\n",
       "</div>"
      ],
      "text/plain": [
       "       Book_Order Book_Name  Chapter_Name Book_and_Chapter  Chapter_Order  \\\n",
       "0               1       GEN             1            GEN 1              1   \n",
       "1               1       GEN             1            GEN 1              1   \n",
       "2               1       GEN             1            GEN 1              1   \n",
       "3               1       GEN             1            GEN 1              1   \n",
       "4               1       GEN             1            GEN 1              1   \n",
       "...           ...       ...           ...              ...            ...   \n",
       "35374          95       REV            22           REV 22           1328   \n",
       "35375          95       REV            22           REV 22           1328   \n",
       "35376          95       REV            22           REV 22           1328   \n",
       "35377          95       REV            22           REV 22           1328   \n",
       "35378          95       REV            22           REV 22           1328   \n",
       "\n",
       "       Verse_#  Verse_Order  \\\n",
       "0            1            1   \n",
       "1            2            2   \n",
       "2            3            3   \n",
       "3            4            4   \n",
       "4            5            5   \n",
       "...        ...          ...   \n",
       "35374       17        35375   \n",
       "35375       18        35376   \n",
       "35376       19        35377   \n",
       "35377       20        35378   \n",
       "35378       21        35379   \n",
       "\n",
       "                                                   Verse  Characters  Typed  \\\n",
       "0      In the beginning, God created the heavens and ...          56      1   \n",
       "1      The earth was formless and empty. Darkness was...         135      1   \n",
       "2      God said, \"Let there be light,\" and there was ...          52      1   \n",
       "3      God saw the light, and saw that it was good. G...          85      1   \n",
       "4      God called the light \"day\", and the darkness h...         119      1   \n",
       "...                                                  ...         ...    ...   \n",
       "35374  The Spirit and the bride say, \"Come!\" He who h...         160      0   \n",
       "35375  I testify to everyone who hears the words of t...         159      0   \n",
       "35376  If anyone takes away from the words of the boo...         174      0   \n",
       "35377  He who testifies these things says, \"Yes, I am...          89      0   \n",
       "35378  The grace of the Lord Jesus Christ be with all...          64      1   \n",
       "\n",
       "       Tests  Fastest_WPM  Characters_Typed  Total_Characters_Typed  Count  \n",
       "0          8   193.251509                56                     448      1  \n",
       "1          2   140.461827               135                     270      1  \n",
       "2          1    84.008493                52                      52      1  \n",
       "3          1   123.198378                85                      85      1  \n",
       "4          1   135.664272               119                     119      1  \n",
       "...      ...          ...               ...                     ...    ...  \n",
       "35374      0          NaN                 0                       0      1  \n",
       "35375      0          NaN                 0                       0      1  \n",
       "35376      0          NaN                 0                       0      1  \n",
       "35377      0          NaN                 0                       0      1  \n",
       "35378      1   161.093106                64                      64      1  \n",
       "\n",
       "[35379 rows x 15 columns]"
      ]
     },
     "execution_count": 18,
     "metadata": {},
     "output_type": "execute_result"
    }
   ],
   "source": [
    "df_Bible['Characters_Typed'] = df_Bible['Characters'] * df_Bible['Typed']\n",
    "df_Bible['Total_Characters_Typed'] = df_Bible['Characters'] * df_Bible['Tests']\n",
    "df_Bible"
   ]
  },
  {
   "cell_type": "code",
   "execution_count": 19,
   "metadata": {},
   "outputs": [
    {
     "name": "stdout",
     "output_type": "stream",
     "text": [
      "You have typed 82378 characters so far, which represents 1.82731% of the Bible.\n"
     ]
    }
   ],
   "source": [
    "characters_typed_sum = df_Bible['Characters_Typed'].sum()\n",
    "proportion_of_Bible_typed = characters_typed_sum / df_Bible['Characters'].sum()\n",
    "\n",
    "print(f\"You have typed {characters_typed_sum} characters so far, which represents \\\n",
    "{round(100*proportion_of_Bible_typed, 4)}% of the Bible.\")\n",
    "\n"
   ]
  },
  {
   "cell_type": "markdown",
   "metadata": {},
   "source": [
    "# Adding in additional values and statistics to df_results:\n",
    "\n",
    "(The following cell was derived from [this script](https://github.com/kburchfiel/typeracer_data_analyzer/blob/master/typeracer_data_analyzer_v2.ipynb) that I wrote.)\n",
    "\n",
    "These statistics will get recreated whenever the script is run; this approach allows for the results to be revised as needed (e.g. if certain rows are removed from the dataset)."
   ]
  },
  {
   "cell_type": "code",
   "execution_count": 20,
   "metadata": {},
   "outputs": [
    {
     "data": {
      "text/html": [
       "<div>\n",
       "<style scoped>\n",
       "    .dataframe tbody tr th:only-of-type {\n",
       "        vertical-align: middle;\n",
       "    }\n",
       "\n",
       "    .dataframe tbody tr th {\n",
       "        vertical-align: top;\n",
       "    }\n",
       "\n",
       "    .dataframe thead th {\n",
       "        text-align: right;\n",
       "    }\n",
       "</style>\n",
       "<table border=\"1\" class=\"dataframe\">\n",
       "  <thead>\n",
       "    <tr style=\"text-align: right;\">\n",
       "      <th></th>\n",
       "      <th>Unix_Start_Time</th>\n",
       "      <th>Local_Start_Time</th>\n",
       "      <th>UTC_Start_Time</th>\n",
       "      <th>Characters</th>\n",
       "      <th>Seconds</th>\n",
       "      <th>CPS</th>\n",
       "      <th>WPM</th>\n",
       "      <th>Book</th>\n",
       "      <th>Chapter</th>\n",
       "      <th>Verse_Order</th>\n",
       "      <th>Verse</th>\n",
       "      <th>Verse #</th>\n",
       "      <th>Last 10 Avg</th>\n",
       "      <th>Last 100 Avg</th>\n",
       "      <th>Last 1000 Avg</th>\n",
       "      <th>cumulative_avg</th>\n",
       "      <th>Local_Year</th>\n",
       "      <th>Local_Month</th>\n",
       "      <th>Local_Hour</th>\n",
       "      <th>Count</th>\n",
       "      <th>Local_Date</th>\n",
       "    </tr>\n",
       "    <tr>\n",
       "      <th>Test_Number</th>\n",
       "      <th></th>\n",
       "      <th></th>\n",
       "      <th></th>\n",
       "      <th></th>\n",
       "      <th></th>\n",
       "      <th></th>\n",
       "      <th></th>\n",
       "      <th></th>\n",
       "      <th></th>\n",
       "      <th></th>\n",
       "      <th></th>\n",
       "      <th></th>\n",
       "      <th></th>\n",
       "      <th></th>\n",
       "      <th></th>\n",
       "      <th></th>\n",
       "      <th></th>\n",
       "      <th></th>\n",
       "      <th></th>\n",
       "      <th></th>\n",
       "      <th></th>\n",
       "    </tr>\n",
       "  </thead>\n",
       "  <tbody>\n",
       "    <tr>\n",
       "      <th>1</th>\n",
       "      <td>1.698121e+09</td>\n",
       "      <td>2023-10-24T00:17:38.017017</td>\n",
       "      <td>2023-10-24T04:17:38.017017+00:00</td>\n",
       "      <td>56</td>\n",
       "      <td>6.571754</td>\n",
       "      <td>8.521317</td>\n",
       "      <td>102.255799</td>\n",
       "      <td>GEN</td>\n",
       "      <td>1</td>\n",
       "      <td>1</td>\n",
       "      <td>In the beginning, God created the heavens and ...</td>\n",
       "      <td>NaN</td>\n",
       "      <td>NaN</td>\n",
       "      <td>NaN</td>\n",
       "      <td>NaN</td>\n",
       "      <td>102.256</td>\n",
       "      <td>2023</td>\n",
       "      <td>10</td>\n",
       "      <td>0</td>\n",
       "      <td>1</td>\n",
       "      <td>2023-10-24</td>\n",
       "    </tr>\n",
       "    <tr>\n",
       "      <th>2</th>\n",
       "      <td>1.698121e+09</td>\n",
       "      <td>2023-10-24T00:18:06.165502</td>\n",
       "      <td>2023-10-24T04:18:06.165502+00:00</td>\n",
       "      <td>135</td>\n",
       "      <td>13.997536</td>\n",
       "      <td>9.644554</td>\n",
       "      <td>115.734653</td>\n",
       "      <td>GEN</td>\n",
       "      <td>1</td>\n",
       "      <td>2</td>\n",
       "      <td>The earth was formless and empty. Darkness was...</td>\n",
       "      <td>NaN</td>\n",
       "      <td>NaN</td>\n",
       "      <td>NaN</td>\n",
       "      <td>NaN</td>\n",
       "      <td>108.995</td>\n",
       "      <td>2023</td>\n",
       "      <td>10</td>\n",
       "      <td>0</td>\n",
       "      <td>1</td>\n",
       "      <td>2023-10-24</td>\n",
       "    </tr>\n",
       "    <tr>\n",
       "      <th>3</th>\n",
       "      <td>1.698121e+09</td>\n",
       "      <td>2023-10-24T00:18:24.381290</td>\n",
       "      <td>2023-10-24T04:18:24.381290+00:00</td>\n",
       "      <td>56</td>\n",
       "      <td>4.714291</td>\n",
       "      <td>11.878774</td>\n",
       "      <td>142.545292</td>\n",
       "      <td>GEN</td>\n",
       "      <td>1</td>\n",
       "      <td>1</td>\n",
       "      <td>In the beginning, God created the heavens and ...</td>\n",
       "      <td>NaN</td>\n",
       "      <td>NaN</td>\n",
       "      <td>NaN</td>\n",
       "      <td>NaN</td>\n",
       "      <td>120.179</td>\n",
       "      <td>2023</td>\n",
       "      <td>10</td>\n",
       "      <td>0</td>\n",
       "      <td>1</td>\n",
       "      <td>2023-10-24</td>\n",
       "    </tr>\n",
       "    <tr>\n",
       "      <th>4</th>\n",
       "      <td>1.698121e+09</td>\n",
       "      <td>2023-10-24T00:21:24.331389</td>\n",
       "      <td>2023-10-24T04:21:24.331389+00:00</td>\n",
       "      <td>56</td>\n",
       "      <td>4.878704</td>\n",
       "      <td>11.478458</td>\n",
       "      <td>137.741497</td>\n",
       "      <td>GEN</td>\n",
       "      <td>1</td>\n",
       "      <td>1</td>\n",
       "      <td>In the beginning, God created the heavens and ...</td>\n",
       "      <td>NaN</td>\n",
       "      <td>NaN</td>\n",
       "      <td>NaN</td>\n",
       "      <td>NaN</td>\n",
       "      <td>124.569</td>\n",
       "      <td>2023</td>\n",
       "      <td>10</td>\n",
       "      <td>0</td>\n",
       "      <td>1</td>\n",
       "      <td>2023-10-24</td>\n",
       "    </tr>\n",
       "    <tr>\n",
       "      <th>5</th>\n",
       "      <td>1.698121e+09</td>\n",
       "      <td>2023-10-24T00:22:03.749152</td>\n",
       "      <td>2023-10-24T04:22:03.749152+00:00</td>\n",
       "      <td>135</td>\n",
       "      <td>19.078445</td>\n",
       "      <td>7.076048</td>\n",
       "      <td>84.912580</td>\n",
       "      <td>GEN</td>\n",
       "      <td>1</td>\n",
       "      <td>2</td>\n",
       "      <td>The earth was formless and empty. Darkness was...</td>\n",
       "      <td>NaN</td>\n",
       "      <td>NaN</td>\n",
       "      <td>NaN</td>\n",
       "      <td>NaN</td>\n",
       "      <td>116.638</td>\n",
       "      <td>2023</td>\n",
       "      <td>10</td>\n",
       "      <td>0</td>\n",
       "      <td>1</td>\n",
       "      <td>2023-10-24</td>\n",
       "    </tr>\n",
       "    <tr>\n",
       "      <th>...</th>\n",
       "      <td>...</td>\n",
       "      <td>...</td>\n",
       "      <td>...</td>\n",
       "      <td>...</td>\n",
       "      <td>...</td>\n",
       "      <td>...</td>\n",
       "      <td>...</td>\n",
       "      <td>...</td>\n",
       "      <td>...</td>\n",
       "      <td>...</td>\n",
       "      <td>...</td>\n",
       "      <td>...</td>\n",
       "      <td>...</td>\n",
       "      <td>...</td>\n",
       "      <td>...</td>\n",
       "      <td>...</td>\n",
       "      <td>...</td>\n",
       "      <td>...</td>\n",
       "      <td>...</td>\n",
       "      <td>...</td>\n",
       "      <td>...</td>\n",
       "    </tr>\n",
       "    <tr>\n",
       "      <th>713</th>\n",
       "      <td>1.699312e+09</td>\n",
       "      <td>2023-11-06T18:08:59.504052</td>\n",
       "      <td>2023-11-06T23:08:59.504052+00:00</td>\n",
       "      <td>62</td>\n",
       "      <td>10.138869</td>\n",
       "      <td>6.115081</td>\n",
       "      <td>73.380967</td>\n",
       "      <td>GEN</td>\n",
       "      <td>22</td>\n",
       "      <td>563</td>\n",
       "      <td>Yahweh's angel called to Abraham a second time...</td>\n",
       "      <td>15.0</td>\n",
       "      <td>124.819574</td>\n",
       "      <td>129.016002</td>\n",
       "      <td>NaN</td>\n",
       "      <td>132.602</td>\n",
       "      <td>2023</td>\n",
       "      <td>11</td>\n",
       "      <td>18</td>\n",
       "      <td>1</td>\n",
       "      <td>2023-11-06</td>\n",
       "    </tr>\n",
       "    <tr>\n",
       "      <th>714</th>\n",
       "      <td>1.699312e+09</td>\n",
       "      <td>2023-11-06T18:09:10.609775</td>\n",
       "      <td>2023-11-06T23:09:10.609775+00:00</td>\n",
       "      <td>131</td>\n",
       "      <td>12.816818</td>\n",
       "      <td>10.220946</td>\n",
       "      <td>122.651348</td>\n",
       "      <td>GEN</td>\n",
       "      <td>22</td>\n",
       "      <td>564</td>\n",
       "      <td>and said, \"'I have sworn by myself,' says Yahw...</td>\n",
       "      <td>16.0</td>\n",
       "      <td>123.880578</td>\n",
       "      <td>128.701799</td>\n",
       "      <td>NaN</td>\n",
       "      <td>132.588</td>\n",
       "      <td>2023</td>\n",
       "      <td>11</td>\n",
       "      <td>18</td>\n",
       "      <td>1</td>\n",
       "      <td>2023-11-06</td>\n",
       "    </tr>\n",
       "    <tr>\n",
       "      <th>715</th>\n",
       "      <td>1.699312e+09</td>\n",
       "      <td>2023-11-06T18:09:25.440950</td>\n",
       "      <td>2023-11-06T23:09:25.440950+00:00</td>\n",
       "      <td>201</td>\n",
       "      <td>15.170887</td>\n",
       "      <td>13.249061</td>\n",
       "      <td>158.988731</td>\n",
       "      <td>GEN</td>\n",
       "      <td>22</td>\n",
       "      <td>565</td>\n",
       "      <td>that I will bless you greatly, and I will mult...</td>\n",
       "      <td>17.0</td>\n",
       "      <td>126.291000</td>\n",
       "      <td>129.254139</td>\n",
       "      <td>NaN</td>\n",
       "      <td>132.625</td>\n",
       "      <td>2023</td>\n",
       "      <td>11</td>\n",
       "      <td>18</td>\n",
       "      <td>1</td>\n",
       "      <td>2023-11-06</td>\n",
       "    </tr>\n",
       "    <tr>\n",
       "      <th>716</th>\n",
       "      <td>1.699312e+09</td>\n",
       "      <td>2023-11-06T18:09:50.607697</td>\n",
       "      <td>2023-11-06T23:09:50.607697+00:00</td>\n",
       "      <td>99</td>\n",
       "      <td>8.920846</td>\n",
       "      <td>11.097603</td>\n",
       "      <td>133.171233</td>\n",
       "      <td>GEN</td>\n",
       "      <td>22</td>\n",
       "      <td>566</td>\n",
       "      <td>All the nations of the earth will be blessed b...</td>\n",
       "      <td>18.0</td>\n",
       "      <td>126.220336</td>\n",
       "      <td>129.166090</td>\n",
       "      <td>NaN</td>\n",
       "      <td>132.625</td>\n",
       "      <td>2023</td>\n",
       "      <td>11</td>\n",
       "      <td>18</td>\n",
       "      <td>1</td>\n",
       "      <td>2023-11-06</td>\n",
       "    </tr>\n",
       "    <tr>\n",
       "      <th>717</th>\n",
       "      <td>1.699312e+09</td>\n",
       "      <td>2023-11-06T18:10:01.007281</td>\n",
       "      <td>2023-11-06T23:10:01.007281+00:00</td>\n",
       "      <td>114</td>\n",
       "      <td>9.953331</td>\n",
       "      <td>11.453452</td>\n",
       "      <td>137.441419</td>\n",
       "      <td>GEN</td>\n",
       "      <td>22</td>\n",
       "      <td>567</td>\n",
       "      <td>So Abraham returned to his young men, and they...</td>\n",
       "      <td>19.0</td>\n",
       "      <td>125.569146</td>\n",
       "      <td>129.260829</td>\n",
       "      <td>NaN</td>\n",
       "      <td>132.632</td>\n",
       "      <td>2023</td>\n",
       "      <td>11</td>\n",
       "      <td>18</td>\n",
       "      <td>1</td>\n",
       "      <td>2023-11-06</td>\n",
       "    </tr>\n",
       "  </tbody>\n",
       "</table>\n",
       "<p>717 rows × 21 columns</p>\n",
       "</div>"
      ],
      "text/plain": [
       "             Unix_Start_Time            Local_Start_Time  \\\n",
       "Test_Number                                                \n",
       "1               1.698121e+09  2023-10-24T00:17:38.017017   \n",
       "2               1.698121e+09  2023-10-24T00:18:06.165502   \n",
       "3               1.698121e+09  2023-10-24T00:18:24.381290   \n",
       "4               1.698121e+09  2023-10-24T00:21:24.331389   \n",
       "5               1.698121e+09  2023-10-24T00:22:03.749152   \n",
       "...                      ...                         ...   \n",
       "713             1.699312e+09  2023-11-06T18:08:59.504052   \n",
       "714             1.699312e+09  2023-11-06T18:09:10.609775   \n",
       "715             1.699312e+09  2023-11-06T18:09:25.440950   \n",
       "716             1.699312e+09  2023-11-06T18:09:50.607697   \n",
       "717             1.699312e+09  2023-11-06T18:10:01.007281   \n",
       "\n",
       "                               UTC_Start_Time  Characters    Seconds  \\\n",
       "Test_Number                                                            \n",
       "1            2023-10-24T04:17:38.017017+00:00          56   6.571754   \n",
       "2            2023-10-24T04:18:06.165502+00:00         135  13.997536   \n",
       "3            2023-10-24T04:18:24.381290+00:00          56   4.714291   \n",
       "4            2023-10-24T04:21:24.331389+00:00          56   4.878704   \n",
       "5            2023-10-24T04:22:03.749152+00:00         135  19.078445   \n",
       "...                                       ...         ...        ...   \n",
       "713          2023-11-06T23:08:59.504052+00:00          62  10.138869   \n",
       "714          2023-11-06T23:09:10.609775+00:00         131  12.816818   \n",
       "715          2023-11-06T23:09:25.440950+00:00         201  15.170887   \n",
       "716          2023-11-06T23:09:50.607697+00:00          99   8.920846   \n",
       "717          2023-11-06T23:10:01.007281+00:00         114   9.953331   \n",
       "\n",
       "                   CPS         WPM Book  Chapter  Verse_Order  \\\n",
       "Test_Number                                                     \n",
       "1             8.521317  102.255799  GEN        1            1   \n",
       "2             9.644554  115.734653  GEN        1            2   \n",
       "3            11.878774  142.545292  GEN        1            1   \n",
       "4            11.478458  137.741497  GEN        1            1   \n",
       "5             7.076048   84.912580  GEN        1            2   \n",
       "...                ...         ...  ...      ...          ...   \n",
       "713           6.115081   73.380967  GEN       22          563   \n",
       "714          10.220946  122.651348  GEN       22          564   \n",
       "715          13.249061  158.988731  GEN       22          565   \n",
       "716          11.097603  133.171233  GEN       22          566   \n",
       "717          11.453452  137.441419  GEN       22          567   \n",
       "\n",
       "                                                         Verse  Verse #  \\\n",
       "Test_Number                                                               \n",
       "1            In the beginning, God created the heavens and ...      NaN   \n",
       "2            The earth was formless and empty. Darkness was...      NaN   \n",
       "3            In the beginning, God created the heavens and ...      NaN   \n",
       "4            In the beginning, God created the heavens and ...      NaN   \n",
       "5            The earth was formless and empty. Darkness was...      NaN   \n",
       "...                                                        ...      ...   \n",
       "713          Yahweh's angel called to Abraham a second time...     15.0   \n",
       "714          and said, \"'I have sworn by myself,' says Yahw...     16.0   \n",
       "715          that I will bless you greatly, and I will mult...     17.0   \n",
       "716          All the nations of the earth will be blessed b...     18.0   \n",
       "717          So Abraham returned to his young men, and they...     19.0   \n",
       "\n",
       "             Last 10 Avg  Last 100 Avg  Last 1000 Avg  cumulative_avg  \\\n",
       "Test_Number                                                             \n",
       "1                    NaN           NaN            NaN         102.256   \n",
       "2                    NaN           NaN            NaN         108.995   \n",
       "3                    NaN           NaN            NaN         120.179   \n",
       "4                    NaN           NaN            NaN         124.569   \n",
       "5                    NaN           NaN            NaN         116.638   \n",
       "...                  ...           ...            ...             ...   \n",
       "713           124.819574    129.016002            NaN         132.602   \n",
       "714           123.880578    128.701799            NaN         132.588   \n",
       "715           126.291000    129.254139            NaN         132.625   \n",
       "716           126.220336    129.166090            NaN         132.625   \n",
       "717           125.569146    129.260829            NaN         132.632   \n",
       "\n",
       "             Local_Year  Local_Month  Local_Hour  Count  Local_Date  \n",
       "Test_Number                                                          \n",
       "1                  2023           10           0      1  2023-10-24  \n",
       "2                  2023           10           0      1  2023-10-24  \n",
       "3                  2023           10           0      1  2023-10-24  \n",
       "4                  2023           10           0      1  2023-10-24  \n",
       "5                  2023           10           0      1  2023-10-24  \n",
       "...                 ...          ...         ...    ...         ...  \n",
       "713                2023           11          18      1  2023-11-06  \n",
       "714                2023           11          18      1  2023-11-06  \n",
       "715                2023           11          18      1  2023-11-06  \n",
       "716                2023           11          18      1  2023-11-06  \n",
       "717                2023           11          18      1  2023-11-06  \n",
       "\n",
       "[717 rows x 21 columns]"
      ]
     },
     "execution_count": 20,
     "metadata": {},
     "output_type": "execute_result"
    }
   ],
   "source": [
    "df_results['Last 10 Avg'] = df_results['WPM'].rolling(10).mean()\n",
    "df_results['Last 100 Avg'] = df_results['WPM'].rolling(100).mean()\n",
    "df_results['Last 1000 Avg'] = df_results['WPM'].rolling(1000).mean()\n",
    "\n",
    "df_results['Local_Year'] = pd.to_datetime(df_results['Local_Start_Time']).dt.year\n",
    "df_results['Local_Month'] = pd.to_datetime(df_results['Local_Start_Time']).dt.month\n",
    "df_results['Local_Date'] = pd.to_datetime(df_results['Local_Start_Time']).dt.date\n",
    "df_results['Local_Hour'] = pd.to_datetime(df_results['Local_Start_Time']).dt.hour\n",
    "df_results['Count'] = 1 # Useful for pivot tables that analyze test counts\n",
    "# by book, month, etc.\n",
    "\n",
    "# The following line uses a list comprehension to generate a cumulative average\n",
    "# of all WPM scores up until the current race. .iloc searches from 0 to i+1 for\n",
    "# each row so that that row is included in the calculation.\n",
    "df_results['cumulative_avg'] = [round(np.mean(df_results.iloc[0:i+1]['WPM']),\n",
    "3) for i in range(len(df_results))]\n",
    "df_results"
   ]
  },
  {
   "cell_type": "code",
   "execution_count": 21,
   "metadata": {},
   "outputs": [
    {
     "name": "stdout",
     "output_type": "stream",
     "text": [
      "Saving results:\n"
     ]
    }
   ],
   "source": [
    "print(\"Saving results:\")"
   ]
  },
  {
   "cell_type": "code",
   "execution_count": 22,
   "metadata": {},
   "outputs": [],
   "source": [
    "def attempt_save(df, filename, index):\n",
    "    '''This function attempts to save the DataFrame passed to df to the file\n",
    "    specified by filename. It allows players to retry the save operation\n",
    "    if it wasn't initially successful (e.g. because the file was open at \n",
    "    the time), thus preventing them from losing their latest progress.\n",
    "    The index parameter determines whether or not the DataFrame's index\n",
    "    will be included in the .csv export. Set to True for results.csv\n",
    "    but False for Web_Catholic_Version_for_game_updated.csv.'''\n",
    "    while True:\n",
    "        try: \n",
    "            df.to_csv(filename, index = index)\n",
    "            return\n",
    "        except:\n",
    "            print(\"File could not be saved, likely because it is currently open. \\\n",
    "Try closing the file and trying again. Press Enter to retry.\")\n",
    "            input()"
   ]
  },
  {
   "cell_type": "code",
   "execution_count": 23,
   "metadata": {},
   "outputs": [],
   "source": [
    "attempt_save(df_results, 'results.csv', index = True)"
   ]
  },
  {
   "cell_type": "code",
   "execution_count": 24,
   "metadata": {},
   "outputs": [],
   "source": [
    "attempt_save(df_Bible, 'WEB_Catholic_Version_for_game_updated.csv', index = False)"
   ]
  },
  {
   "cell_type": "code",
   "execution_count": 25,
   "metadata": {},
   "outputs": [
    {
     "name": "stdout",
     "output_type": "stream",
     "text": [
      "Successfully saved updated copies of the Results and Bible .csv files.\n"
     ]
    }
   ],
   "source": [
    "print(\"Successfully saved updated copies of the Results and Bible .csv files.\")"
   ]
  },
  {
   "cell_type": "markdown",
   "metadata": {},
   "source": [
    "# Visualizing the player's progress in typing the entire Bible:"
   ]
  },
  {
   "cell_type": "code",
   "execution_count": 26,
   "metadata": {},
   "outputs": [
    {
     "name": "stdout",
     "output_type": "stream",
     "text": [
      "Updating analyses:\n"
     ]
    }
   ],
   "source": [
    "analysis_start_time = time.time() # Allows us to determine how long the\n",
    "# analyses took\n",
    "print(\"Updating analyses:\")"
   ]
  },
  {
   "cell_type": "code",
   "execution_count": 27,
   "metadata": {},
   "outputs": [],
   "source": [
    "df_Bible['Count'] = 1"
   ]
  },
  {
   "cell_type": "markdown",
   "metadata": {},
   "source": [
    "### Creating a tree map within Plotly that visualizes the player's progress in typing the entire Bible:"
   ]
  },
  {
   "cell_type": "code",
   "execution_count": 28,
   "metadata": {},
   "outputs": [],
   "source": [
    "# This code is based on https://plotly.com/python/treemaps/\n",
    "# It's pretty amazing that such a complex visualization can be created using\n",
    "# just one line of code. Thanks Plotly!\n",
    "fig_tree_map_books_chapters_verses = px.treemap(\n",
    "    df_Bible, path = ['Book_Name', 'Chapter_Name', 'Verse_#'], \n",
    "    values = 'Characters', color = 'Typed')\n",
    "# fig_verses_typed"
   ]
  },
  {
   "cell_type": "code",
   "execution_count": 29,
   "metadata": {},
   "outputs": [],
   "source": [
    "fig_tree_map_books_chapters_verses.write_html(\n",
    "    'Analyses/tree_map_books_chapters_verses.html')"
   ]
  },
  {
   "cell_type": "code",
   "execution_count": 30,
   "metadata": {},
   "outputs": [],
   "source": [
    "# # A similar chart that doesn't use the Typed column for color coding:\n",
    "# (This chart, unlike fig_verses_typed above, won't change unless edits are \n",
    "# made to the code itself, so it can be \n",
    "# commented out after being run once.)\n",
    "# fig_Bible_verses.write_html('Bible_tree_map.html')\n",
    "# fig_Bible_verses = px.treemap(df_Bible, path = ['Book_Name', \n",
    "# 'Chapter_Name', 'Verse_#'], values = 'Characters')\n",
    "# fig_Bible_verses"
   ]
  },
  {
   "cell_type": "code",
   "execution_count": 31,
   "metadata": {},
   "outputs": [
    {
     "data": {
      "text/html": [
       "<div>\n",
       "<style scoped>\n",
       "    .dataframe tbody tr th:only-of-type {\n",
       "        vertical-align: middle;\n",
       "    }\n",
       "\n",
       "    .dataframe tbody tr th {\n",
       "        vertical-align: top;\n",
       "    }\n",
       "\n",
       "    .dataframe thead th {\n",
       "        text-align: right;\n",
       "    }\n",
       "</style>\n",
       "<table border=\"1\" class=\"dataframe\">\n",
       "  <thead>\n",
       "    <tr style=\"text-align: right;\">\n",
       "      <th></th>\n",
       "      <th>Book_Order</th>\n",
       "      <th>Book_Name</th>\n",
       "      <th>Chapter_Name</th>\n",
       "      <th>Book_and_Chapter</th>\n",
       "      <th>Chapter_Order</th>\n",
       "      <th>Verse_#</th>\n",
       "      <th>Verse_Order</th>\n",
       "      <th>Verse</th>\n",
       "      <th>Characters</th>\n",
       "      <th>Typed</th>\n",
       "      <th>Tests</th>\n",
       "      <th>Fastest_WPM</th>\n",
       "      <th>Characters_Typed</th>\n",
       "      <th>Total_Characters_Typed</th>\n",
       "      <th>Count</th>\n",
       "    </tr>\n",
       "  </thead>\n",
       "  <tbody>\n",
       "    <tr>\n",
       "      <th>0</th>\n",
       "      <td>1</td>\n",
       "      <td>GEN</td>\n",
       "      <td>1</td>\n",
       "      <td>GEN 1</td>\n",
       "      <td>1</td>\n",
       "      <td>1</td>\n",
       "      <td>1</td>\n",
       "      <td>In the beginning, God created the heavens and ...</td>\n",
       "      <td>56</td>\n",
       "      <td>1</td>\n",
       "      <td>8</td>\n",
       "      <td>193.251509</td>\n",
       "      <td>56</td>\n",
       "      <td>448</td>\n",
       "      <td>1</td>\n",
       "    </tr>\n",
       "    <tr>\n",
       "      <th>1</th>\n",
       "      <td>1</td>\n",
       "      <td>GEN</td>\n",
       "      <td>1</td>\n",
       "      <td>GEN 1</td>\n",
       "      <td>1</td>\n",
       "      <td>2</td>\n",
       "      <td>2</td>\n",
       "      <td>The earth was formless and empty. Darkness was...</td>\n",
       "      <td>135</td>\n",
       "      <td>1</td>\n",
       "      <td>2</td>\n",
       "      <td>140.461827</td>\n",
       "      <td>135</td>\n",
       "      <td>270</td>\n",
       "      <td>1</td>\n",
       "    </tr>\n",
       "    <tr>\n",
       "      <th>2</th>\n",
       "      <td>1</td>\n",
       "      <td>GEN</td>\n",
       "      <td>1</td>\n",
       "      <td>GEN 1</td>\n",
       "      <td>1</td>\n",
       "      <td>3</td>\n",
       "      <td>3</td>\n",
       "      <td>God said, \"Let there be light,\" and there was ...</td>\n",
       "      <td>52</td>\n",
       "      <td>1</td>\n",
       "      <td>1</td>\n",
       "      <td>84.008493</td>\n",
       "      <td>52</td>\n",
       "      <td>52</td>\n",
       "      <td>1</td>\n",
       "    </tr>\n",
       "    <tr>\n",
       "      <th>3</th>\n",
       "      <td>1</td>\n",
       "      <td>GEN</td>\n",
       "      <td>1</td>\n",
       "      <td>GEN 1</td>\n",
       "      <td>1</td>\n",
       "      <td>4</td>\n",
       "      <td>4</td>\n",
       "      <td>God saw the light, and saw that it was good. G...</td>\n",
       "      <td>85</td>\n",
       "      <td>1</td>\n",
       "      <td>1</td>\n",
       "      <td>123.198378</td>\n",
       "      <td>85</td>\n",
       "      <td>85</td>\n",
       "      <td>1</td>\n",
       "    </tr>\n",
       "    <tr>\n",
       "      <th>4</th>\n",
       "      <td>1</td>\n",
       "      <td>GEN</td>\n",
       "      <td>1</td>\n",
       "      <td>GEN 1</td>\n",
       "      <td>1</td>\n",
       "      <td>5</td>\n",
       "      <td>5</td>\n",
       "      <td>God called the light \"day\", and the darkness h...</td>\n",
       "      <td>119</td>\n",
       "      <td>1</td>\n",
       "      <td>1</td>\n",
       "      <td>135.664272</td>\n",
       "      <td>119</td>\n",
       "      <td>119</td>\n",
       "      <td>1</td>\n",
       "    </tr>\n",
       "    <tr>\n",
       "      <th>...</th>\n",
       "      <td>...</td>\n",
       "      <td>...</td>\n",
       "      <td>...</td>\n",
       "      <td>...</td>\n",
       "      <td>...</td>\n",
       "      <td>...</td>\n",
       "      <td>...</td>\n",
       "      <td>...</td>\n",
       "      <td>...</td>\n",
       "      <td>...</td>\n",
       "      <td>...</td>\n",
       "      <td>...</td>\n",
       "      <td>...</td>\n",
       "      <td>...</td>\n",
       "      <td>...</td>\n",
       "    </tr>\n",
       "    <tr>\n",
       "      <th>35374</th>\n",
       "      <td>95</td>\n",
       "      <td>REV</td>\n",
       "      <td>22</td>\n",
       "      <td>REV 22</td>\n",
       "      <td>1328</td>\n",
       "      <td>17</td>\n",
       "      <td>35375</td>\n",
       "      <td>The Spirit and the bride say, \"Come!\" He who h...</td>\n",
       "      <td>160</td>\n",
       "      <td>0</td>\n",
       "      <td>0</td>\n",
       "      <td>NaN</td>\n",
       "      <td>0</td>\n",
       "      <td>0</td>\n",
       "      <td>1</td>\n",
       "    </tr>\n",
       "    <tr>\n",
       "      <th>35375</th>\n",
       "      <td>95</td>\n",
       "      <td>REV</td>\n",
       "      <td>22</td>\n",
       "      <td>REV 22</td>\n",
       "      <td>1328</td>\n",
       "      <td>18</td>\n",
       "      <td>35376</td>\n",
       "      <td>I testify to everyone who hears the words of t...</td>\n",
       "      <td>159</td>\n",
       "      <td>0</td>\n",
       "      <td>0</td>\n",
       "      <td>NaN</td>\n",
       "      <td>0</td>\n",
       "      <td>0</td>\n",
       "      <td>1</td>\n",
       "    </tr>\n",
       "    <tr>\n",
       "      <th>35376</th>\n",
       "      <td>95</td>\n",
       "      <td>REV</td>\n",
       "      <td>22</td>\n",
       "      <td>REV 22</td>\n",
       "      <td>1328</td>\n",
       "      <td>19</td>\n",
       "      <td>35377</td>\n",
       "      <td>If anyone takes away from the words of the boo...</td>\n",
       "      <td>174</td>\n",
       "      <td>0</td>\n",
       "      <td>0</td>\n",
       "      <td>NaN</td>\n",
       "      <td>0</td>\n",
       "      <td>0</td>\n",
       "      <td>1</td>\n",
       "    </tr>\n",
       "    <tr>\n",
       "      <th>35377</th>\n",
       "      <td>95</td>\n",
       "      <td>REV</td>\n",
       "      <td>22</td>\n",
       "      <td>REV 22</td>\n",
       "      <td>1328</td>\n",
       "      <td>20</td>\n",
       "      <td>35378</td>\n",
       "      <td>He who testifies these things says, \"Yes, I am...</td>\n",
       "      <td>89</td>\n",
       "      <td>0</td>\n",
       "      <td>0</td>\n",
       "      <td>NaN</td>\n",
       "      <td>0</td>\n",
       "      <td>0</td>\n",
       "      <td>1</td>\n",
       "    </tr>\n",
       "    <tr>\n",
       "      <th>35378</th>\n",
       "      <td>95</td>\n",
       "      <td>REV</td>\n",
       "      <td>22</td>\n",
       "      <td>REV 22</td>\n",
       "      <td>1328</td>\n",
       "      <td>21</td>\n",
       "      <td>35379</td>\n",
       "      <td>The grace of the Lord Jesus Christ be with all...</td>\n",
       "      <td>64</td>\n",
       "      <td>1</td>\n",
       "      <td>1</td>\n",
       "      <td>161.093106</td>\n",
       "      <td>64</td>\n",
       "      <td>64</td>\n",
       "      <td>1</td>\n",
       "    </tr>\n",
       "  </tbody>\n",
       "</table>\n",
       "<p>35379 rows × 15 columns</p>\n",
       "</div>"
      ],
      "text/plain": [
       "       Book_Order Book_Name  Chapter_Name Book_and_Chapter  Chapter_Order  \\\n",
       "0               1       GEN             1            GEN 1              1   \n",
       "1               1       GEN             1            GEN 1              1   \n",
       "2               1       GEN             1            GEN 1              1   \n",
       "3               1       GEN             1            GEN 1              1   \n",
       "4               1       GEN             1            GEN 1              1   \n",
       "...           ...       ...           ...              ...            ...   \n",
       "35374          95       REV            22           REV 22           1328   \n",
       "35375          95       REV            22           REV 22           1328   \n",
       "35376          95       REV            22           REV 22           1328   \n",
       "35377          95       REV            22           REV 22           1328   \n",
       "35378          95       REV            22           REV 22           1328   \n",
       "\n",
       "       Verse_#  Verse_Order  \\\n",
       "0            1            1   \n",
       "1            2            2   \n",
       "2            3            3   \n",
       "3            4            4   \n",
       "4            5            5   \n",
       "...        ...          ...   \n",
       "35374       17        35375   \n",
       "35375       18        35376   \n",
       "35376       19        35377   \n",
       "35377       20        35378   \n",
       "35378       21        35379   \n",
       "\n",
       "                                                   Verse  Characters  Typed  \\\n",
       "0      In the beginning, God created the heavens and ...          56      1   \n",
       "1      The earth was formless and empty. Darkness was...         135      1   \n",
       "2      God said, \"Let there be light,\" and there was ...          52      1   \n",
       "3      God saw the light, and saw that it was good. G...          85      1   \n",
       "4      God called the light \"day\", and the darkness h...         119      1   \n",
       "...                                                  ...         ...    ...   \n",
       "35374  The Spirit and the bride say, \"Come!\" He who h...         160      0   \n",
       "35375  I testify to everyone who hears the words of t...         159      0   \n",
       "35376  If anyone takes away from the words of the boo...         174      0   \n",
       "35377  He who testifies these things says, \"Yes, I am...          89      0   \n",
       "35378  The grace of the Lord Jesus Christ be with all...          64      1   \n",
       "\n",
       "       Tests  Fastest_WPM  Characters_Typed  Total_Characters_Typed  Count  \n",
       "0          8   193.251509                56                     448      1  \n",
       "1          2   140.461827               135                     270      1  \n",
       "2          1    84.008493                52                      52      1  \n",
       "3          1   123.198378                85                      85      1  \n",
       "4          1   135.664272               119                     119      1  \n",
       "...      ...          ...               ...                     ...    ...  \n",
       "35374      0          NaN                 0                       0      1  \n",
       "35375      0          NaN                 0                       0      1  \n",
       "35376      0          NaN                 0                       0      1  \n",
       "35377      0          NaN                 0                       0      1  \n",
       "35378      1   161.093106                64                      64      1  \n",
       "\n",
       "[35379 rows x 15 columns]"
      ]
     },
     "execution_count": 31,
     "metadata": {},
     "output_type": "execute_result"
    }
   ],
   "source": [
    "df_Bible"
   ]
  },
  {
   "cell_type": "code",
   "execution_count": 32,
   "metadata": {},
   "outputs": [],
   "source": [
    "# This variant of the treemap shows chapters and verses rather than books,\n",
    "# chapters, and verses.\n",
    "if (run_on_notebook == True) & (extra_analyses == True):\n",
    "    fig_tree_map_chapters_verses = px.treemap(df_Bible, path = [\n",
    "        'Book_and_Chapter', 'Verse_#'], values = 'Characters', color = 'Typed')\n",
    "    fig_tree_map_chapters_verses.write_html(\n",
    "        'Analyses/tree_map_chapters_verses.html')\n",
    "    fig_tree_map_chapters_verses.write_image(\n",
    "        'Analyses/tree_map_chapters_verses.png', width = 7680, height = 4320)"
   ]
  },
  {
   "cell_type": "code",
   "execution_count": 33,
   "metadata": {},
   "outputs": [],
   "source": [
    "# This variant of the treemap shows each verse as its own box, which results in \n",
    "# a very busy graph that takes a while to load within a web browser\n",
    "# (if it even loads at all).\n",
    "\n",
    "if (run_on_notebook == True) & (extra_analyses == True):\n",
    "    fig_tree_map_verses = px.treemap(df_Bible, path = ['Verse_Order'], \n",
    "                                     values = 'Characters', color = 'Typed')\n",
    "    fig_tree_map_verses.write_html('Analyses/tree_map_verses.html')\n",
    "    fig_tree_map_verses.write_image('Analyses/tree_map_verses_8K.png', \n",
    "                                    width = 7680, height = 4320) \n",
    "    fig_tree_map_verses.write_image('Analyses/tree_map_verses_16K.png', \n",
    "                                    width = 15360, height = 8640) \n",
    "# fig_tree_map_verses.write_image('Analyses/tree_map_verses.png', width = 30720, \n",
    "# height = 17280) # Didn't end up rendering successfully, probably \n",
    "# because the dimensions were absurdly large!"
   ]
  },
  {
   "cell_type": "markdown",
   "metadata": {},
   "source": [
    "### Creating a bar chart that shows the proportion of each book that has been typed so far:"
   ]
  },
  {
   "cell_type": "code",
   "execution_count": 34,
   "metadata": {},
   "outputs": [
    {
     "data": {
      "text/html": [
       "<div>\n",
       "<style scoped>\n",
       "    .dataframe tbody tr th:only-of-type {\n",
       "        vertical-align: middle;\n",
       "    }\n",
       "\n",
       "    .dataframe tbody tr th {\n",
       "        vertical-align: top;\n",
       "    }\n",
       "\n",
       "    .dataframe thead th {\n",
       "        text-align: right;\n",
       "    }\n",
       "</style>\n",
       "<table border=\"1\" class=\"dataframe\">\n",
       "  <thead>\n",
       "    <tr style=\"text-align: right;\">\n",
       "      <th></th>\n",
       "      <th>Book_Order</th>\n",
       "      <th>Book_Name</th>\n",
       "      <th>Characters</th>\n",
       "      <th>Characters_Typed</th>\n",
       "      <th>proportion_typed</th>\n",
       "    </tr>\n",
       "  </thead>\n",
       "  <tbody>\n",
       "    <tr>\n",
       "      <th>0</th>\n",
       "      <td>1</td>\n",
       "      <td>GEN</td>\n",
       "      <td>185293</td>\n",
       "      <td>66708</td>\n",
       "      <td>0.360014</td>\n",
       "    </tr>\n",
       "    <tr>\n",
       "      <th>1</th>\n",
       "      <td>2</td>\n",
       "      <td>EXO</td>\n",
       "      <td>159492</td>\n",
       "      <td>507</td>\n",
       "      <td>0.003179</td>\n",
       "    </tr>\n",
       "    <tr>\n",
       "      <th>2</th>\n",
       "      <td>3</td>\n",
       "      <td>LEV</td>\n",
       "      <td>120367</td>\n",
       "      <td>0</td>\n",
       "      <td>0.000000</td>\n",
       "    </tr>\n",
       "    <tr>\n",
       "      <th>3</th>\n",
       "      <td>4</td>\n",
       "      <td>NUM</td>\n",
       "      <td>165525</td>\n",
       "      <td>202</td>\n",
       "      <td>0.001220</td>\n",
       "    </tr>\n",
       "    <tr>\n",
       "      <th>4</th>\n",
       "      <td>5</td>\n",
       "      <td>DEU</td>\n",
       "      <td>139344</td>\n",
       "      <td>0</td>\n",
       "      <td>0.000000</td>\n",
       "    </tr>\n",
       "    <tr>\n",
       "      <th>...</th>\n",
       "      <td>...</td>\n",
       "      <td>...</td>\n",
       "      <td>...</td>\n",
       "      <td>...</td>\n",
       "      <td>...</td>\n",
       "    </tr>\n",
       "    <tr>\n",
       "      <th>68</th>\n",
       "      <td>91</td>\n",
       "      <td>1JN</td>\n",
       "      <td>12363</td>\n",
       "      <td>12363</td>\n",
       "      <td>1.000000</td>\n",
       "    </tr>\n",
       "    <tr>\n",
       "      <th>69</th>\n",
       "      <td>92</td>\n",
       "      <td>2JN</td>\n",
       "      <td>1536</td>\n",
       "      <td>453</td>\n",
       "      <td>0.294922</td>\n",
       "    </tr>\n",
       "    <tr>\n",
       "      <th>70</th>\n",
       "      <td>93</td>\n",
       "      <td>3JN</td>\n",
       "      <td>1525</td>\n",
       "      <td>1525</td>\n",
       "      <td>1.000000</td>\n",
       "    </tr>\n",
       "    <tr>\n",
       "      <th>71</th>\n",
       "      <td>94</td>\n",
       "      <td>JUD</td>\n",
       "      <td>3461</td>\n",
       "      <td>136</td>\n",
       "      <td>0.039295</td>\n",
       "    </tr>\n",
       "    <tr>\n",
       "      <th>72</th>\n",
       "      <td>95</td>\n",
       "      <td>REV</td>\n",
       "      <td>58702</td>\n",
       "      <td>64</td>\n",
       "      <td>0.001090</td>\n",
       "    </tr>\n",
       "  </tbody>\n",
       "</table>\n",
       "<p>73 rows × 5 columns</p>\n",
       "</div>"
      ],
      "text/plain": [
       "    Book_Order Book_Name  Characters  Characters_Typed  proportion_typed\n",
       "0            1       GEN      185293             66708          0.360014\n",
       "1            2       EXO      159492               507          0.003179\n",
       "2            3       LEV      120367                 0          0.000000\n",
       "3            4       NUM      165525               202          0.001220\n",
       "4            5       DEU      139344                 0          0.000000\n",
       "..         ...       ...         ...               ...               ...\n",
       "68          91       1JN       12363             12363          1.000000\n",
       "69          92       2JN        1536               453          0.294922\n",
       "70          93       3JN        1525              1525          1.000000\n",
       "71          94       JUD        3461               136          0.039295\n",
       "72          95       REV       58702                64          0.001090\n",
       "\n",
       "[73 rows x 5 columns]"
      ]
     },
     "execution_count": 34,
     "metadata": {},
     "output_type": "execute_result"
    }
   ],
   "source": [
    "df_characters_typed_by_book = df_Bible.pivot_table(index = ['Book_Order', \n",
    "'Book_Name'], values = ['Characters', 'Characters_Typed'], \n",
    "aggfunc = 'sum').reset_index()\n",
    "# Adding 'Book_Order' as the first index value allows for the pivot tables\n",
    "# and bars to be ordered by that value.\n",
    "df_characters_typed_by_book['proportion_typed'] = df_characters_typed_by_book[\n",
    "    'Characters_Typed'] / df_characters_typed_by_book['Characters']\n",
    "df_characters_typed_by_book.to_csv(\n",
    "    'Analyses/characters_typed_by_book.csv')\n",
    "df_characters_typed_by_book"
   ]
  },
  {
   "cell_type": "code",
   "execution_count": 35,
   "metadata": {},
   "outputs": [
    {
     "data": {
      "application/vnd.plotly.v1+json": {
       "config": {
        "plotlyServerURL": "https://plot.ly"
       },
       "data": [
        {
         "alignmentgroup": "True",
         "hovertemplate": "Book_Name=%{x}<br>proportion_typed=%{y}<extra></extra>",
         "legendgroup": "",
         "marker": {
          "color": "#636efa",
          "pattern": {
           "shape": ""
          }
         },
         "name": "",
         "offsetgroup": "",
         "orientation": "v",
         "showlegend": false,
         "textposition": "auto",
         "type": "bar",
         "x": [
          "GEN",
          "EXO",
          "LEV",
          "NUM",
          "DEU",
          "JOS",
          "JDG",
          "RUT",
          "1SA",
          "2SA",
          "1KI",
          "2KI",
          "1CH",
          "2CH",
          "EZR",
          "NEH",
          "JOB",
          "PSA",
          "PRO",
          "ECC",
          "SNG",
          "ISA",
          "JER",
          "LAM",
          "EZK",
          "HOS",
          "JOL",
          "AMO",
          "OBA",
          "JON",
          "MIC",
          "NAM",
          "HAB",
          "ZEP",
          "HAG",
          "ZEC",
          "MAL",
          "TOB",
          "JDT",
          "ESG",
          "WIS",
          "SIR",
          "BAR",
          "1MA",
          "2MA",
          "DAG",
          "MAT",
          "MRK",
          "LUK",
          "JHN",
          "ACT",
          "ROM",
          "1CO",
          "2CO",
          "GAL",
          "EPH",
          "PHP",
          "COL",
          "1TH",
          "2TH",
          "1TI",
          "2TI",
          "TIT",
          "PHM",
          "HEB",
          "JAS",
          "1PE",
          "2PE",
          "1JN",
          "2JN",
          "3JN",
          "JUD",
          "REV"
         ],
         "xaxis": "x",
         "y": [
          0.36001360008203226,
          0.0031788428259724626,
          0,
          0.0012203594623168706,
          0,
          0,
          0.00040700476624002573,
          0,
          0,
          0,
          0,
          0.0016613896524129293,
          0,
          0,
          0,
          0,
          0,
          0,
          0,
          0,
          0.014466409149435734,
          0,
          0,
          0,
          0,
          0,
          0,
          0,
          0,
          0,
          0,
          0,
          0,
          0,
          0,
          0,
          0,
          0,
          0,
          0,
          0,
          0,
          0,
          0,
          0,
          0,
          0,
          0,
          0,
          0,
          0,
          0,
          0,
          0,
          0,
          0,
          0,
          0,
          0,
          0,
          0,
          0,
          0,
          0,
          0,
          0,
          0,
          0,
          1,
          0.294921875,
          1,
          0.03929500144466917,
          0.001090252461585636
         ],
         "yaxis": "y"
        }
       ],
       "layout": {
        "barmode": "relative",
        "legend": {
         "tracegroupgap": 0
        },
        "margin": {
         "t": 60
        },
        "template": {
         "data": {
          "bar": [
           {
            "error_x": {
             "color": "#2a3f5f"
            },
            "error_y": {
             "color": "#2a3f5f"
            },
            "marker": {
             "line": {
              "color": "#E5ECF6",
              "width": 0.5
             },
             "pattern": {
              "fillmode": "overlay",
              "size": 10,
              "solidity": 0.2
             }
            },
            "type": "bar"
           }
          ],
          "barpolar": [
           {
            "marker": {
             "line": {
              "color": "#E5ECF6",
              "width": 0.5
             },
             "pattern": {
              "fillmode": "overlay",
              "size": 10,
              "solidity": 0.2
             }
            },
            "type": "barpolar"
           }
          ],
          "carpet": [
           {
            "aaxis": {
             "endlinecolor": "#2a3f5f",
             "gridcolor": "white",
             "linecolor": "white",
             "minorgridcolor": "white",
             "startlinecolor": "#2a3f5f"
            },
            "baxis": {
             "endlinecolor": "#2a3f5f",
             "gridcolor": "white",
             "linecolor": "white",
             "minorgridcolor": "white",
             "startlinecolor": "#2a3f5f"
            },
            "type": "carpet"
           }
          ],
          "choropleth": [
           {
            "colorbar": {
             "outlinewidth": 0,
             "ticks": ""
            },
            "type": "choropleth"
           }
          ],
          "contour": [
           {
            "colorbar": {
             "outlinewidth": 0,
             "ticks": ""
            },
            "colorscale": [
             [
              0,
              "#0d0887"
             ],
             [
              0.1111111111111111,
              "#46039f"
             ],
             [
              0.2222222222222222,
              "#7201a8"
             ],
             [
              0.3333333333333333,
              "#9c179e"
             ],
             [
              0.4444444444444444,
              "#bd3786"
             ],
             [
              0.5555555555555556,
              "#d8576b"
             ],
             [
              0.6666666666666666,
              "#ed7953"
             ],
             [
              0.7777777777777778,
              "#fb9f3a"
             ],
             [
              0.8888888888888888,
              "#fdca26"
             ],
             [
              1,
              "#f0f921"
             ]
            ],
            "type": "contour"
           }
          ],
          "contourcarpet": [
           {
            "colorbar": {
             "outlinewidth": 0,
             "ticks": ""
            },
            "type": "contourcarpet"
           }
          ],
          "heatmap": [
           {
            "colorbar": {
             "outlinewidth": 0,
             "ticks": ""
            },
            "colorscale": [
             [
              0,
              "#0d0887"
             ],
             [
              0.1111111111111111,
              "#46039f"
             ],
             [
              0.2222222222222222,
              "#7201a8"
             ],
             [
              0.3333333333333333,
              "#9c179e"
             ],
             [
              0.4444444444444444,
              "#bd3786"
             ],
             [
              0.5555555555555556,
              "#d8576b"
             ],
             [
              0.6666666666666666,
              "#ed7953"
             ],
             [
              0.7777777777777778,
              "#fb9f3a"
             ],
             [
              0.8888888888888888,
              "#fdca26"
             ],
             [
              1,
              "#f0f921"
             ]
            ],
            "type": "heatmap"
           }
          ],
          "heatmapgl": [
           {
            "colorbar": {
             "outlinewidth": 0,
             "ticks": ""
            },
            "colorscale": [
             [
              0,
              "#0d0887"
             ],
             [
              0.1111111111111111,
              "#46039f"
             ],
             [
              0.2222222222222222,
              "#7201a8"
             ],
             [
              0.3333333333333333,
              "#9c179e"
             ],
             [
              0.4444444444444444,
              "#bd3786"
             ],
             [
              0.5555555555555556,
              "#d8576b"
             ],
             [
              0.6666666666666666,
              "#ed7953"
             ],
             [
              0.7777777777777778,
              "#fb9f3a"
             ],
             [
              0.8888888888888888,
              "#fdca26"
             ],
             [
              1,
              "#f0f921"
             ]
            ],
            "type": "heatmapgl"
           }
          ],
          "histogram": [
           {
            "marker": {
             "pattern": {
              "fillmode": "overlay",
              "size": 10,
              "solidity": 0.2
             }
            },
            "type": "histogram"
           }
          ],
          "histogram2d": [
           {
            "colorbar": {
             "outlinewidth": 0,
             "ticks": ""
            },
            "colorscale": [
             [
              0,
              "#0d0887"
             ],
             [
              0.1111111111111111,
              "#46039f"
             ],
             [
              0.2222222222222222,
              "#7201a8"
             ],
             [
              0.3333333333333333,
              "#9c179e"
             ],
             [
              0.4444444444444444,
              "#bd3786"
             ],
             [
              0.5555555555555556,
              "#d8576b"
             ],
             [
              0.6666666666666666,
              "#ed7953"
             ],
             [
              0.7777777777777778,
              "#fb9f3a"
             ],
             [
              0.8888888888888888,
              "#fdca26"
             ],
             [
              1,
              "#f0f921"
             ]
            ],
            "type": "histogram2d"
           }
          ],
          "histogram2dcontour": [
           {
            "colorbar": {
             "outlinewidth": 0,
             "ticks": ""
            },
            "colorscale": [
             [
              0,
              "#0d0887"
             ],
             [
              0.1111111111111111,
              "#46039f"
             ],
             [
              0.2222222222222222,
              "#7201a8"
             ],
             [
              0.3333333333333333,
              "#9c179e"
             ],
             [
              0.4444444444444444,
              "#bd3786"
             ],
             [
              0.5555555555555556,
              "#d8576b"
             ],
             [
              0.6666666666666666,
              "#ed7953"
             ],
             [
              0.7777777777777778,
              "#fb9f3a"
             ],
             [
              0.8888888888888888,
              "#fdca26"
             ],
             [
              1,
              "#f0f921"
             ]
            ],
            "type": "histogram2dcontour"
           }
          ],
          "mesh3d": [
           {
            "colorbar": {
             "outlinewidth": 0,
             "ticks": ""
            },
            "type": "mesh3d"
           }
          ],
          "parcoords": [
           {
            "line": {
             "colorbar": {
              "outlinewidth": 0,
              "ticks": ""
             }
            },
            "type": "parcoords"
           }
          ],
          "pie": [
           {
            "automargin": true,
            "type": "pie"
           }
          ],
          "scatter": [
           {
            "fillpattern": {
             "fillmode": "overlay",
             "size": 10,
             "solidity": 0.2
            },
            "type": "scatter"
           }
          ],
          "scatter3d": [
           {
            "line": {
             "colorbar": {
              "outlinewidth": 0,
              "ticks": ""
             }
            },
            "marker": {
             "colorbar": {
              "outlinewidth": 0,
              "ticks": ""
             }
            },
            "type": "scatter3d"
           }
          ],
          "scattercarpet": [
           {
            "marker": {
             "colorbar": {
              "outlinewidth": 0,
              "ticks": ""
             }
            },
            "type": "scattercarpet"
           }
          ],
          "scattergeo": [
           {
            "marker": {
             "colorbar": {
              "outlinewidth": 0,
              "ticks": ""
             }
            },
            "type": "scattergeo"
           }
          ],
          "scattergl": [
           {
            "marker": {
             "colorbar": {
              "outlinewidth": 0,
              "ticks": ""
             }
            },
            "type": "scattergl"
           }
          ],
          "scattermapbox": [
           {
            "marker": {
             "colorbar": {
              "outlinewidth": 0,
              "ticks": ""
             }
            },
            "type": "scattermapbox"
           }
          ],
          "scatterpolar": [
           {
            "marker": {
             "colorbar": {
              "outlinewidth": 0,
              "ticks": ""
             }
            },
            "type": "scatterpolar"
           }
          ],
          "scatterpolargl": [
           {
            "marker": {
             "colorbar": {
              "outlinewidth": 0,
              "ticks": ""
             }
            },
            "type": "scatterpolargl"
           }
          ],
          "scatterternary": [
           {
            "marker": {
             "colorbar": {
              "outlinewidth": 0,
              "ticks": ""
             }
            },
            "type": "scatterternary"
           }
          ],
          "surface": [
           {
            "colorbar": {
             "outlinewidth": 0,
             "ticks": ""
            },
            "colorscale": [
             [
              0,
              "#0d0887"
             ],
             [
              0.1111111111111111,
              "#46039f"
             ],
             [
              0.2222222222222222,
              "#7201a8"
             ],
             [
              0.3333333333333333,
              "#9c179e"
             ],
             [
              0.4444444444444444,
              "#bd3786"
             ],
             [
              0.5555555555555556,
              "#d8576b"
             ],
             [
              0.6666666666666666,
              "#ed7953"
             ],
             [
              0.7777777777777778,
              "#fb9f3a"
             ],
             [
              0.8888888888888888,
              "#fdca26"
             ],
             [
              1,
              "#f0f921"
             ]
            ],
            "type": "surface"
           }
          ],
          "table": [
           {
            "cells": {
             "fill": {
              "color": "#EBF0F8"
             },
             "line": {
              "color": "white"
             }
            },
            "header": {
             "fill": {
              "color": "#C8D4E3"
             },
             "line": {
              "color": "white"
             }
            },
            "type": "table"
           }
          ]
         },
         "layout": {
          "annotationdefaults": {
           "arrowcolor": "#2a3f5f",
           "arrowhead": 0,
           "arrowwidth": 1
          },
          "autotypenumbers": "strict",
          "coloraxis": {
           "colorbar": {
            "outlinewidth": 0,
            "ticks": ""
           }
          },
          "colorscale": {
           "diverging": [
            [
             0,
             "#8e0152"
            ],
            [
             0.1,
             "#c51b7d"
            ],
            [
             0.2,
             "#de77ae"
            ],
            [
             0.3,
             "#f1b6da"
            ],
            [
             0.4,
             "#fde0ef"
            ],
            [
             0.5,
             "#f7f7f7"
            ],
            [
             0.6,
             "#e6f5d0"
            ],
            [
             0.7,
             "#b8e186"
            ],
            [
             0.8,
             "#7fbc41"
            ],
            [
             0.9,
             "#4d9221"
            ],
            [
             1,
             "#276419"
            ]
           ],
           "sequential": [
            [
             0,
             "#0d0887"
            ],
            [
             0.1111111111111111,
             "#46039f"
            ],
            [
             0.2222222222222222,
             "#7201a8"
            ],
            [
             0.3333333333333333,
             "#9c179e"
            ],
            [
             0.4444444444444444,
             "#bd3786"
            ],
            [
             0.5555555555555556,
             "#d8576b"
            ],
            [
             0.6666666666666666,
             "#ed7953"
            ],
            [
             0.7777777777777778,
             "#fb9f3a"
            ],
            [
             0.8888888888888888,
             "#fdca26"
            ],
            [
             1,
             "#f0f921"
            ]
           ],
           "sequentialminus": [
            [
             0,
             "#0d0887"
            ],
            [
             0.1111111111111111,
             "#46039f"
            ],
            [
             0.2222222222222222,
             "#7201a8"
            ],
            [
             0.3333333333333333,
             "#9c179e"
            ],
            [
             0.4444444444444444,
             "#bd3786"
            ],
            [
             0.5555555555555556,
             "#d8576b"
            ],
            [
             0.6666666666666666,
             "#ed7953"
            ],
            [
             0.7777777777777778,
             "#fb9f3a"
            ],
            [
             0.8888888888888888,
             "#fdca26"
            ],
            [
             1,
             "#f0f921"
            ]
           ]
          },
          "colorway": [
           "#636efa",
           "#EF553B",
           "#00cc96",
           "#ab63fa",
           "#FFA15A",
           "#19d3f3",
           "#FF6692",
           "#B6E880",
           "#FF97FF",
           "#FECB52"
          ],
          "font": {
           "color": "#2a3f5f"
          },
          "geo": {
           "bgcolor": "white",
           "lakecolor": "white",
           "landcolor": "#E5ECF6",
           "showlakes": true,
           "showland": true,
           "subunitcolor": "white"
          },
          "hoverlabel": {
           "align": "left"
          },
          "hovermode": "closest",
          "mapbox": {
           "style": "light"
          },
          "paper_bgcolor": "white",
          "plot_bgcolor": "#E5ECF6",
          "polar": {
           "angularaxis": {
            "gridcolor": "white",
            "linecolor": "white",
            "ticks": ""
           },
           "bgcolor": "#E5ECF6",
           "radialaxis": {
            "gridcolor": "white",
            "linecolor": "white",
            "ticks": ""
           }
          },
          "scene": {
           "xaxis": {
            "backgroundcolor": "#E5ECF6",
            "gridcolor": "white",
            "gridwidth": 2,
            "linecolor": "white",
            "showbackground": true,
            "ticks": "",
            "zerolinecolor": "white"
           },
           "yaxis": {
            "backgroundcolor": "#E5ECF6",
            "gridcolor": "white",
            "gridwidth": 2,
            "linecolor": "white",
            "showbackground": true,
            "ticks": "",
            "zerolinecolor": "white"
           },
           "zaxis": {
            "backgroundcolor": "#E5ECF6",
            "gridcolor": "white",
            "gridwidth": 2,
            "linecolor": "white",
            "showbackground": true,
            "ticks": "",
            "zerolinecolor": "white"
           }
          },
          "shapedefaults": {
           "line": {
            "color": "#2a3f5f"
           }
          },
          "ternary": {
           "aaxis": {
            "gridcolor": "white",
            "linecolor": "white",
            "ticks": ""
           },
           "baxis": {
            "gridcolor": "white",
            "linecolor": "white",
            "ticks": ""
           },
           "bgcolor": "#E5ECF6",
           "caxis": {
            "gridcolor": "white",
            "linecolor": "white",
            "ticks": ""
           }
          },
          "title": {
           "x": 0.05
          },
          "xaxis": {
           "automargin": true,
           "gridcolor": "white",
           "linecolor": "white",
           "ticks": "",
           "title": {
            "standoff": 15
           },
           "zerolinecolor": "white",
           "zerolinewidth": 2
          },
          "yaxis": {
           "automargin": true,
           "gridcolor": "white",
           "linecolor": "white",
           "ticks": "",
           "title": {
            "standoff": 15
           },
           "zerolinecolor": "white",
           "zerolinewidth": 2
          }
         }
        },
        "xaxis": {
         "anchor": "y",
         "domain": [
          0,
          1
         ],
         "title": {
          "text": "Book_Name"
         }
        },
        "yaxis": {
         "anchor": "x",
         "domain": [
          0,
          1
         ],
         "range": [
          0,
          1
         ],
         "title": {
          "text": "proportion_typed"
         }
        }
       }
      }
     },
     "metadata": {},
     "output_type": "display_data"
    }
   ],
   "source": [
    "fig_proportion_of_each_book_typed = px.bar(df_characters_typed_by_book, \n",
    "x = 'Book_Name', y = 'proportion_typed')\n",
    "fig_proportion_of_each_book_typed.update_yaxes(range = [0, 1]) # Setting\n",
    "# the maximum y value as 1 better demonstrates how much of the Bible\n",
    "# has been typed so far\n",
    "fig_proportion_of_each_book_typed.write_html(\n",
    "    'Analyses/proportion_of_each_book_typed.html')\n",
    "fig_proportion_of_each_book_typed.write_image(\n",
    "    'Analyses/proportion_of_each_book_typed.png', \n",
    "    width = 1920, height = 1080, engine = 'kaleido', scale = 2)\n",
    "fig_proportion_of_each_book_typed"
   ]
  },
  {
   "cell_type": "markdown",
   "metadata": {},
   "source": [
    "### Creating a chart that compares the number of characters in each book with the number that have been typed:\n",
    "\n",
    "This provides a clearer view of the player's progress in typing the Bible, as each bar's height is based on the number of characters. (In contrast, bars for fully typed small books will be just as high in fig_proportion_of_each_book_typed as those for fully typed large books.)"
   ]
  },
  {
   "cell_type": "code",
   "execution_count": 36,
   "metadata": {},
   "outputs": [
    {
     "data": {
      "application/vnd.plotly.v1+json": {
       "config": {
        "plotlyServerURL": "https://plot.ly"
       },
       "data": [
        {
         "alignmentgroup": "True",
         "hovertemplate": "variable=Characters<br>Book_Name=%{x}<br>value=%{y}<extra></extra>",
         "legendgroup": "Characters",
         "marker": {
          "color": "#636efa",
          "opacity": 0.5,
          "pattern": {
           "shape": ""
          }
         },
         "name": "Characters",
         "offsetgroup": "Characters",
         "orientation": "v",
         "showlegend": true,
         "textposition": "auto",
         "type": "bar",
         "x": [
          "GEN",
          "EXO",
          "LEV",
          "NUM",
          "DEU",
          "JOS",
          "JDG",
          "RUT",
          "1SA",
          "2SA",
          "1KI",
          "2KI",
          "1CH",
          "2CH",
          "EZR",
          "NEH",
          "JOB",
          "PSA",
          "PRO",
          "ECC",
          "SNG",
          "ISA",
          "JER",
          "LAM",
          "EZK",
          "HOS",
          "JOL",
          "AMO",
          "OBA",
          "JON",
          "MIC",
          "NAM",
          "HAB",
          "ZEP",
          "HAG",
          "ZEC",
          "MAL",
          "TOB",
          "JDT",
          "ESG",
          "WIS",
          "SIR",
          "BAR",
          "1MA",
          "2MA",
          "DAG",
          "MAT",
          "MRK",
          "LUK",
          "JHN",
          "ACT",
          "ROM",
          "1CO",
          "2CO",
          "GAL",
          "EPH",
          "PHP",
          "COL",
          "1TH",
          "2TH",
          "1TI",
          "2TI",
          "TIT",
          "PHM",
          "HEB",
          "JAS",
          "1PE",
          "2PE",
          "1JN",
          "2JN",
          "3JN",
          "JUD",
          "REV"
         ],
         "xaxis": "x",
         "y": [
          185293,
          159492,
          120367,
          165525,
          139344,
          94721,
          93365,
          12505,
          122241,
          100552,
          119726,
          114964,
          105529,
          132807,
          38692,
          54680,
          90053,
          218388,
          75981,
          27419,
          13203,
          185587,
          215297,
          17722,
          195384,
          26589,
          10261,
          20876,
          3265,
          6386,
          15400,
          6446,
          7307,
          8197,
          5489,
          31085,
          8912,
          34593,
          57613,
          38794,
          56619,
          137185,
          25899,
          119609,
          92464,
          79306,
          119621,
          74901,
          126856,
          95683,
          123742,
          49703,
          48301,
          31750,
          16240,
          16273,
          11523,
          10665,
          9559,
          5396,
          12632,
          8815,
          5134,
          2267,
          36994,
          11803,
          13132,
          8442,
          12363,
          1536,
          1525,
          3461,
          58702
         ],
         "yaxis": "y"
        },
        {
         "alignmentgroup": "True",
         "hovertemplate": "variable=Characters_Typed<br>Book_Name=%{x}<br>value=%{y}<extra></extra>",
         "legendgroup": "Characters_Typed",
         "marker": {
          "color": "#EF553B",
          "opacity": 0.5,
          "pattern": {
           "shape": ""
          }
         },
         "name": "Characters_Typed",
         "offsetgroup": "Characters_Typed",
         "orientation": "v",
         "showlegend": true,
         "textposition": "auto",
         "type": "bar",
         "x": [
          "GEN",
          "EXO",
          "LEV",
          "NUM",
          "DEU",
          "JOS",
          "JDG",
          "RUT",
          "1SA",
          "2SA",
          "1KI",
          "2KI",
          "1CH",
          "2CH",
          "EZR",
          "NEH",
          "JOB",
          "PSA",
          "PRO",
          "ECC",
          "SNG",
          "ISA",
          "JER",
          "LAM",
          "EZK",
          "HOS",
          "JOL",
          "AMO",
          "OBA",
          "JON",
          "MIC",
          "NAM",
          "HAB",
          "ZEP",
          "HAG",
          "ZEC",
          "MAL",
          "TOB",
          "JDT",
          "ESG",
          "WIS",
          "SIR",
          "BAR",
          "1MA",
          "2MA",
          "DAG",
          "MAT",
          "MRK",
          "LUK",
          "JHN",
          "ACT",
          "ROM",
          "1CO",
          "2CO",
          "GAL",
          "EPH",
          "PHP",
          "COL",
          "1TH",
          "2TH",
          "1TI",
          "2TI",
          "TIT",
          "PHM",
          "HEB",
          "JAS",
          "1PE",
          "2PE",
          "1JN",
          "2JN",
          "3JN",
          "JUD",
          "REV"
         ],
         "xaxis": "x",
         "y": [
          66708,
          507,
          0,
          202,
          0,
          0,
          38,
          0,
          0,
          0,
          0,
          191,
          0,
          0,
          0,
          0,
          0,
          0,
          0,
          0,
          191,
          0,
          0,
          0,
          0,
          0,
          0,
          0,
          0,
          0,
          0,
          0,
          0,
          0,
          0,
          0,
          0,
          0,
          0,
          0,
          0,
          0,
          0,
          0,
          0,
          0,
          0,
          0,
          0,
          0,
          0,
          0,
          0,
          0,
          0,
          0,
          0,
          0,
          0,
          0,
          0,
          0,
          0,
          0,
          0,
          0,
          0,
          0,
          12363,
          453,
          1525,
          136,
          64
         ],
         "yaxis": "y"
        }
       ],
       "layout": {
        "barmode": "overlay",
        "legend": {
         "title": {
          "text": "variable"
         },
         "tracegroupgap": 0
        },
        "margin": {
         "t": 60
        },
        "template": {
         "data": {
          "bar": [
           {
            "error_x": {
             "color": "#2a3f5f"
            },
            "error_y": {
             "color": "#2a3f5f"
            },
            "marker": {
             "line": {
              "color": "#E5ECF6",
              "width": 0.5
             },
             "pattern": {
              "fillmode": "overlay",
              "size": 10,
              "solidity": 0.2
             }
            },
            "type": "bar"
           }
          ],
          "barpolar": [
           {
            "marker": {
             "line": {
              "color": "#E5ECF6",
              "width": 0.5
             },
             "pattern": {
              "fillmode": "overlay",
              "size": 10,
              "solidity": 0.2
             }
            },
            "type": "barpolar"
           }
          ],
          "carpet": [
           {
            "aaxis": {
             "endlinecolor": "#2a3f5f",
             "gridcolor": "white",
             "linecolor": "white",
             "minorgridcolor": "white",
             "startlinecolor": "#2a3f5f"
            },
            "baxis": {
             "endlinecolor": "#2a3f5f",
             "gridcolor": "white",
             "linecolor": "white",
             "minorgridcolor": "white",
             "startlinecolor": "#2a3f5f"
            },
            "type": "carpet"
           }
          ],
          "choropleth": [
           {
            "colorbar": {
             "outlinewidth": 0,
             "ticks": ""
            },
            "type": "choropleth"
           }
          ],
          "contour": [
           {
            "colorbar": {
             "outlinewidth": 0,
             "ticks": ""
            },
            "colorscale": [
             [
              0,
              "#0d0887"
             ],
             [
              0.1111111111111111,
              "#46039f"
             ],
             [
              0.2222222222222222,
              "#7201a8"
             ],
             [
              0.3333333333333333,
              "#9c179e"
             ],
             [
              0.4444444444444444,
              "#bd3786"
             ],
             [
              0.5555555555555556,
              "#d8576b"
             ],
             [
              0.6666666666666666,
              "#ed7953"
             ],
             [
              0.7777777777777778,
              "#fb9f3a"
             ],
             [
              0.8888888888888888,
              "#fdca26"
             ],
             [
              1,
              "#f0f921"
             ]
            ],
            "type": "contour"
           }
          ],
          "contourcarpet": [
           {
            "colorbar": {
             "outlinewidth": 0,
             "ticks": ""
            },
            "type": "contourcarpet"
           }
          ],
          "heatmap": [
           {
            "colorbar": {
             "outlinewidth": 0,
             "ticks": ""
            },
            "colorscale": [
             [
              0,
              "#0d0887"
             ],
             [
              0.1111111111111111,
              "#46039f"
             ],
             [
              0.2222222222222222,
              "#7201a8"
             ],
             [
              0.3333333333333333,
              "#9c179e"
             ],
             [
              0.4444444444444444,
              "#bd3786"
             ],
             [
              0.5555555555555556,
              "#d8576b"
             ],
             [
              0.6666666666666666,
              "#ed7953"
             ],
             [
              0.7777777777777778,
              "#fb9f3a"
             ],
             [
              0.8888888888888888,
              "#fdca26"
             ],
             [
              1,
              "#f0f921"
             ]
            ],
            "type": "heatmap"
           }
          ],
          "heatmapgl": [
           {
            "colorbar": {
             "outlinewidth": 0,
             "ticks": ""
            },
            "colorscale": [
             [
              0,
              "#0d0887"
             ],
             [
              0.1111111111111111,
              "#46039f"
             ],
             [
              0.2222222222222222,
              "#7201a8"
             ],
             [
              0.3333333333333333,
              "#9c179e"
             ],
             [
              0.4444444444444444,
              "#bd3786"
             ],
             [
              0.5555555555555556,
              "#d8576b"
             ],
             [
              0.6666666666666666,
              "#ed7953"
             ],
             [
              0.7777777777777778,
              "#fb9f3a"
             ],
             [
              0.8888888888888888,
              "#fdca26"
             ],
             [
              1,
              "#f0f921"
             ]
            ],
            "type": "heatmapgl"
           }
          ],
          "histogram": [
           {
            "marker": {
             "pattern": {
              "fillmode": "overlay",
              "size": 10,
              "solidity": 0.2
             }
            },
            "type": "histogram"
           }
          ],
          "histogram2d": [
           {
            "colorbar": {
             "outlinewidth": 0,
             "ticks": ""
            },
            "colorscale": [
             [
              0,
              "#0d0887"
             ],
             [
              0.1111111111111111,
              "#46039f"
             ],
             [
              0.2222222222222222,
              "#7201a8"
             ],
             [
              0.3333333333333333,
              "#9c179e"
             ],
             [
              0.4444444444444444,
              "#bd3786"
             ],
             [
              0.5555555555555556,
              "#d8576b"
             ],
             [
              0.6666666666666666,
              "#ed7953"
             ],
             [
              0.7777777777777778,
              "#fb9f3a"
             ],
             [
              0.8888888888888888,
              "#fdca26"
             ],
             [
              1,
              "#f0f921"
             ]
            ],
            "type": "histogram2d"
           }
          ],
          "histogram2dcontour": [
           {
            "colorbar": {
             "outlinewidth": 0,
             "ticks": ""
            },
            "colorscale": [
             [
              0,
              "#0d0887"
             ],
             [
              0.1111111111111111,
              "#46039f"
             ],
             [
              0.2222222222222222,
              "#7201a8"
             ],
             [
              0.3333333333333333,
              "#9c179e"
             ],
             [
              0.4444444444444444,
              "#bd3786"
             ],
             [
              0.5555555555555556,
              "#d8576b"
             ],
             [
              0.6666666666666666,
              "#ed7953"
             ],
             [
              0.7777777777777778,
              "#fb9f3a"
             ],
             [
              0.8888888888888888,
              "#fdca26"
             ],
             [
              1,
              "#f0f921"
             ]
            ],
            "type": "histogram2dcontour"
           }
          ],
          "mesh3d": [
           {
            "colorbar": {
             "outlinewidth": 0,
             "ticks": ""
            },
            "type": "mesh3d"
           }
          ],
          "parcoords": [
           {
            "line": {
             "colorbar": {
              "outlinewidth": 0,
              "ticks": ""
             }
            },
            "type": "parcoords"
           }
          ],
          "pie": [
           {
            "automargin": true,
            "type": "pie"
           }
          ],
          "scatter": [
           {
            "fillpattern": {
             "fillmode": "overlay",
             "size": 10,
             "solidity": 0.2
            },
            "type": "scatter"
           }
          ],
          "scatter3d": [
           {
            "line": {
             "colorbar": {
              "outlinewidth": 0,
              "ticks": ""
             }
            },
            "marker": {
             "colorbar": {
              "outlinewidth": 0,
              "ticks": ""
             }
            },
            "type": "scatter3d"
           }
          ],
          "scattercarpet": [
           {
            "marker": {
             "colorbar": {
              "outlinewidth": 0,
              "ticks": ""
             }
            },
            "type": "scattercarpet"
           }
          ],
          "scattergeo": [
           {
            "marker": {
             "colorbar": {
              "outlinewidth": 0,
              "ticks": ""
             }
            },
            "type": "scattergeo"
           }
          ],
          "scattergl": [
           {
            "marker": {
             "colorbar": {
              "outlinewidth": 0,
              "ticks": ""
             }
            },
            "type": "scattergl"
           }
          ],
          "scattermapbox": [
           {
            "marker": {
             "colorbar": {
              "outlinewidth": 0,
              "ticks": ""
             }
            },
            "type": "scattermapbox"
           }
          ],
          "scatterpolar": [
           {
            "marker": {
             "colorbar": {
              "outlinewidth": 0,
              "ticks": ""
             }
            },
            "type": "scatterpolar"
           }
          ],
          "scatterpolargl": [
           {
            "marker": {
             "colorbar": {
              "outlinewidth": 0,
              "ticks": ""
             }
            },
            "type": "scatterpolargl"
           }
          ],
          "scatterternary": [
           {
            "marker": {
             "colorbar": {
              "outlinewidth": 0,
              "ticks": ""
             }
            },
            "type": "scatterternary"
           }
          ],
          "surface": [
           {
            "colorbar": {
             "outlinewidth": 0,
             "ticks": ""
            },
            "colorscale": [
             [
              0,
              "#0d0887"
             ],
             [
              0.1111111111111111,
              "#46039f"
             ],
             [
              0.2222222222222222,
              "#7201a8"
             ],
             [
              0.3333333333333333,
              "#9c179e"
             ],
             [
              0.4444444444444444,
              "#bd3786"
             ],
             [
              0.5555555555555556,
              "#d8576b"
             ],
             [
              0.6666666666666666,
              "#ed7953"
             ],
             [
              0.7777777777777778,
              "#fb9f3a"
             ],
             [
              0.8888888888888888,
              "#fdca26"
             ],
             [
              1,
              "#f0f921"
             ]
            ],
            "type": "surface"
           }
          ],
          "table": [
           {
            "cells": {
             "fill": {
              "color": "#EBF0F8"
             },
             "line": {
              "color": "white"
             }
            },
            "header": {
             "fill": {
              "color": "#C8D4E3"
             },
             "line": {
              "color": "white"
             }
            },
            "type": "table"
           }
          ]
         },
         "layout": {
          "annotationdefaults": {
           "arrowcolor": "#2a3f5f",
           "arrowhead": 0,
           "arrowwidth": 1
          },
          "autotypenumbers": "strict",
          "coloraxis": {
           "colorbar": {
            "outlinewidth": 0,
            "ticks": ""
           }
          },
          "colorscale": {
           "diverging": [
            [
             0,
             "#8e0152"
            ],
            [
             0.1,
             "#c51b7d"
            ],
            [
             0.2,
             "#de77ae"
            ],
            [
             0.3,
             "#f1b6da"
            ],
            [
             0.4,
             "#fde0ef"
            ],
            [
             0.5,
             "#f7f7f7"
            ],
            [
             0.6,
             "#e6f5d0"
            ],
            [
             0.7,
             "#b8e186"
            ],
            [
             0.8,
             "#7fbc41"
            ],
            [
             0.9,
             "#4d9221"
            ],
            [
             1,
             "#276419"
            ]
           ],
           "sequential": [
            [
             0,
             "#0d0887"
            ],
            [
             0.1111111111111111,
             "#46039f"
            ],
            [
             0.2222222222222222,
             "#7201a8"
            ],
            [
             0.3333333333333333,
             "#9c179e"
            ],
            [
             0.4444444444444444,
             "#bd3786"
            ],
            [
             0.5555555555555556,
             "#d8576b"
            ],
            [
             0.6666666666666666,
             "#ed7953"
            ],
            [
             0.7777777777777778,
             "#fb9f3a"
            ],
            [
             0.8888888888888888,
             "#fdca26"
            ],
            [
             1,
             "#f0f921"
            ]
           ],
           "sequentialminus": [
            [
             0,
             "#0d0887"
            ],
            [
             0.1111111111111111,
             "#46039f"
            ],
            [
             0.2222222222222222,
             "#7201a8"
            ],
            [
             0.3333333333333333,
             "#9c179e"
            ],
            [
             0.4444444444444444,
             "#bd3786"
            ],
            [
             0.5555555555555556,
             "#d8576b"
            ],
            [
             0.6666666666666666,
             "#ed7953"
            ],
            [
             0.7777777777777778,
             "#fb9f3a"
            ],
            [
             0.8888888888888888,
             "#fdca26"
            ],
            [
             1,
             "#f0f921"
            ]
           ]
          },
          "colorway": [
           "#636efa",
           "#EF553B",
           "#00cc96",
           "#ab63fa",
           "#FFA15A",
           "#19d3f3",
           "#FF6692",
           "#B6E880",
           "#FF97FF",
           "#FECB52"
          ],
          "font": {
           "color": "#2a3f5f"
          },
          "geo": {
           "bgcolor": "white",
           "lakecolor": "white",
           "landcolor": "#E5ECF6",
           "showlakes": true,
           "showland": true,
           "subunitcolor": "white"
          },
          "hoverlabel": {
           "align": "left"
          },
          "hovermode": "closest",
          "mapbox": {
           "style": "light"
          },
          "paper_bgcolor": "white",
          "plot_bgcolor": "#E5ECF6",
          "polar": {
           "angularaxis": {
            "gridcolor": "white",
            "linecolor": "white",
            "ticks": ""
           },
           "bgcolor": "#E5ECF6",
           "radialaxis": {
            "gridcolor": "white",
            "linecolor": "white",
            "ticks": ""
           }
          },
          "scene": {
           "xaxis": {
            "backgroundcolor": "#E5ECF6",
            "gridcolor": "white",
            "gridwidth": 2,
            "linecolor": "white",
            "showbackground": true,
            "ticks": "",
            "zerolinecolor": "white"
           },
           "yaxis": {
            "backgroundcolor": "#E5ECF6",
            "gridcolor": "white",
            "gridwidth": 2,
            "linecolor": "white",
            "showbackground": true,
            "ticks": "",
            "zerolinecolor": "white"
           },
           "zaxis": {
            "backgroundcolor": "#E5ECF6",
            "gridcolor": "white",
            "gridwidth": 2,
            "linecolor": "white",
            "showbackground": true,
            "ticks": "",
            "zerolinecolor": "white"
           }
          },
          "shapedefaults": {
           "line": {
            "color": "#2a3f5f"
           }
          },
          "ternary": {
           "aaxis": {
            "gridcolor": "white",
            "linecolor": "white",
            "ticks": ""
           },
           "baxis": {
            "gridcolor": "white",
            "linecolor": "white",
            "ticks": ""
           },
           "bgcolor": "#E5ECF6",
           "caxis": {
            "gridcolor": "white",
            "linecolor": "white",
            "ticks": ""
           }
          },
          "title": {
           "x": 0.05
          },
          "xaxis": {
           "automargin": true,
           "gridcolor": "white",
           "linecolor": "white",
           "ticks": "",
           "title": {
            "standoff": 15
           },
           "zerolinecolor": "white",
           "zerolinewidth": 2
          },
          "yaxis": {
           "automargin": true,
           "gridcolor": "white",
           "linecolor": "white",
           "ticks": "",
           "title": {
            "standoff": 15
           },
           "zerolinecolor": "white",
           "zerolinewidth": 2
          }
         }
        },
        "xaxis": {
         "anchor": "y",
         "domain": [
          0,
          1
         ],
         "title": {
          "text": "Book_Name"
         }
        },
        "yaxis": {
         "anchor": "x",
         "domain": [
          0,
          1
         ],
         "title": {
          "text": "value"
         }
        }
       }
      }
     },
     "metadata": {},
     "output_type": "display_data"
    }
   ],
   "source": [
    "fig_characters_typed_in_each_book = px.bar(df_characters_typed_by_book, \n",
    "x = 'Book_Name', y = ['Characters', 'Characters_Typed'], barmode = 'overlay')\n",
    "fig_characters_typed_in_each_book.write_html(\n",
    "    'Analyses/characters_typed_by_book.html')\n",
    "fig_characters_typed_in_each_book.write_image(\n",
    "    'Analyses/characters_typed_by_book.png', \n",
    "    width = 1920, height = 1080, engine = 'kaleido', scale = 2)\n",
    "fig_characters_typed_in_each_book"
   ]
  },
  {
   "cell_type": "markdown",
   "metadata": {},
   "source": [
    "## Creating charts that show both book- and chapter-level data:"
   ]
  },
  {
   "cell_type": "code",
   "execution_count": 37,
   "metadata": {},
   "outputs": [
    {
     "data": {
      "text/html": [
       "<div>\n",
       "<style scoped>\n",
       "    .dataframe tbody tr th:only-of-type {\n",
       "        vertical-align: middle;\n",
       "    }\n",
       "\n",
       "    .dataframe tbody tr th {\n",
       "        vertical-align: top;\n",
       "    }\n",
       "\n",
       "    .dataframe thead th {\n",
       "        text-align: right;\n",
       "    }\n",
       "</style>\n",
       "<table border=\"1\" class=\"dataframe\">\n",
       "  <thead>\n",
       "    <tr style=\"text-align: right;\">\n",
       "      <th></th>\n",
       "      <th>Book_Order</th>\n",
       "      <th>Book_Name</th>\n",
       "      <th>Book_and_Chapter</th>\n",
       "      <th>Characters</th>\n",
       "      <th>Characters_Typed</th>\n",
       "      <th>proportion_typed</th>\n",
       "    </tr>\n",
       "  </thead>\n",
       "  <tbody>\n",
       "    <tr>\n",
       "      <th>0</th>\n",
       "      <td>1</td>\n",
       "      <td>GEN</td>\n",
       "      <td>GEN 1</td>\n",
       "      <td>3831</td>\n",
       "      <td>3831</td>\n",
       "      <td>1.0</td>\n",
       "    </tr>\n",
       "    <tr>\n",
       "      <th>1</th>\n",
       "      <td>1</td>\n",
       "      <td>GEN</td>\n",
       "      <td>GEN 10</td>\n",
       "      <td>2582</td>\n",
       "      <td>2582</td>\n",
       "      <td>1.0</td>\n",
       "    </tr>\n",
       "    <tr>\n",
       "      <th>2</th>\n",
       "      <td>1</td>\n",
       "      <td>GEN</td>\n",
       "      <td>GEN 11</td>\n",
       "      <td>3435</td>\n",
       "      <td>3435</td>\n",
       "      <td>1.0</td>\n",
       "    </tr>\n",
       "    <tr>\n",
       "      <th>3</th>\n",
       "      <td>1</td>\n",
       "      <td>GEN</td>\n",
       "      <td>GEN 12</td>\n",
       "      <td>2473</td>\n",
       "      <td>2473</td>\n",
       "      <td>1.0</td>\n",
       "    </tr>\n",
       "    <tr>\n",
       "      <th>4</th>\n",
       "      <td>1</td>\n",
       "      <td>GEN</td>\n",
       "      <td>GEN 13</td>\n",
       "      <td>2169</td>\n",
       "      <td>2169</td>\n",
       "      <td>1.0</td>\n",
       "    </tr>\n",
       "    <tr>\n",
       "      <th>...</th>\n",
       "      <td>...</td>\n",
       "      <td>...</td>\n",
       "      <td>...</td>\n",
       "      <td>...</td>\n",
       "      <td>...</td>\n",
       "      <td>...</td>\n",
       "    </tr>\n",
       "    <tr>\n",
       "      <th>1323</th>\n",
       "      <td>95</td>\n",
       "      <td>REV</td>\n",
       "      <td>REV 5</td>\n",
       "      <td>2054</td>\n",
       "      <td>0</td>\n",
       "      <td>0.0</td>\n",
       "    </tr>\n",
       "    <tr>\n",
       "      <th>1324</th>\n",
       "      <td>95</td>\n",
       "      <td>REV</td>\n",
       "      <td>REV 6</td>\n",
       "      <td>2503</td>\n",
       "      <td>0</td>\n",
       "      <td>0.0</td>\n",
       "    </tr>\n",
       "    <tr>\n",
       "      <th>1325</th>\n",
       "      <td>95</td>\n",
       "      <td>REV</td>\n",
       "      <td>REV 7</td>\n",
       "      <td>2452</td>\n",
       "      <td>0</td>\n",
       "      <td>0.0</td>\n",
       "    </tr>\n",
       "    <tr>\n",
       "      <th>1326</th>\n",
       "      <td>95</td>\n",
       "      <td>REV</td>\n",
       "      <td>REV 8</td>\n",
       "      <td>1900</td>\n",
       "      <td>0</td>\n",
       "      <td>0.0</td>\n",
       "    </tr>\n",
       "    <tr>\n",
       "      <th>1327</th>\n",
       "      <td>95</td>\n",
       "      <td>REV</td>\n",
       "      <td>REV 9</td>\n",
       "      <td>2838</td>\n",
       "      <td>0</td>\n",
       "      <td>0.0</td>\n",
       "    </tr>\n",
       "  </tbody>\n",
       "</table>\n",
       "<p>1328 rows × 6 columns</p>\n",
       "</div>"
      ],
      "text/plain": [
       "      Book_Order Book_Name Book_and_Chapter  Characters  Characters_Typed  \\\n",
       "0              1       GEN            GEN 1        3831              3831   \n",
       "1              1       GEN           GEN 10        2582              2582   \n",
       "2              1       GEN           GEN 11        3435              3435   \n",
       "3              1       GEN           GEN 12        2473              2473   \n",
       "4              1       GEN           GEN 13        2169              2169   \n",
       "...          ...       ...              ...         ...               ...   \n",
       "1323          95       REV            REV 5        2054                 0   \n",
       "1324          95       REV            REV 6        2503                 0   \n",
       "1325          95       REV            REV 7        2452                 0   \n",
       "1326          95       REV            REV 8        1900                 0   \n",
       "1327          95       REV            REV 9        2838                 0   \n",
       "\n",
       "      proportion_typed  \n",
       "0                  1.0  \n",
       "1                  1.0  \n",
       "2                  1.0  \n",
       "3                  1.0  \n",
       "4                  1.0  \n",
       "...                ...  \n",
       "1323               0.0  \n",
       "1324               0.0  \n",
       "1325               0.0  \n",
       "1326               0.0  \n",
       "1327               0.0  \n",
       "\n",
       "[1328 rows x 6 columns]"
      ]
     },
     "execution_count": 37,
     "metadata": {},
     "output_type": "execute_result"
    }
   ],
   "source": [
    "df_characters_typed_by_book_and_chapter = df_Bible.pivot_table(index = [\n",
    "'Book_Order', 'Book_Name', 'Book_and_Chapter'], values = [\n",
    "    'Characters', 'Characters_Typed'], aggfunc = 'sum').reset_index()\n",
    "df_characters_typed_by_book_and_chapter[\n",
    "'proportion_typed'] = df_characters_typed_by_book_and_chapter[\n",
    "'Characters_Typed'] / df_characters_typed_by_book_and_chapter['Characters']\n",
    "df_characters_typed_by_book_and_chapter.to_csv(\n",
    "    'Analyses/characters_typed_by_book_and_chapter.csv')\n",
    "df_characters_typed_by_book_and_chapter"
   ]
  },
  {
   "cell_type": "markdown",
   "metadata": {},
   "source": [
    "The following chart shows both books (as bars) and chapters (as sections of these bars). These sections are also color coded by the proportion of each chapter that has been typed."
   ]
  },
  {
   "cell_type": "code",
   "execution_count": 38,
   "metadata": {},
   "outputs": [
    {
     "data": {
      "application/vnd.plotly.v1+json": {
       "config": {
        "plotlyServerURL": "https://plot.ly"
       },
       "data": [
        {
         "alignmentgroup": "True",
         "hovertemplate": "Book_Name=%{x}<br>value=%{y}<br>proportion_typed=%{marker.color}<extra></extra>",
         "legendgroup": "",
         "marker": {
          "color": [
           1,
           1,
           1,
           1,
           1,
           1,
           1,
           1,
           1,
           1,
           1,
           1,
           1,
           1,
           0.8697135061391542,
           0,
           0,
           0,
           0,
           0,
           0,
           0,
           1,
           0,
           0,
           0,
           0,
           0,
           0,
           0,
           0,
           0,
           0,
           1,
           0,
           0,
           0,
           0,
           0,
           0,
           0,
           0,
           0,
           0,
           1,
           0,
           1,
           1,
           1,
           1,
           0,
           0,
           0,
           0,
           0,
           0,
           0,
           0,
           0.04460628129267182,
           0.04555256064690027,
           0,
           0,
           0,
           0,
           0,
           0,
           0,
           0,
           0,
           0,
           0,
           0,
           0.06560962274466922,
           0,
           0,
           0,
           0,
           0,
           0,
           0,
           0,
           0,
           0,
           0,
           0,
           0,
           0,
           0,
           0,
           0,
           0,
           0,
           0,
           0,
           0,
           0,
           0,
           0,
           0,
           0,
           0,
           0,
           0,
           0,
           0,
           0,
           0,
           0,
           0,
           0,
           0,
           0,
           0,
           0,
           0,
           0,
           0,
           0,
           0,
           0,
           0,
           0,
           0,
           0,
           0,
           0,
           0,
           0,
           0,
           0,
           0,
           0,
           0,
           0,
           0,
           0,
           0,
           0.052008238928939236,
           0,
           0,
           0,
           0,
           0,
           0,
           0,
           0,
           0,
           0,
           0,
           0,
           0,
           0,
           0,
           0,
           0,
           0,
           0,
           0,
           0,
           0,
           0,
           0,
           0,
           0,
           0,
           0,
           0,
           0,
           0,
           0,
           0,
           0,
           0,
           0,
           0,
           0,
           0,
           0,
           0,
           0,
           0,
           0,
           0,
           0,
           0,
           0,
           0,
           0,
           0,
           0,
           0,
           0,
           0,
           0,
           0,
           0,
           0,
           0,
           0,
           0,
           0,
           0,
           0,
           0,
           0,
           0,
           0,
           0,
           0,
           0,
           0,
           0,
           0,
           0,
           0,
           0,
           0,
           0,
           0,
           0,
           0,
           0,
           0,
           0.00515743756786102,
           0,
           0,
           0,
           0,
           0,
           0,
           0,
           0,
           0,
           0,
           0,
           0,
           0,
           0,
           0,
           0,
           0,
           0,
           0,
           0,
           0,
           0,
           0,
           0,
           0,
           0,
           0,
           0,
           0,
           0,
           0,
           0,
           0,
           0,
           0,
           0,
           0,
           0,
           0,
           0,
           0,
           0,
           0,
           0,
           0,
           0,
           0,
           0,
           0,
           0,
           0,
           0,
           0,
           0,
           0,
           0,
           0,
           0,
           0,
           0,
           0,
           0,
           0,
           0,
           0,
           0,
           0,
           0,
           0,
           0,
           0,
           0,
           0,
           0,
           0,
           0,
           0,
           0,
           0,
           0,
           0,
           0,
           0,
           0,
           0,
           0,
           0,
           0,
           0,
           0,
           0,
           0,
           0,
           0,
           0,
           0,
           0,
           0.0290626902008521,
           0,
           0,
           0,
           0,
           0,
           0,
           0,
           0,
           0,
           0,
           0,
           0,
           0,
           0,
           0,
           0,
           0,
           0,
           0,
           0,
           0,
           0,
           0,
           0,
           0,
           0,
           0,
           0,
           0,
           0,
           0,
           0,
           0,
           0,
           0,
           0,
           0,
           0,
           0,
           0,
           0,
           0,
           0,
           0,
           0,
           0,
           0,
           0,
           0,
           0,
           0,
           0,
           0,
           0,
           0,
           0,
           0,
           0,
           0,
           0,
           0,
           0,
           0,
           0,
           0,
           0,
           0,
           0,
           0,
           0,
           0,
           0,
           0,
           0,
           0,
           0,
           0,
           0,
           0,
           0,
           0,
           0,
           0,
           0,
           0,
           0,
           0,
           0,
           0,
           0,
           0,
           0,
           0,
           0,
           0,
           0,
           0,
           0,
           0,
           0,
           0,
           0,
           0,
           0,
           0,
           0,
           0,
           0,
           0,
           0,
           0,
           0,
           0,
           0,
           0,
           0,
           0,
           0,
           0,
           0,
           0,
           0,
           0,
           0,
           0,
           0,
           0,
           0,
           0,
           0,
           0,
           0,
           0,
           0,
           0,
           0,
           0,
           0,
           0,
           0,
           0,
           0,
           0,
           0,
           0,
           0,
           0,
           0,
           0,
           0,
           0,
           0,
           0,
           0,
           0,
           0,
           0,
           0,
           0,
           0,
           0,
           0,
           0,
           0,
           0,
           0,
           0,
           0,
           0,
           0,
           0,
           0,
           0,
           0,
           0,
           0,
           0,
           0,
           0,
           0,
           0,
           0,
           0,
           0,
           0,
           0,
           0,
           0,
           0,
           0,
           0,
           0,
           0,
           0,
           0,
           0,
           0,
           0,
           0,
           0,
           0,
           0,
           0,
           0,
           0,
           0,
           0,
           0,
           0,
           0,
           0,
           0,
           0,
           0,
           0,
           0,
           0,
           0,
           0,
           0,
           0,
           0,
           0,
           0,
           0,
           0,
           0,
           0,
           0,
           0,
           0,
           0,
           0,
           0,
           0,
           0,
           0,
           0,
           0,
           0,
           0,
           0,
           0,
           0,
           0,
           0,
           0,
           0,
           0,
           0,
           0,
           0,
           0,
           0,
           0,
           0,
           0,
           0,
           0,
           0,
           0,
           0,
           0,
           0,
           0,
           0,
           0,
           0,
           0,
           0,
           0,
           0,
           0,
           0,
           0,
           0,
           0,
           0,
           0,
           0,
           0,
           0,
           0,
           0,
           0,
           0,
           0,
           0,
           0,
           0,
           0,
           0,
           0,
           0,
           0,
           0,
           0,
           0,
           0,
           0,
           0,
           0,
           0,
           0,
           0,
           0,
           0,
           0,
           0,
           0,
           0,
           0,
           0,
           0,
           0,
           0,
           0,
           0,
           0,
           0,
           0,
           0,
           0,
           0,
           0,
           0,
           0,
           0,
           0,
           0,
           0,
           0,
           0,
           0,
           0,
           0,
           0,
           0,
           0,
           0,
           0.11255156157925751,
           0,
           0,
           0,
           0,
           0,
           0,
           0,
           0,
           0,
           0,
           0,
           0,
           0,
           0,
           0,
           0,
           0,
           0,
           0,
           0,
           0,
           0,
           0,
           0,
           0,
           0,
           0,
           0,
           0,
           0,
           0,
           0,
           0,
           0,
           0,
           0,
           0,
           0,
           0,
           0,
           0,
           0,
           0,
           0,
           0,
           0,
           0,
           0,
           0,
           0,
           0,
           0,
           0,
           0,
           0,
           0,
           0,
           0,
           0,
           0,
           0,
           0,
           0,
           0,
           0,
           0,
           0,
           0,
           0,
           0,
           0,
           0,
           0,
           0,
           0,
           0,
           0,
           0,
           0,
           0,
           0,
           0,
           0,
           0,
           0,
           0,
           0,
           0,
           0,
           0,
           0,
           0,
           0,
           0,
           0,
           0,
           0,
           0,
           0,
           0,
           0,
           0,
           0,
           0,
           0,
           0,
           0,
           0,
           0,
           0,
           0,
           0,
           0,
           0,
           0,
           0,
           0,
           0,
           0,
           0,
           0,
           0,
           0,
           0,
           0,
           0,
           0,
           0,
           0,
           0,
           0,
           0,
           0,
           0,
           0,
           0,
           0,
           0,
           0,
           0,
           0,
           0,
           0,
           0,
           0,
           0,
           0,
           0,
           0,
           0,
           0,
           0,
           0,
           0,
           0,
           0,
           0,
           0,
           0,
           0,
           0,
           0,
           0,
           0,
           0,
           0,
           0,
           0,
           0,
           0,
           0,
           0,
           0,
           0,
           0,
           0,
           0,
           0,
           0,
           0,
           0,
           0,
           0,
           0,
           0,
           0,
           0,
           0,
           0,
           0,
           0,
           0,
           0,
           0,
           0,
           0,
           0,
           0,
           0,
           0,
           0,
           0,
           0,
           0,
           0,
           0,
           0,
           0,
           0,
           0,
           0,
           0,
           0,
           0,
           0,
           0,
           0,
           0,
           0,
           0,
           0,
           0,
           0,
           0,
           0,
           0,
           0,
           0,
           0,
           0,
           0,
           0,
           0,
           0,
           0,
           0,
           0,
           0,
           0,
           0,
           0,
           0,
           0,
           0,
           0,
           0,
           0,
           0,
           0,
           0,
           0,
           0,
           0,
           0,
           0,
           0,
           0,
           0,
           0,
           0,
           0,
           0,
           0,
           0,
           0,
           0,
           0,
           0,
           0,
           0,
           0,
           0,
           0,
           0,
           0,
           0,
           0,
           0,
           0,
           0,
           0,
           0,
           0,
           0,
           0,
           0,
           0,
           0,
           0,
           0,
           0,
           0,
           0,
           0,
           0,
           0,
           0,
           0,
           0,
           0,
           0,
           0,
           0,
           0,
           0,
           0,
           0,
           0,
           0,
           0,
           0,
           0,
           0,
           0,
           0,
           0,
           0,
           0,
           0,
           0,
           0,
           0,
           0,
           0,
           0,
           0,
           0,
           0,
           0,
           0,
           0,
           0,
           0,
           0,
           0,
           0,
           0,
           0,
           0,
           0,
           0,
           0,
           0,
           0,
           0,
           0,
           0,
           0,
           0,
           0,
           0,
           0,
           0,
           0,
           0,
           0,
           0,
           0,
           0,
           0,
           0,
           0,
           0,
           0,
           0,
           0,
           0,
           0,
           0,
           0,
           0,
           0,
           0,
           0,
           0,
           0,
           0,
           0,
           0,
           0,
           0,
           0,
           0,
           0,
           0,
           0,
           0,
           0,
           0,
           0,
           0,
           0,
           0,
           0,
           0,
           0,
           0,
           0,
           0,
           0,
           0,
           0,
           0,
           0,
           0,
           0,
           0,
           0,
           0,
           0,
           0,
           0,
           0,
           0,
           0,
           0,
           0,
           0,
           0,
           0,
           0,
           0,
           0,
           0,
           0,
           0,
           0,
           0,
           0,
           0,
           0,
           0,
           0,
           0,
           0,
           0,
           0,
           0,
           0,
           0,
           0,
           0,
           0,
           0,
           0,
           0,
           0,
           0,
           0,
           0,
           0,
           0,
           0,
           0,
           0,
           0,
           0,
           0,
           0,
           0,
           0,
           0,
           0,
           0,
           0,
           0,
           0,
           0,
           0,
           0,
           0,
           0,
           0,
           0,
           0,
           0,
           0,
           0,
           0,
           0,
           0,
           0,
           0,
           0,
           0,
           0,
           0,
           0,
           0,
           0,
           0,
           0,
           0,
           0,
           0,
           0,
           0,
           0,
           0,
           0,
           0,
           0,
           0,
           0,
           0,
           0,
           0,
           0,
           0,
           0,
           0,
           0,
           0,
           0,
           0,
           0,
           0,
           0,
           0,
           0,
           0,
           0,
           0,
           0,
           0,
           0,
           0,
           0,
           0,
           0,
           0,
           0,
           0,
           0,
           0,
           0,
           0,
           0,
           0,
           0,
           0,
           0,
           0,
           0,
           0,
           0,
           0,
           0,
           0,
           0,
           0,
           0,
           0,
           0,
           0,
           0,
           0,
           0,
           0,
           0,
           0,
           0,
           0,
           0,
           0,
           0,
           0,
           0,
           0,
           0,
           0,
           0,
           0,
           0,
           0,
           0,
           0,
           0,
           0,
           0,
           0,
           0,
           0,
           0,
           0,
           0,
           0,
           0,
           0,
           0,
           0,
           0,
           0,
           0,
           0,
           0,
           0,
           0,
           0,
           0,
           0,
           0,
           0,
           0,
           0,
           0,
           0,
           0,
           0,
           0,
           0,
           0,
           0,
           0,
           0,
           0,
           0,
           0,
           0,
           0,
           0,
           0,
           0,
           0,
           0,
           0,
           0,
           0,
           0,
           0,
           0,
           0,
           0,
           0,
           0,
           1,
           1,
           1,
           1,
           1,
           0.294921875,
           1,
           0.03929500144466917,
           0,
           0,
           0,
           0,
           0,
           0,
           0,
           0,
           0,
           0,
           0,
           0,
           0,
           0,
           0.023238925199709513,
           0,
           0,
           0,
           0,
           0,
           0,
           0
          ],
          "coloraxis": "coloraxis",
          "pattern": {
           "shape": ""
          }
         },
         "name": "",
         "offsetgroup": "",
         "orientation": "v",
         "showlegend": false,
         "textposition": "auto",
         "type": "bar",
         "x": [
          "GEN",
          "GEN",
          "GEN",
          "GEN",
          "GEN",
          "GEN",
          "GEN",
          "GEN",
          "GEN",
          "GEN",
          "GEN",
          "GEN",
          "GEN",
          "GEN",
          "GEN",
          "GEN",
          "GEN",
          "GEN",
          "GEN",
          "GEN",
          "GEN",
          "GEN",
          "GEN",
          "GEN",
          "GEN",
          "GEN",
          "GEN",
          "GEN",
          "GEN",
          "GEN",
          "GEN",
          "GEN",
          "GEN",
          "GEN",
          "GEN",
          "GEN",
          "GEN",
          "GEN",
          "GEN",
          "GEN",
          "GEN",
          "GEN",
          "GEN",
          "GEN",
          "GEN",
          "GEN",
          "GEN",
          "GEN",
          "GEN",
          "GEN",
          "EXO",
          "EXO",
          "EXO",
          "EXO",
          "EXO",
          "EXO",
          "EXO",
          "EXO",
          "EXO",
          "EXO",
          "EXO",
          "EXO",
          "EXO",
          "EXO",
          "EXO",
          "EXO",
          "EXO",
          "EXO",
          "EXO",
          "EXO",
          "EXO",
          "EXO",
          "EXO",
          "EXO",
          "EXO",
          "EXO",
          "EXO",
          "EXO",
          "EXO",
          "EXO",
          "EXO",
          "EXO",
          "EXO",
          "EXO",
          "EXO",
          "EXO",
          "EXO",
          "EXO",
          "EXO",
          "EXO",
          "LEV",
          "LEV",
          "LEV",
          "LEV",
          "LEV",
          "LEV",
          "LEV",
          "LEV",
          "LEV",
          "LEV",
          "LEV",
          "LEV",
          "LEV",
          "LEV",
          "LEV",
          "LEV",
          "LEV",
          "LEV",
          "LEV",
          "LEV",
          "LEV",
          "LEV",
          "LEV",
          "LEV",
          "LEV",
          "LEV",
          "LEV",
          "NUM",
          "NUM",
          "NUM",
          "NUM",
          "NUM",
          "NUM",
          "NUM",
          "NUM",
          "NUM",
          "NUM",
          "NUM",
          "NUM",
          "NUM",
          "NUM",
          "NUM",
          "NUM",
          "NUM",
          "NUM",
          "NUM",
          "NUM",
          "NUM",
          "NUM",
          "NUM",
          "NUM",
          "NUM",
          "NUM",
          "NUM",
          "NUM",
          "NUM",
          "NUM",
          "NUM",
          "NUM",
          "NUM",
          "NUM",
          "NUM",
          "NUM",
          "DEU",
          "DEU",
          "DEU",
          "DEU",
          "DEU",
          "DEU",
          "DEU",
          "DEU",
          "DEU",
          "DEU",
          "DEU",
          "DEU",
          "DEU",
          "DEU",
          "DEU",
          "DEU",
          "DEU",
          "DEU",
          "DEU",
          "DEU",
          "DEU",
          "DEU",
          "DEU",
          "DEU",
          "DEU",
          "DEU",
          "DEU",
          "DEU",
          "DEU",
          "DEU",
          "DEU",
          "DEU",
          "DEU",
          "DEU",
          "JOS",
          "JOS",
          "JOS",
          "JOS",
          "JOS",
          "JOS",
          "JOS",
          "JOS",
          "JOS",
          "JOS",
          "JOS",
          "JOS",
          "JOS",
          "JOS",
          "JOS",
          "JOS",
          "JOS",
          "JOS",
          "JOS",
          "JOS",
          "JOS",
          "JOS",
          "JOS",
          "JOS",
          "JDG",
          "JDG",
          "JDG",
          "JDG",
          "JDG",
          "JDG",
          "JDG",
          "JDG",
          "JDG",
          "JDG",
          "JDG",
          "JDG",
          "JDG",
          "JDG",
          "JDG",
          "JDG",
          "JDG",
          "JDG",
          "JDG",
          "JDG",
          "JDG",
          "RUT",
          "RUT",
          "RUT",
          "RUT",
          "1SA",
          "1SA",
          "1SA",
          "1SA",
          "1SA",
          "1SA",
          "1SA",
          "1SA",
          "1SA",
          "1SA",
          "1SA",
          "1SA",
          "1SA",
          "1SA",
          "1SA",
          "1SA",
          "1SA",
          "1SA",
          "1SA",
          "1SA",
          "1SA",
          "1SA",
          "1SA",
          "1SA",
          "1SA",
          "1SA",
          "1SA",
          "1SA",
          "1SA",
          "1SA",
          "1SA",
          "2SA",
          "2SA",
          "2SA",
          "2SA",
          "2SA",
          "2SA",
          "2SA",
          "2SA",
          "2SA",
          "2SA",
          "2SA",
          "2SA",
          "2SA",
          "2SA",
          "2SA",
          "2SA",
          "2SA",
          "2SA",
          "2SA",
          "2SA",
          "2SA",
          "2SA",
          "2SA",
          "2SA",
          "1KI",
          "1KI",
          "1KI",
          "1KI",
          "1KI",
          "1KI",
          "1KI",
          "1KI",
          "1KI",
          "1KI",
          "1KI",
          "1KI",
          "1KI",
          "1KI",
          "1KI",
          "1KI",
          "1KI",
          "1KI",
          "1KI",
          "1KI",
          "1KI",
          "1KI",
          "2KI",
          "2KI",
          "2KI",
          "2KI",
          "2KI",
          "2KI",
          "2KI",
          "2KI",
          "2KI",
          "2KI",
          "2KI",
          "2KI",
          "2KI",
          "2KI",
          "2KI",
          "2KI",
          "2KI",
          "2KI",
          "2KI",
          "2KI",
          "2KI",
          "2KI",
          "2KI",
          "2KI",
          "2KI",
          "1CH",
          "1CH",
          "1CH",
          "1CH",
          "1CH",
          "1CH",
          "1CH",
          "1CH",
          "1CH",
          "1CH",
          "1CH",
          "1CH",
          "1CH",
          "1CH",
          "1CH",
          "1CH",
          "1CH",
          "1CH",
          "1CH",
          "1CH",
          "1CH",
          "1CH",
          "1CH",
          "1CH",
          "1CH",
          "1CH",
          "1CH",
          "1CH",
          "1CH",
          "2CH",
          "2CH",
          "2CH",
          "2CH",
          "2CH",
          "2CH",
          "2CH",
          "2CH",
          "2CH",
          "2CH",
          "2CH",
          "2CH",
          "2CH",
          "2CH",
          "2CH",
          "2CH",
          "2CH",
          "2CH",
          "2CH",
          "2CH",
          "2CH",
          "2CH",
          "2CH",
          "2CH",
          "2CH",
          "2CH",
          "2CH",
          "2CH",
          "2CH",
          "2CH",
          "2CH",
          "2CH",
          "2CH",
          "2CH",
          "2CH",
          "2CH",
          "EZR",
          "EZR",
          "EZR",
          "EZR",
          "EZR",
          "EZR",
          "EZR",
          "EZR",
          "EZR",
          "EZR",
          "NEH",
          "NEH",
          "NEH",
          "NEH",
          "NEH",
          "NEH",
          "NEH",
          "NEH",
          "NEH",
          "NEH",
          "NEH",
          "NEH",
          "NEH",
          "JOB",
          "JOB",
          "JOB",
          "JOB",
          "JOB",
          "JOB",
          "JOB",
          "JOB",
          "JOB",
          "JOB",
          "JOB",
          "JOB",
          "JOB",
          "JOB",
          "JOB",
          "JOB",
          "JOB",
          "JOB",
          "JOB",
          "JOB",
          "JOB",
          "JOB",
          "JOB",
          "JOB",
          "JOB",
          "JOB",
          "JOB",
          "JOB",
          "JOB",
          "JOB",
          "JOB",
          "JOB",
          "JOB",
          "JOB",
          "JOB",
          "JOB",
          "JOB",
          "JOB",
          "JOB",
          "JOB",
          "JOB",
          "JOB",
          "PSA",
          "PSA",
          "PSA",
          "PSA",
          "PSA",
          "PSA",
          "PSA",
          "PSA",
          "PSA",
          "PSA",
          "PSA",
          "PSA",
          "PSA",
          "PSA",
          "PSA",
          "PSA",
          "PSA",
          "PSA",
          "PSA",
          "PSA",
          "PSA",
          "PSA",
          "PSA",
          "PSA",
          "PSA",
          "PSA",
          "PSA",
          "PSA",
          "PSA",
          "PSA",
          "PSA",
          "PSA",
          "PSA",
          "PSA",
          "PSA",
          "PSA",
          "PSA",
          "PSA",
          "PSA",
          "PSA",
          "PSA",
          "PSA",
          "PSA",
          "PSA",
          "PSA",
          "PSA",
          "PSA",
          "PSA",
          "PSA",
          "PSA",
          "PSA",
          "PSA",
          "PSA",
          "PSA",
          "PSA",
          "PSA",
          "PSA",
          "PSA",
          "PSA",
          "PSA",
          "PSA",
          "PSA",
          "PSA",
          "PSA",
          "PSA",
          "PSA",
          "PSA",
          "PSA",
          "PSA",
          "PSA",
          "PSA",
          "PSA",
          "PSA",
          "PSA",
          "PSA",
          "PSA",
          "PSA",
          "PSA",
          "PSA",
          "PSA",
          "PSA",
          "PSA",
          "PSA",
          "PSA",
          "PSA",
          "PSA",
          "PSA",
          "PSA",
          "PSA",
          "PSA",
          "PSA",
          "PSA",
          "PSA",
          "PSA",
          "PSA",
          "PSA",
          "PSA",
          "PSA",
          "PSA",
          "PSA",
          "PSA",
          "PSA",
          "PSA",
          "PSA",
          "PSA",
          "PSA",
          "PSA",
          "PSA",
          "PSA",
          "PSA",
          "PSA",
          "PSA",
          "PSA",
          "PSA",
          "PSA",
          "PSA",
          "PSA",
          "PSA",
          "PSA",
          "PSA",
          "PSA",
          "PSA",
          "PSA",
          "PSA",
          "PSA",
          "PSA",
          "PSA",
          "PSA",
          "PSA",
          "PSA",
          "PSA",
          "PSA",
          "PSA",
          "PSA",
          "PSA",
          "PSA",
          "PSA",
          "PSA",
          "PSA",
          "PSA",
          "PSA",
          "PSA",
          "PSA",
          "PSA",
          "PSA",
          "PSA",
          "PSA",
          "PSA",
          "PSA",
          "PSA",
          "PRO",
          "PRO",
          "PRO",
          "PRO",
          "PRO",
          "PRO",
          "PRO",
          "PRO",
          "PRO",
          "PRO",
          "PRO",
          "PRO",
          "PRO",
          "PRO",
          "PRO",
          "PRO",
          "PRO",
          "PRO",
          "PRO",
          "PRO",
          "PRO",
          "PRO",
          "PRO",
          "PRO",
          "PRO",
          "PRO",
          "PRO",
          "PRO",
          "PRO",
          "PRO",
          "PRO",
          "ECC",
          "ECC",
          "ECC",
          "ECC",
          "ECC",
          "ECC",
          "ECC",
          "ECC",
          "ECC",
          "ECC",
          "ECC",
          "ECC",
          "SNG",
          "SNG",
          "SNG",
          "SNG",
          "SNG",
          "SNG",
          "SNG",
          "SNG",
          "ISA",
          "ISA",
          "ISA",
          "ISA",
          "ISA",
          "ISA",
          "ISA",
          "ISA",
          "ISA",
          "ISA",
          "ISA",
          "ISA",
          "ISA",
          "ISA",
          "ISA",
          "ISA",
          "ISA",
          "ISA",
          "ISA",
          "ISA",
          "ISA",
          "ISA",
          "ISA",
          "ISA",
          "ISA",
          "ISA",
          "ISA",
          "ISA",
          "ISA",
          "ISA",
          "ISA",
          "ISA",
          "ISA",
          "ISA",
          "ISA",
          "ISA",
          "ISA",
          "ISA",
          "ISA",
          "ISA",
          "ISA",
          "ISA",
          "ISA",
          "ISA",
          "ISA",
          "ISA",
          "ISA",
          "ISA",
          "ISA",
          "ISA",
          "ISA",
          "ISA",
          "ISA",
          "ISA",
          "ISA",
          "ISA",
          "ISA",
          "ISA",
          "ISA",
          "ISA",
          "ISA",
          "ISA",
          "ISA",
          "ISA",
          "ISA",
          "ISA",
          "JER",
          "JER",
          "JER",
          "JER",
          "JER",
          "JER",
          "JER",
          "JER",
          "JER",
          "JER",
          "JER",
          "JER",
          "JER",
          "JER",
          "JER",
          "JER",
          "JER",
          "JER",
          "JER",
          "JER",
          "JER",
          "JER",
          "JER",
          "JER",
          "JER",
          "JER",
          "JER",
          "JER",
          "JER",
          "JER",
          "JER",
          "JER",
          "JER",
          "JER",
          "JER",
          "JER",
          "JER",
          "JER",
          "JER",
          "JER",
          "JER",
          "JER",
          "JER",
          "JER",
          "JER",
          "JER",
          "JER",
          "JER",
          "JER",
          "JER",
          "JER",
          "JER",
          "LAM",
          "LAM",
          "LAM",
          "LAM",
          "LAM",
          "EZK",
          "EZK",
          "EZK",
          "EZK",
          "EZK",
          "EZK",
          "EZK",
          "EZK",
          "EZK",
          "EZK",
          "EZK",
          "EZK",
          "EZK",
          "EZK",
          "EZK",
          "EZK",
          "EZK",
          "EZK",
          "EZK",
          "EZK",
          "EZK",
          "EZK",
          "EZK",
          "EZK",
          "EZK",
          "EZK",
          "EZK",
          "EZK",
          "EZK",
          "EZK",
          "EZK",
          "EZK",
          "EZK",
          "EZK",
          "EZK",
          "EZK",
          "EZK",
          "EZK",
          "EZK",
          "EZK",
          "EZK",
          "EZK",
          "EZK",
          "EZK",
          "EZK",
          "EZK",
          "EZK",
          "EZK",
          "HOS",
          "HOS",
          "HOS",
          "HOS",
          "HOS",
          "HOS",
          "HOS",
          "HOS",
          "HOS",
          "HOS",
          "HOS",
          "HOS",
          "HOS",
          "HOS",
          "JOL",
          "JOL",
          "JOL",
          "AMO",
          "AMO",
          "AMO",
          "AMO",
          "AMO",
          "AMO",
          "AMO",
          "AMO",
          "AMO",
          "OBA",
          "JON",
          "JON",
          "JON",
          "JON",
          "MIC",
          "MIC",
          "MIC",
          "MIC",
          "MIC",
          "MIC",
          "MIC",
          "NAM",
          "NAM",
          "NAM",
          "HAB",
          "HAB",
          "HAB",
          "ZEP",
          "ZEP",
          "ZEP",
          "HAG",
          "HAG",
          "ZEC",
          "ZEC",
          "ZEC",
          "ZEC",
          "ZEC",
          "ZEC",
          "ZEC",
          "ZEC",
          "ZEC",
          "ZEC",
          "ZEC",
          "ZEC",
          "ZEC",
          "ZEC",
          "MAL",
          "MAL",
          "MAL",
          "MAL",
          "TOB",
          "TOB",
          "TOB",
          "TOB",
          "TOB",
          "TOB",
          "TOB",
          "TOB",
          "TOB",
          "TOB",
          "TOB",
          "TOB",
          "TOB",
          "TOB",
          "JDT",
          "JDT",
          "JDT",
          "JDT",
          "JDT",
          "JDT",
          "JDT",
          "JDT",
          "JDT",
          "JDT",
          "JDT",
          "JDT",
          "JDT",
          "JDT",
          "JDT",
          "JDT",
          "ESG",
          "ESG",
          "ESG",
          "ESG",
          "ESG",
          "ESG",
          "ESG",
          "ESG",
          "ESG",
          "ESG",
          "WIS",
          "WIS",
          "WIS",
          "WIS",
          "WIS",
          "WIS",
          "WIS",
          "WIS",
          "WIS",
          "WIS",
          "WIS",
          "WIS",
          "WIS",
          "WIS",
          "WIS",
          "WIS",
          "WIS",
          "WIS",
          "WIS",
          "SIR",
          "SIR",
          "SIR",
          "SIR",
          "SIR",
          "SIR",
          "SIR",
          "SIR",
          "SIR",
          "SIR",
          "SIR",
          "SIR",
          "SIR",
          "SIR",
          "SIR",
          "SIR",
          "SIR",
          "SIR",
          "SIR",
          "SIR",
          "SIR",
          "SIR",
          "SIR",
          "SIR",
          "SIR",
          "SIR",
          "SIR",
          "SIR",
          "SIR",
          "SIR",
          "SIR",
          "SIR",
          "SIR",
          "SIR",
          "SIR",
          "SIR",
          "SIR",
          "SIR",
          "SIR",
          "SIR",
          "SIR",
          "SIR",
          "SIR",
          "SIR",
          "SIR",
          "SIR",
          "SIR",
          "SIR",
          "SIR",
          "SIR",
          "SIR",
          "BAR",
          "BAR",
          "BAR",
          "BAR",
          "BAR",
          "BAR",
          "1MA",
          "1MA",
          "1MA",
          "1MA",
          "1MA",
          "1MA",
          "1MA",
          "1MA",
          "1MA",
          "1MA",
          "1MA",
          "1MA",
          "1MA",
          "1MA",
          "1MA",
          "1MA",
          "2MA",
          "2MA",
          "2MA",
          "2MA",
          "2MA",
          "2MA",
          "2MA",
          "2MA",
          "2MA",
          "2MA",
          "2MA",
          "2MA",
          "2MA",
          "2MA",
          "2MA",
          "DAG",
          "DAG",
          "DAG",
          "DAG",
          "DAG",
          "DAG",
          "DAG",
          "DAG",
          "DAG",
          "DAG",
          "DAG",
          "DAG",
          "DAG",
          "DAG",
          "MAT",
          "MAT",
          "MAT",
          "MAT",
          "MAT",
          "MAT",
          "MAT",
          "MAT",
          "MAT",
          "MAT",
          "MAT",
          "MAT",
          "MAT",
          "MAT",
          "MAT",
          "MAT",
          "MAT",
          "MAT",
          "MAT",
          "MAT",
          "MAT",
          "MAT",
          "MAT",
          "MAT",
          "MAT",
          "MAT",
          "MAT",
          "MAT",
          "MRK",
          "MRK",
          "MRK",
          "MRK",
          "MRK",
          "MRK",
          "MRK",
          "MRK",
          "MRK",
          "MRK",
          "MRK",
          "MRK",
          "MRK",
          "MRK",
          "MRK",
          "MRK",
          "LUK",
          "LUK",
          "LUK",
          "LUK",
          "LUK",
          "LUK",
          "LUK",
          "LUK",
          "LUK",
          "LUK",
          "LUK",
          "LUK",
          "LUK",
          "LUK",
          "LUK",
          "LUK",
          "LUK",
          "LUK",
          "LUK",
          "LUK",
          "LUK",
          "LUK",
          "LUK",
          "LUK",
          "JHN",
          "JHN",
          "JHN",
          "JHN",
          "JHN",
          "JHN",
          "JHN",
          "JHN",
          "JHN",
          "JHN",
          "JHN",
          "JHN",
          "JHN",
          "JHN",
          "JHN",
          "JHN",
          "JHN",
          "JHN",
          "JHN",
          "JHN",
          "JHN",
          "ACT",
          "ACT",
          "ACT",
          "ACT",
          "ACT",
          "ACT",
          "ACT",
          "ACT",
          "ACT",
          "ACT",
          "ACT",
          "ACT",
          "ACT",
          "ACT",
          "ACT",
          "ACT",
          "ACT",
          "ACT",
          "ACT",
          "ACT",
          "ACT",
          "ACT",
          "ACT",
          "ACT",
          "ACT",
          "ACT",
          "ACT",
          "ACT",
          "ROM",
          "ROM",
          "ROM",
          "ROM",
          "ROM",
          "ROM",
          "ROM",
          "ROM",
          "ROM",
          "ROM",
          "ROM",
          "ROM",
          "ROM",
          "ROM",
          "ROM",
          "ROM",
          "1CO",
          "1CO",
          "1CO",
          "1CO",
          "1CO",
          "1CO",
          "1CO",
          "1CO",
          "1CO",
          "1CO",
          "1CO",
          "1CO",
          "1CO",
          "1CO",
          "1CO",
          "1CO",
          "2CO",
          "2CO",
          "2CO",
          "2CO",
          "2CO",
          "2CO",
          "2CO",
          "2CO",
          "2CO",
          "2CO",
          "2CO",
          "2CO",
          "2CO",
          "GAL",
          "GAL",
          "GAL",
          "GAL",
          "GAL",
          "GAL",
          "EPH",
          "EPH",
          "EPH",
          "EPH",
          "EPH",
          "EPH",
          "PHP",
          "PHP",
          "PHP",
          "PHP",
          "COL",
          "COL",
          "COL",
          "COL",
          "1TH",
          "1TH",
          "1TH",
          "1TH",
          "1TH",
          "2TH",
          "2TH",
          "2TH",
          "1TI",
          "1TI",
          "1TI",
          "1TI",
          "1TI",
          "1TI",
          "2TI",
          "2TI",
          "2TI",
          "2TI",
          "TIT",
          "TIT",
          "TIT",
          "PHM",
          "HEB",
          "HEB",
          "HEB",
          "HEB",
          "HEB",
          "HEB",
          "HEB",
          "HEB",
          "HEB",
          "HEB",
          "HEB",
          "HEB",
          "HEB",
          "JAS",
          "JAS",
          "JAS",
          "JAS",
          "JAS",
          "1PE",
          "1PE",
          "1PE",
          "1PE",
          "1PE",
          "2PE",
          "2PE",
          "2PE",
          "1JN",
          "1JN",
          "1JN",
          "1JN",
          "1JN",
          "2JN",
          "3JN",
          "JUD",
          "REV",
          "REV",
          "REV",
          "REV",
          "REV",
          "REV",
          "REV",
          "REV",
          "REV",
          "REV",
          "REV",
          "REV",
          "REV",
          "REV",
          "REV",
          "REV",
          "REV",
          "REV",
          "REV",
          "REV",
          "REV",
          "REV"
         ],
         "xaxis": "x",
         "y": [
          3831,
          2582,
          3435,
          2473,
          2169,
          3050,
          2262,
          2022,
          3448,
          4059,
          5193,
          2966,
          2472,
          3750,
          2932,
          2577,
          8490,
          3454,
          4288,
          5813,
          2929,
          3955,
          3247,
          4945,
          6821,
          3980,
          2488,
          3891,
          3145,
          4463,
          4603,
          3806,
          2913,
          2993,
          2787,
          6768,
          4798,
          4533,
          4119,
          3559,
          3758,
          4875,
          3188,
          3845,
          2965,
          3412,
          2707,
          2669,
          2735,
          3130,
          2342,
          4368,
          1591,
          7280,
          3274,
          4584,
          3543,
          5078,
          2197,
          3710,
          3397,
          3073,
          2879,
          4271,
          3810,
          4133,
          2305,
          4284,
          4751,
          2830,
          6040,
          6359,
          3658,
          4767,
          2202,
          5310,
          3247,
          5077,
          4118,
          4655,
          3284,
          4249,
          5089,
          4090,
          3952,
          3075,
          3713,
          3399,
          4667,
          4841,
          2435,
          3271,
          5410,
          1256,
          8928,
          8144,
          4611,
          5593,
          2696,
          3564,
          4606,
          2302,
          4322,
          2889,
          4388,
          6241,
          2642,
          7552,
          6204,
          4663,
          2400,
          5361,
          3575,
          4327,
          5156,
          4739,
          3092,
          6742,
          4304,
          5003,
          1880,
          3654,
          6100,
          5472,
          6501,
          1575,
          5620,
          3422,
          4123,
          3919,
          4572,
          5635,
          3494,
          3085,
          2297,
          7751,
          3059,
          3884,
          5004,
          6494,
          2502,
          6171,
          5294,
          5010,
          3046,
          4921,
          2362,
          6812,
          4599,
          3726,
          10309,
          3584,
          3599,
          6224,
          2937,
          4562,
          5215,
          2988,
          3374,
          3373,
          3556,
          3506,
          3018,
          3067,
          5118,
          3144,
          3518,
          4358,
          3473,
          3268,
          2781,
          3280,
          2974,
          10263,
          4168,
          4131,
          3158,
          4970,
          6508,
          3867,
          1500,
          7404,
          4485,
          3171,
          4299,
          2833,
          4853,
          2863,
          6846,
          3593,
          2426,
          4382,
          2444,
          5194,
          1410,
          3455,
          3915,
          4996,
          3670,
          1611,
          5645,
          6794,
          2759,
          5078,
          2761,
          3531,
          2642,
          4427,
          4675,
          5716,
          3888,
          4942,
          2435,
          6169,
          2077,
          3495,
          3295,
          3095,
          5253,
          1860,
          5036,
          5206,
          3441,
          7368,
          3746,
          4249,
          3709,
          3931,
          6189,
          4785,
          4895,
          8189,
          3097,
          3674,
          2464,
          3270,
          3653,
          4246,
          2375,
          3806,
          3660,
          8109,
          4833,
          3267,
          8361,
          4042,
          3419,
          5345,
          6127,
          2472,
          3727,
          4132,
          3152,
          6840,
          4216,
          1940,
          4051,
          2144,
          2523,
          4756,
          1803,
          3554,
          2051,
          3692,
          2601,
          2674,
          4670,
          3434,
          3080,
          3811,
          4810,
          5527,
          5344,
          5406,
          3585,
          4637,
          5435,
          7023,
          4434,
          4192,
          3939,
          4631,
          4441,
          4241,
          5579,
          2131,
          3121,
          3321,
          4130,
          2366,
          1934,
          7452,
          4229,
          6313,
          5174,
          5170,
          4840,
          4757,
          5037,
          3067,
          6470,
          3470,
          7237,
          7113,
          4407,
          7377,
          4180,
          3633,
          2676,
          5002,
          7124,
          10862,
          4136,
          3104,
          5890,
          3587,
          3499,
          3834,
          4377,
          5406,
          3261,
          6572,
          6026,
          5628,
          3834,
          3218,
          3759,
          3468,
          7358,
          3030,
          4877,
          4215,
          6166,
          4732,
          4768,
          3976,
          4610,
          5769,
          3487,
          1881,
          5023,
          5168,
          1866,
          1763,
          3642,
          4366,
          3741,
          2199,
          3176,
          4798,
          1337,
          4553,
          3035,
          3473,
          2889,
          2912,
          3928,
          4257,
          4062,
          5052,
          1899,
          4424,
          3362,
          7362,
          4092,
          2644,
          5138,
          2650,
          2862,
          2562,
          2537,
          3315,
          2249,
          2582,
          2336,
          2420,
          5088,
          1853,
          3254,
          5907,
          3152,
          2230,
          3830,
          4624,
          4872,
          3717,
          1239,
          4613,
          6027,
          2410,
          4736,
          4062,
          5601,
          3932,
          6064,
          4911,
          3761,
          2825,
          2461,
          7100,
          3770,
          2768,
          4487,
          1903,
          4890,
          5613,
          2892,
          3923,
          2942,
          4056,
          4320,
          4982,
          3171,
          2009,
          3573,
          4057,
          5353,
          4952,
          3376,
          4734,
          3352,
          3279,
          2880,
          6460,
          3546,
          7109,
          3293,
          1930,
          1688,
          2045,
          1985,
          1938,
          2912,
          1806,
          1275,
          1642,
          2222,
          1945,
          2557,
          2580,
          2429,
          1356,
          2429,
          391,
          1086,
          1858,
          2228,
          1867,
          2134,
          2528,
          3419,
          1958,
          2608,
          3083,
          1317,
          2679,
          2032,
          3175,
          2542,
          1720,
          1770,
          2496,
          2239,
          2232,
          2465,
          1842,
          1734,
          2618,
          627,
          1711,
          462,
          857,
          2343,
          1826,
          2910,
          3226,
          4061,
          3518,
          1036,
          2659,
          724,
          711,
          894,
          906,
          629,
          549,
          1348,
          1366,
          162,
          2253,
          12577,
          834,
          455,
          553,
          662,
          435,
          620,
          564,
          516,
          558,
          518,
          634,
          548,
          561,
          341,
          1417,
          357,
          232,
          1608,
          2033,
          795,
          906,
          1979,
          805,
          1286,
          1016,
          759,
          1249,
          1446,
          1739,
          874,
          1522,
          1060,
          730,
          548,
          465,
          1029,
          1476,
          4727,
          1438,
          1032,
          795,
          1212,
          2877,
          594,
          886,
          1696,
          902,
          1607,
          1075,
          903,
          738,
          1133,
          2511,
          1231,
          1752,
          1790,
          2852,
          1220,
          3537,
          1702,
          1287,
          830,
          2067,
          1201,
          1382,
          588,
          2313,
          1829,
          1042,
          752,
          1173,
          1785,
          1317,
          1949,
          1781,
          1008,
          863,
          704,
          2200,
          1191,
          1247,
          1151,
          1805,
          882,
          1254,
          726,
          1194,
          1009,
          940,
          1341,
          1645,
          609,
          3609,
          3305,
          1737,
          508,
          2178,
          1838,
          2147,
          2150,
          946,
          1040,
          1701,
          6355,
          1465,
          887,
          1616,
          1464,
          642,
          1393,
          1211,
          1101,
          1509,
          611,
          1600,
          4441,
          1908,
          1536,
          1433,
          1263,
          462,
          1781,
          897,
          1132,
          1020,
          932,
          810,
          2732,
          2756,
          2856,
          2439,
          2107,
          2940,
          2744,
          2691,
          2484,
          1891,
          2517,
          1645,
          2508,
          2590,
          2345,
          2781,
          2846,
          2520,
          2257,
          2290,
          2518,
          2204,
          2746,
          3179,
          2332,
          2097,
          1763,
          2878,
          2077,
          2795,
          1453,
          1950,
          2010,
          1337,
          1897,
          3595,
          2447,
          1883,
          2608,
          1450,
          3099,
          2430,
          2713,
          1607,
          1697,
          1381,
          1932,
          1961,
          1498,
          1423,
          1704,
          3884,
          4612,
          2500,
          683,
          2894,
          4291,
          1286,
          2172,
          2175,
          1334,
          3607,
          2810,
          923,
          2109,
          3289,
          2420,
          2957,
          1829,
          2707,
          2045,
          4054,
          3804,
          2920,
          5202,
          1595,
          2211,
          3064,
          2502,
          1405,
          3426,
          5650,
          2791,
          1367,
          987,
          4034,
          4055,
          3328,
          3628,
          4439,
          3973,
          1710,
          2388,
          3072,
          4309,
          4289,
          1828,
          3742,
          2072,
          1957,
          2556,
          1928,
          1808,
          2886,
          2626,
          3164,
          1718,
          3367,
          1966,
          1762,
          2812,
          1578,
          3749,
          4102,
          3310,
          2804,
          3122,
          2550,
          3405,
          3727,
          2813,
          3736,
          3534,
          3427,
          3563,
          4173,
          3180,
          2730,
          5330,
          2975,
          2450,
          4226,
          6035,
          1717,
          5704,
          3903,
          3804,
          2724,
          5086,
          4230,
          3549,
          6400,
          7168,
          4241,
          4208,
          3331,
          5415,
          3130,
          4825,
          2746,
          4501,
          3441,
          3341,
          3647,
          2224,
          6249,
          717,
          4215,
          1136,
          5989,
          6121,
          4434,
          7592,
          9485,
          5420,
          4287,
          4907,
          3567,
          3989,
          4113,
          4547,
          4435,
          3106,
          1521,
          4273,
          3266,
          3479,
          3906,
          3682,
          3714,
          969,
          9537,
          3758,
          4746,
          1785,
          1360,
          7889,
          4665,
          4262,
          7022,
          3642,
          2640,
          3512,
          4680,
          3911,
          3435,
          3863,
          3607,
          3288,
          5249,
          5285,
          4779,
          2058,
          5884,
          4210,
          3801,
          4622,
          2536,
          7297,
          3983,
          2989,
          4330,
          5224,
          4379,
          4277,
          3904,
          5345,
          3108,
          2371,
          3812,
          3122,
          1928,
          1670,
          2237,
          1532,
          1578,
          2183,
          1156,
          3349,
          756,
          2610,
          1897,
          1276,
          2097,
          1722,
          2526,
          2589,
          4765,
          2907,
          2345,
          2182,
          1949,
          2184,
          3300,
          1980,
          2301,
          1979,
          2656,
          3265,
          2435,
          1019,
          1308,
          1624,
          2304,
          1902,
          1740,
          2339,
          2072,
          2111,
          2932,
          1994,
          1808,
          2644,
          2142,
          2802,
          2363,
          2748,
          2414,
          3035,
          2257,
          3232,
          3079,
          1927,
          2443,
          2329,
          1591,
          3601,
          1519,
          1477,
          1743,
          1636,
          1995,
          1905,
          3283,
          2557,
          2409,
          2846,
          2785,
          872,
          3380,
          1725,
          2097,
          2498,
          2593,
          2818,
          2000,
          3142,
          3408,
          2774,
          3011,
          2280,
          2292,
          575,
          2937,
          3984,
          4277,
          3161,
          3568,
          3242,
          2673,
          3786,
          4205,
          1267,
          2727,
          4047,
          3530,
          5611,
          5661,
          2937,
          5383,
          1760,
          3699,
          4094,
          6546,
          3174,
          2241,
          1465,
          6631,
          3801,
          2005,
          2904,
          2990,
          3712,
          2737,
          4162,
          2842,
          4131,
          3029,
          3735,
          3346,
          2838,
          1993,
          2474,
          2918,
          2628,
          3437,
          2601,
          2137,
          2479,
          2899,
          3230,
          1890,
          2743,
          2242,
          1603,
          2722,
          2282,
          2742,
          2353,
          1653,
          2861,
          2661,
          2958,
          3358,
          3055,
          2563,
          2184,
          2745,
          2568,
          2808,
          2754,
          2275,
          3074,
          2075,
          3114,
          2552,
          2216,
          2350,
          3172,
          3960,
          3869,
          2671,
          3043,
          2780,
          2802,
          3250,
          2476,
          3900,
          2659,
          2921,
          2646,
          1798,
          1376,
          3380,
          3163,
          3386,
          3121,
          1802,
          2001,
          3398,
          4787,
          3858,
          4004,
          1116,
          8736,
          7199,
          11781,
          10095,
          7096,
          6950,
          7141,
          5761,
          3448,
          7377,
          7566,
          7172,
          9193,
          8489,
          6161,
          4926,
          9254,
          5227,
          6464,
          5276,
          8185,
          4260,
          7609,
          6516,
          4873,
          6520,
          8732,
          4962,
          5276,
          6645,
          6616,
          5303,
          3099,
          3114,
          7785,
          2018,
          7399,
          5382,
          7688,
          12191,
          6536,
          5280,
          4779,
          4716,
          4292,
          5027,
          3025,
          4488,
          3304,
          5743,
          6884,
          3608,
          4008,
          3335,
          3145,
          4318,
          3644,
          3091,
          3865,
          5661,
          4293,
          4426,
          5304,
          5015,
          8109,
          6935,
          2146,
          1991,
          2756,
          5466,
          4092,
          3007,
          3728,
          4234,
          4676,
          5889,
          3795,
          5209,
          4087,
          7940,
          4665,
          2274,
          3436,
          3341,
          4409,
          4640,
          6468,
          4179,
          4104,
          5789,
          7776,
          4893,
          6590,
          6855,
          4226,
          3975,
          3523,
          3923,
          3772,
          4374,
          4962,
          5583,
          4687,
          3989,
          7018,
          5687,
          5140,
          4310,
          5051,
          4622,
          5912,
          5835,
          7043,
          7110,
          5023,
          3984,
          5946,
          5519,
          4177,
          3383,
          2976,
          3931,
          2971,
          5008,
          5306,
          2545,
          3779,
          3672,
          3762,
          5557,
          4963,
          7547,
          5118,
          6400,
          4116,
          3385,
          5555,
          3334,
          3277,
          6327,
          3320,
          4894,
          4960,
          4520,
          3541,
          5166,
          5227,
          4511,
          5416,
          3766,
          4644,
          3201,
          3845,
          3978,
          5344,
          4228,
          3253,
          4466,
          5108,
          1897,
          7154,
          4436,
          4989,
          3932,
          2379,
          4176,
          2208,
          1933,
          3065,
          3895,
          2408,
          3244,
          3031,
          3063,
          2549,
          2593,
          2981,
          4593,
          3653,
          3372,
          3421,
          3562,
          3127,
          1419,
          4702,
          5888,
          2202,
          1932,
          2292,
          2490,
          1699,
          2391,
          5010,
          1552,
          3242,
          3077,
          2326,
          3781,
          3117,
          1627,
          1987,
          1984,
          2189,
          2540,
          1869,
          2330,
          2876,
          2047,
          2468,
          2985,
          3308,
          3161,
          2474,
          1844,
          2658,
          2371,
          2244,
          3272,
          3061,
          2667,
          3318,
          3060,
          2609,
          2536,
          3474,
          2710,
          2527,
          1954,
          1285,
          2438,
          1586,
          2078,
          2172,
          1535,
          2006,
          1855,
          2406,
          1371,
          1677,
          1775,
          2683,
          2720,
          2144,
          2734,
          1773,
          2164,
          1966,
          1546,
          1622,
          2267,
          1709,
          4180,
          5078,
          3738,
          2712,
          2388,
          1887,
          2124,
          1628,
          2307,
          3382,
          2035,
          3826,
          2846,
          2656,
          1947,
          1863,
          2491,
          3333,
          2884,
          2805,
          2441,
          1669,
          2585,
          3244,
          2613,
          1214,
          3669,
          2684,
          2352,
          2444,
          1536,
          1525,
          3461,
          2750,
          1569,
          2921,
          2457,
          2639,
          3228,
          1222,
          2821,
          2698,
          3817,
          3204,
          4016,
          2355,
          3546,
          2754,
          3191,
          1767,
          2054,
          2503,
          2452,
          1900,
          2838
         ],
         "yaxis": "y"
        }
       ],
       "layout": {
        "barmode": "relative",
        "coloraxis": {
         "colorbar": {
          "title": {
           "text": "proportion_typed"
          }
         },
         "colorscale": [
          [
           0,
           "#0d0887"
          ],
          [
           0.1111111111111111,
           "#46039f"
          ],
          [
           0.2222222222222222,
           "#7201a8"
          ],
          [
           0.3333333333333333,
           "#9c179e"
          ],
          [
           0.4444444444444444,
           "#bd3786"
          ],
          [
           0.5555555555555556,
           "#d8576b"
          ],
          [
           0.6666666666666666,
           "#ed7953"
          ],
          [
           0.7777777777777778,
           "#fb9f3a"
          ],
          [
           0.8888888888888888,
           "#fdca26"
          ],
          [
           1,
           "#f0f921"
          ]
         ]
        },
        "legend": {
         "tracegroupgap": 0
        },
        "margin": {
         "t": 60
        },
        "template": {
         "data": {
          "bar": [
           {
            "error_x": {
             "color": "#2a3f5f"
            },
            "error_y": {
             "color": "#2a3f5f"
            },
            "marker": {
             "line": {
              "color": "#E5ECF6",
              "width": 0.5
             },
             "pattern": {
              "fillmode": "overlay",
              "size": 10,
              "solidity": 0.2
             }
            },
            "type": "bar"
           }
          ],
          "barpolar": [
           {
            "marker": {
             "line": {
              "color": "#E5ECF6",
              "width": 0.5
             },
             "pattern": {
              "fillmode": "overlay",
              "size": 10,
              "solidity": 0.2
             }
            },
            "type": "barpolar"
           }
          ],
          "carpet": [
           {
            "aaxis": {
             "endlinecolor": "#2a3f5f",
             "gridcolor": "white",
             "linecolor": "white",
             "minorgridcolor": "white",
             "startlinecolor": "#2a3f5f"
            },
            "baxis": {
             "endlinecolor": "#2a3f5f",
             "gridcolor": "white",
             "linecolor": "white",
             "minorgridcolor": "white",
             "startlinecolor": "#2a3f5f"
            },
            "type": "carpet"
           }
          ],
          "choropleth": [
           {
            "colorbar": {
             "outlinewidth": 0,
             "ticks": ""
            },
            "type": "choropleth"
           }
          ],
          "contour": [
           {
            "colorbar": {
             "outlinewidth": 0,
             "ticks": ""
            },
            "colorscale": [
             [
              0,
              "#0d0887"
             ],
             [
              0.1111111111111111,
              "#46039f"
             ],
             [
              0.2222222222222222,
              "#7201a8"
             ],
             [
              0.3333333333333333,
              "#9c179e"
             ],
             [
              0.4444444444444444,
              "#bd3786"
             ],
             [
              0.5555555555555556,
              "#d8576b"
             ],
             [
              0.6666666666666666,
              "#ed7953"
             ],
             [
              0.7777777777777778,
              "#fb9f3a"
             ],
             [
              0.8888888888888888,
              "#fdca26"
             ],
             [
              1,
              "#f0f921"
             ]
            ],
            "type": "contour"
           }
          ],
          "contourcarpet": [
           {
            "colorbar": {
             "outlinewidth": 0,
             "ticks": ""
            },
            "type": "contourcarpet"
           }
          ],
          "heatmap": [
           {
            "colorbar": {
             "outlinewidth": 0,
             "ticks": ""
            },
            "colorscale": [
             [
              0,
              "#0d0887"
             ],
             [
              0.1111111111111111,
              "#46039f"
             ],
             [
              0.2222222222222222,
              "#7201a8"
             ],
             [
              0.3333333333333333,
              "#9c179e"
             ],
             [
              0.4444444444444444,
              "#bd3786"
             ],
             [
              0.5555555555555556,
              "#d8576b"
             ],
             [
              0.6666666666666666,
              "#ed7953"
             ],
             [
              0.7777777777777778,
              "#fb9f3a"
             ],
             [
              0.8888888888888888,
              "#fdca26"
             ],
             [
              1,
              "#f0f921"
             ]
            ],
            "type": "heatmap"
           }
          ],
          "heatmapgl": [
           {
            "colorbar": {
             "outlinewidth": 0,
             "ticks": ""
            },
            "colorscale": [
             [
              0,
              "#0d0887"
             ],
             [
              0.1111111111111111,
              "#46039f"
             ],
             [
              0.2222222222222222,
              "#7201a8"
             ],
             [
              0.3333333333333333,
              "#9c179e"
             ],
             [
              0.4444444444444444,
              "#bd3786"
             ],
             [
              0.5555555555555556,
              "#d8576b"
             ],
             [
              0.6666666666666666,
              "#ed7953"
             ],
             [
              0.7777777777777778,
              "#fb9f3a"
             ],
             [
              0.8888888888888888,
              "#fdca26"
             ],
             [
              1,
              "#f0f921"
             ]
            ],
            "type": "heatmapgl"
           }
          ],
          "histogram": [
           {
            "marker": {
             "pattern": {
              "fillmode": "overlay",
              "size": 10,
              "solidity": 0.2
             }
            },
            "type": "histogram"
           }
          ],
          "histogram2d": [
           {
            "colorbar": {
             "outlinewidth": 0,
             "ticks": ""
            },
            "colorscale": [
             [
              0,
              "#0d0887"
             ],
             [
              0.1111111111111111,
              "#46039f"
             ],
             [
              0.2222222222222222,
              "#7201a8"
             ],
             [
              0.3333333333333333,
              "#9c179e"
             ],
             [
              0.4444444444444444,
              "#bd3786"
             ],
             [
              0.5555555555555556,
              "#d8576b"
             ],
             [
              0.6666666666666666,
              "#ed7953"
             ],
             [
              0.7777777777777778,
              "#fb9f3a"
             ],
             [
              0.8888888888888888,
              "#fdca26"
             ],
             [
              1,
              "#f0f921"
             ]
            ],
            "type": "histogram2d"
           }
          ],
          "histogram2dcontour": [
           {
            "colorbar": {
             "outlinewidth": 0,
             "ticks": ""
            },
            "colorscale": [
             [
              0,
              "#0d0887"
             ],
             [
              0.1111111111111111,
              "#46039f"
             ],
             [
              0.2222222222222222,
              "#7201a8"
             ],
             [
              0.3333333333333333,
              "#9c179e"
             ],
             [
              0.4444444444444444,
              "#bd3786"
             ],
             [
              0.5555555555555556,
              "#d8576b"
             ],
             [
              0.6666666666666666,
              "#ed7953"
             ],
             [
              0.7777777777777778,
              "#fb9f3a"
             ],
             [
              0.8888888888888888,
              "#fdca26"
             ],
             [
              1,
              "#f0f921"
             ]
            ],
            "type": "histogram2dcontour"
           }
          ],
          "mesh3d": [
           {
            "colorbar": {
             "outlinewidth": 0,
             "ticks": ""
            },
            "type": "mesh3d"
           }
          ],
          "parcoords": [
           {
            "line": {
             "colorbar": {
              "outlinewidth": 0,
              "ticks": ""
             }
            },
            "type": "parcoords"
           }
          ],
          "pie": [
           {
            "automargin": true,
            "type": "pie"
           }
          ],
          "scatter": [
           {
            "fillpattern": {
             "fillmode": "overlay",
             "size": 10,
             "solidity": 0.2
            },
            "type": "scatter"
           }
          ],
          "scatter3d": [
           {
            "line": {
             "colorbar": {
              "outlinewidth": 0,
              "ticks": ""
             }
            },
            "marker": {
             "colorbar": {
              "outlinewidth": 0,
              "ticks": ""
             }
            },
            "type": "scatter3d"
           }
          ],
          "scattercarpet": [
           {
            "marker": {
             "colorbar": {
              "outlinewidth": 0,
              "ticks": ""
             }
            },
            "type": "scattercarpet"
           }
          ],
          "scattergeo": [
           {
            "marker": {
             "colorbar": {
              "outlinewidth": 0,
              "ticks": ""
             }
            },
            "type": "scattergeo"
           }
          ],
          "scattergl": [
           {
            "marker": {
             "colorbar": {
              "outlinewidth": 0,
              "ticks": ""
             }
            },
            "type": "scattergl"
           }
          ],
          "scattermapbox": [
           {
            "marker": {
             "colorbar": {
              "outlinewidth": 0,
              "ticks": ""
             }
            },
            "type": "scattermapbox"
           }
          ],
          "scatterpolar": [
           {
            "marker": {
             "colorbar": {
              "outlinewidth": 0,
              "ticks": ""
             }
            },
            "type": "scatterpolar"
           }
          ],
          "scatterpolargl": [
           {
            "marker": {
             "colorbar": {
              "outlinewidth": 0,
              "ticks": ""
             }
            },
            "type": "scatterpolargl"
           }
          ],
          "scatterternary": [
           {
            "marker": {
             "colorbar": {
              "outlinewidth": 0,
              "ticks": ""
             }
            },
            "type": "scatterternary"
           }
          ],
          "surface": [
           {
            "colorbar": {
             "outlinewidth": 0,
             "ticks": ""
            },
            "colorscale": [
             [
              0,
              "#0d0887"
             ],
             [
              0.1111111111111111,
              "#46039f"
             ],
             [
              0.2222222222222222,
              "#7201a8"
             ],
             [
              0.3333333333333333,
              "#9c179e"
             ],
             [
              0.4444444444444444,
              "#bd3786"
             ],
             [
              0.5555555555555556,
              "#d8576b"
             ],
             [
              0.6666666666666666,
              "#ed7953"
             ],
             [
              0.7777777777777778,
              "#fb9f3a"
             ],
             [
              0.8888888888888888,
              "#fdca26"
             ],
             [
              1,
              "#f0f921"
             ]
            ],
            "type": "surface"
           }
          ],
          "table": [
           {
            "cells": {
             "fill": {
              "color": "#EBF0F8"
             },
             "line": {
              "color": "white"
             }
            },
            "header": {
             "fill": {
              "color": "#C8D4E3"
             },
             "line": {
              "color": "white"
             }
            },
            "type": "table"
           }
          ]
         },
         "layout": {
          "annotationdefaults": {
           "arrowcolor": "#2a3f5f",
           "arrowhead": 0,
           "arrowwidth": 1
          },
          "autotypenumbers": "strict",
          "coloraxis": {
           "colorbar": {
            "outlinewidth": 0,
            "ticks": ""
           }
          },
          "colorscale": {
           "diverging": [
            [
             0,
             "#8e0152"
            ],
            [
             0.1,
             "#c51b7d"
            ],
            [
             0.2,
             "#de77ae"
            ],
            [
             0.3,
             "#f1b6da"
            ],
            [
             0.4,
             "#fde0ef"
            ],
            [
             0.5,
             "#f7f7f7"
            ],
            [
             0.6,
             "#e6f5d0"
            ],
            [
             0.7,
             "#b8e186"
            ],
            [
             0.8,
             "#7fbc41"
            ],
            [
             0.9,
             "#4d9221"
            ],
            [
             1,
             "#276419"
            ]
           ],
           "sequential": [
            [
             0,
             "#0d0887"
            ],
            [
             0.1111111111111111,
             "#46039f"
            ],
            [
             0.2222222222222222,
             "#7201a8"
            ],
            [
             0.3333333333333333,
             "#9c179e"
            ],
            [
             0.4444444444444444,
             "#bd3786"
            ],
            [
             0.5555555555555556,
             "#d8576b"
            ],
            [
             0.6666666666666666,
             "#ed7953"
            ],
            [
             0.7777777777777778,
             "#fb9f3a"
            ],
            [
             0.8888888888888888,
             "#fdca26"
            ],
            [
             1,
             "#f0f921"
            ]
           ],
           "sequentialminus": [
            [
             0,
             "#0d0887"
            ],
            [
             0.1111111111111111,
             "#46039f"
            ],
            [
             0.2222222222222222,
             "#7201a8"
            ],
            [
             0.3333333333333333,
             "#9c179e"
            ],
            [
             0.4444444444444444,
             "#bd3786"
            ],
            [
             0.5555555555555556,
             "#d8576b"
            ],
            [
             0.6666666666666666,
             "#ed7953"
            ],
            [
             0.7777777777777778,
             "#fb9f3a"
            ],
            [
             0.8888888888888888,
             "#fdca26"
            ],
            [
             1,
             "#f0f921"
            ]
           ]
          },
          "colorway": [
           "#636efa",
           "#EF553B",
           "#00cc96",
           "#ab63fa",
           "#FFA15A",
           "#19d3f3",
           "#FF6692",
           "#B6E880",
           "#FF97FF",
           "#FECB52"
          ],
          "font": {
           "color": "#2a3f5f"
          },
          "geo": {
           "bgcolor": "white",
           "lakecolor": "white",
           "landcolor": "#E5ECF6",
           "showlakes": true,
           "showland": true,
           "subunitcolor": "white"
          },
          "hoverlabel": {
           "align": "left"
          },
          "hovermode": "closest",
          "mapbox": {
           "style": "light"
          },
          "paper_bgcolor": "white",
          "plot_bgcolor": "#E5ECF6",
          "polar": {
           "angularaxis": {
            "gridcolor": "white",
            "linecolor": "white",
            "ticks": ""
           },
           "bgcolor": "#E5ECF6",
           "radialaxis": {
            "gridcolor": "white",
            "linecolor": "white",
            "ticks": ""
           }
          },
          "scene": {
           "xaxis": {
            "backgroundcolor": "#E5ECF6",
            "gridcolor": "white",
            "gridwidth": 2,
            "linecolor": "white",
            "showbackground": true,
            "ticks": "",
            "zerolinecolor": "white"
           },
           "yaxis": {
            "backgroundcolor": "#E5ECF6",
            "gridcolor": "white",
            "gridwidth": 2,
            "linecolor": "white",
            "showbackground": true,
            "ticks": "",
            "zerolinecolor": "white"
           },
           "zaxis": {
            "backgroundcolor": "#E5ECF6",
            "gridcolor": "white",
            "gridwidth": 2,
            "linecolor": "white",
            "showbackground": true,
            "ticks": "",
            "zerolinecolor": "white"
           }
          },
          "shapedefaults": {
           "line": {
            "color": "#2a3f5f"
           }
          },
          "ternary": {
           "aaxis": {
            "gridcolor": "white",
            "linecolor": "white",
            "ticks": ""
           },
           "baxis": {
            "gridcolor": "white",
            "linecolor": "white",
            "ticks": ""
           },
           "bgcolor": "#E5ECF6",
           "caxis": {
            "gridcolor": "white",
            "linecolor": "white",
            "ticks": ""
           }
          },
          "title": {
           "x": 0.05
          },
          "xaxis": {
           "automargin": true,
           "gridcolor": "white",
           "linecolor": "white",
           "ticks": "",
           "title": {
            "standoff": 15
           },
           "zerolinecolor": "white",
           "zerolinewidth": 2
          },
          "yaxis": {
           "automargin": true,
           "gridcolor": "white",
           "linecolor": "white",
           "ticks": "",
           "title": {
            "standoff": 15
           },
           "zerolinecolor": "white",
           "zerolinewidth": 2
          }
         }
        },
        "xaxis": {
         "anchor": "y",
         "domain": [
          0,
          1
         ],
         "title": {
          "text": "Book_Name"
         }
        },
        "yaxis": {
         "anchor": "x",
         "domain": [
          0,
          1
         ],
         "title": {
          "text": "value"
         }
        }
       }
      }
     },
     "metadata": {},
     "output_type": "display_data"
    }
   ],
   "source": [
    "fig_characters_typed_in_each_book_and_chapter = px.bar(\n",
    "df_characters_typed_by_book_and_chapter, x = 'Book_Name', y = [\n",
    "    'Characters'], color = 'proportion_typed')\n",
    "fig_characters_typed_in_each_book_and_chapter.write_html(\n",
    "    'Analyses/characters_typed_by_book_and_chapter.html')\n",
    "fig_characters_typed_in_each_book_and_chapter.write_image(\n",
    "    'Analyses/characters_typed_by_book_and_chapter.png', \n",
    "    width = 1920, height = 1080, engine = 'kaleido', scale = 2)\n",
    "fig_characters_typed_in_each_book_and_chapter"
   ]
  },
  {
   "cell_type": "markdown",
   "metadata": {},
   "source": [
    "## Creating similar charts at the chapter level:\n",
    "\n",
    "These proved difficult to interpret due to the narrowness of the bars, so I'm commenting this code out for now."
   ]
  },
  {
   "cell_type": "code",
   "execution_count": 39,
   "metadata": {},
   "outputs": [],
   "source": [
    "# fig_proportion_of_each_chapter_typed = px.bar(df_characters_typed_by_chapter, \n",
    "# x = 'Book_and_Chapter', y = 'proportion_typed')\n",
    "# fig_proportion_of_each_chapter_typed.update_yaxes(range = [0, 1]) # Setting\n",
    "# # the maximum y value as 1 better demonstrates how much of the Bible\n",
    "# # has been typed so far\n",
    "# fig_proportion_of_each_chapter_typed.write_html(\n",
    "# 'Analyses/proportion_of_each_chapter_typed.html')\n",
    "# fig_proportion_of_each_chapter_typed\n",
    "\n",
    "# fig_characters_typed_in_each_chapter = px.bar(df_characters_typed_by_chapter, \n",
    "# x = 'Book_and_Chapter', y = ['Characters', 'Characters_Typed'], \n",
    "# barmode = 'overlay')\n",
    "# fig_characters_typed_in_each_chapter.write_html(\n",
    "# 'Analyses/characters_typed_by_chapter.html')\n",
    "# fig_characters_typed_in_each_chapter"
   ]
  },
  {
   "cell_type": "markdown",
   "metadata": {},
   "source": [
    "## Calculating the dates with the most characters and verses typed:"
   ]
  },
  {
   "cell_type": "code",
   "execution_count": 40,
   "metadata": {},
   "outputs": [],
   "source": [
    "df_top_dates_by_characters = df_results.pivot_table(\n",
    "    index = 'Local_Date', values = 'Characters', aggfunc = 'sum').reset_index(\n",
    "    ).sort_values('Characters', ascending = False).head(50)\n",
    "df_top_dates_by_characters['Rank'] = df_top_dates_by_characters[\n",
    "    'Characters'].rank(ascending = False, method = 'min').astype('int')\n",
    "# Creating a column that shows both the rank and date: (This also prevents\n",
    "# Plotly from converting the x axis to a date range, which would interfere\n",
    "# with the order of the chart items)\n",
    "df_top_dates_by_characters['Rank and Date'] = '#'+df_top_dates_by_characters[\n",
    "    'Rank'].astype('str') + ': ' + df_top_dates_by_characters[\n",
    "        'Local_Date'].astype('str')\n",
    "df_top_dates_by_characters.reset_index(drop=True,inplace=True)"
   ]
  },
  {
   "cell_type": "code",
   "execution_count": 41,
   "metadata": {},
   "outputs": [
    {
     "data": {
      "application/vnd.plotly.v1+json": {
       "config": {
        "plotlyServerURL": "https://plot.ly"
       },
       "data": [
        {
         "alignmentgroup": "True",
         "hovertemplate": "Rank and Date=%{x}<br>Characters=%{y}<extra></extra>",
         "legendgroup": "",
         "marker": {
          "color": "#636efa",
          "pattern": {
           "shape": ""
          }
         },
         "name": "",
         "offsetgroup": "",
         "orientation": "v",
         "showlegend": false,
         "textposition": "auto",
         "type": "bar",
         "x": [
          "#1: 2023-10-29",
          "#2: 2023-11-05",
          "#3: 2023-11-03",
          "#4: 2023-11-06",
          "#5: 2023-10-31",
          "#6: 2023-11-04",
          "#7: 2023-10-24",
          "#8: 2023-10-25",
          "#9: 2023-10-28",
          "#10: 2023-11-02",
          "#11: 2023-11-01",
          "#12: 2023-10-27"
         ],
         "xaxis": "x",
         "y": [
          29415,
          25289,
          10528,
          6119,
          4552,
          2776,
          2055,
          1227,
          774,
          612,
          103,
          53
         ],
         "yaxis": "y"
        }
       ],
       "layout": {
        "barmode": "relative",
        "legend": {
         "tracegroupgap": 0
        },
        "margin": {
         "t": 60
        },
        "template": {
         "data": {
          "bar": [
           {
            "error_x": {
             "color": "#2a3f5f"
            },
            "error_y": {
             "color": "#2a3f5f"
            },
            "marker": {
             "line": {
              "color": "#E5ECF6",
              "width": 0.5
             },
             "pattern": {
              "fillmode": "overlay",
              "size": 10,
              "solidity": 0.2
             }
            },
            "type": "bar"
           }
          ],
          "barpolar": [
           {
            "marker": {
             "line": {
              "color": "#E5ECF6",
              "width": 0.5
             },
             "pattern": {
              "fillmode": "overlay",
              "size": 10,
              "solidity": 0.2
             }
            },
            "type": "barpolar"
           }
          ],
          "carpet": [
           {
            "aaxis": {
             "endlinecolor": "#2a3f5f",
             "gridcolor": "white",
             "linecolor": "white",
             "minorgridcolor": "white",
             "startlinecolor": "#2a3f5f"
            },
            "baxis": {
             "endlinecolor": "#2a3f5f",
             "gridcolor": "white",
             "linecolor": "white",
             "minorgridcolor": "white",
             "startlinecolor": "#2a3f5f"
            },
            "type": "carpet"
           }
          ],
          "choropleth": [
           {
            "colorbar": {
             "outlinewidth": 0,
             "ticks": ""
            },
            "type": "choropleth"
           }
          ],
          "contour": [
           {
            "colorbar": {
             "outlinewidth": 0,
             "ticks": ""
            },
            "colorscale": [
             [
              0,
              "#0d0887"
             ],
             [
              0.1111111111111111,
              "#46039f"
             ],
             [
              0.2222222222222222,
              "#7201a8"
             ],
             [
              0.3333333333333333,
              "#9c179e"
             ],
             [
              0.4444444444444444,
              "#bd3786"
             ],
             [
              0.5555555555555556,
              "#d8576b"
             ],
             [
              0.6666666666666666,
              "#ed7953"
             ],
             [
              0.7777777777777778,
              "#fb9f3a"
             ],
             [
              0.8888888888888888,
              "#fdca26"
             ],
             [
              1,
              "#f0f921"
             ]
            ],
            "type": "contour"
           }
          ],
          "contourcarpet": [
           {
            "colorbar": {
             "outlinewidth": 0,
             "ticks": ""
            },
            "type": "contourcarpet"
           }
          ],
          "heatmap": [
           {
            "colorbar": {
             "outlinewidth": 0,
             "ticks": ""
            },
            "colorscale": [
             [
              0,
              "#0d0887"
             ],
             [
              0.1111111111111111,
              "#46039f"
             ],
             [
              0.2222222222222222,
              "#7201a8"
             ],
             [
              0.3333333333333333,
              "#9c179e"
             ],
             [
              0.4444444444444444,
              "#bd3786"
             ],
             [
              0.5555555555555556,
              "#d8576b"
             ],
             [
              0.6666666666666666,
              "#ed7953"
             ],
             [
              0.7777777777777778,
              "#fb9f3a"
             ],
             [
              0.8888888888888888,
              "#fdca26"
             ],
             [
              1,
              "#f0f921"
             ]
            ],
            "type": "heatmap"
           }
          ],
          "heatmapgl": [
           {
            "colorbar": {
             "outlinewidth": 0,
             "ticks": ""
            },
            "colorscale": [
             [
              0,
              "#0d0887"
             ],
             [
              0.1111111111111111,
              "#46039f"
             ],
             [
              0.2222222222222222,
              "#7201a8"
             ],
             [
              0.3333333333333333,
              "#9c179e"
             ],
             [
              0.4444444444444444,
              "#bd3786"
             ],
             [
              0.5555555555555556,
              "#d8576b"
             ],
             [
              0.6666666666666666,
              "#ed7953"
             ],
             [
              0.7777777777777778,
              "#fb9f3a"
             ],
             [
              0.8888888888888888,
              "#fdca26"
             ],
             [
              1,
              "#f0f921"
             ]
            ],
            "type": "heatmapgl"
           }
          ],
          "histogram": [
           {
            "marker": {
             "pattern": {
              "fillmode": "overlay",
              "size": 10,
              "solidity": 0.2
             }
            },
            "type": "histogram"
           }
          ],
          "histogram2d": [
           {
            "colorbar": {
             "outlinewidth": 0,
             "ticks": ""
            },
            "colorscale": [
             [
              0,
              "#0d0887"
             ],
             [
              0.1111111111111111,
              "#46039f"
             ],
             [
              0.2222222222222222,
              "#7201a8"
             ],
             [
              0.3333333333333333,
              "#9c179e"
             ],
             [
              0.4444444444444444,
              "#bd3786"
             ],
             [
              0.5555555555555556,
              "#d8576b"
             ],
             [
              0.6666666666666666,
              "#ed7953"
             ],
             [
              0.7777777777777778,
              "#fb9f3a"
             ],
             [
              0.8888888888888888,
              "#fdca26"
             ],
             [
              1,
              "#f0f921"
             ]
            ],
            "type": "histogram2d"
           }
          ],
          "histogram2dcontour": [
           {
            "colorbar": {
             "outlinewidth": 0,
             "ticks": ""
            },
            "colorscale": [
             [
              0,
              "#0d0887"
             ],
             [
              0.1111111111111111,
              "#46039f"
             ],
             [
              0.2222222222222222,
              "#7201a8"
             ],
             [
              0.3333333333333333,
              "#9c179e"
             ],
             [
              0.4444444444444444,
              "#bd3786"
             ],
             [
              0.5555555555555556,
              "#d8576b"
             ],
             [
              0.6666666666666666,
              "#ed7953"
             ],
             [
              0.7777777777777778,
              "#fb9f3a"
             ],
             [
              0.8888888888888888,
              "#fdca26"
             ],
             [
              1,
              "#f0f921"
             ]
            ],
            "type": "histogram2dcontour"
           }
          ],
          "mesh3d": [
           {
            "colorbar": {
             "outlinewidth": 0,
             "ticks": ""
            },
            "type": "mesh3d"
           }
          ],
          "parcoords": [
           {
            "line": {
             "colorbar": {
              "outlinewidth": 0,
              "ticks": ""
             }
            },
            "type": "parcoords"
           }
          ],
          "pie": [
           {
            "automargin": true,
            "type": "pie"
           }
          ],
          "scatter": [
           {
            "fillpattern": {
             "fillmode": "overlay",
             "size": 10,
             "solidity": 0.2
            },
            "type": "scatter"
           }
          ],
          "scatter3d": [
           {
            "line": {
             "colorbar": {
              "outlinewidth": 0,
              "ticks": ""
             }
            },
            "marker": {
             "colorbar": {
              "outlinewidth": 0,
              "ticks": ""
             }
            },
            "type": "scatter3d"
           }
          ],
          "scattercarpet": [
           {
            "marker": {
             "colorbar": {
              "outlinewidth": 0,
              "ticks": ""
             }
            },
            "type": "scattercarpet"
           }
          ],
          "scattergeo": [
           {
            "marker": {
             "colorbar": {
              "outlinewidth": 0,
              "ticks": ""
             }
            },
            "type": "scattergeo"
           }
          ],
          "scattergl": [
           {
            "marker": {
             "colorbar": {
              "outlinewidth": 0,
              "ticks": ""
             }
            },
            "type": "scattergl"
           }
          ],
          "scattermapbox": [
           {
            "marker": {
             "colorbar": {
              "outlinewidth": 0,
              "ticks": ""
             }
            },
            "type": "scattermapbox"
           }
          ],
          "scatterpolar": [
           {
            "marker": {
             "colorbar": {
              "outlinewidth": 0,
              "ticks": ""
             }
            },
            "type": "scatterpolar"
           }
          ],
          "scatterpolargl": [
           {
            "marker": {
             "colorbar": {
              "outlinewidth": 0,
              "ticks": ""
             }
            },
            "type": "scatterpolargl"
           }
          ],
          "scatterternary": [
           {
            "marker": {
             "colorbar": {
              "outlinewidth": 0,
              "ticks": ""
             }
            },
            "type": "scatterternary"
           }
          ],
          "surface": [
           {
            "colorbar": {
             "outlinewidth": 0,
             "ticks": ""
            },
            "colorscale": [
             [
              0,
              "#0d0887"
             ],
             [
              0.1111111111111111,
              "#46039f"
             ],
             [
              0.2222222222222222,
              "#7201a8"
             ],
             [
              0.3333333333333333,
              "#9c179e"
             ],
             [
              0.4444444444444444,
              "#bd3786"
             ],
             [
              0.5555555555555556,
              "#d8576b"
             ],
             [
              0.6666666666666666,
              "#ed7953"
             ],
             [
              0.7777777777777778,
              "#fb9f3a"
             ],
             [
              0.8888888888888888,
              "#fdca26"
             ],
             [
              1,
              "#f0f921"
             ]
            ],
            "type": "surface"
           }
          ],
          "table": [
           {
            "cells": {
             "fill": {
              "color": "#EBF0F8"
             },
             "line": {
              "color": "white"
             }
            },
            "header": {
             "fill": {
              "color": "#C8D4E3"
             },
             "line": {
              "color": "white"
             }
            },
            "type": "table"
           }
          ]
         },
         "layout": {
          "annotationdefaults": {
           "arrowcolor": "#2a3f5f",
           "arrowhead": 0,
           "arrowwidth": 1
          },
          "autotypenumbers": "strict",
          "coloraxis": {
           "colorbar": {
            "outlinewidth": 0,
            "ticks": ""
           }
          },
          "colorscale": {
           "diverging": [
            [
             0,
             "#8e0152"
            ],
            [
             0.1,
             "#c51b7d"
            ],
            [
             0.2,
             "#de77ae"
            ],
            [
             0.3,
             "#f1b6da"
            ],
            [
             0.4,
             "#fde0ef"
            ],
            [
             0.5,
             "#f7f7f7"
            ],
            [
             0.6,
             "#e6f5d0"
            ],
            [
             0.7,
             "#b8e186"
            ],
            [
             0.8,
             "#7fbc41"
            ],
            [
             0.9,
             "#4d9221"
            ],
            [
             1,
             "#276419"
            ]
           ],
           "sequential": [
            [
             0,
             "#0d0887"
            ],
            [
             0.1111111111111111,
             "#46039f"
            ],
            [
             0.2222222222222222,
             "#7201a8"
            ],
            [
             0.3333333333333333,
             "#9c179e"
            ],
            [
             0.4444444444444444,
             "#bd3786"
            ],
            [
             0.5555555555555556,
             "#d8576b"
            ],
            [
             0.6666666666666666,
             "#ed7953"
            ],
            [
             0.7777777777777778,
             "#fb9f3a"
            ],
            [
             0.8888888888888888,
             "#fdca26"
            ],
            [
             1,
             "#f0f921"
            ]
           ],
           "sequentialminus": [
            [
             0,
             "#0d0887"
            ],
            [
             0.1111111111111111,
             "#46039f"
            ],
            [
             0.2222222222222222,
             "#7201a8"
            ],
            [
             0.3333333333333333,
             "#9c179e"
            ],
            [
             0.4444444444444444,
             "#bd3786"
            ],
            [
             0.5555555555555556,
             "#d8576b"
            ],
            [
             0.6666666666666666,
             "#ed7953"
            ],
            [
             0.7777777777777778,
             "#fb9f3a"
            ],
            [
             0.8888888888888888,
             "#fdca26"
            ],
            [
             1,
             "#f0f921"
            ]
           ]
          },
          "colorway": [
           "#636efa",
           "#EF553B",
           "#00cc96",
           "#ab63fa",
           "#FFA15A",
           "#19d3f3",
           "#FF6692",
           "#B6E880",
           "#FF97FF",
           "#FECB52"
          ],
          "font": {
           "color": "#2a3f5f"
          },
          "geo": {
           "bgcolor": "white",
           "lakecolor": "white",
           "landcolor": "#E5ECF6",
           "showlakes": true,
           "showland": true,
           "subunitcolor": "white"
          },
          "hoverlabel": {
           "align": "left"
          },
          "hovermode": "closest",
          "mapbox": {
           "style": "light"
          },
          "paper_bgcolor": "white",
          "plot_bgcolor": "#E5ECF6",
          "polar": {
           "angularaxis": {
            "gridcolor": "white",
            "linecolor": "white",
            "ticks": ""
           },
           "bgcolor": "#E5ECF6",
           "radialaxis": {
            "gridcolor": "white",
            "linecolor": "white",
            "ticks": ""
           }
          },
          "scene": {
           "xaxis": {
            "backgroundcolor": "#E5ECF6",
            "gridcolor": "white",
            "gridwidth": 2,
            "linecolor": "white",
            "showbackground": true,
            "ticks": "",
            "zerolinecolor": "white"
           },
           "yaxis": {
            "backgroundcolor": "#E5ECF6",
            "gridcolor": "white",
            "gridwidth": 2,
            "linecolor": "white",
            "showbackground": true,
            "ticks": "",
            "zerolinecolor": "white"
           },
           "zaxis": {
            "backgroundcolor": "#E5ECF6",
            "gridcolor": "white",
            "gridwidth": 2,
            "linecolor": "white",
            "showbackground": true,
            "ticks": "",
            "zerolinecolor": "white"
           }
          },
          "shapedefaults": {
           "line": {
            "color": "#2a3f5f"
           }
          },
          "ternary": {
           "aaxis": {
            "gridcolor": "white",
            "linecolor": "white",
            "ticks": ""
           },
           "baxis": {
            "gridcolor": "white",
            "linecolor": "white",
            "ticks": ""
           },
           "bgcolor": "#E5ECF6",
           "caxis": {
            "gridcolor": "white",
            "linecolor": "white",
            "ticks": ""
           }
          },
          "title": {
           "x": 0.05
          },
          "xaxis": {
           "automargin": true,
           "gridcolor": "white",
           "linecolor": "white",
           "ticks": "",
           "title": {
            "standoff": 15
           },
           "zerolinecolor": "white",
           "zerolinewidth": 2
          },
          "yaxis": {
           "automargin": true,
           "gridcolor": "white",
           "linecolor": "white",
           "ticks": "",
           "title": {
            "standoff": 15
           },
           "zerolinecolor": "white",
           "zerolinewidth": 2
          }
         }
        },
        "xaxis": {
         "anchor": "y",
         "domain": [
          0,
          1
         ],
         "tickangle": 90,
         "title": {
          "text": "Rank and Date"
         }
        },
        "yaxis": {
         "anchor": "x",
         "domain": [
          0,
          1
         ],
         "title": {
          "text": "Characters"
         }
        }
       }
      }
     },
     "metadata": {},
     "output_type": "display_data"
    }
   ],
   "source": [
    "fig_top_dates_by_characters = px.bar(df_top_dates_by_characters, \n",
    "x = 'Rank and Date', y = 'Characters')\n",
    "fig_top_dates_by_characters.update_xaxes(tickangle = 90)\n",
    "fig_top_dates_by_characters.write_html('Analyses/top_dates_by_characters.html')\n",
    "fig_top_dates_by_characters.write_image(\n",
    "    'Analyses/top_dates_by_characters.png', \n",
    "    width = 1920, height = 1080, engine = 'kaleido', scale = 2)\n",
    "fig_top_dates_by_characters"
   ]
  },
  {
   "cell_type": "code",
   "execution_count": 42,
   "metadata": {},
   "outputs": [
    {
     "data": {
      "text/html": [
       "<div>\n",
       "<style scoped>\n",
       "    .dataframe tbody tr th:only-of-type {\n",
       "        vertical-align: middle;\n",
       "    }\n",
       "\n",
       "    .dataframe tbody tr th {\n",
       "        vertical-align: top;\n",
       "    }\n",
       "\n",
       "    .dataframe thead th {\n",
       "        text-align: right;\n",
       "    }\n",
       "</style>\n",
       "<table border=\"1\" class=\"dataframe\">\n",
       "  <thead>\n",
       "    <tr style=\"text-align: right;\">\n",
       "      <th></th>\n",
       "      <th>Local_Date</th>\n",
       "      <th>Verses</th>\n",
       "      <th>Rank</th>\n",
       "      <th>Rank and Date</th>\n",
       "    </tr>\n",
       "  </thead>\n",
       "  <tbody>\n",
       "    <tr>\n",
       "      <th>0</th>\n",
       "      <td>2023-10-29</td>\n",
       "      <td>251</td>\n",
       "      <td>1</td>\n",
       "      <td>#1: 2023-10-29</td>\n",
       "    </tr>\n",
       "    <tr>\n",
       "      <th>1</th>\n",
       "      <td>2023-11-05</td>\n",
       "      <td>201</td>\n",
       "      <td>2</td>\n",
       "      <td>#2: 2023-11-05</td>\n",
       "    </tr>\n",
       "    <tr>\n",
       "      <th>2</th>\n",
       "      <td>2023-11-03</td>\n",
       "      <td>103</td>\n",
       "      <td>3</td>\n",
       "      <td>#3: 2023-11-03</td>\n",
       "    </tr>\n",
       "    <tr>\n",
       "      <th>3</th>\n",
       "      <td>2023-11-06</td>\n",
       "      <td>51</td>\n",
       "      <td>4</td>\n",
       "      <td>#4: 2023-11-06</td>\n",
       "    </tr>\n",
       "    <tr>\n",
       "      <th>4</th>\n",
       "      <td>2023-10-31</td>\n",
       "      <td>39</td>\n",
       "      <td>5</td>\n",
       "      <td>#5: 2023-10-31</td>\n",
       "    </tr>\n",
       "    <tr>\n",
       "      <th>5</th>\n",
       "      <td>2023-11-04</td>\n",
       "      <td>23</td>\n",
       "      <td>6</td>\n",
       "      <td>#6: 2023-11-04</td>\n",
       "    </tr>\n",
       "    <tr>\n",
       "      <th>6</th>\n",
       "      <td>2023-10-24</td>\n",
       "      <td>21</td>\n",
       "      <td>7</td>\n",
       "      <td>#7: 2023-10-24</td>\n",
       "    </tr>\n",
       "    <tr>\n",
       "      <th>7</th>\n",
       "      <td>2023-10-25</td>\n",
       "      <td>12</td>\n",
       "      <td>8</td>\n",
       "      <td>#8: 2023-10-25</td>\n",
       "    </tr>\n",
       "    <tr>\n",
       "      <th>8</th>\n",
       "      <td>2023-10-28</td>\n",
       "      <td>8</td>\n",
       "      <td>9</td>\n",
       "      <td>#9: 2023-10-28</td>\n",
       "    </tr>\n",
       "    <tr>\n",
       "      <th>9</th>\n",
       "      <td>2023-11-02</td>\n",
       "      <td>6</td>\n",
       "      <td>10</td>\n",
       "      <td>#10: 2023-11-02</td>\n",
       "    </tr>\n",
       "    <tr>\n",
       "      <th>10</th>\n",
       "      <td>2023-10-27</td>\n",
       "      <td>1</td>\n",
       "      <td>11</td>\n",
       "      <td>#11: 2023-10-27</td>\n",
       "    </tr>\n",
       "    <tr>\n",
       "      <th>11</th>\n",
       "      <td>2023-11-01</td>\n",
       "      <td>1</td>\n",
       "      <td>11</td>\n",
       "      <td>#11: 2023-11-01</td>\n",
       "    </tr>\n",
       "  </tbody>\n",
       "</table>\n",
       "</div>"
      ],
      "text/plain": [
       "    Local_Date  Verses  Rank    Rank and Date\n",
       "0   2023-10-29     251     1   #1: 2023-10-29\n",
       "1   2023-11-05     201     2   #2: 2023-11-05\n",
       "2   2023-11-03     103     3   #3: 2023-11-03\n",
       "3   2023-11-06      51     4   #4: 2023-11-06\n",
       "4   2023-10-31      39     5   #5: 2023-10-31\n",
       "5   2023-11-04      23     6   #6: 2023-11-04\n",
       "6   2023-10-24      21     7   #7: 2023-10-24\n",
       "7   2023-10-25      12     8   #8: 2023-10-25\n",
       "8   2023-10-28       8     9   #9: 2023-10-28\n",
       "9   2023-11-02       6    10  #10: 2023-11-02\n",
       "10  2023-10-27       1    11  #11: 2023-10-27\n",
       "11  2023-11-01       1    11  #11: 2023-11-01"
      ]
     },
     "execution_count": 42,
     "metadata": {},
     "output_type": "execute_result"
    }
   ],
   "source": [
    "df_top_dates_by_verses = df_results.pivot_table(\n",
    "    index = 'Local_Date', values = 'Count', aggfunc = 'sum').reset_index(\n",
    "    ).rename(columns = {'Count':'Verses'}).sort_values(\n",
    "        'Verses', ascending = False).head(50)\n",
    "\n",
    "\n",
    "df_top_dates_by_verses['Rank'] = df_top_dates_by_verses['Verses'].rank(\n",
    "    ascending = False, method = 'min').astype('int')\n",
    "df_top_dates_by_verses['Rank and Date'] = '#'+df_top_dates_by_verses[\n",
    "    'Rank'].astype('str') + ': ' + df_top_dates_by_verses[\n",
    "        'Local_Date'].astype('str')\n",
    "df_top_dates_by_verses.reset_index(drop=True,inplace=True)\n",
    "df_top_dates_by_verses"
   ]
  },
  {
   "cell_type": "code",
   "execution_count": 43,
   "metadata": {},
   "outputs": [
    {
     "data": {
      "application/vnd.plotly.v1+json": {
       "config": {
        "plotlyServerURL": "https://plot.ly"
       },
       "data": [
        {
         "alignmentgroup": "True",
         "hovertemplate": "Rank and Date=%{x}<br>Verses=%{y}<extra></extra>",
         "legendgroup": "",
         "marker": {
          "color": "#636efa",
          "pattern": {
           "shape": ""
          }
         },
         "name": "",
         "offsetgroup": "",
         "orientation": "v",
         "showlegend": false,
         "textposition": "auto",
         "type": "bar",
         "x": [
          "#1: 2023-10-29",
          "#2: 2023-11-05",
          "#3: 2023-11-03",
          "#4: 2023-11-06",
          "#5: 2023-10-31",
          "#6: 2023-11-04",
          "#7: 2023-10-24",
          "#8: 2023-10-25",
          "#9: 2023-10-28",
          "#10: 2023-11-02",
          "#11: 2023-10-27",
          "#11: 2023-11-01"
         ],
         "xaxis": "x",
         "y": [
          251,
          201,
          103,
          51,
          39,
          23,
          21,
          12,
          8,
          6,
          1,
          1
         ],
         "yaxis": "y"
        }
       ],
       "layout": {
        "barmode": "relative",
        "legend": {
         "tracegroupgap": 0
        },
        "margin": {
         "t": 60
        },
        "template": {
         "data": {
          "bar": [
           {
            "error_x": {
             "color": "#2a3f5f"
            },
            "error_y": {
             "color": "#2a3f5f"
            },
            "marker": {
             "line": {
              "color": "#E5ECF6",
              "width": 0.5
             },
             "pattern": {
              "fillmode": "overlay",
              "size": 10,
              "solidity": 0.2
             }
            },
            "type": "bar"
           }
          ],
          "barpolar": [
           {
            "marker": {
             "line": {
              "color": "#E5ECF6",
              "width": 0.5
             },
             "pattern": {
              "fillmode": "overlay",
              "size": 10,
              "solidity": 0.2
             }
            },
            "type": "barpolar"
           }
          ],
          "carpet": [
           {
            "aaxis": {
             "endlinecolor": "#2a3f5f",
             "gridcolor": "white",
             "linecolor": "white",
             "minorgridcolor": "white",
             "startlinecolor": "#2a3f5f"
            },
            "baxis": {
             "endlinecolor": "#2a3f5f",
             "gridcolor": "white",
             "linecolor": "white",
             "minorgridcolor": "white",
             "startlinecolor": "#2a3f5f"
            },
            "type": "carpet"
           }
          ],
          "choropleth": [
           {
            "colorbar": {
             "outlinewidth": 0,
             "ticks": ""
            },
            "type": "choropleth"
           }
          ],
          "contour": [
           {
            "colorbar": {
             "outlinewidth": 0,
             "ticks": ""
            },
            "colorscale": [
             [
              0,
              "#0d0887"
             ],
             [
              0.1111111111111111,
              "#46039f"
             ],
             [
              0.2222222222222222,
              "#7201a8"
             ],
             [
              0.3333333333333333,
              "#9c179e"
             ],
             [
              0.4444444444444444,
              "#bd3786"
             ],
             [
              0.5555555555555556,
              "#d8576b"
             ],
             [
              0.6666666666666666,
              "#ed7953"
             ],
             [
              0.7777777777777778,
              "#fb9f3a"
             ],
             [
              0.8888888888888888,
              "#fdca26"
             ],
             [
              1,
              "#f0f921"
             ]
            ],
            "type": "contour"
           }
          ],
          "contourcarpet": [
           {
            "colorbar": {
             "outlinewidth": 0,
             "ticks": ""
            },
            "type": "contourcarpet"
           }
          ],
          "heatmap": [
           {
            "colorbar": {
             "outlinewidth": 0,
             "ticks": ""
            },
            "colorscale": [
             [
              0,
              "#0d0887"
             ],
             [
              0.1111111111111111,
              "#46039f"
             ],
             [
              0.2222222222222222,
              "#7201a8"
             ],
             [
              0.3333333333333333,
              "#9c179e"
             ],
             [
              0.4444444444444444,
              "#bd3786"
             ],
             [
              0.5555555555555556,
              "#d8576b"
             ],
             [
              0.6666666666666666,
              "#ed7953"
             ],
             [
              0.7777777777777778,
              "#fb9f3a"
             ],
             [
              0.8888888888888888,
              "#fdca26"
             ],
             [
              1,
              "#f0f921"
             ]
            ],
            "type": "heatmap"
           }
          ],
          "heatmapgl": [
           {
            "colorbar": {
             "outlinewidth": 0,
             "ticks": ""
            },
            "colorscale": [
             [
              0,
              "#0d0887"
             ],
             [
              0.1111111111111111,
              "#46039f"
             ],
             [
              0.2222222222222222,
              "#7201a8"
             ],
             [
              0.3333333333333333,
              "#9c179e"
             ],
             [
              0.4444444444444444,
              "#bd3786"
             ],
             [
              0.5555555555555556,
              "#d8576b"
             ],
             [
              0.6666666666666666,
              "#ed7953"
             ],
             [
              0.7777777777777778,
              "#fb9f3a"
             ],
             [
              0.8888888888888888,
              "#fdca26"
             ],
             [
              1,
              "#f0f921"
             ]
            ],
            "type": "heatmapgl"
           }
          ],
          "histogram": [
           {
            "marker": {
             "pattern": {
              "fillmode": "overlay",
              "size": 10,
              "solidity": 0.2
             }
            },
            "type": "histogram"
           }
          ],
          "histogram2d": [
           {
            "colorbar": {
             "outlinewidth": 0,
             "ticks": ""
            },
            "colorscale": [
             [
              0,
              "#0d0887"
             ],
             [
              0.1111111111111111,
              "#46039f"
             ],
             [
              0.2222222222222222,
              "#7201a8"
             ],
             [
              0.3333333333333333,
              "#9c179e"
             ],
             [
              0.4444444444444444,
              "#bd3786"
             ],
             [
              0.5555555555555556,
              "#d8576b"
             ],
             [
              0.6666666666666666,
              "#ed7953"
             ],
             [
              0.7777777777777778,
              "#fb9f3a"
             ],
             [
              0.8888888888888888,
              "#fdca26"
             ],
             [
              1,
              "#f0f921"
             ]
            ],
            "type": "histogram2d"
           }
          ],
          "histogram2dcontour": [
           {
            "colorbar": {
             "outlinewidth": 0,
             "ticks": ""
            },
            "colorscale": [
             [
              0,
              "#0d0887"
             ],
             [
              0.1111111111111111,
              "#46039f"
             ],
             [
              0.2222222222222222,
              "#7201a8"
             ],
             [
              0.3333333333333333,
              "#9c179e"
             ],
             [
              0.4444444444444444,
              "#bd3786"
             ],
             [
              0.5555555555555556,
              "#d8576b"
             ],
             [
              0.6666666666666666,
              "#ed7953"
             ],
             [
              0.7777777777777778,
              "#fb9f3a"
             ],
             [
              0.8888888888888888,
              "#fdca26"
             ],
             [
              1,
              "#f0f921"
             ]
            ],
            "type": "histogram2dcontour"
           }
          ],
          "mesh3d": [
           {
            "colorbar": {
             "outlinewidth": 0,
             "ticks": ""
            },
            "type": "mesh3d"
           }
          ],
          "parcoords": [
           {
            "line": {
             "colorbar": {
              "outlinewidth": 0,
              "ticks": ""
             }
            },
            "type": "parcoords"
           }
          ],
          "pie": [
           {
            "automargin": true,
            "type": "pie"
           }
          ],
          "scatter": [
           {
            "fillpattern": {
             "fillmode": "overlay",
             "size": 10,
             "solidity": 0.2
            },
            "type": "scatter"
           }
          ],
          "scatter3d": [
           {
            "line": {
             "colorbar": {
              "outlinewidth": 0,
              "ticks": ""
             }
            },
            "marker": {
             "colorbar": {
              "outlinewidth": 0,
              "ticks": ""
             }
            },
            "type": "scatter3d"
           }
          ],
          "scattercarpet": [
           {
            "marker": {
             "colorbar": {
              "outlinewidth": 0,
              "ticks": ""
             }
            },
            "type": "scattercarpet"
           }
          ],
          "scattergeo": [
           {
            "marker": {
             "colorbar": {
              "outlinewidth": 0,
              "ticks": ""
             }
            },
            "type": "scattergeo"
           }
          ],
          "scattergl": [
           {
            "marker": {
             "colorbar": {
              "outlinewidth": 0,
              "ticks": ""
             }
            },
            "type": "scattergl"
           }
          ],
          "scattermapbox": [
           {
            "marker": {
             "colorbar": {
              "outlinewidth": 0,
              "ticks": ""
             }
            },
            "type": "scattermapbox"
           }
          ],
          "scatterpolar": [
           {
            "marker": {
             "colorbar": {
              "outlinewidth": 0,
              "ticks": ""
             }
            },
            "type": "scatterpolar"
           }
          ],
          "scatterpolargl": [
           {
            "marker": {
             "colorbar": {
              "outlinewidth": 0,
              "ticks": ""
             }
            },
            "type": "scatterpolargl"
           }
          ],
          "scatterternary": [
           {
            "marker": {
             "colorbar": {
              "outlinewidth": 0,
              "ticks": ""
             }
            },
            "type": "scatterternary"
           }
          ],
          "surface": [
           {
            "colorbar": {
             "outlinewidth": 0,
             "ticks": ""
            },
            "colorscale": [
             [
              0,
              "#0d0887"
             ],
             [
              0.1111111111111111,
              "#46039f"
             ],
             [
              0.2222222222222222,
              "#7201a8"
             ],
             [
              0.3333333333333333,
              "#9c179e"
             ],
             [
              0.4444444444444444,
              "#bd3786"
             ],
             [
              0.5555555555555556,
              "#d8576b"
             ],
             [
              0.6666666666666666,
              "#ed7953"
             ],
             [
              0.7777777777777778,
              "#fb9f3a"
             ],
             [
              0.8888888888888888,
              "#fdca26"
             ],
             [
              1,
              "#f0f921"
             ]
            ],
            "type": "surface"
           }
          ],
          "table": [
           {
            "cells": {
             "fill": {
              "color": "#EBF0F8"
             },
             "line": {
              "color": "white"
             }
            },
            "header": {
             "fill": {
              "color": "#C8D4E3"
             },
             "line": {
              "color": "white"
             }
            },
            "type": "table"
           }
          ]
         },
         "layout": {
          "annotationdefaults": {
           "arrowcolor": "#2a3f5f",
           "arrowhead": 0,
           "arrowwidth": 1
          },
          "autotypenumbers": "strict",
          "coloraxis": {
           "colorbar": {
            "outlinewidth": 0,
            "ticks": ""
           }
          },
          "colorscale": {
           "diverging": [
            [
             0,
             "#8e0152"
            ],
            [
             0.1,
             "#c51b7d"
            ],
            [
             0.2,
             "#de77ae"
            ],
            [
             0.3,
             "#f1b6da"
            ],
            [
             0.4,
             "#fde0ef"
            ],
            [
             0.5,
             "#f7f7f7"
            ],
            [
             0.6,
             "#e6f5d0"
            ],
            [
             0.7,
             "#b8e186"
            ],
            [
             0.8,
             "#7fbc41"
            ],
            [
             0.9,
             "#4d9221"
            ],
            [
             1,
             "#276419"
            ]
           ],
           "sequential": [
            [
             0,
             "#0d0887"
            ],
            [
             0.1111111111111111,
             "#46039f"
            ],
            [
             0.2222222222222222,
             "#7201a8"
            ],
            [
             0.3333333333333333,
             "#9c179e"
            ],
            [
             0.4444444444444444,
             "#bd3786"
            ],
            [
             0.5555555555555556,
             "#d8576b"
            ],
            [
             0.6666666666666666,
             "#ed7953"
            ],
            [
             0.7777777777777778,
             "#fb9f3a"
            ],
            [
             0.8888888888888888,
             "#fdca26"
            ],
            [
             1,
             "#f0f921"
            ]
           ],
           "sequentialminus": [
            [
             0,
             "#0d0887"
            ],
            [
             0.1111111111111111,
             "#46039f"
            ],
            [
             0.2222222222222222,
             "#7201a8"
            ],
            [
             0.3333333333333333,
             "#9c179e"
            ],
            [
             0.4444444444444444,
             "#bd3786"
            ],
            [
             0.5555555555555556,
             "#d8576b"
            ],
            [
             0.6666666666666666,
             "#ed7953"
            ],
            [
             0.7777777777777778,
             "#fb9f3a"
            ],
            [
             0.8888888888888888,
             "#fdca26"
            ],
            [
             1,
             "#f0f921"
            ]
           ]
          },
          "colorway": [
           "#636efa",
           "#EF553B",
           "#00cc96",
           "#ab63fa",
           "#FFA15A",
           "#19d3f3",
           "#FF6692",
           "#B6E880",
           "#FF97FF",
           "#FECB52"
          ],
          "font": {
           "color": "#2a3f5f"
          },
          "geo": {
           "bgcolor": "white",
           "lakecolor": "white",
           "landcolor": "#E5ECF6",
           "showlakes": true,
           "showland": true,
           "subunitcolor": "white"
          },
          "hoverlabel": {
           "align": "left"
          },
          "hovermode": "closest",
          "mapbox": {
           "style": "light"
          },
          "paper_bgcolor": "white",
          "plot_bgcolor": "#E5ECF6",
          "polar": {
           "angularaxis": {
            "gridcolor": "white",
            "linecolor": "white",
            "ticks": ""
           },
           "bgcolor": "#E5ECF6",
           "radialaxis": {
            "gridcolor": "white",
            "linecolor": "white",
            "ticks": ""
           }
          },
          "scene": {
           "xaxis": {
            "backgroundcolor": "#E5ECF6",
            "gridcolor": "white",
            "gridwidth": 2,
            "linecolor": "white",
            "showbackground": true,
            "ticks": "",
            "zerolinecolor": "white"
           },
           "yaxis": {
            "backgroundcolor": "#E5ECF6",
            "gridcolor": "white",
            "gridwidth": 2,
            "linecolor": "white",
            "showbackground": true,
            "ticks": "",
            "zerolinecolor": "white"
           },
           "zaxis": {
            "backgroundcolor": "#E5ECF6",
            "gridcolor": "white",
            "gridwidth": 2,
            "linecolor": "white",
            "showbackground": true,
            "ticks": "",
            "zerolinecolor": "white"
           }
          },
          "shapedefaults": {
           "line": {
            "color": "#2a3f5f"
           }
          },
          "ternary": {
           "aaxis": {
            "gridcolor": "white",
            "linecolor": "white",
            "ticks": ""
           },
           "baxis": {
            "gridcolor": "white",
            "linecolor": "white",
            "ticks": ""
           },
           "bgcolor": "#E5ECF6",
           "caxis": {
            "gridcolor": "white",
            "linecolor": "white",
            "ticks": ""
           }
          },
          "title": {
           "x": 0.05
          },
          "xaxis": {
           "automargin": true,
           "gridcolor": "white",
           "linecolor": "white",
           "ticks": "",
           "title": {
            "standoff": 15
           },
           "zerolinecolor": "white",
           "zerolinewidth": 2
          },
          "yaxis": {
           "automargin": true,
           "gridcolor": "white",
           "linecolor": "white",
           "ticks": "",
           "title": {
            "standoff": 15
           },
           "zerolinecolor": "white",
           "zerolinewidth": 2
          }
         }
        },
        "xaxis": {
         "anchor": "y",
         "domain": [
          0,
          1
         ],
         "tickangle": 90,
         "title": {
          "text": "Rank and Date"
         }
        },
        "yaxis": {
         "anchor": "x",
         "domain": [
          0,
          1
         ],
         "title": {
          "text": "Verses"
         }
        }
       }
      }
     },
     "metadata": {},
     "output_type": "display_data"
    }
   ],
   "source": [
    "fig_top_dates_by_verses = px.bar(df_top_dates_by_verses, \n",
    "x = 'Rank and Date', y = 'Verses')\n",
    "fig_top_dates_by_verses.update_xaxes(tickangle = 90)\n",
    "fig_top_dates_by_verses.write_html('Analyses/top_dates_by_verses.html')\n",
    "fig_top_dates_by_verses.write_image(\n",
    "    'Analyses/top_dates_by_verses.png', \n",
    "    width = 1920, height = 1080, engine = 'kaleido', scale = 2)\n",
    "fig_top_dates_by_verses"
   ]
  },
  {
   "cell_type": "markdown",
   "metadata": {},
   "source": [
    "## Performing similar analyses by month:"
   ]
  },
  {
   "cell_type": "code",
   "execution_count": 44,
   "metadata": {},
   "outputs": [
    {
     "data": {
      "text/html": [
       "<div>\n",
       "<style scoped>\n",
       "    .dataframe tbody tr th:only-of-type {\n",
       "        vertical-align: middle;\n",
       "    }\n",
       "\n",
       "    .dataframe tbody tr th {\n",
       "        vertical-align: top;\n",
       "    }\n",
       "\n",
       "    .dataframe thead th {\n",
       "        text-align: right;\n",
       "    }\n",
       "</style>\n",
       "<table border=\"1\" class=\"dataframe\">\n",
       "  <thead>\n",
       "    <tr style=\"text-align: right;\">\n",
       "      <th></th>\n",
       "      <th>Local_Year</th>\n",
       "      <th>Local_Month</th>\n",
       "      <th>Characters</th>\n",
       "      <th>Rank</th>\n",
       "      <th>Rank and Month</th>\n",
       "    </tr>\n",
       "  </thead>\n",
       "  <tbody>\n",
       "    <tr>\n",
       "      <th>0</th>\n",
       "      <td>2023</td>\n",
       "      <td>11</td>\n",
       "      <td>45427</td>\n",
       "      <td>1</td>\n",
       "      <td>#1: 2023-11</td>\n",
       "    </tr>\n",
       "    <tr>\n",
       "      <th>1</th>\n",
       "      <td>2023</td>\n",
       "      <td>10</td>\n",
       "      <td>38076</td>\n",
       "      <td>2</td>\n",
       "      <td>#2: 2023-10</td>\n",
       "    </tr>\n",
       "  </tbody>\n",
       "</table>\n",
       "</div>"
      ],
      "text/plain": [
       "   Local_Year  Local_Month  Characters  Rank Rank and Month\n",
       "0        2023           11       45427     1    #1: 2023-11\n",
       "1        2023           10       38076     2    #2: 2023-10"
      ]
     },
     "execution_count": 44,
     "metadata": {},
     "output_type": "execute_result"
    }
   ],
   "source": [
    "df_top_months_by_characters = df_results.pivot_table(\n",
    "    index = ['Local_Year', 'Local_Month'], \n",
    "    values = 'Characters', aggfunc = 'sum').reset_index(\n",
    "    ).sort_values('Characters', ascending = False).head(50)\n",
    "\n",
    "df_top_months_by_characters['Rank'] = df_top_months_by_characters[\n",
    "'Characters'].rank(ascending = False, method = 'min').astype('int')\n",
    "df_top_months_by_characters['Rank and Month'] = '#'+df_top_months_by_characters[\n",
    "    'Rank'].astype('str') + ': ' + df_top_months_by_characters[\n",
    "        'Local_Year'].astype('str') + '-' + df_top_months_by_characters[\n",
    "            'Local_Month'].astype('str')\n",
    "df_top_months_by_characters.reset_index(drop=True,inplace=True)\n",
    "\n",
    "df_top_months_by_characters"
   ]
  },
  {
   "cell_type": "code",
   "execution_count": 45,
   "metadata": {},
   "outputs": [
    {
     "data": {
      "application/vnd.plotly.v1+json": {
       "config": {
        "plotlyServerURL": "https://plot.ly"
       },
       "data": [
        {
         "alignmentgroup": "True",
         "hovertemplate": "Rank and Month=%{x}<br>Characters=%{y}<extra></extra>",
         "legendgroup": "",
         "marker": {
          "color": "#636efa",
          "pattern": {
           "shape": ""
          }
         },
         "name": "",
         "offsetgroup": "",
         "orientation": "v",
         "showlegend": false,
         "textposition": "auto",
         "type": "bar",
         "x": [
          "#1: 2023-11",
          "#2: 2023-10"
         ],
         "xaxis": "x",
         "y": [
          45427,
          38076
         ],
         "yaxis": "y"
        }
       ],
       "layout": {
        "barmode": "relative",
        "legend": {
         "tracegroupgap": 0
        },
        "margin": {
         "t": 60
        },
        "template": {
         "data": {
          "bar": [
           {
            "error_x": {
             "color": "#2a3f5f"
            },
            "error_y": {
             "color": "#2a3f5f"
            },
            "marker": {
             "line": {
              "color": "#E5ECF6",
              "width": 0.5
             },
             "pattern": {
              "fillmode": "overlay",
              "size": 10,
              "solidity": 0.2
             }
            },
            "type": "bar"
           }
          ],
          "barpolar": [
           {
            "marker": {
             "line": {
              "color": "#E5ECF6",
              "width": 0.5
             },
             "pattern": {
              "fillmode": "overlay",
              "size": 10,
              "solidity": 0.2
             }
            },
            "type": "barpolar"
           }
          ],
          "carpet": [
           {
            "aaxis": {
             "endlinecolor": "#2a3f5f",
             "gridcolor": "white",
             "linecolor": "white",
             "minorgridcolor": "white",
             "startlinecolor": "#2a3f5f"
            },
            "baxis": {
             "endlinecolor": "#2a3f5f",
             "gridcolor": "white",
             "linecolor": "white",
             "minorgridcolor": "white",
             "startlinecolor": "#2a3f5f"
            },
            "type": "carpet"
           }
          ],
          "choropleth": [
           {
            "colorbar": {
             "outlinewidth": 0,
             "ticks": ""
            },
            "type": "choropleth"
           }
          ],
          "contour": [
           {
            "colorbar": {
             "outlinewidth": 0,
             "ticks": ""
            },
            "colorscale": [
             [
              0,
              "#0d0887"
             ],
             [
              0.1111111111111111,
              "#46039f"
             ],
             [
              0.2222222222222222,
              "#7201a8"
             ],
             [
              0.3333333333333333,
              "#9c179e"
             ],
             [
              0.4444444444444444,
              "#bd3786"
             ],
             [
              0.5555555555555556,
              "#d8576b"
             ],
             [
              0.6666666666666666,
              "#ed7953"
             ],
             [
              0.7777777777777778,
              "#fb9f3a"
             ],
             [
              0.8888888888888888,
              "#fdca26"
             ],
             [
              1,
              "#f0f921"
             ]
            ],
            "type": "contour"
           }
          ],
          "contourcarpet": [
           {
            "colorbar": {
             "outlinewidth": 0,
             "ticks": ""
            },
            "type": "contourcarpet"
           }
          ],
          "heatmap": [
           {
            "colorbar": {
             "outlinewidth": 0,
             "ticks": ""
            },
            "colorscale": [
             [
              0,
              "#0d0887"
             ],
             [
              0.1111111111111111,
              "#46039f"
             ],
             [
              0.2222222222222222,
              "#7201a8"
             ],
             [
              0.3333333333333333,
              "#9c179e"
             ],
             [
              0.4444444444444444,
              "#bd3786"
             ],
             [
              0.5555555555555556,
              "#d8576b"
             ],
             [
              0.6666666666666666,
              "#ed7953"
             ],
             [
              0.7777777777777778,
              "#fb9f3a"
             ],
             [
              0.8888888888888888,
              "#fdca26"
             ],
             [
              1,
              "#f0f921"
             ]
            ],
            "type": "heatmap"
           }
          ],
          "heatmapgl": [
           {
            "colorbar": {
             "outlinewidth": 0,
             "ticks": ""
            },
            "colorscale": [
             [
              0,
              "#0d0887"
             ],
             [
              0.1111111111111111,
              "#46039f"
             ],
             [
              0.2222222222222222,
              "#7201a8"
             ],
             [
              0.3333333333333333,
              "#9c179e"
             ],
             [
              0.4444444444444444,
              "#bd3786"
             ],
             [
              0.5555555555555556,
              "#d8576b"
             ],
             [
              0.6666666666666666,
              "#ed7953"
             ],
             [
              0.7777777777777778,
              "#fb9f3a"
             ],
             [
              0.8888888888888888,
              "#fdca26"
             ],
             [
              1,
              "#f0f921"
             ]
            ],
            "type": "heatmapgl"
           }
          ],
          "histogram": [
           {
            "marker": {
             "pattern": {
              "fillmode": "overlay",
              "size": 10,
              "solidity": 0.2
             }
            },
            "type": "histogram"
           }
          ],
          "histogram2d": [
           {
            "colorbar": {
             "outlinewidth": 0,
             "ticks": ""
            },
            "colorscale": [
             [
              0,
              "#0d0887"
             ],
             [
              0.1111111111111111,
              "#46039f"
             ],
             [
              0.2222222222222222,
              "#7201a8"
             ],
             [
              0.3333333333333333,
              "#9c179e"
             ],
             [
              0.4444444444444444,
              "#bd3786"
             ],
             [
              0.5555555555555556,
              "#d8576b"
             ],
             [
              0.6666666666666666,
              "#ed7953"
             ],
             [
              0.7777777777777778,
              "#fb9f3a"
             ],
             [
              0.8888888888888888,
              "#fdca26"
             ],
             [
              1,
              "#f0f921"
             ]
            ],
            "type": "histogram2d"
           }
          ],
          "histogram2dcontour": [
           {
            "colorbar": {
             "outlinewidth": 0,
             "ticks": ""
            },
            "colorscale": [
             [
              0,
              "#0d0887"
             ],
             [
              0.1111111111111111,
              "#46039f"
             ],
             [
              0.2222222222222222,
              "#7201a8"
             ],
             [
              0.3333333333333333,
              "#9c179e"
             ],
             [
              0.4444444444444444,
              "#bd3786"
             ],
             [
              0.5555555555555556,
              "#d8576b"
             ],
             [
              0.6666666666666666,
              "#ed7953"
             ],
             [
              0.7777777777777778,
              "#fb9f3a"
             ],
             [
              0.8888888888888888,
              "#fdca26"
             ],
             [
              1,
              "#f0f921"
             ]
            ],
            "type": "histogram2dcontour"
           }
          ],
          "mesh3d": [
           {
            "colorbar": {
             "outlinewidth": 0,
             "ticks": ""
            },
            "type": "mesh3d"
           }
          ],
          "parcoords": [
           {
            "line": {
             "colorbar": {
              "outlinewidth": 0,
              "ticks": ""
             }
            },
            "type": "parcoords"
           }
          ],
          "pie": [
           {
            "automargin": true,
            "type": "pie"
           }
          ],
          "scatter": [
           {
            "fillpattern": {
             "fillmode": "overlay",
             "size": 10,
             "solidity": 0.2
            },
            "type": "scatter"
           }
          ],
          "scatter3d": [
           {
            "line": {
             "colorbar": {
              "outlinewidth": 0,
              "ticks": ""
             }
            },
            "marker": {
             "colorbar": {
              "outlinewidth": 0,
              "ticks": ""
             }
            },
            "type": "scatter3d"
           }
          ],
          "scattercarpet": [
           {
            "marker": {
             "colorbar": {
              "outlinewidth": 0,
              "ticks": ""
             }
            },
            "type": "scattercarpet"
           }
          ],
          "scattergeo": [
           {
            "marker": {
             "colorbar": {
              "outlinewidth": 0,
              "ticks": ""
             }
            },
            "type": "scattergeo"
           }
          ],
          "scattergl": [
           {
            "marker": {
             "colorbar": {
              "outlinewidth": 0,
              "ticks": ""
             }
            },
            "type": "scattergl"
           }
          ],
          "scattermapbox": [
           {
            "marker": {
             "colorbar": {
              "outlinewidth": 0,
              "ticks": ""
             }
            },
            "type": "scattermapbox"
           }
          ],
          "scatterpolar": [
           {
            "marker": {
             "colorbar": {
              "outlinewidth": 0,
              "ticks": ""
             }
            },
            "type": "scatterpolar"
           }
          ],
          "scatterpolargl": [
           {
            "marker": {
             "colorbar": {
              "outlinewidth": 0,
              "ticks": ""
             }
            },
            "type": "scatterpolargl"
           }
          ],
          "scatterternary": [
           {
            "marker": {
             "colorbar": {
              "outlinewidth": 0,
              "ticks": ""
             }
            },
            "type": "scatterternary"
           }
          ],
          "surface": [
           {
            "colorbar": {
             "outlinewidth": 0,
             "ticks": ""
            },
            "colorscale": [
             [
              0,
              "#0d0887"
             ],
             [
              0.1111111111111111,
              "#46039f"
             ],
             [
              0.2222222222222222,
              "#7201a8"
             ],
             [
              0.3333333333333333,
              "#9c179e"
             ],
             [
              0.4444444444444444,
              "#bd3786"
             ],
             [
              0.5555555555555556,
              "#d8576b"
             ],
             [
              0.6666666666666666,
              "#ed7953"
             ],
             [
              0.7777777777777778,
              "#fb9f3a"
             ],
             [
              0.8888888888888888,
              "#fdca26"
             ],
             [
              1,
              "#f0f921"
             ]
            ],
            "type": "surface"
           }
          ],
          "table": [
           {
            "cells": {
             "fill": {
              "color": "#EBF0F8"
             },
             "line": {
              "color": "white"
             }
            },
            "header": {
             "fill": {
              "color": "#C8D4E3"
             },
             "line": {
              "color": "white"
             }
            },
            "type": "table"
           }
          ]
         },
         "layout": {
          "annotationdefaults": {
           "arrowcolor": "#2a3f5f",
           "arrowhead": 0,
           "arrowwidth": 1
          },
          "autotypenumbers": "strict",
          "coloraxis": {
           "colorbar": {
            "outlinewidth": 0,
            "ticks": ""
           }
          },
          "colorscale": {
           "diverging": [
            [
             0,
             "#8e0152"
            ],
            [
             0.1,
             "#c51b7d"
            ],
            [
             0.2,
             "#de77ae"
            ],
            [
             0.3,
             "#f1b6da"
            ],
            [
             0.4,
             "#fde0ef"
            ],
            [
             0.5,
             "#f7f7f7"
            ],
            [
             0.6,
             "#e6f5d0"
            ],
            [
             0.7,
             "#b8e186"
            ],
            [
             0.8,
             "#7fbc41"
            ],
            [
             0.9,
             "#4d9221"
            ],
            [
             1,
             "#276419"
            ]
           ],
           "sequential": [
            [
             0,
             "#0d0887"
            ],
            [
             0.1111111111111111,
             "#46039f"
            ],
            [
             0.2222222222222222,
             "#7201a8"
            ],
            [
             0.3333333333333333,
             "#9c179e"
            ],
            [
             0.4444444444444444,
             "#bd3786"
            ],
            [
             0.5555555555555556,
             "#d8576b"
            ],
            [
             0.6666666666666666,
             "#ed7953"
            ],
            [
             0.7777777777777778,
             "#fb9f3a"
            ],
            [
             0.8888888888888888,
             "#fdca26"
            ],
            [
             1,
             "#f0f921"
            ]
           ],
           "sequentialminus": [
            [
             0,
             "#0d0887"
            ],
            [
             0.1111111111111111,
             "#46039f"
            ],
            [
             0.2222222222222222,
             "#7201a8"
            ],
            [
             0.3333333333333333,
             "#9c179e"
            ],
            [
             0.4444444444444444,
             "#bd3786"
            ],
            [
             0.5555555555555556,
             "#d8576b"
            ],
            [
             0.6666666666666666,
             "#ed7953"
            ],
            [
             0.7777777777777778,
             "#fb9f3a"
            ],
            [
             0.8888888888888888,
             "#fdca26"
            ],
            [
             1,
             "#f0f921"
            ]
           ]
          },
          "colorway": [
           "#636efa",
           "#EF553B",
           "#00cc96",
           "#ab63fa",
           "#FFA15A",
           "#19d3f3",
           "#FF6692",
           "#B6E880",
           "#FF97FF",
           "#FECB52"
          ],
          "font": {
           "color": "#2a3f5f"
          },
          "geo": {
           "bgcolor": "white",
           "lakecolor": "white",
           "landcolor": "#E5ECF6",
           "showlakes": true,
           "showland": true,
           "subunitcolor": "white"
          },
          "hoverlabel": {
           "align": "left"
          },
          "hovermode": "closest",
          "mapbox": {
           "style": "light"
          },
          "paper_bgcolor": "white",
          "plot_bgcolor": "#E5ECF6",
          "polar": {
           "angularaxis": {
            "gridcolor": "white",
            "linecolor": "white",
            "ticks": ""
           },
           "bgcolor": "#E5ECF6",
           "radialaxis": {
            "gridcolor": "white",
            "linecolor": "white",
            "ticks": ""
           }
          },
          "scene": {
           "xaxis": {
            "backgroundcolor": "#E5ECF6",
            "gridcolor": "white",
            "gridwidth": 2,
            "linecolor": "white",
            "showbackground": true,
            "ticks": "",
            "zerolinecolor": "white"
           },
           "yaxis": {
            "backgroundcolor": "#E5ECF6",
            "gridcolor": "white",
            "gridwidth": 2,
            "linecolor": "white",
            "showbackground": true,
            "ticks": "",
            "zerolinecolor": "white"
           },
           "zaxis": {
            "backgroundcolor": "#E5ECF6",
            "gridcolor": "white",
            "gridwidth": 2,
            "linecolor": "white",
            "showbackground": true,
            "ticks": "",
            "zerolinecolor": "white"
           }
          },
          "shapedefaults": {
           "line": {
            "color": "#2a3f5f"
           }
          },
          "ternary": {
           "aaxis": {
            "gridcolor": "white",
            "linecolor": "white",
            "ticks": ""
           },
           "baxis": {
            "gridcolor": "white",
            "linecolor": "white",
            "ticks": ""
           },
           "bgcolor": "#E5ECF6",
           "caxis": {
            "gridcolor": "white",
            "linecolor": "white",
            "ticks": ""
           }
          },
          "title": {
           "x": 0.05
          },
          "xaxis": {
           "automargin": true,
           "gridcolor": "white",
           "linecolor": "white",
           "ticks": "",
           "title": {
            "standoff": 15
           },
           "zerolinecolor": "white",
           "zerolinewidth": 2
          },
          "yaxis": {
           "automargin": true,
           "gridcolor": "white",
           "linecolor": "white",
           "ticks": "",
           "title": {
            "standoff": 15
           },
           "zerolinecolor": "white",
           "zerolinewidth": 2
          }
         }
        },
        "xaxis": {
         "anchor": "y",
         "domain": [
          0,
          1
         ],
         "tickangle": 90,
         "title": {
          "text": "Rank and Month"
         }
        },
        "yaxis": {
         "anchor": "x",
         "domain": [
          0,
          1
         ],
         "title": {
          "text": "Characters"
         }
        }
       }
      }
     },
     "metadata": {},
     "output_type": "display_data"
    }
   ],
   "source": [
    "fig_top_months_by_characters = px.bar(df_top_months_by_characters, \n",
    "x = 'Rank and Month', y = 'Characters')\n",
    "fig_top_months_by_characters.update_xaxes(tickangle = 90)\n",
    "fig_top_months_by_characters.write_html(\n",
    "    'Analyses/top_months_by_characters.html')\n",
    "fig_top_months_by_characters.write_image(\n",
    "    'Analyses/top_months_by_characters.png', \n",
    "    width = 1920, height = 1080, engine = 'kaleido', scale = 2)\n",
    "fig_top_months_by_characters"
   ]
  },
  {
   "cell_type": "code",
   "execution_count": 46,
   "metadata": {},
   "outputs": [
    {
     "data": {
      "text/html": [
       "<div>\n",
       "<style scoped>\n",
       "    .dataframe tbody tr th:only-of-type {\n",
       "        vertical-align: middle;\n",
       "    }\n",
       "\n",
       "    .dataframe tbody tr th {\n",
       "        vertical-align: top;\n",
       "    }\n",
       "\n",
       "    .dataframe thead th {\n",
       "        text-align: right;\n",
       "    }\n",
       "</style>\n",
       "<table border=\"1\" class=\"dataframe\">\n",
       "  <thead>\n",
       "    <tr style=\"text-align: right;\">\n",
       "      <th></th>\n",
       "      <th>Local_Year</th>\n",
       "      <th>Local_Month</th>\n",
       "      <th>Verses</th>\n",
       "      <th>Rank</th>\n",
       "      <th>Rank and Month</th>\n",
       "    </tr>\n",
       "  </thead>\n",
       "  <tbody>\n",
       "    <tr>\n",
       "      <th>0</th>\n",
       "      <td>2023</td>\n",
       "      <td>11</td>\n",
       "      <td>385</td>\n",
       "      <td>1</td>\n",
       "      <td>#1: 2023-11</td>\n",
       "    </tr>\n",
       "    <tr>\n",
       "      <th>1</th>\n",
       "      <td>2023</td>\n",
       "      <td>10</td>\n",
       "      <td>332</td>\n",
       "      <td>2</td>\n",
       "      <td>#2: 2023-10</td>\n",
       "    </tr>\n",
       "  </tbody>\n",
       "</table>\n",
       "</div>"
      ],
      "text/plain": [
       "   Local_Year  Local_Month  Verses  Rank Rank and Month\n",
       "0        2023           11     385     1    #1: 2023-11\n",
       "1        2023           10     332     2    #2: 2023-10"
      ]
     },
     "execution_count": 46,
     "metadata": {},
     "output_type": "execute_result"
    }
   ],
   "source": [
    "df_top_months_by_verses = df_results.pivot_table(\n",
    "    index = ['Local_Year', 'Local_Month'], \n",
    "    values = 'Count', aggfunc = 'sum').reset_index(\n",
    "    ).rename(columns={'Count':'Verses'}).sort_values(\n",
    "        'Verses', ascending = False).head(50)\n",
    "\n",
    "df_top_months_by_verses['Rank'] = df_top_months_by_verses['Verses'].rank(\n",
    "    ascending = False, method = 'min').astype('int')\n",
    "df_top_months_by_verses['Rank and Month'] = '#'+df_top_months_by_verses[\n",
    "    'Rank'].astype('str') + ': ' + df_top_months_by_verses[\n",
    "        'Local_Year'].astype('str') + '-' + df_top_months_by_verses[\n",
    "            'Local_Month'].astype('str')\n",
    "df_top_months_by_verses.reset_index(drop=True,inplace=True)\n",
    "\n",
    "df_top_months_by_verses"
   ]
  },
  {
   "cell_type": "code",
   "execution_count": 47,
   "metadata": {},
   "outputs": [
    {
     "data": {
      "application/vnd.plotly.v1+json": {
       "config": {
        "plotlyServerURL": "https://plot.ly"
       },
       "data": [
        {
         "alignmentgroup": "True",
         "hovertemplate": "Rank and Month=%{x}<br>Verses=%{y}<extra></extra>",
         "legendgroup": "",
         "marker": {
          "color": "#636efa",
          "pattern": {
           "shape": ""
          }
         },
         "name": "",
         "offsetgroup": "",
         "orientation": "v",
         "showlegend": false,
         "textposition": "auto",
         "type": "bar",
         "x": [
          "#1: 2023-11",
          "#2: 2023-10"
         ],
         "xaxis": "x",
         "y": [
          385,
          332
         ],
         "yaxis": "y"
        }
       ],
       "layout": {
        "barmode": "relative",
        "legend": {
         "tracegroupgap": 0
        },
        "margin": {
         "t": 60
        },
        "template": {
         "data": {
          "bar": [
           {
            "error_x": {
             "color": "#2a3f5f"
            },
            "error_y": {
             "color": "#2a3f5f"
            },
            "marker": {
             "line": {
              "color": "#E5ECF6",
              "width": 0.5
             },
             "pattern": {
              "fillmode": "overlay",
              "size": 10,
              "solidity": 0.2
             }
            },
            "type": "bar"
           }
          ],
          "barpolar": [
           {
            "marker": {
             "line": {
              "color": "#E5ECF6",
              "width": 0.5
             },
             "pattern": {
              "fillmode": "overlay",
              "size": 10,
              "solidity": 0.2
             }
            },
            "type": "barpolar"
           }
          ],
          "carpet": [
           {
            "aaxis": {
             "endlinecolor": "#2a3f5f",
             "gridcolor": "white",
             "linecolor": "white",
             "minorgridcolor": "white",
             "startlinecolor": "#2a3f5f"
            },
            "baxis": {
             "endlinecolor": "#2a3f5f",
             "gridcolor": "white",
             "linecolor": "white",
             "minorgridcolor": "white",
             "startlinecolor": "#2a3f5f"
            },
            "type": "carpet"
           }
          ],
          "choropleth": [
           {
            "colorbar": {
             "outlinewidth": 0,
             "ticks": ""
            },
            "type": "choropleth"
           }
          ],
          "contour": [
           {
            "colorbar": {
             "outlinewidth": 0,
             "ticks": ""
            },
            "colorscale": [
             [
              0,
              "#0d0887"
             ],
             [
              0.1111111111111111,
              "#46039f"
             ],
             [
              0.2222222222222222,
              "#7201a8"
             ],
             [
              0.3333333333333333,
              "#9c179e"
             ],
             [
              0.4444444444444444,
              "#bd3786"
             ],
             [
              0.5555555555555556,
              "#d8576b"
             ],
             [
              0.6666666666666666,
              "#ed7953"
             ],
             [
              0.7777777777777778,
              "#fb9f3a"
             ],
             [
              0.8888888888888888,
              "#fdca26"
             ],
             [
              1,
              "#f0f921"
             ]
            ],
            "type": "contour"
           }
          ],
          "contourcarpet": [
           {
            "colorbar": {
             "outlinewidth": 0,
             "ticks": ""
            },
            "type": "contourcarpet"
           }
          ],
          "heatmap": [
           {
            "colorbar": {
             "outlinewidth": 0,
             "ticks": ""
            },
            "colorscale": [
             [
              0,
              "#0d0887"
             ],
             [
              0.1111111111111111,
              "#46039f"
             ],
             [
              0.2222222222222222,
              "#7201a8"
             ],
             [
              0.3333333333333333,
              "#9c179e"
             ],
             [
              0.4444444444444444,
              "#bd3786"
             ],
             [
              0.5555555555555556,
              "#d8576b"
             ],
             [
              0.6666666666666666,
              "#ed7953"
             ],
             [
              0.7777777777777778,
              "#fb9f3a"
             ],
             [
              0.8888888888888888,
              "#fdca26"
             ],
             [
              1,
              "#f0f921"
             ]
            ],
            "type": "heatmap"
           }
          ],
          "heatmapgl": [
           {
            "colorbar": {
             "outlinewidth": 0,
             "ticks": ""
            },
            "colorscale": [
             [
              0,
              "#0d0887"
             ],
             [
              0.1111111111111111,
              "#46039f"
             ],
             [
              0.2222222222222222,
              "#7201a8"
             ],
             [
              0.3333333333333333,
              "#9c179e"
             ],
             [
              0.4444444444444444,
              "#bd3786"
             ],
             [
              0.5555555555555556,
              "#d8576b"
             ],
             [
              0.6666666666666666,
              "#ed7953"
             ],
             [
              0.7777777777777778,
              "#fb9f3a"
             ],
             [
              0.8888888888888888,
              "#fdca26"
             ],
             [
              1,
              "#f0f921"
             ]
            ],
            "type": "heatmapgl"
           }
          ],
          "histogram": [
           {
            "marker": {
             "pattern": {
              "fillmode": "overlay",
              "size": 10,
              "solidity": 0.2
             }
            },
            "type": "histogram"
           }
          ],
          "histogram2d": [
           {
            "colorbar": {
             "outlinewidth": 0,
             "ticks": ""
            },
            "colorscale": [
             [
              0,
              "#0d0887"
             ],
             [
              0.1111111111111111,
              "#46039f"
             ],
             [
              0.2222222222222222,
              "#7201a8"
             ],
             [
              0.3333333333333333,
              "#9c179e"
             ],
             [
              0.4444444444444444,
              "#bd3786"
             ],
             [
              0.5555555555555556,
              "#d8576b"
             ],
             [
              0.6666666666666666,
              "#ed7953"
             ],
             [
              0.7777777777777778,
              "#fb9f3a"
             ],
             [
              0.8888888888888888,
              "#fdca26"
             ],
             [
              1,
              "#f0f921"
             ]
            ],
            "type": "histogram2d"
           }
          ],
          "histogram2dcontour": [
           {
            "colorbar": {
             "outlinewidth": 0,
             "ticks": ""
            },
            "colorscale": [
             [
              0,
              "#0d0887"
             ],
             [
              0.1111111111111111,
              "#46039f"
             ],
             [
              0.2222222222222222,
              "#7201a8"
             ],
             [
              0.3333333333333333,
              "#9c179e"
             ],
             [
              0.4444444444444444,
              "#bd3786"
             ],
             [
              0.5555555555555556,
              "#d8576b"
             ],
             [
              0.6666666666666666,
              "#ed7953"
             ],
             [
              0.7777777777777778,
              "#fb9f3a"
             ],
             [
              0.8888888888888888,
              "#fdca26"
             ],
             [
              1,
              "#f0f921"
             ]
            ],
            "type": "histogram2dcontour"
           }
          ],
          "mesh3d": [
           {
            "colorbar": {
             "outlinewidth": 0,
             "ticks": ""
            },
            "type": "mesh3d"
           }
          ],
          "parcoords": [
           {
            "line": {
             "colorbar": {
              "outlinewidth": 0,
              "ticks": ""
             }
            },
            "type": "parcoords"
           }
          ],
          "pie": [
           {
            "automargin": true,
            "type": "pie"
           }
          ],
          "scatter": [
           {
            "fillpattern": {
             "fillmode": "overlay",
             "size": 10,
             "solidity": 0.2
            },
            "type": "scatter"
           }
          ],
          "scatter3d": [
           {
            "line": {
             "colorbar": {
              "outlinewidth": 0,
              "ticks": ""
             }
            },
            "marker": {
             "colorbar": {
              "outlinewidth": 0,
              "ticks": ""
             }
            },
            "type": "scatter3d"
           }
          ],
          "scattercarpet": [
           {
            "marker": {
             "colorbar": {
              "outlinewidth": 0,
              "ticks": ""
             }
            },
            "type": "scattercarpet"
           }
          ],
          "scattergeo": [
           {
            "marker": {
             "colorbar": {
              "outlinewidth": 0,
              "ticks": ""
             }
            },
            "type": "scattergeo"
           }
          ],
          "scattergl": [
           {
            "marker": {
             "colorbar": {
              "outlinewidth": 0,
              "ticks": ""
             }
            },
            "type": "scattergl"
           }
          ],
          "scattermapbox": [
           {
            "marker": {
             "colorbar": {
              "outlinewidth": 0,
              "ticks": ""
             }
            },
            "type": "scattermapbox"
           }
          ],
          "scatterpolar": [
           {
            "marker": {
             "colorbar": {
              "outlinewidth": 0,
              "ticks": ""
             }
            },
            "type": "scatterpolar"
           }
          ],
          "scatterpolargl": [
           {
            "marker": {
             "colorbar": {
              "outlinewidth": 0,
              "ticks": ""
             }
            },
            "type": "scatterpolargl"
           }
          ],
          "scatterternary": [
           {
            "marker": {
             "colorbar": {
              "outlinewidth": 0,
              "ticks": ""
             }
            },
            "type": "scatterternary"
           }
          ],
          "surface": [
           {
            "colorbar": {
             "outlinewidth": 0,
             "ticks": ""
            },
            "colorscale": [
             [
              0,
              "#0d0887"
             ],
             [
              0.1111111111111111,
              "#46039f"
             ],
             [
              0.2222222222222222,
              "#7201a8"
             ],
             [
              0.3333333333333333,
              "#9c179e"
             ],
             [
              0.4444444444444444,
              "#bd3786"
             ],
             [
              0.5555555555555556,
              "#d8576b"
             ],
             [
              0.6666666666666666,
              "#ed7953"
             ],
             [
              0.7777777777777778,
              "#fb9f3a"
             ],
             [
              0.8888888888888888,
              "#fdca26"
             ],
             [
              1,
              "#f0f921"
             ]
            ],
            "type": "surface"
           }
          ],
          "table": [
           {
            "cells": {
             "fill": {
              "color": "#EBF0F8"
             },
             "line": {
              "color": "white"
             }
            },
            "header": {
             "fill": {
              "color": "#C8D4E3"
             },
             "line": {
              "color": "white"
             }
            },
            "type": "table"
           }
          ]
         },
         "layout": {
          "annotationdefaults": {
           "arrowcolor": "#2a3f5f",
           "arrowhead": 0,
           "arrowwidth": 1
          },
          "autotypenumbers": "strict",
          "coloraxis": {
           "colorbar": {
            "outlinewidth": 0,
            "ticks": ""
           }
          },
          "colorscale": {
           "diverging": [
            [
             0,
             "#8e0152"
            ],
            [
             0.1,
             "#c51b7d"
            ],
            [
             0.2,
             "#de77ae"
            ],
            [
             0.3,
             "#f1b6da"
            ],
            [
             0.4,
             "#fde0ef"
            ],
            [
             0.5,
             "#f7f7f7"
            ],
            [
             0.6,
             "#e6f5d0"
            ],
            [
             0.7,
             "#b8e186"
            ],
            [
             0.8,
             "#7fbc41"
            ],
            [
             0.9,
             "#4d9221"
            ],
            [
             1,
             "#276419"
            ]
           ],
           "sequential": [
            [
             0,
             "#0d0887"
            ],
            [
             0.1111111111111111,
             "#46039f"
            ],
            [
             0.2222222222222222,
             "#7201a8"
            ],
            [
             0.3333333333333333,
             "#9c179e"
            ],
            [
             0.4444444444444444,
             "#bd3786"
            ],
            [
             0.5555555555555556,
             "#d8576b"
            ],
            [
             0.6666666666666666,
             "#ed7953"
            ],
            [
             0.7777777777777778,
             "#fb9f3a"
            ],
            [
             0.8888888888888888,
             "#fdca26"
            ],
            [
             1,
             "#f0f921"
            ]
           ],
           "sequentialminus": [
            [
             0,
             "#0d0887"
            ],
            [
             0.1111111111111111,
             "#46039f"
            ],
            [
             0.2222222222222222,
             "#7201a8"
            ],
            [
             0.3333333333333333,
             "#9c179e"
            ],
            [
             0.4444444444444444,
             "#bd3786"
            ],
            [
             0.5555555555555556,
             "#d8576b"
            ],
            [
             0.6666666666666666,
             "#ed7953"
            ],
            [
             0.7777777777777778,
             "#fb9f3a"
            ],
            [
             0.8888888888888888,
             "#fdca26"
            ],
            [
             1,
             "#f0f921"
            ]
           ]
          },
          "colorway": [
           "#636efa",
           "#EF553B",
           "#00cc96",
           "#ab63fa",
           "#FFA15A",
           "#19d3f3",
           "#FF6692",
           "#B6E880",
           "#FF97FF",
           "#FECB52"
          ],
          "font": {
           "color": "#2a3f5f"
          },
          "geo": {
           "bgcolor": "white",
           "lakecolor": "white",
           "landcolor": "#E5ECF6",
           "showlakes": true,
           "showland": true,
           "subunitcolor": "white"
          },
          "hoverlabel": {
           "align": "left"
          },
          "hovermode": "closest",
          "mapbox": {
           "style": "light"
          },
          "paper_bgcolor": "white",
          "plot_bgcolor": "#E5ECF6",
          "polar": {
           "angularaxis": {
            "gridcolor": "white",
            "linecolor": "white",
            "ticks": ""
           },
           "bgcolor": "#E5ECF6",
           "radialaxis": {
            "gridcolor": "white",
            "linecolor": "white",
            "ticks": ""
           }
          },
          "scene": {
           "xaxis": {
            "backgroundcolor": "#E5ECF6",
            "gridcolor": "white",
            "gridwidth": 2,
            "linecolor": "white",
            "showbackground": true,
            "ticks": "",
            "zerolinecolor": "white"
           },
           "yaxis": {
            "backgroundcolor": "#E5ECF6",
            "gridcolor": "white",
            "gridwidth": 2,
            "linecolor": "white",
            "showbackground": true,
            "ticks": "",
            "zerolinecolor": "white"
           },
           "zaxis": {
            "backgroundcolor": "#E5ECF6",
            "gridcolor": "white",
            "gridwidth": 2,
            "linecolor": "white",
            "showbackground": true,
            "ticks": "",
            "zerolinecolor": "white"
           }
          },
          "shapedefaults": {
           "line": {
            "color": "#2a3f5f"
           }
          },
          "ternary": {
           "aaxis": {
            "gridcolor": "white",
            "linecolor": "white",
            "ticks": ""
           },
           "baxis": {
            "gridcolor": "white",
            "linecolor": "white",
            "ticks": ""
           },
           "bgcolor": "#E5ECF6",
           "caxis": {
            "gridcolor": "white",
            "linecolor": "white",
            "ticks": ""
           }
          },
          "title": {
           "x": 0.05
          },
          "xaxis": {
           "automargin": true,
           "gridcolor": "white",
           "linecolor": "white",
           "ticks": "",
           "title": {
            "standoff": 15
           },
           "zerolinecolor": "white",
           "zerolinewidth": 2
          },
          "yaxis": {
           "automargin": true,
           "gridcolor": "white",
           "linecolor": "white",
           "ticks": "",
           "title": {
            "standoff": 15
           },
           "zerolinecolor": "white",
           "zerolinewidth": 2
          }
         }
        },
        "xaxis": {
         "anchor": "y",
         "domain": [
          0,
          1
         ],
         "tickangle": 90,
         "title": {
          "text": "Rank and Month"
         }
        },
        "yaxis": {
         "anchor": "x",
         "domain": [
          0,
          1
         ],
         "title": {
          "text": "Verses"
         }
        }
       }
      }
     },
     "metadata": {},
     "output_type": "display_data"
    }
   ],
   "source": [
    "fig_top_months_by_verses = px.bar(df_top_months_by_verses, \n",
    "x = 'Rank and Month', y = 'Verses')\n",
    "fig_top_months_by_verses.update_xaxes(tickangle = 90)\n",
    "fig_top_months_by_verses.write_html('Analyses/top_months_by_verses.html')\n",
    "fig_top_months_by_verses.write_image(\n",
    "    'Analyses/top_months_by_verses.png', \n",
    "    width = 1920, height = 1080, engine = 'kaleido', scale = 2)\n",
    "fig_top_months_by_verses"
   ]
  },
  {
   "cell_type": "markdown",
   "metadata": {},
   "source": [
    "# Analyzing WPM data:\n",
    "\n",
    "(Some of this section's code derives from my work in [this script](https://github.com/kburchfiel/typeracer_data_analyzer/blob/master/typeracer_data_analyzer_v2.ipynb).)\n"
   ]
  },
  {
   "cell_type": "markdown",
   "metadata": {},
   "source": [
    "Top 20 WPM results:"
   ]
  },
  {
   "cell_type": "code",
   "execution_count": 48,
   "metadata": {},
   "outputs": [
    {
     "data": {
      "text/html": [
       "<div>\n",
       "<style scoped>\n",
       "    .dataframe tbody tr th:only-of-type {\n",
       "        vertical-align: middle;\n",
       "    }\n",
       "\n",
       "    .dataframe tbody tr th {\n",
       "        vertical-align: top;\n",
       "    }\n",
       "\n",
       "    .dataframe thead th {\n",
       "        text-align: right;\n",
       "    }\n",
       "</style>\n",
       "<table border=\"1\" class=\"dataframe\">\n",
       "  <thead>\n",
       "    <tr style=\"text-align: right;\">\n",
       "      <th></th>\n",
       "      <th>Rank</th>\n",
       "      <th>Unix_Start_Time</th>\n",
       "      <th>Local_Start_Time</th>\n",
       "      <th>UTC_Start_Time</th>\n",
       "      <th>Characters</th>\n",
       "      <th>Seconds</th>\n",
       "      <th>CPS</th>\n",
       "      <th>WPM</th>\n",
       "      <th>Book</th>\n",
       "      <th>Chapter</th>\n",
       "      <th>Verse_Order</th>\n",
       "      <th>Verse</th>\n",
       "      <th>Verse #</th>\n",
       "      <th>Last 10 Avg</th>\n",
       "      <th>Last 100 Avg</th>\n",
       "      <th>Last 1000 Avg</th>\n",
       "      <th>cumulative_avg</th>\n",
       "      <th>Local_Year</th>\n",
       "      <th>Local_Month</th>\n",
       "      <th>Local_Hour</th>\n",
       "      <th>Count</th>\n",
       "      <th>Local_Date</th>\n",
       "    </tr>\n",
       "    <tr>\n",
       "      <th>Test_Number</th>\n",
       "      <th></th>\n",
       "      <th></th>\n",
       "      <th></th>\n",
       "      <th></th>\n",
       "      <th></th>\n",
       "      <th></th>\n",
       "      <th></th>\n",
       "      <th></th>\n",
       "      <th></th>\n",
       "      <th></th>\n",
       "      <th></th>\n",
       "      <th></th>\n",
       "      <th></th>\n",
       "      <th></th>\n",
       "      <th></th>\n",
       "      <th></th>\n",
       "      <th></th>\n",
       "      <th></th>\n",
       "      <th></th>\n",
       "      <th></th>\n",
       "      <th></th>\n",
       "      <th></th>\n",
       "    </tr>\n",
       "  </thead>\n",
       "  <tbody>\n",
       "    <tr>\n",
       "      <th>29</th>\n",
       "      <td>1</td>\n",
       "      <td>1.698284e+09</td>\n",
       "      <td>2023-10-25T21:29:51.817669</td>\n",
       "      <td>2023-10-26T01:29:51.817669+00:00</td>\n",
       "      <td>56</td>\n",
       "      <td>3.477334</td>\n",
       "      <td>16.104292</td>\n",
       "      <td>193.251509</td>\n",
       "      <td>GEN</td>\n",
       "      <td>1</td>\n",
       "      <td>1</td>\n",
       "      <td>In the beginning, God created the heavens and ...</td>\n",
       "      <td>1.0</td>\n",
       "      <td>148.772233</td>\n",
       "      <td>NaN</td>\n",
       "      <td>NaN</td>\n",
       "      <td>129.881</td>\n",
       "      <td>2023</td>\n",
       "      <td>10</td>\n",
       "      <td>21</td>\n",
       "      <td>1</td>\n",
       "      <td>2023-10-25</td>\n",
       "    </tr>\n",
       "    <tr>\n",
       "      <th>26</th>\n",
       "      <td>2</td>\n",
       "      <td>1.698284e+09</td>\n",
       "      <td>2023-10-25T21:28:14.539133</td>\n",
       "      <td>2023-10-26T01:28:14.539133+00:00</td>\n",
       "      <td>56</td>\n",
       "      <td>3.647492</td>\n",
       "      <td>15.353016</td>\n",
       "      <td>184.236198</td>\n",
       "      <td>GEN</td>\n",
       "      <td>1</td>\n",
       "      <td>1</td>\n",
       "      <td>In the beginning, God created the heavens and ...</td>\n",
       "      <td>1.0</td>\n",
       "      <td>139.936067</td>\n",
       "      <td>NaN</td>\n",
       "      <td>NaN</td>\n",
       "      <td>127.120</td>\n",
       "      <td>2023</td>\n",
       "      <td>10</td>\n",
       "      <td>21</td>\n",
       "      <td>1</td>\n",
       "      <td>2023-10-25</td>\n",
       "    </tr>\n",
       "    <tr>\n",
       "      <th>237</th>\n",
       "      <td>3</td>\n",
       "      <td>1.698623e+09</td>\n",
       "      <td>2023-10-29T19:47:07.670908</td>\n",
       "      <td>2023-10-29T23:47:07.670908+00:00</td>\n",
       "      <td>116</td>\n",
       "      <td>7.586424</td>\n",
       "      <td>15.290472</td>\n",
       "      <td>183.485667</td>\n",
       "      <td>GEN</td>\n",
       "      <td>4</td>\n",
       "      <td>91</td>\n",
       "      <td>Now you are cursed because of the ground, whic...</td>\n",
       "      <td>11.0</td>\n",
       "      <td>138.576366</td>\n",
       "      <td>135.941792</td>\n",
       "      <td>NaN</td>\n",
       "      <td>136.777</td>\n",
       "      <td>2023</td>\n",
       "      <td>10</td>\n",
       "      <td>19</td>\n",
       "      <td>1</td>\n",
       "      <td>2023-10-29</td>\n",
       "    </tr>\n",
       "    <tr>\n",
       "      <th>475</th>\n",
       "      <td>4</td>\n",
       "      <td>1.699225e+09</td>\n",
       "      <td>2023-11-05T18:03:12.524331</td>\n",
       "      <td>2023-11-05T23:03:12.524331+00:00</td>\n",
       "      <td>136</td>\n",
       "      <td>8.960011</td>\n",
       "      <td>15.178554</td>\n",
       "      <td>182.142643</td>\n",
       "      <td>GEN</td>\n",
       "      <td>13</td>\n",
       "      <td>325</td>\n",
       "      <td>The land was not able to bear them, that they ...</td>\n",
       "      <td>6.0</td>\n",
       "      <td>137.696853</td>\n",
       "      <td>129.020199</td>\n",
       "      <td>NaN</td>\n",
       "      <td>135.319</td>\n",
       "      <td>2023</td>\n",
       "      <td>11</td>\n",
       "      <td>18</td>\n",
       "      <td>1</td>\n",
       "      <td>2023-11-05</td>\n",
       "    </tr>\n",
       "    <tr>\n",
       "      <th>341</th>\n",
       "      <td>5</td>\n",
       "      <td>1.699066e+09</td>\n",
       "      <td>2023-11-03T22:48:34.354652</td>\n",
       "      <td>2023-11-04T02:48:34.354652+00:00</td>\n",
       "      <td>77</td>\n",
       "      <td>5.072950</td>\n",
       "      <td>15.178545</td>\n",
       "      <td>182.142544</td>\n",
       "      <td>GEN</td>\n",
       "      <td>8</td>\n",
       "      <td>194</td>\n",
       "      <td>He waited yet another seven days; and again he...</td>\n",
       "      <td>10.0</td>\n",
       "      <td>149.265970</td>\n",
       "      <td>134.422066</td>\n",
       "      <td>NaN</td>\n",
       "      <td>136.074</td>\n",
       "      <td>2023</td>\n",
       "      <td>11</td>\n",
       "      <td>22</td>\n",
       "      <td>1</td>\n",
       "      <td>2023-11-03</td>\n",
       "    </tr>\n",
       "    <tr>\n",
       "      <th>...</th>\n",
       "      <td>...</td>\n",
       "      <td>...</td>\n",
       "      <td>...</td>\n",
       "      <td>...</td>\n",
       "      <td>...</td>\n",
       "      <td>...</td>\n",
       "      <td>...</td>\n",
       "      <td>...</td>\n",
       "      <td>...</td>\n",
       "      <td>...</td>\n",
       "      <td>...</td>\n",
       "      <td>...</td>\n",
       "      <td>...</td>\n",
       "      <td>...</td>\n",
       "      <td>...</td>\n",
       "      <td>...</td>\n",
       "      <td>...</td>\n",
       "      <td>...</td>\n",
       "      <td>...</td>\n",
       "      <td>...</td>\n",
       "      <td>...</td>\n",
       "      <td>...</td>\n",
       "    </tr>\n",
       "    <tr>\n",
       "      <th>130</th>\n",
       "      <td>96</td>\n",
       "      <td>1.698621e+09</td>\n",
       "      <td>2023-10-29T19:09:45.085867</td>\n",
       "      <td>2023-10-29T23:09:45.085867+00:00</td>\n",
       "      <td>117</td>\n",
       "      <td>9.005528</td>\n",
       "      <td>12.992020</td>\n",
       "      <td>155.904241</td>\n",
       "      <td>1JN</td>\n",
       "      <td>4</td>\n",
       "      <td>34891</td>\n",
       "      <td>In this is love, not that we loved God, but th...</td>\n",
       "      <td>10.0</td>\n",
       "      <td>143.843474</td>\n",
       "      <td>139.440073</td>\n",
       "      <td>NaN</td>\n",
       "      <td>137.005</td>\n",
       "      <td>2023</td>\n",
       "      <td>10</td>\n",
       "      <td>19</td>\n",
       "      <td>1</td>\n",
       "      <td>2023-10-29</td>\n",
       "    </tr>\n",
       "    <tr>\n",
       "      <th>431</th>\n",
       "      <td>97</td>\n",
       "      <td>1.699068e+09</td>\n",
       "      <td>2023-11-03T23:27:05.747463</td>\n",
       "      <td>2023-11-04T03:27:05.747463+00:00</td>\n",
       "      <td>123</td>\n",
       "      <td>9.469353</td>\n",
       "      <td>12.989271</td>\n",
       "      <td>155.871255</td>\n",
       "      <td>GEN</td>\n",
       "      <td>11</td>\n",
       "      <td>284</td>\n",
       "      <td>Eber lived four hundred thirty years after he ...</td>\n",
       "      <td>17.0</td>\n",
       "      <td>146.713616</td>\n",
       "      <td>135.621268</td>\n",
       "      <td>NaN</td>\n",
       "      <td>135.663</td>\n",
       "      <td>2023</td>\n",
       "      <td>11</td>\n",
       "      <td>23</td>\n",
       "      <td>1</td>\n",
       "      <td>2023-11-03</td>\n",
       "    </tr>\n",
       "    <tr>\n",
       "      <th>363</th>\n",
       "      <td>98</td>\n",
       "      <td>1.699066e+09</td>\n",
       "      <td>2023-11-03T22:54:08.596196</td>\n",
       "      <td>2023-11-04T02:54:08.596196+00:00</td>\n",
       "      <td>178</td>\n",
       "      <td>13.713111</td>\n",
       "      <td>12.980279</td>\n",
       "      <td>155.763346</td>\n",
       "      <td>GEN</td>\n",
       "      <td>9</td>\n",
       "      <td>216</td>\n",
       "      <td>and with every living creature that is with yo...</td>\n",
       "      <td>10.0</td>\n",
       "      <td>149.406005</td>\n",
       "      <td>138.101412</td>\n",
       "      <td>NaN</td>\n",
       "      <td>136.569</td>\n",
       "      <td>2023</td>\n",
       "      <td>11</td>\n",
       "      <td>22</td>\n",
       "      <td>1</td>\n",
       "      <td>2023-11-03</td>\n",
       "    </tr>\n",
       "    <tr>\n",
       "      <th>259</th>\n",
       "      <td>99</td>\n",
       "      <td>1.698624e+09</td>\n",
       "      <td>2023-10-29T19:53:40.592126</td>\n",
       "      <td>2023-10-29T23:53:40.592126+00:00</td>\n",
       "      <td>124</td>\n",
       "      <td>9.557548</td>\n",
       "      <td>12.974039</td>\n",
       "      <td>155.688470</td>\n",
       "      <td>GEN</td>\n",
       "      <td>5</td>\n",
       "      <td>113</td>\n",
       "      <td>Seth lived after he became the father of Enosh...</td>\n",
       "      <td>7.0</td>\n",
       "      <td>133.912792</td>\n",
       "      <td>133.888027</td>\n",
       "      <td>NaN</td>\n",
       "      <td>136.120</td>\n",
       "      <td>2023</td>\n",
       "      <td>10</td>\n",
       "      <td>19</td>\n",
       "      <td>1</td>\n",
       "      <td>2023-10-29</td>\n",
       "    </tr>\n",
       "    <tr>\n",
       "      <th>477</th>\n",
       "      <td>100</td>\n",
       "      <td>1.699226e+09</td>\n",
       "      <td>2023-11-05T18:05:43.593426</td>\n",
       "      <td>2023-11-05T23:05:43.593426+00:00</td>\n",
       "      <td>135</td>\n",
       "      <td>10.412765</td>\n",
       "      <td>12.964856</td>\n",
       "      <td>155.578277</td>\n",
       "      <td>GEN</td>\n",
       "      <td>13</td>\n",
       "      <td>327</td>\n",
       "      <td>Abram said to Lot, \"Please, let there be no st...</td>\n",
       "      <td>8.0</td>\n",
       "      <td>142.907447</td>\n",
       "      <td>128.775392</td>\n",
       "      <td>NaN</td>\n",
       "      <td>135.344</td>\n",
       "      <td>2023</td>\n",
       "      <td>11</td>\n",
       "      <td>18</td>\n",
       "      <td>1</td>\n",
       "      <td>2023-11-05</td>\n",
       "    </tr>\n",
       "  </tbody>\n",
       "</table>\n",
       "<p>100 rows × 22 columns</p>\n",
       "</div>"
      ],
      "text/plain": [
       "             Rank  Unix_Start_Time            Local_Start_Time  \\\n",
       "Test_Number                                                      \n",
       "29              1     1.698284e+09  2023-10-25T21:29:51.817669   \n",
       "26              2     1.698284e+09  2023-10-25T21:28:14.539133   \n",
       "237             3     1.698623e+09  2023-10-29T19:47:07.670908   \n",
       "475             4     1.699225e+09  2023-11-05T18:03:12.524331   \n",
       "341             5     1.699066e+09  2023-11-03T22:48:34.354652   \n",
       "...           ...              ...                         ...   \n",
       "130            96     1.698621e+09  2023-10-29T19:09:45.085867   \n",
       "431            97     1.699068e+09  2023-11-03T23:27:05.747463   \n",
       "363            98     1.699066e+09  2023-11-03T22:54:08.596196   \n",
       "259            99     1.698624e+09  2023-10-29T19:53:40.592126   \n",
       "477           100     1.699226e+09  2023-11-05T18:05:43.593426   \n",
       "\n",
       "                               UTC_Start_Time  Characters    Seconds  \\\n",
       "Test_Number                                                            \n",
       "29           2023-10-26T01:29:51.817669+00:00          56   3.477334   \n",
       "26           2023-10-26T01:28:14.539133+00:00          56   3.647492   \n",
       "237          2023-10-29T23:47:07.670908+00:00         116   7.586424   \n",
       "475          2023-11-05T23:03:12.524331+00:00         136   8.960011   \n",
       "341          2023-11-04T02:48:34.354652+00:00          77   5.072950   \n",
       "...                                       ...         ...        ...   \n",
       "130          2023-10-29T23:09:45.085867+00:00         117   9.005528   \n",
       "431          2023-11-04T03:27:05.747463+00:00         123   9.469353   \n",
       "363          2023-11-04T02:54:08.596196+00:00         178  13.713111   \n",
       "259          2023-10-29T23:53:40.592126+00:00         124   9.557548   \n",
       "477          2023-11-05T23:05:43.593426+00:00         135  10.412765   \n",
       "\n",
       "                   CPS         WPM Book  Chapter  Verse_Order  \\\n",
       "Test_Number                                                     \n",
       "29           16.104292  193.251509  GEN        1            1   \n",
       "26           15.353016  184.236198  GEN        1            1   \n",
       "237          15.290472  183.485667  GEN        4           91   \n",
       "475          15.178554  182.142643  GEN       13          325   \n",
       "341          15.178545  182.142544  GEN        8          194   \n",
       "...                ...         ...  ...      ...          ...   \n",
       "130          12.992020  155.904241  1JN        4        34891   \n",
       "431          12.989271  155.871255  GEN       11          284   \n",
       "363          12.980279  155.763346  GEN        9          216   \n",
       "259          12.974039  155.688470  GEN        5          113   \n",
       "477          12.964856  155.578277  GEN       13          327   \n",
       "\n",
       "                                                         Verse  Verse #  \\\n",
       "Test_Number                                                               \n",
       "29           In the beginning, God created the heavens and ...      1.0   \n",
       "26           In the beginning, God created the heavens and ...      1.0   \n",
       "237          Now you are cursed because of the ground, whic...     11.0   \n",
       "475          The land was not able to bear them, that they ...      6.0   \n",
       "341          He waited yet another seven days; and again he...     10.0   \n",
       "...                                                        ...      ...   \n",
       "130          In this is love, not that we loved God, but th...     10.0   \n",
       "431          Eber lived four hundred thirty years after he ...     17.0   \n",
       "363          and with every living creature that is with yo...     10.0   \n",
       "259          Seth lived after he became the father of Enosh...      7.0   \n",
       "477          Abram said to Lot, \"Please, let there be no st...      8.0   \n",
       "\n",
       "             Last 10 Avg  Last 100 Avg  Last 1000 Avg  cumulative_avg  \\\n",
       "Test_Number                                                             \n",
       "29            148.772233           NaN            NaN         129.881   \n",
       "26            139.936067           NaN            NaN         127.120   \n",
       "237           138.576366    135.941792            NaN         136.777   \n",
       "475           137.696853    129.020199            NaN         135.319   \n",
       "341           149.265970    134.422066            NaN         136.074   \n",
       "...                  ...           ...            ...             ...   \n",
       "130           143.843474    139.440073            NaN         137.005   \n",
       "431           146.713616    135.621268            NaN         135.663   \n",
       "363           149.406005    138.101412            NaN         136.569   \n",
       "259           133.912792    133.888027            NaN         136.120   \n",
       "477           142.907447    128.775392            NaN         135.344   \n",
       "\n",
       "             Local_Year  Local_Month  Local_Hour  Count  Local_Date  \n",
       "Test_Number                                                          \n",
       "29                 2023           10          21      1  2023-10-25  \n",
       "26                 2023           10          21      1  2023-10-25  \n",
       "237                2023           10          19      1  2023-10-29  \n",
       "475                2023           11          18      1  2023-11-05  \n",
       "341                2023           11          22      1  2023-11-03  \n",
       "...                 ...          ...         ...    ...         ...  \n",
       "130                2023           10          19      1  2023-10-29  \n",
       "431                2023           11          23      1  2023-11-03  \n",
       "363                2023           11          22      1  2023-11-03  \n",
       "259                2023           10          19      1  2023-10-29  \n",
       "477                2023           11          18      1  2023-11-05  \n",
       "\n",
       "[100 rows x 22 columns]"
      ]
     },
     "execution_count": 48,
     "metadata": {},
     "output_type": "execute_result"
    }
   ],
   "source": [
    "df_top_100_wpm = df_results.sort_values('WPM', ascending = False).head(\n",
    "    100).copy()\n",
    "df_top_100_wpm.insert(0, 'Rank', df_top_100_wpm['WPM'].rank(\n",
    "    ascending = False, method = 'min').astype('int'))\n",
    "# method = 'min' assigns the lowest rank to any rows that happen to have\n",
    "# the same WPM. See \n",
    "# https://pandas.pydata.org/pandas-docs/stable/reference/api/pandas.DataFrame.rank.html\n",
    "df_top_100_wpm.to_csv('Analyses/top_100_wpm.csv')\n",
    "df_top_100_wpm"
   ]
  },
  {
   "cell_type": "code",
   "execution_count": 49,
   "metadata": {},
   "outputs": [
    {
     "data": {
      "application/vnd.plotly.v1+json": {
       "config": {
        "plotlyServerURL": "https://plot.ly"
       },
       "data": [
        {
         "alignmentgroup": "True",
         "hovertemplate": "Rank=%{x}<br>WPM=%{y}<extra></extra>",
         "legendgroup": "",
         "marker": {
          "color": "#636efa",
          "pattern": {
           "shape": ""
          }
         },
         "name": "",
         "offsetgroup": "",
         "orientation": "v",
         "showlegend": false,
         "textposition": "auto",
         "type": "bar",
         "x": [
          1,
          2,
          3,
          4,
          5,
          6,
          7,
          8,
          9,
          10,
          11,
          12,
          13,
          14,
          15,
          16,
          17,
          18,
          19,
          20,
          21,
          22,
          23,
          24,
          25,
          26,
          27,
          28,
          29,
          30,
          31,
          32,
          33,
          34,
          35,
          36,
          37,
          38,
          39,
          40,
          41,
          42,
          43,
          44,
          45,
          46,
          47,
          48,
          49,
          50,
          51,
          52,
          53,
          54,
          55,
          56,
          57,
          58,
          59,
          60,
          61,
          62,
          63,
          64,
          65,
          66,
          67,
          68,
          69,
          70,
          71,
          72,
          73,
          74,
          75,
          76,
          77,
          78,
          79,
          80,
          81,
          82,
          83,
          84,
          85,
          86,
          87,
          88,
          89,
          90,
          91,
          92,
          93,
          94,
          95,
          96,
          97,
          98,
          99,
          100
         ],
         "xaxis": "x",
         "y": [
          193.2515087,
          184.2361975,
          183.4856669,
          182.14264311377704,
          182.1425444180597,
          181.4326694465167,
          178.9753622,
          176.4035068952055,
          173.74069274168957,
          173.18579743135868,
          171.72475830210388,
          171.0487319,
          170.1109301,
          169.5517435558518,
          169.12094179101882,
          168.8132952426762,
          168.403897,
          168.2437689,
          167.7062966,
          167.63149622073377,
          165.8691277,
          165.4238972,
          165.40518715790327,
          165.21904205086668,
          164.78614744085377,
          164.65081611071054,
          164.53690735444673,
          164.4922606688814,
          164.2038699821898,
          164.05621539256902,
          163.9380587,
          163.6179313,
          163.14667850033788,
          162.78159914944152,
          162.74923543275256,
          162.53948411569007,
          162.51239311411,
          162.4183344,
          162.4136034262146,
          162.12734355420804,
          162.0956829,
          161.77555117643232,
          161.70446929707606,
          161.6821158,
          161.62370782784654,
          161.578202837319,
          161.5598703,
          161.3884259,
          161.33974933394316,
          161.23803283905693,
          161.21252169974312,
          161.0931056,
          161.0914995,
          160.9730861045085,
          160.678684,
          160.677088254899,
          160.6100877415165,
          160.4361977,
          160.32751649175646,
          160.15189040037097,
          160.1229467,
          160.09536163413333,
          160.06999091698722,
          160.0152284,
          159.92473459126813,
          159.58191208544406,
          159.50126306763843,
          159.4594056928479,
          159.42531353980516,
          159.2429145,
          159.1789682,
          158.98873130224726,
          158.97949435405167,
          158.69383141480452,
          158.4700707611226,
          158.3302592,
          158.1533926,
          157.98750705961191,
          157.8290157,
          157.6765394851595,
          157.5844433,
          157.4320554,
          157.0132623457111,
          156.9810082,
          156.9474743384475,
          156.8557855,
          156.60820385804732,
          156.5512382,
          156.536704,
          156.4077382,
          156.37907846399904,
          156.22416588296122,
          156.2175731,
          156.0012709,
          155.9615098,
          155.9042406,
          155.87125454275684,
          155.76334567780924,
          155.6884705,
          155.57827657047102
         ],
         "yaxis": "y"
        }
       ],
       "layout": {
        "barmode": "relative",
        "legend": {
         "tracegroupgap": 0
        },
        "margin": {
         "t": 60
        },
        "template": {
         "data": {
          "bar": [
           {
            "error_x": {
             "color": "#2a3f5f"
            },
            "error_y": {
             "color": "#2a3f5f"
            },
            "marker": {
             "line": {
              "color": "#E5ECF6",
              "width": 0.5
             },
             "pattern": {
              "fillmode": "overlay",
              "size": 10,
              "solidity": 0.2
             }
            },
            "type": "bar"
           }
          ],
          "barpolar": [
           {
            "marker": {
             "line": {
              "color": "#E5ECF6",
              "width": 0.5
             },
             "pattern": {
              "fillmode": "overlay",
              "size": 10,
              "solidity": 0.2
             }
            },
            "type": "barpolar"
           }
          ],
          "carpet": [
           {
            "aaxis": {
             "endlinecolor": "#2a3f5f",
             "gridcolor": "white",
             "linecolor": "white",
             "minorgridcolor": "white",
             "startlinecolor": "#2a3f5f"
            },
            "baxis": {
             "endlinecolor": "#2a3f5f",
             "gridcolor": "white",
             "linecolor": "white",
             "minorgridcolor": "white",
             "startlinecolor": "#2a3f5f"
            },
            "type": "carpet"
           }
          ],
          "choropleth": [
           {
            "colorbar": {
             "outlinewidth": 0,
             "ticks": ""
            },
            "type": "choropleth"
           }
          ],
          "contour": [
           {
            "colorbar": {
             "outlinewidth": 0,
             "ticks": ""
            },
            "colorscale": [
             [
              0,
              "#0d0887"
             ],
             [
              0.1111111111111111,
              "#46039f"
             ],
             [
              0.2222222222222222,
              "#7201a8"
             ],
             [
              0.3333333333333333,
              "#9c179e"
             ],
             [
              0.4444444444444444,
              "#bd3786"
             ],
             [
              0.5555555555555556,
              "#d8576b"
             ],
             [
              0.6666666666666666,
              "#ed7953"
             ],
             [
              0.7777777777777778,
              "#fb9f3a"
             ],
             [
              0.8888888888888888,
              "#fdca26"
             ],
             [
              1,
              "#f0f921"
             ]
            ],
            "type": "contour"
           }
          ],
          "contourcarpet": [
           {
            "colorbar": {
             "outlinewidth": 0,
             "ticks": ""
            },
            "type": "contourcarpet"
           }
          ],
          "heatmap": [
           {
            "colorbar": {
             "outlinewidth": 0,
             "ticks": ""
            },
            "colorscale": [
             [
              0,
              "#0d0887"
             ],
             [
              0.1111111111111111,
              "#46039f"
             ],
             [
              0.2222222222222222,
              "#7201a8"
             ],
             [
              0.3333333333333333,
              "#9c179e"
             ],
             [
              0.4444444444444444,
              "#bd3786"
             ],
             [
              0.5555555555555556,
              "#d8576b"
             ],
             [
              0.6666666666666666,
              "#ed7953"
             ],
             [
              0.7777777777777778,
              "#fb9f3a"
             ],
             [
              0.8888888888888888,
              "#fdca26"
             ],
             [
              1,
              "#f0f921"
             ]
            ],
            "type": "heatmap"
           }
          ],
          "heatmapgl": [
           {
            "colorbar": {
             "outlinewidth": 0,
             "ticks": ""
            },
            "colorscale": [
             [
              0,
              "#0d0887"
             ],
             [
              0.1111111111111111,
              "#46039f"
             ],
             [
              0.2222222222222222,
              "#7201a8"
             ],
             [
              0.3333333333333333,
              "#9c179e"
             ],
             [
              0.4444444444444444,
              "#bd3786"
             ],
             [
              0.5555555555555556,
              "#d8576b"
             ],
             [
              0.6666666666666666,
              "#ed7953"
             ],
             [
              0.7777777777777778,
              "#fb9f3a"
             ],
             [
              0.8888888888888888,
              "#fdca26"
             ],
             [
              1,
              "#f0f921"
             ]
            ],
            "type": "heatmapgl"
           }
          ],
          "histogram": [
           {
            "marker": {
             "pattern": {
              "fillmode": "overlay",
              "size": 10,
              "solidity": 0.2
             }
            },
            "type": "histogram"
           }
          ],
          "histogram2d": [
           {
            "colorbar": {
             "outlinewidth": 0,
             "ticks": ""
            },
            "colorscale": [
             [
              0,
              "#0d0887"
             ],
             [
              0.1111111111111111,
              "#46039f"
             ],
             [
              0.2222222222222222,
              "#7201a8"
             ],
             [
              0.3333333333333333,
              "#9c179e"
             ],
             [
              0.4444444444444444,
              "#bd3786"
             ],
             [
              0.5555555555555556,
              "#d8576b"
             ],
             [
              0.6666666666666666,
              "#ed7953"
             ],
             [
              0.7777777777777778,
              "#fb9f3a"
             ],
             [
              0.8888888888888888,
              "#fdca26"
             ],
             [
              1,
              "#f0f921"
             ]
            ],
            "type": "histogram2d"
           }
          ],
          "histogram2dcontour": [
           {
            "colorbar": {
             "outlinewidth": 0,
             "ticks": ""
            },
            "colorscale": [
             [
              0,
              "#0d0887"
             ],
             [
              0.1111111111111111,
              "#46039f"
             ],
             [
              0.2222222222222222,
              "#7201a8"
             ],
             [
              0.3333333333333333,
              "#9c179e"
             ],
             [
              0.4444444444444444,
              "#bd3786"
             ],
             [
              0.5555555555555556,
              "#d8576b"
             ],
             [
              0.6666666666666666,
              "#ed7953"
             ],
             [
              0.7777777777777778,
              "#fb9f3a"
             ],
             [
              0.8888888888888888,
              "#fdca26"
             ],
             [
              1,
              "#f0f921"
             ]
            ],
            "type": "histogram2dcontour"
           }
          ],
          "mesh3d": [
           {
            "colorbar": {
             "outlinewidth": 0,
             "ticks": ""
            },
            "type": "mesh3d"
           }
          ],
          "parcoords": [
           {
            "line": {
             "colorbar": {
              "outlinewidth": 0,
              "ticks": ""
             }
            },
            "type": "parcoords"
           }
          ],
          "pie": [
           {
            "automargin": true,
            "type": "pie"
           }
          ],
          "scatter": [
           {
            "fillpattern": {
             "fillmode": "overlay",
             "size": 10,
             "solidity": 0.2
            },
            "type": "scatter"
           }
          ],
          "scatter3d": [
           {
            "line": {
             "colorbar": {
              "outlinewidth": 0,
              "ticks": ""
             }
            },
            "marker": {
             "colorbar": {
              "outlinewidth": 0,
              "ticks": ""
             }
            },
            "type": "scatter3d"
           }
          ],
          "scattercarpet": [
           {
            "marker": {
             "colorbar": {
              "outlinewidth": 0,
              "ticks": ""
             }
            },
            "type": "scattercarpet"
           }
          ],
          "scattergeo": [
           {
            "marker": {
             "colorbar": {
              "outlinewidth": 0,
              "ticks": ""
             }
            },
            "type": "scattergeo"
           }
          ],
          "scattergl": [
           {
            "marker": {
             "colorbar": {
              "outlinewidth": 0,
              "ticks": ""
             }
            },
            "type": "scattergl"
           }
          ],
          "scattermapbox": [
           {
            "marker": {
             "colorbar": {
              "outlinewidth": 0,
              "ticks": ""
             }
            },
            "type": "scattermapbox"
           }
          ],
          "scatterpolar": [
           {
            "marker": {
             "colorbar": {
              "outlinewidth": 0,
              "ticks": ""
             }
            },
            "type": "scatterpolar"
           }
          ],
          "scatterpolargl": [
           {
            "marker": {
             "colorbar": {
              "outlinewidth": 0,
              "ticks": ""
             }
            },
            "type": "scatterpolargl"
           }
          ],
          "scatterternary": [
           {
            "marker": {
             "colorbar": {
              "outlinewidth": 0,
              "ticks": ""
             }
            },
            "type": "scatterternary"
           }
          ],
          "surface": [
           {
            "colorbar": {
             "outlinewidth": 0,
             "ticks": ""
            },
            "colorscale": [
             [
              0,
              "#0d0887"
             ],
             [
              0.1111111111111111,
              "#46039f"
             ],
             [
              0.2222222222222222,
              "#7201a8"
             ],
             [
              0.3333333333333333,
              "#9c179e"
             ],
             [
              0.4444444444444444,
              "#bd3786"
             ],
             [
              0.5555555555555556,
              "#d8576b"
             ],
             [
              0.6666666666666666,
              "#ed7953"
             ],
             [
              0.7777777777777778,
              "#fb9f3a"
             ],
             [
              0.8888888888888888,
              "#fdca26"
             ],
             [
              1,
              "#f0f921"
             ]
            ],
            "type": "surface"
           }
          ],
          "table": [
           {
            "cells": {
             "fill": {
              "color": "#EBF0F8"
             },
             "line": {
              "color": "white"
             }
            },
            "header": {
             "fill": {
              "color": "#C8D4E3"
             },
             "line": {
              "color": "white"
             }
            },
            "type": "table"
           }
          ]
         },
         "layout": {
          "annotationdefaults": {
           "arrowcolor": "#2a3f5f",
           "arrowhead": 0,
           "arrowwidth": 1
          },
          "autotypenumbers": "strict",
          "coloraxis": {
           "colorbar": {
            "outlinewidth": 0,
            "ticks": ""
           }
          },
          "colorscale": {
           "diverging": [
            [
             0,
             "#8e0152"
            ],
            [
             0.1,
             "#c51b7d"
            ],
            [
             0.2,
             "#de77ae"
            ],
            [
             0.3,
             "#f1b6da"
            ],
            [
             0.4,
             "#fde0ef"
            ],
            [
             0.5,
             "#f7f7f7"
            ],
            [
             0.6,
             "#e6f5d0"
            ],
            [
             0.7,
             "#b8e186"
            ],
            [
             0.8,
             "#7fbc41"
            ],
            [
             0.9,
             "#4d9221"
            ],
            [
             1,
             "#276419"
            ]
           ],
           "sequential": [
            [
             0,
             "#0d0887"
            ],
            [
             0.1111111111111111,
             "#46039f"
            ],
            [
             0.2222222222222222,
             "#7201a8"
            ],
            [
             0.3333333333333333,
             "#9c179e"
            ],
            [
             0.4444444444444444,
             "#bd3786"
            ],
            [
             0.5555555555555556,
             "#d8576b"
            ],
            [
             0.6666666666666666,
             "#ed7953"
            ],
            [
             0.7777777777777778,
             "#fb9f3a"
            ],
            [
             0.8888888888888888,
             "#fdca26"
            ],
            [
             1,
             "#f0f921"
            ]
           ],
           "sequentialminus": [
            [
             0,
             "#0d0887"
            ],
            [
             0.1111111111111111,
             "#46039f"
            ],
            [
             0.2222222222222222,
             "#7201a8"
            ],
            [
             0.3333333333333333,
             "#9c179e"
            ],
            [
             0.4444444444444444,
             "#bd3786"
            ],
            [
             0.5555555555555556,
             "#d8576b"
            ],
            [
             0.6666666666666666,
             "#ed7953"
            ],
            [
             0.7777777777777778,
             "#fb9f3a"
            ],
            [
             0.8888888888888888,
             "#fdca26"
            ],
            [
             1,
             "#f0f921"
            ]
           ]
          },
          "colorway": [
           "#636efa",
           "#EF553B",
           "#00cc96",
           "#ab63fa",
           "#FFA15A",
           "#19d3f3",
           "#FF6692",
           "#B6E880",
           "#FF97FF",
           "#FECB52"
          ],
          "font": {
           "color": "#2a3f5f"
          },
          "geo": {
           "bgcolor": "white",
           "lakecolor": "white",
           "landcolor": "#E5ECF6",
           "showlakes": true,
           "showland": true,
           "subunitcolor": "white"
          },
          "hoverlabel": {
           "align": "left"
          },
          "hovermode": "closest",
          "mapbox": {
           "style": "light"
          },
          "paper_bgcolor": "white",
          "plot_bgcolor": "#E5ECF6",
          "polar": {
           "angularaxis": {
            "gridcolor": "white",
            "linecolor": "white",
            "ticks": ""
           },
           "bgcolor": "#E5ECF6",
           "radialaxis": {
            "gridcolor": "white",
            "linecolor": "white",
            "ticks": ""
           }
          },
          "scene": {
           "xaxis": {
            "backgroundcolor": "#E5ECF6",
            "gridcolor": "white",
            "gridwidth": 2,
            "linecolor": "white",
            "showbackground": true,
            "ticks": "",
            "zerolinecolor": "white"
           },
           "yaxis": {
            "backgroundcolor": "#E5ECF6",
            "gridcolor": "white",
            "gridwidth": 2,
            "linecolor": "white",
            "showbackground": true,
            "ticks": "",
            "zerolinecolor": "white"
           },
           "zaxis": {
            "backgroundcolor": "#E5ECF6",
            "gridcolor": "white",
            "gridwidth": 2,
            "linecolor": "white",
            "showbackground": true,
            "ticks": "",
            "zerolinecolor": "white"
           }
          },
          "shapedefaults": {
           "line": {
            "color": "#2a3f5f"
           }
          },
          "ternary": {
           "aaxis": {
            "gridcolor": "white",
            "linecolor": "white",
            "ticks": ""
           },
           "baxis": {
            "gridcolor": "white",
            "linecolor": "white",
            "ticks": ""
           },
           "bgcolor": "#E5ECF6",
           "caxis": {
            "gridcolor": "white",
            "linecolor": "white",
            "ticks": ""
           }
          },
          "title": {
           "x": 0.05
          },
          "xaxis": {
           "automargin": true,
           "gridcolor": "white",
           "linecolor": "white",
           "ticks": "",
           "title": {
            "standoff": 15
           },
           "zerolinecolor": "white",
           "zerolinewidth": 2
          },
          "yaxis": {
           "automargin": true,
           "gridcolor": "white",
           "linecolor": "white",
           "ticks": "",
           "title": {
            "standoff": 15
           },
           "zerolinecolor": "white",
           "zerolinewidth": 2
          }
         }
        },
        "xaxis": {
         "anchor": "y",
         "domain": [
          0,
          1
         ],
         "title": {
          "text": "Rank"
         }
        },
        "yaxis": {
         "anchor": "x",
         "domain": [
          0,
          1
         ],
         "title": {
          "text": "WPM"
         }
        }
       }
      }
     },
     "metadata": {},
     "output_type": "display_data"
    }
   ],
   "source": [
    "fig_top_100_wpm = px.bar(df_top_100_wpm, x = 'Rank', y = 'WPM')\n",
    "fig_top_100_wpm.write_html('Analyses/top_100_wpm.html')\n",
    "fig_top_100_wpm.write_image('Analyses/top_100_wpm.png', \n",
    "width = 1920, height = 1080, engine = 'kaleido', scale = 2)\n",
    "fig_top_100_wpm"
   ]
  },
  {
   "cell_type": "markdown",
   "metadata": {},
   "source": [
    "Top 20 'Last 10 Average' values:"
   ]
  },
  {
   "cell_type": "code",
   "execution_count": 50,
   "metadata": {},
   "outputs": [
    {
     "data": {
      "text/html": [
       "<div>\n",
       "<style scoped>\n",
       "    .dataframe tbody tr th:only-of-type {\n",
       "        vertical-align: middle;\n",
       "    }\n",
       "\n",
       "    .dataframe tbody tr th {\n",
       "        vertical-align: top;\n",
       "    }\n",
       "\n",
       "    .dataframe thead th {\n",
       "        text-align: right;\n",
       "    }\n",
       "</style>\n",
       "<table border=\"1\" class=\"dataframe\">\n",
       "  <thead>\n",
       "    <tr style=\"text-align: right;\">\n",
       "      <th></th>\n",
       "      <th>Unix_Start_Time</th>\n",
       "      <th>Local_Start_Time</th>\n",
       "      <th>UTC_Start_Time</th>\n",
       "      <th>Characters</th>\n",
       "      <th>Seconds</th>\n",
       "      <th>CPS</th>\n",
       "      <th>WPM</th>\n",
       "      <th>Book</th>\n",
       "      <th>Chapter</th>\n",
       "      <th>Verse_Order</th>\n",
       "      <th>Verse</th>\n",
       "      <th>Verse #</th>\n",
       "      <th>Last 10 Avg</th>\n",
       "      <th>Last 100 Avg</th>\n",
       "      <th>Last 1000 Avg</th>\n",
       "      <th>cumulative_avg</th>\n",
       "      <th>Local_Year</th>\n",
       "      <th>Local_Month</th>\n",
       "      <th>Local_Hour</th>\n",
       "      <th>Count</th>\n",
       "      <th>Local_Date</th>\n",
       "    </tr>\n",
       "    <tr>\n",
       "      <th>Test_Number</th>\n",
       "      <th></th>\n",
       "      <th></th>\n",
       "      <th></th>\n",
       "      <th></th>\n",
       "      <th></th>\n",
       "      <th></th>\n",
       "      <th></th>\n",
       "      <th></th>\n",
       "      <th></th>\n",
       "      <th></th>\n",
       "      <th></th>\n",
       "      <th></th>\n",
       "      <th></th>\n",
       "      <th></th>\n",
       "      <th></th>\n",
       "      <th></th>\n",
       "      <th></th>\n",
       "      <th></th>\n",
       "      <th></th>\n",
       "      <th></th>\n",
       "      <th></th>\n",
       "    </tr>\n",
       "  </thead>\n",
       "  <tbody>\n",
       "    <tr>\n",
       "      <th>375</th>\n",
       "      <td>1.699067e+09</td>\n",
       "      <td>2023-11-03T22:57:11.140166</td>\n",
       "      <td>2023-11-04T02:57:11.140166+00:00</td>\n",
       "      <td>94</td>\n",
       "      <td>6.981140</td>\n",
       "      <td>13.464850</td>\n",
       "      <td>161.578203</td>\n",
       "      <td>GEN</td>\n",
       "      <td>9</td>\n",
       "      <td>228</td>\n",
       "      <td>Ham, the father of Canaan, saw the nakedness o...</td>\n",
       "      <td>22.0</td>\n",
       "      <td>155.189199</td>\n",
       "      <td>140.005204</td>\n",
       "      <td>NaN</td>\n",
       "      <td>136.999</td>\n",
       "      <td>2023</td>\n",
       "      <td>11</td>\n",
       "      <td>22</td>\n",
       "      <td>1</td>\n",
       "      <td>2023-11-03</td>\n",
       "    </tr>\n",
       "    <tr>\n",
       "      <th>346</th>\n",
       "      <td>1.699066e+09</td>\n",
       "      <td>2023-11-03T22:50:09.696543</td>\n",
       "      <td>2023-11-04T02:50:09.696543+00:00</td>\n",
       "      <td>26</td>\n",
       "      <td>2.098202</td>\n",
       "      <td>12.391561</td>\n",
       "      <td>148.698727</td>\n",
       "      <td>GEN</td>\n",
       "      <td>8</td>\n",
       "      <td>199</td>\n",
       "      <td>God spoke to Noah, saying,</td>\n",
       "      <td>15.0</td>\n",
       "      <td>154.501316</td>\n",
       "      <td>135.941614</td>\n",
       "      <td>NaN</td>\n",
       "      <td>136.214</td>\n",
       "      <td>2023</td>\n",
       "      <td>11</td>\n",
       "      <td>22</td>\n",
       "      <td>1</td>\n",
       "      <td>2023-11-03</td>\n",
       "    </tr>\n",
       "    <tr>\n",
       "      <th>345</th>\n",
       "      <td>1.699066e+09</td>\n",
       "      <td>2023-11-03T22:49:56.583535</td>\n",
       "      <td>2023-11-04T02:49:56.583535+00:00</td>\n",
       "      <td>79</td>\n",
       "      <td>6.649562</td>\n",
       "      <td>11.880482</td>\n",
       "      <td>142.565789</td>\n",
       "      <td>GEN</td>\n",
       "      <td>8</td>\n",
       "      <td>198</td>\n",
       "      <td>In the second month, on the twenty-seventh day...</td>\n",
       "      <td>14.0</td>\n",
       "      <td>154.171140</td>\n",
       "      <td>135.389865</td>\n",
       "      <td>NaN</td>\n",
       "      <td>136.178</td>\n",
       "      <td>2023</td>\n",
       "      <td>11</td>\n",
       "      <td>22</td>\n",
       "      <td>1</td>\n",
       "      <td>2023-11-03</td>\n",
       "    </tr>\n",
       "    <tr>\n",
       "      <th>369</th>\n",
       "      <td>1.699067e+09</td>\n",
       "      <td>2023-11-03T22:56:04.797137</td>\n",
       "      <td>2023-11-04T02:56:04.797137+00:00</td>\n",
       "      <td>171</td>\n",
       "      <td>13.394990</td>\n",
       "      <td>12.765967</td>\n",
       "      <td>153.191607</td>\n",
       "      <td>GEN</td>\n",
       "      <td>9</td>\n",
       "      <td>222</td>\n",
       "      <td>The rainbow will be in the cloud. I will look ...</td>\n",
       "      <td>16.0</td>\n",
       "      <td>154.131763</td>\n",
       "      <td>139.205292</td>\n",
       "      <td>NaN</td>\n",
       "      <td>136.805</td>\n",
       "      <td>2023</td>\n",
       "      <td>11</td>\n",
       "      <td>22</td>\n",
       "      <td>1</td>\n",
       "      <td>2023-11-03</td>\n",
       "    </tr>\n",
       "    <tr>\n",
       "      <th>376</th>\n",
       "      <td>1.699067e+09</td>\n",
       "      <td>2023-11-03T22:57:19.430587</td>\n",
       "      <td>2023-11-04T02:57:19.430587+00:00</td>\n",
       "      <td>205</td>\n",
       "      <td>16.778885</td>\n",
       "      <td>12.217737</td>\n",
       "      <td>146.612842</td>\n",
       "      <td>GEN</td>\n",
       "      <td>9</td>\n",
       "      <td>229</td>\n",
       "      <td>Shem and Japheth took a garment, and laid it o...</td>\n",
       "      <td>23.0</td>\n",
       "      <td>152.531903</td>\n",
       "      <td>140.209026</td>\n",
       "      <td>NaN</td>\n",
       "      <td>137.025</td>\n",
       "      <td>2023</td>\n",
       "      <td>11</td>\n",
       "      <td>22</td>\n",
       "      <td>1</td>\n",
       "      <td>2023-11-03</td>\n",
       "    </tr>\n",
       "    <tr>\n",
       "      <th>377</th>\n",
       "      <td>1.699067e+09</td>\n",
       "      <td>2023-11-03T22:57:39.277346</td>\n",
       "      <td>2023-11-04T02:57:39.277346+00:00</td>\n",
       "      <td>73</td>\n",
       "      <td>5.463816</td>\n",
       "      <td>13.360626</td>\n",
       "      <td>160.327516</td>\n",
       "      <td>GEN</td>\n",
       "      <td>9</td>\n",
       "      <td>230</td>\n",
       "      <td>Noah awoke from his wine, and knew what his yo...</td>\n",
       "      <td>24.0</td>\n",
       "      <td>151.801505</td>\n",
       "      <td>140.348312</td>\n",
       "      <td>NaN</td>\n",
       "      <td>137.087</td>\n",
       "      <td>2023</td>\n",
       "      <td>11</td>\n",
       "      <td>22</td>\n",
       "      <td>1</td>\n",
       "      <td>2023-11-03</td>\n",
       "    </tr>\n",
       "    <tr>\n",
       "      <th>374</th>\n",
       "      <td>1.699067e+09</td>\n",
       "      <td>2023-11-03T22:57:05.278503</td>\n",
       "      <td>2023-11-04T02:57:05.278503+00:00</td>\n",
       "      <td>69</td>\n",
       "      <td>4.693784</td>\n",
       "      <td>14.700292</td>\n",
       "      <td>176.403507</td>\n",
       "      <td>GEN</td>\n",
       "      <td>9</td>\n",
       "      <td>227</td>\n",
       "      <td>He drank of the wine and got drunk. He was unc...</td>\n",
       "      <td>21.0</td>\n",
       "      <td>151.231641</td>\n",
       "      <td>139.896429</td>\n",
       "      <td>NaN</td>\n",
       "      <td>136.933</td>\n",
       "      <td>2023</td>\n",
       "      <td>11</td>\n",
       "      <td>22</td>\n",
       "      <td>1</td>\n",
       "      <td>2023-11-03</td>\n",
       "    </tr>\n",
       "    <tr>\n",
       "      <th>344</th>\n",
       "      <td>1.699066e+09</td>\n",
       "      <td>2023-11-03T22:49:38.177286</td>\n",
       "      <td>2023-11-04T02:49:38.177286+00:00</td>\n",
       "      <td>217</td>\n",
       "      <td>15.961097</td>\n",
       "      <td>13.595557</td>\n",
       "      <td>163.146679</td>\n",
       "      <td>GEN</td>\n",
       "      <td>8</td>\n",
       "      <td>197</td>\n",
       "      <td>In the six hundred first year, in the first mo...</td>\n",
       "      <td>13.0</td>\n",
       "      <td>151.184573</td>\n",
       "      <td>134.886354</td>\n",
       "      <td>NaN</td>\n",
       "      <td>136.159</td>\n",
       "      <td>2023</td>\n",
       "      <td>11</td>\n",
       "      <td>22</td>\n",
       "      <td>1</td>\n",
       "      <td>2023-11-03</td>\n",
       "    </tr>\n",
       "    <tr>\n",
       "      <th>368</th>\n",
       "      <td>1.699067e+09</td>\n",
       "      <td>2023-11-03T22:55:51.536428</td>\n",
       "      <td>2023-11-04T02:55:51.536428+00:00</td>\n",
       "      <td>161</td>\n",
       "      <td>11.776451</td>\n",
       "      <td>13.671351</td>\n",
       "      <td>164.056215</td>\n",
       "      <td>GEN</td>\n",
       "      <td>9</td>\n",
       "      <td>221</td>\n",
       "      <td>I will remember my covenant, which is between ...</td>\n",
       "      <td>15.0</td>\n",
       "      <td>150.438336</td>\n",
       "      <td>138.923141</td>\n",
       "      <td>NaN</td>\n",
       "      <td>136.760</td>\n",
       "      <td>2023</td>\n",
       "      <td>11</td>\n",
       "      <td>22</td>\n",
       "      <td>1</td>\n",
       "      <td>2023-11-03</td>\n",
       "    </tr>\n",
       "    <tr>\n",
       "      <th>343</th>\n",
       "      <td>1.699066e+09</td>\n",
       "      <td>2023-11-03T22:49:24.201749</td>\n",
       "      <td>2023-11-04T02:49:24.201749+00:00</td>\n",
       "      <td>95</td>\n",
       "      <td>7.094975</td>\n",
       "      <td>13.389757</td>\n",
       "      <td>160.677088</td>\n",
       "      <td>GEN</td>\n",
       "      <td>8</td>\n",
       "      <td>196</td>\n",
       "      <td>He waited yet another seven days, and sent out...</td>\n",
       "      <td>12.0</td>\n",
       "      <td>149.969348</td>\n",
       "      <td>134.253127</td>\n",
       "      <td>NaN</td>\n",
       "      <td>136.080</td>\n",
       "      <td>2023</td>\n",
       "      <td>11</td>\n",
       "      <td>22</td>\n",
       "      <td>1</td>\n",
       "      <td>2023-11-03</td>\n",
       "    </tr>\n",
       "    <tr>\n",
       "      <th>347</th>\n",
       "      <td>1.699066e+09</td>\n",
       "      <td>2023-11-03T22:50:13.961122</td>\n",
       "      <td>2023-11-04T02:50:13.961122+00:00</td>\n",
       "      <td>78</td>\n",
       "      <td>8.200206</td>\n",
       "      <td>9.511956</td>\n",
       "      <td>114.143470</td>\n",
       "      <td>GEN</td>\n",
       "      <td>8</td>\n",
       "      <td>200</td>\n",
       "      <td>\"Go out of the ship, you, your wife, your sons...</td>\n",
       "      <td>16.0</td>\n",
       "      <td>149.466437</td>\n",
       "      <td>135.645305</td>\n",
       "      <td>NaN</td>\n",
       "      <td>136.150</td>\n",
       "      <td>2023</td>\n",
       "      <td>11</td>\n",
       "      <td>22</td>\n",
       "      <td>1</td>\n",
       "      <td>2023-11-03</td>\n",
       "    </tr>\n",
       "    <tr>\n",
       "      <th>363</th>\n",
       "      <td>1.699066e+09</td>\n",
       "      <td>2023-11-03T22:54:08.596196</td>\n",
       "      <td>2023-11-04T02:54:08.596196+00:00</td>\n",
       "      <td>178</td>\n",
       "      <td>13.713111</td>\n",
       "      <td>12.980279</td>\n",
       "      <td>155.763346</td>\n",
       "      <td>GEN</td>\n",
       "      <td>9</td>\n",
       "      <td>216</td>\n",
       "      <td>and with every living creature that is with yo...</td>\n",
       "      <td>10.0</td>\n",
       "      <td>149.406005</td>\n",
       "      <td>138.101412</td>\n",
       "      <td>NaN</td>\n",
       "      <td>136.569</td>\n",
       "      <td>2023</td>\n",
       "      <td>11</td>\n",
       "      <td>22</td>\n",
       "      <td>1</td>\n",
       "      <td>2023-11-03</td>\n",
       "    </tr>\n",
       "    <tr>\n",
       "      <th>341</th>\n",
       "      <td>1.699066e+09</td>\n",
       "      <td>2023-11-03T22:48:34.354652</td>\n",
       "      <td>2023-11-04T02:48:34.354652+00:00</td>\n",
       "      <td>77</td>\n",
       "      <td>5.072950</td>\n",
       "      <td>15.178545</td>\n",
       "      <td>182.142544</td>\n",
       "      <td>GEN</td>\n",
       "      <td>8</td>\n",
       "      <td>194</td>\n",
       "      <td>He waited yet another seven days; and again he...</td>\n",
       "      <td>10.0</td>\n",
       "      <td>149.265970</td>\n",
       "      <td>134.422066</td>\n",
       "      <td>NaN</td>\n",
       "      <td>136.074</td>\n",
       "      <td>2023</td>\n",
       "      <td>11</td>\n",
       "      <td>22</td>\n",
       "      <td>1</td>\n",
       "      <td>2023-11-03</td>\n",
       "    </tr>\n",
       "    <tr>\n",
       "      <th>330</th>\n",
       "      <td>1.698793e+09</td>\n",
       "      <td>2023-10-31T18:51:15.987789</td>\n",
       "      <td>2023-10-31T22:51:15.988295+00:00</td>\n",
       "      <td>233</td>\n",
       "      <td>19.420589</td>\n",
       "      <td>11.997576</td>\n",
       "      <td>143.970917</td>\n",
       "      <td>GEN</td>\n",
       "      <td>7</td>\n",
       "      <td>183</td>\n",
       "      <td>Every living thing was destroyed that was on t...</td>\n",
       "      <td>23.0</td>\n",
       "      <td>149.190229</td>\n",
       "      <td>133.552750</td>\n",
       "      <td>NaN</td>\n",
       "      <td>135.780</td>\n",
       "      <td>2023</td>\n",
       "      <td>10</td>\n",
       "      <td>18</td>\n",
       "      <td>1</td>\n",
       "      <td>2023-10-31</td>\n",
       "    </tr>\n",
       "    <tr>\n",
       "      <th>348</th>\n",
       "      <td>1.699066e+09</td>\n",
       "      <td>2023-11-03T22:50:23.820411</td>\n",
       "      <td>2023-11-04T02:50:23.820411+00:00</td>\n",
       "      <td>237</td>\n",
       "      <td>19.271681</td>\n",
       "      <td>12.297838</td>\n",
       "      <td>147.574050</td>\n",
       "      <td>GEN</td>\n",
       "      <td>8</td>\n",
       "      <td>201</td>\n",
       "      <td>Bring out with you every living thing that is ...</td>\n",
       "      <td>17.0</td>\n",
       "      <td>148.932454</td>\n",
       "      <td>135.933779</td>\n",
       "      <td>NaN</td>\n",
       "      <td>136.183</td>\n",
       "      <td>2023</td>\n",
       "      <td>11</td>\n",
       "      <td>22</td>\n",
       "      <td>1</td>\n",
       "      <td>2023-11-03</td>\n",
       "    </tr>\n",
       "    <tr>\n",
       "      <th>364</th>\n",
       "      <td>1.699066e+09</td>\n",
       "      <td>2023-11-03T22:54:24.455479</td>\n",
       "      <td>2023-11-04T02:54:24.455479+00:00</td>\n",
       "      <td>162</td>\n",
       "      <td>15.375179</td>\n",
       "      <td>10.536462</td>\n",
       "      <td>126.437550</td>\n",
       "      <td>GEN</td>\n",
       "      <td>9</td>\n",
       "      <td>217</td>\n",
       "      <td>I will establish my covenant with you: All fle...</td>\n",
       "      <td>11.0</td>\n",
       "      <td>148.907454</td>\n",
       "      <td>138.253573</td>\n",
       "      <td>NaN</td>\n",
       "      <td>136.541</td>\n",
       "      <td>2023</td>\n",
       "      <td>11</td>\n",
       "      <td>22</td>\n",
       "      <td>1</td>\n",
       "      <td>2023-11-03</td>\n",
       "    </tr>\n",
       "    <tr>\n",
       "      <th>54</th>\n",
       "      <td>1.698554e+09</td>\n",
       "      <td>2023-10-29T00:35:06.989057</td>\n",
       "      <td>2023-10-29T04:35:06.989057+00:00</td>\n",
       "      <td>123</td>\n",
       "      <td>9.668638</td>\n",
       "      <td>12.721543</td>\n",
       "      <td>152.658516</td>\n",
       "      <td>3JN</td>\n",
       "      <td>1</td>\n",
       "      <td>34948</td>\n",
       "      <td>Demetrius has the testimony of all, and of the...</td>\n",
       "      <td>12.0</td>\n",
       "      <td>148.882945</td>\n",
       "      <td>NaN</td>\n",
       "      <td>NaN</td>\n",
       "      <td>135.745</td>\n",
       "      <td>2023</td>\n",
       "      <td>10</td>\n",
       "      <td>0</td>\n",
       "      <td>1</td>\n",
       "      <td>2023-10-29</td>\n",
       "    </tr>\n",
       "    <tr>\n",
       "      <th>29</th>\n",
       "      <td>1.698284e+09</td>\n",
       "      <td>2023-10-25T21:29:51.817669</td>\n",
       "      <td>2023-10-26T01:29:51.817669+00:00</td>\n",
       "      <td>56</td>\n",
       "      <td>3.477334</td>\n",
       "      <td>16.104292</td>\n",
       "      <td>193.251509</td>\n",
       "      <td>GEN</td>\n",
       "      <td>1</td>\n",
       "      <td>1</td>\n",
       "      <td>In the beginning, God created the heavens and ...</td>\n",
       "      <td>1.0</td>\n",
       "      <td>148.772233</td>\n",
       "      <td>NaN</td>\n",
       "      <td>NaN</td>\n",
       "      <td>129.881</td>\n",
       "      <td>2023</td>\n",
       "      <td>10</td>\n",
       "      <td>21</td>\n",
       "      <td>1</td>\n",
       "      <td>2023-10-25</td>\n",
       "    </tr>\n",
       "    <tr>\n",
       "      <th>55</th>\n",
       "      <td>1.698554e+09</td>\n",
       "      <td>2023-10-29T00:35:20.795259</td>\n",
       "      <td>2023-10-29T04:35:20.795259+00:00</td>\n",
       "      <td>87</td>\n",
       "      <td>7.268541</td>\n",
       "      <td>11.969390</td>\n",
       "      <td>143.632675</td>\n",
       "      <td>3JN</td>\n",
       "      <td>1</td>\n",
       "      <td>34949</td>\n",
       "      <td>I had many things to write to you, but I am un...</td>\n",
       "      <td>13.0</td>\n",
       "      <td>148.753421</td>\n",
       "      <td>NaN</td>\n",
       "      <td>NaN</td>\n",
       "      <td>135.889</td>\n",
       "      <td>2023</td>\n",
       "      <td>10</td>\n",
       "      <td>0</td>\n",
       "      <td>1</td>\n",
       "      <td>2023-10-29</td>\n",
       "    </tr>\n",
       "    <tr>\n",
       "      <th>378</th>\n",
       "      <td>1.699067e+09</td>\n",
       "      <td>2023-11-03T22:57:46.513912</td>\n",
       "      <td>2023-11-04T02:57:46.513912+00:00</td>\n",
       "      <td>78</td>\n",
       "      <td>7.093099</td>\n",
       "      <td>10.996604</td>\n",
       "      <td>131.959244</td>\n",
       "      <td>GEN</td>\n",
       "      <td>9</td>\n",
       "      <td>231</td>\n",
       "      <td>He said, \"Canaan is cursed. He will be a serva...</td>\n",
       "      <td>25.0</td>\n",
       "      <td>148.591808</td>\n",
       "      <td>140.343131</td>\n",
       "      <td>NaN</td>\n",
       "      <td>137.073</td>\n",
       "      <td>2023</td>\n",
       "      <td>11</td>\n",
       "      <td>22</td>\n",
       "      <td>1</td>\n",
       "      <td>2023-11-03</td>\n",
       "    </tr>\n",
       "  </tbody>\n",
       "</table>\n",
       "</div>"
      ],
      "text/plain": [
       "             Unix_Start_Time            Local_Start_Time  \\\n",
       "Test_Number                                                \n",
       "375             1.699067e+09  2023-11-03T22:57:11.140166   \n",
       "346             1.699066e+09  2023-11-03T22:50:09.696543   \n",
       "345             1.699066e+09  2023-11-03T22:49:56.583535   \n",
       "369             1.699067e+09  2023-11-03T22:56:04.797137   \n",
       "376             1.699067e+09  2023-11-03T22:57:19.430587   \n",
       "377             1.699067e+09  2023-11-03T22:57:39.277346   \n",
       "374             1.699067e+09  2023-11-03T22:57:05.278503   \n",
       "344             1.699066e+09  2023-11-03T22:49:38.177286   \n",
       "368             1.699067e+09  2023-11-03T22:55:51.536428   \n",
       "343             1.699066e+09  2023-11-03T22:49:24.201749   \n",
       "347             1.699066e+09  2023-11-03T22:50:13.961122   \n",
       "363             1.699066e+09  2023-11-03T22:54:08.596196   \n",
       "341             1.699066e+09  2023-11-03T22:48:34.354652   \n",
       "330             1.698793e+09  2023-10-31T18:51:15.987789   \n",
       "348             1.699066e+09  2023-11-03T22:50:23.820411   \n",
       "364             1.699066e+09  2023-11-03T22:54:24.455479   \n",
       "54              1.698554e+09  2023-10-29T00:35:06.989057   \n",
       "29              1.698284e+09  2023-10-25T21:29:51.817669   \n",
       "55              1.698554e+09  2023-10-29T00:35:20.795259   \n",
       "378             1.699067e+09  2023-11-03T22:57:46.513912   \n",
       "\n",
       "                               UTC_Start_Time  Characters    Seconds  \\\n",
       "Test_Number                                                            \n",
       "375          2023-11-04T02:57:11.140166+00:00          94   6.981140   \n",
       "346          2023-11-04T02:50:09.696543+00:00          26   2.098202   \n",
       "345          2023-11-04T02:49:56.583535+00:00          79   6.649562   \n",
       "369          2023-11-04T02:56:04.797137+00:00         171  13.394990   \n",
       "376          2023-11-04T02:57:19.430587+00:00         205  16.778885   \n",
       "377          2023-11-04T02:57:39.277346+00:00          73   5.463816   \n",
       "374          2023-11-04T02:57:05.278503+00:00          69   4.693784   \n",
       "344          2023-11-04T02:49:38.177286+00:00         217  15.961097   \n",
       "368          2023-11-04T02:55:51.536428+00:00         161  11.776451   \n",
       "343          2023-11-04T02:49:24.201749+00:00          95   7.094975   \n",
       "347          2023-11-04T02:50:13.961122+00:00          78   8.200206   \n",
       "363          2023-11-04T02:54:08.596196+00:00         178  13.713111   \n",
       "341          2023-11-04T02:48:34.354652+00:00          77   5.072950   \n",
       "330          2023-10-31T22:51:15.988295+00:00         233  19.420589   \n",
       "348          2023-11-04T02:50:23.820411+00:00         237  19.271681   \n",
       "364          2023-11-04T02:54:24.455479+00:00         162  15.375179   \n",
       "54           2023-10-29T04:35:06.989057+00:00         123   9.668638   \n",
       "29           2023-10-26T01:29:51.817669+00:00          56   3.477334   \n",
       "55           2023-10-29T04:35:20.795259+00:00          87   7.268541   \n",
       "378          2023-11-04T02:57:46.513912+00:00          78   7.093099   \n",
       "\n",
       "                   CPS         WPM Book  Chapter  Verse_Order  \\\n",
       "Test_Number                                                     \n",
       "375          13.464850  161.578203  GEN        9          228   \n",
       "346          12.391561  148.698727  GEN        8          199   \n",
       "345          11.880482  142.565789  GEN        8          198   \n",
       "369          12.765967  153.191607  GEN        9          222   \n",
       "376          12.217737  146.612842  GEN        9          229   \n",
       "377          13.360626  160.327516  GEN        9          230   \n",
       "374          14.700292  176.403507  GEN        9          227   \n",
       "344          13.595557  163.146679  GEN        8          197   \n",
       "368          13.671351  164.056215  GEN        9          221   \n",
       "343          13.389757  160.677088  GEN        8          196   \n",
       "347           9.511956  114.143470  GEN        8          200   \n",
       "363          12.980279  155.763346  GEN        9          216   \n",
       "341          15.178545  182.142544  GEN        8          194   \n",
       "330          11.997576  143.970917  GEN        7          183   \n",
       "348          12.297838  147.574050  GEN        8          201   \n",
       "364          10.536462  126.437550  GEN        9          217   \n",
       "54           12.721543  152.658516  3JN        1        34948   \n",
       "29           16.104292  193.251509  GEN        1            1   \n",
       "55           11.969390  143.632675  3JN        1        34949   \n",
       "378          10.996604  131.959244  GEN        9          231   \n",
       "\n",
       "                                                         Verse  Verse #  \\\n",
       "Test_Number                                                               \n",
       "375          Ham, the father of Canaan, saw the nakedness o...     22.0   \n",
       "346                                 God spoke to Noah, saying,     15.0   \n",
       "345          In the second month, on the twenty-seventh day...     14.0   \n",
       "369          The rainbow will be in the cloud. I will look ...     16.0   \n",
       "376          Shem and Japheth took a garment, and laid it o...     23.0   \n",
       "377          Noah awoke from his wine, and knew what his yo...     24.0   \n",
       "374          He drank of the wine and got drunk. He was unc...     21.0   \n",
       "344          In the six hundred first year, in the first mo...     13.0   \n",
       "368          I will remember my covenant, which is between ...     15.0   \n",
       "343          He waited yet another seven days, and sent out...     12.0   \n",
       "347          \"Go out of the ship, you, your wife, your sons...     16.0   \n",
       "363          and with every living creature that is with yo...     10.0   \n",
       "341          He waited yet another seven days; and again he...     10.0   \n",
       "330          Every living thing was destroyed that was on t...     23.0   \n",
       "348          Bring out with you every living thing that is ...     17.0   \n",
       "364          I will establish my covenant with you: All fle...     11.0   \n",
       "54           Demetrius has the testimony of all, and of the...     12.0   \n",
       "29           In the beginning, God created the heavens and ...      1.0   \n",
       "55           I had many things to write to you, but I am un...     13.0   \n",
       "378          He said, \"Canaan is cursed. He will be a serva...     25.0   \n",
       "\n",
       "             Last 10 Avg  Last 100 Avg  Last 1000 Avg  cumulative_avg  \\\n",
       "Test_Number                                                             \n",
       "375           155.189199    140.005204            NaN         136.999   \n",
       "346           154.501316    135.941614            NaN         136.214   \n",
       "345           154.171140    135.389865            NaN         136.178   \n",
       "369           154.131763    139.205292            NaN         136.805   \n",
       "376           152.531903    140.209026            NaN         137.025   \n",
       "377           151.801505    140.348312            NaN         137.087   \n",
       "374           151.231641    139.896429            NaN         136.933   \n",
       "344           151.184573    134.886354            NaN         136.159   \n",
       "368           150.438336    138.923141            NaN         136.760   \n",
       "343           149.969348    134.253127            NaN         136.080   \n",
       "347           149.466437    135.645305            NaN         136.150   \n",
       "363           149.406005    138.101412            NaN         136.569   \n",
       "341           149.265970    134.422066            NaN         136.074   \n",
       "330           149.190229    133.552750            NaN         135.780   \n",
       "348           148.932454    135.933779            NaN         136.183   \n",
       "364           148.907454    138.253573            NaN         136.541   \n",
       "54            148.882945           NaN            NaN         135.745   \n",
       "29            148.772233           NaN            NaN         129.881   \n",
       "55            148.753421           NaN            NaN         135.889   \n",
       "378           148.591808    140.343131            NaN         137.073   \n",
       "\n",
       "             Local_Year  Local_Month  Local_Hour  Count  Local_Date  \n",
       "Test_Number                                                          \n",
       "375                2023           11          22      1  2023-11-03  \n",
       "346                2023           11          22      1  2023-11-03  \n",
       "345                2023           11          22      1  2023-11-03  \n",
       "369                2023           11          22      1  2023-11-03  \n",
       "376                2023           11          22      1  2023-11-03  \n",
       "377                2023           11          22      1  2023-11-03  \n",
       "374                2023           11          22      1  2023-11-03  \n",
       "344                2023           11          22      1  2023-11-03  \n",
       "368                2023           11          22      1  2023-11-03  \n",
       "343                2023           11          22      1  2023-11-03  \n",
       "347                2023           11          22      1  2023-11-03  \n",
       "363                2023           11          22      1  2023-11-03  \n",
       "341                2023           11          22      1  2023-11-03  \n",
       "330                2023           10          18      1  2023-10-31  \n",
       "348                2023           11          22      1  2023-11-03  \n",
       "364                2023           11          22      1  2023-11-03  \n",
       "54                 2023           10           0      1  2023-10-29  \n",
       "29                 2023           10          21      1  2023-10-25  \n",
       "55                 2023           10           0      1  2023-10-29  \n",
       "378                2023           11          22      1  2023-11-03  "
      ]
     },
     "execution_count": 50,
     "metadata": {},
     "output_type": "execute_result"
    }
   ],
   "source": [
    "df_top_20_last_10_avg_results = df_results.sort_values(\n",
    "    'Last 10 Avg', ascending = False).head(20).copy()\n",
    "df_top_20_last_10_avg_results"
   ]
  },
  {
   "cell_type": "markdown",
   "metadata": {},
   "source": [
    "# Showing WPM results and moving averages by test number:"
   ]
  },
  {
   "cell_type": "code",
   "execution_count": 51,
   "metadata": {},
   "outputs": [
    {
     "data": {
      "application/vnd.plotly.v1+json": {
       "config": {
        "plotlyServerURL": "https://plot.ly"
       },
       "data": [
        {
         "hovertemplate": "variable=WPM<br>Test_Number=%{x}<br>value=%{y}<extra></extra>",
         "legendgroup": "WPM",
         "line": {
          "color": "#636efa",
          "dash": "solid"
         },
         "marker": {
          "symbol": "circle"
         },
         "mode": "lines",
         "name": "WPM",
         "showlegend": true,
         "type": "scattergl",
         "x": [
          1,
          2,
          3,
          4,
          5,
          6,
          7,
          8,
          9,
          10,
          11,
          12,
          13,
          14,
          15,
          16,
          17,
          18,
          19,
          20,
          21,
          22,
          23,
          24,
          25,
          26,
          27,
          28,
          29,
          30,
          31,
          32,
          33,
          34,
          35,
          36,
          37,
          38,
          39,
          40,
          41,
          42,
          43,
          44,
          45,
          46,
          47,
          48,
          49,
          50,
          51,
          52,
          53,
          54,
          55,
          56,
          57,
          58,
          59,
          60,
          61,
          62,
          63,
          64,
          65,
          66,
          67,
          68,
          69,
          70,
          71,
          72,
          73,
          74,
          75,
          76,
          77,
          78,
          79,
          80,
          81,
          82,
          83,
          84,
          85,
          86,
          87,
          88,
          89,
          90,
          91,
          92,
          93,
          94,
          95,
          96,
          97,
          98,
          99,
          100,
          101,
          102,
          103,
          104,
          105,
          106,
          107,
          108,
          109,
          110,
          111,
          112,
          113,
          114,
          115,
          116,
          117,
          118,
          119,
          120,
          121,
          122,
          123,
          124,
          125,
          126,
          127,
          128,
          129,
          130,
          131,
          132,
          133,
          134,
          135,
          136,
          137,
          138,
          139,
          140,
          141,
          142,
          143,
          144,
          145,
          146,
          147,
          148,
          149,
          150,
          151,
          152,
          153,
          154,
          155,
          156,
          157,
          158,
          159,
          160,
          161,
          162,
          163,
          164,
          165,
          166,
          167,
          168,
          169,
          170,
          171,
          172,
          173,
          174,
          175,
          176,
          177,
          178,
          179,
          180,
          181,
          182,
          183,
          184,
          185,
          186,
          187,
          188,
          189,
          190,
          191,
          192,
          193,
          194,
          195,
          196,
          197,
          198,
          199,
          200,
          201,
          202,
          203,
          204,
          205,
          206,
          207,
          208,
          209,
          210,
          211,
          212,
          213,
          214,
          215,
          216,
          217,
          218,
          219,
          220,
          221,
          222,
          223,
          224,
          225,
          226,
          227,
          228,
          229,
          230,
          231,
          232,
          233,
          234,
          235,
          236,
          237,
          238,
          239,
          240,
          241,
          242,
          243,
          244,
          245,
          246,
          247,
          248,
          249,
          250,
          251,
          252,
          253,
          254,
          255,
          256,
          257,
          258,
          259,
          260,
          261,
          262,
          263,
          264,
          265,
          266,
          267,
          268,
          269,
          270,
          271,
          272,
          273,
          274,
          275,
          276,
          277,
          278,
          279,
          280,
          281,
          282,
          283,
          284,
          285,
          286,
          287,
          288,
          289,
          290,
          291,
          292,
          293,
          294,
          295,
          296,
          297,
          298,
          299,
          300,
          301,
          302,
          303,
          304,
          305,
          306,
          307,
          308,
          309,
          310,
          311,
          312,
          313,
          314,
          315,
          316,
          317,
          318,
          319,
          320,
          321,
          322,
          323,
          324,
          325,
          326,
          327,
          328,
          329,
          330,
          331,
          332,
          333,
          334,
          335,
          336,
          337,
          338,
          339,
          340,
          341,
          342,
          343,
          344,
          345,
          346,
          347,
          348,
          349,
          350,
          351,
          352,
          353,
          354,
          355,
          356,
          357,
          358,
          359,
          360,
          361,
          362,
          363,
          364,
          365,
          366,
          367,
          368,
          369,
          370,
          371,
          372,
          373,
          374,
          375,
          376,
          377,
          378,
          379,
          380,
          381,
          382,
          383,
          384,
          385,
          386,
          387,
          388,
          389,
          390,
          391,
          392,
          393,
          394,
          395,
          396,
          397,
          398,
          399,
          400,
          401,
          402,
          403,
          404,
          405,
          406,
          407,
          408,
          409,
          410,
          411,
          412,
          413,
          414,
          415,
          416,
          417,
          418,
          419,
          420,
          421,
          422,
          423,
          424,
          425,
          426,
          427,
          428,
          429,
          430,
          431,
          432,
          433,
          434,
          435,
          436,
          437,
          438,
          439,
          440,
          441,
          442,
          443,
          444,
          445,
          446,
          447,
          448,
          449,
          450,
          451,
          452,
          453,
          454,
          455,
          456,
          457,
          458,
          459,
          460,
          461,
          462,
          463,
          464,
          465,
          466,
          467,
          468,
          469,
          470,
          471,
          472,
          473,
          474,
          475,
          476,
          477,
          478,
          479,
          480,
          481,
          482,
          483,
          484,
          485,
          486,
          487,
          488,
          489,
          490,
          491,
          492,
          493,
          494,
          495,
          496,
          497,
          498,
          499,
          500,
          501,
          502,
          503,
          504,
          505,
          506,
          507,
          508,
          509,
          510,
          511,
          512,
          513,
          514,
          515,
          516,
          517,
          518,
          519,
          520,
          521,
          522,
          523,
          524,
          525,
          526,
          527,
          528,
          529,
          530,
          531,
          532,
          533,
          534,
          535,
          536,
          537,
          538,
          539,
          540,
          541,
          542,
          543,
          544,
          545,
          546,
          547,
          548,
          549,
          550,
          551,
          552,
          553,
          554,
          555,
          556,
          557,
          558,
          559,
          560,
          561,
          562,
          563,
          564,
          565,
          566,
          567,
          568,
          569,
          570,
          571,
          572,
          573,
          574,
          575,
          576,
          577,
          578,
          579,
          580,
          581,
          582,
          583,
          584,
          585,
          586,
          587,
          588,
          589,
          590,
          591,
          592,
          593,
          594,
          595,
          596,
          597,
          598,
          599,
          600,
          601,
          602,
          603,
          604,
          605,
          606,
          607,
          608,
          609,
          610,
          611,
          612,
          613,
          614,
          615,
          616,
          617,
          618,
          619,
          620,
          621,
          622,
          623,
          624,
          625,
          626,
          627,
          628,
          629,
          630,
          631,
          632,
          633,
          634,
          635,
          636,
          637,
          638,
          639,
          640,
          641,
          642,
          643,
          644,
          645,
          646,
          647,
          648,
          649,
          650,
          651,
          652,
          653,
          654,
          655,
          656,
          657,
          658,
          659,
          660,
          661,
          662,
          663,
          664,
          665,
          666,
          667,
          668,
          669,
          670,
          671,
          672,
          673,
          674,
          675,
          676,
          677,
          678,
          679,
          680,
          681,
          682,
          683,
          684,
          685,
          686,
          687,
          688,
          689,
          690,
          691,
          692,
          693,
          694,
          695,
          696,
          697,
          698,
          699,
          700,
          701,
          702,
          703,
          704,
          705,
          706,
          707,
          708,
          709,
          710,
          711,
          712,
          713,
          714,
          715,
          716,
          717
         ],
         "xaxis": "x",
         "y": [
          102.2557986,
          115.7346535,
          142.5452918,
          137.7414966,
          84.91257979,
          103.0949072,
          140.4618271,
          77.08441069,
          112.7003629,
          143.5314685,
          125.0376318,
          121.9772506,
          105.3597769,
          96.49691111,
          161.0931056,
          135.7298163,
          165.8691277,
          84.00849276,
          123.1983781,
          121.5749177,
          135.6642724,
          155.0448175,
          157.5844433,
          147.6314926,
          124.5485308,
          184.2361975,
          130.0511073,
          138.1350428,
          193.2515087,
          100.1429176,
          122.5971194,
          127.6817625,
          143.0622221,
          168.403897,
          150.1085888,
          147.0209159,
          171.0487319,
          146.2200932,
          116.8923964,
          147.7794536,
          137.9010458,
          124.164215,
          134.8010763,
          137.0410419,
          144.9279153,
          142.5807182,
          170.1109301,
          162.4183344,
          178.9753622,
          134.4954117,
          147.7605567,
          126.2491401,
          128.652569,
          152.658516,
          143.6326748,
          140.5365586,
          148.6723345,
          132.8951263,
          148.3544075,
          123.9723083,
          147.7218366,
          135.3845744,
          160.678684,
          162.0956829,
          120.0026465,
          153.4334004,
          160.0152284,
          138.1549429,
          159.2429145,
          146.3512585,
          102.4181261,
          156.536704,
          141.8866797,
          123.1854455,
          144.5291828,
          136.5369094,
          161.5598703,
          140.7957314,
          157.8290157,
          128.3149053,
          151.1720859,
          145.6297216,
          155.3612424,
          145.8383024,
          119.4779366,
          141.2907957,
          142.7135496,
          137.3865456,
          122.4674862,
          129.3603015,
          147.9134674,
          83.27333878,
          145.9253839,
          144.3710489,
          131.0214389,
          135.0523208,
          139.0052063,
          133.126821,
          85.60465043,
          120.399074,
          110.783171,
          117.6830641,
          109.0699429,
          143.0414948,
          127.9908969,
          133.3462959,
          145.1585,
          144.5889483,
          135.0674372,
          133.8916157,
          145.107872,
          149.1722969,
          127.7218955,
          106.0286366,
          157.4320554,
          135.0889449,
          120.7493271,
          141.4825769,
          146.6605053,
          140.8272098,
          149.0467977,
          124.9154053,
          137.4006952,
          149.4791011,
          167.7062966,
          148.1308815,
          140.635887,
          122.306038,
          142.9093939,
          155.9042406,
          163.9380587,
          152.1530852,
          129.3325926,
          127.8352766,
          149.0271549,
          149.1389449,
          139.7333506,
          128.7198179,
          150.9277463,
          114.0471947,
          165.4238972,
          126.45724,
          132.5016427,
          143.251065,
          160.4361977,
          141.8371523,
          145.5341428,
          138.7934831,
          168.2437689,
          136.1501266,
          130.4971277,
          128.5403961,
          136.8264274,
          152.4793101,
          149.0647727,
          107.2099048,
          140.3668112,
          120.4577798,
          126.6242449,
          140.2086117,
          106.021832,
          147.031789,
          139.8201876,
          154.8833598,
          158.1533926,
          154.278507,
          112.7388201,
          125.5380868,
          125.240525,
          100.2059884,
          155.9615098,
          130.4061902,
          150.2352046,
          161.6821158,
          128.5951518,
          133.6863333,
          121.2336049,
          161.0914995,
          153.1308776,
          97.79773045,
          148.861709,
          150.5661251,
          137.9164972,
          138.8337809,
          119.9394567,
          154.6339608,
          116.4373884,
          150.6016981,
          106.6278383,
          156.2175731,
          132.6910843,
          123.4192656,
          116.9546646,
          136.1759336,
          134.4406464,
          125.235248,
          146.2725432,
          140.32446,
          159.1789682,
          124.4789779,
          123.8816332,
          148.5596109,
          116.2100446,
          142.6450358,
          138.9507549,
          118.7819124,
          109.9707853,
          146.4267098,
          126.3155409,
          143.5214024,
          135.3254434,
          155.0468179,
          137.9325707,
          138.225223,
          106.3015141,
          153.8609336,
          135.2016596,
          105.4580544,
          142.7679393,
          139.3614573,
          155.2874714,
          125.5732846,
          132.0124838,
          132.1945579,
          124.03176,
          117.1652964,
          135.2662752,
          144.241964,
          160.1229467,
          117.3835882,
          126.9375901,
          128.5052807,
          143.8754693,
          161.3884259,
          106.4082393,
          113.4144894,
          183.4856669,
          137.9548131,
          124.3449642,
          156.4077382,
          124.1192504,
          143.9128945,
          147.4820083,
          99.82400128,
          92.21465671,
          93.52381031,
          143.7744169,
          118.7266681,
          117.6005861,
          87.30937825,
          118.7009623,
          137.7580685,
          114.2573955,
          156.9810082,
          163.6179313,
          146.5131341,
          101.4457857,
          156.8557855,
          155.6884705,
          105.0217282,
          101.630303,
          144.1907993,
          158.3302592,
          111.2214298,
          131.0403863,
          156.0012709,
          126.4882724,
          146.3893853,
          124.9765611,
          142.0066213,
          156.5512382,
          119.7164084,
          129.1734743,
          115.6871609,
          150.7006983,
          126.230722,
          146.3989022,
          132.4772881,
          136.7337636,
          113.4415078,
          120.9268341,
          139.6275464,
          136.3372508,
          99.18100061,
          135.6730702,
          148.8651702,
          117.8428999,
          129.2226526,
          102.13818396888962,
          120.48749001306795,
          132.8576746417254,
          90.84028641011042,
          124.21852064037331,
          113.35552428910694,
          125.6560905333676,
          147.8038527451023,
          149.91220085790678,
          123.9539683979674,
          125.94743903164483,
          143.9611821561249,
          142.040318931446,
          150.550412428582,
          147.61711356706184,
          152.30838167556178,
          142.303723743276,
          114.61122192253632,
          135.6469037782072,
          146.35842571976278,
          133.73486065823164,
          159.58191208544406,
          116.93763792942312,
          106.24661570788427,
          165.21904205086668,
          142.87787933759532,
          140.8676311976334,
          127.7837959398602,
          156.37907846399904,
          135.09351711324928,
          125.1189778017268,
          115.84939013611456,
          161.70446929707606,
          160.9730861045085,
          111.09302880152316,
          162.51239311411,
          160.06999091698722,
          149.82309839562225,
          146.43082894150822,
          164.78614744085377,
          130.5383300550057,
          143.97091686007002,
          101.11382029329604,
          129.98233902674602,
          137.48487405352114,
          150.99443261319522,
          112.7001169690485,
          145.39696399449005,
          164.4922606688814,
          152.91388285056925,
          162.53948411569007,
          154.0127971541685,
          182.1425444180597,
          113.8239095356812,
          160.677088254899,
          163.14667850033788,
          142.56578866553633,
          148.6987268220503,
          114.1434700625612,
          147.57405048401554,
          149.30684831494077,
          126.20519621797196,
          139.94633993580445,
          126.9245477714586,
          146.22189805127886,
          131.42306484991144,
          145.30902821100034,
          162.4136034262146,
          164.65081611071054,
          139.1938713049083,
          116.25733748793996,
          158.97949435405167,
          159.4594056928479,
          160.6100877415165,
          155.76334567780924,
          126.43754997815417,
          122.00263194163227,
          173.18579743135868,
          167.63149622073377,
          164.05621539256902,
          153.19160682658327,
          103.10951733149292,
          143.58874865629957,
          169.12094179101882,
          140.02595222180497,
          176.4035068952055,
          161.578202837319,
          146.61284206103738,
          160.32751649175646,
          131.9592444041659,
          130.39430146308098,
          95.19494771288272,
          139.84725735631602,
          117.0109106809606,
          164.2038699821898,
          111.21520257399634,
          110.61872440278312,
          93.54437596126996,
          173.74069274168957,
          140.40689945025778,
          118.73919704713076,
          134.32002613190207,
          111.09879759326508,
          84.38909012203041,
          83.75553195645635,
          111.65370758833052,
          84.52302359241595,
          56.428207168106,
          137.00100785632145,
          104.05074428404626,
          106.83920364403522,
          129.21597646531856,
          127.69430589739112,
          139.00065447237006,
          123.92827680746116,
          87.01866205273936,
          142.51005252458106,
          119.65226443929498,
          134.9754803466662,
          105.08601725744704,
          108.17934090978812,
          82.9661044249338,
          124.25718009912066,
          128.87772636357593,
          158.69383141480452,
          181.4326694465167,
          141.265017681068,
          141.93788585326277,
          123.72983104423646,
          118.9569962403272,
          125.11753746520492,
          130.01211792704754,
          106.32089141952508,
          130.0139783427136,
          148.09985936839206,
          125.38742334459953,
          157.6765394851595,
          128.881456072641,
          135.87783066929154,
          157.0132623457111,
          159.50126306763843,
          168.8132952426762,
          155.87125454275684,
          142.49426469262005,
          146.4275154150089,
          104.11571669610146,
          171.72475830210388,
          105.67641843295668,
          139.78881353080993,
          103.51504534087584,
          129.05039332595064,
          99.08361120154072,
          128.45652344848554,
          136.86200516225722,
          125.21672622194612,
          120.27421253881874,
          128.24014855424184,
          106.11181793157404,
          151.5217265005572,
          123.3628972049639,
          154.78518164162358,
          98.61695928877234,
          151.777983754413,
          144.78620558526308,
          135.68871143925486,
          137.54488438448635,
          122.46620324805431,
          142.1858155692887,
          136.9921706451144,
          153.55835113996105,
          143.2609261928418,
          135.955200375587,
          112.0448227831792,
          115.5683326195538,
          143.85775097932537,
          106.5391750204946,
          131.6597480906924,
          121.20818724096397,
          109.14554683675829,
          115.68491953664268,
          125.90765012753788,
          156.22416588296122,
          147.2165612220749,
          132.088542187398,
          159.42531353980516,
          127.92500056763323,
          182.14264311377704,
          126.88139230714452,
          155.57827657047102,
          130.68656563255905,
          94.36481993941712,
          117.25185855936166,
          140.58210060931313,
          125.1762562811293,
          134.70761999403007,
          108.20663479731242,
          161.62370782784654,
          120.40333852087213,
          139.53618445690668,
          82.00146131688726,
          101.54043350785112,
          122.7582234002282,
          126.69185761503942,
          91.91788712595437,
          121.38684999064743,
          133.52665075490737,
          124.95474610153816,
          123.3780197635339,
          146.64808234909435,
          133.50861716148194,
          145.15960712498867,
          109.98872914673557,
          141.31417410844853,
          133.8829037853563,
          162.78159914944152,
          118.39228991472427,
          124.9424220049167,
          130.83451801777937,
          124.81439695483368,
          151.46092135874576,
          147.0658695658305,
          94.13989136218186,
          111.26453201178116,
          97.2058284375739,
          107.8983827430193,
          91.36627787758547,
          121.51391261349244,
          109.36537255499854,
          97.01859539496618,
          99.43385284500154,
          106.85206229195204,
          125.6171903409102,
          155.08252063335388,
          129.76472645313518,
          98.12842275935652,
          103.45013680116574,
          151.8109628417961,
          135.1843612080263,
          125.73602243467602,
          113.71636790809276,
          101.28178384136262,
          123.74796647593972,
          106.89293479777852,
          121.38379706638938,
          84.99338371898571,
          106.14956019770388,
          105.1374276174544,
          130.46463336230698,
          114.36113770003696,
          98.66960630256224,
          144.08790790571487,
          131.785426383583,
          84.45584138001766,
          116.75581561307462,
          123.45769863410987,
          131.22358707641706,
          146.4652627502622,
          108.24146428862116,
          110.99679386216606,
          140.38130978753134,
          117.59771847122876,
          105.38233287351916,
          160.09536163413333,
          103.8004663279107,
          162.74923543275256,
          161.33974933394316,
          156.60820385804732,
          144.03758996074302,
          126.1541679134106,
          112.00149112997534,
          160.15189040037097,
          143.20406142943537,
          128.78725739171415,
          98.66590871357565,
          132.28648449020648,
          113.1608118737168,
          100.72911873772784,
          124.07544077117564,
          134.76824819304494,
          100.9214659095924,
          119.44895230847744,
          113.51861293954036,
          143.9829161466043,
          117.8681081422134,
          107.54003017692168,
          138.1701083317912,
          122.59162954899782,
          141.8804217482107,
          123.67869111345676,
          131.13350981194617,
          169.5517435558518,
          126.900157327847,
          123.5134987850983,
          165.40518715790327,
          115.60481823642824,
          132.81807810625972,
          140.94297648930427,
          154.6506793154782,
          115.61367498644375,
          114.77719707050449,
          126.05055537407355,
          110.79274784841031,
          154.97999368006785,
          111.35140868462612,
          141.5577203394318,
          135.12484760796374,
          121.38212075809068,
          130.77659531998617,
          148.50429217620805,
          106.95967301313776,
          161.21252169974312,
          140.16247686742977,
          150.88428468517594,
          134.3530808383669,
          112.24756016513746,
          134.42019707764624,
          120.84876514357762,
          142.67383549373673,
          124.94139151813758,
          119.34794679879796,
          131.19319059148356,
          121.2638020352281,
          132.9700626718989,
          142.1849212379955,
          144.99733589887302,
          154.071666203114,
          103.75472883228612,
          141.97614806405358,
          127.96752864610303,
          117.1801381485663,
          118.32898617175204,
          126.56080982287904,
          133.43562257034387,
          105.06309495311848,
          109.4873209894871,
          109.95170792971592,
          120.58706072736372,
          123.84462890320016,
          121.94429847399486,
          126.09203122525513,
          136.3901162381743,
          156.9474743384475,
          153.91581605761334,
          131.16181254860695,
          162.12734355420804,
          121.66795197322269,
          114.3278361085468,
          149.15669647602417,
          138.88090783293478,
          115.79364113438795,
          138.98681529603286,
          149.58931017564527,
          124.9268071786078,
          132.49321008374412,
          154.08545018223987,
          158.4700707611226,
          127.66063984399034,
          144.99879842339567,
          137.81393075159198,
          122.47176775090824,
          151.71700407675598,
          131.92683256668516,
          115.87928721847454,
          150.10525357150104,
          122.3688337113822,
          119.73483619900271,
          125.45273015860602,
          117.77948134731756,
          142.59027787764688,
          107.69881813296934,
          127.1357946629225,
          114.60243973536885,
          93.6488860028354,
          117.6689961364238,
          132.72180137791835,
          144.84357397987313,
          81.00053962278399,
          122.54247432626347,
          96.11019996037967,
          137.60806077034422,
          133.89327630420303,
          122.15921687850972,
          126.25376598230412,
          140.3006201901446,
          95.10299030346886,
          97.61103588185172,
          127.64590040051942,
          108.29992699779748,
          157.98750705961191,
          126.49758825529236,
          161.77555117643232,
          132.64217229286805,
          148.72589087791104,
          134.86265520293728,
          159.92473459126813,
          164.53690735444673,
          136.62217129305856,
          141.9163167789176,
          133.036659280447,
          115.74169268496996,
          121.62708821651889,
          130.43082429148748,
          101.59901576348648,
          120.95564656249508,
          118.99034522086606,
          147.58874339127283,
          139.15590248775194,
          141.59677815184853,
          121.37929921229949,
          120.0766507758018,
          116.3535061691415,
          126.53432363693356,
          155.2865737429844,
          122.52295455443908,
          138.52198382466082,
          132.04130298129158,
          134.88451387078828,
          133.87787005995497,
          143.95332242830236,
          161.23803283905693,
          90.6702517643667,
          148.5613457393098,
          129.31609454390147,
          100.272036034666,
          73.38096724934297,
          122.6513476384404,
          158.98873130224726,
          133.17123347310502,
          137.44141889134957
         ],
         "yaxis": "y"
        },
        {
         "hovertemplate": "variable=Last 10 Avg<br>Test_Number=%{x}<br>value=%{y}<extra></extra>",
         "legendgroup": "Last 10 Avg",
         "line": {
          "color": "#EF553B",
          "dash": "solid"
         },
         "marker": {
          "symbol": "circle"
         },
         "mode": "lines",
         "name": "Last 10 Avg",
         "showlegend": true,
         "type": "scattergl",
         "x": [
          1,
          2,
          3,
          4,
          5,
          6,
          7,
          8,
          9,
          10,
          11,
          12,
          13,
          14,
          15,
          16,
          17,
          18,
          19,
          20,
          21,
          22,
          23,
          24,
          25,
          26,
          27,
          28,
          29,
          30,
          31,
          32,
          33,
          34,
          35,
          36,
          37,
          38,
          39,
          40,
          41,
          42,
          43,
          44,
          45,
          46,
          47,
          48,
          49,
          50,
          51,
          52,
          53,
          54,
          55,
          56,
          57,
          58,
          59,
          60,
          61,
          62,
          63,
          64,
          65,
          66,
          67,
          68,
          69,
          70,
          71,
          72,
          73,
          74,
          75,
          76,
          77,
          78,
          79,
          80,
          81,
          82,
          83,
          84,
          85,
          86,
          87,
          88,
          89,
          90,
          91,
          92,
          93,
          94,
          95,
          96,
          97,
          98,
          99,
          100,
          101,
          102,
          103,
          104,
          105,
          106,
          107,
          108,
          109,
          110,
          111,
          112,
          113,
          114,
          115,
          116,
          117,
          118,
          119,
          120,
          121,
          122,
          123,
          124,
          125,
          126,
          127,
          128,
          129,
          130,
          131,
          132,
          133,
          134,
          135,
          136,
          137,
          138,
          139,
          140,
          141,
          142,
          143,
          144,
          145,
          146,
          147,
          148,
          149,
          150,
          151,
          152,
          153,
          154,
          155,
          156,
          157,
          158,
          159,
          160,
          161,
          162,
          163,
          164,
          165,
          166,
          167,
          168,
          169,
          170,
          171,
          172,
          173,
          174,
          175,
          176,
          177,
          178,
          179,
          180,
          181,
          182,
          183,
          184,
          185,
          186,
          187,
          188,
          189,
          190,
          191,
          192,
          193,
          194,
          195,
          196,
          197,
          198,
          199,
          200,
          201,
          202,
          203,
          204,
          205,
          206,
          207,
          208,
          209,
          210,
          211,
          212,
          213,
          214,
          215,
          216,
          217,
          218,
          219,
          220,
          221,
          222,
          223,
          224,
          225,
          226,
          227,
          228,
          229,
          230,
          231,
          232,
          233,
          234,
          235,
          236,
          237,
          238,
          239,
          240,
          241,
          242,
          243,
          244,
          245,
          246,
          247,
          248,
          249,
          250,
          251,
          252,
          253,
          254,
          255,
          256,
          257,
          258,
          259,
          260,
          261,
          262,
          263,
          264,
          265,
          266,
          267,
          268,
          269,
          270,
          271,
          272,
          273,
          274,
          275,
          276,
          277,
          278,
          279,
          280,
          281,
          282,
          283,
          284,
          285,
          286,
          287,
          288,
          289,
          290,
          291,
          292,
          293,
          294,
          295,
          296,
          297,
          298,
          299,
          300,
          301,
          302,
          303,
          304,
          305,
          306,
          307,
          308,
          309,
          310,
          311,
          312,
          313,
          314,
          315,
          316,
          317,
          318,
          319,
          320,
          321,
          322,
          323,
          324,
          325,
          326,
          327,
          328,
          329,
          330,
          331,
          332,
          333,
          334,
          335,
          336,
          337,
          338,
          339,
          340,
          341,
          342,
          343,
          344,
          345,
          346,
          347,
          348,
          349,
          350,
          351,
          352,
          353,
          354,
          355,
          356,
          357,
          358,
          359,
          360,
          361,
          362,
          363,
          364,
          365,
          366,
          367,
          368,
          369,
          370,
          371,
          372,
          373,
          374,
          375,
          376,
          377,
          378,
          379,
          380,
          381,
          382,
          383,
          384,
          385,
          386,
          387,
          388,
          389,
          390,
          391,
          392,
          393,
          394,
          395,
          396,
          397,
          398,
          399,
          400,
          401,
          402,
          403,
          404,
          405,
          406,
          407,
          408,
          409,
          410,
          411,
          412,
          413,
          414,
          415,
          416,
          417,
          418,
          419,
          420,
          421,
          422,
          423,
          424,
          425,
          426,
          427,
          428,
          429,
          430,
          431,
          432,
          433,
          434,
          435,
          436,
          437,
          438,
          439,
          440,
          441,
          442,
          443,
          444,
          445,
          446,
          447,
          448,
          449,
          450,
          451,
          452,
          453,
          454,
          455,
          456,
          457,
          458,
          459,
          460,
          461,
          462,
          463,
          464,
          465,
          466,
          467,
          468,
          469,
          470,
          471,
          472,
          473,
          474,
          475,
          476,
          477,
          478,
          479,
          480,
          481,
          482,
          483,
          484,
          485,
          486,
          487,
          488,
          489,
          490,
          491,
          492,
          493,
          494,
          495,
          496,
          497,
          498,
          499,
          500,
          501,
          502,
          503,
          504,
          505,
          506,
          507,
          508,
          509,
          510,
          511,
          512,
          513,
          514,
          515,
          516,
          517,
          518,
          519,
          520,
          521,
          522,
          523,
          524,
          525,
          526,
          527,
          528,
          529,
          530,
          531,
          532,
          533,
          534,
          535,
          536,
          537,
          538,
          539,
          540,
          541,
          542,
          543,
          544,
          545,
          546,
          547,
          548,
          549,
          550,
          551,
          552,
          553,
          554,
          555,
          556,
          557,
          558,
          559,
          560,
          561,
          562,
          563,
          564,
          565,
          566,
          567,
          568,
          569,
          570,
          571,
          572,
          573,
          574,
          575,
          576,
          577,
          578,
          579,
          580,
          581,
          582,
          583,
          584,
          585,
          586,
          587,
          588,
          589,
          590,
          591,
          592,
          593,
          594,
          595,
          596,
          597,
          598,
          599,
          600,
          601,
          602,
          603,
          604,
          605,
          606,
          607,
          608,
          609,
          610,
          611,
          612,
          613,
          614,
          615,
          616,
          617,
          618,
          619,
          620,
          621,
          622,
          623,
          624,
          625,
          626,
          627,
          628,
          629,
          630,
          631,
          632,
          633,
          634,
          635,
          636,
          637,
          638,
          639,
          640,
          641,
          642,
          643,
          644,
          645,
          646,
          647,
          648,
          649,
          650,
          651,
          652,
          653,
          654,
          655,
          656,
          657,
          658,
          659,
          660,
          661,
          662,
          663,
          664,
          665,
          666,
          667,
          668,
          669,
          670,
          671,
          672,
          673,
          674,
          675,
          676,
          677,
          678,
          679,
          680,
          681,
          682,
          683,
          684,
          685,
          686,
          687,
          688,
          689,
          690,
          691,
          692,
          693,
          694,
          695,
          696,
          697,
          698,
          699,
          700,
          701,
          702,
          703,
          704,
          705,
          706,
          707,
          708,
          709,
          710,
          711,
          712,
          713,
          714,
          715,
          716,
          717
         ],
         "xaxis": "x",
         "y": [
          null,
          null,
          null,
          null,
          null,
          null,
          null,
          null,
          null,
          116.006279668,
          118.284462988,
          118.90872269799999,
          115.190171208,
          111.065712659,
          118.68376524,
          121.94725615,
          124.48798621,
          125.180394417,
          126.230195937,
          124.034540857,
          125.097204917,
          128.40396160699999,
          133.626428247,
          138.739886396,
          135.085428916,
          139.936067036,
          136.35426499599998,
          141.76692,
          148.77223306000002,
          146.62903305,
          145.32231775,
          142.58601225,
          141.13379013,
          143.21103057,
          145.76703637,
          142.04550821000004,
          146.14527067,
          146.95377571,
          139.31786448000003,
          144.08151808,
          145.61191072000003,
          145.26015597,
          144.43404139,
          141.29775588,
          140.77968853,
          140.33566876000003,
          140.24188858,
          141.8617127,
          148.07000928,
          146.74160509,
          147.72755618000002,
          147.93604869,
          147.32119796,
          148.88294537,
          148.75342132,
          148.54900536,
          146.40514579999999,
          143.45282499,
          140.39072951999998,
          139.33841918,
          139.33454717,
          140.24809059999998,
          143.4507021,
          144.39441879,
          142.03141596,
          143.32110014,
          144.45538953,
          144.98137119,
          146.07022189,
          148.30811691000002,
          143.77774586,
          145.89295882000002,
          144.01375839000002,
          140.12273465,
          142.57538828000003,
          140.88573918,
          141.04020337000003,
          141.30428222,
          141.16289234,
          139.35925702,
          144.23465300000004,
          143.14395475999999,
          144.49141103,
          146.75669671999998,
          144.2515721,
          144.72696073,
          142.84232866,
          142.50141008,
          138.96525713,
          139.06979675,
          138.74393490000003,
          132.508296618,
          131.564710768,
          131.417985418,
          132.572335648,
          131.948488158,
          131.577653828,
          131.151681368,
          127.46539779099999,
          126.56927504100001,
          122.856245401,
          126.297217933,
          122.61167383299998,
          122.47871842299999,
          122.17566422299998,
          122.005061733,
          122.62039110300002,
          123.766603833,
          128.71288251000001,
          130.06213667999998,
          133.49460678,
          136.64353006,
          138.50872532,
          134.80743950000002,
          137.75155535,
          137.92582025,
          135.48490295999997,
          135.17426582000002,
          136.33357263,
          137.02713204000003,
          137.42102461,
          134.99533545,
          135.96321542,
          140.30826187,
          141.33568599,
          142.63987964999998,
          144.62853564000002,
          142.71088175,
          142.33577061,
          143.84347369,
          145.33259979,
          148.05636778000002,
          147.24955752,
          145.08517507,
          143.21726089999999,
          143.31806724,
          143.2278136,
          143.86919158999999,
          144.67102683000002,
          140.48532224000002,
          140.63390608999998,
          138.06432157,
          138.38122658,
          139.92280542,
          141.0637097,
          140.33353044,
          140.91360966,
          141.92097618,
          143.65257844,
          145.86287163000003,
          142.37019468,
          142.57851029,
          143.01098876,
          143.93381327,
          142.79667077000002,
          139.33394602,
          138.81721286,
          136.98364253,
          132.82169013,
          133.22753863999998,
          130.78000907,
          132.62914836,
          132.92852438,
          133.16892935,
          134.07779134,
          138.78465156,
          136.02185245,
          136.52988315,
          136.39151116,
          132.39124883,
          137.38521661,
          135.72265672999998,
          136.76415843,
          137.44403402999998,
          134.48820995,
          132.42899258,
          133.27847106,
          136.83381233,
          139.62284759,
          139.382021795,
          138.672041715,
          140.688035205,
          139.456164465,
          137.171330975,
          136.305761465,
          138.400524215,
          137.920902565,
          136.871922425,
          132.221618495,
          138.06360276,
          136.44654028999997,
          133.73185433999998,
          131.63567108,
          131.36988635,
          132.82000532,
          129.88013404,
          132.86364952000002,
          131.83592571,
          137.09103869999998,
          133.91717918,
          133.03623407,
          135.5502686,
          135.4758066,
          136.12271682,
          136.57372767,
          135.92839411,
          132.29821832,
          132.9084433,
          129.62210057,
          131.52634301999998,
          132.67072404,
          133.31944474000002,
          135.49169735,
          135.04971607,
          131.78479198999997,
          135.29269411,
          137.81578154,
          133.71891599999998,
          135.36415584000002,
          134.94816133,
          136.94436413,
          133.9970108,
          133.40500211,
          132.8019356,
          134.57496019,
          130.90539647,
          130.91185803000002,
          134.79024899,
          136.52574973,
          134.32796281999998,
          131.49297469,
          131.7861743,
          132.97247285,
          135.89185965,
          134.12950758000002,
          133.75442688,
          138.57636605,
          137.94765095999998,
          134.36985270999998,
          138.27226771,
          137.99043374000001,
          139.53119512,
          139.89184902,
          133.735406558,
          132.316048299,
          130.32698039000002,
          126.35585538999999,
          124.43304089,
          123.75860308000001,
          116.848767085,
          116.306938275,
          115.691455675,
          112.368994395,
          118.084695087,
          125.22502254599999,
          130.523954925,
          126.29109180500002,
          130.104003545,
          133.91279198499998,
          135.68402698,
          133.97696105,
          134.62023413,
          139.02752049999998,
          134.45156265999998,
          131.19380816,
          132.14262184,
          134.64687050999999,
          133.60023049,
          130.52903955,
          134.22752885999998,
          139.71962237999998,
          137.27218329,
          134.35650479999998,
          134.80307791,
          136.76910911,
          133.79205422,
          135.78311720000002,
          134.39190748000001,
          135.56762773,
          132.71111638,
          129.14867597000003,
          131.13978977,
          131.85616742,
          130.20555139100003,
          128.702788581,
          130.966233401,
          128.110633171,
          127.785169621,
          124.32561165788897,
          125.03020987919577,
          126.2232939333683,
          121.34456793437934,
          120.13269491841668,
          121.55014728632736,
          120.54844931966412,
          120.44231757417435,
          123.64924766996504,
          123.12237924976178,
          125.5033047560373,
          127.850673970343,
          128.76893839931503,
          134.73995100116218,
          137.07981029383106,
          140.97509603247653,
          142.6398593534674,
          139.32059627121077,
          137.8940665632408,
          140.13451229542036,
          140.91325445807905,
          142.47532745101097,
          139.96505935080867,
          135.5346796787389,
          137.29487252711937,
          136.35182229332275,
          136.2082130387585,
          137.52547044049086,
          139.59868790907007,
          138.47219704841868,
          137.6106087627682,
          133.23735656783526,
          137.71403970460057,
          143.18668674426297,
          137.77408541932863,
          139.73753679698012,
          141.65777276891546,
          143.8617030144917,
          142.86687806224262,
          145.83614109500303,
          146.37807632033096,
          149.1902289927265,
          143.13116409234848,
          140.03208938457226,
          142.67127390977205,
          141.51947785968053,
          136.7824904648867,
          136.33987702477347,
          138.14602019751078,
          136.95879373848234,
          140.1589091445508,
          141.16309717396064,
          149.265969586437,
          147.65012663733052,
          149.9693480574683,
          151.18457264618257,
          154.17113981583134,
          154.50131609858735,
          149.46643703795536,
          148.93245380129997,
          147.60919022122505,
          144.82843012760537,
          140.60880967937985,
          141.9188735029576,
          140.4733544825956,
          137.30099311755293,
          137.57531707209935,
          138.94680473251577,
          143.99753933733072,
          143.15952141942,
          139.8545703367199,
          143.13200015032788,
          145.08330672603222,
          148.451860723038,
          149.40600548569105,
          148.90745399851534,
          146.5768143715785,
          147.6540337720929,
          147.95210178309526,
          150.4383361918613,
          154.13176312572566,
          148.54476542346978,
          146.95769971981494,
          147.80878512476517,
          146.23504577916475,
          151.23164147086987,
          155.18919856043857,
          152.53190302340641,
          151.8015050505087,
          148.5918079516684,
          146.31207741531813,
          145.52062045345713,
          145.1464713234588,
          139.93546821245295,
          142.35325998849143,
          135.8344295563705,
          130.73848171291692,
          125.4316351029402,
          126.77295272793349,
          127.61771823254269,
          126.45220779094768,
          130.3647156328496,
          127.48986965654451,
          124.2276876006515,
          116.18285379807814,
          116.22670429951157,
          113.61713421847485,
          109.90551733915845,
          106.23154885062164,
          102.59593333400048,
          101.40593399369094,
          100.89552902703258,
          102.55507985744518,
          108.01623629247915,
          112.03351077757964,
          109.57000622402052,
          115.36870911723702,
          121.69111484435594,
          121.48856209339041,
          121.59208939073048,
          121.72610311730577,
          117.1011159132673,
          116.75740333344024,
          115.74511052256085,
          119.22166598329518,
          128.6630667226729,
          128.53856323832161,
          130.76712537971838,
          129.6425604494754,
          131.02965834776342,
          132.7234780033051,
          137.42807935351647,
          135.63445048555693,
          135.7480756834707,
          134.68867847882944,
          129.0841538686377,
          130.72530604904688,
          129.41966307098468,
          130.6344630334902,
          134.4400896440286,
          137.87846220427193,
          141.7585799358348,
          146.71361624815796,
          147.9616448831486,
          147.79441048781032,
          145.6672398229605,
          147.07206170465494,
          144.7515579406865,
          145.14265622683834,
          139.79283452635482,
          136.74774755218604,
          129.77477914807247,
          127.03330603864535,
          126.47008008560908,
          124.34900116630281,
          125.96485075057453,
          121.61638977578832,
          121.65992972565007,
          122.83322102262477,
          124.8180062090336,
          127.3914850406009,
          127.34481984932407,
          129.67696587991682,
          130.46938592221738,
          131.51658444394826,
          133.243651628515,
          132.66625709789628,
          136.27365686166772,
          134.82070127612346,
          137.84024666962316,
          136.68782112474497,
          140.42164523342643,
          136.44832913630307,
          133.52654183973215,
          134.3434457937392,
          131.24287485734004,
          132.16222934160385,
          130.06446650877137,
          127.27980412793575,
          123.49246096760392,
          121.75713336107351,
          123.78402991181092,
          127.3012037557005,
          128.95322471248494,
          130.50998096853291,
          132.64856352324676,
          137.69685302555524,
          138.2641735321733,
          142.90744650554456,
          144.4076111151362,
          141.25332809632414,
          137.35609736396418,
          136.692651302688,
          136.00142271206113,
          133.5296533574836,
          131.55781678045153,
          129.5059232518585,
          128.85811787323124,
          127.25390866187482,
          122.38539823030764,
          123.10295958715103,
          123.65359607123769,
          122.26457177181032,
          118.93873485629283,
          117.60665785595457,
          120.13865945171406,
          116.4717632790832,
          116.76923140334938,
          117.48042119256816,
          122.6311367770276,
          126.99305413874137,
          125.71610471339211,
          127.17833636273303,
          131.3748380286732,
          135.51431294455261,
          134.00087686053433,
          133.99964445087215,
          134.74529427629673,
          132.56192573687065,
          134.35715615659703,
          134.54778240068123,
          132.96289862222585,
          129.95793441255913,
          126.29022687778088,
          120.80190523713866,
          118.09930403342476,
          117.75645309428235,
          115.60953854800428,
          112.82995839201752,
          107.62725154064307,
          103.60587081325525,
          106.75360071112807,
          111.13539957328535,
          114.39128937484148,
          113.41429337647519,
          114.62267926883324,
          117.6523842916636,
          120.23428315696636,
          123.10602586093735,
          124.53427736724647,
          123.97724952218752,
          123.79032713569048,
          118.97136855213296,
          118.13327561345837,
          116.8197717094213,
          117.08971404907511,
          112.42236052664093,
          111.95038774206901,
          110.8128992686051,
          109.30822310805203,
          113.58883551448726,
          114.39258150525158,
          112.14887216347552,
          111.68607401814401,
          115.53250550965645,
          118.03990819752775,
          122.17269171080855,
          119.95037480343994,
          119.61394041965289,
          123.78511076814979,
          121.13609182470118,
          118.49578247369479,
          126.05973449910634,
          124.76419957058997,
          128.69335325045424,
          131.70496947620683,
          132.71926358698536,
          136.29887615419756,
          137.814613559322,
          134.9766316935664,
          139.2320488864806,
          143.01422174207224,
          139.88341131783034,
          139.36995555639683,
          136.32368046214222,
          131.50578671611956,
          125.91787820408763,
          123.9216632851309,
          124.78307131309433,
          123.67506879105603,
          119.60477498186667,
          116.63623013287717,
          118.15579600836618,
          120.07601595122996,
          117.60137051990148,
          120.10230016570893,
          122.28855124683591,
          124.06904934453942,
          122.96009363658061,
          125.98129802681599,
          130.99157715155343,
          132.32973159038409,
          130.2827898542335,
          135.0364977558025,
          135.84297656175312,
          135.30777353919999,
          137.14290823323063,
          138.41993398995737,
          137.61343237725606,
          135.9778011031119,
          131.62768228493408,
          130.0169413369904,
          133.16359082648736,
          127.75821297915965,
          130.35350318946,
          130.5841801396304,
          128.62809456650905,
          126.24068616695986,
          129.52974788593627,
          128.74799548019962,
          132.26419211276658,
          135.2011650146685,
          134.7915941151793,
          137.0917613305534,
          134.16074531312398,
          134.09028026009221,
          134.0369446986409,
          135.22666871601595,
          132.87037865020892,
          134.10920602877493,
          131.10727291794896,
          129.21740543472882,
          127.42598323340113,
          128.209167273364,
          131.4841448467375,
          133.44929175928428,
          131.73988812815514,
          131.67011938518684,
          131.97273309798337,
          131.7559522329602,
          130.46953179098708,
          130.99923256975217,
          131.04578855959664,
          127.33360593110895,
          123.78260444017035,
          119.37060861283055,
          121.0538418023383,
          119.24068988625295,
          118.63836686904214,
          119.52955617671103,
          121.33566918335325,
          124.37433563491008,
          126.42235498363705,
          129.0322267431859,
          134.296228999658,
          135.46785340400868,
          134.841930942127,
          137.37313769940937,
          139.06679863530337,
          138.03695962621666,
          138.2966295320025,
          137.56081311572228,
          134.66191222782172,
          134.79505198133543,
          133.99086264413864,
          137.67107452292862,
          139.004354896473,
          138.5885650912101,
          138.48186738307587,
          139.14968004472786,
          140.42269892280018,
          138.65645116190416,
          137.75169916589087,
          139.51290351466656,
          136.34124186758078,
          132.4677184113688,
          132.24692744283035,
          129.52499573522255,
          130.00263044782804,
          128.52533548603415,
          126.0672145446508,
          124.33477526151917,
          122.11173513995524,
          118.86810939644752,
          119.90340616310114,
          122.41427994118817,
          117.96906088760598,
          118.44536018550056,
          113.79735239377385,
          116.78827665751135,
          117.4640248216394,
          118.21970253595347,
          121.48019053390036,
          123.74335293927243,
          119.98147183182748,
          115.25821802202536,
          119.92275409979888,
          118.4984993669523,
          124.68623007687552,
          123.5751828253703,
          126.36341031259323,
          127.41170585402908,
          129.65891834358976,
          129.11512184486907,
          135.59729627364896,
          142.28988342090847,
          143.18751051016238,
          146.5491494882744,
          144.0540647103579,
          142.97847515332566,
          138.96362885733433,
          138.74249405719627,
          134.02980654575381,
          132.6391056817096,
          128.54566674466938,
          126.85085034835201,
          127.10422346782131,
          127.07226960511443,
          125.90653359829966,
          126.34002940738287,
          125.8126712026451,
          125.42302113718972,
          130.79177693513952,
          130.9485077343339,
          132.9016715947134,
          131.34692755371526,
          130.91978869201893,
          130.14789788282957,
          132.40530020442984,
          136.52143841075534,
          133.95311297027789,
          136.1558151805155,
          133.5587672606072,
          131.3336754086299,
          124.81957375109809,
          123.880578216813,
          126.2909999599589,
          126.22033630127387,
          125.56914594757862
         ],
         "yaxis": "y"
        },
        {
         "hovertemplate": "variable=Last 100 Avg<br>Test_Number=%{x}<br>value=%{y}<extra></extra>",
         "legendgroup": "Last 100 Avg",
         "line": {
          "color": "#00cc96",
          "dash": "solid"
         },
         "marker": {
          "symbol": "circle"
         },
         "mode": "lines",
         "name": "Last 100 Avg",
         "showlegend": true,
         "type": "scattergl",
         "x": [
          1,
          2,
          3,
          4,
          5,
          6,
          7,
          8,
          9,
          10,
          11,
          12,
          13,
          14,
          15,
          16,
          17,
          18,
          19,
          20,
          21,
          22,
          23,
          24,
          25,
          26,
          27,
          28,
          29,
          30,
          31,
          32,
          33,
          34,
          35,
          36,
          37,
          38,
          39,
          40,
          41,
          42,
          43,
          44,
          45,
          46,
          47,
          48,
          49,
          50,
          51,
          52,
          53,
          54,
          55,
          56,
          57,
          58,
          59,
          60,
          61,
          62,
          63,
          64,
          65,
          66,
          67,
          68,
          69,
          70,
          71,
          72,
          73,
          74,
          75,
          76,
          77,
          78,
          79,
          80,
          81,
          82,
          83,
          84,
          85,
          86,
          87,
          88,
          89,
          90,
          91,
          92,
          93,
          94,
          95,
          96,
          97,
          98,
          99,
          100,
          101,
          102,
          103,
          104,
          105,
          106,
          107,
          108,
          109,
          110,
          111,
          112,
          113,
          114,
          115,
          116,
          117,
          118,
          119,
          120,
          121,
          122,
          123,
          124,
          125,
          126,
          127,
          128,
          129,
          130,
          131,
          132,
          133,
          134,
          135,
          136,
          137,
          138,
          139,
          140,
          141,
          142,
          143,
          144,
          145,
          146,
          147,
          148,
          149,
          150,
          151,
          152,
          153,
          154,
          155,
          156,
          157,
          158,
          159,
          160,
          161,
          162,
          163,
          164,
          165,
          166,
          167,
          168,
          169,
          170,
          171,
          172,
          173,
          174,
          175,
          176,
          177,
          178,
          179,
          180,
          181,
          182,
          183,
          184,
          185,
          186,
          187,
          188,
          189,
          190,
          191,
          192,
          193,
          194,
          195,
          196,
          197,
          198,
          199,
          200,
          201,
          202,
          203,
          204,
          205,
          206,
          207,
          208,
          209,
          210,
          211,
          212,
          213,
          214,
          215,
          216,
          217,
          218,
          219,
          220,
          221,
          222,
          223,
          224,
          225,
          226,
          227,
          228,
          229,
          230,
          231,
          232,
          233,
          234,
          235,
          236,
          237,
          238,
          239,
          240,
          241,
          242,
          243,
          244,
          245,
          246,
          247,
          248,
          249,
          250,
          251,
          252,
          253,
          254,
          255,
          256,
          257,
          258,
          259,
          260,
          261,
          262,
          263,
          264,
          265,
          266,
          267,
          268,
          269,
          270,
          271,
          272,
          273,
          274,
          275,
          276,
          277,
          278,
          279,
          280,
          281,
          282,
          283,
          284,
          285,
          286,
          287,
          288,
          289,
          290,
          291,
          292,
          293,
          294,
          295,
          296,
          297,
          298,
          299,
          300,
          301,
          302,
          303,
          304,
          305,
          306,
          307,
          308,
          309,
          310,
          311,
          312,
          313,
          314,
          315,
          316,
          317,
          318,
          319,
          320,
          321,
          322,
          323,
          324,
          325,
          326,
          327,
          328,
          329,
          330,
          331,
          332,
          333,
          334,
          335,
          336,
          337,
          338,
          339,
          340,
          341,
          342,
          343,
          344,
          345,
          346,
          347,
          348,
          349,
          350,
          351,
          352,
          353,
          354,
          355,
          356,
          357,
          358,
          359,
          360,
          361,
          362,
          363,
          364,
          365,
          366,
          367,
          368,
          369,
          370,
          371,
          372,
          373,
          374,
          375,
          376,
          377,
          378,
          379,
          380,
          381,
          382,
          383,
          384,
          385,
          386,
          387,
          388,
          389,
          390,
          391,
          392,
          393,
          394,
          395,
          396,
          397,
          398,
          399,
          400,
          401,
          402,
          403,
          404,
          405,
          406,
          407,
          408,
          409,
          410,
          411,
          412,
          413,
          414,
          415,
          416,
          417,
          418,
          419,
          420,
          421,
          422,
          423,
          424,
          425,
          426,
          427,
          428,
          429,
          430,
          431,
          432,
          433,
          434,
          435,
          436,
          437,
          438,
          439,
          440,
          441,
          442,
          443,
          444,
          445,
          446,
          447,
          448,
          449,
          450,
          451,
          452,
          453,
          454,
          455,
          456,
          457,
          458,
          459,
          460,
          461,
          462,
          463,
          464,
          465,
          466,
          467,
          468,
          469,
          470,
          471,
          472,
          473,
          474,
          475,
          476,
          477,
          478,
          479,
          480,
          481,
          482,
          483,
          484,
          485,
          486,
          487,
          488,
          489,
          490,
          491,
          492,
          493,
          494,
          495,
          496,
          497,
          498,
          499,
          500,
          501,
          502,
          503,
          504,
          505,
          506,
          507,
          508,
          509,
          510,
          511,
          512,
          513,
          514,
          515,
          516,
          517,
          518,
          519,
          520,
          521,
          522,
          523,
          524,
          525,
          526,
          527,
          528,
          529,
          530,
          531,
          532,
          533,
          534,
          535,
          536,
          537,
          538,
          539,
          540,
          541,
          542,
          543,
          544,
          545,
          546,
          547,
          548,
          549,
          550,
          551,
          552,
          553,
          554,
          555,
          556,
          557,
          558,
          559,
          560,
          561,
          562,
          563,
          564,
          565,
          566,
          567,
          568,
          569,
          570,
          571,
          572,
          573,
          574,
          575,
          576,
          577,
          578,
          579,
          580,
          581,
          582,
          583,
          584,
          585,
          586,
          587,
          588,
          589,
          590,
          591,
          592,
          593,
          594,
          595,
          596,
          597,
          598,
          599,
          600,
          601,
          602,
          603,
          604,
          605,
          606,
          607,
          608,
          609,
          610,
          611,
          612,
          613,
          614,
          615,
          616,
          617,
          618,
          619,
          620,
          621,
          622,
          623,
          624,
          625,
          626,
          627,
          628,
          629,
          630,
          631,
          632,
          633,
          634,
          635,
          636,
          637,
          638,
          639,
          640,
          641,
          642,
          643,
          644,
          645,
          646,
          647,
          648,
          649,
          650,
          651,
          652,
          653,
          654,
          655,
          656,
          657,
          658,
          659,
          660,
          661,
          662,
          663,
          664,
          665,
          666,
          667,
          668,
          669,
          670,
          671,
          672,
          673,
          674,
          675,
          676,
          677,
          678,
          679,
          680,
          681,
          682,
          683,
          684,
          685,
          686,
          687,
          688,
          689,
          690,
          691,
          692,
          693,
          694,
          695,
          696,
          697,
          698,
          699,
          700,
          701,
          702,
          703,
          704,
          705,
          706,
          707,
          708,
          709,
          710,
          711,
          712,
          713,
          714,
          715,
          716,
          717
         ],
         "xaxis": "x",
         "y": [
          null,
          null,
          null,
          null,
          null,
          null,
          null,
          null,
          null,
          null,
          null,
          null,
          null,
          null,
          null,
          null,
          null,
          null,
          null,
          null,
          null,
          null,
          null,
          null,
          null,
          null,
          null,
          null,
          null,
          null,
          null,
          null,
          null,
          null,
          null,
          null,
          null,
          null,
          null,
          null,
          null,
          null,
          null,
          null,
          null,
          null,
          null,
          null,
          null,
          null,
          null,
          null,
          null,
          null,
          null,
          null,
          null,
          null,
          null,
          null,
          null,
          null,
          null,
          null,
          null,
          null,
          null,
          null,
          null,
          null,
          null,
          null,
          null,
          null,
          null,
          null,
          null,
          null,
          null,
          null,
          null,
          null,
          null,
          null,
          null,
          null,
          null,
          null,
          null,
          null,
          null,
          null,
          null,
          null,
          null,
          null,
          null,
          null,
          null,
          137.0137841646,
          137.0990578886,
          137.1185419946,
          136.7837885056,
          136.83678848760002,
          137.2675716587,
          137.5700855457,
          137.6170522747,
          138.2920976508,
          138.5157683938,
          138.4193698658,
          138.6200722678,
          138.89202273080002,
          139.1156439168,
          139.2109611717,
          139.1743506697,
          139.1679419557,
          138.7167439497,
          139.2914847911,
          139.5261060631,
          139.7186289841,
          139.8524542371,
          139.5511601151,
          139.34932263410002,
          139.36779871910002,
          139.7993763771,
          139.4383232171,
          139.5441710141,
          139.3858809661,
          138.8824598181,
          139.4400730481,
          139.8534824411,
          140.0981956681,
          139.9608993731,
          139.5552131691,
          139.5443988301,
          139.5655791201,
          139.2524253071,
          139.07742255410002,
          139.4177760531,
          139.0804534641,
          139.3556819781,
          139.3786122281,
          139.35561789209999,
          139.4177181231,
          139.57280094709998,
          139.5653652881,
          139.3195974151,
          139.0833489021,
          138.9760329691,
          138.99258011810002,
          138.8199458281,
          138.8428583881,
          138.92459697209998,
          138.92280491309998,
          138.97712589210002,
          138.64385935410002,
          138.5608041211,
          138.43643065610001,
          138.2191290301,
          138.3814920641,
          137.9644920181,
          138.0809641641,
          137.8723792001,
          137.80025596910002,
          138.1817634301,
          138.1902144961,
          137.71745041309998,
          137.5912818521,
          137.2512579571,
          136.78980525609998,
          137.32523909309998,
          137.0639339551,
          137.1474192041,
          137.5323859071,
          137.3730455971,
          137.3445398361,
          136.9412771821,
          137.1442348631,
          137.0972534821,
          136.7920817336,
          136.7689779646,
          136.8183419996,
          136.64389454759998,
          136.5738493326,
          136.5784645336,
          136.7118961846,
          136.4491345726,
          136.5812860976,
          136.42288961859998,
          136.6914623346,
          136.53923850360002,
          136.94069777180002,
          136.6509905788,
          136.5690394258,
          136.6032315008,
          136.5050607728,
          136.5777341418,
          136.6497105318,
          137.3854537095,
          137.4262527485,
          137.55723737050002,
          137.86600283849998,
          137.9374038555,
          137.9334392655,
          138.04303784549998,
          137.8973940105,
          137.54551686349998,
          137.56389447849998,
          137.4763755155,
          137.5726733825,
          137.4748490965,
          137.5335943065,
          137.6357010585,
          137.95766692249998,
          137.4463615095,
          137.6340813965,
          137.77860472150002,
          137.41835949650002,
          137.3794338365,
          137.3647763115,
          137.42718304849998,
          137.4337618415,
          137.3798797275,
          137.2070342955,
          136.7702889295,
          136.4606330785,
          136.40693696050002,
          136.6262962205,
          136.7984317485,
          136.4132252245,
          136.0432205385,
          135.8067424935,
          135.9521712605,
          136.28770275349999,
          135.8615135975,
          135.5042690425,
          135.9417922055,
          136.03414215749999,
          135.7683143365,
          136.1919197715,
          135.7788733035,
          135.9534298485,
          136.1032335045,
          135.6689628673,
          134.98674745739999,
          134.5036140375,
          134.48601677850002,
          134.2853486285,
          133.7789168005,
          133.290509317,
          133.17254766300002,
          133.264724387,
          133.039034068,
          133.084051049,
          133.22958263499999,
          133.622614928,
          133.233404673,
          133.59738473000002,
          133.888026986,
          133.536158151,
          133.492242861,
          133.463832964,
          133.64893368,
          133.21231437999998,
          132.941184317,
          132.958411956,
          133.095906479,
          133.304419464,
          133.30177982499998,
          133.719786154,
          133.725683438,
          133.61878562,
          133.408168317,
          132.94821876799998,
          133.169274233,
          133.09471812,
          133.346371093,
          133.06022897900002,
          132.896257839,
          133.0526956125,
          132.77334686350002,
          132.6639610765,
          132.6481686125,
          132.25164080960002,
          132.4089769446,
          132.35128903860002,
          132.3653441536,
          132.1515536986,
          132.1066571552889,
          131.74935632441958,
          131.7510222278368,
          131.42523243593794,
          131.49787099634167,
          131.26966690323275,
          131.1818213445664,
          131.40750739201744,
          131.44390396859652,
          131.2801990525762,
          130.9478837608926,
          131.14270580345388,
          131.32429266076832,
          131.34420067605416,
          131.65827136572477,
          131.75490482448038,
          131.78843451291314,
          131.7467276081385,
          132.0034887929206,
          132.00280595211822,
          132.07699914970053,
          132.23760424655495,
          132.0537261918492,
          131.56572416992805,
          131.83858888343673,
          131.88511544681268,
          132.230776617789,
          131.9700052411876,
          132.18177942982757,
          132.47813405696007,
          132.30164444197734,
          132.0665237703385,
          132.13069374930927,
          132.48469176435435,
          132.27549721436958,
          132.5786755665107,
          132.93905787568056,
          133.26563589563676,
          133.37728143305185,
          133.58272326746038,
          133.28687710101045,
          133.55275038761113,
          133.2945126895441,
          133.30928327281157,
          133.2453773203468,
          133.14143738747873,
          133.2043561641692,
          133.52418091011413,
          133.33424684780294,
          133.48383754530863,
          133.86578274446552,
          133.84183333400722,
          134.4220662741878,
          134.12117642454461,
          134.25312722409362,
          134.88635399629698,
          135.38986531585238,
          135.94161448097285,
          135.64530501259844,
          135.93377883643862,
          136.250841458588,
          136.63979963826773,
          136.8522534146258,
          136.74391820734039,
          137.06356323285317,
          136.8079837993523,
          136.6248947684623,
          136.78389946172445,
          137.41594976583153,
          137.23933062388062,
          136.84501929376,
          137.38459695530054,
          137.96288798222903,
          138.12708086664418,
          138.10141173142227,
          138.25357293320383,
          138.1631953896201,
          138.33504065493372,
          138.74647289314106,
          138.92314119406674,
          139.20529165133257,
          138.8163206116475,
          138.6866957162105,
          139.18074105012067,
          139.28926582933875,
          139.8964292892908,
          140.005204334664,
          140.20902553527435,
          140.34831167819192,
          140.34313124123358,
          140.2797366198644,
          140.09727101899324,
          140.2864752515564,
          140.06030889436602,
          140.3389750861879,
          140.45931710582784,
          140.20877364785568,
          139.65556570546838,
          140.21454363388528,
          140.32638610238786,
          140.49239623317027,
          140.6307215943586,
          140.413132823874,
          140.3486208609932,
          139.94399097415405,
          139.92697280714629,
          139.51564213773676,
          138.6018856819668,
          138.47277375195094,
          138.27374151081173,
          138.08265915693562,
          137.93520710002755,
          137.79174696968704,
          137.6762493901249,
          137.43936102252889,
          136.7864638263007,
          136.78852711411372,
          136.83893753928132,
          136.8322233049659,
          136.41949922034274,
          136.16394402285832,
          135.3977859462532,
          135.47098136795017,
          135.6972924745071,
          135.63204036814648,
          136.0175882692357,
          136.02156213407002,
          136.16310303320407,
          135.83661055900643,
          135.6752453502772,
          135.67523094691197,
          135.81685822482132,
          135.26302244604582,
          134.95343136842786,
          135.32349967409655,
          134.95224997640145,
          134.92831546208316,
          134.71889903885335,
          134.6133690561312,
          134.53564020517976,
          134.8252695353061,
          135.07369331913216,
          135.62126766162677,
          135.7463869182855,
          135.83581333190037,
          135.36702617272945,
          135.95727258606001,
          135.56006713044465,
          135.31303265906394,
          134.819044283967,
          134.48415337606963,
          133.93486151654332,
          133.3980013068476,
          133.62838226311337,
          133.27377864278384,
          132.84505398316864,
          132.7017975820557,
          132.27592849315093,
          132.6497110575309,
          132.4075995247404,
          132.4623828580072,
          132.1865004887152,
          132.30481692690128,
          132.48343350503933,
          132.37810163891908,
          132.43931983426484,
          132.2108915846354,
          132.00861370606614,
          131.7320272514102,
          131.87567204976068,
          132.1457079368097,
          131.91546499702505,
          131.44131916792838,
          130.99090161670875,
          130.8718456697239,
          130.6728619201473,
          130.7694330816379,
          130.24965697973397,
          129.6647974858942,
          129.18108452733495,
          128.90824496034452,
          129.43939144585917,
          129.47566957151693,
          129.10534557548073,
          129.29933918866072,
          128.814554125385,
          129.02019852814956,
          128.82288403061065,
          128.7753916313978,
          128.76266484368173,
          128.40237002844512,
          128.62293913690988,
          128.63028756943987,
          128.71194102544155,
          128.41697852555993,
          128.3868928477931,
          128.89694268204374,
          129.16553230763978,
          128.82348722479193,
          128.23943284345825,
          128.06744520806544,
          127.9518271807487,
          128.10775778096644,
          128.1830457510057,
          128.5593589313476,
          128.77808836301335,
          129.1824055881046,
          129.85190371405884,
          129.9483744589866,
          130.24295318776095,
          130.6261572225705,
          130.43388474938465,
          130.57008343149522,
          130.51890592462507,
          130.9074391480449,
          131.22117542666473,
          131.04549912146808,
          131.15732165725294,
          131.0557108233346,
          131.5194598643476,
          131.908325150908,
          132.0200630202805,
          131.8901365394071,
          131.57341756014708,
          131.06546307342924,
          130.16479915773994,
          129.96728810706418,
          129.64156297408152,
          129.37445061758882,
          129.17921918363558,
          128.99656443190304,
          128.95261515604167,
          129.44023144817996,
          129.43773892928417,
          128.9380245631938,
          128.7186516977595,
          128.65999593132582,
          128.7230249826797,
          128.62160690033355,
          128.18863795595735,
          127.6064431636946,
          127.15578987602723,
          126.66600667857745,
          126.45490200231514,
          125.8405606853549,
          125.86089912037092,
          125.19502581352444,
          125.44290796281794,
          125.18863120451022,
          125.14017681412706,
          125.29055195992473,
          125.61757011174515,
          125.17756329106047,
          124.97650139556863,
          124.95891111969027,
          125.06840486506626,
          125.25065600702646,
          125.27195247059693,
          124.86670314421302,
          125.03688727003869,
          124.66501263833476,
          124.73266637418223,
          124.81584015297942,
          124.40598276040589,
          124.67658800034087,
          124.91453664983544,
          125.25595665593536,
          125.27447439984991,
          125.16609437253287,
          124.75052577243304,
          124.9194354145083,
          124.99192402504679,
          125.15934837113214,
          124.99032413207236,
          124.87461146718118,
          124.9408278357134,
          124.63152154218375,
          124.66019407748587,
          124.91642109104875,
          124.76878655477823,
          124.70419957658764,
          124.27714404715341,
          124.24480759639872,
          124.10260325594687,
          123.58375042231802,
          123.68620149995961,
          123.09069136431182,
          123.24068165872248,
          122.92168580415233,
          122.9261552459462,
          123.67802448211054,
          123.77450746979541,
          123.60382145155324,
          124.00611076032101,
          123.81508274274498,
          124.06119717583447,
          123.85438986244903,
          124.1968632703951,
          123.95763817569046,
          124.28539553322662,
          124.53049675188886,
          124.41084199637068,
          124.69372335702096,
          124.88805857260768,
          125.08976727609551,
          125.10574924462608,
          125.07002299119162,
          125.14400874675616,
          125.16257084502728,
          124.89708140354384,
          125.05761054929137,
          125.35934802649832,
          125.4550491322656,
          125.45975090279569,
          124.95441051295268,
          125.11468958458188,
          125.07375301596849,
          125.19214619072807,
          125.19341613636111,
          124.87228639076164,
          124.71355960101815,
          124.98479870774861,
          125.20185401434979,
          125.65164494235401,
          126.02263447391253,
          126.64968835716783,
          126.47209651935576,
          126.79820427444632,
          127.1076936069577,
          127.28515645999335,
          127.39992569879134,
          127.40936189361102,
          127.19289291298094,
          126.94587659798076,
          127.05946558028207,
          127.12448129156755,
          126.81224227042325,
          126.69884494737498,
          126.66092770776817,
          126.78468434093979,
          127.1357676649079,
          127.46776274353299,
          127.93799155613132,
          128.03577171095353,
          128.80711130930575,
          128.96229522706093,
          129.05419931197184,
          129.24111994310903,
          129.48631764443797,
          129.65755799275627,
          129.60654706665943,
          129.78458590458004,
          130.18929556256597,
          130.34666950727265,
          130.65294702275395,
          130.925411859601,
          130.7373656305383,
          131.10493897188604,
          131.3731103407803,
          131.19401492041405,
          131.53520777646932,
          131.80065277340097,
          131.35849202924442,
          131.8215399016803,
          131.4177358844666,
          131.0016867531172,
          130.6901320161228,
          130.42755092998854,
          130.59191202963092,
          130.54888529966084,
          130.21872434228635,
          129.9327081253457,
          129.5813244114569,
          129.7713552856854,
          129.7757084545625,
          130.09253607562405,
          129.89525028447463,
          129.8799206200255,
          129.49334013769882,
          129.86020608630636,
          130.0046493262636,
          130.09105536565332,
          129.91376386401032,
          130.13808898448963,
          130.0137185857551,
          129.6081278612557,
          129.65867056977092,
          129.3228656222668,
          129.66595378172835,
          129.6195945661618,
          129.5418326423676,
          129.5992527920178,
          129.85137671294595,
          129.54595139339628,
          129.9891505569447,
          130.30633884942657,
          130.2631307974641,
          130.13578717209847,
          130.3100170150385,
          130.31966197118317,
          130.27542729960763,
          130.4718080640384,
          129.9379982848726,
          130.0340406636513,
          129.80836691246563,
          129.9330058702987,
          130.11074368759535,
          130.21894551591396,
          129.94769558627488,
          130.0788653639015,
          129.6302752085955,
          129.49399367629053,
          129.5380165668686,
          129.41971530402935,
          129.68245954062456,
          129.658670599661,
          129.79902808693313,
          129.71106843259528,
          129.90118774169693,
          130.32008860209953,
          129.91485921382838,
          130.18783465086918,
          130.15129496958923,
          129.73216611755592,
          129.01600243106063,
          128.70179924541387,
          129.2541392701135,
          129.166090124204,
          129.2608290266565
         ],
         "yaxis": "y"
        },
        {
         "hovertemplate": "variable=Last 1000 Avg<br>Test_Number=%{x}<br>value=%{y}<extra></extra>",
         "legendgroup": "Last 1000 Avg",
         "line": {
          "color": "#ab63fa",
          "dash": "solid"
         },
         "marker": {
          "symbol": "circle"
         },
         "mode": "lines",
         "name": "Last 1000 Avg",
         "showlegend": true,
         "type": "scattergl",
         "x": [
          1,
          2,
          3,
          4,
          5,
          6,
          7,
          8,
          9,
          10,
          11,
          12,
          13,
          14,
          15,
          16,
          17,
          18,
          19,
          20,
          21,
          22,
          23,
          24,
          25,
          26,
          27,
          28,
          29,
          30,
          31,
          32,
          33,
          34,
          35,
          36,
          37,
          38,
          39,
          40,
          41,
          42,
          43,
          44,
          45,
          46,
          47,
          48,
          49,
          50,
          51,
          52,
          53,
          54,
          55,
          56,
          57,
          58,
          59,
          60,
          61,
          62,
          63,
          64,
          65,
          66,
          67,
          68,
          69,
          70,
          71,
          72,
          73,
          74,
          75,
          76,
          77,
          78,
          79,
          80,
          81,
          82,
          83,
          84,
          85,
          86,
          87,
          88,
          89,
          90,
          91,
          92,
          93,
          94,
          95,
          96,
          97,
          98,
          99,
          100,
          101,
          102,
          103,
          104,
          105,
          106,
          107,
          108,
          109,
          110,
          111,
          112,
          113,
          114,
          115,
          116,
          117,
          118,
          119,
          120,
          121,
          122,
          123,
          124,
          125,
          126,
          127,
          128,
          129,
          130,
          131,
          132,
          133,
          134,
          135,
          136,
          137,
          138,
          139,
          140,
          141,
          142,
          143,
          144,
          145,
          146,
          147,
          148,
          149,
          150,
          151,
          152,
          153,
          154,
          155,
          156,
          157,
          158,
          159,
          160,
          161,
          162,
          163,
          164,
          165,
          166,
          167,
          168,
          169,
          170,
          171,
          172,
          173,
          174,
          175,
          176,
          177,
          178,
          179,
          180,
          181,
          182,
          183,
          184,
          185,
          186,
          187,
          188,
          189,
          190,
          191,
          192,
          193,
          194,
          195,
          196,
          197,
          198,
          199,
          200,
          201,
          202,
          203,
          204,
          205,
          206,
          207,
          208,
          209,
          210,
          211,
          212,
          213,
          214,
          215,
          216,
          217,
          218,
          219,
          220,
          221,
          222,
          223,
          224,
          225,
          226,
          227,
          228,
          229,
          230,
          231,
          232,
          233,
          234,
          235,
          236,
          237,
          238,
          239,
          240,
          241,
          242,
          243,
          244,
          245,
          246,
          247,
          248,
          249,
          250,
          251,
          252,
          253,
          254,
          255,
          256,
          257,
          258,
          259,
          260,
          261,
          262,
          263,
          264,
          265,
          266,
          267,
          268,
          269,
          270,
          271,
          272,
          273,
          274,
          275,
          276,
          277,
          278,
          279,
          280,
          281,
          282,
          283,
          284,
          285,
          286,
          287,
          288,
          289,
          290,
          291,
          292,
          293,
          294,
          295,
          296,
          297,
          298,
          299,
          300,
          301,
          302,
          303,
          304,
          305,
          306,
          307,
          308,
          309,
          310,
          311,
          312,
          313,
          314,
          315,
          316,
          317,
          318,
          319,
          320,
          321,
          322,
          323,
          324,
          325,
          326,
          327,
          328,
          329,
          330,
          331,
          332,
          333,
          334,
          335,
          336,
          337,
          338,
          339,
          340,
          341,
          342,
          343,
          344,
          345,
          346,
          347,
          348,
          349,
          350,
          351,
          352,
          353,
          354,
          355,
          356,
          357,
          358,
          359,
          360,
          361,
          362,
          363,
          364,
          365,
          366,
          367,
          368,
          369,
          370,
          371,
          372,
          373,
          374,
          375,
          376,
          377,
          378,
          379,
          380,
          381,
          382,
          383,
          384,
          385,
          386,
          387,
          388,
          389,
          390,
          391,
          392,
          393,
          394,
          395,
          396,
          397,
          398,
          399,
          400,
          401,
          402,
          403,
          404,
          405,
          406,
          407,
          408,
          409,
          410,
          411,
          412,
          413,
          414,
          415,
          416,
          417,
          418,
          419,
          420,
          421,
          422,
          423,
          424,
          425,
          426,
          427,
          428,
          429,
          430,
          431,
          432,
          433,
          434,
          435,
          436,
          437,
          438,
          439,
          440,
          441,
          442,
          443,
          444,
          445,
          446,
          447,
          448,
          449,
          450,
          451,
          452,
          453,
          454,
          455,
          456,
          457,
          458,
          459,
          460,
          461,
          462,
          463,
          464,
          465,
          466,
          467,
          468,
          469,
          470,
          471,
          472,
          473,
          474,
          475,
          476,
          477,
          478,
          479,
          480,
          481,
          482,
          483,
          484,
          485,
          486,
          487,
          488,
          489,
          490,
          491,
          492,
          493,
          494,
          495,
          496,
          497,
          498,
          499,
          500,
          501,
          502,
          503,
          504,
          505,
          506,
          507,
          508,
          509,
          510,
          511,
          512,
          513,
          514,
          515,
          516,
          517,
          518,
          519,
          520,
          521,
          522,
          523,
          524,
          525,
          526,
          527,
          528,
          529,
          530,
          531,
          532,
          533,
          534,
          535,
          536,
          537,
          538,
          539,
          540,
          541,
          542,
          543,
          544,
          545,
          546,
          547,
          548,
          549,
          550,
          551,
          552,
          553,
          554,
          555,
          556,
          557,
          558,
          559,
          560,
          561,
          562,
          563,
          564,
          565,
          566,
          567,
          568,
          569,
          570,
          571,
          572,
          573,
          574,
          575,
          576,
          577,
          578,
          579,
          580,
          581,
          582,
          583,
          584,
          585,
          586,
          587,
          588,
          589,
          590,
          591,
          592,
          593,
          594,
          595,
          596,
          597,
          598,
          599,
          600,
          601,
          602,
          603,
          604,
          605,
          606,
          607,
          608,
          609,
          610,
          611,
          612,
          613,
          614,
          615,
          616,
          617,
          618,
          619,
          620,
          621,
          622,
          623,
          624,
          625,
          626,
          627,
          628,
          629,
          630,
          631,
          632,
          633,
          634,
          635,
          636,
          637,
          638,
          639,
          640,
          641,
          642,
          643,
          644,
          645,
          646,
          647,
          648,
          649,
          650,
          651,
          652,
          653,
          654,
          655,
          656,
          657,
          658,
          659,
          660,
          661,
          662,
          663,
          664,
          665,
          666,
          667,
          668,
          669,
          670,
          671,
          672,
          673,
          674,
          675,
          676,
          677,
          678,
          679,
          680,
          681,
          682,
          683,
          684,
          685,
          686,
          687,
          688,
          689,
          690,
          691,
          692,
          693,
          694,
          695,
          696,
          697,
          698,
          699,
          700,
          701,
          702,
          703,
          704,
          705,
          706,
          707,
          708,
          709,
          710,
          711,
          712,
          713,
          714,
          715,
          716,
          717
         ],
         "xaxis": "x",
         "y": [
          null,
          null,
          null,
          null,
          null,
          null,
          null,
          null,
          null,
          null,
          null,
          null,
          null,
          null,
          null,
          null,
          null,
          null,
          null,
          null,
          null,
          null,
          null,
          null,
          null,
          null,
          null,
          null,
          null,
          null,
          null,
          null,
          null,
          null,
          null,
          null,
          null,
          null,
          null,
          null,
          null,
          null,
          null,
          null,
          null,
          null,
          null,
          null,
          null,
          null,
          null,
          null,
          null,
          null,
          null,
          null,
          null,
          null,
          null,
          null,
          null,
          null,
          null,
          null,
          null,
          null,
          null,
          null,
          null,
          null,
          null,
          null,
          null,
          null,
          null,
          null,
          null,
          null,
          null,
          null,
          null,
          null,
          null,
          null,
          null,
          null,
          null,
          null,
          null,
          null,
          null,
          null,
          null,
          null,
          null,
          null,
          null,
          null,
          null,
          null,
          null,
          null,
          null,
          null,
          null,
          null,
          null,
          null,
          null,
          null,
          null,
          null,
          null,
          null,
          null,
          null,
          null,
          null,
          null,
          null,
          null,
          null,
          null,
          null,
          null,
          null,
          null,
          null,
          null,
          null,
          null,
          null,
          null,
          null,
          null,
          null,
          null,
          null,
          null,
          null,
          null,
          null,
          null,
          null,
          null,
          null,
          null,
          null,
          null,
          null,
          null,
          null,
          null,
          null,
          null,
          null,
          null,
          null,
          null,
          null,
          null,
          null,
          null,
          null,
          null,
          null,
          null,
          null,
          null,
          null,
          null,
          null,
          null,
          null,
          null,
          null,
          null,
          null,
          null,
          null,
          null,
          null,
          null,
          null,
          null,
          null,
          null,
          null,
          null,
          null,
          null,
          null,
          null,
          null,
          null,
          null,
          null,
          null,
          null,
          null,
          null,
          null,
          null,
          null,
          null,
          null,
          null,
          null,
          null,
          null,
          null,
          null,
          null,
          null,
          null,
          null,
          null,
          null,
          null,
          null,
          null,
          null,
          null,
          null,
          null,
          null,
          null,
          null,
          null,
          null,
          null,
          null,
          null,
          null,
          null,
          null,
          null,
          null,
          null,
          null,
          null,
          null,
          null,
          null,
          null,
          null,
          null,
          null,
          null,
          null,
          null,
          null,
          null,
          null,
          null,
          null,
          null,
          null,
          null,
          null,
          null,
          null,
          null,
          null,
          null,
          null,
          null,
          null,
          null,
          null,
          null,
          null,
          null,
          null,
          null,
          null,
          null,
          null,
          null,
          null,
          null,
          null,
          null,
          null,
          null,
          null,
          null,
          null,
          null,
          null,
          null,
          null,
          null,
          null,
          null,
          null,
          null,
          null,
          null,
          null,
          null,
          null,
          null,
          null,
          null,
          null,
          null,
          null,
          null,
          null,
          null,
          null,
          null,
          null,
          null,
          null,
          null,
          null,
          null,
          null,
          null,
          null,
          null,
          null,
          null,
          null,
          null,
          null,
          null,
          null,
          null,
          null,
          null,
          null,
          null,
          null,
          null,
          null,
          null,
          null,
          null,
          null,
          null,
          null,
          null,
          null,
          null,
          null,
          null,
          null,
          null,
          null,
          null,
          null,
          null,
          null,
          null,
          null,
          null,
          null,
          null,
          null,
          null,
          null,
          null,
          null,
          null,
          null,
          null,
          null,
          null,
          null,
          null,
          null,
          null,
          null,
          null,
          null,
          null,
          null,
          null,
          null,
          null,
          null,
          null,
          null,
          null,
          null,
          null,
          null,
          null,
          null,
          null,
          null,
          null,
          null,
          null,
          null,
          null,
          null,
          null,
          null,
          null,
          null,
          null,
          null,
          null,
          null,
          null,
          null,
          null,
          null,
          null,
          null,
          null,
          null,
          null,
          null,
          null,
          null,
          null,
          null,
          null,
          null,
          null,
          null,
          null,
          null,
          null,
          null,
          null,
          null,
          null,
          null,
          null,
          null,
          null,
          null,
          null,
          null,
          null,
          null,
          null,
          null,
          null,
          null,
          null,
          null,
          null,
          null,
          null,
          null,
          null,
          null,
          null,
          null,
          null,
          null,
          null,
          null,
          null,
          null,
          null,
          null,
          null,
          null,
          null,
          null,
          null,
          null,
          null,
          null,
          null,
          null,
          null,
          null,
          null,
          null,
          null,
          null,
          null,
          null,
          null,
          null,
          null,
          null,
          null,
          null,
          null,
          null,
          null,
          null,
          null,
          null,
          null,
          null,
          null,
          null,
          null,
          null,
          null,
          null,
          null,
          null,
          null,
          null,
          null,
          null,
          null,
          null,
          null,
          null,
          null,
          null,
          null,
          null,
          null,
          null,
          null,
          null,
          null,
          null,
          null,
          null,
          null,
          null,
          null,
          null,
          null,
          null,
          null,
          null,
          null,
          null,
          null,
          null,
          null,
          null,
          null,
          null,
          null,
          null,
          null,
          null,
          null,
          null,
          null,
          null,
          null,
          null,
          null,
          null,
          null,
          null,
          null,
          null,
          null,
          null,
          null,
          null,
          null,
          null,
          null,
          null,
          null,
          null,
          null,
          null,
          null,
          null,
          null,
          null,
          null,
          null,
          null,
          null,
          null,
          null,
          null,
          null,
          null,
          null,
          null,
          null,
          null,
          null,
          null,
          null,
          null,
          null,
          null,
          null,
          null,
          null,
          null,
          null,
          null,
          null,
          null,
          null,
          null,
          null,
          null,
          null,
          null,
          null,
          null,
          null,
          null,
          null,
          null,
          null,
          null,
          null,
          null,
          null,
          null,
          null,
          null,
          null,
          null,
          null,
          null,
          null,
          null,
          null,
          null,
          null,
          null,
          null,
          null,
          null,
          null,
          null,
          null,
          null,
          null,
          null,
          null,
          null,
          null,
          null,
          null,
          null,
          null,
          null,
          null,
          null,
          null,
          null,
          null,
          null,
          null,
          null,
          null,
          null,
          null,
          null,
          null,
          null,
          null,
          null,
          null,
          null,
          null,
          null,
          null,
          null,
          null,
          null,
          null,
          null,
          null,
          null,
          null,
          null,
          null,
          null,
          null,
          null,
          null,
          null,
          null,
          null,
          null,
          null,
          null,
          null,
          null,
          null,
          null,
          null,
          null,
          null,
          null,
          null,
          null,
          null,
          null,
          null,
          null,
          null,
          null,
          null,
          null,
          null,
          null,
          null,
          null,
          null,
          null,
          null,
          null,
          null,
          null,
          null,
          null
         ],
         "yaxis": "y"
        },
        {
         "hovertemplate": "variable=cumulative_avg<br>Test_Number=%{x}<br>value=%{y}<extra></extra>",
         "legendgroup": "cumulative_avg",
         "line": {
          "color": "#FFA15A",
          "dash": "solid"
         },
         "marker": {
          "symbol": "circle"
         },
         "mode": "lines",
         "name": "cumulative_avg",
         "showlegend": true,
         "type": "scattergl",
         "x": [
          1,
          2,
          3,
          4,
          5,
          6,
          7,
          8,
          9,
          10,
          11,
          12,
          13,
          14,
          15,
          16,
          17,
          18,
          19,
          20,
          21,
          22,
          23,
          24,
          25,
          26,
          27,
          28,
          29,
          30,
          31,
          32,
          33,
          34,
          35,
          36,
          37,
          38,
          39,
          40,
          41,
          42,
          43,
          44,
          45,
          46,
          47,
          48,
          49,
          50,
          51,
          52,
          53,
          54,
          55,
          56,
          57,
          58,
          59,
          60,
          61,
          62,
          63,
          64,
          65,
          66,
          67,
          68,
          69,
          70,
          71,
          72,
          73,
          74,
          75,
          76,
          77,
          78,
          79,
          80,
          81,
          82,
          83,
          84,
          85,
          86,
          87,
          88,
          89,
          90,
          91,
          92,
          93,
          94,
          95,
          96,
          97,
          98,
          99,
          100,
          101,
          102,
          103,
          104,
          105,
          106,
          107,
          108,
          109,
          110,
          111,
          112,
          113,
          114,
          115,
          116,
          117,
          118,
          119,
          120,
          121,
          122,
          123,
          124,
          125,
          126,
          127,
          128,
          129,
          130,
          131,
          132,
          133,
          134,
          135,
          136,
          137,
          138,
          139,
          140,
          141,
          142,
          143,
          144,
          145,
          146,
          147,
          148,
          149,
          150,
          151,
          152,
          153,
          154,
          155,
          156,
          157,
          158,
          159,
          160,
          161,
          162,
          163,
          164,
          165,
          166,
          167,
          168,
          169,
          170,
          171,
          172,
          173,
          174,
          175,
          176,
          177,
          178,
          179,
          180,
          181,
          182,
          183,
          184,
          185,
          186,
          187,
          188,
          189,
          190,
          191,
          192,
          193,
          194,
          195,
          196,
          197,
          198,
          199,
          200,
          201,
          202,
          203,
          204,
          205,
          206,
          207,
          208,
          209,
          210,
          211,
          212,
          213,
          214,
          215,
          216,
          217,
          218,
          219,
          220,
          221,
          222,
          223,
          224,
          225,
          226,
          227,
          228,
          229,
          230,
          231,
          232,
          233,
          234,
          235,
          236,
          237,
          238,
          239,
          240,
          241,
          242,
          243,
          244,
          245,
          246,
          247,
          248,
          249,
          250,
          251,
          252,
          253,
          254,
          255,
          256,
          257,
          258,
          259,
          260,
          261,
          262,
          263,
          264,
          265,
          266,
          267,
          268,
          269,
          270,
          271,
          272,
          273,
          274,
          275,
          276,
          277,
          278,
          279,
          280,
          281,
          282,
          283,
          284,
          285,
          286,
          287,
          288,
          289,
          290,
          291,
          292,
          293,
          294,
          295,
          296,
          297,
          298,
          299,
          300,
          301,
          302,
          303,
          304,
          305,
          306,
          307,
          308,
          309,
          310,
          311,
          312,
          313,
          314,
          315,
          316,
          317,
          318,
          319,
          320,
          321,
          322,
          323,
          324,
          325,
          326,
          327,
          328,
          329,
          330,
          331,
          332,
          333,
          334,
          335,
          336,
          337,
          338,
          339,
          340,
          341,
          342,
          343,
          344,
          345,
          346,
          347,
          348,
          349,
          350,
          351,
          352,
          353,
          354,
          355,
          356,
          357,
          358,
          359,
          360,
          361,
          362,
          363,
          364,
          365,
          366,
          367,
          368,
          369,
          370,
          371,
          372,
          373,
          374,
          375,
          376,
          377,
          378,
          379,
          380,
          381,
          382,
          383,
          384,
          385,
          386,
          387,
          388,
          389,
          390,
          391,
          392,
          393,
          394,
          395,
          396,
          397,
          398,
          399,
          400,
          401,
          402,
          403,
          404,
          405,
          406,
          407,
          408,
          409,
          410,
          411,
          412,
          413,
          414,
          415,
          416,
          417,
          418,
          419,
          420,
          421,
          422,
          423,
          424,
          425,
          426,
          427,
          428,
          429,
          430,
          431,
          432,
          433,
          434,
          435,
          436,
          437,
          438,
          439,
          440,
          441,
          442,
          443,
          444,
          445,
          446,
          447,
          448,
          449,
          450,
          451,
          452,
          453,
          454,
          455,
          456,
          457,
          458,
          459,
          460,
          461,
          462,
          463,
          464,
          465,
          466,
          467,
          468,
          469,
          470,
          471,
          472,
          473,
          474,
          475,
          476,
          477,
          478,
          479,
          480,
          481,
          482,
          483,
          484,
          485,
          486,
          487,
          488,
          489,
          490,
          491,
          492,
          493,
          494,
          495,
          496,
          497,
          498,
          499,
          500,
          501,
          502,
          503,
          504,
          505,
          506,
          507,
          508,
          509,
          510,
          511,
          512,
          513,
          514,
          515,
          516,
          517,
          518,
          519,
          520,
          521,
          522,
          523,
          524,
          525,
          526,
          527,
          528,
          529,
          530,
          531,
          532,
          533,
          534,
          535,
          536,
          537,
          538,
          539,
          540,
          541,
          542,
          543,
          544,
          545,
          546,
          547,
          548,
          549,
          550,
          551,
          552,
          553,
          554,
          555,
          556,
          557,
          558,
          559,
          560,
          561,
          562,
          563,
          564,
          565,
          566,
          567,
          568,
          569,
          570,
          571,
          572,
          573,
          574,
          575,
          576,
          577,
          578,
          579,
          580,
          581,
          582,
          583,
          584,
          585,
          586,
          587,
          588,
          589,
          590,
          591,
          592,
          593,
          594,
          595,
          596,
          597,
          598,
          599,
          600,
          601,
          602,
          603,
          604,
          605,
          606,
          607,
          608,
          609,
          610,
          611,
          612,
          613,
          614,
          615,
          616,
          617,
          618,
          619,
          620,
          621,
          622,
          623,
          624,
          625,
          626,
          627,
          628,
          629,
          630,
          631,
          632,
          633,
          634,
          635,
          636,
          637,
          638,
          639,
          640,
          641,
          642,
          643,
          644,
          645,
          646,
          647,
          648,
          649,
          650,
          651,
          652,
          653,
          654,
          655,
          656,
          657,
          658,
          659,
          660,
          661,
          662,
          663,
          664,
          665,
          666,
          667,
          668,
          669,
          670,
          671,
          672,
          673,
          674,
          675,
          676,
          677,
          678,
          679,
          680,
          681,
          682,
          683,
          684,
          685,
          686,
          687,
          688,
          689,
          690,
          691,
          692,
          693,
          694,
          695,
          696,
          697,
          698,
          699,
          700,
          701,
          702,
          703,
          704,
          705,
          706,
          707,
          708,
          709,
          710,
          711,
          712,
          713,
          714,
          715,
          716,
          717
         ],
         "xaxis": "x",
         "y": [
          102.256,
          108.995,
          120.179,
          124.569,
          116.638,
          114.381,
          118.107,
          112.979,
          112.948,
          116.006,
          116.827,
          117.256,
          116.341,
          114.924,
          118.002,
          119.11,
          121.86,
          119.757,
          119.939,
          120.02,
          120.765,
          122.324,
          123.857,
          124.847,
          124.835,
          127.12,
          127.228,
          127.618,
          129.881,
          128.89,
          128.687,
          128.656,
          129.092,
          130.248,
          130.816,
          131.266,
          132.341,
          132.706,
          132.301,
          132.688,
          132.815,
          132.609,
          132.66,
          132.76,
          133.03,
          133.238,
          134.022,
          134.614,
          135.519,
          135.499,
          135.739,
          135.557,
          135.426,
          135.745,
          135.889,
          135.972,
          136.195,
          136.138,
          136.345,
          136.139,
          136.328,
          136.313,
          136.7,
          137.097,
          136.834,
          137.085,
          137.428,
          137.438,
          137.754,
          137.877,
          137.378,
          137.644,
          137.702,
          137.506,
          137.599,
          137.585,
          137.897,
          137.934,
          138.186,
          138.062,
          138.224,
          138.315,
          138.52,
          138.607,
          138.382,
          138.416,
          138.465,
          138.453,
          138.273,
          138.174,
          138.281,
          137.683,
          137.772,
          137.842,
          137.77,
          137.742,
          137.755,
          137.708,
          137.182,
          137.014,
          136.754,
          136.567,
          136.3,
          136.365,
          136.285,
          136.257,
          136.341,
          136.417,
          136.405,
          136.382,
          136.46,
          136.574,
          136.496,
          136.228,
          136.413,
          136.401,
          136.268,
          136.312,
          136.399,
          136.436,
          136.54,
          136.445,
          136.452,
          136.557,
          136.807,
          136.896,
          136.926,
          136.812,
          136.859,
          137.005,
          137.211,
          137.324,
          137.264,
          137.194,
          137.281,
          137.369,
          137.386,
          137.323,
          137.421,
          137.254,
          137.454,
          137.376,
          137.342,
          137.383,
          137.542,
          137.572,
          137.626,
          137.634,
          137.839,
          137.828,
          137.779,
          137.719,
          137.713,
          137.809,
          137.881,
          137.685,
          137.702,
          137.593,
          137.524,
          137.54,
          137.345,
          137.404,
          137.419,
          137.526,
          137.651,
          137.751,
          137.601,
          137.529,
          137.457,
          137.238,
          137.347,
          137.307,
          137.381,
          137.521,
          137.47,
          137.449,
          137.357,
          137.49,
          137.578,
          137.357,
          137.42,
          137.492,
          137.495,
          137.502,
          137.407,
          137.5,
          137.387,
          137.457,
          137.294,
          137.394,
          137.369,
          137.297,
          137.191,
          137.186,
          137.172,
          137.111,
          137.157,
          137.173,
          137.284,
          137.22,
          137.154,
          137.21,
          137.107,
          137.134,
          137.143,
          137.054,
          136.923,
          136.968,
          136.917,
          136.949,
          136.941,
          137.027,
          137.031,
          137.036,
          136.893,
          136.972,
          136.964,
          136.819,
          136.847,
          136.858,
          136.941,
          136.89,
          136.868,
          136.847,
          136.79,
          136.704,
          136.697,
          136.73,
          136.833,
          136.748,
          136.705,
          136.67,
          136.701,
          136.807,
          136.677,
          136.579,
          136.777,
          136.782,
          136.729,
          136.811,
          136.759,
          136.788,
          136.832,
          136.681,
          136.499,
          136.325,
          136.355,
          136.284,
          136.209,
          136.013,
          135.944,
          135.951,
          135.865,
          135.949,
          136.057,
          136.098,
          135.963,
          136.044,
          136.12,
          136,
          135.869,
          135.9,
          135.986,
          135.892,
          135.874,
          135.949,
          135.914,
          135.953,
          135.912,
          135.935,
          136.011,
          135.951,
          135.926,
          135.852,
          135.906,
          135.871,
          135.909,
          135.897,
          135.9,
          135.82,
          135.767,
          135.78,
          135.782,
          135.653,
          135.653,
          135.7,
          135.637,
          135.615,
          135.499,
          135.447,
          135.439,
          135.286,
          135.248,
          135.174,
          135.141,
          135.184,
          135.234,
          135.196,
          135.165,
          135.194,
          135.217,
          135.268,
          135.309,
          135.364,
          135.387,
          135.319,
          135.32,
          135.356,
          135.351,
          135.429,
          135.37,
          135.276,
          135.372,
          135.396,
          135.413,
          135.389,
          135.455,
          135.454,
          135.422,
          135.361,
          135.443,
          135.522,
          135.446,
          135.53,
          135.605,
          135.649,
          135.682,
          135.771,
          135.755,
          135.78,
          135.675,
          135.658,
          135.663,
          135.709,
          135.641,
          135.67,
          135.755,
          135.806,
          135.885,
          135.938,
          136.074,
          136.008,
          136.08,
          136.159,
          136.178,
          136.214,
          136.15,
          136.183,
          136.221,
          136.192,
          136.203,
          136.176,
          136.205,
          136.191,
          136.217,
          136.291,
          136.37,
          136.378,
          136.322,
          136.385,
          136.449,
          136.515,
          136.569,
          136.541,
          136.501,
          136.601,
          136.686,
          136.76,
          136.805,
          136.713,
          136.732,
          136.819,
          136.828,
          136.933,
          136.999,
          137.025,
          137.087,
          137.073,
          137.055,
          136.945,
          136.953,
          136.901,
          136.972,
          136.905,
          136.837,
          136.724,
          136.82,
          136.829,
          136.783,
          136.777,
          136.711,
          136.577,
          136.443,
          136.38,
          136.249,
          136.047,
          136.05,
          135.969,
          135.896,
          135.879,
          135.859,
          135.867,
          135.837,
          135.716,
          135.733,
          135.694,
          135.692,
          135.617,
          135.55,
          135.421,
          135.394,
          135.378,
          135.435,
          135.546,
          135.56,
          135.575,
          135.547,
          135.507,
          135.482,
          135.469,
          135.4,
          135.387,
          135.417,
          135.394,
          135.446,
          135.431,
          135.432,
          135.482,
          135.538,
          135.616,
          135.663,
          135.678,
          135.703,
          135.63,
          135.713,
          135.644,
          135.654,
          135.581,
          135.566,
          135.483,
          135.467,
          135.47,
          135.447,
          135.413,
          135.397,
          135.331,
          135.367,
          135.34,
          135.384,
          135.302,
          135.338,
          135.359,
          135.36,
          135.365,
          135.337,
          135.352,
          135.355,
          135.395,
          135.412,
          135.413,
          135.363,
          135.32,
          135.338,
          135.276,
          135.268,
          135.238,
          135.182,
          135.141,
          135.121,
          135.166,
          135.191,
          135.185,
          135.236,
          135.221,
          135.319,
          135.302,
          135.344,
          135.334,
          135.249,
          135.211,
          135.223,
          135.202,
          135.201,
          135.145,
          135.2,
          135.169,
          135.178,
          135.069,
          135.001,
          134.976,
          134.959,
          134.871,
          134.844,
          134.841,
          134.821,
          134.798,
          134.822,
          134.819,
          134.84,
          134.79,
          134.803,
          134.802,
          134.857,
          134.825,
          134.805,
          134.797,
          134.777,
          134.81,
          134.834,
          134.755,
          134.709,
          134.635,
          134.583,
          134.499,
          134.474,
          134.425,
          134.353,
          134.285,
          134.233,
          134.216,
          134.256,
          134.248,
          134.178,
          134.12,
          134.153,
          134.155,
          134.139,
          134.101,
          134.039,
          134.019,
          133.968,
          133.945,
          133.853,
          133.801,
          133.747,
          133.741,
          133.705,
          133.64,
          133.659,
          133.656,
          133.565,
          133.534,
          133.515,
          133.511,
          133.535,
          133.489,
          133.447,
          133.46,
          133.431,
          133.38,
          133.429,
          133.375,
          133.428,
          133.479,
          133.52,
          133.539,
          133.526,
          133.487,
          133.535,
          133.552,
          133.544,
          133.482,
          133.48,
          133.444,
          133.386,
          133.369,
          133.372,
          133.315,
          133.29,
          133.256,
          133.274,
          133.247,
          133.202,
          133.211,
          133.193,
          133.208,
          133.191,
          133.188,
          133.25,
          133.24,
          133.223,
          133.278,
          133.248,
          133.247,
          133.26,
          133.297,
          133.267,
          133.235,
          133.223,
          133.185,
          133.222,
          133.185,
          133.199,
          133.202,
          133.182,
          133.178,
          133.204,
          133.16,
          133.207,
          133.219,
          133.248,
          133.25,
          133.215,
          133.217,
          133.196,
          133.212,
          133.198,
          133.176,
          133.172,
          133.153,
          133.153,
          133.167,
          133.187,
          133.221,
          133.173,
          133.187,
          133.179,
          133.153,
          133.129,
          133.118,
          133.119,
          133.074,
          133.036,
          132.999,
          132.979,
          132.964,
          132.947,
          132.936,
          132.941,
          132.979,
          133.013,
          133.01,
          133.056,
          133.038,
          133.008,
          133.034,
          133.043,
          133.016,
          133.025,
          133.051,
          133.038,
          133.037,
          133.07,
          133.11,
          133.101,
          133.12,
          133.127,
          133.11,
          133.139,
          133.137,
          133.111,
          133.137,
          133.12,
          133.1,
          133.088,
          133.065,
          133.079,
          133.041,
          133.032,
          133.004,
          132.944,
          132.921,
          132.921,
          132.939,
          132.861,
          132.845,
          132.79,
          132.797,
          132.799,
          132.783,
          132.773,
          132.785,
          132.729,
          132.677,
          132.669,
          132.633,
          132.671,
          132.661,
          132.704,
          132.704,
          132.728,
          132.731,
          132.771,
          132.817,
          132.823,
          132.836,
          132.836,
          132.811,
          132.795,
          132.792,
          132.747,
          132.73,
          132.71,
          132.731,
          132.74,
          132.753,
          132.737,
          132.719,
          132.695,
          132.686,
          132.719,
          132.704,
          132.712,
          132.711,
          132.715,
          132.716,
          132.732,
          132.772,
          132.713,
          132.735,
          132.731,
          132.685,
          132.602,
          132.588,
          132.625,
          132.625,
          132.632
         ],
         "yaxis": "y"
        }
       ],
       "layout": {
        "legend": {
         "title": {
          "text": "variable"
         },
         "tracegroupgap": 0
        },
        "margin": {
         "t": 60
        },
        "template": {
         "data": {
          "bar": [
           {
            "error_x": {
             "color": "#2a3f5f"
            },
            "error_y": {
             "color": "#2a3f5f"
            },
            "marker": {
             "line": {
              "color": "#E5ECF6",
              "width": 0.5
             },
             "pattern": {
              "fillmode": "overlay",
              "size": 10,
              "solidity": 0.2
             }
            },
            "type": "bar"
           }
          ],
          "barpolar": [
           {
            "marker": {
             "line": {
              "color": "#E5ECF6",
              "width": 0.5
             },
             "pattern": {
              "fillmode": "overlay",
              "size": 10,
              "solidity": 0.2
             }
            },
            "type": "barpolar"
           }
          ],
          "carpet": [
           {
            "aaxis": {
             "endlinecolor": "#2a3f5f",
             "gridcolor": "white",
             "linecolor": "white",
             "minorgridcolor": "white",
             "startlinecolor": "#2a3f5f"
            },
            "baxis": {
             "endlinecolor": "#2a3f5f",
             "gridcolor": "white",
             "linecolor": "white",
             "minorgridcolor": "white",
             "startlinecolor": "#2a3f5f"
            },
            "type": "carpet"
           }
          ],
          "choropleth": [
           {
            "colorbar": {
             "outlinewidth": 0,
             "ticks": ""
            },
            "type": "choropleth"
           }
          ],
          "contour": [
           {
            "colorbar": {
             "outlinewidth": 0,
             "ticks": ""
            },
            "colorscale": [
             [
              0,
              "#0d0887"
             ],
             [
              0.1111111111111111,
              "#46039f"
             ],
             [
              0.2222222222222222,
              "#7201a8"
             ],
             [
              0.3333333333333333,
              "#9c179e"
             ],
             [
              0.4444444444444444,
              "#bd3786"
             ],
             [
              0.5555555555555556,
              "#d8576b"
             ],
             [
              0.6666666666666666,
              "#ed7953"
             ],
             [
              0.7777777777777778,
              "#fb9f3a"
             ],
             [
              0.8888888888888888,
              "#fdca26"
             ],
             [
              1,
              "#f0f921"
             ]
            ],
            "type": "contour"
           }
          ],
          "contourcarpet": [
           {
            "colorbar": {
             "outlinewidth": 0,
             "ticks": ""
            },
            "type": "contourcarpet"
           }
          ],
          "heatmap": [
           {
            "colorbar": {
             "outlinewidth": 0,
             "ticks": ""
            },
            "colorscale": [
             [
              0,
              "#0d0887"
             ],
             [
              0.1111111111111111,
              "#46039f"
             ],
             [
              0.2222222222222222,
              "#7201a8"
             ],
             [
              0.3333333333333333,
              "#9c179e"
             ],
             [
              0.4444444444444444,
              "#bd3786"
             ],
             [
              0.5555555555555556,
              "#d8576b"
             ],
             [
              0.6666666666666666,
              "#ed7953"
             ],
             [
              0.7777777777777778,
              "#fb9f3a"
             ],
             [
              0.8888888888888888,
              "#fdca26"
             ],
             [
              1,
              "#f0f921"
             ]
            ],
            "type": "heatmap"
           }
          ],
          "heatmapgl": [
           {
            "colorbar": {
             "outlinewidth": 0,
             "ticks": ""
            },
            "colorscale": [
             [
              0,
              "#0d0887"
             ],
             [
              0.1111111111111111,
              "#46039f"
             ],
             [
              0.2222222222222222,
              "#7201a8"
             ],
             [
              0.3333333333333333,
              "#9c179e"
             ],
             [
              0.4444444444444444,
              "#bd3786"
             ],
             [
              0.5555555555555556,
              "#d8576b"
             ],
             [
              0.6666666666666666,
              "#ed7953"
             ],
             [
              0.7777777777777778,
              "#fb9f3a"
             ],
             [
              0.8888888888888888,
              "#fdca26"
             ],
             [
              1,
              "#f0f921"
             ]
            ],
            "type": "heatmapgl"
           }
          ],
          "histogram": [
           {
            "marker": {
             "pattern": {
              "fillmode": "overlay",
              "size": 10,
              "solidity": 0.2
             }
            },
            "type": "histogram"
           }
          ],
          "histogram2d": [
           {
            "colorbar": {
             "outlinewidth": 0,
             "ticks": ""
            },
            "colorscale": [
             [
              0,
              "#0d0887"
             ],
             [
              0.1111111111111111,
              "#46039f"
             ],
             [
              0.2222222222222222,
              "#7201a8"
             ],
             [
              0.3333333333333333,
              "#9c179e"
             ],
             [
              0.4444444444444444,
              "#bd3786"
             ],
             [
              0.5555555555555556,
              "#d8576b"
             ],
             [
              0.6666666666666666,
              "#ed7953"
             ],
             [
              0.7777777777777778,
              "#fb9f3a"
             ],
             [
              0.8888888888888888,
              "#fdca26"
             ],
             [
              1,
              "#f0f921"
             ]
            ],
            "type": "histogram2d"
           }
          ],
          "histogram2dcontour": [
           {
            "colorbar": {
             "outlinewidth": 0,
             "ticks": ""
            },
            "colorscale": [
             [
              0,
              "#0d0887"
             ],
             [
              0.1111111111111111,
              "#46039f"
             ],
             [
              0.2222222222222222,
              "#7201a8"
             ],
             [
              0.3333333333333333,
              "#9c179e"
             ],
             [
              0.4444444444444444,
              "#bd3786"
             ],
             [
              0.5555555555555556,
              "#d8576b"
             ],
             [
              0.6666666666666666,
              "#ed7953"
             ],
             [
              0.7777777777777778,
              "#fb9f3a"
             ],
             [
              0.8888888888888888,
              "#fdca26"
             ],
             [
              1,
              "#f0f921"
             ]
            ],
            "type": "histogram2dcontour"
           }
          ],
          "mesh3d": [
           {
            "colorbar": {
             "outlinewidth": 0,
             "ticks": ""
            },
            "type": "mesh3d"
           }
          ],
          "parcoords": [
           {
            "line": {
             "colorbar": {
              "outlinewidth": 0,
              "ticks": ""
             }
            },
            "type": "parcoords"
           }
          ],
          "pie": [
           {
            "automargin": true,
            "type": "pie"
           }
          ],
          "scatter": [
           {
            "fillpattern": {
             "fillmode": "overlay",
             "size": 10,
             "solidity": 0.2
            },
            "type": "scatter"
           }
          ],
          "scatter3d": [
           {
            "line": {
             "colorbar": {
              "outlinewidth": 0,
              "ticks": ""
             }
            },
            "marker": {
             "colorbar": {
              "outlinewidth": 0,
              "ticks": ""
             }
            },
            "type": "scatter3d"
           }
          ],
          "scattercarpet": [
           {
            "marker": {
             "colorbar": {
              "outlinewidth": 0,
              "ticks": ""
             }
            },
            "type": "scattercarpet"
           }
          ],
          "scattergeo": [
           {
            "marker": {
             "colorbar": {
              "outlinewidth": 0,
              "ticks": ""
             }
            },
            "type": "scattergeo"
           }
          ],
          "scattergl": [
           {
            "marker": {
             "colorbar": {
              "outlinewidth": 0,
              "ticks": ""
             }
            },
            "type": "scattergl"
           }
          ],
          "scattermapbox": [
           {
            "marker": {
             "colorbar": {
              "outlinewidth": 0,
              "ticks": ""
             }
            },
            "type": "scattermapbox"
           }
          ],
          "scatterpolar": [
           {
            "marker": {
             "colorbar": {
              "outlinewidth": 0,
              "ticks": ""
             }
            },
            "type": "scatterpolar"
           }
          ],
          "scatterpolargl": [
           {
            "marker": {
             "colorbar": {
              "outlinewidth": 0,
              "ticks": ""
             }
            },
            "type": "scatterpolargl"
           }
          ],
          "scatterternary": [
           {
            "marker": {
             "colorbar": {
              "outlinewidth": 0,
              "ticks": ""
             }
            },
            "type": "scatterternary"
           }
          ],
          "surface": [
           {
            "colorbar": {
             "outlinewidth": 0,
             "ticks": ""
            },
            "colorscale": [
             [
              0,
              "#0d0887"
             ],
             [
              0.1111111111111111,
              "#46039f"
             ],
             [
              0.2222222222222222,
              "#7201a8"
             ],
             [
              0.3333333333333333,
              "#9c179e"
             ],
             [
              0.4444444444444444,
              "#bd3786"
             ],
             [
              0.5555555555555556,
              "#d8576b"
             ],
             [
              0.6666666666666666,
              "#ed7953"
             ],
             [
              0.7777777777777778,
              "#fb9f3a"
             ],
             [
              0.8888888888888888,
              "#fdca26"
             ],
             [
              1,
              "#f0f921"
             ]
            ],
            "type": "surface"
           }
          ],
          "table": [
           {
            "cells": {
             "fill": {
              "color": "#EBF0F8"
             },
             "line": {
              "color": "white"
             }
            },
            "header": {
             "fill": {
              "color": "#C8D4E3"
             },
             "line": {
              "color": "white"
             }
            },
            "type": "table"
           }
          ]
         },
         "layout": {
          "annotationdefaults": {
           "arrowcolor": "#2a3f5f",
           "arrowhead": 0,
           "arrowwidth": 1
          },
          "autotypenumbers": "strict",
          "coloraxis": {
           "colorbar": {
            "outlinewidth": 0,
            "ticks": ""
           }
          },
          "colorscale": {
           "diverging": [
            [
             0,
             "#8e0152"
            ],
            [
             0.1,
             "#c51b7d"
            ],
            [
             0.2,
             "#de77ae"
            ],
            [
             0.3,
             "#f1b6da"
            ],
            [
             0.4,
             "#fde0ef"
            ],
            [
             0.5,
             "#f7f7f7"
            ],
            [
             0.6,
             "#e6f5d0"
            ],
            [
             0.7,
             "#b8e186"
            ],
            [
             0.8,
             "#7fbc41"
            ],
            [
             0.9,
             "#4d9221"
            ],
            [
             1,
             "#276419"
            ]
           ],
           "sequential": [
            [
             0,
             "#0d0887"
            ],
            [
             0.1111111111111111,
             "#46039f"
            ],
            [
             0.2222222222222222,
             "#7201a8"
            ],
            [
             0.3333333333333333,
             "#9c179e"
            ],
            [
             0.4444444444444444,
             "#bd3786"
            ],
            [
             0.5555555555555556,
             "#d8576b"
            ],
            [
             0.6666666666666666,
             "#ed7953"
            ],
            [
             0.7777777777777778,
             "#fb9f3a"
            ],
            [
             0.8888888888888888,
             "#fdca26"
            ],
            [
             1,
             "#f0f921"
            ]
           ],
           "sequentialminus": [
            [
             0,
             "#0d0887"
            ],
            [
             0.1111111111111111,
             "#46039f"
            ],
            [
             0.2222222222222222,
             "#7201a8"
            ],
            [
             0.3333333333333333,
             "#9c179e"
            ],
            [
             0.4444444444444444,
             "#bd3786"
            ],
            [
             0.5555555555555556,
             "#d8576b"
            ],
            [
             0.6666666666666666,
             "#ed7953"
            ],
            [
             0.7777777777777778,
             "#fb9f3a"
            ],
            [
             0.8888888888888888,
             "#fdca26"
            ],
            [
             1,
             "#f0f921"
            ]
           ]
          },
          "colorway": [
           "#636efa",
           "#EF553B",
           "#00cc96",
           "#ab63fa",
           "#FFA15A",
           "#19d3f3",
           "#FF6692",
           "#B6E880",
           "#FF97FF",
           "#FECB52"
          ],
          "font": {
           "color": "#2a3f5f"
          },
          "geo": {
           "bgcolor": "white",
           "lakecolor": "white",
           "landcolor": "#E5ECF6",
           "showlakes": true,
           "showland": true,
           "subunitcolor": "white"
          },
          "hoverlabel": {
           "align": "left"
          },
          "hovermode": "closest",
          "mapbox": {
           "style": "light"
          },
          "paper_bgcolor": "white",
          "plot_bgcolor": "#E5ECF6",
          "polar": {
           "angularaxis": {
            "gridcolor": "white",
            "linecolor": "white",
            "ticks": ""
           },
           "bgcolor": "#E5ECF6",
           "radialaxis": {
            "gridcolor": "white",
            "linecolor": "white",
            "ticks": ""
           }
          },
          "scene": {
           "xaxis": {
            "backgroundcolor": "#E5ECF6",
            "gridcolor": "white",
            "gridwidth": 2,
            "linecolor": "white",
            "showbackground": true,
            "ticks": "",
            "zerolinecolor": "white"
           },
           "yaxis": {
            "backgroundcolor": "#E5ECF6",
            "gridcolor": "white",
            "gridwidth": 2,
            "linecolor": "white",
            "showbackground": true,
            "ticks": "",
            "zerolinecolor": "white"
           },
           "zaxis": {
            "backgroundcolor": "#E5ECF6",
            "gridcolor": "white",
            "gridwidth": 2,
            "linecolor": "white",
            "showbackground": true,
            "ticks": "",
            "zerolinecolor": "white"
           }
          },
          "shapedefaults": {
           "line": {
            "color": "#2a3f5f"
           }
          },
          "ternary": {
           "aaxis": {
            "gridcolor": "white",
            "linecolor": "white",
            "ticks": ""
           },
           "baxis": {
            "gridcolor": "white",
            "linecolor": "white",
            "ticks": ""
           },
           "bgcolor": "#E5ECF6",
           "caxis": {
            "gridcolor": "white",
            "linecolor": "white",
            "ticks": ""
           }
          },
          "title": {
           "x": 0.05
          },
          "xaxis": {
           "automargin": true,
           "gridcolor": "white",
           "linecolor": "white",
           "ticks": "",
           "title": {
            "standoff": 15
           },
           "zerolinecolor": "white",
           "zerolinewidth": 2
          },
          "yaxis": {
           "automargin": true,
           "gridcolor": "white",
           "linecolor": "white",
           "ticks": "",
           "title": {
            "standoff": 15
           },
           "zerolinecolor": "white",
           "zerolinewidth": 2
          }
         }
        },
        "xaxis": {
         "anchor": "y",
         "domain": [
          0,
          1
         ],
         "title": {
          "text": "Test_Number"
         }
        },
        "yaxis": {
         "anchor": "x",
         "domain": [
          0,
          1
         ],
         "title": {
          "text": "value"
         }
        }
       }
      }
     },
     "metadata": {},
     "output_type": "display_data"
    }
   ],
   "source": [
    "fig_df_results_by_test_number = px.line(df_results, x = df_results.index, \n",
    "y = ['WPM', 'Last 10 Avg', 'Last 100 Avg', 'Last 1000 Avg', 'cumulative_avg'])\n",
    "fig_df_results_by_test_number.write_html('Analyses/results_by_test_number.html')\n",
    "fig_df_results_by_test_number.write_image('Analyses/results_by_test_number.png', \n",
    "width = 1920, height = 1080, engine = 'kaleido', scale = 2)\n",
    "fig_df_results_by_test_number"
   ]
  },
  {
   "cell_type": "markdown",
   "metadata": {},
   "source": [
    "## Creating WPM histograms for (1) all tests and (2) the last 1000 tests:\n",
    "\n",
    "(Until you've taken more than 1,000 tests, these histograms will have the same appearance.)"
   ]
  },
  {
   "cell_type": "code",
   "execution_count": 80,
   "metadata": {},
   "outputs": [
    {
     "data": {
      "application/vnd.plotly.v1+json": {
       "config": {
        "plotlyServerURL": "https://plot.ly"
       },
       "data": [
        {
         "alignmentgroup": "True",
         "bingroup": "x",
         "hovertemplate": "x=%{x}<br>count=%{y}<extra></extra>",
         "legendgroup": "",
         "marker": {
          "color": "#636efa",
          "pattern": {
           "shape": ""
          }
         },
         "name": "",
         "nbinsx": 50,
         "offsetgroup": "",
         "orientation": "v",
         "showlegend": false,
         "texttemplate": "%{value}",
         "type": "histogram",
         "x": [
          102.2557986,
          115.7346535,
          142.5452918,
          137.7414966,
          84.91257979,
          103.0949072,
          140.4618271,
          77.08441069,
          112.7003629,
          143.5314685,
          125.0376318,
          121.9772506,
          105.3597769,
          96.49691111,
          161.0931056,
          135.7298163,
          165.8691277,
          84.00849276,
          123.1983781,
          121.5749177,
          135.6642724,
          155.0448175,
          157.5844433,
          147.6314926,
          124.5485308,
          184.2361975,
          130.0511073,
          138.1350428,
          193.2515087,
          100.1429176,
          122.5971194,
          127.6817625,
          143.0622221,
          168.403897,
          150.1085888,
          147.0209159,
          171.0487319,
          146.2200932,
          116.8923964,
          147.7794536,
          137.9010458,
          124.164215,
          134.8010763,
          137.0410419,
          144.9279153,
          142.5807182,
          170.1109301,
          162.4183344,
          178.9753622,
          134.4954117,
          147.7605567,
          126.2491401,
          128.652569,
          152.658516,
          143.6326748,
          140.5365586,
          148.6723345,
          132.8951263,
          148.3544075,
          123.9723083,
          147.7218366,
          135.3845744,
          160.678684,
          162.0956829,
          120.0026465,
          153.4334004,
          160.0152284,
          138.1549429,
          159.2429145,
          146.3512585,
          102.4181261,
          156.536704,
          141.8866797,
          123.1854455,
          144.5291828,
          136.5369094,
          161.5598703,
          140.7957314,
          157.8290157,
          128.3149053,
          151.1720859,
          145.6297216,
          155.3612424,
          145.8383024,
          119.4779366,
          141.2907957,
          142.7135496,
          137.3865456,
          122.4674862,
          129.3603015,
          147.9134674,
          83.27333878,
          145.9253839,
          144.3710489,
          131.0214389,
          135.0523208,
          139.0052063,
          133.126821,
          85.60465043,
          120.399074,
          110.783171,
          117.6830641,
          109.0699429,
          143.0414948,
          127.9908969,
          133.3462959,
          145.1585,
          144.5889483,
          135.0674372,
          133.8916157,
          145.107872,
          149.1722969,
          127.7218955,
          106.0286366,
          157.4320554,
          135.0889449,
          120.7493271,
          141.4825769,
          146.6605053,
          140.8272098,
          149.0467977,
          124.9154053,
          137.4006952,
          149.4791011,
          167.7062966,
          148.1308815,
          140.635887,
          122.306038,
          142.9093939,
          155.9042406,
          163.9380587,
          152.1530852,
          129.3325926,
          127.8352766,
          149.0271549,
          149.1389449,
          139.7333506,
          128.7198179,
          150.9277463,
          114.0471947,
          165.4238972,
          126.45724,
          132.5016427,
          143.251065,
          160.4361977,
          141.8371523,
          145.5341428,
          138.7934831,
          168.2437689,
          136.1501266,
          130.4971277,
          128.5403961,
          136.8264274,
          152.4793101,
          149.0647727,
          107.2099048,
          140.3668112,
          120.4577798,
          126.6242449,
          140.2086117,
          106.021832,
          147.031789,
          139.8201876,
          154.8833598,
          158.1533926,
          154.278507,
          112.7388201,
          125.5380868,
          125.240525,
          100.2059884,
          155.9615098,
          130.4061902,
          150.2352046,
          161.6821158,
          128.5951518,
          133.6863333,
          121.2336049,
          161.0914995,
          153.1308776,
          97.79773045,
          148.861709,
          150.5661251,
          137.9164972,
          138.8337809,
          119.9394567,
          154.6339608,
          116.4373884,
          150.6016981,
          106.6278383,
          156.2175731,
          132.6910843,
          123.4192656,
          116.9546646,
          136.1759336,
          134.4406464,
          125.235248,
          146.2725432,
          140.32446,
          159.1789682,
          124.4789779,
          123.8816332,
          148.5596109,
          116.2100446,
          142.6450358,
          138.9507549,
          118.7819124,
          109.9707853,
          146.4267098,
          126.3155409,
          143.5214024,
          135.3254434,
          155.0468179,
          137.9325707,
          138.225223,
          106.3015141,
          153.8609336,
          135.2016596,
          105.4580544,
          142.7679393,
          139.3614573,
          155.2874714,
          125.5732846,
          132.0124838,
          132.1945579,
          124.03176,
          117.1652964,
          135.2662752,
          144.241964,
          160.1229467,
          117.3835882,
          126.9375901,
          128.5052807,
          143.8754693,
          161.3884259,
          106.4082393,
          113.4144894,
          183.4856669,
          137.9548131,
          124.3449642,
          156.4077382,
          124.1192504,
          143.9128945,
          147.4820083,
          99.82400128,
          92.21465671,
          93.52381031,
          143.7744169,
          118.7266681,
          117.6005861,
          87.30937825,
          118.7009623,
          137.7580685,
          114.2573955,
          156.9810082,
          163.6179313,
          146.5131341,
          101.4457857,
          156.8557855,
          155.6884705,
          105.0217282,
          101.630303,
          144.1907993,
          158.3302592,
          111.2214298,
          131.0403863,
          156.0012709,
          126.4882724,
          146.3893853,
          124.9765611,
          142.0066213,
          156.5512382,
          119.7164084,
          129.1734743,
          115.6871609,
          150.7006983,
          126.230722,
          146.3989022,
          132.4772881,
          136.7337636,
          113.4415078,
          120.9268341,
          139.6275464,
          136.3372508,
          99.18100061,
          135.6730702,
          148.8651702,
          117.8428999,
          129.2226526,
          102.13818396888962,
          120.48749001306795,
          132.8576746417254,
          90.84028641011042,
          124.21852064037331,
          113.35552428910694,
          125.6560905333676,
          147.8038527451023,
          149.91220085790678,
          123.9539683979674,
          125.94743903164483,
          143.9611821561249,
          142.040318931446,
          150.550412428582,
          147.61711356706184,
          152.30838167556178,
          142.303723743276,
          114.61122192253632,
          135.6469037782072,
          146.35842571976278,
          133.73486065823164,
          159.58191208544406,
          116.93763792942312,
          106.24661570788427,
          165.21904205086668,
          142.87787933759532,
          140.8676311976334,
          127.7837959398602,
          156.37907846399904,
          135.09351711324928,
          125.1189778017268,
          115.84939013611456,
          161.70446929707606,
          160.9730861045085,
          111.09302880152316,
          162.51239311411,
          160.06999091698722,
          149.82309839562225,
          146.43082894150822,
          164.78614744085377,
          130.5383300550057,
          143.97091686007002,
          101.11382029329604,
          129.98233902674602,
          137.48487405352114,
          150.99443261319522,
          112.7001169690485,
          145.39696399449005,
          164.4922606688814,
          152.91388285056925,
          162.53948411569007,
          154.0127971541685,
          182.1425444180597,
          113.8239095356812,
          160.677088254899,
          163.14667850033788,
          142.56578866553633,
          148.6987268220503,
          114.1434700625612,
          147.57405048401554,
          149.30684831494077,
          126.20519621797196,
          139.94633993580445,
          126.9245477714586,
          146.22189805127886,
          131.42306484991144,
          145.30902821100034,
          162.4136034262146,
          164.65081611071054,
          139.1938713049083,
          116.25733748793996,
          158.97949435405167,
          159.4594056928479,
          160.6100877415165,
          155.76334567780924,
          126.43754997815417,
          122.00263194163227,
          173.18579743135868,
          167.63149622073377,
          164.05621539256902,
          153.19160682658327,
          103.10951733149292,
          143.58874865629957,
          169.12094179101882,
          140.02595222180497,
          176.4035068952055,
          161.578202837319,
          146.61284206103738,
          160.32751649175646,
          131.9592444041659,
          130.39430146308098,
          95.19494771288272,
          139.84725735631602,
          117.0109106809606,
          164.2038699821898,
          111.21520257399634,
          110.61872440278312,
          93.54437596126996,
          173.74069274168957,
          140.40689945025778,
          118.73919704713076,
          134.32002613190207,
          111.09879759326508,
          84.38909012203041,
          83.75553195645635,
          111.65370758833052,
          84.52302359241595,
          56.428207168106,
          137.00100785632145,
          104.05074428404626,
          106.83920364403522,
          129.21597646531856,
          127.69430589739112,
          139.00065447237006,
          123.92827680746116,
          87.01866205273936,
          142.51005252458106,
          119.65226443929498,
          134.9754803466662,
          105.08601725744704,
          108.17934090978812,
          82.9661044249338,
          124.25718009912066,
          128.87772636357593,
          158.69383141480452,
          181.4326694465167,
          141.265017681068,
          141.93788585326277,
          123.72983104423646,
          118.9569962403272,
          125.11753746520492,
          130.01211792704754,
          106.32089141952508,
          130.0139783427136,
          148.09985936839206,
          125.38742334459953,
          157.6765394851595,
          128.881456072641,
          135.87783066929154,
          157.0132623457111,
          159.50126306763843,
          168.8132952426762,
          155.87125454275684,
          142.49426469262005,
          146.4275154150089,
          104.11571669610146,
          171.72475830210388,
          105.67641843295668,
          139.78881353080993,
          103.51504534087584,
          129.05039332595064,
          99.08361120154072,
          128.45652344848554,
          136.86200516225722,
          125.21672622194612,
          120.27421253881874,
          128.24014855424184,
          106.11181793157404,
          151.5217265005572,
          123.3628972049639,
          154.78518164162358,
          98.61695928877234,
          151.777983754413,
          144.78620558526308,
          135.68871143925486,
          137.54488438448635,
          122.46620324805431,
          142.1858155692887,
          136.9921706451144,
          153.55835113996105,
          143.2609261928418,
          135.955200375587,
          112.0448227831792,
          115.5683326195538,
          143.85775097932537,
          106.5391750204946,
          131.6597480906924,
          121.20818724096397,
          109.14554683675829,
          115.68491953664268,
          125.90765012753788,
          156.22416588296122,
          147.2165612220749,
          132.088542187398,
          159.42531353980516,
          127.92500056763323,
          182.14264311377704,
          126.88139230714452,
          155.57827657047102,
          130.68656563255905,
          94.36481993941712,
          117.25185855936166,
          140.58210060931313,
          125.1762562811293,
          134.70761999403007,
          108.20663479731242,
          161.62370782784654,
          120.40333852087213,
          139.53618445690668,
          82.00146131688726,
          101.54043350785112,
          122.7582234002282,
          126.69185761503942,
          91.91788712595437,
          121.38684999064743,
          133.52665075490737,
          124.95474610153816,
          123.3780197635339,
          146.64808234909435,
          133.50861716148194,
          145.15960712498867,
          109.98872914673557,
          141.31417410844853,
          133.8829037853563,
          162.78159914944152,
          118.39228991472427,
          124.9424220049167,
          130.83451801777937,
          124.81439695483368,
          151.46092135874576,
          147.0658695658305,
          94.13989136218186,
          111.26453201178116,
          97.2058284375739,
          107.8983827430193,
          91.36627787758547,
          121.51391261349244,
          109.36537255499854,
          97.01859539496618,
          99.43385284500154,
          106.85206229195204,
          125.6171903409102,
          155.08252063335388,
          129.76472645313518,
          98.12842275935652,
          103.45013680116574,
          151.8109628417961,
          135.1843612080263,
          125.73602243467602,
          113.71636790809276,
          101.28178384136262,
          123.74796647593972,
          106.89293479777852,
          121.38379706638938,
          84.99338371898571,
          106.14956019770388,
          105.1374276174544,
          130.46463336230698,
          114.36113770003696,
          98.66960630256224,
          144.08790790571487,
          131.785426383583,
          84.45584138001766,
          116.75581561307462,
          123.45769863410987,
          131.22358707641706,
          146.4652627502622,
          108.24146428862116,
          110.99679386216606,
          140.38130978753134,
          117.59771847122876,
          105.38233287351916,
          160.09536163413333,
          103.8004663279107,
          162.74923543275256,
          161.33974933394316,
          156.60820385804732,
          144.03758996074302,
          126.1541679134106,
          112.00149112997534,
          160.15189040037097,
          143.20406142943537,
          128.78725739171415,
          98.66590871357565,
          132.28648449020648,
          113.1608118737168,
          100.72911873772784,
          124.07544077117564,
          134.76824819304494,
          100.9214659095924,
          119.44895230847744,
          113.51861293954036,
          143.9829161466043,
          117.8681081422134,
          107.54003017692168,
          138.1701083317912,
          122.59162954899782,
          141.8804217482107,
          123.67869111345676,
          131.13350981194617,
          169.5517435558518,
          126.900157327847,
          123.5134987850983,
          165.40518715790327,
          115.60481823642824,
          132.81807810625972,
          140.94297648930427,
          154.6506793154782,
          115.61367498644375,
          114.77719707050449,
          126.05055537407355,
          110.79274784841031,
          154.97999368006785,
          111.35140868462612,
          141.5577203394318,
          135.12484760796374,
          121.38212075809068,
          130.77659531998617,
          148.50429217620805,
          106.95967301313776,
          161.21252169974312,
          140.16247686742977,
          150.88428468517594,
          134.3530808383669,
          112.24756016513746,
          134.42019707764624,
          120.84876514357762,
          142.67383549373673,
          124.94139151813758,
          119.34794679879796,
          131.19319059148356,
          121.2638020352281,
          132.9700626718989,
          142.1849212379955,
          144.99733589887302,
          154.071666203114,
          103.75472883228612,
          141.97614806405358,
          127.96752864610303,
          117.1801381485663,
          118.32898617175204,
          126.56080982287904,
          133.43562257034387,
          105.06309495311848,
          109.4873209894871,
          109.95170792971592,
          120.58706072736372,
          123.84462890320016,
          121.94429847399486,
          126.09203122525513,
          136.3901162381743,
          156.9474743384475,
          153.91581605761334,
          131.16181254860695,
          162.12734355420804,
          121.66795197322269,
          114.3278361085468,
          149.15669647602417,
          138.88090783293478,
          115.79364113438795,
          138.98681529603286,
          149.58931017564527,
          124.9268071786078,
          132.49321008374412,
          154.08545018223987,
          158.4700707611226,
          127.66063984399034,
          144.99879842339567,
          137.81393075159198,
          122.47176775090824,
          151.71700407675598,
          131.92683256668516,
          115.87928721847454,
          150.10525357150104,
          122.3688337113822,
          119.73483619900271,
          125.45273015860602,
          117.77948134731756,
          142.59027787764688,
          107.69881813296934,
          127.1357946629225,
          114.60243973536885,
          93.6488860028354,
          117.6689961364238,
          132.72180137791835,
          144.84357397987313,
          81.00053962278399,
          122.54247432626347,
          96.11019996037967,
          137.60806077034422,
          133.89327630420303,
          122.15921687850972,
          126.25376598230412,
          140.3006201901446,
          95.10299030346886,
          97.61103588185172,
          127.64590040051942,
          108.29992699779748,
          157.98750705961191,
          126.49758825529236,
          161.77555117643232,
          132.64217229286805,
          148.72589087791104,
          134.86265520293728,
          159.92473459126813,
          164.53690735444673,
          136.62217129305856,
          141.9163167789176,
          133.036659280447,
          115.74169268496996,
          121.62708821651889,
          130.43082429148748,
          101.59901576348648,
          120.95564656249508,
          118.99034522086606,
          147.58874339127283,
          139.15590248775194,
          141.59677815184853,
          121.37929921229949,
          120.0766507758018,
          116.3535061691415,
          126.53432363693356,
          155.2865737429844,
          122.52295455443908,
          138.52198382466082,
          132.04130298129158,
          134.88451387078828,
          133.87787005995497,
          143.95332242830236,
          161.23803283905693,
          90.6702517643667,
          148.5613457393098,
          129.31609454390147,
          100.272036034666,
          73.38096724934297,
          122.6513476384404,
          158.98873130224726,
          133.17123347310502,
          137.44141889134957
         ],
         "xaxis": "x",
         "yaxis": "y"
        }
       ],
       "layout": {
        "bargroupgap": 0.1,
        "barmode": "relative",
        "legend": {
         "tracegroupgap": 0
        },
        "margin": {
         "t": 60
        },
        "template": {
         "data": {
          "bar": [
           {
            "error_x": {
             "color": "#2a3f5f"
            },
            "error_y": {
             "color": "#2a3f5f"
            },
            "marker": {
             "line": {
              "color": "#E5ECF6",
              "width": 0.5
             },
             "pattern": {
              "fillmode": "overlay",
              "size": 10,
              "solidity": 0.2
             }
            },
            "type": "bar"
           }
          ],
          "barpolar": [
           {
            "marker": {
             "line": {
              "color": "#E5ECF6",
              "width": 0.5
             },
             "pattern": {
              "fillmode": "overlay",
              "size": 10,
              "solidity": 0.2
             }
            },
            "type": "barpolar"
           }
          ],
          "carpet": [
           {
            "aaxis": {
             "endlinecolor": "#2a3f5f",
             "gridcolor": "white",
             "linecolor": "white",
             "minorgridcolor": "white",
             "startlinecolor": "#2a3f5f"
            },
            "baxis": {
             "endlinecolor": "#2a3f5f",
             "gridcolor": "white",
             "linecolor": "white",
             "minorgridcolor": "white",
             "startlinecolor": "#2a3f5f"
            },
            "type": "carpet"
           }
          ],
          "choropleth": [
           {
            "colorbar": {
             "outlinewidth": 0,
             "ticks": ""
            },
            "type": "choropleth"
           }
          ],
          "contour": [
           {
            "colorbar": {
             "outlinewidth": 0,
             "ticks": ""
            },
            "colorscale": [
             [
              0,
              "#0d0887"
             ],
             [
              0.1111111111111111,
              "#46039f"
             ],
             [
              0.2222222222222222,
              "#7201a8"
             ],
             [
              0.3333333333333333,
              "#9c179e"
             ],
             [
              0.4444444444444444,
              "#bd3786"
             ],
             [
              0.5555555555555556,
              "#d8576b"
             ],
             [
              0.6666666666666666,
              "#ed7953"
             ],
             [
              0.7777777777777778,
              "#fb9f3a"
             ],
             [
              0.8888888888888888,
              "#fdca26"
             ],
             [
              1,
              "#f0f921"
             ]
            ],
            "type": "contour"
           }
          ],
          "contourcarpet": [
           {
            "colorbar": {
             "outlinewidth": 0,
             "ticks": ""
            },
            "type": "contourcarpet"
           }
          ],
          "heatmap": [
           {
            "colorbar": {
             "outlinewidth": 0,
             "ticks": ""
            },
            "colorscale": [
             [
              0,
              "#0d0887"
             ],
             [
              0.1111111111111111,
              "#46039f"
             ],
             [
              0.2222222222222222,
              "#7201a8"
             ],
             [
              0.3333333333333333,
              "#9c179e"
             ],
             [
              0.4444444444444444,
              "#bd3786"
             ],
             [
              0.5555555555555556,
              "#d8576b"
             ],
             [
              0.6666666666666666,
              "#ed7953"
             ],
             [
              0.7777777777777778,
              "#fb9f3a"
             ],
             [
              0.8888888888888888,
              "#fdca26"
             ],
             [
              1,
              "#f0f921"
             ]
            ],
            "type": "heatmap"
           }
          ],
          "heatmapgl": [
           {
            "colorbar": {
             "outlinewidth": 0,
             "ticks": ""
            },
            "colorscale": [
             [
              0,
              "#0d0887"
             ],
             [
              0.1111111111111111,
              "#46039f"
             ],
             [
              0.2222222222222222,
              "#7201a8"
             ],
             [
              0.3333333333333333,
              "#9c179e"
             ],
             [
              0.4444444444444444,
              "#bd3786"
             ],
             [
              0.5555555555555556,
              "#d8576b"
             ],
             [
              0.6666666666666666,
              "#ed7953"
             ],
             [
              0.7777777777777778,
              "#fb9f3a"
             ],
             [
              0.8888888888888888,
              "#fdca26"
             ],
             [
              1,
              "#f0f921"
             ]
            ],
            "type": "heatmapgl"
           }
          ],
          "histogram": [
           {
            "marker": {
             "pattern": {
              "fillmode": "overlay",
              "size": 10,
              "solidity": 0.2
             }
            },
            "type": "histogram"
           }
          ],
          "histogram2d": [
           {
            "colorbar": {
             "outlinewidth": 0,
             "ticks": ""
            },
            "colorscale": [
             [
              0,
              "#0d0887"
             ],
             [
              0.1111111111111111,
              "#46039f"
             ],
             [
              0.2222222222222222,
              "#7201a8"
             ],
             [
              0.3333333333333333,
              "#9c179e"
             ],
             [
              0.4444444444444444,
              "#bd3786"
             ],
             [
              0.5555555555555556,
              "#d8576b"
             ],
             [
              0.6666666666666666,
              "#ed7953"
             ],
             [
              0.7777777777777778,
              "#fb9f3a"
             ],
             [
              0.8888888888888888,
              "#fdca26"
             ],
             [
              1,
              "#f0f921"
             ]
            ],
            "type": "histogram2d"
           }
          ],
          "histogram2dcontour": [
           {
            "colorbar": {
             "outlinewidth": 0,
             "ticks": ""
            },
            "colorscale": [
             [
              0,
              "#0d0887"
             ],
             [
              0.1111111111111111,
              "#46039f"
             ],
             [
              0.2222222222222222,
              "#7201a8"
             ],
             [
              0.3333333333333333,
              "#9c179e"
             ],
             [
              0.4444444444444444,
              "#bd3786"
             ],
             [
              0.5555555555555556,
              "#d8576b"
             ],
             [
              0.6666666666666666,
              "#ed7953"
             ],
             [
              0.7777777777777778,
              "#fb9f3a"
             ],
             [
              0.8888888888888888,
              "#fdca26"
             ],
             [
              1,
              "#f0f921"
             ]
            ],
            "type": "histogram2dcontour"
           }
          ],
          "mesh3d": [
           {
            "colorbar": {
             "outlinewidth": 0,
             "ticks": ""
            },
            "type": "mesh3d"
           }
          ],
          "parcoords": [
           {
            "line": {
             "colorbar": {
              "outlinewidth": 0,
              "ticks": ""
             }
            },
            "type": "parcoords"
           }
          ],
          "pie": [
           {
            "automargin": true,
            "type": "pie"
           }
          ],
          "scatter": [
           {
            "fillpattern": {
             "fillmode": "overlay",
             "size": 10,
             "solidity": 0.2
            },
            "type": "scatter"
           }
          ],
          "scatter3d": [
           {
            "line": {
             "colorbar": {
              "outlinewidth": 0,
              "ticks": ""
             }
            },
            "marker": {
             "colorbar": {
              "outlinewidth": 0,
              "ticks": ""
             }
            },
            "type": "scatter3d"
           }
          ],
          "scattercarpet": [
           {
            "marker": {
             "colorbar": {
              "outlinewidth": 0,
              "ticks": ""
             }
            },
            "type": "scattercarpet"
           }
          ],
          "scattergeo": [
           {
            "marker": {
             "colorbar": {
              "outlinewidth": 0,
              "ticks": ""
             }
            },
            "type": "scattergeo"
           }
          ],
          "scattergl": [
           {
            "marker": {
             "colorbar": {
              "outlinewidth": 0,
              "ticks": ""
             }
            },
            "type": "scattergl"
           }
          ],
          "scattermapbox": [
           {
            "marker": {
             "colorbar": {
              "outlinewidth": 0,
              "ticks": ""
             }
            },
            "type": "scattermapbox"
           }
          ],
          "scatterpolar": [
           {
            "marker": {
             "colorbar": {
              "outlinewidth": 0,
              "ticks": ""
             }
            },
            "type": "scatterpolar"
           }
          ],
          "scatterpolargl": [
           {
            "marker": {
             "colorbar": {
              "outlinewidth": 0,
              "ticks": ""
             }
            },
            "type": "scatterpolargl"
           }
          ],
          "scatterternary": [
           {
            "marker": {
             "colorbar": {
              "outlinewidth": 0,
              "ticks": ""
             }
            },
            "type": "scatterternary"
           }
          ],
          "surface": [
           {
            "colorbar": {
             "outlinewidth": 0,
             "ticks": ""
            },
            "colorscale": [
             [
              0,
              "#0d0887"
             ],
             [
              0.1111111111111111,
              "#46039f"
             ],
             [
              0.2222222222222222,
              "#7201a8"
             ],
             [
              0.3333333333333333,
              "#9c179e"
             ],
             [
              0.4444444444444444,
              "#bd3786"
             ],
             [
              0.5555555555555556,
              "#d8576b"
             ],
             [
              0.6666666666666666,
              "#ed7953"
             ],
             [
              0.7777777777777778,
              "#fb9f3a"
             ],
             [
              0.8888888888888888,
              "#fdca26"
             ],
             [
              1,
              "#f0f921"
             ]
            ],
            "type": "surface"
           }
          ],
          "table": [
           {
            "cells": {
             "fill": {
              "color": "#EBF0F8"
             },
             "line": {
              "color": "white"
             }
            },
            "header": {
             "fill": {
              "color": "#C8D4E3"
             },
             "line": {
              "color": "white"
             }
            },
            "type": "table"
           }
          ]
         },
         "layout": {
          "annotationdefaults": {
           "arrowcolor": "#2a3f5f",
           "arrowhead": 0,
           "arrowwidth": 1
          },
          "autotypenumbers": "strict",
          "coloraxis": {
           "colorbar": {
            "outlinewidth": 0,
            "ticks": ""
           }
          },
          "colorscale": {
           "diverging": [
            [
             0,
             "#8e0152"
            ],
            [
             0.1,
             "#c51b7d"
            ],
            [
             0.2,
             "#de77ae"
            ],
            [
             0.3,
             "#f1b6da"
            ],
            [
             0.4,
             "#fde0ef"
            ],
            [
             0.5,
             "#f7f7f7"
            ],
            [
             0.6,
             "#e6f5d0"
            ],
            [
             0.7,
             "#b8e186"
            ],
            [
             0.8,
             "#7fbc41"
            ],
            [
             0.9,
             "#4d9221"
            ],
            [
             1,
             "#276419"
            ]
           ],
           "sequential": [
            [
             0,
             "#0d0887"
            ],
            [
             0.1111111111111111,
             "#46039f"
            ],
            [
             0.2222222222222222,
             "#7201a8"
            ],
            [
             0.3333333333333333,
             "#9c179e"
            ],
            [
             0.4444444444444444,
             "#bd3786"
            ],
            [
             0.5555555555555556,
             "#d8576b"
            ],
            [
             0.6666666666666666,
             "#ed7953"
            ],
            [
             0.7777777777777778,
             "#fb9f3a"
            ],
            [
             0.8888888888888888,
             "#fdca26"
            ],
            [
             1,
             "#f0f921"
            ]
           ],
           "sequentialminus": [
            [
             0,
             "#0d0887"
            ],
            [
             0.1111111111111111,
             "#46039f"
            ],
            [
             0.2222222222222222,
             "#7201a8"
            ],
            [
             0.3333333333333333,
             "#9c179e"
            ],
            [
             0.4444444444444444,
             "#bd3786"
            ],
            [
             0.5555555555555556,
             "#d8576b"
            ],
            [
             0.6666666666666666,
             "#ed7953"
            ],
            [
             0.7777777777777778,
             "#fb9f3a"
            ],
            [
             0.8888888888888888,
             "#fdca26"
            ],
            [
             1,
             "#f0f921"
            ]
           ]
          },
          "colorway": [
           "#636efa",
           "#EF553B",
           "#00cc96",
           "#ab63fa",
           "#FFA15A",
           "#19d3f3",
           "#FF6692",
           "#B6E880",
           "#FF97FF",
           "#FECB52"
          ],
          "font": {
           "color": "#2a3f5f"
          },
          "geo": {
           "bgcolor": "white",
           "lakecolor": "white",
           "landcolor": "#E5ECF6",
           "showlakes": true,
           "showland": true,
           "subunitcolor": "white"
          },
          "hoverlabel": {
           "align": "left"
          },
          "hovermode": "closest",
          "mapbox": {
           "style": "light"
          },
          "paper_bgcolor": "white",
          "plot_bgcolor": "#E5ECF6",
          "polar": {
           "angularaxis": {
            "gridcolor": "white",
            "linecolor": "white",
            "ticks": ""
           },
           "bgcolor": "#E5ECF6",
           "radialaxis": {
            "gridcolor": "white",
            "linecolor": "white",
            "ticks": ""
           }
          },
          "scene": {
           "xaxis": {
            "backgroundcolor": "#E5ECF6",
            "gridcolor": "white",
            "gridwidth": 2,
            "linecolor": "white",
            "showbackground": true,
            "ticks": "",
            "zerolinecolor": "white"
           },
           "yaxis": {
            "backgroundcolor": "#E5ECF6",
            "gridcolor": "white",
            "gridwidth": 2,
            "linecolor": "white",
            "showbackground": true,
            "ticks": "",
            "zerolinecolor": "white"
           },
           "zaxis": {
            "backgroundcolor": "#E5ECF6",
            "gridcolor": "white",
            "gridwidth": 2,
            "linecolor": "white",
            "showbackground": true,
            "ticks": "",
            "zerolinecolor": "white"
           }
          },
          "shapedefaults": {
           "line": {
            "color": "#2a3f5f"
           }
          },
          "ternary": {
           "aaxis": {
            "gridcolor": "white",
            "linecolor": "white",
            "ticks": ""
           },
           "baxis": {
            "gridcolor": "white",
            "linecolor": "white",
            "ticks": ""
           },
           "bgcolor": "#E5ECF6",
           "caxis": {
            "gridcolor": "white",
            "linecolor": "white",
            "ticks": ""
           }
          },
          "title": {
           "x": 0.05
          },
          "xaxis": {
           "automargin": true,
           "gridcolor": "white",
           "linecolor": "white",
           "ticks": "",
           "title": {
            "standoff": 15
           },
           "zerolinecolor": "white",
           "zerolinewidth": 2
          },
          "yaxis": {
           "automargin": true,
           "gridcolor": "white",
           "linecolor": "white",
           "ticks": "",
           "title": {
            "standoff": 15
           },
           "zerolinecolor": "white",
           "zerolinewidth": 2
          }
         }
        },
        "xaxis": {
         "anchor": "y",
         "domain": [
          0,
          1
         ],
         "title": {
          "text": "x"
         }
        },
        "yaxis": {
         "anchor": "x",
         "domain": [
          0,
          1
         ],
         "title": {
          "text": "count"
         }
        }
       }
      }
     },
     "metadata": {},
     "output_type": "display_data"
    }
   ],
   "source": [
    "fig_wpm_histogram = px.histogram(x = df_results['WPM'], nbins = 50, \n",
    "text_auto = True)\n",
    "fig_wpm_histogram.update_layout(bargroupgap = 0.1) # Adds a bit of space\n",
    "# in between histogram bars. See https://stackoverflow.com/a/62925197/13097194\n",
    "fig_wpm_histogram.write_html('Analyses/wpm_histogram.html')\n",
    "fig_wpm_histogram.write_image('Analyses/wpm_histogram.png', \n",
    "width = 1920, height = 1080, engine = 'kaleido', scale = 2)\n",
    "fig_wpm_histogram\n"
   ]
  },
  {
   "cell_type": "code",
   "execution_count": 81,
   "metadata": {},
   "outputs": [
    {
     "data": {
      "application/vnd.plotly.v1+json": {
       "config": {
        "plotlyServerURL": "https://plot.ly"
       },
       "data": [
        {
         "alignmentgroup": "True",
         "bingroup": "x",
         "hovertemplate": "x=%{x}<br>count=%{y}<extra></extra>",
         "legendgroup": "",
         "marker": {
          "color": "#636efa",
          "pattern": {
           "shape": ""
          }
         },
         "name": "",
         "nbinsx": 50,
         "offsetgroup": "",
         "orientation": "v",
         "showlegend": false,
         "texttemplate": "%{value}",
         "type": "histogram",
         "x": [
          102.2557986,
          115.7346535,
          142.5452918,
          137.7414966,
          84.91257979,
          103.0949072,
          140.4618271,
          77.08441069,
          112.7003629,
          143.5314685,
          125.0376318,
          121.9772506,
          105.3597769,
          96.49691111,
          161.0931056,
          135.7298163,
          165.8691277,
          84.00849276,
          123.1983781,
          121.5749177,
          135.6642724,
          155.0448175,
          157.5844433,
          147.6314926,
          124.5485308,
          184.2361975,
          130.0511073,
          138.1350428,
          193.2515087,
          100.1429176,
          122.5971194,
          127.6817625,
          143.0622221,
          168.403897,
          150.1085888,
          147.0209159,
          171.0487319,
          146.2200932,
          116.8923964,
          147.7794536,
          137.9010458,
          124.164215,
          134.8010763,
          137.0410419,
          144.9279153,
          142.5807182,
          170.1109301,
          162.4183344,
          178.9753622,
          134.4954117,
          147.7605567,
          126.2491401,
          128.652569,
          152.658516,
          143.6326748,
          140.5365586,
          148.6723345,
          132.8951263,
          148.3544075,
          123.9723083,
          147.7218366,
          135.3845744,
          160.678684,
          162.0956829,
          120.0026465,
          153.4334004,
          160.0152284,
          138.1549429,
          159.2429145,
          146.3512585,
          102.4181261,
          156.536704,
          141.8866797,
          123.1854455,
          144.5291828,
          136.5369094,
          161.5598703,
          140.7957314,
          157.8290157,
          128.3149053,
          151.1720859,
          145.6297216,
          155.3612424,
          145.8383024,
          119.4779366,
          141.2907957,
          142.7135496,
          137.3865456,
          122.4674862,
          129.3603015,
          147.9134674,
          83.27333878,
          145.9253839,
          144.3710489,
          131.0214389,
          135.0523208,
          139.0052063,
          133.126821,
          85.60465043,
          120.399074,
          110.783171,
          117.6830641,
          109.0699429,
          143.0414948,
          127.9908969,
          133.3462959,
          145.1585,
          144.5889483,
          135.0674372,
          133.8916157,
          145.107872,
          149.1722969,
          127.7218955,
          106.0286366,
          157.4320554,
          135.0889449,
          120.7493271,
          141.4825769,
          146.6605053,
          140.8272098,
          149.0467977,
          124.9154053,
          137.4006952,
          149.4791011,
          167.7062966,
          148.1308815,
          140.635887,
          122.306038,
          142.9093939,
          155.9042406,
          163.9380587,
          152.1530852,
          129.3325926,
          127.8352766,
          149.0271549,
          149.1389449,
          139.7333506,
          128.7198179,
          150.9277463,
          114.0471947,
          165.4238972,
          126.45724,
          132.5016427,
          143.251065,
          160.4361977,
          141.8371523,
          145.5341428,
          138.7934831,
          168.2437689,
          136.1501266,
          130.4971277,
          128.5403961,
          136.8264274,
          152.4793101,
          149.0647727,
          107.2099048,
          140.3668112,
          120.4577798,
          126.6242449,
          140.2086117,
          106.021832,
          147.031789,
          139.8201876,
          154.8833598,
          158.1533926,
          154.278507,
          112.7388201,
          125.5380868,
          125.240525,
          100.2059884,
          155.9615098,
          130.4061902,
          150.2352046,
          161.6821158,
          128.5951518,
          133.6863333,
          121.2336049,
          161.0914995,
          153.1308776,
          97.79773045,
          148.861709,
          150.5661251,
          137.9164972,
          138.8337809,
          119.9394567,
          154.6339608,
          116.4373884,
          150.6016981,
          106.6278383,
          156.2175731,
          132.6910843,
          123.4192656,
          116.9546646,
          136.1759336,
          134.4406464,
          125.235248,
          146.2725432,
          140.32446,
          159.1789682,
          124.4789779,
          123.8816332,
          148.5596109,
          116.2100446,
          142.6450358,
          138.9507549,
          118.7819124,
          109.9707853,
          146.4267098,
          126.3155409,
          143.5214024,
          135.3254434,
          155.0468179,
          137.9325707,
          138.225223,
          106.3015141,
          153.8609336,
          135.2016596,
          105.4580544,
          142.7679393,
          139.3614573,
          155.2874714,
          125.5732846,
          132.0124838,
          132.1945579,
          124.03176,
          117.1652964,
          135.2662752,
          144.241964,
          160.1229467,
          117.3835882,
          126.9375901,
          128.5052807,
          143.8754693,
          161.3884259,
          106.4082393,
          113.4144894,
          183.4856669,
          137.9548131,
          124.3449642,
          156.4077382,
          124.1192504,
          143.9128945,
          147.4820083,
          99.82400128,
          92.21465671,
          93.52381031,
          143.7744169,
          118.7266681,
          117.6005861,
          87.30937825,
          118.7009623,
          137.7580685,
          114.2573955,
          156.9810082,
          163.6179313,
          146.5131341,
          101.4457857,
          156.8557855,
          155.6884705,
          105.0217282,
          101.630303,
          144.1907993,
          158.3302592,
          111.2214298,
          131.0403863,
          156.0012709,
          126.4882724,
          146.3893853,
          124.9765611,
          142.0066213,
          156.5512382,
          119.7164084,
          129.1734743,
          115.6871609,
          150.7006983,
          126.230722,
          146.3989022,
          132.4772881,
          136.7337636,
          113.4415078,
          120.9268341,
          139.6275464,
          136.3372508,
          99.18100061,
          135.6730702,
          148.8651702,
          117.8428999,
          129.2226526,
          102.13818396888962,
          120.48749001306795,
          132.8576746417254,
          90.84028641011042,
          124.21852064037331,
          113.35552428910694,
          125.6560905333676,
          147.8038527451023,
          149.91220085790678,
          123.9539683979674,
          125.94743903164483,
          143.9611821561249,
          142.040318931446,
          150.550412428582,
          147.61711356706184,
          152.30838167556178,
          142.303723743276,
          114.61122192253632,
          135.6469037782072,
          146.35842571976278,
          133.73486065823164,
          159.58191208544406,
          116.93763792942312,
          106.24661570788427,
          165.21904205086668,
          142.87787933759532,
          140.8676311976334,
          127.7837959398602,
          156.37907846399904,
          135.09351711324928,
          125.1189778017268,
          115.84939013611456,
          161.70446929707606,
          160.9730861045085,
          111.09302880152316,
          162.51239311411,
          160.06999091698722,
          149.82309839562225,
          146.43082894150822,
          164.78614744085377,
          130.5383300550057,
          143.97091686007002,
          101.11382029329604,
          129.98233902674602,
          137.48487405352114,
          150.99443261319522,
          112.7001169690485,
          145.39696399449005,
          164.4922606688814,
          152.91388285056925,
          162.53948411569007,
          154.0127971541685,
          182.1425444180597,
          113.8239095356812,
          160.677088254899,
          163.14667850033788,
          142.56578866553633,
          148.6987268220503,
          114.1434700625612,
          147.57405048401554,
          149.30684831494077,
          126.20519621797196,
          139.94633993580445,
          126.9245477714586,
          146.22189805127886,
          131.42306484991144,
          145.30902821100034,
          162.4136034262146,
          164.65081611071054,
          139.1938713049083,
          116.25733748793996,
          158.97949435405167,
          159.4594056928479,
          160.6100877415165,
          155.76334567780924,
          126.43754997815417,
          122.00263194163227,
          173.18579743135868,
          167.63149622073377,
          164.05621539256902,
          153.19160682658327,
          103.10951733149292,
          143.58874865629957,
          169.12094179101882,
          140.02595222180497,
          176.4035068952055,
          161.578202837319,
          146.61284206103738,
          160.32751649175646,
          131.9592444041659,
          130.39430146308098,
          95.19494771288272,
          139.84725735631602,
          117.0109106809606,
          164.2038699821898,
          111.21520257399634,
          110.61872440278312,
          93.54437596126996,
          173.74069274168957,
          140.40689945025778,
          118.73919704713076,
          134.32002613190207,
          111.09879759326508,
          84.38909012203041,
          83.75553195645635,
          111.65370758833052,
          84.52302359241595,
          56.428207168106,
          137.00100785632145,
          104.05074428404626,
          106.83920364403522,
          129.21597646531856,
          127.69430589739112,
          139.00065447237006,
          123.92827680746116,
          87.01866205273936,
          142.51005252458106,
          119.65226443929498,
          134.9754803466662,
          105.08601725744704,
          108.17934090978812,
          82.9661044249338,
          124.25718009912066,
          128.87772636357593,
          158.69383141480452,
          181.4326694465167,
          141.265017681068,
          141.93788585326277,
          123.72983104423646,
          118.9569962403272,
          125.11753746520492,
          130.01211792704754,
          106.32089141952508,
          130.0139783427136,
          148.09985936839206,
          125.38742334459953,
          157.6765394851595,
          128.881456072641,
          135.87783066929154,
          157.0132623457111,
          159.50126306763843,
          168.8132952426762,
          155.87125454275684,
          142.49426469262005,
          146.4275154150089,
          104.11571669610146,
          171.72475830210388,
          105.67641843295668,
          139.78881353080993,
          103.51504534087584,
          129.05039332595064,
          99.08361120154072,
          128.45652344848554,
          136.86200516225722,
          125.21672622194612,
          120.27421253881874,
          128.24014855424184,
          106.11181793157404,
          151.5217265005572,
          123.3628972049639,
          154.78518164162358,
          98.61695928877234,
          151.777983754413,
          144.78620558526308,
          135.68871143925486,
          137.54488438448635,
          122.46620324805431,
          142.1858155692887,
          136.9921706451144,
          153.55835113996105,
          143.2609261928418,
          135.955200375587,
          112.0448227831792,
          115.5683326195538,
          143.85775097932537,
          106.5391750204946,
          131.6597480906924,
          121.20818724096397,
          109.14554683675829,
          115.68491953664268,
          125.90765012753788,
          156.22416588296122,
          147.2165612220749,
          132.088542187398,
          159.42531353980516,
          127.92500056763323,
          182.14264311377704,
          126.88139230714452,
          155.57827657047102,
          130.68656563255905,
          94.36481993941712,
          117.25185855936166,
          140.58210060931313,
          125.1762562811293,
          134.70761999403007,
          108.20663479731242,
          161.62370782784654,
          120.40333852087213,
          139.53618445690668,
          82.00146131688726,
          101.54043350785112,
          122.7582234002282,
          126.69185761503942,
          91.91788712595437,
          121.38684999064743,
          133.52665075490737,
          124.95474610153816,
          123.3780197635339,
          146.64808234909435,
          133.50861716148194,
          145.15960712498867,
          109.98872914673557,
          141.31417410844853,
          133.8829037853563,
          162.78159914944152,
          118.39228991472427,
          124.9424220049167,
          130.83451801777937,
          124.81439695483368,
          151.46092135874576,
          147.0658695658305,
          94.13989136218186,
          111.26453201178116,
          97.2058284375739,
          107.8983827430193,
          91.36627787758547,
          121.51391261349244,
          109.36537255499854,
          97.01859539496618,
          99.43385284500154,
          106.85206229195204,
          125.6171903409102,
          155.08252063335388,
          129.76472645313518,
          98.12842275935652,
          103.45013680116574,
          151.8109628417961,
          135.1843612080263,
          125.73602243467602,
          113.71636790809276,
          101.28178384136262,
          123.74796647593972,
          106.89293479777852,
          121.38379706638938,
          84.99338371898571,
          106.14956019770388,
          105.1374276174544,
          130.46463336230698,
          114.36113770003696,
          98.66960630256224,
          144.08790790571487,
          131.785426383583,
          84.45584138001766,
          116.75581561307462,
          123.45769863410987,
          131.22358707641706,
          146.4652627502622,
          108.24146428862116,
          110.99679386216606,
          140.38130978753134,
          117.59771847122876,
          105.38233287351916,
          160.09536163413333,
          103.8004663279107,
          162.74923543275256,
          161.33974933394316,
          156.60820385804732,
          144.03758996074302,
          126.1541679134106,
          112.00149112997534,
          160.15189040037097,
          143.20406142943537,
          128.78725739171415,
          98.66590871357565,
          132.28648449020648,
          113.1608118737168,
          100.72911873772784,
          124.07544077117564,
          134.76824819304494,
          100.9214659095924,
          119.44895230847744,
          113.51861293954036,
          143.9829161466043,
          117.8681081422134,
          107.54003017692168,
          138.1701083317912,
          122.59162954899782,
          141.8804217482107,
          123.67869111345676,
          131.13350981194617,
          169.5517435558518,
          126.900157327847,
          123.5134987850983,
          165.40518715790327,
          115.60481823642824,
          132.81807810625972,
          140.94297648930427,
          154.6506793154782,
          115.61367498644375,
          114.77719707050449,
          126.05055537407355,
          110.79274784841031,
          154.97999368006785,
          111.35140868462612,
          141.5577203394318,
          135.12484760796374,
          121.38212075809068,
          130.77659531998617,
          148.50429217620805,
          106.95967301313776,
          161.21252169974312,
          140.16247686742977,
          150.88428468517594,
          134.3530808383669,
          112.24756016513746,
          134.42019707764624,
          120.84876514357762,
          142.67383549373673,
          124.94139151813758,
          119.34794679879796,
          131.19319059148356,
          121.2638020352281,
          132.9700626718989,
          142.1849212379955,
          144.99733589887302,
          154.071666203114,
          103.75472883228612,
          141.97614806405358,
          127.96752864610303,
          117.1801381485663,
          118.32898617175204,
          126.56080982287904,
          133.43562257034387,
          105.06309495311848,
          109.4873209894871,
          109.95170792971592,
          120.58706072736372,
          123.84462890320016,
          121.94429847399486,
          126.09203122525513,
          136.3901162381743,
          156.9474743384475,
          153.91581605761334,
          131.16181254860695,
          162.12734355420804,
          121.66795197322269,
          114.3278361085468,
          149.15669647602417,
          138.88090783293478,
          115.79364113438795,
          138.98681529603286,
          149.58931017564527,
          124.9268071786078,
          132.49321008374412,
          154.08545018223987,
          158.4700707611226,
          127.66063984399034,
          144.99879842339567,
          137.81393075159198,
          122.47176775090824,
          151.71700407675598,
          131.92683256668516,
          115.87928721847454,
          150.10525357150104,
          122.3688337113822,
          119.73483619900271,
          125.45273015860602,
          117.77948134731756,
          142.59027787764688,
          107.69881813296934,
          127.1357946629225,
          114.60243973536885,
          93.6488860028354,
          117.6689961364238,
          132.72180137791835,
          144.84357397987313,
          81.00053962278399,
          122.54247432626347,
          96.11019996037967,
          137.60806077034422,
          133.89327630420303,
          122.15921687850972,
          126.25376598230412,
          140.3006201901446,
          95.10299030346886,
          97.61103588185172,
          127.64590040051942,
          108.29992699779748,
          157.98750705961191,
          126.49758825529236,
          161.77555117643232,
          132.64217229286805,
          148.72589087791104,
          134.86265520293728,
          159.92473459126813,
          164.53690735444673,
          136.62217129305856,
          141.9163167789176,
          133.036659280447,
          115.74169268496996,
          121.62708821651889,
          130.43082429148748,
          101.59901576348648,
          120.95564656249508,
          118.99034522086606,
          147.58874339127283,
          139.15590248775194,
          141.59677815184853,
          121.37929921229949,
          120.0766507758018,
          116.3535061691415,
          126.53432363693356,
          155.2865737429844,
          122.52295455443908,
          138.52198382466082,
          132.04130298129158,
          134.88451387078828,
          133.87787005995497,
          143.95332242830236,
          161.23803283905693,
          90.6702517643667,
          148.5613457393098,
          129.31609454390147,
          100.272036034666,
          73.38096724934297,
          122.6513476384404,
          158.98873130224726,
          133.17123347310502,
          137.44141889134957
         ],
         "xaxis": "x",
         "yaxis": "y"
        }
       ],
       "layout": {
        "bargroupgap": 0.1,
        "barmode": "relative",
        "legend": {
         "tracegroupgap": 0
        },
        "margin": {
         "t": 60
        },
        "template": {
         "data": {
          "bar": [
           {
            "error_x": {
             "color": "#2a3f5f"
            },
            "error_y": {
             "color": "#2a3f5f"
            },
            "marker": {
             "line": {
              "color": "#E5ECF6",
              "width": 0.5
             },
             "pattern": {
              "fillmode": "overlay",
              "size": 10,
              "solidity": 0.2
             }
            },
            "type": "bar"
           }
          ],
          "barpolar": [
           {
            "marker": {
             "line": {
              "color": "#E5ECF6",
              "width": 0.5
             },
             "pattern": {
              "fillmode": "overlay",
              "size": 10,
              "solidity": 0.2
             }
            },
            "type": "barpolar"
           }
          ],
          "carpet": [
           {
            "aaxis": {
             "endlinecolor": "#2a3f5f",
             "gridcolor": "white",
             "linecolor": "white",
             "minorgridcolor": "white",
             "startlinecolor": "#2a3f5f"
            },
            "baxis": {
             "endlinecolor": "#2a3f5f",
             "gridcolor": "white",
             "linecolor": "white",
             "minorgridcolor": "white",
             "startlinecolor": "#2a3f5f"
            },
            "type": "carpet"
           }
          ],
          "choropleth": [
           {
            "colorbar": {
             "outlinewidth": 0,
             "ticks": ""
            },
            "type": "choropleth"
           }
          ],
          "contour": [
           {
            "colorbar": {
             "outlinewidth": 0,
             "ticks": ""
            },
            "colorscale": [
             [
              0,
              "#0d0887"
             ],
             [
              0.1111111111111111,
              "#46039f"
             ],
             [
              0.2222222222222222,
              "#7201a8"
             ],
             [
              0.3333333333333333,
              "#9c179e"
             ],
             [
              0.4444444444444444,
              "#bd3786"
             ],
             [
              0.5555555555555556,
              "#d8576b"
             ],
             [
              0.6666666666666666,
              "#ed7953"
             ],
             [
              0.7777777777777778,
              "#fb9f3a"
             ],
             [
              0.8888888888888888,
              "#fdca26"
             ],
             [
              1,
              "#f0f921"
             ]
            ],
            "type": "contour"
           }
          ],
          "contourcarpet": [
           {
            "colorbar": {
             "outlinewidth": 0,
             "ticks": ""
            },
            "type": "contourcarpet"
           }
          ],
          "heatmap": [
           {
            "colorbar": {
             "outlinewidth": 0,
             "ticks": ""
            },
            "colorscale": [
             [
              0,
              "#0d0887"
             ],
             [
              0.1111111111111111,
              "#46039f"
             ],
             [
              0.2222222222222222,
              "#7201a8"
             ],
             [
              0.3333333333333333,
              "#9c179e"
             ],
             [
              0.4444444444444444,
              "#bd3786"
             ],
             [
              0.5555555555555556,
              "#d8576b"
             ],
             [
              0.6666666666666666,
              "#ed7953"
             ],
             [
              0.7777777777777778,
              "#fb9f3a"
             ],
             [
              0.8888888888888888,
              "#fdca26"
             ],
             [
              1,
              "#f0f921"
             ]
            ],
            "type": "heatmap"
           }
          ],
          "heatmapgl": [
           {
            "colorbar": {
             "outlinewidth": 0,
             "ticks": ""
            },
            "colorscale": [
             [
              0,
              "#0d0887"
             ],
             [
              0.1111111111111111,
              "#46039f"
             ],
             [
              0.2222222222222222,
              "#7201a8"
             ],
             [
              0.3333333333333333,
              "#9c179e"
             ],
             [
              0.4444444444444444,
              "#bd3786"
             ],
             [
              0.5555555555555556,
              "#d8576b"
             ],
             [
              0.6666666666666666,
              "#ed7953"
             ],
             [
              0.7777777777777778,
              "#fb9f3a"
             ],
             [
              0.8888888888888888,
              "#fdca26"
             ],
             [
              1,
              "#f0f921"
             ]
            ],
            "type": "heatmapgl"
           }
          ],
          "histogram": [
           {
            "marker": {
             "pattern": {
              "fillmode": "overlay",
              "size": 10,
              "solidity": 0.2
             }
            },
            "type": "histogram"
           }
          ],
          "histogram2d": [
           {
            "colorbar": {
             "outlinewidth": 0,
             "ticks": ""
            },
            "colorscale": [
             [
              0,
              "#0d0887"
             ],
             [
              0.1111111111111111,
              "#46039f"
             ],
             [
              0.2222222222222222,
              "#7201a8"
             ],
             [
              0.3333333333333333,
              "#9c179e"
             ],
             [
              0.4444444444444444,
              "#bd3786"
             ],
             [
              0.5555555555555556,
              "#d8576b"
             ],
             [
              0.6666666666666666,
              "#ed7953"
             ],
             [
              0.7777777777777778,
              "#fb9f3a"
             ],
             [
              0.8888888888888888,
              "#fdca26"
             ],
             [
              1,
              "#f0f921"
             ]
            ],
            "type": "histogram2d"
           }
          ],
          "histogram2dcontour": [
           {
            "colorbar": {
             "outlinewidth": 0,
             "ticks": ""
            },
            "colorscale": [
             [
              0,
              "#0d0887"
             ],
             [
              0.1111111111111111,
              "#46039f"
             ],
             [
              0.2222222222222222,
              "#7201a8"
             ],
             [
              0.3333333333333333,
              "#9c179e"
             ],
             [
              0.4444444444444444,
              "#bd3786"
             ],
             [
              0.5555555555555556,
              "#d8576b"
             ],
             [
              0.6666666666666666,
              "#ed7953"
             ],
             [
              0.7777777777777778,
              "#fb9f3a"
             ],
             [
              0.8888888888888888,
              "#fdca26"
             ],
             [
              1,
              "#f0f921"
             ]
            ],
            "type": "histogram2dcontour"
           }
          ],
          "mesh3d": [
           {
            "colorbar": {
             "outlinewidth": 0,
             "ticks": ""
            },
            "type": "mesh3d"
           }
          ],
          "parcoords": [
           {
            "line": {
             "colorbar": {
              "outlinewidth": 0,
              "ticks": ""
             }
            },
            "type": "parcoords"
           }
          ],
          "pie": [
           {
            "automargin": true,
            "type": "pie"
           }
          ],
          "scatter": [
           {
            "fillpattern": {
             "fillmode": "overlay",
             "size": 10,
             "solidity": 0.2
            },
            "type": "scatter"
           }
          ],
          "scatter3d": [
           {
            "line": {
             "colorbar": {
              "outlinewidth": 0,
              "ticks": ""
             }
            },
            "marker": {
             "colorbar": {
              "outlinewidth": 0,
              "ticks": ""
             }
            },
            "type": "scatter3d"
           }
          ],
          "scattercarpet": [
           {
            "marker": {
             "colorbar": {
              "outlinewidth": 0,
              "ticks": ""
             }
            },
            "type": "scattercarpet"
           }
          ],
          "scattergeo": [
           {
            "marker": {
             "colorbar": {
              "outlinewidth": 0,
              "ticks": ""
             }
            },
            "type": "scattergeo"
           }
          ],
          "scattergl": [
           {
            "marker": {
             "colorbar": {
              "outlinewidth": 0,
              "ticks": ""
             }
            },
            "type": "scattergl"
           }
          ],
          "scattermapbox": [
           {
            "marker": {
             "colorbar": {
              "outlinewidth": 0,
              "ticks": ""
             }
            },
            "type": "scattermapbox"
           }
          ],
          "scatterpolar": [
           {
            "marker": {
             "colorbar": {
              "outlinewidth": 0,
              "ticks": ""
             }
            },
            "type": "scatterpolar"
           }
          ],
          "scatterpolargl": [
           {
            "marker": {
             "colorbar": {
              "outlinewidth": 0,
              "ticks": ""
             }
            },
            "type": "scatterpolargl"
           }
          ],
          "scatterternary": [
           {
            "marker": {
             "colorbar": {
              "outlinewidth": 0,
              "ticks": ""
             }
            },
            "type": "scatterternary"
           }
          ],
          "surface": [
           {
            "colorbar": {
             "outlinewidth": 0,
             "ticks": ""
            },
            "colorscale": [
             [
              0,
              "#0d0887"
             ],
             [
              0.1111111111111111,
              "#46039f"
             ],
             [
              0.2222222222222222,
              "#7201a8"
             ],
             [
              0.3333333333333333,
              "#9c179e"
             ],
             [
              0.4444444444444444,
              "#bd3786"
             ],
             [
              0.5555555555555556,
              "#d8576b"
             ],
             [
              0.6666666666666666,
              "#ed7953"
             ],
             [
              0.7777777777777778,
              "#fb9f3a"
             ],
             [
              0.8888888888888888,
              "#fdca26"
             ],
             [
              1,
              "#f0f921"
             ]
            ],
            "type": "surface"
           }
          ],
          "table": [
           {
            "cells": {
             "fill": {
              "color": "#EBF0F8"
             },
             "line": {
              "color": "white"
             }
            },
            "header": {
             "fill": {
              "color": "#C8D4E3"
             },
             "line": {
              "color": "white"
             }
            },
            "type": "table"
           }
          ]
         },
         "layout": {
          "annotationdefaults": {
           "arrowcolor": "#2a3f5f",
           "arrowhead": 0,
           "arrowwidth": 1
          },
          "autotypenumbers": "strict",
          "coloraxis": {
           "colorbar": {
            "outlinewidth": 0,
            "ticks": ""
           }
          },
          "colorscale": {
           "diverging": [
            [
             0,
             "#8e0152"
            ],
            [
             0.1,
             "#c51b7d"
            ],
            [
             0.2,
             "#de77ae"
            ],
            [
             0.3,
             "#f1b6da"
            ],
            [
             0.4,
             "#fde0ef"
            ],
            [
             0.5,
             "#f7f7f7"
            ],
            [
             0.6,
             "#e6f5d0"
            ],
            [
             0.7,
             "#b8e186"
            ],
            [
             0.8,
             "#7fbc41"
            ],
            [
             0.9,
             "#4d9221"
            ],
            [
             1,
             "#276419"
            ]
           ],
           "sequential": [
            [
             0,
             "#0d0887"
            ],
            [
             0.1111111111111111,
             "#46039f"
            ],
            [
             0.2222222222222222,
             "#7201a8"
            ],
            [
             0.3333333333333333,
             "#9c179e"
            ],
            [
             0.4444444444444444,
             "#bd3786"
            ],
            [
             0.5555555555555556,
             "#d8576b"
            ],
            [
             0.6666666666666666,
             "#ed7953"
            ],
            [
             0.7777777777777778,
             "#fb9f3a"
            ],
            [
             0.8888888888888888,
             "#fdca26"
            ],
            [
             1,
             "#f0f921"
            ]
           ],
           "sequentialminus": [
            [
             0,
             "#0d0887"
            ],
            [
             0.1111111111111111,
             "#46039f"
            ],
            [
             0.2222222222222222,
             "#7201a8"
            ],
            [
             0.3333333333333333,
             "#9c179e"
            ],
            [
             0.4444444444444444,
             "#bd3786"
            ],
            [
             0.5555555555555556,
             "#d8576b"
            ],
            [
             0.6666666666666666,
             "#ed7953"
            ],
            [
             0.7777777777777778,
             "#fb9f3a"
            ],
            [
             0.8888888888888888,
             "#fdca26"
            ],
            [
             1,
             "#f0f921"
            ]
           ]
          },
          "colorway": [
           "#636efa",
           "#EF553B",
           "#00cc96",
           "#ab63fa",
           "#FFA15A",
           "#19d3f3",
           "#FF6692",
           "#B6E880",
           "#FF97FF",
           "#FECB52"
          ],
          "font": {
           "color": "#2a3f5f"
          },
          "geo": {
           "bgcolor": "white",
           "lakecolor": "white",
           "landcolor": "#E5ECF6",
           "showlakes": true,
           "showland": true,
           "subunitcolor": "white"
          },
          "hoverlabel": {
           "align": "left"
          },
          "hovermode": "closest",
          "mapbox": {
           "style": "light"
          },
          "paper_bgcolor": "white",
          "plot_bgcolor": "#E5ECF6",
          "polar": {
           "angularaxis": {
            "gridcolor": "white",
            "linecolor": "white",
            "ticks": ""
           },
           "bgcolor": "#E5ECF6",
           "radialaxis": {
            "gridcolor": "white",
            "linecolor": "white",
            "ticks": ""
           }
          },
          "scene": {
           "xaxis": {
            "backgroundcolor": "#E5ECF6",
            "gridcolor": "white",
            "gridwidth": 2,
            "linecolor": "white",
            "showbackground": true,
            "ticks": "",
            "zerolinecolor": "white"
           },
           "yaxis": {
            "backgroundcolor": "#E5ECF6",
            "gridcolor": "white",
            "gridwidth": 2,
            "linecolor": "white",
            "showbackground": true,
            "ticks": "",
            "zerolinecolor": "white"
           },
           "zaxis": {
            "backgroundcolor": "#E5ECF6",
            "gridcolor": "white",
            "gridwidth": 2,
            "linecolor": "white",
            "showbackground": true,
            "ticks": "",
            "zerolinecolor": "white"
           }
          },
          "shapedefaults": {
           "line": {
            "color": "#2a3f5f"
           }
          },
          "ternary": {
           "aaxis": {
            "gridcolor": "white",
            "linecolor": "white",
            "ticks": ""
           },
           "baxis": {
            "gridcolor": "white",
            "linecolor": "white",
            "ticks": ""
           },
           "bgcolor": "#E5ECF6",
           "caxis": {
            "gridcolor": "white",
            "linecolor": "white",
            "ticks": ""
           }
          },
          "title": {
           "x": 0.05
          },
          "xaxis": {
           "automargin": true,
           "gridcolor": "white",
           "linecolor": "white",
           "ticks": "",
           "title": {
            "standoff": 15
           },
           "zerolinecolor": "white",
           "zerolinewidth": 2
          },
          "yaxis": {
           "automargin": true,
           "gridcolor": "white",
           "linecolor": "white",
           "ticks": "",
           "title": {
            "standoff": 15
           },
           "zerolinecolor": "white",
           "zerolinewidth": 2
          }
         }
        },
        "xaxis": {
         "anchor": "y",
         "domain": [
          0,
          1
         ],
         "title": {
          "text": "x"
         }
        },
        "yaxis": {
         "anchor": "x",
         "domain": [
          0,
          1
         ],
         "title": {
          "text": "count"
         }
        }
       }
      }
     },
     "metadata": {},
     "output_type": "display_data"
    }
   ],
   "source": [
    "fig_wpm_histogram = px.histogram(x = df_results.tail(1000)['WPM'], nbins = 50, \n",
    "text_auto = True)\n",
    "fig_wpm_histogram.update_layout(bargroupgap = 0.1) # Adds a bit of space\n",
    "# in between histogram bars. See https://stackoverflow.com/a/62925197/13097194\n",
    "fig_wpm_histogram.write_html('Analyses/wpm_histogram_last_1000.html')\n",
    "fig_wpm_histogram.write_image('Analyses/wpm_histogram_last_1000.png', \n",
    "width = 1920, height = 1080, engine = 'kaleido', scale = 2)\n",
    "fig_wpm_histogram\n"
   ]
  },
  {
   "cell_type": "markdown",
   "metadata": {},
   "source": [
    "## Evaluating average results by month:"
   ]
  },
  {
   "cell_type": "code",
   "execution_count": 52,
   "metadata": {},
   "outputs": [
    {
     "data": {
      "text/html": [
       "<div>\n",
       "<style scoped>\n",
       "    .dataframe tbody tr th:only-of-type {\n",
       "        vertical-align: middle;\n",
       "    }\n",
       "\n",
       "    .dataframe tbody tr th {\n",
       "        vertical-align: top;\n",
       "    }\n",
       "\n",
       "    .dataframe thead th {\n",
       "        text-align: right;\n",
       "    }\n",
       "</style>\n",
       "<table border=\"1\" class=\"dataframe\">\n",
       "  <thead>\n",
       "    <tr style=\"text-align: right;\">\n",
       "      <th></th>\n",
       "      <th>Local_Year</th>\n",
       "      <th>Local_Month</th>\n",
       "      <th>Count</th>\n",
       "      <th>WPM</th>\n",
       "      <th>Year/Month</th>\n",
       "    </tr>\n",
       "  </thead>\n",
       "  <tbody>\n",
       "    <tr>\n",
       "      <th>0</th>\n",
       "      <td>2023</td>\n",
       "      <td>10</td>\n",
       "      <td>332</td>\n",
       "      <td>135.657830</td>\n",
       "      <td>2023-10</td>\n",
       "    </tr>\n",
       "    <tr>\n",
       "      <th>1</th>\n",
       "      <td>2023</td>\n",
       "      <td>11</td>\n",
       "      <td>385</td>\n",
       "      <td>130.023112</td>\n",
       "      <td>2023-11</td>\n",
       "    </tr>\n",
       "  </tbody>\n",
       "</table>\n",
       "</div>"
      ],
      "text/plain": [
       "   Local_Year  Local_Month  Count         WPM Year/Month\n",
       "0        2023           10    332  135.657830    2023-10\n",
       "1        2023           11    385  130.023112    2023-11"
      ]
     },
     "execution_count": 52,
     "metadata": {},
     "output_type": "execute_result"
    }
   ],
   "source": [
    "df_results_by_month = df_results.pivot_table(\n",
    "    index = ['Local_Year', 'Local_Month'], values = ['Count', 'WPM'], \n",
    "    aggfunc = {'Count':'sum', 'WPM':'mean'}).reset_index()\n",
    "# Enclosing the year/month in parentheses so that they won't be converted\n",
    "df_results_by_month['Year/Month'] = df_results_by_month[\n",
    "    'Local_Year'].astype('str') + '-' + df_results_by_month[\n",
    "    'Local_Month'].astype('str')\n",
    "df_results_by_month.to_csv('Analyses/results_by_month.csv')\n",
    "df_results_by_month"
   ]
  },
  {
   "cell_type": "code",
   "execution_count": 53,
   "metadata": {},
   "outputs": [
    {
     "data": {
      "application/vnd.plotly.v1+json": {
       "config": {
        "plotlyServerURL": "https://plot.ly"
       },
       "data": [
        {
         "alignmentgroup": "True",
         "hovertemplate": "Year/Month=%{x}<br>WPM=%{y}<br>Count=%{marker.color}<extra></extra>",
         "legendgroup": "",
         "marker": {
          "color": [
           332,
           385
          ],
          "coloraxis": "coloraxis",
          "pattern": {
           "shape": ""
          }
         },
         "name": "",
         "offsetgroup": "",
         "orientation": "v",
         "showlegend": false,
         "textposition": "auto",
         "type": "bar",
         "x": [
          "2023-10",
          "2023-11"
         ],
         "xaxis": "x",
         "y": [
          135.65783000328662,
          130.02311180966896
         ],
         "yaxis": "y"
        }
       ],
       "layout": {
        "barmode": "relative",
        "coloraxis": {
         "colorbar": {
          "title": {
           "text": "Count"
          }
         },
         "colorscale": [
          [
           0,
           "#0d0887"
          ],
          [
           0.1111111111111111,
           "#46039f"
          ],
          [
           0.2222222222222222,
           "#7201a8"
          ],
          [
           0.3333333333333333,
           "#9c179e"
          ],
          [
           0.4444444444444444,
           "#bd3786"
          ],
          [
           0.5555555555555556,
           "#d8576b"
          ],
          [
           0.6666666666666666,
           "#ed7953"
          ],
          [
           0.7777777777777778,
           "#fb9f3a"
          ],
          [
           0.8888888888888888,
           "#fdca26"
          ],
          [
           1,
           "#f0f921"
          ]
         ]
        },
        "legend": {
         "tracegroupgap": 0
        },
        "margin": {
         "t": 60
        },
        "template": {
         "data": {
          "bar": [
           {
            "error_x": {
             "color": "#2a3f5f"
            },
            "error_y": {
             "color": "#2a3f5f"
            },
            "marker": {
             "line": {
              "color": "#E5ECF6",
              "width": 0.5
             },
             "pattern": {
              "fillmode": "overlay",
              "size": 10,
              "solidity": 0.2
             }
            },
            "type": "bar"
           }
          ],
          "barpolar": [
           {
            "marker": {
             "line": {
              "color": "#E5ECF6",
              "width": 0.5
             },
             "pattern": {
              "fillmode": "overlay",
              "size": 10,
              "solidity": 0.2
             }
            },
            "type": "barpolar"
           }
          ],
          "carpet": [
           {
            "aaxis": {
             "endlinecolor": "#2a3f5f",
             "gridcolor": "white",
             "linecolor": "white",
             "minorgridcolor": "white",
             "startlinecolor": "#2a3f5f"
            },
            "baxis": {
             "endlinecolor": "#2a3f5f",
             "gridcolor": "white",
             "linecolor": "white",
             "minorgridcolor": "white",
             "startlinecolor": "#2a3f5f"
            },
            "type": "carpet"
           }
          ],
          "choropleth": [
           {
            "colorbar": {
             "outlinewidth": 0,
             "ticks": ""
            },
            "type": "choropleth"
           }
          ],
          "contour": [
           {
            "colorbar": {
             "outlinewidth": 0,
             "ticks": ""
            },
            "colorscale": [
             [
              0,
              "#0d0887"
             ],
             [
              0.1111111111111111,
              "#46039f"
             ],
             [
              0.2222222222222222,
              "#7201a8"
             ],
             [
              0.3333333333333333,
              "#9c179e"
             ],
             [
              0.4444444444444444,
              "#bd3786"
             ],
             [
              0.5555555555555556,
              "#d8576b"
             ],
             [
              0.6666666666666666,
              "#ed7953"
             ],
             [
              0.7777777777777778,
              "#fb9f3a"
             ],
             [
              0.8888888888888888,
              "#fdca26"
             ],
             [
              1,
              "#f0f921"
             ]
            ],
            "type": "contour"
           }
          ],
          "contourcarpet": [
           {
            "colorbar": {
             "outlinewidth": 0,
             "ticks": ""
            },
            "type": "contourcarpet"
           }
          ],
          "heatmap": [
           {
            "colorbar": {
             "outlinewidth": 0,
             "ticks": ""
            },
            "colorscale": [
             [
              0,
              "#0d0887"
             ],
             [
              0.1111111111111111,
              "#46039f"
             ],
             [
              0.2222222222222222,
              "#7201a8"
             ],
             [
              0.3333333333333333,
              "#9c179e"
             ],
             [
              0.4444444444444444,
              "#bd3786"
             ],
             [
              0.5555555555555556,
              "#d8576b"
             ],
             [
              0.6666666666666666,
              "#ed7953"
             ],
             [
              0.7777777777777778,
              "#fb9f3a"
             ],
             [
              0.8888888888888888,
              "#fdca26"
             ],
             [
              1,
              "#f0f921"
             ]
            ],
            "type": "heatmap"
           }
          ],
          "heatmapgl": [
           {
            "colorbar": {
             "outlinewidth": 0,
             "ticks": ""
            },
            "colorscale": [
             [
              0,
              "#0d0887"
             ],
             [
              0.1111111111111111,
              "#46039f"
             ],
             [
              0.2222222222222222,
              "#7201a8"
             ],
             [
              0.3333333333333333,
              "#9c179e"
             ],
             [
              0.4444444444444444,
              "#bd3786"
             ],
             [
              0.5555555555555556,
              "#d8576b"
             ],
             [
              0.6666666666666666,
              "#ed7953"
             ],
             [
              0.7777777777777778,
              "#fb9f3a"
             ],
             [
              0.8888888888888888,
              "#fdca26"
             ],
             [
              1,
              "#f0f921"
             ]
            ],
            "type": "heatmapgl"
           }
          ],
          "histogram": [
           {
            "marker": {
             "pattern": {
              "fillmode": "overlay",
              "size": 10,
              "solidity": 0.2
             }
            },
            "type": "histogram"
           }
          ],
          "histogram2d": [
           {
            "colorbar": {
             "outlinewidth": 0,
             "ticks": ""
            },
            "colorscale": [
             [
              0,
              "#0d0887"
             ],
             [
              0.1111111111111111,
              "#46039f"
             ],
             [
              0.2222222222222222,
              "#7201a8"
             ],
             [
              0.3333333333333333,
              "#9c179e"
             ],
             [
              0.4444444444444444,
              "#bd3786"
             ],
             [
              0.5555555555555556,
              "#d8576b"
             ],
             [
              0.6666666666666666,
              "#ed7953"
             ],
             [
              0.7777777777777778,
              "#fb9f3a"
             ],
             [
              0.8888888888888888,
              "#fdca26"
             ],
             [
              1,
              "#f0f921"
             ]
            ],
            "type": "histogram2d"
           }
          ],
          "histogram2dcontour": [
           {
            "colorbar": {
             "outlinewidth": 0,
             "ticks": ""
            },
            "colorscale": [
             [
              0,
              "#0d0887"
             ],
             [
              0.1111111111111111,
              "#46039f"
             ],
             [
              0.2222222222222222,
              "#7201a8"
             ],
             [
              0.3333333333333333,
              "#9c179e"
             ],
             [
              0.4444444444444444,
              "#bd3786"
             ],
             [
              0.5555555555555556,
              "#d8576b"
             ],
             [
              0.6666666666666666,
              "#ed7953"
             ],
             [
              0.7777777777777778,
              "#fb9f3a"
             ],
             [
              0.8888888888888888,
              "#fdca26"
             ],
             [
              1,
              "#f0f921"
             ]
            ],
            "type": "histogram2dcontour"
           }
          ],
          "mesh3d": [
           {
            "colorbar": {
             "outlinewidth": 0,
             "ticks": ""
            },
            "type": "mesh3d"
           }
          ],
          "parcoords": [
           {
            "line": {
             "colorbar": {
              "outlinewidth": 0,
              "ticks": ""
             }
            },
            "type": "parcoords"
           }
          ],
          "pie": [
           {
            "automargin": true,
            "type": "pie"
           }
          ],
          "scatter": [
           {
            "fillpattern": {
             "fillmode": "overlay",
             "size": 10,
             "solidity": 0.2
            },
            "type": "scatter"
           }
          ],
          "scatter3d": [
           {
            "line": {
             "colorbar": {
              "outlinewidth": 0,
              "ticks": ""
             }
            },
            "marker": {
             "colorbar": {
              "outlinewidth": 0,
              "ticks": ""
             }
            },
            "type": "scatter3d"
           }
          ],
          "scattercarpet": [
           {
            "marker": {
             "colorbar": {
              "outlinewidth": 0,
              "ticks": ""
             }
            },
            "type": "scattercarpet"
           }
          ],
          "scattergeo": [
           {
            "marker": {
             "colorbar": {
              "outlinewidth": 0,
              "ticks": ""
             }
            },
            "type": "scattergeo"
           }
          ],
          "scattergl": [
           {
            "marker": {
             "colorbar": {
              "outlinewidth": 0,
              "ticks": ""
             }
            },
            "type": "scattergl"
           }
          ],
          "scattermapbox": [
           {
            "marker": {
             "colorbar": {
              "outlinewidth": 0,
              "ticks": ""
             }
            },
            "type": "scattermapbox"
           }
          ],
          "scatterpolar": [
           {
            "marker": {
             "colorbar": {
              "outlinewidth": 0,
              "ticks": ""
             }
            },
            "type": "scatterpolar"
           }
          ],
          "scatterpolargl": [
           {
            "marker": {
             "colorbar": {
              "outlinewidth": 0,
              "ticks": ""
             }
            },
            "type": "scatterpolargl"
           }
          ],
          "scatterternary": [
           {
            "marker": {
             "colorbar": {
              "outlinewidth": 0,
              "ticks": ""
             }
            },
            "type": "scatterternary"
           }
          ],
          "surface": [
           {
            "colorbar": {
             "outlinewidth": 0,
             "ticks": ""
            },
            "colorscale": [
             [
              0,
              "#0d0887"
             ],
             [
              0.1111111111111111,
              "#46039f"
             ],
             [
              0.2222222222222222,
              "#7201a8"
             ],
             [
              0.3333333333333333,
              "#9c179e"
             ],
             [
              0.4444444444444444,
              "#bd3786"
             ],
             [
              0.5555555555555556,
              "#d8576b"
             ],
             [
              0.6666666666666666,
              "#ed7953"
             ],
             [
              0.7777777777777778,
              "#fb9f3a"
             ],
             [
              0.8888888888888888,
              "#fdca26"
             ],
             [
              1,
              "#f0f921"
             ]
            ],
            "type": "surface"
           }
          ],
          "table": [
           {
            "cells": {
             "fill": {
              "color": "#EBF0F8"
             },
             "line": {
              "color": "white"
             }
            },
            "header": {
             "fill": {
              "color": "#C8D4E3"
             },
             "line": {
              "color": "white"
             }
            },
            "type": "table"
           }
          ]
         },
         "layout": {
          "annotationdefaults": {
           "arrowcolor": "#2a3f5f",
           "arrowhead": 0,
           "arrowwidth": 1
          },
          "autotypenumbers": "strict",
          "coloraxis": {
           "colorbar": {
            "outlinewidth": 0,
            "ticks": ""
           }
          },
          "colorscale": {
           "diverging": [
            [
             0,
             "#8e0152"
            ],
            [
             0.1,
             "#c51b7d"
            ],
            [
             0.2,
             "#de77ae"
            ],
            [
             0.3,
             "#f1b6da"
            ],
            [
             0.4,
             "#fde0ef"
            ],
            [
             0.5,
             "#f7f7f7"
            ],
            [
             0.6,
             "#e6f5d0"
            ],
            [
             0.7,
             "#b8e186"
            ],
            [
             0.8,
             "#7fbc41"
            ],
            [
             0.9,
             "#4d9221"
            ],
            [
             1,
             "#276419"
            ]
           ],
           "sequential": [
            [
             0,
             "#0d0887"
            ],
            [
             0.1111111111111111,
             "#46039f"
            ],
            [
             0.2222222222222222,
             "#7201a8"
            ],
            [
             0.3333333333333333,
             "#9c179e"
            ],
            [
             0.4444444444444444,
             "#bd3786"
            ],
            [
             0.5555555555555556,
             "#d8576b"
            ],
            [
             0.6666666666666666,
             "#ed7953"
            ],
            [
             0.7777777777777778,
             "#fb9f3a"
            ],
            [
             0.8888888888888888,
             "#fdca26"
            ],
            [
             1,
             "#f0f921"
            ]
           ],
           "sequentialminus": [
            [
             0,
             "#0d0887"
            ],
            [
             0.1111111111111111,
             "#46039f"
            ],
            [
             0.2222222222222222,
             "#7201a8"
            ],
            [
             0.3333333333333333,
             "#9c179e"
            ],
            [
             0.4444444444444444,
             "#bd3786"
            ],
            [
             0.5555555555555556,
             "#d8576b"
            ],
            [
             0.6666666666666666,
             "#ed7953"
            ],
            [
             0.7777777777777778,
             "#fb9f3a"
            ],
            [
             0.8888888888888888,
             "#fdca26"
            ],
            [
             1,
             "#f0f921"
            ]
           ]
          },
          "colorway": [
           "#636efa",
           "#EF553B",
           "#00cc96",
           "#ab63fa",
           "#FFA15A",
           "#19d3f3",
           "#FF6692",
           "#B6E880",
           "#FF97FF",
           "#FECB52"
          ],
          "font": {
           "color": "#2a3f5f"
          },
          "geo": {
           "bgcolor": "white",
           "lakecolor": "white",
           "landcolor": "#E5ECF6",
           "showlakes": true,
           "showland": true,
           "subunitcolor": "white"
          },
          "hoverlabel": {
           "align": "left"
          },
          "hovermode": "closest",
          "mapbox": {
           "style": "light"
          },
          "paper_bgcolor": "white",
          "plot_bgcolor": "#E5ECF6",
          "polar": {
           "angularaxis": {
            "gridcolor": "white",
            "linecolor": "white",
            "ticks": ""
           },
           "bgcolor": "#E5ECF6",
           "radialaxis": {
            "gridcolor": "white",
            "linecolor": "white",
            "ticks": ""
           }
          },
          "scene": {
           "xaxis": {
            "backgroundcolor": "#E5ECF6",
            "gridcolor": "white",
            "gridwidth": 2,
            "linecolor": "white",
            "showbackground": true,
            "ticks": "",
            "zerolinecolor": "white"
           },
           "yaxis": {
            "backgroundcolor": "#E5ECF6",
            "gridcolor": "white",
            "gridwidth": 2,
            "linecolor": "white",
            "showbackground": true,
            "ticks": "",
            "zerolinecolor": "white"
           },
           "zaxis": {
            "backgroundcolor": "#E5ECF6",
            "gridcolor": "white",
            "gridwidth": 2,
            "linecolor": "white",
            "showbackground": true,
            "ticks": "",
            "zerolinecolor": "white"
           }
          },
          "shapedefaults": {
           "line": {
            "color": "#2a3f5f"
           }
          },
          "ternary": {
           "aaxis": {
            "gridcolor": "white",
            "linecolor": "white",
            "ticks": ""
           },
           "baxis": {
            "gridcolor": "white",
            "linecolor": "white",
            "ticks": ""
           },
           "bgcolor": "#E5ECF6",
           "caxis": {
            "gridcolor": "white",
            "linecolor": "white",
            "ticks": ""
           }
          },
          "title": {
           "x": 0.05
          },
          "xaxis": {
           "automargin": true,
           "gridcolor": "white",
           "linecolor": "white",
           "ticks": "",
           "title": {
            "standoff": 15
           },
           "zerolinecolor": "white",
           "zerolinewidth": 2
          },
          "yaxis": {
           "automargin": true,
           "gridcolor": "white",
           "linecolor": "white",
           "ticks": "",
           "title": {
            "standoff": 15
           },
           "zerolinecolor": "white",
           "zerolinewidth": 2
          }
         }
        },
        "xaxis": {
         "anchor": "y",
         "domain": [
          0,
          1
         ],
         "title": {
          "text": "Year/Month"
         },
         "type": "category"
        },
        "yaxis": {
         "anchor": "x",
         "domain": [
          0,
          1
         ],
         "title": {
          "text": "WPM"
         }
        }
       }
      }
     },
     "metadata": {},
     "output_type": "display_data"
    }
   ],
   "source": [
    "fig_results_by_month = px.bar(df_results_by_month, x = 'Year/Month', \n",
    "y = 'WPM', color = 'Count')\n",
    "fig_results_by_month.update_xaxes(type = 'category') # This line, based on\n",
    "# Pracheta's response at https://stackoverflow.com/a/64424308/13097194,\n",
    "# updates the axes to show the date-month pairs as strings rather than \n",
    "# as Plotly-formatted date values. This will also prevent missing\n",
    "# months from appearing in the graph.\n",
    "fig_results_by_month.write_html('Analyses/results_by_month.html')\n",
    "fig_results_by_month.write_image('Analyses/results_by_month.png', \n",
    "width = 1920, height = 1080, engine = 'kaleido', scale = 2)\n",
    "fig_results_by_month"
   ]
  },
  {
   "cell_type": "markdown",
   "metadata": {},
   "source": [
    "## Evaluating average results by hour of day:"
   ]
  },
  {
   "cell_type": "code",
   "execution_count": 54,
   "metadata": {},
   "outputs": [
    {
     "data": {
      "text/html": [
       "<div>\n",
       "<style scoped>\n",
       "    .dataframe tbody tr th:only-of-type {\n",
       "        vertical-align: middle;\n",
       "    }\n",
       "\n",
       "    .dataframe tbody tr th {\n",
       "        vertical-align: top;\n",
       "    }\n",
       "\n",
       "    .dataframe thead th {\n",
       "        text-align: right;\n",
       "    }\n",
       "</style>\n",
       "<table border=\"1\" class=\"dataframe\">\n",
       "  <thead>\n",
       "    <tr style=\"text-align: right;\">\n",
       "      <th></th>\n",
       "      <th>Local_Hour</th>\n",
       "      <th>Count</th>\n",
       "      <th>WPM</th>\n",
       "    </tr>\n",
       "  </thead>\n",
       "  <tbody>\n",
       "    <tr>\n",
       "      <th>0</th>\n",
       "      <td>0</td>\n",
       "      <td>79</td>\n",
       "      <td>138.946476</td>\n",
       "    </tr>\n",
       "    <tr>\n",
       "      <th>1</th>\n",
       "      <td>1</td>\n",
       "      <td>21</td>\n",
       "      <td>131.718257</td>\n",
       "    </tr>\n",
       "    <tr>\n",
       "      <th>2</th>\n",
       "      <td>17</td>\n",
       "      <td>15</td>\n",
       "      <td>127.507580</td>\n",
       "    </tr>\n",
       "    <tr>\n",
       "      <th>3</th>\n",
       "      <td>18</td>\n",
       "      <td>226</td>\n",
       "      <td>129.486358</td>\n",
       "    </tr>\n",
       "    <tr>\n",
       "      <th>4</th>\n",
       "      <td>19</td>\n",
       "      <td>242</td>\n",
       "      <td>133.303571</td>\n",
       "    </tr>\n",
       "    <tr>\n",
       "      <th>5</th>\n",
       "      <td>20</td>\n",
       "      <td>6</td>\n",
       "      <td>116.627468</td>\n",
       "    </tr>\n",
       "    <tr>\n",
       "      <th>6</th>\n",
       "      <td>21</td>\n",
       "      <td>16</td>\n",
       "      <td>135.802421</td>\n",
       "    </tr>\n",
       "    <tr>\n",
       "      <th>7</th>\n",
       "      <td>22</td>\n",
       "      <td>46</td>\n",
       "      <td>145.962938</td>\n",
       "    </tr>\n",
       "    <tr>\n",
       "      <th>8</th>\n",
       "      <td>23</td>\n",
       "      <td>66</td>\n",
       "      <td>126.235594</td>\n",
       "    </tr>\n",
       "  </tbody>\n",
       "</table>\n",
       "</div>"
      ],
      "text/plain": [
       "   Local_Hour  Count         WPM\n",
       "0           0     79  138.946476\n",
       "1           1     21  131.718257\n",
       "2          17     15  127.507580\n",
       "3          18    226  129.486358\n",
       "4          19    242  133.303571\n",
       "5          20      6  116.627468\n",
       "6          21     16  135.802421\n",
       "7          22     46  145.962938\n",
       "8          23     66  126.235594"
      ]
     },
     "execution_count": 54,
     "metadata": {},
     "output_type": "execute_result"
    }
   ],
   "source": [
    "df_results_by_hour = df_results.pivot_table(index = ['Local_Hour'], \n",
    "values = ['Count', 'WPM'], aggfunc = {'Count':'sum', 'WPM':'mean'}).reset_index()\n",
    "df_results_by_hour"
   ]
  },
  {
   "cell_type": "code",
   "execution_count": 55,
   "metadata": {},
   "outputs": [
    {
     "data": {
      "application/vnd.plotly.v1+json": {
       "config": {
        "plotlyServerURL": "https://plot.ly"
       },
       "data": [
        {
         "alignmentgroup": "True",
         "hovertemplate": "Local_Hour=%{x}<br>WPM=%{y}<br>Count=%{marker.color}<extra></extra>",
         "legendgroup": "",
         "marker": {
          "color": [
           79,
           21,
           15,
           226,
           242,
           6,
           16,
           46,
           66
          ],
          "coloraxis": "coloraxis",
          "pattern": {
           "shape": ""
          }
         },
         "name": "",
         "offsetgroup": "",
         "orientation": "v",
         "showlegend": false,
         "textposition": "auto",
         "type": "bar",
         "x": [
          0,
          1,
          17,
          18,
          19,
          20,
          21,
          22,
          23
         ],
         "xaxis": "x",
         "y": [
          138.94647554725378,
          131.71825689756346,
          127.50758022210924,
          129.48635823215614,
          133.3035705831238,
          116.62746804569446,
          135.802420781875,
          145.96293781983928,
          126.23559423212362
         ],
         "yaxis": "y"
        }
       ],
       "layout": {
        "barmode": "relative",
        "coloraxis": {
         "colorbar": {
          "title": {
           "text": "Count"
          }
         },
         "colorscale": [
          [
           0,
           "#0d0887"
          ],
          [
           0.1111111111111111,
           "#46039f"
          ],
          [
           0.2222222222222222,
           "#7201a8"
          ],
          [
           0.3333333333333333,
           "#9c179e"
          ],
          [
           0.4444444444444444,
           "#bd3786"
          ],
          [
           0.5555555555555556,
           "#d8576b"
          ],
          [
           0.6666666666666666,
           "#ed7953"
          ],
          [
           0.7777777777777778,
           "#fb9f3a"
          ],
          [
           0.8888888888888888,
           "#fdca26"
          ],
          [
           1,
           "#f0f921"
          ]
         ]
        },
        "legend": {
         "tracegroupgap": 0
        },
        "margin": {
         "t": 60
        },
        "template": {
         "data": {
          "bar": [
           {
            "error_x": {
             "color": "#2a3f5f"
            },
            "error_y": {
             "color": "#2a3f5f"
            },
            "marker": {
             "line": {
              "color": "#E5ECF6",
              "width": 0.5
             },
             "pattern": {
              "fillmode": "overlay",
              "size": 10,
              "solidity": 0.2
             }
            },
            "type": "bar"
           }
          ],
          "barpolar": [
           {
            "marker": {
             "line": {
              "color": "#E5ECF6",
              "width": 0.5
             },
             "pattern": {
              "fillmode": "overlay",
              "size": 10,
              "solidity": 0.2
             }
            },
            "type": "barpolar"
           }
          ],
          "carpet": [
           {
            "aaxis": {
             "endlinecolor": "#2a3f5f",
             "gridcolor": "white",
             "linecolor": "white",
             "minorgridcolor": "white",
             "startlinecolor": "#2a3f5f"
            },
            "baxis": {
             "endlinecolor": "#2a3f5f",
             "gridcolor": "white",
             "linecolor": "white",
             "minorgridcolor": "white",
             "startlinecolor": "#2a3f5f"
            },
            "type": "carpet"
           }
          ],
          "choropleth": [
           {
            "colorbar": {
             "outlinewidth": 0,
             "ticks": ""
            },
            "type": "choropleth"
           }
          ],
          "contour": [
           {
            "colorbar": {
             "outlinewidth": 0,
             "ticks": ""
            },
            "colorscale": [
             [
              0,
              "#0d0887"
             ],
             [
              0.1111111111111111,
              "#46039f"
             ],
             [
              0.2222222222222222,
              "#7201a8"
             ],
             [
              0.3333333333333333,
              "#9c179e"
             ],
             [
              0.4444444444444444,
              "#bd3786"
             ],
             [
              0.5555555555555556,
              "#d8576b"
             ],
             [
              0.6666666666666666,
              "#ed7953"
             ],
             [
              0.7777777777777778,
              "#fb9f3a"
             ],
             [
              0.8888888888888888,
              "#fdca26"
             ],
             [
              1,
              "#f0f921"
             ]
            ],
            "type": "contour"
           }
          ],
          "contourcarpet": [
           {
            "colorbar": {
             "outlinewidth": 0,
             "ticks": ""
            },
            "type": "contourcarpet"
           }
          ],
          "heatmap": [
           {
            "colorbar": {
             "outlinewidth": 0,
             "ticks": ""
            },
            "colorscale": [
             [
              0,
              "#0d0887"
             ],
             [
              0.1111111111111111,
              "#46039f"
             ],
             [
              0.2222222222222222,
              "#7201a8"
             ],
             [
              0.3333333333333333,
              "#9c179e"
             ],
             [
              0.4444444444444444,
              "#bd3786"
             ],
             [
              0.5555555555555556,
              "#d8576b"
             ],
             [
              0.6666666666666666,
              "#ed7953"
             ],
             [
              0.7777777777777778,
              "#fb9f3a"
             ],
             [
              0.8888888888888888,
              "#fdca26"
             ],
             [
              1,
              "#f0f921"
             ]
            ],
            "type": "heatmap"
           }
          ],
          "heatmapgl": [
           {
            "colorbar": {
             "outlinewidth": 0,
             "ticks": ""
            },
            "colorscale": [
             [
              0,
              "#0d0887"
             ],
             [
              0.1111111111111111,
              "#46039f"
             ],
             [
              0.2222222222222222,
              "#7201a8"
             ],
             [
              0.3333333333333333,
              "#9c179e"
             ],
             [
              0.4444444444444444,
              "#bd3786"
             ],
             [
              0.5555555555555556,
              "#d8576b"
             ],
             [
              0.6666666666666666,
              "#ed7953"
             ],
             [
              0.7777777777777778,
              "#fb9f3a"
             ],
             [
              0.8888888888888888,
              "#fdca26"
             ],
             [
              1,
              "#f0f921"
             ]
            ],
            "type": "heatmapgl"
           }
          ],
          "histogram": [
           {
            "marker": {
             "pattern": {
              "fillmode": "overlay",
              "size": 10,
              "solidity": 0.2
             }
            },
            "type": "histogram"
           }
          ],
          "histogram2d": [
           {
            "colorbar": {
             "outlinewidth": 0,
             "ticks": ""
            },
            "colorscale": [
             [
              0,
              "#0d0887"
             ],
             [
              0.1111111111111111,
              "#46039f"
             ],
             [
              0.2222222222222222,
              "#7201a8"
             ],
             [
              0.3333333333333333,
              "#9c179e"
             ],
             [
              0.4444444444444444,
              "#bd3786"
             ],
             [
              0.5555555555555556,
              "#d8576b"
             ],
             [
              0.6666666666666666,
              "#ed7953"
             ],
             [
              0.7777777777777778,
              "#fb9f3a"
             ],
             [
              0.8888888888888888,
              "#fdca26"
             ],
             [
              1,
              "#f0f921"
             ]
            ],
            "type": "histogram2d"
           }
          ],
          "histogram2dcontour": [
           {
            "colorbar": {
             "outlinewidth": 0,
             "ticks": ""
            },
            "colorscale": [
             [
              0,
              "#0d0887"
             ],
             [
              0.1111111111111111,
              "#46039f"
             ],
             [
              0.2222222222222222,
              "#7201a8"
             ],
             [
              0.3333333333333333,
              "#9c179e"
             ],
             [
              0.4444444444444444,
              "#bd3786"
             ],
             [
              0.5555555555555556,
              "#d8576b"
             ],
             [
              0.6666666666666666,
              "#ed7953"
             ],
             [
              0.7777777777777778,
              "#fb9f3a"
             ],
             [
              0.8888888888888888,
              "#fdca26"
             ],
             [
              1,
              "#f0f921"
             ]
            ],
            "type": "histogram2dcontour"
           }
          ],
          "mesh3d": [
           {
            "colorbar": {
             "outlinewidth": 0,
             "ticks": ""
            },
            "type": "mesh3d"
           }
          ],
          "parcoords": [
           {
            "line": {
             "colorbar": {
              "outlinewidth": 0,
              "ticks": ""
             }
            },
            "type": "parcoords"
           }
          ],
          "pie": [
           {
            "automargin": true,
            "type": "pie"
           }
          ],
          "scatter": [
           {
            "fillpattern": {
             "fillmode": "overlay",
             "size": 10,
             "solidity": 0.2
            },
            "type": "scatter"
           }
          ],
          "scatter3d": [
           {
            "line": {
             "colorbar": {
              "outlinewidth": 0,
              "ticks": ""
             }
            },
            "marker": {
             "colorbar": {
              "outlinewidth": 0,
              "ticks": ""
             }
            },
            "type": "scatter3d"
           }
          ],
          "scattercarpet": [
           {
            "marker": {
             "colorbar": {
              "outlinewidth": 0,
              "ticks": ""
             }
            },
            "type": "scattercarpet"
           }
          ],
          "scattergeo": [
           {
            "marker": {
             "colorbar": {
              "outlinewidth": 0,
              "ticks": ""
             }
            },
            "type": "scattergeo"
           }
          ],
          "scattergl": [
           {
            "marker": {
             "colorbar": {
              "outlinewidth": 0,
              "ticks": ""
             }
            },
            "type": "scattergl"
           }
          ],
          "scattermapbox": [
           {
            "marker": {
             "colorbar": {
              "outlinewidth": 0,
              "ticks": ""
             }
            },
            "type": "scattermapbox"
           }
          ],
          "scatterpolar": [
           {
            "marker": {
             "colorbar": {
              "outlinewidth": 0,
              "ticks": ""
             }
            },
            "type": "scatterpolar"
           }
          ],
          "scatterpolargl": [
           {
            "marker": {
             "colorbar": {
              "outlinewidth": 0,
              "ticks": ""
             }
            },
            "type": "scatterpolargl"
           }
          ],
          "scatterternary": [
           {
            "marker": {
             "colorbar": {
              "outlinewidth": 0,
              "ticks": ""
             }
            },
            "type": "scatterternary"
           }
          ],
          "surface": [
           {
            "colorbar": {
             "outlinewidth": 0,
             "ticks": ""
            },
            "colorscale": [
             [
              0,
              "#0d0887"
             ],
             [
              0.1111111111111111,
              "#46039f"
             ],
             [
              0.2222222222222222,
              "#7201a8"
             ],
             [
              0.3333333333333333,
              "#9c179e"
             ],
             [
              0.4444444444444444,
              "#bd3786"
             ],
             [
              0.5555555555555556,
              "#d8576b"
             ],
             [
              0.6666666666666666,
              "#ed7953"
             ],
             [
              0.7777777777777778,
              "#fb9f3a"
             ],
             [
              0.8888888888888888,
              "#fdca26"
             ],
             [
              1,
              "#f0f921"
             ]
            ],
            "type": "surface"
           }
          ],
          "table": [
           {
            "cells": {
             "fill": {
              "color": "#EBF0F8"
             },
             "line": {
              "color": "white"
             }
            },
            "header": {
             "fill": {
              "color": "#C8D4E3"
             },
             "line": {
              "color": "white"
             }
            },
            "type": "table"
           }
          ]
         },
         "layout": {
          "annotationdefaults": {
           "arrowcolor": "#2a3f5f",
           "arrowhead": 0,
           "arrowwidth": 1
          },
          "autotypenumbers": "strict",
          "coloraxis": {
           "colorbar": {
            "outlinewidth": 0,
            "ticks": ""
           }
          },
          "colorscale": {
           "diverging": [
            [
             0,
             "#8e0152"
            ],
            [
             0.1,
             "#c51b7d"
            ],
            [
             0.2,
             "#de77ae"
            ],
            [
             0.3,
             "#f1b6da"
            ],
            [
             0.4,
             "#fde0ef"
            ],
            [
             0.5,
             "#f7f7f7"
            ],
            [
             0.6,
             "#e6f5d0"
            ],
            [
             0.7,
             "#b8e186"
            ],
            [
             0.8,
             "#7fbc41"
            ],
            [
             0.9,
             "#4d9221"
            ],
            [
             1,
             "#276419"
            ]
           ],
           "sequential": [
            [
             0,
             "#0d0887"
            ],
            [
             0.1111111111111111,
             "#46039f"
            ],
            [
             0.2222222222222222,
             "#7201a8"
            ],
            [
             0.3333333333333333,
             "#9c179e"
            ],
            [
             0.4444444444444444,
             "#bd3786"
            ],
            [
             0.5555555555555556,
             "#d8576b"
            ],
            [
             0.6666666666666666,
             "#ed7953"
            ],
            [
             0.7777777777777778,
             "#fb9f3a"
            ],
            [
             0.8888888888888888,
             "#fdca26"
            ],
            [
             1,
             "#f0f921"
            ]
           ],
           "sequentialminus": [
            [
             0,
             "#0d0887"
            ],
            [
             0.1111111111111111,
             "#46039f"
            ],
            [
             0.2222222222222222,
             "#7201a8"
            ],
            [
             0.3333333333333333,
             "#9c179e"
            ],
            [
             0.4444444444444444,
             "#bd3786"
            ],
            [
             0.5555555555555556,
             "#d8576b"
            ],
            [
             0.6666666666666666,
             "#ed7953"
            ],
            [
             0.7777777777777778,
             "#fb9f3a"
            ],
            [
             0.8888888888888888,
             "#fdca26"
            ],
            [
             1,
             "#f0f921"
            ]
           ]
          },
          "colorway": [
           "#636efa",
           "#EF553B",
           "#00cc96",
           "#ab63fa",
           "#FFA15A",
           "#19d3f3",
           "#FF6692",
           "#B6E880",
           "#FF97FF",
           "#FECB52"
          ],
          "font": {
           "color": "#2a3f5f"
          },
          "geo": {
           "bgcolor": "white",
           "lakecolor": "white",
           "landcolor": "#E5ECF6",
           "showlakes": true,
           "showland": true,
           "subunitcolor": "white"
          },
          "hoverlabel": {
           "align": "left"
          },
          "hovermode": "closest",
          "mapbox": {
           "style": "light"
          },
          "paper_bgcolor": "white",
          "plot_bgcolor": "#E5ECF6",
          "polar": {
           "angularaxis": {
            "gridcolor": "white",
            "linecolor": "white",
            "ticks": ""
           },
           "bgcolor": "#E5ECF6",
           "radialaxis": {
            "gridcolor": "white",
            "linecolor": "white",
            "ticks": ""
           }
          },
          "scene": {
           "xaxis": {
            "backgroundcolor": "#E5ECF6",
            "gridcolor": "white",
            "gridwidth": 2,
            "linecolor": "white",
            "showbackground": true,
            "ticks": "",
            "zerolinecolor": "white"
           },
           "yaxis": {
            "backgroundcolor": "#E5ECF6",
            "gridcolor": "white",
            "gridwidth": 2,
            "linecolor": "white",
            "showbackground": true,
            "ticks": "",
            "zerolinecolor": "white"
           },
           "zaxis": {
            "backgroundcolor": "#E5ECF6",
            "gridcolor": "white",
            "gridwidth": 2,
            "linecolor": "white",
            "showbackground": true,
            "ticks": "",
            "zerolinecolor": "white"
           }
          },
          "shapedefaults": {
           "line": {
            "color": "#2a3f5f"
           }
          },
          "ternary": {
           "aaxis": {
            "gridcolor": "white",
            "linecolor": "white",
            "ticks": ""
           },
           "baxis": {
            "gridcolor": "white",
            "linecolor": "white",
            "ticks": ""
           },
           "bgcolor": "#E5ECF6",
           "caxis": {
            "gridcolor": "white",
            "linecolor": "white",
            "ticks": ""
           }
          },
          "title": {
           "x": 0.05
          },
          "xaxis": {
           "automargin": true,
           "gridcolor": "white",
           "linecolor": "white",
           "ticks": "",
           "title": {
            "standoff": 15
           },
           "zerolinecolor": "white",
           "zerolinewidth": 2
          },
          "yaxis": {
           "automargin": true,
           "gridcolor": "white",
           "linecolor": "white",
           "ticks": "",
           "title": {
            "standoff": 15
           },
           "zerolinecolor": "white",
           "zerolinewidth": 2
          }
         }
        },
        "xaxis": {
         "anchor": "y",
         "domain": [
          0,
          1
         ],
         "title": {
          "text": "Local_Hour"
         }
        },
        "yaxis": {
         "anchor": "x",
         "domain": [
          0,
          1
         ],
         "title": {
          "text": "WPM"
         }
        }
       }
      }
     },
     "metadata": {},
     "output_type": "display_data"
    }
   ],
   "source": [
    "fig_results_by_hour = px.bar(df_results_by_hour, x = 'Local_Hour', \n",
    "y = 'WPM', color = 'Count')\n",
    "fig_results_by_hour.write_html('Analyses/results_by_hour.html')\n",
    "fig_results_by_hour.write_image('Analyses/results_by_hour.png', \n",
    "width = 1920, height = 1080, engine = 'kaleido', scale = 2)\n",
    "fig_results_by_hour"
   ]
  },
  {
   "cell_type": "markdown",
   "metadata": {},
   "source": [
    "# Comparing mean WPMs by Bible books:"
   ]
  },
  {
   "cell_type": "code",
   "execution_count": 56,
   "metadata": {},
   "outputs": [
    {
     "data": {
      "text/html": [
       "<div>\n",
       "<style scoped>\n",
       "    .dataframe tbody tr th:only-of-type {\n",
       "        vertical-align: middle;\n",
       "    }\n",
       "\n",
       "    .dataframe tbody tr th {\n",
       "        vertical-align: top;\n",
       "    }\n",
       "\n",
       "    .dataframe thead th {\n",
       "        text-align: right;\n",
       "    }\n",
       "</style>\n",
       "<table border=\"1\" class=\"dataframe\">\n",
       "  <thead>\n",
       "    <tr style=\"text-align: right;\">\n",
       "      <th></th>\n",
       "      <th>Book</th>\n",
       "      <th>Tests</th>\n",
       "      <th>Mean WPM</th>\n",
       "    </tr>\n",
       "  </thead>\n",
       "  <tbody>\n",
       "    <tr>\n",
       "      <th>0</th>\n",
       "      <td>REV</td>\n",
       "      <td>1</td>\n",
       "      <td>161.093106</td>\n",
       "    </tr>\n",
       "    <tr>\n",
       "      <th>1</th>\n",
       "      <td>2JN</td>\n",
       "      <td>4</td>\n",
       "      <td>151.783862</td>\n",
       "    </tr>\n",
       "    <tr>\n",
       "      <th>2</th>\n",
       "      <td>JUD</td>\n",
       "      <td>1</td>\n",
       "      <td>148.672335</td>\n",
       "    </tr>\n",
       "    <tr>\n",
       "      <th>3</th>\n",
       "      <td>3JN</td>\n",
       "      <td>15</td>\n",
       "      <td>147.630110</td>\n",
       "    </tr>\n",
       "    <tr>\n",
       "      <th>4</th>\n",
       "      <td>SNG</td>\n",
       "      <td>3</td>\n",
       "      <td>144.084300</td>\n",
       "    </tr>\n",
       "    <tr>\n",
       "      <th>5</th>\n",
       "      <td>2KI</td>\n",
       "      <td>1</td>\n",
       "      <td>143.531468</td>\n",
       "    </tr>\n",
       "    <tr>\n",
       "      <th>6</th>\n",
       "      <td>1JN</td>\n",
       "      <td>105</td>\n",
       "      <td>138.061187</td>\n",
       "    </tr>\n",
       "    <tr>\n",
       "      <th>7</th>\n",
       "      <td>Total</td>\n",
       "      <td>717</td>\n",
       "      <td>132.632214</td>\n",
       "    </tr>\n",
       "    <tr>\n",
       "      <th>8</th>\n",
       "      <td>GEN</td>\n",
       "      <td>581</td>\n",
       "      <td>131.232711</td>\n",
       "    </tr>\n",
       "    <tr>\n",
       "      <th>9</th>\n",
       "      <td>NUM</td>\n",
       "      <td>2</td>\n",
       "      <td>123.507441</td>\n",
       "    </tr>\n",
       "    <tr>\n",
       "      <th>10</th>\n",
       "      <td>JDG</td>\n",
       "      <td>1</td>\n",
       "      <td>121.574918</td>\n",
       "    </tr>\n",
       "    <tr>\n",
       "      <th>11</th>\n",
       "      <td>EXO</td>\n",
       "      <td>3</td>\n",
       "      <td>92.980366</td>\n",
       "    </tr>\n",
       "  </tbody>\n",
       "</table>\n",
       "</div>"
      ],
      "text/plain": [
       "     Book  Tests    Mean WPM\n",
       "0     REV      1  161.093106\n",
       "1     2JN      4  151.783862\n",
       "2     JUD      1  148.672335\n",
       "3     3JN     15  147.630110\n",
       "4     SNG      3  144.084300\n",
       "5     2KI      1  143.531468\n",
       "6     1JN    105  138.061187\n",
       "7   Total    717  132.632214\n",
       "8     GEN    581  131.232711\n",
       "9     NUM      2  123.507441\n",
       "10    JDG      1  121.574918\n",
       "11    EXO      3   92.980366"
      ]
     },
     "execution_count": 56,
     "metadata": {},
     "output_type": "execute_result"
    }
   ],
   "source": [
    "df_wpm_by_book = df_results.pivot_table(index = 'Book', values = 'WPM', \n",
    "aggfunc = ['count', 'mean'], margins = True, \n",
    "margins_name = 'Total').reset_index()\n",
    "df_wpm_by_book.columns = 'Book', 'Tests', 'Mean WPM'\n",
    "df_wpm_by_book.sort_values('Mean WPM', ascending = False, inplace = True)\n",
    "df_wpm_by_book.reset_index(drop=True,inplace=True)\n",
    "df_wpm_by_book.to_csv('Analyses/mean_wpm_by_book.csv')\n",
    "\n",
    "df_wpm_by_book\n"
   ]
  },
  {
   "cell_type": "code",
   "execution_count": 57,
   "metadata": {},
   "outputs": [
    {
     "data": {
      "application/vnd.plotly.v1+json": {
       "config": {
        "plotlyServerURL": "https://plot.ly"
       },
       "data": [
        {
         "alignmentgroup": "True",
         "hovertemplate": "Book=%{x}<br>Mean WPM=%{y}<br>Tests=%{marker.color}<extra></extra>",
         "legendgroup": "",
         "marker": {
          "color": [
           1,
           4,
           1,
           15,
           3,
           1,
           105,
           581,
           2,
           1,
           3
          ],
          "coloraxis": "coloraxis",
          "pattern": {
           "shape": ""
          }
         },
         "name": "",
         "offsetgroup": "",
         "orientation": "v",
         "showlegend": false,
         "textposition": "auto",
         "type": "bar",
         "x": [
          "REV",
          "2JN",
          "JUD",
          "3JN",
          "SNG",
          "2KI",
          "1JN",
          "GEN",
          "NUM",
          "JDG",
          "EXO"
         ],
         "xaxis": "x",
         "y": [
          161.0931056,
          151.78386175,
          148.6723345,
          147.63010963999997,
          144.08430025964364,
          143.5314685,
          138.06118732866665,
          131.23271108179824,
          123.5074412,
          121.5749177,
          92.98036623333333
         ],
         "yaxis": "y"
        }
       ],
       "layout": {
        "barmode": "relative",
        "coloraxis": {
         "colorbar": {
          "title": {
           "text": "Tests"
          }
         },
         "colorscale": [
          [
           0,
           "#0d0887"
          ],
          [
           0.1111111111111111,
           "#46039f"
          ],
          [
           0.2222222222222222,
           "#7201a8"
          ],
          [
           0.3333333333333333,
           "#9c179e"
          ],
          [
           0.4444444444444444,
           "#bd3786"
          ],
          [
           0.5555555555555556,
           "#d8576b"
          ],
          [
           0.6666666666666666,
           "#ed7953"
          ],
          [
           0.7777777777777778,
           "#fb9f3a"
          ],
          [
           0.8888888888888888,
           "#fdca26"
          ],
          [
           1,
           "#f0f921"
          ]
         ]
        },
        "legend": {
         "tracegroupgap": 0
        },
        "margin": {
         "t": 60
        },
        "shapes": [
         {
          "type": "line",
          "x0": -0.5,
          "x1": 10.5,
          "y0": 132.6322142368392,
          "y1": 132.6322142368392
         }
        ],
        "template": {
         "data": {
          "bar": [
           {
            "error_x": {
             "color": "#2a3f5f"
            },
            "error_y": {
             "color": "#2a3f5f"
            },
            "marker": {
             "line": {
              "color": "#E5ECF6",
              "width": 0.5
             },
             "pattern": {
              "fillmode": "overlay",
              "size": 10,
              "solidity": 0.2
             }
            },
            "type": "bar"
           }
          ],
          "barpolar": [
           {
            "marker": {
             "line": {
              "color": "#E5ECF6",
              "width": 0.5
             },
             "pattern": {
              "fillmode": "overlay",
              "size": 10,
              "solidity": 0.2
             }
            },
            "type": "barpolar"
           }
          ],
          "carpet": [
           {
            "aaxis": {
             "endlinecolor": "#2a3f5f",
             "gridcolor": "white",
             "linecolor": "white",
             "minorgridcolor": "white",
             "startlinecolor": "#2a3f5f"
            },
            "baxis": {
             "endlinecolor": "#2a3f5f",
             "gridcolor": "white",
             "linecolor": "white",
             "minorgridcolor": "white",
             "startlinecolor": "#2a3f5f"
            },
            "type": "carpet"
           }
          ],
          "choropleth": [
           {
            "colorbar": {
             "outlinewidth": 0,
             "ticks": ""
            },
            "type": "choropleth"
           }
          ],
          "contour": [
           {
            "colorbar": {
             "outlinewidth": 0,
             "ticks": ""
            },
            "colorscale": [
             [
              0,
              "#0d0887"
             ],
             [
              0.1111111111111111,
              "#46039f"
             ],
             [
              0.2222222222222222,
              "#7201a8"
             ],
             [
              0.3333333333333333,
              "#9c179e"
             ],
             [
              0.4444444444444444,
              "#bd3786"
             ],
             [
              0.5555555555555556,
              "#d8576b"
             ],
             [
              0.6666666666666666,
              "#ed7953"
             ],
             [
              0.7777777777777778,
              "#fb9f3a"
             ],
             [
              0.8888888888888888,
              "#fdca26"
             ],
             [
              1,
              "#f0f921"
             ]
            ],
            "type": "contour"
           }
          ],
          "contourcarpet": [
           {
            "colorbar": {
             "outlinewidth": 0,
             "ticks": ""
            },
            "type": "contourcarpet"
           }
          ],
          "heatmap": [
           {
            "colorbar": {
             "outlinewidth": 0,
             "ticks": ""
            },
            "colorscale": [
             [
              0,
              "#0d0887"
             ],
             [
              0.1111111111111111,
              "#46039f"
             ],
             [
              0.2222222222222222,
              "#7201a8"
             ],
             [
              0.3333333333333333,
              "#9c179e"
             ],
             [
              0.4444444444444444,
              "#bd3786"
             ],
             [
              0.5555555555555556,
              "#d8576b"
             ],
             [
              0.6666666666666666,
              "#ed7953"
             ],
             [
              0.7777777777777778,
              "#fb9f3a"
             ],
             [
              0.8888888888888888,
              "#fdca26"
             ],
             [
              1,
              "#f0f921"
             ]
            ],
            "type": "heatmap"
           }
          ],
          "heatmapgl": [
           {
            "colorbar": {
             "outlinewidth": 0,
             "ticks": ""
            },
            "colorscale": [
             [
              0,
              "#0d0887"
             ],
             [
              0.1111111111111111,
              "#46039f"
             ],
             [
              0.2222222222222222,
              "#7201a8"
             ],
             [
              0.3333333333333333,
              "#9c179e"
             ],
             [
              0.4444444444444444,
              "#bd3786"
             ],
             [
              0.5555555555555556,
              "#d8576b"
             ],
             [
              0.6666666666666666,
              "#ed7953"
             ],
             [
              0.7777777777777778,
              "#fb9f3a"
             ],
             [
              0.8888888888888888,
              "#fdca26"
             ],
             [
              1,
              "#f0f921"
             ]
            ],
            "type": "heatmapgl"
           }
          ],
          "histogram": [
           {
            "marker": {
             "pattern": {
              "fillmode": "overlay",
              "size": 10,
              "solidity": 0.2
             }
            },
            "type": "histogram"
           }
          ],
          "histogram2d": [
           {
            "colorbar": {
             "outlinewidth": 0,
             "ticks": ""
            },
            "colorscale": [
             [
              0,
              "#0d0887"
             ],
             [
              0.1111111111111111,
              "#46039f"
             ],
             [
              0.2222222222222222,
              "#7201a8"
             ],
             [
              0.3333333333333333,
              "#9c179e"
             ],
             [
              0.4444444444444444,
              "#bd3786"
             ],
             [
              0.5555555555555556,
              "#d8576b"
             ],
             [
              0.6666666666666666,
              "#ed7953"
             ],
             [
              0.7777777777777778,
              "#fb9f3a"
             ],
             [
              0.8888888888888888,
              "#fdca26"
             ],
             [
              1,
              "#f0f921"
             ]
            ],
            "type": "histogram2d"
           }
          ],
          "histogram2dcontour": [
           {
            "colorbar": {
             "outlinewidth": 0,
             "ticks": ""
            },
            "colorscale": [
             [
              0,
              "#0d0887"
             ],
             [
              0.1111111111111111,
              "#46039f"
             ],
             [
              0.2222222222222222,
              "#7201a8"
             ],
             [
              0.3333333333333333,
              "#9c179e"
             ],
             [
              0.4444444444444444,
              "#bd3786"
             ],
             [
              0.5555555555555556,
              "#d8576b"
             ],
             [
              0.6666666666666666,
              "#ed7953"
             ],
             [
              0.7777777777777778,
              "#fb9f3a"
             ],
             [
              0.8888888888888888,
              "#fdca26"
             ],
             [
              1,
              "#f0f921"
             ]
            ],
            "type": "histogram2dcontour"
           }
          ],
          "mesh3d": [
           {
            "colorbar": {
             "outlinewidth": 0,
             "ticks": ""
            },
            "type": "mesh3d"
           }
          ],
          "parcoords": [
           {
            "line": {
             "colorbar": {
              "outlinewidth": 0,
              "ticks": ""
             }
            },
            "type": "parcoords"
           }
          ],
          "pie": [
           {
            "automargin": true,
            "type": "pie"
           }
          ],
          "scatter": [
           {
            "fillpattern": {
             "fillmode": "overlay",
             "size": 10,
             "solidity": 0.2
            },
            "type": "scatter"
           }
          ],
          "scatter3d": [
           {
            "line": {
             "colorbar": {
              "outlinewidth": 0,
              "ticks": ""
             }
            },
            "marker": {
             "colorbar": {
              "outlinewidth": 0,
              "ticks": ""
             }
            },
            "type": "scatter3d"
           }
          ],
          "scattercarpet": [
           {
            "marker": {
             "colorbar": {
              "outlinewidth": 0,
              "ticks": ""
             }
            },
            "type": "scattercarpet"
           }
          ],
          "scattergeo": [
           {
            "marker": {
             "colorbar": {
              "outlinewidth": 0,
              "ticks": ""
             }
            },
            "type": "scattergeo"
           }
          ],
          "scattergl": [
           {
            "marker": {
             "colorbar": {
              "outlinewidth": 0,
              "ticks": ""
             }
            },
            "type": "scattergl"
           }
          ],
          "scattermapbox": [
           {
            "marker": {
             "colorbar": {
              "outlinewidth": 0,
              "ticks": ""
             }
            },
            "type": "scattermapbox"
           }
          ],
          "scatterpolar": [
           {
            "marker": {
             "colorbar": {
              "outlinewidth": 0,
              "ticks": ""
             }
            },
            "type": "scatterpolar"
           }
          ],
          "scatterpolargl": [
           {
            "marker": {
             "colorbar": {
              "outlinewidth": 0,
              "ticks": ""
             }
            },
            "type": "scatterpolargl"
           }
          ],
          "scatterternary": [
           {
            "marker": {
             "colorbar": {
              "outlinewidth": 0,
              "ticks": ""
             }
            },
            "type": "scatterternary"
           }
          ],
          "surface": [
           {
            "colorbar": {
             "outlinewidth": 0,
             "ticks": ""
            },
            "colorscale": [
             [
              0,
              "#0d0887"
             ],
             [
              0.1111111111111111,
              "#46039f"
             ],
             [
              0.2222222222222222,
              "#7201a8"
             ],
             [
              0.3333333333333333,
              "#9c179e"
             ],
             [
              0.4444444444444444,
              "#bd3786"
             ],
             [
              0.5555555555555556,
              "#d8576b"
             ],
             [
              0.6666666666666666,
              "#ed7953"
             ],
             [
              0.7777777777777778,
              "#fb9f3a"
             ],
             [
              0.8888888888888888,
              "#fdca26"
             ],
             [
              1,
              "#f0f921"
             ]
            ],
            "type": "surface"
           }
          ],
          "table": [
           {
            "cells": {
             "fill": {
              "color": "#EBF0F8"
             },
             "line": {
              "color": "white"
             }
            },
            "header": {
             "fill": {
              "color": "#C8D4E3"
             },
             "line": {
              "color": "white"
             }
            },
            "type": "table"
           }
          ]
         },
         "layout": {
          "annotationdefaults": {
           "arrowcolor": "#2a3f5f",
           "arrowhead": 0,
           "arrowwidth": 1
          },
          "autotypenumbers": "strict",
          "coloraxis": {
           "colorbar": {
            "outlinewidth": 0,
            "ticks": ""
           }
          },
          "colorscale": {
           "diverging": [
            [
             0,
             "#8e0152"
            ],
            [
             0.1,
             "#c51b7d"
            ],
            [
             0.2,
             "#de77ae"
            ],
            [
             0.3,
             "#f1b6da"
            ],
            [
             0.4,
             "#fde0ef"
            ],
            [
             0.5,
             "#f7f7f7"
            ],
            [
             0.6,
             "#e6f5d0"
            ],
            [
             0.7,
             "#b8e186"
            ],
            [
             0.8,
             "#7fbc41"
            ],
            [
             0.9,
             "#4d9221"
            ],
            [
             1,
             "#276419"
            ]
           ],
           "sequential": [
            [
             0,
             "#0d0887"
            ],
            [
             0.1111111111111111,
             "#46039f"
            ],
            [
             0.2222222222222222,
             "#7201a8"
            ],
            [
             0.3333333333333333,
             "#9c179e"
            ],
            [
             0.4444444444444444,
             "#bd3786"
            ],
            [
             0.5555555555555556,
             "#d8576b"
            ],
            [
             0.6666666666666666,
             "#ed7953"
            ],
            [
             0.7777777777777778,
             "#fb9f3a"
            ],
            [
             0.8888888888888888,
             "#fdca26"
            ],
            [
             1,
             "#f0f921"
            ]
           ],
           "sequentialminus": [
            [
             0,
             "#0d0887"
            ],
            [
             0.1111111111111111,
             "#46039f"
            ],
            [
             0.2222222222222222,
             "#7201a8"
            ],
            [
             0.3333333333333333,
             "#9c179e"
            ],
            [
             0.4444444444444444,
             "#bd3786"
            ],
            [
             0.5555555555555556,
             "#d8576b"
            ],
            [
             0.6666666666666666,
             "#ed7953"
            ],
            [
             0.7777777777777778,
             "#fb9f3a"
            ],
            [
             0.8888888888888888,
             "#fdca26"
            ],
            [
             1,
             "#f0f921"
            ]
           ]
          },
          "colorway": [
           "#636efa",
           "#EF553B",
           "#00cc96",
           "#ab63fa",
           "#FFA15A",
           "#19d3f3",
           "#FF6692",
           "#B6E880",
           "#FF97FF",
           "#FECB52"
          ],
          "font": {
           "color": "#2a3f5f"
          },
          "geo": {
           "bgcolor": "white",
           "lakecolor": "white",
           "landcolor": "#E5ECF6",
           "showlakes": true,
           "showland": true,
           "subunitcolor": "white"
          },
          "hoverlabel": {
           "align": "left"
          },
          "hovermode": "closest",
          "mapbox": {
           "style": "light"
          },
          "paper_bgcolor": "white",
          "plot_bgcolor": "#E5ECF6",
          "polar": {
           "angularaxis": {
            "gridcolor": "white",
            "linecolor": "white",
            "ticks": ""
           },
           "bgcolor": "#E5ECF6",
           "radialaxis": {
            "gridcolor": "white",
            "linecolor": "white",
            "ticks": ""
           }
          },
          "scene": {
           "xaxis": {
            "backgroundcolor": "#E5ECF6",
            "gridcolor": "white",
            "gridwidth": 2,
            "linecolor": "white",
            "showbackground": true,
            "ticks": "",
            "zerolinecolor": "white"
           },
           "yaxis": {
            "backgroundcolor": "#E5ECF6",
            "gridcolor": "white",
            "gridwidth": 2,
            "linecolor": "white",
            "showbackground": true,
            "ticks": "",
            "zerolinecolor": "white"
           },
           "zaxis": {
            "backgroundcolor": "#E5ECF6",
            "gridcolor": "white",
            "gridwidth": 2,
            "linecolor": "white",
            "showbackground": true,
            "ticks": "",
            "zerolinecolor": "white"
           }
          },
          "shapedefaults": {
           "line": {
            "color": "#2a3f5f"
           }
          },
          "ternary": {
           "aaxis": {
            "gridcolor": "white",
            "linecolor": "white",
            "ticks": ""
           },
           "baxis": {
            "gridcolor": "white",
            "linecolor": "white",
            "ticks": ""
           },
           "bgcolor": "#E5ECF6",
           "caxis": {
            "gridcolor": "white",
            "linecolor": "white",
            "ticks": ""
           }
          },
          "title": {
           "x": 0.05
          },
          "xaxis": {
           "automargin": true,
           "gridcolor": "white",
           "linecolor": "white",
           "ticks": "",
           "title": {
            "standoff": 15
           },
           "zerolinecolor": "white",
           "zerolinewidth": 2
          },
          "yaxis": {
           "automargin": true,
           "gridcolor": "white",
           "linecolor": "white",
           "ticks": "",
           "title": {
            "standoff": 15
           },
           "zerolinecolor": "white",
           "zerolinewidth": 2
          }
         }
        },
        "xaxis": {
         "anchor": "y",
         "domain": [
          0,
          1
         ],
         "title": {
          "text": "Book"
         }
        },
        "yaxis": {
         "anchor": "x",
         "domain": [
          0,
          1
         ],
         "title": {
          "text": "Mean WPM"
         }
        }
       }
      }
     },
     "metadata": {},
     "output_type": "display_data"
    }
   ],
   "source": [
    "# The following chart will display a bar for each book for which at least one \n",
    "# test has been taken. It will also show a line that corresponds to the player's\n",
    "# overall WPM across all books. The bars are colored by test count, making\n",
    "# it easier to identify which bars might be skewed by a low number of results.\n",
    "# The 'Total' value in df_wpm_by_book is displayed as a line instead of as\n",
    "# a color so as not to interfere with the color gradient.\n",
    "\n",
    "# Retrieving the total mean WPM value in df_wpm_by_book:\n",
    "total_mean_wpm = df_wpm_by_book.query(\"Book == 'Total'\").iloc[0]['Mean WPM']\n",
    "total_mean_wpm\n",
    "\n",
    "fig_mean_wpm_by_book = px.bar(df_wpm_by_book.query(\"Book != 'Total'\"), \n",
    "x = 'Book', y = 'Mean WPM', color = 'Tests')\n",
    "fig_mean_wpm_by_book.add_shape(type = 'line', x0 = -0.5, \n",
    "x1 = len(df_wpm_by_book) -1.5, y0 = total_mean_wpm, y1 = total_mean_wpm)\n",
    "# See https://plotly.com/python/shapes/ for the add_shape() code.\n",
    "# The use of -0.5 and len() - 1.5 is based on gleasocd's answer at \n",
    "# https://stackoverflow.com/a/40408960/13097194 . len(df) - 0.5 would normally\n",
    "# work, except that I reduced the size of the DataFrame by 1 when excluding\n",
    "# the 'Total' book.\n",
    "fig_mean_wpm_by_book.write_html('Analyses/mean_wpm_by_book.html')\n",
    "fig_mean_wpm_by_book.write_image('Analyses/mean_wpm_by_book.png', width = 1920, \n",
    "height = 1080, engine = 'kaleido', scale = 2)\n",
    "fig_mean_wpm_by_book\n"
   ]
  },
  {
   "cell_type": "code",
   "execution_count": 58,
   "metadata": {},
   "outputs": [
    {
     "name": "stdout",
     "output_type": "stream",
     "text": [
      "Finished updating analyses in 24.481 seconds. Enter any key to exit.\n"
     ]
    },
    {
     "data": {
      "text/plain": [
       "''"
      ]
     },
     "execution_count": 58,
     "metadata": {},
     "output_type": "execute_result"
    }
   ],
   "source": [
    "analysis_end_time = time.time()\n",
    "analysis_time = analysis_end_time - analysis_start_time\n",
    "print(f\"Finished updating analyses in {round(analysis_time, 3)} seconds. \\\n",
    "Enter any key to exit.\") # Allows the console to stay open when the\n",
    "# .py version of the program is run\n",
    "\n",
    "input()"
   ]
  }
 ],
 "metadata": {
  "kernelspec": {
   "display_name": "ga15pyd",
   "language": "python",
   "name": "python3"
  },
  "language_info": {
   "codemirror_mode": {
    "name": "ipython",
    "version": 3
   },
   "file_extension": ".py",
   "mimetype": "text/x-python",
   "name": "python",
   "nbconvert_exporter": "python",
   "pygments_lexer": "ipython3",
   "version": "3.10.9"
  }
 },
 "nbformat": 4,
 "nbformat_minor": 2
}
