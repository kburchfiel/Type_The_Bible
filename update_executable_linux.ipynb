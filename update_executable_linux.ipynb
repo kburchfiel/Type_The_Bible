{
 "cells": [
  {
   "cell_type": "markdown",
   "metadata": {},
   "source": [
    "# Update Linux Executable:\n",
    "\n",
    "This script speeds up the process of updating an executable Linux version of Type Through The Bible."
   ]
  },
  {
   "cell_type": "code",
   "execution_count": 1,
   "metadata": {},
   "outputs": [],
   "source": [
    "import shutil\n",
    "import os\n",
    "import PyInstaller.__main__ # see https://pyinstaller.org/en/stable/usage.html"
   ]
  },
  {
   "cell_type": "markdown",
   "metadata": {},
   "source": [
    "Verifying that we're in the Type_Through_The_Bible directory:"
   ]
  },
  {
   "cell_type": "code",
   "execution_count": 2,
   "metadata": {},
   "outputs": [
    {
     "data": {
      "text/plain": [
       "'/home/kburchfiel/Downloads/Type_The_Bible'"
      ]
     },
     "execution_count": 2,
     "metadata": {},
     "output_type": "execute_result"
    }
   ],
   "source": [
    "os.getcwd()"
   ]
  },
  {
   "cell_type": "code",
   "execution_count": 3,
   "metadata": {},
   "outputs": [],
   "source": [
    "# Moving up a directory:\n",
    "os.chdir(\"..\")"
   ]
  },
  {
   "cell_type": "code",
   "execution_count": 4,
   "metadata": {},
   "outputs": [
    {
     "data": {
      "text/plain": [
       "'/home/kburchfiel/Downloads'"
      ]
     },
     "execution_count": 4,
     "metadata": {},
     "output_type": "execute_result"
    }
   ],
   "source": [
    "os.getcwd()"
   ]
  },
  {
   "cell_type": "markdown",
   "metadata": {},
   "source": [
    "The following cell instructs Pyinstaller to create a copy of Type_Through_The_Bible_vx within a separate directory folder. This way, the Pyinstaller output won't get added to the source code folder (which could interfere with GitHub syncs due to the size of the Pyinstaller output)."
   ]
  },
  {
   "cell_type": "code",
   "execution_count": 6,
   "metadata": {},
   "outputs": [
    {
     "name": "stderr",
     "output_type": "stream",
     "text": [
      "299359 INFO: PyInstaller: 6.3.0\n",
      "299359 INFO: Python: 3.10.10 (conda)\n",
      "299360 INFO: Platform: Linux-6.2.0-39-generic-x86_64-with-glibc2.35\n",
      "299360 INFO: wrote /home/kburchfiel/Downloads/Type_The_Bible/Type_The_Bible_v13.spec\n",
      "299363 INFO: Extending PYTHONPATH with paths\n",
      "['/home/kburchfiel/Downloads/Type_The_Bible']\n",
      "299517 INFO: checking Analysis\n",
      "299517 INFO: Building Analysis because Analysis-01.toc is non existent\n",
      "299518 INFO: Reusing cached module dependency graph...\n",
      "299534 INFO: Caching module graph hooks...\n",
      "299571 INFO: Running Analysis Analysis-01.toc\n",
      "299571 INFO: Looking for Python shared library...\n",
      "299578 INFO: Using Python shared library: /home/kburchfiel/miniforge3/lib/libpython3.10.so.1.0\n",
      "299579 INFO: Analyzing /home/kburchfiel/Downloads/Type_The_Bible/Type_The_Bible_v13.py\n",
      "299604 INFO: Loading module hook 'hook-pandas.py' from '/home/kburchfiel/miniforge3/lib/python3.10/site-packages/PyInstaller/hooks'...\n",
      "301132 INFO: Loading module hook 'hook-platform.py' from '/home/kburchfiel/miniforge3/lib/python3.10/site-packages/PyInstaller/hooks'...\n",
      "301141 INFO: Loading module hook 'hook-numpy.py' from '/home/kburchfiel/miniforge3/lib/python3.10/site-packages/numpy/_pyinstaller'...\n",
      "301733 INFO: Loading module hook 'hook-difflib.py' from '/home/kburchfiel/miniforge3/lib/python3.10/site-packages/PyInstaller/hooks'...\n",
      "301810 INFO: Loading module hook 'hook-multiprocessing.util.py' from '/home/kburchfiel/miniforge3/lib/python3.10/site-packages/PyInstaller/hooks'...\n",
      "301884 INFO: Loading module hook 'hook-xml.py' from '/home/kburchfiel/miniforge3/lib/python3.10/site-packages/PyInstaller/hooks'...\n",
      "302392 INFO: Loading module hook 'hook-sysconfig.py' from '/home/kburchfiel/miniforge3/lib/python3.10/site-packages/PyInstaller/hooks'...\n",
      "302492 INFO: Loading module hook 'hook-psutil.py' from '/home/kburchfiel/miniforge3/lib/python3.10/site-packages/_pyinstaller_hooks_contrib/hooks/stdhooks'...\n",
      "303167 INFO: Loading module hook 'hook-pytz.py' from '/home/kburchfiel/miniforge3/lib/python3.10/site-packages/PyInstaller/hooks'...\n",
      "303235 INFO: Loading module hook 'hook-pkg_resources.py' from '/home/kburchfiel/miniforge3/lib/python3.10/site-packages/PyInstaller/hooks'...\n",
      "305963 INFO: Loading module hook 'hook-scipy.py' from '/home/kburchfiel/miniforge3/lib/python3.10/site-packages/PyInstaller/hooks'...\n",
      "306014 INFO: Loading module hook 'hook-pycparser.py' from '/home/kburchfiel/miniforge3/lib/python3.10/site-packages/_pyinstaller_hooks_contrib/hooks/stdhooks'...\n",
      "306314 INFO: Processing pre-safe import module hook distutils from '/home/kburchfiel/miniforge3/lib/python3.10/site-packages/PyInstaller/hooks/pre_safe_import_module/hook-distutils.py'.\n",
      "306315 INFO: Processing pre-find module path hook distutils from '/home/kburchfiel/miniforge3/lib/python3.10/site-packages/PyInstaller/hooks/pre_find_module_path/hook-distutils.py'.\n",
      "306484 INFO: Loading module hook 'hook-distutils.py' from '/home/kburchfiel/miniforge3/lib/python3.10/site-packages/PyInstaller/hooks'...\n",
      "306513 INFO: Loading module hook 'hook-distutils.util.py' from '/home/kburchfiel/miniforge3/lib/python3.10/site-packages/PyInstaller/hooks'...\n",
      "306586 INFO: Loading module hook 'hook-setuptools.py' from '/home/kburchfiel/miniforge3/lib/python3.10/site-packages/PyInstaller/hooks'...\n",
      "309116 INFO: Loading module hook 'hook-importlib_metadata.py' from '/home/kburchfiel/miniforge3/lib/python3.10/site-packages/PyInstaller/hooks'...\n",
      "309195 INFO: Loading module hook 'hook-packaging.py' from '/home/kburchfiel/miniforge3/lib/python3.10/site-packages/PyInstaller/hooks'...\n",
      "309666 INFO: Loading module hook 'hook-matplotlib.py' from '/home/kburchfiel/miniforge3/lib/python3.10/site-packages/PyInstaller/hooks'...\n",
      "309877 INFO: Processing pre-safe import module hook gi from '/home/kburchfiel/miniforge3/lib/python3.10/site-packages/PyInstaller/hooks/pre_safe_import_module/hook-gi.py'.\n",
      "310065 INFO: Loading module hook 'hook-PIL.py' from '/home/kburchfiel/miniforge3/lib/python3.10/site-packages/PyInstaller/hooks'...\n",
      "310103 INFO: Loading module hook 'hook-PIL.Image.py' from '/home/kburchfiel/miniforge3/lib/python3.10/site-packages/PyInstaller/hooks'...\n",
      "311213 INFO: Loading module hook 'hook-xml.etree.cElementTree.py' from '/home/kburchfiel/miniforge3/lib/python3.10/site-packages/PyInstaller/hooks'...\n",
      "311246 INFO: Loading module hook 'hook-xml.dom.domreg.py' from '/home/kburchfiel/miniforge3/lib/python3.10/site-packages/PyInstaller/hooks'...\n",
      "311474 INFO: Loading module hook 'hook-PIL.ImageFilter.py' from '/home/kburchfiel/miniforge3/lib/python3.10/site-packages/PyInstaller/hooks'...\n",
      "311832 INFO: Loading module hook 'hook-jinja2.py' from '/home/kburchfiel/miniforge3/lib/python3.10/site-packages/_pyinstaller_hooks_contrib/hooks/stdhooks'...\n",
      "312813 INFO: Processing pre-safe import module hook six.moves from '/home/kburchfiel/miniforge3/lib/python3.10/site-packages/PyInstaller/hooks/pre_safe_import_module/hook-six.moves.py'.\n",
      "313421 INFO: Loading module hook 'hook-matplotlib.backends.py' from '/home/kburchfiel/miniforge3/lib/python3.10/site-packages/PyInstaller/hooks'...\n",
      "313708 INFO: Loading module hook 'hook-IPython.py' from '/home/kburchfiel/miniforge3/lib/python3.10/site-packages/_pyinstaller_hooks_contrib/hooks/stdhooks'...\n",
      "314549 INFO: Loading module hook 'hook-pygments.py' from '/home/kburchfiel/miniforge3/lib/python3.10/site-packages/PyInstaller/hooks'...\n",
      "318017 INFO: Loading module hook 'hook-lib2to3.py' from '/home/kburchfiel/miniforge3/lib/python3.10/site-packages/PyInstaller/hooks'...\n",
      "318643 INFO: Loading module hook 'hook-cryptography.py' from '/home/kburchfiel/miniforge3/lib/python3.10/site-packages/_pyinstaller_hooks_contrib/hooks/stdhooks'...\n",
      "320987 INFO: Loading module hook 'hook-bcrypt.py' from '/home/kburchfiel/miniforge3/lib/python3.10/site-packages/_pyinstaller_hooks_contrib/hooks/stdhooks'...\n",
      "321212 INFO: Loading module hook 'hook-wcwidth.py' from '/home/kburchfiel/miniforge3/lib/python3.10/site-packages/PyInstaller/hooks'...\n",
      "321805 INFO: Loading module hook 'hook-jedi.py' from '/home/kburchfiel/miniforge3/lib/python3.10/site-packages/_pyinstaller_hooks_contrib/hooks/stdhooks'...\n",
      "321997 INFO: Loading module hook 'hook-parso.py' from '/home/kburchfiel/miniforge3/lib/python3.10/site-packages/_pyinstaller_hooks_contrib/hooks/stdhooks'...\n",
      "322639 INFO: Loading module hook 'hook-sqlite3.py' from '/home/kburchfiel/miniforge3/lib/python3.10/site-packages/PyInstaller/hooks'...\n",
      "323716 INFO: Loading module hook 'hook-nbformat.py' from '/home/kburchfiel/miniforge3/lib/python3.10/site-packages/_pyinstaller_hooks_contrib/hooks/stdhooks'...\n",
      "323778 INFO: Loading module hook 'hook-jsonschema.py' from '/home/kburchfiel/miniforge3/lib/python3.10/site-packages/_pyinstaller_hooks_contrib/hooks/stdhooks'...\n",
      "323797 INFO: Loading module hook 'hook-importlib_resources.py' from '/home/kburchfiel/miniforge3/lib/python3.10/site-packages/PyInstaller/hooks'...\n",
      "323898 INFO: Processing pre-safe import module hook urllib3.packages.six.moves from '/home/kburchfiel/miniforge3/lib/python3.10/site-packages/PyInstaller/hooks/pre_safe_import_module/hook-urllib3.packages.six.moves.py'.\n",
      "324015 INFO: Loading module hook 'hook-charset_normalizer.py' from '/home/kburchfiel/miniforge3/lib/python3.10/site-packages/_pyinstaller_hooks_contrib/hooks/stdhooks'...\n",
      "324069 INFO: Loading module hook 'hook-certifi.py' from '/home/kburchfiel/miniforge3/lib/python3.10/site-packages/_pyinstaller_hooks_contrib/hooks/stdhooks'...\n",
      "324269 INFO: Loading module hook 'hook-zmq.py' from '/home/kburchfiel/miniforge3/lib/python3.10/site-packages/_pyinstaller_hooks_contrib/hooks/stdhooks'...\n",
      "325514 INFO: Loading module hook 'hook-platformdirs.py' from '/home/kburchfiel/miniforge3/lib/python3.10/site-packages/_pyinstaller_hooks_contrib/hooks/stdhooks'...\n",
      "326176 INFO: Loading module hook 'hook-nacl.py' from '/home/kburchfiel/miniforge3/lib/python3.10/site-packages/_pyinstaller_hooks_contrib/hooks/stdhooks'...\n",
      "326662 INFO: Loading module hook 'hook-scipy.linalg.py' from '/home/kburchfiel/miniforge3/lib/python3.10/site-packages/PyInstaller/hooks'...\n",
      "326794 INFO: Loading module hook 'hook-scipy.sparse.csgraph.py' from '/home/kburchfiel/miniforge3/lib/python3.10/site-packages/PyInstaller/hooks'...\n",
      "327613 INFO: Loading module hook 'hook-scipy.spatial.transform.rotation.py' from '/home/kburchfiel/miniforge3/lib/python3.10/site-packages/PyInstaller/hooks'...\n",
      "328608 INFO: Loading module hook 'hook-pandas.io.formats.style.py' from '/home/kburchfiel/miniforge3/lib/python3.10/site-packages/PyInstaller/hooks'...\n",
      "329963 INFO: Loading module hook 'hook-pandas.plotting.py' from '/home/kburchfiel/miniforge3/lib/python3.10/site-packages/PyInstaller/hooks'...\n",
      "330208 INFO: Loading module hook 'hook-openpyxl.py' from '/home/kburchfiel/miniforge3/lib/python3.10/site-packages/_pyinstaller_hooks_contrib/hooks/stdhooks'...\n",
      "330229 INFO: Loading module hook 'hook-lxml.py' from '/home/kburchfiel/miniforge3/lib/python3.10/site-packages/_pyinstaller_hooks_contrib/hooks/stdhooks'...\n",
      "332030 INFO: Loading module hook 'hook-sqlalchemy.py' from '/home/kburchfiel/miniforge3/lib/python3.10/site-packages/PyInstaller/hooks'...\n",
      "334753 INFO: Loading module hook 'hook-plotly.py' from '/home/kburchfiel/miniforge3/lib/python3.10/site-packages/_pyinstaller_hooks_contrib/hooks/stdhooks'...\n",
      "339546 INFO: Loading module hook 'hook-kaleido.py' from '/home/kburchfiel/miniforge3/lib/python3.10/site-packages/_pyinstaller_hooks_contrib/hooks/stdhooks'...\n",
      "339743 INFO: Loading module hook 'hook-patsy.py' from '/home/kburchfiel/miniforge3/lib/python3.10/site-packages/_pyinstaller_hooks_contrib/hooks/stdhooks'...\n",
      "340382 INFO: Loading module hook 'hook-statsmodels.tsa.statespace.py' from '/home/kburchfiel/miniforge3/lib/python3.10/site-packages/_pyinstaller_hooks_contrib/hooks/stdhooks'...\n",
      "346189 INFO: Processing module hooks...\n",
      "356049 INFO: Loading module hook 'hook-lxml.isoschematron.py' from '/home/kburchfiel/miniforge3/lib/python3.10/site-packages/_pyinstaller_hooks_contrib/hooks/stdhooks'...\n",
      "356063 INFO: Loading module hook 'hook-lxml.etree.py' from '/home/kburchfiel/miniforge3/lib/python3.10/site-packages/_pyinstaller_hooks_contrib/hooks/stdhooks'...\n",
      "356064 INFO: Loading module hook 'hook-lxml.objectify.py' from '/home/kburchfiel/miniforge3/lib/python3.10/site-packages/_pyinstaller_hooks_contrib/hooks/stdhooks'...\n",
      "356312 INFO: Loading module hook 'hook-encodings.py' from '/home/kburchfiel/miniforge3/lib/python3.10/site-packages/PyInstaller/hooks'...\n",
      "357361 INFO: Loading module hook 'hook-matplotlib.backends.py' from '/home/kburchfiel/miniforge3/lib/python3.10/site-packages/PyInstaller/hooks'...\n",
      "357362 INFO: Matplotlib backend selection method: automatic discovery of used backends\n",
      "357548 INFO: Found configured default matplotlib backend: module://matplotlib_inline.backend_inline\n",
      "357549 INFO: Selected matplotlib backends: ['module://matplotlib_inline.backend_inline']\n",
      "357549 INFO: Loading module hook 'hook-pickle.py' from '/home/kburchfiel/miniforge3/lib/python3.10/site-packages/PyInstaller/hooks'...\n",
      "358511 INFO: Loading module hook 'hook-sqlalchemy.py' from '/home/kburchfiel/miniforge3/lib/python3.10/site-packages/PyInstaller/hooks'...\n",
      "358655 WARNING: Hidden import \"pysqlite2\" not found!\n",
      "358656 WARNING: Hidden import \"MySQLdb\" not found!\n",
      "358657 INFO: Loading module hook 'hook-psycopg2.py' from '/home/kburchfiel/miniforge3/lib/python3.10/site-packages/_pyinstaller_hooks_contrib/hooks/stdhooks'...\n",
      "359200 INFO: Loading module hook 'hook-scipy.stats._stats.py' from '/home/kburchfiel/miniforge3/lib/python3.10/site-packages/PyInstaller/hooks'...\n",
      "359202 INFO: Loading module hook 'hook-scipy.special._ufuncs.py' from '/home/kburchfiel/miniforge3/lib/python3.10/site-packages/PyInstaller/hooks'...\n",
      "359202 INFO: Loading module hook 'hook-PyQt5.py' from '/home/kburchfiel/miniforge3/lib/python3.10/site-packages/PyInstaller/hooks'...\n",
      "359204 INFO: Loading module hook 'hook-scipy.special._ellip_harm_2.py' from '/home/kburchfiel/miniforge3/lib/python3.10/site-packages/PyInstaller/hooks'...\n",
      "359204 WARNING: Hidden import \"importlib_resources.trees\" not found!\n",
      "359205 INFO: Loading module hook 'hook-_tkinter.py' from '/home/kburchfiel/miniforge3/lib/python3.10/site-packages/PyInstaller/hooks'...\n",
      "359205 INFO: checking Tree\n",
      "359205 INFO: Building Tree because Tree-03.toc is non existent\n",
      "359206 INFO: Building Tree Tree-03.toc\n",
      "359209 INFO: checking Tree\n",
      "359209 INFO: Building Tree because Tree-04.toc is non existent\n",
      "359210 INFO: Building Tree Tree-04.toc\n",
      "359211 INFO: checking Tree\n",
      "359212 INFO: Building Tree because Tree-05.toc is non existent\n",
      "359212 INFO: Building Tree Tree-05.toc\n",
      "359228 INFO: Loading module hook 'hook-setuptools.msvc.py' from '/home/kburchfiel/miniforge3/lib/python3.10/site-packages/PyInstaller/hooks'...\n",
      "359539 INFO: Loading module hook 'hook-setuptools._distutils.command.check.py' from '/home/kburchfiel/miniforge3/lib/python3.10/site-packages/PyInstaller/hooks'...\n",
      "359605 INFO: Loading module hook 'hook-PyQt5.QtWidgets.py' from '/home/kburchfiel/miniforge3/lib/python3.10/site-packages/PyInstaller/hooks'...\n",
      "359644 INFO: Processing pre-safe import module hook win32com from '/home/kburchfiel/miniforge3/lib/python3.10/site-packages/_pyinstaller_hooks_contrib/hooks/pre_safe_import_module/hook-win32com.py'.\n",
      "360008 INFO: Loading module hook 'hook-heapq.py' from '/home/kburchfiel/miniforge3/lib/python3.10/site-packages/PyInstaller/hooks'...\n",
      "360106 INFO: Loading module hook 'hook-PIL.SpiderImagePlugin.py' from '/home/kburchfiel/miniforge3/lib/python3.10/site-packages/PyInstaller/hooks'...\n",
      "360125 INFO: Loading module hook 'hook-cx_Oracle.py' from '/home/kburchfiel/miniforge3/lib/python3.10/site-packages/_pyinstaller_hooks_contrib/hooks/stdhooks'...\n",
      "360126 WARNING: Hidden import \"mx.DateTime\" not found!\n",
      "360127 INFO: Loading module hook 'hook-PyQt5.QtGui.py' from '/home/kburchfiel/miniforge3/lib/python3.10/site-packages/PyInstaller/hooks'...\n",
      "360162 INFO: Loading module hook 'hook-PyQt5.QtCore.py' from '/home/kburchfiel/miniforge3/lib/python3.10/site-packages/PyInstaller/hooks'...\n",
      "360284 INFO: Performing binary vs. data reclassification (4079 entries)\n",
      "360795 INFO: Looking for ctypes DLLs\n",
      "360823 WARNING: Library user32 required via ctypes not found\n",
      "360873 WARNING: Library msvcrt required via ctypes not found\n",
      "360882 INFO: Analyzing run-time hooks ...\n",
      "360922 INFO: Including run-time hook '/home/kburchfiel/miniforge3/lib/python3.10/site-packages/PyInstaller/hooks/rthooks/pyi_rth_inspect.py'\n",
      "360923 INFO: Including run-time hook '/home/kburchfiel/miniforge3/lib/python3.10/site-packages/PyInstaller/hooks/rthooks/pyi_rth_pkgutil.py'\n",
      "360925 INFO: Processing pre-find module path hook _pyi_rth_utils from '/home/kburchfiel/miniforge3/lib/python3.10/site-packages/PyInstaller/hooks/pre_find_module_path/hook-_pyi_rth_utils.py'.\n",
      "360926 INFO: Loading module hook 'hook-_pyi_rth_utils.py' from '/home/kburchfiel/miniforge3/lib/python3.10/site-packages/PyInstaller/hooks'...\n",
      "360926 INFO: Including run-time hook '/home/kburchfiel/miniforge3/lib/python3.10/site-packages/PyInstaller/hooks/rthooks/pyi_rth_multiprocessing.py'\n",
      "360928 INFO: Including run-time hook '/home/kburchfiel/miniforge3/lib/python3.10/site-packages/PyInstaller/hooks/rthooks/pyi_rth_pkgres.py'\n",
      "360930 INFO: Including run-time hook '/home/kburchfiel/miniforge3/lib/python3.10/site-packages/PyInstaller/hooks/rthooks/pyi_rth_setuptools.py'\n",
      "360930 INFO: Including run-time hook '/home/kburchfiel/miniforge3/lib/python3.10/site-packages/_pyinstaller_hooks_contrib/hooks/rthooks/pyi_rth_traitlets.py'\n",
      "360931 INFO: Including run-time hook '/home/kburchfiel/miniforge3/lib/python3.10/site-packages/PyInstaller/hooks/rthooks/pyi_rth__tkinter.py'\n",
      "360932 INFO: Including run-time hook '/home/kburchfiel/miniforge3/lib/python3.10/site-packages/PyInstaller/hooks/rthooks/pyi_rth_pyqt5.py'\n",
      "360933 INFO: Including run-time hook '/home/kburchfiel/miniforge3/lib/python3.10/site-packages/PyInstaller/hooks/rthooks/pyi_rth_mplconfig.py'\n",
      "361146 INFO: Looking for dynamic libraries\n",
      "363858 INFO: Warnings written to /home/kburchfiel/Downloads/Type_The_Bible_Linux/build/Type_The_Bible_v13/warn-Type_The_Bible_v13.txt\n",
      "364236 INFO: Graph cross-reference written to /home/kburchfiel/Downloads/Type_The_Bible_Linux/build/Type_The_Bible_v13/xref-Type_The_Bible_v13.html\n",
      "364487 INFO: checking PYZ\n",
      "364488 INFO: Building PYZ because PYZ-01.toc is non existent\n",
      "364488 INFO: Building PYZ (ZlibArchive) /home/kburchfiel/Downloads/Type_The_Bible_Linux/build/Type_The_Bible_v13/PYZ-01.pyz\n",
      "367650 INFO: Building PYZ (ZlibArchive) /home/kburchfiel/Downloads/Type_The_Bible_Linux/build/Type_The_Bible_v13/PYZ-01.pyz completed successfully.\n",
      "367835 INFO: checking PKG\n",
      "367835 INFO: Building PKG because PKG-01.toc is non existent\n",
      "367836 INFO: Building PKG (CArchive) Type_The_Bible_v13.pkg\n",
      "367862 INFO: Building PKG (CArchive) Type_The_Bible_v13.pkg completed successfully.\n",
      "367863 INFO: Bootloader /home/kburchfiel/miniforge3/lib/python3.10/site-packages/PyInstaller/bootloader/Linux-64bit-intel/run\n",
      "367863 INFO: checking EXE\n",
      "367863 INFO: Building EXE because EXE-01.toc is non existent\n",
      "367863 INFO: Building EXE from EXE-01.toc\n",
      "367864 INFO: Copying bootloader EXE to /home/kburchfiel/Downloads/Type_The_Bible_Linux/build/Type_The_Bible_v13/Type_The_Bible_v13\n",
      "367864 INFO: Appending PKG archive to custom ELF section in EXE\n",
      "367912 INFO: Building EXE from EXE-01.toc completed successfully.\n",
      "367936 INFO: checking COLLECT\n",
      "367936 INFO: Building COLLECT because COLLECT-01.toc is non existent\n",
      "367936 INFO: Building COLLECT COLLECT-01.toc\n",
      "368401 INFO: Building COLLECT COLLECT-01.toc completed successfully.\n"
     ]
    }
   ],
   "source": [
    "PyInstaller.__main__.run([\n",
    "    '/home/kburchfiel/Downloads/Type_The_Bible/Type_The_Bible_v13.py',\n",
    "    \"--distpath=/home/kburchfiel/Downloads/Type_The_Bible_Linux/dist\",\n",
    "    \"--workpath=/home/kburchfiel/Downloads/Type_The_Bible_Linux/build\",\n",
    "    '--noconfirm'])\n",
    "# distpath and workpath set the locations of the dist and build directories,\n",
    "# respectively. \n",
    "# --noconfirm allows the original folder to get overwritten.\n",
    "# See https://pyinstaller.org/en/stable/usage.html for more details."
   ]
  },
  {
   "cell_type": "markdown",
   "metadata": {},
   "source": [
    "Moving a copy of WEB_Catholic_Version_for_game.csv over to the Pyinstaller version of Type Through The Bible, then renaming it so that it will be compatible with the game's code:"
   ]
  },
  {
   "cell_type": "code",
   "execution_count": 7,
   "metadata": {},
   "outputs": [
    {
     "data": {
      "text/plain": [
       "'/home/kburchfiel/Downloads/Type_The_Bible_Linux/dist/Type_The_Bible_v13/WEB_Catholic_Version_for_game_updated.csv'"
      ]
     },
     "execution_count": 7,
     "metadata": {},
     "output_type": "execute_result"
    }
   ],
   "source": [
    "shutil.copy('/home/kburchfiel/Downloads/Type_The_Bible/WEB_Catholic_Version_for_game.csv', '/home/kburchfiel/Downloads/Type_The_Bible_Linux/dist/Type_The_Bible_v13/WEB_Catholic_Version_for_game_updated.csv') "
   ]
  }
 ],
 "metadata": {
  "kernelspec": {
   "display_name": "typing_env",
   "language": "python",
   "name": "python3"
  },
  "language_info": {
   "codemirror_mode": {
    "name": "ipython",
    "version": 3
   },
   "file_extension": ".py",
   "mimetype": "text/x-python",
   "name": "python",
   "nbconvert_exporter": "python",
   "pygments_lexer": "ipython3",
   "version": "3.10.10"
  }
 },
 "nbformat": 4,
 "nbformat_minor": 2
}
