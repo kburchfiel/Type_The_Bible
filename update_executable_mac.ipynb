{
 "cells": [
  {
   "cell_type": "markdown",
   "metadata": {},
   "source": [
    "# Update Mac Executable:\n",
    "\n",
    "This script speeds up the process of updating an executable Mac version of Type Through The Bible."
   ]
  },
  {
   "cell_type": "code",
   "execution_count": null,
   "metadata": {},
   "outputs": [],
   "source": [
    "import shutil\n",
    "import os\n",
    "import PyInstaller.__main__ # see https://pyinstaller.org/en/stable/usage.html"
   ]
  },
  {
   "cell_type": "code",
   "execution_count": null,
   "metadata": {},
   "outputs": [],
   "source": [
    "# Moving up a directory:\n",
    "os.chdir(\"..\")"
   ]
  },
  {
   "cell_type": "code",
   "execution_count": null,
   "metadata": {},
   "outputs": [],
   "source": [
    "current_dir = os.getcwd()"
   ]
  },
  {
   "cell_type": "markdown",
   "metadata": {},
   "source": [
    "The following cell instructs Pyinstaller to create a copy of Type_Through_The_Bible_vx within a separate directory folder. This way, the Pyinstaller output won't get added to the source code folder (which could interfere with GitHub syncs due to the size of the Pyinstaller output)."
   ]
  },
  {
   "cell_type": "code",
   "execution_count": null,
   "metadata": {},
   "outputs": [],
   "source": [
    "PyInstaller.__main__.run([\n",
    "    f'{current_dir}/Type_The_Bible/Type_The_Bible_v13.py',\n",
    "    f\"--distpath={current_dir}/Type_The_Bible_Mac/dist\",\n",
    "    f\"--workpath={current_dir}/Type_The_Bible_Mac/build\",\n",
    "    '--noconfirm'])\n",
    "# distpath and workpath set the locations of the dist and build directories,\n",
    "# respectively. \n",
    "# --noconfirm allows the original folder to get overwritten.\n",
    "# See https://pyinstaller.org/en/stable/usage.html for more details."
   ]
  },
  {
   "cell_type": "markdown",
   "metadata": {},
   "source": [
    "Moving a copy of WEB_Catholic_Version_for_game.csv over to the Pyinstaller version of Type Through The Bible, then renaming it so that it will be compatible with the game's code:"
   ]
  },
  {
   "cell_type": "code",
   "execution_count": null,
   "metadata": {},
   "outputs": [],
   "source": [
    "shutil.copy(f'{current_dir}/Type_The_Bible/WEB_Catholic_Version_for_game.csv', f'{current_dir}/Type_The_Bible_Mac/dist/Type_The_Bible_v13/WEB_Catholic_Version_for_game_updated.csv') "
   ]
  }
 ],
 "metadata": {
  "kernelspec": {
   "display_name": "typing_env",
   "language": "python",
   "name": "python3"
  },
  "language_info": {
   "codemirror_mode": {
    "name": "ipython",
    "version": 3
   },
   "file_extension": ".py",
   "mimetype": "text/x-python",
   "name": "python",
   "nbconvert_exporter": "python",
   "pygments_lexer": "ipython3",
   "version": "3.12.1"
  }
 },
 "nbformat": 4,
 "nbformat_minor": 2
}
