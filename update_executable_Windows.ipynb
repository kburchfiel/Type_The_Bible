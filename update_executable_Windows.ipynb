{
 "cells": [
  {
   "cell_type": "markdown",
   "metadata": {},
   "source": [
    "# Update Windows Executable\n",
    "\n",
    "This script speeds up the process of updating an executable Windows version of Type Through The Bible."
   ]
  },
  {
   "cell_type": "code",
   "execution_count": 1,
   "metadata": {},
   "outputs": [],
   "source": [
    "import shutil\n",
    "import os\n",
    "import PyInstaller.__main__ # see https://pyinstaller.org/en/stable/usage.html"
   ]
  },
  {
   "cell_type": "markdown",
   "metadata": {},
   "source": [
    "Verifying that we're in the Type_Through_The_Bible directory:"
   ]
  },
  {
   "cell_type": "code",
   "execution_count": 2,
   "metadata": {},
   "outputs": [
    {
     "data": {
      "text/plain": [
       "'c:\\\\Users\\\\kburc\\\\D1V1\\\\Documents\\\\!Dell64docs\\\\Programming\\\\py\\\\kjb3_programs\\\\Type_The_Bible'"
      ]
     },
     "execution_count": 2,
     "metadata": {},
     "output_type": "execute_result"
    }
   ],
   "source": [
    "os.getcwd()"
   ]
  },
  {
   "cell_type": "code",
   "execution_count": 3,
   "metadata": {},
   "outputs": [],
   "source": [
    "# Moving up a directory:\n",
    "os.chdir(\"..\")"
   ]
  },
  {
   "cell_type": "code",
   "execution_count": 4,
   "metadata": {},
   "outputs": [
    {
     "data": {
      "text/plain": [
       "'c:\\\\Users\\\\kburc\\\\D1V1\\\\Documents\\\\!Dell64docs\\\\Programming\\\\py\\\\kjb3_programs'"
      ]
     },
     "execution_count": 4,
     "metadata": {},
     "output_type": "execute_result"
    }
   ],
   "source": [
    "os.getcwd()"
   ]
  },
  {
   "cell_type": "markdown",
   "metadata": {},
   "source": [
    "The following cell instructs Pyinstaller to create a copy of Type_Through_The_Bible_vx within a separate directory folder. This way, the Pyinstaller output won't get added to the source code folder (which could interfere with GitHub syncs due to the size of the Pyinstaller output)."
   ]
  },
  {
   "cell_type": "code",
   "execution_count": 5,
   "metadata": {},
   "outputs": [
    {
     "name": "stderr",
     "output_type": "stream",
     "text": [
      "3120 INFO: PyInstaller: 6.3.0\n",
      "3120 INFO: Python: 3.12.0 (conda)\n",
      "3121 INFO: Platform: Windows-11-10.0.22631-SP0\n",
      "3122 INFO: wrote c:\\Users\\kburc\\D1V1\\Documents\\!Dell64docs\\Programming\\py\\kjb3_programs\\Type_The_Bible\\Type_The_Bible_v13.spec\n",
      "3138 INFO: Extending PYTHONPATH with paths\n",
      "['C:\\\\Users\\\\kburc\\\\D1V1\\\\Documents\\\\!Dell64docs\\\\Programming\\\\py\\\\kjb3_programs\\\\Type_The_Bible']\n",
      "3596 INFO: checking Analysis\n",
      "3880 INFO: Building because C:\\Users\\kburc\\D1V1\\Documents\\!Dell64docs\\Programming\\py\\kjb3_programs\\Type_The_Bible\\Type_The_Bible_v13.py changed\n",
      "3881 INFO: Initializing module dependency graph...\n",
      "3941 INFO: Caching module graph hooks...\n",
      "3970 INFO: Analyzing base_library.zip ...\n",
      "7266 INFO: Loading module hook 'hook-encodings.py' from 'c:\\\\Users\\\\kburc\\\\miniforge3\\\\envs\\\\typing_env\\\\Lib\\\\site-packages\\\\PyInstaller\\\\hooks'...\n",
      "10343 INFO: Loading module hook 'hook-pickle.py' from 'c:\\\\Users\\\\kburc\\\\miniforge3\\\\envs\\\\typing_env\\\\Lib\\\\site-packages\\\\PyInstaller\\\\hooks'...\n",
      "11569 INFO: Loading module hook 'hook-heapq.py' from 'c:\\\\Users\\\\kburc\\\\miniforge3\\\\envs\\\\typing_env\\\\Lib\\\\site-packages\\\\PyInstaller\\\\hooks'...\n",
      "12655 INFO: Caching module dependency graph...\n",
      "12764 INFO: Running Analysis Analysis-00.toc\n",
      "12765 INFO: Looking for Python shared library...\n",
      "12776 INFO: Using Python shared library: c:\\Users\\kburc\\miniforge3\\envs\\typing_env\\python312.dll\n",
      "12776 INFO: Analyzing C:\\Users\\kburc\\D1V1\\Documents\\!Dell64docs\\Programming\\py\\kjb3_programs\\Type_The_Bible\\Type_The_Bible_v13.py\n",
      "12835 INFO: Loading module hook 'hook-pandas.py' from 'c:\\\\Users\\\\kburc\\\\miniforge3\\\\envs\\\\typing_env\\\\Lib\\\\site-packages\\\\PyInstaller\\\\hooks'...\n",
      "15151 INFO: Loading module hook 'hook-platform.py' from 'c:\\\\Users\\\\kburc\\\\miniforge3\\\\envs\\\\typing_env\\\\Lib\\\\site-packages\\\\PyInstaller\\\\hooks'...\n",
      "15191 INFO: Loading module hook 'hook-sysconfig.py' from 'c:\\\\Users\\\\kburc\\\\miniforge3\\\\envs\\\\typing_env\\\\Lib\\\\site-packages\\\\PyInstaller\\\\hooks'...\n",
      "15236 INFO: Loading module hook 'hook-numpy.py' from 'C:\\\\Users\\\\kburc\\\\miniforge3\\\\envs\\\\typing_env\\\\Lib\\\\site-packages\\\\numpy\\\\_pyinstaller'...\n",
      "16233 INFO: Loading module hook 'hook-difflib.py' from 'c:\\\\Users\\\\kburc\\\\miniforge3\\\\envs\\\\typing_env\\\\Lib\\\\site-packages\\\\PyInstaller\\\\hooks'...\n",
      "16525 INFO: Loading module hook 'hook-multiprocessing.util.py' from 'c:\\\\Users\\\\kburc\\\\miniforge3\\\\envs\\\\typing_env\\\\Lib\\\\site-packages\\\\PyInstaller\\\\hooks'...\n",
      "16780 INFO: Loading module hook 'hook-xml.py' from 'c:\\\\Users\\\\kburc\\\\miniforge3\\\\envs\\\\typing_env\\\\Lib\\\\site-packages\\\\PyInstaller\\\\hooks'...\n",
      "18316 INFO: Loading module hook 'hook-psutil.py' from 'c:\\\\Users\\\\kburc\\\\miniforge3\\\\envs\\\\typing_env\\\\Lib\\\\site-packages\\\\_pyinstaller_hooks_contrib\\\\hooks\\\\stdhooks'...\n",
      "20121 INFO: Loading module hook 'hook-pytz.py' from 'c:\\\\Users\\\\kburc\\\\miniforge3\\\\envs\\\\typing_env\\\\Lib\\\\site-packages\\\\PyInstaller\\\\hooks'...\n",
      "20621 INFO: Loading module hook 'hook-pkg_resources.py' from 'c:\\\\Users\\\\kburc\\\\miniforge3\\\\envs\\\\typing_env\\\\Lib\\\\site-packages\\\\PyInstaller\\\\hooks'...\n",
      "24625 INFO: Loading module hook 'hook-pandas.io.formats.style.py' from 'c:\\\\Users\\\\kburc\\\\miniforge3\\\\envs\\\\typing_env\\\\Lib\\\\site-packages\\\\PyInstaller\\\\hooks'...\n",
      "26385 INFO: Loading module hook 'hook-scipy.py' from 'c:\\\\Users\\\\kburc\\\\miniforge3\\\\envs\\\\typing_env\\\\Lib\\\\site-packages\\\\PyInstaller\\\\hooks'...\n",
      "26769 INFO: Loading module hook 'hook-scipy.linalg.py' from 'c:\\\\Users\\\\kburc\\\\miniforge3\\\\envs\\\\typing_env\\\\Lib\\\\site-packages\\\\PyInstaller\\\\hooks'...\n",
      "27118 INFO: Loading module hook 'hook-scipy.sparse.csgraph.py' from 'c:\\\\Users\\\\kburc\\\\miniforge3\\\\envs\\\\typing_env\\\\Lib\\\\site-packages\\\\PyInstaller\\\\hooks'...\n",
      "29802 INFO: Loading module hook 'hook-scipy.spatial.transform.rotation.py' from 'c:\\\\Users\\\\kburc\\\\miniforge3\\\\envs\\\\typing_env\\\\Lib\\\\site-packages\\\\PyInstaller\\\\hooks'...\n",
      "32882 INFO: Loading module hook 'hook-IPython.py' from 'c:\\\\Users\\\\kburc\\\\miniforge3\\\\envs\\\\typing_env\\\\Lib\\\\site-packages\\\\_pyinstaller_hooks_contrib\\\\hooks\\\\stdhooks'...\n",
      "36121 INFO: Loading module hook 'hook-xml.dom.domreg.py' from 'c:\\\\Users\\\\kburc\\\\miniforge3\\\\envs\\\\typing_env\\\\Lib\\\\site-packages\\\\PyInstaller\\\\hooks'...\n",
      "36451 INFO: Loading module hook 'hook-pygments.py' from 'c:\\\\Users\\\\kburc\\\\miniforge3\\\\envs\\\\typing_env\\\\Lib\\\\site-packages\\\\PyInstaller\\\\hooks'...\n",
      "40025 INFO: Loading module hook 'hook-importlib_metadata.py' from 'c:\\\\Users\\\\kburc\\\\miniforge3\\\\envs\\\\typing_env\\\\Lib\\\\site-packages\\\\PyInstaller\\\\hooks'...\n",
      "40655 INFO: Processing pre-safe import module hook six.moves from 'c:\\\\Users\\\\kburc\\\\miniforge3\\\\envs\\\\typing_env\\\\Lib\\\\site-packages\\\\PyInstaller\\\\hooks\\\\pre_safe_import_module\\\\hook-six.moves.py'.\n",
      "41426 INFO: Loading module hook 'hook-wcwidth.py' from 'c:\\\\Users\\\\kburc\\\\miniforge3\\\\envs\\\\typing_env\\\\Lib\\\\site-packages\\\\PyInstaller\\\\hooks'...\n",
      "43227 INFO: Loading module hook 'hook-jedi.py' from 'c:\\\\Users\\\\kburc\\\\miniforge3\\\\envs\\\\typing_env\\\\Lib\\\\site-packages\\\\_pyinstaller_hooks_contrib\\\\hooks\\\\stdhooks'...\n",
      "45881 INFO: Loading module hook 'hook-parso.py' from 'c:\\\\Users\\\\kburc\\\\miniforge3\\\\envs\\\\typing_env\\\\Lib\\\\site-packages\\\\_pyinstaller_hooks_contrib\\\\hooks\\\\stdhooks'...\n",
      "47699 INFO: Loading module hook 'hook-sqlite3.py' from 'c:\\\\Users\\\\kburc\\\\miniforge3\\\\envs\\\\typing_env\\\\Lib\\\\site-packages\\\\PyInstaller\\\\hooks'...\n",
      "48825 INFO: Loading module hook 'hook-nbformat.py' from 'c:\\\\Users\\\\kburc\\\\miniforge3\\\\envs\\\\typing_env\\\\Lib\\\\site-packages\\\\_pyinstaller_hooks_contrib\\\\hooks\\\\stdhooks'...\n",
      "49180 INFO: Loading module hook 'hook-jsonschema.py' from 'c:\\\\Users\\\\kburc\\\\miniforge3\\\\envs\\\\typing_env\\\\Lib\\\\site-packages\\\\_pyinstaller_hooks_contrib\\\\hooks\\\\stdhooks'...\n",
      "49741 INFO: Loading module hook 'hook-jsonschema_specifications.py' from 'c:\\\\Users\\\\kburc\\\\miniforge3\\\\envs\\\\typing_env\\\\Lib\\\\site-packages\\\\_pyinstaller_hooks_contrib\\\\hooks\\\\stdhooks'...\n",
      "49796 INFO: Loading module hook 'hook-importlib_resources.py' from 'c:\\\\Users\\\\kburc\\\\miniforge3\\\\envs\\\\typing_env\\\\Lib\\\\site-packages\\\\PyInstaller\\\\hooks'...\n",
      "50542 INFO: Loading module hook 'hook-zmq.py' from 'c:\\\\Users\\\\kburc\\\\miniforge3\\\\envs\\\\typing_env\\\\Lib\\\\site-packages\\\\_pyinstaller_hooks_contrib\\\\hooks\\\\stdhooks'...\n",
      "52621 INFO: Loading module hook 'hook-platformdirs.py' from 'c:\\\\Users\\\\kburc\\\\miniforge3\\\\envs\\\\typing_env\\\\Lib\\\\site-packages\\\\_pyinstaller_hooks_contrib\\\\hooks\\\\stdhooks'...\n",
      "53339 INFO: Loading module hook 'hook-packaging.py' from 'c:\\\\Users\\\\kburc\\\\miniforge3\\\\envs\\\\typing_env\\\\Lib\\\\site-packages\\\\PyInstaller\\\\hooks'...\n",
      "53512 INFO: Processing pre-safe import module hook gi from 'c:\\\\Users\\\\kburc\\\\miniforge3\\\\envs\\\\typing_env\\\\Lib\\\\site-packages\\\\PyInstaller\\\\hooks\\\\pre_safe_import_module\\\\hook-gi.py'.\n",
      "54867 INFO: Loading module hook 'hook-pandas.plotting.py' from 'c:\\\\Users\\\\kburc\\\\miniforge3\\\\envs\\\\typing_env\\\\Lib\\\\site-packages\\\\PyInstaller\\\\hooks'...\n",
      "56926 INFO: Loading module hook 'hook-xml.etree.cElementTree.py' from 'c:\\\\Users\\\\kburc\\\\miniforge3\\\\envs\\\\typing_env\\\\Lib\\\\site-packages\\\\PyInstaller\\\\hooks'...\n",
      "57372 INFO: Loading module hook 'hook-plotly.py' from 'c:\\\\Users\\\\kburc\\\\miniforge3\\\\envs\\\\typing_env\\\\Lib\\\\site-packages\\\\_pyinstaller_hooks_contrib\\\\hooks\\\\stdhooks'...\n",
      "81816 INFO: Loading module hook 'hook-kaleido.py' from 'c:\\\\Users\\\\kburc\\\\miniforge3\\\\envs\\\\typing_env\\\\Lib\\\\site-packages\\\\_pyinstaller_hooks_contrib\\\\hooks\\\\stdhooks'...\n",
      "82541 INFO: Loading module hook 'hook-patsy.py' from 'c:\\\\Users\\\\kburc\\\\miniforge3\\\\envs\\\\typing_env\\\\Lib\\\\site-packages\\\\_pyinstaller_hooks_contrib\\\\hooks\\\\stdhooks'...\n",
      "84393 INFO: Loading module hook 'hook-statsmodels.tsa.statespace.py' from 'c:\\\\Users\\\\kburc\\\\miniforge3\\\\envs\\\\typing_env\\\\Lib\\\\site-packages\\\\_pyinstaller_hooks_contrib\\\\hooks\\\\stdhooks'...\n",
      "98416 INFO: Loading module hook 'hook-jinxed.py' from 'c:\\\\Users\\\\kburc\\\\miniforge3\\\\envs\\\\typing_env\\\\Lib\\\\site-packages\\\\_pyinstaller_hooks_contrib\\\\hooks\\\\stdhooks'...\n",
      "98725 INFO: Processing module hooks...\n",
      "158707 WARNING: Hidden import \"importlib_resources.trees\" not found!\n",
      "163018 INFO: Loading module hook 'hook-scipy.special._ellip_harm_2.py' from 'c:\\\\Users\\\\kburc\\\\miniforge3\\\\envs\\\\typing_env\\\\Lib\\\\site-packages\\\\PyInstaller\\\\hooks'...\n",
      "163019 INFO: Loading module hook 'hook-scipy.special._ufuncs.py' from 'c:\\\\Users\\\\kburc\\\\miniforge3\\\\envs\\\\typing_env\\\\Lib\\\\site-packages\\\\PyInstaller\\\\hooks'...\n",
      "163021 INFO: Loading module hook 'hook-scipy.stats._stats.py' from 'c:\\\\Users\\\\kburc\\\\miniforge3\\\\envs\\\\typing_env\\\\Lib\\\\site-packages\\\\PyInstaller\\\\hooks'...\n",
      "163043 INFO: Loading module hook 'hook-_tkinter.py' from 'c:\\\\Users\\\\kburc\\\\miniforge3\\\\envs\\\\typing_env\\\\Lib\\\\site-packages\\\\PyInstaller\\\\hooks'...\n",
      "163045 INFO: checking Tree\n",
      "163147 INFO: checking Tree\n",
      "163175 INFO: checking Tree\n",
      "163293 INFO: Performing binary vs. data reclassification (3532 entries)\n",
      "175969 INFO: Looking for ctypes DLLs\n",
      "176126 INFO: Analyzing run-time hooks ...\n",
      "176173 INFO: Including run-time hook 'c:\\\\Users\\\\kburc\\\\miniforge3\\\\envs\\\\typing_env\\\\Lib\\\\site-packages\\\\PyInstaller\\\\hooks\\\\rthooks\\\\pyi_rth_inspect.py'\n",
      "176184 INFO: Including run-time hook 'c:\\\\Users\\\\kburc\\\\miniforge3\\\\envs\\\\typing_env\\\\Lib\\\\site-packages\\\\PyInstaller\\\\hooks\\\\rthooks\\\\pyi_rth_pkgutil.py'\n",
      "176194 INFO: Processing pre-find module path hook _pyi_rth_utils from 'c:\\\\Users\\\\kburc\\\\miniforge3\\\\envs\\\\typing_env\\\\Lib\\\\site-packages\\\\PyInstaller\\\\hooks\\\\pre_find_module_path\\\\hook-_pyi_rth_utils.py'.\n",
      "176203 INFO: Loading module hook 'hook-_pyi_rth_utils.py' from 'c:\\\\Users\\\\kburc\\\\miniforge3\\\\envs\\\\typing_env\\\\Lib\\\\site-packages\\\\PyInstaller\\\\hooks'...\n",
      "176205 INFO: Including run-time hook 'c:\\\\Users\\\\kburc\\\\miniforge3\\\\envs\\\\typing_env\\\\Lib\\\\site-packages\\\\PyInstaller\\\\hooks\\\\rthooks\\\\pyi_rth_multiprocessing.py'\n",
      "176216 INFO: Including run-time hook 'c:\\\\Users\\\\kburc\\\\miniforge3\\\\envs\\\\typing_env\\\\Lib\\\\site-packages\\\\_pyinstaller_hooks_contrib\\\\hooks\\\\rthooks\\\\pyi_rth_traitlets.py'\n",
      "176223 INFO: Including run-time hook 'c:\\\\Users\\\\kburc\\\\miniforge3\\\\envs\\\\typing_env\\\\Lib\\\\site-packages\\\\PyInstaller\\\\hooks\\\\rthooks\\\\pyi_rth_pkgres.py'\n",
      "176234 INFO: Including run-time hook 'c:\\\\Users\\\\kburc\\\\miniforge3\\\\envs\\\\typing_env\\\\Lib\\\\site-packages\\\\PyInstaller\\\\hooks\\\\rthooks\\\\pyi_rth__tkinter.py'\n",
      "176475 INFO: Looking for dynamic libraries\n",
      "182605 INFO: Extra DLL search directories (AddDllDirectory): []\n",
      "182605 INFO: Extra DLL search directories (PATH): []\n",
      "187446 WARNING: Library not found: could not resolve 'msmpi.dll', dependency of 'c:\\\\Users\\\\kburc\\\\miniforge3\\\\envs\\\\typing_env\\\\Library\\\\bin\\\\mkl_blacs_msmpi_ilp64.2.dll'.\n",
      "187447 WARNING: Library not found: could not resolve 'api-ms-win-core-winrt-string-l1-1-0.dll', dependency of 'c:\\\\Users\\\\kburc\\\\miniforge3\\\\envs\\\\typing_env\\\\Library\\\\bin\\\\vccorlib140.dll'.\n",
      "187448 WARNING: Library not found: could not resolve 'api-ms-win-core-winrt-l1-1-0.dll', dependency of 'c:\\\\Users\\\\kburc\\\\miniforge3\\\\envs\\\\typing_env\\\\Library\\\\bin\\\\vccorlib140.dll'.\n",
      "187449 WARNING: Library not found: could not resolve 'api-ms-win-core-winrt-error-l1-1-0.dll', dependency of 'c:\\\\Users\\\\kburc\\\\miniforge3\\\\envs\\\\typing_env\\\\Library\\\\bin\\\\vccorlib140.dll'.\n",
      "187449 WARNING: Library not found: could not resolve 'pgmath.dll', dependency of 'c:\\\\Users\\\\kburc\\\\miniforge3\\\\envs\\\\typing_env\\\\Library\\\\bin\\\\mkl_pgi_thread.2.dll'.\n",
      "187450 WARNING: Library not found: could not resolve 'pgf90.dll', dependency of 'c:\\\\Users\\\\kburc\\\\miniforge3\\\\envs\\\\typing_env\\\\Library\\\\bin\\\\mkl_pgi_thread.2.dll'.\n",
      "187451 WARNING: Library not found: could not resolve 'pgc.dll', dependency of 'c:\\\\Users\\\\kburc\\\\miniforge3\\\\envs\\\\typing_env\\\\Library\\\\bin\\\\mkl_pgi_thread.2.dll'.\n",
      "187452 WARNING: Library not found: could not resolve 'msmpi.dll', dependency of 'c:\\\\Users\\\\kburc\\\\miniforge3\\\\envs\\\\typing_env\\\\Library\\\\bin\\\\mkl_blacs_msmpi_lp64.2.dll'.\n",
      "187452 WARNING: Library not found: could not resolve 'sycl6.dll', dependency of 'c:\\\\Users\\\\kburc\\\\miniforge3\\\\envs\\\\typing_env\\\\Library\\\\bin\\\\omptarget.sycl.wrap.dll'.\n",
      "187453 WARNING: Library not found: could not resolve 'impi.dll', dependency of 'c:\\\\Users\\\\kburc\\\\miniforge3\\\\envs\\\\typing_env\\\\Library\\\\bin\\\\mkl_blacs_intelmpi_ilp64.2.dll'.\n",
      "187454 WARNING: Library not found: could not resolve 'impi.dll', dependency of 'c:\\\\Users\\\\kburc\\\\miniforge3\\\\envs\\\\typing_env\\\\Library\\\\bin\\\\mkl_blacs_intelmpi_lp64.2.dll'.\n",
      "187454 WARNING: Library not found: could not resolve 'api-ms-win-core-path-l1-1-0.dll', dependency of 'c:\\\\Users\\\\kburc\\\\miniforge3\\\\envs\\\\typing_env\\\\python312.dll'.\n",
      "187847 INFO: Warnings written to C:\\Users\\kburc\\D1V1\\Documents\\!Dell64docs\\Programming\\py\\kjb3_programs\\Type_The_Bible_Windows\\build\\Type_The_Bible_v13\\warn-Type_The_Bible_v13.txt\n",
      "188790 INFO: Graph cross-reference written to C:\\Users\\kburc\\D1V1\\Documents\\!Dell64docs\\Programming\\py\\kjb3_programs\\Type_The_Bible_Windows\\build\\Type_The_Bible_v13\\xref-Type_The_Bible_v13.html\n",
      "189155 INFO: checking PYZ\n",
      "190723 INFO: checking PKG\n",
      "190731 INFO: Building because C:\\Users\\kburc\\D1V1\\Documents\\!Dell64docs\\Programming\\py\\kjb3_programs\\Type_The_Bible\\Type_The_Bible_v13.py changed\n",
      "190733 INFO: Building PKG (CArchive) Type_The_Bible_v13.pkg\n",
      "190885 INFO: Building PKG (CArchive) Type_The_Bible_v13.pkg completed successfully.\n",
      "190886 INFO: Bootloader c:\\Users\\kburc\\miniforge3\\envs\\typing_env\\Lib\\site-packages\\PyInstaller\\bootloader\\Windows-64bit-intel\\run.exe\n",
      "190887 INFO: checking EXE\n",
      "190895 INFO: Rebuilding EXE-00.toc because pkg is more recent\n",
      "190895 INFO: Building EXE from EXE-00.toc\n",
      "190896 INFO: Copying bootloader EXE to C:\\Users\\kburc\\D1V1\\Documents\\!Dell64docs\\Programming\\py\\kjb3_programs\\Type_The_Bible_Windows\\build\\Type_The_Bible_v13\\Type_The_Bible_v13.exe\n",
      "190997 INFO: Copying icon to EXE\n",
      "191053 INFO: Copying 0 resources to EXE\n",
      "191053 INFO: Embedding manifest in EXE\n",
      "191106 INFO: Appending PKG archive to EXE\n",
      "191172 INFO: Fixing EXE headers\n",
      "191647 INFO: Building EXE from EXE-00.toc completed successfully.\n",
      "191682 INFO: checking COLLECT\n",
      "191743 INFO: Removing dir C:\\Users\\kburc\\D1V1\\Documents\\!Dell64docs\\Programming\\py\\kjb3_programs\\Type_The_Bible_Windows\\dist\\Type_The_Bible_v13\n",
      "193252 INFO: Building COLLECT COLLECT-00.toc\n",
      "201260 INFO: Building COLLECT COLLECT-00.toc completed successfully.\n"
     ]
    }
   ],
   "source": [
    "PyInstaller.__main__.run([\n",
    "    'C:\\\\Users\\\\kburc\\\\D1V1\\\\Documents\\\\!Dell64docs\\\\Programming\\\\py\\\\kjb3_programs\\\\Type_The_Bible\\\\Type_The_Bible_v13.py',\n",
    "    \"--distpath=C:\\\\Users\\\\kburc\\\\D1V1\\\\Documents\\\\!Dell64docs\\\\Programming\\\\py\\\\kjb3_programs\\\\Type_The_Bible_Windows\\\\dist\",\n",
    "    \"--workpath=C:\\\\Users\\\\kburc\\\\D1V1\\\\Documents\\\\!Dell64docs\\\\Programming\\\\py\\\\kjb3_programs\\\\Type_The_Bible_Windows\\\\build\",\n",
    "    '--noconfirm'])\n",
    "# distpath and workpath set the locations of the dist and build directories,\n",
    "# respectively. \n",
    "# --noconfirm allows the original folder to get overwritten.\n",
    "# See https://pyinstaller.org/en/stable/usage.html for more details.\n",
    "\n",
    "# The following notes relate to my attempt to get kaleido to run \n",
    "# correctly on the executable version of Type Through The Bible.\n",
    "# Ultimately, I wasn't able to successfully call kaleido even after\n",
    "# trying out the steps shown below, so I instead revised the program\n",
    "# so that it wouldn't attempt to use kaleido. These notes may be\n",
    "# helpful for future reference, however.\n",
    "\n",
    "# \"--add-data=C:\\\\Users\\\\kburc\\\\miniforge3\\\\envs\\\\typing_env\\\\Lib\\\\site-packages\\\\kaleido:kaleido\",\n",
    "\n",
    "# Kaleido won't get picked up automatically by Pyinstaller,\n",
    "# so I added in an add-data command to include it. This command\n",
    "# was based on drdelon's response at\n",
    "# https://github.com/plotly/Kaleido/issues/39#issuecomment-694363996\n",
    "# and on https://pyinstaller.org/en/stable/usage.html .\n",
    "\n",
    "# I also needed to add the Kaleido executable file (kaleido.exe) to the 'executable\\kaleido'\n",
    "# folder within my Kaleido package file path (C:\\\\Users\\\\kburc\\\\miniforge3\\\\envs\\\\typing_env\\\\Lib\\\\site-packages\\\\kaleido\\\\executable\\\\kaleido in my case).\n",
    "# I located this executable file at \n",
    "# C:\\Users\\kburc\\miniforge3\\envs\\typing_env\\Library\\bin\\KaleidoApp\\bin ,\n",
    "# so I copied and pasted it from there into my site packages folder.\n",
    "# Once I completed this operation, pyinstaller successfully included\n",
    "# it in its 'internal' folder.\n",
    "\n",
    "# sigSquared2's response at \n",
    "# https://github.com/plotly/Kaleido/issues/153#issuecomment-1519268568\n",
    "# was very helpful in resolving this missing executable issue."
   ]
  },
  {
   "cell_type": "markdown",
   "metadata": {},
   "source": [
    "Moving a copy of WEB_Catholic_Version_for_game.csv over to the Pyinstaller version of Type Through The Bible, then renaming it so that it will be compatible with the game's code:"
   ]
  },
  {
   "cell_type": "code",
   "execution_count": 6,
   "metadata": {},
   "outputs": [
    {
     "data": {
      "text/plain": [
       "'C:/Users/kburc/D1V1/Documents/!Dell64docs/Programming/py/kjb3_programs/Type_The_Bible_Windows/dist/Type_The_Bible_v13/WEB_Catholic_Version_for_game_updated.csv'"
      ]
     },
     "execution_count": 6,
     "metadata": {},
     "output_type": "execute_result"
    }
   ],
   "source": [
    "shutil.copy('C:/Users/kburc/D1V1/Documents/!Dell64docs/Programming/py/kjb3_programs/Type_The_Bible/WEB_Catholic_Version_for_game.csv', 'C:/Users/kburc/D1V1/Documents/!Dell64docs/Programming/py/kjb3_programs/Type_The_Bible_Windows/dist/Type_The_Bible_v13/WEB_Catholic_Version_for_game_updated.csv') "
   ]
  }
 ],
 "metadata": {
  "kernelspec": {
   "display_name": "typing_env",
   "language": "python",
   "name": "python3"
  },
  "language_info": {
   "codemirror_mode": {
    "name": "ipython",
    "version": 3
   },
   "file_extension": ".py",
   "mimetype": "text/x-python",
   "name": "python",
   "nbconvert_exporter": "python",
   "pygments_lexer": "ipython3",
   "version": "3.12.0"
  }
 },
 "nbformat": 4,
 "nbformat_minor": 2
}
