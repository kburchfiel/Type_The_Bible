{
 "cells": [
  {
   "cell_type": "markdown",
   "metadata": {},
   "source": [
    "# Update Windows Executable\n",
    "\n",
    "This script speeds up the process of updating an executable Windows version of Type Through The Bible."
   ]
  },
  {
   "cell_type": "code",
   "execution_count": 1,
   "metadata": {},
   "outputs": [],
   "source": [
    "import shutil\n",
    "import os\n",
    "import PyInstaller.__main__ # see https://pyinstaller.org/en/stable/usage.html"
   ]
  },
  {
   "cell_type": "code",
   "execution_count": 2,
   "metadata": {},
   "outputs": [],
   "source": [
    "# Moving up a directory:\n",
    "os.chdir(\"..\")"
   ]
  },
  {
   "cell_type": "code",
   "execution_count": 3,
   "metadata": {},
   "outputs": [],
   "source": [
    "current_dir = os.getcwd()"
   ]
  },
  {
   "cell_type": "markdown",
   "metadata": {},
   "source": [
    "The following cell instructs Pyinstaller to create a copy of Type_Through_The_Bible_vx within a separate directory folder. This way, the Pyinstaller output won't get added to the source code folder (which could interfere with GitHub syncs due to the size of the Pyinstaller output)."
   ]
  },
  {
   "cell_type": "code",
   "execution_count": 4,
   "metadata": {},
   "outputs": [
    {
     "name": "stderr",
     "output_type": "stream",
     "text": [
      "3853 INFO: PyInstaller: 6.3.0\n",
      "3854 INFO: Python: 3.12.0 (conda)\n",
      "3854 INFO: Platform: Windows-11-10.0.22631-SP0\n",
      "3855 INFO: wrote c:\\Users\\kburc\\D1V1\\Documents\\!Dell64docs\\Programming\\py\\kjb3_programs\\Type_The_Bible\\Type_The_Bible_v13.spec\n",
      "3870 INFO: Extending PYTHONPATH with paths\n",
      "['c:\\\\Users\\\\kburc\\\\D1V1\\\\Documents\\\\!Dell64docs\\\\Programming\\\\py\\\\kjb3_programs\\\\Type_The_Bible']\n",
      "4694 INFO: checking Analysis\n",
      "4975 INFO: Building because inputs changed\n",
      "4975 INFO: Initializing module dependency graph...\n",
      "5079 INFO: Caching module graph hooks...\n",
      "5117 INFO: Analyzing base_library.zip ...\n",
      "8563 INFO: Loading module hook 'hook-encodings.py' from 'c:\\\\Users\\\\kburc\\\\miniforge3\\\\envs\\\\typing_env\\\\Lib\\\\site-packages\\\\PyInstaller\\\\hooks'...\n",
      "11590 INFO: Loading module hook 'hook-pickle.py' from 'c:\\\\Users\\\\kburc\\\\miniforge3\\\\envs\\\\typing_env\\\\Lib\\\\site-packages\\\\PyInstaller\\\\hooks'...\n",
      "12986 INFO: Loading module hook 'hook-heapq.py' from 'c:\\\\Users\\\\kburc\\\\miniforge3\\\\envs\\\\typing_env\\\\Lib\\\\site-packages\\\\PyInstaller\\\\hooks'...\n",
      "14301 INFO: Caching module dependency graph...\n",
      "14412 INFO: Running Analysis Analysis-00.toc\n",
      "14413 INFO: Looking for Python shared library...\n",
      "14427 INFO: Using Python shared library: c:\\Users\\kburc\\miniforge3\\envs\\typing_env\\python312.dll\n",
      "14428 INFO: Analyzing c:\\Users\\kburc\\D1V1\\Documents\\!Dell64docs\\Programming\\py\\kjb3_programs\\Type_The_Bible\\Type_The_Bible_v13.py\n",
      "14499 INFO: Loading module hook 'hook-pandas.py' from 'c:\\\\Users\\\\kburc\\\\miniforge3\\\\envs\\\\typing_env\\\\Lib\\\\site-packages\\\\PyInstaller\\\\hooks'...\n",
      "17802 INFO: Loading module hook 'hook-platform.py' from 'c:\\\\Users\\\\kburc\\\\miniforge3\\\\envs\\\\typing_env\\\\Lib\\\\site-packages\\\\PyInstaller\\\\hooks'...\n",
      "17840 INFO: Loading module hook 'hook-sysconfig.py' from 'c:\\\\Users\\\\kburc\\\\miniforge3\\\\envs\\\\typing_env\\\\Lib\\\\site-packages\\\\PyInstaller\\\\hooks'...\n",
      "17883 INFO: Loading module hook 'hook-numpy.py' from 'C:\\\\Users\\\\kburc\\\\miniforge3\\\\envs\\\\typing_env\\\\Lib\\\\site-packages\\\\numpy\\\\_pyinstaller'...\n",
      "19012 INFO: Loading module hook 'hook-difflib.py' from 'c:\\\\Users\\\\kburc\\\\miniforge3\\\\envs\\\\typing_env\\\\Lib\\\\site-packages\\\\PyInstaller\\\\hooks'...\n",
      "19330 INFO: Loading module hook 'hook-multiprocessing.util.py' from 'c:\\\\Users\\\\kburc\\\\miniforge3\\\\envs\\\\typing_env\\\\Lib\\\\site-packages\\\\PyInstaller\\\\hooks'...\n",
      "19593 INFO: Loading module hook 'hook-xml.py' from 'c:\\\\Users\\\\kburc\\\\miniforge3\\\\envs\\\\typing_env\\\\Lib\\\\site-packages\\\\PyInstaller\\\\hooks'...\n",
      "21275 INFO: Loading module hook 'hook-psutil.py' from 'c:\\\\Users\\\\kburc\\\\miniforge3\\\\envs\\\\typing_env\\\\Lib\\\\site-packages\\\\_pyinstaller_hooks_contrib\\\\hooks\\\\stdhooks'...\n",
      "23123 INFO: Loading module hook 'hook-pytz.py' from 'c:\\\\Users\\\\kburc\\\\miniforge3\\\\envs\\\\typing_env\\\\Lib\\\\site-packages\\\\PyInstaller\\\\hooks'...\n",
      "23746 INFO: Loading module hook 'hook-pkg_resources.py' from 'c:\\\\Users\\\\kburc\\\\miniforge3\\\\envs\\\\typing_env\\\\Lib\\\\site-packages\\\\PyInstaller\\\\hooks'...\n",
      "27739 INFO: Loading module hook 'hook-pandas.io.formats.style.py' from 'c:\\\\Users\\\\kburc\\\\miniforge3\\\\envs\\\\typing_env\\\\Lib\\\\site-packages\\\\PyInstaller\\\\hooks'...\n",
      "29485 INFO: Loading module hook 'hook-scipy.py' from 'c:\\\\Users\\\\kburc\\\\miniforge3\\\\envs\\\\typing_env\\\\Lib\\\\site-packages\\\\PyInstaller\\\\hooks'...\n",
      "29869 INFO: Loading module hook 'hook-scipy.linalg.py' from 'c:\\\\Users\\\\kburc\\\\miniforge3\\\\envs\\\\typing_env\\\\Lib\\\\site-packages\\\\PyInstaller\\\\hooks'...\n",
      "30239 INFO: Loading module hook 'hook-scipy.sparse.csgraph.py' from 'c:\\\\Users\\\\kburc\\\\miniforge3\\\\envs\\\\typing_env\\\\Lib\\\\site-packages\\\\PyInstaller\\\\hooks'...\n",
      "33118 INFO: Loading module hook 'hook-scipy.spatial.transform.rotation.py' from 'c:\\\\Users\\\\kburc\\\\miniforge3\\\\envs\\\\typing_env\\\\Lib\\\\site-packages\\\\PyInstaller\\\\hooks'...\n",
      "36106 INFO: Loading module hook 'hook-IPython.py' from 'c:\\\\Users\\\\kburc\\\\miniforge3\\\\envs\\\\typing_env\\\\Lib\\\\site-packages\\\\_pyinstaller_hooks_contrib\\\\hooks\\\\stdhooks'...\n",
      "39257 INFO: Loading module hook 'hook-xml.dom.domreg.py' from 'c:\\\\Users\\\\kburc\\\\miniforge3\\\\envs\\\\typing_env\\\\Lib\\\\site-packages\\\\PyInstaller\\\\hooks'...\n",
      "39602 INFO: Loading module hook 'hook-pygments.py' from 'c:\\\\Users\\\\kburc\\\\miniforge3\\\\envs\\\\typing_env\\\\Lib\\\\site-packages\\\\PyInstaller\\\\hooks'...\n",
      "43104 INFO: Loading module hook 'hook-importlib_metadata.py' from 'c:\\\\Users\\\\kburc\\\\miniforge3\\\\envs\\\\typing_env\\\\Lib\\\\site-packages\\\\PyInstaller\\\\hooks'...\n",
      "43752 INFO: Processing pre-safe import module hook six.moves from 'c:\\\\Users\\\\kburc\\\\miniforge3\\\\envs\\\\typing_env\\\\Lib\\\\site-packages\\\\PyInstaller\\\\hooks\\\\pre_safe_import_module\\\\hook-six.moves.py'.\n",
      "44523 INFO: Loading module hook 'hook-wcwidth.py' from 'c:\\\\Users\\\\kburc\\\\miniforge3\\\\envs\\\\typing_env\\\\Lib\\\\site-packages\\\\PyInstaller\\\\hooks'...\n",
      "46446 INFO: Loading module hook 'hook-jedi.py' from 'c:\\\\Users\\\\kburc\\\\miniforge3\\\\envs\\\\typing_env\\\\Lib\\\\site-packages\\\\_pyinstaller_hooks_contrib\\\\hooks\\\\stdhooks'...\n",
      "49283 INFO: Loading module hook 'hook-parso.py' from 'c:\\\\Users\\\\kburc\\\\miniforge3\\\\envs\\\\typing_env\\\\Lib\\\\site-packages\\\\_pyinstaller_hooks_contrib\\\\hooks\\\\stdhooks'...\n",
      "51270 INFO: Loading module hook 'hook-sqlite3.py' from 'c:\\\\Users\\\\kburc\\\\miniforge3\\\\envs\\\\typing_env\\\\Lib\\\\site-packages\\\\PyInstaller\\\\hooks'...\n",
      "52598 INFO: Loading module hook 'hook-nbformat.py' from 'c:\\\\Users\\\\kburc\\\\miniforge3\\\\envs\\\\typing_env\\\\Lib\\\\site-packages\\\\_pyinstaller_hooks_contrib\\\\hooks\\\\stdhooks'...\n",
      "53002 INFO: Loading module hook 'hook-jsonschema.py' from 'c:\\\\Users\\\\kburc\\\\miniforge3\\\\envs\\\\typing_env\\\\Lib\\\\site-packages\\\\_pyinstaller_hooks_contrib\\\\hooks\\\\stdhooks'...\n",
      "53459 INFO: Loading module hook 'hook-jsonschema_specifications.py' from 'c:\\\\Users\\\\kburc\\\\miniforge3\\\\envs\\\\typing_env\\\\Lib\\\\site-packages\\\\_pyinstaller_hooks_contrib\\\\hooks\\\\stdhooks'...\n",
      "53525 INFO: Loading module hook 'hook-importlib_resources.py' from 'c:\\\\Users\\\\kburc\\\\miniforge3\\\\envs\\\\typing_env\\\\Lib\\\\site-packages\\\\PyInstaller\\\\hooks'...\n",
      "54452 INFO: Loading module hook 'hook-zmq.py' from 'c:\\\\Users\\\\kburc\\\\miniforge3\\\\envs\\\\typing_env\\\\Lib\\\\site-packages\\\\_pyinstaller_hooks_contrib\\\\hooks\\\\stdhooks'...\n",
      "56998 INFO: Loading module hook 'hook-platformdirs.py' from 'c:\\\\Users\\\\kburc\\\\miniforge3\\\\envs\\\\typing_env\\\\Lib\\\\site-packages\\\\_pyinstaller_hooks_contrib\\\\hooks\\\\stdhooks'...\n",
      "57789 INFO: Loading module hook 'hook-packaging.py' from 'c:\\\\Users\\\\kburc\\\\miniforge3\\\\envs\\\\typing_env\\\\Lib\\\\site-packages\\\\PyInstaller\\\\hooks'...\n",
      "57974 INFO: Processing pre-safe import module hook gi from 'c:\\\\Users\\\\kburc\\\\miniforge3\\\\envs\\\\typing_env\\\\Lib\\\\site-packages\\\\PyInstaller\\\\hooks\\\\pre_safe_import_module\\\\hook-gi.py'.\n",
      "59331 INFO: Loading module hook 'hook-pandas.plotting.py' from 'c:\\\\Users\\\\kburc\\\\miniforge3\\\\envs\\\\typing_env\\\\Lib\\\\site-packages\\\\PyInstaller\\\\hooks'...\n",
      "61496 INFO: Loading module hook 'hook-xml.etree.cElementTree.py' from 'c:\\\\Users\\\\kburc\\\\miniforge3\\\\envs\\\\typing_env\\\\Lib\\\\site-packages\\\\PyInstaller\\\\hooks'...\n",
      "62143 INFO: Loading module hook 'hook-plotly.py' from 'c:\\\\Users\\\\kburc\\\\miniforge3\\\\envs\\\\typing_env\\\\Lib\\\\site-packages\\\\_pyinstaller_hooks_contrib\\\\hooks\\\\stdhooks'...\n",
      "89236 INFO: Loading module hook 'hook-kaleido.py' from 'c:\\\\Users\\\\kburc\\\\miniforge3\\\\envs\\\\typing_env\\\\Lib\\\\site-packages\\\\_pyinstaller_hooks_contrib\\\\hooks\\\\stdhooks'...\n",
      "90060 INFO: Loading module hook 'hook-patsy.py' from 'c:\\\\Users\\\\kburc\\\\miniforge3\\\\envs\\\\typing_env\\\\Lib\\\\site-packages\\\\_pyinstaller_hooks_contrib\\\\hooks\\\\stdhooks'...\n",
      "92037 INFO: Loading module hook 'hook-statsmodels.tsa.statespace.py' from 'c:\\\\Users\\\\kburc\\\\miniforge3\\\\envs\\\\typing_env\\\\Lib\\\\site-packages\\\\_pyinstaller_hooks_contrib\\\\hooks\\\\stdhooks'...\n",
      "106233 INFO: Loading module hook 'hook-jinxed.py' from 'c:\\\\Users\\\\kburc\\\\miniforge3\\\\envs\\\\typing_env\\\\Lib\\\\site-packages\\\\_pyinstaller_hooks_contrib\\\\hooks\\\\stdhooks'...\n",
      "106578 INFO: Processing module hooks...\n",
      "167332 WARNING: Hidden import \"importlib_resources.trees\" not found!\n",
      "172302 INFO: Loading module hook 'hook-scipy.special._ellip_harm_2.py' from 'c:\\\\Users\\\\kburc\\\\miniforge3\\\\envs\\\\typing_env\\\\Lib\\\\site-packages\\\\PyInstaller\\\\hooks'...\n",
      "172304 INFO: Loading module hook 'hook-scipy.special._ufuncs.py' from 'c:\\\\Users\\\\kburc\\\\miniforge3\\\\envs\\\\typing_env\\\\Lib\\\\site-packages\\\\PyInstaller\\\\hooks'...\n",
      "172305 INFO: Loading module hook 'hook-scipy.stats._stats.py' from 'c:\\\\Users\\\\kburc\\\\miniforge3\\\\envs\\\\typing_env\\\\Lib\\\\site-packages\\\\PyInstaller\\\\hooks'...\n",
      "172338 INFO: Loading module hook 'hook-_tkinter.py' from 'c:\\\\Users\\\\kburc\\\\miniforge3\\\\envs\\\\typing_env\\\\Lib\\\\site-packages\\\\PyInstaller\\\\hooks'...\n",
      "172342 INFO: checking Tree\n",
      "172542 INFO: checking Tree\n",
      "172578 INFO: checking Tree\n",
      "172697 INFO: Performing binary vs. data reclassification (3532 entries)\n",
      "187064 INFO: Looking for ctypes DLLs\n",
      "187228 INFO: Analyzing run-time hooks ...\n",
      "187274 INFO: Including run-time hook 'c:\\\\Users\\\\kburc\\\\miniforge3\\\\envs\\\\typing_env\\\\Lib\\\\site-packages\\\\PyInstaller\\\\hooks\\\\rthooks\\\\pyi_rth_inspect.py'\n",
      "187283 INFO: Including run-time hook 'c:\\\\Users\\\\kburc\\\\miniforge3\\\\envs\\\\typing_env\\\\Lib\\\\site-packages\\\\PyInstaller\\\\hooks\\\\rthooks\\\\pyi_rth_pkgutil.py'\n",
      "187294 INFO: Processing pre-find module path hook _pyi_rth_utils from 'c:\\\\Users\\\\kburc\\\\miniforge3\\\\envs\\\\typing_env\\\\Lib\\\\site-packages\\\\PyInstaller\\\\hooks\\\\pre_find_module_path\\\\hook-_pyi_rth_utils.py'.\n",
      "187301 INFO: Loading module hook 'hook-_pyi_rth_utils.py' from 'c:\\\\Users\\\\kburc\\\\miniforge3\\\\envs\\\\typing_env\\\\Lib\\\\site-packages\\\\PyInstaller\\\\hooks'...\n",
      "187303 INFO: Including run-time hook 'c:\\\\Users\\\\kburc\\\\miniforge3\\\\envs\\\\typing_env\\\\Lib\\\\site-packages\\\\PyInstaller\\\\hooks\\\\rthooks\\\\pyi_rth_multiprocessing.py'\n",
      "187314 INFO: Including run-time hook 'c:\\\\Users\\\\kburc\\\\miniforge3\\\\envs\\\\typing_env\\\\Lib\\\\site-packages\\\\_pyinstaller_hooks_contrib\\\\hooks\\\\rthooks\\\\pyi_rth_traitlets.py'\n",
      "187320 INFO: Including run-time hook 'c:\\\\Users\\\\kburc\\\\miniforge3\\\\envs\\\\typing_env\\\\Lib\\\\site-packages\\\\PyInstaller\\\\hooks\\\\rthooks\\\\pyi_rth_pkgres.py'\n",
      "187331 INFO: Including run-time hook 'c:\\\\Users\\\\kburc\\\\miniforge3\\\\envs\\\\typing_env\\\\Lib\\\\site-packages\\\\PyInstaller\\\\hooks\\\\rthooks\\\\pyi_rth__tkinter.py'\n",
      "187575 INFO: Looking for dynamic libraries\n",
      "194517 INFO: Extra DLL search directories (AddDllDirectory): []\n",
      "194518 INFO: Extra DLL search directories (PATH): []\n",
      "199269 WARNING: Library not found: could not resolve 'sycl6.dll', dependency of 'c:\\\\Users\\\\kburc\\\\miniforge3\\\\envs\\\\typing_env\\\\Library\\\\bin\\\\omptarget.sycl.wrap.dll'.\n",
      "199270 WARNING: Library not found: could not resolve 'msmpi.dll', dependency of 'c:\\\\Users\\\\kburc\\\\miniforge3\\\\envs\\\\typing_env\\\\Library\\\\bin\\\\mkl_blacs_msmpi_ilp64.2.dll'.\n",
      "199271 WARNING: Library not found: could not resolve 'pgf90.dll', dependency of 'c:\\\\Users\\\\kburc\\\\miniforge3\\\\envs\\\\typing_env\\\\Library\\\\bin\\\\mkl_pgi_thread.2.dll'.\n",
      "199272 WARNING: Library not found: could not resolve 'pgc.dll', dependency of 'c:\\\\Users\\\\kburc\\\\miniforge3\\\\envs\\\\typing_env\\\\Library\\\\bin\\\\mkl_pgi_thread.2.dll'.\n",
      "199272 WARNING: Library not found: could not resolve 'pgmath.dll', dependency of 'c:\\\\Users\\\\kburc\\\\miniforge3\\\\envs\\\\typing_env\\\\Library\\\\bin\\\\mkl_pgi_thread.2.dll'.\n",
      "199273 WARNING: Library not found: could not resolve 'msmpi.dll', dependency of 'c:\\\\Users\\\\kburc\\\\miniforge3\\\\envs\\\\typing_env\\\\Library\\\\bin\\\\mkl_blacs_msmpi_lp64.2.dll'.\n",
      "199274 WARNING: Library not found: could not resolve 'impi.dll', dependency of 'c:\\\\Users\\\\kburc\\\\miniforge3\\\\envs\\\\typing_env\\\\Library\\\\bin\\\\mkl_blacs_intelmpi_lp64.2.dll'.\n",
      "199275 WARNING: Library not found: could not resolve 'impi.dll', dependency of 'c:\\\\Users\\\\kburc\\\\miniforge3\\\\envs\\\\typing_env\\\\Library\\\\bin\\\\mkl_blacs_intelmpi_ilp64.2.dll'.\n",
      "199276 WARNING: Library not found: could not resolve 'api-ms-win-core-winrt-error-l1-1-0.dll', dependency of 'c:\\\\Users\\\\kburc\\\\miniforge3\\\\envs\\\\typing_env\\\\Library\\\\bin\\\\vccorlib140.dll'.\n",
      "199277 WARNING: Library not found: could not resolve 'api-ms-win-core-winrt-string-l1-1-0.dll', dependency of 'c:\\\\Users\\\\kburc\\\\miniforge3\\\\envs\\\\typing_env\\\\Library\\\\bin\\\\vccorlib140.dll'.\n",
      "199278 WARNING: Library not found: could not resolve 'api-ms-win-core-winrt-l1-1-0.dll', dependency of 'c:\\\\Users\\\\kburc\\\\miniforge3\\\\envs\\\\typing_env\\\\Library\\\\bin\\\\vccorlib140.dll'.\n",
      "199279 WARNING: Library not found: could not resolve 'api-ms-win-core-path-l1-1-0.dll', dependency of 'c:\\\\Users\\\\kburc\\\\miniforge3\\\\envs\\\\typing_env\\\\python312.dll'.\n",
      "199669 INFO: Warnings written to c:\\Users\\kburc\\D1V1\\Documents\\!Dell64docs\\Programming\\py\\kjb3_programs\\Type_The_Bible_Windows\\build\\Type_The_Bible_v13\\warn-Type_The_Bible_v13.txt\n",
      "200786 INFO: Graph cross-reference written to c:\\Users\\kburc\\D1V1\\Documents\\!Dell64docs\\Programming\\py\\kjb3_programs\\Type_The_Bible_Windows\\build\\Type_The_Bible_v13\\xref-Type_The_Bible_v13.html\n",
      "201299 INFO: checking PYZ\n",
      "201515 INFO: Building because name changed\n",
      "201515 INFO: Building PYZ (ZlibArchive) c:\\Users\\kburc\\D1V1\\Documents\\!Dell64docs\\Programming\\py\\kjb3_programs\\Type_The_Bible_Windows\\build\\Type_The_Bible_v13\\PYZ-00.pyz\n",
      "206644 INFO: Building PYZ (ZlibArchive) c:\\Users\\kburc\\D1V1\\Documents\\!Dell64docs\\Programming\\py\\kjb3_programs\\Type_The_Bible_Windows\\build\\Type_The_Bible_v13\\PYZ-00.pyz completed successfully.\n",
      "206935 INFO: checking PKG\n",
      "206942 INFO: Building because name changed\n",
      "206943 INFO: Building PKG (CArchive) Type_The_Bible_v13.pkg\n",
      "207032 INFO: Building PKG (CArchive) Type_The_Bible_v13.pkg completed successfully.\n",
      "207034 INFO: Bootloader c:\\Users\\kburc\\miniforge3\\envs\\typing_env\\Lib\\site-packages\\PyInstaller\\bootloader\\Windows-64bit-intel\\run.exe\n",
      "207035 INFO: checking EXE\n",
      "207043 INFO: Building because name changed\n",
      "207043 INFO: Building EXE from EXE-00.toc\n",
      "207045 INFO: Copying bootloader EXE to c:\\Users\\kburc\\D1V1\\Documents\\!Dell64docs\\Programming\\py\\kjb3_programs\\Type_The_Bible_Windows\\build\\Type_The_Bible_v13\\Type_The_Bible_v13.exe\n",
      "207166 INFO: Copying icon to EXE\n",
      "207238 INFO: Copying 0 resources to EXE\n",
      "207239 INFO: Embedding manifest in EXE\n",
      "207310 INFO: Appending PKG archive to EXE\n",
      "207346 INFO: Fixing EXE headers\n",
      "209245 INFO: Building EXE from EXE-00.toc completed successfully.\n",
      "209282 INFO: checking COLLECT\n",
      "209363 INFO: Removing dir c:\\Users\\kburc\\D1V1\\Documents\\!Dell64docs\\Programming\\py\\kjb3_programs\\Type_The_Bible_Windows\\dist\\Type_The_Bible_v13\n",
      "210840 INFO: Building COLLECT COLLECT-00.toc\n",
      "219223 INFO: Building COLLECT COLLECT-00.toc completed successfully.\n"
     ]
    }
   ],
   "source": [
    "PyInstaller.__main__.run([\n",
    "    f'{current_dir}\\\\Type_The_Bible\\\\Type_The_Bible_v13.py',\n",
    "    f\"--distpath={current_dir}\\\\Type_The_Bible_Windows\\\\dist\",\n",
    "    f\"--workpath={current_dir}\\\\Type_The_Bible_Windows\\\\build\",\n",
    "    '--noconfirm'])\n",
    "# distpath and workpath set the locations of the dist and build directories,\n",
    "# respectively. \n",
    "# --noconfirm allows the original folder to get overwritten.\n",
    "# See https://pyinstaller.org/en/stable/usage.html for more details.\n",
    "\n",
    "# The following notes relate to my attempt to get kaleido to run \n",
    "# correctly on the executable version of Type Through The Bible.\n",
    "# Ultimately, I wasn't able to successfully call kaleido even after\n",
    "# trying out the steps shown below, so I instead revised the program\n",
    "# so that it wouldn't attempt to use kaleido. These notes may be\n",
    "# helpful for future reference, however.\n",
    "\n",
    "# \"--add-data=C:\\\\Users\\\\kburc\\\\miniforge3\\\\envs\\\\typing_env\\\\Lib\\\\site-packages\\\\kaleido:kaleido\",\n",
    "\n",
    "# Kaleido won't get picked up automatically by Pyinstaller,\n",
    "# so I added in an add-data command to include it. This command\n",
    "# was based on drdelon's response at\n",
    "# https://github.com/plotly/Kaleido/issues/39#issuecomment-694363996\n",
    "# and on https://pyinstaller.org/en/stable/usage.html .\n",
    "\n",
    "# I also needed to add the Kaleido executable file (kaleido.exe) to the 'executable\\kaleido'\n",
    "# folder within my Kaleido package file path (C:\\\\Users\\\\kburc\\\\miniforge3\\\\envs\\\\typing_env\\\\Lib\\\\site-packages\\\\kaleido\\\\executable\\\\kaleido in my case).\n",
    "# I located this executable file at \n",
    "# C:\\Users\\kburc\\miniforge3\\envs\\typing_env\\Library\\bin\\KaleidoApp\\bin ,\n",
    "# so I copied and pasted it from there into my site packages folder.\n",
    "# Once I completed this operation, pyinstaller successfully included\n",
    "# it in its 'internal' folder.\n",
    "\n",
    "# sigSquared2's response at \n",
    "# https://github.com/plotly/Kaleido/issues/153#issuecomment-1519268568\n",
    "# was very helpful in resolving this missing executable issue."
   ]
  },
  {
   "cell_type": "markdown",
   "metadata": {},
   "source": [
    "Moving a copy of WEB_Catholic_Version_for_game.csv over to the Pyinstaller version of Type Through The Bible, then renaming it so that it will be compatible with the game's code:"
   ]
  },
  {
   "cell_type": "code",
   "execution_count": 5,
   "metadata": {},
   "outputs": [
    {
     "data": {
      "text/plain": [
       "'c:\\\\Users\\\\kburc\\\\D1V1\\\\Documents\\\\!Dell64docs\\\\Programming\\\\py\\\\kjb3_programs/Type_The_Bible_Windows/dist/Type_The_Bible_v13/WEB_Catholic_Version_for_game_updated.csv'"
      ]
     },
     "execution_count": 5,
     "metadata": {},
     "output_type": "execute_result"
    }
   ],
   "source": [
    "shutil.copy(f'{current_dir}/Type_The_Bible/WEB_Catholic_Version_for_game.csv', f'{current_dir}/Type_The_Bible_Windows/dist/Type_The_Bible_v13/WEB_Catholic_Version_for_game_updated.csv') "
   ]
  }
 ],
 "metadata": {
  "kernelspec": {
   "display_name": "typing_env",
   "language": "python",
   "name": "python3"
  },
  "language_info": {
   "codemirror_mode": {
    "name": "ipython",
    "version": 3
   },
   "file_extension": ".py",
   "mimetype": "text/x-python",
   "name": "python",
   "nbconvert_exporter": "python",
   "pygments_lexer": "ipython3",
   "version": "3.12.0"
  }
 },
 "nbformat": 4,
 "nbformat_minor": 2
}
