{
 "cells": [
  {
   "cell_type": "markdown",
   "metadata": {},
   "source": [
    "# Update Executable:\n",
    "\n",
    "A script that speeds up the process of updating executable versions of Type Through The Bible"
   ]
  },
  {
   "cell_type": "code",
   "execution_count": 1,
   "metadata": {},
   "outputs": [],
   "source": [
    "import shutil\n",
    "import os\n",
    "import PyInstaller.__main__ # see https://pyinstaller.org/en/stable/usage.html"
   ]
  },
  {
   "cell_type": "markdown",
   "metadata": {},
   "source": [
    "Verifying that we're in the Type_Through_The_Bible directory:"
   ]
  },
  {
   "cell_type": "code",
   "execution_count": 2,
   "metadata": {},
   "outputs": [
    {
     "data": {
      "text/plain": [
       "'c:\\\\Users\\\\kburc\\\\D1V1\\\\Documents\\\\!Dell64docs\\\\Programming\\\\py\\\\kjb3_programs\\\\Type_The_Bible'"
      ]
     },
     "execution_count": 2,
     "metadata": {},
     "output_type": "execute_result"
    }
   ],
   "source": [
    "os.getcwd()"
   ]
  },
  {
   "cell_type": "code",
   "execution_count": 3,
   "metadata": {},
   "outputs": [],
   "source": [
    "# Moving up a directory:\n",
    "os.chdir(\"..\")"
   ]
  },
  {
   "cell_type": "code",
   "execution_count": 4,
   "metadata": {},
   "outputs": [
    {
     "data": {
      "text/plain": [
       "'c:\\\\Users\\\\kburc\\\\D1V1\\\\Documents\\\\!Dell64docs\\\\Programming\\\\py\\\\kjb3_programs'"
      ]
     },
     "execution_count": 4,
     "metadata": {},
     "output_type": "execute_result"
    }
   ],
   "source": [
    "os.getcwd()"
   ]
  },
  {
   "cell_type": "markdown",
   "metadata": {},
   "source": [
    "The following cell instructs Pyinstaller to create a copy of Type_Through_The_Bible_vx within a separate directory folder. This way, the Pyinstaller output won't get added to the source code folder (which could interfere with GitHub syncs due to the size of the Pyinstaller output)."
   ]
  },
  {
   "cell_type": "code",
   "execution_count": 5,
   "metadata": {},
   "outputs": [
    {
     "name": "stderr",
     "output_type": "stream",
     "text": [
      "4756 INFO: PyInstaller: 6.3.0\n",
      "4757 INFO: Python: 3.12.0 (conda)\n",
      "4757 INFO: Platform: Windows-11-10.0.22631-SP0\n",
      "4758 INFO: wrote c:\\Users\\kburc\\D1V1\\Documents\\!Dell64docs\\Programming\\py\\kjb3_programs\\Type_The_Bible\\Type_The_Bible_v13.spec\n",
      "4773 INFO: Extending PYTHONPATH with paths\n",
      "['C:\\\\Users\\\\kburc\\\\D1V1\\\\Documents\\\\!Dell64docs\\\\Programming\\\\py\\\\kjb3_programs\\\\Type_The_Bible']\n",
      "5298 INFO: checking Analysis\n",
      "5561 INFO: Building because C:\\Users\\kburc\\D1V1\\Documents\\!Dell64docs\\Programming\\py\\kjb3_programs\\Type_The_Bible\\Type_The_Bible_v13.py changed\n",
      "5562 INFO: Initializing module dependency graph...\n",
      "5564 INFO: Caching module graph hooks...\n",
      "5583 INFO: Analyzing base_library.zip ...\n",
      "8921 INFO: Loading module hook 'hook-encodings.py' from 'c:\\\\Users\\\\kburc\\\\miniforge3\\\\envs\\\\typing_env\\\\Lib\\\\site-packages\\\\PyInstaller\\\\hooks'...\n",
      "10302 INFO: Loading module hook 'hook-heapq.py' from 'c:\\\\Users\\\\kburc\\\\miniforge3\\\\envs\\\\typing_env\\\\Lib\\\\site-packages\\\\PyInstaller\\\\hooks'...\n",
      "11136 INFO: Loading module hook 'hook-pickle.py' from 'c:\\\\Users\\\\kburc\\\\miniforge3\\\\envs\\\\typing_env\\\\Lib\\\\site-packages\\\\PyInstaller\\\\hooks'...\n",
      "12282 INFO: Caching module dependency graph...\n",
      "12394 INFO: Running Analysis Analysis-00.toc\n",
      "12395 INFO: Looking for Python shared library...\n",
      "12403 INFO: Using Python shared library: c:\\Users\\kburc\\miniforge3\\envs\\typing_env\\python312.dll\n",
      "12403 INFO: Analyzing C:\\Users\\kburc\\D1V1\\Documents\\!Dell64docs\\Programming\\py\\kjb3_programs\\Type_The_Bible\\Type_The_Bible_v13.py\n",
      "12488 INFO: Loading module hook 'hook-pandas.py' from 'c:\\\\Users\\\\kburc\\\\miniforge3\\\\envs\\\\typing_env\\\\Lib\\\\site-packages\\\\PyInstaller\\\\hooks'...\n",
      "14817 INFO: Loading module hook 'hook-platform.py' from 'c:\\\\Users\\\\kburc\\\\miniforge3\\\\envs\\\\typing_env\\\\Lib\\\\site-packages\\\\PyInstaller\\\\hooks'...\n",
      "14843 INFO: Loading module hook 'hook-sysconfig.py' from 'c:\\\\Users\\\\kburc\\\\miniforge3\\\\envs\\\\typing_env\\\\Lib\\\\site-packages\\\\PyInstaller\\\\hooks'...\n",
      "14860 INFO: Loading module hook 'hook-numpy.py' from 'C:\\\\Users\\\\kburc\\\\miniforge3\\\\envs\\\\typing_env\\\\Lib\\\\site-packages\\\\numpy\\\\_pyinstaller'...\n",
      "15486 INFO: Loading module hook 'hook-difflib.py' from 'c:\\\\Users\\\\kburc\\\\miniforge3\\\\envs\\\\typing_env\\\\Lib\\\\site-packages\\\\PyInstaller\\\\hooks'...\n",
      "15666 INFO: Loading module hook 'hook-multiprocessing.util.py' from 'c:\\\\Users\\\\kburc\\\\miniforge3\\\\envs\\\\typing_env\\\\Lib\\\\site-packages\\\\PyInstaller\\\\hooks'...\n",
      "15869 INFO: Loading module hook 'hook-xml.py' from 'c:\\\\Users\\\\kburc\\\\miniforge3\\\\envs\\\\typing_env\\\\Lib\\\\site-packages\\\\PyInstaller\\\\hooks'...\n",
      "16921 INFO: Loading module hook 'hook-psutil.py' from 'c:\\\\Users\\\\kburc\\\\miniforge3\\\\envs\\\\typing_env\\\\Lib\\\\site-packages\\\\_pyinstaller_hooks_contrib\\\\hooks\\\\stdhooks'...\n",
      "18085 INFO: Loading module hook 'hook-pytz.py' from 'c:\\\\Users\\\\kburc\\\\miniforge3\\\\envs\\\\typing_env\\\\Lib\\\\site-packages\\\\PyInstaller\\\\hooks'...\n",
      "18511 INFO: Loading module hook 'hook-pkg_resources.py' from 'c:\\\\Users\\\\kburc\\\\miniforge3\\\\envs\\\\typing_env\\\\Lib\\\\site-packages\\\\PyInstaller\\\\hooks'...\n",
      "21830 INFO: Loading module hook 'hook-pandas.io.formats.style.py' from 'c:\\\\Users\\\\kburc\\\\miniforge3\\\\envs\\\\typing_env\\\\Lib\\\\site-packages\\\\PyInstaller\\\\hooks'...\n",
      "23373 INFO: Loading module hook 'hook-scipy.py' from 'c:\\\\Users\\\\kburc\\\\miniforge3\\\\envs\\\\typing_env\\\\Lib\\\\site-packages\\\\PyInstaller\\\\hooks'...\n",
      "23673 INFO: Loading module hook 'hook-scipy.linalg.py' from 'c:\\\\Users\\\\kburc\\\\miniforge3\\\\envs\\\\typing_env\\\\Lib\\\\site-packages\\\\PyInstaller\\\\hooks'...\n",
      "23964 INFO: Loading module hook 'hook-scipy.sparse.csgraph.py' from 'c:\\\\Users\\\\kburc\\\\miniforge3\\\\envs\\\\typing_env\\\\Lib\\\\site-packages\\\\PyInstaller\\\\hooks'...\n",
      "25702 INFO: Loading module hook 'hook-scipy.spatial.transform.rotation.py' from 'c:\\\\Users\\\\kburc\\\\miniforge3\\\\envs\\\\typing_env\\\\Lib\\\\site-packages\\\\PyInstaller\\\\hooks'...\n",
      "27820 INFO: Loading module hook 'hook-IPython.py' from 'c:\\\\Users\\\\kburc\\\\miniforge3\\\\envs\\\\typing_env\\\\Lib\\\\site-packages\\\\_pyinstaller_hooks_contrib\\\\hooks\\\\stdhooks'...\n",
      "30455 INFO: Loading module hook 'hook-xml.dom.domreg.py' from 'c:\\\\Users\\\\kburc\\\\miniforge3\\\\envs\\\\typing_env\\\\Lib\\\\site-packages\\\\PyInstaller\\\\hooks'...\n",
      "30665 INFO: Loading module hook 'hook-pygments.py' from 'c:\\\\Users\\\\kburc\\\\miniforge3\\\\envs\\\\typing_env\\\\Lib\\\\site-packages\\\\PyInstaller\\\\hooks'...\n",
      "33969 INFO: Loading module hook 'hook-importlib_metadata.py' from 'c:\\\\Users\\\\kburc\\\\miniforge3\\\\envs\\\\typing_env\\\\Lib\\\\site-packages\\\\PyInstaller\\\\hooks'...\n",
      "34330 INFO: Processing pre-safe import module hook six.moves from 'c:\\\\Users\\\\kburc\\\\miniforge3\\\\envs\\\\typing_env\\\\Lib\\\\site-packages\\\\PyInstaller\\\\hooks\\\\pre_safe_import_module\\\\hook-six.moves.py'.\n",
      "34807 INFO: Loading module hook 'hook-wcwidth.py' from 'c:\\\\Users\\\\kburc\\\\miniforge3\\\\envs\\\\typing_env\\\\Lib\\\\site-packages\\\\PyInstaller\\\\hooks'...\n",
      "35822 INFO: Loading module hook 'hook-jedi.py' from 'c:\\\\Users\\\\kburc\\\\miniforge3\\\\envs\\\\typing_env\\\\Lib\\\\site-packages\\\\_pyinstaller_hooks_contrib\\\\hooks\\\\stdhooks'...\n",
      "38320 INFO: Loading module hook 'hook-parso.py' from 'c:\\\\Users\\\\kburc\\\\miniforge3\\\\envs\\\\typing_env\\\\Lib\\\\site-packages\\\\_pyinstaller_hooks_contrib\\\\hooks\\\\stdhooks'...\n",
      "39370 INFO: Loading module hook 'hook-sqlite3.py' from 'c:\\\\Users\\\\kburc\\\\miniforge3\\\\envs\\\\typing_env\\\\Lib\\\\site-packages\\\\PyInstaller\\\\hooks'...\n",
      "40425 INFO: Loading module hook 'hook-nbformat.py' from 'c:\\\\Users\\\\kburc\\\\miniforge3\\\\envs\\\\typing_env\\\\Lib\\\\site-packages\\\\_pyinstaller_hooks_contrib\\\\hooks\\\\stdhooks'...\n",
      "40619 INFO: Loading module hook 'hook-jsonschema.py' from 'c:\\\\Users\\\\kburc\\\\miniforge3\\\\envs\\\\typing_env\\\\Lib\\\\site-packages\\\\_pyinstaller_hooks_contrib\\\\hooks\\\\stdhooks'...\n",
      "40860 INFO: Loading module hook 'hook-jsonschema_specifications.py' from 'c:\\\\Users\\\\kburc\\\\miniforge3\\\\envs\\\\typing_env\\\\Lib\\\\site-packages\\\\_pyinstaller_hooks_contrib\\\\hooks\\\\stdhooks'...\n",
      "40907 INFO: Loading module hook 'hook-importlib_resources.py' from 'c:\\\\Users\\\\kburc\\\\miniforge3\\\\envs\\\\typing_env\\\\Lib\\\\site-packages\\\\PyInstaller\\\\hooks'...\n",
      "41495 INFO: Loading module hook 'hook-zmq.py' from 'c:\\\\Users\\\\kburc\\\\miniforge3\\\\envs\\\\typing_env\\\\Lib\\\\site-packages\\\\_pyinstaller_hooks_contrib\\\\hooks\\\\stdhooks'...\n",
      "43217 INFO: Loading module hook 'hook-platformdirs.py' from 'c:\\\\Users\\\\kburc\\\\miniforge3\\\\envs\\\\typing_env\\\\Lib\\\\site-packages\\\\_pyinstaller_hooks_contrib\\\\hooks\\\\stdhooks'...\n",
      "43586 INFO: Loading module hook 'hook-packaging.py' from 'c:\\\\Users\\\\kburc\\\\miniforge3\\\\envs\\\\typing_env\\\\Lib\\\\site-packages\\\\PyInstaller\\\\hooks'...\n",
      "43719 INFO: Processing pre-safe import module hook gi from 'c:\\\\Users\\\\kburc\\\\miniforge3\\\\envs\\\\typing_env\\\\Lib\\\\site-packages\\\\PyInstaller\\\\hooks\\\\pre_safe_import_module\\\\hook-gi.py'.\n",
      "44451 INFO: Loading module hook 'hook-pandas.plotting.py' from 'c:\\\\Users\\\\kburc\\\\miniforge3\\\\envs\\\\typing_env\\\\Lib\\\\site-packages\\\\PyInstaller\\\\hooks'...\n",
      "46082 INFO: Loading module hook 'hook-xml.etree.cElementTree.py' from 'c:\\\\Users\\\\kburc\\\\miniforge3\\\\envs\\\\typing_env\\\\Lib\\\\site-packages\\\\PyInstaller\\\\hooks'...\n",
      "46346 INFO: Loading module hook 'hook-plotly.py' from 'c:\\\\Users\\\\kburc\\\\miniforge3\\\\envs\\\\typing_env\\\\Lib\\\\site-packages\\\\_pyinstaller_hooks_contrib\\\\hooks\\\\stdhooks'...\n",
      "62487 INFO: Loading module hook 'hook-kaleido.py' from 'c:\\\\Users\\\\kburc\\\\miniforge3\\\\envs\\\\typing_env\\\\Lib\\\\site-packages\\\\_pyinstaller_hooks_contrib\\\\hooks\\\\stdhooks'...\n",
      "62769 INFO: Loading module hook 'hook-patsy.py' from 'c:\\\\Users\\\\kburc\\\\miniforge3\\\\envs\\\\typing_env\\\\Lib\\\\site-packages\\\\_pyinstaller_hooks_contrib\\\\hooks\\\\stdhooks'...\n",
      "64014 INFO: Loading module hook 'hook-statsmodels.tsa.statespace.py' from 'c:\\\\Users\\\\kburc\\\\miniforge3\\\\envs\\\\typing_env\\\\Lib\\\\site-packages\\\\_pyinstaller_hooks_contrib\\\\hooks\\\\stdhooks'...\n",
      "73788 INFO: Loading module hook 'hook-jinxed.py' from 'c:\\\\Users\\\\kburc\\\\miniforge3\\\\envs\\\\typing_env\\\\Lib\\\\site-packages\\\\_pyinstaller_hooks_contrib\\\\hooks\\\\stdhooks'...\n",
      "73994 INFO: Processing module hooks...\n",
      "95723 WARNING: Hidden import \"importlib_resources.trees\" not found!\n",
      "98125 INFO: Loading module hook 'hook-scipy.special._ellip_harm_2.py' from 'c:\\\\Users\\\\kburc\\\\miniforge3\\\\envs\\\\typing_env\\\\Lib\\\\site-packages\\\\PyInstaller\\\\hooks'...\n",
      "98127 INFO: Loading module hook 'hook-scipy.special._ufuncs.py' from 'c:\\\\Users\\\\kburc\\\\miniforge3\\\\envs\\\\typing_env\\\\Lib\\\\site-packages\\\\PyInstaller\\\\hooks'...\n",
      "98128 INFO: Loading module hook 'hook-scipy.stats._stats.py' from 'c:\\\\Users\\\\kburc\\\\miniforge3\\\\envs\\\\typing_env\\\\Lib\\\\site-packages\\\\PyInstaller\\\\hooks'...\n",
      "98137 INFO: Loading module hook 'hook-_tkinter.py' from 'c:\\\\Users\\\\kburc\\\\miniforge3\\\\envs\\\\typing_env\\\\Lib\\\\site-packages\\\\PyInstaller\\\\hooks'...\n",
      "98139 INFO: checking Tree\n",
      "98214 INFO: checking Tree\n",
      "98232 INFO: checking Tree\n",
      "98338 INFO: Performing binary vs. data reclassification (3532 entries)\n",
      "99712 INFO: Looking for ctypes DLLs\n",
      "99880 INFO: Analyzing run-time hooks ...\n",
      "99928 INFO: Including run-time hook 'c:\\\\Users\\\\kburc\\\\miniforge3\\\\envs\\\\typing_env\\\\Lib\\\\site-packages\\\\PyInstaller\\\\hooks\\\\rthooks\\\\pyi_rth_inspect.py'\n",
      "99931 INFO: Including run-time hook 'c:\\\\Users\\\\kburc\\\\miniforge3\\\\envs\\\\typing_env\\\\Lib\\\\site-packages\\\\PyInstaller\\\\hooks\\\\rthooks\\\\pyi_rth_pkgutil.py'\n",
      "99935 INFO: Processing pre-find module path hook _pyi_rth_utils from 'c:\\\\Users\\\\kburc\\\\miniforge3\\\\envs\\\\typing_env\\\\Lib\\\\site-packages\\\\PyInstaller\\\\hooks\\\\pre_find_module_path\\\\hook-_pyi_rth_utils.py'.\n",
      "99938 INFO: Loading module hook 'hook-_pyi_rth_utils.py' from 'c:\\\\Users\\\\kburc\\\\miniforge3\\\\envs\\\\typing_env\\\\Lib\\\\site-packages\\\\PyInstaller\\\\hooks'...\n",
      "99940 INFO: Including run-time hook 'c:\\\\Users\\\\kburc\\\\miniforge3\\\\envs\\\\typing_env\\\\Lib\\\\site-packages\\\\PyInstaller\\\\hooks\\\\rthooks\\\\pyi_rth_multiprocessing.py'\n",
      "99944 INFO: Including run-time hook 'c:\\\\Users\\\\kburc\\\\miniforge3\\\\envs\\\\typing_env\\\\Lib\\\\site-packages\\\\_pyinstaller_hooks_contrib\\\\hooks\\\\rthooks\\\\pyi_rth_traitlets.py'\n",
      "99945 INFO: Including run-time hook 'c:\\\\Users\\\\kburc\\\\miniforge3\\\\envs\\\\typing_env\\\\Lib\\\\site-packages\\\\PyInstaller\\\\hooks\\\\rthooks\\\\pyi_rth_pkgres.py'\n",
      "99950 INFO: Including run-time hook 'c:\\\\Users\\\\kburc\\\\miniforge3\\\\envs\\\\typing_env\\\\Lib\\\\site-packages\\\\PyInstaller\\\\hooks\\\\rthooks\\\\pyi_rth__tkinter.py'\n",
      "100203 INFO: Looking for dynamic libraries\n",
      "104562 INFO: Extra DLL search directories (AddDllDirectory): []\n",
      "104563 INFO: Extra DLL search directories (PATH): []\n",
      "108443 WARNING: Library not found: could not resolve 'msmpi.dll', dependency of 'c:\\\\Users\\\\kburc\\\\miniforge3\\\\envs\\\\typing_env\\\\Library\\\\bin\\\\mkl_blacs_msmpi_ilp64.2.dll'.\n",
      "108444 WARNING: Library not found: could not resolve 'pgmath.dll', dependency of 'c:\\\\Users\\\\kburc\\\\miniforge3\\\\envs\\\\typing_env\\\\Library\\\\bin\\\\mkl_pgi_thread.2.dll'.\n",
      "108445 WARNING: Library not found: could not resolve 'pgf90.dll', dependency of 'c:\\\\Users\\\\kburc\\\\miniforge3\\\\envs\\\\typing_env\\\\Library\\\\bin\\\\mkl_pgi_thread.2.dll'.\n",
      "108446 WARNING: Library not found: could not resolve 'pgc.dll', dependency of 'c:\\\\Users\\\\kburc\\\\miniforge3\\\\envs\\\\typing_env\\\\Library\\\\bin\\\\mkl_pgi_thread.2.dll'.\n",
      "108447 WARNING: Library not found: could not resolve 'sycl6.dll', dependency of 'c:\\\\Users\\\\kburc\\\\miniforge3\\\\envs\\\\typing_env\\\\Library\\\\bin\\\\omptarget.sycl.wrap.dll'.\n",
      "108448 WARNING: Library not found: could not resolve 'impi.dll', dependency of 'c:\\\\Users\\\\kburc\\\\miniforge3\\\\envs\\\\typing_env\\\\Library\\\\bin\\\\mkl_blacs_intelmpi_ilp64.2.dll'.\n",
      "108449 WARNING: Library not found: could not resolve 'msmpi.dll', dependency of 'c:\\\\Users\\\\kburc\\\\miniforge3\\\\envs\\\\typing_env\\\\Library\\\\bin\\\\mkl_blacs_msmpi_lp64.2.dll'.\n",
      "108450 WARNING: Library not found: could not resolve 'impi.dll', dependency of 'c:\\\\Users\\\\kburc\\\\miniforge3\\\\envs\\\\typing_env\\\\Library\\\\bin\\\\mkl_blacs_intelmpi_lp64.2.dll'.\n",
      "108451 WARNING: Library not found: could not resolve 'api-ms-win-core-winrt-error-l1-1-0.dll', dependency of 'c:\\\\Users\\\\kburc\\\\miniforge3\\\\envs\\\\typing_env\\\\Library\\\\bin\\\\vccorlib140.dll'.\n",
      "108451 WARNING: Library not found: could not resolve 'api-ms-win-core-winrt-l1-1-0.dll', dependency of 'c:\\\\Users\\\\kburc\\\\miniforge3\\\\envs\\\\typing_env\\\\Library\\\\bin\\\\vccorlib140.dll'.\n",
      "108452 WARNING: Library not found: could not resolve 'api-ms-win-core-winrt-string-l1-1-0.dll', dependency of 'c:\\\\Users\\\\kburc\\\\miniforge3\\\\envs\\\\typing_env\\\\Library\\\\bin\\\\vccorlib140.dll'.\n",
      "108453 WARNING: Library not found: could not resolve 'api-ms-win-core-path-l1-1-0.dll', dependency of 'c:\\\\Users\\\\kburc\\\\miniforge3\\\\envs\\\\typing_env\\\\python312.dll'.\n",
      "108833 INFO: Warnings written to C:\\Users\\kburc\\D1V1\\Documents\\!Dell64docs\\Programming\\py\\kjb3_programs\\Type_The_Bible_Windows\\build\\Type_The_Bible_v13\\warn-Type_The_Bible_v13.txt\n",
      "109775 INFO: Graph cross-reference written to C:\\Users\\kburc\\D1V1\\Documents\\!Dell64docs\\Programming\\py\\kjb3_programs\\Type_The_Bible_Windows\\build\\Type_The_Bible_v13\\xref-Type_The_Bible_v13.html\n",
      "110134 INFO: checking PYZ\n",
      "111495 INFO: checking PKG\n",
      "111504 INFO: Building because C:\\Users\\kburc\\D1V1\\Documents\\!Dell64docs\\Programming\\py\\kjb3_programs\\Type_The_Bible\\Type_The_Bible_v13.py changed\n",
      "111504 INFO: Building PKG (CArchive) Type_The_Bible_v13.pkg\n",
      "111567 INFO: Building PKG (CArchive) Type_The_Bible_v13.pkg completed successfully.\n",
      "111569 INFO: Bootloader c:\\Users\\kburc\\miniforge3\\envs\\typing_env\\Lib\\site-packages\\PyInstaller\\bootloader\\Windows-64bit-intel\\run.exe\n",
      "111570 INFO: checking EXE\n",
      "111578 INFO: Rebuilding EXE-00.toc because pkg is more recent\n",
      "111579 INFO: Building EXE from EXE-00.toc\n",
      "111583 INFO: Copying bootloader EXE to C:\\Users\\kburc\\D1V1\\Documents\\!Dell64docs\\Programming\\py\\kjb3_programs\\Type_The_Bible_Windows\\build\\Type_The_Bible_v13\\Type_The_Bible_v13.exe\n",
      "111654 INFO: Copying icon to EXE\n",
      "111722 INFO: Copying 0 resources to EXE\n",
      "111722 INFO: Embedding manifest in EXE\n",
      "111789 INFO: Appending PKG archive to EXE\n",
      "111812 INFO: Fixing EXE headers\n",
      "112982 INFO: Building EXE from EXE-00.toc completed successfully.\n",
      "113017 INFO: checking COLLECT\n",
      "113075 INFO: Removing dir C:\\Users\\kburc\\D1V1\\Documents\\!Dell64docs\\Programming\\py\\kjb3_programs\\Type_The_Bible_Windows\\dist\\Type_The_Bible_v13\n",
      "114646 INFO: Building COLLECT COLLECT-00.toc\n",
      "122163 INFO: Building COLLECT COLLECT-00.toc completed successfully.\n"
     ]
    }
   ],
   "source": [
    "PyInstaller.__main__.run([\n",
    "    'C:\\\\Users\\\\kburc\\\\D1V1\\\\Documents\\\\!Dell64docs\\\\Programming\\\\py\\\\kjb3_programs\\\\Type_The_Bible\\\\Type_The_Bible_v13.py',\n",
    "    \"--distpath=C:\\\\Users\\\\kburc\\\\D1V1\\\\Documents\\\\!Dell64docs\\\\Programming\\\\py\\\\kjb3_programs\\\\Type_The_Bible_Windows\\\\dist\",\n",
    "    \"--workpath=C:\\\\Users\\\\kburc\\\\D1V1\\\\Documents\\\\!Dell64docs\\\\Programming\\\\py\\\\kjb3_programs\\\\Type_The_Bible_Windows\\\\build\",\n",
    "    '--noconfirm'])\n",
    "# distpath and workpath set the locations of the dist and build directories,\n",
    "# respectively. \n",
    "# --noconfirm allows the original folder to get overwritten.\n",
    "# See https://pyinstaller.org/en/stable/usage.html for more details.\n",
    "\n",
    "# The following notes relate to my attempt to get kaleido to run \n",
    "# correctly on the executable version of Type Through The Bible.\n",
    "# Ultimately, I wasn't able to successfully call kaleido even after\n",
    "# trying out the steps shown below, so I instead revised the program\n",
    "# so that it wouldn't attempt to use kaleido. These notes may be\n",
    "# helpful for future reference, however.\n",
    "\n",
    "# \"--add-data=C:\\\\Users\\\\kburc\\\\miniforge3\\\\envs\\\\typing_env\\\\Lib\\\\site-packages\\\\kaleido:kaleido\",\n",
    "\n",
    "# Kaleido won't get picked up automatically by Pyinstaller,\n",
    "# so I added in an add-data command to include it. This command\n",
    "# was based on drdelon's response at\n",
    "# https://github.com/plotly/Kaleido/issues/39#issuecomment-694363996\n",
    "# and on https://pyinstaller.org/en/stable/usage.html .\n",
    "\n",
    "# I also needed to add the Kaleido executable file (kaleido.exe) to the 'executable\\kaleido'\n",
    "# folder within my Kaleido package file path (C:\\\\Users\\\\kburc\\\\miniforge3\\\\envs\\\\typing_env\\\\Lib\\\\site-packages\\\\kaleido\\\\executable\\\\kaleido in my case).\n",
    "# I located this executable file at \n",
    "# C:\\Users\\kburc\\miniforge3\\envs\\typing_env\\Library\\bin\\KaleidoApp\\bin ,\n",
    "# so I copied and pasted it from there into my site packages folder.\n",
    "# Once I completed this operation, pyinstaller successfully included\n",
    "# it in its 'internal' folder.\n",
    "\n",
    "# sigSquared2's response at \n",
    "# https://github.com/plotly/Kaleido/issues/153#issuecomment-1519268568\n",
    "# was very helpful in resolving this missing executable issue."
   ]
  },
  {
   "cell_type": "markdown",
   "metadata": {},
   "source": [
    "Moving a copy of WEB_Catholic_Version_for_game.csv over to the Pyinstaller version of Type Through The Bible, then renaming it so that it will be compatible with the game's code:"
   ]
  },
  {
   "cell_type": "code",
   "execution_count": 6,
   "metadata": {},
   "outputs": [
    {
     "data": {
      "text/plain": [
       "'C:/Users/kburc/D1V1/Documents/!Dell64docs/Programming/py/kjb3_programs/Type_The_Bible_Windows/dist/Type_The_Bible_v13/WEB_Catholic_Version_for_game_updated.csv'"
      ]
     },
     "execution_count": 6,
     "metadata": {},
     "output_type": "execute_result"
    }
   ],
   "source": [
    "shutil.copy('C:/Users/kburc/D1V1/Documents/!Dell64docs/Programming/py/kjb3_programs/Type_The_Bible/WEB_Catholic_Version_for_game.csv', 'C:/Users/kburc/D1V1/Documents/!Dell64docs/Programming/py/kjb3_programs/Type_The_Bible_Windows/dist/Type_The_Bible_v13/WEB_Catholic_Version_for_game_updated.csv') "
   ]
  }
 ],
 "metadata": {
  "kernelspec": {
   "display_name": "typing_env",
   "language": "python",
   "name": "python3"
  },
  "language_info": {
   "codemirror_mode": {
    "name": "ipython",
    "version": 3
   },
   "file_extension": ".py",
   "mimetype": "text/x-python",
   "name": "python",
   "nbconvert_exporter": "python",
   "pygments_lexer": "ipython3",
   "version": "3.12.0"
  }
 },
 "nbformat": 4,
 "nbformat_minor": 2
}
