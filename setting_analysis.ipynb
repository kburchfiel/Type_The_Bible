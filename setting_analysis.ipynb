{
 "cells": [
  {
   "cell_type": "markdown",
   "metadata": {},
   "source": [
    "# Keyswitch Analytics\n",
    "\n",
    "By Kenneth Burchfiel\n",
    "\n",
    "Released under the MIT license\n",
    "\n",
    "This notebook demonstrates how to compare results for different keyswitch options. This notebook can easily be modified to compare other elements of your setting (such as your location) instead.\n",
    "\n",
    "(More documentation to come!)"
   ]
  },
  {
   "cell_type": "code",
   "execution_count": 1,
   "metadata": {},
   "outputs": [],
   "source": [
    "import pandas as pd\n",
    "import plotly.express as px\n",
    "import statsmodels.api as sm\n",
    "pd.set_option('display.max_columns', 1000)\n",
    "import numpy as np\n",
    "import time\n",
    "start_time = time.time()\n",
    "analytics_folder = 'Keyswitch_Analytics/' # The location\n",
    "# where charts and .csv files created in this script\n",
    "# will be saved."
   ]
  },
  {
   "cell_type": "markdown",
   "metadata": {},
   "source": [
    "# Part 1: Data Retrieval"
   ]
  },
  {
   "cell_type": "code",
   "execution_count": 2,
   "metadata": {},
   "outputs": [
    {
     "data": {
      "text/html": [
       "<div>\n",
       "<style scoped>\n",
       "    .dataframe tbody tr th:only-of-type {\n",
       "        vertical-align: middle;\n",
       "    }\n",
       "\n",
       "    .dataframe tbody tr th {\n",
       "        vertical-align: top;\n",
       "    }\n",
       "\n",
       "    .dataframe thead th {\n",
       "        text-align: right;\n",
       "    }\n",
       "</style>\n",
       "<table border=\"1\" class=\"dataframe\">\n",
       "  <thead>\n",
       "    <tr style=\"text-align: right;\">\n",
       "      <th></th>\n",
       "      <th>Test_Number</th>\n",
       "      <th>Unix_Start_Time</th>\n",
       "      <th>Local_Start_Time</th>\n",
       "      <th>UTC_Start_Time</th>\n",
       "      <th>Characters</th>\n",
       "      <th>Seconds</th>\n",
       "      <th>CPS</th>\n",
       "      <th>WPM</th>\n",
       "      <th>Book</th>\n",
       "      <th>Chapter</th>\n",
       "      <th>Verse_Order</th>\n",
       "      <th>Verse</th>\n",
       "      <th>Verse #</th>\n",
       "      <th>Last 10 Avg</th>\n",
       "      <th>Last 100 Avg</th>\n",
       "      <th>Last 1000 Avg</th>\n",
       "      <th>cumulative_avg</th>\n",
       "      <th>Local_Start_Year</th>\n",
       "      <th>Local_Start_Month</th>\n",
       "      <th>Local_Start_Hour</th>\n",
       "      <th>Count</th>\n",
       "      <th>Local_Start_Date</th>\n",
       "      <th>Local_Start_Minute</th>\n",
       "      <th>Local_Start_10_Minute_Block</th>\n",
       "      <th>Local_Start_15_Minute_Block</th>\n",
       "      <th>Local_Start_30_Minute_Block</th>\n",
       "      <th>Local_End_Time</th>\n",
       "      <th>Local_End_Year</th>\n",
       "      <th>Local_End_Month</th>\n",
       "      <th>Local_End_Date</th>\n",
       "      <th>Local_End_Hour</th>\n",
       "      <th>Local_End_Minute</th>\n",
       "      <th>Local_End_15_Minute_Block</th>\n",
       "      <th>Local_End_10_Minute_Block</th>\n",
       "      <th>Local_End_30_Minute_Block</th>\n",
       "      <th>Mistake_Free_Test</th>\n",
       "      <th>WPM_Rank</th>\n",
       "      <th>WPM_Percentile</th>\n",
       "      <th>Backspaces as % of Verse Length</th>\n",
       "      <th>Incorrect Characters as % of Verse Length</th>\n",
       "      <th>Min Character Time (ms)</th>\n",
       "      <th>Median Character Time (ms)</th>\n",
       "      <th>Max Character Time (ms)</th>\n",
       "      <th>Backspace % Last 10 Avg</th>\n",
       "      <th>Backspace % Last 100 Avg</th>\n",
       "      <th>Backspace % Last 1000 Avg</th>\n",
       "      <th>Session</th>\n",
       "      <th>Test_#_Within_Session</th>\n",
       "      <th>Incorrect Character % Last 10 Avg</th>\n",
       "      <th>Incorrect Character % Last 100 Avg</th>\n",
       "      <th>Incorrect Character % Last 1000 Avg</th>\n",
       "      <th>Test Version</th>\n",
       "      <th>Location</th>\n",
       "      <th>Keyboard</th>\n",
       "      <th>Layout</th>\n",
       "      <th>Caffeine</th>\n",
       "      <th>Custom_1</th>\n",
       "      <th>Custom_2</th>\n",
       "      <th>Custom_3</th>\n",
       "      <th>Autostart</th>\n",
       "      <th>% of Words Typed Correctly</th>\n",
       "      <th>Extra Keystrokes %</th>\n",
       "      <th>Extra Keystrokes % Last 10 Avg</th>\n",
       "      <th>Extra Keystrokes % Last 100 Avg</th>\n",
       "      <th>Extra Keystrokes % Last 1000 Avg</th>\n",
       "    </tr>\n",
       "  </thead>\n",
       "  <tbody>\n",
       "    <tr>\n",
       "      <th>0</th>\n",
       "      <td>1</td>\n",
       "      <td>1.698121e+09</td>\n",
       "      <td>2023-10-24 00:17:38.017017</td>\n",
       "      <td>2023-10-24 04:17:38.017017+00:00</td>\n",
       "      <td>56</td>\n",
       "      <td>6.571754</td>\n",
       "      <td>8.521317</td>\n",
       "      <td>102.255799</td>\n",
       "      <td>GEN</td>\n",
       "      <td>1</td>\n",
       "      <td>1</td>\n",
       "      <td>In the beginning, God created the heavens and ...</td>\n",
       "      <td>NaN</td>\n",
       "      <td>NaN</td>\n",
       "      <td>NaN</td>\n",
       "      <td>NaN</td>\n",
       "      <td>102.256</td>\n",
       "      <td>2023</td>\n",
       "      <td>10</td>\n",
       "      <td>0</td>\n",
       "      <td>1</td>\n",
       "      <td>2023-10-24</td>\n",
       "      <td>17</td>\n",
       "      <td>2</td>\n",
       "      <td>2</td>\n",
       "      <td>1</td>\n",
       "      <td>2023-10-24 00:17:44.588771456</td>\n",
       "      <td>2023</td>\n",
       "      <td>10</td>\n",
       "      <td>2023-10-24</td>\n",
       "      <td>0</td>\n",
       "      <td>17</td>\n",
       "      <td>2</td>\n",
       "      <td>2</td>\n",
       "      <td>1</td>\n",
       "      <td>NaN</td>\n",
       "      <td>9065</td>\n",
       "      <td>7.169193</td>\n",
       "      <td>NaN</td>\n",
       "      <td>NaN</td>\n",
       "      <td>NaN</td>\n",
       "      <td>NaN</td>\n",
       "      <td>NaN</td>\n",
       "      <td>NaN</td>\n",
       "      <td>NaN</td>\n",
       "      <td>NaN</td>\n",
       "      <td>1</td>\n",
       "      <td>1</td>\n",
       "      <td>NaN</td>\n",
       "      <td>NaN</td>\n",
       "      <td>NaN</td>\n",
       "      <td>NaN</td>\n",
       "      <td>NaN</td>\n",
       "      <td>NaN</td>\n",
       "      <td>NaN</td>\n",
       "      <td>NaN</td>\n",
       "      <td>NaN</td>\n",
       "      <td>NaN</td>\n",
       "      <td>NaN</td>\n",
       "      <td>NaN</td>\n",
       "      <td>NaN</td>\n",
       "      <td>NaN</td>\n",
       "      <td>NaN</td>\n",
       "      <td>NaN</td>\n",
       "      <td>NaN</td>\n",
       "    </tr>\n",
       "    <tr>\n",
       "      <th>1</th>\n",
       "      <td>2</td>\n",
       "      <td>1.698121e+09</td>\n",
       "      <td>2023-10-24 00:18:06.165502</td>\n",
       "      <td>2023-10-24 04:18:06.165502+00:00</td>\n",
       "      <td>135</td>\n",
       "      <td>13.997536</td>\n",
       "      <td>9.644554</td>\n",
       "      <td>115.734653</td>\n",
       "      <td>GEN</td>\n",
       "      <td>1</td>\n",
       "      <td>2</td>\n",
       "      <td>The earth was formless and empty. Darkness was...</td>\n",
       "      <td>NaN</td>\n",
       "      <td>NaN</td>\n",
       "      <td>NaN</td>\n",
       "      <td>NaN</td>\n",
       "      <td>108.995</td>\n",
       "      <td>2023</td>\n",
       "      <td>10</td>\n",
       "      <td>0</td>\n",
       "      <td>1</td>\n",
       "      <td>2023-10-24</td>\n",
       "      <td>18</td>\n",
       "      <td>2</td>\n",
       "      <td>2</td>\n",
       "      <td>1</td>\n",
       "      <td>2023-10-24 00:18:20.163038180</td>\n",
       "      <td>2023</td>\n",
       "      <td>10</td>\n",
       "      <td>2023-10-24</td>\n",
       "      <td>0</td>\n",
       "      <td>18</td>\n",
       "      <td>2</td>\n",
       "      <td>2</td>\n",
       "      <td>1</td>\n",
       "      <td>NaN</td>\n",
       "      <td>7815</td>\n",
       "      <td>19.971323</td>\n",
       "      <td>NaN</td>\n",
       "      <td>NaN</td>\n",
       "      <td>NaN</td>\n",
       "      <td>NaN</td>\n",
       "      <td>NaN</td>\n",
       "      <td>NaN</td>\n",
       "      <td>NaN</td>\n",
       "      <td>NaN</td>\n",
       "      <td>1</td>\n",
       "      <td>2</td>\n",
       "      <td>NaN</td>\n",
       "      <td>NaN</td>\n",
       "      <td>NaN</td>\n",
       "      <td>NaN</td>\n",
       "      <td>NaN</td>\n",
       "      <td>NaN</td>\n",
       "      <td>NaN</td>\n",
       "      <td>NaN</td>\n",
       "      <td>NaN</td>\n",
       "      <td>NaN</td>\n",
       "      <td>NaN</td>\n",
       "      <td>NaN</td>\n",
       "      <td>NaN</td>\n",
       "      <td>NaN</td>\n",
       "      <td>NaN</td>\n",
       "      <td>NaN</td>\n",
       "      <td>NaN</td>\n",
       "    </tr>\n",
       "    <tr>\n",
       "      <th>2</th>\n",
       "      <td>3</td>\n",
       "      <td>1.698121e+09</td>\n",
       "      <td>2023-10-24 00:18:24.381290</td>\n",
       "      <td>2023-10-24 04:18:24.381290+00:00</td>\n",
       "      <td>56</td>\n",
       "      <td>4.714291</td>\n",
       "      <td>11.878774</td>\n",
       "      <td>142.545292</td>\n",
       "      <td>GEN</td>\n",
       "      <td>1</td>\n",
       "      <td>1</td>\n",
       "      <td>In the beginning, God created the heavens and ...</td>\n",
       "      <td>NaN</td>\n",
       "      <td>NaN</td>\n",
       "      <td>NaN</td>\n",
       "      <td>NaN</td>\n",
       "      <td>120.179</td>\n",
       "      <td>2023</td>\n",
       "      <td>10</td>\n",
       "      <td>0</td>\n",
       "      <td>1</td>\n",
       "      <td>2023-10-24</td>\n",
       "      <td>18</td>\n",
       "      <td>2</td>\n",
       "      <td>2</td>\n",
       "      <td>1</td>\n",
       "      <td>2023-10-24 00:18:29.095581096</td>\n",
       "      <td>2023</td>\n",
       "      <td>10</td>\n",
       "      <td>2023-10-24</td>\n",
       "      <td>0</td>\n",
       "      <td>18</td>\n",
       "      <td>2</td>\n",
       "      <td>2</td>\n",
       "      <td>1</td>\n",
       "      <td>NaN</td>\n",
       "      <td>3338</td>\n",
       "      <td>65.823433</td>\n",
       "      <td>NaN</td>\n",
       "      <td>NaN</td>\n",
       "      <td>NaN</td>\n",
       "      <td>NaN</td>\n",
       "      <td>NaN</td>\n",
       "      <td>NaN</td>\n",
       "      <td>NaN</td>\n",
       "      <td>NaN</td>\n",
       "      <td>1</td>\n",
       "      <td>3</td>\n",
       "      <td>NaN</td>\n",
       "      <td>NaN</td>\n",
       "      <td>NaN</td>\n",
       "      <td>NaN</td>\n",
       "      <td>NaN</td>\n",
       "      <td>NaN</td>\n",
       "      <td>NaN</td>\n",
       "      <td>NaN</td>\n",
       "      <td>NaN</td>\n",
       "      <td>NaN</td>\n",
       "      <td>NaN</td>\n",
       "      <td>NaN</td>\n",
       "      <td>NaN</td>\n",
       "      <td>NaN</td>\n",
       "      <td>NaN</td>\n",
       "      <td>NaN</td>\n",
       "      <td>NaN</td>\n",
       "    </tr>\n",
       "    <tr>\n",
       "      <th>3</th>\n",
       "      <td>4</td>\n",
       "      <td>1.698121e+09</td>\n",
       "      <td>2023-10-24 00:21:24.331389</td>\n",
       "      <td>2023-10-24 04:21:24.331389+00:00</td>\n",
       "      <td>56</td>\n",
       "      <td>4.878704</td>\n",
       "      <td>11.478458</td>\n",
       "      <td>137.741497</td>\n",
       "      <td>GEN</td>\n",
       "      <td>1</td>\n",
       "      <td>1</td>\n",
       "      <td>In the beginning, God created the heavens and ...</td>\n",
       "      <td>NaN</td>\n",
       "      <td>NaN</td>\n",
       "      <td>NaN</td>\n",
       "      <td>NaN</td>\n",
       "      <td>124.569</td>\n",
       "      <td>2023</td>\n",
       "      <td>10</td>\n",
       "      <td>0</td>\n",
       "      <td>1</td>\n",
       "      <td>2023-10-24</td>\n",
       "      <td>21</td>\n",
       "      <td>3</td>\n",
       "      <td>2</td>\n",
       "      <td>1</td>\n",
       "      <td>2023-10-24 00:21:29.210093071</td>\n",
       "      <td>2023</td>\n",
       "      <td>10</td>\n",
       "      <td>2023-10-24</td>\n",
       "      <td>0</td>\n",
       "      <td>21</td>\n",
       "      <td>2</td>\n",
       "      <td>3</td>\n",
       "      <td>1</td>\n",
       "      <td>NaN</td>\n",
       "      <td>4187</td>\n",
       "      <td>57.128226</td>\n",
       "      <td>NaN</td>\n",
       "      <td>NaN</td>\n",
       "      <td>NaN</td>\n",
       "      <td>NaN</td>\n",
       "      <td>NaN</td>\n",
       "      <td>NaN</td>\n",
       "      <td>NaN</td>\n",
       "      <td>NaN</td>\n",
       "      <td>1</td>\n",
       "      <td>4</td>\n",
       "      <td>NaN</td>\n",
       "      <td>NaN</td>\n",
       "      <td>NaN</td>\n",
       "      <td>NaN</td>\n",
       "      <td>NaN</td>\n",
       "      <td>NaN</td>\n",
       "      <td>NaN</td>\n",
       "      <td>NaN</td>\n",
       "      <td>NaN</td>\n",
       "      <td>NaN</td>\n",
       "      <td>NaN</td>\n",
       "      <td>NaN</td>\n",
       "      <td>NaN</td>\n",
       "      <td>NaN</td>\n",
       "      <td>NaN</td>\n",
       "      <td>NaN</td>\n",
       "      <td>NaN</td>\n",
       "    </tr>\n",
       "    <tr>\n",
       "      <th>4</th>\n",
       "      <td>5</td>\n",
       "      <td>1.698121e+09</td>\n",
       "      <td>2023-10-24 00:22:03.749152</td>\n",
       "      <td>2023-10-24 04:22:03.749152+00:00</td>\n",
       "      <td>135</td>\n",
       "      <td>19.078445</td>\n",
       "      <td>7.076048</td>\n",
       "      <td>84.912580</td>\n",
       "      <td>GEN</td>\n",
       "      <td>1</td>\n",
       "      <td>2</td>\n",
       "      <td>The earth was formless and empty. Darkness was...</td>\n",
       "      <td>NaN</td>\n",
       "      <td>NaN</td>\n",
       "      <td>NaN</td>\n",
       "      <td>NaN</td>\n",
       "      <td>116.638</td>\n",
       "      <td>2023</td>\n",
       "      <td>10</td>\n",
       "      <td>0</td>\n",
       "      <td>1</td>\n",
       "      <td>2023-10-24</td>\n",
       "      <td>22</td>\n",
       "      <td>3</td>\n",
       "      <td>2</td>\n",
       "      <td>1</td>\n",
       "      <td>2023-10-24 00:22:22.827597200</td>\n",
       "      <td>2023</td>\n",
       "      <td>10</td>\n",
       "      <td>2023-10-24</td>\n",
       "      <td>0</td>\n",
       "      <td>22</td>\n",
       "      <td>2</td>\n",
       "      <td>3</td>\n",
       "      <td>1</td>\n",
       "      <td>NaN</td>\n",
       "      <td>9629</td>\n",
       "      <td>1.392872</td>\n",
       "      <td>NaN</td>\n",
       "      <td>NaN</td>\n",
       "      <td>NaN</td>\n",
       "      <td>NaN</td>\n",
       "      <td>NaN</td>\n",
       "      <td>NaN</td>\n",
       "      <td>NaN</td>\n",
       "      <td>NaN</td>\n",
       "      <td>1</td>\n",
       "      <td>5</td>\n",
       "      <td>NaN</td>\n",
       "      <td>NaN</td>\n",
       "      <td>NaN</td>\n",
       "      <td>NaN</td>\n",
       "      <td>NaN</td>\n",
       "      <td>NaN</td>\n",
       "      <td>NaN</td>\n",
       "      <td>NaN</td>\n",
       "      <td>NaN</td>\n",
       "      <td>NaN</td>\n",
       "      <td>NaN</td>\n",
       "      <td>NaN</td>\n",
       "      <td>NaN</td>\n",
       "      <td>NaN</td>\n",
       "      <td>NaN</td>\n",
       "      <td>NaN</td>\n",
       "      <td>NaN</td>\n",
       "    </tr>\n",
       "    <tr>\n",
       "      <th>...</th>\n",
       "      <td>...</td>\n",
       "      <td>...</td>\n",
       "      <td>...</td>\n",
       "      <td>...</td>\n",
       "      <td>...</td>\n",
       "      <td>...</td>\n",
       "      <td>...</td>\n",
       "      <td>...</td>\n",
       "      <td>...</td>\n",
       "      <td>...</td>\n",
       "      <td>...</td>\n",
       "      <td>...</td>\n",
       "      <td>...</td>\n",
       "      <td>...</td>\n",
       "      <td>...</td>\n",
       "      <td>...</td>\n",
       "      <td>...</td>\n",
       "      <td>...</td>\n",
       "      <td>...</td>\n",
       "      <td>...</td>\n",
       "      <td>...</td>\n",
       "      <td>...</td>\n",
       "      <td>...</td>\n",
       "      <td>...</td>\n",
       "      <td>...</td>\n",
       "      <td>...</td>\n",
       "      <td>...</td>\n",
       "      <td>...</td>\n",
       "      <td>...</td>\n",
       "      <td>...</td>\n",
       "      <td>...</td>\n",
       "      <td>...</td>\n",
       "      <td>...</td>\n",
       "      <td>...</td>\n",
       "      <td>...</td>\n",
       "      <td>...</td>\n",
       "      <td>...</td>\n",
       "      <td>...</td>\n",
       "      <td>...</td>\n",
       "      <td>...</td>\n",
       "      <td>...</td>\n",
       "      <td>...</td>\n",
       "      <td>...</td>\n",
       "      <td>...</td>\n",
       "      <td>...</td>\n",
       "      <td>...</td>\n",
       "      <td>...</td>\n",
       "      <td>...</td>\n",
       "      <td>...</td>\n",
       "      <td>...</td>\n",
       "      <td>...</td>\n",
       "      <td>...</td>\n",
       "      <td>...</td>\n",
       "      <td>...</td>\n",
       "      <td>...</td>\n",
       "      <td>...</td>\n",
       "      <td>...</td>\n",
       "      <td>...</td>\n",
       "      <td>...</td>\n",
       "      <td>...</td>\n",
       "      <td>...</td>\n",
       "      <td>...</td>\n",
       "      <td>...</td>\n",
       "      <td>...</td>\n",
       "      <td>...</td>\n",
       "    </tr>\n",
       "    <tr>\n",
       "      <th>9759</th>\n",
       "      <td>9760</td>\n",
       "      <td>1.710602e+09</td>\n",
       "      <td>2024-03-16 11:17:41.671556</td>\n",
       "      <td>2024-03-16 15:17:41.671556+00:00</td>\n",
       "      <td>78</td>\n",
       "      <td>6.773794</td>\n",
       "      <td>11.514964</td>\n",
       "      <td>138.179570</td>\n",
       "      <td>JHN</td>\n",
       "      <td>9</td>\n",
       "      <td>30758</td>\n",
       "      <td>Jesus said to him, \"You have both seen him, an...</td>\n",
       "      <td>37.0</td>\n",
       "      <td>135.626543</td>\n",
       "      <td>145.029403</td>\n",
       "      <td>133.586009</td>\n",
       "      <td>133.377</td>\n",
       "      <td>2024</td>\n",
       "      <td>3</td>\n",
       "      <td>11</td>\n",
       "      <td>1</td>\n",
       "      <td>2024-03-16</td>\n",
       "      <td>17</td>\n",
       "      <td>2</td>\n",
       "      <td>2</td>\n",
       "      <td>1</td>\n",
       "      <td>2024-03-16 11:17:48.445350400</td>\n",
       "      <td>2024</td>\n",
       "      <td>3</td>\n",
       "      <td>2024-03-16</td>\n",
       "      <td>11</td>\n",
       "      <td>17</td>\n",
       "      <td>2</td>\n",
       "      <td>2</td>\n",
       "      <td>1</td>\n",
       "      <td>0.0</td>\n",
       "      <td>4105</td>\n",
       "      <td>57.968046</td>\n",
       "      <td>2.564103</td>\n",
       "      <td>7.692308</td>\n",
       "      <td>NaN</td>\n",
       "      <td>NaN</td>\n",
       "      <td>NaN</td>\n",
       "      <td>NaN</td>\n",
       "      <td>NaN</td>\n",
       "      <td>NaN</td>\n",
       "      <td>209</td>\n",
       "      <td>8</td>\n",
       "      <td>6.673974</td>\n",
       "      <td>5.184698</td>\n",
       "      <td>6.715065</td>\n",
       "      <td>v2</td>\n",
       "      <td>home</td>\n",
       "      <td>cherry mx2a brown</td>\n",
       "      <td>dvorak</td>\n",
       "      <td>yes</td>\n",
       "      <td>NaN</td>\n",
       "      <td>NaN</td>\n",
       "      <td>NaN</td>\n",
       "      <td>0.0</td>\n",
       "      <td>94.117647</td>\n",
       "      <td>14.102564</td>\n",
       "      <td>12.015566</td>\n",
       "      <td>8.909651</td>\n",
       "      <td>NaN</td>\n",
       "    </tr>\n",
       "    <tr>\n",
       "      <th>9760</th>\n",
       "      <td>9761</td>\n",
       "      <td>1.710602e+09</td>\n",
       "      <td>2024-03-16 11:17:49.846090</td>\n",
       "      <td>2024-03-16 15:17:49.846090+00:00</td>\n",
       "      <td>49</td>\n",
       "      <td>4.263457</td>\n",
       "      <td>11.493020</td>\n",
       "      <td>137.916243</td>\n",
       "      <td>JHN</td>\n",
       "      <td>9</td>\n",
       "      <td>30759</td>\n",
       "      <td>He said, \"Lord, I believe!\" and he worshiped him.</td>\n",
       "      <td>38.0</td>\n",
       "      <td>136.406688</td>\n",
       "      <td>144.900494</td>\n",
       "      <td>133.620118</td>\n",
       "      <td>133.377</td>\n",
       "      <td>2024</td>\n",
       "      <td>3</td>\n",
       "      <td>11</td>\n",
       "      <td>1</td>\n",
       "      <td>2024-03-16</td>\n",
       "      <td>17</td>\n",
       "      <td>2</td>\n",
       "      <td>2</td>\n",
       "      <td>1</td>\n",
       "      <td>2024-03-16 11:17:54.109547200</td>\n",
       "      <td>2024</td>\n",
       "      <td>3</td>\n",
       "      <td>2024-03-16</td>\n",
       "      <td>11</td>\n",
       "      <td>17</td>\n",
       "      <td>2</td>\n",
       "      <td>2</td>\n",
       "      <td>1</td>\n",
       "      <td>1.0</td>\n",
       "      <td>4169</td>\n",
       "      <td>57.312577</td>\n",
       "      <td>0.000000</td>\n",
       "      <td>0.000000</td>\n",
       "      <td>NaN</td>\n",
       "      <td>NaN</td>\n",
       "      <td>NaN</td>\n",
       "      <td>NaN</td>\n",
       "      <td>NaN</td>\n",
       "      <td>NaN</td>\n",
       "      <td>209</td>\n",
       "      <td>9</td>\n",
       "      <td>5.734377</td>\n",
       "      <td>5.184698</td>\n",
       "      <td>6.704618</td>\n",
       "      <td>v2</td>\n",
       "      <td>home</td>\n",
       "      <td>cherry mx2a brown</td>\n",
       "      <td>dvorak</td>\n",
       "      <td>yes</td>\n",
       "      <td>NaN</td>\n",
       "      <td>NaN</td>\n",
       "      <td>NaN</td>\n",
       "      <td>0.0</td>\n",
       "      <td>100.000000</td>\n",
       "      <td>0.000000</td>\n",
       "      <td>10.471942</td>\n",
       "      <td>8.909651</td>\n",
       "      <td>NaN</td>\n",
       "    </tr>\n",
       "    <tr>\n",
       "      <th>9761</th>\n",
       "      <td>9762</td>\n",
       "      <td>1.710602e+09</td>\n",
       "      <td>2024-03-16 11:18:04.768211</td>\n",
       "      <td>2024-03-16 15:18:04.768211+00:00</td>\n",
       "      <td>98</td>\n",
       "      <td>9.336138</td>\n",
       "      <td>10.496845</td>\n",
       "      <td>125.962144</td>\n",
       "      <td>JHN</td>\n",
       "      <td>9</td>\n",
       "      <td>30761</td>\n",
       "      <td>Those of the Pharisees who were with him heard...</td>\n",
       "      <td>40.0</td>\n",
       "      <td>136.901171</td>\n",
       "      <td>144.878666</td>\n",
       "      <td>133.615511</td>\n",
       "      <td>133.377</td>\n",
       "      <td>2024</td>\n",
       "      <td>3</td>\n",
       "      <td>11</td>\n",
       "      <td>1</td>\n",
       "      <td>2024-03-16</td>\n",
       "      <td>18</td>\n",
       "      <td>2</td>\n",
       "      <td>2</td>\n",
       "      <td>1</td>\n",
       "      <td>2024-03-16 11:18:14.104349300</td>\n",
       "      <td>2024</td>\n",
       "      <td>3</td>\n",
       "      <td>2024-03-16</td>\n",
       "      <td>11</td>\n",
       "      <td>18</td>\n",
       "      <td>2</td>\n",
       "      <td>2</td>\n",
       "      <td>1</td>\n",
       "      <td>0.0</td>\n",
       "      <td>6300</td>\n",
       "      <td>35.487505</td>\n",
       "      <td>4.081633</td>\n",
       "      <td>10.204082</td>\n",
       "      <td>NaN</td>\n",
       "      <td>NaN</td>\n",
       "      <td>NaN</td>\n",
       "      <td>NaN</td>\n",
       "      <td>NaN</td>\n",
       "      <td>NaN</td>\n",
       "      <td>209</td>\n",
       "      <td>10</td>\n",
       "      <td>6.384415</td>\n",
       "      <td>5.223247</td>\n",
       "      <td>6.709161</td>\n",
       "      <td>v2</td>\n",
       "      <td>home</td>\n",
       "      <td>cherry mx2a brown</td>\n",
       "      <td>dvorak</td>\n",
       "      <td>yes</td>\n",
       "      <td>NaN</td>\n",
       "      <td>NaN</td>\n",
       "      <td>NaN</td>\n",
       "      <td>0.0</td>\n",
       "      <td>89.473684</td>\n",
       "      <td>15.306122</td>\n",
       "      <td>11.014900</td>\n",
       "      <td>8.951601</td>\n",
       "      <td>NaN</td>\n",
       "    </tr>\n",
       "    <tr>\n",
       "      <th>9762</th>\n",
       "      <td>9763</td>\n",
       "      <td>1.710602e+09</td>\n",
       "      <td>2024-03-16 11:18:16.963959</td>\n",
       "      <td>2024-03-16 15:18:16.963959+00:00</td>\n",
       "      <td>117</td>\n",
       "      <td>10.801673</td>\n",
       "      <td>10.831656</td>\n",
       "      <td>129.979866</td>\n",
       "      <td>JHN</td>\n",
       "      <td>9</td>\n",
       "      <td>30762</td>\n",
       "      <td>Jesus said to them, \"If you were blind, you wo...</td>\n",
       "      <td>41.0</td>\n",
       "      <td>134.828158</td>\n",
       "      <td>144.364264</td>\n",
       "      <td>133.618620</td>\n",
       "      <td>133.376</td>\n",
       "      <td>2024</td>\n",
       "      <td>3</td>\n",
       "      <td>11</td>\n",
       "      <td>1</td>\n",
       "      <td>2024-03-16</td>\n",
       "      <td>18</td>\n",
       "      <td>2</td>\n",
       "      <td>2</td>\n",
       "      <td>1</td>\n",
       "      <td>2024-03-16 11:18:27.765631900</td>\n",
       "      <td>2024</td>\n",
       "      <td>3</td>\n",
       "      <td>2024-03-16</td>\n",
       "      <td>11</td>\n",
       "      <td>18</td>\n",
       "      <td>2</td>\n",
       "      <td>2</td>\n",
       "      <td>1</td>\n",
       "      <td>0.0</td>\n",
       "      <td>5593</td>\n",
       "      <td>42.728390</td>\n",
       "      <td>3.418803</td>\n",
       "      <td>7.692308</td>\n",
       "      <td>NaN</td>\n",
       "      <td>NaN</td>\n",
       "      <td>NaN</td>\n",
       "      <td>NaN</td>\n",
       "      <td>NaN</td>\n",
       "      <td>NaN</td>\n",
       "      <td>209</td>\n",
       "      <td>11</td>\n",
       "      <td>6.302582</td>\n",
       "      <td>5.300170</td>\n",
       "      <td>6.712015</td>\n",
       "      <td>v2</td>\n",
       "      <td>home</td>\n",
       "      <td>cherry mx2a brown</td>\n",
       "      <td>dvorak</td>\n",
       "      <td>yes</td>\n",
       "      <td>NaN</td>\n",
       "      <td>NaN</td>\n",
       "      <td>NaN</td>\n",
       "      <td>0.0</td>\n",
       "      <td>95.652174</td>\n",
       "      <td>12.820513</td>\n",
       "      <td>11.126739</td>\n",
       "      <td>9.079806</td>\n",
       "      <td>NaN</td>\n",
       "    </tr>\n",
       "    <tr>\n",
       "      <th>9763</th>\n",
       "      <td>9764</td>\n",
       "      <td>1.710602e+09</td>\n",
       "      <td>2024-03-16 11:18:29.470981</td>\n",
       "      <td>2024-03-16 15:18:29.470981+00:00</td>\n",
       "      <td>138</td>\n",
       "      <td>12.718246</td>\n",
       "      <td>10.850553</td>\n",
       "      <td>130.206639</td>\n",
       "      <td>JHN</td>\n",
       "      <td>10</td>\n",
       "      <td>30763</td>\n",
       "      <td>\"Most certainly, I tell you, one who doesn't e...</td>\n",
       "      <td>1.0</td>\n",
       "      <td>132.024411</td>\n",
       "      <td>144.412645</td>\n",
       "      <td>133.622552</td>\n",
       "      <td>133.376</td>\n",
       "      <td>2024</td>\n",
       "      <td>3</td>\n",
       "      <td>11</td>\n",
       "      <td>1</td>\n",
       "      <td>2024-03-16</td>\n",
       "      <td>18</td>\n",
       "      <td>2</td>\n",
       "      <td>2</td>\n",
       "      <td>1</td>\n",
       "      <td>2024-03-16 11:18:42.189226500</td>\n",
       "      <td>2024</td>\n",
       "      <td>3</td>\n",
       "      <td>2024-03-16</td>\n",
       "      <td>11</td>\n",
       "      <td>18</td>\n",
       "      <td>2</td>\n",
       "      <td>2</td>\n",
       "      <td>1</td>\n",
       "      <td>0.0</td>\n",
       "      <td>5541</td>\n",
       "      <td>43.260959</td>\n",
       "      <td>6.521739</td>\n",
       "      <td>11.594203</td>\n",
       "      <td>NaN</td>\n",
       "      <td>NaN</td>\n",
       "      <td>NaN</td>\n",
       "      <td>NaN</td>\n",
       "      <td>NaN</td>\n",
       "      <td>NaN</td>\n",
       "      <td>209</td>\n",
       "      <td>12</td>\n",
       "      <td>7.462002</td>\n",
       "      <td>5.346668</td>\n",
       "      <td>6.717424</td>\n",
       "      <td>v2</td>\n",
       "      <td>home</td>\n",
       "      <td>cherry mx2a brown</td>\n",
       "      <td>dvorak</td>\n",
       "      <td>yes</td>\n",
       "      <td>NaN</td>\n",
       "      <td>NaN</td>\n",
       "      <td>NaN</td>\n",
       "      <td>0.0</td>\n",
       "      <td>96.428571</td>\n",
       "      <td>18.115942</td>\n",
       "      <td>12.938333</td>\n",
       "      <td>9.135966</td>\n",
       "      <td>NaN</td>\n",
       "    </tr>\n",
       "  </tbody>\n",
       "</table>\n",
       "<p>9764 rows × 65 columns</p>\n",
       "</div>"
      ],
      "text/plain": [
       "      Test_Number  Unix_Start_Time            Local_Start_Time  \\\n",
       "0               1     1.698121e+09  2023-10-24 00:17:38.017017   \n",
       "1               2     1.698121e+09  2023-10-24 00:18:06.165502   \n",
       "2               3     1.698121e+09  2023-10-24 00:18:24.381290   \n",
       "3               4     1.698121e+09  2023-10-24 00:21:24.331389   \n",
       "4               5     1.698121e+09  2023-10-24 00:22:03.749152   \n",
       "...           ...              ...                         ...   \n",
       "9759         9760     1.710602e+09  2024-03-16 11:17:41.671556   \n",
       "9760         9761     1.710602e+09  2024-03-16 11:17:49.846090   \n",
       "9761         9762     1.710602e+09  2024-03-16 11:18:04.768211   \n",
       "9762         9763     1.710602e+09  2024-03-16 11:18:16.963959   \n",
       "9763         9764     1.710602e+09  2024-03-16 11:18:29.470981   \n",
       "\n",
       "                        UTC_Start_Time  Characters    Seconds        CPS  \\\n",
       "0     2023-10-24 04:17:38.017017+00:00          56   6.571754   8.521317   \n",
       "1     2023-10-24 04:18:06.165502+00:00         135  13.997536   9.644554   \n",
       "2     2023-10-24 04:18:24.381290+00:00          56   4.714291  11.878774   \n",
       "3     2023-10-24 04:21:24.331389+00:00          56   4.878704  11.478458   \n",
       "4     2023-10-24 04:22:03.749152+00:00         135  19.078445   7.076048   \n",
       "...                                ...         ...        ...        ...   \n",
       "9759  2024-03-16 15:17:41.671556+00:00          78   6.773794  11.514964   \n",
       "9760  2024-03-16 15:17:49.846090+00:00          49   4.263457  11.493020   \n",
       "9761  2024-03-16 15:18:04.768211+00:00          98   9.336138  10.496845   \n",
       "9762  2024-03-16 15:18:16.963959+00:00         117  10.801673  10.831656   \n",
       "9763  2024-03-16 15:18:29.470981+00:00         138  12.718246  10.850553   \n",
       "\n",
       "             WPM Book  Chapter  Verse_Order  \\\n",
       "0     102.255799  GEN        1            1   \n",
       "1     115.734653  GEN        1            2   \n",
       "2     142.545292  GEN        1            1   \n",
       "3     137.741497  GEN        1            1   \n",
       "4      84.912580  GEN        1            2   \n",
       "...          ...  ...      ...          ...   \n",
       "9759  138.179570  JHN        9        30758   \n",
       "9760  137.916243  JHN        9        30759   \n",
       "9761  125.962144  JHN        9        30761   \n",
       "9762  129.979866  JHN        9        30762   \n",
       "9763  130.206639  JHN       10        30763   \n",
       "\n",
       "                                                  Verse  Verse #  Last 10 Avg  \\\n",
       "0     In the beginning, God created the heavens and ...      NaN          NaN   \n",
       "1     The earth was formless and empty. Darkness was...      NaN          NaN   \n",
       "2     In the beginning, God created the heavens and ...      NaN          NaN   \n",
       "3     In the beginning, God created the heavens and ...      NaN          NaN   \n",
       "4     The earth was formless and empty. Darkness was...      NaN          NaN   \n",
       "...                                                 ...      ...          ...   \n",
       "9759  Jesus said to him, \"You have both seen him, an...     37.0   135.626543   \n",
       "9760  He said, \"Lord, I believe!\" and he worshiped him.     38.0   136.406688   \n",
       "9761  Those of the Pharisees who were with him heard...     40.0   136.901171   \n",
       "9762  Jesus said to them, \"If you were blind, you wo...     41.0   134.828158   \n",
       "9763  \"Most certainly, I tell you, one who doesn't e...      1.0   132.024411   \n",
       "\n",
       "      Last 100 Avg  Last 1000 Avg  cumulative_avg  Local_Start_Year  \\\n",
       "0              NaN            NaN         102.256              2023   \n",
       "1              NaN            NaN         108.995              2023   \n",
       "2              NaN            NaN         120.179              2023   \n",
       "3              NaN            NaN         124.569              2023   \n",
       "4              NaN            NaN         116.638              2023   \n",
       "...            ...            ...             ...               ...   \n",
       "9759    145.029403     133.586009         133.377              2024   \n",
       "9760    144.900494     133.620118         133.377              2024   \n",
       "9761    144.878666     133.615511         133.377              2024   \n",
       "9762    144.364264     133.618620         133.376              2024   \n",
       "9763    144.412645     133.622552         133.376              2024   \n",
       "\n",
       "      Local_Start_Month  Local_Start_Hour  Count Local_Start_Date  \\\n",
       "0                    10                 0      1       2023-10-24   \n",
       "1                    10                 0      1       2023-10-24   \n",
       "2                    10                 0      1       2023-10-24   \n",
       "3                    10                 0      1       2023-10-24   \n",
       "4                    10                 0      1       2023-10-24   \n",
       "...                 ...               ...    ...              ...   \n",
       "9759                  3                11      1       2024-03-16   \n",
       "9760                  3                11      1       2024-03-16   \n",
       "9761                  3                11      1       2024-03-16   \n",
       "9762                  3                11      1       2024-03-16   \n",
       "9763                  3                11      1       2024-03-16   \n",
       "\n",
       "      Local_Start_Minute  Local_Start_10_Minute_Block  \\\n",
       "0                     17                            2   \n",
       "1                     18                            2   \n",
       "2                     18                            2   \n",
       "3                     21                            3   \n",
       "4                     22                            3   \n",
       "...                  ...                          ...   \n",
       "9759                  17                            2   \n",
       "9760                  17                            2   \n",
       "9761                  18                            2   \n",
       "9762                  18                            2   \n",
       "9763                  18                            2   \n",
       "\n",
       "      Local_Start_15_Minute_Block  Local_Start_30_Minute_Block  \\\n",
       "0                               2                            1   \n",
       "1                               2                            1   \n",
       "2                               2                            1   \n",
       "3                               2                            1   \n",
       "4                               2                            1   \n",
       "...                           ...                          ...   \n",
       "9759                            2                            1   \n",
       "9760                            2                            1   \n",
       "9761                            2                            1   \n",
       "9762                            2                            1   \n",
       "9763                            2                            1   \n",
       "\n",
       "                     Local_End_Time  Local_End_Year  Local_End_Month  \\\n",
       "0     2023-10-24 00:17:44.588771456            2023               10   \n",
       "1     2023-10-24 00:18:20.163038180            2023               10   \n",
       "2     2023-10-24 00:18:29.095581096            2023               10   \n",
       "3     2023-10-24 00:21:29.210093071            2023               10   \n",
       "4     2023-10-24 00:22:22.827597200            2023               10   \n",
       "...                             ...             ...              ...   \n",
       "9759  2024-03-16 11:17:48.445350400            2024                3   \n",
       "9760  2024-03-16 11:17:54.109547200            2024                3   \n",
       "9761  2024-03-16 11:18:14.104349300            2024                3   \n",
       "9762  2024-03-16 11:18:27.765631900            2024                3   \n",
       "9763  2024-03-16 11:18:42.189226500            2024                3   \n",
       "\n",
       "     Local_End_Date  Local_End_Hour  Local_End_Minute  \\\n",
       "0        2023-10-24               0                17   \n",
       "1        2023-10-24               0                18   \n",
       "2        2023-10-24               0                18   \n",
       "3        2023-10-24               0                21   \n",
       "4        2023-10-24               0                22   \n",
       "...             ...             ...               ...   \n",
       "9759     2024-03-16              11                17   \n",
       "9760     2024-03-16              11                17   \n",
       "9761     2024-03-16              11                18   \n",
       "9762     2024-03-16              11                18   \n",
       "9763     2024-03-16              11                18   \n",
       "\n",
       "      Local_End_15_Minute_Block  Local_End_10_Minute_Block  \\\n",
       "0                             2                          2   \n",
       "1                             2                          2   \n",
       "2                             2                          2   \n",
       "3                             2                          3   \n",
       "4                             2                          3   \n",
       "...                         ...                        ...   \n",
       "9759                          2                          2   \n",
       "9760                          2                          2   \n",
       "9761                          2                          2   \n",
       "9762                          2                          2   \n",
       "9763                          2                          2   \n",
       "\n",
       "      Local_End_30_Minute_Block  Mistake_Free_Test  WPM_Rank  WPM_Percentile  \\\n",
       "0                             1                NaN      9065        7.169193   \n",
       "1                             1                NaN      7815       19.971323   \n",
       "2                             1                NaN      3338       65.823433   \n",
       "3                             1                NaN      4187       57.128226   \n",
       "4                             1                NaN      9629        1.392872   \n",
       "...                         ...                ...       ...             ...   \n",
       "9759                          1                0.0      4105       57.968046   \n",
       "9760                          1                1.0      4169       57.312577   \n",
       "9761                          1                0.0      6300       35.487505   \n",
       "9762                          1                0.0      5593       42.728390   \n",
       "9763                          1                0.0      5541       43.260959   \n",
       "\n",
       "      Backspaces as % of Verse Length  \\\n",
       "0                                 NaN   \n",
       "1                                 NaN   \n",
       "2                                 NaN   \n",
       "3                                 NaN   \n",
       "4                                 NaN   \n",
       "...                               ...   \n",
       "9759                         2.564103   \n",
       "9760                         0.000000   \n",
       "9761                         4.081633   \n",
       "9762                         3.418803   \n",
       "9763                         6.521739   \n",
       "\n",
       "      Incorrect Characters as % of Verse Length  Min Character Time (ms)  \\\n",
       "0                                           NaN                      NaN   \n",
       "1                                           NaN                      NaN   \n",
       "2                                           NaN                      NaN   \n",
       "3                                           NaN                      NaN   \n",
       "4                                           NaN                      NaN   \n",
       "...                                         ...                      ...   \n",
       "9759                                   7.692308                      NaN   \n",
       "9760                                   0.000000                      NaN   \n",
       "9761                                  10.204082                      NaN   \n",
       "9762                                   7.692308                      NaN   \n",
       "9763                                  11.594203                      NaN   \n",
       "\n",
       "      Median Character Time (ms)  Max Character Time (ms)  \\\n",
       "0                            NaN                      NaN   \n",
       "1                            NaN                      NaN   \n",
       "2                            NaN                      NaN   \n",
       "3                            NaN                      NaN   \n",
       "4                            NaN                      NaN   \n",
       "...                          ...                      ...   \n",
       "9759                         NaN                      NaN   \n",
       "9760                         NaN                      NaN   \n",
       "9761                         NaN                      NaN   \n",
       "9762                         NaN                      NaN   \n",
       "9763                         NaN                      NaN   \n",
       "\n",
       "      Backspace % Last 10 Avg  Backspace % Last 100 Avg  \\\n",
       "0                         NaN                       NaN   \n",
       "1                         NaN                       NaN   \n",
       "2                         NaN                       NaN   \n",
       "3                         NaN                       NaN   \n",
       "4                         NaN                       NaN   \n",
       "...                       ...                       ...   \n",
       "9759                      NaN                       NaN   \n",
       "9760                      NaN                       NaN   \n",
       "9761                      NaN                       NaN   \n",
       "9762                      NaN                       NaN   \n",
       "9763                      NaN                       NaN   \n",
       "\n",
       "      Backspace % Last 1000 Avg  Session  Test_#_Within_Session  \\\n",
       "0                           NaN        1                      1   \n",
       "1                           NaN        1                      2   \n",
       "2                           NaN        1                      3   \n",
       "3                           NaN        1                      4   \n",
       "4                           NaN        1                      5   \n",
       "...                         ...      ...                    ...   \n",
       "9759                        NaN      209                      8   \n",
       "9760                        NaN      209                      9   \n",
       "9761                        NaN      209                     10   \n",
       "9762                        NaN      209                     11   \n",
       "9763                        NaN      209                     12   \n",
       "\n",
       "      Incorrect Character % Last 10 Avg  Incorrect Character % Last 100 Avg  \\\n",
       "0                                   NaN                                 NaN   \n",
       "1                                   NaN                                 NaN   \n",
       "2                                   NaN                                 NaN   \n",
       "3                                   NaN                                 NaN   \n",
       "4                                   NaN                                 NaN   \n",
       "...                                 ...                                 ...   \n",
       "9759                           6.673974                            5.184698   \n",
       "9760                           5.734377                            5.184698   \n",
       "9761                           6.384415                            5.223247   \n",
       "9762                           6.302582                            5.300170   \n",
       "9763                           7.462002                            5.346668   \n",
       "\n",
       "      Incorrect Character % Last 1000 Avg Test Version Location  \\\n",
       "0                                     NaN          NaN      NaN   \n",
       "1                                     NaN          NaN      NaN   \n",
       "2                                     NaN          NaN      NaN   \n",
       "3                                     NaN          NaN      NaN   \n",
       "4                                     NaN          NaN      NaN   \n",
       "...                                   ...          ...      ...   \n",
       "9759                             6.715065           v2     home   \n",
       "9760                             6.704618           v2     home   \n",
       "9761                             6.709161           v2     home   \n",
       "9762                             6.712015           v2     home   \n",
       "9763                             6.717424           v2     home   \n",
       "\n",
       "               Keyboard  Layout Caffeine  Custom_1  Custom_2  Custom_3  \\\n",
       "0                   NaN     NaN      NaN       NaN       NaN       NaN   \n",
       "1                   NaN     NaN      NaN       NaN       NaN       NaN   \n",
       "2                   NaN     NaN      NaN       NaN       NaN       NaN   \n",
       "3                   NaN     NaN      NaN       NaN       NaN       NaN   \n",
       "4                   NaN     NaN      NaN       NaN       NaN       NaN   \n",
       "...                 ...     ...      ...       ...       ...       ...   \n",
       "9759  cherry mx2a brown  dvorak      yes       NaN       NaN       NaN   \n",
       "9760  cherry mx2a brown  dvorak      yes       NaN       NaN       NaN   \n",
       "9761  cherry mx2a brown  dvorak      yes       NaN       NaN       NaN   \n",
       "9762  cherry mx2a brown  dvorak      yes       NaN       NaN       NaN   \n",
       "9763  cherry mx2a brown  dvorak      yes       NaN       NaN       NaN   \n",
       "\n",
       "      Autostart  % of Words Typed Correctly  Extra Keystrokes %  \\\n",
       "0           NaN                         NaN                 NaN   \n",
       "1           NaN                         NaN                 NaN   \n",
       "2           NaN                         NaN                 NaN   \n",
       "3           NaN                         NaN                 NaN   \n",
       "4           NaN                         NaN                 NaN   \n",
       "...         ...                         ...                 ...   \n",
       "9759        0.0                   94.117647           14.102564   \n",
       "9760        0.0                  100.000000            0.000000   \n",
       "9761        0.0                   89.473684           15.306122   \n",
       "9762        0.0                   95.652174           12.820513   \n",
       "9763        0.0                   96.428571           18.115942   \n",
       "\n",
       "      Extra Keystrokes % Last 10 Avg  Extra Keystrokes % Last 100 Avg  \\\n",
       "0                                NaN                              NaN   \n",
       "1                                NaN                              NaN   \n",
       "2                                NaN                              NaN   \n",
       "3                                NaN                              NaN   \n",
       "4                                NaN                              NaN   \n",
       "...                              ...                              ...   \n",
       "9759                       12.015566                         8.909651   \n",
       "9760                       10.471942                         8.909651   \n",
       "9761                       11.014900                         8.951601   \n",
       "9762                       11.126739                         9.079806   \n",
       "9763                       12.938333                         9.135966   \n",
       "\n",
       "      Extra Keystrokes % Last 1000 Avg  \n",
       "0                                  NaN  \n",
       "1                                  NaN  \n",
       "2                                  NaN  \n",
       "3                                  NaN  \n",
       "4                                  NaN  \n",
       "...                                ...  \n",
       "9759                               NaN  \n",
       "9760                               NaN  \n",
       "9761                               NaN  \n",
       "9762                               NaN  \n",
       "9763                               NaN  \n",
       "\n",
       "[9764 rows x 65 columns]"
      ]
     },
     "execution_count": 2,
     "metadata": {},
     "output_type": "execute_result"
    }
   ],
   "source": [
    "df_results = pd.read_csv('results.csv')\n",
    "df_results"
   ]
  },
  {
   "cell_type": "markdown",
   "metadata": {},
   "source": [
    "The following cell stores a list of start and end times for each trial. "
   ]
  },
  {
   "cell_type": "code",
   "execution_count": 3,
   "metadata": {},
   "outputs": [],
   "source": [
    "trial_start_and_end_times_list = [('2024-03-11 11:25', '2024-03-11 11:56'),\n",
    "                                  ('2024-03-16 10:40', '2024-03-16 11:19')]\n"
   ]
  },
  {
   "cell_type": "markdown",
   "metadata": {},
   "source": [
    "The next cell uses a list comprehension to create a filtered copy of df_results that includes only results that appear *after* the first timestamp in the tuple and *before* the second timestamp. (In order words, results that match the timestamps in the list exactly won't get included.)"
   ]
  },
  {
   "cell_type": "code",
   "execution_count": 4,
   "metadata": {},
   "outputs": [
    {
     "data": {
      "text/html": [
       "<div>\n",
       "<style scoped>\n",
       "    .dataframe tbody tr th:only-of-type {\n",
       "        vertical-align: middle;\n",
       "    }\n",
       "\n",
       "    .dataframe tbody tr th {\n",
       "        vertical-align: top;\n",
       "    }\n",
       "\n",
       "    .dataframe thead th {\n",
       "        text-align: right;\n",
       "    }\n",
       "</style>\n",
       "<table border=\"1\" class=\"dataframe\">\n",
       "  <thead>\n",
       "    <tr style=\"text-align: right;\">\n",
       "      <th></th>\n",
       "      <th>Test_Number</th>\n",
       "      <th>Unix_Start_Time</th>\n",
       "      <th>Local_Start_Time</th>\n",
       "      <th>UTC_Start_Time</th>\n",
       "      <th>Characters</th>\n",
       "      <th>Seconds</th>\n",
       "      <th>CPS</th>\n",
       "      <th>WPM</th>\n",
       "      <th>Book</th>\n",
       "      <th>Chapter</th>\n",
       "      <th>Verse_Order</th>\n",
       "      <th>Verse</th>\n",
       "      <th>Verse #</th>\n",
       "      <th>Last 10 Avg</th>\n",
       "      <th>Last 100 Avg</th>\n",
       "      <th>Last 1000 Avg</th>\n",
       "      <th>cumulative_avg</th>\n",
       "      <th>Local_Start_Year</th>\n",
       "      <th>Local_Start_Month</th>\n",
       "      <th>Local_Start_Hour</th>\n",
       "      <th>Count</th>\n",
       "      <th>Local_Start_Date</th>\n",
       "      <th>Local_Start_Minute</th>\n",
       "      <th>Local_Start_10_Minute_Block</th>\n",
       "      <th>Local_Start_15_Minute_Block</th>\n",
       "      <th>Local_Start_30_Minute_Block</th>\n",
       "      <th>Local_End_Time</th>\n",
       "      <th>Local_End_Year</th>\n",
       "      <th>Local_End_Month</th>\n",
       "      <th>Local_End_Date</th>\n",
       "      <th>Local_End_Hour</th>\n",
       "      <th>Local_End_Minute</th>\n",
       "      <th>Local_End_15_Minute_Block</th>\n",
       "      <th>Local_End_10_Minute_Block</th>\n",
       "      <th>Local_End_30_Minute_Block</th>\n",
       "      <th>Mistake_Free_Test</th>\n",
       "      <th>WPM_Rank</th>\n",
       "      <th>WPM_Percentile</th>\n",
       "      <th>Backspaces as % of Verse Length</th>\n",
       "      <th>Incorrect Characters as % of Verse Length</th>\n",
       "      <th>Min Character Time (ms)</th>\n",
       "      <th>Median Character Time (ms)</th>\n",
       "      <th>Max Character Time (ms)</th>\n",
       "      <th>Backspace % Last 10 Avg</th>\n",
       "      <th>Backspace % Last 100 Avg</th>\n",
       "      <th>Backspace % Last 1000 Avg</th>\n",
       "      <th>Session</th>\n",
       "      <th>Test_#_Within_Session</th>\n",
       "      <th>Incorrect Character % Last 10 Avg</th>\n",
       "      <th>Incorrect Character % Last 100 Avg</th>\n",
       "      <th>Incorrect Character % Last 1000 Avg</th>\n",
       "      <th>Test Version</th>\n",
       "      <th>Location</th>\n",
       "      <th>Keyboard</th>\n",
       "      <th>Layout</th>\n",
       "      <th>Caffeine</th>\n",
       "      <th>Custom_1</th>\n",
       "      <th>Custom_2</th>\n",
       "      <th>Custom_3</th>\n",
       "      <th>Autostart</th>\n",
       "      <th>% of Words Typed Correctly</th>\n",
       "      <th>Extra Keystrokes %</th>\n",
       "      <th>Extra Keystrokes % Last 10 Avg</th>\n",
       "      <th>Extra Keystrokes % Last 100 Avg</th>\n",
       "      <th>Extra Keystrokes % Last 1000 Avg</th>\n",
       "    </tr>\n",
       "  </thead>\n",
       "  <tbody>\n",
       "    <tr>\n",
       "      <th>9335</th>\n",
       "      <td>9336</td>\n",
       "      <td>1.710171e+09</td>\n",
       "      <td>2024-03-11 11:26:37.472366</td>\n",
       "      <td>2024-03-11 15:26:37.472366+00:00</td>\n",
       "      <td>192</td>\n",
       "      <td>16.778450</td>\n",
       "      <td>11.443250</td>\n",
       "      <td>137.319004</td>\n",
       "      <td>JHN</td>\n",
       "      <td>5</td>\n",
       "      <td>30510</td>\n",
       "      <td>Jesus therefore answered them, \"Most certainly...</td>\n",
       "      <td>19.0</td>\n",
       "      <td>137.585592</td>\n",
       "      <td>138.500531</td>\n",
       "      <td>128.903824</td>\n",
       "      <td>133.048</td>\n",
       "      <td>2024</td>\n",
       "      <td>3</td>\n",
       "      <td>11</td>\n",
       "      <td>1</td>\n",
       "      <td>2024-03-11</td>\n",
       "      <td>26</td>\n",
       "      <td>3</td>\n",
       "      <td>2</td>\n",
       "      <td>1</td>\n",
       "      <td>2024-03-11 11:26:54.250815700</td>\n",
       "      <td>2024</td>\n",
       "      <td>3</td>\n",
       "      <td>2024-03-11</td>\n",
       "      <td>11</td>\n",
       "      <td>26</td>\n",
       "      <td>2</td>\n",
       "      <td>3</td>\n",
       "      <td>1</td>\n",
       "      <td>0.0</td>\n",
       "      <td>4263</td>\n",
       "      <td>56.349857</td>\n",
       "      <td>3.125000</td>\n",
       "      <td>8.333333</td>\n",
       "      <td>NaN</td>\n",
       "      <td>NaN</td>\n",
       "      <td>NaN</td>\n",
       "      <td>NaN</td>\n",
       "      <td>NaN</td>\n",
       "      <td>NaN</td>\n",
       "      <td>203</td>\n",
       "      <td>1</td>\n",
       "      <td>6.676314</td>\n",
       "      <td>5.521322</td>\n",
       "      <td>7.532080</td>\n",
       "      <td>v2</td>\n",
       "      <td>home</td>\n",
       "      <td>cherry red</td>\n",
       "      <td>dvorak</td>\n",
       "      <td>yes</td>\n",
       "      <td>NaN</td>\n",
       "      <td>NaN</td>\n",
       "      <td>NaN</td>\n",
       "      <td>0.0</td>\n",
       "      <td>88.235294</td>\n",
       "      <td>13.541667</td>\n",
       "      <td>12.194104</td>\n",
       "      <td>NaN</td>\n",
       "      <td>NaN</td>\n",
       "    </tr>\n",
       "    <tr>\n",
       "      <th>9336</th>\n",
       "      <td>9337</td>\n",
       "      <td>1.710171e+09</td>\n",
       "      <td>2024-03-11 11:26:56.220335</td>\n",
       "      <td>2024-03-11 15:26:56.220335+00:00</td>\n",
       "      <td>152</td>\n",
       "      <td>11.056986</td>\n",
       "      <td>13.746965</td>\n",
       "      <td>164.963585</td>\n",
       "      <td>JHN</td>\n",
       "      <td>5</td>\n",
       "      <td>30511</td>\n",
       "      <td>For the Father has affection for the Son, and ...</td>\n",
       "      <td>20.0</td>\n",
       "      <td>140.528065</td>\n",
       "      <td>138.713826</td>\n",
       "      <td>128.928716</td>\n",
       "      <td>133.052</td>\n",
       "      <td>2024</td>\n",
       "      <td>3</td>\n",
       "      <td>11</td>\n",
       "      <td>1</td>\n",
       "      <td>2024-03-11</td>\n",
       "      <td>26</td>\n",
       "      <td>3</td>\n",
       "      <td>2</td>\n",
       "      <td>1</td>\n",
       "      <td>2024-03-11 11:27:07.277320700</td>\n",
       "      <td>2024</td>\n",
       "      <td>3</td>\n",
       "      <td>2024-03-11</td>\n",
       "      <td>11</td>\n",
       "      <td>27</td>\n",
       "      <td>2</td>\n",
       "      <td>3</td>\n",
       "      <td>1</td>\n",
       "      <td>0.0</td>\n",
       "      <td>611</td>\n",
       "      <td>93.752560</td>\n",
       "      <td>1.315789</td>\n",
       "      <td>4.605263</td>\n",
       "      <td>NaN</td>\n",
       "      <td>NaN</td>\n",
       "      <td>NaN</td>\n",
       "      <td>NaN</td>\n",
       "      <td>NaN</td>\n",
       "      <td>NaN</td>\n",
       "      <td>203</td>\n",
       "      <td>2</td>\n",
       "      <td>6.901546</td>\n",
       "      <td>5.540529</td>\n",
       "      <td>7.531622</td>\n",
       "      <td>v2</td>\n",
       "      <td>home</td>\n",
       "      <td>cherry red</td>\n",
       "      <td>dvorak</td>\n",
       "      <td>yes</td>\n",
       "      <td>NaN</td>\n",
       "      <td>NaN</td>\n",
       "      <td>NaN</td>\n",
       "      <td>0.0</td>\n",
       "      <td>96.551724</td>\n",
       "      <td>5.921053</td>\n",
       "      <td>12.315621</td>\n",
       "      <td>NaN</td>\n",
       "      <td>NaN</td>\n",
       "    </tr>\n",
       "    <tr>\n",
       "      <th>9337</th>\n",
       "      <td>9338</td>\n",
       "      <td>1.710171e+09</td>\n",
       "      <td>2024-03-11 11:27:11.907570</td>\n",
       "      <td>2024-03-11 15:27:11.907570+00:00</td>\n",
       "      <td>106</td>\n",
       "      <td>7.391912</td>\n",
       "      <td>14.339997</td>\n",
       "      <td>172.079964</td>\n",
       "      <td>JHN</td>\n",
       "      <td>5</td>\n",
       "      <td>30512</td>\n",
       "      <td>For as the Father raises the dead and gives th...</td>\n",
       "      <td>21.0</td>\n",
       "      <td>142.400652</td>\n",
       "      <td>138.888181</td>\n",
       "      <td>128.988686</td>\n",
       "      <td>133.056</td>\n",
       "      <td>2024</td>\n",
       "      <td>3</td>\n",
       "      <td>11</td>\n",
       "      <td>1</td>\n",
       "      <td>2024-03-11</td>\n",
       "      <td>27</td>\n",
       "      <td>3</td>\n",
       "      <td>2</td>\n",
       "      <td>1</td>\n",
       "      <td>2024-03-11 11:27:19.299482300</td>\n",
       "      <td>2024</td>\n",
       "      <td>3</td>\n",
       "      <td>2024-03-11</td>\n",
       "      <td>11</td>\n",
       "      <td>27</td>\n",
       "      <td>2</td>\n",
       "      <td>3</td>\n",
       "      <td>1</td>\n",
       "      <td>1.0</td>\n",
       "      <td>268</td>\n",
       "      <td>97.265465</td>\n",
       "      <td>0.000000</td>\n",
       "      <td>0.000000</td>\n",
       "      <td>NaN</td>\n",
       "      <td>NaN</td>\n",
       "      <td>NaN</td>\n",
       "      <td>NaN</td>\n",
       "      <td>NaN</td>\n",
       "      <td>NaN</td>\n",
       "      <td>203</td>\n",
       "      <td>3</td>\n",
       "      <td>6.300453</td>\n",
       "      <td>5.540529</td>\n",
       "      <td>7.515985</td>\n",
       "      <td>v2</td>\n",
       "      <td>home</td>\n",
       "      <td>cherry red</td>\n",
       "      <td>dvorak</td>\n",
       "      <td>yes</td>\n",
       "      <td>NaN</td>\n",
       "      <td>NaN</td>\n",
       "      <td>NaN</td>\n",
       "      <td>0.0</td>\n",
       "      <td>100.000000</td>\n",
       "      <td>0.000000</td>\n",
       "      <td>11.168080</td>\n",
       "      <td>NaN</td>\n",
       "      <td>NaN</td>\n",
       "    </tr>\n",
       "    <tr>\n",
       "      <th>9338</th>\n",
       "      <td>9339</td>\n",
       "      <td>1.710171e+09</td>\n",
       "      <td>2024-03-11 11:27:21.423686</td>\n",
       "      <td>2024-03-11 15:27:21.423686+00:00</td>\n",
       "      <td>71</td>\n",
       "      <td>6.279210</td>\n",
       "      <td>11.307155</td>\n",
       "      <td>135.685859</td>\n",
       "      <td>JHN</td>\n",
       "      <td>5</td>\n",
       "      <td>30513</td>\n",
       "      <td>For the Father judges no one, but he has given...</td>\n",
       "      <td>22.0</td>\n",
       "      <td>143.358556</td>\n",
       "      <td>138.959112</td>\n",
       "      <td>128.984768</td>\n",
       "      <td>133.056</td>\n",
       "      <td>2024</td>\n",
       "      <td>3</td>\n",
       "      <td>11</td>\n",
       "      <td>1</td>\n",
       "      <td>2024-03-11</td>\n",
       "      <td>27</td>\n",
       "      <td>3</td>\n",
       "      <td>2</td>\n",
       "      <td>1</td>\n",
       "      <td>2024-03-11 11:27:27.702896000</td>\n",
       "      <td>2024</td>\n",
       "      <td>3</td>\n",
       "      <td>2024-03-11</td>\n",
       "      <td>11</td>\n",
       "      <td>27</td>\n",
       "      <td>2</td>\n",
       "      <td>3</td>\n",
       "      <td>1</td>\n",
       "      <td>0.0</td>\n",
       "      <td>4550</td>\n",
       "      <td>53.410488</td>\n",
       "      <td>1.408451</td>\n",
       "      <td>1.408451</td>\n",
       "      <td>NaN</td>\n",
       "      <td>NaN</td>\n",
       "      <td>NaN</td>\n",
       "      <td>NaN</td>\n",
       "      <td>NaN</td>\n",
       "      <td>NaN</td>\n",
       "      <td>203</td>\n",
       "      <td>4</td>\n",
       "      <td>5.989321</td>\n",
       "      <td>5.501583</td>\n",
       "      <td>7.511974</td>\n",
       "      <td>v2</td>\n",
       "      <td>home</td>\n",
       "      <td>cherry red</td>\n",
       "      <td>dvorak</td>\n",
       "      <td>yes</td>\n",
       "      <td>NaN</td>\n",
       "      <td>NaN</td>\n",
       "      <td>NaN</td>\n",
       "      <td>0.0</td>\n",
       "      <td>93.333333</td>\n",
       "      <td>2.816901</td>\n",
       "      <td>10.376323</td>\n",
       "      <td>NaN</td>\n",
       "      <td>NaN</td>\n",
       "    </tr>\n",
       "    <tr>\n",
       "      <th>9339</th>\n",
       "      <td>9340</td>\n",
       "      <td>1.710171e+09</td>\n",
       "      <td>2024-03-11 11:27:31.307316</td>\n",
       "      <td>2024-03-11 15:27:31.307316+00:00</td>\n",
       "      <td>126</td>\n",
       "      <td>10.224435</td>\n",
       "      <td>12.323420</td>\n",
       "      <td>147.881036</td>\n",
       "      <td>JHN</td>\n",
       "      <td>5</td>\n",
       "      <td>30514</td>\n",
       "      <td>that all may honor the Son, even as they honor...</td>\n",
       "      <td>23.0</td>\n",
       "      <td>147.057733</td>\n",
       "      <td>139.134097</td>\n",
       "      <td>128.998703</td>\n",
       "      <td>133.058</td>\n",
       "      <td>2024</td>\n",
       "      <td>3</td>\n",
       "      <td>11</td>\n",
       "      <td>1</td>\n",
       "      <td>2024-03-11</td>\n",
       "      <td>27</td>\n",
       "      <td>3</td>\n",
       "      <td>2</td>\n",
       "      <td>1</td>\n",
       "      <td>2024-03-11 11:27:41.531750700</td>\n",
       "      <td>2024</td>\n",
       "      <td>3</td>\n",
       "      <td>2024-03-11</td>\n",
       "      <td>11</td>\n",
       "      <td>27</td>\n",
       "      <td>2</td>\n",
       "      <td>3</td>\n",
       "      <td>1</td>\n",
       "      <td>0.0</td>\n",
       "      <td>2442</td>\n",
       "      <td>75.000000</td>\n",
       "      <td>1.587302</td>\n",
       "      <td>4.761905</td>\n",
       "      <td>NaN</td>\n",
       "      <td>NaN</td>\n",
       "      <td>NaN</td>\n",
       "      <td>NaN</td>\n",
       "      <td>NaN</td>\n",
       "      <td>NaN</td>\n",
       "      <td>203</td>\n",
       "      <td>5</td>\n",
       "      <td>5.024833</td>\n",
       "      <td>5.513488</td>\n",
       "      <td>7.514355</td>\n",
       "      <td>v2</td>\n",
       "      <td>home</td>\n",
       "      <td>cherry red</td>\n",
       "      <td>dvorak</td>\n",
       "      <td>yes</td>\n",
       "      <td>NaN</td>\n",
       "      <td>NaN</td>\n",
       "      <td>NaN</td>\n",
       "      <td>0.0</td>\n",
       "      <td>96.000000</td>\n",
       "      <td>9.523810</td>\n",
       "      <td>8.701586</td>\n",
       "      <td>NaN</td>\n",
       "      <td>NaN</td>\n",
       "    </tr>\n",
       "    <tr>\n",
       "      <th>...</th>\n",
       "      <td>...</td>\n",
       "      <td>...</td>\n",
       "      <td>...</td>\n",
       "      <td>...</td>\n",
       "      <td>...</td>\n",
       "      <td>...</td>\n",
       "      <td>...</td>\n",
       "      <td>...</td>\n",
       "      <td>...</td>\n",
       "      <td>...</td>\n",
       "      <td>...</td>\n",
       "      <td>...</td>\n",
       "      <td>...</td>\n",
       "      <td>...</td>\n",
       "      <td>...</td>\n",
       "      <td>...</td>\n",
       "      <td>...</td>\n",
       "      <td>...</td>\n",
       "      <td>...</td>\n",
       "      <td>...</td>\n",
       "      <td>...</td>\n",
       "      <td>...</td>\n",
       "      <td>...</td>\n",
       "      <td>...</td>\n",
       "      <td>...</td>\n",
       "      <td>...</td>\n",
       "      <td>...</td>\n",
       "      <td>...</td>\n",
       "      <td>...</td>\n",
       "      <td>...</td>\n",
       "      <td>...</td>\n",
       "      <td>...</td>\n",
       "      <td>...</td>\n",
       "      <td>...</td>\n",
       "      <td>...</td>\n",
       "      <td>...</td>\n",
       "      <td>...</td>\n",
       "      <td>...</td>\n",
       "      <td>...</td>\n",
       "      <td>...</td>\n",
       "      <td>...</td>\n",
       "      <td>...</td>\n",
       "      <td>...</td>\n",
       "      <td>...</td>\n",
       "      <td>...</td>\n",
       "      <td>...</td>\n",
       "      <td>...</td>\n",
       "      <td>...</td>\n",
       "      <td>...</td>\n",
       "      <td>...</td>\n",
       "      <td>...</td>\n",
       "      <td>...</td>\n",
       "      <td>...</td>\n",
       "      <td>...</td>\n",
       "      <td>...</td>\n",
       "      <td>...</td>\n",
       "      <td>...</td>\n",
       "      <td>...</td>\n",
       "      <td>...</td>\n",
       "      <td>...</td>\n",
       "      <td>...</td>\n",
       "      <td>...</td>\n",
       "      <td>...</td>\n",
       "      <td>...</td>\n",
       "      <td>...</td>\n",
       "    </tr>\n",
       "    <tr>\n",
       "      <th>9759</th>\n",
       "      <td>9760</td>\n",
       "      <td>1.710602e+09</td>\n",
       "      <td>2024-03-16 11:17:41.671556</td>\n",
       "      <td>2024-03-16 15:17:41.671556+00:00</td>\n",
       "      <td>78</td>\n",
       "      <td>6.773794</td>\n",
       "      <td>11.514964</td>\n",
       "      <td>138.179570</td>\n",
       "      <td>JHN</td>\n",
       "      <td>9</td>\n",
       "      <td>30758</td>\n",
       "      <td>Jesus said to him, \"You have both seen him, an...</td>\n",
       "      <td>37.0</td>\n",
       "      <td>135.626543</td>\n",
       "      <td>145.029403</td>\n",
       "      <td>133.586009</td>\n",
       "      <td>133.377</td>\n",
       "      <td>2024</td>\n",
       "      <td>3</td>\n",
       "      <td>11</td>\n",
       "      <td>1</td>\n",
       "      <td>2024-03-16</td>\n",
       "      <td>17</td>\n",
       "      <td>2</td>\n",
       "      <td>2</td>\n",
       "      <td>1</td>\n",
       "      <td>2024-03-16 11:17:48.445350400</td>\n",
       "      <td>2024</td>\n",
       "      <td>3</td>\n",
       "      <td>2024-03-16</td>\n",
       "      <td>11</td>\n",
       "      <td>17</td>\n",
       "      <td>2</td>\n",
       "      <td>2</td>\n",
       "      <td>1</td>\n",
       "      <td>0.0</td>\n",
       "      <td>4105</td>\n",
       "      <td>57.968046</td>\n",
       "      <td>2.564103</td>\n",
       "      <td>7.692308</td>\n",
       "      <td>NaN</td>\n",
       "      <td>NaN</td>\n",
       "      <td>NaN</td>\n",
       "      <td>NaN</td>\n",
       "      <td>NaN</td>\n",
       "      <td>NaN</td>\n",
       "      <td>209</td>\n",
       "      <td>8</td>\n",
       "      <td>6.673974</td>\n",
       "      <td>5.184698</td>\n",
       "      <td>6.715065</td>\n",
       "      <td>v2</td>\n",
       "      <td>home</td>\n",
       "      <td>cherry mx2a brown</td>\n",
       "      <td>dvorak</td>\n",
       "      <td>yes</td>\n",
       "      <td>NaN</td>\n",
       "      <td>NaN</td>\n",
       "      <td>NaN</td>\n",
       "      <td>0.0</td>\n",
       "      <td>94.117647</td>\n",
       "      <td>14.102564</td>\n",
       "      <td>12.015566</td>\n",
       "      <td>8.909651</td>\n",
       "      <td>NaN</td>\n",
       "    </tr>\n",
       "    <tr>\n",
       "      <th>9760</th>\n",
       "      <td>9761</td>\n",
       "      <td>1.710602e+09</td>\n",
       "      <td>2024-03-16 11:17:49.846090</td>\n",
       "      <td>2024-03-16 15:17:49.846090+00:00</td>\n",
       "      <td>49</td>\n",
       "      <td>4.263457</td>\n",
       "      <td>11.493020</td>\n",
       "      <td>137.916243</td>\n",
       "      <td>JHN</td>\n",
       "      <td>9</td>\n",
       "      <td>30759</td>\n",
       "      <td>He said, \"Lord, I believe!\" and he worshiped him.</td>\n",
       "      <td>38.0</td>\n",
       "      <td>136.406688</td>\n",
       "      <td>144.900494</td>\n",
       "      <td>133.620118</td>\n",
       "      <td>133.377</td>\n",
       "      <td>2024</td>\n",
       "      <td>3</td>\n",
       "      <td>11</td>\n",
       "      <td>1</td>\n",
       "      <td>2024-03-16</td>\n",
       "      <td>17</td>\n",
       "      <td>2</td>\n",
       "      <td>2</td>\n",
       "      <td>1</td>\n",
       "      <td>2024-03-16 11:17:54.109547200</td>\n",
       "      <td>2024</td>\n",
       "      <td>3</td>\n",
       "      <td>2024-03-16</td>\n",
       "      <td>11</td>\n",
       "      <td>17</td>\n",
       "      <td>2</td>\n",
       "      <td>2</td>\n",
       "      <td>1</td>\n",
       "      <td>1.0</td>\n",
       "      <td>4169</td>\n",
       "      <td>57.312577</td>\n",
       "      <td>0.000000</td>\n",
       "      <td>0.000000</td>\n",
       "      <td>NaN</td>\n",
       "      <td>NaN</td>\n",
       "      <td>NaN</td>\n",
       "      <td>NaN</td>\n",
       "      <td>NaN</td>\n",
       "      <td>NaN</td>\n",
       "      <td>209</td>\n",
       "      <td>9</td>\n",
       "      <td>5.734377</td>\n",
       "      <td>5.184698</td>\n",
       "      <td>6.704618</td>\n",
       "      <td>v2</td>\n",
       "      <td>home</td>\n",
       "      <td>cherry mx2a brown</td>\n",
       "      <td>dvorak</td>\n",
       "      <td>yes</td>\n",
       "      <td>NaN</td>\n",
       "      <td>NaN</td>\n",
       "      <td>NaN</td>\n",
       "      <td>0.0</td>\n",
       "      <td>100.000000</td>\n",
       "      <td>0.000000</td>\n",
       "      <td>10.471942</td>\n",
       "      <td>8.909651</td>\n",
       "      <td>NaN</td>\n",
       "    </tr>\n",
       "    <tr>\n",
       "      <th>9761</th>\n",
       "      <td>9762</td>\n",
       "      <td>1.710602e+09</td>\n",
       "      <td>2024-03-16 11:18:04.768211</td>\n",
       "      <td>2024-03-16 15:18:04.768211+00:00</td>\n",
       "      <td>98</td>\n",
       "      <td>9.336138</td>\n",
       "      <td>10.496845</td>\n",
       "      <td>125.962144</td>\n",
       "      <td>JHN</td>\n",
       "      <td>9</td>\n",
       "      <td>30761</td>\n",
       "      <td>Those of the Pharisees who were with him heard...</td>\n",
       "      <td>40.0</td>\n",
       "      <td>136.901171</td>\n",
       "      <td>144.878666</td>\n",
       "      <td>133.615511</td>\n",
       "      <td>133.377</td>\n",
       "      <td>2024</td>\n",
       "      <td>3</td>\n",
       "      <td>11</td>\n",
       "      <td>1</td>\n",
       "      <td>2024-03-16</td>\n",
       "      <td>18</td>\n",
       "      <td>2</td>\n",
       "      <td>2</td>\n",
       "      <td>1</td>\n",
       "      <td>2024-03-16 11:18:14.104349300</td>\n",
       "      <td>2024</td>\n",
       "      <td>3</td>\n",
       "      <td>2024-03-16</td>\n",
       "      <td>11</td>\n",
       "      <td>18</td>\n",
       "      <td>2</td>\n",
       "      <td>2</td>\n",
       "      <td>1</td>\n",
       "      <td>0.0</td>\n",
       "      <td>6300</td>\n",
       "      <td>35.487505</td>\n",
       "      <td>4.081633</td>\n",
       "      <td>10.204082</td>\n",
       "      <td>NaN</td>\n",
       "      <td>NaN</td>\n",
       "      <td>NaN</td>\n",
       "      <td>NaN</td>\n",
       "      <td>NaN</td>\n",
       "      <td>NaN</td>\n",
       "      <td>209</td>\n",
       "      <td>10</td>\n",
       "      <td>6.384415</td>\n",
       "      <td>5.223247</td>\n",
       "      <td>6.709161</td>\n",
       "      <td>v2</td>\n",
       "      <td>home</td>\n",
       "      <td>cherry mx2a brown</td>\n",
       "      <td>dvorak</td>\n",
       "      <td>yes</td>\n",
       "      <td>NaN</td>\n",
       "      <td>NaN</td>\n",
       "      <td>NaN</td>\n",
       "      <td>0.0</td>\n",
       "      <td>89.473684</td>\n",
       "      <td>15.306122</td>\n",
       "      <td>11.014900</td>\n",
       "      <td>8.951601</td>\n",
       "      <td>NaN</td>\n",
       "    </tr>\n",
       "    <tr>\n",
       "      <th>9762</th>\n",
       "      <td>9763</td>\n",
       "      <td>1.710602e+09</td>\n",
       "      <td>2024-03-16 11:18:16.963959</td>\n",
       "      <td>2024-03-16 15:18:16.963959+00:00</td>\n",
       "      <td>117</td>\n",
       "      <td>10.801673</td>\n",
       "      <td>10.831656</td>\n",
       "      <td>129.979866</td>\n",
       "      <td>JHN</td>\n",
       "      <td>9</td>\n",
       "      <td>30762</td>\n",
       "      <td>Jesus said to them, \"If you were blind, you wo...</td>\n",
       "      <td>41.0</td>\n",
       "      <td>134.828158</td>\n",
       "      <td>144.364264</td>\n",
       "      <td>133.618620</td>\n",
       "      <td>133.376</td>\n",
       "      <td>2024</td>\n",
       "      <td>3</td>\n",
       "      <td>11</td>\n",
       "      <td>1</td>\n",
       "      <td>2024-03-16</td>\n",
       "      <td>18</td>\n",
       "      <td>2</td>\n",
       "      <td>2</td>\n",
       "      <td>1</td>\n",
       "      <td>2024-03-16 11:18:27.765631900</td>\n",
       "      <td>2024</td>\n",
       "      <td>3</td>\n",
       "      <td>2024-03-16</td>\n",
       "      <td>11</td>\n",
       "      <td>18</td>\n",
       "      <td>2</td>\n",
       "      <td>2</td>\n",
       "      <td>1</td>\n",
       "      <td>0.0</td>\n",
       "      <td>5593</td>\n",
       "      <td>42.728390</td>\n",
       "      <td>3.418803</td>\n",
       "      <td>7.692308</td>\n",
       "      <td>NaN</td>\n",
       "      <td>NaN</td>\n",
       "      <td>NaN</td>\n",
       "      <td>NaN</td>\n",
       "      <td>NaN</td>\n",
       "      <td>NaN</td>\n",
       "      <td>209</td>\n",
       "      <td>11</td>\n",
       "      <td>6.302582</td>\n",
       "      <td>5.300170</td>\n",
       "      <td>6.712015</td>\n",
       "      <td>v2</td>\n",
       "      <td>home</td>\n",
       "      <td>cherry mx2a brown</td>\n",
       "      <td>dvorak</td>\n",
       "      <td>yes</td>\n",
       "      <td>NaN</td>\n",
       "      <td>NaN</td>\n",
       "      <td>NaN</td>\n",
       "      <td>0.0</td>\n",
       "      <td>95.652174</td>\n",
       "      <td>12.820513</td>\n",
       "      <td>11.126739</td>\n",
       "      <td>9.079806</td>\n",
       "      <td>NaN</td>\n",
       "    </tr>\n",
       "    <tr>\n",
       "      <th>9763</th>\n",
       "      <td>9764</td>\n",
       "      <td>1.710602e+09</td>\n",
       "      <td>2024-03-16 11:18:29.470981</td>\n",
       "      <td>2024-03-16 15:18:29.470981+00:00</td>\n",
       "      <td>138</td>\n",
       "      <td>12.718246</td>\n",
       "      <td>10.850553</td>\n",
       "      <td>130.206639</td>\n",
       "      <td>JHN</td>\n",
       "      <td>10</td>\n",
       "      <td>30763</td>\n",
       "      <td>\"Most certainly, I tell you, one who doesn't e...</td>\n",
       "      <td>1.0</td>\n",
       "      <td>132.024411</td>\n",
       "      <td>144.412645</td>\n",
       "      <td>133.622552</td>\n",
       "      <td>133.376</td>\n",
       "      <td>2024</td>\n",
       "      <td>3</td>\n",
       "      <td>11</td>\n",
       "      <td>1</td>\n",
       "      <td>2024-03-16</td>\n",
       "      <td>18</td>\n",
       "      <td>2</td>\n",
       "      <td>2</td>\n",
       "      <td>1</td>\n",
       "      <td>2024-03-16 11:18:42.189226500</td>\n",
       "      <td>2024</td>\n",
       "      <td>3</td>\n",
       "      <td>2024-03-16</td>\n",
       "      <td>11</td>\n",
       "      <td>18</td>\n",
       "      <td>2</td>\n",
       "      <td>2</td>\n",
       "      <td>1</td>\n",
       "      <td>0.0</td>\n",
       "      <td>5541</td>\n",
       "      <td>43.260959</td>\n",
       "      <td>6.521739</td>\n",
       "      <td>11.594203</td>\n",
       "      <td>NaN</td>\n",
       "      <td>NaN</td>\n",
       "      <td>NaN</td>\n",
       "      <td>NaN</td>\n",
       "      <td>NaN</td>\n",
       "      <td>NaN</td>\n",
       "      <td>209</td>\n",
       "      <td>12</td>\n",
       "      <td>7.462002</td>\n",
       "      <td>5.346668</td>\n",
       "      <td>6.717424</td>\n",
       "      <td>v2</td>\n",
       "      <td>home</td>\n",
       "      <td>cherry mx2a brown</td>\n",
       "      <td>dvorak</td>\n",
       "      <td>yes</td>\n",
       "      <td>NaN</td>\n",
       "      <td>NaN</td>\n",
       "      <td>NaN</td>\n",
       "      <td>0.0</td>\n",
       "      <td>96.428571</td>\n",
       "      <td>18.115942</td>\n",
       "      <td>12.938333</td>\n",
       "      <td>9.135966</td>\n",
       "      <td>NaN</td>\n",
       "    </tr>\n",
       "  </tbody>\n",
       "</table>\n",
       "<p>241 rows × 65 columns</p>\n",
       "</div>"
      ],
      "text/plain": [
       "      Test_Number  Unix_Start_Time            Local_Start_Time  \\\n",
       "9335         9336     1.710171e+09  2024-03-11 11:26:37.472366   \n",
       "9336         9337     1.710171e+09  2024-03-11 11:26:56.220335   \n",
       "9337         9338     1.710171e+09  2024-03-11 11:27:11.907570   \n",
       "9338         9339     1.710171e+09  2024-03-11 11:27:21.423686   \n",
       "9339         9340     1.710171e+09  2024-03-11 11:27:31.307316   \n",
       "...           ...              ...                         ...   \n",
       "9759         9760     1.710602e+09  2024-03-16 11:17:41.671556   \n",
       "9760         9761     1.710602e+09  2024-03-16 11:17:49.846090   \n",
       "9761         9762     1.710602e+09  2024-03-16 11:18:04.768211   \n",
       "9762         9763     1.710602e+09  2024-03-16 11:18:16.963959   \n",
       "9763         9764     1.710602e+09  2024-03-16 11:18:29.470981   \n",
       "\n",
       "                        UTC_Start_Time  Characters    Seconds        CPS  \\\n",
       "9335  2024-03-11 15:26:37.472366+00:00         192  16.778450  11.443250   \n",
       "9336  2024-03-11 15:26:56.220335+00:00         152  11.056986  13.746965   \n",
       "9337  2024-03-11 15:27:11.907570+00:00         106   7.391912  14.339997   \n",
       "9338  2024-03-11 15:27:21.423686+00:00          71   6.279210  11.307155   \n",
       "9339  2024-03-11 15:27:31.307316+00:00         126  10.224435  12.323420   \n",
       "...                                ...         ...        ...        ...   \n",
       "9759  2024-03-16 15:17:41.671556+00:00          78   6.773794  11.514964   \n",
       "9760  2024-03-16 15:17:49.846090+00:00          49   4.263457  11.493020   \n",
       "9761  2024-03-16 15:18:04.768211+00:00          98   9.336138  10.496845   \n",
       "9762  2024-03-16 15:18:16.963959+00:00         117  10.801673  10.831656   \n",
       "9763  2024-03-16 15:18:29.470981+00:00         138  12.718246  10.850553   \n",
       "\n",
       "             WPM Book  Chapter  Verse_Order  \\\n",
       "9335  137.319004  JHN        5        30510   \n",
       "9336  164.963585  JHN        5        30511   \n",
       "9337  172.079964  JHN        5        30512   \n",
       "9338  135.685859  JHN        5        30513   \n",
       "9339  147.881036  JHN        5        30514   \n",
       "...          ...  ...      ...          ...   \n",
       "9759  138.179570  JHN        9        30758   \n",
       "9760  137.916243  JHN        9        30759   \n",
       "9761  125.962144  JHN        9        30761   \n",
       "9762  129.979866  JHN        9        30762   \n",
       "9763  130.206639  JHN       10        30763   \n",
       "\n",
       "                                                  Verse  Verse #  Last 10 Avg  \\\n",
       "9335  Jesus therefore answered them, \"Most certainly...     19.0   137.585592   \n",
       "9336  For the Father has affection for the Son, and ...     20.0   140.528065   \n",
       "9337  For as the Father raises the dead and gives th...     21.0   142.400652   \n",
       "9338  For the Father judges no one, but he has given...     22.0   143.358556   \n",
       "9339  that all may honor the Son, even as they honor...     23.0   147.057733   \n",
       "...                                                 ...      ...          ...   \n",
       "9759  Jesus said to him, \"You have both seen him, an...     37.0   135.626543   \n",
       "9760  He said, \"Lord, I believe!\" and he worshiped him.     38.0   136.406688   \n",
       "9761  Those of the Pharisees who were with him heard...     40.0   136.901171   \n",
       "9762  Jesus said to them, \"If you were blind, you wo...     41.0   134.828158   \n",
       "9763  \"Most certainly, I tell you, one who doesn't e...      1.0   132.024411   \n",
       "\n",
       "      Last 100 Avg  Last 1000 Avg  cumulative_avg  Local_Start_Year  \\\n",
       "9335    138.500531     128.903824         133.048              2024   \n",
       "9336    138.713826     128.928716         133.052              2024   \n",
       "9337    138.888181     128.988686         133.056              2024   \n",
       "9338    138.959112     128.984768         133.056              2024   \n",
       "9339    139.134097     128.998703         133.058              2024   \n",
       "...            ...            ...             ...               ...   \n",
       "9759    145.029403     133.586009         133.377              2024   \n",
       "9760    144.900494     133.620118         133.377              2024   \n",
       "9761    144.878666     133.615511         133.377              2024   \n",
       "9762    144.364264     133.618620         133.376              2024   \n",
       "9763    144.412645     133.622552         133.376              2024   \n",
       "\n",
       "      Local_Start_Month  Local_Start_Hour  Count Local_Start_Date  \\\n",
       "9335                  3                11      1       2024-03-11   \n",
       "9336                  3                11      1       2024-03-11   \n",
       "9337                  3                11      1       2024-03-11   \n",
       "9338                  3                11      1       2024-03-11   \n",
       "9339                  3                11      1       2024-03-11   \n",
       "...                 ...               ...    ...              ...   \n",
       "9759                  3                11      1       2024-03-16   \n",
       "9760                  3                11      1       2024-03-16   \n",
       "9761                  3                11      1       2024-03-16   \n",
       "9762                  3                11      1       2024-03-16   \n",
       "9763                  3                11      1       2024-03-16   \n",
       "\n",
       "      Local_Start_Minute  Local_Start_10_Minute_Block  \\\n",
       "9335                  26                            3   \n",
       "9336                  26                            3   \n",
       "9337                  27                            3   \n",
       "9338                  27                            3   \n",
       "9339                  27                            3   \n",
       "...                  ...                          ...   \n",
       "9759                  17                            2   \n",
       "9760                  17                            2   \n",
       "9761                  18                            2   \n",
       "9762                  18                            2   \n",
       "9763                  18                            2   \n",
       "\n",
       "      Local_Start_15_Minute_Block  Local_Start_30_Minute_Block  \\\n",
       "9335                            2                            1   \n",
       "9336                            2                            1   \n",
       "9337                            2                            1   \n",
       "9338                            2                            1   \n",
       "9339                            2                            1   \n",
       "...                           ...                          ...   \n",
       "9759                            2                            1   \n",
       "9760                            2                            1   \n",
       "9761                            2                            1   \n",
       "9762                            2                            1   \n",
       "9763                            2                            1   \n",
       "\n",
       "                     Local_End_Time  Local_End_Year  Local_End_Month  \\\n",
       "9335  2024-03-11 11:26:54.250815700            2024                3   \n",
       "9336  2024-03-11 11:27:07.277320700            2024                3   \n",
       "9337  2024-03-11 11:27:19.299482300            2024                3   \n",
       "9338  2024-03-11 11:27:27.702896000            2024                3   \n",
       "9339  2024-03-11 11:27:41.531750700            2024                3   \n",
       "...                             ...             ...              ...   \n",
       "9759  2024-03-16 11:17:48.445350400            2024                3   \n",
       "9760  2024-03-16 11:17:54.109547200            2024                3   \n",
       "9761  2024-03-16 11:18:14.104349300            2024                3   \n",
       "9762  2024-03-16 11:18:27.765631900            2024                3   \n",
       "9763  2024-03-16 11:18:42.189226500            2024                3   \n",
       "\n",
       "     Local_End_Date  Local_End_Hour  Local_End_Minute  \\\n",
       "9335     2024-03-11              11                26   \n",
       "9336     2024-03-11              11                27   \n",
       "9337     2024-03-11              11                27   \n",
       "9338     2024-03-11              11                27   \n",
       "9339     2024-03-11              11                27   \n",
       "...             ...             ...               ...   \n",
       "9759     2024-03-16              11                17   \n",
       "9760     2024-03-16              11                17   \n",
       "9761     2024-03-16              11                18   \n",
       "9762     2024-03-16              11                18   \n",
       "9763     2024-03-16              11                18   \n",
       "\n",
       "      Local_End_15_Minute_Block  Local_End_10_Minute_Block  \\\n",
       "9335                          2                          3   \n",
       "9336                          2                          3   \n",
       "9337                          2                          3   \n",
       "9338                          2                          3   \n",
       "9339                          2                          3   \n",
       "...                         ...                        ...   \n",
       "9759                          2                          2   \n",
       "9760                          2                          2   \n",
       "9761                          2                          2   \n",
       "9762                          2                          2   \n",
       "9763                          2                          2   \n",
       "\n",
       "      Local_End_30_Minute_Block  Mistake_Free_Test  WPM_Rank  WPM_Percentile  \\\n",
       "9335                          1                0.0      4263       56.349857   \n",
       "9336                          1                0.0       611       93.752560   \n",
       "9337                          1                1.0       268       97.265465   \n",
       "9338                          1                0.0      4550       53.410488   \n",
       "9339                          1                0.0      2442       75.000000   \n",
       "...                         ...                ...       ...             ...   \n",
       "9759                          1                0.0      4105       57.968046   \n",
       "9760                          1                1.0      4169       57.312577   \n",
       "9761                          1                0.0      6300       35.487505   \n",
       "9762                          1                0.0      5593       42.728390   \n",
       "9763                          1                0.0      5541       43.260959   \n",
       "\n",
       "      Backspaces as % of Verse Length  \\\n",
       "9335                         3.125000   \n",
       "9336                         1.315789   \n",
       "9337                         0.000000   \n",
       "9338                         1.408451   \n",
       "9339                         1.587302   \n",
       "...                               ...   \n",
       "9759                         2.564103   \n",
       "9760                         0.000000   \n",
       "9761                         4.081633   \n",
       "9762                         3.418803   \n",
       "9763                         6.521739   \n",
       "\n",
       "      Incorrect Characters as % of Verse Length  Min Character Time (ms)  \\\n",
       "9335                                   8.333333                      NaN   \n",
       "9336                                   4.605263                      NaN   \n",
       "9337                                   0.000000                      NaN   \n",
       "9338                                   1.408451                      NaN   \n",
       "9339                                   4.761905                      NaN   \n",
       "...                                         ...                      ...   \n",
       "9759                                   7.692308                      NaN   \n",
       "9760                                   0.000000                      NaN   \n",
       "9761                                  10.204082                      NaN   \n",
       "9762                                   7.692308                      NaN   \n",
       "9763                                  11.594203                      NaN   \n",
       "\n",
       "      Median Character Time (ms)  Max Character Time (ms)  \\\n",
       "9335                         NaN                      NaN   \n",
       "9336                         NaN                      NaN   \n",
       "9337                         NaN                      NaN   \n",
       "9338                         NaN                      NaN   \n",
       "9339                         NaN                      NaN   \n",
       "...                          ...                      ...   \n",
       "9759                         NaN                      NaN   \n",
       "9760                         NaN                      NaN   \n",
       "9761                         NaN                      NaN   \n",
       "9762                         NaN                      NaN   \n",
       "9763                         NaN                      NaN   \n",
       "\n",
       "      Backspace % Last 10 Avg  Backspace % Last 100 Avg  \\\n",
       "9335                      NaN                       NaN   \n",
       "9336                      NaN                       NaN   \n",
       "9337                      NaN                       NaN   \n",
       "9338                      NaN                       NaN   \n",
       "9339                      NaN                       NaN   \n",
       "...                       ...                       ...   \n",
       "9759                      NaN                       NaN   \n",
       "9760                      NaN                       NaN   \n",
       "9761                      NaN                       NaN   \n",
       "9762                      NaN                       NaN   \n",
       "9763                      NaN                       NaN   \n",
       "\n",
       "      Backspace % Last 1000 Avg  Session  Test_#_Within_Session  \\\n",
       "9335                        NaN      203                      1   \n",
       "9336                        NaN      203                      2   \n",
       "9337                        NaN      203                      3   \n",
       "9338                        NaN      203                      4   \n",
       "9339                        NaN      203                      5   \n",
       "...                         ...      ...                    ...   \n",
       "9759                        NaN      209                      8   \n",
       "9760                        NaN      209                      9   \n",
       "9761                        NaN      209                     10   \n",
       "9762                        NaN      209                     11   \n",
       "9763                        NaN      209                     12   \n",
       "\n",
       "      Incorrect Character % Last 10 Avg  Incorrect Character % Last 100 Avg  \\\n",
       "9335                           6.676314                            5.521322   \n",
       "9336                           6.901546                            5.540529   \n",
       "9337                           6.300453                            5.540529   \n",
       "9338                           5.989321                            5.501583   \n",
       "9339                           5.024833                            5.513488   \n",
       "...                                 ...                                 ...   \n",
       "9759                           6.673974                            5.184698   \n",
       "9760                           5.734377                            5.184698   \n",
       "9761                           6.384415                            5.223247   \n",
       "9762                           6.302582                            5.300170   \n",
       "9763                           7.462002                            5.346668   \n",
       "\n",
       "      Incorrect Character % Last 1000 Avg Test Version Location  \\\n",
       "9335                             7.532080           v2     home   \n",
       "9336                             7.531622           v2     home   \n",
       "9337                             7.515985           v2     home   \n",
       "9338                             7.511974           v2     home   \n",
       "9339                             7.514355           v2     home   \n",
       "...                                   ...          ...      ...   \n",
       "9759                             6.715065           v2     home   \n",
       "9760                             6.704618           v2     home   \n",
       "9761                             6.709161           v2     home   \n",
       "9762                             6.712015           v2     home   \n",
       "9763                             6.717424           v2     home   \n",
       "\n",
       "               Keyboard  Layout Caffeine  Custom_1  Custom_2  Custom_3  \\\n",
       "9335         cherry red  dvorak      yes       NaN       NaN       NaN   \n",
       "9336         cherry red  dvorak      yes       NaN       NaN       NaN   \n",
       "9337         cherry red  dvorak      yes       NaN       NaN       NaN   \n",
       "9338         cherry red  dvorak      yes       NaN       NaN       NaN   \n",
       "9339         cherry red  dvorak      yes       NaN       NaN       NaN   \n",
       "...                 ...     ...      ...       ...       ...       ...   \n",
       "9759  cherry mx2a brown  dvorak      yes       NaN       NaN       NaN   \n",
       "9760  cherry mx2a brown  dvorak      yes       NaN       NaN       NaN   \n",
       "9761  cherry mx2a brown  dvorak      yes       NaN       NaN       NaN   \n",
       "9762  cherry mx2a brown  dvorak      yes       NaN       NaN       NaN   \n",
       "9763  cherry mx2a brown  dvorak      yes       NaN       NaN       NaN   \n",
       "\n",
       "      Autostart  % of Words Typed Correctly  Extra Keystrokes %  \\\n",
       "9335        0.0                   88.235294           13.541667   \n",
       "9336        0.0                   96.551724            5.921053   \n",
       "9337        0.0                  100.000000            0.000000   \n",
       "9338        0.0                   93.333333            2.816901   \n",
       "9339        0.0                   96.000000            9.523810   \n",
       "...         ...                         ...                 ...   \n",
       "9759        0.0                   94.117647           14.102564   \n",
       "9760        0.0                  100.000000            0.000000   \n",
       "9761        0.0                   89.473684           15.306122   \n",
       "9762        0.0                   95.652174           12.820513   \n",
       "9763        0.0                   96.428571           18.115942   \n",
       "\n",
       "      Extra Keystrokes % Last 10 Avg  Extra Keystrokes % Last 100 Avg  \\\n",
       "9335                       12.194104                              NaN   \n",
       "9336                       12.315621                              NaN   \n",
       "9337                       11.168080                              NaN   \n",
       "9338                       10.376323                              NaN   \n",
       "9339                        8.701586                              NaN   \n",
       "...                              ...                              ...   \n",
       "9759                       12.015566                         8.909651   \n",
       "9760                       10.471942                         8.909651   \n",
       "9761                       11.014900                         8.951601   \n",
       "9762                       11.126739                         9.079806   \n",
       "9763                       12.938333                         9.135966   \n",
       "\n",
       "      Extra Keystrokes % Last 1000 Avg  \n",
       "9335                               NaN  \n",
       "9336                               NaN  \n",
       "9337                               NaN  \n",
       "9338                               NaN  \n",
       "9339                               NaN  \n",
       "...                                ...  \n",
       "9759                               NaN  \n",
       "9760                               NaN  \n",
       "9761                               NaN  \n",
       "9762                               NaN  \n",
       "9763                               NaN  \n",
       "\n",
       "[241 rows x 65 columns]"
      ]
     },
     "execution_count": 4,
     "metadata": {},
     "output_type": "execute_result"
    }
   ],
   "source": [
    "df_trial_results = pd.concat(\n",
    "[df_results.query(f\"Local_Start_Time > '{time_pair[0]}' \\\n",
    "& Local_Start_Time < '{time_pair[1]}'\").copy() for time_pair \n",
    "in trial_start_and_end_times_list]) # This code, for each set of timestamps\n",
    "# within trial_start_and_end_times_list, creates a copy of df_results\n",
    "# that only includes results after the first timestamp and before the second \n",
    "# one. It next combines these copies together via pd.concat().\n",
    "df_trial_results"
   ]
  },
  {
   "cell_type": "code",
   "execution_count": 5,
   "metadata": {},
   "outputs": [],
   "source": [
    "df_trial_results.to_csv(analytics_folder+'trial_results.csv', \n",
    "index = False)"
   ]
  },
  {
   "cell_type": "markdown",
   "metadata": {},
   "source": [
    "Here's an alternative version of the previous cell that uses a for loop rather than a list comprehension. It's a bit easier to interpret but requires more lines of code, so I prefer the previous version."
   ]
  },
  {
   "cell_type": "code",
   "execution_count": 6,
   "metadata": {},
   "outputs": [],
   "source": [
    "# trial_results_df_list = []\n",
    "# for time_pair in trial_start_and_end_times_list:\n",
    "#     df_selected_results = df_results.query(\n",
    "#         f\"Local_Start_Time > '{time_pair[0]}' \\\n",
    "# & Local_Start_Time < '{time_pair[1]}'\").copy()\n",
    "#     trial_results_df_list.append(df_selected_results)\n",
    "\n",
    "# df_trial_results = pd.concat([df for df in trial_results_df_list])\n",
    "# df_trial_results"
   ]
  },
  {
   "cell_type": "code",
   "execution_count": 7,
   "metadata": {},
   "outputs": [
    {
     "data": {
      "text/html": [
       "<div>\n",
       "<style scoped>\n",
       "    .dataframe tbody tr th:only-of-type {\n",
       "        vertical-align: middle;\n",
       "    }\n",
       "\n",
       "    .dataframe tbody tr th {\n",
       "        vertical-align: top;\n",
       "    }\n",
       "\n",
       "    .dataframe thead th {\n",
       "        text-align: right;\n",
       "    }\n",
       "</style>\n",
       "<table border=\"1\" class=\"dataframe\">\n",
       "  <thead>\n",
       "    <tr style=\"text-align: right;\">\n",
       "      <th></th>\n",
       "      <th>Test_Number</th>\n",
       "      <th>Unix_Start_Time</th>\n",
       "      <th>Local_Start_Time</th>\n",
       "      <th>UTC_Start_Time</th>\n",
       "      <th>Characters</th>\n",
       "      <th>Seconds</th>\n",
       "      <th>CPS</th>\n",
       "      <th>WPM</th>\n",
       "      <th>Book</th>\n",
       "      <th>Chapter</th>\n",
       "      <th>Verse_Order</th>\n",
       "      <th>Verse</th>\n",
       "      <th>Verse #</th>\n",
       "      <th>Last 10 Avg</th>\n",
       "      <th>Last 100 Avg</th>\n",
       "      <th>Last 1000 Avg</th>\n",
       "      <th>cumulative_avg</th>\n",
       "      <th>Local_Start_Year</th>\n",
       "      <th>Local_Start_Month</th>\n",
       "      <th>Local_Start_Hour</th>\n",
       "      <th>Count</th>\n",
       "      <th>Local_Start_Date</th>\n",
       "      <th>Local_Start_Minute</th>\n",
       "      <th>Local_Start_10_Minute_Block</th>\n",
       "      <th>Local_Start_15_Minute_Block</th>\n",
       "      <th>Local_Start_30_Minute_Block</th>\n",
       "      <th>Local_End_Time</th>\n",
       "      <th>Local_End_Year</th>\n",
       "      <th>Local_End_Month</th>\n",
       "      <th>Local_End_Date</th>\n",
       "      <th>Local_End_Hour</th>\n",
       "      <th>Local_End_Minute</th>\n",
       "      <th>Local_End_15_Minute_Block</th>\n",
       "      <th>Local_End_10_Minute_Block</th>\n",
       "      <th>Local_End_30_Minute_Block</th>\n",
       "      <th>Mistake_Free_Test</th>\n",
       "      <th>WPM_Rank</th>\n",
       "      <th>WPM_Percentile</th>\n",
       "      <th>Backspaces as % of Verse Length</th>\n",
       "      <th>Incorrect Characters as % of Verse Length</th>\n",
       "      <th>Min Character Time (ms)</th>\n",
       "      <th>Median Character Time (ms)</th>\n",
       "      <th>Max Character Time (ms)</th>\n",
       "      <th>Backspace % Last 10 Avg</th>\n",
       "      <th>Backspace % Last 100 Avg</th>\n",
       "      <th>Backspace % Last 1000 Avg</th>\n",
       "      <th>Session</th>\n",
       "      <th>Test_#_Within_Session</th>\n",
       "      <th>Incorrect Character % Last 10 Avg</th>\n",
       "      <th>Incorrect Character % Last 100 Avg</th>\n",
       "      <th>Incorrect Character % Last 1000 Avg</th>\n",
       "      <th>Test Version</th>\n",
       "      <th>Location</th>\n",
       "      <th>Keyboard</th>\n",
       "      <th>Layout</th>\n",
       "      <th>Caffeine</th>\n",
       "      <th>Custom_1</th>\n",
       "      <th>Custom_2</th>\n",
       "      <th>Custom_3</th>\n",
       "      <th>Autostart</th>\n",
       "      <th>% of Words Typed Correctly</th>\n",
       "      <th>Extra Keystrokes %</th>\n",
       "      <th>Extra Keystrokes % Last 10 Avg</th>\n",
       "      <th>Extra Keystrokes % Last 100 Avg</th>\n",
       "      <th>Extra Keystrokes % Last 1000 Avg</th>\n",
       "      <th>Scatter_X_Values</th>\n",
       "    </tr>\n",
       "  </thead>\n",
       "  <tbody>\n",
       "    <tr>\n",
       "      <th>0</th>\n",
       "      <td>9694</td>\n",
       "      <td>1.710601e+09</td>\n",
       "      <td>2024-03-16 10:52:20.590762</td>\n",
       "      <td>2024-03-16 14:52:20.590762+00:00</td>\n",
       "      <td>62</td>\n",
       "      <td>3.783738</td>\n",
       "      <td>16.385914</td>\n",
       "      <td>196.630971</td>\n",
       "      <td>JHN</td>\n",
       "      <td>8</td>\n",
       "      <td>30689</td>\n",
       "      <td>They didn't understand that he spoke to them a...</td>\n",
       "      <td>27.0</td>\n",
       "      <td>164.170065</td>\n",
       "      <td>142.203054</td>\n",
       "      <td>132.313095</td>\n",
       "      <td>133.321</td>\n",
       "      <td>2024</td>\n",
       "      <td>3</td>\n",
       "      <td>10</td>\n",
       "      <td>1</td>\n",
       "      <td>2024-03-16</td>\n",
       "      <td>52</td>\n",
       "      <td>6</td>\n",
       "      <td>4</td>\n",
       "      <td>2</td>\n",
       "      <td>2024-03-16 10:52:24.374499600</td>\n",
       "      <td>2024</td>\n",
       "      <td>3</td>\n",
       "      <td>2024-03-16</td>\n",
       "      <td>10</td>\n",
       "      <td>52</td>\n",
       "      <td>4</td>\n",
       "      <td>6</td>\n",
       "      <td>2</td>\n",
       "      <td>1.0</td>\n",
       "      <td>8</td>\n",
       "      <td>99.928308</td>\n",
       "      <td>0.0</td>\n",
       "      <td>0.0</td>\n",
       "      <td>NaN</td>\n",
       "      <td>NaN</td>\n",
       "      <td>NaN</td>\n",
       "      <td>NaN</td>\n",
       "      <td>NaN</td>\n",
       "      <td>NaN</td>\n",
       "      <td>208</td>\n",
       "      <td>50</td>\n",
       "      <td>2.671840</td>\n",
       "      <td>4.587106</td>\n",
       "      <td>6.850653</td>\n",
       "      <td>v2</td>\n",
       "      <td>home</td>\n",
       "      <td>cherry mx2a black</td>\n",
       "      <td>dvorak</td>\n",
       "      <td>yes</td>\n",
       "      <td>NaN</td>\n",
       "      <td>NaN</td>\n",
       "      <td>NaN</td>\n",
       "      <td>0.0</td>\n",
       "      <td>100.0</td>\n",
       "      <td>0.0</td>\n",
       "      <td>3.671861</td>\n",
       "      <td>8.153507</td>\n",
       "      <td>NaN</td>\n",
       "      <td>0</td>\n",
       "    </tr>\n",
       "    <tr>\n",
       "      <th>1</th>\n",
       "      <td>9685</td>\n",
       "      <td>1.710601e+09</td>\n",
       "      <td>2024-03-16 10:50:34.994189</td>\n",
       "      <td>2024-03-16 14:50:34.994189+00:00</td>\n",
       "      <td>84</td>\n",
       "      <td>5.304726</td>\n",
       "      <td>15.834936</td>\n",
       "      <td>190.019236</td>\n",
       "      <td>JHN</td>\n",
       "      <td>8</td>\n",
       "      <td>30680</td>\n",
       "      <td>I am one who testifies about myself, and the F...</td>\n",
       "      <td>18.0</td>\n",
       "      <td>148.974096</td>\n",
       "      <td>140.015417</td>\n",
       "      <td>132.010653</td>\n",
       "      <td>133.295</td>\n",
       "      <td>2024</td>\n",
       "      <td>3</td>\n",
       "      <td>10</td>\n",
       "      <td>1</td>\n",
       "      <td>2024-03-16</td>\n",
       "      <td>50</td>\n",
       "      <td>6</td>\n",
       "      <td>4</td>\n",
       "      <td>2</td>\n",
       "      <td>2024-03-16 10:50:40.298915100</td>\n",
       "      <td>2024</td>\n",
       "      <td>3</td>\n",
       "      <td>2024-03-16</td>\n",
       "      <td>10</td>\n",
       "      <td>50</td>\n",
       "      <td>4</td>\n",
       "      <td>6</td>\n",
       "      <td>2</td>\n",
       "      <td>1.0</td>\n",
       "      <td>16</td>\n",
       "      <td>99.846374</td>\n",
       "      <td>0.0</td>\n",
       "      <td>0.0</td>\n",
       "      <td>NaN</td>\n",
       "      <td>NaN</td>\n",
       "      <td>NaN</td>\n",
       "      <td>NaN</td>\n",
       "      <td>NaN</td>\n",
       "      <td>NaN</td>\n",
       "      <td>208</td>\n",
       "      <td>41</td>\n",
       "      <td>3.413567</td>\n",
       "      <td>4.716992</td>\n",
       "      <td>6.883005</td>\n",
       "      <td>v2</td>\n",
       "      <td>home</td>\n",
       "      <td>cherry mx2a black</td>\n",
       "      <td>dvorak</td>\n",
       "      <td>yes</td>\n",
       "      <td>NaN</td>\n",
       "      <td>NaN</td>\n",
       "      <td>NaN</td>\n",
       "      <td>0.0</td>\n",
       "      <td>100.0</td>\n",
       "      <td>0.0</td>\n",
       "      <td>5.228614</td>\n",
       "      <td>8.522203</td>\n",
       "      <td>NaN</td>\n",
       "      <td>1</td>\n",
       "    </tr>\n",
       "    <tr>\n",
       "      <th>2</th>\n",
       "      <td>9349</td>\n",
       "      <td>1.710171e+09</td>\n",
       "      <td>2024-03-11 11:30:12.296669</td>\n",
       "      <td>2024-03-11 15:30:12.296669+00:00</td>\n",
       "      <td>100</td>\n",
       "      <td>6.586644</td>\n",
       "      <td>15.182239</td>\n",
       "      <td>182.186865</td>\n",
       "      <td>JHN</td>\n",
       "      <td>5</td>\n",
       "      <td>30523</td>\n",
       "      <td>It is another who testifies about me. I know t...</td>\n",
       "      <td>32.0</td>\n",
       "      <td>148.742679</td>\n",
       "      <td>139.995001</td>\n",
       "      <td>129.153923</td>\n",
       "      <td>133.073</td>\n",
       "      <td>2024</td>\n",
       "      <td>3</td>\n",
       "      <td>11</td>\n",
       "      <td>1</td>\n",
       "      <td>2024-03-11</td>\n",
       "      <td>30</td>\n",
       "      <td>4</td>\n",
       "      <td>3</td>\n",
       "      <td>2</td>\n",
       "      <td>2024-03-11 11:30:18.883312900</td>\n",
       "      <td>2024</td>\n",
       "      <td>3</td>\n",
       "      <td>2024-03-11</td>\n",
       "      <td>11</td>\n",
       "      <td>30</td>\n",
       "      <td>3</td>\n",
       "      <td>4</td>\n",
       "      <td>2</td>\n",
       "      <td>1.0</td>\n",
       "      <td>46</td>\n",
       "      <td>99.539123</td>\n",
       "      <td>0.0</td>\n",
       "      <td>0.0</td>\n",
       "      <td>NaN</td>\n",
       "      <td>NaN</td>\n",
       "      <td>NaN</td>\n",
       "      <td>NaN</td>\n",
       "      <td>NaN</td>\n",
       "      <td>NaN</td>\n",
       "      <td>203</td>\n",
       "      <td>14</td>\n",
       "      <td>3.738254</td>\n",
       "      <td>5.286069</td>\n",
       "      <td>7.460851</td>\n",
       "      <td>v2</td>\n",
       "      <td>home</td>\n",
       "      <td>cherry mx2a brown</td>\n",
       "      <td>dvorak</td>\n",
       "      <td>yes</td>\n",
       "      <td>NaN</td>\n",
       "      <td>NaN</td>\n",
       "      <td>NaN</td>\n",
       "      <td>0.0</td>\n",
       "      <td>100.0</td>\n",
       "      <td>0.0</td>\n",
       "      <td>7.207516</td>\n",
       "      <td>NaN</td>\n",
       "      <td>NaN</td>\n",
       "      <td>2</td>\n",
       "    </tr>\n",
       "    <tr>\n",
       "      <th>3</th>\n",
       "      <td>9663</td>\n",
       "      <td>1.710600e+09</td>\n",
       "      <td>2024-03-16 10:45:34.934465</td>\n",
       "      <td>2024-03-16 14:45:34.934465+00:00</td>\n",
       "      <td>56</td>\n",
       "      <td>3.704110</td>\n",
       "      <td>15.118342</td>\n",
       "      <td>181.420103</td>\n",
       "      <td>JHN</td>\n",
       "      <td>7</td>\n",
       "      <td>30658</td>\n",
       "      <td>But this multitude that doesn't know the law i...</td>\n",
       "      <td>49.0</td>\n",
       "      <td>146.595914</td>\n",
       "      <td>136.034084</td>\n",
       "      <td>131.467590</td>\n",
       "      <td>133.263</td>\n",
       "      <td>2024</td>\n",
       "      <td>3</td>\n",
       "      <td>10</td>\n",
       "      <td>1</td>\n",
       "      <td>2024-03-16</td>\n",
       "      <td>45</td>\n",
       "      <td>5</td>\n",
       "      <td>4</td>\n",
       "      <td>2</td>\n",
       "      <td>2024-03-16 10:45:38.638574900</td>\n",
       "      <td>2024</td>\n",
       "      <td>3</td>\n",
       "      <td>2024-03-16</td>\n",
       "      <td>10</td>\n",
       "      <td>45</td>\n",
       "      <td>4</td>\n",
       "      <td>5</td>\n",
       "      <td>2</td>\n",
       "      <td>1.0</td>\n",
       "      <td>57</td>\n",
       "      <td>99.426465</td>\n",
       "      <td>0.0</td>\n",
       "      <td>0.0</td>\n",
       "      <td>NaN</td>\n",
       "      <td>NaN</td>\n",
       "      <td>NaN</td>\n",
       "      <td>NaN</td>\n",
       "      <td>NaN</td>\n",
       "      <td>NaN</td>\n",
       "      <td>208</td>\n",
       "      <td>19</td>\n",
       "      <td>4.326600</td>\n",
       "      <td>5.478075</td>\n",
       "      <td>6.929890</td>\n",
       "      <td>v2</td>\n",
       "      <td>home</td>\n",
       "      <td>cherry mx2a black</td>\n",
       "      <td>dvorak</td>\n",
       "      <td>yes</td>\n",
       "      <td>NaN</td>\n",
       "      <td>NaN</td>\n",
       "      <td>NaN</td>\n",
       "      <td>0.0</td>\n",
       "      <td>100.0</td>\n",
       "      <td>0.0</td>\n",
       "      <td>8.941120</td>\n",
       "      <td>9.919648</td>\n",
       "      <td>NaN</td>\n",
       "      <td>3</td>\n",
       "    </tr>\n",
       "    <tr>\n",
       "      <th>4</th>\n",
       "      <td>9693</td>\n",
       "      <td>1.710601e+09</td>\n",
       "      <td>2024-03-16 10:52:07.491163</td>\n",
       "      <td>2024-03-16 14:52:07.491163+00:00</td>\n",
       "      <td>155</td>\n",
       "      <td>10.501553</td>\n",
       "      <td>14.759721</td>\n",
       "      <td>177.116657</td>\n",
       "      <td>JHN</td>\n",
       "      <td>8</td>\n",
       "      <td>30688</td>\n",
       "      <td>I have many things to speak and to judge conce...</td>\n",
       "      <td>26.0</td>\n",
       "      <td>157.376027</td>\n",
       "      <td>141.505103</td>\n",
       "      <td>132.232886</td>\n",
       "      <td>133.314</td>\n",
       "      <td>2024</td>\n",
       "      <td>3</td>\n",
       "      <td>10</td>\n",
       "      <td>1</td>\n",
       "      <td>2024-03-16</td>\n",
       "      <td>52</td>\n",
       "      <td>6</td>\n",
       "      <td>4</td>\n",
       "      <td>2</td>\n",
       "      <td>2024-03-16 10:52:17.992716200</td>\n",
       "      <td>2024</td>\n",
       "      <td>3</td>\n",
       "      <td>2024-03-16</td>\n",
       "      <td>10</td>\n",
       "      <td>52</td>\n",
       "      <td>4</td>\n",
       "      <td>6</td>\n",
       "      <td>2</td>\n",
       "      <td>1.0</td>\n",
       "      <td>119</td>\n",
       "      <td>98.791479</td>\n",
       "      <td>0.0</td>\n",
       "      <td>0.0</td>\n",
       "      <td>NaN</td>\n",
       "      <td>NaN</td>\n",
       "      <td>NaN</td>\n",
       "      <td>NaN</td>\n",
       "      <td>NaN</td>\n",
       "      <td>NaN</td>\n",
       "      <td>208</td>\n",
       "      <td>49</td>\n",
       "      <td>3.782952</td>\n",
       "      <td>4.668739</td>\n",
       "      <td>6.863948</td>\n",
       "      <td>v2</td>\n",
       "      <td>home</td>\n",
       "      <td>cherry mx2a black</td>\n",
       "      <td>dvorak</td>\n",
       "      <td>yes</td>\n",
       "      <td>NaN</td>\n",
       "      <td>NaN</td>\n",
       "      <td>NaN</td>\n",
       "      <td>0.0</td>\n",
       "      <td>100.0</td>\n",
       "      <td>0.0</td>\n",
       "      <td>5.338528</td>\n",
       "      <td>8.296364</td>\n",
       "      <td>NaN</td>\n",
       "      <td>4</td>\n",
       "    </tr>\n",
       "    <tr>\n",
       "      <th>...</th>\n",
       "      <td>...</td>\n",
       "      <td>...</td>\n",
       "      <td>...</td>\n",
       "      <td>...</td>\n",
       "      <td>...</td>\n",
       "      <td>...</td>\n",
       "      <td>...</td>\n",
       "      <td>...</td>\n",
       "      <td>...</td>\n",
       "      <td>...</td>\n",
       "      <td>...</td>\n",
       "      <td>...</td>\n",
       "      <td>...</td>\n",
       "      <td>...</td>\n",
       "      <td>...</td>\n",
       "      <td>...</td>\n",
       "      <td>...</td>\n",
       "      <td>...</td>\n",
       "      <td>...</td>\n",
       "      <td>...</td>\n",
       "      <td>...</td>\n",
       "      <td>...</td>\n",
       "      <td>...</td>\n",
       "      <td>...</td>\n",
       "      <td>...</td>\n",
       "      <td>...</td>\n",
       "      <td>...</td>\n",
       "      <td>...</td>\n",
       "      <td>...</td>\n",
       "      <td>...</td>\n",
       "      <td>...</td>\n",
       "      <td>...</td>\n",
       "      <td>...</td>\n",
       "      <td>...</td>\n",
       "      <td>...</td>\n",
       "      <td>...</td>\n",
       "      <td>...</td>\n",
       "      <td>...</td>\n",
       "      <td>...</td>\n",
       "      <td>...</td>\n",
       "      <td>...</td>\n",
       "      <td>...</td>\n",
       "      <td>...</td>\n",
       "      <td>...</td>\n",
       "      <td>...</td>\n",
       "      <td>...</td>\n",
       "      <td>...</td>\n",
       "      <td>...</td>\n",
       "      <td>...</td>\n",
       "      <td>...</td>\n",
       "      <td>...</td>\n",
       "      <td>...</td>\n",
       "      <td>...</td>\n",
       "      <td>...</td>\n",
       "      <td>...</td>\n",
       "      <td>...</td>\n",
       "      <td>...</td>\n",
       "      <td>...</td>\n",
       "      <td>...</td>\n",
       "      <td>...</td>\n",
       "      <td>...</td>\n",
       "      <td>...</td>\n",
       "      <td>...</td>\n",
       "      <td>...</td>\n",
       "      <td>...</td>\n",
       "      <td>...</td>\n",
       "    </tr>\n",
       "    <tr>\n",
       "      <th>56</th>\n",
       "      <td>9682</td>\n",
       "      <td>1.710601e+09</td>\n",
       "      <td>2024-03-16 10:49:27.328572</td>\n",
       "      <td>2024-03-16 14:49:27.328572+00:00</td>\n",
       "      <td>49</td>\n",
       "      <td>4.034740</td>\n",
       "      <td>12.144524</td>\n",
       "      <td>145.734287</td>\n",
       "      <td>JHN</td>\n",
       "      <td>8</td>\n",
       "      <td>30677</td>\n",
       "      <td>You judge according to the flesh. I judge no one.</td>\n",
       "      <td>15.0</td>\n",
       "      <td>148.901273</td>\n",
       "      <td>139.330435</td>\n",
       "      <td>131.947453</td>\n",
       "      <td>133.290</td>\n",
       "      <td>2024</td>\n",
       "      <td>3</td>\n",
       "      <td>10</td>\n",
       "      <td>1</td>\n",
       "      <td>2024-03-16</td>\n",
       "      <td>49</td>\n",
       "      <td>5</td>\n",
       "      <td>4</td>\n",
       "      <td>2</td>\n",
       "      <td>2024-03-16 10:49:31.363312300</td>\n",
       "      <td>2024</td>\n",
       "      <td>3</td>\n",
       "      <td>2024-03-16</td>\n",
       "      <td>10</td>\n",
       "      <td>49</td>\n",
       "      <td>4</td>\n",
       "      <td>5</td>\n",
       "      <td>2</td>\n",
       "      <td>1.0</td>\n",
       "      <td>2785</td>\n",
       "      <td>71.487095</td>\n",
       "      <td>0.0</td>\n",
       "      <td>0.0</td>\n",
       "      <td>NaN</td>\n",
       "      <td>NaN</td>\n",
       "      <td>NaN</td>\n",
       "      <td>NaN</td>\n",
       "      <td>NaN</td>\n",
       "      <td>NaN</td>\n",
       "      <td>208</td>\n",
       "      <td>38</td>\n",
       "      <td>2.911779</td>\n",
       "      <td>4.779664</td>\n",
       "      <td>6.882081</td>\n",
       "      <td>v2</td>\n",
       "      <td>home</td>\n",
       "      <td>cherry red</td>\n",
       "      <td>dvorak</td>\n",
       "      <td>yes</td>\n",
       "      <td>NaN</td>\n",
       "      <td>NaN</td>\n",
       "      <td>NaN</td>\n",
       "      <td>0.0</td>\n",
       "      <td>100.0</td>\n",
       "      <td>0.0</td>\n",
       "      <td>5.016315</td>\n",
       "      <td>8.694154</td>\n",
       "      <td>NaN</td>\n",
       "      <td>1</td>\n",
       "    </tr>\n",
       "    <tr>\n",
       "      <th>57</th>\n",
       "      <td>9678</td>\n",
       "      <td>1.710601e+09</td>\n",
       "      <td>2024-03-16 10:48:39.227534</td>\n",
       "      <td>2024-03-16 14:48:39.227534+00:00</td>\n",
       "      <td>104</td>\n",
       "      <td>8.614590</td>\n",
       "      <td>12.072542</td>\n",
       "      <td>144.870510</td>\n",
       "      <td>JHN</td>\n",
       "      <td>8</td>\n",
       "      <td>30673</td>\n",
       "      <td>She said, \"No one, Lord.\" Jesus said, \"Neither...</td>\n",
       "      <td>11.0</td>\n",
       "      <td>148.977429</td>\n",
       "      <td>138.139506</td>\n",
       "      <td>131.856624</td>\n",
       "      <td>133.283</td>\n",
       "      <td>2024</td>\n",
       "      <td>3</td>\n",
       "      <td>10</td>\n",
       "      <td>1</td>\n",
       "      <td>2024-03-16</td>\n",
       "      <td>48</td>\n",
       "      <td>5</td>\n",
       "      <td>4</td>\n",
       "      <td>2</td>\n",
       "      <td>2024-03-16 10:48:47.842123700</td>\n",
       "      <td>2024</td>\n",
       "      <td>3</td>\n",
       "      <td>2024-03-16</td>\n",
       "      <td>10</td>\n",
       "      <td>48</td>\n",
       "      <td>4</td>\n",
       "      <td>5</td>\n",
       "      <td>2</td>\n",
       "      <td>1.0</td>\n",
       "      <td>2922</td>\n",
       "      <td>70.083982</td>\n",
       "      <td>0.0</td>\n",
       "      <td>0.0</td>\n",
       "      <td>NaN</td>\n",
       "      <td>NaN</td>\n",
       "      <td>NaN</td>\n",
       "      <td>NaN</td>\n",
       "      <td>NaN</td>\n",
       "      <td>NaN</td>\n",
       "      <td>208</td>\n",
       "      <td>34</td>\n",
       "      <td>3.754409</td>\n",
       "      <td>5.092757</td>\n",
       "      <td>6.894502</td>\n",
       "      <td>v2</td>\n",
       "      <td>home</td>\n",
       "      <td>cherry red</td>\n",
       "      <td>dvorak</td>\n",
       "      <td>yes</td>\n",
       "      <td>NaN</td>\n",
       "      <td>NaN</td>\n",
       "      <td>NaN</td>\n",
       "      <td>0.0</td>\n",
       "      <td>100.0</td>\n",
       "      <td>0.0</td>\n",
       "      <td>6.912101</td>\n",
       "      <td>9.211513</td>\n",
       "      <td>NaN</td>\n",
       "      <td>2</td>\n",
       "    </tr>\n",
       "    <tr>\n",
       "      <th>58</th>\n",
       "      <td>9738</td>\n",
       "      <td>1.710601e+09</td>\n",
       "      <td>2024-03-16 11:03:45.956088</td>\n",
       "      <td>2024-03-16 15:03:45.956088+00:00</td>\n",
       "      <td>60</td>\n",
       "      <td>5.065754</td>\n",
       "      <td>11.844239</td>\n",
       "      <td>142.130865</td>\n",
       "      <td>JHN</td>\n",
       "      <td>9</td>\n",
       "      <td>30733</td>\n",
       "      <td>Then they asked him, \"Where is he?\" He said, \"...</td>\n",
       "      <td>12.0</td>\n",
       "      <td>141.332413</td>\n",
       "      <td>145.707360</td>\n",
       "      <td>133.396706</td>\n",
       "      <td>133.367</td>\n",
       "      <td>2024</td>\n",
       "      <td>3</td>\n",
       "      <td>11</td>\n",
       "      <td>1</td>\n",
       "      <td>2024-03-16</td>\n",
       "      <td>3</td>\n",
       "      <td>1</td>\n",
       "      <td>1</td>\n",
       "      <td>1</td>\n",
       "      <td>2024-03-16 11:03:51.021842000</td>\n",
       "      <td>2024</td>\n",
       "      <td>3</td>\n",
       "      <td>2024-03-16</td>\n",
       "      <td>11</td>\n",
       "      <td>3</td>\n",
       "      <td>1</td>\n",
       "      <td>1</td>\n",
       "      <td>1</td>\n",
       "      <td>1.0</td>\n",
       "      <td>3407</td>\n",
       "      <td>65.116755</td>\n",
       "      <td>0.0</td>\n",
       "      <td>0.0</td>\n",
       "      <td>NaN</td>\n",
       "      <td>NaN</td>\n",
       "      <td>NaN</td>\n",
       "      <td>NaN</td>\n",
       "      <td>NaN</td>\n",
       "      <td>NaN</td>\n",
       "      <td>208</td>\n",
       "      <td>94</td>\n",
       "      <td>4.920957</td>\n",
       "      <td>4.903440</td>\n",
       "      <td>6.700241</td>\n",
       "      <td>v2</td>\n",
       "      <td>home</td>\n",
       "      <td>cherry red</td>\n",
       "      <td>dvorak</td>\n",
       "      <td>yes</td>\n",
       "      <td>NaN</td>\n",
       "      <td>NaN</td>\n",
       "      <td>NaN</td>\n",
       "      <td>0.0</td>\n",
       "      <td>100.0</td>\n",
       "      <td>0.0</td>\n",
       "      <td>9.043629</td>\n",
       "      <td>8.584934</td>\n",
       "      <td>NaN</td>\n",
       "      <td>3</td>\n",
       "    </tr>\n",
       "    <tr>\n",
       "      <th>59</th>\n",
       "      <td>9761</td>\n",
       "      <td>1.710602e+09</td>\n",
       "      <td>2024-03-16 11:17:49.846090</td>\n",
       "      <td>2024-03-16 15:17:49.846090+00:00</td>\n",
       "      <td>49</td>\n",
       "      <td>4.263457</td>\n",
       "      <td>11.493020</td>\n",
       "      <td>137.916243</td>\n",
       "      <td>JHN</td>\n",
       "      <td>9</td>\n",
       "      <td>30759</td>\n",
       "      <td>He said, \"Lord, I believe!\" and he worshiped him.</td>\n",
       "      <td>38.0</td>\n",
       "      <td>136.406688</td>\n",
       "      <td>144.900494</td>\n",
       "      <td>133.620118</td>\n",
       "      <td>133.377</td>\n",
       "      <td>2024</td>\n",
       "      <td>3</td>\n",
       "      <td>11</td>\n",
       "      <td>1</td>\n",
       "      <td>2024-03-16</td>\n",
       "      <td>17</td>\n",
       "      <td>2</td>\n",
       "      <td>2</td>\n",
       "      <td>1</td>\n",
       "      <td>2024-03-16 11:17:54.109547200</td>\n",
       "      <td>2024</td>\n",
       "      <td>3</td>\n",
       "      <td>2024-03-16</td>\n",
       "      <td>11</td>\n",
       "      <td>17</td>\n",
       "      <td>2</td>\n",
       "      <td>2</td>\n",
       "      <td>1</td>\n",
       "      <td>1.0</td>\n",
       "      <td>4169</td>\n",
       "      <td>57.312577</td>\n",
       "      <td>0.0</td>\n",
       "      <td>0.0</td>\n",
       "      <td>NaN</td>\n",
       "      <td>NaN</td>\n",
       "      <td>NaN</td>\n",
       "      <td>NaN</td>\n",
       "      <td>NaN</td>\n",
       "      <td>NaN</td>\n",
       "      <td>209</td>\n",
       "      <td>9</td>\n",
       "      <td>5.734377</td>\n",
       "      <td>5.184698</td>\n",
       "      <td>6.704618</td>\n",
       "      <td>v2</td>\n",
       "      <td>home</td>\n",
       "      <td>cherry mx2a brown</td>\n",
       "      <td>dvorak</td>\n",
       "      <td>yes</td>\n",
       "      <td>NaN</td>\n",
       "      <td>NaN</td>\n",
       "      <td>NaN</td>\n",
       "      <td>0.0</td>\n",
       "      <td>100.0</td>\n",
       "      <td>0.0</td>\n",
       "      <td>10.471942</td>\n",
       "      <td>8.909651</td>\n",
       "      <td>NaN</td>\n",
       "      <td>4</td>\n",
       "    </tr>\n",
       "    <tr>\n",
       "      <th>60</th>\n",
       "      <td>9660</td>\n",
       "      <td>1.710600e+09</td>\n",
       "      <td>2024-03-16 10:45:15.276342</td>\n",
       "      <td>2024-03-16 14:45:15.276342+00:00</td>\n",
       "      <td>57</td>\n",
       "      <td>5.107163</td>\n",
       "      <td>11.160795</td>\n",
       "      <td>133.929539</td>\n",
       "      <td>JHN</td>\n",
       "      <td>7</td>\n",
       "      <td>30655</td>\n",
       "      <td>The officers answered, \"No man ever spoke like...</td>\n",
       "      <td>46.0</td>\n",
       "      <td>142.307777</td>\n",
       "      <td>135.703199</td>\n",
       "      <td>131.415474</td>\n",
       "      <td>133.256</td>\n",
       "      <td>2024</td>\n",
       "      <td>3</td>\n",
       "      <td>10</td>\n",
       "      <td>1</td>\n",
       "      <td>2024-03-16</td>\n",
       "      <td>45</td>\n",
       "      <td>5</td>\n",
       "      <td>4</td>\n",
       "      <td>2</td>\n",
       "      <td>2024-03-16 10:45:20.383505100</td>\n",
       "      <td>2024</td>\n",
       "      <td>3</td>\n",
       "      <td>2024-03-16</td>\n",
       "      <td>10</td>\n",
       "      <td>45</td>\n",
       "      <td>4</td>\n",
       "      <td>5</td>\n",
       "      <td>2</td>\n",
       "      <td>1.0</td>\n",
       "      <td>4881</td>\n",
       "      <td>50.020483</td>\n",
       "      <td>0.0</td>\n",
       "      <td>0.0</td>\n",
       "      <td>NaN</td>\n",
       "      <td>NaN</td>\n",
       "      <td>NaN</td>\n",
       "      <td>NaN</td>\n",
       "      <td>NaN</td>\n",
       "      <td>NaN</td>\n",
       "      <td>208</td>\n",
       "      <td>16</td>\n",
       "      <td>6.144060</td>\n",
       "      <td>5.486878</td>\n",
       "      <td>6.927315</td>\n",
       "      <td>v2</td>\n",
       "      <td>home</td>\n",
       "      <td>cherry mx2a black</td>\n",
       "      <td>dvorak</td>\n",
       "      <td>yes</td>\n",
       "      <td>NaN</td>\n",
       "      <td>NaN</td>\n",
       "      <td>NaN</td>\n",
       "      <td>0.0</td>\n",
       "      <td>100.0</td>\n",
       "      <td>0.0</td>\n",
       "      <td>11.299850</td>\n",
       "      <td>9.953128</td>\n",
       "      <td>NaN</td>\n",
       "      <td>0</td>\n",
       "    </tr>\n",
       "  </tbody>\n",
       "</table>\n",
       "<p>61 rows × 66 columns</p>\n",
       "</div>"
      ],
      "text/plain": [
       "    Test_Number  Unix_Start_Time            Local_Start_Time  \\\n",
       "0          9694     1.710601e+09  2024-03-16 10:52:20.590762   \n",
       "1          9685     1.710601e+09  2024-03-16 10:50:34.994189   \n",
       "2          9349     1.710171e+09  2024-03-11 11:30:12.296669   \n",
       "3          9663     1.710600e+09  2024-03-16 10:45:34.934465   \n",
       "4          9693     1.710601e+09  2024-03-16 10:52:07.491163   \n",
       "..          ...              ...                         ...   \n",
       "56         9682     1.710601e+09  2024-03-16 10:49:27.328572   \n",
       "57         9678     1.710601e+09  2024-03-16 10:48:39.227534   \n",
       "58         9738     1.710601e+09  2024-03-16 11:03:45.956088   \n",
       "59         9761     1.710602e+09  2024-03-16 11:17:49.846090   \n",
       "60         9660     1.710600e+09  2024-03-16 10:45:15.276342   \n",
       "\n",
       "                      UTC_Start_Time  Characters    Seconds        CPS  \\\n",
       "0   2024-03-16 14:52:20.590762+00:00          62   3.783738  16.385914   \n",
       "1   2024-03-16 14:50:34.994189+00:00          84   5.304726  15.834936   \n",
       "2   2024-03-11 15:30:12.296669+00:00         100   6.586644  15.182239   \n",
       "3   2024-03-16 14:45:34.934465+00:00          56   3.704110  15.118342   \n",
       "4   2024-03-16 14:52:07.491163+00:00         155  10.501553  14.759721   \n",
       "..                               ...         ...        ...        ...   \n",
       "56  2024-03-16 14:49:27.328572+00:00          49   4.034740  12.144524   \n",
       "57  2024-03-16 14:48:39.227534+00:00         104   8.614590  12.072542   \n",
       "58  2024-03-16 15:03:45.956088+00:00          60   5.065754  11.844239   \n",
       "59  2024-03-16 15:17:49.846090+00:00          49   4.263457  11.493020   \n",
       "60  2024-03-16 14:45:15.276342+00:00          57   5.107163  11.160795   \n",
       "\n",
       "           WPM Book  Chapter  Verse_Order  \\\n",
       "0   196.630971  JHN        8        30689   \n",
       "1   190.019236  JHN        8        30680   \n",
       "2   182.186865  JHN        5        30523   \n",
       "3   181.420103  JHN        7        30658   \n",
       "4   177.116657  JHN        8        30688   \n",
       "..         ...  ...      ...          ...   \n",
       "56  145.734287  JHN        8        30677   \n",
       "57  144.870510  JHN        8        30673   \n",
       "58  142.130865  JHN        9        30733   \n",
       "59  137.916243  JHN        9        30759   \n",
       "60  133.929539  JHN        7        30655   \n",
       "\n",
       "                                                Verse  Verse #  Last 10 Avg  \\\n",
       "0   They didn't understand that he spoke to them a...     27.0   164.170065   \n",
       "1   I am one who testifies about myself, and the F...     18.0   148.974096   \n",
       "2   It is another who testifies about me. I know t...     32.0   148.742679   \n",
       "3   But this multitude that doesn't know the law i...     49.0   146.595914   \n",
       "4   I have many things to speak and to judge conce...     26.0   157.376027   \n",
       "..                                                ...      ...          ...   \n",
       "56  You judge according to the flesh. I judge no one.     15.0   148.901273   \n",
       "57  She said, \"No one, Lord.\" Jesus said, \"Neither...     11.0   148.977429   \n",
       "58  Then they asked him, \"Where is he?\" He said, \"...     12.0   141.332413   \n",
       "59  He said, \"Lord, I believe!\" and he worshiped him.     38.0   136.406688   \n",
       "60  The officers answered, \"No man ever spoke like...     46.0   142.307777   \n",
       "\n",
       "    Last 100 Avg  Last 1000 Avg  cumulative_avg  Local_Start_Year  \\\n",
       "0     142.203054     132.313095         133.321              2024   \n",
       "1     140.015417     132.010653         133.295              2024   \n",
       "2     139.995001     129.153923         133.073              2024   \n",
       "3     136.034084     131.467590         133.263              2024   \n",
       "4     141.505103     132.232886         133.314              2024   \n",
       "..           ...            ...             ...               ...   \n",
       "56    139.330435     131.947453         133.290              2024   \n",
       "57    138.139506     131.856624         133.283              2024   \n",
       "58    145.707360     133.396706         133.367              2024   \n",
       "59    144.900494     133.620118         133.377              2024   \n",
       "60    135.703199     131.415474         133.256              2024   \n",
       "\n",
       "    Local_Start_Month  Local_Start_Hour  Count Local_Start_Date  \\\n",
       "0                   3                10      1       2024-03-16   \n",
       "1                   3                10      1       2024-03-16   \n",
       "2                   3                11      1       2024-03-11   \n",
       "3                   3                10      1       2024-03-16   \n",
       "4                   3                10      1       2024-03-16   \n",
       "..                ...               ...    ...              ...   \n",
       "56                  3                10      1       2024-03-16   \n",
       "57                  3                10      1       2024-03-16   \n",
       "58                  3                11      1       2024-03-16   \n",
       "59                  3                11      1       2024-03-16   \n",
       "60                  3                10      1       2024-03-16   \n",
       "\n",
       "    Local_Start_Minute  Local_Start_10_Minute_Block  \\\n",
       "0                   52                            6   \n",
       "1                   50                            6   \n",
       "2                   30                            4   \n",
       "3                   45                            5   \n",
       "4                   52                            6   \n",
       "..                 ...                          ...   \n",
       "56                  49                            5   \n",
       "57                  48                            5   \n",
       "58                   3                            1   \n",
       "59                  17                            2   \n",
       "60                  45                            5   \n",
       "\n",
       "    Local_Start_15_Minute_Block  Local_Start_30_Minute_Block  \\\n",
       "0                             4                            2   \n",
       "1                             4                            2   \n",
       "2                             3                            2   \n",
       "3                             4                            2   \n",
       "4                             4                            2   \n",
       "..                          ...                          ...   \n",
       "56                            4                            2   \n",
       "57                            4                            2   \n",
       "58                            1                            1   \n",
       "59                            2                            1   \n",
       "60                            4                            2   \n",
       "\n",
       "                   Local_End_Time  Local_End_Year  Local_End_Month  \\\n",
       "0   2024-03-16 10:52:24.374499600            2024                3   \n",
       "1   2024-03-16 10:50:40.298915100            2024                3   \n",
       "2   2024-03-11 11:30:18.883312900            2024                3   \n",
       "3   2024-03-16 10:45:38.638574900            2024                3   \n",
       "4   2024-03-16 10:52:17.992716200            2024                3   \n",
       "..                            ...             ...              ...   \n",
       "56  2024-03-16 10:49:31.363312300            2024                3   \n",
       "57  2024-03-16 10:48:47.842123700            2024                3   \n",
       "58  2024-03-16 11:03:51.021842000            2024                3   \n",
       "59  2024-03-16 11:17:54.109547200            2024                3   \n",
       "60  2024-03-16 10:45:20.383505100            2024                3   \n",
       "\n",
       "   Local_End_Date  Local_End_Hour  Local_End_Minute  \\\n",
       "0      2024-03-16              10                52   \n",
       "1      2024-03-16              10                50   \n",
       "2      2024-03-11              11                30   \n",
       "3      2024-03-16              10                45   \n",
       "4      2024-03-16              10                52   \n",
       "..            ...             ...               ...   \n",
       "56     2024-03-16              10                49   \n",
       "57     2024-03-16              10                48   \n",
       "58     2024-03-16              11                 3   \n",
       "59     2024-03-16              11                17   \n",
       "60     2024-03-16              10                45   \n",
       "\n",
       "    Local_End_15_Minute_Block  Local_End_10_Minute_Block  \\\n",
       "0                           4                          6   \n",
       "1                           4                          6   \n",
       "2                           3                          4   \n",
       "3                           4                          5   \n",
       "4                           4                          6   \n",
       "..                        ...                        ...   \n",
       "56                          4                          5   \n",
       "57                          4                          5   \n",
       "58                          1                          1   \n",
       "59                          2                          2   \n",
       "60                          4                          5   \n",
       "\n",
       "    Local_End_30_Minute_Block  Mistake_Free_Test  WPM_Rank  WPM_Percentile  \\\n",
       "0                           2                1.0         8       99.928308   \n",
       "1                           2                1.0        16       99.846374   \n",
       "2                           2                1.0        46       99.539123   \n",
       "3                           2                1.0        57       99.426465   \n",
       "4                           2                1.0       119       98.791479   \n",
       "..                        ...                ...       ...             ...   \n",
       "56                          2                1.0      2785       71.487095   \n",
       "57                          2                1.0      2922       70.083982   \n",
       "58                          1                1.0      3407       65.116755   \n",
       "59                          1                1.0      4169       57.312577   \n",
       "60                          2                1.0      4881       50.020483   \n",
       "\n",
       "    Backspaces as % of Verse Length  \\\n",
       "0                               0.0   \n",
       "1                               0.0   \n",
       "2                               0.0   \n",
       "3                               0.0   \n",
       "4                               0.0   \n",
       "..                              ...   \n",
       "56                              0.0   \n",
       "57                              0.0   \n",
       "58                              0.0   \n",
       "59                              0.0   \n",
       "60                              0.0   \n",
       "\n",
       "    Incorrect Characters as % of Verse Length  Min Character Time (ms)  \\\n",
       "0                                         0.0                      NaN   \n",
       "1                                         0.0                      NaN   \n",
       "2                                         0.0                      NaN   \n",
       "3                                         0.0                      NaN   \n",
       "4                                         0.0                      NaN   \n",
       "..                                        ...                      ...   \n",
       "56                                        0.0                      NaN   \n",
       "57                                        0.0                      NaN   \n",
       "58                                        0.0                      NaN   \n",
       "59                                        0.0                      NaN   \n",
       "60                                        0.0                      NaN   \n",
       "\n",
       "    Median Character Time (ms)  Max Character Time (ms)  \\\n",
       "0                          NaN                      NaN   \n",
       "1                          NaN                      NaN   \n",
       "2                          NaN                      NaN   \n",
       "3                          NaN                      NaN   \n",
       "4                          NaN                      NaN   \n",
       "..                         ...                      ...   \n",
       "56                         NaN                      NaN   \n",
       "57                         NaN                      NaN   \n",
       "58                         NaN                      NaN   \n",
       "59                         NaN                      NaN   \n",
       "60                         NaN                      NaN   \n",
       "\n",
       "    Backspace % Last 10 Avg  Backspace % Last 100 Avg  \\\n",
       "0                       NaN                       NaN   \n",
       "1                       NaN                       NaN   \n",
       "2                       NaN                       NaN   \n",
       "3                       NaN                       NaN   \n",
       "4                       NaN                       NaN   \n",
       "..                      ...                       ...   \n",
       "56                      NaN                       NaN   \n",
       "57                      NaN                       NaN   \n",
       "58                      NaN                       NaN   \n",
       "59                      NaN                       NaN   \n",
       "60                      NaN                       NaN   \n",
       "\n",
       "    Backspace % Last 1000 Avg  Session  Test_#_Within_Session  \\\n",
       "0                         NaN      208                     50   \n",
       "1                         NaN      208                     41   \n",
       "2                         NaN      203                     14   \n",
       "3                         NaN      208                     19   \n",
       "4                         NaN      208                     49   \n",
       "..                        ...      ...                    ...   \n",
       "56                        NaN      208                     38   \n",
       "57                        NaN      208                     34   \n",
       "58                        NaN      208                     94   \n",
       "59                        NaN      209                      9   \n",
       "60                        NaN      208                     16   \n",
       "\n",
       "    Incorrect Character % Last 10 Avg  Incorrect Character % Last 100 Avg  \\\n",
       "0                            2.671840                            4.587106   \n",
       "1                            3.413567                            4.716992   \n",
       "2                            3.738254                            5.286069   \n",
       "3                            4.326600                            5.478075   \n",
       "4                            3.782952                            4.668739   \n",
       "..                                ...                                 ...   \n",
       "56                           2.911779                            4.779664   \n",
       "57                           3.754409                            5.092757   \n",
       "58                           4.920957                            4.903440   \n",
       "59                           5.734377                            5.184698   \n",
       "60                           6.144060                            5.486878   \n",
       "\n",
       "    Incorrect Character % Last 1000 Avg Test Version Location  \\\n",
       "0                              6.850653           v2     home   \n",
       "1                              6.883005           v2     home   \n",
       "2                              7.460851           v2     home   \n",
       "3                              6.929890           v2     home   \n",
       "4                              6.863948           v2     home   \n",
       "..                                  ...          ...      ...   \n",
       "56                             6.882081           v2     home   \n",
       "57                             6.894502           v2     home   \n",
       "58                             6.700241           v2     home   \n",
       "59                             6.704618           v2     home   \n",
       "60                             6.927315           v2     home   \n",
       "\n",
       "             Keyboard  Layout Caffeine  Custom_1  Custom_2  Custom_3  \\\n",
       "0   cherry mx2a black  dvorak      yes       NaN       NaN       NaN   \n",
       "1   cherry mx2a black  dvorak      yes       NaN       NaN       NaN   \n",
       "2   cherry mx2a brown  dvorak      yes       NaN       NaN       NaN   \n",
       "3   cherry mx2a black  dvorak      yes       NaN       NaN       NaN   \n",
       "4   cherry mx2a black  dvorak      yes       NaN       NaN       NaN   \n",
       "..                ...     ...      ...       ...       ...       ...   \n",
       "56         cherry red  dvorak      yes       NaN       NaN       NaN   \n",
       "57         cherry red  dvorak      yes       NaN       NaN       NaN   \n",
       "58         cherry red  dvorak      yes       NaN       NaN       NaN   \n",
       "59  cherry mx2a brown  dvorak      yes       NaN       NaN       NaN   \n",
       "60  cherry mx2a black  dvorak      yes       NaN       NaN       NaN   \n",
       "\n",
       "    Autostart  % of Words Typed Correctly  Extra Keystrokes %  \\\n",
       "0         0.0                       100.0                 0.0   \n",
       "1         0.0                       100.0                 0.0   \n",
       "2         0.0                       100.0                 0.0   \n",
       "3         0.0                       100.0                 0.0   \n",
       "4         0.0                       100.0                 0.0   \n",
       "..        ...                         ...                 ...   \n",
       "56        0.0                       100.0                 0.0   \n",
       "57        0.0                       100.0                 0.0   \n",
       "58        0.0                       100.0                 0.0   \n",
       "59        0.0                       100.0                 0.0   \n",
       "60        0.0                       100.0                 0.0   \n",
       "\n",
       "    Extra Keystrokes % Last 10 Avg  Extra Keystrokes % Last 100 Avg  \\\n",
       "0                         3.671861                         8.153507   \n",
       "1                         5.228614                         8.522203   \n",
       "2                         7.207516                              NaN   \n",
       "3                         8.941120                         9.919648   \n",
       "4                         5.338528                         8.296364   \n",
       "..                             ...                              ...   \n",
       "56                        5.016315                         8.694154   \n",
       "57                        6.912101                         9.211513   \n",
       "58                        9.043629                         8.584934   \n",
       "59                       10.471942                         8.909651   \n",
       "60                       11.299850                         9.953128   \n",
       "\n",
       "    Extra Keystrokes % Last 1000 Avg  Scatter_X_Values  \n",
       "0                                NaN                 0  \n",
       "1                                NaN                 1  \n",
       "2                                NaN                 2  \n",
       "3                                NaN                 3  \n",
       "4                                NaN                 4  \n",
       "..                               ...               ...  \n",
       "56                               NaN                 1  \n",
       "57                               NaN                 2  \n",
       "58                               NaN                 3  \n",
       "59                               NaN                 4  \n",
       "60                               NaN                 0  \n",
       "\n",
       "[61 rows x 66 columns]"
      ]
     },
     "execution_count": 7,
     "metadata": {},
     "output_type": "execute_result"
    }
   ],
   "source": [
    "df_mistake_free_trial_results = df_trial_results.query(\n",
    "\"Mistake_Free_Test == 1\").copy().sort_values(\n",
    "'WPM', ascending = False).reset_index(drop=True)\n",
    "# The following line will serve as the set of x values within a scatter plot.\n",
    "# The use of the modulo operator allows sequential values to be spaced apart\n",
    "# while still allowing for a relatively narrow graph.\n",
    "df_mistake_free_trial_results['Scatter_X_Values'] = (\n",
    "df_mistake_free_trial_results.index % 5)\n",
    "df_mistake_free_trial_results"
   ]
  },
  {
   "cell_type": "code",
   "execution_count": 8,
   "metadata": {},
   "outputs": [],
   "source": [
    "df_mistake_free_trial_results.to_csv(\n",
    "analytics_folder+'mistake_free_trial_results.csv', index = False)"
   ]
  },
  {
   "cell_type": "markdown",
   "metadata": {},
   "source": [
    "# Part 2: Descriptive Statistics and Visualizations"
   ]
  },
  {
   "cell_type": "code",
   "execution_count": 9,
   "metadata": {},
   "outputs": [],
   "source": [
    "keyboard_color_discrete_map ={'cherry red':'#EE0000', \n",
    "'cherry mx2a brown':'#844204', 'cherry mx2a black':'black'}\n",
    "\n",
    "# I found the RGB color code for the brown shade by visiting\n",
    "# https://upload.wikimedia.org/wikipedia/commons/0/0e/Color_icon_brown_v2.svg\n",
    "# (a public-domain file); downloading the image; and opening it within \n",
    "# my code editor. This allowed me to view the RGB values for the 9 brown \n",
    "# colors that comprise the square."
   ]
  },
  {
   "cell_type": "code",
   "execution_count": 10,
   "metadata": {},
   "outputs": [
    {
     "data": {
      "text/html": [
       "<div>\n",
       "<style scoped>\n",
       "    .dataframe tbody tr th:only-of-type {\n",
       "        vertical-align: middle;\n",
       "    }\n",
       "\n",
       "    .dataframe tbody tr th {\n",
       "        vertical-align: top;\n",
       "    }\n",
       "\n",
       "    .dataframe thead th {\n",
       "        text-align: right;\n",
       "    }\n",
       "</style>\n",
       "<table border=\"1\" class=\"dataframe\">\n",
       "  <thead>\n",
       "    <tr style=\"text-align: right;\">\n",
       "      <th></th>\n",
       "      <th>Keyboard</th>\n",
       "      <th>Mean Extra Keystrokes %</th>\n",
       "      <th>Mean WPM</th>\n",
       "      <th>Category</th>\n",
       "    </tr>\n",
       "  </thead>\n",
       "  <tbody>\n",
       "    <tr>\n",
       "      <th>0</th>\n",
       "      <td>cherry mx2a black</td>\n",
       "      <td>7.822162</td>\n",
       "      <td>146.128523</td>\n",
       "      <td>All</td>\n",
       "    </tr>\n",
       "    <tr>\n",
       "      <th>1</th>\n",
       "      <td>cherry mx2a brown</td>\n",
       "      <td>11.053259</td>\n",
       "      <td>142.747753</td>\n",
       "      <td>All</td>\n",
       "    </tr>\n",
       "    <tr>\n",
       "      <th>2</th>\n",
       "      <td>cherry red</td>\n",
       "      <td>9.144435</td>\n",
       "      <td>142.154919</td>\n",
       "      <td>All</td>\n",
       "    </tr>\n",
       "  </tbody>\n",
       "</table>\n",
       "</div>"
      ],
      "text/plain": [
       "            Keyboard  Mean Extra Keystrokes %    Mean WPM Category\n",
       "0  cherry mx2a black                 7.822162  146.128523      All\n",
       "1  cherry mx2a brown                11.053259  142.747753      All\n",
       "2         cherry red                 9.144435  142.154919      All"
      ]
     },
     "execution_count": 10,
     "metadata": {},
     "output_type": "execute_result"
    }
   ],
   "source": [
    "df_wpm_and_accuracy_by_keyboard = (\n",
    "df_trial_results.pivot_table(\n",
    "index = 'Keyboard', \n",
    "values = ['WPM', 'Extra Keystrokes %'], \n",
    "aggfunc = 'mean').reset_index(\n",
    ").sort_values('WPM', ascending = False).rename(\n",
    "columns = {'WPM':'Mean WPM', \n",
    "'Extra Keystrokes %':'Mean Extra Keystrokes %'}))\n",
    "df_wpm_and_accuracy_by_keyboard['Category'] = 'All'\n",
    "df_wpm_and_accuracy_by_keyboard"
   ]
  },
  {
   "cell_type": "code",
   "execution_count": 11,
   "metadata": {},
   "outputs": [
    {
     "data": {
      "text/html": [
       "<div>\n",
       "<style scoped>\n",
       "    .dataframe tbody tr th:only-of-type {\n",
       "        vertical-align: middle;\n",
       "    }\n",
       "\n",
       "    .dataframe tbody tr th {\n",
       "        vertical-align: top;\n",
       "    }\n",
       "\n",
       "    .dataframe thead th {\n",
       "        text-align: right;\n",
       "    }\n",
       "</style>\n",
       "<table border=\"1\" class=\"dataframe\">\n",
       "  <thead>\n",
       "    <tr style=\"text-align: right;\">\n",
       "      <th></th>\n",
       "      <th>Keyboard</th>\n",
       "      <th>Mistake_Free_Test</th>\n",
       "      <th>Mean Extra Keystrokes %</th>\n",
       "      <th>Mean WPM</th>\n",
       "      <th>Category</th>\n",
       "    </tr>\n",
       "  </thead>\n",
       "  <tbody>\n",
       "    <tr>\n",
       "      <th>1</th>\n",
       "      <td>cherry mx2a black</td>\n",
       "      <td>1.0</td>\n",
       "      <td>0.000000</td>\n",
       "      <td>167.206949</td>\n",
       "      <td>No Mistakes</td>\n",
       "    </tr>\n",
       "    <tr>\n",
       "      <th>3</th>\n",
       "      <td>cherry mx2a brown</td>\n",
       "      <td>1.0</td>\n",
       "      <td>0.000000</td>\n",
       "      <td>165.170891</td>\n",
       "      <td>No Mistakes</td>\n",
       "    </tr>\n",
       "    <tr>\n",
       "      <th>5</th>\n",
       "      <td>cherry red</td>\n",
       "      <td>1.0</td>\n",
       "      <td>0.000000</td>\n",
       "      <td>161.835953</td>\n",
       "      <td>No Mistakes</td>\n",
       "    </tr>\n",
       "    <tr>\n",
       "      <th>4</th>\n",
       "      <td>cherry red</td>\n",
       "      <td>0.0</td>\n",
       "      <td>11.430544</td>\n",
       "      <td>137.234661</td>\n",
       "      <td>Mistakes</td>\n",
       "    </tr>\n",
       "    <tr>\n",
       "      <th>0</th>\n",
       "      <td>cherry mx2a black</td>\n",
       "      <td>0.0</td>\n",
       "      <td>11.588388</td>\n",
       "      <td>135.979651</td>\n",
       "      <td>Mistakes</td>\n",
       "    </tr>\n",
       "    <tr>\n",
       "      <th>2</th>\n",
       "      <td>cherry mx2a brown</td>\n",
       "      <td>0.0</td>\n",
       "      <td>14.440548</td>\n",
       "      <td>135.876146</td>\n",
       "      <td>Mistakes</td>\n",
       "    </tr>\n",
       "  </tbody>\n",
       "</table>\n",
       "</div>"
      ],
      "text/plain": [
       "            Keyboard  Mistake_Free_Test  Mean Extra Keystrokes %    Mean WPM  \\\n",
       "1  cherry mx2a black                1.0                 0.000000  167.206949   \n",
       "3  cherry mx2a brown                1.0                 0.000000  165.170891   \n",
       "5         cherry red                1.0                 0.000000  161.835953   \n",
       "4         cherry red                0.0                11.430544  137.234661   \n",
       "0  cherry mx2a black                0.0                11.588388  135.979651   \n",
       "2  cherry mx2a brown                0.0                14.440548  135.876146   \n",
       "\n",
       "      Category  \n",
       "1  No Mistakes  \n",
       "3  No Mistakes  \n",
       "5  No Mistakes  \n",
       "4     Mistakes  \n",
       "0     Mistakes  \n",
       "2     Mistakes  "
      ]
     },
     "execution_count": 11,
     "metadata": {},
     "output_type": "execute_result"
    }
   ],
   "source": [
    "df_wpm_and_accuracy_by_keyboard_and_mistake_free_status = (\n",
    "df_trial_results.pivot_table(\n",
    "index = ['Keyboard','Mistake_Free_Test'], \n",
    "values = ['WPM', 'Extra Keystrokes %'], \n",
    "aggfunc = 'mean').reset_index(\n",
    ").sort_values('WPM', ascending = False).rename(\n",
    "columns = {'WPM':'Mean WPM', \n",
    "'Extra Keystrokes %':'Mean Extra Keystrokes %'}))\n",
    "df_wpm_and_accuracy_by_keyboard_and_mistake_free_status[\n",
    "'Category'] = np.where(\n",
    "df_wpm_and_accuracy_by_keyboard_and_mistake_free_status[\n",
    "'Mistake_Free_Test'] == 1, 'No Mistakes', 'Mistakes')\n",
    "df_wpm_and_accuracy_by_keyboard_and_mistake_free_status\n"
   ]
  },
  {
   "cell_type": "code",
   "execution_count": 12,
   "metadata": {},
   "outputs": [],
   "source": [
    "df_wpm_accuracy_comparison = pd.concat([\n",
    "df_wpm_and_accuracy_by_keyboard,\n",
    "df_wpm_and_accuracy_by_keyboard_and_mistake_free_status])\n",
    "df_wpm_accuracy_comparison.to_csv(\n",
    "analytics_folder+'wpm_accuracy_pivot.csv', index = False)"
   ]
  },
  {
   "cell_type": "code",
   "execution_count": 13,
   "metadata": {},
   "outputs": [
    {
     "data": {
      "application/vnd.plotly.v1+json": {
       "config": {
        "plotlyServerURL": "https://plot.ly"
       },
       "data": [
        {
         "alignmentgroup": "True",
         "hovertemplate": "Keyboard=cherry mx2a black<br>Category=%{x}<br>Mean WPM=%{y}<extra></extra>",
         "legendgroup": "cherry mx2a black",
         "marker": {
          "color": "black",
          "pattern": {
           "shape": ""
          }
         },
         "name": "cherry mx2a black",
         "offsetgroup": "cherry mx2a black",
         "orientation": "v",
         "showlegend": true,
         "textposition": "auto",
         "texttemplate": "%{y:.3f}",
         "type": "bar",
         "x": [
          "All",
          "No Mistakes",
          "Mistakes"
         ],
         "xaxis": "x",
         "y": [
          146.1285231460852,
          167.20694938188396,
          135.9796512547747
         ],
         "yaxis": "y"
        },
        {
         "alignmentgroup": "True",
         "hovertemplate": "Keyboard=cherry mx2a brown<br>Category=%{x}<br>Mean WPM=%{y}<extra></extra>",
         "legendgroup": "cherry mx2a brown",
         "marker": {
          "color": "#844204",
          "pattern": {
           "shape": ""
          }
         },
         "name": "cherry mx2a brown",
         "offsetgroup": "cherry mx2a brown",
         "orientation": "v",
         "showlegend": true,
         "textposition": "auto",
         "texttemplate": "%{y:.3f}",
         "type": "bar",
         "x": [
          "All",
          "No Mistakes",
          "Mistakes"
         ],
         "xaxis": "x",
         "y": [
          142.74775252971224,
          165.17089064684959,
          135.8761456873637
         ],
         "yaxis": "y"
        },
        {
         "alignmentgroup": "True",
         "hovertemplate": "Keyboard=cherry red<br>Category=%{x}<br>Mean WPM=%{y}<extra></extra>",
         "legendgroup": "cherry red",
         "marker": {
          "color": "#EE0000",
          "pattern": {
           "shape": ""
          }
         },
         "name": "cherry red",
         "offsetgroup": "cherry red",
         "orientation": "v",
         "showlegend": true,
         "textposition": "auto",
         "texttemplate": "%{y:.3f}",
         "type": "bar",
         "x": [
          "All",
          "No Mistakes",
          "Mistakes"
         ],
         "xaxis": "x",
         "y": [
          142.15491911195005,
          161.83595263584107,
          137.23466073097728
         ],
         "yaxis": "y"
        }
       ],
       "layout": {
        "barmode": "group",
        "legend": {
         "title": {
          "text": "Keyboard"
         },
         "tracegroupgap": 0
        },
        "margin": {
         "t": 60
        },
        "template": {
         "data": {
          "bar": [
           {
            "error_x": {
             "color": "#2a3f5f"
            },
            "error_y": {
             "color": "#2a3f5f"
            },
            "marker": {
             "line": {
              "color": "#E5ECF6",
              "width": 0.5
             },
             "pattern": {
              "fillmode": "overlay",
              "size": 10,
              "solidity": 0.2
             }
            },
            "type": "bar"
           }
          ],
          "barpolar": [
           {
            "marker": {
             "line": {
              "color": "#E5ECF6",
              "width": 0.5
             },
             "pattern": {
              "fillmode": "overlay",
              "size": 10,
              "solidity": 0.2
             }
            },
            "type": "barpolar"
           }
          ],
          "carpet": [
           {
            "aaxis": {
             "endlinecolor": "#2a3f5f",
             "gridcolor": "white",
             "linecolor": "white",
             "minorgridcolor": "white",
             "startlinecolor": "#2a3f5f"
            },
            "baxis": {
             "endlinecolor": "#2a3f5f",
             "gridcolor": "white",
             "linecolor": "white",
             "minorgridcolor": "white",
             "startlinecolor": "#2a3f5f"
            },
            "type": "carpet"
           }
          ],
          "choropleth": [
           {
            "colorbar": {
             "outlinewidth": 0,
             "ticks": ""
            },
            "type": "choropleth"
           }
          ],
          "contour": [
           {
            "colorbar": {
             "outlinewidth": 0,
             "ticks": ""
            },
            "colorscale": [
             [
              0,
              "#0d0887"
             ],
             [
              0.1111111111111111,
              "#46039f"
             ],
             [
              0.2222222222222222,
              "#7201a8"
             ],
             [
              0.3333333333333333,
              "#9c179e"
             ],
             [
              0.4444444444444444,
              "#bd3786"
             ],
             [
              0.5555555555555556,
              "#d8576b"
             ],
             [
              0.6666666666666666,
              "#ed7953"
             ],
             [
              0.7777777777777778,
              "#fb9f3a"
             ],
             [
              0.8888888888888888,
              "#fdca26"
             ],
             [
              1,
              "#f0f921"
             ]
            ],
            "type": "contour"
           }
          ],
          "contourcarpet": [
           {
            "colorbar": {
             "outlinewidth": 0,
             "ticks": ""
            },
            "type": "contourcarpet"
           }
          ],
          "heatmap": [
           {
            "colorbar": {
             "outlinewidth": 0,
             "ticks": ""
            },
            "colorscale": [
             [
              0,
              "#0d0887"
             ],
             [
              0.1111111111111111,
              "#46039f"
             ],
             [
              0.2222222222222222,
              "#7201a8"
             ],
             [
              0.3333333333333333,
              "#9c179e"
             ],
             [
              0.4444444444444444,
              "#bd3786"
             ],
             [
              0.5555555555555556,
              "#d8576b"
             ],
             [
              0.6666666666666666,
              "#ed7953"
             ],
             [
              0.7777777777777778,
              "#fb9f3a"
             ],
             [
              0.8888888888888888,
              "#fdca26"
             ],
             [
              1,
              "#f0f921"
             ]
            ],
            "type": "heatmap"
           }
          ],
          "heatmapgl": [
           {
            "colorbar": {
             "outlinewidth": 0,
             "ticks": ""
            },
            "colorscale": [
             [
              0,
              "#0d0887"
             ],
             [
              0.1111111111111111,
              "#46039f"
             ],
             [
              0.2222222222222222,
              "#7201a8"
             ],
             [
              0.3333333333333333,
              "#9c179e"
             ],
             [
              0.4444444444444444,
              "#bd3786"
             ],
             [
              0.5555555555555556,
              "#d8576b"
             ],
             [
              0.6666666666666666,
              "#ed7953"
             ],
             [
              0.7777777777777778,
              "#fb9f3a"
             ],
             [
              0.8888888888888888,
              "#fdca26"
             ],
             [
              1,
              "#f0f921"
             ]
            ],
            "type": "heatmapgl"
           }
          ],
          "histogram": [
           {
            "marker": {
             "pattern": {
              "fillmode": "overlay",
              "size": 10,
              "solidity": 0.2
             }
            },
            "type": "histogram"
           }
          ],
          "histogram2d": [
           {
            "colorbar": {
             "outlinewidth": 0,
             "ticks": ""
            },
            "colorscale": [
             [
              0,
              "#0d0887"
             ],
             [
              0.1111111111111111,
              "#46039f"
             ],
             [
              0.2222222222222222,
              "#7201a8"
             ],
             [
              0.3333333333333333,
              "#9c179e"
             ],
             [
              0.4444444444444444,
              "#bd3786"
             ],
             [
              0.5555555555555556,
              "#d8576b"
             ],
             [
              0.6666666666666666,
              "#ed7953"
             ],
             [
              0.7777777777777778,
              "#fb9f3a"
             ],
             [
              0.8888888888888888,
              "#fdca26"
             ],
             [
              1,
              "#f0f921"
             ]
            ],
            "type": "histogram2d"
           }
          ],
          "histogram2dcontour": [
           {
            "colorbar": {
             "outlinewidth": 0,
             "ticks": ""
            },
            "colorscale": [
             [
              0,
              "#0d0887"
             ],
             [
              0.1111111111111111,
              "#46039f"
             ],
             [
              0.2222222222222222,
              "#7201a8"
             ],
             [
              0.3333333333333333,
              "#9c179e"
             ],
             [
              0.4444444444444444,
              "#bd3786"
             ],
             [
              0.5555555555555556,
              "#d8576b"
             ],
             [
              0.6666666666666666,
              "#ed7953"
             ],
             [
              0.7777777777777778,
              "#fb9f3a"
             ],
             [
              0.8888888888888888,
              "#fdca26"
             ],
             [
              1,
              "#f0f921"
             ]
            ],
            "type": "histogram2dcontour"
           }
          ],
          "mesh3d": [
           {
            "colorbar": {
             "outlinewidth": 0,
             "ticks": ""
            },
            "type": "mesh3d"
           }
          ],
          "parcoords": [
           {
            "line": {
             "colorbar": {
              "outlinewidth": 0,
              "ticks": ""
             }
            },
            "type": "parcoords"
           }
          ],
          "pie": [
           {
            "automargin": true,
            "type": "pie"
           }
          ],
          "scatter": [
           {
            "fillpattern": {
             "fillmode": "overlay",
             "size": 10,
             "solidity": 0.2
            },
            "type": "scatter"
           }
          ],
          "scatter3d": [
           {
            "line": {
             "colorbar": {
              "outlinewidth": 0,
              "ticks": ""
             }
            },
            "marker": {
             "colorbar": {
              "outlinewidth": 0,
              "ticks": ""
             }
            },
            "type": "scatter3d"
           }
          ],
          "scattercarpet": [
           {
            "marker": {
             "colorbar": {
              "outlinewidth": 0,
              "ticks": ""
             }
            },
            "type": "scattercarpet"
           }
          ],
          "scattergeo": [
           {
            "marker": {
             "colorbar": {
              "outlinewidth": 0,
              "ticks": ""
             }
            },
            "type": "scattergeo"
           }
          ],
          "scattergl": [
           {
            "marker": {
             "colorbar": {
              "outlinewidth": 0,
              "ticks": ""
             }
            },
            "type": "scattergl"
           }
          ],
          "scattermapbox": [
           {
            "marker": {
             "colorbar": {
              "outlinewidth": 0,
              "ticks": ""
             }
            },
            "type": "scattermapbox"
           }
          ],
          "scatterpolar": [
           {
            "marker": {
             "colorbar": {
              "outlinewidth": 0,
              "ticks": ""
             }
            },
            "type": "scatterpolar"
           }
          ],
          "scatterpolargl": [
           {
            "marker": {
             "colorbar": {
              "outlinewidth": 0,
              "ticks": ""
             }
            },
            "type": "scatterpolargl"
           }
          ],
          "scatterternary": [
           {
            "marker": {
             "colorbar": {
              "outlinewidth": 0,
              "ticks": ""
             }
            },
            "type": "scatterternary"
           }
          ],
          "surface": [
           {
            "colorbar": {
             "outlinewidth": 0,
             "ticks": ""
            },
            "colorscale": [
             [
              0,
              "#0d0887"
             ],
             [
              0.1111111111111111,
              "#46039f"
             ],
             [
              0.2222222222222222,
              "#7201a8"
             ],
             [
              0.3333333333333333,
              "#9c179e"
             ],
             [
              0.4444444444444444,
              "#bd3786"
             ],
             [
              0.5555555555555556,
              "#d8576b"
             ],
             [
              0.6666666666666666,
              "#ed7953"
             ],
             [
              0.7777777777777778,
              "#fb9f3a"
             ],
             [
              0.8888888888888888,
              "#fdca26"
             ],
             [
              1,
              "#f0f921"
             ]
            ],
            "type": "surface"
           }
          ],
          "table": [
           {
            "cells": {
             "fill": {
              "color": "#EBF0F8"
             },
             "line": {
              "color": "white"
             }
            },
            "header": {
             "fill": {
              "color": "#C8D4E3"
             },
             "line": {
              "color": "white"
             }
            },
            "type": "table"
           }
          ]
         },
         "layout": {
          "annotationdefaults": {
           "arrowcolor": "#2a3f5f",
           "arrowhead": 0,
           "arrowwidth": 1
          },
          "autotypenumbers": "strict",
          "coloraxis": {
           "colorbar": {
            "outlinewidth": 0,
            "ticks": ""
           }
          },
          "colorscale": {
           "diverging": [
            [
             0,
             "#8e0152"
            ],
            [
             0.1,
             "#c51b7d"
            ],
            [
             0.2,
             "#de77ae"
            ],
            [
             0.3,
             "#f1b6da"
            ],
            [
             0.4,
             "#fde0ef"
            ],
            [
             0.5,
             "#f7f7f7"
            ],
            [
             0.6,
             "#e6f5d0"
            ],
            [
             0.7,
             "#b8e186"
            ],
            [
             0.8,
             "#7fbc41"
            ],
            [
             0.9,
             "#4d9221"
            ],
            [
             1,
             "#276419"
            ]
           ],
           "sequential": [
            [
             0,
             "#0d0887"
            ],
            [
             0.1111111111111111,
             "#46039f"
            ],
            [
             0.2222222222222222,
             "#7201a8"
            ],
            [
             0.3333333333333333,
             "#9c179e"
            ],
            [
             0.4444444444444444,
             "#bd3786"
            ],
            [
             0.5555555555555556,
             "#d8576b"
            ],
            [
             0.6666666666666666,
             "#ed7953"
            ],
            [
             0.7777777777777778,
             "#fb9f3a"
            ],
            [
             0.8888888888888888,
             "#fdca26"
            ],
            [
             1,
             "#f0f921"
            ]
           ],
           "sequentialminus": [
            [
             0,
             "#0d0887"
            ],
            [
             0.1111111111111111,
             "#46039f"
            ],
            [
             0.2222222222222222,
             "#7201a8"
            ],
            [
             0.3333333333333333,
             "#9c179e"
            ],
            [
             0.4444444444444444,
             "#bd3786"
            ],
            [
             0.5555555555555556,
             "#d8576b"
            ],
            [
             0.6666666666666666,
             "#ed7953"
            ],
            [
             0.7777777777777778,
             "#fb9f3a"
            ],
            [
             0.8888888888888888,
             "#fdca26"
            ],
            [
             1,
             "#f0f921"
            ]
           ]
          },
          "colorway": [
           "#636efa",
           "#EF553B",
           "#00cc96",
           "#ab63fa",
           "#FFA15A",
           "#19d3f3",
           "#FF6692",
           "#B6E880",
           "#FF97FF",
           "#FECB52"
          ],
          "font": {
           "color": "#2a3f5f"
          },
          "geo": {
           "bgcolor": "white",
           "lakecolor": "white",
           "landcolor": "#E5ECF6",
           "showlakes": true,
           "showland": true,
           "subunitcolor": "white"
          },
          "hoverlabel": {
           "align": "left"
          },
          "hovermode": "closest",
          "mapbox": {
           "style": "light"
          },
          "paper_bgcolor": "white",
          "plot_bgcolor": "#E5ECF6",
          "polar": {
           "angularaxis": {
            "gridcolor": "white",
            "linecolor": "white",
            "ticks": ""
           },
           "bgcolor": "#E5ECF6",
           "radialaxis": {
            "gridcolor": "white",
            "linecolor": "white",
            "ticks": ""
           }
          },
          "scene": {
           "xaxis": {
            "backgroundcolor": "#E5ECF6",
            "gridcolor": "white",
            "gridwidth": 2,
            "linecolor": "white",
            "showbackground": true,
            "ticks": "",
            "zerolinecolor": "white"
           },
           "yaxis": {
            "backgroundcolor": "#E5ECF6",
            "gridcolor": "white",
            "gridwidth": 2,
            "linecolor": "white",
            "showbackground": true,
            "ticks": "",
            "zerolinecolor": "white"
           },
           "zaxis": {
            "backgroundcolor": "#E5ECF6",
            "gridcolor": "white",
            "gridwidth": 2,
            "linecolor": "white",
            "showbackground": true,
            "ticks": "",
            "zerolinecolor": "white"
           }
          },
          "shapedefaults": {
           "line": {
            "color": "#2a3f5f"
           }
          },
          "ternary": {
           "aaxis": {
            "gridcolor": "white",
            "linecolor": "white",
            "ticks": ""
           },
           "baxis": {
            "gridcolor": "white",
            "linecolor": "white",
            "ticks": ""
           },
           "bgcolor": "#E5ECF6",
           "caxis": {
            "gridcolor": "white",
            "linecolor": "white",
            "ticks": ""
           }
          },
          "title": {
           "x": 0.05
          },
          "xaxis": {
           "automargin": true,
           "gridcolor": "white",
           "linecolor": "white",
           "ticks": "",
           "title": {
            "standoff": 15
           },
           "zerolinecolor": "white",
           "zerolinewidth": 2
          },
          "yaxis": {
           "automargin": true,
           "gridcolor": "white",
           "linecolor": "white",
           "ticks": "",
           "title": {
            "standoff": 15
           },
           "zerolinecolor": "white",
           "zerolinewidth": 2
          }
         }
        },
        "xaxis": {
         "anchor": "y",
         "domain": [
          0,
          1
         ],
         "title": {
          "text": "Category"
         }
        },
        "yaxis": {
         "anchor": "x",
         "domain": [
          0,
          1
         ],
         "title": {
          "text": "Mean WPM"
         }
        }
       }
      }
     },
     "metadata": {},
     "output_type": "display_data"
    }
   ],
   "source": [
    "fig_wpm_comparison = px.bar(df_wpm_accuracy_comparison, \n",
    "x = 'Category', y = 'Mean WPM', \n",
    "color = 'Keyboard', text_auto='.3f',\n",
    "barmode = 'group',\n",
    "color_discrete_map=keyboard_color_discrete_map)\n",
    "fig_wpm_comparison.write_html(analytics_folder+'wpm_comparison.html')\n",
    "fig_wpm_comparison"
   ]
  },
  {
   "cell_type": "code",
   "execution_count": 14,
   "metadata": {},
   "outputs": [
    {
     "data": {
      "application/vnd.plotly.v1+json": {
       "config": {
        "plotlyServerURL": "https://plot.ly"
       },
       "data": [
        {
         "alignmentgroup": "True",
         "hovertemplate": "Keyboard=cherry mx2a black<br>Category=%{x}<br>Mean Extra Keystrokes %=%{y}<extra></extra>",
         "legendgroup": "cherry mx2a black",
         "marker": {
          "color": "black",
          "pattern": {
           "shape": ""
          }
         },
         "name": "cherry mx2a black",
         "offsetgroup": "cherry mx2a black",
         "orientation": "v",
         "showlegend": true,
         "textposition": "auto",
         "texttemplate": "%{y:.3f}",
         "type": "bar",
         "x": [
          "All",
          "Mistakes"
         ],
         "xaxis": "x",
         "y": [
          7.822161988470225,
          11.588388131067
         ],
         "yaxis": "y"
        },
        {
         "alignmentgroup": "True",
         "hovertemplate": "Keyboard=cherry mx2a brown<br>Category=%{x}<br>Mean Extra Keystrokes %=%{y}<extra></extra>",
         "legendgroup": "cherry mx2a brown",
         "marker": {
          "color": "#844204",
          "pattern": {
           "shape": ""
          }
         },
         "name": "cherry mx2a brown",
         "offsetgroup": "cherry mx2a brown",
         "orientation": "v",
         "showlegend": true,
         "textposition": "auto",
         "texttemplate": "%{y:.3f}",
         "type": "bar",
         "x": [
          "All",
          "Mistakes"
         ],
         "xaxis": "x",
         "y": [
          11.05325893503595,
          14.440547963514708
         ],
         "yaxis": "y"
        },
        {
         "alignmentgroup": "True",
         "hovertemplate": "Keyboard=cherry red<br>Category=%{x}<br>Mean Extra Keystrokes %=%{y}<extra></extra>",
         "legendgroup": "cherry red",
         "marker": {
          "color": "#EE0000",
          "pattern": {
           "shape": ""
          }
         },
         "name": "cherry red",
         "offsetgroup": "cherry red",
         "orientation": "v",
         "showlegend": true,
         "textposition": "auto",
         "texttemplate": "%{y:.3f}",
         "type": "bar",
         "x": [
          "All",
          "Mistakes"
         ],
         "xaxis": "x",
         "y": [
          9.144435305499737,
          11.430544131874672
         ],
         "yaxis": "y"
        }
       ],
       "layout": {
        "barmode": "group",
        "legend": {
         "title": {
          "text": "Keyboard"
         },
         "tracegroupgap": 0
        },
        "margin": {
         "t": 60
        },
        "template": {
         "data": {
          "bar": [
           {
            "error_x": {
             "color": "#2a3f5f"
            },
            "error_y": {
             "color": "#2a3f5f"
            },
            "marker": {
             "line": {
              "color": "#E5ECF6",
              "width": 0.5
             },
             "pattern": {
              "fillmode": "overlay",
              "size": 10,
              "solidity": 0.2
             }
            },
            "type": "bar"
           }
          ],
          "barpolar": [
           {
            "marker": {
             "line": {
              "color": "#E5ECF6",
              "width": 0.5
             },
             "pattern": {
              "fillmode": "overlay",
              "size": 10,
              "solidity": 0.2
             }
            },
            "type": "barpolar"
           }
          ],
          "carpet": [
           {
            "aaxis": {
             "endlinecolor": "#2a3f5f",
             "gridcolor": "white",
             "linecolor": "white",
             "minorgridcolor": "white",
             "startlinecolor": "#2a3f5f"
            },
            "baxis": {
             "endlinecolor": "#2a3f5f",
             "gridcolor": "white",
             "linecolor": "white",
             "minorgridcolor": "white",
             "startlinecolor": "#2a3f5f"
            },
            "type": "carpet"
           }
          ],
          "choropleth": [
           {
            "colorbar": {
             "outlinewidth": 0,
             "ticks": ""
            },
            "type": "choropleth"
           }
          ],
          "contour": [
           {
            "colorbar": {
             "outlinewidth": 0,
             "ticks": ""
            },
            "colorscale": [
             [
              0,
              "#0d0887"
             ],
             [
              0.1111111111111111,
              "#46039f"
             ],
             [
              0.2222222222222222,
              "#7201a8"
             ],
             [
              0.3333333333333333,
              "#9c179e"
             ],
             [
              0.4444444444444444,
              "#bd3786"
             ],
             [
              0.5555555555555556,
              "#d8576b"
             ],
             [
              0.6666666666666666,
              "#ed7953"
             ],
             [
              0.7777777777777778,
              "#fb9f3a"
             ],
             [
              0.8888888888888888,
              "#fdca26"
             ],
             [
              1,
              "#f0f921"
             ]
            ],
            "type": "contour"
           }
          ],
          "contourcarpet": [
           {
            "colorbar": {
             "outlinewidth": 0,
             "ticks": ""
            },
            "type": "contourcarpet"
           }
          ],
          "heatmap": [
           {
            "colorbar": {
             "outlinewidth": 0,
             "ticks": ""
            },
            "colorscale": [
             [
              0,
              "#0d0887"
             ],
             [
              0.1111111111111111,
              "#46039f"
             ],
             [
              0.2222222222222222,
              "#7201a8"
             ],
             [
              0.3333333333333333,
              "#9c179e"
             ],
             [
              0.4444444444444444,
              "#bd3786"
             ],
             [
              0.5555555555555556,
              "#d8576b"
             ],
             [
              0.6666666666666666,
              "#ed7953"
             ],
             [
              0.7777777777777778,
              "#fb9f3a"
             ],
             [
              0.8888888888888888,
              "#fdca26"
             ],
             [
              1,
              "#f0f921"
             ]
            ],
            "type": "heatmap"
           }
          ],
          "heatmapgl": [
           {
            "colorbar": {
             "outlinewidth": 0,
             "ticks": ""
            },
            "colorscale": [
             [
              0,
              "#0d0887"
             ],
             [
              0.1111111111111111,
              "#46039f"
             ],
             [
              0.2222222222222222,
              "#7201a8"
             ],
             [
              0.3333333333333333,
              "#9c179e"
             ],
             [
              0.4444444444444444,
              "#bd3786"
             ],
             [
              0.5555555555555556,
              "#d8576b"
             ],
             [
              0.6666666666666666,
              "#ed7953"
             ],
             [
              0.7777777777777778,
              "#fb9f3a"
             ],
             [
              0.8888888888888888,
              "#fdca26"
             ],
             [
              1,
              "#f0f921"
             ]
            ],
            "type": "heatmapgl"
           }
          ],
          "histogram": [
           {
            "marker": {
             "pattern": {
              "fillmode": "overlay",
              "size": 10,
              "solidity": 0.2
             }
            },
            "type": "histogram"
           }
          ],
          "histogram2d": [
           {
            "colorbar": {
             "outlinewidth": 0,
             "ticks": ""
            },
            "colorscale": [
             [
              0,
              "#0d0887"
             ],
             [
              0.1111111111111111,
              "#46039f"
             ],
             [
              0.2222222222222222,
              "#7201a8"
             ],
             [
              0.3333333333333333,
              "#9c179e"
             ],
             [
              0.4444444444444444,
              "#bd3786"
             ],
             [
              0.5555555555555556,
              "#d8576b"
             ],
             [
              0.6666666666666666,
              "#ed7953"
             ],
             [
              0.7777777777777778,
              "#fb9f3a"
             ],
             [
              0.8888888888888888,
              "#fdca26"
             ],
             [
              1,
              "#f0f921"
             ]
            ],
            "type": "histogram2d"
           }
          ],
          "histogram2dcontour": [
           {
            "colorbar": {
             "outlinewidth": 0,
             "ticks": ""
            },
            "colorscale": [
             [
              0,
              "#0d0887"
             ],
             [
              0.1111111111111111,
              "#46039f"
             ],
             [
              0.2222222222222222,
              "#7201a8"
             ],
             [
              0.3333333333333333,
              "#9c179e"
             ],
             [
              0.4444444444444444,
              "#bd3786"
             ],
             [
              0.5555555555555556,
              "#d8576b"
             ],
             [
              0.6666666666666666,
              "#ed7953"
             ],
             [
              0.7777777777777778,
              "#fb9f3a"
             ],
             [
              0.8888888888888888,
              "#fdca26"
             ],
             [
              1,
              "#f0f921"
             ]
            ],
            "type": "histogram2dcontour"
           }
          ],
          "mesh3d": [
           {
            "colorbar": {
             "outlinewidth": 0,
             "ticks": ""
            },
            "type": "mesh3d"
           }
          ],
          "parcoords": [
           {
            "line": {
             "colorbar": {
              "outlinewidth": 0,
              "ticks": ""
             }
            },
            "type": "parcoords"
           }
          ],
          "pie": [
           {
            "automargin": true,
            "type": "pie"
           }
          ],
          "scatter": [
           {
            "fillpattern": {
             "fillmode": "overlay",
             "size": 10,
             "solidity": 0.2
            },
            "type": "scatter"
           }
          ],
          "scatter3d": [
           {
            "line": {
             "colorbar": {
              "outlinewidth": 0,
              "ticks": ""
             }
            },
            "marker": {
             "colorbar": {
              "outlinewidth": 0,
              "ticks": ""
             }
            },
            "type": "scatter3d"
           }
          ],
          "scattercarpet": [
           {
            "marker": {
             "colorbar": {
              "outlinewidth": 0,
              "ticks": ""
             }
            },
            "type": "scattercarpet"
           }
          ],
          "scattergeo": [
           {
            "marker": {
             "colorbar": {
              "outlinewidth": 0,
              "ticks": ""
             }
            },
            "type": "scattergeo"
           }
          ],
          "scattergl": [
           {
            "marker": {
             "colorbar": {
              "outlinewidth": 0,
              "ticks": ""
             }
            },
            "type": "scattergl"
           }
          ],
          "scattermapbox": [
           {
            "marker": {
             "colorbar": {
              "outlinewidth": 0,
              "ticks": ""
             }
            },
            "type": "scattermapbox"
           }
          ],
          "scatterpolar": [
           {
            "marker": {
             "colorbar": {
              "outlinewidth": 0,
              "ticks": ""
             }
            },
            "type": "scatterpolar"
           }
          ],
          "scatterpolargl": [
           {
            "marker": {
             "colorbar": {
              "outlinewidth": 0,
              "ticks": ""
             }
            },
            "type": "scatterpolargl"
           }
          ],
          "scatterternary": [
           {
            "marker": {
             "colorbar": {
              "outlinewidth": 0,
              "ticks": ""
             }
            },
            "type": "scatterternary"
           }
          ],
          "surface": [
           {
            "colorbar": {
             "outlinewidth": 0,
             "ticks": ""
            },
            "colorscale": [
             [
              0,
              "#0d0887"
             ],
             [
              0.1111111111111111,
              "#46039f"
             ],
             [
              0.2222222222222222,
              "#7201a8"
             ],
             [
              0.3333333333333333,
              "#9c179e"
             ],
             [
              0.4444444444444444,
              "#bd3786"
             ],
             [
              0.5555555555555556,
              "#d8576b"
             ],
             [
              0.6666666666666666,
              "#ed7953"
             ],
             [
              0.7777777777777778,
              "#fb9f3a"
             ],
             [
              0.8888888888888888,
              "#fdca26"
             ],
             [
              1,
              "#f0f921"
             ]
            ],
            "type": "surface"
           }
          ],
          "table": [
           {
            "cells": {
             "fill": {
              "color": "#EBF0F8"
             },
             "line": {
              "color": "white"
             }
            },
            "header": {
             "fill": {
              "color": "#C8D4E3"
             },
             "line": {
              "color": "white"
             }
            },
            "type": "table"
           }
          ]
         },
         "layout": {
          "annotationdefaults": {
           "arrowcolor": "#2a3f5f",
           "arrowhead": 0,
           "arrowwidth": 1
          },
          "autotypenumbers": "strict",
          "coloraxis": {
           "colorbar": {
            "outlinewidth": 0,
            "ticks": ""
           }
          },
          "colorscale": {
           "diverging": [
            [
             0,
             "#8e0152"
            ],
            [
             0.1,
             "#c51b7d"
            ],
            [
             0.2,
             "#de77ae"
            ],
            [
             0.3,
             "#f1b6da"
            ],
            [
             0.4,
             "#fde0ef"
            ],
            [
             0.5,
             "#f7f7f7"
            ],
            [
             0.6,
             "#e6f5d0"
            ],
            [
             0.7,
             "#b8e186"
            ],
            [
             0.8,
             "#7fbc41"
            ],
            [
             0.9,
             "#4d9221"
            ],
            [
             1,
             "#276419"
            ]
           ],
           "sequential": [
            [
             0,
             "#0d0887"
            ],
            [
             0.1111111111111111,
             "#46039f"
            ],
            [
             0.2222222222222222,
             "#7201a8"
            ],
            [
             0.3333333333333333,
             "#9c179e"
            ],
            [
             0.4444444444444444,
             "#bd3786"
            ],
            [
             0.5555555555555556,
             "#d8576b"
            ],
            [
             0.6666666666666666,
             "#ed7953"
            ],
            [
             0.7777777777777778,
             "#fb9f3a"
            ],
            [
             0.8888888888888888,
             "#fdca26"
            ],
            [
             1,
             "#f0f921"
            ]
           ],
           "sequentialminus": [
            [
             0,
             "#0d0887"
            ],
            [
             0.1111111111111111,
             "#46039f"
            ],
            [
             0.2222222222222222,
             "#7201a8"
            ],
            [
             0.3333333333333333,
             "#9c179e"
            ],
            [
             0.4444444444444444,
             "#bd3786"
            ],
            [
             0.5555555555555556,
             "#d8576b"
            ],
            [
             0.6666666666666666,
             "#ed7953"
            ],
            [
             0.7777777777777778,
             "#fb9f3a"
            ],
            [
             0.8888888888888888,
             "#fdca26"
            ],
            [
             1,
             "#f0f921"
            ]
           ]
          },
          "colorway": [
           "#636efa",
           "#EF553B",
           "#00cc96",
           "#ab63fa",
           "#FFA15A",
           "#19d3f3",
           "#FF6692",
           "#B6E880",
           "#FF97FF",
           "#FECB52"
          ],
          "font": {
           "color": "#2a3f5f"
          },
          "geo": {
           "bgcolor": "white",
           "lakecolor": "white",
           "landcolor": "#E5ECF6",
           "showlakes": true,
           "showland": true,
           "subunitcolor": "white"
          },
          "hoverlabel": {
           "align": "left"
          },
          "hovermode": "closest",
          "mapbox": {
           "style": "light"
          },
          "paper_bgcolor": "white",
          "plot_bgcolor": "#E5ECF6",
          "polar": {
           "angularaxis": {
            "gridcolor": "white",
            "linecolor": "white",
            "ticks": ""
           },
           "bgcolor": "#E5ECF6",
           "radialaxis": {
            "gridcolor": "white",
            "linecolor": "white",
            "ticks": ""
           }
          },
          "scene": {
           "xaxis": {
            "backgroundcolor": "#E5ECF6",
            "gridcolor": "white",
            "gridwidth": 2,
            "linecolor": "white",
            "showbackground": true,
            "ticks": "",
            "zerolinecolor": "white"
           },
           "yaxis": {
            "backgroundcolor": "#E5ECF6",
            "gridcolor": "white",
            "gridwidth": 2,
            "linecolor": "white",
            "showbackground": true,
            "ticks": "",
            "zerolinecolor": "white"
           },
           "zaxis": {
            "backgroundcolor": "#E5ECF6",
            "gridcolor": "white",
            "gridwidth": 2,
            "linecolor": "white",
            "showbackground": true,
            "ticks": "",
            "zerolinecolor": "white"
           }
          },
          "shapedefaults": {
           "line": {
            "color": "#2a3f5f"
           }
          },
          "ternary": {
           "aaxis": {
            "gridcolor": "white",
            "linecolor": "white",
            "ticks": ""
           },
           "baxis": {
            "gridcolor": "white",
            "linecolor": "white",
            "ticks": ""
           },
           "bgcolor": "#E5ECF6",
           "caxis": {
            "gridcolor": "white",
            "linecolor": "white",
            "ticks": ""
           }
          },
          "title": {
           "x": 0.05
          },
          "xaxis": {
           "automargin": true,
           "gridcolor": "white",
           "linecolor": "white",
           "ticks": "",
           "title": {
            "standoff": 15
           },
           "zerolinecolor": "white",
           "zerolinewidth": 2
          },
          "yaxis": {
           "automargin": true,
           "gridcolor": "white",
           "linecolor": "white",
           "ticks": "",
           "title": {
            "standoff": 15
           },
           "zerolinecolor": "white",
           "zerolinewidth": 2
          }
         }
        },
        "xaxis": {
         "anchor": "y",
         "domain": [
          0,
          1
         ],
         "title": {
          "text": "Category"
         }
        },
        "yaxis": {
         "anchor": "x",
         "domain": [
          0,
          1
         ],
         "title": {
          "text": "Mean Extra Keystrokes %"
         }
        }
       }
      }
     },
     "metadata": {},
     "output_type": "display_data"
    }
   ],
   "source": [
    "fig_accuracy_comparison = px.bar(\n",
    "df_wpm_accuracy_comparison.query(\"Category != 'No Mistakes'\"), \n",
    "x = 'Category', y = 'Mean Extra Keystrokes %', \n",
    "color = 'Keyboard', text_auto='.3f',\n",
    "barmode = 'group',\n",
    "color_discrete_map=keyboard_color_discrete_map)\n",
    "fig_accuracy_comparison.write_html(\n",
    "analytics_folder+'accuracy_comparison.html')\n",
    "fig_accuracy_comparison"
   ]
  },
  {
   "cell_type": "code",
   "execution_count": 15,
   "metadata": {},
   "outputs": [
    {
     "data": {
      "application/vnd.plotly.v1+json": {
       "config": {
        "plotlyServerURL": "https://plot.ly"
       },
       "data": [
        {
         "hovertemplate": "Keyboard=cherry red<br>Extra Keystrokes %=%{x}<br>WPM=%{y}<extra></extra>",
         "legendgroup": "cherry red",
         "marker": {
          "color": "#EE0000",
          "symbol": "circle"
         },
         "mode": "markers",
         "name": "cherry red",
         "orientation": "v",
         "showlegend": true,
         "type": "scatter",
         "x": [
          13.541666666666686,
          5.921052631578959,
          0,
          2.816901408450704,
          9.523809523809518,
          3.614457831325296,
          0,
          8.42105263157896,
          10.666666666666686,
          0,
          19.42446043165468,
          2.46913580246914,
          2.46913580246914,
          0,
          16.666666666666686,
          7.547169811320757,
          12.650602409638566,
          25.84269662921348,
          0,
          1.492537313432834,
          9.375,
          0,
          4.494382022471925,
          18.97810218978104,
          25.15723270440252,
          27.77777777777776,
          13.043478260869565,
          27.41935483870968,
          11.650485436893206,
          0,
          15.328467153284675,
          2.127659574468084,
          42.42424242424244,
          8.571428571428555,
          3.3333333333333144,
          2.424242424242422,
          14.925373134328352,
          10,
          9.756097560975604,
          7.339449541284395,
          17.391304347826086,
          0,
          0,
          23.684210526315788,
          16.39344262295082,
          8.51063829787234,
          2.702702702702702,
          0,
          15,
          4.316546762589928,
          6.451612903225806,
          2.061855670103093,
          13.684210526315791,
          0,
          1.257861635220126,
          6.315789473684211,
          1.0752688172043012,
          0,
          11.224489795918368,
          16.666666666666664,
          6.593406593406594,
          19.480519480519483,
          17.02127659574468,
          4.25531914893617,
          0,
          4,
          0,
          6.086956521739131,
          13.559322033898304,
          12.962962962962962,
          28.57142857142857,
          16.666666666666664,
          8.588957055214724,
          0,
          11.320754716981131,
          0,
          2.985074626865672,
          19.897959183673468,
          4.724409448818897,
          10.909090909090908
         ],
         "xaxis": "x",
         "y": [
          137.31900391250093,
          164.96358496692275,
          172.07996366515331,
          135.68585857138078,
          147.88103639607576,
          144.37130420876127,
          167.67737450428257,
          140.20563468489638,
          142.54603048901208,
          173.44468666733,
          131.05463990074165,
          164.3057588517678,
          138.38214023013975,
          161.5110221140347,
          128.99688186813512,
          138.6733353132804,
          125.16714715268114,
          127.93479637793592,
          164.35207111885234,
          158.1806222225615,
          148.1131684120203,
          155.00121298993463,
          146.9102039852309,
          133.09288317542263,
          133.07362402169178,
          106.66859021301364,
          123.90638399809508,
          101.2047762070618,
          133.06964298814387,
          162.4344269601183,
          134.20448588943097,
          131.38173989490392,
          86.23931514485199,
          131.8432741330873,
          147.88648188463,
          155.05825033351033,
          120.38909395796787,
          130.23909306271025,
          130.91445520871898,
          145.98233511066454,
          131.66597615574491,
          155.4771432496433,
          175.4166735434404,
          114.55888698605014,
          129.6805361624052,
          146.99904958859162,
          157.86989703558203,
          168.69263701528286,
          135.78324235640568,
          151.54937429551802,
          159.81755708853913,
          170.0396343543081,
          124.4718558160823,
          144.87050961927997,
          156.74178324946072,
          136.3228552836389,
          163.68162928693792,
          145.73428678916457,
          129.16857952774893,
          128.69058992958003,
          126.91428612405085,
          136.02225382956743,
          128.78080992397707,
          147.65942724871726,
          168.18125352368395,
          168.25886997314882,
          174.14643054238147,
          159.60485907972327,
          112.50409078698758,
          127.742408222353,
          102.36327734833849,
          128.3486474066924,
          130.04342699188152,
          142.1308654150991,
          139.24297448039712,
          158.22468445577573,
          148.59542805320336,
          116.40126485415249,
          153.32775095564992,
          154.3214916191622
         ],
         "yaxis": "y"
        },
        {
         "hovertemplate": "<b>OLS trendline</b><br>WPM = -1.79115 * Extra Keystrokes % + 158.534<br>R<sup>2</sup>=0.705014<br><br>Keyboard=cherry red<br>Extra Keystrokes %=%{x}<br>WPM=%{y} <b>(trend)</b><extra></extra>",
         "legendgroup": "cherry red",
         "marker": {
          "color": "#EE0000",
          "symbol": "circle"
         },
         "mode": "lines",
         "name": "cherry red",
         "showlegend": false,
         "type": "scatter",
         "x": [
          0,
          0,
          0,
          0,
          0,
          0,
          0,
          0,
          0,
          0,
          0,
          0,
          0,
          0,
          0,
          0,
          1.0752688172043012,
          1.257861635220126,
          1.492537313432834,
          2.061855670103093,
          2.127659574468084,
          2.424242424242422,
          2.46913580246914,
          2.46913580246914,
          2.702702702702702,
          2.816901408450704,
          2.985074626865672,
          3.3333333333333144,
          3.614457831325296,
          4,
          4.25531914893617,
          4.316546762589928,
          4.494382022471925,
          4.724409448818897,
          5.921052631578959,
          6.086956521739131,
          6.315789473684211,
          6.451612903225806,
          6.593406593406594,
          7.339449541284395,
          7.547169811320757,
          8.42105263157896,
          8.51063829787234,
          8.571428571428555,
          8.588957055214724,
          9.375,
          9.523809523809518,
          9.756097560975604,
          10,
          10.666666666666686,
          10.909090909090908,
          11.224489795918368,
          11.320754716981131,
          11.650485436893206,
          12.650602409638566,
          12.962962962962962,
          13.043478260869565,
          13.541666666666686,
          13.559322033898304,
          13.684210526315791,
          14.925373134328352,
          15,
          15.328467153284675,
          16.39344262295082,
          16.666666666666664,
          16.666666666666664,
          16.666666666666686,
          17.02127659574468,
          17.391304347826086,
          18.97810218978104,
          19.42446043165468,
          19.480519480519483,
          19.897959183673468,
          23.684210526315788,
          25.15723270440252,
          25.84269662921348,
          27.41935483870968,
          27.77777777777776,
          28.57142857142857,
          42.42424242424244
         ],
         "xaxis": "x",
         "y": [
          158.53400170751718,
          158.53400170751718,
          158.53400170751718,
          158.53400170751718,
          158.53400170751718,
          158.53400170751718,
          158.53400170751718,
          158.53400170751718,
          158.53400170751718,
          158.53400170751718,
          158.53400170751718,
          158.53400170751718,
          158.53400170751718,
          158.53400170751718,
          158.53400170751718,
          158.53400170751718,
          156.60803075567122,
          156.28097908460305,
          155.86063904301457,
          154.84090276892596,
          154.7230379091837,
          154.1918126524463,
          154.11140174401905,
          154.11140174401905,
          153.69304769341787,
          153.48850034070944,
          153.18727637851197,
          152.56349175679475,
          152.05995477299882,
          151.36938976665022,
          150.91207411085017,
          150.80240608787656,
          150.48387593126213,
          150.07186161987903,
          147.92849061083908,
          147.6313313627196,
          147.22145653772722,
          146.97817599644142,
          146.7242018049892,
          145.38792475179798,
          145.0158659700323,
          143.4506081477972,
          143.2901465141832,
          143.18126183423084,
          143.14986563817092,
          141.7419424711102,
          141.4754018483101,
          141.05933843710994,
          140.62247185534974,
          139.4283698652052,
          138.99415095969815,
          138.4292233020231,
          138.2567981012899,
          137.6661999380017,
          135.87483743670293,
          135.31535189915198,
          135.17113668295096,
          134.27880503270708,
          134.24718156898507,
          134.02348717297227,
          131.80037506249116,
          131.666706929266,
          131.07837200711452,
          129.17083801543941,
          128.6814519539048,
          128.6814519539048,
          128.68145195390474,
          128.0462913208492,
          127.38351500809554,
          124.54131731654245,
          123.74182141913438,
          123.64141108641178,
          122.89371271595952,
          116.11195732080483,
          113.47354924923431,
          112.24577849405077,
          109.42174243544517,
          108.77975211816322,
          107.35820212989594,
          82.54569324377651
         ],
         "yaxis": "y"
        },
        {
         "hovertemplate": "Keyboard=cherry mx2a brown<br>Extra Keystrokes %=%{x}<br>WPM=%{y}<extra></extra>",
         "legendgroup": "cherry mx2a brown",
         "marker": {
          "color": "#844204",
          "symbol": "circle"
         },
         "mode": "markers",
         "name": "cherry mx2a brown",
         "orientation": "v",
         "showlegend": true,
         "type": "scatter",
         "x": [
          8.823529411764724,
          23.333333333333314,
          7.692307692307693,
          0,
          0,
          15.84158415841584,
          0,
          9.62566844919786,
          0,
          2.439024390243901,
          7.913669064748205,
          0,
          3.38983050847456,
          23.25581395348836,
          11.258278145695355,
          16.666666666666686,
          0,
          0,
          11.40939597315436,
          8.16326530612244,
          4.597701149425276,
          23.88059701492536,
          60.86956521739131,
          11.864406779660996,
          10.22727272727272,
          4.519774011299447,
          0,
          5.128205128205124,
          7.070707070707087,
          10.344827586206875,
          42.10526315789474,
          11.111111111111114,
          32.72727272727272,
          7.339449541284395,
          0,
          8,
          21.15384615384616,
          2.3255813953488342,
          8.16326530612244,
          10.389610389610397,
          0,
          19.047619047619047,
          26.24113475177305,
          0,
          0,
          2.547770700636943,
          5.714285714285714,
          12.698412698412698,
          22,
          0,
          10.416666666666668,
          11.1731843575419,
          0,
          17.02127659574468,
          15.517241379310343,
          0,
          7.633587786259542,
          14.000000000000002,
          0,
          9.836065573770492,
          12.5,
          34.48275862068966,
          12.97709923664122,
          10.091743119266056,
          11.11111111111111,
          15.09433962264151,
          14.925373134328357,
          0.7407407407407408,
          23.52941176470588,
          0,
          25,
          25.252525252525253,
          23.07692307692308,
          11,
          9.70873786407767,
          0,
          14.102564102564102,
          0,
          15.306122448979592,
          12.82051282051282,
          18.115942028985508
         ],
         "xaxis": "x",
         "y": [
          152.47382474283006,
          109.24318681044372,
          127.3968445394068,
          182.18686454265423,
          164.91060976999887,
          140.9412013890802,
          175.94034773705073,
          150.6158527171875,
          161.76287667870065,
          165.09472939270893,
          157.53049603406586,
          171.86195909531546,
          155.97635979992197,
          123.17343758134729,
          137.9245692357665,
          112.24070861768377,
          175.9233595647927,
          168.85725170699772,
          135.98010547173678,
          152.10122605616615,
          154.44815570409733,
          120.78971050747738,
          95.19246329537268,
          131.98191064880575,
          151.64104691657676,
          156.11761769013708,
          167.4262977246865,
          152.00056370123582,
          162.36954126723032,
          137.52169622105396,
          98.19356908610108,
          144.9965180087018,
          115.22930159625056,
          140.2608721397438,
          149.3068347856747,
          127.63980840272004,
          116.35321719069556,
          172.27845941657034,
          138.65355513374692,
          121.6859349233102,
          157.26333439196048,
          126.08757863086588,
          115.32437837263316,
          166.92740477213567,
          157.46686634687285,
          150.9124024474275,
          124.0332518579246,
          135.08339831913904,
          117.59975720354127,
          164.80765112963505,
          142.36415928903338,
          150.4873847118983,
          176.69709118668396,
          156.00874744366251,
          138.91228071681093,
          171.8865429370035,
          128.2080809977551,
          133.6955293774757,
          172.78679032819855,
          130.79202522427838,
          147.33572733426956,
          121.01947641549492,
          133.8030478546856,
          158.99521442637973,
          135.6115415505795,
          132.89397896664428,
          136.57875253180313,
          171.54723673352416,
          124.16298526120444,
          161.47880676446832,
          125.32953442803878,
          112.90383327616388,
          137.05786319411243,
          127.9216682750862,
          127.27649351859904,
          152.83978964325962,
          138.17957037491425,
          137.91624318405258,
          125.96214432684658,
          129.97986635940438,
          130.20663895818018
         ],
         "yaxis": "y"
        },
        {
         "hovertemplate": "<b>OLS trendline</b><br>WPM = -1.5008 * Extra Keystrokes % + 159.336<br>R<sup>2</sup>=0.664784<br><br>Keyboard=cherry mx2a brown<br>Extra Keystrokes %=%{x}<br>WPM=%{y} <b>(trend)</b><extra></extra>",
         "legendgroup": "cherry mx2a brown",
         "marker": {
          "color": "#844204",
          "symbol": "circle"
         },
         "mode": "lines",
         "name": "cherry mx2a brown",
         "showlegend": false,
         "type": "scatter",
         "x": [
          0,
          0,
          0,
          0,
          0,
          0,
          0,
          0,
          0,
          0,
          0,
          0,
          0,
          0,
          0,
          0,
          0,
          0,
          0,
          0.7407407407407408,
          2.3255813953488342,
          2.439024390243901,
          2.547770700636943,
          3.38983050847456,
          4.519774011299447,
          4.597701149425276,
          5.128205128205124,
          5.714285714285714,
          7.070707070707087,
          7.339449541284395,
          7.633587786259542,
          7.692307692307693,
          7.913669064748205,
          8,
          8.16326530612244,
          8.16326530612244,
          8.823529411764724,
          9.62566844919786,
          9.70873786407767,
          9.836065573770492,
          10.091743119266056,
          10.22727272727272,
          10.344827586206875,
          10.389610389610397,
          10.416666666666668,
          11,
          11.11111111111111,
          11.111111111111114,
          11.1731843575419,
          11.258278145695355,
          11.40939597315436,
          11.864406779660996,
          12.5,
          12.698412698412698,
          12.82051282051282,
          12.97709923664122,
          14.000000000000002,
          14.102564102564102,
          14.925373134328357,
          15.09433962264151,
          15.306122448979592,
          15.517241379310343,
          15.84158415841584,
          16.666666666666686,
          17.02127659574468,
          18.115942028985508,
          19.047619047619047,
          21.15384615384616,
          22,
          23.07692307692308,
          23.25581395348836,
          23.333333333333314,
          23.52941176470588,
          23.88059701492536,
          25,
          25.252525252525253,
          26.24113475177305,
          32.72727272727272,
          34.48275862068966,
          42.10526315789474,
          60.86956521739131
         ],
         "xaxis": "x",
         "y": [
          159.33647332745966,
          159.33647332745966,
          159.33647332745966,
          159.33647332745966,
          159.33647332745966,
          159.33647332745966,
          159.33647332745966,
          159.33647332745966,
          159.33647332745966,
          159.33647332745966,
          159.33647332745966,
          159.33647332745966,
          159.33647332745966,
          159.33647332745966,
          159.33647332745966,
          159.33647332745966,
          159.33647332745966,
          159.33647332745966,
          159.33647332745966,
          158.22477030811618,
          155.84624291789294,
          155.67598777596285,
          155.5127814137942,
          154.249018832159,
          152.55320066705875,
          152.4362476901553,
          151.64006780892788,
          150.76047860680995,
          148.72476268827188,
          148.32143423671695,
          147.87999183040853,
          147.791865049662,
          147.45964610641602,
          147.33008071855008,
          147.08505229796012,
          147.08505229796012,
          146.09412853822113,
          144.89027901192674,
          144.76560851082183,
          144.57451520175115,
          144.1907945776884,
          143.98739186720596,
          143.8109656435249,
          143.74375565355112,
          143.703149617942,
          142.82768349020898,
          142.66092803730749,
          142.66092803730746,
          142.56776856641278,
          142.44005988776905,
          142.21326239193425,
          141.53038259390735,
          140.57648487603845,
          140.27870728157146,
          140.09545953113022,
          139.86045478247274,
          138.32528626186792,
          138.17135815149726,
          136.93648711680748,
          136.68290236725292,
          136.36505889714797,
          136.04821180155747,
          135.5614384583318,
          134.32315539223134,
          133.79095713829037,
          132.1480842674289,
          130.74982425862734,
          127.58880056351606,
          126.31889365295834,
          124.70264849406665,
          124.43416923179231,
          124.31782821814011,
          124.02355388949033,
          123.49649539041617,
          121.81649642461724,
          121.43750675893196,
          119.95380253582366,
          110.21941265464778,
          107.58478104767701,
          96.14493328056716,
          67.98348608575637
         ],
         "yaxis": "y"
        },
        {
         "hovertemplate": "Keyboard=cherry mx2a black<br>Extra Keystrokes %=%{x}<br>WPM=%{y}<extra></extra>",
         "legendgroup": "cherry mx2a black",
         "marker": {
          "color": "black",
          "symbol": "circle"
         },
         "mode": "markers",
         "name": "cherry mx2a black",
         "orientation": "v",
         "showlegend": true,
         "type": "scatter",
         "x": [
          9.677419354838705,
          11.53846153846152,
          0,
          0,
          10.526315789473683,
          8.695652173913047,
          0,
          2.816901408450704,
          0,
          0,
          13.684210526315796,
          11.59420289855072,
          0,
          25.974025974025977,
          15.873015873015872,
          0,
          15.3846153846154,
          4.166666666666686,
          9.91735537190084,
          0,
          32.835820895522346,
          0,
          2.985074626865682,
          0,
          16.822429906542055,
          26.78571428571428,
          14.666666666666686,
          9.565217391304344,
          6.666666666666686,
          6.25,
          2.898550724637687,
          6.74157303370788,
          17.647058823529406,
          2.439024390243901,
          14.54545454545456,
          3.418803418803421,
          0,
          3.84615384615384,
          12.096774193548384,
          0,
          16.129032258064516,
          0,
          50,
          0,
          1.7543859649122806,
          0,
          0,
          11.11111111111111,
          0,
          12.5,
          0,
          4.635761589403973,
          6.25,
          0,
          4.950495049504951,
          0,
          15,
          5.88235294117647,
          0,
          0,
          0,
          24.69135802469136,
          3.076923076923077,
          0,
          9.63855421686747,
          5.660377358490567,
          0,
          1.5037593984962403,
          14.705882352941178,
          4.49438202247191,
          5.88235294117647,
          14.367816091954024,
          21.15384615384616,
          10.483870967741936,
          14.15929203539823,
          10.666666666666668,
          15.436241610738255,
          9.876543209876544,
          11.702127659574469,
          0
         ],
         "xaxis": "x",
         "y": [
          146.44433595184927,
          136.6271571873548,
          172.80234208490486,
          172.3111110064899,
          147.80610842237132,
          160.69571462956318,
          163.0423974332656,
          153.88220140481806,
          158.90459946714748,
          169.00078915968786,
          145.80659093370014,
          128.00652227242372,
          163.29706426797316,
          109.24223473623812,
          110.70222713112732,
          150.10625935499974,
          115.85933874173638,
          128.84979445941184,
          141.51166266613586,
          167.187397358258,
          101.75756836469589,
          168.48108175988892,
          166.05306719377637,
          176.85804740507638,
          129.35990482496123,
          119.38829912589112,
          118.98546802715708,
          141.23418660683575,
          123.0373189413574,
          147.99444078263423,
          147.69676000043526,
          145.02424464536338,
          125.76250298747593,
          141.8267411091785,
          121.38529533750436,
          146.47170934404377,
          173.74357634404953,
          145.7617418931804,
          132.25946117122206,
          163.40865956017433,
          127.8465606657534,
          169.89411634639097,
          107.9073969846212,
          170.51399109713367,
          153.13119545393778,
          133.92953908207863,
          150.80712818333052,
          128.1449478015285,
          181.42010311303127,
          125.36855853190283,
          190.01923586591963,
          145.2467205122124,
          150.375975182325,
          170.91912932909273,
          138.42014103504826,
          173.54274082509295,
          148.7378954337683,
          150.69118341870194,
          177.11665737216853,
          196.6309714500287,
          158.681751062423,
          119.42746913620064,
          161.9371032553946,
          155.38162812301294,
          134.34072602300785,
          144.06163010898945,
          161.13625904466426,
          147.1882805371,
          130.54150070285235,
          143.5891961499004,
          146.37258176350892,
          145.367590217786,
          118.12697415446168,
          142.16481685049,
          125.52783017721254,
          127.11019339434594,
          130.1147921015955,
          121.0173088492077,
          150.71000042353785,
          158.24410783269883
         ],
         "yaxis": "y"
        },
        {
         "hovertemplate": "<b>OLS trendline</b><br>WPM = -1.78905 * Extra Keystrokes % + 160.123<br>R<sup>2</sup>=0.619635<br><br>Keyboard=cherry mx2a black<br>Extra Keystrokes %=%{x}<br>WPM=%{y} <b>(trend)</b><extra></extra>",
         "legendgroup": "cherry mx2a black",
         "marker": {
          "color": "black",
          "symbol": "circle"
         },
         "mode": "lines",
         "name": "cherry mx2a black",
         "showlegend": false,
         "type": "scatter",
         "x": [
          0,
          0,
          0,
          0,
          0,
          0,
          0,
          0,
          0,
          0,
          0,
          0,
          0,
          0,
          0,
          0,
          0,
          0,
          0,
          0,
          0,
          0,
          0,
          0,
          0,
          0,
          1.5037593984962403,
          1.7543859649122806,
          2.439024390243901,
          2.816901408450704,
          2.898550724637687,
          2.985074626865682,
          3.076923076923077,
          3.418803418803421,
          3.84615384615384,
          4.166666666666686,
          4.49438202247191,
          4.635761589403973,
          4.950495049504951,
          5.660377358490567,
          5.88235294117647,
          5.88235294117647,
          6.25,
          6.25,
          6.666666666666686,
          6.74157303370788,
          8.695652173913047,
          9.565217391304344,
          9.63855421686747,
          9.677419354838705,
          9.876543209876544,
          9.91735537190084,
          10.483870967741936,
          10.526315789473683,
          10.666666666666668,
          11.11111111111111,
          11.53846153846152,
          11.59420289855072,
          11.702127659574469,
          12.096774193548384,
          12.5,
          13.684210526315796,
          14.15929203539823,
          14.367816091954024,
          14.54545454545456,
          14.666666666666686,
          14.705882352941178,
          15,
          15.3846153846154,
          15.436241610738255,
          15.873015873015872,
          16.129032258064516,
          16.822429906542055,
          17.647058823529406,
          21.15384615384616,
          24.69135802469136,
          25.974025974025977,
          26.78571428571428,
          32.835820895522346,
          50
         ],
         "xaxis": "x",
         "y": [
          160.1227293442781,
          160.1227293442781,
          160.1227293442781,
          160.1227293442781,
          160.1227293442781,
          160.1227293442781,
          160.1227293442781,
          160.1227293442781,
          160.1227293442781,
          160.1227293442781,
          160.1227293442781,
          160.1227293442781,
          160.1227293442781,
          160.1227293442781,
          160.1227293442781,
          160.1227293442781,
          160.1227293442781,
          160.1227293442781,
          160.1227293442781,
          160.1227293442781,
          160.1227293442781,
          160.1227293442781,
          160.1227293442781,
          160.1227293442781,
          160.1227293442781,
          160.1227293442781,
          157.43243488015867,
          156.9840524694721,
          155.75920295735267,
          155.08316365796986,
          154.93708929025075,
          154.7822940647574,
          154.6179729792337,
          154.00633338311766,
          153.24178388797262,
          152.66837176661377,
          152.08207397960652,
          151.82913945654565,
          151.26606687576609,
          149.99605489914927,
          149.598930411105,
          149.598930411105,
          148.94119297778167,
          148.94119297778167,
          148.1957572200152,
          148.0617462972707,
          144.56580918219612,
          143.0101171659879,
          142.87891422486192,
          142.80938271228365,
          142.45314101203684,
          142.38012618421763,
          141.3666038262841,
          141.29066809544202,
          141.03957394545753,
          140.24444247050667,
          139.47989297536165,
          139.3801691281688,
          139.1870867857316,
          138.481046054285,
          137.75965661128524,
          135.64104972079116,
          134.79110713345432,
          134.41804804198745,
          134.10024470952274,
          133.8833906708998,
          133.81323201134532,
          133.28704206468666,
          132.59894751905608,
          132.50658583507885,
          131.72517666746177,
          131.26715162428732,
          130.02663146062417,
          128.5513325447588,
          122.27752933459786,
          115.94875851367492,
          113.65400678221502,
          112.20185920215056,
          101.37794126955066,
          70.67043841230667
         ],
         "yaxis": "y"
        }
       ],
       "layout": {
        "legend": {
         "title": {
          "text": "Keyboard"
         },
         "tracegroupgap": 0
        },
        "margin": {
         "t": 60
        },
        "template": {
         "data": {
          "bar": [
           {
            "error_x": {
             "color": "#2a3f5f"
            },
            "error_y": {
             "color": "#2a3f5f"
            },
            "marker": {
             "line": {
              "color": "#E5ECF6",
              "width": 0.5
             },
             "pattern": {
              "fillmode": "overlay",
              "size": 10,
              "solidity": 0.2
             }
            },
            "type": "bar"
           }
          ],
          "barpolar": [
           {
            "marker": {
             "line": {
              "color": "#E5ECF6",
              "width": 0.5
             },
             "pattern": {
              "fillmode": "overlay",
              "size": 10,
              "solidity": 0.2
             }
            },
            "type": "barpolar"
           }
          ],
          "carpet": [
           {
            "aaxis": {
             "endlinecolor": "#2a3f5f",
             "gridcolor": "white",
             "linecolor": "white",
             "minorgridcolor": "white",
             "startlinecolor": "#2a3f5f"
            },
            "baxis": {
             "endlinecolor": "#2a3f5f",
             "gridcolor": "white",
             "linecolor": "white",
             "minorgridcolor": "white",
             "startlinecolor": "#2a3f5f"
            },
            "type": "carpet"
           }
          ],
          "choropleth": [
           {
            "colorbar": {
             "outlinewidth": 0,
             "ticks": ""
            },
            "type": "choropleth"
           }
          ],
          "contour": [
           {
            "colorbar": {
             "outlinewidth": 0,
             "ticks": ""
            },
            "colorscale": [
             [
              0,
              "#0d0887"
             ],
             [
              0.1111111111111111,
              "#46039f"
             ],
             [
              0.2222222222222222,
              "#7201a8"
             ],
             [
              0.3333333333333333,
              "#9c179e"
             ],
             [
              0.4444444444444444,
              "#bd3786"
             ],
             [
              0.5555555555555556,
              "#d8576b"
             ],
             [
              0.6666666666666666,
              "#ed7953"
             ],
             [
              0.7777777777777778,
              "#fb9f3a"
             ],
             [
              0.8888888888888888,
              "#fdca26"
             ],
             [
              1,
              "#f0f921"
             ]
            ],
            "type": "contour"
           }
          ],
          "contourcarpet": [
           {
            "colorbar": {
             "outlinewidth": 0,
             "ticks": ""
            },
            "type": "contourcarpet"
           }
          ],
          "heatmap": [
           {
            "colorbar": {
             "outlinewidth": 0,
             "ticks": ""
            },
            "colorscale": [
             [
              0,
              "#0d0887"
             ],
             [
              0.1111111111111111,
              "#46039f"
             ],
             [
              0.2222222222222222,
              "#7201a8"
             ],
             [
              0.3333333333333333,
              "#9c179e"
             ],
             [
              0.4444444444444444,
              "#bd3786"
             ],
             [
              0.5555555555555556,
              "#d8576b"
             ],
             [
              0.6666666666666666,
              "#ed7953"
             ],
             [
              0.7777777777777778,
              "#fb9f3a"
             ],
             [
              0.8888888888888888,
              "#fdca26"
             ],
             [
              1,
              "#f0f921"
             ]
            ],
            "type": "heatmap"
           }
          ],
          "heatmapgl": [
           {
            "colorbar": {
             "outlinewidth": 0,
             "ticks": ""
            },
            "colorscale": [
             [
              0,
              "#0d0887"
             ],
             [
              0.1111111111111111,
              "#46039f"
             ],
             [
              0.2222222222222222,
              "#7201a8"
             ],
             [
              0.3333333333333333,
              "#9c179e"
             ],
             [
              0.4444444444444444,
              "#bd3786"
             ],
             [
              0.5555555555555556,
              "#d8576b"
             ],
             [
              0.6666666666666666,
              "#ed7953"
             ],
             [
              0.7777777777777778,
              "#fb9f3a"
             ],
             [
              0.8888888888888888,
              "#fdca26"
             ],
             [
              1,
              "#f0f921"
             ]
            ],
            "type": "heatmapgl"
           }
          ],
          "histogram": [
           {
            "marker": {
             "pattern": {
              "fillmode": "overlay",
              "size": 10,
              "solidity": 0.2
             }
            },
            "type": "histogram"
           }
          ],
          "histogram2d": [
           {
            "colorbar": {
             "outlinewidth": 0,
             "ticks": ""
            },
            "colorscale": [
             [
              0,
              "#0d0887"
             ],
             [
              0.1111111111111111,
              "#46039f"
             ],
             [
              0.2222222222222222,
              "#7201a8"
             ],
             [
              0.3333333333333333,
              "#9c179e"
             ],
             [
              0.4444444444444444,
              "#bd3786"
             ],
             [
              0.5555555555555556,
              "#d8576b"
             ],
             [
              0.6666666666666666,
              "#ed7953"
             ],
             [
              0.7777777777777778,
              "#fb9f3a"
             ],
             [
              0.8888888888888888,
              "#fdca26"
             ],
             [
              1,
              "#f0f921"
             ]
            ],
            "type": "histogram2d"
           }
          ],
          "histogram2dcontour": [
           {
            "colorbar": {
             "outlinewidth": 0,
             "ticks": ""
            },
            "colorscale": [
             [
              0,
              "#0d0887"
             ],
             [
              0.1111111111111111,
              "#46039f"
             ],
             [
              0.2222222222222222,
              "#7201a8"
             ],
             [
              0.3333333333333333,
              "#9c179e"
             ],
             [
              0.4444444444444444,
              "#bd3786"
             ],
             [
              0.5555555555555556,
              "#d8576b"
             ],
             [
              0.6666666666666666,
              "#ed7953"
             ],
             [
              0.7777777777777778,
              "#fb9f3a"
             ],
             [
              0.8888888888888888,
              "#fdca26"
             ],
             [
              1,
              "#f0f921"
             ]
            ],
            "type": "histogram2dcontour"
           }
          ],
          "mesh3d": [
           {
            "colorbar": {
             "outlinewidth": 0,
             "ticks": ""
            },
            "type": "mesh3d"
           }
          ],
          "parcoords": [
           {
            "line": {
             "colorbar": {
              "outlinewidth": 0,
              "ticks": ""
             }
            },
            "type": "parcoords"
           }
          ],
          "pie": [
           {
            "automargin": true,
            "type": "pie"
           }
          ],
          "scatter": [
           {
            "fillpattern": {
             "fillmode": "overlay",
             "size": 10,
             "solidity": 0.2
            },
            "type": "scatter"
           }
          ],
          "scatter3d": [
           {
            "line": {
             "colorbar": {
              "outlinewidth": 0,
              "ticks": ""
             }
            },
            "marker": {
             "colorbar": {
              "outlinewidth": 0,
              "ticks": ""
             }
            },
            "type": "scatter3d"
           }
          ],
          "scattercarpet": [
           {
            "marker": {
             "colorbar": {
              "outlinewidth": 0,
              "ticks": ""
             }
            },
            "type": "scattercarpet"
           }
          ],
          "scattergeo": [
           {
            "marker": {
             "colorbar": {
              "outlinewidth": 0,
              "ticks": ""
             }
            },
            "type": "scattergeo"
           }
          ],
          "scattergl": [
           {
            "marker": {
             "colorbar": {
              "outlinewidth": 0,
              "ticks": ""
             }
            },
            "type": "scattergl"
           }
          ],
          "scattermapbox": [
           {
            "marker": {
             "colorbar": {
              "outlinewidth": 0,
              "ticks": ""
             }
            },
            "type": "scattermapbox"
           }
          ],
          "scatterpolar": [
           {
            "marker": {
             "colorbar": {
              "outlinewidth": 0,
              "ticks": ""
             }
            },
            "type": "scatterpolar"
           }
          ],
          "scatterpolargl": [
           {
            "marker": {
             "colorbar": {
              "outlinewidth": 0,
              "ticks": ""
             }
            },
            "type": "scatterpolargl"
           }
          ],
          "scatterternary": [
           {
            "marker": {
             "colorbar": {
              "outlinewidth": 0,
              "ticks": ""
             }
            },
            "type": "scatterternary"
           }
          ],
          "surface": [
           {
            "colorbar": {
             "outlinewidth": 0,
             "ticks": ""
            },
            "colorscale": [
             [
              0,
              "#0d0887"
             ],
             [
              0.1111111111111111,
              "#46039f"
             ],
             [
              0.2222222222222222,
              "#7201a8"
             ],
             [
              0.3333333333333333,
              "#9c179e"
             ],
             [
              0.4444444444444444,
              "#bd3786"
             ],
             [
              0.5555555555555556,
              "#d8576b"
             ],
             [
              0.6666666666666666,
              "#ed7953"
             ],
             [
              0.7777777777777778,
              "#fb9f3a"
             ],
             [
              0.8888888888888888,
              "#fdca26"
             ],
             [
              1,
              "#f0f921"
             ]
            ],
            "type": "surface"
           }
          ],
          "table": [
           {
            "cells": {
             "fill": {
              "color": "#EBF0F8"
             },
             "line": {
              "color": "white"
             }
            },
            "header": {
             "fill": {
              "color": "#C8D4E3"
             },
             "line": {
              "color": "white"
             }
            },
            "type": "table"
           }
          ]
         },
         "layout": {
          "annotationdefaults": {
           "arrowcolor": "#2a3f5f",
           "arrowhead": 0,
           "arrowwidth": 1
          },
          "autotypenumbers": "strict",
          "coloraxis": {
           "colorbar": {
            "outlinewidth": 0,
            "ticks": ""
           }
          },
          "colorscale": {
           "diverging": [
            [
             0,
             "#8e0152"
            ],
            [
             0.1,
             "#c51b7d"
            ],
            [
             0.2,
             "#de77ae"
            ],
            [
             0.3,
             "#f1b6da"
            ],
            [
             0.4,
             "#fde0ef"
            ],
            [
             0.5,
             "#f7f7f7"
            ],
            [
             0.6,
             "#e6f5d0"
            ],
            [
             0.7,
             "#b8e186"
            ],
            [
             0.8,
             "#7fbc41"
            ],
            [
             0.9,
             "#4d9221"
            ],
            [
             1,
             "#276419"
            ]
           ],
           "sequential": [
            [
             0,
             "#0d0887"
            ],
            [
             0.1111111111111111,
             "#46039f"
            ],
            [
             0.2222222222222222,
             "#7201a8"
            ],
            [
             0.3333333333333333,
             "#9c179e"
            ],
            [
             0.4444444444444444,
             "#bd3786"
            ],
            [
             0.5555555555555556,
             "#d8576b"
            ],
            [
             0.6666666666666666,
             "#ed7953"
            ],
            [
             0.7777777777777778,
             "#fb9f3a"
            ],
            [
             0.8888888888888888,
             "#fdca26"
            ],
            [
             1,
             "#f0f921"
            ]
           ],
           "sequentialminus": [
            [
             0,
             "#0d0887"
            ],
            [
             0.1111111111111111,
             "#46039f"
            ],
            [
             0.2222222222222222,
             "#7201a8"
            ],
            [
             0.3333333333333333,
             "#9c179e"
            ],
            [
             0.4444444444444444,
             "#bd3786"
            ],
            [
             0.5555555555555556,
             "#d8576b"
            ],
            [
             0.6666666666666666,
             "#ed7953"
            ],
            [
             0.7777777777777778,
             "#fb9f3a"
            ],
            [
             0.8888888888888888,
             "#fdca26"
            ],
            [
             1,
             "#f0f921"
            ]
           ]
          },
          "colorway": [
           "#636efa",
           "#EF553B",
           "#00cc96",
           "#ab63fa",
           "#FFA15A",
           "#19d3f3",
           "#FF6692",
           "#B6E880",
           "#FF97FF",
           "#FECB52"
          ],
          "font": {
           "color": "#2a3f5f"
          },
          "geo": {
           "bgcolor": "white",
           "lakecolor": "white",
           "landcolor": "#E5ECF6",
           "showlakes": true,
           "showland": true,
           "subunitcolor": "white"
          },
          "hoverlabel": {
           "align": "left"
          },
          "hovermode": "closest",
          "mapbox": {
           "style": "light"
          },
          "paper_bgcolor": "white",
          "plot_bgcolor": "#E5ECF6",
          "polar": {
           "angularaxis": {
            "gridcolor": "white",
            "linecolor": "white",
            "ticks": ""
           },
           "bgcolor": "#E5ECF6",
           "radialaxis": {
            "gridcolor": "white",
            "linecolor": "white",
            "ticks": ""
           }
          },
          "scene": {
           "xaxis": {
            "backgroundcolor": "#E5ECF6",
            "gridcolor": "white",
            "gridwidth": 2,
            "linecolor": "white",
            "showbackground": true,
            "ticks": "",
            "zerolinecolor": "white"
           },
           "yaxis": {
            "backgroundcolor": "#E5ECF6",
            "gridcolor": "white",
            "gridwidth": 2,
            "linecolor": "white",
            "showbackground": true,
            "ticks": "",
            "zerolinecolor": "white"
           },
           "zaxis": {
            "backgroundcolor": "#E5ECF6",
            "gridcolor": "white",
            "gridwidth": 2,
            "linecolor": "white",
            "showbackground": true,
            "ticks": "",
            "zerolinecolor": "white"
           }
          },
          "shapedefaults": {
           "line": {
            "color": "#2a3f5f"
           }
          },
          "ternary": {
           "aaxis": {
            "gridcolor": "white",
            "linecolor": "white",
            "ticks": ""
           },
           "baxis": {
            "gridcolor": "white",
            "linecolor": "white",
            "ticks": ""
           },
           "bgcolor": "#E5ECF6",
           "caxis": {
            "gridcolor": "white",
            "linecolor": "white",
            "ticks": ""
           }
          },
          "title": {
           "x": 0.05
          },
          "xaxis": {
           "automargin": true,
           "gridcolor": "white",
           "linecolor": "white",
           "ticks": "",
           "title": {
            "standoff": 15
           },
           "zerolinecolor": "white",
           "zerolinewidth": 2
          },
          "yaxis": {
           "automargin": true,
           "gridcolor": "white",
           "linecolor": "white",
           "ticks": "",
           "title": {
            "standoff": 15
           },
           "zerolinecolor": "white",
           "zerolinewidth": 2
          }
         }
        },
        "xaxis": {
         "anchor": "y",
         "domain": [
          0,
          1
         ],
         "title": {
          "text": "Extra Keystrokes %"
         }
        },
        "yaxis": {
         "anchor": "x",
         "domain": [
          0,
          1
         ],
         "title": {
          "text": "WPM"
         }
        }
       }
      }
     },
     "metadata": {},
     "output_type": "display_data"
    }
   ],
   "source": [
    "fig_keyswitch_accuracy_and_wpm_comparison = px.scatter(df_trial_results, x= 'Extra Keystrokes %', \n",
    "y = 'WPM', trendline = 'ols', color = 'Keyboard', \n",
    "color_discrete_map = keyboard_color_discrete_map)\n",
    "fig_keyswitch_accuracy_and_wpm_comparison.write_html(analytics_folder+'keyswitch_accuracy_and_wpm_comparison.html')\n",
    "fig_keyswitch_accuracy_and_wpm_comparison.write_html(\n",
    "analytics_folder+'accuracy_wpm_comparison.html')\n",
    "fig_keyswitch_accuracy_and_wpm_comparison"
   ]
  },
  {
   "cell_type": "code",
   "execution_count": 16,
   "metadata": {},
   "outputs": [
    {
     "data": {
      "application/vnd.plotly.v1+json": {
       "config": {
        "plotlyServerURL": "https://plot.ly"
       },
       "data": [
        {
         "hovertemplate": "Keyboard=cherry mx2a black<br>Scatter_X_Values=%{x}<br>WPM=%{y}<extra></extra>",
         "legendgroup": "cherry mx2a black",
         "marker": {
          "color": "black",
          "symbol": "circle"
         },
         "mode": "markers",
         "name": "cherry mx2a black",
         "orientation": "v",
         "showlegend": true,
         "type": "scatter",
         "x": [
          0,
          1,
          3,
          4,
          0,
          1,
          2,
          4,
          1,
          0,
          1,
          2,
          3,
          1,
          0,
          0,
          1,
          2,
          2,
          3,
          4,
          0,
          0,
          3,
          4,
          0
         ],
         "xaxis": "x",
         "y": [
          196.6309714500287,
          190.01923586591963,
          181.42010311303127,
          177.11665737216853,
          176.85804740507638,
          173.74357634404953,
          173.54274082509295,
          172.80234208490486,
          172.3111110064899,
          170.91912932909273,
          170.51399109713367,
          169.89411634639097,
          169.00078915968786,
          168.48108175988892,
          167.187397358258,
          163.40865956017433,
          163.29706426797316,
          163.0423974332656,
          161.13625904466426,
          158.90459946714748,
          158.681751062423,
          158.24410783269883,
          155.38162812301294,
          150.80712818333052,
          150.10625935499974,
          133.92953908207863
         ],
         "yaxis": "y"
        },
        {
         "hovertemplate": "Keyboard=cherry mx2a brown<br>Scatter_X_Values=%{x}<br>WPM=%{y}<extra></extra>",
         "legendgroup": "cherry mx2a brown",
         "marker": {
          "color": "#844204",
          "symbol": "circle"
         },
         "mode": "markers",
         "name": "cherry mx2a brown",
         "orientation": "v",
         "showlegend": true,
         "type": "scatter",
         "x": [
          2,
          1,
          2,
          3,
          0,
          3,
          4,
          4,
          4,
          1,
          2,
          3,
          4,
          1,
          2,
          3,
          2,
          0,
          4
         ],
         "xaxis": "x",
         "y": [
          182.18686454265423,
          176.69709118668396,
          175.94034773705073,
          175.9233595647927,
          172.78679032819855,
          171.8865429370035,
          171.86195909531546,
          168.85725170699772,
          167.4262977246865,
          166.92740477213567,
          164.91060976999887,
          164.80765112963505,
          161.76287667870065,
          161.47880676446832,
          157.46686634687285,
          157.26333439196048,
          152.83978964325962,
          149.3068347856747,
          137.91624318405258
         ],
         "yaxis": "y"
        },
        {
         "hovertemplate": "Keyboard=cherry red<br>Scatter_X_Values=%{x}<br>WPM=%{y}<extra></extra>",
         "legendgroup": "cherry red",
         "marker": {
          "color": "#EE0000",
          "symbol": "circle"
         },
         "mode": "markers",
         "name": "cherry red",
         "orientation": "v",
         "showlegend": true,
         "type": "scatter",
         "x": [
          4,
          0,
          3,
          2,
          0,
          2,
          3,
          4,
          3,
          0,
          1,
          4,
          1,
          1,
          2,
          3
         ],
         "xaxis": "x",
         "y": [
          175.4166735434404,
          174.14643054238147,
          173.44468666733,
          172.07996366515331,
          168.69263701528286,
          168.18125352368395,
          167.67737450428257,
          164.35207111885234,
          162.4344269601183,
          161.5110221140347,
          158.22468445577573,
          155.4771432496433,
          155.00121298993463,
          145.73428678916457,
          144.87050961927997,
          142.1308654150991
         ],
         "yaxis": "y"
        }
       ],
       "layout": {
        "height": 500,
        "legend": {
         "title": {
          "text": "Keyboard"
         },
         "tracegroupgap": 0
        },
        "margin": {
         "t": 60
        },
        "template": {
         "data": {
          "bar": [
           {
            "error_x": {
             "color": "#2a3f5f"
            },
            "error_y": {
             "color": "#2a3f5f"
            },
            "marker": {
             "line": {
              "color": "#E5ECF6",
              "width": 0.5
             },
             "pattern": {
              "fillmode": "overlay",
              "size": 10,
              "solidity": 0.2
             }
            },
            "type": "bar"
           }
          ],
          "barpolar": [
           {
            "marker": {
             "line": {
              "color": "#E5ECF6",
              "width": 0.5
             },
             "pattern": {
              "fillmode": "overlay",
              "size": 10,
              "solidity": 0.2
             }
            },
            "type": "barpolar"
           }
          ],
          "carpet": [
           {
            "aaxis": {
             "endlinecolor": "#2a3f5f",
             "gridcolor": "white",
             "linecolor": "white",
             "minorgridcolor": "white",
             "startlinecolor": "#2a3f5f"
            },
            "baxis": {
             "endlinecolor": "#2a3f5f",
             "gridcolor": "white",
             "linecolor": "white",
             "minorgridcolor": "white",
             "startlinecolor": "#2a3f5f"
            },
            "type": "carpet"
           }
          ],
          "choropleth": [
           {
            "colorbar": {
             "outlinewidth": 0,
             "ticks": ""
            },
            "type": "choropleth"
           }
          ],
          "contour": [
           {
            "colorbar": {
             "outlinewidth": 0,
             "ticks": ""
            },
            "colorscale": [
             [
              0,
              "#0d0887"
             ],
             [
              0.1111111111111111,
              "#46039f"
             ],
             [
              0.2222222222222222,
              "#7201a8"
             ],
             [
              0.3333333333333333,
              "#9c179e"
             ],
             [
              0.4444444444444444,
              "#bd3786"
             ],
             [
              0.5555555555555556,
              "#d8576b"
             ],
             [
              0.6666666666666666,
              "#ed7953"
             ],
             [
              0.7777777777777778,
              "#fb9f3a"
             ],
             [
              0.8888888888888888,
              "#fdca26"
             ],
             [
              1,
              "#f0f921"
             ]
            ],
            "type": "contour"
           }
          ],
          "contourcarpet": [
           {
            "colorbar": {
             "outlinewidth": 0,
             "ticks": ""
            },
            "type": "contourcarpet"
           }
          ],
          "heatmap": [
           {
            "colorbar": {
             "outlinewidth": 0,
             "ticks": ""
            },
            "colorscale": [
             [
              0,
              "#0d0887"
             ],
             [
              0.1111111111111111,
              "#46039f"
             ],
             [
              0.2222222222222222,
              "#7201a8"
             ],
             [
              0.3333333333333333,
              "#9c179e"
             ],
             [
              0.4444444444444444,
              "#bd3786"
             ],
             [
              0.5555555555555556,
              "#d8576b"
             ],
             [
              0.6666666666666666,
              "#ed7953"
             ],
             [
              0.7777777777777778,
              "#fb9f3a"
             ],
             [
              0.8888888888888888,
              "#fdca26"
             ],
             [
              1,
              "#f0f921"
             ]
            ],
            "type": "heatmap"
           }
          ],
          "heatmapgl": [
           {
            "colorbar": {
             "outlinewidth": 0,
             "ticks": ""
            },
            "colorscale": [
             [
              0,
              "#0d0887"
             ],
             [
              0.1111111111111111,
              "#46039f"
             ],
             [
              0.2222222222222222,
              "#7201a8"
             ],
             [
              0.3333333333333333,
              "#9c179e"
             ],
             [
              0.4444444444444444,
              "#bd3786"
             ],
             [
              0.5555555555555556,
              "#d8576b"
             ],
             [
              0.6666666666666666,
              "#ed7953"
             ],
             [
              0.7777777777777778,
              "#fb9f3a"
             ],
             [
              0.8888888888888888,
              "#fdca26"
             ],
             [
              1,
              "#f0f921"
             ]
            ],
            "type": "heatmapgl"
           }
          ],
          "histogram": [
           {
            "marker": {
             "pattern": {
              "fillmode": "overlay",
              "size": 10,
              "solidity": 0.2
             }
            },
            "type": "histogram"
           }
          ],
          "histogram2d": [
           {
            "colorbar": {
             "outlinewidth": 0,
             "ticks": ""
            },
            "colorscale": [
             [
              0,
              "#0d0887"
             ],
             [
              0.1111111111111111,
              "#46039f"
             ],
             [
              0.2222222222222222,
              "#7201a8"
             ],
             [
              0.3333333333333333,
              "#9c179e"
             ],
             [
              0.4444444444444444,
              "#bd3786"
             ],
             [
              0.5555555555555556,
              "#d8576b"
             ],
             [
              0.6666666666666666,
              "#ed7953"
             ],
             [
              0.7777777777777778,
              "#fb9f3a"
             ],
             [
              0.8888888888888888,
              "#fdca26"
             ],
             [
              1,
              "#f0f921"
             ]
            ],
            "type": "histogram2d"
           }
          ],
          "histogram2dcontour": [
           {
            "colorbar": {
             "outlinewidth": 0,
             "ticks": ""
            },
            "colorscale": [
             [
              0,
              "#0d0887"
             ],
             [
              0.1111111111111111,
              "#46039f"
             ],
             [
              0.2222222222222222,
              "#7201a8"
             ],
             [
              0.3333333333333333,
              "#9c179e"
             ],
             [
              0.4444444444444444,
              "#bd3786"
             ],
             [
              0.5555555555555556,
              "#d8576b"
             ],
             [
              0.6666666666666666,
              "#ed7953"
             ],
             [
              0.7777777777777778,
              "#fb9f3a"
             ],
             [
              0.8888888888888888,
              "#fdca26"
             ],
             [
              1,
              "#f0f921"
             ]
            ],
            "type": "histogram2dcontour"
           }
          ],
          "mesh3d": [
           {
            "colorbar": {
             "outlinewidth": 0,
             "ticks": ""
            },
            "type": "mesh3d"
           }
          ],
          "parcoords": [
           {
            "line": {
             "colorbar": {
              "outlinewidth": 0,
              "ticks": ""
             }
            },
            "type": "parcoords"
           }
          ],
          "pie": [
           {
            "automargin": true,
            "type": "pie"
           }
          ],
          "scatter": [
           {
            "fillpattern": {
             "fillmode": "overlay",
             "size": 10,
             "solidity": 0.2
            },
            "type": "scatter"
           }
          ],
          "scatter3d": [
           {
            "line": {
             "colorbar": {
              "outlinewidth": 0,
              "ticks": ""
             }
            },
            "marker": {
             "colorbar": {
              "outlinewidth": 0,
              "ticks": ""
             }
            },
            "type": "scatter3d"
           }
          ],
          "scattercarpet": [
           {
            "marker": {
             "colorbar": {
              "outlinewidth": 0,
              "ticks": ""
             }
            },
            "type": "scattercarpet"
           }
          ],
          "scattergeo": [
           {
            "marker": {
             "colorbar": {
              "outlinewidth": 0,
              "ticks": ""
             }
            },
            "type": "scattergeo"
           }
          ],
          "scattergl": [
           {
            "marker": {
             "colorbar": {
              "outlinewidth": 0,
              "ticks": ""
             }
            },
            "type": "scattergl"
           }
          ],
          "scattermapbox": [
           {
            "marker": {
             "colorbar": {
              "outlinewidth": 0,
              "ticks": ""
             }
            },
            "type": "scattermapbox"
           }
          ],
          "scatterpolar": [
           {
            "marker": {
             "colorbar": {
              "outlinewidth": 0,
              "ticks": ""
             }
            },
            "type": "scatterpolar"
           }
          ],
          "scatterpolargl": [
           {
            "marker": {
             "colorbar": {
              "outlinewidth": 0,
              "ticks": ""
             }
            },
            "type": "scatterpolargl"
           }
          ],
          "scatterternary": [
           {
            "marker": {
             "colorbar": {
              "outlinewidth": 0,
              "ticks": ""
             }
            },
            "type": "scatterternary"
           }
          ],
          "surface": [
           {
            "colorbar": {
             "outlinewidth": 0,
             "ticks": ""
            },
            "colorscale": [
             [
              0,
              "#0d0887"
             ],
             [
              0.1111111111111111,
              "#46039f"
             ],
             [
              0.2222222222222222,
              "#7201a8"
             ],
             [
              0.3333333333333333,
              "#9c179e"
             ],
             [
              0.4444444444444444,
              "#bd3786"
             ],
             [
              0.5555555555555556,
              "#d8576b"
             ],
             [
              0.6666666666666666,
              "#ed7953"
             ],
             [
              0.7777777777777778,
              "#fb9f3a"
             ],
             [
              0.8888888888888888,
              "#fdca26"
             ],
             [
              1,
              "#f0f921"
             ]
            ],
            "type": "surface"
           }
          ],
          "table": [
           {
            "cells": {
             "fill": {
              "color": "#EBF0F8"
             },
             "line": {
              "color": "white"
             }
            },
            "header": {
             "fill": {
              "color": "#C8D4E3"
             },
             "line": {
              "color": "white"
             }
            },
            "type": "table"
           }
          ]
         },
         "layout": {
          "annotationdefaults": {
           "arrowcolor": "#2a3f5f",
           "arrowhead": 0,
           "arrowwidth": 1
          },
          "autotypenumbers": "strict",
          "coloraxis": {
           "colorbar": {
            "outlinewidth": 0,
            "ticks": ""
           }
          },
          "colorscale": {
           "diverging": [
            [
             0,
             "#8e0152"
            ],
            [
             0.1,
             "#c51b7d"
            ],
            [
             0.2,
             "#de77ae"
            ],
            [
             0.3,
             "#f1b6da"
            ],
            [
             0.4,
             "#fde0ef"
            ],
            [
             0.5,
             "#f7f7f7"
            ],
            [
             0.6,
             "#e6f5d0"
            ],
            [
             0.7,
             "#b8e186"
            ],
            [
             0.8,
             "#7fbc41"
            ],
            [
             0.9,
             "#4d9221"
            ],
            [
             1,
             "#276419"
            ]
           ],
           "sequential": [
            [
             0,
             "#0d0887"
            ],
            [
             0.1111111111111111,
             "#46039f"
            ],
            [
             0.2222222222222222,
             "#7201a8"
            ],
            [
             0.3333333333333333,
             "#9c179e"
            ],
            [
             0.4444444444444444,
             "#bd3786"
            ],
            [
             0.5555555555555556,
             "#d8576b"
            ],
            [
             0.6666666666666666,
             "#ed7953"
            ],
            [
             0.7777777777777778,
             "#fb9f3a"
            ],
            [
             0.8888888888888888,
             "#fdca26"
            ],
            [
             1,
             "#f0f921"
            ]
           ],
           "sequentialminus": [
            [
             0,
             "#0d0887"
            ],
            [
             0.1111111111111111,
             "#46039f"
            ],
            [
             0.2222222222222222,
             "#7201a8"
            ],
            [
             0.3333333333333333,
             "#9c179e"
            ],
            [
             0.4444444444444444,
             "#bd3786"
            ],
            [
             0.5555555555555556,
             "#d8576b"
            ],
            [
             0.6666666666666666,
             "#ed7953"
            ],
            [
             0.7777777777777778,
             "#fb9f3a"
            ],
            [
             0.8888888888888888,
             "#fdca26"
            ],
            [
             1,
             "#f0f921"
            ]
           ]
          },
          "colorway": [
           "#636efa",
           "#EF553B",
           "#00cc96",
           "#ab63fa",
           "#FFA15A",
           "#19d3f3",
           "#FF6692",
           "#B6E880",
           "#FF97FF",
           "#FECB52"
          ],
          "font": {
           "color": "#2a3f5f"
          },
          "geo": {
           "bgcolor": "white",
           "lakecolor": "white",
           "landcolor": "#E5ECF6",
           "showlakes": true,
           "showland": true,
           "subunitcolor": "white"
          },
          "hoverlabel": {
           "align": "left"
          },
          "hovermode": "closest",
          "mapbox": {
           "style": "light"
          },
          "paper_bgcolor": "white",
          "plot_bgcolor": "#E5ECF6",
          "polar": {
           "angularaxis": {
            "gridcolor": "white",
            "linecolor": "white",
            "ticks": ""
           },
           "bgcolor": "#E5ECF6",
           "radialaxis": {
            "gridcolor": "white",
            "linecolor": "white",
            "ticks": ""
           }
          },
          "scene": {
           "xaxis": {
            "backgroundcolor": "#E5ECF6",
            "gridcolor": "white",
            "gridwidth": 2,
            "linecolor": "white",
            "showbackground": true,
            "ticks": "",
            "zerolinecolor": "white"
           },
           "yaxis": {
            "backgroundcolor": "#E5ECF6",
            "gridcolor": "white",
            "gridwidth": 2,
            "linecolor": "white",
            "showbackground": true,
            "ticks": "",
            "zerolinecolor": "white"
           },
           "zaxis": {
            "backgroundcolor": "#E5ECF6",
            "gridcolor": "white",
            "gridwidth": 2,
            "linecolor": "white",
            "showbackground": true,
            "ticks": "",
            "zerolinecolor": "white"
           }
          },
          "shapedefaults": {
           "line": {
            "color": "#2a3f5f"
           }
          },
          "ternary": {
           "aaxis": {
            "gridcolor": "white",
            "linecolor": "white",
            "ticks": ""
           },
           "baxis": {
            "gridcolor": "white",
            "linecolor": "white",
            "ticks": ""
           },
           "bgcolor": "#E5ECF6",
           "caxis": {
            "gridcolor": "white",
            "linecolor": "white",
            "ticks": ""
           }
          },
          "title": {
           "x": 0.05
          },
          "xaxis": {
           "automargin": true,
           "gridcolor": "white",
           "linecolor": "white",
           "ticks": "",
           "title": {
            "standoff": 15
           },
           "zerolinecolor": "white",
           "zerolinewidth": 2
          },
          "yaxis": {
           "automargin": true,
           "gridcolor": "white",
           "linecolor": "white",
           "ticks": "",
           "title": {
            "standoff": 15
           },
           "zerolinecolor": "white",
           "zerolinewidth": 2
          }
         }
        },
        "width": 300,
        "xaxis": {
         "anchor": "y",
         "domain": [
          0,
          1
         ],
         "range": [
          -1,
          5
         ],
         "title": {
          "text": "Scatter_X_Values"
         }
        },
        "yaxis": {
         "anchor": "x",
         "domain": [
          0,
          1
         ],
         "title": {
          "text": "WPM"
         }
        }
       }
      }
     },
     "metadata": {},
     "output_type": "display_data"
    }
   ],
   "source": [
    "fig_mistake_free_wpm_by_keyboard = px.scatter(\n",
    "df_mistake_free_trial_results, \n",
    "x = 'Scatter_X_Values', y = 'WPM', color = 'Keyboard', \n",
    "color_discrete_map=keyboard_color_discrete_map, width = 300, height = 500)\n",
    "fig_mistake_free_wpm_by_keyboard.update_xaxes(range = [-1, 5])\n",
    "fig_mistake_free_wpm_by_keyboard.write_html(\n",
    "analytics_folder+'mistake_free_wpm_by_keyboard.html')\n",
    "fig_mistake_free_wpm_by_keyboard\n",
    "\n"
   ]
  },
  {
   "cell_type": "code",
   "execution_count": 17,
   "metadata": {},
   "outputs": [
    {
     "data": {
      "application/vnd.plotly.v1+json": {
       "config": {
        "plotlyServerURL": "https://plot.ly"
       },
       "data": [
        {
         "alignmentgroup": "True",
         "bingroup": "x",
         "hovertemplate": "Keyboard=cherry red<br>WPM=%{x}<br>count=%{y}<extra></extra>",
         "legendgroup": "cherry red",
         "marker": {
          "color": "#EE0000",
          "pattern": {
           "shape": ""
          }
         },
         "name": "cherry red",
         "nbinsx": 10,
         "offsetgroup": "cherry red",
         "orientation": "v",
         "showlegend": true,
         "type": "histogram",
         "x": [
          137.31900391250093,
          164.96358496692275,
          172.07996366515331,
          135.68585857138078,
          147.88103639607576,
          144.37130420876127,
          167.67737450428257,
          140.20563468489638,
          142.54603048901208,
          173.44468666733,
          131.05463990074165,
          164.3057588517678,
          138.38214023013975,
          161.5110221140347,
          128.99688186813512,
          138.6733353132804,
          125.16714715268114,
          127.93479637793592,
          164.35207111885234,
          158.1806222225615,
          148.1131684120203,
          155.00121298993463,
          146.9102039852309,
          133.09288317542263,
          133.07362402169178,
          106.66859021301364,
          123.90638399809508,
          101.2047762070618,
          133.06964298814387,
          162.4344269601183,
          134.20448588943097,
          131.38173989490392,
          86.23931514485199,
          131.8432741330873,
          147.88648188463,
          155.05825033351033,
          120.38909395796787,
          130.23909306271025,
          130.91445520871898,
          145.98233511066454,
          131.66597615574491,
          155.4771432496433,
          175.4166735434404,
          114.55888698605014,
          129.6805361624052,
          146.99904958859162,
          157.86989703558203,
          168.69263701528286,
          135.78324235640568,
          151.54937429551802,
          159.81755708853913,
          170.0396343543081,
          124.4718558160823,
          144.87050961927997,
          156.74178324946072,
          136.3228552836389,
          163.68162928693792,
          145.73428678916457,
          129.16857952774893,
          128.69058992958003,
          126.91428612405085,
          136.02225382956743,
          128.78080992397707,
          147.65942724871726,
          168.18125352368395,
          168.25886997314882,
          174.14643054238147,
          159.60485907972327,
          112.50409078698758,
          127.742408222353,
          102.36327734833849,
          128.3486474066924,
          130.04342699188152,
          142.1308654150991,
          139.24297448039712,
          158.22468445577573,
          148.59542805320336,
          116.40126485415249,
          153.32775095564992,
          154.3214916191622
         ],
         "xaxis": "x",
         "yaxis": "y"
        },
        {
         "alignmentgroup": "True",
         "bingroup": "x",
         "hovertemplate": "Keyboard=cherry mx2a brown<br>WPM=%{x}<br>count=%{y}<extra></extra>",
         "legendgroup": "cherry mx2a brown",
         "marker": {
          "color": "#844204",
          "pattern": {
           "shape": ""
          }
         },
         "name": "cherry mx2a brown",
         "nbinsx": 10,
         "offsetgroup": "cherry mx2a brown",
         "orientation": "v",
         "showlegend": true,
         "type": "histogram",
         "x": [
          152.47382474283006,
          109.24318681044372,
          127.3968445394068,
          182.18686454265423,
          164.91060976999887,
          140.9412013890802,
          175.94034773705073,
          150.6158527171875,
          161.76287667870065,
          165.09472939270893,
          157.53049603406586,
          171.86195909531546,
          155.97635979992197,
          123.17343758134729,
          137.9245692357665,
          112.24070861768377,
          175.9233595647927,
          168.85725170699772,
          135.98010547173678,
          152.10122605616615,
          154.44815570409733,
          120.78971050747738,
          95.19246329537268,
          131.98191064880575,
          151.64104691657676,
          156.11761769013708,
          167.4262977246865,
          152.00056370123582,
          162.36954126723032,
          137.52169622105396,
          98.19356908610108,
          144.9965180087018,
          115.22930159625056,
          140.2608721397438,
          149.3068347856747,
          127.63980840272004,
          116.35321719069556,
          172.27845941657034,
          138.65355513374692,
          121.6859349233102,
          157.26333439196048,
          126.08757863086588,
          115.32437837263316,
          166.92740477213567,
          157.46686634687285,
          150.9124024474275,
          124.0332518579246,
          135.08339831913904,
          117.59975720354127,
          164.80765112963505,
          142.36415928903338,
          150.4873847118983,
          176.69709118668396,
          156.00874744366251,
          138.91228071681093,
          171.8865429370035,
          128.2080809977551,
          133.6955293774757,
          172.78679032819855,
          130.79202522427838,
          147.33572733426956,
          121.01947641549492,
          133.8030478546856,
          158.99521442637973,
          135.6115415505795,
          132.89397896664428,
          136.57875253180313,
          171.54723673352416,
          124.16298526120444,
          161.47880676446832,
          125.32953442803878,
          112.90383327616388,
          137.05786319411243,
          127.9216682750862,
          127.27649351859904,
          152.83978964325962,
          138.17957037491425,
          137.91624318405258,
          125.96214432684658,
          129.97986635940438,
          130.20663895818018
         ],
         "xaxis": "x",
         "yaxis": "y"
        },
        {
         "alignmentgroup": "True",
         "bingroup": "x",
         "hovertemplate": "Keyboard=cherry mx2a black<br>WPM=%{x}<br>count=%{y}<extra></extra>",
         "legendgroup": "cherry mx2a black",
         "marker": {
          "color": "black",
          "pattern": {
           "shape": ""
          }
         },
         "name": "cherry mx2a black",
         "nbinsx": 10,
         "offsetgroup": "cherry mx2a black",
         "orientation": "v",
         "showlegend": true,
         "type": "histogram",
         "x": [
          146.44433595184927,
          136.6271571873548,
          172.80234208490486,
          172.3111110064899,
          147.80610842237132,
          160.69571462956318,
          163.0423974332656,
          153.88220140481806,
          158.90459946714748,
          169.00078915968786,
          145.80659093370014,
          128.00652227242372,
          163.29706426797316,
          109.24223473623812,
          110.70222713112732,
          150.10625935499974,
          115.85933874173638,
          128.84979445941184,
          141.51166266613586,
          167.187397358258,
          101.75756836469589,
          168.48108175988892,
          166.05306719377637,
          176.85804740507638,
          129.35990482496123,
          119.38829912589112,
          118.98546802715708,
          141.23418660683575,
          123.0373189413574,
          147.99444078263423,
          147.69676000043526,
          145.02424464536338,
          125.76250298747593,
          141.8267411091785,
          121.38529533750436,
          146.47170934404377,
          173.74357634404953,
          145.7617418931804,
          132.25946117122206,
          163.40865956017433,
          127.8465606657534,
          169.89411634639097,
          107.9073969846212,
          170.51399109713367,
          153.13119545393778,
          133.92953908207863,
          150.80712818333052,
          128.1449478015285,
          181.42010311303127,
          125.36855853190283,
          190.01923586591963,
          145.2467205122124,
          150.375975182325,
          170.91912932909273,
          138.42014103504826,
          173.54274082509295,
          148.7378954337683,
          150.69118341870194,
          177.11665737216853,
          196.6309714500287,
          158.681751062423,
          119.42746913620064,
          161.9371032553946,
          155.38162812301294,
          134.34072602300785,
          144.06163010898945,
          161.13625904466426,
          147.1882805371,
          130.54150070285235,
          143.5891961499004,
          146.37258176350892,
          145.367590217786,
          118.12697415446168,
          142.16481685049,
          125.52783017721254,
          127.11019339434594,
          130.1147921015955,
          121.0173088492077,
          150.71000042353785,
          158.24410783269883
         ],
         "xaxis": "x",
         "yaxis": "y"
        }
       ],
       "layout": {
        "barmode": "group",
        "legend": {
         "title": {
          "text": "Keyboard"
         },
         "tracegroupgap": 0
        },
        "margin": {
         "t": 60
        },
        "template": {
         "data": {
          "bar": [
           {
            "error_x": {
             "color": "#2a3f5f"
            },
            "error_y": {
             "color": "#2a3f5f"
            },
            "marker": {
             "line": {
              "color": "#E5ECF6",
              "width": 0.5
             },
             "pattern": {
              "fillmode": "overlay",
              "size": 10,
              "solidity": 0.2
             }
            },
            "type": "bar"
           }
          ],
          "barpolar": [
           {
            "marker": {
             "line": {
              "color": "#E5ECF6",
              "width": 0.5
             },
             "pattern": {
              "fillmode": "overlay",
              "size": 10,
              "solidity": 0.2
             }
            },
            "type": "barpolar"
           }
          ],
          "carpet": [
           {
            "aaxis": {
             "endlinecolor": "#2a3f5f",
             "gridcolor": "white",
             "linecolor": "white",
             "minorgridcolor": "white",
             "startlinecolor": "#2a3f5f"
            },
            "baxis": {
             "endlinecolor": "#2a3f5f",
             "gridcolor": "white",
             "linecolor": "white",
             "minorgridcolor": "white",
             "startlinecolor": "#2a3f5f"
            },
            "type": "carpet"
           }
          ],
          "choropleth": [
           {
            "colorbar": {
             "outlinewidth": 0,
             "ticks": ""
            },
            "type": "choropleth"
           }
          ],
          "contour": [
           {
            "colorbar": {
             "outlinewidth": 0,
             "ticks": ""
            },
            "colorscale": [
             [
              0,
              "#0d0887"
             ],
             [
              0.1111111111111111,
              "#46039f"
             ],
             [
              0.2222222222222222,
              "#7201a8"
             ],
             [
              0.3333333333333333,
              "#9c179e"
             ],
             [
              0.4444444444444444,
              "#bd3786"
             ],
             [
              0.5555555555555556,
              "#d8576b"
             ],
             [
              0.6666666666666666,
              "#ed7953"
             ],
             [
              0.7777777777777778,
              "#fb9f3a"
             ],
             [
              0.8888888888888888,
              "#fdca26"
             ],
             [
              1,
              "#f0f921"
             ]
            ],
            "type": "contour"
           }
          ],
          "contourcarpet": [
           {
            "colorbar": {
             "outlinewidth": 0,
             "ticks": ""
            },
            "type": "contourcarpet"
           }
          ],
          "heatmap": [
           {
            "colorbar": {
             "outlinewidth": 0,
             "ticks": ""
            },
            "colorscale": [
             [
              0,
              "#0d0887"
             ],
             [
              0.1111111111111111,
              "#46039f"
             ],
             [
              0.2222222222222222,
              "#7201a8"
             ],
             [
              0.3333333333333333,
              "#9c179e"
             ],
             [
              0.4444444444444444,
              "#bd3786"
             ],
             [
              0.5555555555555556,
              "#d8576b"
             ],
             [
              0.6666666666666666,
              "#ed7953"
             ],
             [
              0.7777777777777778,
              "#fb9f3a"
             ],
             [
              0.8888888888888888,
              "#fdca26"
             ],
             [
              1,
              "#f0f921"
             ]
            ],
            "type": "heatmap"
           }
          ],
          "heatmapgl": [
           {
            "colorbar": {
             "outlinewidth": 0,
             "ticks": ""
            },
            "colorscale": [
             [
              0,
              "#0d0887"
             ],
             [
              0.1111111111111111,
              "#46039f"
             ],
             [
              0.2222222222222222,
              "#7201a8"
             ],
             [
              0.3333333333333333,
              "#9c179e"
             ],
             [
              0.4444444444444444,
              "#bd3786"
             ],
             [
              0.5555555555555556,
              "#d8576b"
             ],
             [
              0.6666666666666666,
              "#ed7953"
             ],
             [
              0.7777777777777778,
              "#fb9f3a"
             ],
             [
              0.8888888888888888,
              "#fdca26"
             ],
             [
              1,
              "#f0f921"
             ]
            ],
            "type": "heatmapgl"
           }
          ],
          "histogram": [
           {
            "marker": {
             "pattern": {
              "fillmode": "overlay",
              "size": 10,
              "solidity": 0.2
             }
            },
            "type": "histogram"
           }
          ],
          "histogram2d": [
           {
            "colorbar": {
             "outlinewidth": 0,
             "ticks": ""
            },
            "colorscale": [
             [
              0,
              "#0d0887"
             ],
             [
              0.1111111111111111,
              "#46039f"
             ],
             [
              0.2222222222222222,
              "#7201a8"
             ],
             [
              0.3333333333333333,
              "#9c179e"
             ],
             [
              0.4444444444444444,
              "#bd3786"
             ],
             [
              0.5555555555555556,
              "#d8576b"
             ],
             [
              0.6666666666666666,
              "#ed7953"
             ],
             [
              0.7777777777777778,
              "#fb9f3a"
             ],
             [
              0.8888888888888888,
              "#fdca26"
             ],
             [
              1,
              "#f0f921"
             ]
            ],
            "type": "histogram2d"
           }
          ],
          "histogram2dcontour": [
           {
            "colorbar": {
             "outlinewidth": 0,
             "ticks": ""
            },
            "colorscale": [
             [
              0,
              "#0d0887"
             ],
             [
              0.1111111111111111,
              "#46039f"
             ],
             [
              0.2222222222222222,
              "#7201a8"
             ],
             [
              0.3333333333333333,
              "#9c179e"
             ],
             [
              0.4444444444444444,
              "#bd3786"
             ],
             [
              0.5555555555555556,
              "#d8576b"
             ],
             [
              0.6666666666666666,
              "#ed7953"
             ],
             [
              0.7777777777777778,
              "#fb9f3a"
             ],
             [
              0.8888888888888888,
              "#fdca26"
             ],
             [
              1,
              "#f0f921"
             ]
            ],
            "type": "histogram2dcontour"
           }
          ],
          "mesh3d": [
           {
            "colorbar": {
             "outlinewidth": 0,
             "ticks": ""
            },
            "type": "mesh3d"
           }
          ],
          "parcoords": [
           {
            "line": {
             "colorbar": {
              "outlinewidth": 0,
              "ticks": ""
             }
            },
            "type": "parcoords"
           }
          ],
          "pie": [
           {
            "automargin": true,
            "type": "pie"
           }
          ],
          "scatter": [
           {
            "fillpattern": {
             "fillmode": "overlay",
             "size": 10,
             "solidity": 0.2
            },
            "type": "scatter"
           }
          ],
          "scatter3d": [
           {
            "line": {
             "colorbar": {
              "outlinewidth": 0,
              "ticks": ""
             }
            },
            "marker": {
             "colorbar": {
              "outlinewidth": 0,
              "ticks": ""
             }
            },
            "type": "scatter3d"
           }
          ],
          "scattercarpet": [
           {
            "marker": {
             "colorbar": {
              "outlinewidth": 0,
              "ticks": ""
             }
            },
            "type": "scattercarpet"
           }
          ],
          "scattergeo": [
           {
            "marker": {
             "colorbar": {
              "outlinewidth": 0,
              "ticks": ""
             }
            },
            "type": "scattergeo"
           }
          ],
          "scattergl": [
           {
            "marker": {
             "colorbar": {
              "outlinewidth": 0,
              "ticks": ""
             }
            },
            "type": "scattergl"
           }
          ],
          "scattermapbox": [
           {
            "marker": {
             "colorbar": {
              "outlinewidth": 0,
              "ticks": ""
             }
            },
            "type": "scattermapbox"
           }
          ],
          "scatterpolar": [
           {
            "marker": {
             "colorbar": {
              "outlinewidth": 0,
              "ticks": ""
             }
            },
            "type": "scatterpolar"
           }
          ],
          "scatterpolargl": [
           {
            "marker": {
             "colorbar": {
              "outlinewidth": 0,
              "ticks": ""
             }
            },
            "type": "scatterpolargl"
           }
          ],
          "scatterternary": [
           {
            "marker": {
             "colorbar": {
              "outlinewidth": 0,
              "ticks": ""
             }
            },
            "type": "scatterternary"
           }
          ],
          "surface": [
           {
            "colorbar": {
             "outlinewidth": 0,
             "ticks": ""
            },
            "colorscale": [
             [
              0,
              "#0d0887"
             ],
             [
              0.1111111111111111,
              "#46039f"
             ],
             [
              0.2222222222222222,
              "#7201a8"
             ],
             [
              0.3333333333333333,
              "#9c179e"
             ],
             [
              0.4444444444444444,
              "#bd3786"
             ],
             [
              0.5555555555555556,
              "#d8576b"
             ],
             [
              0.6666666666666666,
              "#ed7953"
             ],
             [
              0.7777777777777778,
              "#fb9f3a"
             ],
             [
              0.8888888888888888,
              "#fdca26"
             ],
             [
              1,
              "#f0f921"
             ]
            ],
            "type": "surface"
           }
          ],
          "table": [
           {
            "cells": {
             "fill": {
              "color": "#EBF0F8"
             },
             "line": {
              "color": "white"
             }
            },
            "header": {
             "fill": {
              "color": "#C8D4E3"
             },
             "line": {
              "color": "white"
             }
            },
            "type": "table"
           }
          ]
         },
         "layout": {
          "annotationdefaults": {
           "arrowcolor": "#2a3f5f",
           "arrowhead": 0,
           "arrowwidth": 1
          },
          "autotypenumbers": "strict",
          "coloraxis": {
           "colorbar": {
            "outlinewidth": 0,
            "ticks": ""
           }
          },
          "colorscale": {
           "diverging": [
            [
             0,
             "#8e0152"
            ],
            [
             0.1,
             "#c51b7d"
            ],
            [
             0.2,
             "#de77ae"
            ],
            [
             0.3,
             "#f1b6da"
            ],
            [
             0.4,
             "#fde0ef"
            ],
            [
             0.5,
             "#f7f7f7"
            ],
            [
             0.6,
             "#e6f5d0"
            ],
            [
             0.7,
             "#b8e186"
            ],
            [
             0.8,
             "#7fbc41"
            ],
            [
             0.9,
             "#4d9221"
            ],
            [
             1,
             "#276419"
            ]
           ],
           "sequential": [
            [
             0,
             "#0d0887"
            ],
            [
             0.1111111111111111,
             "#46039f"
            ],
            [
             0.2222222222222222,
             "#7201a8"
            ],
            [
             0.3333333333333333,
             "#9c179e"
            ],
            [
             0.4444444444444444,
             "#bd3786"
            ],
            [
             0.5555555555555556,
             "#d8576b"
            ],
            [
             0.6666666666666666,
             "#ed7953"
            ],
            [
             0.7777777777777778,
             "#fb9f3a"
            ],
            [
             0.8888888888888888,
             "#fdca26"
            ],
            [
             1,
             "#f0f921"
            ]
           ],
           "sequentialminus": [
            [
             0,
             "#0d0887"
            ],
            [
             0.1111111111111111,
             "#46039f"
            ],
            [
             0.2222222222222222,
             "#7201a8"
            ],
            [
             0.3333333333333333,
             "#9c179e"
            ],
            [
             0.4444444444444444,
             "#bd3786"
            ],
            [
             0.5555555555555556,
             "#d8576b"
            ],
            [
             0.6666666666666666,
             "#ed7953"
            ],
            [
             0.7777777777777778,
             "#fb9f3a"
            ],
            [
             0.8888888888888888,
             "#fdca26"
            ],
            [
             1,
             "#f0f921"
            ]
           ]
          },
          "colorway": [
           "#636efa",
           "#EF553B",
           "#00cc96",
           "#ab63fa",
           "#FFA15A",
           "#19d3f3",
           "#FF6692",
           "#B6E880",
           "#FF97FF",
           "#FECB52"
          ],
          "font": {
           "color": "#2a3f5f"
          },
          "geo": {
           "bgcolor": "white",
           "lakecolor": "white",
           "landcolor": "#E5ECF6",
           "showlakes": true,
           "showland": true,
           "subunitcolor": "white"
          },
          "hoverlabel": {
           "align": "left"
          },
          "hovermode": "closest",
          "mapbox": {
           "style": "light"
          },
          "paper_bgcolor": "white",
          "plot_bgcolor": "#E5ECF6",
          "polar": {
           "angularaxis": {
            "gridcolor": "white",
            "linecolor": "white",
            "ticks": ""
           },
           "bgcolor": "#E5ECF6",
           "radialaxis": {
            "gridcolor": "white",
            "linecolor": "white",
            "ticks": ""
           }
          },
          "scene": {
           "xaxis": {
            "backgroundcolor": "#E5ECF6",
            "gridcolor": "white",
            "gridwidth": 2,
            "linecolor": "white",
            "showbackground": true,
            "ticks": "",
            "zerolinecolor": "white"
           },
           "yaxis": {
            "backgroundcolor": "#E5ECF6",
            "gridcolor": "white",
            "gridwidth": 2,
            "linecolor": "white",
            "showbackground": true,
            "ticks": "",
            "zerolinecolor": "white"
           },
           "zaxis": {
            "backgroundcolor": "#E5ECF6",
            "gridcolor": "white",
            "gridwidth": 2,
            "linecolor": "white",
            "showbackground": true,
            "ticks": "",
            "zerolinecolor": "white"
           }
          },
          "shapedefaults": {
           "line": {
            "color": "#2a3f5f"
           }
          },
          "ternary": {
           "aaxis": {
            "gridcolor": "white",
            "linecolor": "white",
            "ticks": ""
           },
           "baxis": {
            "gridcolor": "white",
            "linecolor": "white",
            "ticks": ""
           },
           "bgcolor": "#E5ECF6",
           "caxis": {
            "gridcolor": "white",
            "linecolor": "white",
            "ticks": ""
           }
          },
          "title": {
           "x": 0.05
          },
          "xaxis": {
           "automargin": true,
           "gridcolor": "white",
           "linecolor": "white",
           "ticks": "",
           "title": {
            "standoff": 15
           },
           "zerolinecolor": "white",
           "zerolinewidth": 2
          },
          "yaxis": {
           "automargin": true,
           "gridcolor": "white",
           "linecolor": "white",
           "ticks": "",
           "title": {
            "standoff": 15
           },
           "zerolinecolor": "white",
           "zerolinewidth": 2
          }
         }
        },
        "xaxis": {
         "anchor": "y",
         "domain": [
          0,
          1
         ],
         "title": {
          "text": "WPM"
         }
        },
        "yaxis": {
         "anchor": "x",
         "domain": [
          0,
          1
         ],
         "title": {
          "text": "count"
         }
        }
       }
      }
     },
     "metadata": {},
     "output_type": "display_data"
    }
   ],
   "source": [
    "fig_result_hist = px.histogram(\n",
    "df_trial_results, x = 'WPM', color = 'Keyboard', nbins = 10,\n",
    "color_discrete_map=keyboard_color_discrete_map)\n",
    "fig_result_hist.update_layout(\n",
    "    barmode = 'group')\n",
    "fig_result_hist.write_html(\n",
    "analytics_folder+'result_histogram.html')\n",
    "fig_result_hist"
   ]
  },
  {
   "cell_type": "code",
   "execution_count": 18,
   "metadata": {},
   "outputs": [
    {
     "data": {
      "application/vnd.plotly.v1+json": {
       "config": {
        "plotlyServerURL": "https://plot.ly"
       },
       "data": [
        {
         "alignmentgroup": "True",
         "bingroup": "x",
         "hovertemplate": "Keyboard=cherry mx2a black<br>WPM=%{x}<br>count=%{y}<extra></extra>",
         "legendgroup": "cherry mx2a black",
         "marker": {
          "color": "black",
          "pattern": {
           "shape": ""
          }
         },
         "name": "cherry mx2a black",
         "nbinsx": 10,
         "offsetgroup": "cherry mx2a black",
         "orientation": "v",
         "showlegend": true,
         "type": "histogram",
         "x": [
          196.6309714500287,
          190.01923586591963,
          181.42010311303127,
          177.11665737216853,
          176.85804740507638,
          173.74357634404953,
          173.54274082509295,
          172.80234208490486,
          172.3111110064899,
          170.91912932909273,
          170.51399109713367,
          169.89411634639097,
          169.00078915968786,
          168.48108175988892,
          167.187397358258,
          163.40865956017433,
          163.29706426797316,
          163.0423974332656,
          161.13625904466426,
          158.90459946714748,
          158.681751062423,
          158.24410783269883,
          155.38162812301294,
          150.80712818333052,
          150.10625935499974,
          133.92953908207863
         ],
         "xaxis": "x",
         "yaxis": "y"
        },
        {
         "alignmentgroup": "True",
         "bingroup": "x",
         "hovertemplate": "Keyboard=cherry mx2a brown<br>WPM=%{x}<br>count=%{y}<extra></extra>",
         "legendgroup": "cherry mx2a brown",
         "marker": {
          "color": "#844204",
          "pattern": {
           "shape": ""
          }
         },
         "name": "cherry mx2a brown",
         "nbinsx": 10,
         "offsetgroup": "cherry mx2a brown",
         "orientation": "v",
         "showlegend": true,
         "type": "histogram",
         "x": [
          182.18686454265423,
          176.69709118668396,
          175.94034773705073,
          175.9233595647927,
          172.78679032819855,
          171.8865429370035,
          171.86195909531546,
          168.85725170699772,
          167.4262977246865,
          166.92740477213567,
          164.91060976999887,
          164.80765112963505,
          161.76287667870065,
          161.47880676446832,
          157.46686634687285,
          157.26333439196048,
          152.83978964325962,
          149.3068347856747,
          137.91624318405258
         ],
         "xaxis": "x",
         "yaxis": "y"
        },
        {
         "alignmentgroup": "True",
         "bingroup": "x",
         "hovertemplate": "Keyboard=cherry red<br>WPM=%{x}<br>count=%{y}<extra></extra>",
         "legendgroup": "cherry red",
         "marker": {
          "color": "#EE0000",
          "pattern": {
           "shape": ""
          }
         },
         "name": "cherry red",
         "nbinsx": 10,
         "offsetgroup": "cherry red",
         "orientation": "v",
         "showlegend": true,
         "type": "histogram",
         "x": [
          175.4166735434404,
          174.14643054238147,
          173.44468666733,
          172.07996366515331,
          168.69263701528286,
          168.18125352368395,
          167.67737450428257,
          164.35207111885234,
          162.4344269601183,
          161.5110221140347,
          158.22468445577573,
          155.4771432496433,
          155.00121298993463,
          145.73428678916457,
          144.87050961927997,
          142.1308654150991
         ],
         "xaxis": "x",
         "yaxis": "y"
        }
       ],
       "layout": {
        "barmode": "group",
        "legend": {
         "title": {
          "text": "Keyboard"
         },
         "tracegroupgap": 0
        },
        "margin": {
         "t": 60
        },
        "template": {
         "data": {
          "bar": [
           {
            "error_x": {
             "color": "#2a3f5f"
            },
            "error_y": {
             "color": "#2a3f5f"
            },
            "marker": {
             "line": {
              "color": "#E5ECF6",
              "width": 0.5
             },
             "pattern": {
              "fillmode": "overlay",
              "size": 10,
              "solidity": 0.2
             }
            },
            "type": "bar"
           }
          ],
          "barpolar": [
           {
            "marker": {
             "line": {
              "color": "#E5ECF6",
              "width": 0.5
             },
             "pattern": {
              "fillmode": "overlay",
              "size": 10,
              "solidity": 0.2
             }
            },
            "type": "barpolar"
           }
          ],
          "carpet": [
           {
            "aaxis": {
             "endlinecolor": "#2a3f5f",
             "gridcolor": "white",
             "linecolor": "white",
             "minorgridcolor": "white",
             "startlinecolor": "#2a3f5f"
            },
            "baxis": {
             "endlinecolor": "#2a3f5f",
             "gridcolor": "white",
             "linecolor": "white",
             "minorgridcolor": "white",
             "startlinecolor": "#2a3f5f"
            },
            "type": "carpet"
           }
          ],
          "choropleth": [
           {
            "colorbar": {
             "outlinewidth": 0,
             "ticks": ""
            },
            "type": "choropleth"
           }
          ],
          "contour": [
           {
            "colorbar": {
             "outlinewidth": 0,
             "ticks": ""
            },
            "colorscale": [
             [
              0,
              "#0d0887"
             ],
             [
              0.1111111111111111,
              "#46039f"
             ],
             [
              0.2222222222222222,
              "#7201a8"
             ],
             [
              0.3333333333333333,
              "#9c179e"
             ],
             [
              0.4444444444444444,
              "#bd3786"
             ],
             [
              0.5555555555555556,
              "#d8576b"
             ],
             [
              0.6666666666666666,
              "#ed7953"
             ],
             [
              0.7777777777777778,
              "#fb9f3a"
             ],
             [
              0.8888888888888888,
              "#fdca26"
             ],
             [
              1,
              "#f0f921"
             ]
            ],
            "type": "contour"
           }
          ],
          "contourcarpet": [
           {
            "colorbar": {
             "outlinewidth": 0,
             "ticks": ""
            },
            "type": "contourcarpet"
           }
          ],
          "heatmap": [
           {
            "colorbar": {
             "outlinewidth": 0,
             "ticks": ""
            },
            "colorscale": [
             [
              0,
              "#0d0887"
             ],
             [
              0.1111111111111111,
              "#46039f"
             ],
             [
              0.2222222222222222,
              "#7201a8"
             ],
             [
              0.3333333333333333,
              "#9c179e"
             ],
             [
              0.4444444444444444,
              "#bd3786"
             ],
             [
              0.5555555555555556,
              "#d8576b"
             ],
             [
              0.6666666666666666,
              "#ed7953"
             ],
             [
              0.7777777777777778,
              "#fb9f3a"
             ],
             [
              0.8888888888888888,
              "#fdca26"
             ],
             [
              1,
              "#f0f921"
             ]
            ],
            "type": "heatmap"
           }
          ],
          "heatmapgl": [
           {
            "colorbar": {
             "outlinewidth": 0,
             "ticks": ""
            },
            "colorscale": [
             [
              0,
              "#0d0887"
             ],
             [
              0.1111111111111111,
              "#46039f"
             ],
             [
              0.2222222222222222,
              "#7201a8"
             ],
             [
              0.3333333333333333,
              "#9c179e"
             ],
             [
              0.4444444444444444,
              "#bd3786"
             ],
             [
              0.5555555555555556,
              "#d8576b"
             ],
             [
              0.6666666666666666,
              "#ed7953"
             ],
             [
              0.7777777777777778,
              "#fb9f3a"
             ],
             [
              0.8888888888888888,
              "#fdca26"
             ],
             [
              1,
              "#f0f921"
             ]
            ],
            "type": "heatmapgl"
           }
          ],
          "histogram": [
           {
            "marker": {
             "pattern": {
              "fillmode": "overlay",
              "size": 10,
              "solidity": 0.2
             }
            },
            "type": "histogram"
           }
          ],
          "histogram2d": [
           {
            "colorbar": {
             "outlinewidth": 0,
             "ticks": ""
            },
            "colorscale": [
             [
              0,
              "#0d0887"
             ],
             [
              0.1111111111111111,
              "#46039f"
             ],
             [
              0.2222222222222222,
              "#7201a8"
             ],
             [
              0.3333333333333333,
              "#9c179e"
             ],
             [
              0.4444444444444444,
              "#bd3786"
             ],
             [
              0.5555555555555556,
              "#d8576b"
             ],
             [
              0.6666666666666666,
              "#ed7953"
             ],
             [
              0.7777777777777778,
              "#fb9f3a"
             ],
             [
              0.8888888888888888,
              "#fdca26"
             ],
             [
              1,
              "#f0f921"
             ]
            ],
            "type": "histogram2d"
           }
          ],
          "histogram2dcontour": [
           {
            "colorbar": {
             "outlinewidth": 0,
             "ticks": ""
            },
            "colorscale": [
             [
              0,
              "#0d0887"
             ],
             [
              0.1111111111111111,
              "#46039f"
             ],
             [
              0.2222222222222222,
              "#7201a8"
             ],
             [
              0.3333333333333333,
              "#9c179e"
             ],
             [
              0.4444444444444444,
              "#bd3786"
             ],
             [
              0.5555555555555556,
              "#d8576b"
             ],
             [
              0.6666666666666666,
              "#ed7953"
             ],
             [
              0.7777777777777778,
              "#fb9f3a"
             ],
             [
              0.8888888888888888,
              "#fdca26"
             ],
             [
              1,
              "#f0f921"
             ]
            ],
            "type": "histogram2dcontour"
           }
          ],
          "mesh3d": [
           {
            "colorbar": {
             "outlinewidth": 0,
             "ticks": ""
            },
            "type": "mesh3d"
           }
          ],
          "parcoords": [
           {
            "line": {
             "colorbar": {
              "outlinewidth": 0,
              "ticks": ""
             }
            },
            "type": "parcoords"
           }
          ],
          "pie": [
           {
            "automargin": true,
            "type": "pie"
           }
          ],
          "scatter": [
           {
            "fillpattern": {
             "fillmode": "overlay",
             "size": 10,
             "solidity": 0.2
            },
            "type": "scatter"
           }
          ],
          "scatter3d": [
           {
            "line": {
             "colorbar": {
              "outlinewidth": 0,
              "ticks": ""
             }
            },
            "marker": {
             "colorbar": {
              "outlinewidth": 0,
              "ticks": ""
             }
            },
            "type": "scatter3d"
           }
          ],
          "scattercarpet": [
           {
            "marker": {
             "colorbar": {
              "outlinewidth": 0,
              "ticks": ""
             }
            },
            "type": "scattercarpet"
           }
          ],
          "scattergeo": [
           {
            "marker": {
             "colorbar": {
              "outlinewidth": 0,
              "ticks": ""
             }
            },
            "type": "scattergeo"
           }
          ],
          "scattergl": [
           {
            "marker": {
             "colorbar": {
              "outlinewidth": 0,
              "ticks": ""
             }
            },
            "type": "scattergl"
           }
          ],
          "scattermapbox": [
           {
            "marker": {
             "colorbar": {
              "outlinewidth": 0,
              "ticks": ""
             }
            },
            "type": "scattermapbox"
           }
          ],
          "scatterpolar": [
           {
            "marker": {
             "colorbar": {
              "outlinewidth": 0,
              "ticks": ""
             }
            },
            "type": "scatterpolar"
           }
          ],
          "scatterpolargl": [
           {
            "marker": {
             "colorbar": {
              "outlinewidth": 0,
              "ticks": ""
             }
            },
            "type": "scatterpolargl"
           }
          ],
          "scatterternary": [
           {
            "marker": {
             "colorbar": {
              "outlinewidth": 0,
              "ticks": ""
             }
            },
            "type": "scatterternary"
           }
          ],
          "surface": [
           {
            "colorbar": {
             "outlinewidth": 0,
             "ticks": ""
            },
            "colorscale": [
             [
              0,
              "#0d0887"
             ],
             [
              0.1111111111111111,
              "#46039f"
             ],
             [
              0.2222222222222222,
              "#7201a8"
             ],
             [
              0.3333333333333333,
              "#9c179e"
             ],
             [
              0.4444444444444444,
              "#bd3786"
             ],
             [
              0.5555555555555556,
              "#d8576b"
             ],
             [
              0.6666666666666666,
              "#ed7953"
             ],
             [
              0.7777777777777778,
              "#fb9f3a"
             ],
             [
              0.8888888888888888,
              "#fdca26"
             ],
             [
              1,
              "#f0f921"
             ]
            ],
            "type": "surface"
           }
          ],
          "table": [
           {
            "cells": {
             "fill": {
              "color": "#EBF0F8"
             },
             "line": {
              "color": "white"
             }
            },
            "header": {
             "fill": {
              "color": "#C8D4E3"
             },
             "line": {
              "color": "white"
             }
            },
            "type": "table"
           }
          ]
         },
         "layout": {
          "annotationdefaults": {
           "arrowcolor": "#2a3f5f",
           "arrowhead": 0,
           "arrowwidth": 1
          },
          "autotypenumbers": "strict",
          "coloraxis": {
           "colorbar": {
            "outlinewidth": 0,
            "ticks": ""
           }
          },
          "colorscale": {
           "diverging": [
            [
             0,
             "#8e0152"
            ],
            [
             0.1,
             "#c51b7d"
            ],
            [
             0.2,
             "#de77ae"
            ],
            [
             0.3,
             "#f1b6da"
            ],
            [
             0.4,
             "#fde0ef"
            ],
            [
             0.5,
             "#f7f7f7"
            ],
            [
             0.6,
             "#e6f5d0"
            ],
            [
             0.7,
             "#b8e186"
            ],
            [
             0.8,
             "#7fbc41"
            ],
            [
             0.9,
             "#4d9221"
            ],
            [
             1,
             "#276419"
            ]
           ],
           "sequential": [
            [
             0,
             "#0d0887"
            ],
            [
             0.1111111111111111,
             "#46039f"
            ],
            [
             0.2222222222222222,
             "#7201a8"
            ],
            [
             0.3333333333333333,
             "#9c179e"
            ],
            [
             0.4444444444444444,
             "#bd3786"
            ],
            [
             0.5555555555555556,
             "#d8576b"
            ],
            [
             0.6666666666666666,
             "#ed7953"
            ],
            [
             0.7777777777777778,
             "#fb9f3a"
            ],
            [
             0.8888888888888888,
             "#fdca26"
            ],
            [
             1,
             "#f0f921"
            ]
           ],
           "sequentialminus": [
            [
             0,
             "#0d0887"
            ],
            [
             0.1111111111111111,
             "#46039f"
            ],
            [
             0.2222222222222222,
             "#7201a8"
            ],
            [
             0.3333333333333333,
             "#9c179e"
            ],
            [
             0.4444444444444444,
             "#bd3786"
            ],
            [
             0.5555555555555556,
             "#d8576b"
            ],
            [
             0.6666666666666666,
             "#ed7953"
            ],
            [
             0.7777777777777778,
             "#fb9f3a"
            ],
            [
             0.8888888888888888,
             "#fdca26"
            ],
            [
             1,
             "#f0f921"
            ]
           ]
          },
          "colorway": [
           "#636efa",
           "#EF553B",
           "#00cc96",
           "#ab63fa",
           "#FFA15A",
           "#19d3f3",
           "#FF6692",
           "#B6E880",
           "#FF97FF",
           "#FECB52"
          ],
          "font": {
           "color": "#2a3f5f"
          },
          "geo": {
           "bgcolor": "white",
           "lakecolor": "white",
           "landcolor": "#E5ECF6",
           "showlakes": true,
           "showland": true,
           "subunitcolor": "white"
          },
          "hoverlabel": {
           "align": "left"
          },
          "hovermode": "closest",
          "mapbox": {
           "style": "light"
          },
          "paper_bgcolor": "white",
          "plot_bgcolor": "#E5ECF6",
          "polar": {
           "angularaxis": {
            "gridcolor": "white",
            "linecolor": "white",
            "ticks": ""
           },
           "bgcolor": "#E5ECF6",
           "radialaxis": {
            "gridcolor": "white",
            "linecolor": "white",
            "ticks": ""
           }
          },
          "scene": {
           "xaxis": {
            "backgroundcolor": "#E5ECF6",
            "gridcolor": "white",
            "gridwidth": 2,
            "linecolor": "white",
            "showbackground": true,
            "ticks": "",
            "zerolinecolor": "white"
           },
           "yaxis": {
            "backgroundcolor": "#E5ECF6",
            "gridcolor": "white",
            "gridwidth": 2,
            "linecolor": "white",
            "showbackground": true,
            "ticks": "",
            "zerolinecolor": "white"
           },
           "zaxis": {
            "backgroundcolor": "#E5ECF6",
            "gridcolor": "white",
            "gridwidth": 2,
            "linecolor": "white",
            "showbackground": true,
            "ticks": "",
            "zerolinecolor": "white"
           }
          },
          "shapedefaults": {
           "line": {
            "color": "#2a3f5f"
           }
          },
          "ternary": {
           "aaxis": {
            "gridcolor": "white",
            "linecolor": "white",
            "ticks": ""
           },
           "baxis": {
            "gridcolor": "white",
            "linecolor": "white",
            "ticks": ""
           },
           "bgcolor": "#E5ECF6",
           "caxis": {
            "gridcolor": "white",
            "linecolor": "white",
            "ticks": ""
           }
          },
          "title": {
           "x": 0.05
          },
          "xaxis": {
           "automargin": true,
           "gridcolor": "white",
           "linecolor": "white",
           "ticks": "",
           "title": {
            "standoff": 15
           },
           "zerolinecolor": "white",
           "zerolinewidth": 2
          },
          "yaxis": {
           "automargin": true,
           "gridcolor": "white",
           "linecolor": "white",
           "ticks": "",
           "title": {
            "standoff": 15
           },
           "zerolinecolor": "white",
           "zerolinewidth": 2
          }
         }
        },
        "xaxis": {
         "anchor": "y",
         "domain": [
          0,
          1
         ],
         "title": {
          "text": "WPM"
         }
        },
        "yaxis": {
         "anchor": "x",
         "domain": [
          0,
          1
         ],
         "title": {
          "text": "count"
         }
        }
       }
      }
     },
     "metadata": {},
     "output_type": "display_data"
    }
   ],
   "source": [
    "fig_mistake_free_result_hist = px.histogram(\n",
    "df_mistake_free_trial_results, x = 'WPM', color = 'Keyboard', nbins = 10,\n",
    "color_discrete_map=keyboard_color_discrete_map)\n",
    "fig_mistake_free_result_hist.update_layout(\n",
    "    barmode = 'group')\n",
    "fig_mistake_free_result_hist.write_html(\n",
    "analytics_folder+'mistake_free_result_histogram.html')\n",
    "fig_mistake_free_result_hist"
   ]
  },
  {
   "cell_type": "markdown",
   "metadata": {},
   "source": [
    "# Part 3: Regression Analyses"
   ]
  },
  {
   "cell_type": "markdown",
   "metadata": {},
   "source": [
    "Creating categorical variables for different keyboard layouts:\n",
    "\n",
    "(These variables will be useful for upcoming regression analyses. Also Note that the original 'Keyboard' column is removed in the process of generating these categorical variables.)"
   ]
  },
  {
   "cell_type": "code",
   "execution_count": 19,
   "metadata": {},
   "outputs": [
    {
     "data": {
      "text/html": [
       "<div>\n",
       "<style scoped>\n",
       "    .dataframe tbody tr th:only-of-type {\n",
       "        vertical-align: middle;\n",
       "    }\n",
       "\n",
       "    .dataframe tbody tr th {\n",
       "        vertical-align: top;\n",
       "    }\n",
       "\n",
       "    .dataframe thead th {\n",
       "        text-align: right;\n",
       "    }\n",
       "</style>\n",
       "<table border=\"1\" class=\"dataframe\">\n",
       "  <thead>\n",
       "    <tr style=\"text-align: right;\">\n",
       "      <th></th>\n",
       "      <th>Test_Number</th>\n",
       "      <th>Unix_Start_Time</th>\n",
       "      <th>Local_Start_Time</th>\n",
       "      <th>UTC_Start_Time</th>\n",
       "      <th>Characters</th>\n",
       "      <th>Seconds</th>\n",
       "      <th>CPS</th>\n",
       "      <th>WPM</th>\n",
       "      <th>Book</th>\n",
       "      <th>Chapter</th>\n",
       "      <th>Verse_Order</th>\n",
       "      <th>Verse</th>\n",
       "      <th>Verse #</th>\n",
       "      <th>Last 10 Avg</th>\n",
       "      <th>Last 100 Avg</th>\n",
       "      <th>Last 1000 Avg</th>\n",
       "      <th>cumulative_avg</th>\n",
       "      <th>Local_Start_Year</th>\n",
       "      <th>Local_Start_Month</th>\n",
       "      <th>Local_Start_Hour</th>\n",
       "      <th>Count</th>\n",
       "      <th>Local_Start_Date</th>\n",
       "      <th>Local_Start_Minute</th>\n",
       "      <th>Local_Start_10_Minute_Block</th>\n",
       "      <th>Local_Start_15_Minute_Block</th>\n",
       "      <th>Local_Start_30_Minute_Block</th>\n",
       "      <th>Local_End_Time</th>\n",
       "      <th>Local_End_Year</th>\n",
       "      <th>Local_End_Month</th>\n",
       "      <th>Local_End_Date</th>\n",
       "      <th>Local_End_Hour</th>\n",
       "      <th>Local_End_Minute</th>\n",
       "      <th>Local_End_15_Minute_Block</th>\n",
       "      <th>Local_End_10_Minute_Block</th>\n",
       "      <th>Local_End_30_Minute_Block</th>\n",
       "      <th>Mistake_Free_Test</th>\n",
       "      <th>WPM_Rank</th>\n",
       "      <th>WPM_Percentile</th>\n",
       "      <th>Backspaces as % of Verse Length</th>\n",
       "      <th>Incorrect Characters as % of Verse Length</th>\n",
       "      <th>Min Character Time (ms)</th>\n",
       "      <th>Median Character Time (ms)</th>\n",
       "      <th>Max Character Time (ms)</th>\n",
       "      <th>Backspace % Last 10 Avg</th>\n",
       "      <th>Backspace % Last 100 Avg</th>\n",
       "      <th>Backspace % Last 1000 Avg</th>\n",
       "      <th>Session</th>\n",
       "      <th>Test_#_Within_Session</th>\n",
       "      <th>Incorrect Character % Last 10 Avg</th>\n",
       "      <th>Incorrect Character % Last 100 Avg</th>\n",
       "      <th>Incorrect Character % Last 1000 Avg</th>\n",
       "      <th>Test Version</th>\n",
       "      <th>Location</th>\n",
       "      <th>Keyboard</th>\n",
       "      <th>Layout</th>\n",
       "      <th>Caffeine</th>\n",
       "      <th>Custom_1</th>\n",
       "      <th>Custom_2</th>\n",
       "      <th>Custom_3</th>\n",
       "      <th>Autostart</th>\n",
       "      <th>% of Words Typed Correctly</th>\n",
       "      <th>Extra Keystrokes %</th>\n",
       "      <th>Extra Keystrokes % Last 10 Avg</th>\n",
       "      <th>Extra Keystrokes % Last 100 Avg</th>\n",
       "      <th>Extra Keystrokes % Last 1000 Avg</th>\n",
       "    </tr>\n",
       "  </thead>\n",
       "  <tbody>\n",
       "    <tr>\n",
       "      <th>9335</th>\n",
       "      <td>9336</td>\n",
       "      <td>1.710171e+09</td>\n",
       "      <td>2024-03-11 11:26:37.472366</td>\n",
       "      <td>2024-03-11 15:26:37.472366+00:00</td>\n",
       "      <td>192</td>\n",
       "      <td>16.778450</td>\n",
       "      <td>11.443250</td>\n",
       "      <td>137.319004</td>\n",
       "      <td>JHN</td>\n",
       "      <td>5</td>\n",
       "      <td>30510</td>\n",
       "      <td>Jesus therefore answered them, \"Most certainly...</td>\n",
       "      <td>19.0</td>\n",
       "      <td>137.585592</td>\n",
       "      <td>138.500531</td>\n",
       "      <td>128.903824</td>\n",
       "      <td>133.048</td>\n",
       "      <td>2024</td>\n",
       "      <td>3</td>\n",
       "      <td>11</td>\n",
       "      <td>1</td>\n",
       "      <td>2024-03-11</td>\n",
       "      <td>26</td>\n",
       "      <td>3</td>\n",
       "      <td>2</td>\n",
       "      <td>1</td>\n",
       "      <td>2024-03-11 11:26:54.250815700</td>\n",
       "      <td>2024</td>\n",
       "      <td>3</td>\n",
       "      <td>2024-03-11</td>\n",
       "      <td>11</td>\n",
       "      <td>26</td>\n",
       "      <td>2</td>\n",
       "      <td>3</td>\n",
       "      <td>1</td>\n",
       "      <td>0.0</td>\n",
       "      <td>4263</td>\n",
       "      <td>56.349857</td>\n",
       "      <td>3.125000</td>\n",
       "      <td>8.333333</td>\n",
       "      <td>NaN</td>\n",
       "      <td>NaN</td>\n",
       "      <td>NaN</td>\n",
       "      <td>NaN</td>\n",
       "      <td>NaN</td>\n",
       "      <td>NaN</td>\n",
       "      <td>203</td>\n",
       "      <td>1</td>\n",
       "      <td>6.676314</td>\n",
       "      <td>5.521322</td>\n",
       "      <td>7.532080</td>\n",
       "      <td>v2</td>\n",
       "      <td>home</td>\n",
       "      <td>cherry red</td>\n",
       "      <td>dvorak</td>\n",
       "      <td>yes</td>\n",
       "      <td>NaN</td>\n",
       "      <td>NaN</td>\n",
       "      <td>NaN</td>\n",
       "      <td>0.0</td>\n",
       "      <td>88.235294</td>\n",
       "      <td>13.541667</td>\n",
       "      <td>12.194104</td>\n",
       "      <td>NaN</td>\n",
       "      <td>NaN</td>\n",
       "    </tr>\n",
       "    <tr>\n",
       "      <th>9336</th>\n",
       "      <td>9337</td>\n",
       "      <td>1.710171e+09</td>\n",
       "      <td>2024-03-11 11:26:56.220335</td>\n",
       "      <td>2024-03-11 15:26:56.220335+00:00</td>\n",
       "      <td>152</td>\n",
       "      <td>11.056986</td>\n",
       "      <td>13.746965</td>\n",
       "      <td>164.963585</td>\n",
       "      <td>JHN</td>\n",
       "      <td>5</td>\n",
       "      <td>30511</td>\n",
       "      <td>For the Father has affection for the Son, and ...</td>\n",
       "      <td>20.0</td>\n",
       "      <td>140.528065</td>\n",
       "      <td>138.713826</td>\n",
       "      <td>128.928716</td>\n",
       "      <td>133.052</td>\n",
       "      <td>2024</td>\n",
       "      <td>3</td>\n",
       "      <td>11</td>\n",
       "      <td>1</td>\n",
       "      <td>2024-03-11</td>\n",
       "      <td>26</td>\n",
       "      <td>3</td>\n",
       "      <td>2</td>\n",
       "      <td>1</td>\n",
       "      <td>2024-03-11 11:27:07.277320700</td>\n",
       "      <td>2024</td>\n",
       "      <td>3</td>\n",
       "      <td>2024-03-11</td>\n",
       "      <td>11</td>\n",
       "      <td>27</td>\n",
       "      <td>2</td>\n",
       "      <td>3</td>\n",
       "      <td>1</td>\n",
       "      <td>0.0</td>\n",
       "      <td>611</td>\n",
       "      <td>93.752560</td>\n",
       "      <td>1.315789</td>\n",
       "      <td>4.605263</td>\n",
       "      <td>NaN</td>\n",
       "      <td>NaN</td>\n",
       "      <td>NaN</td>\n",
       "      <td>NaN</td>\n",
       "      <td>NaN</td>\n",
       "      <td>NaN</td>\n",
       "      <td>203</td>\n",
       "      <td>2</td>\n",
       "      <td>6.901546</td>\n",
       "      <td>5.540529</td>\n",
       "      <td>7.531622</td>\n",
       "      <td>v2</td>\n",
       "      <td>home</td>\n",
       "      <td>cherry red</td>\n",
       "      <td>dvorak</td>\n",
       "      <td>yes</td>\n",
       "      <td>NaN</td>\n",
       "      <td>NaN</td>\n",
       "      <td>NaN</td>\n",
       "      <td>0.0</td>\n",
       "      <td>96.551724</td>\n",
       "      <td>5.921053</td>\n",
       "      <td>12.315621</td>\n",
       "      <td>NaN</td>\n",
       "      <td>NaN</td>\n",
       "    </tr>\n",
       "    <tr>\n",
       "      <th>9337</th>\n",
       "      <td>9338</td>\n",
       "      <td>1.710171e+09</td>\n",
       "      <td>2024-03-11 11:27:11.907570</td>\n",
       "      <td>2024-03-11 15:27:11.907570+00:00</td>\n",
       "      <td>106</td>\n",
       "      <td>7.391912</td>\n",
       "      <td>14.339997</td>\n",
       "      <td>172.079964</td>\n",
       "      <td>JHN</td>\n",
       "      <td>5</td>\n",
       "      <td>30512</td>\n",
       "      <td>For as the Father raises the dead and gives th...</td>\n",
       "      <td>21.0</td>\n",
       "      <td>142.400652</td>\n",
       "      <td>138.888181</td>\n",
       "      <td>128.988686</td>\n",
       "      <td>133.056</td>\n",
       "      <td>2024</td>\n",
       "      <td>3</td>\n",
       "      <td>11</td>\n",
       "      <td>1</td>\n",
       "      <td>2024-03-11</td>\n",
       "      <td>27</td>\n",
       "      <td>3</td>\n",
       "      <td>2</td>\n",
       "      <td>1</td>\n",
       "      <td>2024-03-11 11:27:19.299482300</td>\n",
       "      <td>2024</td>\n",
       "      <td>3</td>\n",
       "      <td>2024-03-11</td>\n",
       "      <td>11</td>\n",
       "      <td>27</td>\n",
       "      <td>2</td>\n",
       "      <td>3</td>\n",
       "      <td>1</td>\n",
       "      <td>1.0</td>\n",
       "      <td>268</td>\n",
       "      <td>97.265465</td>\n",
       "      <td>0.000000</td>\n",
       "      <td>0.000000</td>\n",
       "      <td>NaN</td>\n",
       "      <td>NaN</td>\n",
       "      <td>NaN</td>\n",
       "      <td>NaN</td>\n",
       "      <td>NaN</td>\n",
       "      <td>NaN</td>\n",
       "      <td>203</td>\n",
       "      <td>3</td>\n",
       "      <td>6.300453</td>\n",
       "      <td>5.540529</td>\n",
       "      <td>7.515985</td>\n",
       "      <td>v2</td>\n",
       "      <td>home</td>\n",
       "      <td>cherry red</td>\n",
       "      <td>dvorak</td>\n",
       "      <td>yes</td>\n",
       "      <td>NaN</td>\n",
       "      <td>NaN</td>\n",
       "      <td>NaN</td>\n",
       "      <td>0.0</td>\n",
       "      <td>100.000000</td>\n",
       "      <td>0.000000</td>\n",
       "      <td>11.168080</td>\n",
       "      <td>NaN</td>\n",
       "      <td>NaN</td>\n",
       "    </tr>\n",
       "    <tr>\n",
       "      <th>9338</th>\n",
       "      <td>9339</td>\n",
       "      <td>1.710171e+09</td>\n",
       "      <td>2024-03-11 11:27:21.423686</td>\n",
       "      <td>2024-03-11 15:27:21.423686+00:00</td>\n",
       "      <td>71</td>\n",
       "      <td>6.279210</td>\n",
       "      <td>11.307155</td>\n",
       "      <td>135.685859</td>\n",
       "      <td>JHN</td>\n",
       "      <td>5</td>\n",
       "      <td>30513</td>\n",
       "      <td>For the Father judges no one, but he has given...</td>\n",
       "      <td>22.0</td>\n",
       "      <td>143.358556</td>\n",
       "      <td>138.959112</td>\n",
       "      <td>128.984768</td>\n",
       "      <td>133.056</td>\n",
       "      <td>2024</td>\n",
       "      <td>3</td>\n",
       "      <td>11</td>\n",
       "      <td>1</td>\n",
       "      <td>2024-03-11</td>\n",
       "      <td>27</td>\n",
       "      <td>3</td>\n",
       "      <td>2</td>\n",
       "      <td>1</td>\n",
       "      <td>2024-03-11 11:27:27.702896000</td>\n",
       "      <td>2024</td>\n",
       "      <td>3</td>\n",
       "      <td>2024-03-11</td>\n",
       "      <td>11</td>\n",
       "      <td>27</td>\n",
       "      <td>2</td>\n",
       "      <td>3</td>\n",
       "      <td>1</td>\n",
       "      <td>0.0</td>\n",
       "      <td>4550</td>\n",
       "      <td>53.410488</td>\n",
       "      <td>1.408451</td>\n",
       "      <td>1.408451</td>\n",
       "      <td>NaN</td>\n",
       "      <td>NaN</td>\n",
       "      <td>NaN</td>\n",
       "      <td>NaN</td>\n",
       "      <td>NaN</td>\n",
       "      <td>NaN</td>\n",
       "      <td>203</td>\n",
       "      <td>4</td>\n",
       "      <td>5.989321</td>\n",
       "      <td>5.501583</td>\n",
       "      <td>7.511974</td>\n",
       "      <td>v2</td>\n",
       "      <td>home</td>\n",
       "      <td>cherry red</td>\n",
       "      <td>dvorak</td>\n",
       "      <td>yes</td>\n",
       "      <td>NaN</td>\n",
       "      <td>NaN</td>\n",
       "      <td>NaN</td>\n",
       "      <td>0.0</td>\n",
       "      <td>93.333333</td>\n",
       "      <td>2.816901</td>\n",
       "      <td>10.376323</td>\n",
       "      <td>NaN</td>\n",
       "      <td>NaN</td>\n",
       "    </tr>\n",
       "    <tr>\n",
       "      <th>9339</th>\n",
       "      <td>9340</td>\n",
       "      <td>1.710171e+09</td>\n",
       "      <td>2024-03-11 11:27:31.307316</td>\n",
       "      <td>2024-03-11 15:27:31.307316+00:00</td>\n",
       "      <td>126</td>\n",
       "      <td>10.224435</td>\n",
       "      <td>12.323420</td>\n",
       "      <td>147.881036</td>\n",
       "      <td>JHN</td>\n",
       "      <td>5</td>\n",
       "      <td>30514</td>\n",
       "      <td>that all may honor the Son, even as they honor...</td>\n",
       "      <td>23.0</td>\n",
       "      <td>147.057733</td>\n",
       "      <td>139.134097</td>\n",
       "      <td>128.998703</td>\n",
       "      <td>133.058</td>\n",
       "      <td>2024</td>\n",
       "      <td>3</td>\n",
       "      <td>11</td>\n",
       "      <td>1</td>\n",
       "      <td>2024-03-11</td>\n",
       "      <td>27</td>\n",
       "      <td>3</td>\n",
       "      <td>2</td>\n",
       "      <td>1</td>\n",
       "      <td>2024-03-11 11:27:41.531750700</td>\n",
       "      <td>2024</td>\n",
       "      <td>3</td>\n",
       "      <td>2024-03-11</td>\n",
       "      <td>11</td>\n",
       "      <td>27</td>\n",
       "      <td>2</td>\n",
       "      <td>3</td>\n",
       "      <td>1</td>\n",
       "      <td>0.0</td>\n",
       "      <td>2442</td>\n",
       "      <td>75.000000</td>\n",
       "      <td>1.587302</td>\n",
       "      <td>4.761905</td>\n",
       "      <td>NaN</td>\n",
       "      <td>NaN</td>\n",
       "      <td>NaN</td>\n",
       "      <td>NaN</td>\n",
       "      <td>NaN</td>\n",
       "      <td>NaN</td>\n",
       "      <td>203</td>\n",
       "      <td>5</td>\n",
       "      <td>5.024833</td>\n",
       "      <td>5.513488</td>\n",
       "      <td>7.514355</td>\n",
       "      <td>v2</td>\n",
       "      <td>home</td>\n",
       "      <td>cherry red</td>\n",
       "      <td>dvorak</td>\n",
       "      <td>yes</td>\n",
       "      <td>NaN</td>\n",
       "      <td>NaN</td>\n",
       "      <td>NaN</td>\n",
       "      <td>0.0</td>\n",
       "      <td>96.000000</td>\n",
       "      <td>9.523810</td>\n",
       "      <td>8.701586</td>\n",
       "      <td>NaN</td>\n",
       "      <td>NaN</td>\n",
       "    </tr>\n",
       "    <tr>\n",
       "      <th>...</th>\n",
       "      <td>...</td>\n",
       "      <td>...</td>\n",
       "      <td>...</td>\n",
       "      <td>...</td>\n",
       "      <td>...</td>\n",
       "      <td>...</td>\n",
       "      <td>...</td>\n",
       "      <td>...</td>\n",
       "      <td>...</td>\n",
       "      <td>...</td>\n",
       "      <td>...</td>\n",
       "      <td>...</td>\n",
       "      <td>...</td>\n",
       "      <td>...</td>\n",
       "      <td>...</td>\n",
       "      <td>...</td>\n",
       "      <td>...</td>\n",
       "      <td>...</td>\n",
       "      <td>...</td>\n",
       "      <td>...</td>\n",
       "      <td>...</td>\n",
       "      <td>...</td>\n",
       "      <td>...</td>\n",
       "      <td>...</td>\n",
       "      <td>...</td>\n",
       "      <td>...</td>\n",
       "      <td>...</td>\n",
       "      <td>...</td>\n",
       "      <td>...</td>\n",
       "      <td>...</td>\n",
       "      <td>...</td>\n",
       "      <td>...</td>\n",
       "      <td>...</td>\n",
       "      <td>...</td>\n",
       "      <td>...</td>\n",
       "      <td>...</td>\n",
       "      <td>...</td>\n",
       "      <td>...</td>\n",
       "      <td>...</td>\n",
       "      <td>...</td>\n",
       "      <td>...</td>\n",
       "      <td>...</td>\n",
       "      <td>...</td>\n",
       "      <td>...</td>\n",
       "      <td>...</td>\n",
       "      <td>...</td>\n",
       "      <td>...</td>\n",
       "      <td>...</td>\n",
       "      <td>...</td>\n",
       "      <td>...</td>\n",
       "      <td>...</td>\n",
       "      <td>...</td>\n",
       "      <td>...</td>\n",
       "      <td>...</td>\n",
       "      <td>...</td>\n",
       "      <td>...</td>\n",
       "      <td>...</td>\n",
       "      <td>...</td>\n",
       "      <td>...</td>\n",
       "      <td>...</td>\n",
       "      <td>...</td>\n",
       "      <td>...</td>\n",
       "      <td>...</td>\n",
       "      <td>...</td>\n",
       "      <td>...</td>\n",
       "    </tr>\n",
       "    <tr>\n",
       "      <th>9759</th>\n",
       "      <td>9760</td>\n",
       "      <td>1.710602e+09</td>\n",
       "      <td>2024-03-16 11:17:41.671556</td>\n",
       "      <td>2024-03-16 15:17:41.671556+00:00</td>\n",
       "      <td>78</td>\n",
       "      <td>6.773794</td>\n",
       "      <td>11.514964</td>\n",
       "      <td>138.179570</td>\n",
       "      <td>JHN</td>\n",
       "      <td>9</td>\n",
       "      <td>30758</td>\n",
       "      <td>Jesus said to him, \"You have both seen him, an...</td>\n",
       "      <td>37.0</td>\n",
       "      <td>135.626543</td>\n",
       "      <td>145.029403</td>\n",
       "      <td>133.586009</td>\n",
       "      <td>133.377</td>\n",
       "      <td>2024</td>\n",
       "      <td>3</td>\n",
       "      <td>11</td>\n",
       "      <td>1</td>\n",
       "      <td>2024-03-16</td>\n",
       "      <td>17</td>\n",
       "      <td>2</td>\n",
       "      <td>2</td>\n",
       "      <td>1</td>\n",
       "      <td>2024-03-16 11:17:48.445350400</td>\n",
       "      <td>2024</td>\n",
       "      <td>3</td>\n",
       "      <td>2024-03-16</td>\n",
       "      <td>11</td>\n",
       "      <td>17</td>\n",
       "      <td>2</td>\n",
       "      <td>2</td>\n",
       "      <td>1</td>\n",
       "      <td>0.0</td>\n",
       "      <td>4105</td>\n",
       "      <td>57.968046</td>\n",
       "      <td>2.564103</td>\n",
       "      <td>7.692308</td>\n",
       "      <td>NaN</td>\n",
       "      <td>NaN</td>\n",
       "      <td>NaN</td>\n",
       "      <td>NaN</td>\n",
       "      <td>NaN</td>\n",
       "      <td>NaN</td>\n",
       "      <td>209</td>\n",
       "      <td>8</td>\n",
       "      <td>6.673974</td>\n",
       "      <td>5.184698</td>\n",
       "      <td>6.715065</td>\n",
       "      <td>v2</td>\n",
       "      <td>home</td>\n",
       "      <td>cherry mx2a brown</td>\n",
       "      <td>dvorak</td>\n",
       "      <td>yes</td>\n",
       "      <td>NaN</td>\n",
       "      <td>NaN</td>\n",
       "      <td>NaN</td>\n",
       "      <td>0.0</td>\n",
       "      <td>94.117647</td>\n",
       "      <td>14.102564</td>\n",
       "      <td>12.015566</td>\n",
       "      <td>8.909651</td>\n",
       "      <td>NaN</td>\n",
       "    </tr>\n",
       "    <tr>\n",
       "      <th>9760</th>\n",
       "      <td>9761</td>\n",
       "      <td>1.710602e+09</td>\n",
       "      <td>2024-03-16 11:17:49.846090</td>\n",
       "      <td>2024-03-16 15:17:49.846090+00:00</td>\n",
       "      <td>49</td>\n",
       "      <td>4.263457</td>\n",
       "      <td>11.493020</td>\n",
       "      <td>137.916243</td>\n",
       "      <td>JHN</td>\n",
       "      <td>9</td>\n",
       "      <td>30759</td>\n",
       "      <td>He said, \"Lord, I believe!\" and he worshiped him.</td>\n",
       "      <td>38.0</td>\n",
       "      <td>136.406688</td>\n",
       "      <td>144.900494</td>\n",
       "      <td>133.620118</td>\n",
       "      <td>133.377</td>\n",
       "      <td>2024</td>\n",
       "      <td>3</td>\n",
       "      <td>11</td>\n",
       "      <td>1</td>\n",
       "      <td>2024-03-16</td>\n",
       "      <td>17</td>\n",
       "      <td>2</td>\n",
       "      <td>2</td>\n",
       "      <td>1</td>\n",
       "      <td>2024-03-16 11:17:54.109547200</td>\n",
       "      <td>2024</td>\n",
       "      <td>3</td>\n",
       "      <td>2024-03-16</td>\n",
       "      <td>11</td>\n",
       "      <td>17</td>\n",
       "      <td>2</td>\n",
       "      <td>2</td>\n",
       "      <td>1</td>\n",
       "      <td>1.0</td>\n",
       "      <td>4169</td>\n",
       "      <td>57.312577</td>\n",
       "      <td>0.000000</td>\n",
       "      <td>0.000000</td>\n",
       "      <td>NaN</td>\n",
       "      <td>NaN</td>\n",
       "      <td>NaN</td>\n",
       "      <td>NaN</td>\n",
       "      <td>NaN</td>\n",
       "      <td>NaN</td>\n",
       "      <td>209</td>\n",
       "      <td>9</td>\n",
       "      <td>5.734377</td>\n",
       "      <td>5.184698</td>\n",
       "      <td>6.704618</td>\n",
       "      <td>v2</td>\n",
       "      <td>home</td>\n",
       "      <td>cherry mx2a brown</td>\n",
       "      <td>dvorak</td>\n",
       "      <td>yes</td>\n",
       "      <td>NaN</td>\n",
       "      <td>NaN</td>\n",
       "      <td>NaN</td>\n",
       "      <td>0.0</td>\n",
       "      <td>100.000000</td>\n",
       "      <td>0.000000</td>\n",
       "      <td>10.471942</td>\n",
       "      <td>8.909651</td>\n",
       "      <td>NaN</td>\n",
       "    </tr>\n",
       "    <tr>\n",
       "      <th>9761</th>\n",
       "      <td>9762</td>\n",
       "      <td>1.710602e+09</td>\n",
       "      <td>2024-03-16 11:18:04.768211</td>\n",
       "      <td>2024-03-16 15:18:04.768211+00:00</td>\n",
       "      <td>98</td>\n",
       "      <td>9.336138</td>\n",
       "      <td>10.496845</td>\n",
       "      <td>125.962144</td>\n",
       "      <td>JHN</td>\n",
       "      <td>9</td>\n",
       "      <td>30761</td>\n",
       "      <td>Those of the Pharisees who were with him heard...</td>\n",
       "      <td>40.0</td>\n",
       "      <td>136.901171</td>\n",
       "      <td>144.878666</td>\n",
       "      <td>133.615511</td>\n",
       "      <td>133.377</td>\n",
       "      <td>2024</td>\n",
       "      <td>3</td>\n",
       "      <td>11</td>\n",
       "      <td>1</td>\n",
       "      <td>2024-03-16</td>\n",
       "      <td>18</td>\n",
       "      <td>2</td>\n",
       "      <td>2</td>\n",
       "      <td>1</td>\n",
       "      <td>2024-03-16 11:18:14.104349300</td>\n",
       "      <td>2024</td>\n",
       "      <td>3</td>\n",
       "      <td>2024-03-16</td>\n",
       "      <td>11</td>\n",
       "      <td>18</td>\n",
       "      <td>2</td>\n",
       "      <td>2</td>\n",
       "      <td>1</td>\n",
       "      <td>0.0</td>\n",
       "      <td>6300</td>\n",
       "      <td>35.487505</td>\n",
       "      <td>4.081633</td>\n",
       "      <td>10.204082</td>\n",
       "      <td>NaN</td>\n",
       "      <td>NaN</td>\n",
       "      <td>NaN</td>\n",
       "      <td>NaN</td>\n",
       "      <td>NaN</td>\n",
       "      <td>NaN</td>\n",
       "      <td>209</td>\n",
       "      <td>10</td>\n",
       "      <td>6.384415</td>\n",
       "      <td>5.223247</td>\n",
       "      <td>6.709161</td>\n",
       "      <td>v2</td>\n",
       "      <td>home</td>\n",
       "      <td>cherry mx2a brown</td>\n",
       "      <td>dvorak</td>\n",
       "      <td>yes</td>\n",
       "      <td>NaN</td>\n",
       "      <td>NaN</td>\n",
       "      <td>NaN</td>\n",
       "      <td>0.0</td>\n",
       "      <td>89.473684</td>\n",
       "      <td>15.306122</td>\n",
       "      <td>11.014900</td>\n",
       "      <td>8.951601</td>\n",
       "      <td>NaN</td>\n",
       "    </tr>\n",
       "    <tr>\n",
       "      <th>9762</th>\n",
       "      <td>9763</td>\n",
       "      <td>1.710602e+09</td>\n",
       "      <td>2024-03-16 11:18:16.963959</td>\n",
       "      <td>2024-03-16 15:18:16.963959+00:00</td>\n",
       "      <td>117</td>\n",
       "      <td>10.801673</td>\n",
       "      <td>10.831656</td>\n",
       "      <td>129.979866</td>\n",
       "      <td>JHN</td>\n",
       "      <td>9</td>\n",
       "      <td>30762</td>\n",
       "      <td>Jesus said to them, \"If you were blind, you wo...</td>\n",
       "      <td>41.0</td>\n",
       "      <td>134.828158</td>\n",
       "      <td>144.364264</td>\n",
       "      <td>133.618620</td>\n",
       "      <td>133.376</td>\n",
       "      <td>2024</td>\n",
       "      <td>3</td>\n",
       "      <td>11</td>\n",
       "      <td>1</td>\n",
       "      <td>2024-03-16</td>\n",
       "      <td>18</td>\n",
       "      <td>2</td>\n",
       "      <td>2</td>\n",
       "      <td>1</td>\n",
       "      <td>2024-03-16 11:18:27.765631900</td>\n",
       "      <td>2024</td>\n",
       "      <td>3</td>\n",
       "      <td>2024-03-16</td>\n",
       "      <td>11</td>\n",
       "      <td>18</td>\n",
       "      <td>2</td>\n",
       "      <td>2</td>\n",
       "      <td>1</td>\n",
       "      <td>0.0</td>\n",
       "      <td>5593</td>\n",
       "      <td>42.728390</td>\n",
       "      <td>3.418803</td>\n",
       "      <td>7.692308</td>\n",
       "      <td>NaN</td>\n",
       "      <td>NaN</td>\n",
       "      <td>NaN</td>\n",
       "      <td>NaN</td>\n",
       "      <td>NaN</td>\n",
       "      <td>NaN</td>\n",
       "      <td>209</td>\n",
       "      <td>11</td>\n",
       "      <td>6.302582</td>\n",
       "      <td>5.300170</td>\n",
       "      <td>6.712015</td>\n",
       "      <td>v2</td>\n",
       "      <td>home</td>\n",
       "      <td>cherry mx2a brown</td>\n",
       "      <td>dvorak</td>\n",
       "      <td>yes</td>\n",
       "      <td>NaN</td>\n",
       "      <td>NaN</td>\n",
       "      <td>NaN</td>\n",
       "      <td>0.0</td>\n",
       "      <td>95.652174</td>\n",
       "      <td>12.820513</td>\n",
       "      <td>11.126739</td>\n",
       "      <td>9.079806</td>\n",
       "      <td>NaN</td>\n",
       "    </tr>\n",
       "    <tr>\n",
       "      <th>9763</th>\n",
       "      <td>9764</td>\n",
       "      <td>1.710602e+09</td>\n",
       "      <td>2024-03-16 11:18:29.470981</td>\n",
       "      <td>2024-03-16 15:18:29.470981+00:00</td>\n",
       "      <td>138</td>\n",
       "      <td>12.718246</td>\n",
       "      <td>10.850553</td>\n",
       "      <td>130.206639</td>\n",
       "      <td>JHN</td>\n",
       "      <td>10</td>\n",
       "      <td>30763</td>\n",
       "      <td>\"Most certainly, I tell you, one who doesn't e...</td>\n",
       "      <td>1.0</td>\n",
       "      <td>132.024411</td>\n",
       "      <td>144.412645</td>\n",
       "      <td>133.622552</td>\n",
       "      <td>133.376</td>\n",
       "      <td>2024</td>\n",
       "      <td>3</td>\n",
       "      <td>11</td>\n",
       "      <td>1</td>\n",
       "      <td>2024-03-16</td>\n",
       "      <td>18</td>\n",
       "      <td>2</td>\n",
       "      <td>2</td>\n",
       "      <td>1</td>\n",
       "      <td>2024-03-16 11:18:42.189226500</td>\n",
       "      <td>2024</td>\n",
       "      <td>3</td>\n",
       "      <td>2024-03-16</td>\n",
       "      <td>11</td>\n",
       "      <td>18</td>\n",
       "      <td>2</td>\n",
       "      <td>2</td>\n",
       "      <td>1</td>\n",
       "      <td>0.0</td>\n",
       "      <td>5541</td>\n",
       "      <td>43.260959</td>\n",
       "      <td>6.521739</td>\n",
       "      <td>11.594203</td>\n",
       "      <td>NaN</td>\n",
       "      <td>NaN</td>\n",
       "      <td>NaN</td>\n",
       "      <td>NaN</td>\n",
       "      <td>NaN</td>\n",
       "      <td>NaN</td>\n",
       "      <td>209</td>\n",
       "      <td>12</td>\n",
       "      <td>7.462002</td>\n",
       "      <td>5.346668</td>\n",
       "      <td>6.717424</td>\n",
       "      <td>v2</td>\n",
       "      <td>home</td>\n",
       "      <td>cherry mx2a brown</td>\n",
       "      <td>dvorak</td>\n",
       "      <td>yes</td>\n",
       "      <td>NaN</td>\n",
       "      <td>NaN</td>\n",
       "      <td>NaN</td>\n",
       "      <td>0.0</td>\n",
       "      <td>96.428571</td>\n",
       "      <td>18.115942</td>\n",
       "      <td>12.938333</td>\n",
       "      <td>9.135966</td>\n",
       "      <td>NaN</td>\n",
       "    </tr>\n",
       "  </tbody>\n",
       "</table>\n",
       "<p>241 rows × 65 columns</p>\n",
       "</div>"
      ],
      "text/plain": [
       "      Test_Number  Unix_Start_Time            Local_Start_Time  \\\n",
       "9335         9336     1.710171e+09  2024-03-11 11:26:37.472366   \n",
       "9336         9337     1.710171e+09  2024-03-11 11:26:56.220335   \n",
       "9337         9338     1.710171e+09  2024-03-11 11:27:11.907570   \n",
       "9338         9339     1.710171e+09  2024-03-11 11:27:21.423686   \n",
       "9339         9340     1.710171e+09  2024-03-11 11:27:31.307316   \n",
       "...           ...              ...                         ...   \n",
       "9759         9760     1.710602e+09  2024-03-16 11:17:41.671556   \n",
       "9760         9761     1.710602e+09  2024-03-16 11:17:49.846090   \n",
       "9761         9762     1.710602e+09  2024-03-16 11:18:04.768211   \n",
       "9762         9763     1.710602e+09  2024-03-16 11:18:16.963959   \n",
       "9763         9764     1.710602e+09  2024-03-16 11:18:29.470981   \n",
       "\n",
       "                        UTC_Start_Time  Characters    Seconds        CPS  \\\n",
       "9335  2024-03-11 15:26:37.472366+00:00         192  16.778450  11.443250   \n",
       "9336  2024-03-11 15:26:56.220335+00:00         152  11.056986  13.746965   \n",
       "9337  2024-03-11 15:27:11.907570+00:00         106   7.391912  14.339997   \n",
       "9338  2024-03-11 15:27:21.423686+00:00          71   6.279210  11.307155   \n",
       "9339  2024-03-11 15:27:31.307316+00:00         126  10.224435  12.323420   \n",
       "...                                ...         ...        ...        ...   \n",
       "9759  2024-03-16 15:17:41.671556+00:00          78   6.773794  11.514964   \n",
       "9760  2024-03-16 15:17:49.846090+00:00          49   4.263457  11.493020   \n",
       "9761  2024-03-16 15:18:04.768211+00:00          98   9.336138  10.496845   \n",
       "9762  2024-03-16 15:18:16.963959+00:00         117  10.801673  10.831656   \n",
       "9763  2024-03-16 15:18:29.470981+00:00         138  12.718246  10.850553   \n",
       "\n",
       "             WPM Book  Chapter  Verse_Order  \\\n",
       "9335  137.319004  JHN        5        30510   \n",
       "9336  164.963585  JHN        5        30511   \n",
       "9337  172.079964  JHN        5        30512   \n",
       "9338  135.685859  JHN        5        30513   \n",
       "9339  147.881036  JHN        5        30514   \n",
       "...          ...  ...      ...          ...   \n",
       "9759  138.179570  JHN        9        30758   \n",
       "9760  137.916243  JHN        9        30759   \n",
       "9761  125.962144  JHN        9        30761   \n",
       "9762  129.979866  JHN        9        30762   \n",
       "9763  130.206639  JHN       10        30763   \n",
       "\n",
       "                                                  Verse  Verse #  Last 10 Avg  \\\n",
       "9335  Jesus therefore answered them, \"Most certainly...     19.0   137.585592   \n",
       "9336  For the Father has affection for the Son, and ...     20.0   140.528065   \n",
       "9337  For as the Father raises the dead and gives th...     21.0   142.400652   \n",
       "9338  For the Father judges no one, but he has given...     22.0   143.358556   \n",
       "9339  that all may honor the Son, even as they honor...     23.0   147.057733   \n",
       "...                                                 ...      ...          ...   \n",
       "9759  Jesus said to him, \"You have both seen him, an...     37.0   135.626543   \n",
       "9760  He said, \"Lord, I believe!\" and he worshiped him.     38.0   136.406688   \n",
       "9761  Those of the Pharisees who were with him heard...     40.0   136.901171   \n",
       "9762  Jesus said to them, \"If you were blind, you wo...     41.0   134.828158   \n",
       "9763  \"Most certainly, I tell you, one who doesn't e...      1.0   132.024411   \n",
       "\n",
       "      Last 100 Avg  Last 1000 Avg  cumulative_avg  Local_Start_Year  \\\n",
       "9335    138.500531     128.903824         133.048              2024   \n",
       "9336    138.713826     128.928716         133.052              2024   \n",
       "9337    138.888181     128.988686         133.056              2024   \n",
       "9338    138.959112     128.984768         133.056              2024   \n",
       "9339    139.134097     128.998703         133.058              2024   \n",
       "...            ...            ...             ...               ...   \n",
       "9759    145.029403     133.586009         133.377              2024   \n",
       "9760    144.900494     133.620118         133.377              2024   \n",
       "9761    144.878666     133.615511         133.377              2024   \n",
       "9762    144.364264     133.618620         133.376              2024   \n",
       "9763    144.412645     133.622552         133.376              2024   \n",
       "\n",
       "      Local_Start_Month  Local_Start_Hour  Count Local_Start_Date  \\\n",
       "9335                  3                11      1       2024-03-11   \n",
       "9336                  3                11      1       2024-03-11   \n",
       "9337                  3                11      1       2024-03-11   \n",
       "9338                  3                11      1       2024-03-11   \n",
       "9339                  3                11      1       2024-03-11   \n",
       "...                 ...               ...    ...              ...   \n",
       "9759                  3                11      1       2024-03-16   \n",
       "9760                  3                11      1       2024-03-16   \n",
       "9761                  3                11      1       2024-03-16   \n",
       "9762                  3                11      1       2024-03-16   \n",
       "9763                  3                11      1       2024-03-16   \n",
       "\n",
       "      Local_Start_Minute  Local_Start_10_Minute_Block  \\\n",
       "9335                  26                            3   \n",
       "9336                  26                            3   \n",
       "9337                  27                            3   \n",
       "9338                  27                            3   \n",
       "9339                  27                            3   \n",
       "...                  ...                          ...   \n",
       "9759                  17                            2   \n",
       "9760                  17                            2   \n",
       "9761                  18                            2   \n",
       "9762                  18                            2   \n",
       "9763                  18                            2   \n",
       "\n",
       "      Local_Start_15_Minute_Block  Local_Start_30_Minute_Block  \\\n",
       "9335                            2                            1   \n",
       "9336                            2                            1   \n",
       "9337                            2                            1   \n",
       "9338                            2                            1   \n",
       "9339                            2                            1   \n",
       "...                           ...                          ...   \n",
       "9759                            2                            1   \n",
       "9760                            2                            1   \n",
       "9761                            2                            1   \n",
       "9762                            2                            1   \n",
       "9763                            2                            1   \n",
       "\n",
       "                     Local_End_Time  Local_End_Year  Local_End_Month  \\\n",
       "9335  2024-03-11 11:26:54.250815700            2024                3   \n",
       "9336  2024-03-11 11:27:07.277320700            2024                3   \n",
       "9337  2024-03-11 11:27:19.299482300            2024                3   \n",
       "9338  2024-03-11 11:27:27.702896000            2024                3   \n",
       "9339  2024-03-11 11:27:41.531750700            2024                3   \n",
       "...                             ...             ...              ...   \n",
       "9759  2024-03-16 11:17:48.445350400            2024                3   \n",
       "9760  2024-03-16 11:17:54.109547200            2024                3   \n",
       "9761  2024-03-16 11:18:14.104349300            2024                3   \n",
       "9762  2024-03-16 11:18:27.765631900            2024                3   \n",
       "9763  2024-03-16 11:18:42.189226500            2024                3   \n",
       "\n",
       "     Local_End_Date  Local_End_Hour  Local_End_Minute  \\\n",
       "9335     2024-03-11              11                26   \n",
       "9336     2024-03-11              11                27   \n",
       "9337     2024-03-11              11                27   \n",
       "9338     2024-03-11              11                27   \n",
       "9339     2024-03-11              11                27   \n",
       "...             ...             ...               ...   \n",
       "9759     2024-03-16              11                17   \n",
       "9760     2024-03-16              11                17   \n",
       "9761     2024-03-16              11                18   \n",
       "9762     2024-03-16              11                18   \n",
       "9763     2024-03-16              11                18   \n",
       "\n",
       "      Local_End_15_Minute_Block  Local_End_10_Minute_Block  \\\n",
       "9335                          2                          3   \n",
       "9336                          2                          3   \n",
       "9337                          2                          3   \n",
       "9338                          2                          3   \n",
       "9339                          2                          3   \n",
       "...                         ...                        ...   \n",
       "9759                          2                          2   \n",
       "9760                          2                          2   \n",
       "9761                          2                          2   \n",
       "9762                          2                          2   \n",
       "9763                          2                          2   \n",
       "\n",
       "      Local_End_30_Minute_Block  Mistake_Free_Test  WPM_Rank  WPM_Percentile  \\\n",
       "9335                          1                0.0      4263       56.349857   \n",
       "9336                          1                0.0       611       93.752560   \n",
       "9337                          1                1.0       268       97.265465   \n",
       "9338                          1                0.0      4550       53.410488   \n",
       "9339                          1                0.0      2442       75.000000   \n",
       "...                         ...                ...       ...             ...   \n",
       "9759                          1                0.0      4105       57.968046   \n",
       "9760                          1                1.0      4169       57.312577   \n",
       "9761                          1                0.0      6300       35.487505   \n",
       "9762                          1                0.0      5593       42.728390   \n",
       "9763                          1                0.0      5541       43.260959   \n",
       "\n",
       "      Backspaces as % of Verse Length  \\\n",
       "9335                         3.125000   \n",
       "9336                         1.315789   \n",
       "9337                         0.000000   \n",
       "9338                         1.408451   \n",
       "9339                         1.587302   \n",
       "...                               ...   \n",
       "9759                         2.564103   \n",
       "9760                         0.000000   \n",
       "9761                         4.081633   \n",
       "9762                         3.418803   \n",
       "9763                         6.521739   \n",
       "\n",
       "      Incorrect Characters as % of Verse Length  Min Character Time (ms)  \\\n",
       "9335                                   8.333333                      NaN   \n",
       "9336                                   4.605263                      NaN   \n",
       "9337                                   0.000000                      NaN   \n",
       "9338                                   1.408451                      NaN   \n",
       "9339                                   4.761905                      NaN   \n",
       "...                                         ...                      ...   \n",
       "9759                                   7.692308                      NaN   \n",
       "9760                                   0.000000                      NaN   \n",
       "9761                                  10.204082                      NaN   \n",
       "9762                                   7.692308                      NaN   \n",
       "9763                                  11.594203                      NaN   \n",
       "\n",
       "      Median Character Time (ms)  Max Character Time (ms)  \\\n",
       "9335                         NaN                      NaN   \n",
       "9336                         NaN                      NaN   \n",
       "9337                         NaN                      NaN   \n",
       "9338                         NaN                      NaN   \n",
       "9339                         NaN                      NaN   \n",
       "...                          ...                      ...   \n",
       "9759                         NaN                      NaN   \n",
       "9760                         NaN                      NaN   \n",
       "9761                         NaN                      NaN   \n",
       "9762                         NaN                      NaN   \n",
       "9763                         NaN                      NaN   \n",
       "\n",
       "      Backspace % Last 10 Avg  Backspace % Last 100 Avg  \\\n",
       "9335                      NaN                       NaN   \n",
       "9336                      NaN                       NaN   \n",
       "9337                      NaN                       NaN   \n",
       "9338                      NaN                       NaN   \n",
       "9339                      NaN                       NaN   \n",
       "...                       ...                       ...   \n",
       "9759                      NaN                       NaN   \n",
       "9760                      NaN                       NaN   \n",
       "9761                      NaN                       NaN   \n",
       "9762                      NaN                       NaN   \n",
       "9763                      NaN                       NaN   \n",
       "\n",
       "      Backspace % Last 1000 Avg  Session  Test_#_Within_Session  \\\n",
       "9335                        NaN      203                      1   \n",
       "9336                        NaN      203                      2   \n",
       "9337                        NaN      203                      3   \n",
       "9338                        NaN      203                      4   \n",
       "9339                        NaN      203                      5   \n",
       "...                         ...      ...                    ...   \n",
       "9759                        NaN      209                      8   \n",
       "9760                        NaN      209                      9   \n",
       "9761                        NaN      209                     10   \n",
       "9762                        NaN      209                     11   \n",
       "9763                        NaN      209                     12   \n",
       "\n",
       "      Incorrect Character % Last 10 Avg  Incorrect Character % Last 100 Avg  \\\n",
       "9335                           6.676314                            5.521322   \n",
       "9336                           6.901546                            5.540529   \n",
       "9337                           6.300453                            5.540529   \n",
       "9338                           5.989321                            5.501583   \n",
       "9339                           5.024833                            5.513488   \n",
       "...                                 ...                                 ...   \n",
       "9759                           6.673974                            5.184698   \n",
       "9760                           5.734377                            5.184698   \n",
       "9761                           6.384415                            5.223247   \n",
       "9762                           6.302582                            5.300170   \n",
       "9763                           7.462002                            5.346668   \n",
       "\n",
       "      Incorrect Character % Last 1000 Avg Test Version Location  \\\n",
       "9335                             7.532080           v2     home   \n",
       "9336                             7.531622           v2     home   \n",
       "9337                             7.515985           v2     home   \n",
       "9338                             7.511974           v2     home   \n",
       "9339                             7.514355           v2     home   \n",
       "...                                   ...          ...      ...   \n",
       "9759                             6.715065           v2     home   \n",
       "9760                             6.704618           v2     home   \n",
       "9761                             6.709161           v2     home   \n",
       "9762                             6.712015           v2     home   \n",
       "9763                             6.717424           v2     home   \n",
       "\n",
       "               Keyboard  Layout Caffeine  Custom_1  Custom_2  Custom_3  \\\n",
       "9335         cherry red  dvorak      yes       NaN       NaN       NaN   \n",
       "9336         cherry red  dvorak      yes       NaN       NaN       NaN   \n",
       "9337         cherry red  dvorak      yes       NaN       NaN       NaN   \n",
       "9338         cherry red  dvorak      yes       NaN       NaN       NaN   \n",
       "9339         cherry red  dvorak      yes       NaN       NaN       NaN   \n",
       "...                 ...     ...      ...       ...       ...       ...   \n",
       "9759  cherry mx2a brown  dvorak      yes       NaN       NaN       NaN   \n",
       "9760  cherry mx2a brown  dvorak      yes       NaN       NaN       NaN   \n",
       "9761  cherry mx2a brown  dvorak      yes       NaN       NaN       NaN   \n",
       "9762  cherry mx2a brown  dvorak      yes       NaN       NaN       NaN   \n",
       "9763  cherry mx2a brown  dvorak      yes       NaN       NaN       NaN   \n",
       "\n",
       "      Autostart  % of Words Typed Correctly  Extra Keystrokes %  \\\n",
       "9335        0.0                   88.235294           13.541667   \n",
       "9336        0.0                   96.551724            5.921053   \n",
       "9337        0.0                  100.000000            0.000000   \n",
       "9338        0.0                   93.333333            2.816901   \n",
       "9339        0.0                   96.000000            9.523810   \n",
       "...         ...                         ...                 ...   \n",
       "9759        0.0                   94.117647           14.102564   \n",
       "9760        0.0                  100.000000            0.000000   \n",
       "9761        0.0                   89.473684           15.306122   \n",
       "9762        0.0                   95.652174           12.820513   \n",
       "9763        0.0                   96.428571           18.115942   \n",
       "\n",
       "      Extra Keystrokes % Last 10 Avg  Extra Keystrokes % Last 100 Avg  \\\n",
       "9335                       12.194104                              NaN   \n",
       "9336                       12.315621                              NaN   \n",
       "9337                       11.168080                              NaN   \n",
       "9338                       10.376323                              NaN   \n",
       "9339                        8.701586                              NaN   \n",
       "...                              ...                              ...   \n",
       "9759                       12.015566                         8.909651   \n",
       "9760                       10.471942                         8.909651   \n",
       "9761                       11.014900                         8.951601   \n",
       "9762                       11.126739                         9.079806   \n",
       "9763                       12.938333                         9.135966   \n",
       "\n",
       "      Extra Keystrokes % Last 1000 Avg  \n",
       "9335                               NaN  \n",
       "9336                               NaN  \n",
       "9337                               NaN  \n",
       "9338                               NaN  \n",
       "9339                               NaN  \n",
       "...                                ...  \n",
       "9759                               NaN  \n",
       "9760                               NaN  \n",
       "9761                               NaN  \n",
       "9762                               NaN  \n",
       "9763                               NaN  \n",
       "\n",
       "[241 rows x 65 columns]"
      ]
     },
     "execution_count": 19,
     "metadata": {},
     "output_type": "execute_result"
    }
   ],
   "source": [
    "df_trial_results_for_regression = pd.get_dummies(\n",
    "data = df_trial_results, columns = ['Keyboard'], drop_first=True, dtype = 'int').copy() \n",
    "# For more on get_dummies(), see: \n",
    "# https://pandas.pydata.org/pandas-docs/stable/reference/api/pandas.get_dummies.html\n",
    "df_trial_results"
   ]
  },
  {
   "cell_type": "markdown",
   "metadata": {},
   "source": [
    "The following list allows us to create a list of categorical columns (which will be useful when coding regression analyses) that can get updated automatically if new keyboards are added in."
   ]
  },
  {
   "cell_type": "code",
   "execution_count": 20,
   "metadata": {},
   "outputs": [
    {
     "data": {
      "text/plain": [
       "['Keyboard_cherry mx2a brown', 'Keyboard_cherry red']"
      ]
     },
     "execution_count": 20,
     "metadata": {},
     "output_type": "execute_result"
    }
   ],
   "source": [
    "keyboard_categorical_columns = [\n",
    "column for column in df_trial_results_for_regression if 'Keyboard_' in column]\n",
    "keyboard_categorical_columns"
   ]
  },
  {
   "cell_type": "markdown",
   "metadata": {},
   "source": [
    "### Regression that evaluates the impact of accuracy on WPM:"
   ]
  },
  {
   "cell_type": "code",
   "execution_count": 21,
   "metadata": {},
   "outputs": [
    {
     "data": {
      "text/html": [
       "<table class=\"simpletable\">\n",
       "<caption>OLS Regression Results</caption>\n",
       "<tr>\n",
       "  <th>Dep. Variable:</th>           <td>WPM</td>       <th>  R-squared:         </th> <td>   0.652</td>\n",
       "</tr>\n",
       "<tr>\n",
       "  <th>Model:</th>                   <td>OLS</td>       <th>  Adj. R-squared:    </th> <td>   0.651</td>\n",
       "</tr>\n",
       "<tr>\n",
       "  <th>Method:</th>             <td>Least Squares</td>  <th>  F-statistic:       </th> <td>   448.7</td>\n",
       "</tr>\n",
       "<tr>\n",
       "  <th>Date:</th>             <td>Sat, 16 Mar 2024</td> <th>  Prob (F-statistic):</th> <td>8.95e-57</td>\n",
       "</tr>\n",
       "<tr>\n",
       "  <th>Time:</th>                 <td>15:24:33</td>     <th>  Log-Likelihood:    </th> <td> -931.50</td>\n",
       "</tr>\n",
       "<tr>\n",
       "  <th>No. Observations:</th>      <td>   241</td>      <th>  AIC:               </th> <td>   1867.</td>\n",
       "</tr>\n",
       "<tr>\n",
       "  <th>Df Residuals:</th>          <td>   239</td>      <th>  BIC:               </th> <td>   1874.</td>\n",
       "</tr>\n",
       "<tr>\n",
       "  <th>Df Model:</th>              <td>     1</td>      <th>                     </th>     <td> </td>   \n",
       "</tr>\n",
       "<tr>\n",
       "  <th>Covariance Type:</th>      <td>nonrobust</td>    <th>                     </th>     <td> </td>   \n",
       "</tr>\n",
       "</table>\n",
       "<table class=\"simpletable\">\n",
       "<tr>\n",
       "           <td></td>             <th>coef</th>     <th>std err</th>      <th>t</th>      <th>P>|t|</th>  <th>[0.025</th>    <th>0.975]</th>  \n",
       "</tr>\n",
       "<tr>\n",
       "  <th>const</th>              <td>  159.1113</td> <td>    1.043</td> <td>  152.487</td> <td> 0.000</td> <td>  157.056</td> <td>  161.167</td>\n",
       "</tr>\n",
       "<tr>\n",
       "  <th>Extra Keystrokes %</th> <td>   -1.6516</td> <td>    0.078</td> <td>  -21.183</td> <td> 0.000</td> <td>   -1.805</td> <td>   -1.498</td>\n",
       "</tr>\n",
       "</table>\n",
       "<table class=\"simpletable\">\n",
       "<tr>\n",
       "  <th>Omnibus:</th>       <td> 2.532</td> <th>  Durbin-Watson:     </th> <td>   1.655</td>\n",
       "</tr>\n",
       "<tr>\n",
       "  <th>Prob(Omnibus):</th> <td> 0.282</td> <th>  Jarque-Bera (JB):  </th> <td>   2.190</td>\n",
       "</tr>\n",
       "<tr>\n",
       "  <th>Skew:</th>          <td> 0.213</td> <th>  Prob(JB):          </th> <td>   0.335</td>\n",
       "</tr>\n",
       "<tr>\n",
       "  <th>Kurtosis:</th>      <td> 3.191</td> <th>  Cond. No.          </th> <td>    18.8</td>\n",
       "</tr>\n",
       "</table><br/><br/>Notes:<br/>[1] Standard Errors assume that the covariance matrix of the errors is correctly specified."
      ],
      "text/latex": [
       "\\begin{center}\n",
       "\\begin{tabular}{lclc}\n",
       "\\toprule\n",
       "\\textbf{Dep. Variable:}      &       WPM        & \\textbf{  R-squared:         } &     0.652   \\\\\n",
       "\\textbf{Model:}              &       OLS        & \\textbf{  Adj. R-squared:    } &     0.651   \\\\\n",
       "\\textbf{Method:}             &  Least Squares   & \\textbf{  F-statistic:       } &     448.7   \\\\\n",
       "\\textbf{Date:}               & Sat, 16 Mar 2024 & \\textbf{  Prob (F-statistic):} &  8.95e-57   \\\\\n",
       "\\textbf{Time:}               &     15:24:33     & \\textbf{  Log-Likelihood:    } &   -931.50   \\\\\n",
       "\\textbf{No. Observations:}   &         241      & \\textbf{  AIC:               } &     1867.   \\\\\n",
       "\\textbf{Df Residuals:}       &         239      & \\textbf{  BIC:               } &     1874.   \\\\\n",
       "\\textbf{Df Model:}           &           1      & \\textbf{                     } &             \\\\\n",
       "\\textbf{Covariance Type:}    &    nonrobust     & \\textbf{                     } &             \\\\\n",
       "\\bottomrule\n",
       "\\end{tabular}\n",
       "\\begin{tabular}{lcccccc}\n",
       "                             & \\textbf{coef} & \\textbf{std err} & \\textbf{t} & \\textbf{P$> |$t$|$} & \\textbf{[0.025} & \\textbf{0.975]}  \\\\\n",
       "\\midrule\n",
       "\\textbf{const}               &     159.1113  &        1.043     &   152.487  &         0.000        &      157.056    &      161.167     \\\\\n",
       "\\textbf{Extra Keystrokes \\%} &      -1.6516  &        0.078     &   -21.183  &         0.000        &       -1.805    &       -1.498     \\\\\n",
       "\\bottomrule\n",
       "\\end{tabular}\n",
       "\\begin{tabular}{lclc}\n",
       "\\textbf{Omnibus:}       &  2.532 & \\textbf{  Durbin-Watson:     } &    1.655  \\\\\n",
       "\\textbf{Prob(Omnibus):} &  0.282 & \\textbf{  Jarque-Bera (JB):  } &    2.190  \\\\\n",
       "\\textbf{Skew:}          &  0.213 & \\textbf{  Prob(JB):          } &    0.335  \\\\\n",
       "\\textbf{Kurtosis:}      &  3.191 & \\textbf{  Cond. No.          } &     18.8  \\\\\n",
       "\\bottomrule\n",
       "\\end{tabular}\n",
       "%\\caption{OLS Regression Results}\n",
       "\\end{center}\n",
       "\n",
       "Notes: \\newline\n",
       " [1] Standard Errors assume that the covariance matrix of the errors is correctly specified."
      ],
      "text/plain": [
       "<class 'statsmodels.iolib.summary.Summary'>\n",
       "\"\"\"\n",
       "                            OLS Regression Results                            \n",
       "==============================================================================\n",
       "Dep. Variable:                    WPM   R-squared:                       0.652\n",
       "Model:                            OLS   Adj. R-squared:                  0.651\n",
       "Method:                 Least Squares   F-statistic:                     448.7\n",
       "Date:                Sat, 16 Mar 2024   Prob (F-statistic):           8.95e-57\n",
       "Time:                        15:24:33   Log-Likelihood:                -931.50\n",
       "No. Observations:                 241   AIC:                             1867.\n",
       "Df Residuals:                     239   BIC:                             1874.\n",
       "Df Model:                           1                                         \n",
       "Covariance Type:            nonrobust                                         \n",
       "======================================================================================\n",
       "                         coef    std err          t      P>|t|      [0.025      0.975]\n",
       "--------------------------------------------------------------------------------------\n",
       "const                159.1113      1.043    152.487      0.000     157.056     161.167\n",
       "Extra Keystrokes %    -1.6516      0.078    -21.183      0.000      -1.805      -1.498\n",
       "==============================================================================\n",
       "Omnibus:                        2.532   Durbin-Watson:                   1.655\n",
       "Prob(Omnibus):                  0.282   Jarque-Bera (JB):                2.190\n",
       "Skew:                           0.213   Prob(JB):                        0.335\n",
       "Kurtosis:                       3.191   Cond. No.                         18.8\n",
       "==============================================================================\n",
       "\n",
       "Notes:\n",
       "[1] Standard Errors assume that the covariance matrix of the errors is correctly specified.\n",
       "\"\"\""
      ]
     },
     "execution_count": 21,
     "metadata": {},
     "output_type": "execute_result"
    }
   ],
   "source": [
    "y = df_trial_results_for_regression['WPM']\n",
    "x = df_trial_results_for_regression['Extra Keystrokes %']\n",
    "x = sm.add_constant(x)\n",
    "model = sm.OLS(y, x)\n",
    "results = model.fit()\n",
    "results.summary()"
   ]
  },
  {
   "cell_type": "markdown",
   "metadata": {},
   "source": [
    "### Regression that evaluates the impact of keyboard choice on WPM:\n",
    "\n",
    "This regression does not adjust for accuracy, although a later analysis will."
   ]
  },
  {
   "cell_type": "code",
   "execution_count": 22,
   "metadata": {},
   "outputs": [
    {
     "data": {
      "text/html": [
       "<table class=\"simpletable\">\n",
       "<caption>OLS Regression Results</caption>\n",
       "<tr>\n",
       "  <th>Dep. Variable:</th>           <td>WPM</td>       <th>  R-squared:         </th> <td>   0.008</td>\n",
       "</tr>\n",
       "<tr>\n",
       "  <th>Model:</th>                   <td>OLS</td>       <th>  Adj. R-squared:    </th> <td>  -0.000</td>\n",
       "</tr>\n",
       "<tr>\n",
       "  <th>Method:</th>             <td>Least Squares</td>  <th>  F-statistic:       </th> <td>  0.9554</td>\n",
       "</tr>\n",
       "<tr>\n",
       "  <th>Date:</th>             <td>Sat, 16 Mar 2024</td> <th>  Prob (F-statistic):</th>  <td> 0.386</td> \n",
       "</tr>\n",
       "<tr>\n",
       "  <th>Time:</th>                 <td>15:24:33</td>     <th>  Log-Likelihood:    </th> <td> -1057.9</td>\n",
       "</tr>\n",
       "<tr>\n",
       "  <th>No. Observations:</th>      <td>   241</td>      <th>  AIC:               </th> <td>   2122.</td>\n",
       "</tr>\n",
       "<tr>\n",
       "  <th>Df Residuals:</th>          <td>   238</td>      <th>  BIC:               </th> <td>   2132.</td>\n",
       "</tr>\n",
       "<tr>\n",
       "  <th>Df Model:</th>              <td>     2</td>      <th>                     </th>     <td> </td>   \n",
       "</tr>\n",
       "<tr>\n",
       "  <th>Covariance Type:</th>      <td>nonrobust</td>    <th>                     </th>     <td> </td>   \n",
       "</tr>\n",
       "</table>\n",
       "<table class=\"simpletable\">\n",
       "<tr>\n",
       "               <td></td>                 <th>coef</th>     <th>std err</th>      <th>t</th>      <th>P>|t|</th>  <th>[0.025</th>    <th>0.975]</th>  \n",
       "</tr>\n",
       "<tr>\n",
       "  <th>const</th>                      <td>  146.1285</td> <td>    2.194</td> <td>   66.591</td> <td> 0.000</td> <td>  141.806</td> <td>  150.451</td>\n",
       "</tr>\n",
       "<tr>\n",
       "  <th>Keyboard_cherry mx2a brown</th> <td>   -3.3808</td> <td>    3.094</td> <td>   -1.093</td> <td> 0.276</td> <td>   -9.475</td> <td>    2.714</td>\n",
       "</tr>\n",
       "<tr>\n",
       "  <th>Keyboard_cherry red</th>        <td>   -3.9736</td> <td>    3.103</td> <td>   -1.280</td> <td> 0.202</td> <td>  -10.087</td> <td>    2.140</td>\n",
       "</tr>\n",
       "</table>\n",
       "<table class=\"simpletable\">\n",
       "<tr>\n",
       "  <th>Omnibus:</th>       <td> 3.000</td> <th>  Durbin-Watson:     </th> <td>   1.801</td>\n",
       "</tr>\n",
       "<tr>\n",
       "  <th>Prob(Omnibus):</th> <td> 0.223</td> <th>  Jarque-Bera (JB):  </th> <td>   2.279</td>\n",
       "</tr>\n",
       "<tr>\n",
       "  <th>Skew:</th>          <td>-0.081</td> <th>  Prob(JB):          </th> <td>   0.320</td>\n",
       "</tr>\n",
       "<tr>\n",
       "  <th>Kurtosis:</th>      <td> 2.552</td> <th>  Cond. No.          </th> <td>    3.74</td>\n",
       "</tr>\n",
       "</table><br/><br/>Notes:<br/>[1] Standard Errors assume that the covariance matrix of the errors is correctly specified."
      ],
      "text/latex": [
       "\\begin{center}\n",
       "\\begin{tabular}{lclc}\n",
       "\\toprule\n",
       "\\textbf{Dep. Variable:}              &       WPM        & \\textbf{  R-squared:         } &     0.008   \\\\\n",
       "\\textbf{Model:}                      &       OLS        & \\textbf{  Adj. R-squared:    } &    -0.000   \\\\\n",
       "\\textbf{Method:}                     &  Least Squares   & \\textbf{  F-statistic:       } &    0.9554   \\\\\n",
       "\\textbf{Date:}                       & Sat, 16 Mar 2024 & \\textbf{  Prob (F-statistic):} &    0.386    \\\\\n",
       "\\textbf{Time:}                       &     15:24:33     & \\textbf{  Log-Likelihood:    } &   -1057.9   \\\\\n",
       "\\textbf{No. Observations:}           &         241      & \\textbf{  AIC:               } &     2122.   \\\\\n",
       "\\textbf{Df Residuals:}               &         238      & \\textbf{  BIC:               } &     2132.   \\\\\n",
       "\\textbf{Df Model:}                   &           2      & \\textbf{                     } &             \\\\\n",
       "\\textbf{Covariance Type:}            &    nonrobust     & \\textbf{                     } &             \\\\\n",
       "\\bottomrule\n",
       "\\end{tabular}\n",
       "\\begin{tabular}{lcccccc}\n",
       "                                     & \\textbf{coef} & \\textbf{std err} & \\textbf{t} & \\textbf{P$> |$t$|$} & \\textbf{[0.025} & \\textbf{0.975]}  \\\\\n",
       "\\midrule\n",
       "\\textbf{const}                       &     146.1285  &        2.194     &    66.591  &         0.000        &      141.806    &      150.451     \\\\\n",
       "\\textbf{Keyboard\\_cherry mx2a brown} &      -3.3808  &        3.094     &    -1.093  &         0.276        &       -9.475    &        2.714     \\\\\n",
       "\\textbf{Keyboard\\_cherry red}        &      -3.9736  &        3.103     &    -1.280  &         0.202        &      -10.087    &        2.140     \\\\\n",
       "\\bottomrule\n",
       "\\end{tabular}\n",
       "\\begin{tabular}{lclc}\n",
       "\\textbf{Omnibus:}       &  3.000 & \\textbf{  Durbin-Watson:     } &    1.801  \\\\\n",
       "\\textbf{Prob(Omnibus):} &  0.223 & \\textbf{  Jarque-Bera (JB):  } &    2.279  \\\\\n",
       "\\textbf{Skew:}          & -0.081 & \\textbf{  Prob(JB):          } &    0.320  \\\\\n",
       "\\textbf{Kurtosis:}      &  2.552 & \\textbf{  Cond. No.          } &     3.74  \\\\\n",
       "\\bottomrule\n",
       "\\end{tabular}\n",
       "%\\caption{OLS Regression Results}\n",
       "\\end{center}\n",
       "\n",
       "Notes: \\newline\n",
       " [1] Standard Errors assume that the covariance matrix of the errors is correctly specified."
      ],
      "text/plain": [
       "<class 'statsmodels.iolib.summary.Summary'>\n",
       "\"\"\"\n",
       "                            OLS Regression Results                            \n",
       "==============================================================================\n",
       "Dep. Variable:                    WPM   R-squared:                       0.008\n",
       "Model:                            OLS   Adj. R-squared:                 -0.000\n",
       "Method:                 Least Squares   F-statistic:                    0.9554\n",
       "Date:                Sat, 16 Mar 2024   Prob (F-statistic):              0.386\n",
       "Time:                        15:24:33   Log-Likelihood:                -1057.9\n",
       "No. Observations:                 241   AIC:                             2122.\n",
       "Df Residuals:                     238   BIC:                             2132.\n",
       "Df Model:                           2                                         \n",
       "Covariance Type:            nonrobust                                         \n",
       "==============================================================================================\n",
       "                                 coef    std err          t      P>|t|      [0.025      0.975]\n",
       "----------------------------------------------------------------------------------------------\n",
       "const                        146.1285      2.194     66.591      0.000     141.806     150.451\n",
       "Keyboard_cherry mx2a brown    -3.3808      3.094     -1.093      0.276      -9.475       2.714\n",
       "Keyboard_cherry red           -3.9736      3.103     -1.280      0.202     -10.087       2.140\n",
       "==============================================================================\n",
       "Omnibus:                        3.000   Durbin-Watson:                   1.801\n",
       "Prob(Omnibus):                  0.223   Jarque-Bera (JB):                2.279\n",
       "Skew:                          -0.081   Prob(JB):                        0.320\n",
       "Kurtosis:                       2.552   Cond. No.                         3.74\n",
       "==============================================================================\n",
       "\n",
       "Notes:\n",
       "[1] Standard Errors assume that the covariance matrix of the errors is correctly specified.\n",
       "\"\"\""
      ]
     },
     "execution_count": 22,
     "metadata": {},
     "output_type": "execute_result"
    }
   ],
   "source": [
    "y = df_trial_results_for_regression['WPM']\n",
    "x = df_trial_results_for_regression[keyboard_categorical_columns]\n",
    "x = sm.add_constant(x)\n",
    "model = sm.OLS(y, x)\n",
    "results = model.fit()\n",
    "results.summary()"
   ]
  },
  {
   "cell_type": "markdown",
   "metadata": {},
   "source": [
    "### Regression that evaluates the impact of keyboard choice on accuracy:"
   ]
  },
  {
   "cell_type": "code",
   "execution_count": 23,
   "metadata": {},
   "outputs": [
    {
     "data": {
      "text/html": [
       "<table class=\"simpletable\">\n",
       "<caption>OLS Regression Results</caption>\n",
       "<tr>\n",
       "  <th>Dep. Variable:</th>    <td>Extra Keystrokes %</td> <th>  R-squared:         </th> <td>   0.019</td>\n",
       "</tr>\n",
       "<tr>\n",
       "  <th>Model:</th>                    <td>OLS</td>        <th>  Adj. R-squared:    </th> <td>   0.011</td>\n",
       "</tr>\n",
       "<tr>\n",
       "  <th>Method:</th>              <td>Least Squares</td>   <th>  F-statistic:       </th> <td>   2.333</td>\n",
       "</tr>\n",
       "<tr>\n",
       "  <th>Date:</th>              <td>Sat, 16 Mar 2024</td>  <th>  Prob (F-statistic):</th>  <td>0.0992</td> \n",
       "</tr>\n",
       "<tr>\n",
       "  <th>Time:</th>                  <td>15:24:33</td>      <th>  Log-Likelihood:    </th> <td> -884.14</td>\n",
       "</tr>\n",
       "<tr>\n",
       "  <th>No. Observations:</th>       <td>   241</td>       <th>  AIC:               </th> <td>   1774.</td>\n",
       "</tr>\n",
       "<tr>\n",
       "  <th>Df Residuals:</th>           <td>   238</td>       <th>  BIC:               </th> <td>   1785.</td>\n",
       "</tr>\n",
       "<tr>\n",
       "  <th>Df Model:</th>               <td>     2</td>       <th>                     </th>     <td> </td>   \n",
       "</tr>\n",
       "<tr>\n",
       "  <th>Covariance Type:</th>       <td>nonrobust</td>     <th>                     </th>     <td> </td>   \n",
       "</tr>\n",
       "</table>\n",
       "<table class=\"simpletable\">\n",
       "<tr>\n",
       "               <td></td>                 <th>coef</th>     <th>std err</th>      <th>t</th>      <th>P>|t|</th>  <th>[0.025</th>    <th>0.975]</th>  \n",
       "</tr>\n",
       "<tr>\n",
       "  <th>const</th>                      <td>    7.8222</td> <td>    1.067</td> <td>    7.330</td> <td> 0.000</td> <td>    5.720</td> <td>    9.924</td>\n",
       "</tr>\n",
       "<tr>\n",
       "  <th>Keyboard_cherry mx2a brown</th> <td>    3.2311</td> <td>    1.504</td> <td>    2.148</td> <td> 0.033</td> <td>    0.267</td> <td>    6.195</td>\n",
       "</tr>\n",
       "<tr>\n",
       "  <th>Keyboard_cherry red</th>        <td>    1.3223</td> <td>    1.509</td> <td>    0.876</td> <td> 0.382</td> <td>   -1.651</td> <td>    4.295</td>\n",
       "</tr>\n",
       "</table>\n",
       "<table class=\"simpletable\">\n",
       "<tr>\n",
       "  <th>Omnibus:</th>       <td>90.682</td> <th>  Durbin-Watson:     </th> <td>   1.976</td>\n",
       "</tr>\n",
       "<tr>\n",
       "  <th>Prob(Omnibus):</th> <td> 0.000</td> <th>  Jarque-Bera (JB):  </th> <td> 291.919</td>\n",
       "</tr>\n",
       "<tr>\n",
       "  <th>Skew:</th>          <td> 1.612</td> <th>  Prob(JB):          </th> <td>4.08e-64</td>\n",
       "</tr>\n",
       "<tr>\n",
       "  <th>Kurtosis:</th>      <td> 7.321</td> <th>  Cond. No.          </th> <td>    3.74</td>\n",
       "</tr>\n",
       "</table><br/><br/>Notes:<br/>[1] Standard Errors assume that the covariance matrix of the errors is correctly specified."
      ],
      "text/latex": [
       "\\begin{center}\n",
       "\\begin{tabular}{lclc}\n",
       "\\toprule\n",
       "\\textbf{Dep. Variable:}              & Extra Keystrokes \\% & \\textbf{  R-squared:         } &     0.019   \\\\\n",
       "\\textbf{Model:}                      &         OLS         & \\textbf{  Adj. R-squared:    } &     0.011   \\\\\n",
       "\\textbf{Method:}                     &    Least Squares    & \\textbf{  F-statistic:       } &     2.333   \\\\\n",
       "\\textbf{Date:}                       &   Sat, 16 Mar 2024  & \\textbf{  Prob (F-statistic):} &   0.0992    \\\\\n",
       "\\textbf{Time:}                       &       15:24:33      & \\textbf{  Log-Likelihood:    } &   -884.14   \\\\\n",
       "\\textbf{No. Observations:}           &           241       & \\textbf{  AIC:               } &     1774.   \\\\\n",
       "\\textbf{Df Residuals:}               &           238       & \\textbf{  BIC:               } &     1785.   \\\\\n",
       "\\textbf{Df Model:}                   &             2       & \\textbf{                     } &             \\\\\n",
       "\\textbf{Covariance Type:}            &      nonrobust      & \\textbf{                     } &             \\\\\n",
       "\\bottomrule\n",
       "\\end{tabular}\n",
       "\\begin{tabular}{lcccccc}\n",
       "                                     & \\textbf{coef} & \\textbf{std err} & \\textbf{t} & \\textbf{P$> |$t$|$} & \\textbf{[0.025} & \\textbf{0.975]}  \\\\\n",
       "\\midrule\n",
       "\\textbf{const}                       &       7.8222  &        1.067     &     7.330  &         0.000        &        5.720    &        9.924     \\\\\n",
       "\\textbf{Keyboard\\_cherry mx2a brown} &       3.2311  &        1.504     &     2.148  &         0.033        &        0.267    &        6.195     \\\\\n",
       "\\textbf{Keyboard\\_cherry red}        &       1.3223  &        1.509     &     0.876  &         0.382        &       -1.651    &        4.295     \\\\\n",
       "\\bottomrule\n",
       "\\end{tabular}\n",
       "\\begin{tabular}{lclc}\n",
       "\\textbf{Omnibus:}       & 90.682 & \\textbf{  Durbin-Watson:     } &    1.976  \\\\\n",
       "\\textbf{Prob(Omnibus):} &  0.000 & \\textbf{  Jarque-Bera (JB):  } &  291.919  \\\\\n",
       "\\textbf{Skew:}          &  1.612 & \\textbf{  Prob(JB):          } & 4.08e-64  \\\\\n",
       "\\textbf{Kurtosis:}      &  7.321 & \\textbf{  Cond. No.          } &     3.74  \\\\\n",
       "\\bottomrule\n",
       "\\end{tabular}\n",
       "%\\caption{OLS Regression Results}\n",
       "\\end{center}\n",
       "\n",
       "Notes: \\newline\n",
       " [1] Standard Errors assume that the covariance matrix of the errors is correctly specified."
      ],
      "text/plain": [
       "<class 'statsmodels.iolib.summary.Summary'>\n",
       "\"\"\"\n",
       "                            OLS Regression Results                            \n",
       "==============================================================================\n",
       "Dep. Variable:     Extra Keystrokes %   R-squared:                       0.019\n",
       "Model:                            OLS   Adj. R-squared:                  0.011\n",
       "Method:                 Least Squares   F-statistic:                     2.333\n",
       "Date:                Sat, 16 Mar 2024   Prob (F-statistic):             0.0992\n",
       "Time:                        15:24:33   Log-Likelihood:                -884.14\n",
       "No. Observations:                 241   AIC:                             1774.\n",
       "Df Residuals:                     238   BIC:                             1785.\n",
       "Df Model:                           2                                         \n",
       "Covariance Type:            nonrobust                                         \n",
       "==============================================================================================\n",
       "                                 coef    std err          t      P>|t|      [0.025      0.975]\n",
       "----------------------------------------------------------------------------------------------\n",
       "const                          7.8222      1.067      7.330      0.000       5.720       9.924\n",
       "Keyboard_cherry mx2a brown     3.2311      1.504      2.148      0.033       0.267       6.195\n",
       "Keyboard_cherry red            1.3223      1.509      0.876      0.382      -1.651       4.295\n",
       "==============================================================================\n",
       "Omnibus:                       90.682   Durbin-Watson:                   1.976\n",
       "Prob(Omnibus):                  0.000   Jarque-Bera (JB):              291.919\n",
       "Skew:                           1.612   Prob(JB):                     4.08e-64\n",
       "Kurtosis:                       7.321   Cond. No.                         3.74\n",
       "==============================================================================\n",
       "\n",
       "Notes:\n",
       "[1] Standard Errors assume that the covariance matrix of the errors is correctly specified.\n",
       "\"\"\""
      ]
     },
     "execution_count": 23,
     "metadata": {},
     "output_type": "execute_result"
    }
   ],
   "source": [
    "y = df_trial_results_for_regression['Extra Keystrokes %']\n",
    "x = df_trial_results_for_regression[keyboard_categorical_columns]\n",
    "x = sm.add_constant(x)\n",
    "model = sm.OLS(y, x)\n",
    "results = model.fit()\n",
    "results.summary()"
   ]
  },
  {
   "cell_type": "markdown",
   "metadata": {},
   "source": [
    "### Regression that evaluates the impact of keyboard choice *and* accuracy on WPM:"
   ]
  },
  {
   "cell_type": "code",
   "execution_count": 24,
   "metadata": {},
   "outputs": [
    {
     "data": {
      "text/html": [
       "<table class=\"simpletable\">\n",
       "<caption>OLS Regression Results</caption>\n",
       "<tr>\n",
       "  <th>Dep. Variable:</th>           <td>WPM</td>       <th>  R-squared:         </th> <td>   0.659</td>\n",
       "</tr>\n",
       "<tr>\n",
       "  <th>Model:</th>                   <td>OLS</td>       <th>  Adj. R-squared:    </th> <td>   0.654</td>\n",
       "</tr>\n",
       "<tr>\n",
       "  <th>Method:</th>             <td>Least Squares</td>  <th>  F-statistic:       </th> <td>   152.4</td>\n",
       "</tr>\n",
       "<tr>\n",
       "  <th>Date:</th>             <td>Sat, 16 Mar 2024</td> <th>  Prob (F-statistic):</th> <td>4.87e-55</td>\n",
       "</tr>\n",
       "<tr>\n",
       "  <th>Time:</th>                 <td>15:24:33</td>     <th>  Log-Likelihood:    </th> <td> -929.34</td>\n",
       "</tr>\n",
       "<tr>\n",
       "  <th>No. Observations:</th>      <td>   241</td>      <th>  AIC:               </th> <td>   1867.</td>\n",
       "</tr>\n",
       "<tr>\n",
       "  <th>Df Residuals:</th>          <td>   237</td>      <th>  BIC:               </th> <td>   1881.</td>\n",
       "</tr>\n",
       "<tr>\n",
       "  <th>Df Model:</th>              <td>     3</td>      <th>                     </th>     <td> </td>   \n",
       "</tr>\n",
       "<tr>\n",
       "  <th>Covariance Type:</th>      <td>nonrobust</td>    <th>                     </th>     <td> </td>   \n",
       "</tr>\n",
       "</table>\n",
       "<table class=\"simpletable\">\n",
       "<tr>\n",
       "               <td></td>                 <th>coef</th>     <th>std err</th>      <th>t</th>      <th>P>|t|</th>  <th>[0.025</th>    <th>0.975]</th>  \n",
       "</tr>\n",
       "<tr>\n",
       "  <th>const</th>                      <td>  159.1560</td> <td>    1.428</td> <td>  111.440</td> <td> 0.000</td> <td>  156.342</td> <td>  161.970</td>\n",
       "</tr>\n",
       "<tr>\n",
       "  <th>Extra Keystrokes %</th>         <td>   -1.6655</td> <td>    0.078</td> <td>  -21.254</td> <td> 0.000</td> <td>   -1.820</td> <td>   -1.511</td>\n",
       "</tr>\n",
       "<tr>\n",
       "  <th>Keyboard_cherry mx2a brown</th> <td>    2.0005</td> <td>    1.836</td> <td>    1.089</td> <td> 0.277</td> <td>   -1.617</td> <td>    5.618</td>\n",
       "</tr>\n",
       "<tr>\n",
       "  <th>Keyboard_cherry red</th>        <td>   -1.7714</td> <td>    1.827</td> <td>   -0.969</td> <td> 0.333</td> <td>   -5.371</td> <td>    1.828</td>\n",
       "</tr>\n",
       "</table>\n",
       "<table class=\"simpletable\">\n",
       "<tr>\n",
       "  <th>Omnibus:</th>       <td> 2.332</td> <th>  Durbin-Watson:     </th> <td>   1.691</td>\n",
       "</tr>\n",
       "<tr>\n",
       "  <th>Prob(Omnibus):</th> <td> 0.312</td> <th>  Jarque-Bera (JB):  </th> <td>   1.978</td>\n",
       "</tr>\n",
       "<tr>\n",
       "  <th>Skew:</th>          <td> 0.186</td> <th>  Prob(JB):          </th> <td>   0.372</td>\n",
       "</tr>\n",
       "<tr>\n",
       "  <th>Kurtosis:</th>      <td> 3.242</td> <th>  Cond. No.          </th> <td>    44.9</td>\n",
       "</tr>\n",
       "</table><br/><br/>Notes:<br/>[1] Standard Errors assume that the covariance matrix of the errors is correctly specified."
      ],
      "text/latex": [
       "\\begin{center}\n",
       "\\begin{tabular}{lclc}\n",
       "\\toprule\n",
       "\\textbf{Dep. Variable:}              &       WPM        & \\textbf{  R-squared:         } &     0.659   \\\\\n",
       "\\textbf{Model:}                      &       OLS        & \\textbf{  Adj. R-squared:    } &     0.654   \\\\\n",
       "\\textbf{Method:}                     &  Least Squares   & \\textbf{  F-statistic:       } &     152.4   \\\\\n",
       "\\textbf{Date:}                       & Sat, 16 Mar 2024 & \\textbf{  Prob (F-statistic):} &  4.87e-55   \\\\\n",
       "\\textbf{Time:}                       &     15:24:33     & \\textbf{  Log-Likelihood:    } &   -929.34   \\\\\n",
       "\\textbf{No. Observations:}           &         241      & \\textbf{  AIC:               } &     1867.   \\\\\n",
       "\\textbf{Df Residuals:}               &         237      & \\textbf{  BIC:               } &     1881.   \\\\\n",
       "\\textbf{Df Model:}                   &           3      & \\textbf{                     } &             \\\\\n",
       "\\textbf{Covariance Type:}            &    nonrobust     & \\textbf{                     } &             \\\\\n",
       "\\bottomrule\n",
       "\\end{tabular}\n",
       "\\begin{tabular}{lcccccc}\n",
       "                                     & \\textbf{coef} & \\textbf{std err} & \\textbf{t} & \\textbf{P$> |$t$|$} & \\textbf{[0.025} & \\textbf{0.975]}  \\\\\n",
       "\\midrule\n",
       "\\textbf{const}                       &     159.1560  &        1.428     &   111.440  &         0.000        &      156.342    &      161.970     \\\\\n",
       "\\textbf{Extra Keystrokes \\%}         &      -1.6655  &        0.078     &   -21.254  &         0.000        &       -1.820    &       -1.511     \\\\\n",
       "\\textbf{Keyboard\\_cherry mx2a brown} &       2.0005  &        1.836     &     1.089  &         0.277        &       -1.617    &        5.618     \\\\\n",
       "\\textbf{Keyboard\\_cherry red}        &      -1.7714  &        1.827     &    -0.969  &         0.333        &       -5.371    &        1.828     \\\\\n",
       "\\bottomrule\n",
       "\\end{tabular}\n",
       "\\begin{tabular}{lclc}\n",
       "\\textbf{Omnibus:}       &  2.332 & \\textbf{  Durbin-Watson:     } &    1.691  \\\\\n",
       "\\textbf{Prob(Omnibus):} &  0.312 & \\textbf{  Jarque-Bera (JB):  } &    1.978  \\\\\n",
       "\\textbf{Skew:}          &  0.186 & \\textbf{  Prob(JB):          } &    0.372  \\\\\n",
       "\\textbf{Kurtosis:}      &  3.242 & \\textbf{  Cond. No.          } &     44.9  \\\\\n",
       "\\bottomrule\n",
       "\\end{tabular}\n",
       "%\\caption{OLS Regression Results}\n",
       "\\end{center}\n",
       "\n",
       "Notes: \\newline\n",
       " [1] Standard Errors assume that the covariance matrix of the errors is correctly specified."
      ],
      "text/plain": [
       "<class 'statsmodels.iolib.summary.Summary'>\n",
       "\"\"\"\n",
       "                            OLS Regression Results                            \n",
       "==============================================================================\n",
       "Dep. Variable:                    WPM   R-squared:                       0.659\n",
       "Model:                            OLS   Adj. R-squared:                  0.654\n",
       "Method:                 Least Squares   F-statistic:                     152.4\n",
       "Date:                Sat, 16 Mar 2024   Prob (F-statistic):           4.87e-55\n",
       "Time:                        15:24:33   Log-Likelihood:                -929.34\n",
       "No. Observations:                 241   AIC:                             1867.\n",
       "Df Residuals:                     237   BIC:                             1881.\n",
       "Df Model:                           3                                         \n",
       "Covariance Type:            nonrobust                                         \n",
       "==============================================================================================\n",
       "                                 coef    std err          t      P>|t|      [0.025      0.975]\n",
       "----------------------------------------------------------------------------------------------\n",
       "const                        159.1560      1.428    111.440      0.000     156.342     161.970\n",
       "Extra Keystrokes %            -1.6655      0.078    -21.254      0.000      -1.820      -1.511\n",
       "Keyboard_cherry mx2a brown     2.0005      1.836      1.089      0.277      -1.617       5.618\n",
       "Keyboard_cherry red           -1.7714      1.827     -0.969      0.333      -5.371       1.828\n",
       "==============================================================================\n",
       "Omnibus:                        2.332   Durbin-Watson:                   1.691\n",
       "Prob(Omnibus):                  0.312   Jarque-Bera (JB):                1.978\n",
       "Skew:                           0.186   Prob(JB):                        0.372\n",
       "Kurtosis:                       3.242   Cond. No.                         44.9\n",
       "==============================================================================\n",
       "\n",
       "Notes:\n",
       "[1] Standard Errors assume that the covariance matrix of the errors is correctly specified.\n",
       "\"\"\""
      ]
     },
     "execution_count": 24,
     "metadata": {},
     "output_type": "execute_result"
    }
   ],
   "source": [
    "y = df_trial_results_for_regression['WPM']\n",
    "x = df_trial_results_for_regression[\n",
    "['Extra Keystrokes %']+keyboard_categorical_columns]\n",
    "x = sm.add_constant(x)\n",
    "model = sm.OLS(y, x)\n",
    "results = model.fit()\n",
    "results.summary()"
   ]
  },
  {
   "cell_type": "markdown",
   "metadata": {},
   "source": [
    "### Regression that evaluates the impact of keyboard choice on WPM for mistake-free results only:"
   ]
  },
  {
   "cell_type": "code",
   "execution_count": 25,
   "metadata": {},
   "outputs": [
    {
     "data": {
      "text/html": [
       "<div>\n",
       "<style scoped>\n",
       "    .dataframe tbody tr th:only-of-type {\n",
       "        vertical-align: middle;\n",
       "    }\n",
       "\n",
       "    .dataframe tbody tr th {\n",
       "        vertical-align: top;\n",
       "    }\n",
       "\n",
       "    .dataframe thead th {\n",
       "        text-align: right;\n",
       "    }\n",
       "</style>\n",
       "<table border=\"1\" class=\"dataframe\">\n",
       "  <thead>\n",
       "    <tr style=\"text-align: right;\">\n",
       "      <th></th>\n",
       "      <th>Test_Number</th>\n",
       "      <th>Unix_Start_Time</th>\n",
       "      <th>Local_Start_Time</th>\n",
       "      <th>UTC_Start_Time</th>\n",
       "      <th>Characters</th>\n",
       "      <th>Seconds</th>\n",
       "      <th>CPS</th>\n",
       "      <th>WPM</th>\n",
       "      <th>Book</th>\n",
       "      <th>Chapter</th>\n",
       "      <th>Verse_Order</th>\n",
       "      <th>Verse</th>\n",
       "      <th>Verse #</th>\n",
       "      <th>Last 10 Avg</th>\n",
       "      <th>Last 100 Avg</th>\n",
       "      <th>Last 1000 Avg</th>\n",
       "      <th>cumulative_avg</th>\n",
       "      <th>Local_Start_Year</th>\n",
       "      <th>Local_Start_Month</th>\n",
       "      <th>Local_Start_Hour</th>\n",
       "      <th>Count</th>\n",
       "      <th>Local_Start_Date</th>\n",
       "      <th>Local_Start_Minute</th>\n",
       "      <th>Local_Start_10_Minute_Block</th>\n",
       "      <th>Local_Start_15_Minute_Block</th>\n",
       "      <th>Local_Start_30_Minute_Block</th>\n",
       "      <th>Local_End_Time</th>\n",
       "      <th>Local_End_Year</th>\n",
       "      <th>Local_End_Month</th>\n",
       "      <th>Local_End_Date</th>\n",
       "      <th>Local_End_Hour</th>\n",
       "      <th>Local_End_Minute</th>\n",
       "      <th>Local_End_15_Minute_Block</th>\n",
       "      <th>Local_End_10_Minute_Block</th>\n",
       "      <th>Local_End_30_Minute_Block</th>\n",
       "      <th>Mistake_Free_Test</th>\n",
       "      <th>WPM_Rank</th>\n",
       "      <th>WPM_Percentile</th>\n",
       "      <th>Backspaces as % of Verse Length</th>\n",
       "      <th>Incorrect Characters as % of Verse Length</th>\n",
       "      <th>Min Character Time (ms)</th>\n",
       "      <th>Median Character Time (ms)</th>\n",
       "      <th>Max Character Time (ms)</th>\n",
       "      <th>Backspace % Last 10 Avg</th>\n",
       "      <th>Backspace % Last 100 Avg</th>\n",
       "      <th>Backspace % Last 1000 Avg</th>\n",
       "      <th>Session</th>\n",
       "      <th>Test_#_Within_Session</th>\n",
       "      <th>Incorrect Character % Last 10 Avg</th>\n",
       "      <th>Incorrect Character % Last 100 Avg</th>\n",
       "      <th>Incorrect Character % Last 1000 Avg</th>\n",
       "      <th>Test Version</th>\n",
       "      <th>Location</th>\n",
       "      <th>Layout</th>\n",
       "      <th>Caffeine</th>\n",
       "      <th>Custom_1</th>\n",
       "      <th>Custom_2</th>\n",
       "      <th>Custom_3</th>\n",
       "      <th>Autostart</th>\n",
       "      <th>% of Words Typed Correctly</th>\n",
       "      <th>Extra Keystrokes %</th>\n",
       "      <th>Extra Keystrokes % Last 10 Avg</th>\n",
       "      <th>Extra Keystrokes % Last 100 Avg</th>\n",
       "      <th>Extra Keystrokes % Last 1000 Avg</th>\n",
       "      <th>Keyboard_cherry mx2a brown</th>\n",
       "      <th>Keyboard_cherry red</th>\n",
       "    </tr>\n",
       "  </thead>\n",
       "  <tbody>\n",
       "    <tr>\n",
       "      <th>9337</th>\n",
       "      <td>9338</td>\n",
       "      <td>1.710171e+09</td>\n",
       "      <td>2024-03-11 11:27:11.907570</td>\n",
       "      <td>2024-03-11 15:27:11.907570+00:00</td>\n",
       "      <td>106</td>\n",
       "      <td>7.391912</td>\n",
       "      <td>14.339997</td>\n",
       "      <td>172.079964</td>\n",
       "      <td>JHN</td>\n",
       "      <td>5</td>\n",
       "      <td>30512</td>\n",
       "      <td>For as the Father raises the dead and gives th...</td>\n",
       "      <td>21.0</td>\n",
       "      <td>142.400652</td>\n",
       "      <td>138.888181</td>\n",
       "      <td>128.988686</td>\n",
       "      <td>133.056</td>\n",
       "      <td>2024</td>\n",
       "      <td>3</td>\n",
       "      <td>11</td>\n",
       "      <td>1</td>\n",
       "      <td>2024-03-11</td>\n",
       "      <td>27</td>\n",
       "      <td>3</td>\n",
       "      <td>2</td>\n",
       "      <td>1</td>\n",
       "      <td>2024-03-11 11:27:19.299482300</td>\n",
       "      <td>2024</td>\n",
       "      <td>3</td>\n",
       "      <td>2024-03-11</td>\n",
       "      <td>11</td>\n",
       "      <td>27</td>\n",
       "      <td>2</td>\n",
       "      <td>3</td>\n",
       "      <td>1</td>\n",
       "      <td>1.0</td>\n",
       "      <td>268</td>\n",
       "      <td>97.265465</td>\n",
       "      <td>0.0</td>\n",
       "      <td>0.0</td>\n",
       "      <td>NaN</td>\n",
       "      <td>NaN</td>\n",
       "      <td>NaN</td>\n",
       "      <td>NaN</td>\n",
       "      <td>NaN</td>\n",
       "      <td>NaN</td>\n",
       "      <td>203</td>\n",
       "      <td>3</td>\n",
       "      <td>6.300453</td>\n",
       "      <td>5.540529</td>\n",
       "      <td>7.515985</td>\n",
       "      <td>v2</td>\n",
       "      <td>home</td>\n",
       "      <td>dvorak</td>\n",
       "      <td>yes</td>\n",
       "      <td>NaN</td>\n",
       "      <td>NaN</td>\n",
       "      <td>NaN</td>\n",
       "      <td>0.0</td>\n",
       "      <td>100.0</td>\n",
       "      <td>0.0</td>\n",
       "      <td>11.168080</td>\n",
       "      <td>NaN</td>\n",
       "      <td>NaN</td>\n",
       "      <td>0</td>\n",
       "      <td>1</td>\n",
       "    </tr>\n",
       "    <tr>\n",
       "      <th>9341</th>\n",
       "      <td>9342</td>\n",
       "      <td>1.710171e+09</td>\n",
       "      <td>2024-03-11 11:27:59.479325</td>\n",
       "      <td>2024-03-11 15:27:59.479325+00:00</td>\n",
       "      <td>132</td>\n",
       "      <td>9.446713</td>\n",
       "      <td>13.973115</td>\n",
       "      <td>167.677375</td>\n",
       "      <td>JHN</td>\n",
       "      <td>5</td>\n",
       "      <td>30516</td>\n",
       "      <td>Most certainly I tell you, the hour comes, and...</td>\n",
       "      <td>25.0</td>\n",
       "      <td>149.412205</td>\n",
       "      <td>139.781085</td>\n",
       "      <td>129.040766</td>\n",
       "      <td>133.063</td>\n",
       "      <td>2024</td>\n",
       "      <td>3</td>\n",
       "      <td>11</td>\n",
       "      <td>1</td>\n",
       "      <td>2024-03-11</td>\n",
       "      <td>27</td>\n",
       "      <td>3</td>\n",
       "      <td>2</td>\n",
       "      <td>1</td>\n",
       "      <td>2024-03-11 11:28:08.926037800</td>\n",
       "      <td>2024</td>\n",
       "      <td>3</td>\n",
       "      <td>2024-03-11</td>\n",
       "      <td>11</td>\n",
       "      <td>28</td>\n",
       "      <td>2</td>\n",
       "      <td>3</td>\n",
       "      <td>1</td>\n",
       "      <td>1.0</td>\n",
       "      <td>459</td>\n",
       "      <td>95.309299</td>\n",
       "      <td>0.0</td>\n",
       "      <td>0.0</td>\n",
       "      <td>NaN</td>\n",
       "      <td>NaN</td>\n",
       "      <td>NaN</td>\n",
       "      <td>NaN</td>\n",
       "      <td>NaN</td>\n",
       "      <td>NaN</td>\n",
       "      <td>203</td>\n",
       "      <td>7</td>\n",
       "      <td>4.437102</td>\n",
       "      <td>5.319670</td>\n",
       "      <td>7.500135</td>\n",
       "      <td>v2</td>\n",
       "      <td>home</td>\n",
       "      <td>dvorak</td>\n",
       "      <td>yes</td>\n",
       "      <td>NaN</td>\n",
       "      <td>NaN</td>\n",
       "      <td>NaN</td>\n",
       "      <td>0.0</td>\n",
       "      <td>100.0</td>\n",
       "      <td>0.0</td>\n",
       "      <td>7.646606</td>\n",
       "      <td>NaN</td>\n",
       "      <td>NaN</td>\n",
       "      <td>0</td>\n",
       "      <td>1</td>\n",
       "    </tr>\n",
       "    <tr>\n",
       "      <th>9344</th>\n",
       "      <td>9345</td>\n",
       "      <td>1.710171e+09</td>\n",
       "      <td>2024-03-11 11:28:28.288209</td>\n",
       "      <td>2024-03-11 15:28:28.288209+00:00</td>\n",
       "      <td>94</td>\n",
       "      <td>6.503514</td>\n",
       "      <td>14.453724</td>\n",
       "      <td>173.444687</td>\n",
       "      <td>JHN</td>\n",
       "      <td>5</td>\n",
       "      <td>30519</td>\n",
       "      <td>Don't marvel at this, for the hour comes in wh...</td>\n",
       "      <td>28.0</td>\n",
       "      <td>152.617448</td>\n",
       "      <td>139.821860</td>\n",
       "      <td>129.124393</td>\n",
       "      <td>133.069</td>\n",
       "      <td>2024</td>\n",
       "      <td>3</td>\n",
       "      <td>11</td>\n",
       "      <td>1</td>\n",
       "      <td>2024-03-11</td>\n",
       "      <td>28</td>\n",
       "      <td>3</td>\n",
       "      <td>2</td>\n",
       "      <td>1</td>\n",
       "      <td>2024-03-11 11:28:34.791723300</td>\n",
       "      <td>2024</td>\n",
       "      <td>3</td>\n",
       "      <td>2024-03-11</td>\n",
       "      <td>11</td>\n",
       "      <td>28</td>\n",
       "      <td>2</td>\n",
       "      <td>3</td>\n",
       "      <td>1</td>\n",
       "      <td>1.0</td>\n",
       "      <td>214</td>\n",
       "      <td>97.818517</td>\n",
       "      <td>0.0</td>\n",
       "      <td>0.0</td>\n",
       "      <td>NaN</td>\n",
       "      <td>NaN</td>\n",
       "      <td>NaN</td>\n",
       "      <td>NaN</td>\n",
       "      <td>NaN</td>\n",
       "      <td>NaN</td>\n",
       "      <td>203</td>\n",
       "      <td>10</td>\n",
       "      <td>3.013833</td>\n",
       "      <td>5.283769</td>\n",
       "      <td>7.484162</td>\n",
       "      <td>v2</td>\n",
       "      <td>home</td>\n",
       "      <td>dvorak</td>\n",
       "      <td>yes</td>\n",
       "      <td>NaN</td>\n",
       "      <td>NaN</td>\n",
       "      <td>NaN</td>\n",
       "      <td>0.0</td>\n",
       "      <td>100.0</td>\n",
       "      <td>0.0</td>\n",
       "      <td>5.450561</td>\n",
       "      <td>NaN</td>\n",
       "      <td>NaN</td>\n",
       "      <td>0</td>\n",
       "      <td>1</td>\n",
       "    </tr>\n",
       "    <tr>\n",
       "      <th>9348</th>\n",
       "      <td>9349</td>\n",
       "      <td>1.710171e+09</td>\n",
       "      <td>2024-03-11 11:30:12.296669</td>\n",
       "      <td>2024-03-11 15:30:12.296669+00:00</td>\n",
       "      <td>100</td>\n",
       "      <td>6.586644</td>\n",
       "      <td>15.182239</td>\n",
       "      <td>182.186865</td>\n",
       "      <td>JHN</td>\n",
       "      <td>5</td>\n",
       "      <td>30523</td>\n",
       "      <td>It is another who testifies about me. I know t...</td>\n",
       "      <td>32.0</td>\n",
       "      <td>148.742679</td>\n",
       "      <td>139.995001</td>\n",
       "      <td>129.153923</td>\n",
       "      <td>133.073</td>\n",
       "      <td>2024</td>\n",
       "      <td>3</td>\n",
       "      <td>11</td>\n",
       "      <td>1</td>\n",
       "      <td>2024-03-11</td>\n",
       "      <td>30</td>\n",
       "      <td>4</td>\n",
       "      <td>3</td>\n",
       "      <td>2</td>\n",
       "      <td>2024-03-11 11:30:18.883312900</td>\n",
       "      <td>2024</td>\n",
       "      <td>3</td>\n",
       "      <td>2024-03-11</td>\n",
       "      <td>11</td>\n",
       "      <td>30</td>\n",
       "      <td>3</td>\n",
       "      <td>4</td>\n",
       "      <td>2</td>\n",
       "      <td>1.0</td>\n",
       "      <td>46</td>\n",
       "      <td>99.539123</td>\n",
       "      <td>0.0</td>\n",
       "      <td>0.0</td>\n",
       "      <td>NaN</td>\n",
       "      <td>NaN</td>\n",
       "      <td>NaN</td>\n",
       "      <td>NaN</td>\n",
       "      <td>NaN</td>\n",
       "      <td>NaN</td>\n",
       "      <td>203</td>\n",
       "      <td>14</td>\n",
       "      <td>3.738254</td>\n",
       "      <td>5.286069</td>\n",
       "      <td>7.460851</td>\n",
       "      <td>v2</td>\n",
       "      <td>home</td>\n",
       "      <td>dvorak</td>\n",
       "      <td>yes</td>\n",
       "      <td>NaN</td>\n",
       "      <td>NaN</td>\n",
       "      <td>NaN</td>\n",
       "      <td>0.0</td>\n",
       "      <td>100.0</td>\n",
       "      <td>0.0</td>\n",
       "      <td>7.207516</td>\n",
       "      <td>NaN</td>\n",
       "      <td>NaN</td>\n",
       "      <td>1</td>\n",
       "      <td>0</td>\n",
       "    </tr>\n",
       "    <tr>\n",
       "      <th>9349</th>\n",
       "      <td>9350</td>\n",
       "      <td>1.710171e+09</td>\n",
       "      <td>2024-03-11 11:30:20.082964</td>\n",
       "      <td>2024-03-11 15:30:20.082964+00:00</td>\n",
       "      <td>57</td>\n",
       "      <td>4.147702</td>\n",
       "      <td>13.742551</td>\n",
       "      <td>164.910610</td>\n",
       "      <td>JHN</td>\n",
       "      <td>5</td>\n",
       "      <td>30524</td>\n",
       "      <td>You have sent to John, and he has testified to...</td>\n",
       "      <td>33.0</td>\n",
       "      <td>150.445636</td>\n",
       "      <td>140.222450</td>\n",
       "      <td>129.177843</td>\n",
       "      <td>133.076</td>\n",
       "      <td>2024</td>\n",
       "      <td>3</td>\n",
       "      <td>11</td>\n",
       "      <td>1</td>\n",
       "      <td>2024-03-11</td>\n",
       "      <td>30</td>\n",
       "      <td>4</td>\n",
       "      <td>3</td>\n",
       "      <td>2</td>\n",
       "      <td>2024-03-11 11:30:24.230665600</td>\n",
       "      <td>2024</td>\n",
       "      <td>3</td>\n",
       "      <td>2024-03-11</td>\n",
       "      <td>11</td>\n",
       "      <td>30</td>\n",
       "      <td>3</td>\n",
       "      <td>4</td>\n",
       "      <td>2</td>\n",
       "      <td>1.0</td>\n",
       "      <td>615</td>\n",
       "      <td>93.711594</td>\n",
       "      <td>0.0</td>\n",
       "      <td>0.0</td>\n",
       "      <td>NaN</td>\n",
       "      <td>NaN</td>\n",
       "      <td>NaN</td>\n",
       "      <td>NaN</td>\n",
       "      <td>NaN</td>\n",
       "      <td>NaN</td>\n",
       "      <td>203</td>\n",
       "      <td>15</td>\n",
       "      <td>3.262063</td>\n",
       "      <td>5.229159</td>\n",
       "      <td>7.456936</td>\n",
       "      <td>v2</td>\n",
       "      <td>home</td>\n",
       "      <td>dvorak</td>\n",
       "      <td>yes</td>\n",
       "      <td>NaN</td>\n",
       "      <td>NaN</td>\n",
       "      <td>NaN</td>\n",
       "      <td>0.0</td>\n",
       "      <td>100.0</td>\n",
       "      <td>0.0</td>\n",
       "      <td>6.255135</td>\n",
       "      <td>NaN</td>\n",
       "      <td>NaN</td>\n",
       "      <td>1</td>\n",
       "      <td>0</td>\n",
       "    </tr>\n",
       "    <tr>\n",
       "      <th>...</th>\n",
       "      <td>...</td>\n",
       "      <td>...</td>\n",
       "      <td>...</td>\n",
       "      <td>...</td>\n",
       "      <td>...</td>\n",
       "      <td>...</td>\n",
       "      <td>...</td>\n",
       "      <td>...</td>\n",
       "      <td>...</td>\n",
       "      <td>...</td>\n",
       "      <td>...</td>\n",
       "      <td>...</td>\n",
       "      <td>...</td>\n",
       "      <td>...</td>\n",
       "      <td>...</td>\n",
       "      <td>...</td>\n",
       "      <td>...</td>\n",
       "      <td>...</td>\n",
       "      <td>...</td>\n",
       "      <td>...</td>\n",
       "      <td>...</td>\n",
       "      <td>...</td>\n",
       "      <td>...</td>\n",
       "      <td>...</td>\n",
       "      <td>...</td>\n",
       "      <td>...</td>\n",
       "      <td>...</td>\n",
       "      <td>...</td>\n",
       "      <td>...</td>\n",
       "      <td>...</td>\n",
       "      <td>...</td>\n",
       "      <td>...</td>\n",
       "      <td>...</td>\n",
       "      <td>...</td>\n",
       "      <td>...</td>\n",
       "      <td>...</td>\n",
       "      <td>...</td>\n",
       "      <td>...</td>\n",
       "      <td>...</td>\n",
       "      <td>...</td>\n",
       "      <td>...</td>\n",
       "      <td>...</td>\n",
       "      <td>...</td>\n",
       "      <td>...</td>\n",
       "      <td>...</td>\n",
       "      <td>...</td>\n",
       "      <td>...</td>\n",
       "      <td>...</td>\n",
       "      <td>...</td>\n",
       "      <td>...</td>\n",
       "      <td>...</td>\n",
       "      <td>...</td>\n",
       "      <td>...</td>\n",
       "      <td>...</td>\n",
       "      <td>...</td>\n",
       "      <td>...</td>\n",
       "      <td>...</td>\n",
       "      <td>...</td>\n",
       "      <td>...</td>\n",
       "      <td>...</td>\n",
       "      <td>...</td>\n",
       "      <td>...</td>\n",
       "      <td>...</td>\n",
       "      <td>...</td>\n",
       "      <td>...</td>\n",
       "      <td>...</td>\n",
       "    </tr>\n",
       "    <tr>\n",
       "      <th>9737</th>\n",
       "      <td>9738</td>\n",
       "      <td>1.710601e+09</td>\n",
       "      <td>2024-03-16 11:03:45.956088</td>\n",
       "      <td>2024-03-16 15:03:45.956088+00:00</td>\n",
       "      <td>60</td>\n",
       "      <td>5.065754</td>\n",
       "      <td>11.844239</td>\n",
       "      <td>142.130865</td>\n",
       "      <td>JHN</td>\n",
       "      <td>9</td>\n",
       "      <td>30733</td>\n",
       "      <td>Then they asked him, \"Where is he?\" He said, \"...</td>\n",
       "      <td>12.0</td>\n",
       "      <td>141.332413</td>\n",
       "      <td>145.707360</td>\n",
       "      <td>133.396706</td>\n",
       "      <td>133.367</td>\n",
       "      <td>2024</td>\n",
       "      <td>3</td>\n",
       "      <td>11</td>\n",
       "      <td>1</td>\n",
       "      <td>2024-03-16</td>\n",
       "      <td>3</td>\n",
       "      <td>1</td>\n",
       "      <td>1</td>\n",
       "      <td>1</td>\n",
       "      <td>2024-03-16 11:03:51.021842000</td>\n",
       "      <td>2024</td>\n",
       "      <td>3</td>\n",
       "      <td>2024-03-16</td>\n",
       "      <td>11</td>\n",
       "      <td>3</td>\n",
       "      <td>1</td>\n",
       "      <td>1</td>\n",
       "      <td>1</td>\n",
       "      <td>1.0</td>\n",
       "      <td>3407</td>\n",
       "      <td>65.116755</td>\n",
       "      <td>0.0</td>\n",
       "      <td>0.0</td>\n",
       "      <td>NaN</td>\n",
       "      <td>NaN</td>\n",
       "      <td>NaN</td>\n",
       "      <td>NaN</td>\n",
       "      <td>NaN</td>\n",
       "      <td>NaN</td>\n",
       "      <td>208</td>\n",
       "      <td>94</td>\n",
       "      <td>4.920957</td>\n",
       "      <td>4.903440</td>\n",
       "      <td>6.700241</td>\n",
       "      <td>v2</td>\n",
       "      <td>home</td>\n",
       "      <td>dvorak</td>\n",
       "      <td>yes</td>\n",
       "      <td>NaN</td>\n",
       "      <td>NaN</td>\n",
       "      <td>NaN</td>\n",
       "      <td>0.0</td>\n",
       "      <td>100.0</td>\n",
       "      <td>0.0</td>\n",
       "      <td>9.043629</td>\n",
       "      <td>8.584934</td>\n",
       "      <td>NaN</td>\n",
       "      <td>0</td>\n",
       "      <td>1</td>\n",
       "    </tr>\n",
       "    <tr>\n",
       "      <th>9739</th>\n",
       "      <td>9740</td>\n",
       "      <td>1.710601e+09</td>\n",
       "      <td>2024-03-16 11:03:57.429119</td>\n",
       "      <td>2024-03-16 15:03:57.429119+00:00</td>\n",
       "      <td>61</td>\n",
       "      <td>4.626333</td>\n",
       "      <td>13.185390</td>\n",
       "      <td>158.224684</td>\n",
       "      <td>JHN</td>\n",
       "      <td>9</td>\n",
       "      <td>30735</td>\n",
       "      <td>It was a Sabbath when Jesus made the mud and o...</td>\n",
       "      <td>14.0</td>\n",
       "      <td>137.435166</td>\n",
       "      <td>145.897981</td>\n",
       "      <td>133.411918</td>\n",
       "      <td>133.370</td>\n",
       "      <td>2024</td>\n",
       "      <td>3</td>\n",
       "      <td>11</td>\n",
       "      <td>1</td>\n",
       "      <td>2024-03-16</td>\n",
       "      <td>3</td>\n",
       "      <td>1</td>\n",
       "      <td>1</td>\n",
       "      <td>1</td>\n",
       "      <td>2024-03-16 11:04:02.055451500</td>\n",
       "      <td>2024</td>\n",
       "      <td>3</td>\n",
       "      <td>2024-03-16</td>\n",
       "      <td>11</td>\n",
       "      <td>4</td>\n",
       "      <td>1</td>\n",
       "      <td>1</td>\n",
       "      <td>1</td>\n",
       "      <td>1.0</td>\n",
       "      <td>1147</td>\n",
       "      <td>88.263007</td>\n",
       "      <td>0.0</td>\n",
       "      <td>0.0</td>\n",
       "      <td>NaN</td>\n",
       "      <td>NaN</td>\n",
       "      <td>NaN</td>\n",
       "      <td>NaN</td>\n",
       "      <td>NaN</td>\n",
       "      <td>NaN</td>\n",
       "      <td>208</td>\n",
       "      <td>96</td>\n",
       "      <td>5.475674</td>\n",
       "      <td>4.890454</td>\n",
       "      <td>6.700645</td>\n",
       "      <td>v2</td>\n",
       "      <td>home</td>\n",
       "      <td>dvorak</td>\n",
       "      <td>yes</td>\n",
       "      <td>NaN</td>\n",
       "      <td>NaN</td>\n",
       "      <td>NaN</td>\n",
       "      <td>0.0</td>\n",
       "      <td>100.0</td>\n",
       "      <td>0.0</td>\n",
       "      <td>9.775705</td>\n",
       "      <td>8.559395</td>\n",
       "      <td>NaN</td>\n",
       "      <td>0</td>\n",
       "      <td>1</td>\n",
       "    </tr>\n",
       "    <tr>\n",
       "      <th>9753</th>\n",
       "      <td>9754</td>\n",
       "      <td>1.710602e+09</td>\n",
       "      <td>2024-03-16 11:15:46.575662</td>\n",
       "      <td>2024-03-16 15:15:46.575662+00:00</td>\n",
       "      <td>95</td>\n",
       "      <td>7.204060</td>\n",
       "      <td>13.187009</td>\n",
       "      <td>158.244108</td>\n",
       "      <td>JHN</td>\n",
       "      <td>9</td>\n",
       "      <td>30751</td>\n",
       "      <td>The man answered them, \"How amazing! You don't...</td>\n",
       "      <td>30.0</td>\n",
       "      <td>136.475620</td>\n",
       "      <td>145.699839</td>\n",
       "      <td>133.598863</td>\n",
       "      <td>133.377</td>\n",
       "      <td>2024</td>\n",
       "      <td>3</td>\n",
       "      <td>11</td>\n",
       "      <td>1</td>\n",
       "      <td>2024-03-16</td>\n",
       "      <td>15</td>\n",
       "      <td>2</td>\n",
       "      <td>2</td>\n",
       "      <td>1</td>\n",
       "      <td>2024-03-16 11:15:53.779721700</td>\n",
       "      <td>2024</td>\n",
       "      <td>3</td>\n",
       "      <td>2024-03-16</td>\n",
       "      <td>11</td>\n",
       "      <td>15</td>\n",
       "      <td>2</td>\n",
       "      <td>2</td>\n",
       "      <td>1</td>\n",
       "      <td>1.0</td>\n",
       "      <td>1146</td>\n",
       "      <td>88.273249</td>\n",
       "      <td>0.0</td>\n",
       "      <td>0.0</td>\n",
       "      <td>NaN</td>\n",
       "      <td>NaN</td>\n",
       "      <td>NaN</td>\n",
       "      <td>NaN</td>\n",
       "      <td>NaN</td>\n",
       "      <td>NaN</td>\n",
       "      <td>209</td>\n",
       "      <td>2</td>\n",
       "      <td>7.084470</td>\n",
       "      <td>5.050488</td>\n",
       "      <td>6.692268</td>\n",
       "      <td>v2</td>\n",
       "      <td>home</td>\n",
       "      <td>dvorak</td>\n",
       "      <td>yes</td>\n",
       "      <td>NaN</td>\n",
       "      <td>NaN</td>\n",
       "      <td>NaN</td>\n",
       "      <td>0.0</td>\n",
       "      <td>100.0</td>\n",
       "      <td>0.0</td>\n",
       "      <td>11.372876</td>\n",
       "      <td>8.757078</td>\n",
       "      <td>NaN</td>\n",
       "      <td>0</td>\n",
       "      <td>0</td>\n",
       "    </tr>\n",
       "    <tr>\n",
       "      <th>9758</th>\n",
       "      <td>9759</td>\n",
       "      <td>1.710602e+09</td>\n",
       "      <td>2024-03-16 11:17:36.424239</td>\n",
       "      <td>2024-03-16 15:17:36.424239+00:00</td>\n",
       "      <td>58</td>\n",
       "      <td>4.553788</td>\n",
       "      <td>12.736649</td>\n",
       "      <td>152.839790</td>\n",
       "      <td>JHN</td>\n",
       "      <td>9</td>\n",
       "      <td>30757</td>\n",
       "      <td>He answered, \"Who is he, Lord, that I may beli...</td>\n",
       "      <td>36.0</td>\n",
       "      <td>134.519605</td>\n",
       "      <td>144.986903</td>\n",
       "      <td>133.597888</td>\n",
       "      <td>133.377</td>\n",
       "      <td>2024</td>\n",
       "      <td>3</td>\n",
       "      <td>11</td>\n",
       "      <td>1</td>\n",
       "      <td>2024-03-16</td>\n",
       "      <td>17</td>\n",
       "      <td>2</td>\n",
       "      <td>2</td>\n",
       "      <td>1</td>\n",
       "      <td>2024-03-16 11:17:40.978027000</td>\n",
       "      <td>2024</td>\n",
       "      <td>3</td>\n",
       "      <td>2024-03-16</td>\n",
       "      <td>11</td>\n",
       "      <td>17</td>\n",
       "      <td>2</td>\n",
       "      <td>2</td>\n",
       "      <td>1</td>\n",
       "      <td>1.0</td>\n",
       "      <td>1777</td>\n",
       "      <td>81.810733</td>\n",
       "      <td>0.0</td>\n",
       "      <td>0.0</td>\n",
       "      <td>NaN</td>\n",
       "      <td>NaN</td>\n",
       "      <td>NaN</td>\n",
       "      <td>NaN</td>\n",
       "      <td>NaN</td>\n",
       "      <td>NaN</td>\n",
       "      <td>209</td>\n",
       "      <td>7</td>\n",
       "      <td>6.438077</td>\n",
       "      <td>5.107775</td>\n",
       "      <td>6.707373</td>\n",
       "      <td>v2</td>\n",
       "      <td>home</td>\n",
       "      <td>dvorak</td>\n",
       "      <td>yes</td>\n",
       "      <td>NaN</td>\n",
       "      <td>NaN</td>\n",
       "      <td>NaN</td>\n",
       "      <td>0.0</td>\n",
       "      <td>100.0</td>\n",
       "      <td>0.0</td>\n",
       "      <td>11.671977</td>\n",
       "      <td>8.768625</td>\n",
       "      <td>NaN</td>\n",
       "      <td>1</td>\n",
       "      <td>0</td>\n",
       "    </tr>\n",
       "    <tr>\n",
       "      <th>9760</th>\n",
       "      <td>9761</td>\n",
       "      <td>1.710602e+09</td>\n",
       "      <td>2024-03-16 11:17:49.846090</td>\n",
       "      <td>2024-03-16 15:17:49.846090+00:00</td>\n",
       "      <td>49</td>\n",
       "      <td>4.263457</td>\n",
       "      <td>11.493020</td>\n",
       "      <td>137.916243</td>\n",
       "      <td>JHN</td>\n",
       "      <td>9</td>\n",
       "      <td>30759</td>\n",
       "      <td>He said, \"Lord, I believe!\" and he worshiped him.</td>\n",
       "      <td>38.0</td>\n",
       "      <td>136.406688</td>\n",
       "      <td>144.900494</td>\n",
       "      <td>133.620118</td>\n",
       "      <td>133.377</td>\n",
       "      <td>2024</td>\n",
       "      <td>3</td>\n",
       "      <td>11</td>\n",
       "      <td>1</td>\n",
       "      <td>2024-03-16</td>\n",
       "      <td>17</td>\n",
       "      <td>2</td>\n",
       "      <td>2</td>\n",
       "      <td>1</td>\n",
       "      <td>2024-03-16 11:17:54.109547200</td>\n",
       "      <td>2024</td>\n",
       "      <td>3</td>\n",
       "      <td>2024-03-16</td>\n",
       "      <td>11</td>\n",
       "      <td>17</td>\n",
       "      <td>2</td>\n",
       "      <td>2</td>\n",
       "      <td>1</td>\n",
       "      <td>1.0</td>\n",
       "      <td>4169</td>\n",
       "      <td>57.312577</td>\n",
       "      <td>0.0</td>\n",
       "      <td>0.0</td>\n",
       "      <td>NaN</td>\n",
       "      <td>NaN</td>\n",
       "      <td>NaN</td>\n",
       "      <td>NaN</td>\n",
       "      <td>NaN</td>\n",
       "      <td>NaN</td>\n",
       "      <td>209</td>\n",
       "      <td>9</td>\n",
       "      <td>5.734377</td>\n",
       "      <td>5.184698</td>\n",
       "      <td>6.704618</td>\n",
       "      <td>v2</td>\n",
       "      <td>home</td>\n",
       "      <td>dvorak</td>\n",
       "      <td>yes</td>\n",
       "      <td>NaN</td>\n",
       "      <td>NaN</td>\n",
       "      <td>NaN</td>\n",
       "      <td>0.0</td>\n",
       "      <td>100.0</td>\n",
       "      <td>0.0</td>\n",
       "      <td>10.471942</td>\n",
       "      <td>8.909651</td>\n",
       "      <td>NaN</td>\n",
       "      <td>1</td>\n",
       "      <td>0</td>\n",
       "    </tr>\n",
       "  </tbody>\n",
       "</table>\n",
       "<p>61 rows × 66 columns</p>\n",
       "</div>"
      ],
      "text/plain": [
       "      Test_Number  Unix_Start_Time            Local_Start_Time  \\\n",
       "9337         9338     1.710171e+09  2024-03-11 11:27:11.907570   \n",
       "9341         9342     1.710171e+09  2024-03-11 11:27:59.479325   \n",
       "9344         9345     1.710171e+09  2024-03-11 11:28:28.288209   \n",
       "9348         9349     1.710171e+09  2024-03-11 11:30:12.296669   \n",
       "9349         9350     1.710171e+09  2024-03-11 11:30:20.082964   \n",
       "...           ...              ...                         ...   \n",
       "9737         9738     1.710601e+09  2024-03-16 11:03:45.956088   \n",
       "9739         9740     1.710601e+09  2024-03-16 11:03:57.429119   \n",
       "9753         9754     1.710602e+09  2024-03-16 11:15:46.575662   \n",
       "9758         9759     1.710602e+09  2024-03-16 11:17:36.424239   \n",
       "9760         9761     1.710602e+09  2024-03-16 11:17:49.846090   \n",
       "\n",
       "                        UTC_Start_Time  Characters   Seconds        CPS  \\\n",
       "9337  2024-03-11 15:27:11.907570+00:00         106  7.391912  14.339997   \n",
       "9341  2024-03-11 15:27:59.479325+00:00         132  9.446713  13.973115   \n",
       "9344  2024-03-11 15:28:28.288209+00:00          94  6.503514  14.453724   \n",
       "9348  2024-03-11 15:30:12.296669+00:00         100  6.586644  15.182239   \n",
       "9349  2024-03-11 15:30:20.082964+00:00          57  4.147702  13.742551   \n",
       "...                                ...         ...       ...        ...   \n",
       "9737  2024-03-16 15:03:45.956088+00:00          60  5.065754  11.844239   \n",
       "9739  2024-03-16 15:03:57.429119+00:00          61  4.626333  13.185390   \n",
       "9753  2024-03-16 15:15:46.575662+00:00          95  7.204060  13.187009   \n",
       "9758  2024-03-16 15:17:36.424239+00:00          58  4.553788  12.736649   \n",
       "9760  2024-03-16 15:17:49.846090+00:00          49  4.263457  11.493020   \n",
       "\n",
       "             WPM Book  Chapter  Verse_Order  \\\n",
       "9337  172.079964  JHN        5        30512   \n",
       "9341  167.677375  JHN        5        30516   \n",
       "9344  173.444687  JHN        5        30519   \n",
       "9348  182.186865  JHN        5        30523   \n",
       "9349  164.910610  JHN        5        30524   \n",
       "...          ...  ...      ...          ...   \n",
       "9737  142.130865  JHN        9        30733   \n",
       "9739  158.224684  JHN        9        30735   \n",
       "9753  158.244108  JHN        9        30751   \n",
       "9758  152.839790  JHN        9        30757   \n",
       "9760  137.916243  JHN        9        30759   \n",
       "\n",
       "                                                  Verse  Verse #  Last 10 Avg  \\\n",
       "9337  For as the Father raises the dead and gives th...     21.0   142.400652   \n",
       "9341  Most certainly I tell you, the hour comes, and...     25.0   149.412205   \n",
       "9344  Don't marvel at this, for the hour comes in wh...     28.0   152.617448   \n",
       "9348  It is another who testifies about me. I know t...     32.0   148.742679   \n",
       "9349  You have sent to John, and he has testified to...     33.0   150.445636   \n",
       "...                                                 ...      ...          ...   \n",
       "9737  Then they asked him, \"Where is he?\" He said, \"...     12.0   141.332413   \n",
       "9739  It was a Sabbath when Jesus made the mud and o...     14.0   137.435166   \n",
       "9753  The man answered them, \"How amazing! You don't...     30.0   136.475620   \n",
       "9758  He answered, \"Who is he, Lord, that I may beli...     36.0   134.519605   \n",
       "9760  He said, \"Lord, I believe!\" and he worshiped him.     38.0   136.406688   \n",
       "\n",
       "      Last 100 Avg  Last 1000 Avg  cumulative_avg  Local_Start_Year  \\\n",
       "9337    138.888181     128.988686         133.056              2024   \n",
       "9341    139.781085     129.040766         133.063              2024   \n",
       "9344    139.821860     129.124393         133.069              2024   \n",
       "9348    139.995001     129.153923         133.073              2024   \n",
       "9349    140.222450     129.177843         133.076              2024   \n",
       "...            ...            ...             ...               ...   \n",
       "9737    145.707360     133.396706         133.367              2024   \n",
       "9739    145.897981     133.411918         133.370              2024   \n",
       "9753    145.699839     133.598863         133.377              2024   \n",
       "9758    144.986903     133.597888         133.377              2024   \n",
       "9760    144.900494     133.620118         133.377              2024   \n",
       "\n",
       "      Local_Start_Month  Local_Start_Hour  Count Local_Start_Date  \\\n",
       "9337                  3                11      1       2024-03-11   \n",
       "9341                  3                11      1       2024-03-11   \n",
       "9344                  3                11      1       2024-03-11   \n",
       "9348                  3                11      1       2024-03-11   \n",
       "9349                  3                11      1       2024-03-11   \n",
       "...                 ...               ...    ...              ...   \n",
       "9737                  3                11      1       2024-03-16   \n",
       "9739                  3                11      1       2024-03-16   \n",
       "9753                  3                11      1       2024-03-16   \n",
       "9758                  3                11      1       2024-03-16   \n",
       "9760                  3                11      1       2024-03-16   \n",
       "\n",
       "      Local_Start_Minute  Local_Start_10_Minute_Block  \\\n",
       "9337                  27                            3   \n",
       "9341                  27                            3   \n",
       "9344                  28                            3   \n",
       "9348                  30                            4   \n",
       "9349                  30                            4   \n",
       "...                  ...                          ...   \n",
       "9737                   3                            1   \n",
       "9739                   3                            1   \n",
       "9753                  15                            2   \n",
       "9758                  17                            2   \n",
       "9760                  17                            2   \n",
       "\n",
       "      Local_Start_15_Minute_Block  Local_Start_30_Minute_Block  \\\n",
       "9337                            2                            1   \n",
       "9341                            2                            1   \n",
       "9344                            2                            1   \n",
       "9348                            3                            2   \n",
       "9349                            3                            2   \n",
       "...                           ...                          ...   \n",
       "9737                            1                            1   \n",
       "9739                            1                            1   \n",
       "9753                            2                            1   \n",
       "9758                            2                            1   \n",
       "9760                            2                            1   \n",
       "\n",
       "                     Local_End_Time  Local_End_Year  Local_End_Month  \\\n",
       "9337  2024-03-11 11:27:19.299482300            2024                3   \n",
       "9341  2024-03-11 11:28:08.926037800            2024                3   \n",
       "9344  2024-03-11 11:28:34.791723300            2024                3   \n",
       "9348  2024-03-11 11:30:18.883312900            2024                3   \n",
       "9349  2024-03-11 11:30:24.230665600            2024                3   \n",
       "...                             ...             ...              ...   \n",
       "9737  2024-03-16 11:03:51.021842000            2024                3   \n",
       "9739  2024-03-16 11:04:02.055451500            2024                3   \n",
       "9753  2024-03-16 11:15:53.779721700            2024                3   \n",
       "9758  2024-03-16 11:17:40.978027000            2024                3   \n",
       "9760  2024-03-16 11:17:54.109547200            2024                3   \n",
       "\n",
       "     Local_End_Date  Local_End_Hour  Local_End_Minute  \\\n",
       "9337     2024-03-11              11                27   \n",
       "9341     2024-03-11              11                28   \n",
       "9344     2024-03-11              11                28   \n",
       "9348     2024-03-11              11                30   \n",
       "9349     2024-03-11              11                30   \n",
       "...             ...             ...               ...   \n",
       "9737     2024-03-16              11                 3   \n",
       "9739     2024-03-16              11                 4   \n",
       "9753     2024-03-16              11                15   \n",
       "9758     2024-03-16              11                17   \n",
       "9760     2024-03-16              11                17   \n",
       "\n",
       "      Local_End_15_Minute_Block  Local_End_10_Minute_Block  \\\n",
       "9337                          2                          3   \n",
       "9341                          2                          3   \n",
       "9344                          2                          3   \n",
       "9348                          3                          4   \n",
       "9349                          3                          4   \n",
       "...                         ...                        ...   \n",
       "9737                          1                          1   \n",
       "9739                          1                          1   \n",
       "9753                          2                          2   \n",
       "9758                          2                          2   \n",
       "9760                          2                          2   \n",
       "\n",
       "      Local_End_30_Minute_Block  Mistake_Free_Test  WPM_Rank  WPM_Percentile  \\\n",
       "9337                          1                1.0       268       97.265465   \n",
       "9341                          1                1.0       459       95.309299   \n",
       "9344                          1                1.0       214       97.818517   \n",
       "9348                          2                1.0        46       99.539123   \n",
       "9349                          2                1.0       615       93.711594   \n",
       "...                         ...                ...       ...             ...   \n",
       "9737                          1                1.0      3407       65.116755   \n",
       "9739                          1                1.0      1147       88.263007   \n",
       "9753                          1                1.0      1146       88.273249   \n",
       "9758                          1                1.0      1777       81.810733   \n",
       "9760                          1                1.0      4169       57.312577   \n",
       "\n",
       "      Backspaces as % of Verse Length  \\\n",
       "9337                              0.0   \n",
       "9341                              0.0   \n",
       "9344                              0.0   \n",
       "9348                              0.0   \n",
       "9349                              0.0   \n",
       "...                               ...   \n",
       "9737                              0.0   \n",
       "9739                              0.0   \n",
       "9753                              0.0   \n",
       "9758                              0.0   \n",
       "9760                              0.0   \n",
       "\n",
       "      Incorrect Characters as % of Verse Length  Min Character Time (ms)  \\\n",
       "9337                                        0.0                      NaN   \n",
       "9341                                        0.0                      NaN   \n",
       "9344                                        0.0                      NaN   \n",
       "9348                                        0.0                      NaN   \n",
       "9349                                        0.0                      NaN   \n",
       "...                                         ...                      ...   \n",
       "9737                                        0.0                      NaN   \n",
       "9739                                        0.0                      NaN   \n",
       "9753                                        0.0                      NaN   \n",
       "9758                                        0.0                      NaN   \n",
       "9760                                        0.0                      NaN   \n",
       "\n",
       "      Median Character Time (ms)  Max Character Time (ms)  \\\n",
       "9337                         NaN                      NaN   \n",
       "9341                         NaN                      NaN   \n",
       "9344                         NaN                      NaN   \n",
       "9348                         NaN                      NaN   \n",
       "9349                         NaN                      NaN   \n",
       "...                          ...                      ...   \n",
       "9737                         NaN                      NaN   \n",
       "9739                         NaN                      NaN   \n",
       "9753                         NaN                      NaN   \n",
       "9758                         NaN                      NaN   \n",
       "9760                         NaN                      NaN   \n",
       "\n",
       "      Backspace % Last 10 Avg  Backspace % Last 100 Avg  \\\n",
       "9337                      NaN                       NaN   \n",
       "9341                      NaN                       NaN   \n",
       "9344                      NaN                       NaN   \n",
       "9348                      NaN                       NaN   \n",
       "9349                      NaN                       NaN   \n",
       "...                       ...                       ...   \n",
       "9737                      NaN                       NaN   \n",
       "9739                      NaN                       NaN   \n",
       "9753                      NaN                       NaN   \n",
       "9758                      NaN                       NaN   \n",
       "9760                      NaN                       NaN   \n",
       "\n",
       "      Backspace % Last 1000 Avg  Session  Test_#_Within_Session  \\\n",
       "9337                        NaN      203                      3   \n",
       "9341                        NaN      203                      7   \n",
       "9344                        NaN      203                     10   \n",
       "9348                        NaN      203                     14   \n",
       "9349                        NaN      203                     15   \n",
       "...                         ...      ...                    ...   \n",
       "9737                        NaN      208                     94   \n",
       "9739                        NaN      208                     96   \n",
       "9753                        NaN      209                      2   \n",
       "9758                        NaN      209                      7   \n",
       "9760                        NaN      209                      9   \n",
       "\n",
       "      Incorrect Character % Last 10 Avg  Incorrect Character % Last 100 Avg  \\\n",
       "9337                           6.300453                            5.540529   \n",
       "9341                           4.437102                            5.319670   \n",
       "9344                           3.013833                            5.283769   \n",
       "9348                           3.738254                            5.286069   \n",
       "9349                           3.262063                            5.229159   \n",
       "...                                 ...                                 ...   \n",
       "9737                           4.920957                            4.903440   \n",
       "9739                           5.475674                            4.890454   \n",
       "9753                           7.084470                            5.050488   \n",
       "9758                           6.438077                            5.107775   \n",
       "9760                           5.734377                            5.184698   \n",
       "\n",
       "      Incorrect Character % Last 1000 Avg Test Version Location  Layout  \\\n",
       "9337                             7.515985           v2     home  dvorak   \n",
       "9341                             7.500135           v2     home  dvorak   \n",
       "9344                             7.484162           v2     home  dvorak   \n",
       "9348                             7.460851           v2     home  dvorak   \n",
       "9349                             7.456936           v2     home  dvorak   \n",
       "...                                   ...          ...      ...     ...   \n",
       "9737                             6.700241           v2     home  dvorak   \n",
       "9739                             6.700645           v2     home  dvorak   \n",
       "9753                             6.692268           v2     home  dvorak   \n",
       "9758                             6.707373           v2     home  dvorak   \n",
       "9760                             6.704618           v2     home  dvorak   \n",
       "\n",
       "     Caffeine  Custom_1  Custom_2  Custom_3  Autostart  \\\n",
       "9337      yes       NaN       NaN       NaN        0.0   \n",
       "9341      yes       NaN       NaN       NaN        0.0   \n",
       "9344      yes       NaN       NaN       NaN        0.0   \n",
       "9348      yes       NaN       NaN       NaN        0.0   \n",
       "9349      yes       NaN       NaN       NaN        0.0   \n",
       "...       ...       ...       ...       ...        ...   \n",
       "9737      yes       NaN       NaN       NaN        0.0   \n",
       "9739      yes       NaN       NaN       NaN        0.0   \n",
       "9753      yes       NaN       NaN       NaN        0.0   \n",
       "9758      yes       NaN       NaN       NaN        0.0   \n",
       "9760      yes       NaN       NaN       NaN        0.0   \n",
       "\n",
       "      % of Words Typed Correctly  Extra Keystrokes %  \\\n",
       "9337                       100.0                 0.0   \n",
       "9341                       100.0                 0.0   \n",
       "9344                       100.0                 0.0   \n",
       "9348                       100.0                 0.0   \n",
       "9349                       100.0                 0.0   \n",
       "...                          ...                 ...   \n",
       "9737                       100.0                 0.0   \n",
       "9739                       100.0                 0.0   \n",
       "9753                       100.0                 0.0   \n",
       "9758                       100.0                 0.0   \n",
       "9760                       100.0                 0.0   \n",
       "\n",
       "      Extra Keystrokes % Last 10 Avg  Extra Keystrokes % Last 100 Avg  \\\n",
       "9337                       11.168080                              NaN   \n",
       "9341                        7.646606                              NaN   \n",
       "9344                        5.450561                              NaN   \n",
       "9348                        7.207516                              NaN   \n",
       "9349                        6.255135                              NaN   \n",
       "...                              ...                              ...   \n",
       "9737                        9.043629                         8.584934   \n",
       "9739                        9.775705                         8.559395   \n",
       "9753                       11.372876                         8.757078   \n",
       "9758                       11.671977                         8.768625   \n",
       "9760                       10.471942                         8.909651   \n",
       "\n",
       "      Extra Keystrokes % Last 1000 Avg  Keyboard_cherry mx2a brown  \\\n",
       "9337                               NaN                           0   \n",
       "9341                               NaN                           0   \n",
       "9344                               NaN                           0   \n",
       "9348                               NaN                           1   \n",
       "9349                               NaN                           1   \n",
       "...                                ...                         ...   \n",
       "9737                               NaN                           0   \n",
       "9739                               NaN                           0   \n",
       "9753                               NaN                           0   \n",
       "9758                               NaN                           1   \n",
       "9760                               NaN                           1   \n",
       "\n",
       "      Keyboard_cherry red  \n",
       "9337                    1  \n",
       "9341                    1  \n",
       "9344                    1  \n",
       "9348                    0  \n",
       "9349                    0  \n",
       "...                   ...  \n",
       "9737                    1  \n",
       "9739                    1  \n",
       "9753                    0  \n",
       "9758                    0  \n",
       "9760                    0  \n",
       "\n",
       "[61 rows x 66 columns]"
      ]
     },
     "execution_count": 25,
     "metadata": {},
     "output_type": "execute_result"
    }
   ],
   "source": [
    "df_mistake_free_trial_results_for_regression = (\n",
    "df_trial_results_for_regression.query(\"Mistake_Free_Test == 1\").copy())\n",
    "df_mistake_free_trial_results_for_regression"
   ]
  },
  {
   "cell_type": "code",
   "execution_count": 26,
   "metadata": {},
   "outputs": [
    {
     "data": {
      "text/html": [
       "<table class=\"simpletable\">\n",
       "<caption>OLS Regression Results</caption>\n",
       "<tr>\n",
       "  <th>Dep. Variable:</th>           <td>WPM</td>       <th>  R-squared:         </th> <td>   0.035</td>\n",
       "</tr>\n",
       "<tr>\n",
       "  <th>Model:</th>                   <td>OLS</td>       <th>  Adj. R-squared:    </th> <td>   0.002</td>\n",
       "</tr>\n",
       "<tr>\n",
       "  <th>Method:</th>             <td>Least Squares</td>  <th>  F-statistic:       </th> <td>   1.045</td>\n",
       "</tr>\n",
       "<tr>\n",
       "  <th>Date:</th>             <td>Sat, 16 Mar 2024</td> <th>  Prob (F-statistic):</th>  <td> 0.358</td> \n",
       "</tr>\n",
       "<tr>\n",
       "  <th>Time:</th>                 <td>15:24:34</td>     <th>  Log-Likelihood:    </th> <td> -235.01</td>\n",
       "</tr>\n",
       "<tr>\n",
       "  <th>No. Observations:</th>      <td>    61</td>      <th>  AIC:               </th> <td>   476.0</td>\n",
       "</tr>\n",
       "<tr>\n",
       "  <th>Df Residuals:</th>          <td>    58</td>      <th>  BIC:               </th> <td>   482.3</td>\n",
       "</tr>\n",
       "<tr>\n",
       "  <th>Df Model:</th>              <td>     2</td>      <th>                     </th>     <td> </td>   \n",
       "</tr>\n",
       "<tr>\n",
       "  <th>Covariance Type:</th>      <td>nonrobust</td>    <th>                     </th>     <td> </td>   \n",
       "</tr>\n",
       "</table>\n",
       "<table class=\"simpletable\">\n",
       "<tr>\n",
       "               <td></td>                 <th>coef</th>     <th>std err</th>      <th>t</th>      <th>P>|t|</th>  <th>[0.025</th>    <th>0.975]</th>  \n",
       "</tr>\n",
       "<tr>\n",
       "  <th>const</th>                      <td>  167.2069</td> <td>    2.293</td> <td>   72.925</td> <td> 0.000</td> <td>  162.617</td> <td>  171.797</td>\n",
       "</tr>\n",
       "<tr>\n",
       "  <th>Keyboard_cherry mx2a brown</th> <td>   -2.0361</td> <td>    3.529</td> <td>   -0.577</td> <td> 0.566</td> <td>   -9.099</td> <td>    5.027</td>\n",
       "</tr>\n",
       "<tr>\n",
       "  <th>Keyboard_cherry red</th>        <td>   -5.3710</td> <td>    3.715</td> <td>   -1.446</td> <td> 0.154</td> <td>  -12.807</td> <td>    2.065</td>\n",
       "</tr>\n",
       "</table>\n",
       "<table class=\"simpletable\">\n",
       "<tr>\n",
       "  <th>Omnibus:</th>       <td> 3.177</td> <th>  Durbin-Watson:     </th> <td>   1.383</td>\n",
       "</tr>\n",
       "<tr>\n",
       "  <th>Prob(Omnibus):</th> <td> 0.204</td> <th>  Jarque-Bera (JB):  </th> <td>   2.268</td>\n",
       "</tr>\n",
       "<tr>\n",
       "  <th>Skew:</th>          <td>-0.374</td> <th>  Prob(JB):          </th> <td>   0.322</td>\n",
       "</tr>\n",
       "<tr>\n",
       "  <th>Kurtosis:</th>      <td> 3.577</td> <th>  Cond. No.          </th> <td>    3.39</td>\n",
       "</tr>\n",
       "</table><br/><br/>Notes:<br/>[1] Standard Errors assume that the covariance matrix of the errors is correctly specified."
      ],
      "text/latex": [
       "\\begin{center}\n",
       "\\begin{tabular}{lclc}\n",
       "\\toprule\n",
       "\\textbf{Dep. Variable:}              &       WPM        & \\textbf{  R-squared:         } &     0.035   \\\\\n",
       "\\textbf{Model:}                      &       OLS        & \\textbf{  Adj. R-squared:    } &     0.002   \\\\\n",
       "\\textbf{Method:}                     &  Least Squares   & \\textbf{  F-statistic:       } &     1.045   \\\\\n",
       "\\textbf{Date:}                       & Sat, 16 Mar 2024 & \\textbf{  Prob (F-statistic):} &    0.358    \\\\\n",
       "\\textbf{Time:}                       &     15:24:34     & \\textbf{  Log-Likelihood:    } &   -235.01   \\\\\n",
       "\\textbf{No. Observations:}           &          61      & \\textbf{  AIC:               } &     476.0   \\\\\n",
       "\\textbf{Df Residuals:}               &          58      & \\textbf{  BIC:               } &     482.3   \\\\\n",
       "\\textbf{Df Model:}                   &           2      & \\textbf{                     } &             \\\\\n",
       "\\textbf{Covariance Type:}            &    nonrobust     & \\textbf{                     } &             \\\\\n",
       "\\bottomrule\n",
       "\\end{tabular}\n",
       "\\begin{tabular}{lcccccc}\n",
       "                                     & \\textbf{coef} & \\textbf{std err} & \\textbf{t} & \\textbf{P$> |$t$|$} & \\textbf{[0.025} & \\textbf{0.975]}  \\\\\n",
       "\\midrule\n",
       "\\textbf{const}                       &     167.2069  &        2.293     &    72.925  &         0.000        &      162.617    &      171.797     \\\\\n",
       "\\textbf{Keyboard\\_cherry mx2a brown} &      -2.0361  &        3.529     &    -0.577  &         0.566        &       -9.099    &        5.027     \\\\\n",
       "\\textbf{Keyboard\\_cherry red}        &      -5.3710  &        3.715     &    -1.446  &         0.154        &      -12.807    &        2.065     \\\\\n",
       "\\bottomrule\n",
       "\\end{tabular}\n",
       "\\begin{tabular}{lclc}\n",
       "\\textbf{Omnibus:}       &  3.177 & \\textbf{  Durbin-Watson:     } &    1.383  \\\\\n",
       "\\textbf{Prob(Omnibus):} &  0.204 & \\textbf{  Jarque-Bera (JB):  } &    2.268  \\\\\n",
       "\\textbf{Skew:}          & -0.374 & \\textbf{  Prob(JB):          } &    0.322  \\\\\n",
       "\\textbf{Kurtosis:}      &  3.577 & \\textbf{  Cond. No.          } &     3.39  \\\\\n",
       "\\bottomrule\n",
       "\\end{tabular}\n",
       "%\\caption{OLS Regression Results}\n",
       "\\end{center}\n",
       "\n",
       "Notes: \\newline\n",
       " [1] Standard Errors assume that the covariance matrix of the errors is correctly specified."
      ],
      "text/plain": [
       "<class 'statsmodels.iolib.summary.Summary'>\n",
       "\"\"\"\n",
       "                            OLS Regression Results                            \n",
       "==============================================================================\n",
       "Dep. Variable:                    WPM   R-squared:                       0.035\n",
       "Model:                            OLS   Adj. R-squared:                  0.002\n",
       "Method:                 Least Squares   F-statistic:                     1.045\n",
       "Date:                Sat, 16 Mar 2024   Prob (F-statistic):              0.358\n",
       "Time:                        15:24:34   Log-Likelihood:                -235.01\n",
       "No. Observations:                  61   AIC:                             476.0\n",
       "Df Residuals:                      58   BIC:                             482.3\n",
       "Df Model:                           2                                         \n",
       "Covariance Type:            nonrobust                                         \n",
       "==============================================================================================\n",
       "                                 coef    std err          t      P>|t|      [0.025      0.975]\n",
       "----------------------------------------------------------------------------------------------\n",
       "const                        167.2069      2.293     72.925      0.000     162.617     171.797\n",
       "Keyboard_cherry mx2a brown    -2.0361      3.529     -0.577      0.566      -9.099       5.027\n",
       "Keyboard_cherry red           -5.3710      3.715     -1.446      0.154     -12.807       2.065\n",
       "==============================================================================\n",
       "Omnibus:                        3.177   Durbin-Watson:                   1.383\n",
       "Prob(Omnibus):                  0.204   Jarque-Bera (JB):                2.268\n",
       "Skew:                          -0.374   Prob(JB):                        0.322\n",
       "Kurtosis:                       3.577   Cond. No.                         3.39\n",
       "==============================================================================\n",
       "\n",
       "Notes:\n",
       "[1] Standard Errors assume that the covariance matrix of the errors is correctly specified.\n",
       "\"\"\""
      ]
     },
     "execution_count": 26,
     "metadata": {},
     "output_type": "execute_result"
    }
   ],
   "source": [
    "y = df_mistake_free_trial_results_for_regression['WPM']\n",
    "x = df_mistake_free_trial_results_for_regression[\n",
    "keyboard_categorical_columns]\n",
    "x = sm.add_constant(x)\n",
    "model = sm.OLS(y, x)\n",
    "results = model.fit()\n",
    "results.summary()"
   ]
  },
  {
   "cell_type": "code",
   "execution_count": 27,
   "metadata": {},
   "outputs": [
    {
     "name": "stdout",
     "output_type": "stream",
     "text": [
      "Completed script in 2.034 seconds.\n"
     ]
    }
   ],
   "source": [
    "end_time = time.time()\n",
    "run_time = end_time - start_time\n",
    "print(f\"Completed script in {round(run_time, 3)} seconds.\")"
   ]
  }
 ],
 "metadata": {
  "kernelspec": {
   "display_name": "typing_env",
   "language": "python",
   "name": "python3"
  },
  "language_info": {
   "codemirror_mode": {
    "name": "ipython",
    "version": 3
   },
   "file_extension": ".py",
   "mimetype": "text/x-python",
   "name": "python",
   "nbconvert_exporter": "python",
   "pygments_lexer": "ipython3",
   "version": "3.12.0"
  }
 },
 "nbformat": 4,
 "nbformat_minor": 2
}
