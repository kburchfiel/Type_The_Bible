{
 "cells": [
  {
   "cell_type": "markdown",
   "metadata": {},
   "source": [
    "# Type The Bible\n",
    "\n",
    "By Kenneth Burchfiel\n",
    "\n",
    "Code is released under the MIT license; Bible verses are from the Web English Bible (Catholic Edition)* and are in the public domain.\n",
    "\n",
    "* Genesis was not found within the original WEB Catholic Edition folder, so I copied in files from another Web English Bible translation instead. I imagine, but am not certain, that these files are the same as the actual Catholic Edition Genesis files."
   ]
  },
  {
   "cell_type": "markdown",
   "metadata": {},
   "source": [
    "## More documentation to come!"
   ]
  },
  {
   "cell_type": "markdown",
   "metadata": {},
   "source": [
    "Next steps:\n",
    "\n",
    "1. Prevent the script from crashing if someone has typed all of the Bible verses (which would make verses_not_yet_typed a blank list)\n",
    "2. Add in additional visualizations to show players' progress in (1) typing the Bible and (2) increasing their typing speed"
   ]
  },
  {
   "cell_type": "code",
   "execution_count": null,
   "metadata": {},
   "outputs": [],
   "source": [
    "import pandas as pd\n",
    "import time\n",
    "from getch import getch # Installed this library using pip install py-getch, not\n",
    "# pip install getch. See https://github.com/joeyespo/py-getch\n",
    "import numpy as np\n",
    "from datetime import datetime, date, timezone # Based on \n",
    "# https://docs.python.org/3/library/datetime.html"
   ]
  },
  {
   "cell_type": "code",
   "execution_count": null,
   "metadata": {},
   "outputs": [],
   "source": [
    "df_Bible = pd.read_csv('WEB_Catholic_Version_for_game_updated.csv')\n",
    "df_Bible"
   ]
  },
  {
   "cell_type": "code",
   "execution_count": null,
   "metadata": {},
   "outputs": [],
   "source": [
    "df_results = pd.read_csv('results.csv', index_col='Test_Number')\n",
    "df_results"
   ]
  },
  {
   "cell_type": "code",
   "execution_count": null,
   "metadata": {},
   "outputs": [],
   "source": [
    "# # If you ever need to drop a particular result (e.g. due to a glitch), you can do so as follows:\n",
    "# df_results.drop(17, inplace = True)\n",
    "# df_results.to_csv('results.csv') # We want to preserve the index so as not\n",
    "# to lose our 'Test_Number' values\n",
    "# df_results"
   ]
  },
  {
   "cell_type": "code",
   "execution_count": null,
   "metadata": {},
   "outputs": [],
   "source": [
    "# Creating an RNG seed:\n",
    "# In order to make the RNG values a bit more random, the following code will\n",
    "# derive the RNG seed from the decimal component of the current timestamp.\n",
    "# This seed will change 1 million times each second.\n",
    "\n",
    "# Using the decimal component of time.time() to select an RNG seed:\n",
    "current_time = time.time()\n",
    "decimal_component = current_time - int(current_time) # This \n",
    "# line retrieves the decimal component of current_time. int() is used instead\n",
    "# of np.round() so that the code won't ever round current_time up prior\n",
    "# to the subtraction operation, which would return a different value.\n",
    "# I don't think that converting current_time to an integer (e.g. via\n",
    "# np.int64(current_time)) is necessary, as int() appears to handle at least \n",
    "# some integers larger than 32 bits in size just fine.\n",
    "decimal_component\n",
    "random_seed = round(decimal_component * 1000000)\n",
    "decimal_component, random_seed"
   ]
  },
  {
   "cell_type": "code",
   "execution_count": null,
   "metadata": {},
   "outputs": [],
   "source": [
    "rng = np.random.default_rng(random_seed) # Based on\n",
    "# https://numpy.org/doc/stable/reference/random/index.html?highlight=random#module-numpy.random"
   ]
  },
  {
   "cell_type": "code",
   "execution_count": null,
   "metadata": {},
   "outputs": [],
   "source": [
    "df_Bible"
   ]
  },
  {
   "cell_type": "markdown",
   "metadata": {},
   "source": [
    "[This fantastic answer](https://stackoverflow.com/a/23294659/13097194) by 'Kevin' at Stack Overflow proved helpful in implementing user validation code within this program. "
   ]
  },
  {
   "cell_type": "code",
   "execution_count": null,
   "metadata": {},
   "outputs": [],
   "source": [
    "def select_verse():\n",
    "    print(\"Select a verse to type! Enter 0 to receive a random verse\\n\\\n",
    "or enter a verse number (see 'Verse_Order_Within_Bible column of\\n\\\n",
    "the WEB_Catholic_Version.csv spreadsheet for a list of numbers to enter\\n\\\n",
    "to select a specific verse.\\n\\\n",
    "You can also enter -2 to receive a random verse that you haven't yet typed\\n\\\n",
    "or -3 to choose the first Bible verse that hasn't yet been typed.\")\n",
    "    while True:\n",
    "        try:\n",
    "            response = int(input())\n",
    "        except:\n",
    "            print(\"Please enter an integer corresponding to a particular Bible \\\n",
    "verse or 0 for a randomly selected verse.\")\n",
    "            continue # Allows the user to retry entering a number\n",
    "\n",
    "        if response == 0:\n",
    "            return rng.integers(1, 35380) # Selects any verse within the Bible.\n",
    "            # there are 35,379 verses present, so we'll pass 1 (the first verse)\n",
    "            # and 35,380 (1 more than the last verse, as rng.integers won't \n",
    "            # include the final number within the range) to rng.integers().\n",
    "        # The next two elif statements will require us to determine which \n",
    "        # verses haven't yet been typed. We can do so by filtering df_Bible\n",
    "        # to include only untyped verses.\n",
    "        elif response == -2:\n",
    "            verses_not_yet_typed = list(df_Bible.query(\"Typed == 0\")['Verse_Order_Within_Bible'].copy())\n",
    "            if len(verses_not_yet_typed) == 0:\n",
    "                print(\"Congratulations! You have typed all verses from \\\n",
    "the Bible, so there are no new verses to type! Try selecting another option \\\n",
    "instead.\")\n",
    "                continue\n",
    "            print(f\"{len(verses_not_yet_typed)} verses have not yet \\\n",
    "been typed.\")\n",
    "            return rng.choice(verses_not_yet_typed) # Chooses one of these\n",
    "            # untyped verses at random\n",
    "        elif response == -3:\n",
    "            verses_not_yet_typed = list(df_Bible.query(\"Typed == 0\")['Verse_Order_Within_Bible'].copy())\n",
    "            if len(verses_not_yet_typed) == 0:\n",
    "                print(\"Congratulations! You have typed all verses from \\\n",
    "the Bible, so there are no new verses to type! Try selecting another option \\\n",
    "instead.\")\n",
    "                continue\n",
    "            print(f\"{len(verses_not_yet_typed)} verses have not yet \\\n",
    "been typed.\")\n",
    "            verses_not_yet_typed.sort() # Probably not necessary, as df_Bible\n",
    "            # is already sorted from the first to the last verse.\n",
    "            return verses_not_yet_typed[0]\n",
    "        \n",
    "        else:\n",
    "            if ((response >= 1) \n",
    "            & (response <= 35379)): # Making sure that the response is \n",
    "                # an integer between 1 and 35,379 (inclusive) so that it \n",
    "                # matches one of the Bible verse numbers present:                    \n",
    "                return response\n",
    "            else: # Will be called if a non-integer number was passed\n",
    "                    # or if the integer didn't correspond to a Bible verse\n",
    "                    # number. \n",
    "                print(\"Please enter an integer between 1 and 35,379.\") # Since\n",
    "                # we're still within a While loop, the user will be returned\n",
    "                # to the initial try/except block.\n"
   ]
  },
  {
   "cell_type": "code",
   "execution_count": null,
   "metadata": {},
   "outputs": [],
   "source": [
    "len(list(df_Bible.query(\"Typed == 7\")['Verse_Order_Within_Bible'].copy()))"
   ]
  },
  {
   "cell_type": "code",
   "execution_count": null,
   "metadata": {},
   "outputs": [],
   "source": [
    "def run_typing_test(verse_number, results_table):\n",
    "    '''This function calculates how quickly the user types the characters\n",
    "    passed to the Bible verse represented by verse_number, then saves those \n",
    "    results to the DataFrame passed to results_table.'''\n",
    "\n",
    "    # Retrieving the verse to be typed:\n",
    "    # The index begins at 0 whereas the list of verse numbers begins at 1,\n",
    "    # so we'll need to subtract 1 from verse_number in order to obtain\n",
    "    # the verse's index.\n",
    "    verse = df_Bible.iloc[verse_number-1]['Verse']\n",
    "    book = df_Bible.iloc[verse_number-1]['Book_Name']\n",
    "    chapter = df_Bible.iloc[verse_number-1]['Chapter_Name']\n",
    "    verse_number_within_chapter = df_Bible.iloc[verse_number-1]['Verse_#']\n",
    "    verse_number_within_Bible = df_Bible.iloc[\n",
    "        verse_number-1]['Verse_Order_Within_Bible']\n",
    "    \n",
    "    complete_flag = 0\n",
    "    while complete_flag == 0:\n",
    "        print(f\"Your verse to type is {book} \\\n",
    "{chapter}:{verse_number_within_chapter} (verse {verse_number_within_Bible} \\\n",
    "within the Bible .csv file).\\n\")\n",
    "        print(f\"Here is the verse:\\n{verse}\\n\") \n",
    "        print(\"You can also exit this test by entering 'exit'.\\nPress any key \\\n",
    "to begin typing!'\")\n",
    "        # time.sleep(3) # I realized that players could actually begin typing\n",
    "        # during this sleep period, thus allowing them to complete the test\n",
    "        # faster than intended. Therefore, I'm now having the test start\n",
    "        # after the player hits a character of his/her choice. getch()\n",
    "        # accomplishes this task well.\n",
    "        # A simpler approach would be to add in an additional input block\n",
    "        # and have the player begin after he/she presses Enter, but that would\n",
    "        # cause the player's right hand to leave the default home row position,\n",
    "        # which could end up slowing him/her down. getch() allows any character\n",
    "        # to be pressed (such as the space bar) and thus avoids this issue.\n",
    "\n",
    "        start_character = getch() # See https://github.com/joeyespo/py-getch\n",
    "        print(\"Start!\")\n",
    "        local_start_time = datetime.now().isoformat()\n",
    "        utc_start_time = datetime.now(timezone.utc).isoformat()\n",
    "        typing_start_time = time.time()\n",
    "        verse_response = input() \n",
    "        # The following code will execute once the player finishes typing and\n",
    "        # hits Enter. (Having the program evaluate the player's entry only after\n",
    "        # 'Enter' is pressed isn't the best option, as the time required to\n",
    "        # hit Enter will reduce the player's reported WPM. In the future,\n",
    "        # I might revise this code so that the text can get evaluated\n",
    "        # immediately when the player has typed all characters of the text.\n",
    "        # (Counting the characters as the player types would be one way\n",
    "        # to implement this revision.)\n",
    "\n",
    "        typing_end_time = time.time()\n",
    "        typing_time = typing_end_time - typing_start_time\n",
    "        if verse_response == verse:\n",
    "            print(f\"Well done! You typed the verse correctly.\")\n",
    "            complete_flag = 1 # Setting this flag to 1 allows the player to exit\n",
    "            # out of the while statement.\n",
    "        elif verse_response.lower() == 'exit':\n",
    "            print(\"Exiting typing test.\")\n",
    "            return results_table # Exits the function without saving the \n",
    "            # current test to results_table or df_Bible\n",
    "        else:\n",
    "            print(\"Sorry, that wasn't the correct input. Try again!\")   \n",
    "\n",
    "\n",
    "    # Calculating typing statistics and storing them within a single-row\n",
    "    # DataFrame:\n",
    "\n",
    "    cps = len(verse) / typing_time # Calculating characters per second\n",
    "    wpm = cps * 12 # Multiplying by 60 to convert from characters to minutes, \n",
    "    # then dividing by 5 to convert from characters to words.\n",
    "    wpm\n",
    "\n",
    "    print(f\"Your CPS and WPM were {round(cps, 3)} and {round(wpm, 3)}, respectively.\")\n",
    "\n",
    "    # Creating a single-row DataFrame that stores the player's results:\n",
    "    df_latest_result = pd.DataFrame(index = [len(results_table)+1], data = {'Unix_Start_Time':typing_start_time, \n",
    "    'Local_Start_Time':local_start_time,\n",
    "    'UTC_Start_Time':utc_start_time,\n",
    "    'Characters':len(verse),\n",
    "    'Seconds':typing_time, \n",
    "    'CPS': cps,\n",
    "    'WPM':wpm,\n",
    "    'Book': book,\n",
    "    'Chapter': chapter,\n",
    "    'Verse #': verse_number_within_chapter,\n",
    "    'Verse':verse, \n",
    "    'Verse_Order':verse_number_within_Bible})\n",
    "    df_latest_result.index.name = 'Test_Number'\n",
    "    df_latest_result\n",
    "\n",
    "    # Adding this new row to results_table:\n",
    "    results_table = pd.concat([results_table, df_latest_result])\\\n",
    "    \n",
    "    # Note: I could also have used df.at or df.iloc to add a new row\n",
    "    # to df_latest_result, but I chose a pd.concat() setup in order to ensure\n",
    "    # that the latest result would never overwrite an earlier result.\n",
    "    \n",
    "\n",
    "    # Updating df_Bible to store the player's results: (This will allow the\n",
    "    # player to track how much of the Bible he/she has typed so far)\n",
    "    df_Bible.at[verse_number-1, 'Typed'] = 1 # Denotes that this verse\n",
    "    # has now ben typed\n",
    "    df_Bible.at[verse_number-1, 'Tests'] += 1 # Keeps track of how \n",
    "    # many times this verse has been typed\n",
    "    fastest_wpm = df_Bible.at[verse_number-1, 'Fastest_WPM']\n",
    "    if ((pd.isna(fastest_wpm) == True) | (wpm > fastest_wpm)): \n",
    "        # In these cases, we should replace the pre-existing Fastest_WPM value\n",
    "        # with the WPM the player just achieved.\n",
    "        # I found that 5 > np.NaN returned False, so if I only checked for\n",
    "        # wpm > fastest_wpm, blank fastest_wpm values would never get overwritten.\n",
    "        # Therefore, I chose to also check for NaN values \n",
    "        # in the above if statement.\n",
    "        df_Bible.at[verse_number-1, 'Fastest_WPM'] = wpm\n",
    "\n",
    "    return results_table\n"
   ]
  },
  {
   "cell_type": "code",
   "execution_count": null,
   "metadata": {},
   "outputs": [],
   "source": [
    "# run_typing_test(1, results_table=df_results)"
   ]
  },
  {
   "cell_type": "code",
   "execution_count": null,
   "metadata": {},
   "outputs": [],
   "source": [
    "def select_subsequent_verse(previous_verse_number):\n",
    "    '''This function allows the player to specify which verse to\n",
    "    type next, or, alternatively, to exit the game.'''\n",
    "    print(\"Press 0 to retry the verse you just typed; \\\n",
    "1 to type the next verse; 2 to type the next verse that hasn't yet been typed; \\\n",
    "3 to select a different verse; \\\n",
    "or -1 to save your results and exit.\")\n",
    "    while True: \n",
    "            try:\n",
    "                response = int(input())\n",
    "            except: # The user didn't enter a number.\n",
    "                print(\"Please enter a number.\")      \n",
    "                continue\n",
    "            if response == 0:\n",
    "                return previous_verse_number\n",
    "            elif response == 1:\n",
    "                if previous_verse_number == 35379: # The verse order value\n",
    "                    # corresponding to the final verse of Revelation\n",
    "                    print(\"You just typed the last verse in the Bible, so \\\n",
    "there's no next verse to type! Please enter an option other than 1.\\n\")\n",
    "                    continue\n",
    "                else:\n",
    "                    return previous_verse_number + 1\n",
    "            elif response == 2:\n",
    "                # In this case, we'll retrieve a list of verses that haven't\n",
    "                # yet been typed; filter that list to include only verses\n",
    "                # greater than previous_verse_number; and then select\n",
    "                # the first verse within that list (i.e. the next \n",
    "                # untyped verse).\n",
    "                verses_not_yet_typed = list(df_Bible.query(\n",
    "                    \"Typed == 0\")['Verse_Order_Within_Bible'].copy())\n",
    "                if len(verses_not_yet_typed) == 0:\n",
    "                    print(\"Congratulations! You have typed all verses from \\\n",
    "the Bible, so there are no new verses to type! Try selecting another option \\\n",
    "instead.\")\n",
    "                    continue\n",
    "                print(f\"{len(verses_not_yet_typed)} verses have not yet \\\n",
    "been typed.\")\n",
    "                verses_not_yet_typed.sort() \n",
    "                next_untyped_verses = [verse for verse in verses_not_yet_typed \n",
    "                if verse > previous_verse_number]\n",
    "                return next_untyped_verses[0]\n",
    "            elif response == 3:\n",
    "                return select_verse()\n",
    "            elif response == -1:\n",
    "                return response\n",
    "            else: # A number other than -1, 0, 1, 2, or 3 was passed.\n",
    "                print(\"Please enter either -1, 0, 1, 2, or 3.\\n\")  "
   ]
  },
  {
   "cell_type": "code",
   "execution_count": null,
   "metadata": {},
   "outputs": [],
   "source": [
    "def run_game(results_table):\n",
    "    '''This function runs Type the Bible by calling various other functions.\n",
    "    It allows users to select\n",
    "    verses to type, then runs typing tests and stores the results in\n",
    "    the DataFrame passed to results_table.'''\n",
    "    \n",
    "    print(\"Welcome to Type the Bible!\")\n",
    "    verse_number = select_verse()\n",
    "    \n",
    "    while True: # Allows the game to continue until the user exits\n",
    "        results_table = run_typing_test(verse_number=verse_number, \n",
    "        results_table=results_table)\n",
    "        \n",
    "        # The player will now be prompted to select a new verse number \n",
    "        # (or to save and quit). This verse_number, provided it is not -1,\n",
    "        # will then be passed back to run_typing_test().\n",
    "        verse_number = select_subsequent_verse(\n",
    "            previous_verse_number=verse_number)\n",
    "        if verse_number == -1: # In this case, the game will quit and the \n",
    "            # user's new test results will be saved to results_table.\n",
    "            return results_table "
   ]
  },
  {
   "cell_type": "code",
   "execution_count": 14,
   "metadata": {},
   "outputs": [],
   "source": [
    "df_results = run_game(results_table = df_results)"
   ]
  },
  {
   "cell_type": "code",
   "execution_count": null,
   "metadata": {},
   "outputs": [],
   "source": [
    "# Updating certain df_Bible columns to reflect new results:"
   ]
  },
  {
   "cell_type": "code",
   "execution_count": null,
   "metadata": {},
   "outputs": [],
   "source": [
    "df_Bible['Characters_Typed'] = df_Bible['Characters'] * df_Bible['Typed']\n",
    "df_Bible['Total_Characters_Typed'] = df_Bible['Characters'] * df_Bible['Tests']\n",
    "df_Bible"
   ]
  },
  {
   "cell_type": "code",
   "execution_count": null,
   "metadata": {},
   "outputs": [],
   "source": [
    "characters_typed_sum = df_Bible['Characters_Typed'].sum()\n",
    "proportion_of_Bible_typed = characters_typed_sum / df_Bible['Characters'].sum()\n",
    "\n",
    "print(f\"You have typed {characters_typed_sum} characters so far, which represents \\\n",
    "{round(100*proportion_of_Bible_typed, 5)}% of the Bible.\")\n",
    "\n"
   ]
  },
  {
   "cell_type": "code",
   "execution_count": null,
   "metadata": {},
   "outputs": [],
   "source": [
    "df_results"
   ]
  },
  {
   "cell_type": "code",
   "execution_count": null,
   "metadata": {},
   "outputs": [],
   "source": [
    "df_results.to_csv('results.csv')"
   ]
  },
  {
   "cell_type": "code",
   "execution_count": null,
   "metadata": {},
   "outputs": [],
   "source": [
    "df_Bible.to_csv('WEB_Catholic_Version_for_game_updated.csv', index = False)"
   ]
  },
  {
   "cell_type": "code",
   "execution_count": null,
   "metadata": {},
   "outputs": [],
   "source": [
    "print(\"Enter any key to exit.\") # Allows the console to stay open when the\n",
    "# .py version of the program is run\n",
    "input()"
   ]
  }
 ],
 "metadata": {
  "kernelspec": {
   "display_name": "ga15pyd",
   "language": "python",
   "name": "python3"
  },
  "language_info": {
   "codemirror_mode": {
    "name": "ipython",
    "version": 3
   },
   "file_extension": ".py",
   "mimetype": "text/x-python",
   "name": "python",
   "nbconvert_exporter": "python",
   "pygments_lexer": "ipython3",
   "version": "3.10.9"
  }
 },
 "nbformat": 4,
 "nbformat_minor": 2
}
