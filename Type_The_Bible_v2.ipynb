{
 "cells": [
  {
   "cell_type": "markdown",
   "metadata": {},
   "source": [
    "# Type Through The Bible\n",
    "\n",
    "By Kenneth Burchfiel\n",
    "\n",
    "Code is released under the MIT license; Bible verses are from the Web English Bible (Catholic Edition)* and are in the public domain.\n",
    "\n",
    "\\* Genesis was not found within the original WEB Catholic Edition folder, so I copied in files from another Web English Bible translation instead. I imagine, but am not certain, that these files are the same as the actual Catholic Edition Genesis files."
   ]
  },
  {
   "cell_type": "markdown",
   "metadata": {},
   "source": [
    "## More documentation to come!"
   ]
  },
  {
   "cell_type": "markdown",
   "metadata": {},
   "source": [
    "Next steps: (Not necessarily in order of importance)\n",
    "\n",
    "* See if there's a way to alert the user (perhaps via a sound?) when a character is typed incorrectly.\n",
    "* Improve chart formatting (e.g. add titles, legend names, etc.)\n",
    "* Add in more documentation"
   ]
  },
  {
   "cell_type": "code",
   "execution_count": 1,
   "metadata": {},
   "outputs": [],
   "source": [
    "import pandas as pd\n",
    "pd.set_option('display.max_columns', 1000)\n",
    "import time\n",
    "import plotly.express as px\n",
    "from getch import getch # Installed this library using pip install py-getch, not\n",
    "# pip install getch. See https://github.com/joeyespo/py-getch\n",
    "import numpy as np\n",
    "from datetime import datetime, date, timezone # Based on \n",
    "# https://docs.python.org/3/library/datetime.html"
   ]
  },
  {
   "cell_type": "code",
   "execution_count": 2,
   "metadata": {},
   "outputs": [],
   "source": [
    "extra_analyses = False"
   ]
  },
  {
   "cell_type": "markdown",
   "metadata": {},
   "source": [
    "Checking whether the program is currently running on a Jupyter notebook:\n",
    "\n",
    "(The program normally uses getch() to begin typing tests; however, I wasn't able to enter input after getch() got called within a Jupyter notebook and thus couldn't begin a typing test in that situation. Therefore, the program will use input() instead of getch() to start tests when running within a notebook.)"
   ]
  },
  {
   "cell_type": "code",
   "execution_count": 3,
   "metadata": {},
   "outputs": [],
   "source": [
    "# The following method of determining whether the code is running\n",
    "# within a Jupyter notebook is based on Gustavo Bezerra's response\n",
    "# at https://stackoverflow.com/a/39662359/13097194 . I found that\n",
    "# just calling get_ipython() was sufficient, at least on Windows and within\n",
    "# Visual Studio Code; his answer is more complex.\n",
    "\n",
    "try: \n",
    "    get_ipython()\n",
    "    run_on_notebook = True\n",
    "except:\n",
    "    run_on_notebook = False\n",
    "\n",
    "# print(run_on_notebook)"
   ]
  },
  {
   "cell_type": "code",
   "execution_count": 4,
   "metadata": {},
   "outputs": [
    {
     "data": {
      "text/html": [
       "<div>\n",
       "<style scoped>\n",
       "    .dataframe tbody tr th:only-of-type {\n",
       "        vertical-align: middle;\n",
       "    }\n",
       "\n",
       "    .dataframe tbody tr th {\n",
       "        vertical-align: top;\n",
       "    }\n",
       "\n",
       "    .dataframe thead th {\n",
       "        text-align: right;\n",
       "    }\n",
       "</style>\n",
       "<table border=\"1\" class=\"dataframe\">\n",
       "  <thead>\n",
       "    <tr style=\"text-align: right;\">\n",
       "      <th></th>\n",
       "      <th>Book_Order</th>\n",
       "      <th>Book_Name</th>\n",
       "      <th>Chapter_Name</th>\n",
       "      <th>Book_and_Chapter</th>\n",
       "      <th>Chapter_Order</th>\n",
       "      <th>Verse_#</th>\n",
       "      <th>Verse_Order</th>\n",
       "      <th>Verse</th>\n",
       "      <th>Characters</th>\n",
       "      <th>Typed</th>\n",
       "      <th>Tests</th>\n",
       "      <th>Fastest_WPM</th>\n",
       "      <th>Characters_Typed</th>\n",
       "      <th>Total_Characters_Typed</th>\n",
       "      <th>Count</th>\n",
       "    </tr>\n",
       "  </thead>\n",
       "  <tbody>\n",
       "    <tr>\n",
       "      <th>0</th>\n",
       "      <td>1</td>\n",
       "      <td>GEN</td>\n",
       "      <td>1</td>\n",
       "      <td>GEN 1</td>\n",
       "      <td>1</td>\n",
       "      <td>1</td>\n",
       "      <td>1</td>\n",
       "      <td>In the beginning, God created the heavens and ...</td>\n",
       "      <td>56</td>\n",
       "      <td>1</td>\n",
       "      <td>8</td>\n",
       "      <td>193.251509</td>\n",
       "      <td>56</td>\n",
       "      <td>448</td>\n",
       "      <td>1</td>\n",
       "    </tr>\n",
       "    <tr>\n",
       "      <th>1</th>\n",
       "      <td>1</td>\n",
       "      <td>GEN</td>\n",
       "      <td>1</td>\n",
       "      <td>GEN 1</td>\n",
       "      <td>1</td>\n",
       "      <td>2</td>\n",
       "      <td>2</td>\n",
       "      <td>The earth was formless and empty. Darkness was...</td>\n",
       "      <td>135</td>\n",
       "      <td>1</td>\n",
       "      <td>2</td>\n",
       "      <td>140.461827</td>\n",
       "      <td>135</td>\n",
       "      <td>270</td>\n",
       "      <td>1</td>\n",
       "    </tr>\n",
       "    <tr>\n",
       "      <th>2</th>\n",
       "      <td>1</td>\n",
       "      <td>GEN</td>\n",
       "      <td>1</td>\n",
       "      <td>GEN 1</td>\n",
       "      <td>1</td>\n",
       "      <td>3</td>\n",
       "      <td>3</td>\n",
       "      <td>God said, \"Let there be light,\" and there was ...</td>\n",
       "      <td>52</td>\n",
       "      <td>1</td>\n",
       "      <td>1</td>\n",
       "      <td>84.008493</td>\n",
       "      <td>52</td>\n",
       "      <td>52</td>\n",
       "      <td>1</td>\n",
       "    </tr>\n",
       "    <tr>\n",
       "      <th>3</th>\n",
       "      <td>1</td>\n",
       "      <td>GEN</td>\n",
       "      <td>1</td>\n",
       "      <td>GEN 1</td>\n",
       "      <td>1</td>\n",
       "      <td>4</td>\n",
       "      <td>4</td>\n",
       "      <td>God saw the light, and saw that it was good. G...</td>\n",
       "      <td>85</td>\n",
       "      <td>1</td>\n",
       "      <td>1</td>\n",
       "      <td>123.198378</td>\n",
       "      <td>85</td>\n",
       "      <td>85</td>\n",
       "      <td>1</td>\n",
       "    </tr>\n",
       "    <tr>\n",
       "      <th>4</th>\n",
       "      <td>1</td>\n",
       "      <td>GEN</td>\n",
       "      <td>1</td>\n",
       "      <td>GEN 1</td>\n",
       "      <td>1</td>\n",
       "      <td>5</td>\n",
       "      <td>5</td>\n",
       "      <td>God called the light \"day\", and the darkness h...</td>\n",
       "      <td>119</td>\n",
       "      <td>1</td>\n",
       "      <td>1</td>\n",
       "      <td>135.664272</td>\n",
       "      <td>119</td>\n",
       "      <td>119</td>\n",
       "      <td>1</td>\n",
       "    </tr>\n",
       "    <tr>\n",
       "      <th>...</th>\n",
       "      <td>...</td>\n",
       "      <td>...</td>\n",
       "      <td>...</td>\n",
       "      <td>...</td>\n",
       "      <td>...</td>\n",
       "      <td>...</td>\n",
       "      <td>...</td>\n",
       "      <td>...</td>\n",
       "      <td>...</td>\n",
       "      <td>...</td>\n",
       "      <td>...</td>\n",
       "      <td>...</td>\n",
       "      <td>...</td>\n",
       "      <td>...</td>\n",
       "      <td>...</td>\n",
       "    </tr>\n",
       "    <tr>\n",
       "      <th>35374</th>\n",
       "      <td>95</td>\n",
       "      <td>REV</td>\n",
       "      <td>22</td>\n",
       "      <td>REV 22</td>\n",
       "      <td>1328</td>\n",
       "      <td>17</td>\n",
       "      <td>35375</td>\n",
       "      <td>The Spirit and the bride say, \"Come!\" He who h...</td>\n",
       "      <td>160</td>\n",
       "      <td>0</td>\n",
       "      <td>0</td>\n",
       "      <td>NaN</td>\n",
       "      <td>0</td>\n",
       "      <td>0</td>\n",
       "      <td>1</td>\n",
       "    </tr>\n",
       "    <tr>\n",
       "      <th>35375</th>\n",
       "      <td>95</td>\n",
       "      <td>REV</td>\n",
       "      <td>22</td>\n",
       "      <td>REV 22</td>\n",
       "      <td>1328</td>\n",
       "      <td>18</td>\n",
       "      <td>35376</td>\n",
       "      <td>I testify to everyone who hears the words of t...</td>\n",
       "      <td>159</td>\n",
       "      <td>0</td>\n",
       "      <td>0</td>\n",
       "      <td>NaN</td>\n",
       "      <td>0</td>\n",
       "      <td>0</td>\n",
       "      <td>1</td>\n",
       "    </tr>\n",
       "    <tr>\n",
       "      <th>35376</th>\n",
       "      <td>95</td>\n",
       "      <td>REV</td>\n",
       "      <td>22</td>\n",
       "      <td>REV 22</td>\n",
       "      <td>1328</td>\n",
       "      <td>19</td>\n",
       "      <td>35377</td>\n",
       "      <td>If anyone takes away from the words of the boo...</td>\n",
       "      <td>174</td>\n",
       "      <td>0</td>\n",
       "      <td>0</td>\n",
       "      <td>NaN</td>\n",
       "      <td>0</td>\n",
       "      <td>0</td>\n",
       "      <td>1</td>\n",
       "    </tr>\n",
       "    <tr>\n",
       "      <th>35377</th>\n",
       "      <td>95</td>\n",
       "      <td>REV</td>\n",
       "      <td>22</td>\n",
       "      <td>REV 22</td>\n",
       "      <td>1328</td>\n",
       "      <td>20</td>\n",
       "      <td>35378</td>\n",
       "      <td>He who testifies these things says, \"Yes, I am...</td>\n",
       "      <td>89</td>\n",
       "      <td>0</td>\n",
       "      <td>0</td>\n",
       "      <td>NaN</td>\n",
       "      <td>0</td>\n",
       "      <td>0</td>\n",
       "      <td>1</td>\n",
       "    </tr>\n",
       "    <tr>\n",
       "      <th>35378</th>\n",
       "      <td>95</td>\n",
       "      <td>REV</td>\n",
       "      <td>22</td>\n",
       "      <td>REV 22</td>\n",
       "      <td>1328</td>\n",
       "      <td>21</td>\n",
       "      <td>35379</td>\n",
       "      <td>The grace of the Lord Jesus Christ be with all...</td>\n",
       "      <td>64</td>\n",
       "      <td>1</td>\n",
       "      <td>1</td>\n",
       "      <td>161.093106</td>\n",
       "      <td>64</td>\n",
       "      <td>64</td>\n",
       "      <td>1</td>\n",
       "    </tr>\n",
       "  </tbody>\n",
       "</table>\n",
       "<p>35379 rows × 15 columns</p>\n",
       "</div>"
      ],
      "text/plain": [
       "       Book_Order Book_Name  Chapter_Name Book_and_Chapter  Chapter_Order  \\\n",
       "0               1       GEN             1            GEN 1              1   \n",
       "1               1       GEN             1            GEN 1              1   \n",
       "2               1       GEN             1            GEN 1              1   \n",
       "3               1       GEN             1            GEN 1              1   \n",
       "4               1       GEN             1            GEN 1              1   \n",
       "...           ...       ...           ...              ...            ...   \n",
       "35374          95       REV            22           REV 22           1328   \n",
       "35375          95       REV            22           REV 22           1328   \n",
       "35376          95       REV            22           REV 22           1328   \n",
       "35377          95       REV            22           REV 22           1328   \n",
       "35378          95       REV            22           REV 22           1328   \n",
       "\n",
       "       Verse_#  Verse_Order  \\\n",
       "0            1            1   \n",
       "1            2            2   \n",
       "2            3            3   \n",
       "3            4            4   \n",
       "4            5            5   \n",
       "...        ...          ...   \n",
       "35374       17        35375   \n",
       "35375       18        35376   \n",
       "35376       19        35377   \n",
       "35377       20        35378   \n",
       "35378       21        35379   \n",
       "\n",
       "                                                   Verse  Characters  Typed  \\\n",
       "0      In the beginning, God created the heavens and ...          56      1   \n",
       "1      The earth was formless and empty. Darkness was...         135      1   \n",
       "2      God said, \"Let there be light,\" and there was ...          52      1   \n",
       "3      God saw the light, and saw that it was good. G...          85      1   \n",
       "4      God called the light \"day\", and the darkness h...         119      1   \n",
       "...                                                  ...         ...    ...   \n",
       "35374  The Spirit and the bride say, \"Come!\" He who h...         160      0   \n",
       "35375  I testify to everyone who hears the words of t...         159      0   \n",
       "35376  If anyone takes away from the words of the boo...         174      0   \n",
       "35377  He who testifies these things says, \"Yes, I am...          89      0   \n",
       "35378  The grace of the Lord Jesus Christ be with all...          64      1   \n",
       "\n",
       "       Tests  Fastest_WPM  Characters_Typed  Total_Characters_Typed  Count  \n",
       "0          8   193.251509                56                     448      1  \n",
       "1          2   140.461827               135                     270      1  \n",
       "2          1    84.008493                52                      52      1  \n",
       "3          1   123.198378                85                      85      1  \n",
       "4          1   135.664272               119                     119      1  \n",
       "...      ...          ...               ...                     ...    ...  \n",
       "35374      0          NaN                 0                       0      1  \n",
       "35375      0          NaN                 0                       0      1  \n",
       "35376      0          NaN                 0                       0      1  \n",
       "35377      0          NaN                 0                       0      1  \n",
       "35378      1   161.093106                64                      64      1  \n",
       "\n",
       "[35379 rows x 15 columns]"
      ]
     },
     "execution_count": 4,
     "metadata": {},
     "output_type": "execute_result"
    }
   ],
   "source": [
    "df_Bible = pd.read_csv('WEB_Catholic_Version_for_game_updated.csv')\n",
    "df_Bible"
   ]
  },
  {
   "cell_type": "code",
   "execution_count": 5,
   "metadata": {},
   "outputs": [
    {
     "data": {
      "text/html": [
       "<div>\n",
       "<style scoped>\n",
       "    .dataframe tbody tr th:only-of-type {\n",
       "        vertical-align: middle;\n",
       "    }\n",
       "\n",
       "    .dataframe tbody tr th {\n",
       "        vertical-align: top;\n",
       "    }\n",
       "\n",
       "    .dataframe thead th {\n",
       "        text-align: right;\n",
       "    }\n",
       "</style>\n",
       "<table border=\"1\" class=\"dataframe\">\n",
       "  <thead>\n",
       "    <tr style=\"text-align: right;\">\n",
       "      <th></th>\n",
       "      <th>Unix_Start_Time</th>\n",
       "      <th>Local_Start_Time</th>\n",
       "      <th>UTC_Start_Time</th>\n",
       "      <th>Characters</th>\n",
       "      <th>Seconds</th>\n",
       "      <th>CPS</th>\n",
       "      <th>WPM</th>\n",
       "      <th>Book</th>\n",
       "      <th>Chapter</th>\n",
       "      <th>Verse_Order</th>\n",
       "      <th>Verse</th>\n",
       "      <th>Verse #</th>\n",
       "      <th>Last 10 Avg</th>\n",
       "      <th>Last 100 Avg</th>\n",
       "      <th>Last 1000 Avg</th>\n",
       "      <th>cumulative_avg</th>\n",
       "      <th>Local_Year</th>\n",
       "      <th>Local_Month</th>\n",
       "      <th>Local_Hour</th>\n",
       "      <th>Count</th>\n",
       "      <th>Local_Date</th>\n",
       "    </tr>\n",
       "    <tr>\n",
       "      <th>Test_Number</th>\n",
       "      <th></th>\n",
       "      <th></th>\n",
       "      <th></th>\n",
       "      <th></th>\n",
       "      <th></th>\n",
       "      <th></th>\n",
       "      <th></th>\n",
       "      <th></th>\n",
       "      <th></th>\n",
       "      <th></th>\n",
       "      <th></th>\n",
       "      <th></th>\n",
       "      <th></th>\n",
       "      <th></th>\n",
       "      <th></th>\n",
       "      <th></th>\n",
       "      <th></th>\n",
       "      <th></th>\n",
       "      <th></th>\n",
       "      <th></th>\n",
       "      <th></th>\n",
       "    </tr>\n",
       "  </thead>\n",
       "  <tbody>\n",
       "    <tr>\n",
       "      <th>1</th>\n",
       "      <td>1.698121e+09</td>\n",
       "      <td>2023-10-24T00:17:38.017017</td>\n",
       "      <td>2023-10-24T04:17:38.017017+00:00</td>\n",
       "      <td>56</td>\n",
       "      <td>6.571754</td>\n",
       "      <td>8.521317</td>\n",
       "      <td>102.255799</td>\n",
       "      <td>GEN</td>\n",
       "      <td>1</td>\n",
       "      <td>1</td>\n",
       "      <td>In the beginning, God created the heavens and ...</td>\n",
       "      <td>NaN</td>\n",
       "      <td>NaN</td>\n",
       "      <td>NaN</td>\n",
       "      <td>NaN</td>\n",
       "      <td>102.256</td>\n",
       "      <td>2023</td>\n",
       "      <td>10</td>\n",
       "      <td>0</td>\n",
       "      <td>1</td>\n",
       "      <td>2023-10-24</td>\n",
       "    </tr>\n",
       "    <tr>\n",
       "      <th>2</th>\n",
       "      <td>1.698121e+09</td>\n",
       "      <td>2023-10-24T00:18:06.165502</td>\n",
       "      <td>2023-10-24T04:18:06.165502+00:00</td>\n",
       "      <td>135</td>\n",
       "      <td>13.997536</td>\n",
       "      <td>9.644554</td>\n",
       "      <td>115.734653</td>\n",
       "      <td>GEN</td>\n",
       "      <td>1</td>\n",
       "      <td>2</td>\n",
       "      <td>The earth was formless and empty. Darkness was...</td>\n",
       "      <td>NaN</td>\n",
       "      <td>NaN</td>\n",
       "      <td>NaN</td>\n",
       "      <td>NaN</td>\n",
       "      <td>108.995</td>\n",
       "      <td>2023</td>\n",
       "      <td>10</td>\n",
       "      <td>0</td>\n",
       "      <td>1</td>\n",
       "      <td>2023-10-24</td>\n",
       "    </tr>\n",
       "    <tr>\n",
       "      <th>3</th>\n",
       "      <td>1.698121e+09</td>\n",
       "      <td>2023-10-24T00:18:24.381290</td>\n",
       "      <td>2023-10-24T04:18:24.381290+00:00</td>\n",
       "      <td>56</td>\n",
       "      <td>4.714291</td>\n",
       "      <td>11.878774</td>\n",
       "      <td>142.545292</td>\n",
       "      <td>GEN</td>\n",
       "      <td>1</td>\n",
       "      <td>1</td>\n",
       "      <td>In the beginning, God created the heavens and ...</td>\n",
       "      <td>NaN</td>\n",
       "      <td>NaN</td>\n",
       "      <td>NaN</td>\n",
       "      <td>NaN</td>\n",
       "      <td>120.179</td>\n",
       "      <td>2023</td>\n",
       "      <td>10</td>\n",
       "      <td>0</td>\n",
       "      <td>1</td>\n",
       "      <td>2023-10-24</td>\n",
       "    </tr>\n",
       "    <tr>\n",
       "      <th>4</th>\n",
       "      <td>1.698121e+09</td>\n",
       "      <td>2023-10-24T00:21:24.331389</td>\n",
       "      <td>2023-10-24T04:21:24.331389+00:00</td>\n",
       "      <td>56</td>\n",
       "      <td>4.878704</td>\n",
       "      <td>11.478458</td>\n",
       "      <td>137.741497</td>\n",
       "      <td>GEN</td>\n",
       "      <td>1</td>\n",
       "      <td>1</td>\n",
       "      <td>In the beginning, God created the heavens and ...</td>\n",
       "      <td>NaN</td>\n",
       "      <td>NaN</td>\n",
       "      <td>NaN</td>\n",
       "      <td>NaN</td>\n",
       "      <td>124.569</td>\n",
       "      <td>2023</td>\n",
       "      <td>10</td>\n",
       "      <td>0</td>\n",
       "      <td>1</td>\n",
       "      <td>2023-10-24</td>\n",
       "    </tr>\n",
       "    <tr>\n",
       "      <th>5</th>\n",
       "      <td>1.698121e+09</td>\n",
       "      <td>2023-10-24T00:22:03.749152</td>\n",
       "      <td>2023-10-24T04:22:03.749152+00:00</td>\n",
       "      <td>135</td>\n",
       "      <td>19.078445</td>\n",
       "      <td>7.076048</td>\n",
       "      <td>84.912580</td>\n",
       "      <td>GEN</td>\n",
       "      <td>1</td>\n",
       "      <td>2</td>\n",
       "      <td>The earth was formless and empty. Darkness was...</td>\n",
       "      <td>NaN</td>\n",
       "      <td>NaN</td>\n",
       "      <td>NaN</td>\n",
       "      <td>NaN</td>\n",
       "      <td>116.638</td>\n",
       "      <td>2023</td>\n",
       "      <td>10</td>\n",
       "      <td>0</td>\n",
       "      <td>1</td>\n",
       "      <td>2023-10-24</td>\n",
       "    </tr>\n",
       "    <tr>\n",
       "      <th>...</th>\n",
       "      <td>...</td>\n",
       "      <td>...</td>\n",
       "      <td>...</td>\n",
       "      <td>...</td>\n",
       "      <td>...</td>\n",
       "      <td>...</td>\n",
       "      <td>...</td>\n",
       "      <td>...</td>\n",
       "      <td>...</td>\n",
       "      <td>...</td>\n",
       "      <td>...</td>\n",
       "      <td>...</td>\n",
       "      <td>...</td>\n",
       "      <td>...</td>\n",
       "      <td>...</td>\n",
       "      <td>...</td>\n",
       "      <td>...</td>\n",
       "      <td>...</td>\n",
       "      <td>...</td>\n",
       "      <td>...</td>\n",
       "      <td>...</td>\n",
       "    </tr>\n",
       "    <tr>\n",
       "      <th>455</th>\n",
       "      <td>1.699071e+09</td>\n",
       "      <td>2023-11-04T00:05:58.617988</td>\n",
       "      <td>2023-11-04T04:05:58.617988+00:00</td>\n",
       "      <td>118</td>\n",
       "      <td>11.562374</td>\n",
       "      <td>10.205517</td>\n",
       "      <td>122.466203</td>\n",
       "      <td>GEN</td>\n",
       "      <td>12</td>\n",
       "      <td>305</td>\n",
       "      <td>Abram passed through the land to the place of ...</td>\n",
       "      <td>6.0</td>\n",
       "      <td>132.666257</td>\n",
       "      <td>132.210892</td>\n",
       "      <td>NaN</td>\n",
       "      <td>135.337</td>\n",
       "      <td>2023</td>\n",
       "      <td>11</td>\n",
       "      <td>0</td>\n",
       "      <td>1</td>\n",
       "      <td>2023-11-04</td>\n",
       "    </tr>\n",
       "    <tr>\n",
       "      <th>456</th>\n",
       "      <td>1.699071e+09</td>\n",
       "      <td>2023-11-04T00:06:11.680379</td>\n",
       "      <td>2023-11-04T04:06:11.680379+00:00</td>\n",
       "      <td>137</td>\n",
       "      <td>11.562335</td>\n",
       "      <td>11.848818</td>\n",
       "      <td>142.185816</td>\n",
       "      <td>GEN</td>\n",
       "      <td>12</td>\n",
       "      <td>306</td>\n",
       "      <td>Yahweh appeared to Abram and said, \"I will giv...</td>\n",
       "      <td>7.0</td>\n",
       "      <td>136.273657</td>\n",
       "      <td>132.008614</td>\n",
       "      <td>NaN</td>\n",
       "      <td>135.352</td>\n",
       "      <td>2023</td>\n",
       "      <td>11</td>\n",
       "      <td>0</td>\n",
       "      <td>1</td>\n",
       "      <td>2023-11-04</td>\n",
       "    </tr>\n",
       "    <tr>\n",
       "      <th>457</th>\n",
       "      <td>1.699071e+09</td>\n",
       "      <td>2023-11-04T00:06:24.081392</td>\n",
       "      <td>2023-11-04T04:06:24.081392+00:00</td>\n",
       "      <td>194</td>\n",
       "      <td>16.993672</td>\n",
       "      <td>11.416014</td>\n",
       "      <td>136.992171</td>\n",
       "      <td>GEN</td>\n",
       "      <td>12</td>\n",
       "      <td>307</td>\n",
       "      <td>He left from there to go to the mountain on th...</td>\n",
       "      <td>8.0</td>\n",
       "      <td>134.820701</td>\n",
       "      <td>131.732027</td>\n",
       "      <td>NaN</td>\n",
       "      <td>135.355</td>\n",
       "      <td>2023</td>\n",
       "      <td>11</td>\n",
       "      <td>0</td>\n",
       "      <td>1</td>\n",
       "      <td>2023-11-04</td>\n",
       "    </tr>\n",
       "    <tr>\n",
       "      <th>458</th>\n",
       "      <td>1.699071e+09</td>\n",
       "      <td>2023-11-04T00:06:49.969858</td>\n",
       "      <td>2023-11-04T04:06:49.969858+00:00</td>\n",
       "      <td>48</td>\n",
       "      <td>3.751017</td>\n",
       "      <td>12.796529</td>\n",
       "      <td>153.558351</td>\n",
       "      <td>GEN</td>\n",
       "      <td>12</td>\n",
       "      <td>308</td>\n",
       "      <td>Abram traveled, still going on toward the South.</td>\n",
       "      <td>9.0</td>\n",
       "      <td>137.840247</td>\n",
       "      <td>131.875672</td>\n",
       "      <td>NaN</td>\n",
       "      <td>135.395</td>\n",
       "      <td>2023</td>\n",
       "      <td>11</td>\n",
       "      <td>0</td>\n",
       "      <td>1</td>\n",
       "      <td>2023-11-04</td>\n",
       "    </tr>\n",
       "    <tr>\n",
       "      <th>459</th>\n",
       "      <td>1.699071e+09</td>\n",
       "      <td>2023-11-04T00:11:38.511409</td>\n",
       "      <td>2023-11-04T04:11:38.511409+00:00</td>\n",
       "      <td>127</td>\n",
       "      <td>10.637932</td>\n",
       "      <td>11.938411</td>\n",
       "      <td>143.260926</td>\n",
       "      <td>GEN</td>\n",
       "      <td>12</td>\n",
       "      <td>309</td>\n",
       "      <td>There was a famine in the land. Abram went dow...</td>\n",
       "      <td>10.0</td>\n",
       "      <td>136.687821</td>\n",
       "      <td>132.145708</td>\n",
       "      <td>NaN</td>\n",
       "      <td>135.412</td>\n",
       "      <td>2023</td>\n",
       "      <td>11</td>\n",
       "      <td>0</td>\n",
       "      <td>1</td>\n",
       "      <td>2023-11-04</td>\n",
       "    </tr>\n",
       "  </tbody>\n",
       "</table>\n",
       "<p>459 rows × 21 columns</p>\n",
       "</div>"
      ],
      "text/plain": [
       "             Unix_Start_Time            Local_Start_Time  \\\n",
       "Test_Number                                                \n",
       "1               1.698121e+09  2023-10-24T00:17:38.017017   \n",
       "2               1.698121e+09  2023-10-24T00:18:06.165502   \n",
       "3               1.698121e+09  2023-10-24T00:18:24.381290   \n",
       "4               1.698121e+09  2023-10-24T00:21:24.331389   \n",
       "5               1.698121e+09  2023-10-24T00:22:03.749152   \n",
       "...                      ...                         ...   \n",
       "455             1.699071e+09  2023-11-04T00:05:58.617988   \n",
       "456             1.699071e+09  2023-11-04T00:06:11.680379   \n",
       "457             1.699071e+09  2023-11-04T00:06:24.081392   \n",
       "458             1.699071e+09  2023-11-04T00:06:49.969858   \n",
       "459             1.699071e+09  2023-11-04T00:11:38.511409   \n",
       "\n",
       "                               UTC_Start_Time  Characters    Seconds  \\\n",
       "Test_Number                                                            \n",
       "1            2023-10-24T04:17:38.017017+00:00          56   6.571754   \n",
       "2            2023-10-24T04:18:06.165502+00:00         135  13.997536   \n",
       "3            2023-10-24T04:18:24.381290+00:00          56   4.714291   \n",
       "4            2023-10-24T04:21:24.331389+00:00          56   4.878704   \n",
       "5            2023-10-24T04:22:03.749152+00:00         135  19.078445   \n",
       "...                                       ...         ...        ...   \n",
       "455          2023-11-04T04:05:58.617988+00:00         118  11.562374   \n",
       "456          2023-11-04T04:06:11.680379+00:00         137  11.562335   \n",
       "457          2023-11-04T04:06:24.081392+00:00         194  16.993672   \n",
       "458          2023-11-04T04:06:49.969858+00:00          48   3.751017   \n",
       "459          2023-11-04T04:11:38.511409+00:00         127  10.637932   \n",
       "\n",
       "                   CPS         WPM Book  Chapter  Verse_Order  \\\n",
       "Test_Number                                                     \n",
       "1             8.521317  102.255799  GEN        1            1   \n",
       "2             9.644554  115.734653  GEN        1            2   \n",
       "3            11.878774  142.545292  GEN        1            1   \n",
       "4            11.478458  137.741497  GEN        1            1   \n",
       "5             7.076048   84.912580  GEN        1            2   \n",
       "...                ...         ...  ...      ...          ...   \n",
       "455          10.205517  122.466203  GEN       12          305   \n",
       "456          11.848818  142.185816  GEN       12          306   \n",
       "457          11.416014  136.992171  GEN       12          307   \n",
       "458          12.796529  153.558351  GEN       12          308   \n",
       "459          11.938411  143.260926  GEN       12          309   \n",
       "\n",
       "                                                         Verse  Verse #  \\\n",
       "Test_Number                                                               \n",
       "1            In the beginning, God created the heavens and ...      NaN   \n",
       "2            The earth was formless and empty. Darkness was...      NaN   \n",
       "3            In the beginning, God created the heavens and ...      NaN   \n",
       "4            In the beginning, God created the heavens and ...      NaN   \n",
       "5            The earth was formless and empty. Darkness was...      NaN   \n",
       "...                                                        ...      ...   \n",
       "455          Abram passed through the land to the place of ...      6.0   \n",
       "456          Yahweh appeared to Abram and said, \"I will giv...      7.0   \n",
       "457          He left from there to go to the mountain on th...      8.0   \n",
       "458           Abram traveled, still going on toward the South.      9.0   \n",
       "459          There was a famine in the land. Abram went dow...     10.0   \n",
       "\n",
       "             Last 10 Avg  Last 100 Avg  Last 1000 Avg  cumulative_avg  \\\n",
       "Test_Number                                                             \n",
       "1                    NaN           NaN            NaN         102.256   \n",
       "2                    NaN           NaN            NaN         108.995   \n",
       "3                    NaN           NaN            NaN         120.179   \n",
       "4                    NaN           NaN            NaN         124.569   \n",
       "5                    NaN           NaN            NaN         116.638   \n",
       "...                  ...           ...            ...             ...   \n",
       "455           132.666257    132.210892            NaN         135.337   \n",
       "456           136.273657    132.008614            NaN         135.352   \n",
       "457           134.820701    131.732027            NaN         135.355   \n",
       "458           137.840247    131.875672            NaN         135.395   \n",
       "459           136.687821    132.145708            NaN         135.412   \n",
       "\n",
       "             Local_Year  Local_Month  Local_Hour  Count  Local_Date  \n",
       "Test_Number                                                          \n",
       "1                  2023           10           0      1  2023-10-24  \n",
       "2                  2023           10           0      1  2023-10-24  \n",
       "3                  2023           10           0      1  2023-10-24  \n",
       "4                  2023           10           0      1  2023-10-24  \n",
       "5                  2023           10           0      1  2023-10-24  \n",
       "...                 ...          ...         ...    ...         ...  \n",
       "455                2023           11           0      1  2023-11-04  \n",
       "456                2023           11           0      1  2023-11-04  \n",
       "457                2023           11           0      1  2023-11-04  \n",
       "458                2023           11           0      1  2023-11-04  \n",
       "459                2023           11           0      1  2023-11-04  \n",
       "\n",
       "[459 rows x 21 columns]"
      ]
     },
     "execution_count": 5,
     "metadata": {},
     "output_type": "execute_result"
    }
   ],
   "source": [
    "df_results = pd.read_csv('results.csv', index_col='Test_Number')\n",
    "df_results"
   ]
  },
  {
   "cell_type": "code",
   "execution_count": 6,
   "metadata": {},
   "outputs": [],
   "source": [
    "# If you ever need to drop a particular result,\n",
    "# you can do so as follows:\n",
    "# df_results.drop(17, inplace = True)\n",
    "# df_results.to_csv('results.csv') # We want to preserve the index so as not\n",
    "# to lose our 'Test_Number' values\n",
    "# df_results"
   ]
  },
  {
   "cell_type": "code",
   "execution_count": 7,
   "metadata": {},
   "outputs": [
    {
     "data": {
      "text/plain": [
       "(0.7508842945098877, 750884)"
      ]
     },
     "execution_count": 7,
     "metadata": {},
     "output_type": "execute_result"
    }
   ],
   "source": [
    "# Creating an RNG seed:\n",
    "# In order to make the RNG values a bit more random, the following code will\n",
    "# derive the RNG seed from the decimal component of the current timestamp.\n",
    "# This seed will change 1 million times each second.\n",
    "\n",
    "# Using the decimal component of time.time() to select an RNG seed:\n",
    "current_time = time.time()\n",
    "decimal_component = current_time - int(current_time) # This \n",
    "# line retrieves the decimal component of current_time. int() is used instead\n",
    "# of np.round() so that the code won't ever round current_time up prior\n",
    "# to the subtraction operation, which would return a different value.\n",
    "# I don't think that converting current_time to an integer (e.g. via\n",
    "# np.int64(current_time)) is necessary, as int() appears to handle at least \n",
    "# some integers larger than 32 bits in size just fine.\n",
    "decimal_component\n",
    "random_seed = round(decimal_component * 1000000)\n",
    "decimal_component, random_seed"
   ]
  },
  {
   "cell_type": "code",
   "execution_count": 8,
   "metadata": {},
   "outputs": [],
   "source": [
    "rng = np.random.default_rng(random_seed) # Based on\n",
    "# https://numpy.org/doc/stable/reference/random/index.html?highlight=random#module-numpy.random"
   ]
  },
  {
   "cell_type": "code",
   "execution_count": 9,
   "metadata": {},
   "outputs": [
    {
     "data": {
      "text/html": [
       "<div>\n",
       "<style scoped>\n",
       "    .dataframe tbody tr th:only-of-type {\n",
       "        vertical-align: middle;\n",
       "    }\n",
       "\n",
       "    .dataframe tbody tr th {\n",
       "        vertical-align: top;\n",
       "    }\n",
       "\n",
       "    .dataframe thead th {\n",
       "        text-align: right;\n",
       "    }\n",
       "</style>\n",
       "<table border=\"1\" class=\"dataframe\">\n",
       "  <thead>\n",
       "    <tr style=\"text-align: right;\">\n",
       "      <th></th>\n",
       "      <th>Book_Order</th>\n",
       "      <th>Book_Name</th>\n",
       "      <th>Chapter_Name</th>\n",
       "      <th>Book_and_Chapter</th>\n",
       "      <th>Chapter_Order</th>\n",
       "      <th>Verse_#</th>\n",
       "      <th>Verse_Order</th>\n",
       "      <th>Verse</th>\n",
       "      <th>Characters</th>\n",
       "      <th>Typed</th>\n",
       "      <th>Tests</th>\n",
       "      <th>Fastest_WPM</th>\n",
       "      <th>Characters_Typed</th>\n",
       "      <th>Total_Characters_Typed</th>\n",
       "      <th>Count</th>\n",
       "    </tr>\n",
       "  </thead>\n",
       "  <tbody>\n",
       "    <tr>\n",
       "      <th>0</th>\n",
       "      <td>1</td>\n",
       "      <td>GEN</td>\n",
       "      <td>1</td>\n",
       "      <td>GEN 1</td>\n",
       "      <td>1</td>\n",
       "      <td>1</td>\n",
       "      <td>1</td>\n",
       "      <td>In the beginning, God created the heavens and ...</td>\n",
       "      <td>56</td>\n",
       "      <td>1</td>\n",
       "      <td>8</td>\n",
       "      <td>193.251509</td>\n",
       "      <td>56</td>\n",
       "      <td>448</td>\n",
       "      <td>1</td>\n",
       "    </tr>\n",
       "    <tr>\n",
       "      <th>1</th>\n",
       "      <td>1</td>\n",
       "      <td>GEN</td>\n",
       "      <td>1</td>\n",
       "      <td>GEN 1</td>\n",
       "      <td>1</td>\n",
       "      <td>2</td>\n",
       "      <td>2</td>\n",
       "      <td>The earth was formless and empty. Darkness was...</td>\n",
       "      <td>135</td>\n",
       "      <td>1</td>\n",
       "      <td>2</td>\n",
       "      <td>140.461827</td>\n",
       "      <td>135</td>\n",
       "      <td>270</td>\n",
       "      <td>1</td>\n",
       "    </tr>\n",
       "    <tr>\n",
       "      <th>2</th>\n",
       "      <td>1</td>\n",
       "      <td>GEN</td>\n",
       "      <td>1</td>\n",
       "      <td>GEN 1</td>\n",
       "      <td>1</td>\n",
       "      <td>3</td>\n",
       "      <td>3</td>\n",
       "      <td>God said, \"Let there be light,\" and there was ...</td>\n",
       "      <td>52</td>\n",
       "      <td>1</td>\n",
       "      <td>1</td>\n",
       "      <td>84.008493</td>\n",
       "      <td>52</td>\n",
       "      <td>52</td>\n",
       "      <td>1</td>\n",
       "    </tr>\n",
       "    <tr>\n",
       "      <th>3</th>\n",
       "      <td>1</td>\n",
       "      <td>GEN</td>\n",
       "      <td>1</td>\n",
       "      <td>GEN 1</td>\n",
       "      <td>1</td>\n",
       "      <td>4</td>\n",
       "      <td>4</td>\n",
       "      <td>God saw the light, and saw that it was good. G...</td>\n",
       "      <td>85</td>\n",
       "      <td>1</td>\n",
       "      <td>1</td>\n",
       "      <td>123.198378</td>\n",
       "      <td>85</td>\n",
       "      <td>85</td>\n",
       "      <td>1</td>\n",
       "    </tr>\n",
       "    <tr>\n",
       "      <th>4</th>\n",
       "      <td>1</td>\n",
       "      <td>GEN</td>\n",
       "      <td>1</td>\n",
       "      <td>GEN 1</td>\n",
       "      <td>1</td>\n",
       "      <td>5</td>\n",
       "      <td>5</td>\n",
       "      <td>God called the light \"day\", and the darkness h...</td>\n",
       "      <td>119</td>\n",
       "      <td>1</td>\n",
       "      <td>1</td>\n",
       "      <td>135.664272</td>\n",
       "      <td>119</td>\n",
       "      <td>119</td>\n",
       "      <td>1</td>\n",
       "    </tr>\n",
       "    <tr>\n",
       "      <th>...</th>\n",
       "      <td>...</td>\n",
       "      <td>...</td>\n",
       "      <td>...</td>\n",
       "      <td>...</td>\n",
       "      <td>...</td>\n",
       "      <td>...</td>\n",
       "      <td>...</td>\n",
       "      <td>...</td>\n",
       "      <td>...</td>\n",
       "      <td>...</td>\n",
       "      <td>...</td>\n",
       "      <td>...</td>\n",
       "      <td>...</td>\n",
       "      <td>...</td>\n",
       "      <td>...</td>\n",
       "    </tr>\n",
       "    <tr>\n",
       "      <th>35374</th>\n",
       "      <td>95</td>\n",
       "      <td>REV</td>\n",
       "      <td>22</td>\n",
       "      <td>REV 22</td>\n",
       "      <td>1328</td>\n",
       "      <td>17</td>\n",
       "      <td>35375</td>\n",
       "      <td>The Spirit and the bride say, \"Come!\" He who h...</td>\n",
       "      <td>160</td>\n",
       "      <td>0</td>\n",
       "      <td>0</td>\n",
       "      <td>NaN</td>\n",
       "      <td>0</td>\n",
       "      <td>0</td>\n",
       "      <td>1</td>\n",
       "    </tr>\n",
       "    <tr>\n",
       "      <th>35375</th>\n",
       "      <td>95</td>\n",
       "      <td>REV</td>\n",
       "      <td>22</td>\n",
       "      <td>REV 22</td>\n",
       "      <td>1328</td>\n",
       "      <td>18</td>\n",
       "      <td>35376</td>\n",
       "      <td>I testify to everyone who hears the words of t...</td>\n",
       "      <td>159</td>\n",
       "      <td>0</td>\n",
       "      <td>0</td>\n",
       "      <td>NaN</td>\n",
       "      <td>0</td>\n",
       "      <td>0</td>\n",
       "      <td>1</td>\n",
       "    </tr>\n",
       "    <tr>\n",
       "      <th>35376</th>\n",
       "      <td>95</td>\n",
       "      <td>REV</td>\n",
       "      <td>22</td>\n",
       "      <td>REV 22</td>\n",
       "      <td>1328</td>\n",
       "      <td>19</td>\n",
       "      <td>35377</td>\n",
       "      <td>If anyone takes away from the words of the boo...</td>\n",
       "      <td>174</td>\n",
       "      <td>0</td>\n",
       "      <td>0</td>\n",
       "      <td>NaN</td>\n",
       "      <td>0</td>\n",
       "      <td>0</td>\n",
       "      <td>1</td>\n",
       "    </tr>\n",
       "    <tr>\n",
       "      <th>35377</th>\n",
       "      <td>95</td>\n",
       "      <td>REV</td>\n",
       "      <td>22</td>\n",
       "      <td>REV 22</td>\n",
       "      <td>1328</td>\n",
       "      <td>20</td>\n",
       "      <td>35378</td>\n",
       "      <td>He who testifies these things says, \"Yes, I am...</td>\n",
       "      <td>89</td>\n",
       "      <td>0</td>\n",
       "      <td>0</td>\n",
       "      <td>NaN</td>\n",
       "      <td>0</td>\n",
       "      <td>0</td>\n",
       "      <td>1</td>\n",
       "    </tr>\n",
       "    <tr>\n",
       "      <th>35378</th>\n",
       "      <td>95</td>\n",
       "      <td>REV</td>\n",
       "      <td>22</td>\n",
       "      <td>REV 22</td>\n",
       "      <td>1328</td>\n",
       "      <td>21</td>\n",
       "      <td>35379</td>\n",
       "      <td>The grace of the Lord Jesus Christ be with all...</td>\n",
       "      <td>64</td>\n",
       "      <td>1</td>\n",
       "      <td>1</td>\n",
       "      <td>161.093106</td>\n",
       "      <td>64</td>\n",
       "      <td>64</td>\n",
       "      <td>1</td>\n",
       "    </tr>\n",
       "  </tbody>\n",
       "</table>\n",
       "<p>35379 rows × 15 columns</p>\n",
       "</div>"
      ],
      "text/plain": [
       "       Book_Order Book_Name  Chapter_Name Book_and_Chapter  Chapter_Order  \\\n",
       "0               1       GEN             1            GEN 1              1   \n",
       "1               1       GEN             1            GEN 1              1   \n",
       "2               1       GEN             1            GEN 1              1   \n",
       "3               1       GEN             1            GEN 1              1   \n",
       "4               1       GEN             1            GEN 1              1   \n",
       "...           ...       ...           ...              ...            ...   \n",
       "35374          95       REV            22           REV 22           1328   \n",
       "35375          95       REV            22           REV 22           1328   \n",
       "35376          95       REV            22           REV 22           1328   \n",
       "35377          95       REV            22           REV 22           1328   \n",
       "35378          95       REV            22           REV 22           1328   \n",
       "\n",
       "       Verse_#  Verse_Order  \\\n",
       "0            1            1   \n",
       "1            2            2   \n",
       "2            3            3   \n",
       "3            4            4   \n",
       "4            5            5   \n",
       "...        ...          ...   \n",
       "35374       17        35375   \n",
       "35375       18        35376   \n",
       "35376       19        35377   \n",
       "35377       20        35378   \n",
       "35378       21        35379   \n",
       "\n",
       "                                                   Verse  Characters  Typed  \\\n",
       "0      In the beginning, God created the heavens and ...          56      1   \n",
       "1      The earth was formless and empty. Darkness was...         135      1   \n",
       "2      God said, \"Let there be light,\" and there was ...          52      1   \n",
       "3      God saw the light, and saw that it was good. G...          85      1   \n",
       "4      God called the light \"day\", and the darkness h...         119      1   \n",
       "...                                                  ...         ...    ...   \n",
       "35374  The Spirit and the bride say, \"Come!\" He who h...         160      0   \n",
       "35375  I testify to everyone who hears the words of t...         159      0   \n",
       "35376  If anyone takes away from the words of the boo...         174      0   \n",
       "35377  He who testifies these things says, \"Yes, I am...          89      0   \n",
       "35378  The grace of the Lord Jesus Christ be with all...          64      1   \n",
       "\n",
       "       Tests  Fastest_WPM  Characters_Typed  Total_Characters_Typed  Count  \n",
       "0          8   193.251509                56                     448      1  \n",
       "1          2   140.461827               135                     270      1  \n",
       "2          1    84.008493                52                      52      1  \n",
       "3          1   123.198378                85                      85      1  \n",
       "4          1   135.664272               119                     119      1  \n",
       "...      ...          ...               ...                     ...    ...  \n",
       "35374      0          NaN                 0                       0      1  \n",
       "35375      0          NaN                 0                       0      1  \n",
       "35376      0          NaN                 0                       0      1  \n",
       "35377      0          NaN                 0                       0      1  \n",
       "35378      1   161.093106                64                      64      1  \n",
       "\n",
       "[35379 rows x 15 columns]"
      ]
     },
     "execution_count": 9,
     "metadata": {},
     "output_type": "execute_result"
    }
   ],
   "source": [
    "df_Bible"
   ]
  },
  {
   "cell_type": "markdown",
   "metadata": {},
   "source": [
    "[This fantastic answer](https://stackoverflow.com/a/23294659/13097194) by Kevin at Stack Overflow proved helpful in implementing user validation code within this program. "
   ]
  },
  {
   "cell_type": "code",
   "execution_count": 10,
   "metadata": {},
   "outputs": [],
   "source": [
    "def select_verse():\n",
    "    print(\"Select a verse to type! Enter 0 to receive a random verse\\n\\\n",
    "or enter a verse number (see 'Verse_Order column of\\n\\\n",
    "the WEB_Catholic_Version.csv spreadsheet for a list of numbers to enter\\n\\\n",
    "to select a specific verse.\\n\\\n",
    "You can also enter -2 to receive a random verse that you haven't yet typed\\n\\\n",
    "or -3 to choose the first Bible verse that hasn't yet been typed.\")\n",
    "    while True:\n",
    "        try:\n",
    "            response = int(input())\n",
    "        except:\n",
    "            print(\"Please enter an integer corresponding to a particular Bible \\\n",
    "verse or 0 for a randomly selected verse.\")\n",
    "            continue # Allows the user to retry entering a number\n",
    "\n",
    "        if response == 0:\n",
    "            return rng.integers(1, 35380) # Selects any verse within the Bible.\n",
    "            # there are 35,379 verses present, so we'll pass 1 (the first verse)\n",
    "            # and 35,380 (1 more than the last verse, as rng.integers won't \n",
    "            # include the final number within the range) to rng.integers().\n",
    "        # The next two elif statements will require us to determine which \n",
    "        # verses haven't yet been typed. We can do so by filtering df_Bible\n",
    "        # to include only untyped verses.\n",
    "        elif response == -2:\n",
    "            verses_not_yet_typed = list(\n",
    "                df_Bible.query(\"Typed == 0\")['Verse_Order'].copy())\n",
    "            if len(verses_not_yet_typed) == 0:\n",
    "                print(\"Congratulations! You have typed all verses from \\\n",
    "the Bible, so there are no new verses to type! Try selecting another option \\\n",
    "instead.\")\n",
    "                continue\n",
    "            print(f\"{len(verses_not_yet_typed)} verses have not yet \\\n",
    "been typed.\")\n",
    "            return rng.choice(verses_not_yet_typed) # Chooses one of these\n",
    "            # untyped verses at random\n",
    "        elif response == -3:\n",
    "            verses_not_yet_typed = list(\n",
    "                df_Bible.query(\"Typed == 0\")['Verse_Order'].copy())\n",
    "            if len(verses_not_yet_typed) == 0:\n",
    "                print(\"Congratulations! You have typed all verses from \\\n",
    "the Bible, so there are no new verses to type! Try selecting another option \\\n",
    "instead.\")\n",
    "                continue\n",
    "            print(f\"{len(verses_not_yet_typed)} verses have not yet \\\n",
    "been typed.\")\n",
    "            verses_not_yet_typed.sort() # Probably not necessary, as df_Bible\n",
    "            # is already sorted from the first to the last verse.\n",
    "            return verses_not_yet_typed[0]\n",
    "        \n",
    "        else:\n",
    "            if ((response >= 1) \n",
    "            & (response <= 35379)): # Making sure that the response is \n",
    "                # an integer between 1 and 35,379 (inclusive) so that it \n",
    "                # matches one of the Bible verse numbers present:                    \n",
    "                return response\n",
    "            else: # Will be called if a non-integer number was passed\n",
    "                    # or if the integer didn't correspond to a Bible verse\n",
    "                    # number. \n",
    "                print(\"Please enter an integer between 1 and 35,379.\") # Since\n",
    "                # we're still within a While loop, the user will be returned\n",
    "                # to the initial try/except block.\n"
   ]
  },
  {
   "cell_type": "code",
   "execution_count": 11,
   "metadata": {},
   "outputs": [],
   "source": [
    "def run_typing_test(verse_number, results_table):\n",
    "    '''This function calculates how quickly the user types the characters\n",
    "    passed to the Bible verse represented by verse_number, then saves those \n",
    "    results to the DataFrame passed to results_table.'''\n",
    "\n",
    "    # Retrieving the verse to be typed:\n",
    "    # The index begins at 0 whereas the list of verse numbers begins at 1,\n",
    "    # so we'll need to subtract 1 from verse_number in order to obtain\n",
    "    # the verse's index.\n",
    "    verse = df_Bible.iloc[verse_number-1]['Verse']\n",
    "    book = df_Bible.iloc[verse_number-1]['Book_Name']\n",
    "    chapter = df_Bible.iloc[verse_number-1]['Chapter_Name']\n",
    "    verse_number_within_chapter = df_Bible.iloc[verse_number-1]['Verse_#']\n",
    "    verse_number_within_Bible = df_Bible.iloc[\n",
    "        verse_number-1]['Verse_Order']\n",
    "    \n",
    "    # I moved these introductory comments out of the following while loop\n",
    "    # in order to simplify the dialogue presented to users during retest\n",
    "    # attempts.\n",
    "    print(\"Welcome to the typing test! Note that you can exit a test in \\\n",
    "progress by entering 'exit.'\")\n",
    "    print(f\"\\nYour verse to type is {book} \\\n",
    "{chapter}:{verse_number_within_chapter} (verse {verse_number_within_Bible} \\\n",
    "within the Bible .csv file).\\n\")\n",
    "    if run_on_notebook == False:\n",
    "        print(\"Press any key to begin typing!\")\n",
    "    else:\n",
    "        print(\"Press Enter to begin the test!\")\n",
    "    \n",
    "    complete_flag = 0\n",
    "    while complete_flag == 0:\n",
    "        print(f\"Here is the verse:\\n\\n{verse}\") \n",
    "\n",
    "        if run_on_notebook == False: # In this case, we can use getch()\n",
    "            # to begin the test.\n",
    "        # time.sleep(3) # I realized that players could actually begin typing\n",
    "        # during this sleep period, thus allowing them to complete the test\n",
    "        # faster than intended. Therefore, I'm now having the test start\n",
    "        # after the player hits a character of his/her choice. getch()\n",
    "        # accomplishes this task well.\n",
    "        # A simpler approach would be to add in an additional input block\n",
    "        # and have the player begin after he/she presses Enter, but that would\n",
    "        # cause the player's right hand to leave the default home row position,\n",
    "        # which could end up slowing him/her down. getch() allows any character\n",
    "        # to be pressed (such as the space bar) and thus avoids this issue.\n",
    "\n",
    "            start_character = getch() # See https://github.com/joeyespo/py-getch\n",
    "        \n",
    "        else: # When running the program within a Jupyter notebook, I wasn't\n",
    "            # able to enter input after getch() was called, so I created\n",
    "            # an alternative start method below that simply uses input().\n",
    "            input()\n",
    "\n",
    "        print(\"Start!\")\n",
    "        local_start_time = datetime.now().isoformat()\n",
    "        utc_start_time = datetime.now(timezone.utc).isoformat()\n",
    "        typing_start_time = time.time()\n",
    "        verse_response = input() \n",
    "        # The following code will execute once the player finishes typing and\n",
    "        # hits Enter. (Having the program evaluate the player's entry only after\n",
    "        # 'Enter' is pressed isn't the best option, as the time required to\n",
    "        # hit Enter will reduce the player's reported WPM. In the future,\n",
    "        # I might revise this code so that the text can get evaluated\n",
    "        # immediately when the player has typed all characters of the text.\n",
    "        # (Counting the characters as the player types would be one way\n",
    "        # to implement this revision.)\n",
    "\n",
    "        typing_end_time = time.time()\n",
    "        typing_time = typing_end_time - typing_start_time\n",
    "        if verse_response == verse:\n",
    "            print(f\"Well done! You typed the verse correctly.\")\n",
    "            complete_flag = 1 # Setting this flag to 1 allows the player to exit\n",
    "            # out of the while statement.\n",
    "        elif verse_response.lower() == 'exit':\n",
    "            print(\"Exiting typing test.\")\n",
    "            return results_table # Exits the function without saving the \n",
    "            # current test to results_table or df_Bible\n",
    "        else:\n",
    "            print(\"Sorry, that wasn't the correct input.\")   \n",
    "            # Identifying incorrectly typed words:\n",
    "            verse_words = verse.split(' ')\n",
    "            verse_response_words = verse_response.split(' ')[0:len(verse_words)]\n",
    "            # I added in the [0:len(verse_words)] filter so that the following\n",
    "            # for loop would not attempt to access more words that were \n",
    "            # present in the original verse (which would cause the game\n",
    "            # to crash with an IndexError).\n",
    "            for i in range(len(verse_response_words)):\n",
    "                if verse_response_words[i] != verse_words[i]:\n",
    "                    print(f\"Word number {i} ('{verse_words[i]}') \\\n",
    "was typed '{verse_response_words[i]}'.\")\n",
    "                    # If the response has more or fewer words than the original\n",
    "                    # verse, some correctly typed words might appear within\n",
    "                    # this list also.\n",
    "            print(\"Try again!\")\n",
    "\n",
    "    # Calculating typing statistics and storing them within a single-row\n",
    "    # DataFrame:\n",
    "\n",
    "    cps = len(verse) / typing_time # Calculating characters per second\n",
    "    wpm = cps * 12 # Multiplying by 60 to convert from characters to minutes, \n",
    "    # then dividing by 5 to convert from characters to words.\n",
    "    wpm\n",
    "\n",
    "    print(f\"Your CPS and WPM were {round(cps, 3)} and {round(wpm, 3)}, \\\n",
    "respectively.\")\n",
    "\n",
    "    # Creating a single-row DataFrame that stores the player's results:\n",
    "    df_latest_result = pd.DataFrame(index = [\n",
    "        len(results_table)+1], data = {'Unix_Start_Time':typing_start_time, \n",
    "    'Local_Start_Time':local_start_time,\n",
    "    'UTC_Start_Time':utc_start_time,\n",
    "    'Characters':len(verse),\n",
    "    'Seconds':typing_time, \n",
    "    'CPS': cps,\n",
    "    'WPM':wpm,\n",
    "    'Book': book,\n",
    "    'Chapter': chapter,\n",
    "    'Verse #': verse_number_within_chapter,\n",
    "    'Verse':verse, \n",
    "    'Verse_Order':verse_number_within_Bible})\n",
    "    df_latest_result.index.name = 'Test_Number'\n",
    "    df_latest_result\n",
    "\n",
    "    # Adding this new row to results_table:\n",
    "    results_table = pd.concat([results_table, df_latest_result])\\\n",
    "    \n",
    "    # Note: I could also have used df.at or df.iloc to add a new row\n",
    "    # to df_latest_result, but I chose a pd.concat() setup in order to ensure\n",
    "    # that the latest result would never overwrite an earlier result.\n",
    "    \n",
    "\n",
    "    # Updating df_Bible to store the player's results: (This will allow the\n",
    "    # player to track how much of the Bible he/she has typed so far)\n",
    "    df_Bible.at[verse_number-1, 'Typed'] = 1 # Denotes that this verse\n",
    "    # has now ben typed\n",
    "    df_Bible.at[verse_number-1, 'Tests'] += 1 # Keeps track of how \n",
    "    # many times this verse has been typed\n",
    "    fastest_wpm = df_Bible.at[verse_number-1, 'Fastest_WPM']\n",
    "    if ((pd.isna(fastest_wpm) == True) | (wpm > fastest_wpm)): \n",
    "        # In these cases, we should replace the pre-existing Fastest_WPM value\n",
    "        # with the WPM the player just achieved.\n",
    "        # I found that 5 > np.NaN returned False, so if I only checked for\n",
    "        # wpm > fastest_wpm, blank fastest_wpm values would never get overwritten.\n",
    "        # Therefore, I chose to also check for NaN values \n",
    "        # in the above if statement.\n",
    "        df_Bible.at[verse_number-1, 'Fastest_WPM'] = wpm\n",
    "\n",
    "    return results_table\n"
   ]
  },
  {
   "cell_type": "code",
   "execution_count": 12,
   "metadata": {},
   "outputs": [],
   "source": [
    "# run_typing_test(1, results_table=df_results)"
   ]
  },
  {
   "cell_type": "code",
   "execution_count": 13,
   "metadata": {},
   "outputs": [],
   "source": [
    "def select_subsequent_verse(previous_verse_number):\n",
    "    '''This function allows the player to specify which verse to\n",
    "    type next, or, alternatively, to exit the game.'''\n",
    "    print(\"Press 0 to retry the verse you just typed; \\\n",
    "1 to type the next verse; 2 to type the next verse that hasn't yet been typed; \\\n",
    "3 to select a different verse; \\\n",
    "or -1 to save your results and exit.\")\n",
    "    while True: \n",
    "            try:\n",
    "                response = int(input())\n",
    "            except: # The user didn't enter a number.\n",
    "                print(\"Please enter a number.\")      \n",
    "                continue\n",
    "            if response == 0:\n",
    "                return previous_verse_number\n",
    "            elif response == 1:\n",
    "                if previous_verse_number == 35379: # The verse order value\n",
    "                    # corresponding to the final verse of Revelation\n",
    "                    print(\"You just typed the last verse in the Bible, so \\\n",
    "there's no next verse to type! Please enter an option other than 1.\\n\")\n",
    "                    continue\n",
    "                else:\n",
    "                    return previous_verse_number + 1\n",
    "            elif response == 2:\n",
    "                # In this case, we'll retrieve a list of verses that haven't\n",
    "                # yet been typed; filter that list to include only verses\n",
    "                # greater than previous_verse_number; and then select\n",
    "                # the first verse within that list (i.e. the next \n",
    "                # untyped verse).\n",
    "                verses_not_yet_typed = list(df_Bible.query(\n",
    "                    \"Typed == 0\")['Verse_Order'].copy())\n",
    "                if len(verses_not_yet_typed) == 0:\n",
    "                    print(\"Congratulations! You have typed all verses from \\\n",
    "the Bible, so there are no new verses to type! Try selecting another option \\\n",
    "instead.\")\n",
    "                    continue\n",
    "                print(f\"{len(verses_not_yet_typed)} verses have not yet \\\n",
    "been typed.\")\n",
    "                verses_not_yet_typed.sort() \n",
    "                next_untyped_verses = [verse for verse in verses_not_yet_typed \n",
    "                if verse > previous_verse_number]\n",
    "                return next_untyped_verses[0]\n",
    "            elif response == 3:\n",
    "                return select_verse()\n",
    "            elif response == -1:\n",
    "                return response\n",
    "            else: # A number other than -1, 0, 1, 2, or 3 was passed.\n",
    "                print(\"Please enter either -1, 0, 1, 2, or 3.\\n\")  "
   ]
  },
  {
   "cell_type": "code",
   "execution_count": 14,
   "metadata": {},
   "outputs": [],
   "source": [
    "def calculate_current_day_results(df):\n",
    "    ''' This function reports the number of characters, total verses, and \n",
    "    unique verses that the player has typed so far today.'''\n",
    "    df_current_day_results = df[pd.to_datetime(\n",
    "        df['Local_Start_Time']).dt.date == datetime.today().date()].copy()\n",
    "    if len(df_current_day_results) == 0:\n",
    "        result_string = \"You haven't typed any Bible verses yet today.\"\n",
    "    else:\n",
    "        characters_typed_today = df_current_day_results['Characters'].sum()\n",
    "        total_verses_typed_today = len(df_current_day_results)\n",
    "\n",
    "        # Allowing for both singular and plural versions of 'verse' to \n",
    "        # be displayed:\n",
    "        if total_verses_typed_today == 1:\n",
    "            total_verses_string = 'verse'\n",
    "        else:\n",
    "            total_verses_string = 'verses'\n",
    "\n",
    "        unique_verses_typed_today = len(df_current_day_results[\n",
    "            'Verse_Order'].unique())\n",
    "\n",
    "        if unique_verses_typed_today == 1:\n",
    "            unique_verses_string = 'verse'\n",
    "        else:\n",
    "            unique_verses_string = 'verses'\n",
    "\n",
    "        average_wpm_today = round(df_current_day_results['WPM'].mean(), 3)\n",
    "        median_wpm_today = round(df_current_day_results['WPM'].median(), 3)\n",
    "        result_string = f\"So far today, you have typed \\\n",
    "{characters_typed_today} characters from {total_verses_typed_today} Bible \\\n",
    "{total_verses_string} (including {unique_verses_typed_today} unique \\\n",
    "{unique_verses_string}). Your mean and median WPM today are \\\n",
    "{average_wpm_today} and {median_wpm_today}, respectively.\"\n",
    "    return result_string"
   ]
  },
  {
   "cell_type": "code",
   "execution_count": 15,
   "metadata": {},
   "outputs": [],
   "source": [
    "def run_game(results_table):\n",
    "    '''This function runs Type Through the Bible by \n",
    "    calling various other functions. It allows users to select\n",
    "    verses to type, then runs typing tests and stores the results in\n",
    "    the DataFrame passed to results_table.'''\n",
    "    \n",
    "    print(\"Welcome to Type Through the Bible!\")\n",
    "    # The game will now share the player's progress for the current day:\n",
    "    print(calculate_current_day_results(results_table))\n",
    "    verse_number = select_verse()\n",
    "    \n",
    "    while True: # Allows the game to continue until the user exits\n",
    "        results_table = run_typing_test(verse_number=verse_number, \n",
    "        results_table=results_table)\n",
    "        # The game will next share an updated progress report:\n",
    "        print(calculate_current_day_results(results_table))\n",
    "        \n",
    "        # The player will now be prompted to select a new verse number \n",
    "        # (or to save and quit). This verse_number, provided it is not -1,\n",
    "        # will then be passed back to run_typing_test().\n",
    "        verse_number = select_subsequent_verse(\n",
    "            previous_verse_number=verse_number)\n",
    "        if verse_number == -1: # In this case, the game will quit and the \n",
    "            # user's new test results will be saved to results_table.\n",
    "            return results_table "
   ]
  },
  {
   "cell_type": "code",
   "execution_count": 16,
   "metadata": {},
   "outputs": [
    {
     "name": "stdout",
     "output_type": "stream",
     "text": [
      "Welcome to Type Through the Bible!\n",
      "So far today, you have typed 2082 characters from 17 Bible verses (including 16 unique verses). Your mean and median WPM today are 133.905 and 136.992, respectively.\n",
      "Select a verse to type! Enter 0 to receive a random verse\n",
      "or enter a verse number (see 'Verse_Order column of\n",
      "the WEB_Catholic_Version.csv spreadsheet for a list of numbers to enter\n",
      "to select a specific verse.\n",
      "You can also enter -2 to receive a random verse that you haven't yet typed\n",
      "or -3 to choose the first Bible verse that hasn't yet been typed.\n",
      "34936 verses have not yet been typed.\n",
      "Welcome to the typing test! Note that you can exit a test in progress by entering 'exit.'\n",
      "\n",
      "Your verse to type is GEN 12:11 (verse 310 within the Bible .csv file).\n",
      "\n",
      "Press Enter to begin the test!\n",
      "Here is the verse:\n",
      "\n",
      "When he had come near to enter Egypt, he said to Sarai his wife, \"See now, I know that you are a beautiful woman to look at.\n",
      "Start!\n",
      "Sorry, that wasn't the correct input.\n",
      "Word number 0 ('When') was typed 'aosenthu'.\n",
      "Try again!\n",
      "Here is the verse:\n",
      "\n",
      "When he had come near to enter Egypt, he said to Sarai his wife, \"See now, I know that you are a beautiful woman to look at.\n",
      "Start!\n",
      "Well done! You typed the verse correctly.\n",
      "Your CPS and WPM were 11.33 and 135.955, respectively.\n",
      "So far today, you have typed 2206 characters from 18 Bible verses (including 17 unique verses). Your mean and median WPM today are 134.019 and 136.474, respectively.\n",
      "Press 0 to retry the verse you just typed; 1 to type the next verse; 2 to type the next verse that hasn't yet been typed; 3 to select a different verse; or -1 to save your results and exit.\n",
      "Please enter a number.\n",
      "34935 verses have not yet been typed.\n",
      "Welcome to the typing test! Note that you can exit a test in progress by entering 'exit.'\n",
      "\n",
      "Your verse to type is GEN 12:12 (verse 311 within the Bible .csv file).\n",
      "\n",
      "Press Enter to begin the test!\n",
      "Here is the verse:\n",
      "\n",
      "It will happen that when the Egyptians see you, they will say, 'This is his wife.' They will kill me, but they will save you alive.\n",
      "Start!\n",
      "Sorry, that wasn't the correct input.\n",
      "Word number 0 ('It') was typed ''.\n",
      "Try again!\n",
      "Here is the verse:\n",
      "\n",
      "It will happen that when the Egyptians see you, they will say, 'This is his wife.' They will kill me, but they will save you alive.\n",
      "Start!\n",
      "Sorry, that wasn't the correct input.\n",
      "Word number 0 ('It') was typed ''.\n",
      "Try again!\n",
      "Here is the verse:\n",
      "\n",
      "It will happen that when the Egyptians see you, they will say, 'This is his wife.' They will kill me, but they will save you alive.\n",
      "Start!\n",
      "Sorry, that wasn't the correct input.\n",
      "Word number 0 ('It') was typed 'oeaushtn'.\n",
      "Try again!\n",
      "Here is the verse:\n",
      "\n",
      "It will happen that when the Egyptians see you, they will say, 'This is his wife.' They will kill me, but they will save you alive.\n",
      "Start!\n",
      "Well done! You typed the verse correctly.\n",
      "Your CPS and WPM were 9.337 and 112.045, respectively.\n",
      "So far today, you have typed 2337 characters from 19 Bible verses (including 18 unique verses). Your mean and median WPM today are 132.863 and 135.955, respectively.\n",
      "Press 0 to retry the verse you just typed; 1 to type the next verse; 2 to type the next verse that hasn't yet been typed; 3 to select a different verse; or -1 to save your results and exit.\n"
     ]
    }
   ],
   "source": [
    "df_results = run_game(results_table = df_results)"
   ]
  },
  {
   "cell_type": "code",
   "execution_count": 17,
   "metadata": {},
   "outputs": [],
   "source": [
    "# Updating certain df_Bible columns to reflect new results:"
   ]
  },
  {
   "cell_type": "code",
   "execution_count": 18,
   "metadata": {},
   "outputs": [
    {
     "data": {
      "text/html": [
       "<div>\n",
       "<style scoped>\n",
       "    .dataframe tbody tr th:only-of-type {\n",
       "        vertical-align: middle;\n",
       "    }\n",
       "\n",
       "    .dataframe tbody tr th {\n",
       "        vertical-align: top;\n",
       "    }\n",
       "\n",
       "    .dataframe thead th {\n",
       "        text-align: right;\n",
       "    }\n",
       "</style>\n",
       "<table border=\"1\" class=\"dataframe\">\n",
       "  <thead>\n",
       "    <tr style=\"text-align: right;\">\n",
       "      <th></th>\n",
       "      <th>Book_Order</th>\n",
       "      <th>Book_Name</th>\n",
       "      <th>Chapter_Name</th>\n",
       "      <th>Book_and_Chapter</th>\n",
       "      <th>Chapter_Order</th>\n",
       "      <th>Verse_#</th>\n",
       "      <th>Verse_Order</th>\n",
       "      <th>Verse</th>\n",
       "      <th>Characters</th>\n",
       "      <th>Typed</th>\n",
       "      <th>Tests</th>\n",
       "      <th>Fastest_WPM</th>\n",
       "      <th>Characters_Typed</th>\n",
       "      <th>Total_Characters_Typed</th>\n",
       "      <th>Count</th>\n",
       "    </tr>\n",
       "  </thead>\n",
       "  <tbody>\n",
       "    <tr>\n",
       "      <th>0</th>\n",
       "      <td>1</td>\n",
       "      <td>GEN</td>\n",
       "      <td>1</td>\n",
       "      <td>GEN 1</td>\n",
       "      <td>1</td>\n",
       "      <td>1</td>\n",
       "      <td>1</td>\n",
       "      <td>In the beginning, God created the heavens and ...</td>\n",
       "      <td>56</td>\n",
       "      <td>1</td>\n",
       "      <td>8</td>\n",
       "      <td>193.251509</td>\n",
       "      <td>56</td>\n",
       "      <td>448</td>\n",
       "      <td>1</td>\n",
       "    </tr>\n",
       "    <tr>\n",
       "      <th>1</th>\n",
       "      <td>1</td>\n",
       "      <td>GEN</td>\n",
       "      <td>1</td>\n",
       "      <td>GEN 1</td>\n",
       "      <td>1</td>\n",
       "      <td>2</td>\n",
       "      <td>2</td>\n",
       "      <td>The earth was formless and empty. Darkness was...</td>\n",
       "      <td>135</td>\n",
       "      <td>1</td>\n",
       "      <td>2</td>\n",
       "      <td>140.461827</td>\n",
       "      <td>135</td>\n",
       "      <td>270</td>\n",
       "      <td>1</td>\n",
       "    </tr>\n",
       "    <tr>\n",
       "      <th>2</th>\n",
       "      <td>1</td>\n",
       "      <td>GEN</td>\n",
       "      <td>1</td>\n",
       "      <td>GEN 1</td>\n",
       "      <td>1</td>\n",
       "      <td>3</td>\n",
       "      <td>3</td>\n",
       "      <td>God said, \"Let there be light,\" and there was ...</td>\n",
       "      <td>52</td>\n",
       "      <td>1</td>\n",
       "      <td>1</td>\n",
       "      <td>84.008493</td>\n",
       "      <td>52</td>\n",
       "      <td>52</td>\n",
       "      <td>1</td>\n",
       "    </tr>\n",
       "    <tr>\n",
       "      <th>3</th>\n",
       "      <td>1</td>\n",
       "      <td>GEN</td>\n",
       "      <td>1</td>\n",
       "      <td>GEN 1</td>\n",
       "      <td>1</td>\n",
       "      <td>4</td>\n",
       "      <td>4</td>\n",
       "      <td>God saw the light, and saw that it was good. G...</td>\n",
       "      <td>85</td>\n",
       "      <td>1</td>\n",
       "      <td>1</td>\n",
       "      <td>123.198378</td>\n",
       "      <td>85</td>\n",
       "      <td>85</td>\n",
       "      <td>1</td>\n",
       "    </tr>\n",
       "    <tr>\n",
       "      <th>4</th>\n",
       "      <td>1</td>\n",
       "      <td>GEN</td>\n",
       "      <td>1</td>\n",
       "      <td>GEN 1</td>\n",
       "      <td>1</td>\n",
       "      <td>5</td>\n",
       "      <td>5</td>\n",
       "      <td>God called the light \"day\", and the darkness h...</td>\n",
       "      <td>119</td>\n",
       "      <td>1</td>\n",
       "      <td>1</td>\n",
       "      <td>135.664272</td>\n",
       "      <td>119</td>\n",
       "      <td>119</td>\n",
       "      <td>1</td>\n",
       "    </tr>\n",
       "    <tr>\n",
       "      <th>...</th>\n",
       "      <td>...</td>\n",
       "      <td>...</td>\n",
       "      <td>...</td>\n",
       "      <td>...</td>\n",
       "      <td>...</td>\n",
       "      <td>...</td>\n",
       "      <td>...</td>\n",
       "      <td>...</td>\n",
       "      <td>...</td>\n",
       "      <td>...</td>\n",
       "      <td>...</td>\n",
       "      <td>...</td>\n",
       "      <td>...</td>\n",
       "      <td>...</td>\n",
       "      <td>...</td>\n",
       "    </tr>\n",
       "    <tr>\n",
       "      <th>35374</th>\n",
       "      <td>95</td>\n",
       "      <td>REV</td>\n",
       "      <td>22</td>\n",
       "      <td>REV 22</td>\n",
       "      <td>1328</td>\n",
       "      <td>17</td>\n",
       "      <td>35375</td>\n",
       "      <td>The Spirit and the bride say, \"Come!\" He who h...</td>\n",
       "      <td>160</td>\n",
       "      <td>0</td>\n",
       "      <td>0</td>\n",
       "      <td>NaN</td>\n",
       "      <td>0</td>\n",
       "      <td>0</td>\n",
       "      <td>1</td>\n",
       "    </tr>\n",
       "    <tr>\n",
       "      <th>35375</th>\n",
       "      <td>95</td>\n",
       "      <td>REV</td>\n",
       "      <td>22</td>\n",
       "      <td>REV 22</td>\n",
       "      <td>1328</td>\n",
       "      <td>18</td>\n",
       "      <td>35376</td>\n",
       "      <td>I testify to everyone who hears the words of t...</td>\n",
       "      <td>159</td>\n",
       "      <td>0</td>\n",
       "      <td>0</td>\n",
       "      <td>NaN</td>\n",
       "      <td>0</td>\n",
       "      <td>0</td>\n",
       "      <td>1</td>\n",
       "    </tr>\n",
       "    <tr>\n",
       "      <th>35376</th>\n",
       "      <td>95</td>\n",
       "      <td>REV</td>\n",
       "      <td>22</td>\n",
       "      <td>REV 22</td>\n",
       "      <td>1328</td>\n",
       "      <td>19</td>\n",
       "      <td>35377</td>\n",
       "      <td>If anyone takes away from the words of the boo...</td>\n",
       "      <td>174</td>\n",
       "      <td>0</td>\n",
       "      <td>0</td>\n",
       "      <td>NaN</td>\n",
       "      <td>0</td>\n",
       "      <td>0</td>\n",
       "      <td>1</td>\n",
       "    </tr>\n",
       "    <tr>\n",
       "      <th>35377</th>\n",
       "      <td>95</td>\n",
       "      <td>REV</td>\n",
       "      <td>22</td>\n",
       "      <td>REV 22</td>\n",
       "      <td>1328</td>\n",
       "      <td>20</td>\n",
       "      <td>35378</td>\n",
       "      <td>He who testifies these things says, \"Yes, I am...</td>\n",
       "      <td>89</td>\n",
       "      <td>0</td>\n",
       "      <td>0</td>\n",
       "      <td>NaN</td>\n",
       "      <td>0</td>\n",
       "      <td>0</td>\n",
       "      <td>1</td>\n",
       "    </tr>\n",
       "    <tr>\n",
       "      <th>35378</th>\n",
       "      <td>95</td>\n",
       "      <td>REV</td>\n",
       "      <td>22</td>\n",
       "      <td>REV 22</td>\n",
       "      <td>1328</td>\n",
       "      <td>21</td>\n",
       "      <td>35379</td>\n",
       "      <td>The grace of the Lord Jesus Christ be with all...</td>\n",
       "      <td>64</td>\n",
       "      <td>1</td>\n",
       "      <td>1</td>\n",
       "      <td>161.093106</td>\n",
       "      <td>64</td>\n",
       "      <td>64</td>\n",
       "      <td>1</td>\n",
       "    </tr>\n",
       "  </tbody>\n",
       "</table>\n",
       "<p>35379 rows × 15 columns</p>\n",
       "</div>"
      ],
      "text/plain": [
       "       Book_Order Book_Name  Chapter_Name Book_and_Chapter  Chapter_Order  \\\n",
       "0               1       GEN             1            GEN 1              1   \n",
       "1               1       GEN             1            GEN 1              1   \n",
       "2               1       GEN             1            GEN 1              1   \n",
       "3               1       GEN             1            GEN 1              1   \n",
       "4               1       GEN             1            GEN 1              1   \n",
       "...           ...       ...           ...              ...            ...   \n",
       "35374          95       REV            22           REV 22           1328   \n",
       "35375          95       REV            22           REV 22           1328   \n",
       "35376          95       REV            22           REV 22           1328   \n",
       "35377          95       REV            22           REV 22           1328   \n",
       "35378          95       REV            22           REV 22           1328   \n",
       "\n",
       "       Verse_#  Verse_Order  \\\n",
       "0            1            1   \n",
       "1            2            2   \n",
       "2            3            3   \n",
       "3            4            4   \n",
       "4            5            5   \n",
       "...        ...          ...   \n",
       "35374       17        35375   \n",
       "35375       18        35376   \n",
       "35376       19        35377   \n",
       "35377       20        35378   \n",
       "35378       21        35379   \n",
       "\n",
       "                                                   Verse  Characters  Typed  \\\n",
       "0      In the beginning, God created the heavens and ...          56      1   \n",
       "1      The earth was formless and empty. Darkness was...         135      1   \n",
       "2      God said, \"Let there be light,\" and there was ...          52      1   \n",
       "3      God saw the light, and saw that it was good. G...          85      1   \n",
       "4      God called the light \"day\", and the darkness h...         119      1   \n",
       "...                                                  ...         ...    ...   \n",
       "35374  The Spirit and the bride say, \"Come!\" He who h...         160      0   \n",
       "35375  I testify to everyone who hears the words of t...         159      0   \n",
       "35376  If anyone takes away from the words of the boo...         174      0   \n",
       "35377  He who testifies these things says, \"Yes, I am...          89      0   \n",
       "35378  The grace of the Lord Jesus Christ be with all...          64      1   \n",
       "\n",
       "       Tests  Fastest_WPM  Characters_Typed  Total_Characters_Typed  Count  \n",
       "0          8   193.251509                56                     448      1  \n",
       "1          2   140.461827               135                     270      1  \n",
       "2          1    84.008493                52                      52      1  \n",
       "3          1   123.198378                85                      85      1  \n",
       "4          1   135.664272               119                     119      1  \n",
       "...      ...          ...               ...                     ...    ...  \n",
       "35374      0          NaN                 0                       0      1  \n",
       "35375      0          NaN                 0                       0      1  \n",
       "35376      0          NaN                 0                       0      1  \n",
       "35377      0          NaN                 0                       0      1  \n",
       "35378      1   161.093106                64                      64      1  \n",
       "\n",
       "[35379 rows x 15 columns]"
      ]
     },
     "execution_count": 18,
     "metadata": {},
     "output_type": "execute_result"
    }
   ],
   "source": [
    "df_Bible['Characters_Typed'] = df_Bible['Characters'] * df_Bible['Typed']\n",
    "df_Bible['Total_Characters_Typed'] = df_Bible['Characters'] * df_Bible['Tests']\n",
    "df_Bible"
   ]
  },
  {
   "cell_type": "code",
   "execution_count": 19,
   "metadata": {},
   "outputs": [
    {
     "name": "stdout",
     "output_type": "stream",
     "text": [
      "You have typed 50531 characters so far, which represents 1.12088% of the Bible.\n"
     ]
    }
   ],
   "source": [
    "characters_typed_sum = df_Bible['Characters_Typed'].sum()\n",
    "proportion_of_Bible_typed = characters_typed_sum / df_Bible['Characters'].sum()\n",
    "\n",
    "print(f\"You have typed {characters_typed_sum} characters so far, which represents \\\n",
    "{round(100*proportion_of_Bible_typed, 5)}% of the Bible.\")\n",
    "\n"
   ]
  },
  {
   "cell_type": "markdown",
   "metadata": {},
   "source": [
    "# Adding in additional values and statistics to df_results:\n",
    "\n",
    "(The following cell was derived from [this script](https://github.com/kburchfiel/typeracer_data_analyzer/blob/master/typeracer_data_analyzer_v2.ipynb) that I wrote.)\n",
    "\n",
    "These statistics will get recreated whenever the script is run; this approach allows for the results to be revised as needed (e.g. if certain rows are removed from the dataset)."
   ]
  },
  {
   "cell_type": "code",
   "execution_count": 20,
   "metadata": {},
   "outputs": [
    {
     "data": {
      "text/html": [
       "<div>\n",
       "<style scoped>\n",
       "    .dataframe tbody tr th:only-of-type {\n",
       "        vertical-align: middle;\n",
       "    }\n",
       "\n",
       "    .dataframe tbody tr th {\n",
       "        vertical-align: top;\n",
       "    }\n",
       "\n",
       "    .dataframe thead th {\n",
       "        text-align: right;\n",
       "    }\n",
       "</style>\n",
       "<table border=\"1\" class=\"dataframe\">\n",
       "  <thead>\n",
       "    <tr style=\"text-align: right;\">\n",
       "      <th></th>\n",
       "      <th>Unix_Start_Time</th>\n",
       "      <th>Local_Start_Time</th>\n",
       "      <th>UTC_Start_Time</th>\n",
       "      <th>Characters</th>\n",
       "      <th>Seconds</th>\n",
       "      <th>CPS</th>\n",
       "      <th>WPM</th>\n",
       "      <th>Book</th>\n",
       "      <th>Chapter</th>\n",
       "      <th>Verse_Order</th>\n",
       "      <th>Verse</th>\n",
       "      <th>Verse #</th>\n",
       "      <th>Last 10 Avg</th>\n",
       "      <th>Last 100 Avg</th>\n",
       "      <th>Last 1000 Avg</th>\n",
       "      <th>cumulative_avg</th>\n",
       "      <th>Local_Year</th>\n",
       "      <th>Local_Month</th>\n",
       "      <th>Local_Hour</th>\n",
       "      <th>Count</th>\n",
       "      <th>Local_Date</th>\n",
       "    </tr>\n",
       "    <tr>\n",
       "      <th>Test_Number</th>\n",
       "      <th></th>\n",
       "      <th></th>\n",
       "      <th></th>\n",
       "      <th></th>\n",
       "      <th></th>\n",
       "      <th></th>\n",
       "      <th></th>\n",
       "      <th></th>\n",
       "      <th></th>\n",
       "      <th></th>\n",
       "      <th></th>\n",
       "      <th></th>\n",
       "      <th></th>\n",
       "      <th></th>\n",
       "      <th></th>\n",
       "      <th></th>\n",
       "      <th></th>\n",
       "      <th></th>\n",
       "      <th></th>\n",
       "      <th></th>\n",
       "      <th></th>\n",
       "    </tr>\n",
       "  </thead>\n",
       "  <tbody>\n",
       "    <tr>\n",
       "      <th>1</th>\n",
       "      <td>1.698121e+09</td>\n",
       "      <td>2023-10-24T00:17:38.017017</td>\n",
       "      <td>2023-10-24T04:17:38.017017+00:00</td>\n",
       "      <td>56</td>\n",
       "      <td>6.571754</td>\n",
       "      <td>8.521317</td>\n",
       "      <td>102.255799</td>\n",
       "      <td>GEN</td>\n",
       "      <td>1</td>\n",
       "      <td>1</td>\n",
       "      <td>In the beginning, God created the heavens and ...</td>\n",
       "      <td>NaN</td>\n",
       "      <td>NaN</td>\n",
       "      <td>NaN</td>\n",
       "      <td>NaN</td>\n",
       "      <td>102.256</td>\n",
       "      <td>2023</td>\n",
       "      <td>10</td>\n",
       "      <td>0</td>\n",
       "      <td>1</td>\n",
       "      <td>2023-10-24</td>\n",
       "    </tr>\n",
       "    <tr>\n",
       "      <th>2</th>\n",
       "      <td>1.698121e+09</td>\n",
       "      <td>2023-10-24T00:18:06.165502</td>\n",
       "      <td>2023-10-24T04:18:06.165502+00:00</td>\n",
       "      <td>135</td>\n",
       "      <td>13.997536</td>\n",
       "      <td>9.644554</td>\n",
       "      <td>115.734653</td>\n",
       "      <td>GEN</td>\n",
       "      <td>1</td>\n",
       "      <td>2</td>\n",
       "      <td>The earth was formless and empty. Darkness was...</td>\n",
       "      <td>NaN</td>\n",
       "      <td>NaN</td>\n",
       "      <td>NaN</td>\n",
       "      <td>NaN</td>\n",
       "      <td>108.995</td>\n",
       "      <td>2023</td>\n",
       "      <td>10</td>\n",
       "      <td>0</td>\n",
       "      <td>1</td>\n",
       "      <td>2023-10-24</td>\n",
       "    </tr>\n",
       "    <tr>\n",
       "      <th>3</th>\n",
       "      <td>1.698121e+09</td>\n",
       "      <td>2023-10-24T00:18:24.381290</td>\n",
       "      <td>2023-10-24T04:18:24.381290+00:00</td>\n",
       "      <td>56</td>\n",
       "      <td>4.714291</td>\n",
       "      <td>11.878774</td>\n",
       "      <td>142.545292</td>\n",
       "      <td>GEN</td>\n",
       "      <td>1</td>\n",
       "      <td>1</td>\n",
       "      <td>In the beginning, God created the heavens and ...</td>\n",
       "      <td>NaN</td>\n",
       "      <td>NaN</td>\n",
       "      <td>NaN</td>\n",
       "      <td>NaN</td>\n",
       "      <td>120.179</td>\n",
       "      <td>2023</td>\n",
       "      <td>10</td>\n",
       "      <td>0</td>\n",
       "      <td>1</td>\n",
       "      <td>2023-10-24</td>\n",
       "    </tr>\n",
       "    <tr>\n",
       "      <th>4</th>\n",
       "      <td>1.698121e+09</td>\n",
       "      <td>2023-10-24T00:21:24.331389</td>\n",
       "      <td>2023-10-24T04:21:24.331389+00:00</td>\n",
       "      <td>56</td>\n",
       "      <td>4.878704</td>\n",
       "      <td>11.478458</td>\n",
       "      <td>137.741497</td>\n",
       "      <td>GEN</td>\n",
       "      <td>1</td>\n",
       "      <td>1</td>\n",
       "      <td>In the beginning, God created the heavens and ...</td>\n",
       "      <td>NaN</td>\n",
       "      <td>NaN</td>\n",
       "      <td>NaN</td>\n",
       "      <td>NaN</td>\n",
       "      <td>124.569</td>\n",
       "      <td>2023</td>\n",
       "      <td>10</td>\n",
       "      <td>0</td>\n",
       "      <td>1</td>\n",
       "      <td>2023-10-24</td>\n",
       "    </tr>\n",
       "    <tr>\n",
       "      <th>5</th>\n",
       "      <td>1.698121e+09</td>\n",
       "      <td>2023-10-24T00:22:03.749152</td>\n",
       "      <td>2023-10-24T04:22:03.749152+00:00</td>\n",
       "      <td>135</td>\n",
       "      <td>19.078445</td>\n",
       "      <td>7.076048</td>\n",
       "      <td>84.912580</td>\n",
       "      <td>GEN</td>\n",
       "      <td>1</td>\n",
       "      <td>2</td>\n",
       "      <td>The earth was formless and empty. Darkness was...</td>\n",
       "      <td>NaN</td>\n",
       "      <td>NaN</td>\n",
       "      <td>NaN</td>\n",
       "      <td>NaN</td>\n",
       "      <td>116.638</td>\n",
       "      <td>2023</td>\n",
       "      <td>10</td>\n",
       "      <td>0</td>\n",
       "      <td>1</td>\n",
       "      <td>2023-10-24</td>\n",
       "    </tr>\n",
       "    <tr>\n",
       "      <th>...</th>\n",
       "      <td>...</td>\n",
       "      <td>...</td>\n",
       "      <td>...</td>\n",
       "      <td>...</td>\n",
       "      <td>...</td>\n",
       "      <td>...</td>\n",
       "      <td>...</td>\n",
       "      <td>...</td>\n",
       "      <td>...</td>\n",
       "      <td>...</td>\n",
       "      <td>...</td>\n",
       "      <td>...</td>\n",
       "      <td>...</td>\n",
       "      <td>...</td>\n",
       "      <td>...</td>\n",
       "      <td>...</td>\n",
       "      <td>...</td>\n",
       "      <td>...</td>\n",
       "      <td>...</td>\n",
       "      <td>...</td>\n",
       "      <td>...</td>\n",
       "    </tr>\n",
       "    <tr>\n",
       "      <th>457</th>\n",
       "      <td>1.699071e+09</td>\n",
       "      <td>2023-11-04T00:06:24.081392</td>\n",
       "      <td>2023-11-04T04:06:24.081392+00:00</td>\n",
       "      <td>194</td>\n",
       "      <td>16.993672</td>\n",
       "      <td>11.416014</td>\n",
       "      <td>136.992171</td>\n",
       "      <td>GEN</td>\n",
       "      <td>12</td>\n",
       "      <td>307</td>\n",
       "      <td>He left from there to go to the mountain on th...</td>\n",
       "      <td>8.0</td>\n",
       "      <td>134.820701</td>\n",
       "      <td>131.732027</td>\n",
       "      <td>NaN</td>\n",
       "      <td>135.355</td>\n",
       "      <td>2023</td>\n",
       "      <td>11</td>\n",
       "      <td>0</td>\n",
       "      <td>1</td>\n",
       "      <td>2023-11-04</td>\n",
       "    </tr>\n",
       "    <tr>\n",
       "      <th>458</th>\n",
       "      <td>1.699071e+09</td>\n",
       "      <td>2023-11-04T00:06:49.969858</td>\n",
       "      <td>2023-11-04T04:06:49.969858+00:00</td>\n",
       "      <td>48</td>\n",
       "      <td>3.751017</td>\n",
       "      <td>12.796529</td>\n",
       "      <td>153.558351</td>\n",
       "      <td>GEN</td>\n",
       "      <td>12</td>\n",
       "      <td>308</td>\n",
       "      <td>Abram traveled, still going on toward the South.</td>\n",
       "      <td>9.0</td>\n",
       "      <td>137.840247</td>\n",
       "      <td>131.875672</td>\n",
       "      <td>NaN</td>\n",
       "      <td>135.395</td>\n",
       "      <td>2023</td>\n",
       "      <td>11</td>\n",
       "      <td>0</td>\n",
       "      <td>1</td>\n",
       "      <td>2023-11-04</td>\n",
       "    </tr>\n",
       "    <tr>\n",
       "      <th>459</th>\n",
       "      <td>1.699071e+09</td>\n",
       "      <td>2023-11-04T00:11:38.511409</td>\n",
       "      <td>2023-11-04T04:11:38.511409+00:00</td>\n",
       "      <td>127</td>\n",
       "      <td>10.637932</td>\n",
       "      <td>11.938411</td>\n",
       "      <td>143.260926</td>\n",
       "      <td>GEN</td>\n",
       "      <td>12</td>\n",
       "      <td>309</td>\n",
       "      <td>There was a famine in the land. Abram went dow...</td>\n",
       "      <td>10.0</td>\n",
       "      <td>136.687821</td>\n",
       "      <td>132.145708</td>\n",
       "      <td>NaN</td>\n",
       "      <td>135.412</td>\n",
       "      <td>2023</td>\n",
       "      <td>11</td>\n",
       "      <td>0</td>\n",
       "      <td>1</td>\n",
       "      <td>2023-11-04</td>\n",
       "    </tr>\n",
       "    <tr>\n",
       "      <th>460</th>\n",
       "      <td>1.699076e+09</td>\n",
       "      <td>2023-11-04T01:41:06.191332</td>\n",
       "      <td>2023-11-04T05:41:06.191332+00:00</td>\n",
       "      <td>124</td>\n",
       "      <td>10.944782</td>\n",
       "      <td>11.329600</td>\n",
       "      <td>135.955200</td>\n",
       "      <td>GEN</td>\n",
       "      <td>12</td>\n",
       "      <td>310</td>\n",
       "      <td>When he had come near to enter Egypt, he said ...</td>\n",
       "      <td>11.0</td>\n",
       "      <td>140.421645</td>\n",
       "      <td>131.915465</td>\n",
       "      <td>NaN</td>\n",
       "      <td>135.413</td>\n",
       "      <td>2023</td>\n",
       "      <td>11</td>\n",
       "      <td>1</td>\n",
       "      <td>1</td>\n",
       "      <td>2023-11-04</td>\n",
       "    </tr>\n",
       "    <tr>\n",
       "      <th>461</th>\n",
       "      <td>1.699077e+09</td>\n",
       "      <td>2023-11-04T01:42:06.396489</td>\n",
       "      <td>2023-11-04T05:42:06.396489+00:00</td>\n",
       "      <td>131</td>\n",
       "      <td>14.030099</td>\n",
       "      <td>9.337069</td>\n",
       "      <td>112.044823</td>\n",
       "      <td>GEN</td>\n",
       "      <td>12</td>\n",
       "      <td>311</td>\n",
       "      <td>It will happen that when the Egyptians see you...</td>\n",
       "      <td>12.0</td>\n",
       "      <td>136.448329</td>\n",
       "      <td>131.441319</td>\n",
       "      <td>NaN</td>\n",
       "      <td>135.363</td>\n",
       "      <td>2023</td>\n",
       "      <td>11</td>\n",
       "      <td>1</td>\n",
       "      <td>1</td>\n",
       "      <td>2023-11-04</td>\n",
       "    </tr>\n",
       "  </tbody>\n",
       "</table>\n",
       "<p>461 rows × 21 columns</p>\n",
       "</div>"
      ],
      "text/plain": [
       "             Unix_Start_Time            Local_Start_Time  \\\n",
       "Test_Number                                                \n",
       "1               1.698121e+09  2023-10-24T00:17:38.017017   \n",
       "2               1.698121e+09  2023-10-24T00:18:06.165502   \n",
       "3               1.698121e+09  2023-10-24T00:18:24.381290   \n",
       "4               1.698121e+09  2023-10-24T00:21:24.331389   \n",
       "5               1.698121e+09  2023-10-24T00:22:03.749152   \n",
       "...                      ...                         ...   \n",
       "457             1.699071e+09  2023-11-04T00:06:24.081392   \n",
       "458             1.699071e+09  2023-11-04T00:06:49.969858   \n",
       "459             1.699071e+09  2023-11-04T00:11:38.511409   \n",
       "460             1.699076e+09  2023-11-04T01:41:06.191332   \n",
       "461             1.699077e+09  2023-11-04T01:42:06.396489   \n",
       "\n",
       "                               UTC_Start_Time  Characters    Seconds  \\\n",
       "Test_Number                                                            \n",
       "1            2023-10-24T04:17:38.017017+00:00          56   6.571754   \n",
       "2            2023-10-24T04:18:06.165502+00:00         135  13.997536   \n",
       "3            2023-10-24T04:18:24.381290+00:00          56   4.714291   \n",
       "4            2023-10-24T04:21:24.331389+00:00          56   4.878704   \n",
       "5            2023-10-24T04:22:03.749152+00:00         135  19.078445   \n",
       "...                                       ...         ...        ...   \n",
       "457          2023-11-04T04:06:24.081392+00:00         194  16.993672   \n",
       "458          2023-11-04T04:06:49.969858+00:00          48   3.751017   \n",
       "459          2023-11-04T04:11:38.511409+00:00         127  10.637932   \n",
       "460          2023-11-04T05:41:06.191332+00:00         124  10.944782   \n",
       "461          2023-11-04T05:42:06.396489+00:00         131  14.030099   \n",
       "\n",
       "                   CPS         WPM Book  Chapter  Verse_Order  \\\n",
       "Test_Number                                                     \n",
       "1             8.521317  102.255799  GEN        1            1   \n",
       "2             9.644554  115.734653  GEN        1            2   \n",
       "3            11.878774  142.545292  GEN        1            1   \n",
       "4            11.478458  137.741497  GEN        1            1   \n",
       "5             7.076048   84.912580  GEN        1            2   \n",
       "...                ...         ...  ...      ...          ...   \n",
       "457          11.416014  136.992171  GEN       12          307   \n",
       "458          12.796529  153.558351  GEN       12          308   \n",
       "459          11.938411  143.260926  GEN       12          309   \n",
       "460          11.329600  135.955200  GEN       12          310   \n",
       "461           9.337069  112.044823  GEN       12          311   \n",
       "\n",
       "                                                         Verse  Verse #  \\\n",
       "Test_Number                                                               \n",
       "1            In the beginning, God created the heavens and ...      NaN   \n",
       "2            The earth was formless and empty. Darkness was...      NaN   \n",
       "3            In the beginning, God created the heavens and ...      NaN   \n",
       "4            In the beginning, God created the heavens and ...      NaN   \n",
       "5            The earth was formless and empty. Darkness was...      NaN   \n",
       "...                                                        ...      ...   \n",
       "457          He left from there to go to the mountain on th...      8.0   \n",
       "458           Abram traveled, still going on toward the South.      9.0   \n",
       "459          There was a famine in the land. Abram went dow...     10.0   \n",
       "460          When he had come near to enter Egypt, he said ...     11.0   \n",
       "461          It will happen that when the Egyptians see you...     12.0   \n",
       "\n",
       "             Last 10 Avg  Last 100 Avg  Last 1000 Avg  cumulative_avg  \\\n",
       "Test_Number                                                             \n",
       "1                    NaN           NaN            NaN         102.256   \n",
       "2                    NaN           NaN            NaN         108.995   \n",
       "3                    NaN           NaN            NaN         120.179   \n",
       "4                    NaN           NaN            NaN         124.569   \n",
       "5                    NaN           NaN            NaN         116.638   \n",
       "...                  ...           ...            ...             ...   \n",
       "457           134.820701    131.732027            NaN         135.355   \n",
       "458           137.840247    131.875672            NaN         135.395   \n",
       "459           136.687821    132.145708            NaN         135.412   \n",
       "460           140.421645    131.915465            NaN         135.413   \n",
       "461           136.448329    131.441319            NaN         135.363   \n",
       "\n",
       "             Local_Year  Local_Month  Local_Hour  Count  Local_Date  \n",
       "Test_Number                                                          \n",
       "1                  2023           10           0      1  2023-10-24  \n",
       "2                  2023           10           0      1  2023-10-24  \n",
       "3                  2023           10           0      1  2023-10-24  \n",
       "4                  2023           10           0      1  2023-10-24  \n",
       "5                  2023           10           0      1  2023-10-24  \n",
       "...                 ...          ...         ...    ...         ...  \n",
       "457                2023           11           0      1  2023-11-04  \n",
       "458                2023           11           0      1  2023-11-04  \n",
       "459                2023           11           0      1  2023-11-04  \n",
       "460                2023           11           1      1  2023-11-04  \n",
       "461                2023           11           1      1  2023-11-04  \n",
       "\n",
       "[461 rows x 21 columns]"
      ]
     },
     "execution_count": 20,
     "metadata": {},
     "output_type": "execute_result"
    }
   ],
   "source": [
    "df_results['Last 10 Avg'] = df_results['WPM'].rolling(10).mean()\n",
    "df_results['Last 100 Avg'] = df_results['WPM'].rolling(100).mean()\n",
    "df_results['Last 1000 Avg'] = df_results['WPM'].rolling(1000).mean()\n",
    "\n",
    "df_results['Local_Year'] = pd.to_datetime(df_results['Local_Start_Time']).dt.year\n",
    "df_results['Local_Month'] = pd.to_datetime(df_results['Local_Start_Time']).dt.month\n",
    "df_results['Local_Date'] = pd.to_datetime(df_results['Local_Start_Time']).dt.date\n",
    "df_results['Local_Hour'] = pd.to_datetime(df_results['Local_Start_Time']).dt.hour\n",
    "df_results['Count'] = 1 # Useful for pivot tables that analyze test counts\n",
    "# by book, month, etc.\n",
    "\n",
    "# The following line uses a list comprehension to generate a cumulative average\n",
    "# of all WPM scores up until the current race. .iloc searches from 0 to i+1 for\n",
    "# each row so that that row is included in the calculation.\n",
    "df_results['cumulative_avg'] = [round(np.mean(df_results.iloc[0:i+1]['WPM']),\n",
    "3) for i in range(len(df_results))]\n",
    "df_results"
   ]
  },
  {
   "cell_type": "code",
   "execution_count": 21,
   "metadata": {},
   "outputs": [
    {
     "name": "stdout",
     "output_type": "stream",
     "text": [
      "Saving results:\n"
     ]
    }
   ],
   "source": [
    "print(\"Saving results:\")"
   ]
  },
  {
   "cell_type": "code",
   "execution_count": 22,
   "metadata": {},
   "outputs": [],
   "source": [
    "def attempt_save(df, filename, index):\n",
    "    '''This function attempts to save the DataFrame passed to df to the file\n",
    "    specified by filename. It allows players to retry the save operation\n",
    "    if it wasn't initially successful (e.g. because the file was open at \n",
    "    the time), thus preventing them from losing their latest progress.\n",
    "    The index parameter determines whether or not the DataFrame's index\n",
    "    will be included in the .csv export. Set to True for results.csv\n",
    "    but False for Web_Catholic_Version_for_game_updated.csv.'''\n",
    "    while True:\n",
    "        try: \n",
    "            df.to_csv(filename, index = index)\n",
    "            return\n",
    "        except:\n",
    "            print(\"File could not be saved, likely because it is currently open. \\\n",
    "Try closing the file and trying again. Press Enter to retry.\")\n",
    "            input()"
   ]
  },
  {
   "cell_type": "code",
   "execution_count": 23,
   "metadata": {},
   "outputs": [],
   "source": [
    "attempt_save(df_results, 'results.csv', index = True)"
   ]
  },
  {
   "cell_type": "code",
   "execution_count": 24,
   "metadata": {},
   "outputs": [],
   "source": [
    "attempt_save(df_Bible, 'WEB_Catholic_Version_for_game_updated.csv', index = False)"
   ]
  },
  {
   "cell_type": "code",
   "execution_count": 25,
   "metadata": {},
   "outputs": [
    {
     "name": "stdout",
     "output_type": "stream",
     "text": [
      "Successfully saved updated copies of the Results and Bible .csv files.\n"
     ]
    }
   ],
   "source": [
    "print(\"Successfully saved updated copies of the Results and Bible .csv files.\")"
   ]
  },
  {
   "cell_type": "markdown",
   "metadata": {},
   "source": [
    "# Visualizing the player's progress in typing the entire Bible:"
   ]
  },
  {
   "cell_type": "code",
   "execution_count": 26,
   "metadata": {},
   "outputs": [
    {
     "name": "stdout",
     "output_type": "stream",
     "text": [
      "Updating analyses:\n"
     ]
    }
   ],
   "source": [
    "analysis_start_time = time.time() # Allows us to determine how long the\n",
    "# analyses took\n",
    "print(\"Updating analyses:\")"
   ]
  },
  {
   "cell_type": "code",
   "execution_count": 27,
   "metadata": {},
   "outputs": [],
   "source": [
    "df_Bible['Count'] = 1"
   ]
  },
  {
   "cell_type": "markdown",
   "metadata": {},
   "source": [
    "### Creating a tree map within Plotly that visualizes the player's progress in typing the entire Bible:"
   ]
  },
  {
   "cell_type": "code",
   "execution_count": 28,
   "metadata": {},
   "outputs": [],
   "source": [
    "# This code is based on https://plotly.com/python/treemaps/\n",
    "# It's pretty amazing that such a complex visualization can be created using\n",
    "# just one line of code. Thanks Plotly!\n",
    "fig_tree_map_books_chapters_verses = px.treemap(\n",
    "    df_Bible, path = ['Book_Name', 'Chapter_Name', 'Verse_#'], \n",
    "    values = 'Characters', color = 'Typed')\n",
    "# fig_verses_typed"
   ]
  },
  {
   "cell_type": "code",
   "execution_count": 29,
   "metadata": {},
   "outputs": [],
   "source": [
    "fig_tree_map_books_chapters_verses.write_html(\n",
    "    'Analyses/tree_map_books_chapters_verses.html')"
   ]
  },
  {
   "cell_type": "code",
   "execution_count": 30,
   "metadata": {},
   "outputs": [],
   "source": [
    "# # A similar chart that doesn't use the Typed column for color coding:\n",
    "# (This chart, unlike fig_verses_typed above, won't change unless edits are \n",
    "# made to the code itself, so it can be \n",
    "# commented out after being run once.)\n",
    "# fig_Bible_verses.write_html('Bible_tree_map.html')\n",
    "# fig_Bible_verses = px.treemap(df_Bible, path = ['Book_Name', \n",
    "# 'Chapter_Name', 'Verse_#'], values = 'Characters')\n",
    "# fig_Bible_verses"
   ]
  },
  {
   "cell_type": "code",
   "execution_count": 31,
   "metadata": {},
   "outputs": [
    {
     "data": {
      "text/html": [
       "<div>\n",
       "<style scoped>\n",
       "    .dataframe tbody tr th:only-of-type {\n",
       "        vertical-align: middle;\n",
       "    }\n",
       "\n",
       "    .dataframe tbody tr th {\n",
       "        vertical-align: top;\n",
       "    }\n",
       "\n",
       "    .dataframe thead th {\n",
       "        text-align: right;\n",
       "    }\n",
       "</style>\n",
       "<table border=\"1\" class=\"dataframe\">\n",
       "  <thead>\n",
       "    <tr style=\"text-align: right;\">\n",
       "      <th></th>\n",
       "      <th>Book_Order</th>\n",
       "      <th>Book_Name</th>\n",
       "      <th>Chapter_Name</th>\n",
       "      <th>Book_and_Chapter</th>\n",
       "      <th>Chapter_Order</th>\n",
       "      <th>Verse_#</th>\n",
       "      <th>Verse_Order</th>\n",
       "      <th>Verse</th>\n",
       "      <th>Characters</th>\n",
       "      <th>Typed</th>\n",
       "      <th>Tests</th>\n",
       "      <th>Fastest_WPM</th>\n",
       "      <th>Characters_Typed</th>\n",
       "      <th>Total_Characters_Typed</th>\n",
       "      <th>Count</th>\n",
       "    </tr>\n",
       "  </thead>\n",
       "  <tbody>\n",
       "    <tr>\n",
       "      <th>0</th>\n",
       "      <td>1</td>\n",
       "      <td>GEN</td>\n",
       "      <td>1</td>\n",
       "      <td>GEN 1</td>\n",
       "      <td>1</td>\n",
       "      <td>1</td>\n",
       "      <td>1</td>\n",
       "      <td>In the beginning, God created the heavens and ...</td>\n",
       "      <td>56</td>\n",
       "      <td>1</td>\n",
       "      <td>8</td>\n",
       "      <td>193.251509</td>\n",
       "      <td>56</td>\n",
       "      <td>448</td>\n",
       "      <td>1</td>\n",
       "    </tr>\n",
       "    <tr>\n",
       "      <th>1</th>\n",
       "      <td>1</td>\n",
       "      <td>GEN</td>\n",
       "      <td>1</td>\n",
       "      <td>GEN 1</td>\n",
       "      <td>1</td>\n",
       "      <td>2</td>\n",
       "      <td>2</td>\n",
       "      <td>The earth was formless and empty. Darkness was...</td>\n",
       "      <td>135</td>\n",
       "      <td>1</td>\n",
       "      <td>2</td>\n",
       "      <td>140.461827</td>\n",
       "      <td>135</td>\n",
       "      <td>270</td>\n",
       "      <td>1</td>\n",
       "    </tr>\n",
       "    <tr>\n",
       "      <th>2</th>\n",
       "      <td>1</td>\n",
       "      <td>GEN</td>\n",
       "      <td>1</td>\n",
       "      <td>GEN 1</td>\n",
       "      <td>1</td>\n",
       "      <td>3</td>\n",
       "      <td>3</td>\n",
       "      <td>God said, \"Let there be light,\" and there was ...</td>\n",
       "      <td>52</td>\n",
       "      <td>1</td>\n",
       "      <td>1</td>\n",
       "      <td>84.008493</td>\n",
       "      <td>52</td>\n",
       "      <td>52</td>\n",
       "      <td>1</td>\n",
       "    </tr>\n",
       "    <tr>\n",
       "      <th>3</th>\n",
       "      <td>1</td>\n",
       "      <td>GEN</td>\n",
       "      <td>1</td>\n",
       "      <td>GEN 1</td>\n",
       "      <td>1</td>\n",
       "      <td>4</td>\n",
       "      <td>4</td>\n",
       "      <td>God saw the light, and saw that it was good. G...</td>\n",
       "      <td>85</td>\n",
       "      <td>1</td>\n",
       "      <td>1</td>\n",
       "      <td>123.198378</td>\n",
       "      <td>85</td>\n",
       "      <td>85</td>\n",
       "      <td>1</td>\n",
       "    </tr>\n",
       "    <tr>\n",
       "      <th>4</th>\n",
       "      <td>1</td>\n",
       "      <td>GEN</td>\n",
       "      <td>1</td>\n",
       "      <td>GEN 1</td>\n",
       "      <td>1</td>\n",
       "      <td>5</td>\n",
       "      <td>5</td>\n",
       "      <td>God called the light \"day\", and the darkness h...</td>\n",
       "      <td>119</td>\n",
       "      <td>1</td>\n",
       "      <td>1</td>\n",
       "      <td>135.664272</td>\n",
       "      <td>119</td>\n",
       "      <td>119</td>\n",
       "      <td>1</td>\n",
       "    </tr>\n",
       "    <tr>\n",
       "      <th>...</th>\n",
       "      <td>...</td>\n",
       "      <td>...</td>\n",
       "      <td>...</td>\n",
       "      <td>...</td>\n",
       "      <td>...</td>\n",
       "      <td>...</td>\n",
       "      <td>...</td>\n",
       "      <td>...</td>\n",
       "      <td>...</td>\n",
       "      <td>...</td>\n",
       "      <td>...</td>\n",
       "      <td>...</td>\n",
       "      <td>...</td>\n",
       "      <td>...</td>\n",
       "      <td>...</td>\n",
       "    </tr>\n",
       "    <tr>\n",
       "      <th>35374</th>\n",
       "      <td>95</td>\n",
       "      <td>REV</td>\n",
       "      <td>22</td>\n",
       "      <td>REV 22</td>\n",
       "      <td>1328</td>\n",
       "      <td>17</td>\n",
       "      <td>35375</td>\n",
       "      <td>The Spirit and the bride say, \"Come!\" He who h...</td>\n",
       "      <td>160</td>\n",
       "      <td>0</td>\n",
       "      <td>0</td>\n",
       "      <td>NaN</td>\n",
       "      <td>0</td>\n",
       "      <td>0</td>\n",
       "      <td>1</td>\n",
       "    </tr>\n",
       "    <tr>\n",
       "      <th>35375</th>\n",
       "      <td>95</td>\n",
       "      <td>REV</td>\n",
       "      <td>22</td>\n",
       "      <td>REV 22</td>\n",
       "      <td>1328</td>\n",
       "      <td>18</td>\n",
       "      <td>35376</td>\n",
       "      <td>I testify to everyone who hears the words of t...</td>\n",
       "      <td>159</td>\n",
       "      <td>0</td>\n",
       "      <td>0</td>\n",
       "      <td>NaN</td>\n",
       "      <td>0</td>\n",
       "      <td>0</td>\n",
       "      <td>1</td>\n",
       "    </tr>\n",
       "    <tr>\n",
       "      <th>35376</th>\n",
       "      <td>95</td>\n",
       "      <td>REV</td>\n",
       "      <td>22</td>\n",
       "      <td>REV 22</td>\n",
       "      <td>1328</td>\n",
       "      <td>19</td>\n",
       "      <td>35377</td>\n",
       "      <td>If anyone takes away from the words of the boo...</td>\n",
       "      <td>174</td>\n",
       "      <td>0</td>\n",
       "      <td>0</td>\n",
       "      <td>NaN</td>\n",
       "      <td>0</td>\n",
       "      <td>0</td>\n",
       "      <td>1</td>\n",
       "    </tr>\n",
       "    <tr>\n",
       "      <th>35377</th>\n",
       "      <td>95</td>\n",
       "      <td>REV</td>\n",
       "      <td>22</td>\n",
       "      <td>REV 22</td>\n",
       "      <td>1328</td>\n",
       "      <td>20</td>\n",
       "      <td>35378</td>\n",
       "      <td>He who testifies these things says, \"Yes, I am...</td>\n",
       "      <td>89</td>\n",
       "      <td>0</td>\n",
       "      <td>0</td>\n",
       "      <td>NaN</td>\n",
       "      <td>0</td>\n",
       "      <td>0</td>\n",
       "      <td>1</td>\n",
       "    </tr>\n",
       "    <tr>\n",
       "      <th>35378</th>\n",
       "      <td>95</td>\n",
       "      <td>REV</td>\n",
       "      <td>22</td>\n",
       "      <td>REV 22</td>\n",
       "      <td>1328</td>\n",
       "      <td>21</td>\n",
       "      <td>35379</td>\n",
       "      <td>The grace of the Lord Jesus Christ be with all...</td>\n",
       "      <td>64</td>\n",
       "      <td>1</td>\n",
       "      <td>1</td>\n",
       "      <td>161.093106</td>\n",
       "      <td>64</td>\n",
       "      <td>64</td>\n",
       "      <td>1</td>\n",
       "    </tr>\n",
       "  </tbody>\n",
       "</table>\n",
       "<p>35379 rows × 15 columns</p>\n",
       "</div>"
      ],
      "text/plain": [
       "       Book_Order Book_Name  Chapter_Name Book_and_Chapter  Chapter_Order  \\\n",
       "0               1       GEN             1            GEN 1              1   \n",
       "1               1       GEN             1            GEN 1              1   \n",
       "2               1       GEN             1            GEN 1              1   \n",
       "3               1       GEN             1            GEN 1              1   \n",
       "4               1       GEN             1            GEN 1              1   \n",
       "...           ...       ...           ...              ...            ...   \n",
       "35374          95       REV            22           REV 22           1328   \n",
       "35375          95       REV            22           REV 22           1328   \n",
       "35376          95       REV            22           REV 22           1328   \n",
       "35377          95       REV            22           REV 22           1328   \n",
       "35378          95       REV            22           REV 22           1328   \n",
       "\n",
       "       Verse_#  Verse_Order  \\\n",
       "0            1            1   \n",
       "1            2            2   \n",
       "2            3            3   \n",
       "3            4            4   \n",
       "4            5            5   \n",
       "...        ...          ...   \n",
       "35374       17        35375   \n",
       "35375       18        35376   \n",
       "35376       19        35377   \n",
       "35377       20        35378   \n",
       "35378       21        35379   \n",
       "\n",
       "                                                   Verse  Characters  Typed  \\\n",
       "0      In the beginning, God created the heavens and ...          56      1   \n",
       "1      The earth was formless and empty. Darkness was...         135      1   \n",
       "2      God said, \"Let there be light,\" and there was ...          52      1   \n",
       "3      God saw the light, and saw that it was good. G...          85      1   \n",
       "4      God called the light \"day\", and the darkness h...         119      1   \n",
       "...                                                  ...         ...    ...   \n",
       "35374  The Spirit and the bride say, \"Come!\" He who h...         160      0   \n",
       "35375  I testify to everyone who hears the words of t...         159      0   \n",
       "35376  If anyone takes away from the words of the boo...         174      0   \n",
       "35377  He who testifies these things says, \"Yes, I am...          89      0   \n",
       "35378  The grace of the Lord Jesus Christ be with all...          64      1   \n",
       "\n",
       "       Tests  Fastest_WPM  Characters_Typed  Total_Characters_Typed  Count  \n",
       "0          8   193.251509                56                     448      1  \n",
       "1          2   140.461827               135                     270      1  \n",
       "2          1    84.008493                52                      52      1  \n",
       "3          1   123.198378                85                      85      1  \n",
       "4          1   135.664272               119                     119      1  \n",
       "...      ...          ...               ...                     ...    ...  \n",
       "35374      0          NaN                 0                       0      1  \n",
       "35375      0          NaN                 0                       0      1  \n",
       "35376      0          NaN                 0                       0      1  \n",
       "35377      0          NaN                 0                       0      1  \n",
       "35378      1   161.093106                64                      64      1  \n",
       "\n",
       "[35379 rows x 15 columns]"
      ]
     },
     "execution_count": 31,
     "metadata": {},
     "output_type": "execute_result"
    }
   ],
   "source": [
    "df_Bible"
   ]
  },
  {
   "cell_type": "code",
   "execution_count": 32,
   "metadata": {},
   "outputs": [],
   "source": [
    "# This variant of the treemap shows chapters and verses rather than books,\n",
    "# chapters, and verses.\n",
    "if (run_on_notebook == True) & (extra_analyses == True):\n",
    "    fig_tree_map_chapters_verses = px.treemap(df_Bible, path = [\n",
    "        'Book_and_Chapter', 'Verse_#'], values = 'Characters', color = 'Typed')\n",
    "    fig_tree_map_chapters_verses.write_html(\n",
    "        'Analyses/tree_map_chapters_verses.html')\n",
    "    fig_tree_map_chapters_verses.write_image(\n",
    "        'Analyses/tree_map_chapters_verses.png', width = 7680, height = 4320)"
   ]
  },
  {
   "cell_type": "code",
   "execution_count": 33,
   "metadata": {},
   "outputs": [],
   "source": [
    "# This variant of the treemap shows each verse as its own box, which results in \n",
    "# a very busy graph that takes a while to load within a web browser\n",
    "# (if it even loads at all).\n",
    "\n",
    "if (run_on_notebook == True) & (extra_analyses == True):\n",
    "    fig_tree_map_verses = px.treemap(df_Bible, path = ['Verse_Order'], \n",
    "                                     values = 'Characters', color = 'Typed')\n",
    "    fig_tree_map_verses.write_html('Analyses/tree_map_verses.html')\n",
    "    fig_tree_map_verses.write_image('Analyses/tree_map_verses_8K.png', \n",
    "                                    width = 7680, height = 4320) \n",
    "    fig_tree_map_verses.write_image('Analyses/tree_map_verses_16K.png', \n",
    "                                    width = 15360, height = 8640) \n",
    "# fig_tree_map_verses.write_image('Analyses/tree_map_verses.png', width = 30720, \n",
    "# height = 17280) # Didn't end up rendering successfully, probably \n",
    "# because the dimensions were absurdly large!"
   ]
  },
  {
   "cell_type": "markdown",
   "metadata": {},
   "source": [
    "### Creating a bar chart that shows the proportion of each book that has been typed so far:"
   ]
  },
  {
   "cell_type": "code",
   "execution_count": 34,
   "metadata": {},
   "outputs": [
    {
     "data": {
      "text/html": [
       "<div>\n",
       "<style scoped>\n",
       "    .dataframe tbody tr th:only-of-type {\n",
       "        vertical-align: middle;\n",
       "    }\n",
       "\n",
       "    .dataframe tbody tr th {\n",
       "        vertical-align: top;\n",
       "    }\n",
       "\n",
       "    .dataframe thead th {\n",
       "        text-align: right;\n",
       "    }\n",
       "</style>\n",
       "<table border=\"1\" class=\"dataframe\">\n",
       "  <thead>\n",
       "    <tr style=\"text-align: right;\">\n",
       "      <th></th>\n",
       "      <th>Book_Order</th>\n",
       "      <th>Book_Name</th>\n",
       "      <th>Characters</th>\n",
       "      <th>Characters_Typed</th>\n",
       "      <th>proportion_typed</th>\n",
       "    </tr>\n",
       "  </thead>\n",
       "  <tbody>\n",
       "    <tr>\n",
       "      <th>0</th>\n",
       "      <td>1</td>\n",
       "      <td>GEN</td>\n",
       "      <td>185293</td>\n",
       "      <td>34861</td>\n",
       "      <td>0.188140</td>\n",
       "    </tr>\n",
       "    <tr>\n",
       "      <th>1</th>\n",
       "      <td>2</td>\n",
       "      <td>EXO</td>\n",
       "      <td>159492</td>\n",
       "      <td>507</td>\n",
       "      <td>0.003179</td>\n",
       "    </tr>\n",
       "    <tr>\n",
       "      <th>2</th>\n",
       "      <td>3</td>\n",
       "      <td>LEV</td>\n",
       "      <td>120367</td>\n",
       "      <td>0</td>\n",
       "      <td>0.000000</td>\n",
       "    </tr>\n",
       "    <tr>\n",
       "      <th>3</th>\n",
       "      <td>4</td>\n",
       "      <td>NUM</td>\n",
       "      <td>165525</td>\n",
       "      <td>202</td>\n",
       "      <td>0.001220</td>\n",
       "    </tr>\n",
       "    <tr>\n",
       "      <th>4</th>\n",
       "      <td>5</td>\n",
       "      <td>DEU</td>\n",
       "      <td>139344</td>\n",
       "      <td>0</td>\n",
       "      <td>0.000000</td>\n",
       "    </tr>\n",
       "    <tr>\n",
       "      <th>...</th>\n",
       "      <td>...</td>\n",
       "      <td>...</td>\n",
       "      <td>...</td>\n",
       "      <td>...</td>\n",
       "      <td>...</td>\n",
       "    </tr>\n",
       "    <tr>\n",
       "      <th>68</th>\n",
       "      <td>91</td>\n",
       "      <td>1JN</td>\n",
       "      <td>12363</td>\n",
       "      <td>12363</td>\n",
       "      <td>1.000000</td>\n",
       "    </tr>\n",
       "    <tr>\n",
       "      <th>69</th>\n",
       "      <td>92</td>\n",
       "      <td>2JN</td>\n",
       "      <td>1536</td>\n",
       "      <td>453</td>\n",
       "      <td>0.294922</td>\n",
       "    </tr>\n",
       "    <tr>\n",
       "      <th>70</th>\n",
       "      <td>93</td>\n",
       "      <td>3JN</td>\n",
       "      <td>1525</td>\n",
       "      <td>1525</td>\n",
       "      <td>1.000000</td>\n",
       "    </tr>\n",
       "    <tr>\n",
       "      <th>71</th>\n",
       "      <td>94</td>\n",
       "      <td>JUD</td>\n",
       "      <td>3461</td>\n",
       "      <td>136</td>\n",
       "      <td>0.039295</td>\n",
       "    </tr>\n",
       "    <tr>\n",
       "      <th>72</th>\n",
       "      <td>95</td>\n",
       "      <td>REV</td>\n",
       "      <td>58702</td>\n",
       "      <td>64</td>\n",
       "      <td>0.001090</td>\n",
       "    </tr>\n",
       "  </tbody>\n",
       "</table>\n",
       "<p>73 rows × 5 columns</p>\n",
       "</div>"
      ],
      "text/plain": [
       "    Book_Order Book_Name  Characters  Characters_Typed  proportion_typed\n",
       "0            1       GEN      185293             34861          0.188140\n",
       "1            2       EXO      159492               507          0.003179\n",
       "2            3       LEV      120367                 0          0.000000\n",
       "3            4       NUM      165525               202          0.001220\n",
       "4            5       DEU      139344                 0          0.000000\n",
       "..         ...       ...         ...               ...               ...\n",
       "68          91       1JN       12363             12363          1.000000\n",
       "69          92       2JN        1536               453          0.294922\n",
       "70          93       3JN        1525              1525          1.000000\n",
       "71          94       JUD        3461               136          0.039295\n",
       "72          95       REV       58702                64          0.001090\n",
       "\n",
       "[73 rows x 5 columns]"
      ]
     },
     "execution_count": 34,
     "metadata": {},
     "output_type": "execute_result"
    }
   ],
   "source": [
    "df_characters_typed_by_book = df_Bible.pivot_table(index = ['Book_Order', \n",
    "'Book_Name'], values = ['Characters', 'Characters_Typed'], \n",
    "aggfunc = 'sum').reset_index()\n",
    "# Adding 'Book_Order' as the first index value allows for the pivot tables\n",
    "# and bars to be ordered by that value.\n",
    "df_characters_typed_by_book['proportion_typed'] = df_characters_typed_by_book[\n",
    "    'Characters_Typed'] / df_characters_typed_by_book['Characters']\n",
    "df_characters_typed_by_book.to_csv(\n",
    "    'Analyses/characters_typed_by_book.csv')\n",
    "df_characters_typed_by_book"
   ]
  },
  {
   "cell_type": "code",
   "execution_count": 35,
   "metadata": {},
   "outputs": [
    {
     "data": {
      "application/vnd.plotly.v1+json": {
       "config": {
        "plotlyServerURL": "https://plot.ly"
       },
       "data": [
        {
         "alignmentgroup": "True",
         "hovertemplate": "Book_Name=%{x}<br>proportion_typed=%{y}<extra></extra>",
         "legendgroup": "",
         "marker": {
          "color": "#636efa",
          "pattern": {
           "shape": ""
          }
         },
         "name": "",
         "offsetgroup": "",
         "orientation": "v",
         "showlegend": false,
         "textposition": "auto",
         "type": "bar",
         "x": [
          "GEN",
          "EXO",
          "LEV",
          "NUM",
          "DEU",
          "JOS",
          "JDG",
          "RUT",
          "1SA",
          "2SA",
          "1KI",
          "2KI",
          "1CH",
          "2CH",
          "EZR",
          "NEH",
          "JOB",
          "PSA",
          "PRO",
          "ECC",
          "SNG",
          "ISA",
          "JER",
          "LAM",
          "EZK",
          "HOS",
          "JOL",
          "AMO",
          "OBA",
          "JON",
          "MIC",
          "NAM",
          "HAB",
          "ZEP",
          "HAG",
          "ZEC",
          "MAL",
          "TOB",
          "JDT",
          "ESG",
          "WIS",
          "SIR",
          "BAR",
          "1MA",
          "2MA",
          "DAG",
          "MAT",
          "MRK",
          "LUK",
          "JHN",
          "ACT",
          "ROM",
          "1CO",
          "2CO",
          "GAL",
          "EPH",
          "PHP",
          "COL",
          "1TH",
          "2TH",
          "1TI",
          "2TI",
          "TIT",
          "PHM",
          "HEB",
          "JAS",
          "1PE",
          "2PE",
          "1JN",
          "2JN",
          "3JN",
          "JUD",
          "REV"
         ],
         "xaxis": "x",
         "y": [
          0.1881398649706141,
          0.0031788428259724626,
          0,
          0.0012203594623168706,
          0,
          0,
          0.00040700476624002573,
          0,
          0,
          0,
          0,
          0.0016613896524129293,
          0,
          0,
          0,
          0,
          0,
          0,
          0,
          0,
          0.014466409149435734,
          0,
          0,
          0,
          0,
          0,
          0,
          0,
          0,
          0,
          0,
          0,
          0,
          0,
          0,
          0,
          0,
          0,
          0,
          0,
          0,
          0,
          0,
          0,
          0,
          0,
          0,
          0,
          0,
          0,
          0,
          0,
          0,
          0,
          0,
          0,
          0,
          0,
          0,
          0,
          0,
          0,
          0,
          0,
          0,
          0,
          0,
          0,
          1,
          0.294921875,
          1,
          0.03929500144466917,
          0.001090252461585636
         ],
         "yaxis": "y"
        }
       ],
       "layout": {
        "barmode": "relative",
        "legend": {
         "tracegroupgap": 0
        },
        "margin": {
         "t": 60
        },
        "template": {
         "data": {
          "bar": [
           {
            "error_x": {
             "color": "#2a3f5f"
            },
            "error_y": {
             "color": "#2a3f5f"
            },
            "marker": {
             "line": {
              "color": "#E5ECF6",
              "width": 0.5
             },
             "pattern": {
              "fillmode": "overlay",
              "size": 10,
              "solidity": 0.2
             }
            },
            "type": "bar"
           }
          ],
          "barpolar": [
           {
            "marker": {
             "line": {
              "color": "#E5ECF6",
              "width": 0.5
             },
             "pattern": {
              "fillmode": "overlay",
              "size": 10,
              "solidity": 0.2
             }
            },
            "type": "barpolar"
           }
          ],
          "carpet": [
           {
            "aaxis": {
             "endlinecolor": "#2a3f5f",
             "gridcolor": "white",
             "linecolor": "white",
             "minorgridcolor": "white",
             "startlinecolor": "#2a3f5f"
            },
            "baxis": {
             "endlinecolor": "#2a3f5f",
             "gridcolor": "white",
             "linecolor": "white",
             "minorgridcolor": "white",
             "startlinecolor": "#2a3f5f"
            },
            "type": "carpet"
           }
          ],
          "choropleth": [
           {
            "colorbar": {
             "outlinewidth": 0,
             "ticks": ""
            },
            "type": "choropleth"
           }
          ],
          "contour": [
           {
            "colorbar": {
             "outlinewidth": 0,
             "ticks": ""
            },
            "colorscale": [
             [
              0,
              "#0d0887"
             ],
             [
              0.1111111111111111,
              "#46039f"
             ],
             [
              0.2222222222222222,
              "#7201a8"
             ],
             [
              0.3333333333333333,
              "#9c179e"
             ],
             [
              0.4444444444444444,
              "#bd3786"
             ],
             [
              0.5555555555555556,
              "#d8576b"
             ],
             [
              0.6666666666666666,
              "#ed7953"
             ],
             [
              0.7777777777777778,
              "#fb9f3a"
             ],
             [
              0.8888888888888888,
              "#fdca26"
             ],
             [
              1,
              "#f0f921"
             ]
            ],
            "type": "contour"
           }
          ],
          "contourcarpet": [
           {
            "colorbar": {
             "outlinewidth": 0,
             "ticks": ""
            },
            "type": "contourcarpet"
           }
          ],
          "heatmap": [
           {
            "colorbar": {
             "outlinewidth": 0,
             "ticks": ""
            },
            "colorscale": [
             [
              0,
              "#0d0887"
             ],
             [
              0.1111111111111111,
              "#46039f"
             ],
             [
              0.2222222222222222,
              "#7201a8"
             ],
             [
              0.3333333333333333,
              "#9c179e"
             ],
             [
              0.4444444444444444,
              "#bd3786"
             ],
             [
              0.5555555555555556,
              "#d8576b"
             ],
             [
              0.6666666666666666,
              "#ed7953"
             ],
             [
              0.7777777777777778,
              "#fb9f3a"
             ],
             [
              0.8888888888888888,
              "#fdca26"
             ],
             [
              1,
              "#f0f921"
             ]
            ],
            "type": "heatmap"
           }
          ],
          "heatmapgl": [
           {
            "colorbar": {
             "outlinewidth": 0,
             "ticks": ""
            },
            "colorscale": [
             [
              0,
              "#0d0887"
             ],
             [
              0.1111111111111111,
              "#46039f"
             ],
             [
              0.2222222222222222,
              "#7201a8"
             ],
             [
              0.3333333333333333,
              "#9c179e"
             ],
             [
              0.4444444444444444,
              "#bd3786"
             ],
             [
              0.5555555555555556,
              "#d8576b"
             ],
             [
              0.6666666666666666,
              "#ed7953"
             ],
             [
              0.7777777777777778,
              "#fb9f3a"
             ],
             [
              0.8888888888888888,
              "#fdca26"
             ],
             [
              1,
              "#f0f921"
             ]
            ],
            "type": "heatmapgl"
           }
          ],
          "histogram": [
           {
            "marker": {
             "pattern": {
              "fillmode": "overlay",
              "size": 10,
              "solidity": 0.2
             }
            },
            "type": "histogram"
           }
          ],
          "histogram2d": [
           {
            "colorbar": {
             "outlinewidth": 0,
             "ticks": ""
            },
            "colorscale": [
             [
              0,
              "#0d0887"
             ],
             [
              0.1111111111111111,
              "#46039f"
             ],
             [
              0.2222222222222222,
              "#7201a8"
             ],
             [
              0.3333333333333333,
              "#9c179e"
             ],
             [
              0.4444444444444444,
              "#bd3786"
             ],
             [
              0.5555555555555556,
              "#d8576b"
             ],
             [
              0.6666666666666666,
              "#ed7953"
             ],
             [
              0.7777777777777778,
              "#fb9f3a"
             ],
             [
              0.8888888888888888,
              "#fdca26"
             ],
             [
              1,
              "#f0f921"
             ]
            ],
            "type": "histogram2d"
           }
          ],
          "histogram2dcontour": [
           {
            "colorbar": {
             "outlinewidth": 0,
             "ticks": ""
            },
            "colorscale": [
             [
              0,
              "#0d0887"
             ],
             [
              0.1111111111111111,
              "#46039f"
             ],
             [
              0.2222222222222222,
              "#7201a8"
             ],
             [
              0.3333333333333333,
              "#9c179e"
             ],
             [
              0.4444444444444444,
              "#bd3786"
             ],
             [
              0.5555555555555556,
              "#d8576b"
             ],
             [
              0.6666666666666666,
              "#ed7953"
             ],
             [
              0.7777777777777778,
              "#fb9f3a"
             ],
             [
              0.8888888888888888,
              "#fdca26"
             ],
             [
              1,
              "#f0f921"
             ]
            ],
            "type": "histogram2dcontour"
           }
          ],
          "mesh3d": [
           {
            "colorbar": {
             "outlinewidth": 0,
             "ticks": ""
            },
            "type": "mesh3d"
           }
          ],
          "parcoords": [
           {
            "line": {
             "colorbar": {
              "outlinewidth": 0,
              "ticks": ""
             }
            },
            "type": "parcoords"
           }
          ],
          "pie": [
           {
            "automargin": true,
            "type": "pie"
           }
          ],
          "scatter": [
           {
            "fillpattern": {
             "fillmode": "overlay",
             "size": 10,
             "solidity": 0.2
            },
            "type": "scatter"
           }
          ],
          "scatter3d": [
           {
            "line": {
             "colorbar": {
              "outlinewidth": 0,
              "ticks": ""
             }
            },
            "marker": {
             "colorbar": {
              "outlinewidth": 0,
              "ticks": ""
             }
            },
            "type": "scatter3d"
           }
          ],
          "scattercarpet": [
           {
            "marker": {
             "colorbar": {
              "outlinewidth": 0,
              "ticks": ""
             }
            },
            "type": "scattercarpet"
           }
          ],
          "scattergeo": [
           {
            "marker": {
             "colorbar": {
              "outlinewidth": 0,
              "ticks": ""
             }
            },
            "type": "scattergeo"
           }
          ],
          "scattergl": [
           {
            "marker": {
             "colorbar": {
              "outlinewidth": 0,
              "ticks": ""
             }
            },
            "type": "scattergl"
           }
          ],
          "scattermapbox": [
           {
            "marker": {
             "colorbar": {
              "outlinewidth": 0,
              "ticks": ""
             }
            },
            "type": "scattermapbox"
           }
          ],
          "scatterpolar": [
           {
            "marker": {
             "colorbar": {
              "outlinewidth": 0,
              "ticks": ""
             }
            },
            "type": "scatterpolar"
           }
          ],
          "scatterpolargl": [
           {
            "marker": {
             "colorbar": {
              "outlinewidth": 0,
              "ticks": ""
             }
            },
            "type": "scatterpolargl"
           }
          ],
          "scatterternary": [
           {
            "marker": {
             "colorbar": {
              "outlinewidth": 0,
              "ticks": ""
             }
            },
            "type": "scatterternary"
           }
          ],
          "surface": [
           {
            "colorbar": {
             "outlinewidth": 0,
             "ticks": ""
            },
            "colorscale": [
             [
              0,
              "#0d0887"
             ],
             [
              0.1111111111111111,
              "#46039f"
             ],
             [
              0.2222222222222222,
              "#7201a8"
             ],
             [
              0.3333333333333333,
              "#9c179e"
             ],
             [
              0.4444444444444444,
              "#bd3786"
             ],
             [
              0.5555555555555556,
              "#d8576b"
             ],
             [
              0.6666666666666666,
              "#ed7953"
             ],
             [
              0.7777777777777778,
              "#fb9f3a"
             ],
             [
              0.8888888888888888,
              "#fdca26"
             ],
             [
              1,
              "#f0f921"
             ]
            ],
            "type": "surface"
           }
          ],
          "table": [
           {
            "cells": {
             "fill": {
              "color": "#EBF0F8"
             },
             "line": {
              "color": "white"
             }
            },
            "header": {
             "fill": {
              "color": "#C8D4E3"
             },
             "line": {
              "color": "white"
             }
            },
            "type": "table"
           }
          ]
         },
         "layout": {
          "annotationdefaults": {
           "arrowcolor": "#2a3f5f",
           "arrowhead": 0,
           "arrowwidth": 1
          },
          "autotypenumbers": "strict",
          "coloraxis": {
           "colorbar": {
            "outlinewidth": 0,
            "ticks": ""
           }
          },
          "colorscale": {
           "diverging": [
            [
             0,
             "#8e0152"
            ],
            [
             0.1,
             "#c51b7d"
            ],
            [
             0.2,
             "#de77ae"
            ],
            [
             0.3,
             "#f1b6da"
            ],
            [
             0.4,
             "#fde0ef"
            ],
            [
             0.5,
             "#f7f7f7"
            ],
            [
             0.6,
             "#e6f5d0"
            ],
            [
             0.7,
             "#b8e186"
            ],
            [
             0.8,
             "#7fbc41"
            ],
            [
             0.9,
             "#4d9221"
            ],
            [
             1,
             "#276419"
            ]
           ],
           "sequential": [
            [
             0,
             "#0d0887"
            ],
            [
             0.1111111111111111,
             "#46039f"
            ],
            [
             0.2222222222222222,
             "#7201a8"
            ],
            [
             0.3333333333333333,
             "#9c179e"
            ],
            [
             0.4444444444444444,
             "#bd3786"
            ],
            [
             0.5555555555555556,
             "#d8576b"
            ],
            [
             0.6666666666666666,
             "#ed7953"
            ],
            [
             0.7777777777777778,
             "#fb9f3a"
            ],
            [
             0.8888888888888888,
             "#fdca26"
            ],
            [
             1,
             "#f0f921"
            ]
           ],
           "sequentialminus": [
            [
             0,
             "#0d0887"
            ],
            [
             0.1111111111111111,
             "#46039f"
            ],
            [
             0.2222222222222222,
             "#7201a8"
            ],
            [
             0.3333333333333333,
             "#9c179e"
            ],
            [
             0.4444444444444444,
             "#bd3786"
            ],
            [
             0.5555555555555556,
             "#d8576b"
            ],
            [
             0.6666666666666666,
             "#ed7953"
            ],
            [
             0.7777777777777778,
             "#fb9f3a"
            ],
            [
             0.8888888888888888,
             "#fdca26"
            ],
            [
             1,
             "#f0f921"
            ]
           ]
          },
          "colorway": [
           "#636efa",
           "#EF553B",
           "#00cc96",
           "#ab63fa",
           "#FFA15A",
           "#19d3f3",
           "#FF6692",
           "#B6E880",
           "#FF97FF",
           "#FECB52"
          ],
          "font": {
           "color": "#2a3f5f"
          },
          "geo": {
           "bgcolor": "white",
           "lakecolor": "white",
           "landcolor": "#E5ECF6",
           "showlakes": true,
           "showland": true,
           "subunitcolor": "white"
          },
          "hoverlabel": {
           "align": "left"
          },
          "hovermode": "closest",
          "mapbox": {
           "style": "light"
          },
          "paper_bgcolor": "white",
          "plot_bgcolor": "#E5ECF6",
          "polar": {
           "angularaxis": {
            "gridcolor": "white",
            "linecolor": "white",
            "ticks": ""
           },
           "bgcolor": "#E5ECF6",
           "radialaxis": {
            "gridcolor": "white",
            "linecolor": "white",
            "ticks": ""
           }
          },
          "scene": {
           "xaxis": {
            "backgroundcolor": "#E5ECF6",
            "gridcolor": "white",
            "gridwidth": 2,
            "linecolor": "white",
            "showbackground": true,
            "ticks": "",
            "zerolinecolor": "white"
           },
           "yaxis": {
            "backgroundcolor": "#E5ECF6",
            "gridcolor": "white",
            "gridwidth": 2,
            "linecolor": "white",
            "showbackground": true,
            "ticks": "",
            "zerolinecolor": "white"
           },
           "zaxis": {
            "backgroundcolor": "#E5ECF6",
            "gridcolor": "white",
            "gridwidth": 2,
            "linecolor": "white",
            "showbackground": true,
            "ticks": "",
            "zerolinecolor": "white"
           }
          },
          "shapedefaults": {
           "line": {
            "color": "#2a3f5f"
           }
          },
          "ternary": {
           "aaxis": {
            "gridcolor": "white",
            "linecolor": "white",
            "ticks": ""
           },
           "baxis": {
            "gridcolor": "white",
            "linecolor": "white",
            "ticks": ""
           },
           "bgcolor": "#E5ECF6",
           "caxis": {
            "gridcolor": "white",
            "linecolor": "white",
            "ticks": ""
           }
          },
          "title": {
           "x": 0.05
          },
          "xaxis": {
           "automargin": true,
           "gridcolor": "white",
           "linecolor": "white",
           "ticks": "",
           "title": {
            "standoff": 15
           },
           "zerolinecolor": "white",
           "zerolinewidth": 2
          },
          "yaxis": {
           "automargin": true,
           "gridcolor": "white",
           "linecolor": "white",
           "ticks": "",
           "title": {
            "standoff": 15
           },
           "zerolinecolor": "white",
           "zerolinewidth": 2
          }
         }
        },
        "xaxis": {
         "anchor": "y",
         "domain": [
          0,
          1
         ],
         "title": {
          "text": "Book_Name"
         }
        },
        "yaxis": {
         "anchor": "x",
         "domain": [
          0,
          1
         ],
         "range": [
          0,
          1
         ],
         "title": {
          "text": "proportion_typed"
         }
        }
       }
      }
     },
     "metadata": {},
     "output_type": "display_data"
    }
   ],
   "source": [
    "fig_proportion_of_each_book_typed = px.bar(df_characters_typed_by_book, \n",
    "x = 'Book_Name', y = 'proportion_typed')\n",
    "fig_proportion_of_each_book_typed.update_yaxes(range = [0, 1]) # Setting\n",
    "# the maximum y value as 1 better demonstrates how much of the Bible\n",
    "# has been typed so far\n",
    "fig_proportion_of_each_book_typed.write_html(\n",
    "    'Analyses/proportion_of_each_book_typed.html')\n",
    "fig_proportion_of_each_book_typed.write_image(\n",
    "    'Analyses/proportion_of_each_book_typed.png', \n",
    "    width = 1920, height = 1080, engine = 'kaleido', scale = 2)\n",
    "fig_proportion_of_each_book_typed"
   ]
  },
  {
   "cell_type": "markdown",
   "metadata": {},
   "source": [
    "### Creating a chart that compares the number of characters in each book with the number that have been typed:\n",
    "\n",
    "This provides a clearer view of the player's progress in typing the Bible, as each bar's height is based on the number of characters. (In contrast, bars for fully typed small books will be just as high in fig_proportion_of_each_book_typed as those for fully typed large books.)"
   ]
  },
  {
   "cell_type": "code",
   "execution_count": 36,
   "metadata": {},
   "outputs": [
    {
     "data": {
      "application/vnd.plotly.v1+json": {
       "config": {
        "plotlyServerURL": "https://plot.ly"
       },
       "data": [
        {
         "alignmentgroup": "True",
         "hovertemplate": "variable=Characters<br>Book_Name=%{x}<br>value=%{y}<extra></extra>",
         "legendgroup": "Characters",
         "marker": {
          "color": "#636efa",
          "opacity": 0.5,
          "pattern": {
           "shape": ""
          }
         },
         "name": "Characters",
         "offsetgroup": "Characters",
         "orientation": "v",
         "showlegend": true,
         "textposition": "auto",
         "type": "bar",
         "x": [
          "GEN",
          "EXO",
          "LEV",
          "NUM",
          "DEU",
          "JOS",
          "JDG",
          "RUT",
          "1SA",
          "2SA",
          "1KI",
          "2KI",
          "1CH",
          "2CH",
          "EZR",
          "NEH",
          "JOB",
          "PSA",
          "PRO",
          "ECC",
          "SNG",
          "ISA",
          "JER",
          "LAM",
          "EZK",
          "HOS",
          "JOL",
          "AMO",
          "OBA",
          "JON",
          "MIC",
          "NAM",
          "HAB",
          "ZEP",
          "HAG",
          "ZEC",
          "MAL",
          "TOB",
          "JDT",
          "ESG",
          "WIS",
          "SIR",
          "BAR",
          "1MA",
          "2MA",
          "DAG",
          "MAT",
          "MRK",
          "LUK",
          "JHN",
          "ACT",
          "ROM",
          "1CO",
          "2CO",
          "GAL",
          "EPH",
          "PHP",
          "COL",
          "1TH",
          "2TH",
          "1TI",
          "2TI",
          "TIT",
          "PHM",
          "HEB",
          "JAS",
          "1PE",
          "2PE",
          "1JN",
          "2JN",
          "3JN",
          "JUD",
          "REV"
         ],
         "xaxis": "x",
         "y": [
          185293,
          159492,
          120367,
          165525,
          139344,
          94721,
          93365,
          12505,
          122241,
          100552,
          119726,
          114964,
          105529,
          132807,
          38692,
          54680,
          90053,
          218388,
          75981,
          27419,
          13203,
          185587,
          215297,
          17722,
          195384,
          26589,
          10261,
          20876,
          3265,
          6386,
          15400,
          6446,
          7307,
          8197,
          5489,
          31085,
          8912,
          34593,
          57613,
          38794,
          56619,
          137185,
          25899,
          119609,
          92464,
          79306,
          119621,
          74901,
          126856,
          95683,
          123742,
          49703,
          48301,
          31750,
          16240,
          16273,
          11523,
          10665,
          9559,
          5396,
          12632,
          8815,
          5134,
          2267,
          36994,
          11803,
          13132,
          8442,
          12363,
          1536,
          1525,
          3461,
          58702
         ],
         "yaxis": "y"
        },
        {
         "alignmentgroup": "True",
         "hovertemplate": "variable=Characters_Typed<br>Book_Name=%{x}<br>value=%{y}<extra></extra>",
         "legendgroup": "Characters_Typed",
         "marker": {
          "color": "#EF553B",
          "opacity": 0.5,
          "pattern": {
           "shape": ""
          }
         },
         "name": "Characters_Typed",
         "offsetgroup": "Characters_Typed",
         "orientation": "v",
         "showlegend": true,
         "textposition": "auto",
         "type": "bar",
         "x": [
          "GEN",
          "EXO",
          "LEV",
          "NUM",
          "DEU",
          "JOS",
          "JDG",
          "RUT",
          "1SA",
          "2SA",
          "1KI",
          "2KI",
          "1CH",
          "2CH",
          "EZR",
          "NEH",
          "JOB",
          "PSA",
          "PRO",
          "ECC",
          "SNG",
          "ISA",
          "JER",
          "LAM",
          "EZK",
          "HOS",
          "JOL",
          "AMO",
          "OBA",
          "JON",
          "MIC",
          "NAM",
          "HAB",
          "ZEP",
          "HAG",
          "ZEC",
          "MAL",
          "TOB",
          "JDT",
          "ESG",
          "WIS",
          "SIR",
          "BAR",
          "1MA",
          "2MA",
          "DAG",
          "MAT",
          "MRK",
          "LUK",
          "JHN",
          "ACT",
          "ROM",
          "1CO",
          "2CO",
          "GAL",
          "EPH",
          "PHP",
          "COL",
          "1TH",
          "2TH",
          "1TI",
          "2TI",
          "TIT",
          "PHM",
          "HEB",
          "JAS",
          "1PE",
          "2PE",
          "1JN",
          "2JN",
          "3JN",
          "JUD",
          "REV"
         ],
         "xaxis": "x",
         "y": [
          34861,
          507,
          0,
          202,
          0,
          0,
          38,
          0,
          0,
          0,
          0,
          191,
          0,
          0,
          0,
          0,
          0,
          0,
          0,
          0,
          191,
          0,
          0,
          0,
          0,
          0,
          0,
          0,
          0,
          0,
          0,
          0,
          0,
          0,
          0,
          0,
          0,
          0,
          0,
          0,
          0,
          0,
          0,
          0,
          0,
          0,
          0,
          0,
          0,
          0,
          0,
          0,
          0,
          0,
          0,
          0,
          0,
          0,
          0,
          0,
          0,
          0,
          0,
          0,
          0,
          0,
          0,
          0,
          12363,
          453,
          1525,
          136,
          64
         ],
         "yaxis": "y"
        }
       ],
       "layout": {
        "barmode": "overlay",
        "legend": {
         "title": {
          "text": "variable"
         },
         "tracegroupgap": 0
        },
        "margin": {
         "t": 60
        },
        "template": {
         "data": {
          "bar": [
           {
            "error_x": {
             "color": "#2a3f5f"
            },
            "error_y": {
             "color": "#2a3f5f"
            },
            "marker": {
             "line": {
              "color": "#E5ECF6",
              "width": 0.5
             },
             "pattern": {
              "fillmode": "overlay",
              "size": 10,
              "solidity": 0.2
             }
            },
            "type": "bar"
           }
          ],
          "barpolar": [
           {
            "marker": {
             "line": {
              "color": "#E5ECF6",
              "width": 0.5
             },
             "pattern": {
              "fillmode": "overlay",
              "size": 10,
              "solidity": 0.2
             }
            },
            "type": "barpolar"
           }
          ],
          "carpet": [
           {
            "aaxis": {
             "endlinecolor": "#2a3f5f",
             "gridcolor": "white",
             "linecolor": "white",
             "minorgridcolor": "white",
             "startlinecolor": "#2a3f5f"
            },
            "baxis": {
             "endlinecolor": "#2a3f5f",
             "gridcolor": "white",
             "linecolor": "white",
             "minorgridcolor": "white",
             "startlinecolor": "#2a3f5f"
            },
            "type": "carpet"
           }
          ],
          "choropleth": [
           {
            "colorbar": {
             "outlinewidth": 0,
             "ticks": ""
            },
            "type": "choropleth"
           }
          ],
          "contour": [
           {
            "colorbar": {
             "outlinewidth": 0,
             "ticks": ""
            },
            "colorscale": [
             [
              0,
              "#0d0887"
             ],
             [
              0.1111111111111111,
              "#46039f"
             ],
             [
              0.2222222222222222,
              "#7201a8"
             ],
             [
              0.3333333333333333,
              "#9c179e"
             ],
             [
              0.4444444444444444,
              "#bd3786"
             ],
             [
              0.5555555555555556,
              "#d8576b"
             ],
             [
              0.6666666666666666,
              "#ed7953"
             ],
             [
              0.7777777777777778,
              "#fb9f3a"
             ],
             [
              0.8888888888888888,
              "#fdca26"
             ],
             [
              1,
              "#f0f921"
             ]
            ],
            "type": "contour"
           }
          ],
          "contourcarpet": [
           {
            "colorbar": {
             "outlinewidth": 0,
             "ticks": ""
            },
            "type": "contourcarpet"
           }
          ],
          "heatmap": [
           {
            "colorbar": {
             "outlinewidth": 0,
             "ticks": ""
            },
            "colorscale": [
             [
              0,
              "#0d0887"
             ],
             [
              0.1111111111111111,
              "#46039f"
             ],
             [
              0.2222222222222222,
              "#7201a8"
             ],
             [
              0.3333333333333333,
              "#9c179e"
             ],
             [
              0.4444444444444444,
              "#bd3786"
             ],
             [
              0.5555555555555556,
              "#d8576b"
             ],
             [
              0.6666666666666666,
              "#ed7953"
             ],
             [
              0.7777777777777778,
              "#fb9f3a"
             ],
             [
              0.8888888888888888,
              "#fdca26"
             ],
             [
              1,
              "#f0f921"
             ]
            ],
            "type": "heatmap"
           }
          ],
          "heatmapgl": [
           {
            "colorbar": {
             "outlinewidth": 0,
             "ticks": ""
            },
            "colorscale": [
             [
              0,
              "#0d0887"
             ],
             [
              0.1111111111111111,
              "#46039f"
             ],
             [
              0.2222222222222222,
              "#7201a8"
             ],
             [
              0.3333333333333333,
              "#9c179e"
             ],
             [
              0.4444444444444444,
              "#bd3786"
             ],
             [
              0.5555555555555556,
              "#d8576b"
             ],
             [
              0.6666666666666666,
              "#ed7953"
             ],
             [
              0.7777777777777778,
              "#fb9f3a"
             ],
             [
              0.8888888888888888,
              "#fdca26"
             ],
             [
              1,
              "#f0f921"
             ]
            ],
            "type": "heatmapgl"
           }
          ],
          "histogram": [
           {
            "marker": {
             "pattern": {
              "fillmode": "overlay",
              "size": 10,
              "solidity": 0.2
             }
            },
            "type": "histogram"
           }
          ],
          "histogram2d": [
           {
            "colorbar": {
             "outlinewidth": 0,
             "ticks": ""
            },
            "colorscale": [
             [
              0,
              "#0d0887"
             ],
             [
              0.1111111111111111,
              "#46039f"
             ],
             [
              0.2222222222222222,
              "#7201a8"
             ],
             [
              0.3333333333333333,
              "#9c179e"
             ],
             [
              0.4444444444444444,
              "#bd3786"
             ],
             [
              0.5555555555555556,
              "#d8576b"
             ],
             [
              0.6666666666666666,
              "#ed7953"
             ],
             [
              0.7777777777777778,
              "#fb9f3a"
             ],
             [
              0.8888888888888888,
              "#fdca26"
             ],
             [
              1,
              "#f0f921"
             ]
            ],
            "type": "histogram2d"
           }
          ],
          "histogram2dcontour": [
           {
            "colorbar": {
             "outlinewidth": 0,
             "ticks": ""
            },
            "colorscale": [
             [
              0,
              "#0d0887"
             ],
             [
              0.1111111111111111,
              "#46039f"
             ],
             [
              0.2222222222222222,
              "#7201a8"
             ],
             [
              0.3333333333333333,
              "#9c179e"
             ],
             [
              0.4444444444444444,
              "#bd3786"
             ],
             [
              0.5555555555555556,
              "#d8576b"
             ],
             [
              0.6666666666666666,
              "#ed7953"
             ],
             [
              0.7777777777777778,
              "#fb9f3a"
             ],
             [
              0.8888888888888888,
              "#fdca26"
             ],
             [
              1,
              "#f0f921"
             ]
            ],
            "type": "histogram2dcontour"
           }
          ],
          "mesh3d": [
           {
            "colorbar": {
             "outlinewidth": 0,
             "ticks": ""
            },
            "type": "mesh3d"
           }
          ],
          "parcoords": [
           {
            "line": {
             "colorbar": {
              "outlinewidth": 0,
              "ticks": ""
             }
            },
            "type": "parcoords"
           }
          ],
          "pie": [
           {
            "automargin": true,
            "type": "pie"
           }
          ],
          "scatter": [
           {
            "fillpattern": {
             "fillmode": "overlay",
             "size": 10,
             "solidity": 0.2
            },
            "type": "scatter"
           }
          ],
          "scatter3d": [
           {
            "line": {
             "colorbar": {
              "outlinewidth": 0,
              "ticks": ""
             }
            },
            "marker": {
             "colorbar": {
              "outlinewidth": 0,
              "ticks": ""
             }
            },
            "type": "scatter3d"
           }
          ],
          "scattercarpet": [
           {
            "marker": {
             "colorbar": {
              "outlinewidth": 0,
              "ticks": ""
             }
            },
            "type": "scattercarpet"
           }
          ],
          "scattergeo": [
           {
            "marker": {
             "colorbar": {
              "outlinewidth": 0,
              "ticks": ""
             }
            },
            "type": "scattergeo"
           }
          ],
          "scattergl": [
           {
            "marker": {
             "colorbar": {
              "outlinewidth": 0,
              "ticks": ""
             }
            },
            "type": "scattergl"
           }
          ],
          "scattermapbox": [
           {
            "marker": {
             "colorbar": {
              "outlinewidth": 0,
              "ticks": ""
             }
            },
            "type": "scattermapbox"
           }
          ],
          "scatterpolar": [
           {
            "marker": {
             "colorbar": {
              "outlinewidth": 0,
              "ticks": ""
             }
            },
            "type": "scatterpolar"
           }
          ],
          "scatterpolargl": [
           {
            "marker": {
             "colorbar": {
              "outlinewidth": 0,
              "ticks": ""
             }
            },
            "type": "scatterpolargl"
           }
          ],
          "scatterternary": [
           {
            "marker": {
             "colorbar": {
              "outlinewidth": 0,
              "ticks": ""
             }
            },
            "type": "scatterternary"
           }
          ],
          "surface": [
           {
            "colorbar": {
             "outlinewidth": 0,
             "ticks": ""
            },
            "colorscale": [
             [
              0,
              "#0d0887"
             ],
             [
              0.1111111111111111,
              "#46039f"
             ],
             [
              0.2222222222222222,
              "#7201a8"
             ],
             [
              0.3333333333333333,
              "#9c179e"
             ],
             [
              0.4444444444444444,
              "#bd3786"
             ],
             [
              0.5555555555555556,
              "#d8576b"
             ],
             [
              0.6666666666666666,
              "#ed7953"
             ],
             [
              0.7777777777777778,
              "#fb9f3a"
             ],
             [
              0.8888888888888888,
              "#fdca26"
             ],
             [
              1,
              "#f0f921"
             ]
            ],
            "type": "surface"
           }
          ],
          "table": [
           {
            "cells": {
             "fill": {
              "color": "#EBF0F8"
             },
             "line": {
              "color": "white"
             }
            },
            "header": {
             "fill": {
              "color": "#C8D4E3"
             },
             "line": {
              "color": "white"
             }
            },
            "type": "table"
           }
          ]
         },
         "layout": {
          "annotationdefaults": {
           "arrowcolor": "#2a3f5f",
           "arrowhead": 0,
           "arrowwidth": 1
          },
          "autotypenumbers": "strict",
          "coloraxis": {
           "colorbar": {
            "outlinewidth": 0,
            "ticks": ""
           }
          },
          "colorscale": {
           "diverging": [
            [
             0,
             "#8e0152"
            ],
            [
             0.1,
             "#c51b7d"
            ],
            [
             0.2,
             "#de77ae"
            ],
            [
             0.3,
             "#f1b6da"
            ],
            [
             0.4,
             "#fde0ef"
            ],
            [
             0.5,
             "#f7f7f7"
            ],
            [
             0.6,
             "#e6f5d0"
            ],
            [
             0.7,
             "#b8e186"
            ],
            [
             0.8,
             "#7fbc41"
            ],
            [
             0.9,
             "#4d9221"
            ],
            [
             1,
             "#276419"
            ]
           ],
           "sequential": [
            [
             0,
             "#0d0887"
            ],
            [
             0.1111111111111111,
             "#46039f"
            ],
            [
             0.2222222222222222,
             "#7201a8"
            ],
            [
             0.3333333333333333,
             "#9c179e"
            ],
            [
             0.4444444444444444,
             "#bd3786"
            ],
            [
             0.5555555555555556,
             "#d8576b"
            ],
            [
             0.6666666666666666,
             "#ed7953"
            ],
            [
             0.7777777777777778,
             "#fb9f3a"
            ],
            [
             0.8888888888888888,
             "#fdca26"
            ],
            [
             1,
             "#f0f921"
            ]
           ],
           "sequentialminus": [
            [
             0,
             "#0d0887"
            ],
            [
             0.1111111111111111,
             "#46039f"
            ],
            [
             0.2222222222222222,
             "#7201a8"
            ],
            [
             0.3333333333333333,
             "#9c179e"
            ],
            [
             0.4444444444444444,
             "#bd3786"
            ],
            [
             0.5555555555555556,
             "#d8576b"
            ],
            [
             0.6666666666666666,
             "#ed7953"
            ],
            [
             0.7777777777777778,
             "#fb9f3a"
            ],
            [
             0.8888888888888888,
             "#fdca26"
            ],
            [
             1,
             "#f0f921"
            ]
           ]
          },
          "colorway": [
           "#636efa",
           "#EF553B",
           "#00cc96",
           "#ab63fa",
           "#FFA15A",
           "#19d3f3",
           "#FF6692",
           "#B6E880",
           "#FF97FF",
           "#FECB52"
          ],
          "font": {
           "color": "#2a3f5f"
          },
          "geo": {
           "bgcolor": "white",
           "lakecolor": "white",
           "landcolor": "#E5ECF6",
           "showlakes": true,
           "showland": true,
           "subunitcolor": "white"
          },
          "hoverlabel": {
           "align": "left"
          },
          "hovermode": "closest",
          "mapbox": {
           "style": "light"
          },
          "paper_bgcolor": "white",
          "plot_bgcolor": "#E5ECF6",
          "polar": {
           "angularaxis": {
            "gridcolor": "white",
            "linecolor": "white",
            "ticks": ""
           },
           "bgcolor": "#E5ECF6",
           "radialaxis": {
            "gridcolor": "white",
            "linecolor": "white",
            "ticks": ""
           }
          },
          "scene": {
           "xaxis": {
            "backgroundcolor": "#E5ECF6",
            "gridcolor": "white",
            "gridwidth": 2,
            "linecolor": "white",
            "showbackground": true,
            "ticks": "",
            "zerolinecolor": "white"
           },
           "yaxis": {
            "backgroundcolor": "#E5ECF6",
            "gridcolor": "white",
            "gridwidth": 2,
            "linecolor": "white",
            "showbackground": true,
            "ticks": "",
            "zerolinecolor": "white"
           },
           "zaxis": {
            "backgroundcolor": "#E5ECF6",
            "gridcolor": "white",
            "gridwidth": 2,
            "linecolor": "white",
            "showbackground": true,
            "ticks": "",
            "zerolinecolor": "white"
           }
          },
          "shapedefaults": {
           "line": {
            "color": "#2a3f5f"
           }
          },
          "ternary": {
           "aaxis": {
            "gridcolor": "white",
            "linecolor": "white",
            "ticks": ""
           },
           "baxis": {
            "gridcolor": "white",
            "linecolor": "white",
            "ticks": ""
           },
           "bgcolor": "#E5ECF6",
           "caxis": {
            "gridcolor": "white",
            "linecolor": "white",
            "ticks": ""
           }
          },
          "title": {
           "x": 0.05
          },
          "xaxis": {
           "automargin": true,
           "gridcolor": "white",
           "linecolor": "white",
           "ticks": "",
           "title": {
            "standoff": 15
           },
           "zerolinecolor": "white",
           "zerolinewidth": 2
          },
          "yaxis": {
           "automargin": true,
           "gridcolor": "white",
           "linecolor": "white",
           "ticks": "",
           "title": {
            "standoff": 15
           },
           "zerolinecolor": "white",
           "zerolinewidth": 2
          }
         }
        },
        "xaxis": {
         "anchor": "y",
         "domain": [
          0,
          1
         ],
         "title": {
          "text": "Book_Name"
         }
        },
        "yaxis": {
         "anchor": "x",
         "domain": [
          0,
          1
         ],
         "title": {
          "text": "value"
         }
        }
       }
      }
     },
     "metadata": {},
     "output_type": "display_data"
    }
   ],
   "source": [
    "fig_characters_typed_in_each_book = px.bar(df_characters_typed_by_book, \n",
    "x = 'Book_Name', y = ['Characters', 'Characters_Typed'], barmode = 'overlay')\n",
    "fig_characters_typed_in_each_book.write_html(\n",
    "    'Analyses/characters_typed_by_book.html')\n",
    "fig_characters_typed_in_each_book.write_image(\n",
    "    'Analyses/characters_typed_by_book.png', \n",
    "    width = 1920, height = 1080, engine = 'kaleido', scale = 2)\n",
    "fig_characters_typed_in_each_book"
   ]
  },
  {
   "cell_type": "markdown",
   "metadata": {},
   "source": [
    "## Creating charts that show both book- and chapter-level data:"
   ]
  },
  {
   "cell_type": "code",
   "execution_count": 37,
   "metadata": {},
   "outputs": [
    {
     "data": {
      "text/html": [
       "<div>\n",
       "<style scoped>\n",
       "    .dataframe tbody tr th:only-of-type {\n",
       "        vertical-align: middle;\n",
       "    }\n",
       "\n",
       "    .dataframe tbody tr th {\n",
       "        vertical-align: top;\n",
       "    }\n",
       "\n",
       "    .dataframe thead th {\n",
       "        text-align: right;\n",
       "    }\n",
       "</style>\n",
       "<table border=\"1\" class=\"dataframe\">\n",
       "  <thead>\n",
       "    <tr style=\"text-align: right;\">\n",
       "      <th></th>\n",
       "      <th>Book_Order</th>\n",
       "      <th>Book_Name</th>\n",
       "      <th>Book_and_Chapter</th>\n",
       "      <th>Characters</th>\n",
       "      <th>Characters_Typed</th>\n",
       "      <th>proportion_typed</th>\n",
       "    </tr>\n",
       "  </thead>\n",
       "  <tbody>\n",
       "    <tr>\n",
       "      <th>0</th>\n",
       "      <td>1</td>\n",
       "      <td>GEN</td>\n",
       "      <td>GEN 1</td>\n",
       "      <td>3831</td>\n",
       "      <td>3831</td>\n",
       "      <td>1.000000</td>\n",
       "    </tr>\n",
       "    <tr>\n",
       "      <th>1</th>\n",
       "      <td>1</td>\n",
       "      <td>GEN</td>\n",
       "      <td>GEN 10</td>\n",
       "      <td>2582</td>\n",
       "      <td>2582</td>\n",
       "      <td>1.000000</td>\n",
       "    </tr>\n",
       "    <tr>\n",
       "      <th>2</th>\n",
       "      <td>1</td>\n",
       "      <td>GEN</td>\n",
       "      <td>GEN 11</td>\n",
       "      <td>3435</td>\n",
       "      <td>3435</td>\n",
       "      <td>1.000000</td>\n",
       "    </tr>\n",
       "    <tr>\n",
       "      <th>3</th>\n",
       "      <td>1</td>\n",
       "      <td>GEN</td>\n",
       "      <td>GEN 12</td>\n",
       "      <td>2473</td>\n",
       "      <td>1601</td>\n",
       "      <td>0.647392</td>\n",
       "    </tr>\n",
       "    <tr>\n",
       "      <th>4</th>\n",
       "      <td>1</td>\n",
       "      <td>GEN</td>\n",
       "      <td>GEN 13</td>\n",
       "      <td>2169</td>\n",
       "      <td>0</td>\n",
       "      <td>0.000000</td>\n",
       "    </tr>\n",
       "    <tr>\n",
       "      <th>...</th>\n",
       "      <td>...</td>\n",
       "      <td>...</td>\n",
       "      <td>...</td>\n",
       "      <td>...</td>\n",
       "      <td>...</td>\n",
       "      <td>...</td>\n",
       "    </tr>\n",
       "    <tr>\n",
       "      <th>1323</th>\n",
       "      <td>95</td>\n",
       "      <td>REV</td>\n",
       "      <td>REV 5</td>\n",
       "      <td>2054</td>\n",
       "      <td>0</td>\n",
       "      <td>0.000000</td>\n",
       "    </tr>\n",
       "    <tr>\n",
       "      <th>1324</th>\n",
       "      <td>95</td>\n",
       "      <td>REV</td>\n",
       "      <td>REV 6</td>\n",
       "      <td>2503</td>\n",
       "      <td>0</td>\n",
       "      <td>0.000000</td>\n",
       "    </tr>\n",
       "    <tr>\n",
       "      <th>1325</th>\n",
       "      <td>95</td>\n",
       "      <td>REV</td>\n",
       "      <td>REV 7</td>\n",
       "      <td>2452</td>\n",
       "      <td>0</td>\n",
       "      <td>0.000000</td>\n",
       "    </tr>\n",
       "    <tr>\n",
       "      <th>1326</th>\n",
       "      <td>95</td>\n",
       "      <td>REV</td>\n",
       "      <td>REV 8</td>\n",
       "      <td>1900</td>\n",
       "      <td>0</td>\n",
       "      <td>0.000000</td>\n",
       "    </tr>\n",
       "    <tr>\n",
       "      <th>1327</th>\n",
       "      <td>95</td>\n",
       "      <td>REV</td>\n",
       "      <td>REV 9</td>\n",
       "      <td>2838</td>\n",
       "      <td>0</td>\n",
       "      <td>0.000000</td>\n",
       "    </tr>\n",
       "  </tbody>\n",
       "</table>\n",
       "<p>1328 rows × 6 columns</p>\n",
       "</div>"
      ],
      "text/plain": [
       "      Book_Order Book_Name Book_and_Chapter  Characters  Characters_Typed  \\\n",
       "0              1       GEN            GEN 1        3831              3831   \n",
       "1              1       GEN           GEN 10        2582              2582   \n",
       "2              1       GEN           GEN 11        3435              3435   \n",
       "3              1       GEN           GEN 12        2473              1601   \n",
       "4              1       GEN           GEN 13        2169                 0   \n",
       "...          ...       ...              ...         ...               ...   \n",
       "1323          95       REV            REV 5        2054                 0   \n",
       "1324          95       REV            REV 6        2503                 0   \n",
       "1325          95       REV            REV 7        2452                 0   \n",
       "1326          95       REV            REV 8        1900                 0   \n",
       "1327          95       REV            REV 9        2838                 0   \n",
       "\n",
       "      proportion_typed  \n",
       "0             1.000000  \n",
       "1             1.000000  \n",
       "2             1.000000  \n",
       "3             0.647392  \n",
       "4             0.000000  \n",
       "...                ...  \n",
       "1323          0.000000  \n",
       "1324          0.000000  \n",
       "1325          0.000000  \n",
       "1326          0.000000  \n",
       "1327          0.000000  \n",
       "\n",
       "[1328 rows x 6 columns]"
      ]
     },
     "execution_count": 37,
     "metadata": {},
     "output_type": "execute_result"
    }
   ],
   "source": [
    "df_characters_typed_by_book_and_chapter = df_Bible.pivot_table(index = [\n",
    "'Book_Order', 'Book_Name', 'Book_and_Chapter'], values = [\n",
    "    'Characters', 'Characters_Typed'], aggfunc = 'sum').reset_index()\n",
    "df_characters_typed_by_book_and_chapter[\n",
    "'proportion_typed'] = df_characters_typed_by_book_and_chapter[\n",
    "'Characters_Typed'] / df_characters_typed_by_book_and_chapter['Characters']\n",
    "df_characters_typed_by_book_and_chapter.to_csv(\n",
    "    'Analyses/characters_typed_by_book_and_chapter.csv')\n",
    "df_characters_typed_by_book_and_chapter"
   ]
  },
  {
   "cell_type": "markdown",
   "metadata": {},
   "source": [
    "The following chart shows both books (as bars) and chapters (as sections of these bars). These sections are also color coded by the proportion of each chapter that has been typed."
   ]
  },
  {
   "cell_type": "code",
   "execution_count": 38,
   "metadata": {},
   "outputs": [
    {
     "data": {
      "application/vnd.plotly.v1+json": {
       "config": {
        "plotlyServerURL": "https://plot.ly"
       },
       "data": [
        {
         "alignmentgroup": "True",
         "hovertemplate": "Book_Name=%{x}<br>value=%{y}<br>proportion_typed=%{marker.color}<extra></extra>",
         "legendgroup": "",
         "marker": {
          "color": [
           1,
           1,
           1,
           0.6473918317832592,
           0,
           0,
           0,
           0,
           0,
           0,
           0,
           1,
           0,
           0,
           0,
           0,
           0,
           0,
           0,
           0,
           0,
           0,
           1,
           0,
           0,
           0,
           0,
           0,
           0,
           0,
           0,
           0,
           0,
           1,
           0,
           0,
           0,
           0,
           0,
           0,
           0,
           0,
           0,
           0,
           1,
           0,
           1,
           1,
           1,
           1,
           0,
           0,
           0,
           0,
           0,
           0,
           0,
           0,
           0.04460628129267182,
           0.04555256064690027,
           0,
           0,
           0,
           0,
           0,
           0,
           0,
           0,
           0,
           0,
           0,
           0,
           0.06560962274466922,
           0,
           0,
           0,
           0,
           0,
           0,
           0,
           0,
           0,
           0,
           0,
           0,
           0,
           0,
           0,
           0,
           0,
           0,
           0,
           0,
           0,
           0,
           0,
           0,
           0,
           0,
           0,
           0,
           0,
           0,
           0,
           0,
           0,
           0,
           0,
           0,
           0,
           0,
           0,
           0,
           0,
           0,
           0,
           0,
           0,
           0,
           0,
           0,
           0,
           0,
           0,
           0,
           0,
           0,
           0,
           0,
           0,
           0,
           0,
           0,
           0,
           0,
           0,
           0,
           0.052008238928939236,
           0,
           0,
           0,
           0,
           0,
           0,
           0,
           0,
           0,
           0,
           0,
           0,
           0,
           0,
           0,
           0,
           0,
           0,
           0,
           0,
           0,
           0,
           0,
           0,
           0,
           0,
           0,
           0,
           0,
           0,
           0,
           0,
           0,
           0,
           0,
           0,
           0,
           0,
           0,
           0,
           0,
           0,
           0,
           0,
           0,
           0,
           0,
           0,
           0,
           0,
           0,
           0,
           0,
           0,
           0,
           0,
           0,
           0,
           0,
           0,
           0,
           0,
           0,
           0,
           0,
           0,
           0,
           0,
           0,
           0,
           0,
           0,
           0,
           0,
           0,
           0,
           0,
           0,
           0,
           0,
           0,
           0,
           0,
           0,
           0,
           0.00515743756786102,
           0,
           0,
           0,
           0,
           0,
           0,
           0,
           0,
           0,
           0,
           0,
           0,
           0,
           0,
           0,
           0,
           0,
           0,
           0,
           0,
           0,
           0,
           0,
           0,
           0,
           0,
           0,
           0,
           0,
           0,
           0,
           0,
           0,
           0,
           0,
           0,
           0,
           0,
           0,
           0,
           0,
           0,
           0,
           0,
           0,
           0,
           0,
           0,
           0,
           0,
           0,
           0,
           0,
           0,
           0,
           0,
           0,
           0,
           0,
           0,
           0,
           0,
           0,
           0,
           0,
           0,
           0,
           0,
           0,
           0,
           0,
           0,
           0,
           0,
           0,
           0,
           0,
           0,
           0,
           0,
           0,
           0,
           0,
           0,
           0,
           0,
           0,
           0,
           0,
           0,
           0,
           0,
           0,
           0,
           0,
           0,
           0,
           0.0290626902008521,
           0,
           0,
           0,
           0,
           0,
           0,
           0,
           0,
           0,
           0,
           0,
           0,
           0,
           0,
           0,
           0,
           0,
           0,
           0,
           0,
           0,
           0,
           0,
           0,
           0,
           0,
           0,
           0,
           0,
           0,
           0,
           0,
           0,
           0,
           0,
           0,
           0,
           0,
           0,
           0,
           0,
           0,
           0,
           0,
           0,
           0,
           0,
           0,
           0,
           0,
           0,
           0,
           0,
           0,
           0,
           0,
           0,
           0,
           0,
           0,
           0,
           0,
           0,
           0,
           0,
           0,
           0,
           0,
           0,
           0,
           0,
           0,
           0,
           0,
           0,
           0,
           0,
           0,
           0,
           0,
           0,
           0,
           0,
           0,
           0,
           0,
           0,
           0,
           0,
           0,
           0,
           0,
           0,
           0,
           0,
           0,
           0,
           0,
           0,
           0,
           0,
           0,
           0,
           0,
           0,
           0,
           0,
           0,
           0,
           0,
           0,
           0,
           0,
           0,
           0,
           0,
           0,
           0,
           0,
           0,
           0,
           0,
           0,
           0,
           0,
           0,
           0,
           0,
           0,
           0,
           0,
           0,
           0,
           0,
           0,
           0,
           0,
           0,
           0,
           0,
           0,
           0,
           0,
           0,
           0,
           0,
           0,
           0,
           0,
           0,
           0,
           0,
           0,
           0,
           0,
           0,
           0,
           0,
           0,
           0,
           0,
           0,
           0,
           0,
           0,
           0,
           0,
           0,
           0,
           0,
           0,
           0,
           0,
           0,
           0,
           0,
           0,
           0,
           0,
           0,
           0,
           0,
           0,
           0,
           0,
           0,
           0,
           0,
           0,
           0,
           0,
           0,
           0,
           0,
           0,
           0,
           0,
           0,
           0,
           0,
           0,
           0,
           0,
           0,
           0,
           0,
           0,
           0,
           0,
           0,
           0,
           0,
           0,
           0,
           0,
           0,
           0,
           0,
           0,
           0,
           0,
           0,
           0,
           0,
           0,
           0,
           0,
           0,
           0,
           0,
           0,
           0,
           0,
           0,
           0,
           0,
           0,
           0,
           0,
           0,
           0,
           0,
           0,
           0,
           0,
           0,
           0,
           0,
           0,
           0,
           0,
           0,
           0,
           0,
           0,
           0,
           0,
           0,
           0,
           0,
           0,
           0,
           0,
           0,
           0,
           0,
           0,
           0,
           0,
           0,
           0,
           0,
           0,
           0,
           0,
           0,
           0,
           0,
           0,
           0,
           0,
           0,
           0,
           0,
           0,
           0,
           0,
           0,
           0,
           0,
           0,
           0,
           0,
           0,
           0,
           0,
           0,
           0,
           0,
           0,
           0,
           0,
           0,
           0,
           0,
           0,
           0,
           0,
           0,
           0,
           0,
           0,
           0,
           0,
           0,
           0,
           0,
           0,
           0,
           0,
           0,
           0,
           0,
           0,
           0,
           0,
           0,
           0,
           0,
           0,
           0,
           0,
           0,
           0,
           0,
           0,
           0,
           0,
           0,
           0,
           0.11255156157925751,
           0,
           0,
           0,
           0,
           0,
           0,
           0,
           0,
           0,
           0,
           0,
           0,
           0,
           0,
           0,
           0,
           0,
           0,
           0,
           0,
           0,
           0,
           0,
           0,
           0,
           0,
           0,
           0,
           0,
           0,
           0,
           0,
           0,
           0,
           0,
           0,
           0,
           0,
           0,
           0,
           0,
           0,
           0,
           0,
           0,
           0,
           0,
           0,
           0,
           0,
           0,
           0,
           0,
           0,
           0,
           0,
           0,
           0,
           0,
           0,
           0,
           0,
           0,
           0,
           0,
           0,
           0,
           0,
           0,
           0,
           0,
           0,
           0,
           0,
           0,
           0,
           0,
           0,
           0,
           0,
           0,
           0,
           0,
           0,
           0,
           0,
           0,
           0,
           0,
           0,
           0,
           0,
           0,
           0,
           0,
           0,
           0,
           0,
           0,
           0,
           0,
           0,
           0,
           0,
           0,
           0,
           0,
           0,
           0,
           0,
           0,
           0,
           0,
           0,
           0,
           0,
           0,
           0,
           0,
           0,
           0,
           0,
           0,
           0,
           0,
           0,
           0,
           0,
           0,
           0,
           0,
           0,
           0,
           0,
           0,
           0,
           0,
           0,
           0,
           0,
           0,
           0,
           0,
           0,
           0,
           0,
           0,
           0,
           0,
           0,
           0,
           0,
           0,
           0,
           0,
           0,
           0,
           0,
           0,
           0,
           0,
           0,
           0,
           0,
           0,
           0,
           0,
           0,
           0,
           0,
           0,
           0,
           0,
           0,
           0,
           0,
           0,
           0,
           0,
           0,
           0,
           0,
           0,
           0,
           0,
           0,
           0,
           0,
           0,
           0,
           0,
           0,
           0,
           0,
           0,
           0,
           0,
           0,
           0,
           0,
           0,
           0,
           0,
           0,
           0,
           0,
           0,
           0,
           0,
           0,
           0,
           0,
           0,
           0,
           0,
           0,
           0,
           0,
           0,
           0,
           0,
           0,
           0,
           0,
           0,
           0,
           0,
           0,
           0,
           0,
           0,
           0,
           0,
           0,
           0,
           0,
           0,
           0,
           0,
           0,
           0,
           0,
           0,
           0,
           0,
           0,
           0,
           0,
           0,
           0,
           0,
           0,
           0,
           0,
           0,
           0,
           0,
           0,
           0,
           0,
           0,
           0,
           0,
           0,
           0,
           0,
           0,
           0,
           0,
           0,
           0,
           0,
           0,
           0,
           0,
           0,
           0,
           0,
           0,
           0,
           0,
           0,
           0,
           0,
           0,
           0,
           0,
           0,
           0,
           0,
           0,
           0,
           0,
           0,
           0,
           0,
           0,
           0,
           0,
           0,
           0,
           0,
           0,
           0,
           0,
           0,
           0,
           0,
           0,
           0,
           0,
           0,
           0,
           0,
           0,
           0,
           0,
           0,
           0,
           0,
           0,
           0,
           0,
           0,
           0,
           0,
           0,
           0,
           0,
           0,
           0,
           0,
           0,
           0,
           0,
           0,
           0,
           0,
           0,
           0,
           0,
           0,
           0,
           0,
           0,
           0,
           0,
           0,
           0,
           0,
           0,
           0,
           0,
           0,
           0,
           0,
           0,
           0,
           0,
           0,
           0,
           0,
           0,
           0,
           0,
           0,
           0,
           0,
           0,
           0,
           0,
           0,
           0,
           0,
           0,
           0,
           0,
           0,
           0,
           0,
           0,
           0,
           0,
           0,
           0,
           0,
           0,
           0,
           0,
           0,
           0,
           0,
           0,
           0,
           0,
           0,
           0,
           0,
           0,
           0,
           0,
           0,
           0,
           0,
           0,
           0,
           0,
           0,
           0,
           0,
           0,
           0,
           0,
           0,
           0,
           0,
           0,
           0,
           0,
           0,
           0,
           0,
           0,
           0,
           0,
           0,
           0,
           0,
           0,
           0,
           0,
           0,
           0,
           0,
           0,
           0,
           0,
           0,
           0,
           0,
           0,
           0,
           0,
           0,
           0,
           0,
           0,
           0,
           0,
           0,
           0,
           0,
           0,
           0,
           0,
           0,
           0,
           0,
           0,
           0,
           0,
           0,
           0,
           0,
           0,
           0,
           0,
           0,
           0,
           0,
           0,
           0,
           0,
           0,
           0,
           0,
           0,
           0,
           0,
           0,
           0,
           0,
           0,
           0,
           0,
           0,
           0,
           0,
           0,
           0,
           0,
           0,
           0,
           0,
           0,
           0,
           0,
           0,
           0,
           0,
           0,
           0,
           0,
           0,
           0,
           0,
           0,
           0,
           0,
           0,
           0,
           0,
           0,
           0,
           0,
           0,
           0,
           0,
           0,
           0,
           0,
           0,
           0,
           0,
           0,
           0,
           0,
           0,
           0,
           0,
           0,
           0,
           0,
           0,
           0,
           0,
           0,
           0,
           0,
           0,
           0,
           0,
           0,
           0,
           0,
           0,
           0,
           0,
           0,
           0,
           0,
           0,
           0,
           0,
           0,
           0,
           0,
           0,
           0,
           0,
           0,
           0,
           0,
           0,
           0,
           0,
           0,
           0,
           0,
           0,
           0,
           0,
           0,
           0,
           0,
           0,
           0,
           0,
           0,
           0,
           0,
           0,
           0,
           0,
           0,
           0,
           0,
           0,
           0,
           0,
           0,
           0,
           0,
           0,
           0,
           0,
           0,
           0,
           0,
           0,
           0,
           0,
           0,
           0,
           0,
           0,
           0,
           0,
           0,
           0,
           0,
           0,
           0,
           0,
           0,
           0,
           0,
           0,
           0,
           0,
           0,
           0,
           0,
           0,
           0,
           0,
           0,
           0,
           0,
           0,
           0,
           0,
           0,
           0,
           0,
           1,
           1,
           1,
           1,
           1,
           0.294921875,
           1,
           0.03929500144466917,
           0,
           0,
           0,
           0,
           0,
           0,
           0,
           0,
           0,
           0,
           0,
           0,
           0,
           0,
           0.023238925199709513,
           0,
           0,
           0,
           0,
           0,
           0,
           0
          ],
          "coloraxis": "coloraxis",
          "pattern": {
           "shape": ""
          }
         },
         "name": "",
         "offsetgroup": "",
         "orientation": "v",
         "showlegend": false,
         "textposition": "auto",
         "type": "bar",
         "x": [
          "GEN",
          "GEN",
          "GEN",
          "GEN",
          "GEN",
          "GEN",
          "GEN",
          "GEN",
          "GEN",
          "GEN",
          "GEN",
          "GEN",
          "GEN",
          "GEN",
          "GEN",
          "GEN",
          "GEN",
          "GEN",
          "GEN",
          "GEN",
          "GEN",
          "GEN",
          "GEN",
          "GEN",
          "GEN",
          "GEN",
          "GEN",
          "GEN",
          "GEN",
          "GEN",
          "GEN",
          "GEN",
          "GEN",
          "GEN",
          "GEN",
          "GEN",
          "GEN",
          "GEN",
          "GEN",
          "GEN",
          "GEN",
          "GEN",
          "GEN",
          "GEN",
          "GEN",
          "GEN",
          "GEN",
          "GEN",
          "GEN",
          "GEN",
          "EXO",
          "EXO",
          "EXO",
          "EXO",
          "EXO",
          "EXO",
          "EXO",
          "EXO",
          "EXO",
          "EXO",
          "EXO",
          "EXO",
          "EXO",
          "EXO",
          "EXO",
          "EXO",
          "EXO",
          "EXO",
          "EXO",
          "EXO",
          "EXO",
          "EXO",
          "EXO",
          "EXO",
          "EXO",
          "EXO",
          "EXO",
          "EXO",
          "EXO",
          "EXO",
          "EXO",
          "EXO",
          "EXO",
          "EXO",
          "EXO",
          "EXO",
          "EXO",
          "EXO",
          "EXO",
          "EXO",
          "LEV",
          "LEV",
          "LEV",
          "LEV",
          "LEV",
          "LEV",
          "LEV",
          "LEV",
          "LEV",
          "LEV",
          "LEV",
          "LEV",
          "LEV",
          "LEV",
          "LEV",
          "LEV",
          "LEV",
          "LEV",
          "LEV",
          "LEV",
          "LEV",
          "LEV",
          "LEV",
          "LEV",
          "LEV",
          "LEV",
          "LEV",
          "NUM",
          "NUM",
          "NUM",
          "NUM",
          "NUM",
          "NUM",
          "NUM",
          "NUM",
          "NUM",
          "NUM",
          "NUM",
          "NUM",
          "NUM",
          "NUM",
          "NUM",
          "NUM",
          "NUM",
          "NUM",
          "NUM",
          "NUM",
          "NUM",
          "NUM",
          "NUM",
          "NUM",
          "NUM",
          "NUM",
          "NUM",
          "NUM",
          "NUM",
          "NUM",
          "NUM",
          "NUM",
          "NUM",
          "NUM",
          "NUM",
          "NUM",
          "DEU",
          "DEU",
          "DEU",
          "DEU",
          "DEU",
          "DEU",
          "DEU",
          "DEU",
          "DEU",
          "DEU",
          "DEU",
          "DEU",
          "DEU",
          "DEU",
          "DEU",
          "DEU",
          "DEU",
          "DEU",
          "DEU",
          "DEU",
          "DEU",
          "DEU",
          "DEU",
          "DEU",
          "DEU",
          "DEU",
          "DEU",
          "DEU",
          "DEU",
          "DEU",
          "DEU",
          "DEU",
          "DEU",
          "DEU",
          "JOS",
          "JOS",
          "JOS",
          "JOS",
          "JOS",
          "JOS",
          "JOS",
          "JOS",
          "JOS",
          "JOS",
          "JOS",
          "JOS",
          "JOS",
          "JOS",
          "JOS",
          "JOS",
          "JOS",
          "JOS",
          "JOS",
          "JOS",
          "JOS",
          "JOS",
          "JOS",
          "JOS",
          "JDG",
          "JDG",
          "JDG",
          "JDG",
          "JDG",
          "JDG",
          "JDG",
          "JDG",
          "JDG",
          "JDG",
          "JDG",
          "JDG",
          "JDG",
          "JDG",
          "JDG",
          "JDG",
          "JDG",
          "JDG",
          "JDG",
          "JDG",
          "JDG",
          "RUT",
          "RUT",
          "RUT",
          "RUT",
          "1SA",
          "1SA",
          "1SA",
          "1SA",
          "1SA",
          "1SA",
          "1SA",
          "1SA",
          "1SA",
          "1SA",
          "1SA",
          "1SA",
          "1SA",
          "1SA",
          "1SA",
          "1SA",
          "1SA",
          "1SA",
          "1SA",
          "1SA",
          "1SA",
          "1SA",
          "1SA",
          "1SA",
          "1SA",
          "1SA",
          "1SA",
          "1SA",
          "1SA",
          "1SA",
          "1SA",
          "2SA",
          "2SA",
          "2SA",
          "2SA",
          "2SA",
          "2SA",
          "2SA",
          "2SA",
          "2SA",
          "2SA",
          "2SA",
          "2SA",
          "2SA",
          "2SA",
          "2SA",
          "2SA",
          "2SA",
          "2SA",
          "2SA",
          "2SA",
          "2SA",
          "2SA",
          "2SA",
          "2SA",
          "1KI",
          "1KI",
          "1KI",
          "1KI",
          "1KI",
          "1KI",
          "1KI",
          "1KI",
          "1KI",
          "1KI",
          "1KI",
          "1KI",
          "1KI",
          "1KI",
          "1KI",
          "1KI",
          "1KI",
          "1KI",
          "1KI",
          "1KI",
          "1KI",
          "1KI",
          "2KI",
          "2KI",
          "2KI",
          "2KI",
          "2KI",
          "2KI",
          "2KI",
          "2KI",
          "2KI",
          "2KI",
          "2KI",
          "2KI",
          "2KI",
          "2KI",
          "2KI",
          "2KI",
          "2KI",
          "2KI",
          "2KI",
          "2KI",
          "2KI",
          "2KI",
          "2KI",
          "2KI",
          "2KI",
          "1CH",
          "1CH",
          "1CH",
          "1CH",
          "1CH",
          "1CH",
          "1CH",
          "1CH",
          "1CH",
          "1CH",
          "1CH",
          "1CH",
          "1CH",
          "1CH",
          "1CH",
          "1CH",
          "1CH",
          "1CH",
          "1CH",
          "1CH",
          "1CH",
          "1CH",
          "1CH",
          "1CH",
          "1CH",
          "1CH",
          "1CH",
          "1CH",
          "1CH",
          "2CH",
          "2CH",
          "2CH",
          "2CH",
          "2CH",
          "2CH",
          "2CH",
          "2CH",
          "2CH",
          "2CH",
          "2CH",
          "2CH",
          "2CH",
          "2CH",
          "2CH",
          "2CH",
          "2CH",
          "2CH",
          "2CH",
          "2CH",
          "2CH",
          "2CH",
          "2CH",
          "2CH",
          "2CH",
          "2CH",
          "2CH",
          "2CH",
          "2CH",
          "2CH",
          "2CH",
          "2CH",
          "2CH",
          "2CH",
          "2CH",
          "2CH",
          "EZR",
          "EZR",
          "EZR",
          "EZR",
          "EZR",
          "EZR",
          "EZR",
          "EZR",
          "EZR",
          "EZR",
          "NEH",
          "NEH",
          "NEH",
          "NEH",
          "NEH",
          "NEH",
          "NEH",
          "NEH",
          "NEH",
          "NEH",
          "NEH",
          "NEH",
          "NEH",
          "JOB",
          "JOB",
          "JOB",
          "JOB",
          "JOB",
          "JOB",
          "JOB",
          "JOB",
          "JOB",
          "JOB",
          "JOB",
          "JOB",
          "JOB",
          "JOB",
          "JOB",
          "JOB",
          "JOB",
          "JOB",
          "JOB",
          "JOB",
          "JOB",
          "JOB",
          "JOB",
          "JOB",
          "JOB",
          "JOB",
          "JOB",
          "JOB",
          "JOB",
          "JOB",
          "JOB",
          "JOB",
          "JOB",
          "JOB",
          "JOB",
          "JOB",
          "JOB",
          "JOB",
          "JOB",
          "JOB",
          "JOB",
          "JOB",
          "PSA",
          "PSA",
          "PSA",
          "PSA",
          "PSA",
          "PSA",
          "PSA",
          "PSA",
          "PSA",
          "PSA",
          "PSA",
          "PSA",
          "PSA",
          "PSA",
          "PSA",
          "PSA",
          "PSA",
          "PSA",
          "PSA",
          "PSA",
          "PSA",
          "PSA",
          "PSA",
          "PSA",
          "PSA",
          "PSA",
          "PSA",
          "PSA",
          "PSA",
          "PSA",
          "PSA",
          "PSA",
          "PSA",
          "PSA",
          "PSA",
          "PSA",
          "PSA",
          "PSA",
          "PSA",
          "PSA",
          "PSA",
          "PSA",
          "PSA",
          "PSA",
          "PSA",
          "PSA",
          "PSA",
          "PSA",
          "PSA",
          "PSA",
          "PSA",
          "PSA",
          "PSA",
          "PSA",
          "PSA",
          "PSA",
          "PSA",
          "PSA",
          "PSA",
          "PSA",
          "PSA",
          "PSA",
          "PSA",
          "PSA",
          "PSA",
          "PSA",
          "PSA",
          "PSA",
          "PSA",
          "PSA",
          "PSA",
          "PSA",
          "PSA",
          "PSA",
          "PSA",
          "PSA",
          "PSA",
          "PSA",
          "PSA",
          "PSA",
          "PSA",
          "PSA",
          "PSA",
          "PSA",
          "PSA",
          "PSA",
          "PSA",
          "PSA",
          "PSA",
          "PSA",
          "PSA",
          "PSA",
          "PSA",
          "PSA",
          "PSA",
          "PSA",
          "PSA",
          "PSA",
          "PSA",
          "PSA",
          "PSA",
          "PSA",
          "PSA",
          "PSA",
          "PSA",
          "PSA",
          "PSA",
          "PSA",
          "PSA",
          "PSA",
          "PSA",
          "PSA",
          "PSA",
          "PSA",
          "PSA",
          "PSA",
          "PSA",
          "PSA",
          "PSA",
          "PSA",
          "PSA",
          "PSA",
          "PSA",
          "PSA",
          "PSA",
          "PSA",
          "PSA",
          "PSA",
          "PSA",
          "PSA",
          "PSA",
          "PSA",
          "PSA",
          "PSA",
          "PSA",
          "PSA",
          "PSA",
          "PSA",
          "PSA",
          "PSA",
          "PSA",
          "PSA",
          "PSA",
          "PSA",
          "PSA",
          "PSA",
          "PSA",
          "PSA",
          "PSA",
          "PSA",
          "PRO",
          "PRO",
          "PRO",
          "PRO",
          "PRO",
          "PRO",
          "PRO",
          "PRO",
          "PRO",
          "PRO",
          "PRO",
          "PRO",
          "PRO",
          "PRO",
          "PRO",
          "PRO",
          "PRO",
          "PRO",
          "PRO",
          "PRO",
          "PRO",
          "PRO",
          "PRO",
          "PRO",
          "PRO",
          "PRO",
          "PRO",
          "PRO",
          "PRO",
          "PRO",
          "PRO",
          "ECC",
          "ECC",
          "ECC",
          "ECC",
          "ECC",
          "ECC",
          "ECC",
          "ECC",
          "ECC",
          "ECC",
          "ECC",
          "ECC",
          "SNG",
          "SNG",
          "SNG",
          "SNG",
          "SNG",
          "SNG",
          "SNG",
          "SNG",
          "ISA",
          "ISA",
          "ISA",
          "ISA",
          "ISA",
          "ISA",
          "ISA",
          "ISA",
          "ISA",
          "ISA",
          "ISA",
          "ISA",
          "ISA",
          "ISA",
          "ISA",
          "ISA",
          "ISA",
          "ISA",
          "ISA",
          "ISA",
          "ISA",
          "ISA",
          "ISA",
          "ISA",
          "ISA",
          "ISA",
          "ISA",
          "ISA",
          "ISA",
          "ISA",
          "ISA",
          "ISA",
          "ISA",
          "ISA",
          "ISA",
          "ISA",
          "ISA",
          "ISA",
          "ISA",
          "ISA",
          "ISA",
          "ISA",
          "ISA",
          "ISA",
          "ISA",
          "ISA",
          "ISA",
          "ISA",
          "ISA",
          "ISA",
          "ISA",
          "ISA",
          "ISA",
          "ISA",
          "ISA",
          "ISA",
          "ISA",
          "ISA",
          "ISA",
          "ISA",
          "ISA",
          "ISA",
          "ISA",
          "ISA",
          "ISA",
          "ISA",
          "JER",
          "JER",
          "JER",
          "JER",
          "JER",
          "JER",
          "JER",
          "JER",
          "JER",
          "JER",
          "JER",
          "JER",
          "JER",
          "JER",
          "JER",
          "JER",
          "JER",
          "JER",
          "JER",
          "JER",
          "JER",
          "JER",
          "JER",
          "JER",
          "JER",
          "JER",
          "JER",
          "JER",
          "JER",
          "JER",
          "JER",
          "JER",
          "JER",
          "JER",
          "JER",
          "JER",
          "JER",
          "JER",
          "JER",
          "JER",
          "JER",
          "JER",
          "JER",
          "JER",
          "JER",
          "JER",
          "JER",
          "JER",
          "JER",
          "JER",
          "JER",
          "JER",
          "LAM",
          "LAM",
          "LAM",
          "LAM",
          "LAM",
          "EZK",
          "EZK",
          "EZK",
          "EZK",
          "EZK",
          "EZK",
          "EZK",
          "EZK",
          "EZK",
          "EZK",
          "EZK",
          "EZK",
          "EZK",
          "EZK",
          "EZK",
          "EZK",
          "EZK",
          "EZK",
          "EZK",
          "EZK",
          "EZK",
          "EZK",
          "EZK",
          "EZK",
          "EZK",
          "EZK",
          "EZK",
          "EZK",
          "EZK",
          "EZK",
          "EZK",
          "EZK",
          "EZK",
          "EZK",
          "EZK",
          "EZK",
          "EZK",
          "EZK",
          "EZK",
          "EZK",
          "EZK",
          "EZK",
          "EZK",
          "EZK",
          "EZK",
          "EZK",
          "EZK",
          "EZK",
          "HOS",
          "HOS",
          "HOS",
          "HOS",
          "HOS",
          "HOS",
          "HOS",
          "HOS",
          "HOS",
          "HOS",
          "HOS",
          "HOS",
          "HOS",
          "HOS",
          "JOL",
          "JOL",
          "JOL",
          "AMO",
          "AMO",
          "AMO",
          "AMO",
          "AMO",
          "AMO",
          "AMO",
          "AMO",
          "AMO",
          "OBA",
          "JON",
          "JON",
          "JON",
          "JON",
          "MIC",
          "MIC",
          "MIC",
          "MIC",
          "MIC",
          "MIC",
          "MIC",
          "NAM",
          "NAM",
          "NAM",
          "HAB",
          "HAB",
          "HAB",
          "ZEP",
          "ZEP",
          "ZEP",
          "HAG",
          "HAG",
          "ZEC",
          "ZEC",
          "ZEC",
          "ZEC",
          "ZEC",
          "ZEC",
          "ZEC",
          "ZEC",
          "ZEC",
          "ZEC",
          "ZEC",
          "ZEC",
          "ZEC",
          "ZEC",
          "MAL",
          "MAL",
          "MAL",
          "MAL",
          "TOB",
          "TOB",
          "TOB",
          "TOB",
          "TOB",
          "TOB",
          "TOB",
          "TOB",
          "TOB",
          "TOB",
          "TOB",
          "TOB",
          "TOB",
          "TOB",
          "JDT",
          "JDT",
          "JDT",
          "JDT",
          "JDT",
          "JDT",
          "JDT",
          "JDT",
          "JDT",
          "JDT",
          "JDT",
          "JDT",
          "JDT",
          "JDT",
          "JDT",
          "JDT",
          "ESG",
          "ESG",
          "ESG",
          "ESG",
          "ESG",
          "ESG",
          "ESG",
          "ESG",
          "ESG",
          "ESG",
          "WIS",
          "WIS",
          "WIS",
          "WIS",
          "WIS",
          "WIS",
          "WIS",
          "WIS",
          "WIS",
          "WIS",
          "WIS",
          "WIS",
          "WIS",
          "WIS",
          "WIS",
          "WIS",
          "WIS",
          "WIS",
          "WIS",
          "SIR",
          "SIR",
          "SIR",
          "SIR",
          "SIR",
          "SIR",
          "SIR",
          "SIR",
          "SIR",
          "SIR",
          "SIR",
          "SIR",
          "SIR",
          "SIR",
          "SIR",
          "SIR",
          "SIR",
          "SIR",
          "SIR",
          "SIR",
          "SIR",
          "SIR",
          "SIR",
          "SIR",
          "SIR",
          "SIR",
          "SIR",
          "SIR",
          "SIR",
          "SIR",
          "SIR",
          "SIR",
          "SIR",
          "SIR",
          "SIR",
          "SIR",
          "SIR",
          "SIR",
          "SIR",
          "SIR",
          "SIR",
          "SIR",
          "SIR",
          "SIR",
          "SIR",
          "SIR",
          "SIR",
          "SIR",
          "SIR",
          "SIR",
          "SIR",
          "BAR",
          "BAR",
          "BAR",
          "BAR",
          "BAR",
          "BAR",
          "1MA",
          "1MA",
          "1MA",
          "1MA",
          "1MA",
          "1MA",
          "1MA",
          "1MA",
          "1MA",
          "1MA",
          "1MA",
          "1MA",
          "1MA",
          "1MA",
          "1MA",
          "1MA",
          "2MA",
          "2MA",
          "2MA",
          "2MA",
          "2MA",
          "2MA",
          "2MA",
          "2MA",
          "2MA",
          "2MA",
          "2MA",
          "2MA",
          "2MA",
          "2MA",
          "2MA",
          "DAG",
          "DAG",
          "DAG",
          "DAG",
          "DAG",
          "DAG",
          "DAG",
          "DAG",
          "DAG",
          "DAG",
          "DAG",
          "DAG",
          "DAG",
          "DAG",
          "MAT",
          "MAT",
          "MAT",
          "MAT",
          "MAT",
          "MAT",
          "MAT",
          "MAT",
          "MAT",
          "MAT",
          "MAT",
          "MAT",
          "MAT",
          "MAT",
          "MAT",
          "MAT",
          "MAT",
          "MAT",
          "MAT",
          "MAT",
          "MAT",
          "MAT",
          "MAT",
          "MAT",
          "MAT",
          "MAT",
          "MAT",
          "MAT",
          "MRK",
          "MRK",
          "MRK",
          "MRK",
          "MRK",
          "MRK",
          "MRK",
          "MRK",
          "MRK",
          "MRK",
          "MRK",
          "MRK",
          "MRK",
          "MRK",
          "MRK",
          "MRK",
          "LUK",
          "LUK",
          "LUK",
          "LUK",
          "LUK",
          "LUK",
          "LUK",
          "LUK",
          "LUK",
          "LUK",
          "LUK",
          "LUK",
          "LUK",
          "LUK",
          "LUK",
          "LUK",
          "LUK",
          "LUK",
          "LUK",
          "LUK",
          "LUK",
          "LUK",
          "LUK",
          "LUK",
          "JHN",
          "JHN",
          "JHN",
          "JHN",
          "JHN",
          "JHN",
          "JHN",
          "JHN",
          "JHN",
          "JHN",
          "JHN",
          "JHN",
          "JHN",
          "JHN",
          "JHN",
          "JHN",
          "JHN",
          "JHN",
          "JHN",
          "JHN",
          "JHN",
          "ACT",
          "ACT",
          "ACT",
          "ACT",
          "ACT",
          "ACT",
          "ACT",
          "ACT",
          "ACT",
          "ACT",
          "ACT",
          "ACT",
          "ACT",
          "ACT",
          "ACT",
          "ACT",
          "ACT",
          "ACT",
          "ACT",
          "ACT",
          "ACT",
          "ACT",
          "ACT",
          "ACT",
          "ACT",
          "ACT",
          "ACT",
          "ACT",
          "ROM",
          "ROM",
          "ROM",
          "ROM",
          "ROM",
          "ROM",
          "ROM",
          "ROM",
          "ROM",
          "ROM",
          "ROM",
          "ROM",
          "ROM",
          "ROM",
          "ROM",
          "ROM",
          "1CO",
          "1CO",
          "1CO",
          "1CO",
          "1CO",
          "1CO",
          "1CO",
          "1CO",
          "1CO",
          "1CO",
          "1CO",
          "1CO",
          "1CO",
          "1CO",
          "1CO",
          "1CO",
          "2CO",
          "2CO",
          "2CO",
          "2CO",
          "2CO",
          "2CO",
          "2CO",
          "2CO",
          "2CO",
          "2CO",
          "2CO",
          "2CO",
          "2CO",
          "GAL",
          "GAL",
          "GAL",
          "GAL",
          "GAL",
          "GAL",
          "EPH",
          "EPH",
          "EPH",
          "EPH",
          "EPH",
          "EPH",
          "PHP",
          "PHP",
          "PHP",
          "PHP",
          "COL",
          "COL",
          "COL",
          "COL",
          "1TH",
          "1TH",
          "1TH",
          "1TH",
          "1TH",
          "2TH",
          "2TH",
          "2TH",
          "1TI",
          "1TI",
          "1TI",
          "1TI",
          "1TI",
          "1TI",
          "2TI",
          "2TI",
          "2TI",
          "2TI",
          "TIT",
          "TIT",
          "TIT",
          "PHM",
          "HEB",
          "HEB",
          "HEB",
          "HEB",
          "HEB",
          "HEB",
          "HEB",
          "HEB",
          "HEB",
          "HEB",
          "HEB",
          "HEB",
          "HEB",
          "JAS",
          "JAS",
          "JAS",
          "JAS",
          "JAS",
          "1PE",
          "1PE",
          "1PE",
          "1PE",
          "1PE",
          "2PE",
          "2PE",
          "2PE",
          "1JN",
          "1JN",
          "1JN",
          "1JN",
          "1JN",
          "2JN",
          "3JN",
          "JUD",
          "REV",
          "REV",
          "REV",
          "REV",
          "REV",
          "REV",
          "REV",
          "REV",
          "REV",
          "REV",
          "REV",
          "REV",
          "REV",
          "REV",
          "REV",
          "REV",
          "REV",
          "REV",
          "REV",
          "REV",
          "REV",
          "REV"
         ],
         "xaxis": "x",
         "y": [
          3831,
          2582,
          3435,
          2473,
          2169,
          3050,
          2262,
          2022,
          3448,
          4059,
          5193,
          2966,
          2472,
          3750,
          2932,
          2577,
          8490,
          3454,
          4288,
          5813,
          2929,
          3955,
          3247,
          4945,
          6821,
          3980,
          2488,
          3891,
          3145,
          4463,
          4603,
          3806,
          2913,
          2993,
          2787,
          6768,
          4798,
          4533,
          4119,
          3559,
          3758,
          4875,
          3188,
          3845,
          2965,
          3412,
          2707,
          2669,
          2735,
          3130,
          2342,
          4368,
          1591,
          7280,
          3274,
          4584,
          3543,
          5078,
          2197,
          3710,
          3397,
          3073,
          2879,
          4271,
          3810,
          4133,
          2305,
          4284,
          4751,
          2830,
          6040,
          6359,
          3658,
          4767,
          2202,
          5310,
          3247,
          5077,
          4118,
          4655,
          3284,
          4249,
          5089,
          4090,
          3952,
          3075,
          3713,
          3399,
          4667,
          4841,
          2435,
          3271,
          5410,
          1256,
          8928,
          8144,
          4611,
          5593,
          2696,
          3564,
          4606,
          2302,
          4322,
          2889,
          4388,
          6241,
          2642,
          7552,
          6204,
          4663,
          2400,
          5361,
          3575,
          4327,
          5156,
          4739,
          3092,
          6742,
          4304,
          5003,
          1880,
          3654,
          6100,
          5472,
          6501,
          1575,
          5620,
          3422,
          4123,
          3919,
          4572,
          5635,
          3494,
          3085,
          2297,
          7751,
          3059,
          3884,
          5004,
          6494,
          2502,
          6171,
          5294,
          5010,
          3046,
          4921,
          2362,
          6812,
          4599,
          3726,
          10309,
          3584,
          3599,
          6224,
          2937,
          4562,
          5215,
          2988,
          3374,
          3373,
          3556,
          3506,
          3018,
          3067,
          5118,
          3144,
          3518,
          4358,
          3473,
          3268,
          2781,
          3280,
          2974,
          10263,
          4168,
          4131,
          3158,
          4970,
          6508,
          3867,
          1500,
          7404,
          4485,
          3171,
          4299,
          2833,
          4853,
          2863,
          6846,
          3593,
          2426,
          4382,
          2444,
          5194,
          1410,
          3455,
          3915,
          4996,
          3670,
          1611,
          5645,
          6794,
          2759,
          5078,
          2761,
          3531,
          2642,
          4427,
          4675,
          5716,
          3888,
          4942,
          2435,
          6169,
          2077,
          3495,
          3295,
          3095,
          5253,
          1860,
          5036,
          5206,
          3441,
          7368,
          3746,
          4249,
          3709,
          3931,
          6189,
          4785,
          4895,
          8189,
          3097,
          3674,
          2464,
          3270,
          3653,
          4246,
          2375,
          3806,
          3660,
          8109,
          4833,
          3267,
          8361,
          4042,
          3419,
          5345,
          6127,
          2472,
          3727,
          4132,
          3152,
          6840,
          4216,
          1940,
          4051,
          2144,
          2523,
          4756,
          1803,
          3554,
          2051,
          3692,
          2601,
          2674,
          4670,
          3434,
          3080,
          3811,
          4810,
          5527,
          5344,
          5406,
          3585,
          4637,
          5435,
          7023,
          4434,
          4192,
          3939,
          4631,
          4441,
          4241,
          5579,
          2131,
          3121,
          3321,
          4130,
          2366,
          1934,
          7452,
          4229,
          6313,
          5174,
          5170,
          4840,
          4757,
          5037,
          3067,
          6470,
          3470,
          7237,
          7113,
          4407,
          7377,
          4180,
          3633,
          2676,
          5002,
          7124,
          10862,
          4136,
          3104,
          5890,
          3587,
          3499,
          3834,
          4377,
          5406,
          3261,
          6572,
          6026,
          5628,
          3834,
          3218,
          3759,
          3468,
          7358,
          3030,
          4877,
          4215,
          6166,
          4732,
          4768,
          3976,
          4610,
          5769,
          3487,
          1881,
          5023,
          5168,
          1866,
          1763,
          3642,
          4366,
          3741,
          2199,
          3176,
          4798,
          1337,
          4553,
          3035,
          3473,
          2889,
          2912,
          3928,
          4257,
          4062,
          5052,
          1899,
          4424,
          3362,
          7362,
          4092,
          2644,
          5138,
          2650,
          2862,
          2562,
          2537,
          3315,
          2249,
          2582,
          2336,
          2420,
          5088,
          1853,
          3254,
          5907,
          3152,
          2230,
          3830,
          4624,
          4872,
          3717,
          1239,
          4613,
          6027,
          2410,
          4736,
          4062,
          5601,
          3932,
          6064,
          4911,
          3761,
          2825,
          2461,
          7100,
          3770,
          2768,
          4487,
          1903,
          4890,
          5613,
          2892,
          3923,
          2942,
          4056,
          4320,
          4982,
          3171,
          2009,
          3573,
          4057,
          5353,
          4952,
          3376,
          4734,
          3352,
          3279,
          2880,
          6460,
          3546,
          7109,
          3293,
          1930,
          1688,
          2045,
          1985,
          1938,
          2912,
          1806,
          1275,
          1642,
          2222,
          1945,
          2557,
          2580,
          2429,
          1356,
          2429,
          391,
          1086,
          1858,
          2228,
          1867,
          2134,
          2528,
          3419,
          1958,
          2608,
          3083,
          1317,
          2679,
          2032,
          3175,
          2542,
          1720,
          1770,
          2496,
          2239,
          2232,
          2465,
          1842,
          1734,
          2618,
          627,
          1711,
          462,
          857,
          2343,
          1826,
          2910,
          3226,
          4061,
          3518,
          1036,
          2659,
          724,
          711,
          894,
          906,
          629,
          549,
          1348,
          1366,
          162,
          2253,
          12577,
          834,
          455,
          553,
          662,
          435,
          620,
          564,
          516,
          558,
          518,
          634,
          548,
          561,
          341,
          1417,
          357,
          232,
          1608,
          2033,
          795,
          906,
          1979,
          805,
          1286,
          1016,
          759,
          1249,
          1446,
          1739,
          874,
          1522,
          1060,
          730,
          548,
          465,
          1029,
          1476,
          4727,
          1438,
          1032,
          795,
          1212,
          2877,
          594,
          886,
          1696,
          902,
          1607,
          1075,
          903,
          738,
          1133,
          2511,
          1231,
          1752,
          1790,
          2852,
          1220,
          3537,
          1702,
          1287,
          830,
          2067,
          1201,
          1382,
          588,
          2313,
          1829,
          1042,
          752,
          1173,
          1785,
          1317,
          1949,
          1781,
          1008,
          863,
          704,
          2200,
          1191,
          1247,
          1151,
          1805,
          882,
          1254,
          726,
          1194,
          1009,
          940,
          1341,
          1645,
          609,
          3609,
          3305,
          1737,
          508,
          2178,
          1838,
          2147,
          2150,
          946,
          1040,
          1701,
          6355,
          1465,
          887,
          1616,
          1464,
          642,
          1393,
          1211,
          1101,
          1509,
          611,
          1600,
          4441,
          1908,
          1536,
          1433,
          1263,
          462,
          1781,
          897,
          1132,
          1020,
          932,
          810,
          2732,
          2756,
          2856,
          2439,
          2107,
          2940,
          2744,
          2691,
          2484,
          1891,
          2517,
          1645,
          2508,
          2590,
          2345,
          2781,
          2846,
          2520,
          2257,
          2290,
          2518,
          2204,
          2746,
          3179,
          2332,
          2097,
          1763,
          2878,
          2077,
          2795,
          1453,
          1950,
          2010,
          1337,
          1897,
          3595,
          2447,
          1883,
          2608,
          1450,
          3099,
          2430,
          2713,
          1607,
          1697,
          1381,
          1932,
          1961,
          1498,
          1423,
          1704,
          3884,
          4612,
          2500,
          683,
          2894,
          4291,
          1286,
          2172,
          2175,
          1334,
          3607,
          2810,
          923,
          2109,
          3289,
          2420,
          2957,
          1829,
          2707,
          2045,
          4054,
          3804,
          2920,
          5202,
          1595,
          2211,
          3064,
          2502,
          1405,
          3426,
          5650,
          2791,
          1367,
          987,
          4034,
          4055,
          3328,
          3628,
          4439,
          3973,
          1710,
          2388,
          3072,
          4309,
          4289,
          1828,
          3742,
          2072,
          1957,
          2556,
          1928,
          1808,
          2886,
          2626,
          3164,
          1718,
          3367,
          1966,
          1762,
          2812,
          1578,
          3749,
          4102,
          3310,
          2804,
          3122,
          2550,
          3405,
          3727,
          2813,
          3736,
          3534,
          3427,
          3563,
          4173,
          3180,
          2730,
          5330,
          2975,
          2450,
          4226,
          6035,
          1717,
          5704,
          3903,
          3804,
          2724,
          5086,
          4230,
          3549,
          6400,
          7168,
          4241,
          4208,
          3331,
          5415,
          3130,
          4825,
          2746,
          4501,
          3441,
          3341,
          3647,
          2224,
          6249,
          717,
          4215,
          1136,
          5989,
          6121,
          4434,
          7592,
          9485,
          5420,
          4287,
          4907,
          3567,
          3989,
          4113,
          4547,
          4435,
          3106,
          1521,
          4273,
          3266,
          3479,
          3906,
          3682,
          3714,
          969,
          9537,
          3758,
          4746,
          1785,
          1360,
          7889,
          4665,
          4262,
          7022,
          3642,
          2640,
          3512,
          4680,
          3911,
          3435,
          3863,
          3607,
          3288,
          5249,
          5285,
          4779,
          2058,
          5884,
          4210,
          3801,
          4622,
          2536,
          7297,
          3983,
          2989,
          4330,
          5224,
          4379,
          4277,
          3904,
          5345,
          3108,
          2371,
          3812,
          3122,
          1928,
          1670,
          2237,
          1532,
          1578,
          2183,
          1156,
          3349,
          756,
          2610,
          1897,
          1276,
          2097,
          1722,
          2526,
          2589,
          4765,
          2907,
          2345,
          2182,
          1949,
          2184,
          3300,
          1980,
          2301,
          1979,
          2656,
          3265,
          2435,
          1019,
          1308,
          1624,
          2304,
          1902,
          1740,
          2339,
          2072,
          2111,
          2932,
          1994,
          1808,
          2644,
          2142,
          2802,
          2363,
          2748,
          2414,
          3035,
          2257,
          3232,
          3079,
          1927,
          2443,
          2329,
          1591,
          3601,
          1519,
          1477,
          1743,
          1636,
          1995,
          1905,
          3283,
          2557,
          2409,
          2846,
          2785,
          872,
          3380,
          1725,
          2097,
          2498,
          2593,
          2818,
          2000,
          3142,
          3408,
          2774,
          3011,
          2280,
          2292,
          575,
          2937,
          3984,
          4277,
          3161,
          3568,
          3242,
          2673,
          3786,
          4205,
          1267,
          2727,
          4047,
          3530,
          5611,
          5661,
          2937,
          5383,
          1760,
          3699,
          4094,
          6546,
          3174,
          2241,
          1465,
          6631,
          3801,
          2005,
          2904,
          2990,
          3712,
          2737,
          4162,
          2842,
          4131,
          3029,
          3735,
          3346,
          2838,
          1993,
          2474,
          2918,
          2628,
          3437,
          2601,
          2137,
          2479,
          2899,
          3230,
          1890,
          2743,
          2242,
          1603,
          2722,
          2282,
          2742,
          2353,
          1653,
          2861,
          2661,
          2958,
          3358,
          3055,
          2563,
          2184,
          2745,
          2568,
          2808,
          2754,
          2275,
          3074,
          2075,
          3114,
          2552,
          2216,
          2350,
          3172,
          3960,
          3869,
          2671,
          3043,
          2780,
          2802,
          3250,
          2476,
          3900,
          2659,
          2921,
          2646,
          1798,
          1376,
          3380,
          3163,
          3386,
          3121,
          1802,
          2001,
          3398,
          4787,
          3858,
          4004,
          1116,
          8736,
          7199,
          11781,
          10095,
          7096,
          6950,
          7141,
          5761,
          3448,
          7377,
          7566,
          7172,
          9193,
          8489,
          6161,
          4926,
          9254,
          5227,
          6464,
          5276,
          8185,
          4260,
          7609,
          6516,
          4873,
          6520,
          8732,
          4962,
          5276,
          6645,
          6616,
          5303,
          3099,
          3114,
          7785,
          2018,
          7399,
          5382,
          7688,
          12191,
          6536,
          5280,
          4779,
          4716,
          4292,
          5027,
          3025,
          4488,
          3304,
          5743,
          6884,
          3608,
          4008,
          3335,
          3145,
          4318,
          3644,
          3091,
          3865,
          5661,
          4293,
          4426,
          5304,
          5015,
          8109,
          6935,
          2146,
          1991,
          2756,
          5466,
          4092,
          3007,
          3728,
          4234,
          4676,
          5889,
          3795,
          5209,
          4087,
          7940,
          4665,
          2274,
          3436,
          3341,
          4409,
          4640,
          6468,
          4179,
          4104,
          5789,
          7776,
          4893,
          6590,
          6855,
          4226,
          3975,
          3523,
          3923,
          3772,
          4374,
          4962,
          5583,
          4687,
          3989,
          7018,
          5687,
          5140,
          4310,
          5051,
          4622,
          5912,
          5835,
          7043,
          7110,
          5023,
          3984,
          5946,
          5519,
          4177,
          3383,
          2976,
          3931,
          2971,
          5008,
          5306,
          2545,
          3779,
          3672,
          3762,
          5557,
          4963,
          7547,
          5118,
          6400,
          4116,
          3385,
          5555,
          3334,
          3277,
          6327,
          3320,
          4894,
          4960,
          4520,
          3541,
          5166,
          5227,
          4511,
          5416,
          3766,
          4644,
          3201,
          3845,
          3978,
          5344,
          4228,
          3253,
          4466,
          5108,
          1897,
          7154,
          4436,
          4989,
          3932,
          2379,
          4176,
          2208,
          1933,
          3065,
          3895,
          2408,
          3244,
          3031,
          3063,
          2549,
          2593,
          2981,
          4593,
          3653,
          3372,
          3421,
          3562,
          3127,
          1419,
          4702,
          5888,
          2202,
          1932,
          2292,
          2490,
          1699,
          2391,
          5010,
          1552,
          3242,
          3077,
          2326,
          3781,
          3117,
          1627,
          1987,
          1984,
          2189,
          2540,
          1869,
          2330,
          2876,
          2047,
          2468,
          2985,
          3308,
          3161,
          2474,
          1844,
          2658,
          2371,
          2244,
          3272,
          3061,
          2667,
          3318,
          3060,
          2609,
          2536,
          3474,
          2710,
          2527,
          1954,
          1285,
          2438,
          1586,
          2078,
          2172,
          1535,
          2006,
          1855,
          2406,
          1371,
          1677,
          1775,
          2683,
          2720,
          2144,
          2734,
          1773,
          2164,
          1966,
          1546,
          1622,
          2267,
          1709,
          4180,
          5078,
          3738,
          2712,
          2388,
          1887,
          2124,
          1628,
          2307,
          3382,
          2035,
          3826,
          2846,
          2656,
          1947,
          1863,
          2491,
          3333,
          2884,
          2805,
          2441,
          1669,
          2585,
          3244,
          2613,
          1214,
          3669,
          2684,
          2352,
          2444,
          1536,
          1525,
          3461,
          2750,
          1569,
          2921,
          2457,
          2639,
          3228,
          1222,
          2821,
          2698,
          3817,
          3204,
          4016,
          2355,
          3546,
          2754,
          3191,
          1767,
          2054,
          2503,
          2452,
          1900,
          2838
         ],
         "yaxis": "y"
        }
       ],
       "layout": {
        "barmode": "relative",
        "coloraxis": {
         "colorbar": {
          "title": {
           "text": "proportion_typed"
          }
         },
         "colorscale": [
          [
           0,
           "#0d0887"
          ],
          [
           0.1111111111111111,
           "#46039f"
          ],
          [
           0.2222222222222222,
           "#7201a8"
          ],
          [
           0.3333333333333333,
           "#9c179e"
          ],
          [
           0.4444444444444444,
           "#bd3786"
          ],
          [
           0.5555555555555556,
           "#d8576b"
          ],
          [
           0.6666666666666666,
           "#ed7953"
          ],
          [
           0.7777777777777778,
           "#fb9f3a"
          ],
          [
           0.8888888888888888,
           "#fdca26"
          ],
          [
           1,
           "#f0f921"
          ]
         ]
        },
        "legend": {
         "tracegroupgap": 0
        },
        "margin": {
         "t": 60
        },
        "template": {
         "data": {
          "bar": [
           {
            "error_x": {
             "color": "#2a3f5f"
            },
            "error_y": {
             "color": "#2a3f5f"
            },
            "marker": {
             "line": {
              "color": "#E5ECF6",
              "width": 0.5
             },
             "pattern": {
              "fillmode": "overlay",
              "size": 10,
              "solidity": 0.2
             }
            },
            "type": "bar"
           }
          ],
          "barpolar": [
           {
            "marker": {
             "line": {
              "color": "#E5ECF6",
              "width": 0.5
             },
             "pattern": {
              "fillmode": "overlay",
              "size": 10,
              "solidity": 0.2
             }
            },
            "type": "barpolar"
           }
          ],
          "carpet": [
           {
            "aaxis": {
             "endlinecolor": "#2a3f5f",
             "gridcolor": "white",
             "linecolor": "white",
             "minorgridcolor": "white",
             "startlinecolor": "#2a3f5f"
            },
            "baxis": {
             "endlinecolor": "#2a3f5f",
             "gridcolor": "white",
             "linecolor": "white",
             "minorgridcolor": "white",
             "startlinecolor": "#2a3f5f"
            },
            "type": "carpet"
           }
          ],
          "choropleth": [
           {
            "colorbar": {
             "outlinewidth": 0,
             "ticks": ""
            },
            "type": "choropleth"
           }
          ],
          "contour": [
           {
            "colorbar": {
             "outlinewidth": 0,
             "ticks": ""
            },
            "colorscale": [
             [
              0,
              "#0d0887"
             ],
             [
              0.1111111111111111,
              "#46039f"
             ],
             [
              0.2222222222222222,
              "#7201a8"
             ],
             [
              0.3333333333333333,
              "#9c179e"
             ],
             [
              0.4444444444444444,
              "#bd3786"
             ],
             [
              0.5555555555555556,
              "#d8576b"
             ],
             [
              0.6666666666666666,
              "#ed7953"
             ],
             [
              0.7777777777777778,
              "#fb9f3a"
             ],
             [
              0.8888888888888888,
              "#fdca26"
             ],
             [
              1,
              "#f0f921"
             ]
            ],
            "type": "contour"
           }
          ],
          "contourcarpet": [
           {
            "colorbar": {
             "outlinewidth": 0,
             "ticks": ""
            },
            "type": "contourcarpet"
           }
          ],
          "heatmap": [
           {
            "colorbar": {
             "outlinewidth": 0,
             "ticks": ""
            },
            "colorscale": [
             [
              0,
              "#0d0887"
             ],
             [
              0.1111111111111111,
              "#46039f"
             ],
             [
              0.2222222222222222,
              "#7201a8"
             ],
             [
              0.3333333333333333,
              "#9c179e"
             ],
             [
              0.4444444444444444,
              "#bd3786"
             ],
             [
              0.5555555555555556,
              "#d8576b"
             ],
             [
              0.6666666666666666,
              "#ed7953"
             ],
             [
              0.7777777777777778,
              "#fb9f3a"
             ],
             [
              0.8888888888888888,
              "#fdca26"
             ],
             [
              1,
              "#f0f921"
             ]
            ],
            "type": "heatmap"
           }
          ],
          "heatmapgl": [
           {
            "colorbar": {
             "outlinewidth": 0,
             "ticks": ""
            },
            "colorscale": [
             [
              0,
              "#0d0887"
             ],
             [
              0.1111111111111111,
              "#46039f"
             ],
             [
              0.2222222222222222,
              "#7201a8"
             ],
             [
              0.3333333333333333,
              "#9c179e"
             ],
             [
              0.4444444444444444,
              "#bd3786"
             ],
             [
              0.5555555555555556,
              "#d8576b"
             ],
             [
              0.6666666666666666,
              "#ed7953"
             ],
             [
              0.7777777777777778,
              "#fb9f3a"
             ],
             [
              0.8888888888888888,
              "#fdca26"
             ],
             [
              1,
              "#f0f921"
             ]
            ],
            "type": "heatmapgl"
           }
          ],
          "histogram": [
           {
            "marker": {
             "pattern": {
              "fillmode": "overlay",
              "size": 10,
              "solidity": 0.2
             }
            },
            "type": "histogram"
           }
          ],
          "histogram2d": [
           {
            "colorbar": {
             "outlinewidth": 0,
             "ticks": ""
            },
            "colorscale": [
             [
              0,
              "#0d0887"
             ],
             [
              0.1111111111111111,
              "#46039f"
             ],
             [
              0.2222222222222222,
              "#7201a8"
             ],
             [
              0.3333333333333333,
              "#9c179e"
             ],
             [
              0.4444444444444444,
              "#bd3786"
             ],
             [
              0.5555555555555556,
              "#d8576b"
             ],
             [
              0.6666666666666666,
              "#ed7953"
             ],
             [
              0.7777777777777778,
              "#fb9f3a"
             ],
             [
              0.8888888888888888,
              "#fdca26"
             ],
             [
              1,
              "#f0f921"
             ]
            ],
            "type": "histogram2d"
           }
          ],
          "histogram2dcontour": [
           {
            "colorbar": {
             "outlinewidth": 0,
             "ticks": ""
            },
            "colorscale": [
             [
              0,
              "#0d0887"
             ],
             [
              0.1111111111111111,
              "#46039f"
             ],
             [
              0.2222222222222222,
              "#7201a8"
             ],
             [
              0.3333333333333333,
              "#9c179e"
             ],
             [
              0.4444444444444444,
              "#bd3786"
             ],
             [
              0.5555555555555556,
              "#d8576b"
             ],
             [
              0.6666666666666666,
              "#ed7953"
             ],
             [
              0.7777777777777778,
              "#fb9f3a"
             ],
             [
              0.8888888888888888,
              "#fdca26"
             ],
             [
              1,
              "#f0f921"
             ]
            ],
            "type": "histogram2dcontour"
           }
          ],
          "mesh3d": [
           {
            "colorbar": {
             "outlinewidth": 0,
             "ticks": ""
            },
            "type": "mesh3d"
           }
          ],
          "parcoords": [
           {
            "line": {
             "colorbar": {
              "outlinewidth": 0,
              "ticks": ""
             }
            },
            "type": "parcoords"
           }
          ],
          "pie": [
           {
            "automargin": true,
            "type": "pie"
           }
          ],
          "scatter": [
           {
            "fillpattern": {
             "fillmode": "overlay",
             "size": 10,
             "solidity": 0.2
            },
            "type": "scatter"
           }
          ],
          "scatter3d": [
           {
            "line": {
             "colorbar": {
              "outlinewidth": 0,
              "ticks": ""
             }
            },
            "marker": {
             "colorbar": {
              "outlinewidth": 0,
              "ticks": ""
             }
            },
            "type": "scatter3d"
           }
          ],
          "scattercarpet": [
           {
            "marker": {
             "colorbar": {
              "outlinewidth": 0,
              "ticks": ""
             }
            },
            "type": "scattercarpet"
           }
          ],
          "scattergeo": [
           {
            "marker": {
             "colorbar": {
              "outlinewidth": 0,
              "ticks": ""
             }
            },
            "type": "scattergeo"
           }
          ],
          "scattergl": [
           {
            "marker": {
             "colorbar": {
              "outlinewidth": 0,
              "ticks": ""
             }
            },
            "type": "scattergl"
           }
          ],
          "scattermapbox": [
           {
            "marker": {
             "colorbar": {
              "outlinewidth": 0,
              "ticks": ""
             }
            },
            "type": "scattermapbox"
           }
          ],
          "scatterpolar": [
           {
            "marker": {
             "colorbar": {
              "outlinewidth": 0,
              "ticks": ""
             }
            },
            "type": "scatterpolar"
           }
          ],
          "scatterpolargl": [
           {
            "marker": {
             "colorbar": {
              "outlinewidth": 0,
              "ticks": ""
             }
            },
            "type": "scatterpolargl"
           }
          ],
          "scatterternary": [
           {
            "marker": {
             "colorbar": {
              "outlinewidth": 0,
              "ticks": ""
             }
            },
            "type": "scatterternary"
           }
          ],
          "surface": [
           {
            "colorbar": {
             "outlinewidth": 0,
             "ticks": ""
            },
            "colorscale": [
             [
              0,
              "#0d0887"
             ],
             [
              0.1111111111111111,
              "#46039f"
             ],
             [
              0.2222222222222222,
              "#7201a8"
             ],
             [
              0.3333333333333333,
              "#9c179e"
             ],
             [
              0.4444444444444444,
              "#bd3786"
             ],
             [
              0.5555555555555556,
              "#d8576b"
             ],
             [
              0.6666666666666666,
              "#ed7953"
             ],
             [
              0.7777777777777778,
              "#fb9f3a"
             ],
             [
              0.8888888888888888,
              "#fdca26"
             ],
             [
              1,
              "#f0f921"
             ]
            ],
            "type": "surface"
           }
          ],
          "table": [
           {
            "cells": {
             "fill": {
              "color": "#EBF0F8"
             },
             "line": {
              "color": "white"
             }
            },
            "header": {
             "fill": {
              "color": "#C8D4E3"
             },
             "line": {
              "color": "white"
             }
            },
            "type": "table"
           }
          ]
         },
         "layout": {
          "annotationdefaults": {
           "arrowcolor": "#2a3f5f",
           "arrowhead": 0,
           "arrowwidth": 1
          },
          "autotypenumbers": "strict",
          "coloraxis": {
           "colorbar": {
            "outlinewidth": 0,
            "ticks": ""
           }
          },
          "colorscale": {
           "diverging": [
            [
             0,
             "#8e0152"
            ],
            [
             0.1,
             "#c51b7d"
            ],
            [
             0.2,
             "#de77ae"
            ],
            [
             0.3,
             "#f1b6da"
            ],
            [
             0.4,
             "#fde0ef"
            ],
            [
             0.5,
             "#f7f7f7"
            ],
            [
             0.6,
             "#e6f5d0"
            ],
            [
             0.7,
             "#b8e186"
            ],
            [
             0.8,
             "#7fbc41"
            ],
            [
             0.9,
             "#4d9221"
            ],
            [
             1,
             "#276419"
            ]
           ],
           "sequential": [
            [
             0,
             "#0d0887"
            ],
            [
             0.1111111111111111,
             "#46039f"
            ],
            [
             0.2222222222222222,
             "#7201a8"
            ],
            [
             0.3333333333333333,
             "#9c179e"
            ],
            [
             0.4444444444444444,
             "#bd3786"
            ],
            [
             0.5555555555555556,
             "#d8576b"
            ],
            [
             0.6666666666666666,
             "#ed7953"
            ],
            [
             0.7777777777777778,
             "#fb9f3a"
            ],
            [
             0.8888888888888888,
             "#fdca26"
            ],
            [
             1,
             "#f0f921"
            ]
           ],
           "sequentialminus": [
            [
             0,
             "#0d0887"
            ],
            [
             0.1111111111111111,
             "#46039f"
            ],
            [
             0.2222222222222222,
             "#7201a8"
            ],
            [
             0.3333333333333333,
             "#9c179e"
            ],
            [
             0.4444444444444444,
             "#bd3786"
            ],
            [
             0.5555555555555556,
             "#d8576b"
            ],
            [
             0.6666666666666666,
             "#ed7953"
            ],
            [
             0.7777777777777778,
             "#fb9f3a"
            ],
            [
             0.8888888888888888,
             "#fdca26"
            ],
            [
             1,
             "#f0f921"
            ]
           ]
          },
          "colorway": [
           "#636efa",
           "#EF553B",
           "#00cc96",
           "#ab63fa",
           "#FFA15A",
           "#19d3f3",
           "#FF6692",
           "#B6E880",
           "#FF97FF",
           "#FECB52"
          ],
          "font": {
           "color": "#2a3f5f"
          },
          "geo": {
           "bgcolor": "white",
           "lakecolor": "white",
           "landcolor": "#E5ECF6",
           "showlakes": true,
           "showland": true,
           "subunitcolor": "white"
          },
          "hoverlabel": {
           "align": "left"
          },
          "hovermode": "closest",
          "mapbox": {
           "style": "light"
          },
          "paper_bgcolor": "white",
          "plot_bgcolor": "#E5ECF6",
          "polar": {
           "angularaxis": {
            "gridcolor": "white",
            "linecolor": "white",
            "ticks": ""
           },
           "bgcolor": "#E5ECF6",
           "radialaxis": {
            "gridcolor": "white",
            "linecolor": "white",
            "ticks": ""
           }
          },
          "scene": {
           "xaxis": {
            "backgroundcolor": "#E5ECF6",
            "gridcolor": "white",
            "gridwidth": 2,
            "linecolor": "white",
            "showbackground": true,
            "ticks": "",
            "zerolinecolor": "white"
           },
           "yaxis": {
            "backgroundcolor": "#E5ECF6",
            "gridcolor": "white",
            "gridwidth": 2,
            "linecolor": "white",
            "showbackground": true,
            "ticks": "",
            "zerolinecolor": "white"
           },
           "zaxis": {
            "backgroundcolor": "#E5ECF6",
            "gridcolor": "white",
            "gridwidth": 2,
            "linecolor": "white",
            "showbackground": true,
            "ticks": "",
            "zerolinecolor": "white"
           }
          },
          "shapedefaults": {
           "line": {
            "color": "#2a3f5f"
           }
          },
          "ternary": {
           "aaxis": {
            "gridcolor": "white",
            "linecolor": "white",
            "ticks": ""
           },
           "baxis": {
            "gridcolor": "white",
            "linecolor": "white",
            "ticks": ""
           },
           "bgcolor": "#E5ECF6",
           "caxis": {
            "gridcolor": "white",
            "linecolor": "white",
            "ticks": ""
           }
          },
          "title": {
           "x": 0.05
          },
          "xaxis": {
           "automargin": true,
           "gridcolor": "white",
           "linecolor": "white",
           "ticks": "",
           "title": {
            "standoff": 15
           },
           "zerolinecolor": "white",
           "zerolinewidth": 2
          },
          "yaxis": {
           "automargin": true,
           "gridcolor": "white",
           "linecolor": "white",
           "ticks": "",
           "title": {
            "standoff": 15
           },
           "zerolinecolor": "white",
           "zerolinewidth": 2
          }
         }
        },
        "xaxis": {
         "anchor": "y",
         "domain": [
          0,
          1
         ],
         "title": {
          "text": "Book_Name"
         }
        },
        "yaxis": {
         "anchor": "x",
         "domain": [
          0,
          1
         ],
         "title": {
          "text": "value"
         }
        }
       }
      }
     },
     "metadata": {},
     "output_type": "display_data"
    }
   ],
   "source": [
    "fig_characters_typed_in_each_book_and_chapter = px.bar(\n",
    "df_characters_typed_by_book_and_chapter, x = 'Book_Name', y = [\n",
    "    'Characters'], color = 'proportion_typed')\n",
    "fig_characters_typed_in_each_book_and_chapter.write_html(\n",
    "    'Analyses/characters_typed_by_book_and_chapter.html')\n",
    "fig_characters_typed_in_each_book_and_chapter.write_image(\n",
    "    'Analyses/characters_typed_by_book_and_chapter.png', \n",
    "    width = 1920, height = 1080, engine = 'kaleido', scale = 2)\n",
    "fig_characters_typed_in_each_book_and_chapter"
   ]
  },
  {
   "cell_type": "markdown",
   "metadata": {},
   "source": [
    "## Creating similar charts at the chapter level:\n",
    "\n",
    "These proved difficult to interpret due to the narrowness of the bars, so I'm commenting this code out for now."
   ]
  },
  {
   "cell_type": "code",
   "execution_count": 39,
   "metadata": {},
   "outputs": [],
   "source": [
    "# fig_proportion_of_each_chapter_typed = px.bar(df_characters_typed_by_chapter, \n",
    "# x = 'Book_and_Chapter', y = 'proportion_typed')\n",
    "# fig_proportion_of_each_chapter_typed.update_yaxes(range = [0, 1]) # Setting\n",
    "# # the maximum y value as 1 better demonstrates how much of the Bible\n",
    "# # has been typed so far\n",
    "# fig_proportion_of_each_chapter_typed.write_html(\n",
    "# 'Analyses/proportion_of_each_chapter_typed.html')\n",
    "# fig_proportion_of_each_chapter_typed\n",
    "\n",
    "# fig_characters_typed_in_each_chapter = px.bar(df_characters_typed_by_chapter, \n",
    "# x = 'Book_and_Chapter', y = ['Characters', 'Characters_Typed'], \n",
    "# barmode = 'overlay')\n",
    "# fig_characters_typed_in_each_chapter.write_html(\n",
    "# 'Analyses/characters_typed_by_chapter.html')\n",
    "# fig_characters_typed_in_each_chapter"
   ]
  },
  {
   "cell_type": "markdown",
   "metadata": {},
   "source": [
    "## Calculating the dates with the most characters and verses typed:"
   ]
  },
  {
   "cell_type": "code",
   "execution_count": 40,
   "metadata": {},
   "outputs": [],
   "source": [
    "df_top_dates_by_characters = df_results.pivot_table(\n",
    "    index = 'Local_Date', values = 'Characters', aggfunc = 'sum').reset_index(\n",
    "    ).sort_values('Characters', ascending = False).head(50)\n",
    "df_top_dates_by_characters['Rank'] = df_top_dates_by_characters[\n",
    "    'Characters'].rank(ascending = False, method = 'min').astype('int')\n",
    "# Creating a column that shows both the rank and date: (This also prevents\n",
    "# Plotly from converting the x axis to a date range, which would interfere\n",
    "# with the order of the chart items)\n",
    "df_top_dates_by_characters['Rank and Date'] = '#'+df_top_dates_by_characters[\n",
    "    'Rank'].astype('str') + ': ' + df_top_dates_by_characters[\n",
    "        'Local_Date'].astype('str')\n",
    "df_top_dates_by_characters.reset_index(drop=True,inplace=True)"
   ]
  },
  {
   "cell_type": "code",
   "execution_count": 41,
   "metadata": {},
   "outputs": [
    {
     "data": {
      "application/vnd.plotly.v1+json": {
       "config": {
        "plotlyServerURL": "https://plot.ly"
       },
       "data": [
        {
         "alignmentgroup": "True",
         "hovertemplate": "Rank and Date=%{x}<br>Characters=%{y}<extra></extra>",
         "legendgroup": "",
         "marker": {
          "color": "#636efa",
          "pattern": {
           "shape": ""
          }
         },
         "name": "",
         "offsetgroup": "",
         "orientation": "v",
         "showlegend": false,
         "textposition": "auto",
         "type": "bar",
         "x": [
          "#1: 2023-10-29",
          "#2: 2023-11-03",
          "#3: 2023-10-31",
          "#4: 2023-11-04",
          "#5: 2023-10-24",
          "#6: 2023-10-25",
          "#7: 2023-10-28",
          "#8: 2023-11-02",
          "#9: 2023-11-01",
          "#10: 2023-10-27"
         ],
         "xaxis": "x",
         "y": [
          29415,
          10528,
          4552,
          2337,
          2055,
          1227,
          774,
          612,
          103,
          53
         ],
         "yaxis": "y"
        }
       ],
       "layout": {
        "barmode": "relative",
        "legend": {
         "tracegroupgap": 0
        },
        "margin": {
         "t": 60
        },
        "template": {
         "data": {
          "bar": [
           {
            "error_x": {
             "color": "#2a3f5f"
            },
            "error_y": {
             "color": "#2a3f5f"
            },
            "marker": {
             "line": {
              "color": "#E5ECF6",
              "width": 0.5
             },
             "pattern": {
              "fillmode": "overlay",
              "size": 10,
              "solidity": 0.2
             }
            },
            "type": "bar"
           }
          ],
          "barpolar": [
           {
            "marker": {
             "line": {
              "color": "#E5ECF6",
              "width": 0.5
             },
             "pattern": {
              "fillmode": "overlay",
              "size": 10,
              "solidity": 0.2
             }
            },
            "type": "barpolar"
           }
          ],
          "carpet": [
           {
            "aaxis": {
             "endlinecolor": "#2a3f5f",
             "gridcolor": "white",
             "linecolor": "white",
             "minorgridcolor": "white",
             "startlinecolor": "#2a3f5f"
            },
            "baxis": {
             "endlinecolor": "#2a3f5f",
             "gridcolor": "white",
             "linecolor": "white",
             "minorgridcolor": "white",
             "startlinecolor": "#2a3f5f"
            },
            "type": "carpet"
           }
          ],
          "choropleth": [
           {
            "colorbar": {
             "outlinewidth": 0,
             "ticks": ""
            },
            "type": "choropleth"
           }
          ],
          "contour": [
           {
            "colorbar": {
             "outlinewidth": 0,
             "ticks": ""
            },
            "colorscale": [
             [
              0,
              "#0d0887"
             ],
             [
              0.1111111111111111,
              "#46039f"
             ],
             [
              0.2222222222222222,
              "#7201a8"
             ],
             [
              0.3333333333333333,
              "#9c179e"
             ],
             [
              0.4444444444444444,
              "#bd3786"
             ],
             [
              0.5555555555555556,
              "#d8576b"
             ],
             [
              0.6666666666666666,
              "#ed7953"
             ],
             [
              0.7777777777777778,
              "#fb9f3a"
             ],
             [
              0.8888888888888888,
              "#fdca26"
             ],
             [
              1,
              "#f0f921"
             ]
            ],
            "type": "contour"
           }
          ],
          "contourcarpet": [
           {
            "colorbar": {
             "outlinewidth": 0,
             "ticks": ""
            },
            "type": "contourcarpet"
           }
          ],
          "heatmap": [
           {
            "colorbar": {
             "outlinewidth": 0,
             "ticks": ""
            },
            "colorscale": [
             [
              0,
              "#0d0887"
             ],
             [
              0.1111111111111111,
              "#46039f"
             ],
             [
              0.2222222222222222,
              "#7201a8"
             ],
             [
              0.3333333333333333,
              "#9c179e"
             ],
             [
              0.4444444444444444,
              "#bd3786"
             ],
             [
              0.5555555555555556,
              "#d8576b"
             ],
             [
              0.6666666666666666,
              "#ed7953"
             ],
             [
              0.7777777777777778,
              "#fb9f3a"
             ],
             [
              0.8888888888888888,
              "#fdca26"
             ],
             [
              1,
              "#f0f921"
             ]
            ],
            "type": "heatmap"
           }
          ],
          "heatmapgl": [
           {
            "colorbar": {
             "outlinewidth": 0,
             "ticks": ""
            },
            "colorscale": [
             [
              0,
              "#0d0887"
             ],
             [
              0.1111111111111111,
              "#46039f"
             ],
             [
              0.2222222222222222,
              "#7201a8"
             ],
             [
              0.3333333333333333,
              "#9c179e"
             ],
             [
              0.4444444444444444,
              "#bd3786"
             ],
             [
              0.5555555555555556,
              "#d8576b"
             ],
             [
              0.6666666666666666,
              "#ed7953"
             ],
             [
              0.7777777777777778,
              "#fb9f3a"
             ],
             [
              0.8888888888888888,
              "#fdca26"
             ],
             [
              1,
              "#f0f921"
             ]
            ],
            "type": "heatmapgl"
           }
          ],
          "histogram": [
           {
            "marker": {
             "pattern": {
              "fillmode": "overlay",
              "size": 10,
              "solidity": 0.2
             }
            },
            "type": "histogram"
           }
          ],
          "histogram2d": [
           {
            "colorbar": {
             "outlinewidth": 0,
             "ticks": ""
            },
            "colorscale": [
             [
              0,
              "#0d0887"
             ],
             [
              0.1111111111111111,
              "#46039f"
             ],
             [
              0.2222222222222222,
              "#7201a8"
             ],
             [
              0.3333333333333333,
              "#9c179e"
             ],
             [
              0.4444444444444444,
              "#bd3786"
             ],
             [
              0.5555555555555556,
              "#d8576b"
             ],
             [
              0.6666666666666666,
              "#ed7953"
             ],
             [
              0.7777777777777778,
              "#fb9f3a"
             ],
             [
              0.8888888888888888,
              "#fdca26"
             ],
             [
              1,
              "#f0f921"
             ]
            ],
            "type": "histogram2d"
           }
          ],
          "histogram2dcontour": [
           {
            "colorbar": {
             "outlinewidth": 0,
             "ticks": ""
            },
            "colorscale": [
             [
              0,
              "#0d0887"
             ],
             [
              0.1111111111111111,
              "#46039f"
             ],
             [
              0.2222222222222222,
              "#7201a8"
             ],
             [
              0.3333333333333333,
              "#9c179e"
             ],
             [
              0.4444444444444444,
              "#bd3786"
             ],
             [
              0.5555555555555556,
              "#d8576b"
             ],
             [
              0.6666666666666666,
              "#ed7953"
             ],
             [
              0.7777777777777778,
              "#fb9f3a"
             ],
             [
              0.8888888888888888,
              "#fdca26"
             ],
             [
              1,
              "#f0f921"
             ]
            ],
            "type": "histogram2dcontour"
           }
          ],
          "mesh3d": [
           {
            "colorbar": {
             "outlinewidth": 0,
             "ticks": ""
            },
            "type": "mesh3d"
           }
          ],
          "parcoords": [
           {
            "line": {
             "colorbar": {
              "outlinewidth": 0,
              "ticks": ""
             }
            },
            "type": "parcoords"
           }
          ],
          "pie": [
           {
            "automargin": true,
            "type": "pie"
           }
          ],
          "scatter": [
           {
            "fillpattern": {
             "fillmode": "overlay",
             "size": 10,
             "solidity": 0.2
            },
            "type": "scatter"
           }
          ],
          "scatter3d": [
           {
            "line": {
             "colorbar": {
              "outlinewidth": 0,
              "ticks": ""
             }
            },
            "marker": {
             "colorbar": {
              "outlinewidth": 0,
              "ticks": ""
             }
            },
            "type": "scatter3d"
           }
          ],
          "scattercarpet": [
           {
            "marker": {
             "colorbar": {
              "outlinewidth": 0,
              "ticks": ""
             }
            },
            "type": "scattercarpet"
           }
          ],
          "scattergeo": [
           {
            "marker": {
             "colorbar": {
              "outlinewidth": 0,
              "ticks": ""
             }
            },
            "type": "scattergeo"
           }
          ],
          "scattergl": [
           {
            "marker": {
             "colorbar": {
              "outlinewidth": 0,
              "ticks": ""
             }
            },
            "type": "scattergl"
           }
          ],
          "scattermapbox": [
           {
            "marker": {
             "colorbar": {
              "outlinewidth": 0,
              "ticks": ""
             }
            },
            "type": "scattermapbox"
           }
          ],
          "scatterpolar": [
           {
            "marker": {
             "colorbar": {
              "outlinewidth": 0,
              "ticks": ""
             }
            },
            "type": "scatterpolar"
           }
          ],
          "scatterpolargl": [
           {
            "marker": {
             "colorbar": {
              "outlinewidth": 0,
              "ticks": ""
             }
            },
            "type": "scatterpolargl"
           }
          ],
          "scatterternary": [
           {
            "marker": {
             "colorbar": {
              "outlinewidth": 0,
              "ticks": ""
             }
            },
            "type": "scatterternary"
           }
          ],
          "surface": [
           {
            "colorbar": {
             "outlinewidth": 0,
             "ticks": ""
            },
            "colorscale": [
             [
              0,
              "#0d0887"
             ],
             [
              0.1111111111111111,
              "#46039f"
             ],
             [
              0.2222222222222222,
              "#7201a8"
             ],
             [
              0.3333333333333333,
              "#9c179e"
             ],
             [
              0.4444444444444444,
              "#bd3786"
             ],
             [
              0.5555555555555556,
              "#d8576b"
             ],
             [
              0.6666666666666666,
              "#ed7953"
             ],
             [
              0.7777777777777778,
              "#fb9f3a"
             ],
             [
              0.8888888888888888,
              "#fdca26"
             ],
             [
              1,
              "#f0f921"
             ]
            ],
            "type": "surface"
           }
          ],
          "table": [
           {
            "cells": {
             "fill": {
              "color": "#EBF0F8"
             },
             "line": {
              "color": "white"
             }
            },
            "header": {
             "fill": {
              "color": "#C8D4E3"
             },
             "line": {
              "color": "white"
             }
            },
            "type": "table"
           }
          ]
         },
         "layout": {
          "annotationdefaults": {
           "arrowcolor": "#2a3f5f",
           "arrowhead": 0,
           "arrowwidth": 1
          },
          "autotypenumbers": "strict",
          "coloraxis": {
           "colorbar": {
            "outlinewidth": 0,
            "ticks": ""
           }
          },
          "colorscale": {
           "diverging": [
            [
             0,
             "#8e0152"
            ],
            [
             0.1,
             "#c51b7d"
            ],
            [
             0.2,
             "#de77ae"
            ],
            [
             0.3,
             "#f1b6da"
            ],
            [
             0.4,
             "#fde0ef"
            ],
            [
             0.5,
             "#f7f7f7"
            ],
            [
             0.6,
             "#e6f5d0"
            ],
            [
             0.7,
             "#b8e186"
            ],
            [
             0.8,
             "#7fbc41"
            ],
            [
             0.9,
             "#4d9221"
            ],
            [
             1,
             "#276419"
            ]
           ],
           "sequential": [
            [
             0,
             "#0d0887"
            ],
            [
             0.1111111111111111,
             "#46039f"
            ],
            [
             0.2222222222222222,
             "#7201a8"
            ],
            [
             0.3333333333333333,
             "#9c179e"
            ],
            [
             0.4444444444444444,
             "#bd3786"
            ],
            [
             0.5555555555555556,
             "#d8576b"
            ],
            [
             0.6666666666666666,
             "#ed7953"
            ],
            [
             0.7777777777777778,
             "#fb9f3a"
            ],
            [
             0.8888888888888888,
             "#fdca26"
            ],
            [
             1,
             "#f0f921"
            ]
           ],
           "sequentialminus": [
            [
             0,
             "#0d0887"
            ],
            [
             0.1111111111111111,
             "#46039f"
            ],
            [
             0.2222222222222222,
             "#7201a8"
            ],
            [
             0.3333333333333333,
             "#9c179e"
            ],
            [
             0.4444444444444444,
             "#bd3786"
            ],
            [
             0.5555555555555556,
             "#d8576b"
            ],
            [
             0.6666666666666666,
             "#ed7953"
            ],
            [
             0.7777777777777778,
             "#fb9f3a"
            ],
            [
             0.8888888888888888,
             "#fdca26"
            ],
            [
             1,
             "#f0f921"
            ]
           ]
          },
          "colorway": [
           "#636efa",
           "#EF553B",
           "#00cc96",
           "#ab63fa",
           "#FFA15A",
           "#19d3f3",
           "#FF6692",
           "#B6E880",
           "#FF97FF",
           "#FECB52"
          ],
          "font": {
           "color": "#2a3f5f"
          },
          "geo": {
           "bgcolor": "white",
           "lakecolor": "white",
           "landcolor": "#E5ECF6",
           "showlakes": true,
           "showland": true,
           "subunitcolor": "white"
          },
          "hoverlabel": {
           "align": "left"
          },
          "hovermode": "closest",
          "mapbox": {
           "style": "light"
          },
          "paper_bgcolor": "white",
          "plot_bgcolor": "#E5ECF6",
          "polar": {
           "angularaxis": {
            "gridcolor": "white",
            "linecolor": "white",
            "ticks": ""
           },
           "bgcolor": "#E5ECF6",
           "radialaxis": {
            "gridcolor": "white",
            "linecolor": "white",
            "ticks": ""
           }
          },
          "scene": {
           "xaxis": {
            "backgroundcolor": "#E5ECF6",
            "gridcolor": "white",
            "gridwidth": 2,
            "linecolor": "white",
            "showbackground": true,
            "ticks": "",
            "zerolinecolor": "white"
           },
           "yaxis": {
            "backgroundcolor": "#E5ECF6",
            "gridcolor": "white",
            "gridwidth": 2,
            "linecolor": "white",
            "showbackground": true,
            "ticks": "",
            "zerolinecolor": "white"
           },
           "zaxis": {
            "backgroundcolor": "#E5ECF6",
            "gridcolor": "white",
            "gridwidth": 2,
            "linecolor": "white",
            "showbackground": true,
            "ticks": "",
            "zerolinecolor": "white"
           }
          },
          "shapedefaults": {
           "line": {
            "color": "#2a3f5f"
           }
          },
          "ternary": {
           "aaxis": {
            "gridcolor": "white",
            "linecolor": "white",
            "ticks": ""
           },
           "baxis": {
            "gridcolor": "white",
            "linecolor": "white",
            "ticks": ""
           },
           "bgcolor": "#E5ECF6",
           "caxis": {
            "gridcolor": "white",
            "linecolor": "white",
            "ticks": ""
           }
          },
          "title": {
           "x": 0.05
          },
          "xaxis": {
           "automargin": true,
           "gridcolor": "white",
           "linecolor": "white",
           "ticks": "",
           "title": {
            "standoff": 15
           },
           "zerolinecolor": "white",
           "zerolinewidth": 2
          },
          "yaxis": {
           "automargin": true,
           "gridcolor": "white",
           "linecolor": "white",
           "ticks": "",
           "title": {
            "standoff": 15
           },
           "zerolinecolor": "white",
           "zerolinewidth": 2
          }
         }
        },
        "xaxis": {
         "anchor": "y",
         "domain": [
          0,
          1
         ],
         "tickangle": 90,
         "title": {
          "text": "Rank and Date"
         }
        },
        "yaxis": {
         "anchor": "x",
         "domain": [
          0,
          1
         ],
         "title": {
          "text": "Characters"
         }
        }
       }
      }
     },
     "metadata": {},
     "output_type": "display_data"
    }
   ],
   "source": [
    "fig_top_dates_by_characters = px.bar(df_top_dates_by_characters, \n",
    "x = 'Rank and Date', y = 'Characters')\n",
    "fig_top_dates_by_characters.update_xaxes(tickangle = 90)\n",
    "fig_top_dates_by_characters.write_html('Analyses/top_dates_by_characters.html')\n",
    "fig_top_dates_by_characters.write_image(\n",
    "    'Analyses/top_dates_by_characters.png', \n",
    "    width = 1920, height = 1080, engine = 'kaleido', scale = 2)\n",
    "fig_top_dates_by_characters"
   ]
  },
  {
   "cell_type": "code",
   "execution_count": 42,
   "metadata": {},
   "outputs": [
    {
     "data": {
      "text/html": [
       "<div>\n",
       "<style scoped>\n",
       "    .dataframe tbody tr th:only-of-type {\n",
       "        vertical-align: middle;\n",
       "    }\n",
       "\n",
       "    .dataframe tbody tr th {\n",
       "        vertical-align: top;\n",
       "    }\n",
       "\n",
       "    .dataframe thead th {\n",
       "        text-align: right;\n",
       "    }\n",
       "</style>\n",
       "<table border=\"1\" class=\"dataframe\">\n",
       "  <thead>\n",
       "    <tr style=\"text-align: right;\">\n",
       "      <th></th>\n",
       "      <th>Local_Date</th>\n",
       "      <th>Verses</th>\n",
       "      <th>Rank</th>\n",
       "      <th>Rank and Date</th>\n",
       "    </tr>\n",
       "  </thead>\n",
       "  <tbody>\n",
       "    <tr>\n",
       "      <th>0</th>\n",
       "      <td>2023-10-29</td>\n",
       "      <td>251</td>\n",
       "      <td>1</td>\n",
       "      <td>#1: 2023-10-29</td>\n",
       "    </tr>\n",
       "    <tr>\n",
       "      <th>1</th>\n",
       "      <td>2023-11-03</td>\n",
       "      <td>103</td>\n",
       "      <td>2</td>\n",
       "      <td>#2: 2023-11-03</td>\n",
       "    </tr>\n",
       "    <tr>\n",
       "      <th>2</th>\n",
       "      <td>2023-10-31</td>\n",
       "      <td>39</td>\n",
       "      <td>3</td>\n",
       "      <td>#3: 2023-10-31</td>\n",
       "    </tr>\n",
       "    <tr>\n",
       "      <th>3</th>\n",
       "      <td>2023-10-24</td>\n",
       "      <td>21</td>\n",
       "      <td>4</td>\n",
       "      <td>#4: 2023-10-24</td>\n",
       "    </tr>\n",
       "    <tr>\n",
       "      <th>4</th>\n",
       "      <td>2023-11-04</td>\n",
       "      <td>19</td>\n",
       "      <td>5</td>\n",
       "      <td>#5: 2023-11-04</td>\n",
       "    </tr>\n",
       "    <tr>\n",
       "      <th>5</th>\n",
       "      <td>2023-10-25</td>\n",
       "      <td>12</td>\n",
       "      <td>6</td>\n",
       "      <td>#6: 2023-10-25</td>\n",
       "    </tr>\n",
       "    <tr>\n",
       "      <th>6</th>\n",
       "      <td>2023-10-28</td>\n",
       "      <td>8</td>\n",
       "      <td>7</td>\n",
       "      <td>#7: 2023-10-28</td>\n",
       "    </tr>\n",
       "    <tr>\n",
       "      <th>7</th>\n",
       "      <td>2023-11-02</td>\n",
       "      <td>6</td>\n",
       "      <td>8</td>\n",
       "      <td>#8: 2023-11-02</td>\n",
       "    </tr>\n",
       "    <tr>\n",
       "      <th>8</th>\n",
       "      <td>2023-10-27</td>\n",
       "      <td>1</td>\n",
       "      <td>9</td>\n",
       "      <td>#9: 2023-10-27</td>\n",
       "    </tr>\n",
       "    <tr>\n",
       "      <th>9</th>\n",
       "      <td>2023-11-01</td>\n",
       "      <td>1</td>\n",
       "      <td>9</td>\n",
       "      <td>#9: 2023-11-01</td>\n",
       "    </tr>\n",
       "  </tbody>\n",
       "</table>\n",
       "</div>"
      ],
      "text/plain": [
       "   Local_Date  Verses  Rank   Rank and Date\n",
       "0  2023-10-29     251     1  #1: 2023-10-29\n",
       "1  2023-11-03     103     2  #2: 2023-11-03\n",
       "2  2023-10-31      39     3  #3: 2023-10-31\n",
       "3  2023-10-24      21     4  #4: 2023-10-24\n",
       "4  2023-11-04      19     5  #5: 2023-11-04\n",
       "5  2023-10-25      12     6  #6: 2023-10-25\n",
       "6  2023-10-28       8     7  #7: 2023-10-28\n",
       "7  2023-11-02       6     8  #8: 2023-11-02\n",
       "8  2023-10-27       1     9  #9: 2023-10-27\n",
       "9  2023-11-01       1     9  #9: 2023-11-01"
      ]
     },
     "execution_count": 42,
     "metadata": {},
     "output_type": "execute_result"
    }
   ],
   "source": [
    "df_top_dates_by_verses = df_results.pivot_table(\n",
    "    index = 'Local_Date', values = 'Count', aggfunc = 'sum').reset_index(\n",
    "    ).rename(columns = {'Count':'Verses'}).sort_values(\n",
    "        'Verses', ascending = False).head(50)\n",
    "\n",
    "\n",
    "df_top_dates_by_verses['Rank'] = df_top_dates_by_verses['Verses'].rank(\n",
    "    ascending = False, method = 'min').astype('int')\n",
    "df_top_dates_by_verses['Rank and Date'] = '#'+df_top_dates_by_verses[\n",
    "    'Rank'].astype('str') + ': ' + df_top_dates_by_verses[\n",
    "        'Local_Date'].astype('str')\n",
    "df_top_dates_by_verses.reset_index(drop=True,inplace=True)\n",
    "df_top_dates_by_verses"
   ]
  },
  {
   "cell_type": "code",
   "execution_count": 43,
   "metadata": {},
   "outputs": [
    {
     "data": {
      "application/vnd.plotly.v1+json": {
       "config": {
        "plotlyServerURL": "https://plot.ly"
       },
       "data": [
        {
         "alignmentgroup": "True",
         "hovertemplate": "Rank and Date=%{x}<br>Verses=%{y}<extra></extra>",
         "legendgroup": "",
         "marker": {
          "color": "#636efa",
          "pattern": {
           "shape": ""
          }
         },
         "name": "",
         "offsetgroup": "",
         "orientation": "v",
         "showlegend": false,
         "textposition": "auto",
         "type": "bar",
         "x": [
          "#1: 2023-10-29",
          "#2: 2023-11-03",
          "#3: 2023-10-31",
          "#4: 2023-10-24",
          "#5: 2023-11-04",
          "#6: 2023-10-25",
          "#7: 2023-10-28",
          "#8: 2023-11-02",
          "#9: 2023-10-27",
          "#9: 2023-11-01"
         ],
         "xaxis": "x",
         "y": [
          251,
          103,
          39,
          21,
          19,
          12,
          8,
          6,
          1,
          1
         ],
         "yaxis": "y"
        }
       ],
       "layout": {
        "barmode": "relative",
        "legend": {
         "tracegroupgap": 0
        },
        "margin": {
         "t": 60
        },
        "template": {
         "data": {
          "bar": [
           {
            "error_x": {
             "color": "#2a3f5f"
            },
            "error_y": {
             "color": "#2a3f5f"
            },
            "marker": {
             "line": {
              "color": "#E5ECF6",
              "width": 0.5
             },
             "pattern": {
              "fillmode": "overlay",
              "size": 10,
              "solidity": 0.2
             }
            },
            "type": "bar"
           }
          ],
          "barpolar": [
           {
            "marker": {
             "line": {
              "color": "#E5ECF6",
              "width": 0.5
             },
             "pattern": {
              "fillmode": "overlay",
              "size": 10,
              "solidity": 0.2
             }
            },
            "type": "barpolar"
           }
          ],
          "carpet": [
           {
            "aaxis": {
             "endlinecolor": "#2a3f5f",
             "gridcolor": "white",
             "linecolor": "white",
             "minorgridcolor": "white",
             "startlinecolor": "#2a3f5f"
            },
            "baxis": {
             "endlinecolor": "#2a3f5f",
             "gridcolor": "white",
             "linecolor": "white",
             "minorgridcolor": "white",
             "startlinecolor": "#2a3f5f"
            },
            "type": "carpet"
           }
          ],
          "choropleth": [
           {
            "colorbar": {
             "outlinewidth": 0,
             "ticks": ""
            },
            "type": "choropleth"
           }
          ],
          "contour": [
           {
            "colorbar": {
             "outlinewidth": 0,
             "ticks": ""
            },
            "colorscale": [
             [
              0,
              "#0d0887"
             ],
             [
              0.1111111111111111,
              "#46039f"
             ],
             [
              0.2222222222222222,
              "#7201a8"
             ],
             [
              0.3333333333333333,
              "#9c179e"
             ],
             [
              0.4444444444444444,
              "#bd3786"
             ],
             [
              0.5555555555555556,
              "#d8576b"
             ],
             [
              0.6666666666666666,
              "#ed7953"
             ],
             [
              0.7777777777777778,
              "#fb9f3a"
             ],
             [
              0.8888888888888888,
              "#fdca26"
             ],
             [
              1,
              "#f0f921"
             ]
            ],
            "type": "contour"
           }
          ],
          "contourcarpet": [
           {
            "colorbar": {
             "outlinewidth": 0,
             "ticks": ""
            },
            "type": "contourcarpet"
           }
          ],
          "heatmap": [
           {
            "colorbar": {
             "outlinewidth": 0,
             "ticks": ""
            },
            "colorscale": [
             [
              0,
              "#0d0887"
             ],
             [
              0.1111111111111111,
              "#46039f"
             ],
             [
              0.2222222222222222,
              "#7201a8"
             ],
             [
              0.3333333333333333,
              "#9c179e"
             ],
             [
              0.4444444444444444,
              "#bd3786"
             ],
             [
              0.5555555555555556,
              "#d8576b"
             ],
             [
              0.6666666666666666,
              "#ed7953"
             ],
             [
              0.7777777777777778,
              "#fb9f3a"
             ],
             [
              0.8888888888888888,
              "#fdca26"
             ],
             [
              1,
              "#f0f921"
             ]
            ],
            "type": "heatmap"
           }
          ],
          "heatmapgl": [
           {
            "colorbar": {
             "outlinewidth": 0,
             "ticks": ""
            },
            "colorscale": [
             [
              0,
              "#0d0887"
             ],
             [
              0.1111111111111111,
              "#46039f"
             ],
             [
              0.2222222222222222,
              "#7201a8"
             ],
             [
              0.3333333333333333,
              "#9c179e"
             ],
             [
              0.4444444444444444,
              "#bd3786"
             ],
             [
              0.5555555555555556,
              "#d8576b"
             ],
             [
              0.6666666666666666,
              "#ed7953"
             ],
             [
              0.7777777777777778,
              "#fb9f3a"
             ],
             [
              0.8888888888888888,
              "#fdca26"
             ],
             [
              1,
              "#f0f921"
             ]
            ],
            "type": "heatmapgl"
           }
          ],
          "histogram": [
           {
            "marker": {
             "pattern": {
              "fillmode": "overlay",
              "size": 10,
              "solidity": 0.2
             }
            },
            "type": "histogram"
           }
          ],
          "histogram2d": [
           {
            "colorbar": {
             "outlinewidth": 0,
             "ticks": ""
            },
            "colorscale": [
             [
              0,
              "#0d0887"
             ],
             [
              0.1111111111111111,
              "#46039f"
             ],
             [
              0.2222222222222222,
              "#7201a8"
             ],
             [
              0.3333333333333333,
              "#9c179e"
             ],
             [
              0.4444444444444444,
              "#bd3786"
             ],
             [
              0.5555555555555556,
              "#d8576b"
             ],
             [
              0.6666666666666666,
              "#ed7953"
             ],
             [
              0.7777777777777778,
              "#fb9f3a"
             ],
             [
              0.8888888888888888,
              "#fdca26"
             ],
             [
              1,
              "#f0f921"
             ]
            ],
            "type": "histogram2d"
           }
          ],
          "histogram2dcontour": [
           {
            "colorbar": {
             "outlinewidth": 0,
             "ticks": ""
            },
            "colorscale": [
             [
              0,
              "#0d0887"
             ],
             [
              0.1111111111111111,
              "#46039f"
             ],
             [
              0.2222222222222222,
              "#7201a8"
             ],
             [
              0.3333333333333333,
              "#9c179e"
             ],
             [
              0.4444444444444444,
              "#bd3786"
             ],
             [
              0.5555555555555556,
              "#d8576b"
             ],
             [
              0.6666666666666666,
              "#ed7953"
             ],
             [
              0.7777777777777778,
              "#fb9f3a"
             ],
             [
              0.8888888888888888,
              "#fdca26"
             ],
             [
              1,
              "#f0f921"
             ]
            ],
            "type": "histogram2dcontour"
           }
          ],
          "mesh3d": [
           {
            "colorbar": {
             "outlinewidth": 0,
             "ticks": ""
            },
            "type": "mesh3d"
           }
          ],
          "parcoords": [
           {
            "line": {
             "colorbar": {
              "outlinewidth": 0,
              "ticks": ""
             }
            },
            "type": "parcoords"
           }
          ],
          "pie": [
           {
            "automargin": true,
            "type": "pie"
           }
          ],
          "scatter": [
           {
            "fillpattern": {
             "fillmode": "overlay",
             "size": 10,
             "solidity": 0.2
            },
            "type": "scatter"
           }
          ],
          "scatter3d": [
           {
            "line": {
             "colorbar": {
              "outlinewidth": 0,
              "ticks": ""
             }
            },
            "marker": {
             "colorbar": {
              "outlinewidth": 0,
              "ticks": ""
             }
            },
            "type": "scatter3d"
           }
          ],
          "scattercarpet": [
           {
            "marker": {
             "colorbar": {
              "outlinewidth": 0,
              "ticks": ""
             }
            },
            "type": "scattercarpet"
           }
          ],
          "scattergeo": [
           {
            "marker": {
             "colorbar": {
              "outlinewidth": 0,
              "ticks": ""
             }
            },
            "type": "scattergeo"
           }
          ],
          "scattergl": [
           {
            "marker": {
             "colorbar": {
              "outlinewidth": 0,
              "ticks": ""
             }
            },
            "type": "scattergl"
           }
          ],
          "scattermapbox": [
           {
            "marker": {
             "colorbar": {
              "outlinewidth": 0,
              "ticks": ""
             }
            },
            "type": "scattermapbox"
           }
          ],
          "scatterpolar": [
           {
            "marker": {
             "colorbar": {
              "outlinewidth": 0,
              "ticks": ""
             }
            },
            "type": "scatterpolar"
           }
          ],
          "scatterpolargl": [
           {
            "marker": {
             "colorbar": {
              "outlinewidth": 0,
              "ticks": ""
             }
            },
            "type": "scatterpolargl"
           }
          ],
          "scatterternary": [
           {
            "marker": {
             "colorbar": {
              "outlinewidth": 0,
              "ticks": ""
             }
            },
            "type": "scatterternary"
           }
          ],
          "surface": [
           {
            "colorbar": {
             "outlinewidth": 0,
             "ticks": ""
            },
            "colorscale": [
             [
              0,
              "#0d0887"
             ],
             [
              0.1111111111111111,
              "#46039f"
             ],
             [
              0.2222222222222222,
              "#7201a8"
             ],
             [
              0.3333333333333333,
              "#9c179e"
             ],
             [
              0.4444444444444444,
              "#bd3786"
             ],
             [
              0.5555555555555556,
              "#d8576b"
             ],
             [
              0.6666666666666666,
              "#ed7953"
             ],
             [
              0.7777777777777778,
              "#fb9f3a"
             ],
             [
              0.8888888888888888,
              "#fdca26"
             ],
             [
              1,
              "#f0f921"
             ]
            ],
            "type": "surface"
           }
          ],
          "table": [
           {
            "cells": {
             "fill": {
              "color": "#EBF0F8"
             },
             "line": {
              "color": "white"
             }
            },
            "header": {
             "fill": {
              "color": "#C8D4E3"
             },
             "line": {
              "color": "white"
             }
            },
            "type": "table"
           }
          ]
         },
         "layout": {
          "annotationdefaults": {
           "arrowcolor": "#2a3f5f",
           "arrowhead": 0,
           "arrowwidth": 1
          },
          "autotypenumbers": "strict",
          "coloraxis": {
           "colorbar": {
            "outlinewidth": 0,
            "ticks": ""
           }
          },
          "colorscale": {
           "diverging": [
            [
             0,
             "#8e0152"
            ],
            [
             0.1,
             "#c51b7d"
            ],
            [
             0.2,
             "#de77ae"
            ],
            [
             0.3,
             "#f1b6da"
            ],
            [
             0.4,
             "#fde0ef"
            ],
            [
             0.5,
             "#f7f7f7"
            ],
            [
             0.6,
             "#e6f5d0"
            ],
            [
             0.7,
             "#b8e186"
            ],
            [
             0.8,
             "#7fbc41"
            ],
            [
             0.9,
             "#4d9221"
            ],
            [
             1,
             "#276419"
            ]
           ],
           "sequential": [
            [
             0,
             "#0d0887"
            ],
            [
             0.1111111111111111,
             "#46039f"
            ],
            [
             0.2222222222222222,
             "#7201a8"
            ],
            [
             0.3333333333333333,
             "#9c179e"
            ],
            [
             0.4444444444444444,
             "#bd3786"
            ],
            [
             0.5555555555555556,
             "#d8576b"
            ],
            [
             0.6666666666666666,
             "#ed7953"
            ],
            [
             0.7777777777777778,
             "#fb9f3a"
            ],
            [
             0.8888888888888888,
             "#fdca26"
            ],
            [
             1,
             "#f0f921"
            ]
           ],
           "sequentialminus": [
            [
             0,
             "#0d0887"
            ],
            [
             0.1111111111111111,
             "#46039f"
            ],
            [
             0.2222222222222222,
             "#7201a8"
            ],
            [
             0.3333333333333333,
             "#9c179e"
            ],
            [
             0.4444444444444444,
             "#bd3786"
            ],
            [
             0.5555555555555556,
             "#d8576b"
            ],
            [
             0.6666666666666666,
             "#ed7953"
            ],
            [
             0.7777777777777778,
             "#fb9f3a"
            ],
            [
             0.8888888888888888,
             "#fdca26"
            ],
            [
             1,
             "#f0f921"
            ]
           ]
          },
          "colorway": [
           "#636efa",
           "#EF553B",
           "#00cc96",
           "#ab63fa",
           "#FFA15A",
           "#19d3f3",
           "#FF6692",
           "#B6E880",
           "#FF97FF",
           "#FECB52"
          ],
          "font": {
           "color": "#2a3f5f"
          },
          "geo": {
           "bgcolor": "white",
           "lakecolor": "white",
           "landcolor": "#E5ECF6",
           "showlakes": true,
           "showland": true,
           "subunitcolor": "white"
          },
          "hoverlabel": {
           "align": "left"
          },
          "hovermode": "closest",
          "mapbox": {
           "style": "light"
          },
          "paper_bgcolor": "white",
          "plot_bgcolor": "#E5ECF6",
          "polar": {
           "angularaxis": {
            "gridcolor": "white",
            "linecolor": "white",
            "ticks": ""
           },
           "bgcolor": "#E5ECF6",
           "radialaxis": {
            "gridcolor": "white",
            "linecolor": "white",
            "ticks": ""
           }
          },
          "scene": {
           "xaxis": {
            "backgroundcolor": "#E5ECF6",
            "gridcolor": "white",
            "gridwidth": 2,
            "linecolor": "white",
            "showbackground": true,
            "ticks": "",
            "zerolinecolor": "white"
           },
           "yaxis": {
            "backgroundcolor": "#E5ECF6",
            "gridcolor": "white",
            "gridwidth": 2,
            "linecolor": "white",
            "showbackground": true,
            "ticks": "",
            "zerolinecolor": "white"
           },
           "zaxis": {
            "backgroundcolor": "#E5ECF6",
            "gridcolor": "white",
            "gridwidth": 2,
            "linecolor": "white",
            "showbackground": true,
            "ticks": "",
            "zerolinecolor": "white"
           }
          },
          "shapedefaults": {
           "line": {
            "color": "#2a3f5f"
           }
          },
          "ternary": {
           "aaxis": {
            "gridcolor": "white",
            "linecolor": "white",
            "ticks": ""
           },
           "baxis": {
            "gridcolor": "white",
            "linecolor": "white",
            "ticks": ""
           },
           "bgcolor": "#E5ECF6",
           "caxis": {
            "gridcolor": "white",
            "linecolor": "white",
            "ticks": ""
           }
          },
          "title": {
           "x": 0.05
          },
          "xaxis": {
           "automargin": true,
           "gridcolor": "white",
           "linecolor": "white",
           "ticks": "",
           "title": {
            "standoff": 15
           },
           "zerolinecolor": "white",
           "zerolinewidth": 2
          },
          "yaxis": {
           "automargin": true,
           "gridcolor": "white",
           "linecolor": "white",
           "ticks": "",
           "title": {
            "standoff": 15
           },
           "zerolinecolor": "white",
           "zerolinewidth": 2
          }
         }
        },
        "xaxis": {
         "anchor": "y",
         "domain": [
          0,
          1
         ],
         "tickangle": 90,
         "title": {
          "text": "Rank and Date"
         }
        },
        "yaxis": {
         "anchor": "x",
         "domain": [
          0,
          1
         ],
         "title": {
          "text": "Verses"
         }
        }
       }
      }
     },
     "metadata": {},
     "output_type": "display_data"
    }
   ],
   "source": [
    "fig_top_dates_by_verses = px.bar(df_top_dates_by_verses, \n",
    "x = 'Rank and Date', y = 'Verses')\n",
    "fig_top_dates_by_verses.update_xaxes(tickangle = 90)\n",
    "fig_top_dates_by_verses.write_html('Analyses/top_dates_by_verses.html')\n",
    "fig_top_dates_by_verses.write_image(\n",
    "    'Analyses/top_dates_by_verses.png', \n",
    "    width = 1920, height = 1080, engine = 'kaleido', scale = 2)\n",
    "fig_top_dates_by_verses"
   ]
  },
  {
   "cell_type": "markdown",
   "metadata": {},
   "source": [
    "## Performing similar analyses by month:"
   ]
  },
  {
   "cell_type": "code",
   "execution_count": 44,
   "metadata": {},
   "outputs": [
    {
     "data": {
      "text/html": [
       "<div>\n",
       "<style scoped>\n",
       "    .dataframe tbody tr th:only-of-type {\n",
       "        vertical-align: middle;\n",
       "    }\n",
       "\n",
       "    .dataframe tbody tr th {\n",
       "        vertical-align: top;\n",
       "    }\n",
       "\n",
       "    .dataframe thead th {\n",
       "        text-align: right;\n",
       "    }\n",
       "</style>\n",
       "<table border=\"1\" class=\"dataframe\">\n",
       "  <thead>\n",
       "    <tr style=\"text-align: right;\">\n",
       "      <th></th>\n",
       "      <th>Local_Year</th>\n",
       "      <th>Local_Month</th>\n",
       "      <th>Characters</th>\n",
       "      <th>Rank</th>\n",
       "      <th>Rank and Month</th>\n",
       "    </tr>\n",
       "  </thead>\n",
       "  <tbody>\n",
       "    <tr>\n",
       "      <th>0</th>\n",
       "      <td>2023</td>\n",
       "      <td>10</td>\n",
       "      <td>38076</td>\n",
       "      <td>1</td>\n",
       "      <td>#1: 2023-10</td>\n",
       "    </tr>\n",
       "    <tr>\n",
       "      <th>1</th>\n",
       "      <td>2023</td>\n",
       "      <td>11</td>\n",
       "      <td>13580</td>\n",
       "      <td>2</td>\n",
       "      <td>#2: 2023-11</td>\n",
       "    </tr>\n",
       "  </tbody>\n",
       "</table>\n",
       "</div>"
      ],
      "text/plain": [
       "   Local_Year  Local_Month  Characters  Rank Rank and Month\n",
       "0        2023           10       38076     1    #1: 2023-10\n",
       "1        2023           11       13580     2    #2: 2023-11"
      ]
     },
     "execution_count": 44,
     "metadata": {},
     "output_type": "execute_result"
    }
   ],
   "source": [
    "df_top_months_by_characters = df_results.pivot_table(\n",
    "    index = ['Local_Year', 'Local_Month'], \n",
    "    values = 'Characters', aggfunc = 'sum').reset_index(\n",
    "    ).sort_values('Characters', ascending = False).head(50)\n",
    "\n",
    "df_top_months_by_characters['Rank'] = df_top_months_by_characters[\n",
    "'Characters'].rank(ascending = False, method = 'min').astype('int')\n",
    "df_top_months_by_characters['Rank and Month'] = '#'+df_top_months_by_characters[\n",
    "    'Rank'].astype('str') + ': ' + df_top_months_by_characters[\n",
    "        'Local_Year'].astype('str') + '-' + df_top_months_by_characters[\n",
    "            'Local_Month'].astype('str')\n",
    "df_top_months_by_characters.reset_index(drop=True,inplace=True)\n",
    "\n",
    "df_top_months_by_characters"
   ]
  },
  {
   "cell_type": "code",
   "execution_count": 45,
   "metadata": {},
   "outputs": [
    {
     "data": {
      "application/vnd.plotly.v1+json": {
       "config": {
        "plotlyServerURL": "https://plot.ly"
       },
       "data": [
        {
         "alignmentgroup": "True",
         "hovertemplate": "Rank and Month=%{x}<br>Characters=%{y}<extra></extra>",
         "legendgroup": "",
         "marker": {
          "color": "#636efa",
          "pattern": {
           "shape": ""
          }
         },
         "name": "",
         "offsetgroup": "",
         "orientation": "v",
         "showlegend": false,
         "textposition": "auto",
         "type": "bar",
         "x": [
          "#1: 2023-10",
          "#2: 2023-11"
         ],
         "xaxis": "x",
         "y": [
          38076,
          13580
         ],
         "yaxis": "y"
        }
       ],
       "layout": {
        "barmode": "relative",
        "legend": {
         "tracegroupgap": 0
        },
        "margin": {
         "t": 60
        },
        "template": {
         "data": {
          "bar": [
           {
            "error_x": {
             "color": "#2a3f5f"
            },
            "error_y": {
             "color": "#2a3f5f"
            },
            "marker": {
             "line": {
              "color": "#E5ECF6",
              "width": 0.5
             },
             "pattern": {
              "fillmode": "overlay",
              "size": 10,
              "solidity": 0.2
             }
            },
            "type": "bar"
           }
          ],
          "barpolar": [
           {
            "marker": {
             "line": {
              "color": "#E5ECF6",
              "width": 0.5
             },
             "pattern": {
              "fillmode": "overlay",
              "size": 10,
              "solidity": 0.2
             }
            },
            "type": "barpolar"
           }
          ],
          "carpet": [
           {
            "aaxis": {
             "endlinecolor": "#2a3f5f",
             "gridcolor": "white",
             "linecolor": "white",
             "minorgridcolor": "white",
             "startlinecolor": "#2a3f5f"
            },
            "baxis": {
             "endlinecolor": "#2a3f5f",
             "gridcolor": "white",
             "linecolor": "white",
             "minorgridcolor": "white",
             "startlinecolor": "#2a3f5f"
            },
            "type": "carpet"
           }
          ],
          "choropleth": [
           {
            "colorbar": {
             "outlinewidth": 0,
             "ticks": ""
            },
            "type": "choropleth"
           }
          ],
          "contour": [
           {
            "colorbar": {
             "outlinewidth": 0,
             "ticks": ""
            },
            "colorscale": [
             [
              0,
              "#0d0887"
             ],
             [
              0.1111111111111111,
              "#46039f"
             ],
             [
              0.2222222222222222,
              "#7201a8"
             ],
             [
              0.3333333333333333,
              "#9c179e"
             ],
             [
              0.4444444444444444,
              "#bd3786"
             ],
             [
              0.5555555555555556,
              "#d8576b"
             ],
             [
              0.6666666666666666,
              "#ed7953"
             ],
             [
              0.7777777777777778,
              "#fb9f3a"
             ],
             [
              0.8888888888888888,
              "#fdca26"
             ],
             [
              1,
              "#f0f921"
             ]
            ],
            "type": "contour"
           }
          ],
          "contourcarpet": [
           {
            "colorbar": {
             "outlinewidth": 0,
             "ticks": ""
            },
            "type": "contourcarpet"
           }
          ],
          "heatmap": [
           {
            "colorbar": {
             "outlinewidth": 0,
             "ticks": ""
            },
            "colorscale": [
             [
              0,
              "#0d0887"
             ],
             [
              0.1111111111111111,
              "#46039f"
             ],
             [
              0.2222222222222222,
              "#7201a8"
             ],
             [
              0.3333333333333333,
              "#9c179e"
             ],
             [
              0.4444444444444444,
              "#bd3786"
             ],
             [
              0.5555555555555556,
              "#d8576b"
             ],
             [
              0.6666666666666666,
              "#ed7953"
             ],
             [
              0.7777777777777778,
              "#fb9f3a"
             ],
             [
              0.8888888888888888,
              "#fdca26"
             ],
             [
              1,
              "#f0f921"
             ]
            ],
            "type": "heatmap"
           }
          ],
          "heatmapgl": [
           {
            "colorbar": {
             "outlinewidth": 0,
             "ticks": ""
            },
            "colorscale": [
             [
              0,
              "#0d0887"
             ],
             [
              0.1111111111111111,
              "#46039f"
             ],
             [
              0.2222222222222222,
              "#7201a8"
             ],
             [
              0.3333333333333333,
              "#9c179e"
             ],
             [
              0.4444444444444444,
              "#bd3786"
             ],
             [
              0.5555555555555556,
              "#d8576b"
             ],
             [
              0.6666666666666666,
              "#ed7953"
             ],
             [
              0.7777777777777778,
              "#fb9f3a"
             ],
             [
              0.8888888888888888,
              "#fdca26"
             ],
             [
              1,
              "#f0f921"
             ]
            ],
            "type": "heatmapgl"
           }
          ],
          "histogram": [
           {
            "marker": {
             "pattern": {
              "fillmode": "overlay",
              "size": 10,
              "solidity": 0.2
             }
            },
            "type": "histogram"
           }
          ],
          "histogram2d": [
           {
            "colorbar": {
             "outlinewidth": 0,
             "ticks": ""
            },
            "colorscale": [
             [
              0,
              "#0d0887"
             ],
             [
              0.1111111111111111,
              "#46039f"
             ],
             [
              0.2222222222222222,
              "#7201a8"
             ],
             [
              0.3333333333333333,
              "#9c179e"
             ],
             [
              0.4444444444444444,
              "#bd3786"
             ],
             [
              0.5555555555555556,
              "#d8576b"
             ],
             [
              0.6666666666666666,
              "#ed7953"
             ],
             [
              0.7777777777777778,
              "#fb9f3a"
             ],
             [
              0.8888888888888888,
              "#fdca26"
             ],
             [
              1,
              "#f0f921"
             ]
            ],
            "type": "histogram2d"
           }
          ],
          "histogram2dcontour": [
           {
            "colorbar": {
             "outlinewidth": 0,
             "ticks": ""
            },
            "colorscale": [
             [
              0,
              "#0d0887"
             ],
             [
              0.1111111111111111,
              "#46039f"
             ],
             [
              0.2222222222222222,
              "#7201a8"
             ],
             [
              0.3333333333333333,
              "#9c179e"
             ],
             [
              0.4444444444444444,
              "#bd3786"
             ],
             [
              0.5555555555555556,
              "#d8576b"
             ],
             [
              0.6666666666666666,
              "#ed7953"
             ],
             [
              0.7777777777777778,
              "#fb9f3a"
             ],
             [
              0.8888888888888888,
              "#fdca26"
             ],
             [
              1,
              "#f0f921"
             ]
            ],
            "type": "histogram2dcontour"
           }
          ],
          "mesh3d": [
           {
            "colorbar": {
             "outlinewidth": 0,
             "ticks": ""
            },
            "type": "mesh3d"
           }
          ],
          "parcoords": [
           {
            "line": {
             "colorbar": {
              "outlinewidth": 0,
              "ticks": ""
             }
            },
            "type": "parcoords"
           }
          ],
          "pie": [
           {
            "automargin": true,
            "type": "pie"
           }
          ],
          "scatter": [
           {
            "fillpattern": {
             "fillmode": "overlay",
             "size": 10,
             "solidity": 0.2
            },
            "type": "scatter"
           }
          ],
          "scatter3d": [
           {
            "line": {
             "colorbar": {
              "outlinewidth": 0,
              "ticks": ""
             }
            },
            "marker": {
             "colorbar": {
              "outlinewidth": 0,
              "ticks": ""
             }
            },
            "type": "scatter3d"
           }
          ],
          "scattercarpet": [
           {
            "marker": {
             "colorbar": {
              "outlinewidth": 0,
              "ticks": ""
             }
            },
            "type": "scattercarpet"
           }
          ],
          "scattergeo": [
           {
            "marker": {
             "colorbar": {
              "outlinewidth": 0,
              "ticks": ""
             }
            },
            "type": "scattergeo"
           }
          ],
          "scattergl": [
           {
            "marker": {
             "colorbar": {
              "outlinewidth": 0,
              "ticks": ""
             }
            },
            "type": "scattergl"
           }
          ],
          "scattermapbox": [
           {
            "marker": {
             "colorbar": {
              "outlinewidth": 0,
              "ticks": ""
             }
            },
            "type": "scattermapbox"
           }
          ],
          "scatterpolar": [
           {
            "marker": {
             "colorbar": {
              "outlinewidth": 0,
              "ticks": ""
             }
            },
            "type": "scatterpolar"
           }
          ],
          "scatterpolargl": [
           {
            "marker": {
             "colorbar": {
              "outlinewidth": 0,
              "ticks": ""
             }
            },
            "type": "scatterpolargl"
           }
          ],
          "scatterternary": [
           {
            "marker": {
             "colorbar": {
              "outlinewidth": 0,
              "ticks": ""
             }
            },
            "type": "scatterternary"
           }
          ],
          "surface": [
           {
            "colorbar": {
             "outlinewidth": 0,
             "ticks": ""
            },
            "colorscale": [
             [
              0,
              "#0d0887"
             ],
             [
              0.1111111111111111,
              "#46039f"
             ],
             [
              0.2222222222222222,
              "#7201a8"
             ],
             [
              0.3333333333333333,
              "#9c179e"
             ],
             [
              0.4444444444444444,
              "#bd3786"
             ],
             [
              0.5555555555555556,
              "#d8576b"
             ],
             [
              0.6666666666666666,
              "#ed7953"
             ],
             [
              0.7777777777777778,
              "#fb9f3a"
             ],
             [
              0.8888888888888888,
              "#fdca26"
             ],
             [
              1,
              "#f0f921"
             ]
            ],
            "type": "surface"
           }
          ],
          "table": [
           {
            "cells": {
             "fill": {
              "color": "#EBF0F8"
             },
             "line": {
              "color": "white"
             }
            },
            "header": {
             "fill": {
              "color": "#C8D4E3"
             },
             "line": {
              "color": "white"
             }
            },
            "type": "table"
           }
          ]
         },
         "layout": {
          "annotationdefaults": {
           "arrowcolor": "#2a3f5f",
           "arrowhead": 0,
           "arrowwidth": 1
          },
          "autotypenumbers": "strict",
          "coloraxis": {
           "colorbar": {
            "outlinewidth": 0,
            "ticks": ""
           }
          },
          "colorscale": {
           "diverging": [
            [
             0,
             "#8e0152"
            ],
            [
             0.1,
             "#c51b7d"
            ],
            [
             0.2,
             "#de77ae"
            ],
            [
             0.3,
             "#f1b6da"
            ],
            [
             0.4,
             "#fde0ef"
            ],
            [
             0.5,
             "#f7f7f7"
            ],
            [
             0.6,
             "#e6f5d0"
            ],
            [
             0.7,
             "#b8e186"
            ],
            [
             0.8,
             "#7fbc41"
            ],
            [
             0.9,
             "#4d9221"
            ],
            [
             1,
             "#276419"
            ]
           ],
           "sequential": [
            [
             0,
             "#0d0887"
            ],
            [
             0.1111111111111111,
             "#46039f"
            ],
            [
             0.2222222222222222,
             "#7201a8"
            ],
            [
             0.3333333333333333,
             "#9c179e"
            ],
            [
             0.4444444444444444,
             "#bd3786"
            ],
            [
             0.5555555555555556,
             "#d8576b"
            ],
            [
             0.6666666666666666,
             "#ed7953"
            ],
            [
             0.7777777777777778,
             "#fb9f3a"
            ],
            [
             0.8888888888888888,
             "#fdca26"
            ],
            [
             1,
             "#f0f921"
            ]
           ],
           "sequentialminus": [
            [
             0,
             "#0d0887"
            ],
            [
             0.1111111111111111,
             "#46039f"
            ],
            [
             0.2222222222222222,
             "#7201a8"
            ],
            [
             0.3333333333333333,
             "#9c179e"
            ],
            [
             0.4444444444444444,
             "#bd3786"
            ],
            [
             0.5555555555555556,
             "#d8576b"
            ],
            [
             0.6666666666666666,
             "#ed7953"
            ],
            [
             0.7777777777777778,
             "#fb9f3a"
            ],
            [
             0.8888888888888888,
             "#fdca26"
            ],
            [
             1,
             "#f0f921"
            ]
           ]
          },
          "colorway": [
           "#636efa",
           "#EF553B",
           "#00cc96",
           "#ab63fa",
           "#FFA15A",
           "#19d3f3",
           "#FF6692",
           "#B6E880",
           "#FF97FF",
           "#FECB52"
          ],
          "font": {
           "color": "#2a3f5f"
          },
          "geo": {
           "bgcolor": "white",
           "lakecolor": "white",
           "landcolor": "#E5ECF6",
           "showlakes": true,
           "showland": true,
           "subunitcolor": "white"
          },
          "hoverlabel": {
           "align": "left"
          },
          "hovermode": "closest",
          "mapbox": {
           "style": "light"
          },
          "paper_bgcolor": "white",
          "plot_bgcolor": "#E5ECF6",
          "polar": {
           "angularaxis": {
            "gridcolor": "white",
            "linecolor": "white",
            "ticks": ""
           },
           "bgcolor": "#E5ECF6",
           "radialaxis": {
            "gridcolor": "white",
            "linecolor": "white",
            "ticks": ""
           }
          },
          "scene": {
           "xaxis": {
            "backgroundcolor": "#E5ECF6",
            "gridcolor": "white",
            "gridwidth": 2,
            "linecolor": "white",
            "showbackground": true,
            "ticks": "",
            "zerolinecolor": "white"
           },
           "yaxis": {
            "backgroundcolor": "#E5ECF6",
            "gridcolor": "white",
            "gridwidth": 2,
            "linecolor": "white",
            "showbackground": true,
            "ticks": "",
            "zerolinecolor": "white"
           },
           "zaxis": {
            "backgroundcolor": "#E5ECF6",
            "gridcolor": "white",
            "gridwidth": 2,
            "linecolor": "white",
            "showbackground": true,
            "ticks": "",
            "zerolinecolor": "white"
           }
          },
          "shapedefaults": {
           "line": {
            "color": "#2a3f5f"
           }
          },
          "ternary": {
           "aaxis": {
            "gridcolor": "white",
            "linecolor": "white",
            "ticks": ""
           },
           "baxis": {
            "gridcolor": "white",
            "linecolor": "white",
            "ticks": ""
           },
           "bgcolor": "#E5ECF6",
           "caxis": {
            "gridcolor": "white",
            "linecolor": "white",
            "ticks": ""
           }
          },
          "title": {
           "x": 0.05
          },
          "xaxis": {
           "automargin": true,
           "gridcolor": "white",
           "linecolor": "white",
           "ticks": "",
           "title": {
            "standoff": 15
           },
           "zerolinecolor": "white",
           "zerolinewidth": 2
          },
          "yaxis": {
           "automargin": true,
           "gridcolor": "white",
           "linecolor": "white",
           "ticks": "",
           "title": {
            "standoff": 15
           },
           "zerolinecolor": "white",
           "zerolinewidth": 2
          }
         }
        },
        "xaxis": {
         "anchor": "y",
         "domain": [
          0,
          1
         ],
         "tickangle": 90,
         "title": {
          "text": "Rank and Month"
         }
        },
        "yaxis": {
         "anchor": "x",
         "domain": [
          0,
          1
         ],
         "title": {
          "text": "Characters"
         }
        }
       }
      }
     },
     "metadata": {},
     "output_type": "display_data"
    }
   ],
   "source": [
    "fig_top_months_by_characters = px.bar(df_top_months_by_characters, \n",
    "x = 'Rank and Month', y = 'Characters')\n",
    "fig_top_months_by_characters.update_xaxes(tickangle = 90)\n",
    "fig_top_months_by_characters.write_html(\n",
    "    'Analyses/top_months_by_characters.html')\n",
    "fig_top_months_by_characters.write_image(\n",
    "    'Analyses/top_months_by_characters.png', \n",
    "    width = 1920, height = 1080, engine = 'kaleido', scale = 2)\n",
    "fig_top_months_by_characters"
   ]
  },
  {
   "cell_type": "code",
   "execution_count": 46,
   "metadata": {},
   "outputs": [
    {
     "data": {
      "text/html": [
       "<div>\n",
       "<style scoped>\n",
       "    .dataframe tbody tr th:only-of-type {\n",
       "        vertical-align: middle;\n",
       "    }\n",
       "\n",
       "    .dataframe tbody tr th {\n",
       "        vertical-align: top;\n",
       "    }\n",
       "\n",
       "    .dataframe thead th {\n",
       "        text-align: right;\n",
       "    }\n",
       "</style>\n",
       "<table border=\"1\" class=\"dataframe\">\n",
       "  <thead>\n",
       "    <tr style=\"text-align: right;\">\n",
       "      <th></th>\n",
       "      <th>Local_Year</th>\n",
       "      <th>Local_Month</th>\n",
       "      <th>Verses</th>\n",
       "      <th>Rank</th>\n",
       "      <th>Rank and Month</th>\n",
       "    </tr>\n",
       "  </thead>\n",
       "  <tbody>\n",
       "    <tr>\n",
       "      <th>0</th>\n",
       "      <td>2023</td>\n",
       "      <td>10</td>\n",
       "      <td>332</td>\n",
       "      <td>1</td>\n",
       "      <td>#1: 2023-10</td>\n",
       "    </tr>\n",
       "    <tr>\n",
       "      <th>1</th>\n",
       "      <td>2023</td>\n",
       "      <td>11</td>\n",
       "      <td>129</td>\n",
       "      <td>2</td>\n",
       "      <td>#2: 2023-11</td>\n",
       "    </tr>\n",
       "  </tbody>\n",
       "</table>\n",
       "</div>"
      ],
      "text/plain": [
       "   Local_Year  Local_Month  Verses  Rank Rank and Month\n",
       "0        2023           10     332     1    #1: 2023-10\n",
       "1        2023           11     129     2    #2: 2023-11"
      ]
     },
     "execution_count": 46,
     "metadata": {},
     "output_type": "execute_result"
    }
   ],
   "source": [
    "df_top_months_by_verses = df_results.pivot_table(\n",
    "    index = ['Local_Year', 'Local_Month'], \n",
    "    values = 'Count', aggfunc = 'sum').reset_index(\n",
    "    ).rename(columns={'Count':'Verses'}).sort_values(\n",
    "        'Verses', ascending = False).head(50)\n",
    "\n",
    "df_top_months_by_verses['Rank'] = df_top_months_by_verses['Verses'].rank(\n",
    "    ascending = False, method = 'min').astype('int')\n",
    "df_top_months_by_verses['Rank and Month'] = '#'+df_top_months_by_verses[\n",
    "    'Rank'].astype('str') + ': ' + df_top_months_by_verses[\n",
    "        'Local_Year'].astype('str') + '-' + df_top_months_by_verses[\n",
    "            'Local_Month'].astype('str')\n",
    "df_top_months_by_verses.reset_index(drop=True,inplace=True)\n",
    "\n",
    "df_top_months_by_verses"
   ]
  },
  {
   "cell_type": "code",
   "execution_count": 47,
   "metadata": {},
   "outputs": [
    {
     "data": {
      "application/vnd.plotly.v1+json": {
       "config": {
        "plotlyServerURL": "https://plot.ly"
       },
       "data": [
        {
         "alignmentgroup": "True",
         "hovertemplate": "Rank and Month=%{x}<br>Verses=%{y}<extra></extra>",
         "legendgroup": "",
         "marker": {
          "color": "#636efa",
          "pattern": {
           "shape": ""
          }
         },
         "name": "",
         "offsetgroup": "",
         "orientation": "v",
         "showlegend": false,
         "textposition": "auto",
         "type": "bar",
         "x": [
          "#1: 2023-10",
          "#2: 2023-11"
         ],
         "xaxis": "x",
         "y": [
          332,
          129
         ],
         "yaxis": "y"
        }
       ],
       "layout": {
        "barmode": "relative",
        "legend": {
         "tracegroupgap": 0
        },
        "margin": {
         "t": 60
        },
        "template": {
         "data": {
          "bar": [
           {
            "error_x": {
             "color": "#2a3f5f"
            },
            "error_y": {
             "color": "#2a3f5f"
            },
            "marker": {
             "line": {
              "color": "#E5ECF6",
              "width": 0.5
             },
             "pattern": {
              "fillmode": "overlay",
              "size": 10,
              "solidity": 0.2
             }
            },
            "type": "bar"
           }
          ],
          "barpolar": [
           {
            "marker": {
             "line": {
              "color": "#E5ECF6",
              "width": 0.5
             },
             "pattern": {
              "fillmode": "overlay",
              "size": 10,
              "solidity": 0.2
             }
            },
            "type": "barpolar"
           }
          ],
          "carpet": [
           {
            "aaxis": {
             "endlinecolor": "#2a3f5f",
             "gridcolor": "white",
             "linecolor": "white",
             "minorgridcolor": "white",
             "startlinecolor": "#2a3f5f"
            },
            "baxis": {
             "endlinecolor": "#2a3f5f",
             "gridcolor": "white",
             "linecolor": "white",
             "minorgridcolor": "white",
             "startlinecolor": "#2a3f5f"
            },
            "type": "carpet"
           }
          ],
          "choropleth": [
           {
            "colorbar": {
             "outlinewidth": 0,
             "ticks": ""
            },
            "type": "choropleth"
           }
          ],
          "contour": [
           {
            "colorbar": {
             "outlinewidth": 0,
             "ticks": ""
            },
            "colorscale": [
             [
              0,
              "#0d0887"
             ],
             [
              0.1111111111111111,
              "#46039f"
             ],
             [
              0.2222222222222222,
              "#7201a8"
             ],
             [
              0.3333333333333333,
              "#9c179e"
             ],
             [
              0.4444444444444444,
              "#bd3786"
             ],
             [
              0.5555555555555556,
              "#d8576b"
             ],
             [
              0.6666666666666666,
              "#ed7953"
             ],
             [
              0.7777777777777778,
              "#fb9f3a"
             ],
             [
              0.8888888888888888,
              "#fdca26"
             ],
             [
              1,
              "#f0f921"
             ]
            ],
            "type": "contour"
           }
          ],
          "contourcarpet": [
           {
            "colorbar": {
             "outlinewidth": 0,
             "ticks": ""
            },
            "type": "contourcarpet"
           }
          ],
          "heatmap": [
           {
            "colorbar": {
             "outlinewidth": 0,
             "ticks": ""
            },
            "colorscale": [
             [
              0,
              "#0d0887"
             ],
             [
              0.1111111111111111,
              "#46039f"
             ],
             [
              0.2222222222222222,
              "#7201a8"
             ],
             [
              0.3333333333333333,
              "#9c179e"
             ],
             [
              0.4444444444444444,
              "#bd3786"
             ],
             [
              0.5555555555555556,
              "#d8576b"
             ],
             [
              0.6666666666666666,
              "#ed7953"
             ],
             [
              0.7777777777777778,
              "#fb9f3a"
             ],
             [
              0.8888888888888888,
              "#fdca26"
             ],
             [
              1,
              "#f0f921"
             ]
            ],
            "type": "heatmap"
           }
          ],
          "heatmapgl": [
           {
            "colorbar": {
             "outlinewidth": 0,
             "ticks": ""
            },
            "colorscale": [
             [
              0,
              "#0d0887"
             ],
             [
              0.1111111111111111,
              "#46039f"
             ],
             [
              0.2222222222222222,
              "#7201a8"
             ],
             [
              0.3333333333333333,
              "#9c179e"
             ],
             [
              0.4444444444444444,
              "#bd3786"
             ],
             [
              0.5555555555555556,
              "#d8576b"
             ],
             [
              0.6666666666666666,
              "#ed7953"
             ],
             [
              0.7777777777777778,
              "#fb9f3a"
             ],
             [
              0.8888888888888888,
              "#fdca26"
             ],
             [
              1,
              "#f0f921"
             ]
            ],
            "type": "heatmapgl"
           }
          ],
          "histogram": [
           {
            "marker": {
             "pattern": {
              "fillmode": "overlay",
              "size": 10,
              "solidity": 0.2
             }
            },
            "type": "histogram"
           }
          ],
          "histogram2d": [
           {
            "colorbar": {
             "outlinewidth": 0,
             "ticks": ""
            },
            "colorscale": [
             [
              0,
              "#0d0887"
             ],
             [
              0.1111111111111111,
              "#46039f"
             ],
             [
              0.2222222222222222,
              "#7201a8"
             ],
             [
              0.3333333333333333,
              "#9c179e"
             ],
             [
              0.4444444444444444,
              "#bd3786"
             ],
             [
              0.5555555555555556,
              "#d8576b"
             ],
             [
              0.6666666666666666,
              "#ed7953"
             ],
             [
              0.7777777777777778,
              "#fb9f3a"
             ],
             [
              0.8888888888888888,
              "#fdca26"
             ],
             [
              1,
              "#f0f921"
             ]
            ],
            "type": "histogram2d"
           }
          ],
          "histogram2dcontour": [
           {
            "colorbar": {
             "outlinewidth": 0,
             "ticks": ""
            },
            "colorscale": [
             [
              0,
              "#0d0887"
             ],
             [
              0.1111111111111111,
              "#46039f"
             ],
             [
              0.2222222222222222,
              "#7201a8"
             ],
             [
              0.3333333333333333,
              "#9c179e"
             ],
             [
              0.4444444444444444,
              "#bd3786"
             ],
             [
              0.5555555555555556,
              "#d8576b"
             ],
             [
              0.6666666666666666,
              "#ed7953"
             ],
             [
              0.7777777777777778,
              "#fb9f3a"
             ],
             [
              0.8888888888888888,
              "#fdca26"
             ],
             [
              1,
              "#f0f921"
             ]
            ],
            "type": "histogram2dcontour"
           }
          ],
          "mesh3d": [
           {
            "colorbar": {
             "outlinewidth": 0,
             "ticks": ""
            },
            "type": "mesh3d"
           }
          ],
          "parcoords": [
           {
            "line": {
             "colorbar": {
              "outlinewidth": 0,
              "ticks": ""
             }
            },
            "type": "parcoords"
           }
          ],
          "pie": [
           {
            "automargin": true,
            "type": "pie"
           }
          ],
          "scatter": [
           {
            "fillpattern": {
             "fillmode": "overlay",
             "size": 10,
             "solidity": 0.2
            },
            "type": "scatter"
           }
          ],
          "scatter3d": [
           {
            "line": {
             "colorbar": {
              "outlinewidth": 0,
              "ticks": ""
             }
            },
            "marker": {
             "colorbar": {
              "outlinewidth": 0,
              "ticks": ""
             }
            },
            "type": "scatter3d"
           }
          ],
          "scattercarpet": [
           {
            "marker": {
             "colorbar": {
              "outlinewidth": 0,
              "ticks": ""
             }
            },
            "type": "scattercarpet"
           }
          ],
          "scattergeo": [
           {
            "marker": {
             "colorbar": {
              "outlinewidth": 0,
              "ticks": ""
             }
            },
            "type": "scattergeo"
           }
          ],
          "scattergl": [
           {
            "marker": {
             "colorbar": {
              "outlinewidth": 0,
              "ticks": ""
             }
            },
            "type": "scattergl"
           }
          ],
          "scattermapbox": [
           {
            "marker": {
             "colorbar": {
              "outlinewidth": 0,
              "ticks": ""
             }
            },
            "type": "scattermapbox"
           }
          ],
          "scatterpolar": [
           {
            "marker": {
             "colorbar": {
              "outlinewidth": 0,
              "ticks": ""
             }
            },
            "type": "scatterpolar"
           }
          ],
          "scatterpolargl": [
           {
            "marker": {
             "colorbar": {
              "outlinewidth": 0,
              "ticks": ""
             }
            },
            "type": "scatterpolargl"
           }
          ],
          "scatterternary": [
           {
            "marker": {
             "colorbar": {
              "outlinewidth": 0,
              "ticks": ""
             }
            },
            "type": "scatterternary"
           }
          ],
          "surface": [
           {
            "colorbar": {
             "outlinewidth": 0,
             "ticks": ""
            },
            "colorscale": [
             [
              0,
              "#0d0887"
             ],
             [
              0.1111111111111111,
              "#46039f"
             ],
             [
              0.2222222222222222,
              "#7201a8"
             ],
             [
              0.3333333333333333,
              "#9c179e"
             ],
             [
              0.4444444444444444,
              "#bd3786"
             ],
             [
              0.5555555555555556,
              "#d8576b"
             ],
             [
              0.6666666666666666,
              "#ed7953"
             ],
             [
              0.7777777777777778,
              "#fb9f3a"
             ],
             [
              0.8888888888888888,
              "#fdca26"
             ],
             [
              1,
              "#f0f921"
             ]
            ],
            "type": "surface"
           }
          ],
          "table": [
           {
            "cells": {
             "fill": {
              "color": "#EBF0F8"
             },
             "line": {
              "color": "white"
             }
            },
            "header": {
             "fill": {
              "color": "#C8D4E3"
             },
             "line": {
              "color": "white"
             }
            },
            "type": "table"
           }
          ]
         },
         "layout": {
          "annotationdefaults": {
           "arrowcolor": "#2a3f5f",
           "arrowhead": 0,
           "arrowwidth": 1
          },
          "autotypenumbers": "strict",
          "coloraxis": {
           "colorbar": {
            "outlinewidth": 0,
            "ticks": ""
           }
          },
          "colorscale": {
           "diverging": [
            [
             0,
             "#8e0152"
            ],
            [
             0.1,
             "#c51b7d"
            ],
            [
             0.2,
             "#de77ae"
            ],
            [
             0.3,
             "#f1b6da"
            ],
            [
             0.4,
             "#fde0ef"
            ],
            [
             0.5,
             "#f7f7f7"
            ],
            [
             0.6,
             "#e6f5d0"
            ],
            [
             0.7,
             "#b8e186"
            ],
            [
             0.8,
             "#7fbc41"
            ],
            [
             0.9,
             "#4d9221"
            ],
            [
             1,
             "#276419"
            ]
           ],
           "sequential": [
            [
             0,
             "#0d0887"
            ],
            [
             0.1111111111111111,
             "#46039f"
            ],
            [
             0.2222222222222222,
             "#7201a8"
            ],
            [
             0.3333333333333333,
             "#9c179e"
            ],
            [
             0.4444444444444444,
             "#bd3786"
            ],
            [
             0.5555555555555556,
             "#d8576b"
            ],
            [
             0.6666666666666666,
             "#ed7953"
            ],
            [
             0.7777777777777778,
             "#fb9f3a"
            ],
            [
             0.8888888888888888,
             "#fdca26"
            ],
            [
             1,
             "#f0f921"
            ]
           ],
           "sequentialminus": [
            [
             0,
             "#0d0887"
            ],
            [
             0.1111111111111111,
             "#46039f"
            ],
            [
             0.2222222222222222,
             "#7201a8"
            ],
            [
             0.3333333333333333,
             "#9c179e"
            ],
            [
             0.4444444444444444,
             "#bd3786"
            ],
            [
             0.5555555555555556,
             "#d8576b"
            ],
            [
             0.6666666666666666,
             "#ed7953"
            ],
            [
             0.7777777777777778,
             "#fb9f3a"
            ],
            [
             0.8888888888888888,
             "#fdca26"
            ],
            [
             1,
             "#f0f921"
            ]
           ]
          },
          "colorway": [
           "#636efa",
           "#EF553B",
           "#00cc96",
           "#ab63fa",
           "#FFA15A",
           "#19d3f3",
           "#FF6692",
           "#B6E880",
           "#FF97FF",
           "#FECB52"
          ],
          "font": {
           "color": "#2a3f5f"
          },
          "geo": {
           "bgcolor": "white",
           "lakecolor": "white",
           "landcolor": "#E5ECF6",
           "showlakes": true,
           "showland": true,
           "subunitcolor": "white"
          },
          "hoverlabel": {
           "align": "left"
          },
          "hovermode": "closest",
          "mapbox": {
           "style": "light"
          },
          "paper_bgcolor": "white",
          "plot_bgcolor": "#E5ECF6",
          "polar": {
           "angularaxis": {
            "gridcolor": "white",
            "linecolor": "white",
            "ticks": ""
           },
           "bgcolor": "#E5ECF6",
           "radialaxis": {
            "gridcolor": "white",
            "linecolor": "white",
            "ticks": ""
           }
          },
          "scene": {
           "xaxis": {
            "backgroundcolor": "#E5ECF6",
            "gridcolor": "white",
            "gridwidth": 2,
            "linecolor": "white",
            "showbackground": true,
            "ticks": "",
            "zerolinecolor": "white"
           },
           "yaxis": {
            "backgroundcolor": "#E5ECF6",
            "gridcolor": "white",
            "gridwidth": 2,
            "linecolor": "white",
            "showbackground": true,
            "ticks": "",
            "zerolinecolor": "white"
           },
           "zaxis": {
            "backgroundcolor": "#E5ECF6",
            "gridcolor": "white",
            "gridwidth": 2,
            "linecolor": "white",
            "showbackground": true,
            "ticks": "",
            "zerolinecolor": "white"
           }
          },
          "shapedefaults": {
           "line": {
            "color": "#2a3f5f"
           }
          },
          "ternary": {
           "aaxis": {
            "gridcolor": "white",
            "linecolor": "white",
            "ticks": ""
           },
           "baxis": {
            "gridcolor": "white",
            "linecolor": "white",
            "ticks": ""
           },
           "bgcolor": "#E5ECF6",
           "caxis": {
            "gridcolor": "white",
            "linecolor": "white",
            "ticks": ""
           }
          },
          "title": {
           "x": 0.05
          },
          "xaxis": {
           "automargin": true,
           "gridcolor": "white",
           "linecolor": "white",
           "ticks": "",
           "title": {
            "standoff": 15
           },
           "zerolinecolor": "white",
           "zerolinewidth": 2
          },
          "yaxis": {
           "automargin": true,
           "gridcolor": "white",
           "linecolor": "white",
           "ticks": "",
           "title": {
            "standoff": 15
           },
           "zerolinecolor": "white",
           "zerolinewidth": 2
          }
         }
        },
        "xaxis": {
         "anchor": "y",
         "domain": [
          0,
          1
         ],
         "tickangle": 90,
         "title": {
          "text": "Rank and Month"
         }
        },
        "yaxis": {
         "anchor": "x",
         "domain": [
          0,
          1
         ],
         "title": {
          "text": "Verses"
         }
        }
       }
      }
     },
     "metadata": {},
     "output_type": "display_data"
    }
   ],
   "source": [
    "fig_top_months_by_verses = px.bar(df_top_months_by_verses, \n",
    "x = 'Rank and Month', y = 'Verses')\n",
    "fig_top_months_by_verses.update_xaxes(tickangle = 90)\n",
    "fig_top_months_by_verses.write_html('Analyses/top_months_by_verses.html')\n",
    "fig_top_months_by_verses.write_image(\n",
    "    'Analyses/top_months_by_verses.png', \n",
    "    width = 1920, height = 1080, engine = 'kaleido', scale = 2)\n",
    "fig_top_months_by_verses"
   ]
  },
  {
   "cell_type": "markdown",
   "metadata": {},
   "source": [
    "# Analyzing WPM data:\n",
    "\n",
    "(Some of this section's code derives from my work in [this script](https://github.com/kburchfiel/typeracer_data_analyzer/blob/master/typeracer_data_analyzer_v2.ipynb).)\n"
   ]
  },
  {
   "cell_type": "markdown",
   "metadata": {},
   "source": [
    "Top 20 WPM results:"
   ]
  },
  {
   "cell_type": "code",
   "execution_count": 48,
   "metadata": {},
   "outputs": [
    {
     "data": {
      "text/html": [
       "<div>\n",
       "<style scoped>\n",
       "    .dataframe tbody tr th:only-of-type {\n",
       "        vertical-align: middle;\n",
       "    }\n",
       "\n",
       "    .dataframe tbody tr th {\n",
       "        vertical-align: top;\n",
       "    }\n",
       "\n",
       "    .dataframe thead th {\n",
       "        text-align: right;\n",
       "    }\n",
       "</style>\n",
       "<table border=\"1\" class=\"dataframe\">\n",
       "  <thead>\n",
       "    <tr style=\"text-align: right;\">\n",
       "      <th></th>\n",
       "      <th>Rank</th>\n",
       "      <th>Unix_Start_Time</th>\n",
       "      <th>Local_Start_Time</th>\n",
       "      <th>UTC_Start_Time</th>\n",
       "      <th>Characters</th>\n",
       "      <th>Seconds</th>\n",
       "      <th>CPS</th>\n",
       "      <th>WPM</th>\n",
       "      <th>Book</th>\n",
       "      <th>Chapter</th>\n",
       "      <th>Verse_Order</th>\n",
       "      <th>Verse</th>\n",
       "      <th>Verse #</th>\n",
       "      <th>Last 10 Avg</th>\n",
       "      <th>Last 100 Avg</th>\n",
       "      <th>Last 1000 Avg</th>\n",
       "      <th>cumulative_avg</th>\n",
       "      <th>Local_Year</th>\n",
       "      <th>Local_Month</th>\n",
       "      <th>Local_Hour</th>\n",
       "      <th>Count</th>\n",
       "      <th>Local_Date</th>\n",
       "    </tr>\n",
       "    <tr>\n",
       "      <th>Test_Number</th>\n",
       "      <th></th>\n",
       "      <th></th>\n",
       "      <th></th>\n",
       "      <th></th>\n",
       "      <th></th>\n",
       "      <th></th>\n",
       "      <th></th>\n",
       "      <th></th>\n",
       "      <th></th>\n",
       "      <th></th>\n",
       "      <th></th>\n",
       "      <th></th>\n",
       "      <th></th>\n",
       "      <th></th>\n",
       "      <th></th>\n",
       "      <th></th>\n",
       "      <th></th>\n",
       "      <th></th>\n",
       "      <th></th>\n",
       "      <th></th>\n",
       "      <th></th>\n",
       "      <th></th>\n",
       "    </tr>\n",
       "  </thead>\n",
       "  <tbody>\n",
       "    <tr>\n",
       "      <th>29</th>\n",
       "      <td>1</td>\n",
       "      <td>1.698284e+09</td>\n",
       "      <td>2023-10-25T21:29:51.817669</td>\n",
       "      <td>2023-10-26T01:29:51.817669+00:00</td>\n",
       "      <td>56</td>\n",
       "      <td>3.477334</td>\n",
       "      <td>16.104292</td>\n",
       "      <td>193.251509</td>\n",
       "      <td>GEN</td>\n",
       "      <td>1</td>\n",
       "      <td>1</td>\n",
       "      <td>In the beginning, God created the heavens and ...</td>\n",
       "      <td>1.0</td>\n",
       "      <td>148.772233</td>\n",
       "      <td>NaN</td>\n",
       "      <td>NaN</td>\n",
       "      <td>129.881</td>\n",
       "      <td>2023</td>\n",
       "      <td>10</td>\n",
       "      <td>21</td>\n",
       "      <td>1</td>\n",
       "      <td>2023-10-25</td>\n",
       "    </tr>\n",
       "    <tr>\n",
       "      <th>26</th>\n",
       "      <td>2</td>\n",
       "      <td>1.698284e+09</td>\n",
       "      <td>2023-10-25T21:28:14.539133</td>\n",
       "      <td>2023-10-26T01:28:14.539133+00:00</td>\n",
       "      <td>56</td>\n",
       "      <td>3.647492</td>\n",
       "      <td>15.353016</td>\n",
       "      <td>184.236198</td>\n",
       "      <td>GEN</td>\n",
       "      <td>1</td>\n",
       "      <td>1</td>\n",
       "      <td>In the beginning, God created the heavens and ...</td>\n",
       "      <td>1.0</td>\n",
       "      <td>139.936067</td>\n",
       "      <td>NaN</td>\n",
       "      <td>NaN</td>\n",
       "      <td>127.120</td>\n",
       "      <td>2023</td>\n",
       "      <td>10</td>\n",
       "      <td>21</td>\n",
       "      <td>1</td>\n",
       "      <td>2023-10-25</td>\n",
       "    </tr>\n",
       "    <tr>\n",
       "      <th>237</th>\n",
       "      <td>3</td>\n",
       "      <td>1.698623e+09</td>\n",
       "      <td>2023-10-29T19:47:07.670908</td>\n",
       "      <td>2023-10-29T23:47:07.670908+00:00</td>\n",
       "      <td>116</td>\n",
       "      <td>7.586424</td>\n",
       "      <td>15.290472</td>\n",
       "      <td>183.485667</td>\n",
       "      <td>GEN</td>\n",
       "      <td>4</td>\n",
       "      <td>91</td>\n",
       "      <td>Now you are cursed because of the ground, whic...</td>\n",
       "      <td>11.0</td>\n",
       "      <td>138.576366</td>\n",
       "      <td>135.941792</td>\n",
       "      <td>NaN</td>\n",
       "      <td>136.777</td>\n",
       "      <td>2023</td>\n",
       "      <td>10</td>\n",
       "      <td>19</td>\n",
       "      <td>1</td>\n",
       "      <td>2023-10-29</td>\n",
       "    </tr>\n",
       "    <tr>\n",
       "      <th>341</th>\n",
       "      <td>4</td>\n",
       "      <td>1.699066e+09</td>\n",
       "      <td>2023-11-03T22:48:34.354652</td>\n",
       "      <td>2023-11-04T02:48:34.354652+00:00</td>\n",
       "      <td>77</td>\n",
       "      <td>5.072950</td>\n",
       "      <td>15.178545</td>\n",
       "      <td>182.142544</td>\n",
       "      <td>GEN</td>\n",
       "      <td>8</td>\n",
       "      <td>194</td>\n",
       "      <td>He waited yet another seven days; and again he...</td>\n",
       "      <td>10.0</td>\n",
       "      <td>149.265970</td>\n",
       "      <td>134.422066</td>\n",
       "      <td>NaN</td>\n",
       "      <td>136.074</td>\n",
       "      <td>2023</td>\n",
       "      <td>11</td>\n",
       "      <td>22</td>\n",
       "      <td>1</td>\n",
       "      <td>2023-11-03</td>\n",
       "    </tr>\n",
       "    <tr>\n",
       "      <th>414</th>\n",
       "      <td>5</td>\n",
       "      <td>1.699068e+09</td>\n",
       "      <td>2023-11-03T23:23:14.681466</td>\n",
       "      <td>2023-11-04T03:23:14.681466+00:00</td>\n",
       "      <td>154</td>\n",
       "      <td>10.185597</td>\n",
       "      <td>15.119389</td>\n",
       "      <td>181.432669</td>\n",
       "      <td>GEN</td>\n",
       "      <td>10</td>\n",
       "      <td>267</td>\n",
       "      <td>These are the families of the sons of Noah, by...</td>\n",
       "      <td>32.0</td>\n",
       "      <td>128.663067</td>\n",
       "      <td>136.017588</td>\n",
       "      <td>NaN</td>\n",
       "      <td>135.546</td>\n",
       "      <td>2023</td>\n",
       "      <td>11</td>\n",
       "      <td>23</td>\n",
       "      <td>1</td>\n",
       "      <td>2023-11-03</td>\n",
       "    </tr>\n",
       "    <tr>\n",
       "      <th>...</th>\n",
       "      <td>...</td>\n",
       "      <td>...</td>\n",
       "      <td>...</td>\n",
       "      <td>...</td>\n",
       "      <td>...</td>\n",
       "      <td>...</td>\n",
       "      <td>...</td>\n",
       "      <td>...</td>\n",
       "      <td>...</td>\n",
       "      <td>...</td>\n",
       "      <td>...</td>\n",
       "      <td>...</td>\n",
       "      <td>...</td>\n",
       "      <td>...</td>\n",
       "      <td>...</td>\n",
       "      <td>...</td>\n",
       "      <td>...</td>\n",
       "      <td>...</td>\n",
       "      <td>...</td>\n",
       "      <td>...</td>\n",
       "      <td>...</td>\n",
       "      <td>...</td>\n",
       "    </tr>\n",
       "    <tr>\n",
       "      <th>132</th>\n",
       "      <td>96</td>\n",
       "      <td>1.698621e+09</td>\n",
       "      <td>2023-10-29T19:10:15.549816</td>\n",
       "      <td>2023-10-29T23:10:15.549816+00:00</td>\n",
       "      <td>114</td>\n",
       "      <td>8.990945</td>\n",
       "      <td>12.679424</td>\n",
       "      <td>152.153085</td>\n",
       "      <td>1JN</td>\n",
       "      <td>4</td>\n",
       "      <td>34893</td>\n",
       "      <td>No one has seen God at any time. If we love on...</td>\n",
       "      <td>12.0</td>\n",
       "      <td>148.056368</td>\n",
       "      <td>140.098196</td>\n",
       "      <td>NaN</td>\n",
       "      <td>137.324</td>\n",
       "      <td>2023</td>\n",
       "      <td>10</td>\n",
       "      <td>19</td>\n",
       "      <td>1</td>\n",
       "      <td>2023-10-29</td>\n",
       "    </tr>\n",
       "    <tr>\n",
       "      <th>451</th>\n",
       "      <td>97</td>\n",
       "      <td>1.699071e+09</td>\n",
       "      <td>2023-11-04T00:04:46.928265</td>\n",
       "      <td>2023-11-04T04:04:46.928265+00:00</td>\n",
       "      <td>62</td>\n",
       "      <td>4.901897</td>\n",
       "      <td>12.648165</td>\n",
       "      <td>151.777984</td>\n",
       "      <td>SNG</td>\n",
       "      <td>2</td>\n",
       "      <td>17404</td>\n",
       "      <td>My beloved is mine, and I am his. He browses a...</td>\n",
       "      <td>16.0</td>\n",
       "      <td>129.676966</td>\n",
       "      <td>132.304817</td>\n",
       "      <td>NaN</td>\n",
       "      <td>135.338</td>\n",
       "      <td>2023</td>\n",
       "      <td>11</td>\n",
       "      <td>0</td>\n",
       "      <td>1</td>\n",
       "      <td>2023-11-04</td>\n",
       "    </tr>\n",
       "    <tr>\n",
       "      <th>447</th>\n",
       "      <td>98</td>\n",
       "      <td>1.699071e+09</td>\n",
       "      <td>2023-11-04T00:02:25.805547</td>\n",
       "      <td>2023-11-04T04:02:25.805547+00:00</td>\n",
       "      <td>132</td>\n",
       "      <td>10.453946</td>\n",
       "      <td>12.626811</td>\n",
       "      <td>151.521727</td>\n",
       "      <td>GEN</td>\n",
       "      <td>12</td>\n",
       "      <td>300</td>\n",
       "      <td>Now Yahweh said to Abram, \"Leave your country,...</td>\n",
       "      <td>1.0</td>\n",
       "      <td>122.833221</td>\n",
       "      <td>132.649711</td>\n",
       "      <td>NaN</td>\n",
       "      <td>135.367</td>\n",
       "      <td>2023</td>\n",
       "      <td>11</td>\n",
       "      <td>0</td>\n",
       "      <td>1</td>\n",
       "      <td>2023-11-04</td>\n",
       "    </tr>\n",
       "    <tr>\n",
       "      <th>81</th>\n",
       "      <td>99</td>\n",
       "      <td>1.698555e+09</td>\n",
       "      <td>2023-10-29T00:55:38.738309</td>\n",
       "      <td>2023-10-29T04:55:38.738309+00:00</td>\n",
       "      <td>209</td>\n",
       "      <td>16.590364</td>\n",
       "      <td>12.597674</td>\n",
       "      <td>151.172086</td>\n",
       "      <td>1JN</td>\n",
       "      <td>2</td>\n",
       "      <td>34842</td>\n",
       "      <td>I have written to you, fathers, because you kn...</td>\n",
       "      <td>14.0</td>\n",
       "      <td>144.234653</td>\n",
       "      <td>NaN</td>\n",
       "      <td>NaN</td>\n",
       "      <td>138.224</td>\n",
       "      <td>2023</td>\n",
       "      <td>10</td>\n",
       "      <td>0</td>\n",
       "      <td>1</td>\n",
       "      <td>2023-10-29</td>\n",
       "    </tr>\n",
       "    <tr>\n",
       "      <th>334</th>\n",
       "      <td>100</td>\n",
       "      <td>1.698899e+09</td>\n",
       "      <td>2023-11-02T00:23:12.184989</td>\n",
       "      <td>2023-11-02T04:23:12.184989+00:00</td>\n",
       "      <td>106</td>\n",
       "      <td>8.424152</td>\n",
       "      <td>12.582869</td>\n",
       "      <td>150.994433</td>\n",
       "      <td>GEN</td>\n",
       "      <td>8</td>\n",
       "      <td>187</td>\n",
       "      <td>The waters continually receded from the earth....</td>\n",
       "      <td>3.0</td>\n",
       "      <td>141.519478</td>\n",
       "      <td>133.141437</td>\n",
       "      <td>NaN</td>\n",
       "      <td>135.709</td>\n",
       "      <td>2023</td>\n",
       "      <td>11</td>\n",
       "      <td>0</td>\n",
       "      <td>1</td>\n",
       "      <td>2023-11-02</td>\n",
       "    </tr>\n",
       "  </tbody>\n",
       "</table>\n",
       "<p>100 rows × 22 columns</p>\n",
       "</div>"
      ],
      "text/plain": [
       "             Rank  Unix_Start_Time            Local_Start_Time  \\\n",
       "Test_Number                                                      \n",
       "29              1     1.698284e+09  2023-10-25T21:29:51.817669   \n",
       "26              2     1.698284e+09  2023-10-25T21:28:14.539133   \n",
       "237             3     1.698623e+09  2023-10-29T19:47:07.670908   \n",
       "341             4     1.699066e+09  2023-11-03T22:48:34.354652   \n",
       "414             5     1.699068e+09  2023-11-03T23:23:14.681466   \n",
       "...           ...              ...                         ...   \n",
       "132            96     1.698621e+09  2023-10-29T19:10:15.549816   \n",
       "451            97     1.699071e+09  2023-11-04T00:04:46.928265   \n",
       "447            98     1.699071e+09  2023-11-04T00:02:25.805547   \n",
       "81             99     1.698555e+09  2023-10-29T00:55:38.738309   \n",
       "334           100     1.698899e+09  2023-11-02T00:23:12.184989   \n",
       "\n",
       "                               UTC_Start_Time  Characters    Seconds  \\\n",
       "Test_Number                                                            \n",
       "29           2023-10-26T01:29:51.817669+00:00          56   3.477334   \n",
       "26           2023-10-26T01:28:14.539133+00:00          56   3.647492   \n",
       "237          2023-10-29T23:47:07.670908+00:00         116   7.586424   \n",
       "341          2023-11-04T02:48:34.354652+00:00          77   5.072950   \n",
       "414          2023-11-04T03:23:14.681466+00:00         154  10.185597   \n",
       "...                                       ...         ...        ...   \n",
       "132          2023-10-29T23:10:15.549816+00:00         114   8.990945   \n",
       "451          2023-11-04T04:04:46.928265+00:00          62   4.901897   \n",
       "447          2023-11-04T04:02:25.805547+00:00         132  10.453946   \n",
       "81           2023-10-29T04:55:38.738309+00:00         209  16.590364   \n",
       "334          2023-11-02T04:23:12.184989+00:00         106   8.424152   \n",
       "\n",
       "                   CPS         WPM Book  Chapter  Verse_Order  \\\n",
       "Test_Number                                                     \n",
       "29           16.104292  193.251509  GEN        1            1   \n",
       "26           15.353016  184.236198  GEN        1            1   \n",
       "237          15.290472  183.485667  GEN        4           91   \n",
       "341          15.178545  182.142544  GEN        8          194   \n",
       "414          15.119389  181.432669  GEN       10          267   \n",
       "...                ...         ...  ...      ...          ...   \n",
       "132          12.679424  152.153085  1JN        4        34893   \n",
       "451          12.648165  151.777984  SNG        2        17404   \n",
       "447          12.626811  151.521727  GEN       12          300   \n",
       "81           12.597674  151.172086  1JN        2        34842   \n",
       "334          12.582869  150.994433  GEN        8          187   \n",
       "\n",
       "                                                         Verse  Verse #  \\\n",
       "Test_Number                                                               \n",
       "29           In the beginning, God created the heavens and ...      1.0   \n",
       "26           In the beginning, God created the heavens and ...      1.0   \n",
       "237          Now you are cursed because of the ground, whic...     11.0   \n",
       "341          He waited yet another seven days; and again he...     10.0   \n",
       "414          These are the families of the sons of Noah, by...     32.0   \n",
       "...                                                        ...      ...   \n",
       "132          No one has seen God at any time. If we love on...     12.0   \n",
       "451          My beloved is mine, and I am his. He browses a...     16.0   \n",
       "447          Now Yahweh said to Abram, \"Leave your country,...      1.0   \n",
       "81           I have written to you, fathers, because you kn...     14.0   \n",
       "334          The waters continually receded from the earth....      3.0   \n",
       "\n",
       "             Last 10 Avg  Last 100 Avg  Last 1000 Avg  cumulative_avg  \\\n",
       "Test_Number                                                             \n",
       "29            148.772233           NaN            NaN         129.881   \n",
       "26            139.936067           NaN            NaN         127.120   \n",
       "237           138.576366    135.941792            NaN         136.777   \n",
       "341           149.265970    134.422066            NaN         136.074   \n",
       "414           128.663067    136.017588            NaN         135.546   \n",
       "...                  ...           ...            ...             ...   \n",
       "132           148.056368    140.098196            NaN         137.324   \n",
       "451           129.676966    132.304817            NaN         135.338   \n",
       "447           122.833221    132.649711            NaN         135.367   \n",
       "81            144.234653           NaN            NaN         138.224   \n",
       "334           141.519478    133.141437            NaN         135.709   \n",
       "\n",
       "             Local_Year  Local_Month  Local_Hour  Count  Local_Date  \n",
       "Test_Number                                                          \n",
       "29                 2023           10          21      1  2023-10-25  \n",
       "26                 2023           10          21      1  2023-10-25  \n",
       "237                2023           10          19      1  2023-10-29  \n",
       "341                2023           11          22      1  2023-11-03  \n",
       "414                2023           11          23      1  2023-11-03  \n",
       "...                 ...          ...         ...    ...         ...  \n",
       "132                2023           10          19      1  2023-10-29  \n",
       "451                2023           11           0      1  2023-11-04  \n",
       "447                2023           11           0      1  2023-11-04  \n",
       "81                 2023           10           0      1  2023-10-29  \n",
       "334                2023           11           0      1  2023-11-02  \n",
       "\n",
       "[100 rows x 22 columns]"
      ]
     },
     "execution_count": 48,
     "metadata": {},
     "output_type": "execute_result"
    }
   ],
   "source": [
    "df_top_100_wpm = df_results.sort_values('WPM', ascending = False).head(\n",
    "    100).copy()\n",
    "df_top_100_wpm.insert(0, 'Rank', df_top_100_wpm['WPM'].rank(\n",
    "    ascending = False, method = 'min').astype('int'))\n",
    "# method = 'min' assigns the lowest rank to any rows that happen to have\n",
    "# the same WPM. See \n",
    "# https://pandas.pydata.org/pandas-docs/stable/reference/api/pandas.DataFrame.rank.html\n",
    "df_top_100_wpm.to_csv('Analyses/top_100_wpm.csv')\n",
    "df_top_100_wpm"
   ]
  },
  {
   "cell_type": "code",
   "execution_count": 49,
   "metadata": {},
   "outputs": [
    {
     "data": {
      "application/vnd.plotly.v1+json": {
       "config": {
        "plotlyServerURL": "https://plot.ly"
       },
       "data": [
        {
         "alignmentgroup": "True",
         "hovertemplate": "Rank=%{x}<br>WPM=%{y}<extra></extra>",
         "legendgroup": "",
         "marker": {
          "color": "#636efa",
          "pattern": {
           "shape": ""
          }
         },
         "name": "",
         "offsetgroup": "",
         "orientation": "v",
         "showlegend": false,
         "textposition": "auto",
         "type": "bar",
         "x": [
          1,
          2,
          3,
          4,
          5,
          6,
          7,
          8,
          9,
          10,
          11,
          12,
          13,
          14,
          15,
          16,
          17,
          18,
          19,
          20,
          21,
          22,
          23,
          24,
          25,
          26,
          27,
          28,
          29,
          30,
          31,
          32,
          33,
          34,
          35,
          36,
          37,
          38,
          39,
          40,
          41,
          42,
          43,
          44,
          45,
          46,
          47,
          48,
          49,
          50,
          51,
          52,
          53,
          54,
          55,
          56,
          57,
          58,
          59,
          60,
          61,
          62,
          63,
          64,
          65,
          66,
          67,
          68,
          69,
          70,
          71,
          72,
          73,
          74,
          75,
          76,
          77,
          78,
          79,
          80,
          81,
          82,
          83,
          84,
          85,
          86,
          87,
          88,
          89,
          90,
          91,
          92,
          93,
          94,
          95,
          96,
          97,
          98,
          99,
          100
         ],
         "xaxis": "x",
         "y": [
          193.2515087,
          184.2361975,
          183.4856669,
          182.1425444180597,
          181.4326694465167,
          178.9753622,
          176.4035068952055,
          173.74069274168957,
          173.18579743135868,
          171.72475830210388,
          171.0487319,
          170.1109301,
          169.12094179101882,
          168.8132952426762,
          168.403897,
          168.2437689,
          167.7062966,
          167.63149622073377,
          165.8691277,
          165.4238972,
          165.21904205086668,
          164.78614744085377,
          164.65081611071054,
          164.4922606688814,
          164.2038699821898,
          164.05621539256902,
          163.9380587,
          163.6179313,
          163.14667850033788,
          162.53948411569007,
          162.51239311411,
          162.4183344,
          162.4136034262146,
          162.0956829,
          161.70446929707606,
          161.6821158,
          161.578202837319,
          161.5598703,
          161.3884259,
          161.0931056,
          161.0914995,
          160.9730861045085,
          160.678684,
          160.677088254899,
          160.6100877415165,
          160.4361977,
          160.32751649175646,
          160.1229467,
          160.06999091698722,
          160.0152284,
          159.58191208544406,
          159.50126306763843,
          159.4594056928479,
          159.2429145,
          159.1789682,
          158.97949435405167,
          158.69383141480452,
          158.3302592,
          158.1533926,
          157.8290157,
          157.6765394851595,
          157.5844433,
          157.4320554,
          157.0132623457111,
          156.9810082,
          156.8557855,
          156.5512382,
          156.536704,
          156.4077382,
          156.37907846399904,
          156.2175731,
          156.0012709,
          155.9615098,
          155.9042406,
          155.87125454275684,
          155.76334567780924,
          155.6884705,
          155.3612424,
          155.2874714,
          155.0468179,
          155.0448175,
          154.8833598,
          154.78518164162358,
          154.6339608,
          154.278507,
          154.0127971541685,
          153.8609336,
          153.55835113996105,
          153.4334004,
          153.19160682658327,
          153.1308776,
          152.91388285056925,
          152.658516,
          152.4793101,
          152.30838167556178,
          152.1530852,
          151.777983754413,
          151.5217265005572,
          151.1720859,
          150.99443261319522
         ],
         "yaxis": "y"
        }
       ],
       "layout": {
        "barmode": "relative",
        "legend": {
         "tracegroupgap": 0
        },
        "margin": {
         "t": 60
        },
        "template": {
         "data": {
          "bar": [
           {
            "error_x": {
             "color": "#2a3f5f"
            },
            "error_y": {
             "color": "#2a3f5f"
            },
            "marker": {
             "line": {
              "color": "#E5ECF6",
              "width": 0.5
             },
             "pattern": {
              "fillmode": "overlay",
              "size": 10,
              "solidity": 0.2
             }
            },
            "type": "bar"
           }
          ],
          "barpolar": [
           {
            "marker": {
             "line": {
              "color": "#E5ECF6",
              "width": 0.5
             },
             "pattern": {
              "fillmode": "overlay",
              "size": 10,
              "solidity": 0.2
             }
            },
            "type": "barpolar"
           }
          ],
          "carpet": [
           {
            "aaxis": {
             "endlinecolor": "#2a3f5f",
             "gridcolor": "white",
             "linecolor": "white",
             "minorgridcolor": "white",
             "startlinecolor": "#2a3f5f"
            },
            "baxis": {
             "endlinecolor": "#2a3f5f",
             "gridcolor": "white",
             "linecolor": "white",
             "minorgridcolor": "white",
             "startlinecolor": "#2a3f5f"
            },
            "type": "carpet"
           }
          ],
          "choropleth": [
           {
            "colorbar": {
             "outlinewidth": 0,
             "ticks": ""
            },
            "type": "choropleth"
           }
          ],
          "contour": [
           {
            "colorbar": {
             "outlinewidth": 0,
             "ticks": ""
            },
            "colorscale": [
             [
              0,
              "#0d0887"
             ],
             [
              0.1111111111111111,
              "#46039f"
             ],
             [
              0.2222222222222222,
              "#7201a8"
             ],
             [
              0.3333333333333333,
              "#9c179e"
             ],
             [
              0.4444444444444444,
              "#bd3786"
             ],
             [
              0.5555555555555556,
              "#d8576b"
             ],
             [
              0.6666666666666666,
              "#ed7953"
             ],
             [
              0.7777777777777778,
              "#fb9f3a"
             ],
             [
              0.8888888888888888,
              "#fdca26"
             ],
             [
              1,
              "#f0f921"
             ]
            ],
            "type": "contour"
           }
          ],
          "contourcarpet": [
           {
            "colorbar": {
             "outlinewidth": 0,
             "ticks": ""
            },
            "type": "contourcarpet"
           }
          ],
          "heatmap": [
           {
            "colorbar": {
             "outlinewidth": 0,
             "ticks": ""
            },
            "colorscale": [
             [
              0,
              "#0d0887"
             ],
             [
              0.1111111111111111,
              "#46039f"
             ],
             [
              0.2222222222222222,
              "#7201a8"
             ],
             [
              0.3333333333333333,
              "#9c179e"
             ],
             [
              0.4444444444444444,
              "#bd3786"
             ],
             [
              0.5555555555555556,
              "#d8576b"
             ],
             [
              0.6666666666666666,
              "#ed7953"
             ],
             [
              0.7777777777777778,
              "#fb9f3a"
             ],
             [
              0.8888888888888888,
              "#fdca26"
             ],
             [
              1,
              "#f0f921"
             ]
            ],
            "type": "heatmap"
           }
          ],
          "heatmapgl": [
           {
            "colorbar": {
             "outlinewidth": 0,
             "ticks": ""
            },
            "colorscale": [
             [
              0,
              "#0d0887"
             ],
             [
              0.1111111111111111,
              "#46039f"
             ],
             [
              0.2222222222222222,
              "#7201a8"
             ],
             [
              0.3333333333333333,
              "#9c179e"
             ],
             [
              0.4444444444444444,
              "#bd3786"
             ],
             [
              0.5555555555555556,
              "#d8576b"
             ],
             [
              0.6666666666666666,
              "#ed7953"
             ],
             [
              0.7777777777777778,
              "#fb9f3a"
             ],
             [
              0.8888888888888888,
              "#fdca26"
             ],
             [
              1,
              "#f0f921"
             ]
            ],
            "type": "heatmapgl"
           }
          ],
          "histogram": [
           {
            "marker": {
             "pattern": {
              "fillmode": "overlay",
              "size": 10,
              "solidity": 0.2
             }
            },
            "type": "histogram"
           }
          ],
          "histogram2d": [
           {
            "colorbar": {
             "outlinewidth": 0,
             "ticks": ""
            },
            "colorscale": [
             [
              0,
              "#0d0887"
             ],
             [
              0.1111111111111111,
              "#46039f"
             ],
             [
              0.2222222222222222,
              "#7201a8"
             ],
             [
              0.3333333333333333,
              "#9c179e"
             ],
             [
              0.4444444444444444,
              "#bd3786"
             ],
             [
              0.5555555555555556,
              "#d8576b"
             ],
             [
              0.6666666666666666,
              "#ed7953"
             ],
             [
              0.7777777777777778,
              "#fb9f3a"
             ],
             [
              0.8888888888888888,
              "#fdca26"
             ],
             [
              1,
              "#f0f921"
             ]
            ],
            "type": "histogram2d"
           }
          ],
          "histogram2dcontour": [
           {
            "colorbar": {
             "outlinewidth": 0,
             "ticks": ""
            },
            "colorscale": [
             [
              0,
              "#0d0887"
             ],
             [
              0.1111111111111111,
              "#46039f"
             ],
             [
              0.2222222222222222,
              "#7201a8"
             ],
             [
              0.3333333333333333,
              "#9c179e"
             ],
             [
              0.4444444444444444,
              "#bd3786"
             ],
             [
              0.5555555555555556,
              "#d8576b"
             ],
             [
              0.6666666666666666,
              "#ed7953"
             ],
             [
              0.7777777777777778,
              "#fb9f3a"
             ],
             [
              0.8888888888888888,
              "#fdca26"
             ],
             [
              1,
              "#f0f921"
             ]
            ],
            "type": "histogram2dcontour"
           }
          ],
          "mesh3d": [
           {
            "colorbar": {
             "outlinewidth": 0,
             "ticks": ""
            },
            "type": "mesh3d"
           }
          ],
          "parcoords": [
           {
            "line": {
             "colorbar": {
              "outlinewidth": 0,
              "ticks": ""
             }
            },
            "type": "parcoords"
           }
          ],
          "pie": [
           {
            "automargin": true,
            "type": "pie"
           }
          ],
          "scatter": [
           {
            "fillpattern": {
             "fillmode": "overlay",
             "size": 10,
             "solidity": 0.2
            },
            "type": "scatter"
           }
          ],
          "scatter3d": [
           {
            "line": {
             "colorbar": {
              "outlinewidth": 0,
              "ticks": ""
             }
            },
            "marker": {
             "colorbar": {
              "outlinewidth": 0,
              "ticks": ""
             }
            },
            "type": "scatter3d"
           }
          ],
          "scattercarpet": [
           {
            "marker": {
             "colorbar": {
              "outlinewidth": 0,
              "ticks": ""
             }
            },
            "type": "scattercarpet"
           }
          ],
          "scattergeo": [
           {
            "marker": {
             "colorbar": {
              "outlinewidth": 0,
              "ticks": ""
             }
            },
            "type": "scattergeo"
           }
          ],
          "scattergl": [
           {
            "marker": {
             "colorbar": {
              "outlinewidth": 0,
              "ticks": ""
             }
            },
            "type": "scattergl"
           }
          ],
          "scattermapbox": [
           {
            "marker": {
             "colorbar": {
              "outlinewidth": 0,
              "ticks": ""
             }
            },
            "type": "scattermapbox"
           }
          ],
          "scatterpolar": [
           {
            "marker": {
             "colorbar": {
              "outlinewidth": 0,
              "ticks": ""
             }
            },
            "type": "scatterpolar"
           }
          ],
          "scatterpolargl": [
           {
            "marker": {
             "colorbar": {
              "outlinewidth": 0,
              "ticks": ""
             }
            },
            "type": "scatterpolargl"
           }
          ],
          "scatterternary": [
           {
            "marker": {
             "colorbar": {
              "outlinewidth": 0,
              "ticks": ""
             }
            },
            "type": "scatterternary"
           }
          ],
          "surface": [
           {
            "colorbar": {
             "outlinewidth": 0,
             "ticks": ""
            },
            "colorscale": [
             [
              0,
              "#0d0887"
             ],
             [
              0.1111111111111111,
              "#46039f"
             ],
             [
              0.2222222222222222,
              "#7201a8"
             ],
             [
              0.3333333333333333,
              "#9c179e"
             ],
             [
              0.4444444444444444,
              "#bd3786"
             ],
             [
              0.5555555555555556,
              "#d8576b"
             ],
             [
              0.6666666666666666,
              "#ed7953"
             ],
             [
              0.7777777777777778,
              "#fb9f3a"
             ],
             [
              0.8888888888888888,
              "#fdca26"
             ],
             [
              1,
              "#f0f921"
             ]
            ],
            "type": "surface"
           }
          ],
          "table": [
           {
            "cells": {
             "fill": {
              "color": "#EBF0F8"
             },
             "line": {
              "color": "white"
             }
            },
            "header": {
             "fill": {
              "color": "#C8D4E3"
             },
             "line": {
              "color": "white"
             }
            },
            "type": "table"
           }
          ]
         },
         "layout": {
          "annotationdefaults": {
           "arrowcolor": "#2a3f5f",
           "arrowhead": 0,
           "arrowwidth": 1
          },
          "autotypenumbers": "strict",
          "coloraxis": {
           "colorbar": {
            "outlinewidth": 0,
            "ticks": ""
           }
          },
          "colorscale": {
           "diverging": [
            [
             0,
             "#8e0152"
            ],
            [
             0.1,
             "#c51b7d"
            ],
            [
             0.2,
             "#de77ae"
            ],
            [
             0.3,
             "#f1b6da"
            ],
            [
             0.4,
             "#fde0ef"
            ],
            [
             0.5,
             "#f7f7f7"
            ],
            [
             0.6,
             "#e6f5d0"
            ],
            [
             0.7,
             "#b8e186"
            ],
            [
             0.8,
             "#7fbc41"
            ],
            [
             0.9,
             "#4d9221"
            ],
            [
             1,
             "#276419"
            ]
           ],
           "sequential": [
            [
             0,
             "#0d0887"
            ],
            [
             0.1111111111111111,
             "#46039f"
            ],
            [
             0.2222222222222222,
             "#7201a8"
            ],
            [
             0.3333333333333333,
             "#9c179e"
            ],
            [
             0.4444444444444444,
             "#bd3786"
            ],
            [
             0.5555555555555556,
             "#d8576b"
            ],
            [
             0.6666666666666666,
             "#ed7953"
            ],
            [
             0.7777777777777778,
             "#fb9f3a"
            ],
            [
             0.8888888888888888,
             "#fdca26"
            ],
            [
             1,
             "#f0f921"
            ]
           ],
           "sequentialminus": [
            [
             0,
             "#0d0887"
            ],
            [
             0.1111111111111111,
             "#46039f"
            ],
            [
             0.2222222222222222,
             "#7201a8"
            ],
            [
             0.3333333333333333,
             "#9c179e"
            ],
            [
             0.4444444444444444,
             "#bd3786"
            ],
            [
             0.5555555555555556,
             "#d8576b"
            ],
            [
             0.6666666666666666,
             "#ed7953"
            ],
            [
             0.7777777777777778,
             "#fb9f3a"
            ],
            [
             0.8888888888888888,
             "#fdca26"
            ],
            [
             1,
             "#f0f921"
            ]
           ]
          },
          "colorway": [
           "#636efa",
           "#EF553B",
           "#00cc96",
           "#ab63fa",
           "#FFA15A",
           "#19d3f3",
           "#FF6692",
           "#B6E880",
           "#FF97FF",
           "#FECB52"
          ],
          "font": {
           "color": "#2a3f5f"
          },
          "geo": {
           "bgcolor": "white",
           "lakecolor": "white",
           "landcolor": "#E5ECF6",
           "showlakes": true,
           "showland": true,
           "subunitcolor": "white"
          },
          "hoverlabel": {
           "align": "left"
          },
          "hovermode": "closest",
          "mapbox": {
           "style": "light"
          },
          "paper_bgcolor": "white",
          "plot_bgcolor": "#E5ECF6",
          "polar": {
           "angularaxis": {
            "gridcolor": "white",
            "linecolor": "white",
            "ticks": ""
           },
           "bgcolor": "#E5ECF6",
           "radialaxis": {
            "gridcolor": "white",
            "linecolor": "white",
            "ticks": ""
           }
          },
          "scene": {
           "xaxis": {
            "backgroundcolor": "#E5ECF6",
            "gridcolor": "white",
            "gridwidth": 2,
            "linecolor": "white",
            "showbackground": true,
            "ticks": "",
            "zerolinecolor": "white"
           },
           "yaxis": {
            "backgroundcolor": "#E5ECF6",
            "gridcolor": "white",
            "gridwidth": 2,
            "linecolor": "white",
            "showbackground": true,
            "ticks": "",
            "zerolinecolor": "white"
           },
           "zaxis": {
            "backgroundcolor": "#E5ECF6",
            "gridcolor": "white",
            "gridwidth": 2,
            "linecolor": "white",
            "showbackground": true,
            "ticks": "",
            "zerolinecolor": "white"
           }
          },
          "shapedefaults": {
           "line": {
            "color": "#2a3f5f"
           }
          },
          "ternary": {
           "aaxis": {
            "gridcolor": "white",
            "linecolor": "white",
            "ticks": ""
           },
           "baxis": {
            "gridcolor": "white",
            "linecolor": "white",
            "ticks": ""
           },
           "bgcolor": "#E5ECF6",
           "caxis": {
            "gridcolor": "white",
            "linecolor": "white",
            "ticks": ""
           }
          },
          "title": {
           "x": 0.05
          },
          "xaxis": {
           "automargin": true,
           "gridcolor": "white",
           "linecolor": "white",
           "ticks": "",
           "title": {
            "standoff": 15
           },
           "zerolinecolor": "white",
           "zerolinewidth": 2
          },
          "yaxis": {
           "automargin": true,
           "gridcolor": "white",
           "linecolor": "white",
           "ticks": "",
           "title": {
            "standoff": 15
           },
           "zerolinecolor": "white",
           "zerolinewidth": 2
          }
         }
        },
        "xaxis": {
         "anchor": "y",
         "domain": [
          0,
          1
         ],
         "title": {
          "text": "Rank"
         }
        },
        "yaxis": {
         "anchor": "x",
         "domain": [
          0,
          1
         ],
         "title": {
          "text": "WPM"
         }
        }
       }
      }
     },
     "metadata": {},
     "output_type": "display_data"
    }
   ],
   "source": [
    "fig_top_100_wpm = px.bar(df_top_100_wpm, x = 'Rank', y = 'WPM')\n",
    "fig_top_100_wpm.write_html('Analyses/top_100_wpm.html')\n",
    "fig_top_100_wpm.write_image('Analyses/top_100_wpm.png', \n",
    "width = 1920, height = 1080, engine = 'kaleido', scale = 2)\n",
    "fig_top_100_wpm"
   ]
  },
  {
   "cell_type": "markdown",
   "metadata": {},
   "source": [
    "Top 20 'Last 10 Average' values:"
   ]
  },
  {
   "cell_type": "code",
   "execution_count": 50,
   "metadata": {},
   "outputs": [
    {
     "data": {
      "text/html": [
       "<div>\n",
       "<style scoped>\n",
       "    .dataframe tbody tr th:only-of-type {\n",
       "        vertical-align: middle;\n",
       "    }\n",
       "\n",
       "    .dataframe tbody tr th {\n",
       "        vertical-align: top;\n",
       "    }\n",
       "\n",
       "    .dataframe thead th {\n",
       "        text-align: right;\n",
       "    }\n",
       "</style>\n",
       "<table border=\"1\" class=\"dataframe\">\n",
       "  <thead>\n",
       "    <tr style=\"text-align: right;\">\n",
       "      <th></th>\n",
       "      <th>Unix_Start_Time</th>\n",
       "      <th>Local_Start_Time</th>\n",
       "      <th>UTC_Start_Time</th>\n",
       "      <th>Characters</th>\n",
       "      <th>Seconds</th>\n",
       "      <th>CPS</th>\n",
       "      <th>WPM</th>\n",
       "      <th>Book</th>\n",
       "      <th>Chapter</th>\n",
       "      <th>Verse_Order</th>\n",
       "      <th>Verse</th>\n",
       "      <th>Verse #</th>\n",
       "      <th>Last 10 Avg</th>\n",
       "      <th>Last 100 Avg</th>\n",
       "      <th>Last 1000 Avg</th>\n",
       "      <th>cumulative_avg</th>\n",
       "      <th>Local_Year</th>\n",
       "      <th>Local_Month</th>\n",
       "      <th>Local_Hour</th>\n",
       "      <th>Count</th>\n",
       "      <th>Local_Date</th>\n",
       "    </tr>\n",
       "    <tr>\n",
       "      <th>Test_Number</th>\n",
       "      <th></th>\n",
       "      <th></th>\n",
       "      <th></th>\n",
       "      <th></th>\n",
       "      <th></th>\n",
       "      <th></th>\n",
       "      <th></th>\n",
       "      <th></th>\n",
       "      <th></th>\n",
       "      <th></th>\n",
       "      <th></th>\n",
       "      <th></th>\n",
       "      <th></th>\n",
       "      <th></th>\n",
       "      <th></th>\n",
       "      <th></th>\n",
       "      <th></th>\n",
       "      <th></th>\n",
       "      <th></th>\n",
       "      <th></th>\n",
       "      <th></th>\n",
       "    </tr>\n",
       "  </thead>\n",
       "  <tbody>\n",
       "    <tr>\n",
       "      <th>375</th>\n",
       "      <td>1.699067e+09</td>\n",
       "      <td>2023-11-03T22:57:11.140166</td>\n",
       "      <td>2023-11-04T02:57:11.140166+00:00</td>\n",
       "      <td>94</td>\n",
       "      <td>6.981140</td>\n",
       "      <td>13.464850</td>\n",
       "      <td>161.578203</td>\n",
       "      <td>GEN</td>\n",
       "      <td>9</td>\n",
       "      <td>228</td>\n",
       "      <td>Ham, the father of Canaan, saw the nakedness o...</td>\n",
       "      <td>22.0</td>\n",
       "      <td>155.189199</td>\n",
       "      <td>140.005204</td>\n",
       "      <td>NaN</td>\n",
       "      <td>136.999</td>\n",
       "      <td>2023</td>\n",
       "      <td>11</td>\n",
       "      <td>22</td>\n",
       "      <td>1</td>\n",
       "      <td>2023-11-03</td>\n",
       "    </tr>\n",
       "    <tr>\n",
       "      <th>346</th>\n",
       "      <td>1.699066e+09</td>\n",
       "      <td>2023-11-03T22:50:09.696543</td>\n",
       "      <td>2023-11-04T02:50:09.696543+00:00</td>\n",
       "      <td>26</td>\n",
       "      <td>2.098202</td>\n",
       "      <td>12.391561</td>\n",
       "      <td>148.698727</td>\n",
       "      <td>GEN</td>\n",
       "      <td>8</td>\n",
       "      <td>199</td>\n",
       "      <td>God spoke to Noah, saying,</td>\n",
       "      <td>15.0</td>\n",
       "      <td>154.501316</td>\n",
       "      <td>135.941614</td>\n",
       "      <td>NaN</td>\n",
       "      <td>136.214</td>\n",
       "      <td>2023</td>\n",
       "      <td>11</td>\n",
       "      <td>22</td>\n",
       "      <td>1</td>\n",
       "      <td>2023-11-03</td>\n",
       "    </tr>\n",
       "    <tr>\n",
       "      <th>345</th>\n",
       "      <td>1.699066e+09</td>\n",
       "      <td>2023-11-03T22:49:56.583535</td>\n",
       "      <td>2023-11-04T02:49:56.583535+00:00</td>\n",
       "      <td>79</td>\n",
       "      <td>6.649562</td>\n",
       "      <td>11.880482</td>\n",
       "      <td>142.565789</td>\n",
       "      <td>GEN</td>\n",
       "      <td>8</td>\n",
       "      <td>198</td>\n",
       "      <td>In the second month, on the twenty-seventh day...</td>\n",
       "      <td>14.0</td>\n",
       "      <td>154.171140</td>\n",
       "      <td>135.389865</td>\n",
       "      <td>NaN</td>\n",
       "      <td>136.178</td>\n",
       "      <td>2023</td>\n",
       "      <td>11</td>\n",
       "      <td>22</td>\n",
       "      <td>1</td>\n",
       "      <td>2023-11-03</td>\n",
       "    </tr>\n",
       "    <tr>\n",
       "      <th>369</th>\n",
       "      <td>1.699067e+09</td>\n",
       "      <td>2023-11-03T22:56:04.797137</td>\n",
       "      <td>2023-11-04T02:56:04.797137+00:00</td>\n",
       "      <td>171</td>\n",
       "      <td>13.394990</td>\n",
       "      <td>12.765967</td>\n",
       "      <td>153.191607</td>\n",
       "      <td>GEN</td>\n",
       "      <td>9</td>\n",
       "      <td>222</td>\n",
       "      <td>The rainbow will be in the cloud. I will look ...</td>\n",
       "      <td>16.0</td>\n",
       "      <td>154.131763</td>\n",
       "      <td>139.205292</td>\n",
       "      <td>NaN</td>\n",
       "      <td>136.805</td>\n",
       "      <td>2023</td>\n",
       "      <td>11</td>\n",
       "      <td>22</td>\n",
       "      <td>1</td>\n",
       "      <td>2023-11-03</td>\n",
       "    </tr>\n",
       "    <tr>\n",
       "      <th>376</th>\n",
       "      <td>1.699067e+09</td>\n",
       "      <td>2023-11-03T22:57:19.430587</td>\n",
       "      <td>2023-11-04T02:57:19.430587+00:00</td>\n",
       "      <td>205</td>\n",
       "      <td>16.778885</td>\n",
       "      <td>12.217737</td>\n",
       "      <td>146.612842</td>\n",
       "      <td>GEN</td>\n",
       "      <td>9</td>\n",
       "      <td>229</td>\n",
       "      <td>Shem and Japheth took a garment, and laid it o...</td>\n",
       "      <td>23.0</td>\n",
       "      <td>152.531903</td>\n",
       "      <td>140.209026</td>\n",
       "      <td>NaN</td>\n",
       "      <td>137.025</td>\n",
       "      <td>2023</td>\n",
       "      <td>11</td>\n",
       "      <td>22</td>\n",
       "      <td>1</td>\n",
       "      <td>2023-11-03</td>\n",
       "    </tr>\n",
       "    <tr>\n",
       "      <th>377</th>\n",
       "      <td>1.699067e+09</td>\n",
       "      <td>2023-11-03T22:57:39.277346</td>\n",
       "      <td>2023-11-04T02:57:39.277346+00:00</td>\n",
       "      <td>73</td>\n",
       "      <td>5.463816</td>\n",
       "      <td>13.360626</td>\n",
       "      <td>160.327516</td>\n",
       "      <td>GEN</td>\n",
       "      <td>9</td>\n",
       "      <td>230</td>\n",
       "      <td>Noah awoke from his wine, and knew what his yo...</td>\n",
       "      <td>24.0</td>\n",
       "      <td>151.801505</td>\n",
       "      <td>140.348312</td>\n",
       "      <td>NaN</td>\n",
       "      <td>137.087</td>\n",
       "      <td>2023</td>\n",
       "      <td>11</td>\n",
       "      <td>22</td>\n",
       "      <td>1</td>\n",
       "      <td>2023-11-03</td>\n",
       "    </tr>\n",
       "    <tr>\n",
       "      <th>374</th>\n",
       "      <td>1.699067e+09</td>\n",
       "      <td>2023-11-03T22:57:05.278503</td>\n",
       "      <td>2023-11-04T02:57:05.278503+00:00</td>\n",
       "      <td>69</td>\n",
       "      <td>4.693784</td>\n",
       "      <td>14.700292</td>\n",
       "      <td>176.403507</td>\n",
       "      <td>GEN</td>\n",
       "      <td>9</td>\n",
       "      <td>227</td>\n",
       "      <td>He drank of the wine and got drunk. He was unc...</td>\n",
       "      <td>21.0</td>\n",
       "      <td>151.231641</td>\n",
       "      <td>139.896429</td>\n",
       "      <td>NaN</td>\n",
       "      <td>136.933</td>\n",
       "      <td>2023</td>\n",
       "      <td>11</td>\n",
       "      <td>22</td>\n",
       "      <td>1</td>\n",
       "      <td>2023-11-03</td>\n",
       "    </tr>\n",
       "    <tr>\n",
       "      <th>344</th>\n",
       "      <td>1.699066e+09</td>\n",
       "      <td>2023-11-03T22:49:38.177286</td>\n",
       "      <td>2023-11-04T02:49:38.177286+00:00</td>\n",
       "      <td>217</td>\n",
       "      <td>15.961097</td>\n",
       "      <td>13.595557</td>\n",
       "      <td>163.146679</td>\n",
       "      <td>GEN</td>\n",
       "      <td>8</td>\n",
       "      <td>197</td>\n",
       "      <td>In the six hundred first year, in the first mo...</td>\n",
       "      <td>13.0</td>\n",
       "      <td>151.184573</td>\n",
       "      <td>134.886354</td>\n",
       "      <td>NaN</td>\n",
       "      <td>136.159</td>\n",
       "      <td>2023</td>\n",
       "      <td>11</td>\n",
       "      <td>22</td>\n",
       "      <td>1</td>\n",
       "      <td>2023-11-03</td>\n",
       "    </tr>\n",
       "    <tr>\n",
       "      <th>368</th>\n",
       "      <td>1.699067e+09</td>\n",
       "      <td>2023-11-03T22:55:51.536428</td>\n",
       "      <td>2023-11-04T02:55:51.536428+00:00</td>\n",
       "      <td>161</td>\n",
       "      <td>11.776451</td>\n",
       "      <td>13.671351</td>\n",
       "      <td>164.056215</td>\n",
       "      <td>GEN</td>\n",
       "      <td>9</td>\n",
       "      <td>221</td>\n",
       "      <td>I will remember my covenant, which is between ...</td>\n",
       "      <td>15.0</td>\n",
       "      <td>150.438336</td>\n",
       "      <td>138.923141</td>\n",
       "      <td>NaN</td>\n",
       "      <td>136.760</td>\n",
       "      <td>2023</td>\n",
       "      <td>11</td>\n",
       "      <td>22</td>\n",
       "      <td>1</td>\n",
       "      <td>2023-11-03</td>\n",
       "    </tr>\n",
       "    <tr>\n",
       "      <th>343</th>\n",
       "      <td>1.699066e+09</td>\n",
       "      <td>2023-11-03T22:49:24.201749</td>\n",
       "      <td>2023-11-04T02:49:24.201749+00:00</td>\n",
       "      <td>95</td>\n",
       "      <td>7.094975</td>\n",
       "      <td>13.389757</td>\n",
       "      <td>160.677088</td>\n",
       "      <td>GEN</td>\n",
       "      <td>8</td>\n",
       "      <td>196</td>\n",
       "      <td>He waited yet another seven days, and sent out...</td>\n",
       "      <td>12.0</td>\n",
       "      <td>149.969348</td>\n",
       "      <td>134.253127</td>\n",
       "      <td>NaN</td>\n",
       "      <td>136.080</td>\n",
       "      <td>2023</td>\n",
       "      <td>11</td>\n",
       "      <td>22</td>\n",
       "      <td>1</td>\n",
       "      <td>2023-11-03</td>\n",
       "    </tr>\n",
       "    <tr>\n",
       "      <th>347</th>\n",
       "      <td>1.699066e+09</td>\n",
       "      <td>2023-11-03T22:50:13.961122</td>\n",
       "      <td>2023-11-04T02:50:13.961122+00:00</td>\n",
       "      <td>78</td>\n",
       "      <td>8.200206</td>\n",
       "      <td>9.511956</td>\n",
       "      <td>114.143470</td>\n",
       "      <td>GEN</td>\n",
       "      <td>8</td>\n",
       "      <td>200</td>\n",
       "      <td>\"Go out of the ship, you, your wife, your sons...</td>\n",
       "      <td>16.0</td>\n",
       "      <td>149.466437</td>\n",
       "      <td>135.645305</td>\n",
       "      <td>NaN</td>\n",
       "      <td>136.150</td>\n",
       "      <td>2023</td>\n",
       "      <td>11</td>\n",
       "      <td>22</td>\n",
       "      <td>1</td>\n",
       "      <td>2023-11-03</td>\n",
       "    </tr>\n",
       "    <tr>\n",
       "      <th>363</th>\n",
       "      <td>1.699066e+09</td>\n",
       "      <td>2023-11-03T22:54:08.596196</td>\n",
       "      <td>2023-11-04T02:54:08.596196+00:00</td>\n",
       "      <td>178</td>\n",
       "      <td>13.713111</td>\n",
       "      <td>12.980279</td>\n",
       "      <td>155.763346</td>\n",
       "      <td>GEN</td>\n",
       "      <td>9</td>\n",
       "      <td>216</td>\n",
       "      <td>and with every living creature that is with yo...</td>\n",
       "      <td>10.0</td>\n",
       "      <td>149.406005</td>\n",
       "      <td>138.101412</td>\n",
       "      <td>NaN</td>\n",
       "      <td>136.569</td>\n",
       "      <td>2023</td>\n",
       "      <td>11</td>\n",
       "      <td>22</td>\n",
       "      <td>1</td>\n",
       "      <td>2023-11-03</td>\n",
       "    </tr>\n",
       "    <tr>\n",
       "      <th>341</th>\n",
       "      <td>1.699066e+09</td>\n",
       "      <td>2023-11-03T22:48:34.354652</td>\n",
       "      <td>2023-11-04T02:48:34.354652+00:00</td>\n",
       "      <td>77</td>\n",
       "      <td>5.072950</td>\n",
       "      <td>15.178545</td>\n",
       "      <td>182.142544</td>\n",
       "      <td>GEN</td>\n",
       "      <td>8</td>\n",
       "      <td>194</td>\n",
       "      <td>He waited yet another seven days; and again he...</td>\n",
       "      <td>10.0</td>\n",
       "      <td>149.265970</td>\n",
       "      <td>134.422066</td>\n",
       "      <td>NaN</td>\n",
       "      <td>136.074</td>\n",
       "      <td>2023</td>\n",
       "      <td>11</td>\n",
       "      <td>22</td>\n",
       "      <td>1</td>\n",
       "      <td>2023-11-03</td>\n",
       "    </tr>\n",
       "    <tr>\n",
       "      <th>330</th>\n",
       "      <td>1.698793e+09</td>\n",
       "      <td>2023-10-31T18:51:15.987789</td>\n",
       "      <td>2023-10-31T22:51:15.988295+00:00</td>\n",
       "      <td>233</td>\n",
       "      <td>19.420589</td>\n",
       "      <td>11.997576</td>\n",
       "      <td>143.970917</td>\n",
       "      <td>GEN</td>\n",
       "      <td>7</td>\n",
       "      <td>183</td>\n",
       "      <td>Every living thing was destroyed that was on t...</td>\n",
       "      <td>23.0</td>\n",
       "      <td>149.190229</td>\n",
       "      <td>133.552750</td>\n",
       "      <td>NaN</td>\n",
       "      <td>135.780</td>\n",
       "      <td>2023</td>\n",
       "      <td>10</td>\n",
       "      <td>18</td>\n",
       "      <td>1</td>\n",
       "      <td>2023-10-31</td>\n",
       "    </tr>\n",
       "    <tr>\n",
       "      <th>348</th>\n",
       "      <td>1.699066e+09</td>\n",
       "      <td>2023-11-03T22:50:23.820411</td>\n",
       "      <td>2023-11-04T02:50:23.820411+00:00</td>\n",
       "      <td>237</td>\n",
       "      <td>19.271681</td>\n",
       "      <td>12.297838</td>\n",
       "      <td>147.574050</td>\n",
       "      <td>GEN</td>\n",
       "      <td>8</td>\n",
       "      <td>201</td>\n",
       "      <td>Bring out with you every living thing that is ...</td>\n",
       "      <td>17.0</td>\n",
       "      <td>148.932454</td>\n",
       "      <td>135.933779</td>\n",
       "      <td>NaN</td>\n",
       "      <td>136.183</td>\n",
       "      <td>2023</td>\n",
       "      <td>11</td>\n",
       "      <td>22</td>\n",
       "      <td>1</td>\n",
       "      <td>2023-11-03</td>\n",
       "    </tr>\n",
       "    <tr>\n",
       "      <th>364</th>\n",
       "      <td>1.699066e+09</td>\n",
       "      <td>2023-11-03T22:54:24.455479</td>\n",
       "      <td>2023-11-04T02:54:24.455479+00:00</td>\n",
       "      <td>162</td>\n",
       "      <td>15.375179</td>\n",
       "      <td>10.536462</td>\n",
       "      <td>126.437550</td>\n",
       "      <td>GEN</td>\n",
       "      <td>9</td>\n",
       "      <td>217</td>\n",
       "      <td>I will establish my covenant with you: All fle...</td>\n",
       "      <td>11.0</td>\n",
       "      <td>148.907454</td>\n",
       "      <td>138.253573</td>\n",
       "      <td>NaN</td>\n",
       "      <td>136.541</td>\n",
       "      <td>2023</td>\n",
       "      <td>11</td>\n",
       "      <td>22</td>\n",
       "      <td>1</td>\n",
       "      <td>2023-11-03</td>\n",
       "    </tr>\n",
       "    <tr>\n",
       "      <th>54</th>\n",
       "      <td>1.698554e+09</td>\n",
       "      <td>2023-10-29T00:35:06.989057</td>\n",
       "      <td>2023-10-29T04:35:06.989057+00:00</td>\n",
       "      <td>123</td>\n",
       "      <td>9.668638</td>\n",
       "      <td>12.721543</td>\n",
       "      <td>152.658516</td>\n",
       "      <td>3JN</td>\n",
       "      <td>1</td>\n",
       "      <td>34948</td>\n",
       "      <td>Demetrius has the testimony of all, and of the...</td>\n",
       "      <td>12.0</td>\n",
       "      <td>148.882945</td>\n",
       "      <td>NaN</td>\n",
       "      <td>NaN</td>\n",
       "      <td>135.745</td>\n",
       "      <td>2023</td>\n",
       "      <td>10</td>\n",
       "      <td>0</td>\n",
       "      <td>1</td>\n",
       "      <td>2023-10-29</td>\n",
       "    </tr>\n",
       "    <tr>\n",
       "      <th>29</th>\n",
       "      <td>1.698284e+09</td>\n",
       "      <td>2023-10-25T21:29:51.817669</td>\n",
       "      <td>2023-10-26T01:29:51.817669+00:00</td>\n",
       "      <td>56</td>\n",
       "      <td>3.477334</td>\n",
       "      <td>16.104292</td>\n",
       "      <td>193.251509</td>\n",
       "      <td>GEN</td>\n",
       "      <td>1</td>\n",
       "      <td>1</td>\n",
       "      <td>In the beginning, God created the heavens and ...</td>\n",
       "      <td>1.0</td>\n",
       "      <td>148.772233</td>\n",
       "      <td>NaN</td>\n",
       "      <td>NaN</td>\n",
       "      <td>129.881</td>\n",
       "      <td>2023</td>\n",
       "      <td>10</td>\n",
       "      <td>21</td>\n",
       "      <td>1</td>\n",
       "      <td>2023-10-25</td>\n",
       "    </tr>\n",
       "    <tr>\n",
       "      <th>55</th>\n",
       "      <td>1.698554e+09</td>\n",
       "      <td>2023-10-29T00:35:20.795259</td>\n",
       "      <td>2023-10-29T04:35:20.795259+00:00</td>\n",
       "      <td>87</td>\n",
       "      <td>7.268541</td>\n",
       "      <td>11.969390</td>\n",
       "      <td>143.632675</td>\n",
       "      <td>3JN</td>\n",
       "      <td>1</td>\n",
       "      <td>34949</td>\n",
       "      <td>I had many things to write to you, but I am un...</td>\n",
       "      <td>13.0</td>\n",
       "      <td>148.753421</td>\n",
       "      <td>NaN</td>\n",
       "      <td>NaN</td>\n",
       "      <td>135.889</td>\n",
       "      <td>2023</td>\n",
       "      <td>10</td>\n",
       "      <td>0</td>\n",
       "      <td>1</td>\n",
       "      <td>2023-10-29</td>\n",
       "    </tr>\n",
       "    <tr>\n",
       "      <th>378</th>\n",
       "      <td>1.699067e+09</td>\n",
       "      <td>2023-11-03T22:57:46.513912</td>\n",
       "      <td>2023-11-04T02:57:46.513912+00:00</td>\n",
       "      <td>78</td>\n",
       "      <td>7.093099</td>\n",
       "      <td>10.996604</td>\n",
       "      <td>131.959244</td>\n",
       "      <td>GEN</td>\n",
       "      <td>9</td>\n",
       "      <td>231</td>\n",
       "      <td>He said, \"Canaan is cursed. He will be a serva...</td>\n",
       "      <td>25.0</td>\n",
       "      <td>148.591808</td>\n",
       "      <td>140.343131</td>\n",
       "      <td>NaN</td>\n",
       "      <td>137.073</td>\n",
       "      <td>2023</td>\n",
       "      <td>11</td>\n",
       "      <td>22</td>\n",
       "      <td>1</td>\n",
       "      <td>2023-11-03</td>\n",
       "    </tr>\n",
       "  </tbody>\n",
       "</table>\n",
       "</div>"
      ],
      "text/plain": [
       "             Unix_Start_Time            Local_Start_Time  \\\n",
       "Test_Number                                                \n",
       "375             1.699067e+09  2023-11-03T22:57:11.140166   \n",
       "346             1.699066e+09  2023-11-03T22:50:09.696543   \n",
       "345             1.699066e+09  2023-11-03T22:49:56.583535   \n",
       "369             1.699067e+09  2023-11-03T22:56:04.797137   \n",
       "376             1.699067e+09  2023-11-03T22:57:19.430587   \n",
       "377             1.699067e+09  2023-11-03T22:57:39.277346   \n",
       "374             1.699067e+09  2023-11-03T22:57:05.278503   \n",
       "344             1.699066e+09  2023-11-03T22:49:38.177286   \n",
       "368             1.699067e+09  2023-11-03T22:55:51.536428   \n",
       "343             1.699066e+09  2023-11-03T22:49:24.201749   \n",
       "347             1.699066e+09  2023-11-03T22:50:13.961122   \n",
       "363             1.699066e+09  2023-11-03T22:54:08.596196   \n",
       "341             1.699066e+09  2023-11-03T22:48:34.354652   \n",
       "330             1.698793e+09  2023-10-31T18:51:15.987789   \n",
       "348             1.699066e+09  2023-11-03T22:50:23.820411   \n",
       "364             1.699066e+09  2023-11-03T22:54:24.455479   \n",
       "54              1.698554e+09  2023-10-29T00:35:06.989057   \n",
       "29              1.698284e+09  2023-10-25T21:29:51.817669   \n",
       "55              1.698554e+09  2023-10-29T00:35:20.795259   \n",
       "378             1.699067e+09  2023-11-03T22:57:46.513912   \n",
       "\n",
       "                               UTC_Start_Time  Characters    Seconds  \\\n",
       "Test_Number                                                            \n",
       "375          2023-11-04T02:57:11.140166+00:00          94   6.981140   \n",
       "346          2023-11-04T02:50:09.696543+00:00          26   2.098202   \n",
       "345          2023-11-04T02:49:56.583535+00:00          79   6.649562   \n",
       "369          2023-11-04T02:56:04.797137+00:00         171  13.394990   \n",
       "376          2023-11-04T02:57:19.430587+00:00         205  16.778885   \n",
       "377          2023-11-04T02:57:39.277346+00:00          73   5.463816   \n",
       "374          2023-11-04T02:57:05.278503+00:00          69   4.693784   \n",
       "344          2023-11-04T02:49:38.177286+00:00         217  15.961097   \n",
       "368          2023-11-04T02:55:51.536428+00:00         161  11.776451   \n",
       "343          2023-11-04T02:49:24.201749+00:00          95   7.094975   \n",
       "347          2023-11-04T02:50:13.961122+00:00          78   8.200206   \n",
       "363          2023-11-04T02:54:08.596196+00:00         178  13.713111   \n",
       "341          2023-11-04T02:48:34.354652+00:00          77   5.072950   \n",
       "330          2023-10-31T22:51:15.988295+00:00         233  19.420589   \n",
       "348          2023-11-04T02:50:23.820411+00:00         237  19.271681   \n",
       "364          2023-11-04T02:54:24.455479+00:00         162  15.375179   \n",
       "54           2023-10-29T04:35:06.989057+00:00         123   9.668638   \n",
       "29           2023-10-26T01:29:51.817669+00:00          56   3.477334   \n",
       "55           2023-10-29T04:35:20.795259+00:00          87   7.268541   \n",
       "378          2023-11-04T02:57:46.513912+00:00          78   7.093099   \n",
       "\n",
       "                   CPS         WPM Book  Chapter  Verse_Order  \\\n",
       "Test_Number                                                     \n",
       "375          13.464850  161.578203  GEN        9          228   \n",
       "346          12.391561  148.698727  GEN        8          199   \n",
       "345          11.880482  142.565789  GEN        8          198   \n",
       "369          12.765967  153.191607  GEN        9          222   \n",
       "376          12.217737  146.612842  GEN        9          229   \n",
       "377          13.360626  160.327516  GEN        9          230   \n",
       "374          14.700292  176.403507  GEN        9          227   \n",
       "344          13.595557  163.146679  GEN        8          197   \n",
       "368          13.671351  164.056215  GEN        9          221   \n",
       "343          13.389757  160.677088  GEN        8          196   \n",
       "347           9.511956  114.143470  GEN        8          200   \n",
       "363          12.980279  155.763346  GEN        9          216   \n",
       "341          15.178545  182.142544  GEN        8          194   \n",
       "330          11.997576  143.970917  GEN        7          183   \n",
       "348          12.297838  147.574050  GEN        8          201   \n",
       "364          10.536462  126.437550  GEN        9          217   \n",
       "54           12.721543  152.658516  3JN        1        34948   \n",
       "29           16.104292  193.251509  GEN        1            1   \n",
       "55           11.969390  143.632675  3JN        1        34949   \n",
       "378          10.996604  131.959244  GEN        9          231   \n",
       "\n",
       "                                                         Verse  Verse #  \\\n",
       "Test_Number                                                               \n",
       "375          Ham, the father of Canaan, saw the nakedness o...     22.0   \n",
       "346                                 God spoke to Noah, saying,     15.0   \n",
       "345          In the second month, on the twenty-seventh day...     14.0   \n",
       "369          The rainbow will be in the cloud. I will look ...     16.0   \n",
       "376          Shem and Japheth took a garment, and laid it o...     23.0   \n",
       "377          Noah awoke from his wine, and knew what his yo...     24.0   \n",
       "374          He drank of the wine and got drunk. He was unc...     21.0   \n",
       "344          In the six hundred first year, in the first mo...     13.0   \n",
       "368          I will remember my covenant, which is between ...     15.0   \n",
       "343          He waited yet another seven days, and sent out...     12.0   \n",
       "347          \"Go out of the ship, you, your wife, your sons...     16.0   \n",
       "363          and with every living creature that is with yo...     10.0   \n",
       "341          He waited yet another seven days; and again he...     10.0   \n",
       "330          Every living thing was destroyed that was on t...     23.0   \n",
       "348          Bring out with you every living thing that is ...     17.0   \n",
       "364          I will establish my covenant with you: All fle...     11.0   \n",
       "54           Demetrius has the testimony of all, and of the...     12.0   \n",
       "29           In the beginning, God created the heavens and ...      1.0   \n",
       "55           I had many things to write to you, but I am un...     13.0   \n",
       "378          He said, \"Canaan is cursed. He will be a serva...     25.0   \n",
       "\n",
       "             Last 10 Avg  Last 100 Avg  Last 1000 Avg  cumulative_avg  \\\n",
       "Test_Number                                                             \n",
       "375           155.189199    140.005204            NaN         136.999   \n",
       "346           154.501316    135.941614            NaN         136.214   \n",
       "345           154.171140    135.389865            NaN         136.178   \n",
       "369           154.131763    139.205292            NaN         136.805   \n",
       "376           152.531903    140.209026            NaN         137.025   \n",
       "377           151.801505    140.348312            NaN         137.087   \n",
       "374           151.231641    139.896429            NaN         136.933   \n",
       "344           151.184573    134.886354            NaN         136.159   \n",
       "368           150.438336    138.923141            NaN         136.760   \n",
       "343           149.969348    134.253127            NaN         136.080   \n",
       "347           149.466437    135.645305            NaN         136.150   \n",
       "363           149.406005    138.101412            NaN         136.569   \n",
       "341           149.265970    134.422066            NaN         136.074   \n",
       "330           149.190229    133.552750            NaN         135.780   \n",
       "348           148.932454    135.933779            NaN         136.183   \n",
       "364           148.907454    138.253573            NaN         136.541   \n",
       "54            148.882945           NaN            NaN         135.745   \n",
       "29            148.772233           NaN            NaN         129.881   \n",
       "55            148.753421           NaN            NaN         135.889   \n",
       "378           148.591808    140.343131            NaN         137.073   \n",
       "\n",
       "             Local_Year  Local_Month  Local_Hour  Count  Local_Date  \n",
       "Test_Number                                                          \n",
       "375                2023           11          22      1  2023-11-03  \n",
       "346                2023           11          22      1  2023-11-03  \n",
       "345                2023           11          22      1  2023-11-03  \n",
       "369                2023           11          22      1  2023-11-03  \n",
       "376                2023           11          22      1  2023-11-03  \n",
       "377                2023           11          22      1  2023-11-03  \n",
       "374                2023           11          22      1  2023-11-03  \n",
       "344                2023           11          22      1  2023-11-03  \n",
       "368                2023           11          22      1  2023-11-03  \n",
       "343                2023           11          22      1  2023-11-03  \n",
       "347                2023           11          22      1  2023-11-03  \n",
       "363                2023           11          22      1  2023-11-03  \n",
       "341                2023           11          22      1  2023-11-03  \n",
       "330                2023           10          18      1  2023-10-31  \n",
       "348                2023           11          22      1  2023-11-03  \n",
       "364                2023           11          22      1  2023-11-03  \n",
       "54                 2023           10           0      1  2023-10-29  \n",
       "29                 2023           10          21      1  2023-10-25  \n",
       "55                 2023           10           0      1  2023-10-29  \n",
       "378                2023           11          22      1  2023-11-03  "
      ]
     },
     "execution_count": 50,
     "metadata": {},
     "output_type": "execute_result"
    }
   ],
   "source": [
    "df_top_20_last_10_avg_results = df_results.sort_values(\n",
    "    'Last 10 Avg', ascending = False).head(20).copy()\n",
    "df_top_20_last_10_avg_results"
   ]
  },
  {
   "cell_type": "code",
   "execution_count": 51,
   "metadata": {},
   "outputs": [
    {
     "data": {
      "application/vnd.plotly.v1+json": {
       "config": {
        "plotlyServerURL": "https://plot.ly"
       },
       "data": [
        {
         "hovertemplate": "variable=WPM<br>Test_Number=%{x}<br>value=%{y}<extra></extra>",
         "legendgroup": "WPM",
         "line": {
          "color": "#636efa",
          "dash": "solid"
         },
         "marker": {
          "symbol": "circle"
         },
         "mode": "lines",
         "name": "WPM",
         "showlegend": true,
         "type": "scattergl",
         "x": [
          1,
          2,
          3,
          4,
          5,
          6,
          7,
          8,
          9,
          10,
          11,
          12,
          13,
          14,
          15,
          16,
          17,
          18,
          19,
          20,
          21,
          22,
          23,
          24,
          25,
          26,
          27,
          28,
          29,
          30,
          31,
          32,
          33,
          34,
          35,
          36,
          37,
          38,
          39,
          40,
          41,
          42,
          43,
          44,
          45,
          46,
          47,
          48,
          49,
          50,
          51,
          52,
          53,
          54,
          55,
          56,
          57,
          58,
          59,
          60,
          61,
          62,
          63,
          64,
          65,
          66,
          67,
          68,
          69,
          70,
          71,
          72,
          73,
          74,
          75,
          76,
          77,
          78,
          79,
          80,
          81,
          82,
          83,
          84,
          85,
          86,
          87,
          88,
          89,
          90,
          91,
          92,
          93,
          94,
          95,
          96,
          97,
          98,
          99,
          100,
          101,
          102,
          103,
          104,
          105,
          106,
          107,
          108,
          109,
          110,
          111,
          112,
          113,
          114,
          115,
          116,
          117,
          118,
          119,
          120,
          121,
          122,
          123,
          124,
          125,
          126,
          127,
          128,
          129,
          130,
          131,
          132,
          133,
          134,
          135,
          136,
          137,
          138,
          139,
          140,
          141,
          142,
          143,
          144,
          145,
          146,
          147,
          148,
          149,
          150,
          151,
          152,
          153,
          154,
          155,
          156,
          157,
          158,
          159,
          160,
          161,
          162,
          163,
          164,
          165,
          166,
          167,
          168,
          169,
          170,
          171,
          172,
          173,
          174,
          175,
          176,
          177,
          178,
          179,
          180,
          181,
          182,
          183,
          184,
          185,
          186,
          187,
          188,
          189,
          190,
          191,
          192,
          193,
          194,
          195,
          196,
          197,
          198,
          199,
          200,
          201,
          202,
          203,
          204,
          205,
          206,
          207,
          208,
          209,
          210,
          211,
          212,
          213,
          214,
          215,
          216,
          217,
          218,
          219,
          220,
          221,
          222,
          223,
          224,
          225,
          226,
          227,
          228,
          229,
          230,
          231,
          232,
          233,
          234,
          235,
          236,
          237,
          238,
          239,
          240,
          241,
          242,
          243,
          244,
          245,
          246,
          247,
          248,
          249,
          250,
          251,
          252,
          253,
          254,
          255,
          256,
          257,
          258,
          259,
          260,
          261,
          262,
          263,
          264,
          265,
          266,
          267,
          268,
          269,
          270,
          271,
          272,
          273,
          274,
          275,
          276,
          277,
          278,
          279,
          280,
          281,
          282,
          283,
          284,
          285,
          286,
          287,
          288,
          289,
          290,
          291,
          292,
          293,
          294,
          295,
          296,
          297,
          298,
          299,
          300,
          301,
          302,
          303,
          304,
          305,
          306,
          307,
          308,
          309,
          310,
          311,
          312,
          313,
          314,
          315,
          316,
          317,
          318,
          319,
          320,
          321,
          322,
          323,
          324,
          325,
          326,
          327,
          328,
          329,
          330,
          331,
          332,
          333,
          334,
          335,
          336,
          337,
          338,
          339,
          340,
          341,
          342,
          343,
          344,
          345,
          346,
          347,
          348,
          349,
          350,
          351,
          352,
          353,
          354,
          355,
          356,
          357,
          358,
          359,
          360,
          361,
          362,
          363,
          364,
          365,
          366,
          367,
          368,
          369,
          370,
          371,
          372,
          373,
          374,
          375,
          376,
          377,
          378,
          379,
          380,
          381,
          382,
          383,
          384,
          385,
          386,
          387,
          388,
          389,
          390,
          391,
          392,
          393,
          394,
          395,
          396,
          397,
          398,
          399,
          400,
          401,
          402,
          403,
          404,
          405,
          406,
          407,
          408,
          409,
          410,
          411,
          412,
          413,
          414,
          415,
          416,
          417,
          418,
          419,
          420,
          421,
          422,
          423,
          424,
          425,
          426,
          427,
          428,
          429,
          430,
          431,
          432,
          433,
          434,
          435,
          436,
          437,
          438,
          439,
          440,
          441,
          442,
          443,
          444,
          445,
          446,
          447,
          448,
          449,
          450,
          451,
          452,
          453,
          454,
          455,
          456,
          457,
          458,
          459,
          460,
          461
         ],
         "xaxis": "x",
         "y": [
          102.2557986,
          115.7346535,
          142.5452918,
          137.7414966,
          84.91257979,
          103.0949072,
          140.4618271,
          77.08441069,
          112.7003629,
          143.5314685,
          125.0376318,
          121.9772506,
          105.3597769,
          96.49691111,
          161.0931056,
          135.7298163,
          165.8691277,
          84.00849276,
          123.1983781,
          121.5749177,
          135.6642724,
          155.0448175,
          157.5844433,
          147.6314926,
          124.5485308,
          184.2361975,
          130.0511073,
          138.1350428,
          193.2515087,
          100.1429176,
          122.5971194,
          127.6817625,
          143.0622221,
          168.403897,
          150.1085888,
          147.0209159,
          171.0487319,
          146.2200932,
          116.8923964,
          147.7794536,
          137.9010458,
          124.164215,
          134.8010763,
          137.0410419,
          144.9279153,
          142.5807182,
          170.1109301,
          162.4183344,
          178.9753622,
          134.4954117,
          147.7605567,
          126.2491401,
          128.652569,
          152.658516,
          143.6326748,
          140.5365586,
          148.6723345,
          132.8951263,
          148.3544075,
          123.9723083,
          147.7218366,
          135.3845744,
          160.678684,
          162.0956829,
          120.0026465,
          153.4334004,
          160.0152284,
          138.1549429,
          159.2429145,
          146.3512585,
          102.4181261,
          156.536704,
          141.8866797,
          123.1854455,
          144.5291828,
          136.5369094,
          161.5598703,
          140.7957314,
          157.8290157,
          128.3149053,
          151.1720859,
          145.6297216,
          155.3612424,
          145.8383024,
          119.4779366,
          141.2907957,
          142.7135496,
          137.3865456,
          122.4674862,
          129.3603015,
          147.9134674,
          83.27333878,
          145.9253839,
          144.3710489,
          131.0214389,
          135.0523208,
          139.0052063,
          133.126821,
          85.60465043,
          120.399074,
          110.783171,
          117.6830641,
          109.0699429,
          143.0414948,
          127.9908969,
          133.3462959,
          145.1585,
          144.5889483,
          135.0674372,
          133.8916157,
          145.107872,
          149.1722969,
          127.7218955,
          106.0286366,
          157.4320554,
          135.0889449,
          120.7493271,
          141.4825769,
          146.6605053,
          140.8272098,
          149.0467977,
          124.9154053,
          137.4006952,
          149.4791011,
          167.7062966,
          148.1308815,
          140.635887,
          122.306038,
          142.9093939,
          155.9042406,
          163.9380587,
          152.1530852,
          129.3325926,
          127.8352766,
          149.0271549,
          149.1389449,
          139.7333506,
          128.7198179,
          150.9277463,
          114.0471947,
          165.4238972,
          126.45724,
          132.5016427,
          143.251065,
          160.4361977,
          141.8371523,
          145.5341428,
          138.7934831,
          168.2437689,
          136.1501266,
          130.4971277,
          128.5403961,
          136.8264274,
          152.4793101,
          149.0647727,
          107.2099048,
          140.3668112,
          120.4577798,
          126.6242449,
          140.2086117,
          106.021832,
          147.031789,
          139.8201876,
          154.8833598,
          158.1533926,
          154.278507,
          112.7388201,
          125.5380868,
          125.240525,
          100.2059884,
          155.9615098,
          130.4061902,
          150.2352046,
          161.6821158,
          128.5951518,
          133.6863333,
          121.2336049,
          161.0914995,
          153.1308776,
          97.79773045,
          148.861709,
          150.5661251,
          137.9164972,
          138.8337809,
          119.9394567,
          154.6339608,
          116.4373884,
          150.6016981,
          106.6278383,
          156.2175731,
          132.6910843,
          123.4192656,
          116.9546646,
          136.1759336,
          134.4406464,
          125.235248,
          146.2725432,
          140.32446,
          159.1789682,
          124.4789779,
          123.8816332,
          148.5596109,
          116.2100446,
          142.6450358,
          138.9507549,
          118.7819124,
          109.9707853,
          146.4267098,
          126.3155409,
          143.5214024,
          135.3254434,
          155.0468179,
          137.9325707,
          138.225223,
          106.3015141,
          153.8609336,
          135.2016596,
          105.4580544,
          142.7679393,
          139.3614573,
          155.2874714,
          125.5732846,
          132.0124838,
          132.1945579,
          124.03176,
          117.1652964,
          135.2662752,
          144.241964,
          160.1229467,
          117.3835882,
          126.9375901,
          128.5052807,
          143.8754693,
          161.3884259,
          106.4082393,
          113.4144894,
          183.4856669,
          137.9548131,
          124.3449642,
          156.4077382,
          124.1192504,
          143.9128945,
          147.4820083,
          99.82400128,
          92.21465671,
          93.52381031,
          143.7744169,
          118.7266681,
          117.6005861,
          87.30937825,
          118.7009623,
          137.7580685,
          114.2573955,
          156.9810082,
          163.6179313,
          146.5131341,
          101.4457857,
          156.8557855,
          155.6884705,
          105.0217282,
          101.630303,
          144.1907993,
          158.3302592,
          111.2214298,
          131.0403863,
          156.0012709,
          126.4882724,
          146.3893853,
          124.9765611,
          142.0066213,
          156.5512382,
          119.7164084,
          129.1734743,
          115.6871609,
          150.7006983,
          126.230722,
          146.3989022,
          132.4772881,
          136.7337636,
          113.4415078,
          120.9268341,
          139.6275464,
          136.3372508,
          99.18100061,
          135.6730702,
          148.8651702,
          117.8428999,
          129.2226526,
          102.13818396888962,
          120.48749001306795,
          132.8576746417254,
          90.84028641011042,
          124.21852064037331,
          113.35552428910694,
          125.6560905333676,
          147.8038527451023,
          149.91220085790678,
          123.9539683979674,
          125.94743903164483,
          143.9611821561249,
          142.040318931446,
          150.550412428582,
          147.61711356706184,
          152.30838167556178,
          142.303723743276,
          114.61122192253632,
          135.6469037782072,
          146.35842571976278,
          133.73486065823164,
          159.58191208544406,
          116.93763792942312,
          106.24661570788427,
          165.21904205086668,
          142.87787933759532,
          140.8676311976334,
          127.7837959398602,
          156.37907846399904,
          135.09351711324928,
          125.1189778017268,
          115.84939013611456,
          161.70446929707606,
          160.9730861045085,
          111.09302880152316,
          162.51239311411,
          160.06999091698722,
          149.82309839562225,
          146.43082894150822,
          164.78614744085377,
          130.5383300550057,
          143.97091686007002,
          101.11382029329604,
          129.98233902674602,
          137.48487405352114,
          150.99443261319522,
          112.7001169690485,
          145.39696399449005,
          164.4922606688814,
          152.91388285056925,
          162.53948411569007,
          154.0127971541685,
          182.1425444180597,
          113.8239095356812,
          160.677088254899,
          163.14667850033788,
          142.56578866553633,
          148.6987268220503,
          114.1434700625612,
          147.57405048401554,
          149.30684831494077,
          126.20519621797196,
          139.94633993580445,
          126.9245477714586,
          146.22189805127886,
          131.42306484991144,
          145.30902821100034,
          162.4136034262146,
          164.65081611071054,
          139.1938713049083,
          116.25733748793996,
          158.97949435405167,
          159.4594056928479,
          160.6100877415165,
          155.76334567780924,
          126.43754997815417,
          122.00263194163227,
          173.18579743135868,
          167.63149622073377,
          164.05621539256902,
          153.19160682658327,
          103.10951733149292,
          143.58874865629957,
          169.12094179101882,
          140.02595222180497,
          176.4035068952055,
          161.578202837319,
          146.61284206103738,
          160.32751649175646,
          131.9592444041659,
          130.39430146308098,
          95.19494771288272,
          139.84725735631602,
          117.0109106809606,
          164.2038699821898,
          111.21520257399634,
          110.61872440278312,
          93.54437596126996,
          173.74069274168957,
          140.40689945025778,
          118.73919704713076,
          134.32002613190207,
          111.09879759326508,
          84.38909012203041,
          83.75553195645635,
          111.65370758833052,
          84.52302359241595,
          56.428207168106,
          137.00100785632145,
          104.05074428404626,
          106.83920364403522,
          129.21597646531856,
          127.69430589739112,
          139.00065447237006,
          123.92827680746116,
          87.01866205273936,
          142.51005252458106,
          119.65226443929498,
          134.9754803466662,
          105.08601725744704,
          108.17934090978812,
          82.9661044249338,
          124.25718009912066,
          128.87772636357593,
          158.69383141480452,
          181.4326694465167,
          141.265017681068,
          141.93788585326277,
          123.72983104423646,
          118.9569962403272,
          125.11753746520492,
          130.01211792704754,
          106.32089141952508,
          130.0139783427136,
          148.09985936839206,
          125.38742334459953,
          157.6765394851595,
          128.881456072641,
          135.87783066929154,
          157.0132623457111,
          159.50126306763843,
          168.8132952426762,
          155.87125454275684,
          142.49426469262005,
          146.4275154150089,
          104.11571669610146,
          171.72475830210388,
          105.67641843295668,
          139.78881353080993,
          103.51504534087584,
          129.05039332595064,
          99.08361120154072,
          128.45652344848554,
          136.86200516225722,
          125.21672622194612,
          120.27421253881874,
          128.24014855424184,
          106.11181793157404,
          151.5217265005572,
          123.3628972049639,
          154.78518164162358,
          98.61695928877234,
          151.777983754413,
          144.78620558526308,
          135.68871143925486,
          137.54488438448635,
          122.46620324805431,
          142.1858155692887,
          136.9921706451144,
          153.55835113996105,
          143.2609261928418,
          135.955200375587,
          112.04482278317919
         ],
         "yaxis": "y"
        },
        {
         "hovertemplate": "variable=Last 10 Avg<br>Test_Number=%{x}<br>value=%{y}<extra></extra>",
         "legendgroup": "Last 10 Avg",
         "line": {
          "color": "#EF553B",
          "dash": "solid"
         },
         "marker": {
          "symbol": "circle"
         },
         "mode": "lines",
         "name": "Last 10 Avg",
         "showlegend": true,
         "type": "scattergl",
         "x": [
          1,
          2,
          3,
          4,
          5,
          6,
          7,
          8,
          9,
          10,
          11,
          12,
          13,
          14,
          15,
          16,
          17,
          18,
          19,
          20,
          21,
          22,
          23,
          24,
          25,
          26,
          27,
          28,
          29,
          30,
          31,
          32,
          33,
          34,
          35,
          36,
          37,
          38,
          39,
          40,
          41,
          42,
          43,
          44,
          45,
          46,
          47,
          48,
          49,
          50,
          51,
          52,
          53,
          54,
          55,
          56,
          57,
          58,
          59,
          60,
          61,
          62,
          63,
          64,
          65,
          66,
          67,
          68,
          69,
          70,
          71,
          72,
          73,
          74,
          75,
          76,
          77,
          78,
          79,
          80,
          81,
          82,
          83,
          84,
          85,
          86,
          87,
          88,
          89,
          90,
          91,
          92,
          93,
          94,
          95,
          96,
          97,
          98,
          99,
          100,
          101,
          102,
          103,
          104,
          105,
          106,
          107,
          108,
          109,
          110,
          111,
          112,
          113,
          114,
          115,
          116,
          117,
          118,
          119,
          120,
          121,
          122,
          123,
          124,
          125,
          126,
          127,
          128,
          129,
          130,
          131,
          132,
          133,
          134,
          135,
          136,
          137,
          138,
          139,
          140,
          141,
          142,
          143,
          144,
          145,
          146,
          147,
          148,
          149,
          150,
          151,
          152,
          153,
          154,
          155,
          156,
          157,
          158,
          159,
          160,
          161,
          162,
          163,
          164,
          165,
          166,
          167,
          168,
          169,
          170,
          171,
          172,
          173,
          174,
          175,
          176,
          177,
          178,
          179,
          180,
          181,
          182,
          183,
          184,
          185,
          186,
          187,
          188,
          189,
          190,
          191,
          192,
          193,
          194,
          195,
          196,
          197,
          198,
          199,
          200,
          201,
          202,
          203,
          204,
          205,
          206,
          207,
          208,
          209,
          210,
          211,
          212,
          213,
          214,
          215,
          216,
          217,
          218,
          219,
          220,
          221,
          222,
          223,
          224,
          225,
          226,
          227,
          228,
          229,
          230,
          231,
          232,
          233,
          234,
          235,
          236,
          237,
          238,
          239,
          240,
          241,
          242,
          243,
          244,
          245,
          246,
          247,
          248,
          249,
          250,
          251,
          252,
          253,
          254,
          255,
          256,
          257,
          258,
          259,
          260,
          261,
          262,
          263,
          264,
          265,
          266,
          267,
          268,
          269,
          270,
          271,
          272,
          273,
          274,
          275,
          276,
          277,
          278,
          279,
          280,
          281,
          282,
          283,
          284,
          285,
          286,
          287,
          288,
          289,
          290,
          291,
          292,
          293,
          294,
          295,
          296,
          297,
          298,
          299,
          300,
          301,
          302,
          303,
          304,
          305,
          306,
          307,
          308,
          309,
          310,
          311,
          312,
          313,
          314,
          315,
          316,
          317,
          318,
          319,
          320,
          321,
          322,
          323,
          324,
          325,
          326,
          327,
          328,
          329,
          330,
          331,
          332,
          333,
          334,
          335,
          336,
          337,
          338,
          339,
          340,
          341,
          342,
          343,
          344,
          345,
          346,
          347,
          348,
          349,
          350,
          351,
          352,
          353,
          354,
          355,
          356,
          357,
          358,
          359,
          360,
          361,
          362,
          363,
          364,
          365,
          366,
          367,
          368,
          369,
          370,
          371,
          372,
          373,
          374,
          375,
          376,
          377,
          378,
          379,
          380,
          381,
          382,
          383,
          384,
          385,
          386,
          387,
          388,
          389,
          390,
          391,
          392,
          393,
          394,
          395,
          396,
          397,
          398,
          399,
          400,
          401,
          402,
          403,
          404,
          405,
          406,
          407,
          408,
          409,
          410,
          411,
          412,
          413,
          414,
          415,
          416,
          417,
          418,
          419,
          420,
          421,
          422,
          423,
          424,
          425,
          426,
          427,
          428,
          429,
          430,
          431,
          432,
          433,
          434,
          435,
          436,
          437,
          438,
          439,
          440,
          441,
          442,
          443,
          444,
          445,
          446,
          447,
          448,
          449,
          450,
          451,
          452,
          453,
          454,
          455,
          456,
          457,
          458,
          459,
          460,
          461
         ],
         "xaxis": "x",
         "y": [
          null,
          null,
          null,
          null,
          null,
          null,
          null,
          null,
          null,
          116.006279668,
          118.284462988,
          118.90872269799999,
          115.190171208,
          111.065712659,
          118.68376524,
          121.94725615,
          124.48798621,
          125.180394417,
          126.230195937,
          124.034540857,
          125.097204917,
          128.40396160699999,
          133.626428247,
          138.739886396,
          135.085428916,
          139.936067036,
          136.35426499599998,
          141.76692,
          148.77223306000002,
          146.62903305,
          145.32231775,
          142.58601225,
          141.13379013,
          143.21103057,
          145.76703637,
          142.04550821000004,
          146.14527067,
          146.95377571,
          139.31786448000003,
          144.08151808,
          145.61191072000003,
          145.26015597,
          144.43404139,
          141.29775588,
          140.77968853,
          140.33566876000003,
          140.24188858,
          141.8617127,
          148.07000928,
          146.74160509,
          147.72755618000002,
          147.93604869,
          147.32119796,
          148.88294537,
          148.75342132,
          148.54900536,
          146.40514579999999,
          143.45282499,
          140.39072951999998,
          139.33841918,
          139.33454717,
          140.24809059999998,
          143.4507021,
          144.39441879,
          142.03141596,
          143.32110014,
          144.45538953,
          144.98137119,
          146.07022189,
          148.30811691000002,
          143.77774586,
          145.89295882000002,
          144.01375839000002,
          140.12273465,
          142.57538828000003,
          140.88573918,
          141.04020337000003,
          141.30428222,
          141.16289234,
          139.35925702,
          144.23465300000004,
          143.14395475999999,
          144.49141103,
          146.75669671999998,
          144.2515721,
          144.72696073,
          142.84232866,
          142.50141008,
          138.96525713,
          139.06979675,
          138.74393490000003,
          132.508296618,
          131.564710768,
          131.417985418,
          132.572335648,
          131.948488158,
          131.577653828,
          131.151681368,
          127.46539779099999,
          126.56927504100001,
          122.856245401,
          126.297217933,
          122.61167383299998,
          122.47871842299999,
          122.17566422299998,
          122.005061733,
          122.62039110300002,
          123.766603833,
          128.71288251000001,
          130.06213667999998,
          133.49460678,
          136.64353006,
          138.50872532,
          134.80743950000002,
          137.75155535,
          137.92582025,
          135.48490295999997,
          135.17426582000002,
          136.33357263,
          137.02713204000003,
          137.42102461,
          134.99533545,
          135.96321542,
          140.30826187,
          141.33568599,
          142.63987964999998,
          144.62853564000002,
          142.71088175,
          142.33577061,
          143.84347369,
          145.33259979,
          148.05636778000002,
          147.24955752,
          145.08517507,
          143.21726089999999,
          143.31806724,
          143.2278136,
          143.86919158999999,
          144.67102683000002,
          140.48532224000002,
          140.63390608999998,
          138.06432157,
          138.38122658,
          139.92280542,
          141.0637097,
          140.33353044,
          140.91360966,
          141.92097618,
          143.65257844,
          145.86287163000003,
          142.37019468,
          142.57851029,
          143.01098876,
          143.93381327,
          142.79667077000002,
          139.33394602,
          138.81721286,
          136.98364253,
          132.82169013,
          133.22753863999998,
          130.78000907,
          132.62914836,
          132.92852438,
          133.16892935,
          134.07779134,
          138.78465156,
          136.02185245,
          136.52988315,
          136.39151116,
          132.39124883,
          137.38521661,
          135.72265672999998,
          136.76415843,
          137.44403402999998,
          134.48820995,
          132.42899258,
          133.27847106,
          136.83381233,
          139.62284759,
          139.382021795,
          138.672041715,
          140.688035205,
          139.456164465,
          137.171330975,
          136.305761465,
          138.400524215,
          137.920902565,
          136.871922425,
          132.221618495,
          138.06360276,
          136.44654028999997,
          133.73185433999998,
          131.63567108,
          131.36988635,
          132.82000532,
          129.88013404,
          132.86364952000002,
          131.83592571,
          137.09103869999998,
          133.91717918,
          133.03623407,
          135.5502686,
          135.4758066,
          136.12271682,
          136.57372767,
          135.92839411,
          132.29821832,
          132.9084433,
          129.62210057,
          131.52634301999998,
          132.67072404,
          133.31944474000002,
          135.49169735,
          135.04971607,
          131.78479198999997,
          135.29269411,
          137.81578154,
          133.71891599999998,
          135.36415584000002,
          134.94816133,
          136.94436413,
          133.9970108,
          133.40500211,
          132.8019356,
          134.57496019,
          130.90539647,
          130.91185803000002,
          134.79024899,
          136.52574973,
          134.32796281999998,
          131.49297469,
          131.7861743,
          132.97247285,
          135.89185965,
          134.12950758000002,
          133.75442688,
          138.57636605,
          137.94765095999998,
          134.36985270999998,
          138.27226771,
          137.99043374000001,
          139.53119512,
          139.89184902,
          133.735406558,
          132.316048299,
          130.32698039000002,
          126.35585538999999,
          124.43304089,
          123.75860308000001,
          116.848767085,
          116.306938275,
          115.691455675,
          112.368994395,
          118.084695087,
          125.22502254599999,
          130.523954925,
          126.29109180500002,
          130.104003545,
          133.91279198499998,
          135.68402698,
          133.97696105,
          134.62023413,
          139.02752049999998,
          134.45156265999998,
          131.19380816,
          132.14262184,
          134.64687050999999,
          133.60023049,
          130.52903955,
          134.22752885999998,
          139.71962237999998,
          137.27218329,
          134.35650479999998,
          134.80307791,
          136.76910911,
          133.79205422,
          135.78311720000002,
          134.39190748000001,
          135.56762773,
          132.71111638,
          129.14867597000003,
          131.13978977,
          131.85616742,
          130.20555139100003,
          128.702788581,
          130.966233401,
          128.110633171,
          127.785169621,
          124.32561165788897,
          125.03020987919577,
          126.2232939333683,
          121.34456793437934,
          120.13269491841668,
          121.55014728632736,
          120.54844931966412,
          120.44231757417435,
          123.64924766996504,
          123.12237924976178,
          125.5033047560373,
          127.850673970343,
          128.76893839931503,
          134.73995100116218,
          137.07981029383106,
          140.97509603247653,
          142.6398593534674,
          139.32059627121077,
          137.8940665632408,
          140.13451229542036,
          140.91325445807905,
          142.47532745101097,
          139.96505935080867,
          135.5346796787389,
          137.29487252711937,
          136.35182229332275,
          136.2082130387585,
          137.52547044049086,
          139.59868790907007,
          138.47219704841868,
          137.6106087627682,
          133.23735656783526,
          137.71403970460057,
          143.18668674426297,
          137.77408541932863,
          139.73753679698012,
          141.65777276891546,
          143.8617030144917,
          142.86687806224262,
          145.83614109500303,
          146.37807632033096,
          149.1902289927265,
          143.13116409234848,
          140.03208938457226,
          142.67127390977205,
          141.51947785968053,
          136.7824904648867,
          136.33987702477347,
          138.14602019751078,
          136.95879373848234,
          140.1589091445508,
          141.16309717396064,
          149.265969586437,
          147.65012663733052,
          149.9693480574683,
          151.18457264618257,
          154.17113981583134,
          154.50131609858735,
          149.46643703795536,
          148.93245380129997,
          147.60919022122505,
          144.82843012760537,
          140.60880967937985,
          141.9188735029576,
          140.4733544825956,
          137.30099311755293,
          137.57531707209935,
          138.94680473251577,
          143.99753933733072,
          143.15952141942,
          139.8545703367199,
          143.13200015032788,
          145.08330672603222,
          148.451860723038,
          149.40600548569105,
          148.90745399851534,
          146.5768143715785,
          147.6540337720929,
          147.95210178309526,
          150.4383361918613,
          154.13176312572566,
          148.54476542346978,
          146.95769971981494,
          147.80878512476517,
          146.23504577916475,
          151.23164147086987,
          155.18919856043857,
          152.53190302340641,
          151.8015050505087,
          148.5918079516684,
          146.31207741531813,
          145.52062045345713,
          145.1464713234588,
          139.93546821245295,
          142.35325998849143,
          135.8344295563705,
          130.73848171291692,
          125.4316351029402,
          126.77295272793349,
          127.61771823254269,
          126.45220779094768,
          130.3647156328496,
          127.48986965654451,
          124.2276876006515,
          116.18285379807814,
          116.22670429951157,
          113.61713421847485,
          109.90551733915845,
          106.23154885062164,
          102.59593333400048,
          101.40593399369094,
          100.89552902703258,
          102.55507985744518,
          108.01623629247915,
          112.03351077757964,
          109.57000622402052,
          115.36870911723702,
          121.69111484435594,
          121.48856209339041,
          121.59208939073048,
          121.72610311730577,
          117.1011159132673,
          116.75740333344024,
          115.74511052256085,
          119.22166598329518,
          128.6630667226729,
          128.53856323832161,
          130.76712537971838,
          129.6425604494754,
          131.02965834776342,
          132.7234780033051,
          137.42807935351647,
          135.63445048555693,
          135.7480756834707,
          134.68867847882944,
          129.0841538686377,
          130.72530604904688,
          129.41966307098468,
          130.6344630334902,
          134.4400896440286,
          137.87846220427193,
          141.7585799358348,
          146.71361624815796,
          147.9616448831486,
          147.79441048781032,
          145.6672398229605,
          147.07206170465494,
          144.7515579406865,
          145.14265622683834,
          139.79283452635482,
          136.74774755218604,
          129.77477914807247,
          127.03330603864535,
          126.47008008560908,
          124.34900116630281,
          125.96485075057453,
          121.61638977578832,
          121.65992972565007,
          122.83322102262477,
          124.8180062090336,
          127.3914850406009,
          127.34481984932407,
          129.67696587991682,
          130.46938592221738,
          131.51658444394826,
          133.243651628515,
          132.66625709789628,
          136.27365686166772,
          134.82070127612346,
          137.84024666962316,
          136.68782112474497,
          140.42164523342643,
          136.44832913630307
         ],
         "yaxis": "y"
        },
        {
         "hovertemplate": "variable=Last 100 Avg<br>Test_Number=%{x}<br>value=%{y}<extra></extra>",
         "legendgroup": "Last 100 Avg",
         "line": {
          "color": "#00cc96",
          "dash": "solid"
         },
         "marker": {
          "symbol": "circle"
         },
         "mode": "lines",
         "name": "Last 100 Avg",
         "showlegend": true,
         "type": "scattergl",
         "x": [
          1,
          2,
          3,
          4,
          5,
          6,
          7,
          8,
          9,
          10,
          11,
          12,
          13,
          14,
          15,
          16,
          17,
          18,
          19,
          20,
          21,
          22,
          23,
          24,
          25,
          26,
          27,
          28,
          29,
          30,
          31,
          32,
          33,
          34,
          35,
          36,
          37,
          38,
          39,
          40,
          41,
          42,
          43,
          44,
          45,
          46,
          47,
          48,
          49,
          50,
          51,
          52,
          53,
          54,
          55,
          56,
          57,
          58,
          59,
          60,
          61,
          62,
          63,
          64,
          65,
          66,
          67,
          68,
          69,
          70,
          71,
          72,
          73,
          74,
          75,
          76,
          77,
          78,
          79,
          80,
          81,
          82,
          83,
          84,
          85,
          86,
          87,
          88,
          89,
          90,
          91,
          92,
          93,
          94,
          95,
          96,
          97,
          98,
          99,
          100,
          101,
          102,
          103,
          104,
          105,
          106,
          107,
          108,
          109,
          110,
          111,
          112,
          113,
          114,
          115,
          116,
          117,
          118,
          119,
          120,
          121,
          122,
          123,
          124,
          125,
          126,
          127,
          128,
          129,
          130,
          131,
          132,
          133,
          134,
          135,
          136,
          137,
          138,
          139,
          140,
          141,
          142,
          143,
          144,
          145,
          146,
          147,
          148,
          149,
          150,
          151,
          152,
          153,
          154,
          155,
          156,
          157,
          158,
          159,
          160,
          161,
          162,
          163,
          164,
          165,
          166,
          167,
          168,
          169,
          170,
          171,
          172,
          173,
          174,
          175,
          176,
          177,
          178,
          179,
          180,
          181,
          182,
          183,
          184,
          185,
          186,
          187,
          188,
          189,
          190,
          191,
          192,
          193,
          194,
          195,
          196,
          197,
          198,
          199,
          200,
          201,
          202,
          203,
          204,
          205,
          206,
          207,
          208,
          209,
          210,
          211,
          212,
          213,
          214,
          215,
          216,
          217,
          218,
          219,
          220,
          221,
          222,
          223,
          224,
          225,
          226,
          227,
          228,
          229,
          230,
          231,
          232,
          233,
          234,
          235,
          236,
          237,
          238,
          239,
          240,
          241,
          242,
          243,
          244,
          245,
          246,
          247,
          248,
          249,
          250,
          251,
          252,
          253,
          254,
          255,
          256,
          257,
          258,
          259,
          260,
          261,
          262,
          263,
          264,
          265,
          266,
          267,
          268,
          269,
          270,
          271,
          272,
          273,
          274,
          275,
          276,
          277,
          278,
          279,
          280,
          281,
          282,
          283,
          284,
          285,
          286,
          287,
          288,
          289,
          290,
          291,
          292,
          293,
          294,
          295,
          296,
          297,
          298,
          299,
          300,
          301,
          302,
          303,
          304,
          305,
          306,
          307,
          308,
          309,
          310,
          311,
          312,
          313,
          314,
          315,
          316,
          317,
          318,
          319,
          320,
          321,
          322,
          323,
          324,
          325,
          326,
          327,
          328,
          329,
          330,
          331,
          332,
          333,
          334,
          335,
          336,
          337,
          338,
          339,
          340,
          341,
          342,
          343,
          344,
          345,
          346,
          347,
          348,
          349,
          350,
          351,
          352,
          353,
          354,
          355,
          356,
          357,
          358,
          359,
          360,
          361,
          362,
          363,
          364,
          365,
          366,
          367,
          368,
          369,
          370,
          371,
          372,
          373,
          374,
          375,
          376,
          377,
          378,
          379,
          380,
          381,
          382,
          383,
          384,
          385,
          386,
          387,
          388,
          389,
          390,
          391,
          392,
          393,
          394,
          395,
          396,
          397,
          398,
          399,
          400,
          401,
          402,
          403,
          404,
          405,
          406,
          407,
          408,
          409,
          410,
          411,
          412,
          413,
          414,
          415,
          416,
          417,
          418,
          419,
          420,
          421,
          422,
          423,
          424,
          425,
          426,
          427,
          428,
          429,
          430,
          431,
          432,
          433,
          434,
          435,
          436,
          437,
          438,
          439,
          440,
          441,
          442,
          443,
          444,
          445,
          446,
          447,
          448,
          449,
          450,
          451,
          452,
          453,
          454,
          455,
          456,
          457,
          458,
          459,
          460,
          461
         ],
         "xaxis": "x",
         "y": [
          null,
          null,
          null,
          null,
          null,
          null,
          null,
          null,
          null,
          null,
          null,
          null,
          null,
          null,
          null,
          null,
          null,
          null,
          null,
          null,
          null,
          null,
          null,
          null,
          null,
          null,
          null,
          null,
          null,
          null,
          null,
          null,
          null,
          null,
          null,
          null,
          null,
          null,
          null,
          null,
          null,
          null,
          null,
          null,
          null,
          null,
          null,
          null,
          null,
          null,
          null,
          null,
          null,
          null,
          null,
          null,
          null,
          null,
          null,
          null,
          null,
          null,
          null,
          null,
          null,
          null,
          null,
          null,
          null,
          null,
          null,
          null,
          null,
          null,
          null,
          null,
          null,
          null,
          null,
          null,
          null,
          null,
          null,
          null,
          null,
          null,
          null,
          null,
          null,
          null,
          null,
          null,
          null,
          null,
          null,
          null,
          null,
          null,
          null,
          137.0137841646,
          137.0990578886,
          137.1185419946,
          136.7837885056,
          136.83678848760002,
          137.2675716587,
          137.5700855457,
          137.6170522747,
          138.2920976508,
          138.5157683938,
          138.4193698658,
          138.6200722678,
          138.89202273080002,
          139.1156439168,
          139.2109611717,
          139.1743506697,
          139.1679419557,
          138.7167439497,
          139.2914847911,
          139.5261060631,
          139.7186289841,
          139.8524542371,
          139.5511601151,
          139.34932263410002,
          139.36779871910002,
          139.7993763771,
          139.4383232171,
          139.5441710141,
          139.3858809661,
          138.8824598181,
          139.4400730481,
          139.8534824411,
          140.0981956681,
          139.9608993731,
          139.5552131691,
          139.5443988301,
          139.5655791201,
          139.2524253071,
          139.07742255410002,
          139.4177760531,
          139.0804534641,
          139.3556819781,
          139.3786122281,
          139.35561789209999,
          139.4177181231,
          139.57280094709998,
          139.5653652881,
          139.3195974151,
          139.0833489021,
          138.9760329691,
          138.99258011810002,
          138.8199458281,
          138.8428583881,
          138.92459697209998,
          138.92280491309998,
          138.97712589210002,
          138.64385935410002,
          138.5608041211,
          138.43643065610001,
          138.2191290301,
          138.3814920641,
          137.9644920181,
          138.0809641641,
          137.8723792001,
          137.80025596910002,
          138.1817634301,
          138.1902144961,
          137.71745041309998,
          137.5912818521,
          137.2512579571,
          136.78980525609998,
          137.32523909309998,
          137.0639339551,
          137.1474192041,
          137.5323859071,
          137.3730455971,
          137.3445398361,
          136.9412771821,
          137.1442348631,
          137.0972534821,
          136.7920817336,
          136.7689779646,
          136.8183419996,
          136.64389454759998,
          136.5738493326,
          136.5784645336,
          136.7118961846,
          136.4491345726,
          136.5812860976,
          136.42288961859998,
          136.6914623346,
          136.53923850360002,
          136.94069777180002,
          136.6509905788,
          136.5690394258,
          136.6032315008,
          136.5050607728,
          136.5777341418,
          136.6497105318,
          137.3854537095,
          137.4262527485,
          137.55723737050002,
          137.86600283849998,
          137.9374038555,
          137.9334392655,
          138.04303784549998,
          137.8973940105,
          137.54551686349998,
          137.56389447849998,
          137.4763755155,
          137.5726733825,
          137.4748490965,
          137.5335943065,
          137.6357010585,
          137.95766692249998,
          137.4463615095,
          137.6340813965,
          137.77860472150002,
          137.41835949650002,
          137.3794338365,
          137.3647763115,
          137.42718304849998,
          137.4337618415,
          137.3798797275,
          137.2070342955,
          136.7702889295,
          136.4606330785,
          136.40693696050002,
          136.6262962205,
          136.7984317485,
          136.4132252245,
          136.0432205385,
          135.8067424935,
          135.9521712605,
          136.28770275349999,
          135.8615135975,
          135.5042690425,
          135.9417922055,
          136.03414215749999,
          135.7683143365,
          136.1919197715,
          135.7788733035,
          135.9534298485,
          136.1032335045,
          135.6689628673,
          134.98674745739999,
          134.5036140375,
          134.48601677850002,
          134.2853486285,
          133.7789168005,
          133.290509317,
          133.17254766300002,
          133.264724387,
          133.039034068,
          133.084051049,
          133.22958263499999,
          133.622614928,
          133.233404673,
          133.59738473000002,
          133.888026986,
          133.536158151,
          133.492242861,
          133.463832964,
          133.64893368,
          133.21231437999998,
          132.941184317,
          132.958411956,
          133.095906479,
          133.304419464,
          133.30177982499998,
          133.719786154,
          133.725683438,
          133.61878562,
          133.408168317,
          132.94821876799998,
          133.169274233,
          133.09471812,
          133.346371093,
          133.06022897900002,
          132.896257839,
          133.0526956125,
          132.77334686350002,
          132.6639610765,
          132.6481686125,
          132.25164080960002,
          132.4089769446,
          132.35128903860002,
          132.3653441536,
          132.1515536986,
          132.1066571552889,
          131.74935632441958,
          131.7510222278368,
          131.42523243593794,
          131.49787099634167,
          131.26966690323275,
          131.1818213445664,
          131.40750739201744,
          131.44390396859652,
          131.2801990525762,
          130.9478837608926,
          131.14270580345388,
          131.32429266076832,
          131.34420067605416,
          131.65827136572477,
          131.75490482448038,
          131.78843451291314,
          131.7467276081385,
          132.0034887929206,
          132.00280595211822,
          132.07699914970053,
          132.23760424655495,
          132.0537261918492,
          131.56572416992805,
          131.83858888343673,
          131.88511544681268,
          132.230776617789,
          131.9700052411876,
          132.18177942982757,
          132.47813405696007,
          132.30164444197734,
          132.0665237703385,
          132.13069374930927,
          132.48469176435435,
          132.27549721436958,
          132.5786755665107,
          132.93905787568056,
          133.26563589563676,
          133.37728143305185,
          133.58272326746038,
          133.28687710101045,
          133.55275038761113,
          133.2945126895441,
          133.30928327281157,
          133.2453773203468,
          133.14143738747873,
          133.2043561641692,
          133.52418091011413,
          133.33424684780294,
          133.48383754530863,
          133.86578274446552,
          133.84183333400722,
          134.4220662741878,
          134.12117642454461,
          134.25312722409362,
          134.88635399629698,
          135.38986531585238,
          135.94161448097285,
          135.64530501259844,
          135.93377883643862,
          136.250841458588,
          136.63979963826773,
          136.8522534146258,
          136.74391820734039,
          137.06356323285317,
          136.8079837993523,
          136.6248947684623,
          136.78389946172445,
          137.41594976583153,
          137.23933062388062,
          136.84501929376,
          137.38459695530054,
          137.96288798222903,
          138.12708086664418,
          138.10141173142227,
          138.25357293320383,
          138.1631953896201,
          138.33504065493372,
          138.74647289314106,
          138.92314119406674,
          139.20529165133257,
          138.8163206116475,
          138.6866957162105,
          139.18074105012067,
          139.28926582933875,
          139.8964292892908,
          140.005204334664,
          140.20902553527435,
          140.34831167819192,
          140.34313124123358,
          140.2797366198644,
          140.09727101899324,
          140.2864752515564,
          140.06030889436602,
          140.3389750861879,
          140.45931710582784,
          140.20877364785568,
          139.65556570546838,
          140.21454363388528,
          140.32638610238786,
          140.49239623317027,
          140.6307215943586,
          140.413132823874,
          140.3486208609932,
          139.94399097415405,
          139.92697280714629,
          139.51564213773676,
          138.6018856819668,
          138.47277375195094,
          138.27374151081173,
          138.08265915693562,
          137.93520710002755,
          137.79174696968704,
          137.6762493901249,
          137.43936102252889,
          136.7864638263007,
          136.78852711411372,
          136.83893753928132,
          136.8322233049659,
          136.41949922034274,
          136.16394402285832,
          135.3977859462532,
          135.47098136795017,
          135.6972924745071,
          135.63204036814648,
          136.0175882692357,
          136.02156213407002,
          136.16310303320407,
          135.83661055900643,
          135.6752453502772,
          135.67523094691197,
          135.81685822482132,
          135.26302244604582,
          134.95343136842786,
          135.32349967409655,
          134.95224997640145,
          134.92831546208316,
          134.71889903885335,
          134.6133690561312,
          134.53564020517976,
          134.8252695353061,
          135.07369331913216,
          135.62126766162677,
          135.7463869182855,
          135.83581333190037,
          135.36702617272945,
          135.95727258606001,
          135.56006713044465,
          135.31303265906394,
          134.819044283967,
          134.48415337606963,
          133.93486151654332,
          133.3980013068476,
          133.62838226311337,
          133.27377864278384,
          132.84505398316864,
          132.7017975820557,
          132.27592849315093,
          132.6497110575309,
          132.4075995247404,
          132.4623828580072,
          132.1865004887152,
          132.30481692690128,
          132.48343350503933,
          132.37810163891908,
          132.43931983426484,
          132.2108915846354,
          132.00861370606614,
          131.7320272514102,
          131.87567204976068,
          132.1457079368097,
          131.91546499702505,
          131.44131916792838
         ],
         "yaxis": "y"
        },
        {
         "hovertemplate": "variable=Last 1000 Avg<br>Test_Number=%{x}<br>value=%{y}<extra></extra>",
         "legendgroup": "Last 1000 Avg",
         "line": {
          "color": "#ab63fa",
          "dash": "solid"
         },
         "marker": {
          "symbol": "circle"
         },
         "mode": "lines",
         "name": "Last 1000 Avg",
         "showlegend": true,
         "type": "scattergl",
         "x": [
          1,
          2,
          3,
          4,
          5,
          6,
          7,
          8,
          9,
          10,
          11,
          12,
          13,
          14,
          15,
          16,
          17,
          18,
          19,
          20,
          21,
          22,
          23,
          24,
          25,
          26,
          27,
          28,
          29,
          30,
          31,
          32,
          33,
          34,
          35,
          36,
          37,
          38,
          39,
          40,
          41,
          42,
          43,
          44,
          45,
          46,
          47,
          48,
          49,
          50,
          51,
          52,
          53,
          54,
          55,
          56,
          57,
          58,
          59,
          60,
          61,
          62,
          63,
          64,
          65,
          66,
          67,
          68,
          69,
          70,
          71,
          72,
          73,
          74,
          75,
          76,
          77,
          78,
          79,
          80,
          81,
          82,
          83,
          84,
          85,
          86,
          87,
          88,
          89,
          90,
          91,
          92,
          93,
          94,
          95,
          96,
          97,
          98,
          99,
          100,
          101,
          102,
          103,
          104,
          105,
          106,
          107,
          108,
          109,
          110,
          111,
          112,
          113,
          114,
          115,
          116,
          117,
          118,
          119,
          120,
          121,
          122,
          123,
          124,
          125,
          126,
          127,
          128,
          129,
          130,
          131,
          132,
          133,
          134,
          135,
          136,
          137,
          138,
          139,
          140,
          141,
          142,
          143,
          144,
          145,
          146,
          147,
          148,
          149,
          150,
          151,
          152,
          153,
          154,
          155,
          156,
          157,
          158,
          159,
          160,
          161,
          162,
          163,
          164,
          165,
          166,
          167,
          168,
          169,
          170,
          171,
          172,
          173,
          174,
          175,
          176,
          177,
          178,
          179,
          180,
          181,
          182,
          183,
          184,
          185,
          186,
          187,
          188,
          189,
          190,
          191,
          192,
          193,
          194,
          195,
          196,
          197,
          198,
          199,
          200,
          201,
          202,
          203,
          204,
          205,
          206,
          207,
          208,
          209,
          210,
          211,
          212,
          213,
          214,
          215,
          216,
          217,
          218,
          219,
          220,
          221,
          222,
          223,
          224,
          225,
          226,
          227,
          228,
          229,
          230,
          231,
          232,
          233,
          234,
          235,
          236,
          237,
          238,
          239,
          240,
          241,
          242,
          243,
          244,
          245,
          246,
          247,
          248,
          249,
          250,
          251,
          252,
          253,
          254,
          255,
          256,
          257,
          258,
          259,
          260,
          261,
          262,
          263,
          264,
          265,
          266,
          267,
          268,
          269,
          270,
          271,
          272,
          273,
          274,
          275,
          276,
          277,
          278,
          279,
          280,
          281,
          282,
          283,
          284,
          285,
          286,
          287,
          288,
          289,
          290,
          291,
          292,
          293,
          294,
          295,
          296,
          297,
          298,
          299,
          300,
          301,
          302,
          303,
          304,
          305,
          306,
          307,
          308,
          309,
          310,
          311,
          312,
          313,
          314,
          315,
          316,
          317,
          318,
          319,
          320,
          321,
          322,
          323,
          324,
          325,
          326,
          327,
          328,
          329,
          330,
          331,
          332,
          333,
          334,
          335,
          336,
          337,
          338,
          339,
          340,
          341,
          342,
          343,
          344,
          345,
          346,
          347,
          348,
          349,
          350,
          351,
          352,
          353,
          354,
          355,
          356,
          357,
          358,
          359,
          360,
          361,
          362,
          363,
          364,
          365,
          366,
          367,
          368,
          369,
          370,
          371,
          372,
          373,
          374,
          375,
          376,
          377,
          378,
          379,
          380,
          381,
          382,
          383,
          384,
          385,
          386,
          387,
          388,
          389,
          390,
          391,
          392,
          393,
          394,
          395,
          396,
          397,
          398,
          399,
          400,
          401,
          402,
          403,
          404,
          405,
          406,
          407,
          408,
          409,
          410,
          411,
          412,
          413,
          414,
          415,
          416,
          417,
          418,
          419,
          420,
          421,
          422,
          423,
          424,
          425,
          426,
          427,
          428,
          429,
          430,
          431,
          432,
          433,
          434,
          435,
          436,
          437,
          438,
          439,
          440,
          441,
          442,
          443,
          444,
          445,
          446,
          447,
          448,
          449,
          450,
          451,
          452,
          453,
          454,
          455,
          456,
          457,
          458,
          459,
          460,
          461
         ],
         "xaxis": "x",
         "y": [
          null,
          null,
          null,
          null,
          null,
          null,
          null,
          null,
          null,
          null,
          null,
          null,
          null,
          null,
          null,
          null,
          null,
          null,
          null,
          null,
          null,
          null,
          null,
          null,
          null,
          null,
          null,
          null,
          null,
          null,
          null,
          null,
          null,
          null,
          null,
          null,
          null,
          null,
          null,
          null,
          null,
          null,
          null,
          null,
          null,
          null,
          null,
          null,
          null,
          null,
          null,
          null,
          null,
          null,
          null,
          null,
          null,
          null,
          null,
          null,
          null,
          null,
          null,
          null,
          null,
          null,
          null,
          null,
          null,
          null,
          null,
          null,
          null,
          null,
          null,
          null,
          null,
          null,
          null,
          null,
          null,
          null,
          null,
          null,
          null,
          null,
          null,
          null,
          null,
          null,
          null,
          null,
          null,
          null,
          null,
          null,
          null,
          null,
          null,
          null,
          null,
          null,
          null,
          null,
          null,
          null,
          null,
          null,
          null,
          null,
          null,
          null,
          null,
          null,
          null,
          null,
          null,
          null,
          null,
          null,
          null,
          null,
          null,
          null,
          null,
          null,
          null,
          null,
          null,
          null,
          null,
          null,
          null,
          null,
          null,
          null,
          null,
          null,
          null,
          null,
          null,
          null,
          null,
          null,
          null,
          null,
          null,
          null,
          null,
          null,
          null,
          null,
          null,
          null,
          null,
          null,
          null,
          null,
          null,
          null,
          null,
          null,
          null,
          null,
          null,
          null,
          null,
          null,
          null,
          null,
          null,
          null,
          null,
          null,
          null,
          null,
          null,
          null,
          null,
          null,
          null,
          null,
          null,
          null,
          null,
          null,
          null,
          null,
          null,
          null,
          null,
          null,
          null,
          null,
          null,
          null,
          null,
          null,
          null,
          null,
          null,
          null,
          null,
          null,
          null,
          null,
          null,
          null,
          null,
          null,
          null,
          null,
          null,
          null,
          null,
          null,
          null,
          null,
          null,
          null,
          null,
          null,
          null,
          null,
          null,
          null,
          null,
          null,
          null,
          null,
          null,
          null,
          null,
          null,
          null,
          null,
          null,
          null,
          null,
          null,
          null,
          null,
          null,
          null,
          null,
          null,
          null,
          null,
          null,
          null,
          null,
          null,
          null,
          null,
          null,
          null,
          null,
          null,
          null,
          null,
          null,
          null,
          null,
          null,
          null,
          null,
          null,
          null,
          null,
          null,
          null,
          null,
          null,
          null,
          null,
          null,
          null,
          null,
          null,
          null,
          null,
          null,
          null,
          null,
          null,
          null,
          null,
          null,
          null,
          null,
          null,
          null,
          null,
          null,
          null,
          null,
          null,
          null,
          null,
          null,
          null,
          null,
          null,
          null,
          null,
          null,
          null,
          null,
          null,
          null,
          null,
          null,
          null,
          null,
          null,
          null,
          null,
          null,
          null,
          null,
          null,
          null,
          null,
          null,
          null,
          null,
          null,
          null,
          null,
          null,
          null,
          null,
          null,
          null,
          null,
          null,
          null,
          null,
          null,
          null,
          null,
          null,
          null,
          null,
          null,
          null,
          null,
          null,
          null,
          null,
          null,
          null,
          null,
          null,
          null,
          null,
          null,
          null,
          null,
          null,
          null,
          null,
          null,
          null,
          null,
          null,
          null,
          null,
          null,
          null,
          null,
          null,
          null,
          null,
          null,
          null,
          null,
          null,
          null,
          null,
          null,
          null,
          null,
          null,
          null,
          null,
          null,
          null,
          null,
          null,
          null,
          null,
          null,
          null,
          null,
          null,
          null,
          null,
          null,
          null,
          null,
          null,
          null,
          null,
          null,
          null,
          null,
          null,
          null,
          null,
          null,
          null,
          null,
          null,
          null,
          null,
          null,
          null,
          null,
          null,
          null,
          null,
          null,
          null,
          null,
          null,
          null,
          null,
          null,
          null,
          null,
          null,
          null,
          null,
          null,
          null,
          null,
          null,
          null,
          null,
          null,
          null,
          null,
          null,
          null,
          null,
          null,
          null,
          null,
          null,
          null,
          null,
          null,
          null,
          null,
          null,
          null,
          null,
          null,
          null,
          null
         ],
         "yaxis": "y"
        },
        {
         "hovertemplate": "variable=cumulative_avg<br>Test_Number=%{x}<br>value=%{y}<extra></extra>",
         "legendgroup": "cumulative_avg",
         "line": {
          "color": "#FFA15A",
          "dash": "solid"
         },
         "marker": {
          "symbol": "circle"
         },
         "mode": "lines",
         "name": "cumulative_avg",
         "showlegend": true,
         "type": "scattergl",
         "x": [
          1,
          2,
          3,
          4,
          5,
          6,
          7,
          8,
          9,
          10,
          11,
          12,
          13,
          14,
          15,
          16,
          17,
          18,
          19,
          20,
          21,
          22,
          23,
          24,
          25,
          26,
          27,
          28,
          29,
          30,
          31,
          32,
          33,
          34,
          35,
          36,
          37,
          38,
          39,
          40,
          41,
          42,
          43,
          44,
          45,
          46,
          47,
          48,
          49,
          50,
          51,
          52,
          53,
          54,
          55,
          56,
          57,
          58,
          59,
          60,
          61,
          62,
          63,
          64,
          65,
          66,
          67,
          68,
          69,
          70,
          71,
          72,
          73,
          74,
          75,
          76,
          77,
          78,
          79,
          80,
          81,
          82,
          83,
          84,
          85,
          86,
          87,
          88,
          89,
          90,
          91,
          92,
          93,
          94,
          95,
          96,
          97,
          98,
          99,
          100,
          101,
          102,
          103,
          104,
          105,
          106,
          107,
          108,
          109,
          110,
          111,
          112,
          113,
          114,
          115,
          116,
          117,
          118,
          119,
          120,
          121,
          122,
          123,
          124,
          125,
          126,
          127,
          128,
          129,
          130,
          131,
          132,
          133,
          134,
          135,
          136,
          137,
          138,
          139,
          140,
          141,
          142,
          143,
          144,
          145,
          146,
          147,
          148,
          149,
          150,
          151,
          152,
          153,
          154,
          155,
          156,
          157,
          158,
          159,
          160,
          161,
          162,
          163,
          164,
          165,
          166,
          167,
          168,
          169,
          170,
          171,
          172,
          173,
          174,
          175,
          176,
          177,
          178,
          179,
          180,
          181,
          182,
          183,
          184,
          185,
          186,
          187,
          188,
          189,
          190,
          191,
          192,
          193,
          194,
          195,
          196,
          197,
          198,
          199,
          200,
          201,
          202,
          203,
          204,
          205,
          206,
          207,
          208,
          209,
          210,
          211,
          212,
          213,
          214,
          215,
          216,
          217,
          218,
          219,
          220,
          221,
          222,
          223,
          224,
          225,
          226,
          227,
          228,
          229,
          230,
          231,
          232,
          233,
          234,
          235,
          236,
          237,
          238,
          239,
          240,
          241,
          242,
          243,
          244,
          245,
          246,
          247,
          248,
          249,
          250,
          251,
          252,
          253,
          254,
          255,
          256,
          257,
          258,
          259,
          260,
          261,
          262,
          263,
          264,
          265,
          266,
          267,
          268,
          269,
          270,
          271,
          272,
          273,
          274,
          275,
          276,
          277,
          278,
          279,
          280,
          281,
          282,
          283,
          284,
          285,
          286,
          287,
          288,
          289,
          290,
          291,
          292,
          293,
          294,
          295,
          296,
          297,
          298,
          299,
          300,
          301,
          302,
          303,
          304,
          305,
          306,
          307,
          308,
          309,
          310,
          311,
          312,
          313,
          314,
          315,
          316,
          317,
          318,
          319,
          320,
          321,
          322,
          323,
          324,
          325,
          326,
          327,
          328,
          329,
          330,
          331,
          332,
          333,
          334,
          335,
          336,
          337,
          338,
          339,
          340,
          341,
          342,
          343,
          344,
          345,
          346,
          347,
          348,
          349,
          350,
          351,
          352,
          353,
          354,
          355,
          356,
          357,
          358,
          359,
          360,
          361,
          362,
          363,
          364,
          365,
          366,
          367,
          368,
          369,
          370,
          371,
          372,
          373,
          374,
          375,
          376,
          377,
          378,
          379,
          380,
          381,
          382,
          383,
          384,
          385,
          386,
          387,
          388,
          389,
          390,
          391,
          392,
          393,
          394,
          395,
          396,
          397,
          398,
          399,
          400,
          401,
          402,
          403,
          404,
          405,
          406,
          407,
          408,
          409,
          410,
          411,
          412,
          413,
          414,
          415,
          416,
          417,
          418,
          419,
          420,
          421,
          422,
          423,
          424,
          425,
          426,
          427,
          428,
          429,
          430,
          431,
          432,
          433,
          434,
          435,
          436,
          437,
          438,
          439,
          440,
          441,
          442,
          443,
          444,
          445,
          446,
          447,
          448,
          449,
          450,
          451,
          452,
          453,
          454,
          455,
          456,
          457,
          458,
          459,
          460,
          461
         ],
         "xaxis": "x",
         "y": [
          102.256,
          108.995,
          120.179,
          124.569,
          116.638,
          114.381,
          118.107,
          112.979,
          112.948,
          116.006,
          116.827,
          117.256,
          116.341,
          114.924,
          118.002,
          119.11,
          121.86,
          119.757,
          119.939,
          120.02,
          120.765,
          122.324,
          123.857,
          124.847,
          124.835,
          127.12,
          127.228,
          127.618,
          129.881,
          128.89,
          128.687,
          128.656,
          129.092,
          130.248,
          130.816,
          131.266,
          132.341,
          132.706,
          132.301,
          132.688,
          132.815,
          132.609,
          132.66,
          132.76,
          133.03,
          133.238,
          134.022,
          134.614,
          135.519,
          135.499,
          135.739,
          135.557,
          135.426,
          135.745,
          135.889,
          135.972,
          136.195,
          136.138,
          136.345,
          136.139,
          136.328,
          136.313,
          136.7,
          137.097,
          136.834,
          137.085,
          137.428,
          137.438,
          137.754,
          137.877,
          137.378,
          137.644,
          137.702,
          137.506,
          137.599,
          137.585,
          137.897,
          137.934,
          138.186,
          138.062,
          138.224,
          138.315,
          138.52,
          138.607,
          138.382,
          138.416,
          138.465,
          138.453,
          138.273,
          138.174,
          138.281,
          137.683,
          137.772,
          137.842,
          137.77,
          137.742,
          137.755,
          137.708,
          137.182,
          137.014,
          136.754,
          136.567,
          136.3,
          136.365,
          136.285,
          136.257,
          136.341,
          136.417,
          136.405,
          136.382,
          136.46,
          136.574,
          136.496,
          136.228,
          136.413,
          136.401,
          136.268,
          136.312,
          136.399,
          136.436,
          136.54,
          136.445,
          136.452,
          136.557,
          136.807,
          136.896,
          136.926,
          136.812,
          136.859,
          137.005,
          137.211,
          137.324,
          137.264,
          137.194,
          137.281,
          137.369,
          137.386,
          137.323,
          137.421,
          137.254,
          137.454,
          137.376,
          137.342,
          137.383,
          137.542,
          137.572,
          137.626,
          137.634,
          137.839,
          137.828,
          137.779,
          137.719,
          137.713,
          137.809,
          137.881,
          137.685,
          137.702,
          137.593,
          137.524,
          137.54,
          137.345,
          137.404,
          137.419,
          137.526,
          137.651,
          137.751,
          137.601,
          137.529,
          137.457,
          137.238,
          137.347,
          137.307,
          137.381,
          137.521,
          137.47,
          137.449,
          137.357,
          137.49,
          137.578,
          137.357,
          137.42,
          137.492,
          137.495,
          137.502,
          137.407,
          137.5,
          137.387,
          137.457,
          137.294,
          137.394,
          137.369,
          137.297,
          137.191,
          137.186,
          137.172,
          137.111,
          137.157,
          137.173,
          137.284,
          137.22,
          137.154,
          137.21,
          137.107,
          137.134,
          137.143,
          137.054,
          136.923,
          136.968,
          136.917,
          136.949,
          136.941,
          137.027,
          137.031,
          137.036,
          136.893,
          136.972,
          136.964,
          136.819,
          136.847,
          136.858,
          136.941,
          136.89,
          136.868,
          136.847,
          136.79,
          136.704,
          136.697,
          136.73,
          136.833,
          136.748,
          136.705,
          136.67,
          136.701,
          136.807,
          136.677,
          136.579,
          136.777,
          136.782,
          136.729,
          136.811,
          136.759,
          136.788,
          136.832,
          136.681,
          136.499,
          136.325,
          136.355,
          136.284,
          136.209,
          136.013,
          135.944,
          135.951,
          135.865,
          135.949,
          136.057,
          136.098,
          135.963,
          136.044,
          136.12,
          136,
          135.869,
          135.9,
          135.986,
          135.892,
          135.874,
          135.949,
          135.914,
          135.953,
          135.912,
          135.935,
          136.011,
          135.951,
          135.926,
          135.852,
          135.906,
          135.871,
          135.909,
          135.897,
          135.9,
          135.82,
          135.767,
          135.78,
          135.782,
          135.653,
          135.653,
          135.7,
          135.637,
          135.615,
          135.499,
          135.447,
          135.439,
          135.286,
          135.248,
          135.174,
          135.141,
          135.184,
          135.234,
          135.196,
          135.165,
          135.194,
          135.217,
          135.268,
          135.309,
          135.364,
          135.387,
          135.319,
          135.32,
          135.356,
          135.351,
          135.429,
          135.37,
          135.276,
          135.372,
          135.396,
          135.413,
          135.389,
          135.455,
          135.454,
          135.422,
          135.361,
          135.443,
          135.522,
          135.446,
          135.53,
          135.605,
          135.649,
          135.682,
          135.771,
          135.755,
          135.78,
          135.675,
          135.658,
          135.663,
          135.709,
          135.641,
          135.67,
          135.755,
          135.806,
          135.885,
          135.938,
          136.074,
          136.008,
          136.08,
          136.159,
          136.178,
          136.214,
          136.15,
          136.183,
          136.221,
          136.192,
          136.203,
          136.176,
          136.205,
          136.191,
          136.217,
          136.291,
          136.37,
          136.378,
          136.322,
          136.385,
          136.449,
          136.515,
          136.569,
          136.541,
          136.501,
          136.601,
          136.686,
          136.76,
          136.805,
          136.713,
          136.732,
          136.819,
          136.828,
          136.933,
          136.999,
          137.025,
          137.087,
          137.073,
          137.055,
          136.945,
          136.953,
          136.901,
          136.972,
          136.905,
          136.837,
          136.724,
          136.82,
          136.829,
          136.783,
          136.777,
          136.711,
          136.577,
          136.443,
          136.38,
          136.249,
          136.047,
          136.05,
          135.969,
          135.896,
          135.879,
          135.859,
          135.867,
          135.837,
          135.716,
          135.733,
          135.694,
          135.692,
          135.617,
          135.55,
          135.421,
          135.394,
          135.378,
          135.435,
          135.546,
          135.56,
          135.575,
          135.547,
          135.507,
          135.482,
          135.469,
          135.4,
          135.387,
          135.417,
          135.394,
          135.446,
          135.431,
          135.432,
          135.482,
          135.538,
          135.616,
          135.663,
          135.678,
          135.703,
          135.63,
          135.713,
          135.644,
          135.654,
          135.581,
          135.566,
          135.483,
          135.467,
          135.47,
          135.447,
          135.413,
          135.397,
          135.331,
          135.367,
          135.34,
          135.384,
          135.302,
          135.338,
          135.359,
          135.36,
          135.365,
          135.337,
          135.352,
          135.355,
          135.395,
          135.412,
          135.413,
          135.363
         ],
         "yaxis": "y"
        }
       ],
       "layout": {
        "legend": {
         "title": {
          "text": "variable"
         },
         "tracegroupgap": 0
        },
        "margin": {
         "t": 60
        },
        "template": {
         "data": {
          "bar": [
           {
            "error_x": {
             "color": "#2a3f5f"
            },
            "error_y": {
             "color": "#2a3f5f"
            },
            "marker": {
             "line": {
              "color": "#E5ECF6",
              "width": 0.5
             },
             "pattern": {
              "fillmode": "overlay",
              "size": 10,
              "solidity": 0.2
             }
            },
            "type": "bar"
           }
          ],
          "barpolar": [
           {
            "marker": {
             "line": {
              "color": "#E5ECF6",
              "width": 0.5
             },
             "pattern": {
              "fillmode": "overlay",
              "size": 10,
              "solidity": 0.2
             }
            },
            "type": "barpolar"
           }
          ],
          "carpet": [
           {
            "aaxis": {
             "endlinecolor": "#2a3f5f",
             "gridcolor": "white",
             "linecolor": "white",
             "minorgridcolor": "white",
             "startlinecolor": "#2a3f5f"
            },
            "baxis": {
             "endlinecolor": "#2a3f5f",
             "gridcolor": "white",
             "linecolor": "white",
             "minorgridcolor": "white",
             "startlinecolor": "#2a3f5f"
            },
            "type": "carpet"
           }
          ],
          "choropleth": [
           {
            "colorbar": {
             "outlinewidth": 0,
             "ticks": ""
            },
            "type": "choropleth"
           }
          ],
          "contour": [
           {
            "colorbar": {
             "outlinewidth": 0,
             "ticks": ""
            },
            "colorscale": [
             [
              0,
              "#0d0887"
             ],
             [
              0.1111111111111111,
              "#46039f"
             ],
             [
              0.2222222222222222,
              "#7201a8"
             ],
             [
              0.3333333333333333,
              "#9c179e"
             ],
             [
              0.4444444444444444,
              "#bd3786"
             ],
             [
              0.5555555555555556,
              "#d8576b"
             ],
             [
              0.6666666666666666,
              "#ed7953"
             ],
             [
              0.7777777777777778,
              "#fb9f3a"
             ],
             [
              0.8888888888888888,
              "#fdca26"
             ],
             [
              1,
              "#f0f921"
             ]
            ],
            "type": "contour"
           }
          ],
          "contourcarpet": [
           {
            "colorbar": {
             "outlinewidth": 0,
             "ticks": ""
            },
            "type": "contourcarpet"
           }
          ],
          "heatmap": [
           {
            "colorbar": {
             "outlinewidth": 0,
             "ticks": ""
            },
            "colorscale": [
             [
              0,
              "#0d0887"
             ],
             [
              0.1111111111111111,
              "#46039f"
             ],
             [
              0.2222222222222222,
              "#7201a8"
             ],
             [
              0.3333333333333333,
              "#9c179e"
             ],
             [
              0.4444444444444444,
              "#bd3786"
             ],
             [
              0.5555555555555556,
              "#d8576b"
             ],
             [
              0.6666666666666666,
              "#ed7953"
             ],
             [
              0.7777777777777778,
              "#fb9f3a"
             ],
             [
              0.8888888888888888,
              "#fdca26"
             ],
             [
              1,
              "#f0f921"
             ]
            ],
            "type": "heatmap"
           }
          ],
          "heatmapgl": [
           {
            "colorbar": {
             "outlinewidth": 0,
             "ticks": ""
            },
            "colorscale": [
             [
              0,
              "#0d0887"
             ],
             [
              0.1111111111111111,
              "#46039f"
             ],
             [
              0.2222222222222222,
              "#7201a8"
             ],
             [
              0.3333333333333333,
              "#9c179e"
             ],
             [
              0.4444444444444444,
              "#bd3786"
             ],
             [
              0.5555555555555556,
              "#d8576b"
             ],
             [
              0.6666666666666666,
              "#ed7953"
             ],
             [
              0.7777777777777778,
              "#fb9f3a"
             ],
             [
              0.8888888888888888,
              "#fdca26"
             ],
             [
              1,
              "#f0f921"
             ]
            ],
            "type": "heatmapgl"
           }
          ],
          "histogram": [
           {
            "marker": {
             "pattern": {
              "fillmode": "overlay",
              "size": 10,
              "solidity": 0.2
             }
            },
            "type": "histogram"
           }
          ],
          "histogram2d": [
           {
            "colorbar": {
             "outlinewidth": 0,
             "ticks": ""
            },
            "colorscale": [
             [
              0,
              "#0d0887"
             ],
             [
              0.1111111111111111,
              "#46039f"
             ],
             [
              0.2222222222222222,
              "#7201a8"
             ],
             [
              0.3333333333333333,
              "#9c179e"
             ],
             [
              0.4444444444444444,
              "#bd3786"
             ],
             [
              0.5555555555555556,
              "#d8576b"
             ],
             [
              0.6666666666666666,
              "#ed7953"
             ],
             [
              0.7777777777777778,
              "#fb9f3a"
             ],
             [
              0.8888888888888888,
              "#fdca26"
             ],
             [
              1,
              "#f0f921"
             ]
            ],
            "type": "histogram2d"
           }
          ],
          "histogram2dcontour": [
           {
            "colorbar": {
             "outlinewidth": 0,
             "ticks": ""
            },
            "colorscale": [
             [
              0,
              "#0d0887"
             ],
             [
              0.1111111111111111,
              "#46039f"
             ],
             [
              0.2222222222222222,
              "#7201a8"
             ],
             [
              0.3333333333333333,
              "#9c179e"
             ],
             [
              0.4444444444444444,
              "#bd3786"
             ],
             [
              0.5555555555555556,
              "#d8576b"
             ],
             [
              0.6666666666666666,
              "#ed7953"
             ],
             [
              0.7777777777777778,
              "#fb9f3a"
             ],
             [
              0.8888888888888888,
              "#fdca26"
             ],
             [
              1,
              "#f0f921"
             ]
            ],
            "type": "histogram2dcontour"
           }
          ],
          "mesh3d": [
           {
            "colorbar": {
             "outlinewidth": 0,
             "ticks": ""
            },
            "type": "mesh3d"
           }
          ],
          "parcoords": [
           {
            "line": {
             "colorbar": {
              "outlinewidth": 0,
              "ticks": ""
             }
            },
            "type": "parcoords"
           }
          ],
          "pie": [
           {
            "automargin": true,
            "type": "pie"
           }
          ],
          "scatter": [
           {
            "fillpattern": {
             "fillmode": "overlay",
             "size": 10,
             "solidity": 0.2
            },
            "type": "scatter"
           }
          ],
          "scatter3d": [
           {
            "line": {
             "colorbar": {
              "outlinewidth": 0,
              "ticks": ""
             }
            },
            "marker": {
             "colorbar": {
              "outlinewidth": 0,
              "ticks": ""
             }
            },
            "type": "scatter3d"
           }
          ],
          "scattercarpet": [
           {
            "marker": {
             "colorbar": {
              "outlinewidth": 0,
              "ticks": ""
             }
            },
            "type": "scattercarpet"
           }
          ],
          "scattergeo": [
           {
            "marker": {
             "colorbar": {
              "outlinewidth": 0,
              "ticks": ""
             }
            },
            "type": "scattergeo"
           }
          ],
          "scattergl": [
           {
            "marker": {
             "colorbar": {
              "outlinewidth": 0,
              "ticks": ""
             }
            },
            "type": "scattergl"
           }
          ],
          "scattermapbox": [
           {
            "marker": {
             "colorbar": {
              "outlinewidth": 0,
              "ticks": ""
             }
            },
            "type": "scattermapbox"
           }
          ],
          "scatterpolar": [
           {
            "marker": {
             "colorbar": {
              "outlinewidth": 0,
              "ticks": ""
             }
            },
            "type": "scatterpolar"
           }
          ],
          "scatterpolargl": [
           {
            "marker": {
             "colorbar": {
              "outlinewidth": 0,
              "ticks": ""
             }
            },
            "type": "scatterpolargl"
           }
          ],
          "scatterternary": [
           {
            "marker": {
             "colorbar": {
              "outlinewidth": 0,
              "ticks": ""
             }
            },
            "type": "scatterternary"
           }
          ],
          "surface": [
           {
            "colorbar": {
             "outlinewidth": 0,
             "ticks": ""
            },
            "colorscale": [
             [
              0,
              "#0d0887"
             ],
             [
              0.1111111111111111,
              "#46039f"
             ],
             [
              0.2222222222222222,
              "#7201a8"
             ],
             [
              0.3333333333333333,
              "#9c179e"
             ],
             [
              0.4444444444444444,
              "#bd3786"
             ],
             [
              0.5555555555555556,
              "#d8576b"
             ],
             [
              0.6666666666666666,
              "#ed7953"
             ],
             [
              0.7777777777777778,
              "#fb9f3a"
             ],
             [
              0.8888888888888888,
              "#fdca26"
             ],
             [
              1,
              "#f0f921"
             ]
            ],
            "type": "surface"
           }
          ],
          "table": [
           {
            "cells": {
             "fill": {
              "color": "#EBF0F8"
             },
             "line": {
              "color": "white"
             }
            },
            "header": {
             "fill": {
              "color": "#C8D4E3"
             },
             "line": {
              "color": "white"
             }
            },
            "type": "table"
           }
          ]
         },
         "layout": {
          "annotationdefaults": {
           "arrowcolor": "#2a3f5f",
           "arrowhead": 0,
           "arrowwidth": 1
          },
          "autotypenumbers": "strict",
          "coloraxis": {
           "colorbar": {
            "outlinewidth": 0,
            "ticks": ""
           }
          },
          "colorscale": {
           "diverging": [
            [
             0,
             "#8e0152"
            ],
            [
             0.1,
             "#c51b7d"
            ],
            [
             0.2,
             "#de77ae"
            ],
            [
             0.3,
             "#f1b6da"
            ],
            [
             0.4,
             "#fde0ef"
            ],
            [
             0.5,
             "#f7f7f7"
            ],
            [
             0.6,
             "#e6f5d0"
            ],
            [
             0.7,
             "#b8e186"
            ],
            [
             0.8,
             "#7fbc41"
            ],
            [
             0.9,
             "#4d9221"
            ],
            [
             1,
             "#276419"
            ]
           ],
           "sequential": [
            [
             0,
             "#0d0887"
            ],
            [
             0.1111111111111111,
             "#46039f"
            ],
            [
             0.2222222222222222,
             "#7201a8"
            ],
            [
             0.3333333333333333,
             "#9c179e"
            ],
            [
             0.4444444444444444,
             "#bd3786"
            ],
            [
             0.5555555555555556,
             "#d8576b"
            ],
            [
             0.6666666666666666,
             "#ed7953"
            ],
            [
             0.7777777777777778,
             "#fb9f3a"
            ],
            [
             0.8888888888888888,
             "#fdca26"
            ],
            [
             1,
             "#f0f921"
            ]
           ],
           "sequentialminus": [
            [
             0,
             "#0d0887"
            ],
            [
             0.1111111111111111,
             "#46039f"
            ],
            [
             0.2222222222222222,
             "#7201a8"
            ],
            [
             0.3333333333333333,
             "#9c179e"
            ],
            [
             0.4444444444444444,
             "#bd3786"
            ],
            [
             0.5555555555555556,
             "#d8576b"
            ],
            [
             0.6666666666666666,
             "#ed7953"
            ],
            [
             0.7777777777777778,
             "#fb9f3a"
            ],
            [
             0.8888888888888888,
             "#fdca26"
            ],
            [
             1,
             "#f0f921"
            ]
           ]
          },
          "colorway": [
           "#636efa",
           "#EF553B",
           "#00cc96",
           "#ab63fa",
           "#FFA15A",
           "#19d3f3",
           "#FF6692",
           "#B6E880",
           "#FF97FF",
           "#FECB52"
          ],
          "font": {
           "color": "#2a3f5f"
          },
          "geo": {
           "bgcolor": "white",
           "lakecolor": "white",
           "landcolor": "#E5ECF6",
           "showlakes": true,
           "showland": true,
           "subunitcolor": "white"
          },
          "hoverlabel": {
           "align": "left"
          },
          "hovermode": "closest",
          "mapbox": {
           "style": "light"
          },
          "paper_bgcolor": "white",
          "plot_bgcolor": "#E5ECF6",
          "polar": {
           "angularaxis": {
            "gridcolor": "white",
            "linecolor": "white",
            "ticks": ""
           },
           "bgcolor": "#E5ECF6",
           "radialaxis": {
            "gridcolor": "white",
            "linecolor": "white",
            "ticks": ""
           }
          },
          "scene": {
           "xaxis": {
            "backgroundcolor": "#E5ECF6",
            "gridcolor": "white",
            "gridwidth": 2,
            "linecolor": "white",
            "showbackground": true,
            "ticks": "",
            "zerolinecolor": "white"
           },
           "yaxis": {
            "backgroundcolor": "#E5ECF6",
            "gridcolor": "white",
            "gridwidth": 2,
            "linecolor": "white",
            "showbackground": true,
            "ticks": "",
            "zerolinecolor": "white"
           },
           "zaxis": {
            "backgroundcolor": "#E5ECF6",
            "gridcolor": "white",
            "gridwidth": 2,
            "linecolor": "white",
            "showbackground": true,
            "ticks": "",
            "zerolinecolor": "white"
           }
          },
          "shapedefaults": {
           "line": {
            "color": "#2a3f5f"
           }
          },
          "ternary": {
           "aaxis": {
            "gridcolor": "white",
            "linecolor": "white",
            "ticks": ""
           },
           "baxis": {
            "gridcolor": "white",
            "linecolor": "white",
            "ticks": ""
           },
           "bgcolor": "#E5ECF6",
           "caxis": {
            "gridcolor": "white",
            "linecolor": "white",
            "ticks": ""
           }
          },
          "title": {
           "x": 0.05
          },
          "xaxis": {
           "automargin": true,
           "gridcolor": "white",
           "linecolor": "white",
           "ticks": "",
           "title": {
            "standoff": 15
           },
           "zerolinecolor": "white",
           "zerolinewidth": 2
          },
          "yaxis": {
           "automargin": true,
           "gridcolor": "white",
           "linecolor": "white",
           "ticks": "",
           "title": {
            "standoff": 15
           },
           "zerolinecolor": "white",
           "zerolinewidth": 2
          }
         }
        },
        "xaxis": {
         "anchor": "y",
         "domain": [
          0,
          1
         ],
         "title": {
          "text": "Test_Number"
         }
        },
        "yaxis": {
         "anchor": "x",
         "domain": [
          0,
          1
         ],
         "title": {
          "text": "value"
         }
        }
       }
      }
     },
     "metadata": {},
     "output_type": "display_data"
    }
   ],
   "source": [
    "fig_df_results_by_test_number = px.line(df_results, x = df_results.index, \n",
    "y = ['WPM', 'Last 10 Avg', 'Last 100 Avg', 'Last 1000 Avg', 'cumulative_avg'])\n",
    "fig_df_results_by_test_number.write_html('Analyses/results_by_test_number.html')\n",
    "fig_df_results_by_test_number.write_image('Analyses/results_by_test_number.png', \n",
    "width = 1920, height = 1080, engine = 'kaleido', scale = 2)\n",
    "fig_df_results_by_test_number"
   ]
  },
  {
   "cell_type": "markdown",
   "metadata": {},
   "source": [
    "## Evaluating average results by month:"
   ]
  },
  {
   "cell_type": "code",
   "execution_count": 52,
   "metadata": {},
   "outputs": [
    {
     "data": {
      "text/html": [
       "<div>\n",
       "<style scoped>\n",
       "    .dataframe tbody tr th:only-of-type {\n",
       "        vertical-align: middle;\n",
       "    }\n",
       "\n",
       "    .dataframe tbody tr th {\n",
       "        vertical-align: top;\n",
       "    }\n",
       "\n",
       "    .dataframe thead th {\n",
       "        text-align: right;\n",
       "    }\n",
       "</style>\n",
       "<table border=\"1\" class=\"dataframe\">\n",
       "  <thead>\n",
       "    <tr style=\"text-align: right;\">\n",
       "      <th></th>\n",
       "      <th>Local_Year</th>\n",
       "      <th>Local_Month</th>\n",
       "      <th>Count</th>\n",
       "      <th>WPM</th>\n",
       "      <th>Year/Month</th>\n",
       "    </tr>\n",
       "  </thead>\n",
       "  <tbody>\n",
       "    <tr>\n",
       "      <th>0</th>\n",
       "      <td>2023</td>\n",
       "      <td>10</td>\n",
       "      <td>332</td>\n",
       "      <td>135.657830</td>\n",
       "      <td>2023-10</td>\n",
       "    </tr>\n",
       "    <tr>\n",
       "      <th>1</th>\n",
       "      <td>2023</td>\n",
       "      <td>11</td>\n",
       "      <td>129</td>\n",
       "      <td>134.602562</td>\n",
       "      <td>2023-11</td>\n",
       "    </tr>\n",
       "  </tbody>\n",
       "</table>\n",
       "</div>"
      ],
      "text/plain": [
       "   Local_Year  Local_Month  Count         WPM Year/Month\n",
       "0        2023           10    332  135.657830    2023-10\n",
       "1        2023           11    129  134.602562    2023-11"
      ]
     },
     "execution_count": 52,
     "metadata": {},
     "output_type": "execute_result"
    }
   ],
   "source": [
    "df_results_by_month = df_results.pivot_table(\n",
    "    index = ['Local_Year', 'Local_Month'], values = ['Count', 'WPM'], \n",
    "    aggfunc = {'Count':'sum', 'WPM':'mean'}).reset_index()\n",
    "# Enclosing the year/month in parentheses so that they won't be converted\n",
    "df_results_by_month['Year/Month'] = df_results_by_month[\n",
    "    'Local_Year'].astype('str') + '-' + df_results_by_month[\n",
    "    'Local_Month'].astype('str')\n",
    "df_results_by_month.to_csv('Analyses/results_by_month.csv')\n",
    "df_results_by_month"
   ]
  },
  {
   "cell_type": "code",
   "execution_count": 53,
   "metadata": {},
   "outputs": [
    {
     "data": {
      "application/vnd.plotly.v1+json": {
       "config": {
        "plotlyServerURL": "https://plot.ly"
       },
       "data": [
        {
         "alignmentgroup": "True",
         "hovertemplate": "Year/Month=%{x}<br>WPM=%{y}<br>Count=%{marker.color}<extra></extra>",
         "legendgroup": "",
         "marker": {
          "color": [
           332,
           129
          ],
          "coloraxis": "coloraxis",
          "pattern": {
           "shape": ""
          }
         },
         "name": "",
         "offsetgroup": "",
         "orientation": "v",
         "showlegend": false,
         "textposition": "auto",
         "type": "bar",
         "x": [
          "2023-10",
          "2023-11"
         ],
         "xaxis": "x",
         "y": [
          135.65783000328662,
          134.6025615324386
         ],
         "yaxis": "y"
        }
       ],
       "layout": {
        "barmode": "relative",
        "coloraxis": {
         "colorbar": {
          "title": {
           "text": "Count"
          }
         },
         "colorscale": [
          [
           0,
           "#0d0887"
          ],
          [
           0.1111111111111111,
           "#46039f"
          ],
          [
           0.2222222222222222,
           "#7201a8"
          ],
          [
           0.3333333333333333,
           "#9c179e"
          ],
          [
           0.4444444444444444,
           "#bd3786"
          ],
          [
           0.5555555555555556,
           "#d8576b"
          ],
          [
           0.6666666666666666,
           "#ed7953"
          ],
          [
           0.7777777777777778,
           "#fb9f3a"
          ],
          [
           0.8888888888888888,
           "#fdca26"
          ],
          [
           1,
           "#f0f921"
          ]
         ]
        },
        "legend": {
         "tracegroupgap": 0
        },
        "margin": {
         "t": 60
        },
        "template": {
         "data": {
          "bar": [
           {
            "error_x": {
             "color": "#2a3f5f"
            },
            "error_y": {
             "color": "#2a3f5f"
            },
            "marker": {
             "line": {
              "color": "#E5ECF6",
              "width": 0.5
             },
             "pattern": {
              "fillmode": "overlay",
              "size": 10,
              "solidity": 0.2
             }
            },
            "type": "bar"
           }
          ],
          "barpolar": [
           {
            "marker": {
             "line": {
              "color": "#E5ECF6",
              "width": 0.5
             },
             "pattern": {
              "fillmode": "overlay",
              "size": 10,
              "solidity": 0.2
             }
            },
            "type": "barpolar"
           }
          ],
          "carpet": [
           {
            "aaxis": {
             "endlinecolor": "#2a3f5f",
             "gridcolor": "white",
             "linecolor": "white",
             "minorgridcolor": "white",
             "startlinecolor": "#2a3f5f"
            },
            "baxis": {
             "endlinecolor": "#2a3f5f",
             "gridcolor": "white",
             "linecolor": "white",
             "minorgridcolor": "white",
             "startlinecolor": "#2a3f5f"
            },
            "type": "carpet"
           }
          ],
          "choropleth": [
           {
            "colorbar": {
             "outlinewidth": 0,
             "ticks": ""
            },
            "type": "choropleth"
           }
          ],
          "contour": [
           {
            "colorbar": {
             "outlinewidth": 0,
             "ticks": ""
            },
            "colorscale": [
             [
              0,
              "#0d0887"
             ],
             [
              0.1111111111111111,
              "#46039f"
             ],
             [
              0.2222222222222222,
              "#7201a8"
             ],
             [
              0.3333333333333333,
              "#9c179e"
             ],
             [
              0.4444444444444444,
              "#bd3786"
             ],
             [
              0.5555555555555556,
              "#d8576b"
             ],
             [
              0.6666666666666666,
              "#ed7953"
             ],
             [
              0.7777777777777778,
              "#fb9f3a"
             ],
             [
              0.8888888888888888,
              "#fdca26"
             ],
             [
              1,
              "#f0f921"
             ]
            ],
            "type": "contour"
           }
          ],
          "contourcarpet": [
           {
            "colorbar": {
             "outlinewidth": 0,
             "ticks": ""
            },
            "type": "contourcarpet"
           }
          ],
          "heatmap": [
           {
            "colorbar": {
             "outlinewidth": 0,
             "ticks": ""
            },
            "colorscale": [
             [
              0,
              "#0d0887"
             ],
             [
              0.1111111111111111,
              "#46039f"
             ],
             [
              0.2222222222222222,
              "#7201a8"
             ],
             [
              0.3333333333333333,
              "#9c179e"
             ],
             [
              0.4444444444444444,
              "#bd3786"
             ],
             [
              0.5555555555555556,
              "#d8576b"
             ],
             [
              0.6666666666666666,
              "#ed7953"
             ],
             [
              0.7777777777777778,
              "#fb9f3a"
             ],
             [
              0.8888888888888888,
              "#fdca26"
             ],
             [
              1,
              "#f0f921"
             ]
            ],
            "type": "heatmap"
           }
          ],
          "heatmapgl": [
           {
            "colorbar": {
             "outlinewidth": 0,
             "ticks": ""
            },
            "colorscale": [
             [
              0,
              "#0d0887"
             ],
             [
              0.1111111111111111,
              "#46039f"
             ],
             [
              0.2222222222222222,
              "#7201a8"
             ],
             [
              0.3333333333333333,
              "#9c179e"
             ],
             [
              0.4444444444444444,
              "#bd3786"
             ],
             [
              0.5555555555555556,
              "#d8576b"
             ],
             [
              0.6666666666666666,
              "#ed7953"
             ],
             [
              0.7777777777777778,
              "#fb9f3a"
             ],
             [
              0.8888888888888888,
              "#fdca26"
             ],
             [
              1,
              "#f0f921"
             ]
            ],
            "type": "heatmapgl"
           }
          ],
          "histogram": [
           {
            "marker": {
             "pattern": {
              "fillmode": "overlay",
              "size": 10,
              "solidity": 0.2
             }
            },
            "type": "histogram"
           }
          ],
          "histogram2d": [
           {
            "colorbar": {
             "outlinewidth": 0,
             "ticks": ""
            },
            "colorscale": [
             [
              0,
              "#0d0887"
             ],
             [
              0.1111111111111111,
              "#46039f"
             ],
             [
              0.2222222222222222,
              "#7201a8"
             ],
             [
              0.3333333333333333,
              "#9c179e"
             ],
             [
              0.4444444444444444,
              "#bd3786"
             ],
             [
              0.5555555555555556,
              "#d8576b"
             ],
             [
              0.6666666666666666,
              "#ed7953"
             ],
             [
              0.7777777777777778,
              "#fb9f3a"
             ],
             [
              0.8888888888888888,
              "#fdca26"
             ],
             [
              1,
              "#f0f921"
             ]
            ],
            "type": "histogram2d"
           }
          ],
          "histogram2dcontour": [
           {
            "colorbar": {
             "outlinewidth": 0,
             "ticks": ""
            },
            "colorscale": [
             [
              0,
              "#0d0887"
             ],
             [
              0.1111111111111111,
              "#46039f"
             ],
             [
              0.2222222222222222,
              "#7201a8"
             ],
             [
              0.3333333333333333,
              "#9c179e"
             ],
             [
              0.4444444444444444,
              "#bd3786"
             ],
             [
              0.5555555555555556,
              "#d8576b"
             ],
             [
              0.6666666666666666,
              "#ed7953"
             ],
             [
              0.7777777777777778,
              "#fb9f3a"
             ],
             [
              0.8888888888888888,
              "#fdca26"
             ],
             [
              1,
              "#f0f921"
             ]
            ],
            "type": "histogram2dcontour"
           }
          ],
          "mesh3d": [
           {
            "colorbar": {
             "outlinewidth": 0,
             "ticks": ""
            },
            "type": "mesh3d"
           }
          ],
          "parcoords": [
           {
            "line": {
             "colorbar": {
              "outlinewidth": 0,
              "ticks": ""
             }
            },
            "type": "parcoords"
           }
          ],
          "pie": [
           {
            "automargin": true,
            "type": "pie"
           }
          ],
          "scatter": [
           {
            "fillpattern": {
             "fillmode": "overlay",
             "size": 10,
             "solidity": 0.2
            },
            "type": "scatter"
           }
          ],
          "scatter3d": [
           {
            "line": {
             "colorbar": {
              "outlinewidth": 0,
              "ticks": ""
             }
            },
            "marker": {
             "colorbar": {
              "outlinewidth": 0,
              "ticks": ""
             }
            },
            "type": "scatter3d"
           }
          ],
          "scattercarpet": [
           {
            "marker": {
             "colorbar": {
              "outlinewidth": 0,
              "ticks": ""
             }
            },
            "type": "scattercarpet"
           }
          ],
          "scattergeo": [
           {
            "marker": {
             "colorbar": {
              "outlinewidth": 0,
              "ticks": ""
             }
            },
            "type": "scattergeo"
           }
          ],
          "scattergl": [
           {
            "marker": {
             "colorbar": {
              "outlinewidth": 0,
              "ticks": ""
             }
            },
            "type": "scattergl"
           }
          ],
          "scattermapbox": [
           {
            "marker": {
             "colorbar": {
              "outlinewidth": 0,
              "ticks": ""
             }
            },
            "type": "scattermapbox"
           }
          ],
          "scatterpolar": [
           {
            "marker": {
             "colorbar": {
              "outlinewidth": 0,
              "ticks": ""
             }
            },
            "type": "scatterpolar"
           }
          ],
          "scatterpolargl": [
           {
            "marker": {
             "colorbar": {
              "outlinewidth": 0,
              "ticks": ""
             }
            },
            "type": "scatterpolargl"
           }
          ],
          "scatterternary": [
           {
            "marker": {
             "colorbar": {
              "outlinewidth": 0,
              "ticks": ""
             }
            },
            "type": "scatterternary"
           }
          ],
          "surface": [
           {
            "colorbar": {
             "outlinewidth": 0,
             "ticks": ""
            },
            "colorscale": [
             [
              0,
              "#0d0887"
             ],
             [
              0.1111111111111111,
              "#46039f"
             ],
             [
              0.2222222222222222,
              "#7201a8"
             ],
             [
              0.3333333333333333,
              "#9c179e"
             ],
             [
              0.4444444444444444,
              "#bd3786"
             ],
             [
              0.5555555555555556,
              "#d8576b"
             ],
             [
              0.6666666666666666,
              "#ed7953"
             ],
             [
              0.7777777777777778,
              "#fb9f3a"
             ],
             [
              0.8888888888888888,
              "#fdca26"
             ],
             [
              1,
              "#f0f921"
             ]
            ],
            "type": "surface"
           }
          ],
          "table": [
           {
            "cells": {
             "fill": {
              "color": "#EBF0F8"
             },
             "line": {
              "color": "white"
             }
            },
            "header": {
             "fill": {
              "color": "#C8D4E3"
             },
             "line": {
              "color": "white"
             }
            },
            "type": "table"
           }
          ]
         },
         "layout": {
          "annotationdefaults": {
           "arrowcolor": "#2a3f5f",
           "arrowhead": 0,
           "arrowwidth": 1
          },
          "autotypenumbers": "strict",
          "coloraxis": {
           "colorbar": {
            "outlinewidth": 0,
            "ticks": ""
           }
          },
          "colorscale": {
           "diverging": [
            [
             0,
             "#8e0152"
            ],
            [
             0.1,
             "#c51b7d"
            ],
            [
             0.2,
             "#de77ae"
            ],
            [
             0.3,
             "#f1b6da"
            ],
            [
             0.4,
             "#fde0ef"
            ],
            [
             0.5,
             "#f7f7f7"
            ],
            [
             0.6,
             "#e6f5d0"
            ],
            [
             0.7,
             "#b8e186"
            ],
            [
             0.8,
             "#7fbc41"
            ],
            [
             0.9,
             "#4d9221"
            ],
            [
             1,
             "#276419"
            ]
           ],
           "sequential": [
            [
             0,
             "#0d0887"
            ],
            [
             0.1111111111111111,
             "#46039f"
            ],
            [
             0.2222222222222222,
             "#7201a8"
            ],
            [
             0.3333333333333333,
             "#9c179e"
            ],
            [
             0.4444444444444444,
             "#bd3786"
            ],
            [
             0.5555555555555556,
             "#d8576b"
            ],
            [
             0.6666666666666666,
             "#ed7953"
            ],
            [
             0.7777777777777778,
             "#fb9f3a"
            ],
            [
             0.8888888888888888,
             "#fdca26"
            ],
            [
             1,
             "#f0f921"
            ]
           ],
           "sequentialminus": [
            [
             0,
             "#0d0887"
            ],
            [
             0.1111111111111111,
             "#46039f"
            ],
            [
             0.2222222222222222,
             "#7201a8"
            ],
            [
             0.3333333333333333,
             "#9c179e"
            ],
            [
             0.4444444444444444,
             "#bd3786"
            ],
            [
             0.5555555555555556,
             "#d8576b"
            ],
            [
             0.6666666666666666,
             "#ed7953"
            ],
            [
             0.7777777777777778,
             "#fb9f3a"
            ],
            [
             0.8888888888888888,
             "#fdca26"
            ],
            [
             1,
             "#f0f921"
            ]
           ]
          },
          "colorway": [
           "#636efa",
           "#EF553B",
           "#00cc96",
           "#ab63fa",
           "#FFA15A",
           "#19d3f3",
           "#FF6692",
           "#B6E880",
           "#FF97FF",
           "#FECB52"
          ],
          "font": {
           "color": "#2a3f5f"
          },
          "geo": {
           "bgcolor": "white",
           "lakecolor": "white",
           "landcolor": "#E5ECF6",
           "showlakes": true,
           "showland": true,
           "subunitcolor": "white"
          },
          "hoverlabel": {
           "align": "left"
          },
          "hovermode": "closest",
          "mapbox": {
           "style": "light"
          },
          "paper_bgcolor": "white",
          "plot_bgcolor": "#E5ECF6",
          "polar": {
           "angularaxis": {
            "gridcolor": "white",
            "linecolor": "white",
            "ticks": ""
           },
           "bgcolor": "#E5ECF6",
           "radialaxis": {
            "gridcolor": "white",
            "linecolor": "white",
            "ticks": ""
           }
          },
          "scene": {
           "xaxis": {
            "backgroundcolor": "#E5ECF6",
            "gridcolor": "white",
            "gridwidth": 2,
            "linecolor": "white",
            "showbackground": true,
            "ticks": "",
            "zerolinecolor": "white"
           },
           "yaxis": {
            "backgroundcolor": "#E5ECF6",
            "gridcolor": "white",
            "gridwidth": 2,
            "linecolor": "white",
            "showbackground": true,
            "ticks": "",
            "zerolinecolor": "white"
           },
           "zaxis": {
            "backgroundcolor": "#E5ECF6",
            "gridcolor": "white",
            "gridwidth": 2,
            "linecolor": "white",
            "showbackground": true,
            "ticks": "",
            "zerolinecolor": "white"
           }
          },
          "shapedefaults": {
           "line": {
            "color": "#2a3f5f"
           }
          },
          "ternary": {
           "aaxis": {
            "gridcolor": "white",
            "linecolor": "white",
            "ticks": ""
           },
           "baxis": {
            "gridcolor": "white",
            "linecolor": "white",
            "ticks": ""
           },
           "bgcolor": "#E5ECF6",
           "caxis": {
            "gridcolor": "white",
            "linecolor": "white",
            "ticks": ""
           }
          },
          "title": {
           "x": 0.05
          },
          "xaxis": {
           "automargin": true,
           "gridcolor": "white",
           "linecolor": "white",
           "ticks": "",
           "title": {
            "standoff": 15
           },
           "zerolinecolor": "white",
           "zerolinewidth": 2
          },
          "yaxis": {
           "automargin": true,
           "gridcolor": "white",
           "linecolor": "white",
           "ticks": "",
           "title": {
            "standoff": 15
           },
           "zerolinecolor": "white",
           "zerolinewidth": 2
          }
         }
        },
        "xaxis": {
         "anchor": "y",
         "domain": [
          0,
          1
         ],
         "title": {
          "text": "Year/Month"
         },
         "type": "category"
        },
        "yaxis": {
         "anchor": "x",
         "domain": [
          0,
          1
         ],
         "title": {
          "text": "WPM"
         }
        }
       }
      }
     },
     "metadata": {},
     "output_type": "display_data"
    }
   ],
   "source": [
    "fig_results_by_month = px.bar(df_results_by_month, x = 'Year/Month', \n",
    "y = 'WPM', color = 'Count')\n",
    "fig_results_by_month.update_xaxes(type = 'category') # This line, based on\n",
    "# Pracheta's response at https://stackoverflow.com/a/64424308/13097194,\n",
    "# updates the axes to show the date-month pairs as strings rather than \n",
    "# as Plotly-formatted date values. This will also prevent missing\n",
    "# months from appearing in the graph.\n",
    "fig_results_by_month.write_html('Analyses/results_by_month.html')\n",
    "fig_results_by_month.write_image('Analyses/results_by_month.png', \n",
    "width = 1920, height = 1080, engine = 'kaleido', scale = 2)\n",
    "fig_results_by_month"
   ]
  },
  {
   "cell_type": "markdown",
   "metadata": {},
   "source": [
    "## Evaluating average results by hour of day:"
   ]
  },
  {
   "cell_type": "code",
   "execution_count": 54,
   "metadata": {},
   "outputs": [
    {
     "data": {
      "text/html": [
       "<div>\n",
       "<style scoped>\n",
       "    .dataframe tbody tr th:only-of-type {\n",
       "        vertical-align: middle;\n",
       "    }\n",
       "\n",
       "    .dataframe tbody tr th {\n",
       "        vertical-align: top;\n",
       "    }\n",
       "\n",
       "    .dataframe thead th {\n",
       "        text-align: right;\n",
       "    }\n",
       "</style>\n",
       "<table border=\"1\" class=\"dataframe\">\n",
       "  <thead>\n",
       "    <tr style=\"text-align: right;\">\n",
       "      <th></th>\n",
       "      <th>Local_Hour</th>\n",
       "      <th>Count</th>\n",
       "      <th>WPM</th>\n",
       "    </tr>\n",
       "  </thead>\n",
       "  <tbody>\n",
       "    <tr>\n",
       "      <th>0</th>\n",
       "      <td>0</td>\n",
       "      <td>79</td>\n",
       "      <td>138.946476</td>\n",
       "    </tr>\n",
       "    <tr>\n",
       "      <th>1</th>\n",
       "      <td>1</td>\n",
       "      <td>17</td>\n",
       "      <td>133.438729</td>\n",
       "    </tr>\n",
       "    <tr>\n",
       "      <th>2</th>\n",
       "      <td>18</td>\n",
       "      <td>39</td>\n",
       "      <td>138.736296</td>\n",
       "    </tr>\n",
       "    <tr>\n",
       "      <th>3</th>\n",
       "      <td>19</td>\n",
       "      <td>192</td>\n",
       "      <td>134.519461</td>\n",
       "    </tr>\n",
       "    <tr>\n",
       "      <th>4</th>\n",
       "      <td>20</td>\n",
       "      <td>6</td>\n",
       "      <td>116.627468</td>\n",
       "    </tr>\n",
       "    <tr>\n",
       "      <th>5</th>\n",
       "      <td>21</td>\n",
       "      <td>16</td>\n",
       "      <td>135.802421</td>\n",
       "    </tr>\n",
       "    <tr>\n",
       "      <th>6</th>\n",
       "      <td>22</td>\n",
       "      <td>46</td>\n",
       "      <td>145.962938</td>\n",
       "    </tr>\n",
       "    <tr>\n",
       "      <th>7</th>\n",
       "      <td>23</td>\n",
       "      <td>66</td>\n",
       "      <td>126.235594</td>\n",
       "    </tr>\n",
       "  </tbody>\n",
       "</table>\n",
       "</div>"
      ],
      "text/plain": [
       "   Local_Hour  Count         WPM\n",
       "0           0     79  138.946476\n",
       "1           1     17  133.438729\n",
       "2          18     39  138.736296\n",
       "3          19    192  134.519461\n",
       "4          20      6  116.627468\n",
       "5          21     16  135.802421\n",
       "6          22     46  145.962938\n",
       "7          23     66  126.235594"
      ]
     },
     "execution_count": 54,
     "metadata": {},
     "output_type": "execute_result"
    }
   ],
   "source": [
    "df_results_by_hour = df_results.pivot_table(index = ['Local_Hour'], \n",
    "values = ['Count', 'WPM'], aggfunc = {'Count':'sum', 'WPM':'mean'}).reset_index()\n",
    "df_results_by_hour"
   ]
  },
  {
   "cell_type": "code",
   "execution_count": 55,
   "metadata": {},
   "outputs": [
    {
     "data": {
      "application/vnd.plotly.v1+json": {
       "config": {
        "plotlyServerURL": "https://plot.ly"
       },
       "data": [
        {
         "alignmentgroup": "True",
         "hovertemplate": "Local_Hour=%{x}<br>WPM=%{y}<br>Count=%{marker.color}<extra></extra>",
         "legendgroup": "",
         "marker": {
          "color": [
           79,
           17,
           39,
           192,
           6,
           16,
           46,
           66
          ],
          "coloraxis": "coloraxis",
          "pattern": {
           "shape": ""
          }
         },
         "name": "",
         "offsetgroup": "",
         "orientation": "v",
         "showlegend": false,
         "textposition": "auto",
         "type": "bar",
         "x": [
          0,
          1,
          18,
          19,
          20,
          21,
          22,
          23
         ],
         "xaxis": "x",
         "y": [
          138.94647554725378,
          133.43872871404506,
          138.73629608838436,
          134.51946143302084,
          116.62746804569446,
          135.802420781875,
          145.96293781983928,
          126.23559423212362
         ],
         "yaxis": "y"
        }
       ],
       "layout": {
        "barmode": "relative",
        "coloraxis": {
         "colorbar": {
          "title": {
           "text": "Count"
          }
         },
         "colorscale": [
          [
           0,
           "#0d0887"
          ],
          [
           0.1111111111111111,
           "#46039f"
          ],
          [
           0.2222222222222222,
           "#7201a8"
          ],
          [
           0.3333333333333333,
           "#9c179e"
          ],
          [
           0.4444444444444444,
           "#bd3786"
          ],
          [
           0.5555555555555556,
           "#d8576b"
          ],
          [
           0.6666666666666666,
           "#ed7953"
          ],
          [
           0.7777777777777778,
           "#fb9f3a"
          ],
          [
           0.8888888888888888,
           "#fdca26"
          ],
          [
           1,
           "#f0f921"
          ]
         ]
        },
        "legend": {
         "tracegroupgap": 0
        },
        "margin": {
         "t": 60
        },
        "template": {
         "data": {
          "bar": [
           {
            "error_x": {
             "color": "#2a3f5f"
            },
            "error_y": {
             "color": "#2a3f5f"
            },
            "marker": {
             "line": {
              "color": "#E5ECF6",
              "width": 0.5
             },
             "pattern": {
              "fillmode": "overlay",
              "size": 10,
              "solidity": 0.2
             }
            },
            "type": "bar"
           }
          ],
          "barpolar": [
           {
            "marker": {
             "line": {
              "color": "#E5ECF6",
              "width": 0.5
             },
             "pattern": {
              "fillmode": "overlay",
              "size": 10,
              "solidity": 0.2
             }
            },
            "type": "barpolar"
           }
          ],
          "carpet": [
           {
            "aaxis": {
             "endlinecolor": "#2a3f5f",
             "gridcolor": "white",
             "linecolor": "white",
             "minorgridcolor": "white",
             "startlinecolor": "#2a3f5f"
            },
            "baxis": {
             "endlinecolor": "#2a3f5f",
             "gridcolor": "white",
             "linecolor": "white",
             "minorgridcolor": "white",
             "startlinecolor": "#2a3f5f"
            },
            "type": "carpet"
           }
          ],
          "choropleth": [
           {
            "colorbar": {
             "outlinewidth": 0,
             "ticks": ""
            },
            "type": "choropleth"
           }
          ],
          "contour": [
           {
            "colorbar": {
             "outlinewidth": 0,
             "ticks": ""
            },
            "colorscale": [
             [
              0,
              "#0d0887"
             ],
             [
              0.1111111111111111,
              "#46039f"
             ],
             [
              0.2222222222222222,
              "#7201a8"
             ],
             [
              0.3333333333333333,
              "#9c179e"
             ],
             [
              0.4444444444444444,
              "#bd3786"
             ],
             [
              0.5555555555555556,
              "#d8576b"
             ],
             [
              0.6666666666666666,
              "#ed7953"
             ],
             [
              0.7777777777777778,
              "#fb9f3a"
             ],
             [
              0.8888888888888888,
              "#fdca26"
             ],
             [
              1,
              "#f0f921"
             ]
            ],
            "type": "contour"
           }
          ],
          "contourcarpet": [
           {
            "colorbar": {
             "outlinewidth": 0,
             "ticks": ""
            },
            "type": "contourcarpet"
           }
          ],
          "heatmap": [
           {
            "colorbar": {
             "outlinewidth": 0,
             "ticks": ""
            },
            "colorscale": [
             [
              0,
              "#0d0887"
             ],
             [
              0.1111111111111111,
              "#46039f"
             ],
             [
              0.2222222222222222,
              "#7201a8"
             ],
             [
              0.3333333333333333,
              "#9c179e"
             ],
             [
              0.4444444444444444,
              "#bd3786"
             ],
             [
              0.5555555555555556,
              "#d8576b"
             ],
             [
              0.6666666666666666,
              "#ed7953"
             ],
             [
              0.7777777777777778,
              "#fb9f3a"
             ],
             [
              0.8888888888888888,
              "#fdca26"
             ],
             [
              1,
              "#f0f921"
             ]
            ],
            "type": "heatmap"
           }
          ],
          "heatmapgl": [
           {
            "colorbar": {
             "outlinewidth": 0,
             "ticks": ""
            },
            "colorscale": [
             [
              0,
              "#0d0887"
             ],
             [
              0.1111111111111111,
              "#46039f"
             ],
             [
              0.2222222222222222,
              "#7201a8"
             ],
             [
              0.3333333333333333,
              "#9c179e"
             ],
             [
              0.4444444444444444,
              "#bd3786"
             ],
             [
              0.5555555555555556,
              "#d8576b"
             ],
             [
              0.6666666666666666,
              "#ed7953"
             ],
             [
              0.7777777777777778,
              "#fb9f3a"
             ],
             [
              0.8888888888888888,
              "#fdca26"
             ],
             [
              1,
              "#f0f921"
             ]
            ],
            "type": "heatmapgl"
           }
          ],
          "histogram": [
           {
            "marker": {
             "pattern": {
              "fillmode": "overlay",
              "size": 10,
              "solidity": 0.2
             }
            },
            "type": "histogram"
           }
          ],
          "histogram2d": [
           {
            "colorbar": {
             "outlinewidth": 0,
             "ticks": ""
            },
            "colorscale": [
             [
              0,
              "#0d0887"
             ],
             [
              0.1111111111111111,
              "#46039f"
             ],
             [
              0.2222222222222222,
              "#7201a8"
             ],
             [
              0.3333333333333333,
              "#9c179e"
             ],
             [
              0.4444444444444444,
              "#bd3786"
             ],
             [
              0.5555555555555556,
              "#d8576b"
             ],
             [
              0.6666666666666666,
              "#ed7953"
             ],
             [
              0.7777777777777778,
              "#fb9f3a"
             ],
             [
              0.8888888888888888,
              "#fdca26"
             ],
             [
              1,
              "#f0f921"
             ]
            ],
            "type": "histogram2d"
           }
          ],
          "histogram2dcontour": [
           {
            "colorbar": {
             "outlinewidth": 0,
             "ticks": ""
            },
            "colorscale": [
             [
              0,
              "#0d0887"
             ],
             [
              0.1111111111111111,
              "#46039f"
             ],
             [
              0.2222222222222222,
              "#7201a8"
             ],
             [
              0.3333333333333333,
              "#9c179e"
             ],
             [
              0.4444444444444444,
              "#bd3786"
             ],
             [
              0.5555555555555556,
              "#d8576b"
             ],
             [
              0.6666666666666666,
              "#ed7953"
             ],
             [
              0.7777777777777778,
              "#fb9f3a"
             ],
             [
              0.8888888888888888,
              "#fdca26"
             ],
             [
              1,
              "#f0f921"
             ]
            ],
            "type": "histogram2dcontour"
           }
          ],
          "mesh3d": [
           {
            "colorbar": {
             "outlinewidth": 0,
             "ticks": ""
            },
            "type": "mesh3d"
           }
          ],
          "parcoords": [
           {
            "line": {
             "colorbar": {
              "outlinewidth": 0,
              "ticks": ""
             }
            },
            "type": "parcoords"
           }
          ],
          "pie": [
           {
            "automargin": true,
            "type": "pie"
           }
          ],
          "scatter": [
           {
            "fillpattern": {
             "fillmode": "overlay",
             "size": 10,
             "solidity": 0.2
            },
            "type": "scatter"
           }
          ],
          "scatter3d": [
           {
            "line": {
             "colorbar": {
              "outlinewidth": 0,
              "ticks": ""
             }
            },
            "marker": {
             "colorbar": {
              "outlinewidth": 0,
              "ticks": ""
             }
            },
            "type": "scatter3d"
           }
          ],
          "scattercarpet": [
           {
            "marker": {
             "colorbar": {
              "outlinewidth": 0,
              "ticks": ""
             }
            },
            "type": "scattercarpet"
           }
          ],
          "scattergeo": [
           {
            "marker": {
             "colorbar": {
              "outlinewidth": 0,
              "ticks": ""
             }
            },
            "type": "scattergeo"
           }
          ],
          "scattergl": [
           {
            "marker": {
             "colorbar": {
              "outlinewidth": 0,
              "ticks": ""
             }
            },
            "type": "scattergl"
           }
          ],
          "scattermapbox": [
           {
            "marker": {
             "colorbar": {
              "outlinewidth": 0,
              "ticks": ""
             }
            },
            "type": "scattermapbox"
           }
          ],
          "scatterpolar": [
           {
            "marker": {
             "colorbar": {
              "outlinewidth": 0,
              "ticks": ""
             }
            },
            "type": "scatterpolar"
           }
          ],
          "scatterpolargl": [
           {
            "marker": {
             "colorbar": {
              "outlinewidth": 0,
              "ticks": ""
             }
            },
            "type": "scatterpolargl"
           }
          ],
          "scatterternary": [
           {
            "marker": {
             "colorbar": {
              "outlinewidth": 0,
              "ticks": ""
             }
            },
            "type": "scatterternary"
           }
          ],
          "surface": [
           {
            "colorbar": {
             "outlinewidth": 0,
             "ticks": ""
            },
            "colorscale": [
             [
              0,
              "#0d0887"
             ],
             [
              0.1111111111111111,
              "#46039f"
             ],
             [
              0.2222222222222222,
              "#7201a8"
             ],
             [
              0.3333333333333333,
              "#9c179e"
             ],
             [
              0.4444444444444444,
              "#bd3786"
             ],
             [
              0.5555555555555556,
              "#d8576b"
             ],
             [
              0.6666666666666666,
              "#ed7953"
             ],
             [
              0.7777777777777778,
              "#fb9f3a"
             ],
             [
              0.8888888888888888,
              "#fdca26"
             ],
             [
              1,
              "#f0f921"
             ]
            ],
            "type": "surface"
           }
          ],
          "table": [
           {
            "cells": {
             "fill": {
              "color": "#EBF0F8"
             },
             "line": {
              "color": "white"
             }
            },
            "header": {
             "fill": {
              "color": "#C8D4E3"
             },
             "line": {
              "color": "white"
             }
            },
            "type": "table"
           }
          ]
         },
         "layout": {
          "annotationdefaults": {
           "arrowcolor": "#2a3f5f",
           "arrowhead": 0,
           "arrowwidth": 1
          },
          "autotypenumbers": "strict",
          "coloraxis": {
           "colorbar": {
            "outlinewidth": 0,
            "ticks": ""
           }
          },
          "colorscale": {
           "diverging": [
            [
             0,
             "#8e0152"
            ],
            [
             0.1,
             "#c51b7d"
            ],
            [
             0.2,
             "#de77ae"
            ],
            [
             0.3,
             "#f1b6da"
            ],
            [
             0.4,
             "#fde0ef"
            ],
            [
             0.5,
             "#f7f7f7"
            ],
            [
             0.6,
             "#e6f5d0"
            ],
            [
             0.7,
             "#b8e186"
            ],
            [
             0.8,
             "#7fbc41"
            ],
            [
             0.9,
             "#4d9221"
            ],
            [
             1,
             "#276419"
            ]
           ],
           "sequential": [
            [
             0,
             "#0d0887"
            ],
            [
             0.1111111111111111,
             "#46039f"
            ],
            [
             0.2222222222222222,
             "#7201a8"
            ],
            [
             0.3333333333333333,
             "#9c179e"
            ],
            [
             0.4444444444444444,
             "#bd3786"
            ],
            [
             0.5555555555555556,
             "#d8576b"
            ],
            [
             0.6666666666666666,
             "#ed7953"
            ],
            [
             0.7777777777777778,
             "#fb9f3a"
            ],
            [
             0.8888888888888888,
             "#fdca26"
            ],
            [
             1,
             "#f0f921"
            ]
           ],
           "sequentialminus": [
            [
             0,
             "#0d0887"
            ],
            [
             0.1111111111111111,
             "#46039f"
            ],
            [
             0.2222222222222222,
             "#7201a8"
            ],
            [
             0.3333333333333333,
             "#9c179e"
            ],
            [
             0.4444444444444444,
             "#bd3786"
            ],
            [
             0.5555555555555556,
             "#d8576b"
            ],
            [
             0.6666666666666666,
             "#ed7953"
            ],
            [
             0.7777777777777778,
             "#fb9f3a"
            ],
            [
             0.8888888888888888,
             "#fdca26"
            ],
            [
             1,
             "#f0f921"
            ]
           ]
          },
          "colorway": [
           "#636efa",
           "#EF553B",
           "#00cc96",
           "#ab63fa",
           "#FFA15A",
           "#19d3f3",
           "#FF6692",
           "#B6E880",
           "#FF97FF",
           "#FECB52"
          ],
          "font": {
           "color": "#2a3f5f"
          },
          "geo": {
           "bgcolor": "white",
           "lakecolor": "white",
           "landcolor": "#E5ECF6",
           "showlakes": true,
           "showland": true,
           "subunitcolor": "white"
          },
          "hoverlabel": {
           "align": "left"
          },
          "hovermode": "closest",
          "mapbox": {
           "style": "light"
          },
          "paper_bgcolor": "white",
          "plot_bgcolor": "#E5ECF6",
          "polar": {
           "angularaxis": {
            "gridcolor": "white",
            "linecolor": "white",
            "ticks": ""
           },
           "bgcolor": "#E5ECF6",
           "radialaxis": {
            "gridcolor": "white",
            "linecolor": "white",
            "ticks": ""
           }
          },
          "scene": {
           "xaxis": {
            "backgroundcolor": "#E5ECF6",
            "gridcolor": "white",
            "gridwidth": 2,
            "linecolor": "white",
            "showbackground": true,
            "ticks": "",
            "zerolinecolor": "white"
           },
           "yaxis": {
            "backgroundcolor": "#E5ECF6",
            "gridcolor": "white",
            "gridwidth": 2,
            "linecolor": "white",
            "showbackground": true,
            "ticks": "",
            "zerolinecolor": "white"
           },
           "zaxis": {
            "backgroundcolor": "#E5ECF6",
            "gridcolor": "white",
            "gridwidth": 2,
            "linecolor": "white",
            "showbackground": true,
            "ticks": "",
            "zerolinecolor": "white"
           }
          },
          "shapedefaults": {
           "line": {
            "color": "#2a3f5f"
           }
          },
          "ternary": {
           "aaxis": {
            "gridcolor": "white",
            "linecolor": "white",
            "ticks": ""
           },
           "baxis": {
            "gridcolor": "white",
            "linecolor": "white",
            "ticks": ""
           },
           "bgcolor": "#E5ECF6",
           "caxis": {
            "gridcolor": "white",
            "linecolor": "white",
            "ticks": ""
           }
          },
          "title": {
           "x": 0.05
          },
          "xaxis": {
           "automargin": true,
           "gridcolor": "white",
           "linecolor": "white",
           "ticks": "",
           "title": {
            "standoff": 15
           },
           "zerolinecolor": "white",
           "zerolinewidth": 2
          },
          "yaxis": {
           "automargin": true,
           "gridcolor": "white",
           "linecolor": "white",
           "ticks": "",
           "title": {
            "standoff": 15
           },
           "zerolinecolor": "white",
           "zerolinewidth": 2
          }
         }
        },
        "xaxis": {
         "anchor": "y",
         "domain": [
          0,
          1
         ],
         "title": {
          "text": "Local_Hour"
         }
        },
        "yaxis": {
         "anchor": "x",
         "domain": [
          0,
          1
         ],
         "title": {
          "text": "WPM"
         }
        }
       }
      }
     },
     "metadata": {},
     "output_type": "display_data"
    }
   ],
   "source": [
    "fig_results_by_hour = px.bar(df_results_by_hour, x = 'Local_Hour', \n",
    "y = 'WPM', color = 'Count')\n",
    "fig_results_by_hour.write_html('Analyses/results_by_hour.html')\n",
    "fig_results_by_hour.write_image('Analyses/results_by_hour.png', \n",
    "width = 1920, height = 1080, engine = 'kaleido', scale = 2)\n",
    "fig_results_by_hour"
   ]
  },
  {
   "cell_type": "markdown",
   "metadata": {},
   "source": [
    "# Comparing mean WPMs by Bible books:"
   ]
  },
  {
   "cell_type": "code",
   "execution_count": 56,
   "metadata": {},
   "outputs": [
    {
     "data": {
      "text/html": [
       "<div>\n",
       "<style scoped>\n",
       "    .dataframe tbody tr th:only-of-type {\n",
       "        vertical-align: middle;\n",
       "    }\n",
       "\n",
       "    .dataframe tbody tr th {\n",
       "        vertical-align: top;\n",
       "    }\n",
       "\n",
       "    .dataframe thead th {\n",
       "        text-align: right;\n",
       "    }\n",
       "</style>\n",
       "<table border=\"1\" class=\"dataframe\">\n",
       "  <thead>\n",
       "    <tr style=\"text-align: right;\">\n",
       "      <th></th>\n",
       "      <th>Book</th>\n",
       "      <th>Tests</th>\n",
       "      <th>Mean WPM</th>\n",
       "    </tr>\n",
       "  </thead>\n",
       "  <tbody>\n",
       "    <tr>\n",
       "      <th>0</th>\n",
       "      <td>REV</td>\n",
       "      <td>1</td>\n",
       "      <td>161.093106</td>\n",
       "    </tr>\n",
       "    <tr>\n",
       "      <th>1</th>\n",
       "      <td>2JN</td>\n",
       "      <td>4</td>\n",
       "      <td>151.783862</td>\n",
       "    </tr>\n",
       "    <tr>\n",
       "      <th>2</th>\n",
       "      <td>JUD</td>\n",
       "      <td>1</td>\n",
       "      <td>148.672335</td>\n",
       "    </tr>\n",
       "    <tr>\n",
       "      <th>3</th>\n",
       "      <td>3JN</td>\n",
       "      <td>15</td>\n",
       "      <td>147.630110</td>\n",
       "    </tr>\n",
       "    <tr>\n",
       "      <th>4</th>\n",
       "      <td>SNG</td>\n",
       "      <td>3</td>\n",
       "      <td>144.084300</td>\n",
       "    </tr>\n",
       "    <tr>\n",
       "      <th>5</th>\n",
       "      <td>2KI</td>\n",
       "      <td>1</td>\n",
       "      <td>143.531468</td>\n",
       "    </tr>\n",
       "    <tr>\n",
       "      <th>6</th>\n",
       "      <td>1JN</td>\n",
       "      <td>105</td>\n",
       "      <td>138.061187</td>\n",
       "    </tr>\n",
       "    <tr>\n",
       "      <th>7</th>\n",
       "      <td>Total</td>\n",
       "      <td>461</td>\n",
       "      <td>135.362538</td>\n",
       "    </tr>\n",
       "    <tr>\n",
       "      <th>8</th>\n",
       "      <td>GEN</td>\n",
       "      <td>325</td>\n",
       "      <td>134.003192</td>\n",
       "    </tr>\n",
       "    <tr>\n",
       "      <th>9</th>\n",
       "      <td>NUM</td>\n",
       "      <td>2</td>\n",
       "      <td>123.507441</td>\n",
       "    </tr>\n",
       "    <tr>\n",
       "      <th>10</th>\n",
       "      <td>JDG</td>\n",
       "      <td>1</td>\n",
       "      <td>121.574918</td>\n",
       "    </tr>\n",
       "    <tr>\n",
       "      <th>11</th>\n",
       "      <td>EXO</td>\n",
       "      <td>3</td>\n",
       "      <td>92.980366</td>\n",
       "    </tr>\n",
       "  </tbody>\n",
       "</table>\n",
       "</div>"
      ],
      "text/plain": [
       "     Book  Tests    Mean WPM\n",
       "0     REV      1  161.093106\n",
       "1     2JN      4  151.783862\n",
       "2     JUD      1  148.672335\n",
       "3     3JN     15  147.630110\n",
       "4     SNG      3  144.084300\n",
       "5     2KI      1  143.531468\n",
       "6     1JN    105  138.061187\n",
       "7   Total    461  135.362538\n",
       "8     GEN    325  134.003192\n",
       "9     NUM      2  123.507441\n",
       "10    JDG      1  121.574918\n",
       "11    EXO      3   92.980366"
      ]
     },
     "execution_count": 56,
     "metadata": {},
     "output_type": "execute_result"
    }
   ],
   "source": [
    "df_wpm_by_book = df_results.pivot_table(index = 'Book', values = 'WPM', \n",
    "aggfunc = ['count', 'mean'], margins = True, \n",
    "margins_name = 'Total').reset_index()\n",
    "df_wpm_by_book.columns = 'Book', 'Tests', 'Mean WPM'\n",
    "df_wpm_by_book.sort_values('Mean WPM', ascending = False, inplace = True)\n",
    "df_wpm_by_book.reset_index(drop=True,inplace=True)\n",
    "df_wpm_by_book.to_csv('Analyses/mean_wpm_by_book.csv')\n",
    "\n",
    "df_wpm_by_book\n"
   ]
  },
  {
   "cell_type": "code",
   "execution_count": 57,
   "metadata": {},
   "outputs": [
    {
     "data": {
      "application/vnd.plotly.v1+json": {
       "config": {
        "plotlyServerURL": "https://plot.ly"
       },
       "data": [
        {
         "alignmentgroup": "True",
         "hovertemplate": "Book=%{x}<br>Mean WPM=%{y}<br>Tests=%{marker.color}<extra></extra>",
         "legendgroup": "",
         "marker": {
          "color": [
           1,
           4,
           1,
           15,
           3,
           1,
           105,
           325,
           2,
           1,
           3
          ],
          "coloraxis": "coloraxis",
          "pattern": {
           "shape": ""
          }
         },
         "name": "",
         "offsetgroup": "",
         "orientation": "v",
         "showlegend": false,
         "textposition": "auto",
         "type": "bar",
         "x": [
          "REV",
          "2JN",
          "JUD",
          "3JN",
          "SNG",
          "2KI",
          "1JN",
          "GEN",
          "NUM",
          "JDG",
          "EXO"
         ],
         "xaxis": "x",
         "y": [
          161.0931056,
          151.78386175,
          148.6723345,
          147.63010963999997,
          144.08430025964364,
          143.5314685,
          138.06118732866665,
          134.00319239842094,
          123.5074412,
          121.5749177,
          92.98036623333333
         ],
         "yaxis": "y"
        }
       ],
       "layout": {
        "barmode": "relative",
        "coloraxis": {
         "colorbar": {
          "title": {
           "text": "Tests"
          }
         },
         "colorscale": [
          [
           0,
           "#0d0887"
          ],
          [
           0.1111111111111111,
           "#46039f"
          ],
          [
           0.2222222222222222,
           "#7201a8"
          ],
          [
           0.3333333333333333,
           "#9c179e"
          ],
          [
           0.4444444444444444,
           "#bd3786"
          ],
          [
           0.5555555555555556,
           "#d8576b"
          ],
          [
           0.6666666666666666,
           "#ed7953"
          ],
          [
           0.7777777777777778,
           "#fb9f3a"
          ],
          [
           0.8888888888888888,
           "#fdca26"
          ],
          [
           1,
           "#f0f921"
          ]
         ]
        },
        "legend": {
         "tracegroupgap": 0
        },
        "margin": {
         "t": 60
        },
        "shapes": [
         {
          "type": "line",
          "x0": -0.5,
          "x1": 10.5,
          "y0": 135.3625379582988,
          "y1": 135.3625379582988
         }
        ],
        "template": {
         "data": {
          "bar": [
           {
            "error_x": {
             "color": "#2a3f5f"
            },
            "error_y": {
             "color": "#2a3f5f"
            },
            "marker": {
             "line": {
              "color": "#E5ECF6",
              "width": 0.5
             },
             "pattern": {
              "fillmode": "overlay",
              "size": 10,
              "solidity": 0.2
             }
            },
            "type": "bar"
           }
          ],
          "barpolar": [
           {
            "marker": {
             "line": {
              "color": "#E5ECF6",
              "width": 0.5
             },
             "pattern": {
              "fillmode": "overlay",
              "size": 10,
              "solidity": 0.2
             }
            },
            "type": "barpolar"
           }
          ],
          "carpet": [
           {
            "aaxis": {
             "endlinecolor": "#2a3f5f",
             "gridcolor": "white",
             "linecolor": "white",
             "minorgridcolor": "white",
             "startlinecolor": "#2a3f5f"
            },
            "baxis": {
             "endlinecolor": "#2a3f5f",
             "gridcolor": "white",
             "linecolor": "white",
             "minorgridcolor": "white",
             "startlinecolor": "#2a3f5f"
            },
            "type": "carpet"
           }
          ],
          "choropleth": [
           {
            "colorbar": {
             "outlinewidth": 0,
             "ticks": ""
            },
            "type": "choropleth"
           }
          ],
          "contour": [
           {
            "colorbar": {
             "outlinewidth": 0,
             "ticks": ""
            },
            "colorscale": [
             [
              0,
              "#0d0887"
             ],
             [
              0.1111111111111111,
              "#46039f"
             ],
             [
              0.2222222222222222,
              "#7201a8"
             ],
             [
              0.3333333333333333,
              "#9c179e"
             ],
             [
              0.4444444444444444,
              "#bd3786"
             ],
             [
              0.5555555555555556,
              "#d8576b"
             ],
             [
              0.6666666666666666,
              "#ed7953"
             ],
             [
              0.7777777777777778,
              "#fb9f3a"
             ],
             [
              0.8888888888888888,
              "#fdca26"
             ],
             [
              1,
              "#f0f921"
             ]
            ],
            "type": "contour"
           }
          ],
          "contourcarpet": [
           {
            "colorbar": {
             "outlinewidth": 0,
             "ticks": ""
            },
            "type": "contourcarpet"
           }
          ],
          "heatmap": [
           {
            "colorbar": {
             "outlinewidth": 0,
             "ticks": ""
            },
            "colorscale": [
             [
              0,
              "#0d0887"
             ],
             [
              0.1111111111111111,
              "#46039f"
             ],
             [
              0.2222222222222222,
              "#7201a8"
             ],
             [
              0.3333333333333333,
              "#9c179e"
             ],
             [
              0.4444444444444444,
              "#bd3786"
             ],
             [
              0.5555555555555556,
              "#d8576b"
             ],
             [
              0.6666666666666666,
              "#ed7953"
             ],
             [
              0.7777777777777778,
              "#fb9f3a"
             ],
             [
              0.8888888888888888,
              "#fdca26"
             ],
             [
              1,
              "#f0f921"
             ]
            ],
            "type": "heatmap"
           }
          ],
          "heatmapgl": [
           {
            "colorbar": {
             "outlinewidth": 0,
             "ticks": ""
            },
            "colorscale": [
             [
              0,
              "#0d0887"
             ],
             [
              0.1111111111111111,
              "#46039f"
             ],
             [
              0.2222222222222222,
              "#7201a8"
             ],
             [
              0.3333333333333333,
              "#9c179e"
             ],
             [
              0.4444444444444444,
              "#bd3786"
             ],
             [
              0.5555555555555556,
              "#d8576b"
             ],
             [
              0.6666666666666666,
              "#ed7953"
             ],
             [
              0.7777777777777778,
              "#fb9f3a"
             ],
             [
              0.8888888888888888,
              "#fdca26"
             ],
             [
              1,
              "#f0f921"
             ]
            ],
            "type": "heatmapgl"
           }
          ],
          "histogram": [
           {
            "marker": {
             "pattern": {
              "fillmode": "overlay",
              "size": 10,
              "solidity": 0.2
             }
            },
            "type": "histogram"
           }
          ],
          "histogram2d": [
           {
            "colorbar": {
             "outlinewidth": 0,
             "ticks": ""
            },
            "colorscale": [
             [
              0,
              "#0d0887"
             ],
             [
              0.1111111111111111,
              "#46039f"
             ],
             [
              0.2222222222222222,
              "#7201a8"
             ],
             [
              0.3333333333333333,
              "#9c179e"
             ],
             [
              0.4444444444444444,
              "#bd3786"
             ],
             [
              0.5555555555555556,
              "#d8576b"
             ],
             [
              0.6666666666666666,
              "#ed7953"
             ],
             [
              0.7777777777777778,
              "#fb9f3a"
             ],
             [
              0.8888888888888888,
              "#fdca26"
             ],
             [
              1,
              "#f0f921"
             ]
            ],
            "type": "histogram2d"
           }
          ],
          "histogram2dcontour": [
           {
            "colorbar": {
             "outlinewidth": 0,
             "ticks": ""
            },
            "colorscale": [
             [
              0,
              "#0d0887"
             ],
             [
              0.1111111111111111,
              "#46039f"
             ],
             [
              0.2222222222222222,
              "#7201a8"
             ],
             [
              0.3333333333333333,
              "#9c179e"
             ],
             [
              0.4444444444444444,
              "#bd3786"
             ],
             [
              0.5555555555555556,
              "#d8576b"
             ],
             [
              0.6666666666666666,
              "#ed7953"
             ],
             [
              0.7777777777777778,
              "#fb9f3a"
             ],
             [
              0.8888888888888888,
              "#fdca26"
             ],
             [
              1,
              "#f0f921"
             ]
            ],
            "type": "histogram2dcontour"
           }
          ],
          "mesh3d": [
           {
            "colorbar": {
             "outlinewidth": 0,
             "ticks": ""
            },
            "type": "mesh3d"
           }
          ],
          "parcoords": [
           {
            "line": {
             "colorbar": {
              "outlinewidth": 0,
              "ticks": ""
             }
            },
            "type": "parcoords"
           }
          ],
          "pie": [
           {
            "automargin": true,
            "type": "pie"
           }
          ],
          "scatter": [
           {
            "fillpattern": {
             "fillmode": "overlay",
             "size": 10,
             "solidity": 0.2
            },
            "type": "scatter"
           }
          ],
          "scatter3d": [
           {
            "line": {
             "colorbar": {
              "outlinewidth": 0,
              "ticks": ""
             }
            },
            "marker": {
             "colorbar": {
              "outlinewidth": 0,
              "ticks": ""
             }
            },
            "type": "scatter3d"
           }
          ],
          "scattercarpet": [
           {
            "marker": {
             "colorbar": {
              "outlinewidth": 0,
              "ticks": ""
             }
            },
            "type": "scattercarpet"
           }
          ],
          "scattergeo": [
           {
            "marker": {
             "colorbar": {
              "outlinewidth": 0,
              "ticks": ""
             }
            },
            "type": "scattergeo"
           }
          ],
          "scattergl": [
           {
            "marker": {
             "colorbar": {
              "outlinewidth": 0,
              "ticks": ""
             }
            },
            "type": "scattergl"
           }
          ],
          "scattermapbox": [
           {
            "marker": {
             "colorbar": {
              "outlinewidth": 0,
              "ticks": ""
             }
            },
            "type": "scattermapbox"
           }
          ],
          "scatterpolar": [
           {
            "marker": {
             "colorbar": {
              "outlinewidth": 0,
              "ticks": ""
             }
            },
            "type": "scatterpolar"
           }
          ],
          "scatterpolargl": [
           {
            "marker": {
             "colorbar": {
              "outlinewidth": 0,
              "ticks": ""
             }
            },
            "type": "scatterpolargl"
           }
          ],
          "scatterternary": [
           {
            "marker": {
             "colorbar": {
              "outlinewidth": 0,
              "ticks": ""
             }
            },
            "type": "scatterternary"
           }
          ],
          "surface": [
           {
            "colorbar": {
             "outlinewidth": 0,
             "ticks": ""
            },
            "colorscale": [
             [
              0,
              "#0d0887"
             ],
             [
              0.1111111111111111,
              "#46039f"
             ],
             [
              0.2222222222222222,
              "#7201a8"
             ],
             [
              0.3333333333333333,
              "#9c179e"
             ],
             [
              0.4444444444444444,
              "#bd3786"
             ],
             [
              0.5555555555555556,
              "#d8576b"
             ],
             [
              0.6666666666666666,
              "#ed7953"
             ],
             [
              0.7777777777777778,
              "#fb9f3a"
             ],
             [
              0.8888888888888888,
              "#fdca26"
             ],
             [
              1,
              "#f0f921"
             ]
            ],
            "type": "surface"
           }
          ],
          "table": [
           {
            "cells": {
             "fill": {
              "color": "#EBF0F8"
             },
             "line": {
              "color": "white"
             }
            },
            "header": {
             "fill": {
              "color": "#C8D4E3"
             },
             "line": {
              "color": "white"
             }
            },
            "type": "table"
           }
          ]
         },
         "layout": {
          "annotationdefaults": {
           "arrowcolor": "#2a3f5f",
           "arrowhead": 0,
           "arrowwidth": 1
          },
          "autotypenumbers": "strict",
          "coloraxis": {
           "colorbar": {
            "outlinewidth": 0,
            "ticks": ""
           }
          },
          "colorscale": {
           "diverging": [
            [
             0,
             "#8e0152"
            ],
            [
             0.1,
             "#c51b7d"
            ],
            [
             0.2,
             "#de77ae"
            ],
            [
             0.3,
             "#f1b6da"
            ],
            [
             0.4,
             "#fde0ef"
            ],
            [
             0.5,
             "#f7f7f7"
            ],
            [
             0.6,
             "#e6f5d0"
            ],
            [
             0.7,
             "#b8e186"
            ],
            [
             0.8,
             "#7fbc41"
            ],
            [
             0.9,
             "#4d9221"
            ],
            [
             1,
             "#276419"
            ]
           ],
           "sequential": [
            [
             0,
             "#0d0887"
            ],
            [
             0.1111111111111111,
             "#46039f"
            ],
            [
             0.2222222222222222,
             "#7201a8"
            ],
            [
             0.3333333333333333,
             "#9c179e"
            ],
            [
             0.4444444444444444,
             "#bd3786"
            ],
            [
             0.5555555555555556,
             "#d8576b"
            ],
            [
             0.6666666666666666,
             "#ed7953"
            ],
            [
             0.7777777777777778,
             "#fb9f3a"
            ],
            [
             0.8888888888888888,
             "#fdca26"
            ],
            [
             1,
             "#f0f921"
            ]
           ],
           "sequentialminus": [
            [
             0,
             "#0d0887"
            ],
            [
             0.1111111111111111,
             "#46039f"
            ],
            [
             0.2222222222222222,
             "#7201a8"
            ],
            [
             0.3333333333333333,
             "#9c179e"
            ],
            [
             0.4444444444444444,
             "#bd3786"
            ],
            [
             0.5555555555555556,
             "#d8576b"
            ],
            [
             0.6666666666666666,
             "#ed7953"
            ],
            [
             0.7777777777777778,
             "#fb9f3a"
            ],
            [
             0.8888888888888888,
             "#fdca26"
            ],
            [
             1,
             "#f0f921"
            ]
           ]
          },
          "colorway": [
           "#636efa",
           "#EF553B",
           "#00cc96",
           "#ab63fa",
           "#FFA15A",
           "#19d3f3",
           "#FF6692",
           "#B6E880",
           "#FF97FF",
           "#FECB52"
          ],
          "font": {
           "color": "#2a3f5f"
          },
          "geo": {
           "bgcolor": "white",
           "lakecolor": "white",
           "landcolor": "#E5ECF6",
           "showlakes": true,
           "showland": true,
           "subunitcolor": "white"
          },
          "hoverlabel": {
           "align": "left"
          },
          "hovermode": "closest",
          "mapbox": {
           "style": "light"
          },
          "paper_bgcolor": "white",
          "plot_bgcolor": "#E5ECF6",
          "polar": {
           "angularaxis": {
            "gridcolor": "white",
            "linecolor": "white",
            "ticks": ""
           },
           "bgcolor": "#E5ECF6",
           "radialaxis": {
            "gridcolor": "white",
            "linecolor": "white",
            "ticks": ""
           }
          },
          "scene": {
           "xaxis": {
            "backgroundcolor": "#E5ECF6",
            "gridcolor": "white",
            "gridwidth": 2,
            "linecolor": "white",
            "showbackground": true,
            "ticks": "",
            "zerolinecolor": "white"
           },
           "yaxis": {
            "backgroundcolor": "#E5ECF6",
            "gridcolor": "white",
            "gridwidth": 2,
            "linecolor": "white",
            "showbackground": true,
            "ticks": "",
            "zerolinecolor": "white"
           },
           "zaxis": {
            "backgroundcolor": "#E5ECF6",
            "gridcolor": "white",
            "gridwidth": 2,
            "linecolor": "white",
            "showbackground": true,
            "ticks": "",
            "zerolinecolor": "white"
           }
          },
          "shapedefaults": {
           "line": {
            "color": "#2a3f5f"
           }
          },
          "ternary": {
           "aaxis": {
            "gridcolor": "white",
            "linecolor": "white",
            "ticks": ""
           },
           "baxis": {
            "gridcolor": "white",
            "linecolor": "white",
            "ticks": ""
           },
           "bgcolor": "#E5ECF6",
           "caxis": {
            "gridcolor": "white",
            "linecolor": "white",
            "ticks": ""
           }
          },
          "title": {
           "x": 0.05
          },
          "xaxis": {
           "automargin": true,
           "gridcolor": "white",
           "linecolor": "white",
           "ticks": "",
           "title": {
            "standoff": 15
           },
           "zerolinecolor": "white",
           "zerolinewidth": 2
          },
          "yaxis": {
           "automargin": true,
           "gridcolor": "white",
           "linecolor": "white",
           "ticks": "",
           "title": {
            "standoff": 15
           },
           "zerolinecolor": "white",
           "zerolinewidth": 2
          }
         }
        },
        "xaxis": {
         "anchor": "y",
         "domain": [
          0,
          1
         ],
         "title": {
          "text": "Book"
         }
        },
        "yaxis": {
         "anchor": "x",
         "domain": [
          0,
          1
         ],
         "title": {
          "text": "Mean WPM"
         }
        }
       }
      }
     },
     "metadata": {},
     "output_type": "display_data"
    }
   ],
   "source": [
    "# The following chart will display a bar for each book for which at least one \n",
    "# test has been taken. It will also show a line that corresponds to the player's\n",
    "# overall WPM across all books. The bars are colored by test count, making\n",
    "# it easier to identify which bars might be skewed by a low number of results.\n",
    "# The 'Total' value in df_wpm_by_book is displayed as a line instead of as\n",
    "# a color so as not to interfere with the color gradient.\n",
    "\n",
    "# Retrieving the total mean WPM value in df_wpm_by_book:\n",
    "total_mean_wpm = df_wpm_by_book.query(\"Book == 'Total'\").iloc[0]['Mean WPM']\n",
    "total_mean_wpm\n",
    "\n",
    "fig_mean_wpm_by_book = px.bar(df_wpm_by_book.query(\"Book != 'Total'\"), \n",
    "x = 'Book', y = 'Mean WPM', color = 'Tests')\n",
    "fig_mean_wpm_by_book.add_shape(type = 'line', x0 = -0.5, \n",
    "x1 = len(df_wpm_by_book) -1.5, y0 = total_mean_wpm, y1 = total_mean_wpm)\n",
    "# See https://plotly.com/python/shapes/ for the add_shape() code.\n",
    "# The use of -0.5 and len() - 1.5 is based on gleasocd's answer at \n",
    "# https://stackoverflow.com/a/40408960/13097194 . len(df) - 0.5 would normally\n",
    "# work, except that I reduced the size of the DataFrame by 1 when excluding\n",
    "# the 'Total' book.\n",
    "fig_mean_wpm_by_book.write_html('Analyses/mean_wpm_by_book.html')\n",
    "fig_mean_wpm_by_book.write_image('Analyses/mean_wpm_by_book.png', width = 1920, \n",
    "height = 1080, engine = 'kaleido', scale = 2)\n",
    "fig_mean_wpm_by_book\n"
   ]
  },
  {
   "cell_type": "code",
   "execution_count": 58,
   "metadata": {},
   "outputs": [
    {
     "name": "stdout",
     "output_type": "stream",
     "text": [
      "Finished updating analyses in 17.952 seconds. Enter any key to exit.\n"
     ]
    },
    {
     "data": {
      "text/plain": [
       "''"
      ]
     },
     "execution_count": 58,
     "metadata": {},
     "output_type": "execute_result"
    }
   ],
   "source": [
    "analysis_end_time = time.time()\n",
    "analysis_time = analysis_end_time - analysis_start_time\n",
    "print(f\"Finished updating analyses in {round(analysis_time, 3)} seconds. \\\n",
    "Enter any key to exit.\") # Allows the console to stay open when the\n",
    "# .py version of the program is run\n",
    "\n",
    "input()"
   ]
  }
 ],
 "metadata": {
  "kernelspec": {
   "display_name": "ga15pyd",
   "language": "python",
   "name": "python3"
  },
  "language_info": {
   "codemirror_mode": {
    "name": "ipython",
    "version": 3
   },
   "file_extension": ".py",
   "mimetype": "text/x-python",
   "name": "python",
   "nbconvert_exporter": "python",
   "pygments_lexer": "ipython3",
   "version": "3.10.9"
  }
 },
 "nbformat": 4,
 "nbformat_minor": 2
}
