{
 "cells": [
  {
   "cell_type": "markdown",
   "metadata": {},
   "source": [
    "# Type the Bible\n",
    "\n",
    "By Kenneth Burchfiel\n",
    "\n",
    "Code is released under the MIT license; Bible verses are from the Web English Bible (Catholic Edition)* and are in the public domain\n",
    "\n",
    "\n",
    "* Genesis was not found within the original WEB Catholic Edition folder, so I copied in files from another Web English Bible translation instead. I imagine, but am not certain, that these files are the same as the actual Catholic Edition Genesis files."
   ]
  },
  {
   "cell_type": "code",
   "execution_count": 1,
   "metadata": {},
   "outputs": [],
   "source": [
    "import pandas as pd\n",
    "import time"
   ]
  },
  {
   "cell_type": "markdown",
   "metadata": {},
   "source": [
    "## Very simple typing test:"
   ]
  },
  {
   "cell_type": "code",
   "execution_count": 2,
   "metadata": {},
   "outputs": [
    {
     "data": {
      "text/html": [
       "<div>\n",
       "<style scoped>\n",
       "    .dataframe tbody tr th:only-of-type {\n",
       "        vertical-align: middle;\n",
       "    }\n",
       "\n",
       "    .dataframe tbody tr th {\n",
       "        vertical-align: top;\n",
       "    }\n",
       "\n",
       "    .dataframe thead th {\n",
       "        text-align: right;\n",
       "    }\n",
       "</style>\n",
       "<table border=\"1\" class=\"dataframe\">\n",
       "  <thead>\n",
       "    <tr style=\"text-align: right;\">\n",
       "      <th></th>\n",
       "      <th>Book_Order</th>\n",
       "      <th>Book_Name</th>\n",
       "      <th>Chapter_Name</th>\n",
       "      <th>Verse_#</th>\n",
       "      <th>Verse_Order_Within_Bible</th>\n",
       "      <th>Verse</th>\n",
       "    </tr>\n",
       "  </thead>\n",
       "  <tbody>\n",
       "    <tr>\n",
       "      <th>0</th>\n",
       "      <td>1</td>\n",
       "      <td>GEN</td>\n",
       "      <td>1</td>\n",
       "      <td>1</td>\n",
       "      <td>1</td>\n",
       "      <td>In the beginning, God created the heavens and ...</td>\n",
       "    </tr>\n",
       "    <tr>\n",
       "      <th>1</th>\n",
       "      <td>1</td>\n",
       "      <td>GEN</td>\n",
       "      <td>1</td>\n",
       "      <td>2</td>\n",
       "      <td>2</td>\n",
       "      <td>The earth was formless and empty. Darkness was...</td>\n",
       "    </tr>\n",
       "    <tr>\n",
       "      <th>2</th>\n",
       "      <td>1</td>\n",
       "      <td>GEN</td>\n",
       "      <td>1</td>\n",
       "      <td>3</td>\n",
       "      <td>3</td>\n",
       "      <td>God said, \"Let there be light,\" and there was ...</td>\n",
       "    </tr>\n",
       "    <tr>\n",
       "      <th>3</th>\n",
       "      <td>1</td>\n",
       "      <td>GEN</td>\n",
       "      <td>1</td>\n",
       "      <td>4</td>\n",
       "      <td>4</td>\n",
       "      <td>God saw the light, and saw that it was good. G...</td>\n",
       "    </tr>\n",
       "    <tr>\n",
       "      <th>4</th>\n",
       "      <td>1</td>\n",
       "      <td>GEN</td>\n",
       "      <td>1</td>\n",
       "      <td>5</td>\n",
       "      <td>5</td>\n",
       "      <td>God called the light \"day\", and the darkness h...</td>\n",
       "    </tr>\n",
       "    <tr>\n",
       "      <th>...</th>\n",
       "      <td>...</td>\n",
       "      <td>...</td>\n",
       "      <td>...</td>\n",
       "      <td>...</td>\n",
       "      <td>...</td>\n",
       "      <td>...</td>\n",
       "    </tr>\n",
       "    <tr>\n",
       "      <th>35374</th>\n",
       "      <td>95</td>\n",
       "      <td>REV</td>\n",
       "      <td>22</td>\n",
       "      <td>17</td>\n",
       "      <td>35375</td>\n",
       "      <td>The Spirit and the bride say, \"Come!\" He who h...</td>\n",
       "    </tr>\n",
       "    <tr>\n",
       "      <th>35375</th>\n",
       "      <td>95</td>\n",
       "      <td>REV</td>\n",
       "      <td>22</td>\n",
       "      <td>18</td>\n",
       "      <td>35376</td>\n",
       "      <td>I testify to everyone who hears the words of t...</td>\n",
       "    </tr>\n",
       "    <tr>\n",
       "      <th>35376</th>\n",
       "      <td>95</td>\n",
       "      <td>REV</td>\n",
       "      <td>22</td>\n",
       "      <td>19</td>\n",
       "      <td>35377</td>\n",
       "      <td>If anyone takes away from the words of the boo...</td>\n",
       "    </tr>\n",
       "    <tr>\n",
       "      <th>35377</th>\n",
       "      <td>95</td>\n",
       "      <td>REV</td>\n",
       "      <td>22</td>\n",
       "      <td>20</td>\n",
       "      <td>35378</td>\n",
       "      <td>He who testifies these things says, \"Yes, I am...</td>\n",
       "    </tr>\n",
       "    <tr>\n",
       "      <th>35378</th>\n",
       "      <td>95</td>\n",
       "      <td>REV</td>\n",
       "      <td>22</td>\n",
       "      <td>21</td>\n",
       "      <td>35379</td>\n",
       "      <td>The grace of the Lord Jesus Christ be with all...</td>\n",
       "    </tr>\n",
       "  </tbody>\n",
       "</table>\n",
       "<p>35379 rows × 6 columns</p>\n",
       "</div>"
      ],
      "text/plain": [
       "       Book_Order Book_Name  Chapter_Name  Verse_#  Verse_Order_Within_Bible  \\\n",
       "0               1       GEN             1        1                         1   \n",
       "1               1       GEN             1        2                         2   \n",
       "2               1       GEN             1        3                         3   \n",
       "3               1       GEN             1        4                         4   \n",
       "4               1       GEN             1        5                         5   \n",
       "...           ...       ...           ...      ...                       ...   \n",
       "35374          95       REV            22       17                     35375   \n",
       "35375          95       REV            22       18                     35376   \n",
       "35376          95       REV            22       19                     35377   \n",
       "35377          95       REV            22       20                     35378   \n",
       "35378          95       REV            22       21                     35379   \n",
       "\n",
       "                                                   Verse  \n",
       "0      In the beginning, God created the heavens and ...  \n",
       "1      The earth was formless and empty. Darkness was...  \n",
       "2      God said, \"Let there be light,\" and there was ...  \n",
       "3      God saw the light, and saw that it was good. G...  \n",
       "4      God called the light \"day\", and the darkness h...  \n",
       "...                                                  ...  \n",
       "35374  The Spirit and the bride say, \"Come!\" He who h...  \n",
       "35375  I testify to everyone who hears the words of t...  \n",
       "35376  If anyone takes away from the words of the boo...  \n",
       "35377  He who testifies these things says, \"Yes, I am...  \n",
       "35378  The grace of the Lord Jesus Christ be with all...  \n",
       "\n",
       "[35379 rows x 6 columns]"
      ]
     },
     "execution_count": 2,
     "metadata": {},
     "output_type": "execute_result"
    }
   ],
   "source": [
    "df_Bible = pd.read_csv('WEB_Catholic_Version.csv')\n",
    "df_Bible"
   ]
  },
  {
   "cell_type": "code",
   "execution_count": 13,
   "metadata": {},
   "outputs": [
    {
     "data": {
      "text/html": [
       "<div>\n",
       "<style scoped>\n",
       "    .dataframe tbody tr th:only-of-type {\n",
       "        vertical-align: middle;\n",
       "    }\n",
       "\n",
       "    .dataframe tbody tr th {\n",
       "        vertical-align: top;\n",
       "    }\n",
       "\n",
       "    .dataframe thead th {\n",
       "        text-align: right;\n",
       "    }\n",
       "</style>\n",
       "<table border=\"1\" class=\"dataframe\">\n",
       "  <thead>\n",
       "    <tr style=\"text-align: right;\">\n",
       "      <th></th>\n",
       "      <th>Start_Time</th>\n",
       "      <th>Characters</th>\n",
       "      <th>Seconds</th>\n",
       "      <th>CPS</th>\n",
       "      <th>WPM</th>\n",
       "      <th>Book</th>\n",
       "      <th>Chapter</th>\n",
       "      <th>Verse_Order</th>\n",
       "      <th>Verse</th>\n",
       "    </tr>\n",
       "    <tr>\n",
       "      <th>Test_Number</th>\n",
       "      <th></th>\n",
       "      <th></th>\n",
       "      <th></th>\n",
       "      <th></th>\n",
       "      <th></th>\n",
       "      <th></th>\n",
       "      <th></th>\n",
       "      <th></th>\n",
       "      <th></th>\n",
       "    </tr>\n",
       "  </thead>\n",
       "  <tbody>\n",
       "    <tr>\n",
       "      <th>1</th>\n",
       "      <td>1697169337</td>\n",
       "      <td>56</td>\n",
       "      <td>3.852665</td>\n",
       "      <td>14.535391</td>\n",
       "      <td>174.424697</td>\n",
       "      <td>GEN</td>\n",
       "      <td>1</td>\n",
       "      <td>1</td>\n",
       "      <td>In the beginning, God created the heavens and ...</td>\n",
       "    </tr>\n",
       "  </tbody>\n",
       "</table>\n",
       "</div>"
      ],
      "text/plain": [
       "             Start_Time  Characters   Seconds        CPS         WPM Book  \\\n",
       "Test_Number                                                                 \n",
       "1            1697169337          56  3.852665  14.535391  174.424697  GEN   \n",
       "\n",
       "             Chapter  Verse_Order  \\\n",
       "Test_Number                         \n",
       "1                  1            1   \n",
       "\n",
       "                                                         Verse  \n",
       "Test_Number                                                     \n",
       "1            In the beginning, God created the heavens and ...  "
      ]
     },
     "execution_count": 13,
     "metadata": {},
     "output_type": "execute_result"
    }
   ],
   "source": [
    "df_results = pd.read_csv('results.csv', index_col='Test_Number')\n",
    "df_results"
   ]
  },
  {
   "cell_type": "code",
   "execution_count": null,
   "metadata": {},
   "outputs": [],
   "source": [
    "verse_number = 1"
   ]
  },
  {
   "cell_type": "code",
   "execution_count": null,
   "metadata": {},
   "outputs": [],
   "source": [
    "verse = df_Bible.iloc[1]['Verse']\n",
    "verse"
   ]
  },
  {
   "cell_type": "code",
   "execution_count": null,
   "metadata": {},
   "outputs": [],
   "source": [
    "print(f\"Type the following verse:\\n{verse}\") \n",
    "print(\"The clock will start in 3 seconds!\")\n",
    "time.sleep(3)\n",
    "print(\"Start!\")\n",
    "typing_start_time = time.time()\n",
    "verse_response = input()\n",
    "typing_end_time = time.time()\n",
    "typing_time = typing_end_time - typing_start_time\n",
    "if verse_response == verse:\n",
    "    print(f\"Well done! You successfully typed the verse in {typing_time} seconds.\")"
   ]
  },
  {
   "cell_type": "code",
   "execution_count": null,
   "metadata": {},
   "outputs": [],
   "source": [
    "cps = len(verse) / typing_time # Calculating characters per second\n",
    "wpm = cps * 12 # Multiplying by 60 to convert from characters to minutes, \n",
    "# then dividing by 5 to convert from characters to words.\n",
    "wpm"
   ]
  },
  {
   "cell_type": "code",
   "execution_count": null,
   "metadata": {},
   "outputs": [],
   "source": [
    "df_results = pd.DataFrame(index = [len(df_results)+1], data = {'Start_Time':typing_start_time, \n",
    "'Characters':len(verse),\n",
    "'Seconds':typing_time, \n",
    "'CPS': cps,\n",
    "'WPM':wpm,\n",
    "'Book': df_Bible.iloc[0]['Book_Name'],\n",
    "'Chapter': df_Bible.iloc[0]['Chapter_Name'],\n",
    "'Verse':verse, \n",
    "'Verse_Order':df_Bible.iloc[0]['Verse_Order_Within_Bible']})\n",
    "df_results"
   ]
  },
  {
   "cell_type": "code",
   "execution_count": null,
   "metadata": {},
   "outputs": [],
   "source": [
    "typing_start_time"
   ]
  },
  {
   "cell_type": "code",
   "execution_count": null,
   "metadata": {},
   "outputs": [],
   "source": [
    "pd.to_datetime(typing_start_time)"
   ]
  },
  {
   "cell_type": "code",
   "execution_count": null,
   "metadata": {},
   "outputs": [],
   "source": [
    "import datetime"
   ]
  },
  {
   "cell_type": "code",
   "execution_count": null,
   "metadata": {},
   "outputs": [],
   "source": [
    "df_results.at[(len(df_results)+1)] = {'Start_Time':typing_start_time, \n",
    "'Characters':len(verse),\n",
    "'Seconds':typing_time, \n",
    "'CPS': cps,\n",
    "'WPM':wpm,\n",
    "'Book': df_Bible.iloc[0]['Book_Name'],\n",
    "'Chapter': df_Bible.iloc[0]['Chapter_Name'],\n",
    "'Verse':verse, \n",
    "'Verse_Order':df_Bible.iloc[0]['Verse_Order_Within_Bible']}\n",
    "df_results.index.name = 'Test_Number'\n",
    "df_results\n",
    "\n",
    "# Passing len(df_results)+1 to at[] ensures that the next Test_Number value \n",
    "# will always be one greater than the previous value. The +1 ensures\n",
    "# that the Test Numbers appear as 1, 2, 3, etc. rather than as 0, 1, 2, etc."
   ]
  },
  {
   "cell_type": "code",
   "execution_count": null,
   "metadata": {},
   "outputs": [],
   "source": [
    "df_results.to_csv('results.csv') # We don't actually need to \n",
    "# keep the index that we just created"
   ]
  }
 ],
 "metadata": {
  "kernelspec": {
   "display_name": "ga15pyd",
   "language": "python",
   "name": "python3"
  },
  "language_info": {
   "codemirror_mode": {
    "name": "ipython",
    "version": 3
   },
   "file_extension": ".py",
   "mimetype": "text/x-python",
   "name": "python",
   "nbconvert_exporter": "python",
   "pygments_lexer": "ipython3",
   "version": "3.10.9"
  }
 },
 "nbformat": 4,
 "nbformat_minor": 2
}
